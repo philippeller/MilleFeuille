{
 "cells": [
  {
   "cell_type": "code",
   "execution_count": 1,
   "metadata": {},
   "outputs": [],
   "source": [
    "%reload_ext autoreload\n",
    "%autoreload 2\n",
    "import numpy as np\n",
    "import pynocular as pn\n",
    "from matplotlib import pyplot as plt\n",
    "from uncertainties import unumpy"
   ]
  },
  {
   "cell_type": "code",
   "execution_count": 21,
   "metadata": {},
   "outputs": [],
   "source": [
    "g2d = pn.Grid(x=np.arange(10), y=np.arange(20))"
   ]
  },
  {
   "cell_type": "code",
   "execution_count": 23,
   "metadata": {},
   "outputs": [],
   "source": [
    "b = pn.GridArray(np.random.rand(g2d.size).reshape(g2d.shape), grid=g2d)"
   ]
  },
  {
   "cell_type": "code",
   "execution_count": 30,
   "metadata": {},
   "outputs": [],
   "source": [
    "f = np.sum(np.cos(b) -1.2 / b, axis='y')"
   ]
  },
  {
   "cell_type": "code",
   "execution_count": 33,
   "metadata": {},
   "outputs": [],
   "source": [
    "f[f>-50] *= 33"
   ]
  },
  {
   "cell_type": "code",
   "execution_count": 34,
   "metadata": {},
   "outputs": [
    {
     "data": {
      "text/html": [
       "<table>\n",
       "<tbody>\n",
       "<tr><td><b>x</b>     </td><td><b>0</b></td><td><b>1</b></td><td><b>2</b></td><td><b>3</b></td><td><b>4</b></td><td><b>5</b></td><td><b>6</b></td><td><b>7</b></td><td><b>8</b></td><td><b>9</b></td></tr>\n",
       "<tr><td><b>noname</b></td><td>-3.2e+03</td><td>-1.5e+03</td><td>-4.6e+03</td><td>-2.7e+03</td><td>-3.5e+03</td><td>-1.9e+03</td><td>-3.2e+03</td><td>-1.6e+03</td><td>-2.5e+05</td><td>-4e+03  </td></tr>\n",
       "</tbody>\n",
       "</table>"
      ],
      "text/plain": [
       "GridArray(noname : [-3232.4270070783373 -1468.1691593751518 -4638.6700603016\n",
       " -2732.4296529080843 -3527.501866527901 -1903.7874222247524\n",
       " -3165.163513825642 -1596.4224067958553 -252523.15086532937\n",
       " -3977.418218984074])"
      ]
     },
     "execution_count": 34,
     "metadata": {},
     "output_type": "execute_result"
    }
   ],
   "source": [
    "f"
   ]
  },
  {
   "cell_type": "code",
   "execution_count": 9,
   "metadata": {},
   "outputs": [],
   "source": [
    "a = unumpy.uarray(np.arange(10), np.ones(10))"
   ]
  },
  {
   "cell_type": "code",
   "execution_count": 3,
   "metadata": {},
   "outputs": [],
   "source": [
    "a = np.arange(10)"
   ]
  },
  {
   "cell_type": "code",
   "execution_count": 4,
   "metadata": {},
   "outputs": [],
   "source": [
    "g = pn.Grid(x=np.arange(10))"
   ]
  },
  {
   "cell_type": "code",
   "execution_count": 10,
   "metadata": {},
   "outputs": [],
   "source": [
    "u = pn.GridArray(a, grid=g)"
   ]
  },
  {
   "cell_type": "code",
   "execution_count": 11,
   "metadata": {},
   "outputs": [
    {
     "data": {
      "text/plain": [
       "Grid(\n",
       "Axis(\"x\",\n",
       "points = array([0, 1, 2, 3, 4, 5, 6, 7, 8, 9]),\n",
       "edges = edges: None)\n",
       "nbins = 10),)"
      ]
     },
     "execution_count": 11,
     "metadata": {},
     "output_type": "execute_result"
    }
   ],
   "source": [
    "u.grid"
   ]
  },
  {
   "cell_type": "code",
   "execution_count": 12,
   "metadata": {},
   "outputs": [],
   "source": [
    "l = np.ones_like(u)"
   ]
  },
  {
   "cell_type": "code",
   "execution_count": 38,
   "metadata": {},
   "outputs": [
    {
     "data": {
      "text/html": [
       "<table>\n",
       "<tbody>\n",
       "<tr><td><b>x</b>     </td><td><b>0</b></td><td><b>1</b></td><td><b>2</b></td><td><b>3</b></td><td><b>4</b></td><td><b>5</b></td><td><b>6</b></td><td><b>7</b></td><td><b>8</b></td><td><b>9</b></td></tr>\n",
       "<tr><td><b>noname</b></td><td>None    </td><td>None    </td><td>None    </td><td>None    </td><td>None    </td><td>None    </td><td>None    </td><td>None    </td><td>None    </td><td>None    </td></tr>\n",
       "</tbody>\n",
       "</table>"
      ],
      "text/plain": [
       "GridArray(noname : [None None None None None None None None None None])"
      ]
     },
     "execution_count": 38,
     "metadata": {},
     "output_type": "execute_result"
    }
   ],
   "source": [
    "np.empty_like(u)"
   ]
  },
  {
   "cell_type": "code",
   "execution_count": 13,
   "metadata": {},
   "outputs": [
    {
     "data": {
      "text/html": [
       "<table>\n",
       "<tbody>\n",
       "<tr><td><b>x</b>     </td><td><b>0</b> </td><td><b>1</b> </td><td><b>2</b> </td><td><b>3</b> </td><td><b>4</b> </td><td><b>5</b> </td><td><b>6</b> </td><td><b>7</b> </td><td><b>8</b> </td><td><b>9</b> </td></tr>\n",
       "<tr><td><b>noname</b></td><td>0.0+/-1.0</td><td>1.0+/-1.0</td><td>2.0+/-1.0</td><td>3.0+/-1.0</td><td>4.0+/-1.0</td><td>5.0+/-1.0</td><td>6.0+/-1.0</td><td>7.0+/-1.0</td><td>8.0+/-1.0</td><td>9.0+/-1.0</td></tr>\n",
       "</tbody>\n",
       "</table>"
      ],
      "text/plain": [
       "GridArray(noname : [0.0+/-1.0 1.0+/-1.0 2.0+/-1.0 3.0+/-1.0 4.0+/-1.0 5.0+/-1.0 6.0+/-1.0\n",
       " 7.0+/-1.0 8.0+/-1.0 9.0+/-1.0])"
      ]
     },
     "execution_count": 13,
     "metadata": {},
     "output_type": "execute_result"
    }
   ],
   "source": [
    "u"
   ]
  },
  {
   "cell_type": "code",
   "execution_count": 14,
   "metadata": {},
   "outputs": [
    {
     "data": {
      "text/plain": [
       "pynocular.griddata.GridArray"
      ]
     },
     "execution_count": 14,
     "metadata": {},
     "output_type": "execute_result"
    }
   ],
   "source": [
    "type(l)"
   ]
  },
  {
   "cell_type": "code",
   "execution_count": 15,
   "metadata": {},
   "outputs": [
    {
     "data": {
      "text/html": [
       "<table>\n",
       "<tbody>\n",
       "<tr><td><b>x</b>     </td><td><b>0</b></td><td><b>1</b></td><td><b>2</b></td><td><b>3</b></td><td><b>4</b></td><td><b>5</b></td><td><b>6</b></td><td><b>7</b></td><td><b>8</b></td><td><b>9</b></td></tr>\n",
       "<tr><td><b>noname</b></td><td>1       </td><td>1       </td><td>1       </td><td>1       </td><td>1       </td><td>1       </td><td>1       </td><td>1       </td><td>1       </td><td>1       </td></tr>\n",
       "</tbody>\n",
       "</table>"
      ],
      "text/plain": [
       "GridArray(noname : [1 1 1 1 1 1 1 1 1 1])"
      ]
     },
     "execution_count": 15,
     "metadata": {},
     "output_type": "execute_result"
    }
   ],
   "source": [
    "l"
   ]
  },
  {
   "cell_type": "code",
   "execution_count": 19,
   "metadata": {},
   "outputs": [
    {
     "data": {
      "text/html": [
       "<table>\n",
       "<tbody>\n",
       "<tr><td><b>x</b>     </td><td><b>0</b></td><td><b>1</b>                               </td><td><b>2</b>                                </td><td><b>3</b>                                </td><td><b>4</b>                                </td><td><b>5</b>                                </td><td><b>6</b>                               </td><td><b>7</b>                               </td><td><b>8</b>                                 </td><td><b>9</b>                                </td></tr>\n",
       "<tr><td><b>noname</b></td><td>1.0+/-0 </td><td>0.5403023058681398+/-0.8414709848078965</td><td>-0.4161468365471424+/-0.9092974268256817</td><td>-0.9899924966004454+/-0.1411200080598672</td><td>-0.6536436208636119+/-0.7568024953079282</td><td>0.28366218546322625+/-0.9589242746631385</td><td>0.960170286650366+/-0.27941549819892586</td><td>0.7539022543433046+/-0.6569865987187891</td><td>-0.14550003380861354+/-0.9893582466233818</td><td>-0.9111302618846769+/-0.4121184852417566</td></tr>\n",
       "</tbody>\n",
       "</table>"
      ],
      "text/plain": [
       "GridArray(noname : [1.0+/-0 0.5403023058681398+/-0.8414709848078965\n",
       " -0.4161468365471424+/-0.9092974268256817\n",
       " -0.9899924966004454+/-0.1411200080598672\n",
       " -0.6536436208636119+/-0.7568024953079282\n",
       " 0.28366218546322625+/-0.9589242746631385\n",
       " 0.960170286650366+/-0.27941549819892586\n",
       " 0.7539022543433046+/-0.6569865987187891\n",
       " -0.14550003380861354+/-0.9893582466233818\n",
       " -0.9111302618846769+/-0.4121184852417566])"
      ]
     },
     "execution_count": 19,
     "metadata": {},
     "output_type": "execute_result"
    }
   ],
   "source": [
    "unumpy.cos(u)"
   ]
  },
  {
   "cell_type": "code",
   "execution_count": 20,
   "metadata": {},
   "outputs": [
    {
     "data": {
      "text/html": [
       "<table>\n",
       "<tbody>\n",
       "<tr><td><b>x</b>     </td><td><b>0</b></td><td><b>1</b></td><td><b>2</b></td><td><b>3</b></td><td><b>4</b></td><td><b>5</b></td><td><b>6</b></td><td><b>7</b></td><td><b>8</b></td><td><b>9</b></td></tr>\n",
       "<tr><td><b>noname</b></td><td>1       </td><td>1       </td><td>1       </td><td>1       </td><td>1       </td><td>1       </td><td>1       </td><td>1       </td><td>1       </td><td>1       </td></tr>\n",
       "</tbody>\n",
       "</table>"
      ],
      "text/plain": [
       "GridArray(noname : [1 1 1 1 1 1 1 1 1 1])"
      ]
     },
     "execution_count": 20,
     "metadata": {},
     "output_type": "execute_result"
    }
   ],
   "source": [
    "np.ones_like(u)"
   ]
  },
  {
   "cell_type": "code",
   "execution_count": 18,
   "metadata": {},
   "outputs": [
    {
     "ename": "AttributeError",
     "evalue": "'Variable' object has no attribute 'sqrt'",
     "output_type": "error",
     "traceback": [
      "\u001b[0;31m---------------------------------------------------------------------------\u001b[0m",
      "\u001b[0;31mAttributeError\u001b[0m                            Traceback (most recent call last)",
      "\u001b[0;32m<ipython-input-18-a55043185879>\u001b[0m in \u001b[0;36m<module>\u001b[0;34m\u001b[0m\n\u001b[0;32m----> 1\u001b[0;31m \u001b[0mnp\u001b[0m\u001b[0;34m.\u001b[0m\u001b[0msqrt\u001b[0m\u001b[0;34m(\u001b[0m\u001b[0mu\u001b[0m\u001b[0;34m)\u001b[0m\u001b[0;34m\u001b[0m\u001b[0;34m\u001b[0m\u001b[0m\n\u001b[0m",
      "\u001b[0;32m~/pynocular/pynocular/griddata.py\u001b[0m in \u001b[0;36mwrapped_func\u001b[0;34m(*args, **kwargs)\u001b[0m\n\u001b[1;32m     63\u001b[0m             \u001b[0maxis\u001b[0m \u001b[0;34m=\u001b[0m \u001b[0;32mNone\u001b[0m\u001b[0;34m\u001b[0m\u001b[0;34m\u001b[0m\u001b[0m\n\u001b[1;32m     64\u001b[0m \u001b[0;34m\u001b[0m\u001b[0m\n\u001b[0;32m---> 65\u001b[0;31m         \u001b[0mresult\u001b[0m \u001b[0;34m=\u001b[0m \u001b[0mfunc\u001b[0m\u001b[0;34m(\u001b[0m\u001b[0;34m*\u001b[0m\u001b[0minputs\u001b[0m\u001b[0;34m,\u001b[0m \u001b[0;34m**\u001b[0m\u001b[0mkwargs\u001b[0m\u001b[0;34m)\u001b[0m\u001b[0;34m\u001b[0m\u001b[0;34m\u001b[0m\u001b[0m\n\u001b[0m\u001b[1;32m     66\u001b[0m \u001b[0;34m\u001b[0m\u001b[0m\n\u001b[1;32m     67\u001b[0m         \u001b[0;32mif\u001b[0m \u001b[0misinstance\u001b[0m\u001b[0;34m(\u001b[0m\u001b[0mresult\u001b[0m\u001b[0;34m,\u001b[0m \u001b[0;34m(\u001b[0m\u001b[0mnp\u001b[0m\u001b[0;34m.\u001b[0m\u001b[0mma\u001b[0m\u001b[0;34m.\u001b[0m\u001b[0mmasked_array\u001b[0m\u001b[0;34m,\u001b[0m \u001b[0mnp\u001b[0m\u001b[0;34m.\u001b[0m\u001b[0mndarray\u001b[0m\u001b[0;34m)\u001b[0m\u001b[0;34m)\u001b[0m\u001b[0;34m:\u001b[0m\u001b[0;34m\u001b[0m\u001b[0;34m\u001b[0m\u001b[0m\n",
      "\u001b[0;32m~/pynocular/pynocular/griddata.py\u001b[0m in \u001b[0;36m__array_ufunc__\u001b[0;34m(self, ufunc, method, *inputs, **kwargs)\u001b[0m\n\u001b[1;32m    252\u001b[0m         \u001b[0;34m'''callable for numpy ufuncs'''\u001b[0m\u001b[0;34m\u001b[0m\u001b[0;34m\u001b[0m\u001b[0m\n\u001b[1;32m    253\u001b[0m         \u001b[0;31m#print('ufunc')\u001b[0m\u001b[0;34m\u001b[0m\u001b[0;34m\u001b[0m\u001b[0;34m\u001b[0m\u001b[0m\n\u001b[0;32m--> 254\u001b[0;31m         \u001b[0;32mreturn\u001b[0m \u001b[0mnp\u001b[0m\u001b[0;34m.\u001b[0m\u001b[0mma\u001b[0m\u001b[0;34m.\u001b[0m\u001b[0masarray\u001b[0m\u001b[0;34m(\u001b[0m\u001b[0mself\u001b[0m\u001b[0;34m)\u001b[0m\u001b[0;34m.\u001b[0m\u001b[0m__array_ufunc__\u001b[0m\u001b[0;34m(\u001b[0m\u001b[0mufunc\u001b[0m\u001b[0;34m,\u001b[0m \u001b[0mmethod\u001b[0m\u001b[0;34m,\u001b[0m \u001b[0;34m*\u001b[0m\u001b[0minputs\u001b[0m\u001b[0;34m,\u001b[0m \u001b[0;34m**\u001b[0m\u001b[0mkwargs\u001b[0m\u001b[0;34m)\u001b[0m\u001b[0;34m\u001b[0m\u001b[0;34m\u001b[0m\u001b[0m\n\u001b[0m\u001b[1;32m    255\u001b[0m \u001b[0;34m\u001b[0m\u001b[0m\n\u001b[1;32m    256\u001b[0m     \u001b[0;32mdef\u001b[0m \u001b[0m__array__\u001b[0m\u001b[0;34m(\u001b[0m\u001b[0mself\u001b[0m\u001b[0;34m)\u001b[0m\u001b[0;34m:\u001b[0m\u001b[0;34m\u001b[0m\u001b[0;34m\u001b[0m\u001b[0m\n",
      "\u001b[0;31mAttributeError\u001b[0m: 'Variable' object has no attribute 'sqrt'"
     ]
    }
   ],
   "source": [
    "np.sqrt(u)"
   ]
  },
  {
   "cell_type": "code",
   "execution_count": 19,
   "metadata": {},
   "outputs": [
    {
     "data": {
      "text/plain": [
       "array([10.        , 10.        ,  5.        ,  3.33333333,  2.5       ,\n",
       "        2.        ,  1.66666667,  1.42857143,  1.25      ,  1.11111111])"
      ]
     },
     "execution_count": 19,
     "metadata": {},
     "output_type": "execute_result"
    }
   ],
   "source": [
    "np.asarray(10 / u)"
   ]
  },
  {
   "cell_type": "code",
   "execution_count": 22,
   "metadata": {},
   "outputs": [
    {
     "data": {
      "text/html": [
       "<table>\n",
       "<tbody>\n",
       "<tr><td><b>x</b>     </td><td><b>0</b></td><td><b>1</b></td><td><b>2</b></td><td><b>3</b></td><td><b>4</b></td><td><b>5</b></td><td><b>6</b></td><td><b>7</b></td><td><b>8</b></td><td><b>9</b></td></tr>\n",
       "<tr><td><b>noname</b></td><td>0       </td><td>1       </td><td>2       </td><td>3       </td><td>4       </td><td>5       </td><td>6       </td><td>7       </td><td>8       </td><td>9       </td></tr>\n",
       "</tbody>\n",
       "</table>"
      ],
      "text/plain": [
       "GridArray(noname : [0 1 2 3 4 5 6 7 8 9])"
      ]
     },
     "execution_count": 22,
     "metadata": {},
     "output_type": "execute_result"
    }
   ],
   "source": [
    "u"
   ]
  },
  {
   "cell_type": "code",
   "execution_count": 24,
   "metadata": {},
   "outputs": [
    {
     "data": {
      "text/html": [
       "<table>\n",
       "<tbody>\n",
       "<tr><td><b>x</b>     </td><td><b>0</b></td><td><b>1</b></td><td><b>2</b></td><td><b>3</b></td><td><b>4</b></td><td><b>5</b></td><td><b>6</b></td><td><b>7</b></td><td><b>8</b></td><td><b>9</b></td></tr>\n",
       "<tr><td><b>noname</b></td><td>--      </td><td>--      </td><td>--      </td><td>1.7     </td><td>2       </td><td>2.2     </td><td>2.4     </td><td>2.6     </td><td>2.8     </td><td>3       </td></tr>\n",
       "</tbody>\n",
       "</table>"
      ],
      "text/plain": [
       "GridArray(noname : [-- -- -- 1.7320508075688772 2.0 2.23606797749979 2.449489742783178\n",
       " 2.6457513110645907 2.8284271247461903 3.0])"
      ]
     },
     "execution_count": 24,
     "metadata": {},
     "output_type": "execute_result"
    }
   ],
   "source": [
    "np.sqrt(u[u>2])"
   ]
  },
  {
   "cell_type": "code",
   "execution_count": 32,
   "metadata": {},
   "outputs": [
    {
     "data": {
      "text/html": [
       "<table>\n",
       "<tbody>\n",
       "<tr><td><b>x</b>     </td><td><b>0</b></td><td><b>1</b></td><td><b>2</b></td></tr>\n",
       "<tr><td><b>noname</b></td><td>0       </td><td>1       </td><td>2       </td></tr>\n",
       "</tbody>\n",
       "</table>"
      ],
      "text/plain": [
       "GridArray(noname : [0 1 2])"
      ]
     },
     "execution_count": 32,
     "metadata": {},
     "output_type": "execute_result"
    }
   ],
   "source": [
    "u[0:3]"
   ]
  },
  {
   "cell_type": "code",
   "execution_count": 33,
   "metadata": {},
   "outputs": [],
   "source": [
    "g = pn.GridData(x=np.arange(20), y=np.arange(5))\n",
    "#g = pn.GridData(y=np.arange(5))"
   ]
  },
  {
   "cell_type": "code",
   "execution_count": 34,
   "metadata": {},
   "outputs": [],
   "source": [
    "g.grid['x'].edges = pn.edges(points=g.grid['x'].points)"
   ]
  },
  {
   "cell_type": "code",
   "execution_count": 35,
   "metadata": {},
   "outputs": [],
   "source": [
    "e = pn.edges(points=np.arange(11))"
   ]
  },
  {
   "cell_type": "code",
   "execution_count": 36,
   "metadata": {},
   "outputs": [
    {
     "data": {
      "text/plain": [
       "-0.5"
      ]
     },
     "execution_count": 36,
     "metadata": {},
     "output_type": "execute_result"
    }
   ],
   "source": [
    "e[0,0]"
   ]
  },
  {
   "cell_type": "code",
   "execution_count": 37,
   "metadata": {},
   "outputs": [],
   "source": [
    "a = pn.GridArray(np.random.rand(g.grid.size).reshape(g.shape), grid=g.grid)"
   ]
  },
  {
   "cell_type": "code",
   "execution_count": 38,
   "metadata": {},
   "outputs": [
    {
     "data": {
      "text/html": [
       "<table>\n",
       "<tbody>\n",
       "<tr><td><b>y \\ x</b></td><td><b>[-0.5 | 0 | 0.5]</b></td><td><b>[0.5 | 1 | 1.5]</b></td><td><b>[1.5 | 2 | 2.5]</b></td><td><b>[2.5 | 3 | 3.5]</b></td><td><b>[3.5 | 4 | 4.5]</b></td><td><b>[4.5 | 5 | 5.5]</b></td><td>...</td><td><b>[14 | 14 | 14]</b></td><td><b>[14 | 15 | 16]</b></td><td><b>[16 | 16 | 16]</b></td><td><b>[16 | 17 | 18]</b></td><td><b>[18 | 18 | 18]</b></td><td><b>[18 | 19 | 20]</b></td></tr>\n",
       "<tr><td><b>0</b>    </td><td>0                      </td><td>0                     </td><td>0                     </td><td>0                     </td><td>0                     </td><td>0                     </td><td>...</td><td>0                    </td><td>0                    </td><td>0                    </td><td>0                    </td><td>0                    </td><td>0                    </td></tr>\n",
       "<tr><td><b>1</b>    </td><td>0                      </td><td>0                     </td><td>0                     </td><td>0                     </td><td>0                     </td><td>0                     </td><td>...</td><td>0                    </td><td>0                    </td><td>0                    </td><td>0                    </td><td>0                    </td><td>0                    </td></tr>\n",
       "<tr><td><b>2</b>    </td><td>0                      </td><td>0                     </td><td>0                     </td><td>0                     </td><td>0                     </td><td>0                     </td><td>...</td><td>0                    </td><td>0                    </td><td>0                    </td><td>0                    </td><td>0                    </td><td>0                    </td></tr>\n",
       "<tr><td><b>3</b>    </td><td>0                      </td><td>0                     </td><td>0                     </td><td>0                     </td><td>0                     </td><td>0                     </td><td>...</td><td>0                    </td><td>0                    </td><td>0                    </td><td>0                    </td><td>0                    </td><td>0                    </td></tr>\n",
       "<tr><td><b>4</b>    </td><td>0                      </td><td>0                     </td><td>0                     </td><td>0                     </td><td>0                     </td><td>0                     </td><td>...</td><td>0                    </td><td>0                    </td><td>0                    </td><td>0                    </td><td>0                    </td><td>0                    </td></tr>\n",
       "</tbody>\n",
       "</table>"
      ],
      "text/plain": [
       "GridArray(noname : [[0 0 0 0 0]\n",
       " [0 0 0 0 0]\n",
       " [0 0 0 0 0]\n",
       " [0 0 0 0 0]\n",
       " [0 0 0 0 0]\n",
       " [0 0 0 0 0]\n",
       " [0 0 0 0 0]\n",
       " [0 0 0 0 0]\n",
       " [0 0 0 0 0]\n",
       " [0 0 0 0 0]\n",
       " [0 0 0 0 0]\n",
       " [0 0 0 0 0]\n",
       " [0 0 0 0 0]\n",
       " [0 0 0 0 0]\n",
       " [0 0 0 0 0]\n",
       " [0 0 0 0 0]\n",
       " [0 0 0 0 0]\n",
       " [0 0 0 0 0]\n",
       " [0 0 0 0 0]\n",
       " [0 0 0 0 0]])"
      ]
     },
     "execution_count": 38,
     "metadata": {},
     "output_type": "execute_result"
    }
   ],
   "source": [
    "a.astype(np.int)"
   ]
  },
  {
   "cell_type": "code",
   "execution_count": 39,
   "metadata": {},
   "outputs": [
    {
     "data": {
      "text/html": [
       "<table>\n",
       "<tbody>\n",
       "<tr><td><b>y \\ x</b></td><td><b>[-0.5 | 0 | 0.5]</b></td><td><b>[0.5 | 1 | 1.5]</b></td><td><b>[1.5 | 2 | 2.5]</b></td><td><b>[2.5 | 3 | 3.5]</b></td><td><b>[3.5 | 4 | 4.5]</b></td><td><b>[4.5 | 5 | 5.5]</b></td><td>...</td><td><b>[14 | 14 | 14]</b></td><td><b>[14 | 15 | 16]</b></td><td><b>[16 | 16 | 16]</b></td><td><b>[16 | 17 | 18]</b></td><td><b>[18 | 18 | 18]</b></td><td><b>[18 | 19 | 20]</b></td></tr>\n",
       "<tr><td><b>0</b>    </td><td>1                      </td><td>1                     </td><td>1                     </td><td>1                     </td><td>1                     </td><td>1                     </td><td>...</td><td>1                    </td><td>1                    </td><td>1                    </td><td>1                    </td><td>1                    </td><td>1                    </td></tr>\n",
       "<tr><td><b>1</b>    </td><td>1                      </td><td>1                     </td><td>1                     </td><td>1                     </td><td>1                     </td><td>1                     </td><td>...</td><td>1                    </td><td>1                    </td><td>1                    </td><td>1                    </td><td>1                    </td><td>1                    </td></tr>\n",
       "<tr><td><b>2</b>    </td><td>1                      </td><td>1                     </td><td>1                     </td><td>1                     </td><td>1                     </td><td>1                     </td><td>...</td><td>1                    </td><td>1                    </td><td>1                    </td><td>1                    </td><td>1                    </td><td>1                    </td></tr>\n",
       "<tr><td><b>3</b>    </td><td>1                      </td><td>1                     </td><td>1                     </td><td>1                     </td><td>1                     </td><td>1                     </td><td>...</td><td>1                    </td><td>1                    </td><td>1                    </td><td>1                    </td><td>1                    </td><td>1                    </td></tr>\n",
       "<tr><td><b>4</b>    </td><td>1                      </td><td>1                     </td><td>1                     </td><td>1                     </td><td>1                     </td><td>1                     </td><td>...</td><td>1                    </td><td>1                    </td><td>1                    </td><td>1                    </td><td>1                    </td><td>1                    </td></tr>\n",
       "</tbody>\n",
       "</table>"
      ],
      "text/plain": [
       "GridArray(noname : [[1. 1. 1. 1. 1.]\n",
       " [1. 1. 1. 1. 1.]\n",
       " [1. 1. 1. 1. 1.]\n",
       " [1. 1. 1. 1. 1.]\n",
       " [1. 1. 1. 1. 1.]\n",
       " [1. 1. 1. 1. 1.]\n",
       " [1. 1. 1. 1. 1.]\n",
       " [1. 1. 1. 1. 1.]\n",
       " [1. 1. 1. 1. 1.]\n",
       " [1. 1. 1. 1. 1.]\n",
       " [1. 1. 1. 1. 1.]\n",
       " [1. 1. 1. 1. 1.]\n",
       " [1. 1. 1. 1. 1.]\n",
       " [1. 1. 1. 1. 1.]\n",
       " [1. 1. 1. 1. 1.]\n",
       " [1. 1. 1. 1. 1.]\n",
       " [1. 1. 1. 1. 1.]\n",
       " [1. 1. 1. 1. 1.]\n",
       " [1. 1. 1. 1. 1.]\n",
       " [1. 1. 1. 1. 1.]])"
      ]
     },
     "execution_count": 39,
     "metadata": {},
     "output_type": "execute_result"
    }
   ],
   "source": [
    "np.ones_like(a)"
   ]
  },
  {
   "cell_type": "code",
   "execution_count": 40,
   "metadata": {},
   "outputs": [
    {
     "data": {
      "text/plain": [
       "True"
      ]
     },
     "execution_count": 40,
     "metadata": {},
     "output_type": "execute_result"
    }
   ],
   "source": [
    "np.all(np.abs(-a) == a)"
   ]
  },
  {
   "cell_type": "code",
   "execution_count": 41,
   "metadata": {},
   "outputs": [
    {
     "data": {
      "text/html": [
       "<table>\n",
       "<tbody>\n",
       "<tr><td><b>y \\ x</b></td><td><b>[-0.5 | 0 | 0.5]</b></td><td><b>[0.5 | 1 | 1.5]</b></td><td><b>[1.5 | 2 | 2.5]</b></td><td><b>[2.5 | 3 | 3.5]</b></td><td><b>[3.5 | 4 | 4.5]</b></td><td><b>[4.5 | 5 | 5.5]</b></td><td>...</td><td><b>[14 | 14 | 14]</b></td><td><b>[14 | 15 | 16]</b></td><td><b>[16 | 16 | 16]</b></td><td><b>[16 | 17 | 18]</b></td><td><b>[18 | 18 | 18]</b></td><td><b>[18 | 19 | 20]</b></td></tr>\n",
       "<tr><td><b>0</b>    </td><td>0.23                   </td><td>0.56                  </td><td>0.71                  </td><td>0.95                  </td><td>0.84                  </td><td>0.33                  </td><td>...</td><td>0.96                 </td><td>0.65                 </td><td>0.54                 </td><td>0.7                  </td><td>0.85                 </td><td>0.21                 </td></tr>\n",
       "<tr><td><b>1</b>    </td><td>0.23                   </td><td>0.59                  </td><td>0.69                  </td><td>0.43                  </td><td>0.76                  </td><td>0.11                  </td><td>...</td><td>0.08                 </td><td>0.66                 </td><td>0.3                  </td><td>0.013                </td><td>0.26                 </td><td>0.34                 </td></tr>\n",
       "<tr><td><b>2</b>    </td><td>0.026                  </td><td>0.4                   </td><td>0.39                  </td><td>0.93                  </td><td>0.24                  </td><td>0.79                  </td><td>...</td><td>0.11                 </td><td>0.23                 </td><td>0.63                 </td><td>0.7                  </td><td>0.37                 </td><td>0.27                 </td></tr>\n",
       "<tr><td><b>3</b>    </td><td>0.21                   </td><td>0.43                  </td><td>0.047                 </td><td>0.69                  </td><td>0.83                  </td><td>0.79                  </td><td>...</td><td>0.68                 </td><td>0.88                 </td><td>0.042                </td><td>0.85                 </td><td>0.038                </td><td>0.53                 </td></tr>\n",
       "<tr><td><b>4</b>    </td><td>0.71                   </td><td>0.46                  </td><td>0.99                  </td><td>0.6                   </td><td>0.062                 </td><td>0.82                  </td><td>...</td><td>0.95                 </td><td>1                    </td><td>0.45                 </td><td>0.32                 </td><td>0.93                 </td><td>0.16                 </td></tr>\n",
       "</tbody>\n",
       "</table>"
      ],
      "text/plain": [
       "GridArray(noname : [[0.22739057390853723 0.22853239501782885 0.026422773822171508\n",
       "  0.21061580624839826 0.7138327197653962]\n",
       " [0.5629522009102824 0.5885089158312274 0.39852895315606696\n",
       "  0.43266966523444317 0.4608048817535497]\n",
       " [0.7103055771899627 0.6935791960757739 0.3924188251889823\n",
       "  0.04699853176214552 0.9940979420924052]\n",
       " [0.9527985821600911 0.4349737959549047 0.9340518292831178\n",
       "  0.6896989665414929 0.5996684137336417]\n",
       " [0.8379921842334166 0.7586802714481786 0.23855709708256778\n",
       "  0.8271633129299253 0.062183332350118636]\n",
       " [0.3260558212216407 0.11098840671736265 0.7853916609601579\n",
       "  0.7947145372496743 0.8209199209698094]\n",
       " [0.7769369063476846 0.48130306308095683 0.6765756836926766\n",
       "  0.9580608259862058 0.33003470625647136]\n",
       " [0.20015616273085068 0.7389765386355732 0.2264783246537012\n",
       "  0.35335921053869035 0.34172005908906466]\n",
       " [0.46815143653467706 0.03735592351964612 0.07489350138208051\n",
       "  0.5033653892382303 0.8597876063181276]\n",
       " [0.5212697173773702 0.5788139970367367 0.9478145398571681\n",
       "  0.09491973869701886 0.2788170907493698]\n",
       " [0.04852410506069649 0.9319947346581575 0.15360343170135538\n",
       "  0.7382823738228709 0.19803440859222676]\n",
       " [0.9276100046279127 0.742399429202707 0.35158553146346927\n",
       "  0.5614090497407499 0.07989639322209441]\n",
       " [0.7955103146460947 0.030236862991347868 0.41437188495630395\n",
       "  0.9247747226574066 0.19189466147990808]\n",
       " [0.14840210086358074 0.6684078665881724 0.7698697998242188\n",
       "  0.6037203032651353 0.7406488141144766]\n",
       " [0.9648917404492798 0.07965675511775538 0.10865865715308087\n",
       "  0.6776646454902105 0.9511517354958947]\n",
       " [0.6536716161874087 0.6626368819048983 0.23199889994609857\n",
       "  0.8843941112277738 0.9976814989864853]\n",
       " [0.5360689324931497 0.29979560989302323 0.6318789522292237\n",
       "  0.04150098168646077 0.4471446979609369]\n",
       " [0.7017394349025021 0.012509453506931112 0.7027520711287638\n",
       "  0.8520633646550284 0.3238789846458956]\n",
       " [0.8473243486167307 0.26398183047074564 0.3662200931094265\n",
       "  0.03750661986742465 0.9310419435078767]\n",
       " [0.2096804506264297 0.33953849601705977 0.2696897370803203\n",
       "  0.5340605966586015 0.15833754977978787]])"
      ]
     },
     "execution_count": 41,
     "metadata": {},
     "output_type": "execute_result"
    }
   ],
   "source": [
    "np.abs(-a)"
   ]
  },
  {
   "cell_type": "code",
   "execution_count": 42,
   "metadata": {},
   "outputs": [
    {
     "data": {
      "text/html": [
       "<table>\n",
       "<tbody>\n",
       "<tr><td><b>x</b>     </td><td><b>[-0.5 | 0 | 0.5]</b></td><td><b>[0.5 | 1 | 1.5]</b></td><td><b>[1.5 | 2 | 2.5]</b></td><td><b>[2.5 | 3 | 3.5]</b></td><td><b>[3.5 | 4 | 4.5]</b></td><td><b>[4.5 | 5 | 5.5]</b></td><td>...</td><td><b>[14 | 14 | 14]</b></td><td><b>[14 | 15 | 16]</b></td><td><b>[16 | 16 | 16]</b></td><td><b>[16 | 17 | 18]</b></td><td><b>[18 | 18 | 18]</b></td><td><b>[18 | 19 | 20]</b></td></tr>\n",
       "<tr><td><b>noname</b></td><td>1.4                    </td><td>2.4                   </td><td>2.8                   </td><td>3.6                   </td><td>2.7                   </td><td>2.8                   </td><td>...</td><td>2.8                  </td><td>3.4                  </td><td>2                    </td><td>2.6                  </td><td>2.4                  </td><td>1.5                  </td></tr>\n",
       "</tbody>\n",
       "</table>"
      ],
      "text/plain": [
       "GridArray(noname : [1.40679427 2.44346462 2.83740007 3.61119159 2.7245762  2.83807035\n",
       " 3.22291119 1.8606903  1.94355386 2.42163508 2.07043905 2.66290041\n",
       " 2.35678845 2.93104888 2.78202353 3.43038301 1.95638917 2.59294331\n",
       " 2.44607484 1.51130683])"
      ]
     },
     "execution_count": 42,
     "metadata": {},
     "output_type": "execute_result"
    }
   ],
   "source": [
    "np.sum(a, axis='y')"
   ]
  },
  {
   "cell_type": "code",
   "execution_count": 43,
   "metadata": {},
   "outputs": [
    {
     "data": {
      "text/html": [
       "<table>\n",
       "<tbody>\n",
       "<tr><td><b>x</b>     </td><td><b>[-0.5 | 0 | 0.5]</b></td><td><b>[0.5 | 1 | 1.5]</b></td><td><b>[1.5 | 2 | 2.5]</b></td><td><b>[2.5 | 3 | 3.5]</b></td><td><b>[3.5 | 4 | 4.5]</b></td><td><b>[4.5 | 5 | 5.5]</b></td><td>...</td><td><b>[14 | 14 | 14]</b></td><td><b>[14 | 15 | 16]</b></td><td><b>[16 | 16 | 16]</b></td><td><b>[16 | 17 | 18]</b></td><td><b>[18 | 18 | 18]</b></td><td><b>[18 | 19 | 20]</b></td></tr>\n",
       "<tr><td><b>noname</b></td><td>0.23                   </td><td>0.074                 </td><td>0.32                  </td><td>0.2                   </td><td>0.33                  </td><td>0.29                  </td><td>...</td><td>0.39                 </td><td>0.26                 </td><td>0.21                 </td><td>0.31                 </td><td>0.34                 </td><td>0.13                 </td></tr>\n",
       "</tbody>\n",
       "</table>"
      ],
      "text/plain": [
       "GridArray(noname : [0.22923081746410676 0.07419374972851502 0.3224439160446376\n",
       " 0.19830587254171572 0.328066750823367 0.29326538814055286\n",
       " 0.22018646761993838 0.1932060562527066 0.30440150891731066\n",
       " 0.2894773201944441 0.3525613999823639 0.29617071327951194\n",
       " 0.34251904468969213 0.22641604444678307 0.39119201946425647\n",
       " 0.2623789280329001 0.20624612021890848 0.3074715492242762\n",
       " 0.34448557068051955 0.13074147737692673])"
      ]
     },
     "execution_count": 43,
     "metadata": {},
     "output_type": "execute_result"
    }
   ],
   "source": [
    "np.std(a, axis='y')"
   ]
  },
  {
   "cell_type": "code",
   "execution_count": 46,
   "metadata": {},
   "outputs": [],
   "source": [
    "a[a > 0.5] *= 10"
   ]
  },
  {
   "cell_type": "code",
   "execution_count": 47,
   "metadata": {},
   "outputs": [
    {
     "data": {
      "text/html": [
       "<table>\n",
       "<tbody>\n",
       "<tr><td><b>y \\ x</b></td><td><b>[-0.5 | 0 | 0.5]</b></td><td><b>[0.5 | 1 | 1.5]</b></td><td><b>[1.5 | 2 | 2.5]</b></td><td><b>[2.5 | 3 | 3.5]</b></td><td><b>[3.5 | 4 | 4.5]</b></td><td><b>[4.5 | 5 | 5.5]</b></td><td>...</td><td><b>[14 | 14 | 14]</b></td><td><b>[14 | 15 | 16]</b></td><td><b>[16 | 16 | 16]</b></td><td><b>[16 | 17 | 18]</b></td><td><b>[18 | 18 | 18]</b></td><td><b>[18 | 19 | 20]</b></td></tr>\n",
       "<tr><td><b>0</b>    </td><td>23                     </td><td>5.6                   </td><td>7.1                   </td><td>9.5                   </td><td>8.4                   </td><td>33                    </td><td>...</td><td>9.6                  </td><td>6.5                  </td><td>5.4                  </td><td>7                    </td><td>8.5                  </td><td>21                   </td></tr>\n",
       "<tr><td><b>1</b>    </td><td>23                     </td><td>5.9                   </td><td>6.9                   </td><td>43                    </td><td>7.6                   </td><td>11                    </td><td>...</td><td>8                    </td><td>6.6                  </td><td>30                   </td><td>0.13                 </td><td>26                   </td><td>34                   </td></tr>\n",
       "<tr><td><b>2</b>    </td><td>0.26                   </td><td>40                    </td><td>39                    </td><td>9.3                   </td><td>24                    </td><td>7.9                   </td><td>...</td><td>11                   </td><td>23                   </td><td>6.3                  </td><td>7                    </td><td>37                   </td><td>27                   </td></tr>\n",
       "<tr><td><b>3</b>    </td><td>21                     </td><td>43                    </td><td>0.47                  </td><td>6.9                   </td><td>8.3                   </td><td>7.9                   </td><td>...</td><td>6.8                  </td><td>8.8                  </td><td>0.42                 </td><td>8.5                  </td><td>0.38                 </td><td>5.3                  </td></tr>\n",
       "<tr><td><b>4</b>    </td><td>7.1                    </td><td>46                    </td><td>9.9                   </td><td>6                     </td><td>6.2                   </td><td>8.2                   </td><td>...</td><td>9.5                  </td><td>10                   </td><td>45                   </td><td>32                   </td><td>9.3                  </td><td>16                   </td></tr>\n",
       "</tbody>\n",
       "</table>"
      ],
      "text/plain": [
       "GridArray(noname : [[22.73905739 22.8532395   0.26422774 21.06158062  7.1383272 ]\n",
       " [ 5.62952201  5.88508916 39.85289532 43.26696652 46.08048818]\n",
       " [ 7.10305577  6.93579196 39.24188252  0.46998532  9.94097942]\n",
       " [ 9.52798582 43.4973796   9.34051829  6.89698967  5.99668414]\n",
       " [ 8.37992184  7.58680271 23.85570971  8.27163313  6.21833324]\n",
       " [32.60558212 11.09884067  7.85391661  7.94714537  8.20919921]\n",
       " [ 7.76936906 48.13030631  6.76575684  9.58060826 33.00347063]\n",
       " [20.01561627  7.38976539 22.64783247 35.33592105 34.17200591]\n",
       " [46.81514365  0.37355924  7.48935014  5.03365389  8.59787606]\n",
       " [ 5.21269717  5.78813997  9.4781454   9.49197387 27.88170907]\n",
       " [ 0.48524105  9.31994735 15.36034317  7.38282374 19.80344086]\n",
       " [ 9.27610005  7.42399429 35.15855315  5.6140905   7.98963932]\n",
       " [ 7.95510315  0.30236863 41.4371885   9.24774723 19.18946615]\n",
       " [14.84021009  6.68407867  7.698698    6.03720303  7.40648814]\n",
       " [ 9.6489174   7.96567551 10.86586572  6.77664645  9.51151735]\n",
       " [ 6.53671616  6.62636882 23.19988999  8.84394111  9.97681499]\n",
       " [ 5.36068932 29.97956099  6.31878952  0.41500982 44.7144698 ]\n",
       " [ 7.01739435  0.12509454  7.02752071  8.52063365 32.38789846]\n",
       " [ 8.47324349 26.39818305 36.62200931  0.3750662   9.31041944]\n",
       " [20.96804506 33.9538496  26.96897371  5.34060597 15.83375498]])"
      ]
     },
     "execution_count": 47,
     "metadata": {},
     "output_type": "execute_result"
    }
   ],
   "source": [
    "a"
   ]
  },
  {
   "cell_type": "code",
   "execution_count": 48,
   "metadata": {},
   "outputs": [
    {
     "data": {
      "text/html": [
       "<table>\n",
       "<tbody>\n",
       "<tr><td><b>y \\ x</b></td><td><b>[2.5 | 3 | 3.5]</b></td><td><b>[3.5 | 4 | 4.5]</b></td></tr>\n",
       "<tr><td><b>0</b>    </td><td>9.5                   </td><td>8.4                   </td></tr>\n",
       "<tr><td><b>1</b>    </td><td>43                    </td><td>7.6                   </td></tr>\n",
       "<tr><td><b>2</b>    </td><td>9.3                   </td><td>24                    </td></tr>\n",
       "<tr><td><b>3</b>    </td><td>6.9                   </td><td>8.3                   </td></tr>\n",
       "<tr><td><b>4</b>    </td><td>6                     </td><td>6.2                   </td></tr>\n",
       "</tbody>\n",
       "</table>"
      ],
      "text/plain": [
       "GridArray(noname : [[ 9.52798582 43.4973796   9.34051829  6.89698967  5.99668414]\n",
       " [ 8.37992184  7.58680271 23.85570971  8.27163313  6.21833324]])"
      ]
     },
     "execution_count": 48,
     "metadata": {},
     "output_type": "execute_result"
    }
   ],
   "source": [
    "a[3:5]"
   ]
  },
  {
   "cell_type": "code",
   "execution_count": 52,
   "metadata": {},
   "outputs": [
    {
     "data": {
      "text/html": [
       "<table>\n",
       "<tbody>\n",
       "<tr><td><b>y</b>     </td><td><b>0</b></td><td><b>1</b></td><td><b>2</b></td><td><b>3</b></td><td><b>4</b></td></tr>\n",
       "<tr><td><b>noname</b></td><td>2.6e+02 </td><td>2.9e+02 </td><td>3.8e+02 </td><td>2.1e+02 </td><td>3.6e+02 </td></tr>\n",
       "</tbody>\n",
       "</table>"
      ],
      "text/plain": [
       "GridArray(noname : [256.35961124 288.31803594 377.4480668  205.9102254  363.36298254])"
      ]
     },
     "execution_count": 52,
     "metadata": {},
     "output_type": "execute_result"
    }
   ],
   "source": [
    "np.sum(a, axis=0)"
   ]
  },
  {
   "cell_type": "code",
   "execution_count": 54,
   "metadata": {},
   "outputs": [
    {
     "data": {
      "text/html": [
       "<table>\n",
       "<tbody>\n",
       "<tr><td><b>y \\ x</b></td><td><b>[-0.5 | 0 | 0.5]</b></td><td><b>[0.5 | 1 | 1.5]</b></td><td><b>[1.5 | 2 | 2.5]</b></td><td><b>[2.5 | 3 | 3.5]</b></td><td><b>[3.5 | 4 | 4.5]</b></td><td><b>[4.5 | 5 | 5.5]</b></td><td>...</td><td><b>[14 | 14 | 14]</b></td><td><b>[14 | 15 | 16]</b></td><td><b>[16 | 16 | 16]</b></td><td><b>[16 | 17 | 18]</b></td><td><b>[18 | 18 | 18]</b></td><td><b>[18 | 19 | 20]</b></td></tr>\n",
       "<tr><td><b>0</b>    </td><td>45                     </td><td>11                    </td><td>14                    </td><td>19                    </td><td>17                    </td><td>65                    </td><td>...</td><td>19                   </td><td>13                   </td><td>11                   </td><td>14                   </td><td>17                   </td><td>42                   </td></tr>\n",
       "<tr><td><b>1</b>    </td><td>46                     </td><td>12                    </td><td>14                    </td><td>87                    </td><td>15                    </td><td>22                    </td><td>...</td><td>16                   </td><td>13                   </td><td>60                   </td><td>0.25                 </td><td>53                   </td><td>68                   </td></tr>\n",
       "<tr><td><b>2</b>    </td><td>0.53                   </td><td>80                    </td><td>78                    </td><td>19                    </td><td>48                    </td><td>16                    </td><td>...</td><td>22                   </td><td>46                   </td><td>13                   </td><td>14                   </td><td>73                   </td><td>54                   </td></tr>\n",
       "<tr><td><b>3</b>    </td><td>42                     </td><td>87                    </td><td>0.94                  </td><td>14                    </td><td>17                    </td><td>16                    </td><td>...</td><td>14                   </td><td>18                   </td><td>0.83                 </td><td>17                   </td><td>0.75                 </td><td>11                   </td></tr>\n",
       "<tr><td><b>4</b>    </td><td>14                     </td><td>92                    </td><td>20                    </td><td>12                    </td><td>12                    </td><td>16                    </td><td>...</td><td>19                   </td><td>20                   </td><td>89                   </td><td>65                   </td><td>19                   </td><td>32                   </td></tr>\n",
       "</tbody>\n",
       "</table>"
      ],
      "text/plain": [
       "GridArray(noname : [[45.47811478 45.706479    0.52845548 42.12316125 14.2766544 ]\n",
       " [11.25904402 11.77017832 79.70579063 86.53393305 92.16097635]\n",
       " [14.20611154 13.87158392 78.48376504  0.93997064 19.88195884]\n",
       " [19.05597164 86.99475919 18.68103659 13.79397933 11.99336827]\n",
       " [16.75984368 15.17360543 47.71141942 16.54326626 12.43666647]\n",
       " [65.21116424 22.19768134 15.70783322 15.89429074 16.41839842]\n",
       " [15.53873813 96.26061262 13.53151367 19.16121652 66.00694125]\n",
       " [40.03123255 14.77953077 45.29566493 70.67184211 68.34401182]\n",
       " [93.63028731  0.74711847 14.97870028 10.06730778 17.19575213]\n",
       " [10.42539435 11.57627994 18.9562908  18.98394774 55.76341815]\n",
       " [ 0.9704821  18.63989469 30.72068634 14.76564748 39.60688172]\n",
       " [18.55220009 14.84798858 70.31710629 11.22818099 15.97927864]\n",
       " [15.91020629  0.60473726 82.87437699 18.49549445 38.3789323 ]\n",
       " [29.68042017 13.36815733 15.397396   12.07440607 14.81297628]\n",
       " [19.29783481 15.93135102 21.73173143 13.55329291 19.02303471]\n",
       " [13.07343232 13.25273764 46.39977999 17.68788222 19.95362998]\n",
       " [10.72137865 59.95912198 12.63757904  0.83001963 89.42893959]\n",
       " [14.0347887   0.25018907 14.05504142 17.04126729 64.77579693]\n",
       " [16.94648697 52.79636609 73.24401862  0.7501324  18.62083887]\n",
       " [41.93609013 67.9076992  53.93794742 10.68121193 31.66750996]])"
      ]
     },
     "execution_count": 54,
     "metadata": {},
     "output_type": "execute_result"
    }
   ],
   "source": [
    "a * 2"
   ]
  },
  {
   "cell_type": "code",
   "execution_count": 55,
   "metadata": {},
   "outputs": [],
   "source": [
    "m = np.ma.masked_array(np.arange(10))"
   ]
  },
  {
   "cell_type": "code",
   "execution_count": 56,
   "metadata": {},
   "outputs": [],
   "source": [
    "m.mask = m < 6"
   ]
  },
  {
   "cell_type": "code",
   "execution_count": 57,
   "metadata": {},
   "outputs": [
    {
     "data": {
      "text/plain": [
       "array([ 0,  1,  2,  3,  4,  5, 18, 21, 24, 27])"
      ]
     },
     "execution_count": 57,
     "metadata": {},
     "output_type": "execute_result"
    }
   ],
   "source": [
    "(m * 3).data"
   ]
  },
  {
   "cell_type": "code",
   "execution_count": 58,
   "metadata": {},
   "outputs": [
    {
     "ename": "TypeError",
     "evalue": "data type not understood",
     "output_type": "error",
     "traceback": [
      "\u001b[0;31m---------------------------------------------------------------------------\u001b[0m",
      "\u001b[0;31mTypeError\u001b[0m                                 Traceback (most recent call last)",
      "\u001b[0;32m<ipython-input-58-09fcd928dfab>\u001b[0m in \u001b[0;36m<module>\u001b[0;34m\u001b[0m\n\u001b[1;32m      1\u001b[0m \u001b[0;31m# add something\u001b[0m\u001b[0;34m\u001b[0m\u001b[0;34m\u001b[0m\u001b[0;34m\u001b[0m\u001b[0m\n\u001b[0;32m----> 2\u001b[0;31m \u001b[0mg\u001b[0m\u001b[0;34m[\u001b[0m\u001b[0;34m'a'\u001b[0m\u001b[0;34m]\u001b[0m \u001b[0;34m=\u001b[0m \u001b[0mnp\u001b[0m\u001b[0;34m.\u001b[0m\u001b[0mrandom\u001b[0m\u001b[0;34m.\u001b[0m\u001b[0mrand\u001b[0m\u001b[0;34m(\u001b[0m\u001b[0mg\u001b[0m\u001b[0;34m.\u001b[0m\u001b[0mgrid\u001b[0m\u001b[0;34m.\u001b[0m\u001b[0msize\u001b[0m\u001b[0;34m)\u001b[0m\u001b[0;34m.\u001b[0m\u001b[0mreshape\u001b[0m\u001b[0;34m(\u001b[0m\u001b[0mg\u001b[0m\u001b[0;34m.\u001b[0m\u001b[0mshape\u001b[0m\u001b[0;34m)\u001b[0m\u001b[0;34m\u001b[0m\u001b[0;34m\u001b[0m\u001b[0m\n\u001b[0m",
      "\u001b[0;32m~/pynocular/pynocular/griddata.py\u001b[0m in \u001b[0;36m__setitem__\u001b[0;34m(self, var, val)\u001b[0m\n\u001b[1;32m    311\u001b[0m \u001b[0;34m\u001b[0m\u001b[0m\n\u001b[1;32m    312\u001b[0m     \u001b[0;32mdef\u001b[0m \u001b[0m__setitem__\u001b[0m\u001b[0;34m(\u001b[0m\u001b[0mself\u001b[0m\u001b[0;34m,\u001b[0m \u001b[0mvar\u001b[0m\u001b[0;34m,\u001b[0m \u001b[0mval\u001b[0m\u001b[0;34m)\u001b[0m\u001b[0;34m:\u001b[0m\u001b[0;34m\u001b[0m\u001b[0;34m\u001b[0m\u001b[0m\n\u001b[0;32m--> 313\u001b[0;31m         \u001b[0mself\u001b[0m\u001b[0;34m.\u001b[0m\u001b[0madd_data\u001b[0m\u001b[0;34m(\u001b[0m\u001b[0mvar\u001b[0m\u001b[0;34m,\u001b[0m \u001b[0mval\u001b[0m\u001b[0;34m)\u001b[0m\u001b[0;34m\u001b[0m\u001b[0;34m\u001b[0m\u001b[0m\n\u001b[0m\u001b[1;32m    314\u001b[0m \u001b[0;34m\u001b[0m\u001b[0m\n\u001b[1;32m    315\u001b[0m     \u001b[0;32mdef\u001b[0m \u001b[0m__getitem__\u001b[0m\u001b[0;34m(\u001b[0m\u001b[0mself\u001b[0m\u001b[0;34m,\u001b[0m \u001b[0mitem\u001b[0m\u001b[0;34m)\u001b[0m\u001b[0;34m:\u001b[0m\u001b[0;34m\u001b[0m\u001b[0;34m\u001b[0m\u001b[0m\n",
      "\u001b[0;32m~/pynocular/pynocular/griddata.py\u001b[0m in \u001b[0;36madd_data\u001b[0;34m(self, var, data)\u001b[0m\n\u001b[1;32m    454\u001b[0m             \u001b[0mdata\u001b[0m \u001b[0;34m=\u001b[0m \u001b[0mdata\u001b[0m\u001b[0;34m[\u001b[0m\u001b[0;34m...\u001b[0m\u001b[0;34m,\u001b[0m \u001b[0mnp\u001b[0m\u001b[0;34m.\u001b[0m\u001b[0mnewaxis\u001b[0m\u001b[0;34m]\u001b[0m\u001b[0;34m\u001b[0m\u001b[0;34m\u001b[0m\u001b[0m\n\u001b[1;32m    455\u001b[0m \u001b[0;34m\u001b[0m\u001b[0m\n\u001b[0;32m--> 456\u001b[0;31m         \u001b[0mdata\u001b[0m \u001b[0;34m=\u001b[0m \u001b[0mpn\u001b[0m\u001b[0;34m.\u001b[0m\u001b[0mGridArray\u001b[0m\u001b[0;34m(\u001b[0m\u001b[0mself\u001b[0m\u001b[0;34m.\u001b[0m\u001b[0mgrid\u001b[0m\u001b[0;34m,\u001b[0m \u001b[0mvar\u001b[0m\u001b[0;34m,\u001b[0m \u001b[0mdata\u001b[0m\u001b[0;34m)\u001b[0m\u001b[0;34m\u001b[0m\u001b[0;34m\u001b[0m\u001b[0m\n\u001b[0m\u001b[1;32m    457\u001b[0m \u001b[0;34m\u001b[0m\u001b[0m\n\u001b[1;32m    458\u001b[0m         \u001b[0;32mif\u001b[0m \u001b[0;32mnot\u001b[0m \u001b[0mdata\u001b[0m\u001b[0;34m.\u001b[0m\u001b[0mshape\u001b[0m\u001b[0;34m[\u001b[0m\u001b[0;34m:\u001b[0m\u001b[0mself\u001b[0m\u001b[0;34m.\u001b[0m\u001b[0mndim\u001b[0m\u001b[0;34m]\u001b[0m \u001b[0;34m==\u001b[0m \u001b[0mself\u001b[0m\u001b[0;34m.\u001b[0m\u001b[0mshape\u001b[0m\u001b[0;34m:\u001b[0m\u001b[0;34m\u001b[0m\u001b[0;34m\u001b[0m\u001b[0m\n",
      "\u001b[0;32m~/pynocular/pynocular/griddata.py\u001b[0m in \u001b[0;36m__new__\u001b[0;34m(cls, input_array, grid, *args, **kwargs)\u001b[0m\n\u001b[1;32m     92\u001b[0m     \u001b[0;32mdef\u001b[0m \u001b[0m__new__\u001b[0m\u001b[0;34m(\u001b[0m\u001b[0mcls\u001b[0m\u001b[0;34m,\u001b[0m \u001b[0minput_array\u001b[0m\u001b[0;34m,\u001b[0m \u001b[0;34m*\u001b[0m\u001b[0margs\u001b[0m\u001b[0;34m,\u001b[0m \u001b[0mgrid\u001b[0m\u001b[0;34m=\u001b[0m\u001b[0;32mNone\u001b[0m\u001b[0;34m,\u001b[0m \u001b[0;34m**\u001b[0m\u001b[0mkwargs\u001b[0m\u001b[0;34m)\u001b[0m\u001b[0;34m:\u001b[0m\u001b[0;34m\u001b[0m\u001b[0;34m\u001b[0m\u001b[0m\n\u001b[1;32m     93\u001b[0m         \u001b[0;31m#print(type(input_array))\u001b[0m\u001b[0;34m\u001b[0m\u001b[0;34m\u001b[0m\u001b[0;34m\u001b[0m\u001b[0m\n\u001b[0;32m---> 94\u001b[0;31m         \u001b[0msuper\u001b[0m\u001b[0;34m(\u001b[0m\u001b[0;34m)\u001b[0m\u001b[0;34m.\u001b[0m\u001b[0m__new__\u001b[0m\u001b[0;34m(\u001b[0m\u001b[0mcls\u001b[0m\u001b[0;34m,\u001b[0m \u001b[0minput_array\u001b[0m\u001b[0;34m,\u001b[0m \u001b[0;34m*\u001b[0m\u001b[0margs\u001b[0m\u001b[0;34m,\u001b[0m \u001b[0;34m**\u001b[0m\u001b[0mkwargs\u001b[0m\u001b[0;34m)\u001b[0m\u001b[0;34m\u001b[0m\u001b[0;34m\u001b[0m\u001b[0m\n\u001b[0m\u001b[1;32m     95\u001b[0m         \u001b[0;31m#print('new: args, kwargs', args, kwargs)\u001b[0m\u001b[0;34m\u001b[0m\u001b[0;34m\u001b[0m\u001b[0;34m\u001b[0m\u001b[0m\n\u001b[1;32m     96\u001b[0m         \u001b[0mobj\u001b[0m \u001b[0;34m=\u001b[0m \u001b[0mnp\u001b[0m\u001b[0;34m.\u001b[0m\u001b[0mma\u001b[0m\u001b[0;34m.\u001b[0m\u001b[0masarray\u001b[0m\u001b[0;34m(\u001b[0m\u001b[0minput_array\u001b[0m\u001b[0;34m)\u001b[0m\u001b[0;34m.\u001b[0m\u001b[0mview\u001b[0m\u001b[0;34m(\u001b[0m\u001b[0mcls\u001b[0m\u001b[0;34m,\u001b[0m \u001b[0;34m*\u001b[0m\u001b[0margs\u001b[0m\u001b[0;34m,\u001b[0m \u001b[0;34m**\u001b[0m\u001b[0mkwargs\u001b[0m\u001b[0;34m)\u001b[0m\u001b[0;34m\u001b[0m\u001b[0;34m\u001b[0m\u001b[0m\n",
      "\u001b[0;32m~/anaconda3/lib/python3.7/site-packages/numpy/ma/core.py\u001b[0m in \u001b[0;36m__new__\u001b[0;34m(cls, data, mask, dtype, copy, subok, ndmin, fill_value, keep_mask, hard_mask, shrink, order, **options)\u001b[0m\n\u001b[1;32m   2786\u001b[0m         \u001b[0;31m# Process data.\u001b[0m\u001b[0;34m\u001b[0m\u001b[0;34m\u001b[0m\u001b[0;34m\u001b[0m\u001b[0m\n\u001b[1;32m   2787\u001b[0m         _data = np.array(data, dtype=dtype, copy=copy,\n\u001b[0;32m-> 2788\u001b[0;31m                          order=order, subok=True, ndmin=ndmin)\n\u001b[0m\u001b[1;32m   2789\u001b[0m         \u001b[0m_baseclass\u001b[0m \u001b[0;34m=\u001b[0m \u001b[0mgetattr\u001b[0m\u001b[0;34m(\u001b[0m\u001b[0mdata\u001b[0m\u001b[0;34m,\u001b[0m \u001b[0;34m'_baseclass'\u001b[0m\u001b[0;34m,\u001b[0m \u001b[0mtype\u001b[0m\u001b[0;34m(\u001b[0m\u001b[0m_data\u001b[0m\u001b[0;34m)\u001b[0m\u001b[0;34m)\u001b[0m\u001b[0;34m\u001b[0m\u001b[0;34m\u001b[0m\u001b[0m\n\u001b[1;32m   2790\u001b[0m         \u001b[0;31m# Check that we're not erasing the mask.\u001b[0m\u001b[0;34m\u001b[0m\u001b[0;34m\u001b[0m\u001b[0;34m\u001b[0m\u001b[0m\n",
      "\u001b[0;31mTypeError\u001b[0m: data type not understood"
     ]
    }
   ],
   "source": [
    "# add something\n",
    "g['a'] = np.random.rand(g.grid.size).reshape(g.shape)"
   ]
  },
  {
   "cell_type": "code",
   "execution_count": 100,
   "metadata": {},
   "outputs": [
    {
     "data": {
      "text/plain": [
       "array(GridData(Grid(\n",
       "Axis(\"x\",\n",
       "points = array([ 0,  1,  2,  3,  4,  5,  6,  7,  8,  9, 10, 11, 12, 13, 14, 15, 16,\n",
       "       17, 18, 19]),\n",
       "edges = edges: array([[-0.5,  0.5],\n",
       "       [ 0.5,  1.5],\n",
       "       [ 1.5,  2.5],\n",
       "       [ 2.5,  3.5],\n",
       "       [ 3.5,  4.5],\n",
       "       [ 4.5,  5.5],\n",
       "       [ 5.5,  6.5],\n",
       "       [ 6.5,  7.5],\n",
       "       [ 7.5,  8.5],\n",
       "       [ 8.5,  9.5],\n",
       "       [ 9.5, 10.5],\n",
       "       [10.5, 11.5],\n",
       "       [11.5, 12.5],\n",
       "       [12.5, 13.5],\n",
       "       [13.5, 14.5],\n",
       "       [14.5, 15.5],\n",
       "       [15.5, 16.5],\n",
       "       [16.5, 17.5],\n",
       "       [17.5, 18.5],\n",
       "       [18.5, 19.5]]))\n",
       "nbins = 20),\n",
       "Axis(\"y\",\n",
       "points = array([0, 1, 2, 3, 4]),\n",
       "edges = edges: None)\n",
       "nbins = 5),)\n",
       "[]), dtype=object)"
      ]
     },
     "execution_count": 100,
     "metadata": {},
     "output_type": "execute_result"
    }
   ],
   "source": [
    "np.asanyarray(g['a'])"
   ]
  },
  {
   "cell_type": "code",
   "execution_count": 32,
   "metadata": {},
   "outputs": [
    {
     "data": {
      "text/html": [
       "<table>\n",
       "<tbody>\n",
       "<tr><td><b>y \\ x</b></td><td><b>[-0.5 | 0 | 0.5]</b></td><td><b>[0.5 | 1 | 1.5]</b></td><td><b>[1.5 | 2 | 2.5]</b></td><td><b>[2.5 | 3 | 3.5]</b></td><td><b>[3.5 | 4 | 4.5]</b></td><td><b>[4.5 | 5 | 5.5]</b></td><td>...</td><td><b>[14 | 14 | 14]</b></td><td><b>[14 | 15 | 16]</b></td><td><b>[16 | 16 | 16]</b></td><td><b>[16 | 17 | 18]</b></td><td><b>[18 | 18 | 18]</b></td><td><b>[18 | 19 | 20]</b></td></tr>\n",
       "<tr><td><b>0</b>    </td><td>a = 0.93<br>b = 1      </td><td>a = 0.55<br>b = 1     </td><td>a = 0.74<br>b = 1     </td><td>a = 0.16<br>b = 1     </td><td>a = 0.85<br>b = 1     </td><td>a = 0.56<br>b = 1     </td><td>...</td><td>a = 0.66<br>b = 1    </td><td>a = 0.23<br>b = 1    </td><td>a = 0.97<br>b = 1    </td><td>a = 0.55<br>b = 1    </td><td>a = 0.77<br>b = 1    </td><td>a = 0.26<br>b = 1    </td></tr>\n",
       "<tr><td><b>1</b>    </td><td>a = 0.67<br>b = 1      </td><td>a = 0.28<br>b = 1     </td><td>a = 0.35<br>b = 1     </td><td>a = 0.084<br>b = 1    </td><td>a = 1<br>b = 1        </td><td>a = 0.47<br>b = 1     </td><td>...</td><td>a = 0.4<br>b = 1     </td><td>a = 0.51<br>b = 1    </td><td>a = 0.65<br>b = 1    </td><td>a = 0.43<br>b = 1    </td><td>a = 0.27<br>b = 1    </td><td>a = 0.94<br>b = 1    </td></tr>\n",
       "<tr><td><b>2</b>    </td><td>a = 0.24<br>b = 1      </td><td>a = 0.3<br>b = 1      </td><td>a = 0.88<br>b = 1     </td><td>a = 0.89<br>b = 1     </td><td>a = 0.52<br>b = 1     </td><td>a = 0.7<br>b = 1      </td><td>...</td><td>a = 0.65<br>b = 1    </td><td>a = 0.56<br>b = 1    </td><td>a = 0.75<br>b = 1    </td><td>a = 0.95<br>b = 1    </td><td>a = 0.28<br>b = 1    </td><td>a = 0.98<br>b = 1    </td></tr>\n",
       "<tr><td><b>3</b>    </td><td>a = 0.16<br>b = 1      </td><td>a = 0.94<br>b = 1     </td><td>a = 0.22<br>b = 1     </td><td>a = 0.048<br>b = 1    </td><td>a = 0.79<br>b = 1     </td><td>a = 0.98<br>b = 1     </td><td>...</td><td>a = 0.14<br>b = 1    </td><td>a = 0.67<br>b = 1    </td><td>a = 0.34<br>b = 1    </td><td>a = 0.28<br>b = 1    </td><td>a = 0.52<br>b = 1    </td><td>a = 0.33<br>b = 1    </td></tr>\n",
       "<tr><td><b>4</b>    </td><td>a = 0.017<br>b = 1     </td><td>a = 0.86<br>b = 1     </td><td>a = 0.53<br>b = 1     </td><td>a = 0.71<br>b = 1     </td><td>a = 0.7<br>b = 1      </td><td>a = 0.97<br>b = 1     </td><td>...</td><td>a = 0.59<br>b = 1    </td><td>a = 0.75<br>b = 1    </td><td>a = 0.37<br>b = 1    </td><td>a = 0.99<br>b = 1    </td><td>a = 0.065<br>b = 1   </td><td>a = 0.58<br>b = 1    </td></tr>\n",
       "</tbody>\n",
       "</table>"
      ],
      "text/plain": [
       "GridData(Grid(\n",
       "Axis(\"x\",\n",
       "points = array([ 0,  1,  2,  3,  4,  5,  6,  7,  8,  9, 10, 11, 12, 13, 14, 15, 16,\n",
       "       17, 18, 19]),\n",
       "edges = edges: array([[-0.5,  0.5],\n",
       "       [ 0.5,  1.5],\n",
       "       [ 1.5,  2.5],\n",
       "       [ 2.5,  3.5],\n",
       "       [ 3.5,  4.5],\n",
       "       [ 4.5,  5.5],\n",
       "       [ 5.5,  6.5],\n",
       "       [ 6.5,  7.5],\n",
       "       [ 7.5,  8.5],\n",
       "       [ 8.5,  9.5],\n",
       "       [ 9.5, 10.5],\n",
       "       [10.5, 11.5],\n",
       "       [11.5, 12.5],\n",
       "       [12.5, 13.5],\n",
       "       [13.5, 14.5],\n",
       "       [14.5, 15.5],\n",
       "       [15.5, 16.5],\n",
       "       [16.5, 17.5],\n",
       "       [17.5, 18.5],\n",
       "       [18.5, 19.5]]))\n",
       "nbins = 20),\n",
       "Axis(\"y\",\n",
       "points = array([0, 1, 2, 3, 4]),\n",
       "edges = edges: None)\n",
       "nbins = 5),)\n",
       "[GridArray(a : [[0.92923727 0.66677596 0.23727435 0.1610907  0.01653312]\n",
       " [0.55190353 0.27774722 0.29892989 0.93888069 0.85850405]\n",
       " [0.73551706 0.35244653 0.8760508  0.21956474 0.53441049]\n",
       " [0.15723997 0.08435455 0.88621504 0.04831482 0.71454138]\n",
       " [0.85049881 0.99898884 0.52455096 0.7870131  0.69769233]\n",
       " [0.55569202 0.47328259 0.70182388 0.97605759 0.97067788]\n",
       " [0.35147541 0.53804803 0.42583771 0.34038949 0.67097437]\n",
       " [0.99991814 0.40016164 0.9862341  0.22136795 0.00428525]\n",
       " [0.1870811  0.55282106 0.89642015 0.02093399 0.89793334]\n",
       " [0.32208858 0.86061124 0.16765693 0.39742282 0.26526869]\n",
       " [0.55569622 0.82761335 0.09299961 0.60893835 0.49450812]\n",
       " [0.35534096 0.54596017 0.43240258 0.9995946  0.32889435]\n",
       " [0.9596192  0.34237546 0.67684045 0.36497417 0.14907469]\n",
       " [0.33104808 0.03411093 0.13289779 0.8052429  0.65576376]\n",
       " [0.66148267 0.397798   0.65264809 0.14355531 0.58967196]\n",
       " [0.22599018 0.5112301  0.55603438 0.66878642 0.75357486]\n",
       " [0.97331045 0.6453644  0.74637954 0.34437067 0.37256701]\n",
       " [0.55422566 0.43232625 0.94590443 0.28158927 0.98584402]\n",
       " [0.76719059 0.269261   0.28188932 0.52344498 0.06515638]\n",
       " [0.25834844 0.93810894 0.97695424 0.33338629 0.58261418]]), GridArray(b : [[1. 1. 1. 1. 1.]\n",
       " [1. 1. 1. 1. 1.]\n",
       " [1. 1. 1. 1. 1.]\n",
       " [1. 1. 1. 1. 1.]\n",
       " [1. 1. 1. 1. 1.]\n",
       " [1. 1. 1. 1. 1.]\n",
       " [1. 1. 1. 1. 1.]\n",
       " [1. 1. 1. 1. 1.]\n",
       " [1. 1. 1. 1. 1.]\n",
       " [1. 1. 1. 1. 1.]\n",
       " [1. 1. 1. 1. 1.]\n",
       " [1. 1. 1. 1. 1.]\n",
       " [1. 1. 1. 1. 1.]\n",
       " [1. 1. 1. 1. 1.]\n",
       " [1. 1. 1. 1. 1.]\n",
       " [1. 1. 1. 1. 1.]\n",
       " [1. 1. 1. 1. 1.]\n",
       " [1. 1. 1. 1. 1.]\n",
       " [1. 1. 1. 1. 1.]\n",
       " [1. 1. 1. 1. 1.]])])"
      ]
     },
     "execution_count": 32,
     "metadata": {},
     "output_type": "execute_result"
    }
   ],
   "source": [
    "g"
   ]
  },
  {
   "cell_type": "code",
   "execution_count": 33,
   "metadata": {},
   "outputs": [
    {
     "name": "stdout",
     "output_type": "stream",
     "text": [
      "new  <class 'pynocular.griddata.GridArray'> (points) [ 0  1  2  3  4  5  6  7  8  9 10 11 12 13 14 15 16 17 18 19]\n",
      "(edges)  [[-0.5  0.5]\n",
      " [ 0.5  1.5]\n",
      " [ 1.5  2.5]\n",
      " [ 2.5  3.5]\n",
      " [ 3.5  4.5]\n",
      " [ 4.5  5.5]\n",
      " [ 5.5  6.5]\n",
      " [ 6.5  7.5]\n",
      " [ 7.5  8.5]\n",
      " [ 8.5  9.5]\n",
      " [ 9.5 10.5]\n",
      " [10.5 11.5]\n",
      " [11.5 12.5]\n",
      " [12.5 13.5]\n",
      " [13.5 14.5]\n",
      " [14.5 15.5]\n",
      " [15.5 16.5]\n",
      " [16.5 17.5]\n",
      " [17.5 18.5]\n",
      " [18.5 19.5]]\n",
      "(nbins)  20\n",
      "(points) [0 1 2 3 4]\n",
      "(edges)  None\n",
      "(nbins)  5 b [[1. 1. 1. 1. 1.]\n",
      " [1. 1. 1. 1. 1.]\n",
      " [1. 1. 1. 1. 1.]\n",
      " [1. 1. 1. 1. 1.]\n",
      " [1. 1. 1. 1. 1.]\n",
      " [1. 1. 1. 1. 1.]\n",
      " [1. 1. 1. 1. 1.]\n",
      " [1. 1. 1. 1. 1.]\n",
      " [1. 1. 1. 1. 1.]\n",
      " [1. 1. 1. 1. 1.]\n",
      " [1. 1. 1. 1. 1.]\n",
      " [1. 1. 1. 1. 1.]\n",
      " [1. 1. 1. 1. 1.]\n",
      " [1. 1. 1. 1. 1.]\n",
      " [1. 1. 1. 1. 1.]\n",
      " [1. 1. 1. 1. 1.]\n",
      " [1. 1. 1. 1. 1.]\n",
      " [1. 1. 1. 1. 1.]\n",
      " [1. 1. 1. 1. 1.]\n",
      " [1. 1. 1. 1. 1.]]\n",
      "finalize\n"
     ]
    }
   ],
   "source": [
    "g['b'] = np.ones(g.shape)"
   ]
  },
  {
   "cell_type": "code",
   "execution_count": 34,
   "metadata": {},
   "outputs": [
    {
     "data": {
      "text/plain": [
       "(20, 5)"
      ]
     },
     "execution_count": 34,
     "metadata": {},
     "output_type": "execute_result"
    }
   ],
   "source": [
    "g.shape"
   ]
  },
  {
   "cell_type": "code",
   "execution_count": 35,
   "metadata": {},
   "outputs": [
    {
     "name": "stdout",
     "output_type": "stream",
     "text": [
      "new  <class 'pynocular.griddata.GridArray'> (points) [ 0  1  2  3  4  5  6  7  8  9 10 11 12 13 14 15 16 17 18 19]\n",
      "(edges)  [[-0.5  0.5]\n",
      " [ 0.5  1.5]\n",
      " [ 1.5  2.5]\n",
      " [ 2.5  3.5]\n",
      " [ 3.5  4.5]\n",
      " [ 4.5  5.5]\n",
      " [ 5.5  6.5]\n",
      " [ 6.5  7.5]\n",
      " [ 7.5  8.5]\n",
      " [ 8.5  9.5]\n",
      " [ 9.5 10.5]\n",
      " [10.5 11.5]\n",
      " [11.5 12.5]\n",
      " [12.5 13.5]\n",
      " [13.5 14.5]\n",
      " [14.5 15.5]\n",
      " [15.5 16.5]\n",
      " [16.5 17.5]\n",
      " [17.5 18.5]\n",
      " [18.5 19.5]]\n",
      "(nbins)  20\n",
      "(points) [0 1 2 3 4]\n",
      "(edges)  None\n",
      "(nbins)  5 b b : [[1. 1. 1. 1. 1.]\n",
      " [1. 1. 1. 1. 1.]\n",
      " [1. 1. 1. 1. 1.]\n",
      " [1. 1. 1. 1. 1.]\n",
      " [1. 1. 1. 1. 1.]\n",
      " [1. 1. 1. 1. 1.]\n",
      " [1. 1. 1. 1. 1.]\n",
      " [1. 1. 1. 1. 1.]\n",
      " [1. 1. 1. 1. 1.]\n",
      " [1. 1. 1. 1. 1.]\n",
      " [1. 1. 1. 1. 1.]\n",
      " [1. 1. 1. 1. 1.]\n",
      " [1. 1. 1. 1. 1.]\n",
      " [1. 1. 1. 1. 1.]\n",
      " [1. 1. 1. 1. 1.]\n",
      " [1. 1. 1. 1. 1.]\n",
      " [1. 1. 1. 1. 1.]\n",
      " [1. 1. 1. 1. 1.]\n",
      " [1. 1. 1. 1. 1.]\n",
      " [1. 1. 1. 1. 1.]]\n",
      "finalize\n",
      "new  <class 'pynocular.griddata.GridArray'> (points) [0 1 2 3 4]\n",
      "(edges)  None\n",
      "(nbins)  5\n",
      "(points) [ 0  1  2  3  4  5  6  7  8  9 10 11 12 13 14 15 16 17 18 19]\n",
      "(edges)  [[-0.5  0.5]\n",
      " [ 0.5  1.5]\n",
      " [ 1.5  2.5]\n",
      " [ 2.5  3.5]\n",
      " [ 3.5  4.5]\n",
      " [ 4.5  5.5]\n",
      " [ 5.5  6.5]\n",
      " [ 6.5  7.5]\n",
      " [ 7.5  8.5]\n",
      " [ 8.5  9.5]\n",
      " [ 9.5 10.5]\n",
      " [10.5 11.5]\n",
      " [11.5 12.5]\n",
      " [12.5 13.5]\n",
      " [13.5 14.5]\n",
      " [14.5 15.5]\n",
      " [15.5 16.5]\n",
      " [16.5 17.5]\n",
      " [17.5 18.5]\n",
      " [18.5 19.5]]\n",
      "(nbins)  20 b [[1. 1. 1. 1. 1. 1. 1. 1. 1. 1. 1. 1. 1. 1. 1. 1. 1. 1. 1. 1.]\n",
      " [1. 1. 1. 1. 1. 1. 1. 1. 1. 1. 1. 1. 1. 1. 1. 1. 1. 1. 1. 1.]\n",
      " [1. 1. 1. 1. 1. 1. 1. 1. 1. 1. 1. 1. 1. 1. 1. 1. 1. 1. 1. 1.]\n",
      " [1. 1. 1. 1. 1. 1. 1. 1. 1. 1. 1. 1. 1. 1. 1. 1. 1. 1. 1. 1.]\n",
      " [1. 1. 1. 1. 1. 1. 1. 1. 1. 1. 1. 1. 1. 1. 1. 1. 1. 1. 1. 1.]]\n",
      "finalize\n",
      "new  <class 'pynocular.griddata.GridArray'> (points) [0 1 2 3 4]\n",
      "(edges)  None\n",
      "(nbins)  5\n",
      "(points) [ 0  1  2  3  4  5  6  7  8  9 10 11 12 13 14 15 16 17 18 19]\n",
      "(edges)  [[-0.5  0.5]\n",
      " [ 0.5  1.5]\n",
      " [ 1.5  2.5]\n",
      " [ 2.5  3.5]\n",
      " [ 3.5  4.5]\n",
      " [ 4.5  5.5]\n",
      " [ 5.5  6.5]\n",
      " [ 6.5  7.5]\n",
      " [ 7.5  8.5]\n",
      " [ 8.5  9.5]\n",
      " [ 9.5 10.5]\n",
      " [10.5 11.5]\n",
      " [11.5 12.5]\n",
      " [12.5 13.5]\n",
      " [13.5 14.5]\n",
      " [14.5 15.5]\n",
      " [15.5 16.5]\n",
      " [16.5 17.5]\n",
      " [17.5 18.5]\n",
      " [18.5 19.5]]\n",
      "(nbins)  20 b b : [[1. 1. 1. 1. 1. 1. 1. 1. 1. 1. 1. 1. 1. 1. 1. 1. 1. 1. 1. 1.]\n",
      " [1. 1. 1. 1. 1. 1. 1. 1. 1. 1. 1. 1. 1. 1. 1. 1. 1. 1. 1. 1.]\n",
      " [1. 1. 1. 1. 1. 1. 1. 1. 1. 1. 1. 1. 1. 1. 1. 1. 1. 1. 1. 1.]\n",
      " [1. 1. 1. 1. 1. 1. 1. 1. 1. 1. 1. 1. 1. 1. 1. 1. 1. 1. 1. 1.]\n",
      " [1. 1. 1. 1. 1. 1. 1. 1. 1. 1. 1. 1. 1. 1. 1. 1. 1. 1. 1. 1.]]\n",
      "finalize\n"
     ]
    },
    {
     "data": {
      "text/html": [
       "<table>\n",
       "<tbody>\n",
       "<tr><td><b>x \\ y</b>           </td><td><b>0</b></td><td><b>1</b></td><td><b>2</b></td><td><b>3</b></td><td><b>4</b></td></tr>\n",
       "<tr><td><b>[-0.5 | 0 | 0.5]</b></td><td>1       </td><td>1       </td><td>1       </td><td>1       </td><td>1       </td></tr>\n",
       "<tr><td><b>[0.5 | 1 | 1.5]</b> </td><td>1       </td><td>1       </td><td>1       </td><td>1       </td><td>1       </td></tr>\n",
       "<tr><td><b>[1.5 | 2 | 2.5]</b> </td><td>1       </td><td>1       </td><td>1       </td><td>1       </td><td>1       </td></tr>\n",
       "<tr><td><b>[2.5 | 3 | 3.5]</b> </td><td>1       </td><td>1       </td><td>1       </td><td>1       </td><td>1       </td></tr>\n",
       "<tr><td><b>[3.5 | 4 | 4.5]</b> </td><td>1       </td><td>1       </td><td>1       </td><td>1       </td><td>1       </td></tr>\n",
       "<tr><td><b>[4.5 | 5 | 5.5]</b> </td><td>1       </td><td>1       </td><td>1       </td><td>1       </td><td>1       </td></tr>\n",
       "<tr><td>...                    </td><td>...     </td><td>...     </td><td>...     </td><td>...     </td><td>...     </td></tr>\n",
       "<tr><td><b>[14 | 14 | 14]</b>  </td><td>1       </td><td>1       </td><td>1       </td><td>1       </td><td>1       </td></tr>\n",
       "<tr><td><b>[14 | 15 | 16]</b>  </td><td>1       </td><td>1       </td><td>1       </td><td>1       </td><td>1       </td></tr>\n",
       "<tr><td><b>[16 | 16 | 16]</b>  </td><td>1       </td><td>1       </td><td>1       </td><td>1       </td><td>1       </td></tr>\n",
       "<tr><td><b>[16 | 17 | 18]</b>  </td><td>1       </td><td>1       </td><td>1       </td><td>1       </td><td>1       </td></tr>\n",
       "<tr><td><b>[18 | 18 | 18]</b>  </td><td>1       </td><td>1       </td><td>1       </td><td>1       </td><td>1       </td></tr>\n",
       "<tr><td><b>[18 | 19 | 20]</b>  </td><td>1       </td><td>1       </td><td>1       </td><td>1       </td><td>1       </td></tr>\n",
       "</tbody>\n",
       "</table>"
      ],
      "text/plain": [
       "GridArray(b : b : [[1. 1. 1. 1. 1. 1. 1. 1. 1. 1. 1. 1. 1. 1. 1. 1. 1. 1. 1. 1.]\n",
       " [1. 1. 1. 1. 1. 1. 1. 1. 1. 1. 1. 1. 1. 1. 1. 1. 1. 1. 1. 1.]\n",
       " [1. 1. 1. 1. 1. 1. 1. 1. 1. 1. 1. 1. 1. 1. 1. 1. 1. 1. 1. 1.]\n",
       " [1. 1. 1. 1. 1. 1. 1. 1. 1. 1. 1. 1. 1. 1. 1. 1. 1. 1. 1. 1.]\n",
       " [1. 1. 1. 1. 1. 1. 1. 1. 1. 1. 1. 1. 1. 1. 1. 1. 1. 1. 1. 1.]])"
      ]
     },
     "execution_count": 35,
     "metadata": {},
     "output_type": "execute_result"
    }
   ],
   "source": [
    "g['b'].T"
   ]
  },
  {
   "cell_type": "code",
   "execution_count": 42,
   "metadata": {},
   "outputs": [
    {
     "name": "stdout",
     "output_type": "stream",
     "text": [
      "ufunc\n",
      "() {}\n"
     ]
    },
    {
     "data": {
      "text/plain": [
       "Grid(\n",
       "Axis(\"x\",\n",
       "points = array([ 0,  1,  2,  3,  4,  5,  6,  7,  8,  9, 10, 11, 12, 13, 14, 15, 16,\n",
       "       17, 18, 19]),\n",
       "edges = edges: array([[-0.5,  0.5],\n",
       "       [ 0.5,  1.5],\n",
       "       [ 1.5,  2.5],\n",
       "       [ 2.5,  3.5],\n",
       "       [ 3.5,  4.5],\n",
       "       [ 4.5,  5.5],\n",
       "       [ 5.5,  6.5],\n",
       "       [ 6.5,  7.5],\n",
       "       [ 7.5,  8.5],\n",
       "       [ 8.5,  9.5],\n",
       "       [ 9.5, 10.5],\n",
       "       [10.5, 11.5],\n",
       "       [11.5, 12.5],\n",
       "       [12.5, 13.5],\n",
       "       [13.5, 14.5],\n",
       "       [14.5, 15.5],\n",
       "       [15.5, 16.5],\n",
       "       [16.5, 17.5],\n",
       "       [17.5, 18.5],\n",
       "       [18.5, 19.5]]))\n",
       "nbins = 20),\n",
       "Axis(\"y\",\n",
       "points = array([0, 1, 2, 3, 4]),\n",
       "edges = edges: None)\n",
       "nbins = 5),)"
      ]
     },
     "execution_count": 42,
     "metadata": {},
     "output_type": "execute_result"
    }
   ],
   "source": [
    "np.sin(a).grid"
   ]
  },
  {
   "cell_type": "code",
   "execution_count": 43,
   "metadata": {},
   "outputs": [
    {
     "name": "stdout",
     "output_type": "stream",
     "text": [
      "new  <class 'pynocular.griddata.GridArray'> (points) [ 0  1  2  3  4  5  6  7  8  9 10 11 12 13 14 15 16 17 18 19]\n",
      "(edges)  [[-0.5  0.5]\n",
      " [ 0.5  1.5]\n",
      " [ 1.5  2.5]\n",
      " [ 2.5  3.5]\n",
      " [ 3.5  4.5]\n",
      " [ 4.5  5.5]\n",
      " [ 5.5  6.5]\n",
      " [ 6.5  7.5]\n",
      " [ 7.5  8.5]\n",
      " [ 8.5  9.5]\n",
      " [ 9.5 10.5]\n",
      " [10.5 11.5]\n",
      " [11.5 12.5]\n",
      " [12.5 13.5]\n",
      " [13.5 14.5]\n",
      " [14.5 15.5]\n",
      " [15.5 16.5]\n",
      " [16.5 17.5]\n",
      " [17.5 18.5]\n",
      " [18.5 19.5]]\n",
      "(nbins)  20\n",
      "(points) [0 1 2 3 4]\n",
      "(edges)  None\n",
      "(nbins)  5 a a : [[0.92923727 0.66677596 0.23727435 0.1610907  0.01653312]\n",
      " [0.55190353 0.27774722 0.29892989 0.93888069 0.85850405]\n",
      " [0.73551706 0.35244653 0.8760508  0.21956474 0.53441049]\n",
      " [0.15723997 0.08435455 0.88621504 0.04831482 0.71454138]\n",
      " [0.85049881 0.99898884 0.52455096 0.7870131  0.69769233]\n",
      " [0.55569202 0.47328259 0.70182388 0.97605759 0.97067788]\n",
      " [0.35147541 0.53804803 0.42583771 0.34038949 0.67097437]\n",
      " [0.99991814 0.40016164 0.9862341  0.22136795 0.00428525]\n",
      " [0.1870811  0.55282106 0.89642015 0.02093399 0.89793334]\n",
      " [0.32208858 0.86061124 0.16765693 0.39742282 0.26526869]\n",
      " [0.55569622 0.82761335 0.09299961 0.60893835 0.49450812]\n",
      " [0.35534096 0.54596017 0.43240258 0.9995946  0.32889435]\n",
      " [0.9596192  0.34237546 0.67684045 0.36497417 0.14907469]\n",
      " [0.33104808 0.03411093 0.13289779 0.8052429  0.65576376]\n",
      " [0.66148267 0.397798   0.65264809 0.14355531 0.58967196]\n",
      " [0.22599018 0.5112301  0.55603438 0.66878642 0.75357486]\n",
      " [0.97331045 0.6453644  0.74637954 0.34437067 0.37256701]\n",
      " [0.55422566 0.43232625 0.94590443 0.28158927 0.98584402]\n",
      " [0.76719059 0.269261   0.28188932 0.52344498 0.06515638]\n",
      " [0.25834844 0.93810894 0.97695424 0.33338629 0.58261418]]\n",
      "finalize\n"
     ]
    }
   ],
   "source": [
    "a = g['a']"
   ]
  },
  {
   "cell_type": "code",
   "execution_count": 48,
   "metadata": {},
   "outputs": [
    {
     "name": "stderr",
     "output_type": "stream",
     "text": [
      "[autoreload of pynocular.griddata failed: Traceback (most recent call last):\n",
      "  File \"/home/peller/anaconda3/lib/python3.7/site-packages/IPython/extensions/autoreload.py\", line 244, in check\n",
      "    superreload(m, reload, self.old_objects)\n",
      "  File \"/home/peller/anaconda3/lib/python3.7/site-packages/IPython/extensions/autoreload.py\", line 394, in superreload\n",
      "    update_generic(old_obj, new_obj)\n",
      "  File \"/home/peller/anaconda3/lib/python3.7/site-packages/IPython/extensions/autoreload.py\", line 331, in update_generic\n",
      "    update(a, b)\n",
      "  File \"/home/peller/anaconda3/lib/python3.7/site-packages/IPython/extensions/autoreload.py\", line 289, in update_class\n",
      "    if update_generic(old_obj, new_obj): continue\n",
      "  File \"/home/peller/anaconda3/lib/python3.7/site-packages/IPython/extensions/autoreload.py\", line 331, in update_generic\n",
      "    update(a, b)\n",
      "  File \"/home/peller/anaconda3/lib/python3.7/site-packages/IPython/extensions/autoreload.py\", line 265, in update_function\n",
      "    setattr(old, name, getattr(new, name))\n",
      "ValueError: __array_ufunc__() requires a code object with 0 free vars, not 1\n",
      "]\n"
     ]
    },
    {
     "data": {
      "text/plain": [
       "array([Axis(\"x\",\n",
       "points = array([ 0,  1,  2,  3,  4,  5,  6,  7,  8,  9, 10, 11, 12, 13, 14, 15, 16,\n",
       "       17, 18, 19]),\n",
       "edges = edges: array([[-0.5,  0.5],\n",
       "       [ 0.5,  1.5],\n",
       "       [ 1.5,  2.5],\n",
       "       [ 2.5,  3.5],\n",
       "       [ 3.5,  4.5],\n",
       "       [ 4.5,  5.5],\n",
       "       [ 5.5,  6.5],\n",
       "       [ 6.5,  7.5],\n",
       "       [ 7.5,  8.5],\n",
       "       [ 8.5,  9.5],\n",
       "       [ 9.5, 10.5],\n",
       "       [10.5, 11.5],\n",
       "       [11.5, 12.5],\n",
       "       [12.5, 13.5],\n",
       "       [13.5, 14.5],\n",
       "       [14.5, 15.5],\n",
       "       [15.5, 16.5],\n",
       "       [16.5, 17.5],\n",
       "       [17.5, 18.5],\n",
       "       [18.5, 19.5]]))\n",
       "nbins = 20),\n",
       "       Axis(\"y\",\n",
       "points = array([0, 1, 2, 3, 4]),\n",
       "edges = edges: None)\n",
       "nbins = 5)], dtype=object)"
      ]
     },
     "execution_count": 48,
     "metadata": {},
     "output_type": "execute_result"
    }
   ],
   "source": [
    "a.view(np.ndarray)"
   ]
  },
  {
   "cell_type": "code",
   "execution_count": null,
   "metadata": {},
   "outputs": [],
   "source": [
    "g['b'][g['a'] < 0.5] *= -1"
   ]
  },
  {
   "cell_type": "code",
   "execution_count": null,
   "metadata": {},
   "outputs": [],
   "source": [
    "g"
   ]
  },
  {
   "cell_type": "code",
   "execution_count": null,
   "metadata": {},
   "outputs": [],
   "source": [
    "g['a']"
   ]
  },
  {
   "cell_type": "code",
   "execution_count": null,
   "metadata": {},
   "outputs": [],
   "source": [
    "np.sum(g['a'], axis='y')"
   ]
  },
  {
   "cell_type": "code",
   "execution_count": null,
   "metadata": {},
   "outputs": [],
   "source": [
    "g[:,-2]"
   ]
  },
  {
   "cell_type": "code",
   "execution_count": null,
   "metadata": {},
   "outputs": [],
   "source": [
    "g[::-1, ::-1]"
   ]
  },
  {
   "cell_type": "code",
   "execution_count": null,
   "metadata": {},
   "outputs": [],
   "source": [
    "g[[0,3,5], 2:-1]"
   ]
  },
  {
   "cell_type": "code",
   "execution_count": null,
   "metadata": {},
   "outputs": [],
   "source": [
    "g[0,0]"
   ]
  },
  {
   "cell_type": "code",
   "execution_count": null,
   "metadata": {},
   "outputs": [],
   "source": [
    "g.grid.edges[0].max()"
   ]
  },
  {
   "cell_type": "code",
   "execution_count": null,
   "metadata": {},
   "outputs": [],
   "source": [
    "np.mean(g['b'], axis='x') + np.std(g['a'], axis='x')"
   ]
  },
  {
   "cell_type": "code",
   "execution_count": null,
   "metadata": {},
   "outputs": [],
   "source": [
    "g['c'] = np.sqrt(g['x']) * np.sqrt(g['y'])"
   ]
  },
  {
   "cell_type": "code",
   "execution_count": null,
   "metadata": {},
   "outputs": [],
   "source": [
    "g.plot('c', cbar=True)"
   ]
  },
  {
   "cell_type": "code",
   "execution_count": null,
   "metadata": {},
   "outputs": [],
   "source": [
    "g['m'] = np.arange(g.grid.size * 3).reshape(g.shape + (-1,))"
   ]
  },
  {
   "cell_type": "code",
   "execution_count": null,
   "metadata": {},
   "outputs": [],
   "source": [
    "g.plot('m') #it's interpreted as an RGB image, since the excess dimension is 3"
   ]
  },
  {
   "cell_type": "code",
   "execution_count": null,
   "metadata": {},
   "outputs": [],
   "source": [
    "g['m'][:,:,0]"
   ]
  },
  {
   "cell_type": "code",
   "execution_count": null,
   "metadata": {},
   "outputs": [],
   "source": [
    "g[:,3]"
   ]
  },
  {
   "cell_type": "code",
   "execution_count": null,
   "metadata": {},
   "outputs": [],
   "source": [
    "g['m']"
   ]
  },
  {
   "cell_type": "code",
   "execution_count": null,
   "metadata": {},
   "outputs": [],
   "source": [
    "g.T[:,3:5]['m']"
   ]
  },
  {
   "cell_type": "code",
   "execution_count": null,
   "metadata": {},
   "outputs": [],
   "source": [
    "np.sum(g)"
   ]
  },
  {
   "cell_type": "code",
   "execution_count": null,
   "metadata": {},
   "outputs": [],
   "source": [
    "np.sum(g, axis=(0))"
   ]
  },
  {
   "cell_type": "markdown",
   "metadata": {},
   "source": [
    "# Stuff to fix"
   ]
  },
  {
   "cell_type": "code",
   "execution_count": null,
   "metadata": {},
   "outputs": [],
   "source": [
    "np.sum(g['m'], axis=(0,1))"
   ]
  },
  {
   "cell_type": "code",
   "execution_count": null,
   "metadata": {},
   "outputs": [],
   "source": [
    "# because of this\n",
    "np.sum(g['m'], axis=-1).grid"
   ]
  },
  {
   "cell_type": "code",
   "execution_count": null,
   "metadata": {},
   "outputs": [],
   "source": [
    "np.sum(g['m'], axis=-1)"
   ]
  },
  {
   "cell_type": "code",
   "execution_count": null,
   "metadata": {},
   "outputs": [],
   "source": []
  },
  {
   "cell_type": "code",
   "execution_count": null,
   "metadata": {},
   "outputs": [],
   "source": [
    "1 - 3 * g['a']"
   ]
  },
  {
   "cell_type": "code",
   "execution_count": null,
   "metadata": {},
   "outputs": [],
   "source": [
    "2 ** g['a']"
   ]
  },
  {
   "cell_type": "code",
   "execution_count": null,
   "metadata": {},
   "outputs": [],
   "source": [
    "g['a']"
   ]
  },
  {
   "cell_type": "code",
   "execution_count": null,
   "metadata": {},
   "outputs": [],
   "source": []
  },
  {
   "cell_type": "code",
   "execution_count": null,
   "metadata": {},
   "outputs": [],
   "source": [
    "g['a']"
   ]
  },
  {
   "cell_type": "code",
   "execution_count": null,
   "metadata": {},
   "outputs": [],
   "source": [
    "a = g['a']"
   ]
  },
  {
   "cell_type": "code",
   "execution_count": null,
   "metadata": {},
   "outputs": [],
   "source": [
    "a.T"
   ]
  },
  {
   "cell_type": "code",
   "execution_count": null,
   "metadata": {},
   "outputs": [],
   "source": [
    "np.mean(a, axis='x')"
   ]
  },
  {
   "cell_type": "code",
   "execution_count": null,
   "metadata": {},
   "outputs": [],
   "source": [
    "a"
   ]
  },
  {
   "cell_type": "code",
   "execution_count": null,
   "metadata": {},
   "outputs": [],
   "source": [
    "from scipy import ndimage"
   ]
  },
  {
   "cell_type": "code",
   "execution_count": null,
   "metadata": {},
   "outputs": [],
   "source": [
    "ndimage.gaussian_filter(a, sigma=1)"
   ]
  },
  {
   "cell_type": "code",
   "execution_count": null,
   "metadata": {},
   "outputs": [],
   "source": [
    "np.median(a)"
   ]
  },
  {
   "cell_type": "code",
   "execution_count": null,
   "metadata": {},
   "outputs": [],
   "source": [
    "np.cumsum(a)"
   ]
  },
  {
   "cell_type": "code",
   "execution_count": null,
   "metadata": {},
   "outputs": [],
   "source": [
    "a.dtype"
   ]
  },
  {
   "cell_type": "code",
   "execution_count": null,
   "metadata": {},
   "outputs": [],
   "source": [
    "np.sin(a)"
   ]
  },
  {
   "cell_type": "code",
   "execution_count": null,
   "metadata": {},
   "outputs": [],
   "source": [
    "np.dot(a,a.T)"
   ]
  },
  {
   "cell_type": "code",
   "execution_count": null,
   "metadata": {},
   "outputs": [],
   "source": [
    "b = a.values"
   ]
  },
  {
   "cell_type": "code",
   "execution_count": null,
   "metadata": {},
   "outputs": [],
   "source": [
    "np.dot(b,b.T)"
   ]
  },
  {
   "cell_type": "code",
   "execution_count": 19,
   "metadata": {},
   "outputs": [],
   "source": [
    "l = range(3)"
   ]
  },
  {
   "cell_type": "code",
   "execution_count": 20,
   "metadata": {},
   "outputs": [
    {
     "ename": "AttributeError",
     "evalue": "'range' object has no attribute 'next'",
     "output_type": "error",
     "traceback": [
      "\u001b[0;31m---------------------------------------------------------------------------\u001b[0m",
      "\u001b[0;31mAttributeError\u001b[0m                            Traceback (most recent call last)",
      "\u001b[0;32m<ipython-input-20-25aaa3b3a26b>\u001b[0m in \u001b[0;36m<module>\u001b[0;34m\u001b[0m\n\u001b[0;32m----> 1\u001b[0;31m \u001b[0ml\u001b[0m\u001b[0;34m.\u001b[0m\u001b[0mnext\u001b[0m\u001b[0;34m(\u001b[0m\u001b[0;34m)\u001b[0m\u001b[0;34m\u001b[0m\u001b[0;34m\u001b[0m\u001b[0m\n\u001b[0m",
      "\u001b[0;31mAttributeError\u001b[0m: 'range' object has no attribute 'next'"
     ]
    }
   ],
   "source": [
    "l.next()"
   ]
  },
  {
   "cell_type": "code",
   "execution_count": null,
   "metadata": {},
   "outputs": [],
   "source": []
  }
 ],
 "metadata": {
  "kernelspec": {
   "display_name": "Python 3",
   "language": "python",
   "name": "python3"
  },
  "language_info": {
   "codemirror_mode": {
    "name": "ipython",
    "version": 3
   },
   "file_extension": ".py",
   "mimetype": "text/x-python",
   "name": "python",
   "nbconvert_exporter": "python",
   "pygments_lexer": "ipython3",
   "version": "3.7.3"
  }
 },
 "nbformat": 4,
 "nbformat_minor": 4
}
