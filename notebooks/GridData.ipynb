{
 "cells": [
  {
   "cell_type": "code",
   "execution_count": 1,
   "metadata": {},
   "outputs": [],
   "source": [
    "%reload_ext autoreload\n",
    "%autoreload 2\n",
    "import numpy as np\n",
    "import pynocular as pn\n",
    "from matplotlib import pyplot as plt\n",
    "from uncertainties import unumpy"
   ]
  },
  {
   "cell_type": "code",
   "execution_count": 2,
   "metadata": {},
   "outputs": [],
   "source": [
    "p = pn.PointData()#x='aaa') #x=np.arange(200).reshape(20, 1, -1))"
   ]
  },
  {
   "cell_type": "code",
   "execution_count": 3,
   "metadata": {},
   "outputs": [
    {
     "data": {
      "text/plain": [
       "array([3])"
      ]
     },
     "execution_count": 3,
     "metadata": {},
     "output_type": "execute_result"
    }
   ],
   "source": [
    "np.asanyarray(3)[np.newaxis]"
   ]
  },
  {
   "cell_type": "code",
   "execution_count": 4,
   "metadata": {},
   "outputs": [],
   "source": [
    "p['a'] = np.arange(33)\n",
    "p['b'] = np.zeros(p.array_shape)"
   ]
  },
  {
   "cell_type": "code",
   "execution_count": 5,
   "metadata": {},
   "outputs": [
    {
     "data": {
      "text/plain": [
       "pynocular.pointarray.PointArray"
      ]
     },
     "execution_count": 5,
     "metadata": {},
     "output_type": "execute_result"
    }
   ],
   "source": [
    "pn.PointArray"
   ]
  },
  {
   "cell_type": "code",
   "execution_count": 6,
   "metadata": {},
   "outputs": [
    {
     "data": {
      "text/html": [
       "<table>\n",
       "<tbody>\n",
       "<tr><td style=\"text-align: right;\">1</td><td style=\"text-align: right;\">0.54</td><td style=\"text-align: right;\">-0.416</td><td style=\"text-align: right;\">-0.99</td><td style=\"text-align: right;\">-0.654</td><td style=\"text-align: right;\">0.284</td><td>...</td><td style=\"text-align: right;\">-0.292</td><td style=\"text-align: right;\">-0.963</td><td style=\"text-align: right;\">-0.748</td><td style=\"text-align: right;\">0.154</td><td style=\"text-align: right;\">0.915</td><td style=\"text-align: right;\">0.834</td></tr>\n",
       "</tbody>\n",
       "</table>"
      ],
      "text/plain": [
       "PointArray([ 1.        ,  0.54030231, -0.41614684, -0.9899925 ,\n",
       "            -0.65364362,  0.28366219,  0.96017029,  0.75390225,\n",
       "            -0.14550003, -0.91113026, -0.83907153,  0.0044257 ,\n",
       "             0.84385396,  0.90744678,  0.13673722, -0.75968791,\n",
       "            -0.95765948, -0.27516334,  0.66031671,  0.98870462,\n",
       "             0.40808206, -0.54772926, -0.99996083, -0.53283302,\n",
       "             0.42417901,  0.99120281,  0.64691932, -0.29213881,\n",
       "            -0.96260587, -0.74805753,  0.15425145,  0.91474236,\n",
       "             0.83422336])"
      ]
     },
     "execution_count": 6,
     "metadata": {},
     "output_type": "execute_result"
    }
   ],
   "source": [
    "np.cos(p['a'])"
   ]
  },
  {
   "cell_type": "code",
   "execution_count": 7,
   "metadata": {},
   "outputs": [],
   "source": [
    "g2d = pn.Grid(x=np.arange(10), y=np.arange(20))"
   ]
  },
  {
   "cell_type": "code",
   "execution_count": 8,
   "metadata": {},
   "outputs": [],
   "source": [
    "b = pn.GridArray(np.random.rand(g2d.size).reshape(g2d.shape), grid=g2d)"
   ]
  },
  {
   "cell_type": "code",
   "execution_count": 9,
   "metadata": {},
   "outputs": [],
   "source": [
    "f = np.sum(np.cos(b) -1.2 / b, axis='y')"
   ]
  },
  {
   "cell_type": "code",
   "execution_count": 10,
   "metadata": {},
   "outputs": [],
   "source": [
    "f[f>-50] *= 33"
   ]
  },
  {
   "cell_type": "code",
   "execution_count": 11,
   "metadata": {},
   "outputs": [],
   "source": [
    "f[0:2] *= 0"
   ]
  },
  {
   "cell_type": "code",
   "execution_count": 12,
   "metadata": {},
   "outputs": [],
   "source": [
    "a = pn.GridArray(np.arange(10), 'x')"
   ]
  },
  {
   "cell_type": "code",
   "execution_count": 13,
   "metadata": {},
   "outputs": [],
   "source": [
    "a[[2,7]] *= 0"
   ]
  },
  {
   "cell_type": "code",
   "execution_count": 14,
   "metadata": {},
   "outputs": [
    {
     "data": {
      "text/html": [
       "<table>\n",
       "<tbody>\n",
       "<tr><td><b>x</b></td><td style=\"text-align: right;\"> </td><td style=\"text-align: right;\"> </td><td style=\"text-align: right;\"> </td><td style=\"text-align: right;\"> </td><td style=\"text-align: right;\"> </td><td style=\"text-align: right;\"> </td><td style=\"text-align: right;\"> </td><td style=\"text-align: right;\"> </td><td style=\"text-align: right;\"> </td><td style=\"text-align: right;\"> </td></tr>\n",
       "<tr><td><b></b> </td><td style=\"text-align: right;\">0</td><td style=\"text-align: right;\">1</td><td style=\"text-align: right;\">2</td><td style=\"text-align: right;\">3</td><td style=\"text-align: right;\">4</td><td style=\"text-align: right;\">5</td><td style=\"text-align: right;\">6</td><td style=\"text-align: right;\">7</td><td style=\"text-align: right;\">8</td><td style=\"text-align: right;\">9</td></tr>\n",
       "</tbody>\n",
       "</table>"
      ],
      "text/plain": [
       "GridArray(noname : [0 1 2 3 4 5 6 7 8 9])"
      ]
     },
     "execution_count": 14,
     "metadata": {},
     "output_type": "execute_result"
    }
   ],
   "source": [
    "a"
   ]
  },
  {
   "cell_type": "code",
   "execution_count": 15,
   "metadata": {},
   "outputs": [],
   "source": [
    "f[3] *= 4"
   ]
  },
  {
   "cell_type": "code",
   "execution_count": 16,
   "metadata": {},
   "outputs": [],
   "source": [
    "f[3] = np.nan"
   ]
  },
  {
   "cell_type": "code",
   "execution_count": 17,
   "metadata": {},
   "outputs": [
    {
     "data": {
      "text/html": [
       "<table>\n",
       "<tbody>\n",
       "<tr><td><b>x</b></td><td><b>0</b></td><td><b>1</b></td><td><b>2</b></td><td><b>3</b></td><td><b>4</b></td><td><b>5</b></td><td><b>6</b></td><td><b>7</b></td><td><b>8</b></td><td><b>9</b></td></tr>\n",
       "<tr><td><b></b> </td><td>-0      </td><td>-0      </td><td>-95.4   </td><td>nan     </td><td>-60.4   </td><td>-111    </td><td>-85.8   </td><td>-90.3   </td><td>-121    </td><td>-56.2   </td></tr>\n",
       "</tbody>\n",
       "</table>"
      ],
      "text/plain": [
       "GridArray(noname : [-0.0 -0.0 -95.4200274278143 nan -60.35395773622936 -110.80336389872878\n",
       " -85.83434449560374 -90.28622042447877 -120.8920857872039\n",
       " -56.159477391547284])"
      ]
     },
     "execution_count": 17,
     "metadata": {},
     "output_type": "execute_result"
    }
   ],
   "source": [
    "f"
   ]
  },
  {
   "cell_type": "code",
   "execution_count": 18,
   "metadata": {},
   "outputs": [
    {
     "data": {
      "text/plain": [
       "[<matplotlib.lines.Line2D at 0x7f5dcae38748>]"
      ]
     },
     "execution_count": 18,
     "metadata": {},
     "output_type": "execute_result"
    },
    {
     "data": {
      "image/png": "[encoded data removed]",
      "text/plain": [
       "<Figure size 432x288 with 1 Axes>"
      ]
     },
     "metadata": {
      "needs_background": "light"
     },
     "output_type": "display_data"
    }
   ],
   "source": [
    "f.plot()"
   ]
  },
  {
   "cell_type": "code",
   "execution_count": 19,
   "metadata": {},
   "outputs": [
    {
     "data": {
      "text/html": [
       "<table>\n",
       "<tbody>\n",
       "<tr><td><b>x</b></td><td><b>0</b></td><td><b>1</b></td><td><b>2</b></td><td><b>3</b></td><td><b>4</b></td><td><b>5</b></td><td><b>6</b></td><td><b>7</b></td><td><b>8</b></td><td><b>9</b></td></tr>\n",
       "<tr><td><b></b> </td><td>-0      </td><td>-0      </td><td>-95.4   </td><td>--      </td><td>-60.4   </td><td>-111    </td><td>-85.8   </td><td>-90.3   </td><td>-121    </td><td>-56.2   </td></tr>\n",
       "</tbody>\n",
       "</table>"
      ],
      "text/plain": [
       "GridArray(noname : [-0.0 -0.0 -95.4200274278143 -- -60.35395773622936 -110.80336389872878\n",
       " -85.83434449560374 -90.28622042447877 -120.8920857872039\n",
       " -56.159477391547284])"
      ]
     },
     "execution_count": 19,
     "metadata": {},
     "output_type": "execute_result"
    }
   ],
   "source": [
    "f[f>-500]"
   ]
  },
  {
   "cell_type": "code",
   "execution_count": 20,
   "metadata": {},
   "outputs": [
    {
     "data": {
      "text/plain": [
       "array([  -0.        ,   -0.        ,  -95.42002743,  -95.42002743,\n",
       "       -155.77398516, -266.57734906, -352.41169356, -442.69791398,\n",
       "       -563.58999977, -619.74947716])"
      ]
     },
     "execution_count": 20,
     "metadata": {},
     "output_type": "execute_result"
    }
   ],
   "source": [
    "np.cumsum(f, axis='x')"
   ]
  },
  {
   "cell_type": "code",
   "execution_count": 21,
   "metadata": {},
   "outputs": [
    {
     "data": {
      "text/html": [
       "<table>\n",
       "<tbody>\n",
       "<tr><td><b>x</b></td><td><b>0</b></td><td><b>1</b></td><td><b>2</b></td><td><b>3</b></td><td><b>4</b></td><td><b>5</b></td><td><b>6</b></td><td><b>7</b></td><td><b>8</b></td><td><b>9</b></td></tr>\n",
       "<tr><td><b></b> </td><td>-0      </td><td>-0      </td><td>-95.4   </td><td>--      </td><td>-60.4   </td><td>-111    </td><td>-85.8   </td><td>-90.3   </td><td>-121    </td><td>-56.2   </td></tr>\n",
       "</tbody>\n",
       "</table>"
      ],
      "text/plain": [
       "GridArray(noname : [-0.0 -0.0 -95.4200274278143 -- -60.35395773622936 -110.80336389872878\n",
       " -85.83434449560374 -90.28622042447877 -120.8920857872039\n",
       " -56.159477391547284])"
      ]
     },
     "execution_count": 21,
     "metadata": {},
     "output_type": "execute_result"
    }
   ],
   "source": [
    "f"
   ]
  },
  {
   "cell_type": "code",
   "execution_count": 22,
   "metadata": {},
   "outputs": [],
   "source": [
    "a = unumpy.uarray(np.arange(10), np.ones(10))"
   ]
  },
  {
   "cell_type": "code",
   "execution_count": 23,
   "metadata": {},
   "outputs": [],
   "source": [
    "a = np.arange(10)"
   ]
  },
  {
   "cell_type": "code",
   "execution_count": 24,
   "metadata": {},
   "outputs": [],
   "source": [
    "g = pn.Grid(x=np.arange(10))"
   ]
  },
  {
   "cell_type": "code",
   "execution_count": 25,
   "metadata": {},
   "outputs": [],
   "source": [
    "u = pn.GridArray(a, grid=g)"
   ]
  },
  {
   "cell_type": "code",
   "execution_count": 26,
   "metadata": {},
   "outputs": [
    {
     "data": {
      "text/plain": [
       "Grid(\n",
       "Axis(\"x\",\n",
       "points = array([0, 1, 2, 3, 4, 5, 6, 7, 8, 9]),\n",
       "edges = edges: None)\n",
       "nbins = 10),)"
      ]
     },
     "execution_count": 26,
     "metadata": {},
     "output_type": "execute_result"
    }
   ],
   "source": [
    "u.grid"
   ]
  },
  {
   "cell_type": "code",
   "execution_count": 27,
   "metadata": {},
   "outputs": [
    {
     "data": {
      "text/plain": [
       "9"
      ]
     },
     "execution_count": 27,
     "metadata": {},
     "output_type": "execute_result"
    }
   ],
   "source": [
    "np.max(u)"
   ]
  },
  {
   "cell_type": "code",
   "execution_count": 28,
   "metadata": {},
   "outputs": [
    {
     "data": {
      "text/plain": [
       "4607182418800017408"
      ]
     },
     "execution_count": 28,
     "metadata": {},
     "output_type": "execute_result"
    }
   ],
   "source": [
    "np.amax(np.empty_like(u))"
   ]
  },
  {
   "cell_type": "code",
   "execution_count": 29,
   "metadata": {},
   "outputs": [
    {
     "data": {
      "text/html": [
       "<table>\n",
       "<tbody>\n",
       "<tr><td><b>x</b></td><td><b>0</b></td><td><b>1</b></td><td><b>2</b></td><td><b>3</b></td><td><b>4</b></td><td><b>5</b></td><td><b>6</b></td><td><b>7</b></td><td><b>8</b></td><td><b>9</b></td></tr>\n",
       "<tr><td><b></b> </td><td>0       </td><td>1       </td><td>2       </td><td>3       </td><td>4       </td><td>5       </td><td>6       </td><td>7       </td><td>8       </td><td>9       </td></tr>\n",
       "</tbody>\n",
       "</table>"
      ],
      "text/plain": [
       "GridArray(noname : [0 1 2 3 4 5 6 7 8 9])"
      ]
     },
     "execution_count": 29,
     "metadata": {},
     "output_type": "execute_result"
    }
   ],
   "source": [
    "u.T"
   ]
  },
  {
   "cell_type": "code",
   "execution_count": 30,
   "metadata": {},
   "outputs": [
    {
     "data": {
      "text/html": [
       "<table>\n",
       "<tbody>\n",
       "<tr><td><b>x</b></td><td><b>0</b></td><td><b>1</b></td><td><b>2</b></td><td><b>3</b></td><td><b>4</b></td><td><b>5</b></td><td><b>6</b></td><td><b>7</b></td><td><b>8</b></td><td><b>9</b></td></tr>\n",
       "<tr><td><b></b> </td><td>1       </td><td>0.54    </td><td>-0.416  </td><td>-0.99   </td><td>-0.654  </td><td>0.284   </td><td>0.96    </td><td>0.754   </td><td>-0.146  </td><td>-0.911  </td></tr>\n",
       "</tbody>\n",
       "</table>"
      ],
      "text/plain": [
       "GridArray(noname : [1.0 0.5403023058681398 -0.4161468365471424 -0.9899924966004454\n",
       " -0.6536436208636119 0.28366218546322625 0.960170286650366\n",
       " 0.7539022543433046 -0.14550003380861354 -0.9111302618846769])"
      ]
     },
     "execution_count": 30,
     "metadata": {},
     "output_type": "execute_result"
    }
   ],
   "source": [
    "unumpy.cos(u)"
   ]
  },
  {
   "cell_type": "code",
   "execution_count": 31,
   "metadata": {},
   "outputs": [
    {
     "data": {
      "text/html": [
       "<table>\n",
       "<tbody>\n",
       "<tr><td><b>x</b></td><td><b>0</b></td><td><b>1</b></td><td><b>2</b></td><td><b>3</b></td><td><b>4</b></td><td><b>5</b></td><td><b>6</b></td><td><b>7</b></td><td><b>8</b></td><td><b>9</b></td></tr>\n",
       "<tr><td><b></b> </td><td>1       </td><td>1       </td><td>1       </td><td>1       </td><td>1       </td><td>1       </td><td>1       </td><td>1       </td><td>1       </td><td>1       </td></tr>\n",
       "</tbody>\n",
       "</table>"
      ],
      "text/plain": [
       "GridArray(noname : [1 1 1 1 1 1 1 1 1 1])"
      ]
     },
     "execution_count": 31,
     "metadata": {},
     "output_type": "execute_result"
    }
   ],
   "source": [
    "np.ones_like(u)"
   ]
  },
  {
   "cell_type": "code",
   "execution_count": 32,
   "metadata": {},
   "outputs": [
    {
     "data": {
      "text/html": [
       "<table>\n",
       "<tbody>\n",
       "<tr><td><b>x</b></td><td><b>0</b></td><td><b>1</b></td><td><b>2</b></td><td><b>3</b></td><td><b>4</b></td><td><b>5</b></td><td><b>6</b></td><td><b>7</b></td><td><b>8</b></td><td><b>9</b></td></tr>\n",
       "<tr><td><b></b> </td><td>0       </td><td>1       </td><td>1.41    </td><td>1.73    </td><td>2       </td><td>2.24    </td><td>2.45    </td><td>2.65    </td><td>2.83    </td><td>3       </td></tr>\n",
       "</tbody>\n",
       "</table>"
      ],
      "text/plain": [
       "GridArray(noname : [0.0 1.0 1.4142135623730951 1.7320508075688772 2.0 2.23606797749979\n",
       " 2.449489742783178 2.6457513110645907 2.8284271247461903 3.0])"
      ]
     },
     "execution_count": 32,
     "metadata": {},
     "output_type": "execute_result"
    }
   ],
   "source": [
    "np.sqrt(u)"
   ]
  },
  {
   "cell_type": "code",
   "execution_count": 33,
   "metadata": {},
   "outputs": [
    {
     "data": {
      "text/plain": [
       "array([10.        , 10.        ,  5.        ,  3.33333333,  2.5       ,\n",
       "        2.        ,  1.66666667,  1.42857143,  1.25      ,  1.11111111])"
      ]
     },
     "execution_count": 33,
     "metadata": {},
     "output_type": "execute_result"
    }
   ],
   "source": [
    "np.asarray(10 / u)"
   ]
  },
  {
   "cell_type": "code",
   "execution_count": 34,
   "metadata": {},
   "outputs": [
    {
     "data": {
      "text/html": [
       "<table>\n",
       "<tbody>\n",
       "<tr><td><b>x</b></td><td><b>0</b></td><td><b>1</b></td><td><b>2</b></td><td><b>3</b></td><td><b>4</b></td><td><b>5</b></td><td><b>6</b></td><td><b>7</b></td><td><b>8</b></td><td><b>9</b></td></tr>\n",
       "<tr><td><b></b> </td><td>0       </td><td>1       </td><td>2       </td><td>3       </td><td>4       </td><td>5       </td><td>6       </td><td>7       </td><td>8       </td><td>9       </td></tr>\n",
       "</tbody>\n",
       "</table>"
      ],
      "text/plain": [
       "GridArray(noname : [0 1 2 3 4 5 6 7 8 9])"
      ]
     },
     "execution_count": 34,
     "metadata": {},
     "output_type": "execute_result"
    }
   ],
   "source": [
    "u"
   ]
  },
  {
   "cell_type": "code",
   "execution_count": 35,
   "metadata": {},
   "outputs": [
    {
     "data": {
      "text/html": [
       "<table>\n",
       "<tbody>\n",
       "<tr><td><b>x</b></td><td><b>0</b></td><td><b>1</b></td><td><b>2</b></td><td><b>3</b></td><td><b>4</b></td><td><b>5</b></td><td><b>6</b></td><td><b>7</b></td><td><b>8</b></td><td><b>9</b></td></tr>\n",
       "<tr><td><b></b> </td><td>--      </td><td>--      </td><td>--      </td><td>1.73    </td><td>2       </td><td>2.24    </td><td>2.45    </td><td>2.65    </td><td>2.83    </td><td>3       </td></tr>\n",
       "</tbody>\n",
       "</table>"
      ],
      "text/plain": [
       "GridArray(noname : [-- -- -- 1.7320508075688772 2.0 2.23606797749979 2.449489742783178\n",
       " 2.6457513110645907 2.8284271247461903 3.0])"
      ]
     },
     "execution_count": 35,
     "metadata": {},
     "output_type": "execute_result"
    }
   ],
   "source": [
    "np.sqrt(u[u>2])"
   ]
  },
  {
   "cell_type": "code",
   "execution_count": 36,
   "metadata": {},
   "outputs": [
    {
     "data": {
      "text/html": [
       "<table>\n",
       "<tbody>\n",
       "<tr><td><b>x</b></td><td><b>0</b></td><td><b>1</b></td><td><b>2</b></td></tr>\n",
       "<tr><td><b></b> </td><td>0       </td><td>1       </td><td>2       </td></tr>\n",
       "</tbody>\n",
       "</table>"
      ],
      "text/plain": [
       "GridArray(noname : [0 1 2])"
      ]
     },
     "execution_count": 36,
     "metadata": {},
     "output_type": "execute_result"
    }
   ],
   "source": [
    "u[0:3]"
   ]
  },
  {
   "cell_type": "code",
   "execution_count": 37,
   "metadata": {},
   "outputs": [],
   "source": [
    "g = pn.GridData(x=np.arange(20), y=np.arange(5))\n",
    "#g = pn.GridData(y=np.arange(5))"
   ]
  },
  {
   "cell_type": "code",
   "execution_count": 38,
   "metadata": {},
   "outputs": [],
   "source": [
    "g.grid['x'].edges = pn.edges(points=g.grid['x'].points)"
   ]
  },
  {
   "cell_type": "code",
   "execution_count": 39,
   "metadata": {},
   "outputs": [],
   "source": [
    "e = pn.edges(points=np.arange(11))"
   ]
  },
  {
   "cell_type": "code",
   "execution_count": 40,
   "metadata": {},
   "outputs": [
    {
     "data": {
      "text/plain": [
       "-0.5"
      ]
     },
     "execution_count": 40,
     "metadata": {},
     "output_type": "execute_result"
    }
   ],
   "source": [
    "e[0,0]"
   ]
  },
  {
   "cell_type": "code",
   "execution_count": 41,
   "metadata": {},
   "outputs": [],
   "source": [
    "a = pn.GridArray(np.random.rand(g.grid.size).reshape(g.shape), grid=g.grid)"
   ]
  },
  {
   "cell_type": "code",
   "execution_count": 42,
   "metadata": {},
   "outputs": [
    {
     "data": {
      "text/plain": [
       "[<matplotlib.lines.Line2D at 0x7f5dcad80940>]"
      ]
     },
     "execution_count": 42,
     "metadata": {},
     "output_type": "execute_result"
    },
    {
     "data": {
      "image/png": "[encoded data removed]",
      "text/plain": [
       "<Figure size 432x288 with 1 Axes>"
      ]
     },
     "metadata": {
      "needs_background": "light"
     },
     "output_type": "display_data"
    }
   ],
   "source": [
    "a[a>0.2][:,0].plot()"
   ]
  },
  {
   "cell_type": "code",
   "execution_count": 43,
   "metadata": {},
   "outputs": [
    {
     "data": {
      "text/plain": [
       "[<matplotlib.lines.Line2D at 0x7f5dcacedb38>]"
      ]
     },
     "execution_count": 43,
     "metadata": {},
     "output_type": "execute_result"
    },
    {
     "data": {
      "image/png": "[encoded data removed]",
      "text/plain": [
       "<Figure size 432x288 with 1 Axes>"
      ]
     },
     "metadata": {
      "needs_background": "light"
     },
     "output_type": "display_data"
    }
   ],
   "source": [
    "a[1].plot()"
   ]
  },
  {
   "cell_type": "code",
   "execution_count": 44,
   "metadata": {},
   "outputs": [
    {
     "data": {
      "text/plain": [
       "[<matplotlib.lines.Line2D at 0x7f5dcaccc5f8>]"
      ]
     },
     "execution_count": 44,
     "metadata": {},
     "output_type": "execute_result"
    },
    {
     "data": {
      "image/png": "[encoded data removed]",
      "text/plain": [
       "<Figure size 432x288 with 1 Axes>"
      ]
     },
     "metadata": {
      "needs_background": "light"
     },
     "output_type": "display_data"
    }
   ],
   "source": [
    "a[a>0.2][2].plot()"
   ]
  },
  {
   "cell_type": "code",
   "execution_count": 45,
   "metadata": {},
   "outputs": [
    {
     "data": {
      "text/plain": [
       "[<matplotlib.lines.Line2D at 0x7f5dcac3c048>]"
      ]
     },
     "execution_count": 45,
     "metadata": {},
     "output_type": "execute_result"
    },
    {
     "data": {
      "image/png": "[encoded data removed]",
      "text/plain": [
       "<Figure size 432x288 with 1 Axes>"
      ]
     },
     "metadata": {
      "needs_background": "light"
     },
     "output_type": "display_data"
    }
   ],
   "source": [
    "np.ma.masked_where(a>0.5, a)[:,0].plot()"
   ]
  },
  {
   "cell_type": "code",
   "execution_count": 46,
   "metadata": {},
   "outputs": [
    {
     "data": {
      "text/html": [
       "<table>\n",
       "<tbody>\n",
       "<tr><td><b>y \\ x</b></td><td><b>[-0.5 | 0 | 0.5]</b></td><td><b>[0.5 | 1 | 1.5]</b></td><td><b>[1.5 | 2 | 2.5]</b></td><td><b>[2.5 | 3 | 3.5]</b></td><td><b>[3.5 | 4 | 4.5]</b></td><td><b>[4.5 | 5 | 5.5]</b></td><td>...</td><td><b>[13.5 | 14 | 14.5]</b></td><td><b>[14.5 | 15 | 15.5]</b></td><td><b>[15.5 | 16 | 16.5]</b></td><td><b>[16.5 | 17 | 17.5]</b></td><td><b>[17.5 | 18 | 18.5]</b></td><td><b>[18.5 | 19 | 19.5]</b></td></tr>\n",
       "<tr><td><b>0</b>    </td><td>0                      </td><td>0                     </td><td>0                     </td><td>0                     </td><td>0                     </td><td>0                     </td><td>...</td><td>0                        </td><td>0                        </td><td>0                        </td><td>0                        </td><td>0                        </td><td>0                        </td></tr>\n",
       "<tr><td><b>1</b>    </td><td>0                      </td><td>0                     </td><td>0                     </td><td>0                     </td><td>0                     </td><td>0                     </td><td>...</td><td>0                        </td><td>0                        </td><td>0                        </td><td>0                        </td><td>0                        </td><td>0                        </td></tr>\n",
       "<tr><td><b>2</b>    </td><td>0                      </td><td>0                     </td><td>0                     </td><td>0                     </td><td>0                     </td><td>0                     </td><td>...</td><td>0                        </td><td>0                        </td><td>0                        </td><td>0                        </td><td>0                        </td><td>0                        </td></tr>\n",
       "<tr><td><b>3</b>    </td><td>0                      </td><td>0                     </td><td>0                     </td><td>0                     </td><td>0                     </td><td>0                     </td><td>...</td><td>0                        </td><td>0                        </td><td>0                        </td><td>0                        </td><td>0                        </td><td>0                        </td></tr>\n",
       "<tr><td><b>4</b>    </td><td>0                      </td><td>0                     </td><td>0                     </td><td>0                     </td><td>0                     </td><td>0                     </td><td>...</td><td>0                        </td><td>0                        </td><td>0                        </td><td>0                        </td><td>0                        </td><td>0                        </td></tr>\n",
       "</tbody>\n",
       "</table>"
      ],
      "text/plain": [
       "GridArray(noname : [[0 0 0 0 0]\n",
       " [0 0 0 0 0]\n",
       " [0 0 0 0 0]\n",
       " [0 0 0 0 0]\n",
       " [0 0 0 0 0]\n",
       " [0 0 0 0 0]\n",
       " [0 0 0 0 0]\n",
       " [0 0 0 0 0]\n",
       " [0 0 0 0 0]\n",
       " [0 0 0 0 0]\n",
       " [0 0 0 0 0]\n",
       " [0 0 0 0 0]\n",
       " [0 0 0 0 0]\n",
       " [0 0 0 0 0]\n",
       " [0 0 0 0 0]\n",
       " [0 0 0 0 0]\n",
       " [0 0 0 0 0]\n",
       " [0 0 0 0 0]\n",
       " [0 0 0 0 0]\n",
       " [0 0 0 0 0]])"
      ]
     },
     "execution_count": 46,
     "metadata": {},
     "output_type": "execute_result"
    }
   ],
   "source": [
    "a.astype(np.int)"
   ]
  },
  {
   "cell_type": "code",
   "execution_count": 47,
   "metadata": {},
   "outputs": [
    {
     "data": {
      "text/html": [
       "<table>\n",
       "<tbody>\n",
       "<tr><td><b>y \\ x</b></td><td><b>[-0.5 | 0 | 0.5]</b></td><td><b>[0.5 | 1 | 1.5]</b></td><td><b>[1.5 | 2 | 2.5]</b></td><td><b>[2.5 | 3 | 3.5]</b></td><td><b>[3.5 | 4 | 4.5]</b></td><td><b>[4.5 | 5 | 5.5]</b></td><td>...</td><td><b>[13.5 | 14 | 14.5]</b></td><td><b>[14.5 | 15 | 15.5]</b></td><td><b>[15.5 | 16 | 16.5]</b></td><td><b>[16.5 | 17 | 17.5]</b></td><td><b>[17.5 | 18 | 18.5]</b></td><td><b>[18.5 | 19 | 19.5]</b></td></tr>\n",
       "<tr><td><b>0</b>    </td><td>1                      </td><td>1                     </td><td>1                     </td><td>1                     </td><td>1                     </td><td>1                     </td><td>...</td><td>1                        </td><td>1                        </td><td>1                        </td><td>1                        </td><td>1                        </td><td>1                        </td></tr>\n",
       "<tr><td><b>1</b>    </td><td>1                      </td><td>1                     </td><td>1                     </td><td>1                     </td><td>1                     </td><td>1                     </td><td>...</td><td>1                        </td><td>1                        </td><td>1                        </td><td>1                        </td><td>1                        </td><td>1                        </td></tr>\n",
       "<tr><td><b>2</b>    </td><td>1                      </td><td>1                     </td><td>1                     </td><td>1                     </td><td>1                     </td><td>1                     </td><td>...</td><td>1                        </td><td>1                        </td><td>1                        </td><td>1                        </td><td>1                        </td><td>1                        </td></tr>\n",
       "<tr><td><b>3</b>    </td><td>1                      </td><td>1                     </td><td>1                     </td><td>1                     </td><td>1                     </td><td>1                     </td><td>...</td><td>1                        </td><td>1                        </td><td>1                        </td><td>1                        </td><td>1                        </td><td>1                        </td></tr>\n",
       "<tr><td><b>4</b>    </td><td>1                      </td><td>1                     </td><td>1                     </td><td>1                     </td><td>1                     </td><td>1                     </td><td>...</td><td>1                        </td><td>1                        </td><td>1                        </td><td>1                        </td><td>1                        </td><td>1                        </td></tr>\n",
       "</tbody>\n",
       "</table>"
      ],
      "text/plain": [
       "GridArray(noname : [[1. 1. 1. 1. 1.]\n",
       " [1. 1. 1. 1. 1.]\n",
       " [1. 1. 1. 1. 1.]\n",
       " [1. 1. 1. 1. 1.]\n",
       " [1. 1. 1. 1. 1.]\n",
       " [1. 1. 1. 1. 1.]\n",
       " [1. 1. 1. 1. 1.]\n",
       " [1. 1. 1. 1. 1.]\n",
       " [1. 1. 1. 1. 1.]\n",
       " [1. 1. 1. 1. 1.]\n",
       " [1. 1. 1. 1. 1.]\n",
       " [1. 1. 1. 1. 1.]\n",
       " [1. 1. 1. 1. 1.]\n",
       " [1. 1. 1. 1. 1.]\n",
       " [1. 1. 1. 1. 1.]\n",
       " [1. 1. 1. 1. 1.]\n",
       " [1. 1. 1. 1. 1.]\n",
       " [1. 1. 1. 1. 1.]\n",
       " [1. 1. 1. 1. 1.]\n",
       " [1. 1. 1. 1. 1.]])"
      ]
     },
     "execution_count": 47,
     "metadata": {},
     "output_type": "execute_result"
    }
   ],
   "source": [
    "np.ones_like(a)"
   ]
  },
  {
   "cell_type": "code",
   "execution_count": 48,
   "metadata": {},
   "outputs": [
    {
     "data": {
      "text/plain": [
       "True"
      ]
     },
     "execution_count": 48,
     "metadata": {},
     "output_type": "execute_result"
    }
   ],
   "source": [
    "np.all(np.abs(-a) == a)"
   ]
  },
  {
   "cell_type": "code",
   "execution_count": 49,
   "metadata": {},
   "outputs": [
    {
     "data": {
      "text/html": [
       "<table>\n",
       "<tbody>\n",
       "<tr><td><b>y \\ x</b></td><td><b>[-0.5 | 0 | 0.5]</b></td><td><b>[0.5 | 1 | 1.5]</b></td><td><b>[1.5 | 2 | 2.5]</b></td><td><b>[2.5 | 3 | 3.5]</b></td><td><b>[3.5 | 4 | 4.5]</b></td><td><b>[4.5 | 5 | 5.5]</b></td><td>...</td><td><b>[13.5 | 14 | 14.5]</b></td><td><b>[14.5 | 15 | 15.5]</b></td><td><b>[15.5 | 16 | 16.5]</b></td><td><b>[16.5 | 17 | 17.5]</b></td><td><b>[17.5 | 18 | 18.5]</b></td><td><b>[18.5 | 19 | 19.5]</b></td></tr>\n",
       "<tr><td><b>0</b>    </td><td>0.189                  </td><td>0.701                 </td><td>0.642                 </td><td>0.0828                </td><td>0.242                 </td><td>0.391                 </td><td>...</td><td>0.432                    </td><td>0.731                    </td><td>0.322                    </td><td>0.137                    </td><td>0.594                    </td><td>0.608                    </td></tr>\n",
       "<tr><td><b>1</b>    </td><td>0.496                  </td><td>0.139                 </td><td>0.998                 </td><td>0.342                 </td><td>0.781                 </td><td>0.889                 </td><td>...</td><td>0.432                    </td><td>0.604                    </td><td>0.298                    </td><td>0.637                    </td><td>0.0191                   </td><td>0.154                    </td></tr>\n",
       "<tr><td><b>2</b>    </td><td>0.0826                 </td><td>0.328                 </td><td>0.285                 </td><td>0.412                 </td><td>0.667                 </td><td>0.489                 </td><td>...</td><td>0.185                    </td><td>0.549                    </td><td>0.273                    </td><td>0.0278                   </td><td>0.744                    </td><td>0.343                    </td></tr>\n",
       "<tr><td><b>3</b>    </td><td>0.528                  </td><td>0.515                 </td><td>0.377                 </td><td>0.963                 </td><td>0.0535                </td><td>0.928                 </td><td>...</td><td>0.778                    </td><td>0.421                    </td><td>0.0716                   </td><td>0.836                    </td><td>0.81                     </td><td>0.094                    </td></tr>\n",
       "<tr><td><b>4</b>    </td><td>0.611                  </td><td>0.608                 </td><td>0.184                 </td><td>0.84                  </td><td>0.422                 </td><td>0.848                 </td><td>...</td><td>0.706                    </td><td>0.455                    </td><td>0.629                    </td><td>0.829                    </td><td>0.374                    </td><td>0.894                    </td></tr>\n",
       "</tbody>\n",
       "</table>"
      ],
      "text/plain": [
       "GridArray(noname : [[0.18924061680204696 0.4957940909281504 0.0826393675902849\n",
       "  0.5279291990377316 0.6112881989592148]\n",
       " [0.7013082827618272 0.13905703940652048 0.327636115011563\n",
       "  0.5151015645035272 0.6075415391243156]\n",
       " [0.641955248009988 0.9977241241850119 0.28526649048841546\n",
       "  0.3766762195036082 0.18365192126331997]\n",
       " [0.08283139883284041 0.341778824866236 0.4123956875903336\n",
       "  0.9627227259777208 0.8395649007402639]\n",
       " [0.2415451164391239 0.7812567135346952 0.6667089749680265\n",
       "  0.053548616116284586 0.42185351639589275]\n",
       " [0.39091765094173336 0.8892439627343209 0.48947705328791236\n",
       "  0.928393165162924 0.848151255002715]\n",
       " [0.10797981583286553 0.641231722006604 0.30361476158003287\n",
       "  0.6541188263438922 0.6561017598134851]\n",
       " [0.8399353851378035 0.6730748681763564 0.532699137423939\n",
       "  0.6376584074167766 0.5519614873627565]\n",
       " [0.3814490191935781 0.7761416695986413 0.4350001821145332\n",
       "  0.9761235644989097 0.5312649255504239]\n",
       " [0.6357365061208167 0.2816540827679632 0.08293930402752236\n",
       "  0.9873923016086 0.6873208327147121]\n",
       " [0.058276166771960125 0.3619687119800543 0.6885067964948356\n",
       "  0.7016891002634262 0.8107739527228478]\n",
       " [0.5275473155832654 0.7372753743670805 0.3463601035263951\n",
       "  0.8270982113715426 0.1345229857105753]\n",
       " [0.47920354592215586 0.6376825722767786 0.9198509939860495\n",
       "  0.43712994697149443 0.6785747714539688]\n",
       " [0.046224171666376046 0.28286936781607486 0.381023180107653\n",
       "  0.6289263316340771 0.5461584567836157]\n",
       " [0.43159611479769144 0.4324635963892586 0.18462677769312563\n",
       "  0.7781368613740126 0.7061978613584914]\n",
       " [0.7309709594226209 0.6040871551196538 0.5485814075189096\n",
       "  0.42091482060685914 0.45530757444487024]\n",
       " [0.321975476895196 0.2982137518774379 0.27291877271945264\n",
       "  0.07158459158251684 0.6291257314934706]\n",
       " [0.13726782799736426 0.6373160223750566 0.02784268731557671\n",
       "  0.8355917040391925 0.8290468453307162]\n",
       " [0.5942433907974823 0.019140284617177872 0.7443402674826425\n",
       "  0.8100038976806125 0.3735558460849332]\n",
       " [0.6080134948463578 0.1536469547878444 0.34267339673183195\n",
       "  0.09395666174177586 0.8944791848113266]])"
      ]
     },
     "execution_count": 49,
     "metadata": {},
     "output_type": "execute_result"
    }
   ],
   "source": [
    "np.abs(-a)"
   ]
  },
  {
   "cell_type": "code",
   "execution_count": 50,
   "metadata": {},
   "outputs": [
    {
     "data": {
      "text/html": [
       "<table>\n",
       "<tbody>\n",
       "<tr><td><b>x</b></td><td><b>[-0.5 | 0 | 0.5]</b></td><td><b>[0.5 | 1 | 1.5]</b></td><td><b>[1.5 | 2 | 2.5]</b></td><td><b>[2.5 | 3 | 3.5]</b></td><td><b>[3.5 | 4 | 4.5]</b></td><td><b>[4.5 | 5 | 5.5]</b></td><td>...</td><td><b>[13.5 | 14 | 14.5]</b></td><td><b>[14.5 | 15 | 15.5]</b></td><td><b>[15.5 | 16 | 16.5]</b></td><td><b>[16.5 | 17 | 17.5]</b></td><td><b>[17.5 | 18 | 18.5]</b></td><td><b>[18.5 | 19 | 19.5]</b></td></tr>\n",
       "<tr><td><b></b> </td><td>1.91                   </td><td>2.29                  </td><td>2.49                  </td><td>2.64                  </td><td>2.16                  </td><td>3.55                  </td><td>...</td><td>2.53                     </td><td>2.76                     </td><td>1.59                     </td><td>2.47                     </td><td>2.54                     </td><td>2.09                     </td></tr>\n",
       "</tbody>\n",
       "</table>"
      ],
      "text/plain": [
       "GridArray(noname : [1.90689147 2.29064454 2.485274   2.63929354 2.16491294 3.54618309\n",
       " 2.36304689 3.23532929 3.09997936 2.67504303 2.62121473 2.57280399\n",
       " 3.15244183 1.88520151 2.53302121 2.75986192 1.59381832 2.46706509\n",
       " 2.54128369 2.09276969])"
      ]
     },
     "execution_count": 50,
     "metadata": {},
     "output_type": "execute_result"
    }
   ],
   "source": [
    "np.sum(a, axis='y')"
   ]
  },
  {
   "cell_type": "code",
   "execution_count": 51,
   "metadata": {},
   "outputs": [
    {
     "data": {
      "text/html": [
       "<table>\n",
       "<tbody>\n",
       "<tr><td><b>y \\ x</b></td><td><b>[-0.5 | 0 | 0.5]</b></td><td><b>[0.5 | 1 | 1.5]</b></td><td><b>[1.5 | 2 | 2.5]</b></td><td><b>[2.5 | 3 | 3.5]</b></td><td><b>[3.5 | 4 | 4.5]</b></td><td><b>[4.5 | 5 | 5.5]</b></td><td>...</td><td><b>[13.5 | 14 | 14.5]</b></td><td><b>[14.5 | 15 | 15.5]</b></td><td><b>[15.5 | 16 | 16.5]</b></td><td><b>[16.5 | 17 | 17.5]</b></td><td><b>[17.5 | 18 | 18.5]</b></td><td><b>[18.5 | 19 | 19.5]</b></td></tr>\n",
       "<tr><td><b>0</b>    </td><td>0.189                  </td><td>0.701                 </td><td>0.642                 </td><td>0.0828                </td><td>0.242                 </td><td>0.391                 </td><td>...</td><td>0.432                    </td><td>0.731                    </td><td>0.322                    </td><td>0.137                    </td><td>0.594                    </td><td>0.608                    </td></tr>\n",
       "<tr><td><b>1</b>    </td><td>0.496                  </td><td>0.139                 </td><td>0.998                 </td><td>0.342                 </td><td>0.781                 </td><td>0.889                 </td><td>...</td><td>0.432                    </td><td>0.604                    </td><td>0.298                    </td><td>0.637                    </td><td>0.0191                   </td><td>0.154                    </td></tr>\n",
       "<tr><td><b>2</b>    </td><td>0.0826                 </td><td>0.328                 </td><td>0.285                 </td><td>0.412                 </td><td>0.667                 </td><td>0.489                 </td><td>...</td><td>0.185                    </td><td>0.549                    </td><td>0.273                    </td><td>0.0278                   </td><td>0.744                    </td><td>0.343                    </td></tr>\n",
       "<tr><td><b>3</b>    </td><td>0.528                  </td><td>0.515                 </td><td>0.377                 </td><td>0.963                 </td><td>0.0535                </td><td>0.928                 </td><td>...</td><td>0.778                    </td><td>0.421                    </td><td>0.0716                   </td><td>0.836                    </td><td>0.81                     </td><td>0.094                    </td></tr>\n",
       "<tr><td><b>4</b>    </td><td>0.611                  </td><td>0.608                 </td><td>0.184                 </td><td>0.84                  </td><td>0.422                 </td><td>0.848                 </td><td>...</td><td>0.706                    </td><td>0.455                    </td><td>0.629                    </td><td>0.829                    </td><td>0.374                    </td><td>0.894                    </td></tr>\n",
       "</tbody>\n",
       "</table>"
      ],
      "text/plain": [
       "GridArray(noname : [[0.18924062 0.49579409 0.08263937 0.5279292  0.6112882 ]\n",
       " [0.70130828 0.13905704 0.32763612 0.51510156 0.60754154]\n",
       " [0.64195525 0.99772412 0.28526649 0.37667622 0.18365192]\n",
       " [0.0828314  0.34177882 0.41239569 0.96272273 0.8395649 ]\n",
       " [0.24154512 0.78125671 0.66670897 0.05354862 0.42185352]\n",
       " [0.39091765 0.88924396 0.48947705 0.92839317 0.84815126]\n",
       " [0.10797982 0.64123172 0.30361476 0.65411883 0.65610176]\n",
       " [0.83993539 0.67307487 0.53269914 0.63765841 0.55196149]\n",
       " [0.38144902 0.77614167 0.43500018 0.97612356 0.53126493]\n",
       " [0.63573651 0.28165408 0.0829393  0.9873923  0.68732083]\n",
       " [0.05827617 0.36196871 0.6885068  0.7016891  0.81077395]\n",
       " [0.52754732 0.73727537 0.3463601  0.82709821 0.13452299]\n",
       " [0.47920355 0.63768257 0.91985099 0.43712995 0.67857477]\n",
       " [0.04622417 0.28286937 0.38102318 0.62892633 0.54615846]\n",
       " [0.43159611 0.4324636  0.18462678 0.77813686 0.70619786]\n",
       " [0.73097096 0.60408716 0.54858141 0.42091482 0.45530757]\n",
       " [0.32197548 0.29821375 0.27291877 0.07158459 0.62912573]\n",
       " [0.13726783 0.63731602 0.02784269 0.8355917  0.82904685]\n",
       " [0.59424339 0.01914028 0.74434027 0.8100039  0.37355585]\n",
       " [0.60801349 0.15364695 0.3426734  0.09395666 0.89447918]])"
      ]
     },
     "execution_count": 51,
     "metadata": {},
     "output_type": "execute_result"
    }
   ],
   "source": [
    "a"
   ]
  },
  {
   "cell_type": "code",
   "execution_count": 52,
   "metadata": {},
   "outputs": [
    {
     "data": {
      "text/html": [
       "<table>\n",
       "<tbody>\n",
       "<tr><td><b>y \\ x</b></td><td><b>[-0.5 | 0 | 0.5]</b></td><td><b>[0.5 | 1 | 1.5]</b></td><td><b>[1.5 | 2 | 2.5]</b></td><td><b>[2.5 | 3 | 3.5]</b></td><td><b>[3.5 | 4 | 4.5]</b></td><td><b>[4.5 | 5 | 5.5]</b></td><td>...</td><td><b>[13.5 | 14 | 14.5]</b></td><td><b>[14.5 | 15 | 15.5]</b></td><td><b>[15.5 | 16 | 16.5]</b></td><td><b>[16.5 | 17 | 17.5]</b></td><td><b>[17.5 | 18 | 18.5]</b></td><td><b>[18.5 | 19 | 19.5]</b></td></tr>\n",
       "<tr><td><b>0</b>    </td><td>0.0822                 </td><td>0.305                 </td><td>0.279                 </td><td>0.036                 </td><td>0.105                 </td><td>0.17                  </td><td>...</td><td>0.187                    </td><td>0.317                    </td><td>0.14                     </td><td>0.0596                   </td><td>0.258                    </td><td>0.264                    </td></tr>\n",
       "<tr><td><b>1</b>    </td><td>0.215                  </td><td>0.0604                </td><td>0.433                 </td><td>0.148                 </td><td>0.339                 </td><td>0.386                 </td><td>...</td><td>0.188                    </td><td>0.262                    </td><td>0.13                     </td><td>0.277                    </td><td>0.00831                  </td><td>0.0667                   </td></tr>\n",
       "<tr><td><b>2</b>    </td><td>0.0359                 </td><td>0.142                 </td><td>0.124                 </td><td>0.179                 </td><td>0.29                  </td><td>0.213                 </td><td>...</td><td>0.0802                   </td><td>0.238                    </td><td>0.119                    </td><td>0.0121                   </td><td>0.323                    </td><td>0.149                    </td></tr>\n",
       "<tr><td><b>3</b>    </td><td>0.229                  </td><td>0.224                 </td><td>0.164                 </td><td>0.418                 </td><td>0.0233                </td><td>0.403                 </td><td>...</td><td>0.338                    </td><td>0.183                    </td><td>0.0311                   </td><td>0.363                    </td><td>0.352                    </td><td>0.0408                   </td></tr>\n",
       "<tr><td><b>4</b>    </td><td>0.265                  </td><td>0.264                 </td><td>0.0798                </td><td>0.365                 </td><td>0.183                 </td><td>0.368                 </td><td>...</td><td>0.307                    </td><td>0.198                    </td><td>0.273                    </td><td>0.36                     </td><td>0.162                    </td><td>0.388                    </td></tr>\n",
       "</tbody>\n",
       "</table>"
      ],
      "text/plain": [
       "GridArray(noname : [[0.08218615562909676 0.2153206378503348 0.03588982133243519\n",
       "  0.22927673797769035 0.2654790916605641]\n",
       " [0.304574317316507 0.06039170488405492 0.14229055682174094\n",
       "  0.22370576708361378 0.2638519379686988]\n",
       " [0.2787976218395713 0.4333060815953054 0.12388966269102533\n",
       "  0.1635884035945951 0.07975901599559038]\n",
       " [0.03597321944143007 0.14843265767078417 0.17910117148117924\n",
       "  0.41810516749498056 0.36461840359114794]\n",
       " [0.10490171120018998 0.3392954796379876 0.2895480288639872\n",
       "  0.023255868492857972 0.1832086543422192]\n",
       " [0.16977337868257633 0.3861937460812965 0.2125771832612043\n",
       "  0.40319602866695214 0.368347409866997]\n",
       " [0.046895038173142896 0.2784833984887881 0.1318582155785797\n",
       "  0.2840801967901838 0.28494137385400925]\n",
       " [0.3647793029206307 0.29231270115675023 0.2313482958978387\n",
       "  0.27693152768032164 0.23971382818475662]\n",
       " [0.16566120416317853 0.33707404428186677 0.1889181787192514\n",
       "  0.4239250777176094 0.230725425595291]\n",
       " [0.27609685655272354 0.12232081395164822 0.03602008207204909\n",
       "  0.42881902806236627 0.2984996449451475]\n",
       " [0.02530901765553589 0.15720101423456506 0.29901470247059225\n",
       "  0.3047397042560636 0.3521146537384208]\n",
       " [0.22911088810068553 0.32019462673077725 0.15042228171295247\n",
       "  0.3592041891907104 0.05842259038325287]\n",
       " [0.20811545570246384 0.2769420223456765 0.3994862108613626\n",
       "  0.18984312384438112 0.2947012788012189]\n",
       " [0.020074902685255785 0.1228486055419826 0.16547626459798256\n",
       "  0.27313923535233425 0.23719360402591994]\n",
       " [0.18743981106751983 0.18781655353589002 0.08018239076370286\n",
       "  0.33794054506024934 0.3066978343198704]\n",
       " [0.3174566541087701 0.2623517180570994 0.23824587816018156\n",
       "  0.18280098394085606 0.1977375671501612]\n",
       " [0.13983217292375155 0.12951258686803682 0.11852711699986604\n",
       "  0.03108879311358505 0.27322583361096114]\n",
       " [0.05961466024210001 0.2767828317460164 0.012091925462512589\n",
       "  0.3628928661883565 0.3600504701664287]\n",
       " [0.2580766255308242 0.00831251999129805 0.3232628708261021\n",
       "  0.3517802230828162 0.16223324263738698]\n",
       " [0.2640569057344844 0.06672802462559925 0.1488211652956784\n",
       "  0.04080485973250365 0.3884673741408781]])"
      ]
     },
     "execution_count": 52,
     "metadata": {},
     "output_type": "execute_result"
    }
   ],
   "source": [
    "np.log10(np.exp(np.fabs(a)))"
   ]
  },
  {
   "cell_type": "code",
   "execution_count": null,
   "metadata": {},
   "outputs": [],
   "source": []
  },
  {
   "cell_type": "code",
   "execution_count": 53,
   "metadata": {},
   "outputs": [
    {
     "data": {
      "text/html": [
       "<table>\n",
       "<tbody>\n",
       "<tr><td><b>x</b></td><td><b>[-0.5 | 0 | 0.5]</b>      </td><td><b>[0.5 | 1 | 1.5]</b>       </td><td><b>[1.5 | 2 | 2.5]</b>       </td><td><b>[2.5 | 3 | 3.5]</b>       </td><td><b>[3.5 | 4 | 4.5]</b>       </td><td><b>[4.5 | 5 | 5.5]</b>       </td><td>...</td><td><b>[13.5 | 14 | 14.5]</b>    </td><td><b>[14.5 | 15 | 15.5]</b>    </td><td><b>[15.5 | 16 | 16.5]</b>    </td><td><b>[16.5 | 17 | 17.5]</b>    </td><td><b>[17.5 | 18 | 18.5]</b>    </td><td><b>[18.5 | 19 | 19.5]</b>    </td></tr>\n",
       "<tr><td><b></b> </td><td>[0.189 0.685 ... 1.296 1.907]</td><td>[0.701 0.84  ... 1.683 2.291]</td><td>[0.642 1.64  ... 2.302 2.485]</td><td>[0.083 0.425 ... 1.8   2.639]</td><td>[0.242 1.023 ... 1.743 2.165]</td><td>[0.391 1.28  ... 2.698 3.546]</td><td>...</td><td>[0.432 0.864 ... 1.827 2.533]</td><td>[0.731 1.335 ... 2.305 2.76 ]</td><td>[0.322 0.62  ... 0.965 1.594]</td><td>[0.137 0.775 ... 1.638 2.467]</td><td>[0.594 0.613 ... 2.168 2.541]</td><td>[0.608 0.762 ... 1.198 2.093]</td></tr>\n",
       "</tbody>\n",
       "</table>"
      ],
      "text/plain": [
       "GridArray(noname : [[0.18924062 0.68503471 0.76767408 1.29560327 1.90689147]\n",
       " [0.70130828 0.84036532 1.16800144 1.683103   2.29064454]\n",
       " [0.64195525 1.63967937 1.92494586 2.30162208 2.485274  ]\n",
       " [0.0828314  0.42461022 0.83700591 1.79972864 2.63929354]\n",
       " [0.24154512 1.02280183 1.6895108  1.74305942 2.16491294]\n",
       " [0.39091765 1.28016161 1.76963867 2.69803183 3.54618309]\n",
       " [0.10797982 0.74921154 1.0528263  1.70694513 2.36304689]\n",
       " [0.83993539 1.51301025 2.04570939 2.6833678  3.23532929]\n",
       " [0.38144902 1.15759069 1.59259087 2.56871444 3.09997936]\n",
       " [0.63573651 0.91739059 1.00032989 1.98772219 2.67504303]\n",
       " [0.05827617 0.42024488 1.10875168 1.81044078 2.62121473]\n",
       " [0.52754732 1.26482269 1.61118279 2.438281   2.57280399]\n",
       " [0.47920355 1.11688612 2.03673711 2.47386706 3.15244183]\n",
       " [0.04622417 0.32909354 0.71011672 1.33904305 1.88520151]\n",
       " [0.43159611 0.86405971 1.04868649 1.82682335 2.53302121]\n",
       " [0.73097096 1.33505811 1.88363952 2.30455434 2.75986192]\n",
       " [0.32197548 0.62018923 0.893108   0.96469259 1.59381832]\n",
       " [0.13726783 0.77458385 0.80242654 1.63801824 2.46706509]\n",
       " [0.59424339 0.61338368 1.35772394 2.16772784 2.54128369]\n",
       " [0.60801349 0.76166045 1.10433385 1.19829051 2.09276969]])"
      ]
     },
     "execution_count": 53,
     "metadata": {},
     "output_type": "execute_result"
    }
   ],
   "source": [
    "np.cumsum(a, axis='y')"
   ]
  },
  {
   "cell_type": "code",
   "execution_count": 54,
   "metadata": {},
   "outputs": [
    {
     "data": {
      "text/html": [
       "<table>\n",
       "<tbody>\n",
       "<tr><td><b>x</b></td><td><b>[18.5 | 19 | 19.5]</b></td><td><b>[16.5 | 17 | 17.5]</b></td><td><b>[14.5 | 15 | 15.5]</b></td><td><b>[12.5 | 13 | 13.5]</b></td><td><b>[10.5 | 11 | 11.5]</b></td><td><b>[8.5 | 9 | 9.5]</b></td><td><b>[6.5 | 7 | 7.5]</b></td><td><b>[4.5 | 5 | 5.5]</b></td><td><b>[2.5 | 3 | 3.5]</b></td><td><b>[0.5 | 1 | 1.5]</b></td></tr>\n",
       "<tr><td><b></b> </td><td>0.298                    </td><td>0.345                    </td><td>0.111                    </td><td>0.205                    </td><td>0.253                    </td><td>0.318                 </td><td>0.11                  </td><td>0.223                 </td><td>0.326                 </td><td>0.202                 </td></tr>\n",
       "</tbody>\n",
       "</table>"
      ],
      "text/plain": [
       "GridArray(noname : [0.29789149779233837 0.3446852254077501 0.11071414401290701\n",
       " 0.20511989784233076 0.2530495126703144 0.3182927270768383\n",
       " 0.1096250074798798 0.22331625277518866 0.3262741799830685\n",
       " 0.20176295625697532])"
      ]
     },
     "execution_count": 54,
     "metadata": {},
     "output_type": "execute_result"
    }
   ],
   "source": [
    "np.std(a, axis='y')[::-2]"
   ]
  },
  {
   "cell_type": "code",
   "execution_count": 55,
   "metadata": {},
   "outputs": [],
   "source": [
    "a[a > 0.5] *= 10"
   ]
  },
  {
   "cell_type": "code",
   "execution_count": 56,
   "metadata": {},
   "outputs": [
    {
     "data": {
      "text/plain": [
       "<matplotlib.collections.QuadMesh at 0x7f5dcac28358>"
      ]
     },
     "execution_count": 56,
     "metadata": {},
     "output_type": "execute_result"
    },
    {
     "data": {
      "image/png": "[encoded data removed]",
      "text/plain": [
       "<Figure size 432x288 with 2 Axes>"
      ]
     },
     "metadata": {
      "needs_background": "light"
     },
     "output_type": "display_data"
    }
   ],
   "source": [
    "np.empty_like(a).plot(cbar=True)"
   ]
  },
  {
   "cell_type": "code",
   "execution_count": 57,
   "metadata": {},
   "outputs": [
    {
     "data": {
      "text/html": [
       "<table>\n",
       "<tbody>\n",
       "<tr><td><b>y \\ x</b></td><td><b>[2.5 | 3 | 3.5]</b></td><td><b>[3.5 | 4 | 4.5]</b></td></tr>\n",
       "<tr><td><b>0</b>    </td><td>0.0828                </td><td>0.242                 </td></tr>\n",
       "<tr><td><b>1</b>    </td><td>0.342                 </td><td>7.81                  </td></tr>\n",
       "<tr><td><b>2</b>    </td><td>0.412                 </td><td>6.67                  </td></tr>\n",
       "<tr><td><b>3</b>    </td><td>9.63                  </td><td>0.0535                </td></tr>\n",
       "<tr><td><b>4</b>    </td><td>8.4                   </td><td>0.422                 </td></tr>\n",
       "</tbody>\n",
       "</table>"
      ],
      "text/plain": [
       "GridArray(noname : [[0.0828314  0.34177882 0.41239569 9.62722726 8.39564901]\n",
       " [0.24154512 7.81256714 6.66708975 0.05354862 0.42185352]])"
      ]
     },
     "execution_count": 57,
     "metadata": {},
     "output_type": "execute_result"
    }
   ],
   "source": [
    "a[3:5]"
   ]
  },
  {
   "cell_type": "code",
   "execution_count": 58,
   "metadata": {},
   "outputs": [
    {
     "data": {
      "text/html": [
       "<table>\n",
       "<tbody>\n",
       "<tr><td><b>y</b></td><td><b>0</b></td><td><b>1</b></td><td><b>2</b></td><td><b>3</b></td><td><b>4</b></td></tr>\n",
       "<tr><td><b></b> </td><td>55.7    </td><td>76.6    </td><td>45      </td><td>109     </td><td>106     </td></tr>\n",
       "</tbody>\n",
       "</table>"
      ],
      "text/plain": [
       "GridArray(noname : [ 55.66561275  76.55692855  44.98128966 109.16266947 105.84440888])"
      ]
     },
     "execution_count": 58,
     "metadata": {},
     "output_type": "execute_result"
    }
   ],
   "source": [
    "np.sum(a, axis=0)"
   ]
  },
  {
   "cell_type": "code",
   "execution_count": 59,
   "metadata": {},
   "outputs": [
    {
     "data": {
      "text/html": [
       "<table>\n",
       "<tbody>\n",
       "<tr><td><b>y \\ x</b></td><td><b>[-0.5 | 0 | 0.5]</b></td><td><b>[0.5 | 1 | 1.5]</b></td><td><b>[1.5 | 2 | 2.5]</b></td><td><b>[2.5 | 3 | 3.5]</b></td><td><b>[3.5 | 4 | 4.5]</b></td><td><b>[4.5 | 5 | 5.5]</b></td><td>...</td><td><b>[13.5 | 14 | 14.5]</b></td><td><b>[14.5 | 15 | 15.5]</b></td><td><b>[15.5 | 16 | 16.5]</b></td><td><b>[16.5 | 17 | 17.5]</b></td><td><b>[17.5 | 18 | 18.5]</b></td><td><b>[18.5 | 19 | 19.5]</b></td></tr>\n",
       "<tr><td><b>0</b>    </td><td>0.378                  </td><td>14                    </td><td>12.8                  </td><td>0.166                 </td><td>0.483                 </td><td>0.782                 </td><td>...</td><td>0.863                    </td><td>14.6                     </td><td>0.644                    </td><td>0.275                    </td><td>11.9                     </td><td>12.2                     </td></tr>\n",
       "<tr><td><b>1</b>    </td><td>0.992                  </td><td>0.278                 </td><td>20                    </td><td>0.684                 </td><td>15.6                  </td><td>17.8                  </td><td>...</td><td>0.865                    </td><td>12.1                     </td><td>0.596                    </td><td>12.7                     </td><td>0.0383                   </td><td>0.307                    </td></tr>\n",
       "<tr><td><b>2</b>    </td><td>0.165                  </td><td>0.655                 </td><td>0.571                 </td><td>0.825                 </td><td>13.3                  </td><td>0.979                 </td><td>...</td><td>0.369                    </td><td>11                       </td><td>0.546                    </td><td>0.0557                   </td><td>14.9                     </td><td>0.685                    </td></tr>\n",
       "<tr><td><b>3</b>    </td><td>10.6                   </td><td>10.3                  </td><td>0.753                 </td><td>19.3                  </td><td>0.107                 </td><td>18.6                  </td><td>...</td><td>15.6                     </td><td>0.842                    </td><td>0.143                    </td><td>16.7                     </td><td>16.2                     </td><td>0.188                    </td></tr>\n",
       "<tr><td><b>4</b>    </td><td>12.2                   </td><td>12.2                  </td><td>0.367                 </td><td>16.8                  </td><td>0.844                 </td><td>17                    </td><td>...</td><td>14.1                     </td><td>0.911                    </td><td>12.6                     </td><td>16.6                     </td><td>0.747                    </td><td>17.9                     </td></tr>\n",
       "</tbody>\n",
       "</table>"
      ],
      "text/plain": [
       "GridArray(noname : [[ 0.37848123  0.99158818  0.16527874 10.55858398 12.22576398]\n",
       " [14.02616566  0.27811408  0.65527223 10.30203129 12.15083078]\n",
       " [12.83910496 19.95448248  0.57053298  0.75335244  0.36730384]\n",
       " [ 0.1656628   0.68355765  0.82479138 19.25445452 16.79129801]\n",
       " [ 0.48309023 15.62513427 13.3341795   0.10709723  0.84370703]\n",
       " [ 0.7818353  17.78487925  0.97895411 18.5678633  16.9630251 ]\n",
       " [ 0.21595963 12.82463444  0.60722952 13.08237653 13.1220352 ]\n",
       " [16.7987077  13.46149736 10.65398275 12.75316815 11.03922975]\n",
       " [ 0.76289804 15.52283339  0.87000036 19.52247129 10.62529851]\n",
       " [12.71473012  0.56330817  0.16587861 19.74784603 13.74641665]\n",
       " [ 0.11655233  0.72393742 13.77013593 14.03378201 16.21547905]\n",
       " [10.55094631 14.74550749  0.69272021 16.54196423  0.26904597]\n",
       " [ 0.95840709 12.75365145 18.39701988  0.87425989 13.57149543]\n",
       " [ 0.09244834  0.56573874  0.76204636 12.57852663 10.92316914]\n",
       " [ 0.86319223  0.86492719  0.36925356 15.56273723 14.12395723]\n",
       " [14.61941919 12.0817431  10.97162815  0.84182964  0.91061515]\n",
       " [ 0.64395095  0.5964275   0.54583755  0.14316918 12.58251463]\n",
       " [ 0.27453566 12.74632045  0.05568537 16.71183408 16.58093691]\n",
       " [11.88486782  0.03828057 14.88680535 16.20007795  0.74711169]\n",
       " [12.1602699   0.30729391  0.68534679  0.18791332 17.8895837 ]])"
      ]
     },
     "execution_count": 59,
     "metadata": {},
     "output_type": "execute_result"
    }
   ],
   "source": [
    "a * 2"
   ]
  },
  {
   "cell_type": "code",
   "execution_count": 60,
   "metadata": {},
   "outputs": [],
   "source": [
    "m = np.ma.masked_array(np.arange(10))"
   ]
  },
  {
   "cell_type": "code",
   "execution_count": 61,
   "metadata": {},
   "outputs": [],
   "source": [
    "m.mask = m < 6"
   ]
  },
  {
   "cell_type": "code",
   "execution_count": 62,
   "metadata": {},
   "outputs": [
    {
     "data": {
      "text/plain": [
       "array([ 0,  1,  2,  3,  4,  5, 18, 21, 24, 27])"
      ]
     },
     "execution_count": 62,
     "metadata": {},
     "output_type": "execute_result"
    }
   ],
   "source": [
    "(m * 3).data"
   ]
  },
  {
   "cell_type": "code",
   "execution_count": 63,
   "metadata": {},
   "outputs": [],
   "source": [
    "# add something\n",
    "g['a'] = np.random.rand(g.grid.size).reshape(g.shape)"
   ]
  },
  {
   "cell_type": "code",
   "execution_count": 64,
   "metadata": {},
   "outputs": [
    {
     "data": {
      "text/html": [
       "<table>\n",
       "<tbody>\n",
       "<tr><td><b>y \\ x</b></td><td><b>[-0.5 | 0 | 0.5]</b></td><td><b>[0.5 | 1 | 1.5]</b></td><td><b>[1.5 | 2 | 2.5]</b></td><td><b>[2.5 | 3 | 3.5]</b></td><td><b>[3.5 | 4 | 4.5]</b></td><td><b>[4.5 | 5 | 5.5]</b></td><td>...</td><td><b>[13.5 | 14 | 14.5]</b></td><td><b>[14.5 | 15 | 15.5]</b></td><td><b>[15.5 | 16 | 16.5]</b></td><td><b>[16.5 | 17 | 17.5]</b></td><td><b>[17.5 | 18 | 18.5]</b></td><td><b>[18.5 | 19 | 19.5]</b></td></tr>\n",
       "<tr><td><b>0</b>    </td><td>0.542                  </td><td>0.0892                </td><td>0.403                 </td><td>0.235                 </td><td>0.888                 </td><td>0.334                 </td><td>...</td><td>0.487                    </td><td>0.909                    </td><td>0.858                    </td><td>0.282                    </td><td>0.636                    </td><td>0.131                    </td></tr>\n",
       "<tr><td><b>1</b>    </td><td>0.525                  </td><td>0.895                 </td><td>0.496                 </td><td>0.066                 </td><td>0.44                  </td><td>0.857                 </td><td>...</td><td>0.39                     </td><td>0.122                    </td><td>0.0974                   </td><td>0.698                    </td><td>0.135                    </td><td>0.0938                   </td></tr>\n",
       "<tr><td><b>2</b>    </td><td>0.822                  </td><td>0.696                 </td><td>0.212                 </td><td>0.61                  </td><td>0.727                 </td><td>0.415                 </td><td>...</td><td>0.0847                   </td><td>0.93                     </td><td>0.472                    </td><td>0.122                    </td><td>0.566                    </td><td>0.175                    </td></tr>\n",
       "<tr><td><b>3</b>    </td><td>0.0938                 </td><td>0.169                 </td><td>0.839                 </td><td>0.734                 </td><td>0.45                  </td><td>0.329                 </td><td>...</td><td>0.27                     </td><td>0.338                    </td><td>0.0928                   </td><td>0.308                    </td><td>0.604                    </td><td>0.702                    </td></tr>\n",
       "<tr><td><b>4</b>    </td><td>0.982                  </td><td>0.187                 </td><td>0.917                 </td><td>0.968                 </td><td>0.732                 </td><td>0.662                 </td><td>...</td><td>0.446                    </td><td>0.57                     </td><td>0.82                     </td><td>0.699                    </td><td>0.449                    </td><td>0.652                    </td></tr>\n",
       "</tbody>\n",
       "</table>"
      ],
      "text/plain": [
       "GridArray(noname : [[0.5422471  0.5251797  0.82241604 0.09375249 0.98215066]\n",
       " [0.08917328 0.89460832 0.6959138  0.16908034 0.18709596]\n",
       " [0.40318125 0.49616465 0.21190741 0.83858271 0.91723012]\n",
       " [0.23470561 0.06604334 0.60983581 0.73374006 0.96821113]\n",
       " [0.8881704  0.44039308 0.72694336 0.45038305 0.73173853]\n",
       " [0.3344462  0.85681531 0.41528486 0.32895641 0.66249081]\n",
       " [0.33128204 0.74727908 0.42560374 0.13877124 0.82226667]\n",
       " [0.04864381 0.31767026 0.78321418 0.00308431 0.23606187]\n",
       " [0.75378983 0.73029883 0.52242685 0.33412888 0.66601653]\n",
       " [0.33132411 0.89496012 0.33131622 0.53502847 0.73260229]\n",
       " [0.77515971 0.1901351  0.70077352 0.47622451 0.54522241]\n",
       " [0.6797894  0.67972711 0.01203133 0.84038863 0.96044229]\n",
       " [0.70476937 0.02910673 0.84183202 0.80381608 0.20718963]\n",
       " [0.76051727 0.08029111 0.33575484 0.11149821 0.50640771]\n",
       " [0.48668796 0.38988074 0.08466066 0.27014118 0.44581242]\n",
       " [0.90927818 0.12150161 0.92957358 0.33809431 0.57045693]\n",
       " [0.85762372 0.0973698  0.4723043  0.09280341 0.81990218]\n",
       " [0.28243023 0.69785616 0.12183795 0.3077587  0.69875018]\n",
       " [0.6362775  0.1349777  0.56552003 0.6035897  0.44919752]\n",
       " [0.1312659  0.09378894 0.17480794 0.70226269 0.65243018]])"
      ]
     },
     "execution_count": 64,
     "metadata": {},
     "output_type": "execute_result"
    }
   ],
   "source": [
    "np.asanyarray(g['a'])"
   ]
  },
  {
   "cell_type": "code",
   "execution_count": 65,
   "metadata": {},
   "outputs": [
    {
     "data": {
      "text/html": [
       "<table>\n",
       "<tbody>\n",
       "<tr><td><b>y \\ x</b></td><td><b>[-0.5 | 0 | 0.5]</b></td><td><b>[0.5 | 1 | 1.5]</b></td><td><b>[1.5 | 2 | 2.5]</b></td><td><b>[2.5 | 3 | 3.5]</b></td><td><b>[3.5 | 4 | 4.5]</b></td><td><b>[4.5 | 5 | 5.5]</b></td><td>...</td><td><b>[13.5 | 14 | 14.5]</b></td><td><b>[14.5 | 15 | 15.5]</b></td><td><b>[15.5 | 16 | 16.5]</b></td><td><b>[16.5 | 17 | 17.5]</b></td><td><b>[17.5 | 18 | 18.5]</b></td><td><b>[18.5 | 19 | 19.5]</b></td></tr>\n",
       "<tr><td><b>0</b>    </td><td>a = 0.542              </td><td>a = 0.0892            </td><td>a = 0.403             </td><td>a = 0.235             </td><td>a = 0.888             </td><td>a = 0.334             </td><td>...</td><td>a = 0.487                </td><td>a = 0.909                </td><td>a = 0.858                </td><td>a = 0.282                </td><td>a = 0.636                </td><td>a = 0.131                </td></tr>\n",
       "<tr><td><b>1</b>    </td><td>a = 0.525              </td><td>a = 0.895             </td><td>a = 0.496             </td><td>a = 0.066             </td><td>a = 0.44              </td><td>a = 0.857             </td><td>...</td><td>a = 0.39                 </td><td>a = 0.122                </td><td>a = 0.0974               </td><td>a = 0.698                </td><td>a = 0.135                </td><td>a = 0.0938               </td></tr>\n",
       "<tr><td><b>2</b>    </td><td>a = 0.822              </td><td>a = 0.696             </td><td>a = 0.212             </td><td>a = 0.61              </td><td>a = 0.727             </td><td>a = 0.415             </td><td>...</td><td>a = 0.0847               </td><td>a = 0.93                 </td><td>a = 0.472                </td><td>a = 0.122                </td><td>a = 0.566                </td><td>a = 0.175                </td></tr>\n",
       "<tr><td><b>3</b>    </td><td>a = 0.0938             </td><td>a = 0.169             </td><td>a = 0.839             </td><td>a = 0.734             </td><td>a = 0.45              </td><td>a = 0.329             </td><td>...</td><td>a = 0.27                 </td><td>a = 0.338                </td><td>a = 0.0928               </td><td>a = 0.308                </td><td>a = 0.604                </td><td>a = 0.702                </td></tr>\n",
       "<tr><td><b>4</b>    </td><td>a = 0.982              </td><td>a = 0.187             </td><td>a = 0.917             </td><td>a = 0.968             </td><td>a = 0.732             </td><td>a = 0.662             </td><td>...</td><td>a = 0.446                </td><td>a = 0.57                 </td><td>a = 0.82                 </td><td>a = 0.699                </td><td>a = 0.449                </td><td>a = 0.652                </td></tr>\n",
       "</tbody>\n",
       "</table>"
      ],
      "text/plain": [
       "GridData(Grid(\n",
       "Axis(\"x\",\n",
       "points = array([ 0,  1,  2,  3,  4,  5,  6,  7,  8,  9, 10, 11, 12, 13, 14, 15, 16,\n",
       "       17, 18, 19]),\n",
       "edges = edges: array([[-0.5,  0.5],\n",
       "       [ 0.5,  1.5],\n",
       "       [ 1.5,  2.5],\n",
       "       [ 2.5,  3.5],\n",
       "       [ 3.5,  4.5],\n",
       "       [ 4.5,  5.5],\n",
       "       [ 5.5,  6.5],\n",
       "       [ 6.5,  7.5],\n",
       "       [ 7.5,  8.5],\n",
       "       [ 8.5,  9.5],\n",
       "       [ 9.5, 10.5],\n",
       "       [10.5, 11.5],\n",
       "       [11.5, 12.5],\n",
       "       [12.5, 13.5],\n",
       "       [13.5, 14.5],\n",
       "       [14.5, 15.5],\n",
       "       [15.5, 16.5],\n",
       "       [16.5, 17.5],\n",
       "       [17.5, 18.5],\n",
       "       [18.5, 19.5]]))\n",
       "nbins = 20),\n",
       "Axis(\"y\",\n",
       "points = array([0, 1, 2, 3, 4]),\n",
       "edges = edges: None)\n",
       "nbins = 5),)\n",
       "{'a': masked_array(\n",
       "  data=[[0.5422471 , 0.5251797 , 0.82241604, 0.09375249, 0.98215066],\n",
       "        [0.08917328, 0.89460832, 0.6959138 , 0.16908034, 0.18709596],\n",
       "        [0.40318125, 0.49616465, 0.21190741, 0.83858271, 0.91723012],\n",
       "        [0.23470561, 0.06604334, 0.60983581, 0.73374006, 0.96821113],\n",
       "        [0.8881704 , 0.44039308, 0.72694336, 0.45038305, 0.73173853],\n",
       "        [0.3344462 , 0.85681531, 0.41528486, 0.32895641, 0.66249081],\n",
       "        [0.33128204, 0.74727908, 0.42560374, 0.13877124, 0.82226667],\n",
       "        [0.04864381, 0.31767026, 0.78321418, 0.00308431, 0.23606187],\n",
       "        [0.75378983, 0.73029883, 0.52242685, 0.33412888, 0.66601653],\n",
       "        [0.33132411, 0.89496012, 0.33131622, 0.53502847, 0.73260229],\n",
       "        [0.77515971, 0.1901351 , 0.70077352, 0.47622451, 0.54522241],\n",
       "        [0.6797894 , 0.67972711, 0.01203133, 0.84038863, 0.96044229],\n",
       "        [0.70476937, 0.02910673, 0.84183202, 0.80381608, 0.20718963],\n",
       "        [0.76051727, 0.08029111, 0.33575484, 0.11149821, 0.50640771],\n",
       "        [0.48668796, 0.38988074, 0.08466066, 0.27014118, 0.44581242],\n",
       "        [0.90927818, 0.12150161, 0.92957358, 0.33809431, 0.57045693],\n",
       "        [0.85762372, 0.0973698 , 0.4723043 , 0.09280341, 0.81990218],\n",
       "        [0.28243023, 0.69785616, 0.12183795, 0.3077587 , 0.69875018],\n",
       "        [0.6362775 , 0.1349777 , 0.56552003, 0.6035897 , 0.44919752],\n",
       "        [0.1312659 , 0.09378894, 0.17480794, 0.70226269, 0.65243018]],\n",
       "  mask=False,\n",
       "  fill_value=1e+20)})"
      ]
     },
     "execution_count": 65,
     "metadata": {},
     "output_type": "execute_result"
    }
   ],
   "source": [
    "g"
   ]
  },
  {
   "cell_type": "code",
   "execution_count": 66,
   "metadata": {},
   "outputs": [],
   "source": [
    "g['b'] = np.ones(g.shape)"
   ]
  },
  {
   "cell_type": "code",
   "execution_count": 67,
   "metadata": {},
   "outputs": [
    {
     "data": {
      "text/plain": [
       "(20, 5)"
      ]
     },
     "execution_count": 67,
     "metadata": {},
     "output_type": "execute_result"
    }
   ],
   "source": [
    "g.shape"
   ]
  },
  {
   "cell_type": "code",
   "execution_count": 68,
   "metadata": {},
   "outputs": [
    {
     "data": {
      "text/html": [
       "<table>\n",
       "<tbody>\n",
       "<tr><td><b>x \\ y</b>             </td><td><b>0</b></td><td><b>1</b></td><td><b>2</b></td><td><b>3</b></td><td><b>4</b></td></tr>\n",
       "<tr><td><b>[-0.5 | 0 | 0.5]</b>  </td><td>1       </td><td>1       </td><td>1       </td><td>1       </td><td>1       </td></tr>\n",
       "<tr><td><b>[0.5 | 1 | 1.5]</b>   </td><td>1       </td><td>1       </td><td>1       </td><td>1       </td><td>1       </td></tr>\n",
       "<tr><td><b>[1.5 | 2 | 2.5]</b>   </td><td>1       </td><td>1       </td><td>1       </td><td>1       </td><td>1       </td></tr>\n",
       "<tr><td><b>[2.5 | 3 | 3.5]</b>   </td><td>1       </td><td>1       </td><td>1       </td><td>1       </td><td>1       </td></tr>\n",
       "<tr><td><b>[3.5 | 4 | 4.5]</b>   </td><td>1       </td><td>1       </td><td>1       </td><td>1       </td><td>1       </td></tr>\n",
       "<tr><td><b>[4.5 | 5 | 5.5]</b>   </td><td>1       </td><td>1       </td><td>1       </td><td>1       </td><td>1       </td></tr>\n",
       "<tr><td>...                      </td><td>...     </td><td>...     </td><td>...     </td><td>...     </td><td>...     </td></tr>\n",
       "<tr><td><b>[13.5 | 14 | 14.5]</b></td><td>1       </td><td>1       </td><td>1       </td><td>1       </td><td>1       </td></tr>\n",
       "<tr><td><b>[14.5 | 15 | 15.5]</b></td><td>1       </td><td>1       </td><td>1       </td><td>1       </td><td>1       </td></tr>\n",
       "<tr><td><b>[15.5 | 16 | 16.5]</b></td><td>1       </td><td>1       </td><td>1       </td><td>1       </td><td>1       </td></tr>\n",
       "<tr><td><b>[16.5 | 17 | 17.5]</b></td><td>1       </td><td>1       </td><td>1       </td><td>1       </td><td>1       </td></tr>\n",
       "<tr><td><b>[17.5 | 18 | 18.5]</b></td><td>1       </td><td>1       </td><td>1       </td><td>1       </td><td>1       </td></tr>\n",
       "<tr><td><b>[18.5 | 19 | 19.5]</b></td><td>1       </td><td>1       </td><td>1       </td><td>1       </td><td>1       </td></tr>\n",
       "</tbody>\n",
       "</table>"
      ],
      "text/plain": [
       "GridArray(noname : [[1. 1. 1. 1. 1. 1. 1. 1. 1. 1. 1. 1. 1. 1. 1. 1. 1. 1. 1. 1.]\n",
       " [1. 1. 1. 1. 1. 1. 1. 1. 1. 1. 1. 1. 1. 1. 1. 1. 1. 1. 1. 1.]\n",
       " [1. 1. 1. 1. 1. 1. 1. 1. 1. 1. 1. 1. 1. 1. 1. 1. 1. 1. 1. 1.]\n",
       " [1. 1. 1. 1. 1. 1. 1. 1. 1. 1. 1. 1. 1. 1. 1. 1. 1. 1. 1. 1.]\n",
       " [1. 1. 1. 1. 1. 1. 1. 1. 1. 1. 1. 1. 1. 1. 1. 1. 1. 1. 1. 1.]])"
      ]
     },
     "execution_count": 68,
     "metadata": {},
     "output_type": "execute_result"
    }
   ],
   "source": [
    "g['b'].T"
   ]
  },
  {
   "cell_type": "code",
   "execution_count": 69,
   "metadata": {},
   "outputs": [
    {
     "data": {
      "text/plain": [
       "Grid(\n",
       "Axis(\"x\",\n",
       "points = array([ 0,  1,  2,  3,  4,  5,  6,  7,  8,  9, 10, 11, 12, 13, 14, 15, 16,\n",
       "       17, 18, 19]),\n",
       "edges = edges: array([[-0.5,  0.5],\n",
       "       [ 0.5,  1.5],\n",
       "       [ 1.5,  2.5],\n",
       "       [ 2.5,  3.5],\n",
       "       [ 3.5,  4.5],\n",
       "       [ 4.5,  5.5],\n",
       "       [ 5.5,  6.5],\n",
       "       [ 6.5,  7.5],\n",
       "       [ 7.5,  8.5],\n",
       "       [ 8.5,  9.5],\n",
       "       [ 9.5, 10.5],\n",
       "       [10.5, 11.5],\n",
       "       [11.5, 12.5],\n",
       "       [12.5, 13.5],\n",
       "       [13.5, 14.5],\n",
       "       [14.5, 15.5],\n",
       "       [15.5, 16.5],\n",
       "       [16.5, 17.5],\n",
       "       [17.5, 18.5],\n",
       "       [18.5, 19.5]]))\n",
       "nbins = 20),\n",
       "Axis(\"y\",\n",
       "points = array([0, 1, 2, 3, 4]),\n",
       "edges = edges: None)\n",
       "nbins = 5),)"
      ]
     },
     "execution_count": 69,
     "metadata": {},
     "output_type": "execute_result"
    }
   ],
   "source": [
    "np.sin(a).grid"
   ]
  },
  {
   "cell_type": "code",
   "execution_count": 70,
   "metadata": {},
   "outputs": [],
   "source": [
    "a = g['a']"
   ]
  },
  {
   "cell_type": "code",
   "execution_count": 71,
   "metadata": {},
   "outputs": [
    {
     "data": {
      "text/plain": [
       "array([[0.5422471 , 0.5251797 , 0.82241604, 0.09375249, 0.98215066],\n",
       "       [0.08917328, 0.89460832, 0.6959138 , 0.16908034, 0.18709596],\n",
       "       [0.40318125, 0.49616465, 0.21190741, 0.83858271, 0.91723012],\n",
       "       [0.23470561, 0.06604334, 0.60983581, 0.73374006, 0.96821113],\n",
       "       [0.8881704 , 0.44039308, 0.72694336, 0.45038305, 0.73173853],\n",
       "       [0.3344462 , 0.85681531, 0.41528486, 0.32895641, 0.66249081],\n",
       "       [0.33128204, 0.74727908, 0.42560374, 0.13877124, 0.82226667],\n",
       "       [0.04864381, 0.31767026, 0.78321418, 0.00308431, 0.23606187],\n",
       "       [0.75378983, 0.73029883, 0.52242685, 0.33412888, 0.66601653],\n",
       "       [0.33132411, 0.89496012, 0.33131622, 0.53502847, 0.73260229],\n",
       "       [0.77515971, 0.1901351 , 0.70077352, 0.47622451, 0.54522241],\n",
       "       [0.6797894 , 0.67972711, 0.01203133, 0.84038863, 0.96044229],\n",
       "       [0.70476937, 0.02910673, 0.84183202, 0.80381608, 0.20718963],\n",
       "       [0.76051727, 0.08029111, 0.33575484, 0.11149821, 0.50640771],\n",
       "       [0.48668796, 0.38988074, 0.08466066, 0.27014118, 0.44581242],\n",
       "       [0.90927818, 0.12150161, 0.92957358, 0.33809431, 0.57045693],\n",
       "       [0.85762372, 0.0973698 , 0.4723043 , 0.09280341, 0.81990218],\n",
       "       [0.28243023, 0.69785616, 0.12183795, 0.3077587 , 0.69875018],\n",
       "       [0.6362775 , 0.1349777 , 0.56552003, 0.6035897 , 0.44919752],\n",
       "       [0.1312659 , 0.09378894, 0.17480794, 0.70226269, 0.65243018]])"
      ]
     },
     "execution_count": 71,
     "metadata": {},
     "output_type": "execute_result"
    }
   ],
   "source": [
    "a.view(np.ndarray)"
   ]
  },
  {
   "cell_type": "code",
   "execution_count": 72,
   "metadata": {},
   "outputs": [],
   "source": [
    "g['b'][g['a'] < 0.5] *= -1"
   ]
  },
  {
   "cell_type": "code",
   "execution_count": 73,
   "metadata": {},
   "outputs": [
    {
     "data": {
      "text/html": [
       "<table>\n",
       "<tbody>\n",
       "<tr><td><b>y \\ x</b></td><td><b>[-0.5 | 0 | 0.5]</b></td><td><b>[0.5 | 1 | 1.5]</b></td><td><b>[1.5 | 2 | 2.5]</b></td><td><b>[2.5 | 3 | 3.5]</b></td><td><b>[3.5 | 4 | 4.5]</b></td><td><b>[4.5 | 5 | 5.5]</b></td><td>...</td><td><b>[13.5 | 14 | 14.5]</b></td><td><b>[14.5 | 15 | 15.5]</b></td><td><b>[15.5 | 16 | 16.5]</b></td><td><b>[16.5 | 17 | 17.5]</b></td><td><b>[17.5 | 18 | 18.5]</b></td><td><b>[18.5 | 19 | 19.5]</b></td></tr>\n",
       "<tr><td><b>0</b>    </td><td>a = 0.542<br>b = 1     </td><td>a = 0.0892<br>b = -1  </td><td>a = 0.403<br>b = -1   </td><td>a = 0.235<br>b = -1   </td><td>a = 0.888<br>b = 1    </td><td>a = 0.334<br>b = -1   </td><td>...</td><td>a = 0.487<br>b = -1      </td><td>a = 0.909<br>b = 1       </td><td>a = 0.858<br>b = 1       </td><td>a = 0.282<br>b = -1      </td><td>a = 0.636<br>b = 1       </td><td>a = 0.131<br>b = -1      </td></tr>\n",
       "<tr><td><b>1</b>    </td><td>a = 0.525<br>b = 1     </td><td>a = 0.895<br>b = 1    </td><td>a = 0.496<br>b = -1   </td><td>a = 0.066<br>b = -1   </td><td>a = 0.44<br>b = -1    </td><td>a = 0.857<br>b = 1    </td><td>...</td><td>a = 0.39<br>b = -1       </td><td>a = 0.122<br>b = -1      </td><td>a = 0.0974<br>b = -1     </td><td>a = 0.698<br>b = 1       </td><td>a = 0.135<br>b = -1      </td><td>a = 0.0938<br>b = -1     </td></tr>\n",
       "<tr><td><b>2</b>    </td><td>a = 0.822<br>b = 1     </td><td>a = 0.696<br>b = 1    </td><td>a = 0.212<br>b = -1   </td><td>a = 0.61<br>b = 1     </td><td>a = 0.727<br>b = 1    </td><td>a = 0.415<br>b = -1   </td><td>...</td><td>a = 0.0847<br>b = -1     </td><td>a = 0.93<br>b = 1        </td><td>a = 0.472<br>b = -1      </td><td>a = 0.122<br>b = -1      </td><td>a = 0.566<br>b = 1       </td><td>a = 0.175<br>b = -1      </td></tr>\n",
       "<tr><td><b>3</b>    </td><td>a = 0.0938<br>b = -1   </td><td>a = 0.169<br>b = -1   </td><td>a = 0.839<br>b = 1    </td><td>a = 0.734<br>b = 1    </td><td>a = 0.45<br>b = -1    </td><td>a = 0.329<br>b = -1   </td><td>...</td><td>a = 0.27<br>b = -1       </td><td>a = 0.338<br>b = -1      </td><td>a = 0.0928<br>b = -1     </td><td>a = 0.308<br>b = -1      </td><td>a = 0.604<br>b = 1       </td><td>a = 0.702<br>b = 1       </td></tr>\n",
       "<tr><td><b>4</b>    </td><td>a = 0.982<br>b = 1     </td><td>a = 0.187<br>b = -1   </td><td>a = 0.917<br>b = 1    </td><td>a = 0.968<br>b = 1    </td><td>a = 0.732<br>b = 1    </td><td>a = 0.662<br>b = 1    </td><td>...</td><td>a = 0.446<br>b = -1      </td><td>a = 0.57<br>b = 1        </td><td>a = 0.82<br>b = 1        </td><td>a = 0.699<br>b = 1       </td><td>a = 0.449<br>b = -1      </td><td>a = 0.652<br>b = 1       </td></tr>\n",
       "</tbody>\n",
       "</table>"
      ],
      "text/plain": [
       "GridData(Grid(\n",
       "Axis(\"x\",\n",
       "points = array([ 0,  1,  2,  3,  4,  5,  6,  7,  8,  9, 10, 11, 12, 13, 14, 15, 16,\n",
       "       17, 18, 19]),\n",
       "edges = edges: array([[-0.5,  0.5],\n",
       "       [ 0.5,  1.5],\n",
       "       [ 1.5,  2.5],\n",
       "       [ 2.5,  3.5],\n",
       "       [ 3.5,  4.5],\n",
       "       [ 4.5,  5.5],\n",
       "       [ 5.5,  6.5],\n",
       "       [ 6.5,  7.5],\n",
       "       [ 7.5,  8.5],\n",
       "       [ 8.5,  9.5],\n",
       "       [ 9.5, 10.5],\n",
       "       [10.5, 11.5],\n",
       "       [11.5, 12.5],\n",
       "       [12.5, 13.5],\n",
       "       [13.5, 14.5],\n",
       "       [14.5, 15.5],\n",
       "       [15.5, 16.5],\n",
       "       [16.5, 17.5],\n",
       "       [17.5, 18.5],\n",
       "       [18.5, 19.5]]))\n",
       "nbins = 20),\n",
       "Axis(\"y\",\n",
       "points = array([0, 1, 2, 3, 4]),\n",
       "edges = edges: None)\n",
       "nbins = 5),)\n",
       "{'a': masked_array(\n",
       "  data=[[0.5422471 , 0.5251797 , 0.82241604, 0.09375249, 0.98215066],\n",
       "        [0.08917328, 0.89460832, 0.6959138 , 0.16908034, 0.18709596],\n",
       "        [0.40318125, 0.49616465, 0.21190741, 0.83858271, 0.91723012],\n",
       "        [0.23470561, 0.06604334, 0.60983581, 0.73374006, 0.96821113],\n",
       "        [0.8881704 , 0.44039308, 0.72694336, 0.45038305, 0.73173853],\n",
       "        [0.3344462 , 0.85681531, 0.41528486, 0.32895641, 0.66249081],\n",
       "        [0.33128204, 0.74727908, 0.42560374, 0.13877124, 0.82226667],\n",
       "        [0.04864381, 0.31767026, 0.78321418, 0.00308431, 0.23606187],\n",
       "        [0.75378983, 0.73029883, 0.52242685, 0.33412888, 0.66601653],\n",
       "        [0.33132411, 0.89496012, 0.33131622, 0.53502847, 0.73260229],\n",
       "        [0.77515971, 0.1901351 , 0.70077352, 0.47622451, 0.54522241],\n",
       "        [0.6797894 , 0.67972711, 0.01203133, 0.84038863, 0.96044229],\n",
       "        [0.70476937, 0.02910673, 0.84183202, 0.80381608, 0.20718963],\n",
       "        [0.76051727, 0.08029111, 0.33575484, 0.11149821, 0.50640771],\n",
       "        [0.48668796, 0.38988074, 0.08466066, 0.27014118, 0.44581242],\n",
       "        [0.90927818, 0.12150161, 0.92957358, 0.33809431, 0.57045693],\n",
       "        [0.85762372, 0.0973698 , 0.4723043 , 0.09280341, 0.81990218],\n",
       "        [0.28243023, 0.69785616, 0.12183795, 0.3077587 , 0.69875018],\n",
       "        [0.6362775 , 0.1349777 , 0.56552003, 0.6035897 , 0.44919752],\n",
       "        [0.1312659 , 0.09378894, 0.17480794, 0.70226269, 0.65243018]],\n",
       "  mask=False,\n",
       "  fill_value=1e+20), 'b': masked_array(\n",
       "  data=[[ 1.,  1.,  1., -1.,  1.],\n",
       "        [-1.,  1.,  1., -1., -1.],\n",
       "        [-1., -1., -1.,  1.,  1.],\n",
       "        [-1., -1.,  1.,  1.,  1.],\n",
       "        [ 1., -1.,  1., -1.,  1.],\n",
       "        [-1.,  1., -1., -1.,  1.],\n",
       "        [-1.,  1., -1., -1.,  1.],\n",
       "        [-1., -1.,  1., -1., -1.],\n",
       "        [ 1.,  1.,  1., -1.,  1.],\n",
       "        [-1.,  1., -1.,  1.,  1.],\n",
       "        [ 1., -1.,  1., -1.,  1.],\n",
       "        [ 1.,  1., -1.,  1.,  1.],\n",
       "        [ 1., -1.,  1.,  1., -1.],\n",
       "        [ 1., -1., -1., -1.,  1.],\n",
       "        [-1., -1., -1., -1., -1.],\n",
       "        [ 1., -1.,  1., -1.,  1.],\n",
       "        [ 1., -1., -1., -1.,  1.],\n",
       "        [-1.,  1., -1., -1.,  1.],\n",
       "        [ 1., -1.,  1.,  1., -1.],\n",
       "        [-1., -1., -1.,  1.,  1.]],\n",
       "  mask=False,\n",
       "  fill_value=1e+20)})"
      ]
     },
     "execution_count": 73,
     "metadata": {},
     "output_type": "execute_result"
    }
   ],
   "source": [
    "g"
   ]
  },
  {
   "cell_type": "code",
   "execution_count": 74,
   "metadata": {},
   "outputs": [
    {
     "data": {
      "text/html": [
       "<table>\n",
       "<tbody>\n",
       "<tr><td><b>y \\ x</b></td><td><b>[-0.5 | 0 | 0.5]</b></td><td><b>[0.5 | 1 | 1.5]</b></td><td><b>[1.5 | 2 | 2.5]</b></td><td><b>[2.5 | 3 | 3.5]</b></td><td><b>[3.5 | 4 | 4.5]</b></td><td><b>[4.5 | 5 | 5.5]</b></td><td>...</td><td><b>[13.5 | 14 | 14.5]</b></td><td><b>[14.5 | 15 | 15.5]</b></td><td><b>[15.5 | 16 | 16.5]</b></td><td><b>[16.5 | 17 | 17.5]</b></td><td><b>[17.5 | 18 | 18.5]</b></td><td><b>[18.5 | 19 | 19.5]</b></td></tr>\n",
       "<tr><td><b>0</b>    </td><td>0                      </td><td>1                     </td><td>2                     </td><td>3                     </td><td>4                     </td><td>5                     </td><td>...</td><td>14                       </td><td>15                       </td><td>16                       </td><td>17                       </td><td>18                       </td><td>19                       </td></tr>\n",
       "<tr><td><b>1</b>    </td><td>0                      </td><td>1                     </td><td>2                     </td><td>3                     </td><td>4                     </td><td>5                     </td><td>...</td><td>14                       </td><td>15                       </td><td>16                       </td><td>17                       </td><td>18                       </td><td>19                       </td></tr>\n",
       "<tr><td><b>2</b>    </td><td>0                      </td><td>1                     </td><td>2                     </td><td>3                     </td><td>4                     </td><td>5                     </td><td>...</td><td>14                       </td><td>15                       </td><td>16                       </td><td>17                       </td><td>18                       </td><td>19                       </td></tr>\n",
       "<tr><td><b>3</b>    </td><td>0                      </td><td>1                     </td><td>2                     </td><td>3                     </td><td>4                     </td><td>5                     </td><td>...</td><td>14                       </td><td>15                       </td><td>16                       </td><td>17                       </td><td>18                       </td><td>19                       </td></tr>\n",
       "<tr><td><b>4</b>    </td><td>0                      </td><td>1                     </td><td>2                     </td><td>3                     </td><td>4                     </td><td>5                     </td><td>...</td><td>14                       </td><td>15                       </td><td>16                       </td><td>17                       </td><td>18                       </td><td>19                       </td></tr>\n",
       "</tbody>\n",
       "</table>"
      ],
      "text/plain": [
       "GridArray(noname : [[ 0  0  0  0  0]\n",
       " [ 1  1  1  1  1]\n",
       " [ 2  2  2  2  2]\n",
       " [ 3  3  3  3  3]\n",
       " [ 4  4  4  4  4]\n",
       " [ 5  5  5  5  5]\n",
       " [ 6  6  6  6  6]\n",
       " [ 7  7  7  7  7]\n",
       " [ 8  8  8  8  8]\n",
       " [ 9  9  9  9  9]\n",
       " [10 10 10 10 10]\n",
       " [11 11 11 11 11]\n",
       " [12 12 12 12 12]\n",
       " [13 13 13 13 13]\n",
       " [14 14 14 14 14]\n",
       " [15 15 15 15 15]\n",
       " [16 16 16 16 16]\n",
       " [17 17 17 17 17]\n",
       " [18 18 18 18 18]\n",
       " [19 19 19 19 19]])"
      ]
     },
     "execution_count": 74,
     "metadata": {},
     "output_type": "execute_result"
    }
   ],
   "source": [
    "g['x']"
   ]
  },
  {
   "cell_type": "code",
   "execution_count": 75,
   "metadata": {},
   "outputs": [
    {
     "data": {
      "text/html": [
       "<table>\n",
       "<tbody>\n",
       "<tr><td><b>y \\ x</b></td><td><b>[-0.5 | 0 | 0.5]</b></td><td><b>[0.5 | 1 | 1.5]</b></td><td><b>[1.5 | 2 | 2.5]</b></td><td><b>[2.5 | 3 | 3.5]</b></td><td><b>[3.5 | 4 | 4.5]</b></td><td><b>[4.5 | 5 | 5.5]</b></td><td>...</td><td><b>[13.5 | 14 | 14.5]</b></td><td><b>[14.5 | 15 | 15.5]</b></td><td><b>[15.5 | 16 | 16.5]</b></td><td><b>[16.5 | 17 | 17.5]</b></td><td><b>[17.5 | 18 | 18.5]</b></td><td><b>[18.5 | 19 | 19.5]</b></td></tr>\n",
       "<tr><td><b>0</b>    </td><td>0.542                  </td><td>0.0892                </td><td>0.403                 </td><td>0.235                 </td><td>0.888                 </td><td>0.334                 </td><td>...</td><td>0.487                    </td><td>0.909                    </td><td>0.858                    </td><td>0.282                    </td><td>0.636                    </td><td>0.131                    </td></tr>\n",
       "<tr><td><b>1</b>    </td><td>0.525                  </td><td>0.895                 </td><td>0.496                 </td><td>0.066                 </td><td>0.44                  </td><td>0.857                 </td><td>...</td><td>0.39                     </td><td>0.122                    </td><td>0.0974                   </td><td>0.698                    </td><td>0.135                    </td><td>0.0938                   </td></tr>\n",
       "<tr><td><b>2</b>    </td><td>0.822                  </td><td>0.696                 </td><td>0.212                 </td><td>0.61                  </td><td>0.727                 </td><td>0.415                 </td><td>...</td><td>0.0847                   </td><td>0.93                     </td><td>0.472                    </td><td>0.122                    </td><td>0.566                    </td><td>0.175                    </td></tr>\n",
       "<tr><td><b>3</b>    </td><td>0.0938                 </td><td>0.169                 </td><td>0.839                 </td><td>0.734                 </td><td>0.45                  </td><td>0.329                 </td><td>...</td><td>0.27                     </td><td>0.338                    </td><td>0.0928                   </td><td>0.308                    </td><td>0.604                    </td><td>0.702                    </td></tr>\n",
       "<tr><td><b>4</b>    </td><td>0.982                  </td><td>0.187                 </td><td>0.917                 </td><td>0.968                 </td><td>0.732                 </td><td>0.662                 </td><td>...</td><td>0.446                    </td><td>0.57                     </td><td>0.82                     </td><td>0.699                    </td><td>0.449                    </td><td>0.652                    </td></tr>\n",
       "</tbody>\n",
       "</table>"
      ],
      "text/plain": [
       "GridArray(noname : [[0.5422471  0.5251797  0.82241604 0.09375249 0.98215066]\n",
       " [0.08917328 0.89460832 0.6959138  0.16908034 0.18709596]\n",
       " [0.40318125 0.49616465 0.21190741 0.83858271 0.91723012]\n",
       " [0.23470561 0.06604334 0.60983581 0.73374006 0.96821113]\n",
       " [0.8881704  0.44039308 0.72694336 0.45038305 0.73173853]\n",
       " [0.3344462  0.85681531 0.41528486 0.32895641 0.66249081]\n",
       " [0.33128204 0.74727908 0.42560374 0.13877124 0.82226667]\n",
       " [0.04864381 0.31767026 0.78321418 0.00308431 0.23606187]\n",
       " [0.75378983 0.73029883 0.52242685 0.33412888 0.66601653]\n",
       " [0.33132411 0.89496012 0.33131622 0.53502847 0.73260229]\n",
       " [0.77515971 0.1901351  0.70077352 0.47622451 0.54522241]\n",
       " [0.6797894  0.67972711 0.01203133 0.84038863 0.96044229]\n",
       " [0.70476937 0.02910673 0.84183202 0.80381608 0.20718963]\n",
       " [0.76051727 0.08029111 0.33575484 0.11149821 0.50640771]\n",
       " [0.48668796 0.38988074 0.08466066 0.27014118 0.44581242]\n",
       " [0.90927818 0.12150161 0.92957358 0.33809431 0.57045693]\n",
       " [0.85762372 0.0973698  0.4723043  0.09280341 0.81990218]\n",
       " [0.28243023 0.69785616 0.12183795 0.3077587  0.69875018]\n",
       " [0.6362775  0.1349777  0.56552003 0.6035897  0.44919752]\n",
       " [0.1312659  0.09378894 0.17480794 0.70226269 0.65243018]])"
      ]
     },
     "execution_count": 75,
     "metadata": {},
     "output_type": "execute_result"
    }
   ],
   "source": [
    "g['a']"
   ]
  },
  {
   "cell_type": "code",
   "execution_count": 76,
   "metadata": {},
   "outputs": [
    {
     "data": {
      "text/html": [
       "<table>\n",
       "<tbody>\n",
       "<tr><td><b>x</b></td><td><b>[-0.5 | 0 | 0.5]</b></td><td><b>[0.5 | 1 | 1.5]</b></td><td><b>[1.5 | 2 | 2.5]</b></td><td><b>[2.5 | 3 | 3.5]</b></td><td><b>[3.5 | 4 | 4.5]</b></td><td><b>[4.5 | 5 | 5.5]</b></td><td>...</td><td><b>[13.5 | 14 | 14.5]</b></td><td><b>[14.5 | 15 | 15.5]</b></td><td><b>[15.5 | 16 | 16.5]</b></td><td><b>[16.5 | 17 | 17.5]</b></td><td><b>[17.5 | 18 | 18.5]</b></td><td><b>[18.5 | 19 | 19.5]</b></td></tr>\n",
       "<tr><td><b></b> </td><td>2.97                   </td><td>2.04                  </td><td>2.87                  </td><td>2.61                  </td><td>3.24                  </td><td>2.6                   </td><td>...</td><td>1.68                     </td><td>2.87                     </td><td>2.34                     </td><td>2.11                     </td><td>2.39                     </td><td>1.75                     </td></tr>\n",
       "</tbody>\n",
       "</table>"
      ],
      "text/plain": [
       "GridArray(noname : [2.96574599 2.0358717  2.86706614 2.61253596 3.23762842 2.59799359\n",
       " 2.46520276 1.38867443 3.00666093 2.82523122 2.68751525 3.17237876\n",
       " 2.58671383 1.79446914 1.67718296 2.8689046  2.34000341 2.10863322\n",
       " 2.38956246 1.75455564])"
      ]
     },
     "execution_count": 76,
     "metadata": {},
     "output_type": "execute_result"
    }
   ],
   "source": [
    "np.sum(g['a'], axis='y')"
   ]
  },
  {
   "cell_type": "code",
   "execution_count": 77,
   "metadata": {},
   "outputs": [
    {
     "data": {
      "text/html": [
       "<table>\n",
       "<tbody>\n",
       "<tr><td><b>x</b></td><td><b>[-0.5 | 0 | 0.5]</b></td><td><b>[0.5 | 1 | 1.5]</b></td><td><b>[1.5 | 2 | 2.5]</b></td><td><b>[2.5 | 3 | 3.5]</b></td><td><b>[3.5 | 4 | 4.5]</b></td><td><b>[4.5 | 5 | 5.5]</b></td><td>...</td><td><b>[13.5 | 14 | 14.5]</b></td><td><b>[14.5 | 15 | 15.5]</b></td><td><b>[15.5 | 16 | 16.5]</b></td><td><b>[16.5 | 17 | 17.5]</b></td><td><b>[17.5 | 18 | 18.5]</b></td><td><b>[18.5 | 19 | 19.5]</b></td></tr>\n",
       "<tr><td><b>a</b></td><td>0.0938                 </td><td>0.169                 </td><td>0.839                 </td><td>0.734                 </td><td>0.45                  </td><td>0.329                 </td><td>...</td><td>0.27                     </td><td>0.338                    </td><td>0.0928                   </td><td>0.308                    </td><td>0.604                    </td><td>0.702                    </td></tr>\n",
       "<tr><td><b>b</b></td><td>-1                     </td><td>-1                    </td><td>1                     </td><td>1                     </td><td>-1                    </td><td>-1                    </td><td>...</td><td>-1                       </td><td>-1                       </td><td>-1                       </td><td>-1                       </td><td>1                        </td><td>1                        </td></tr>\n",
       "</tbody>\n",
       "</table>"
      ],
      "text/plain": [
       "GridData(Grid(\n",
       "Axis(\"x\",\n",
       "points = array([ 0,  1,  2,  3,  4,  5,  6,  7,  8,  9, 10, 11, 12, 13, 14, 15, 16,\n",
       "       17, 18, 19]),\n",
       "edges = edges: array([[-0.5,  0.5],\n",
       "       [ 0.5,  1.5],\n",
       "       [ 1.5,  2.5],\n",
       "       [ 2.5,  3.5],\n",
       "       [ 3.5,  4.5],\n",
       "       [ 4.5,  5.5],\n",
       "       [ 5.5,  6.5],\n",
       "       [ 6.5,  7.5],\n",
       "       [ 7.5,  8.5],\n",
       "       [ 8.5,  9.5],\n",
       "       [ 9.5, 10.5],\n",
       "       [10.5, 11.5],\n",
       "       [11.5, 12.5],\n",
       "       [12.5, 13.5],\n",
       "       [13.5, 14.5],\n",
       "       [14.5, 15.5],\n",
       "       [15.5, 16.5],\n",
       "       [16.5, 17.5],\n",
       "       [17.5, 18.5],\n",
       "       [18.5, 19.5]]))\n",
       "nbins = 20),)\n",
       "{'a': masked_array(data=[0.09375249, 0.16908034, 0.83858271, 0.73374006,\n",
       "                   0.45038305, 0.32895641, 0.13877124, 0.00308431,\n",
       "                   0.33412888, 0.53502847, 0.47622451, 0.84038863,\n",
       "                   0.80381608, 0.11149821, 0.27014118, 0.33809431,\n",
       "                   0.09280341, 0.3077587 , 0.6035897 , 0.70226269],\n",
       "             mask=False,\n",
       "       fill_value=1e+20), 'b': masked_array(data=[-1., -1.,  1.,  1., -1., -1., -1., -1., -1.,  1., -1.,\n",
       "                    1.,  1., -1., -1., -1., -1., -1.,  1.,  1.],\n",
       "             mask=False,\n",
       "       fill_value=1e+20)})"
      ]
     },
     "execution_count": 77,
     "metadata": {},
     "output_type": "execute_result"
    }
   ],
   "source": [
    "g[:,-2]"
   ]
  },
  {
   "cell_type": "code",
   "execution_count": 78,
   "metadata": {},
   "outputs": [
    {
     "data": {
      "text/html": [
       "<table>\n",
       "<tbody>\n",
       "<tr><td><b>y \\ x</b></td><td><b>[18.5 | 19 | 19.5]</b></td><td><b>[17.5 | 18 | 18.5]</b></td><td><b>[16.5 | 17 | 17.5]</b></td><td><b>[15.5 | 16 | 16.5]</b></td><td><b>[14.5 | 15 | 15.5]</b></td><td><b>[13.5 | 14 | 14.5]</b></td><td>...</td><td><b>[4.5 | 5 | 5.5]</b></td><td><b>[3.5 | 4 | 4.5]</b></td><td><b>[2.5 | 3 | 3.5]</b></td><td><b>[1.5 | 2 | 2.5]</b></td><td><b>[0.5 | 1 | 1.5]</b></td><td><b>[-0.5 | 0 | 0.5]</b></td></tr>\n",
       "<tr><td><b>4</b>    </td><td>a = 0.652<br>b = 1       </td><td>a = 0.449<br>b = -1      </td><td>a = 0.699<br>b = 1       </td><td>a = 0.82<br>b = 1        </td><td>a = 0.57<br>b = 1        </td><td>a = 0.446<br>b = -1      </td><td>...</td><td>a = 0.662<br>b = 1    </td><td>a = 0.732<br>b = 1    </td><td>a = 0.968<br>b = 1    </td><td>a = 0.917<br>b = 1    </td><td>a = 0.187<br>b = -1   </td><td>a = 0.982<br>b = 1     </td></tr>\n",
       "<tr><td><b>3</b>    </td><td>a = 0.702<br>b = 1       </td><td>a = 0.604<br>b = 1       </td><td>a = 0.308<br>b = -1      </td><td>a = 0.0928<br>b = -1     </td><td>a = 0.338<br>b = -1      </td><td>a = 0.27<br>b = -1       </td><td>...</td><td>a = 0.329<br>b = -1   </td><td>a = 0.45<br>b = -1    </td><td>a = 0.734<br>b = 1    </td><td>a = 0.839<br>b = 1    </td><td>a = 0.169<br>b = -1   </td><td>a = 0.0938<br>b = -1   </td></tr>\n",
       "<tr><td><b>2</b>    </td><td>a = 0.175<br>b = -1      </td><td>a = 0.566<br>b = 1       </td><td>a = 0.122<br>b = -1      </td><td>a = 0.472<br>b = -1      </td><td>a = 0.93<br>b = 1        </td><td>a = 0.0847<br>b = -1     </td><td>...</td><td>a = 0.415<br>b = -1   </td><td>a = 0.727<br>b = 1    </td><td>a = 0.61<br>b = 1     </td><td>a = 0.212<br>b = -1   </td><td>a = 0.696<br>b = 1    </td><td>a = 0.822<br>b = 1     </td></tr>\n",
       "<tr><td><b>1</b>    </td><td>a = 0.0938<br>b = -1     </td><td>a = 0.135<br>b = -1      </td><td>a = 0.698<br>b = 1       </td><td>a = 0.0974<br>b = -1     </td><td>a = 0.122<br>b = -1      </td><td>a = 0.39<br>b = -1       </td><td>...</td><td>a = 0.857<br>b = 1    </td><td>a = 0.44<br>b = -1    </td><td>a = 0.066<br>b = -1   </td><td>a = 0.496<br>b = -1   </td><td>a = 0.895<br>b = 1    </td><td>a = 0.525<br>b = 1     </td></tr>\n",
       "<tr><td><b>0</b>    </td><td>a = 0.131<br>b = -1      </td><td>a = 0.636<br>b = 1       </td><td>a = 0.282<br>b = -1      </td><td>a = 0.858<br>b = 1       </td><td>a = 0.909<br>b = 1       </td><td>a = 0.487<br>b = -1      </td><td>...</td><td>a = 0.334<br>b = -1   </td><td>a = 0.888<br>b = 1    </td><td>a = 0.235<br>b = -1   </td><td>a = 0.403<br>b = -1   </td><td>a = 0.0892<br>b = -1  </td><td>a = 0.542<br>b = 1     </td></tr>\n",
       "</tbody>\n",
       "</table>"
      ],
      "text/plain": [
       "GridData(Grid(\n",
       "Axis(\"x\",\n",
       "points = array([19, 18, 17, 16, 15, 14, 13, 12, 11, 10,  9,  8,  7,  6,  5,  4,  3,\n",
       "        2,  1,  0]),\n",
       "edges = edges: array([[18.5, 19.5],\n",
       "       [17.5, 18.5],\n",
       "       [16.5, 17.5],\n",
       "       [15.5, 16.5],\n",
       "       [14.5, 15.5],\n",
       "       [13.5, 14.5],\n",
       "       [12.5, 13.5],\n",
       "       [11.5, 12.5],\n",
       "       [10.5, 11.5],\n",
       "       [ 9.5, 10.5],\n",
       "       [ 8.5,  9.5],\n",
       "       [ 7.5,  8.5],\n",
       "       [ 6.5,  7.5],\n",
       "       [ 5.5,  6.5],\n",
       "       [ 4.5,  5.5],\n",
       "       [ 3.5,  4.5],\n",
       "       [ 2.5,  3.5],\n",
       "       [ 1.5,  2.5],\n",
       "       [ 0.5,  1.5],\n",
       "       [-0.5,  0.5]]))\n",
       "nbins = 20),\n",
       "Axis(\"y\",\n",
       "points = array([4, 3, 2, 1, 0]),\n",
       "edges = edges: None)\n",
       "nbins = 5),)\n",
       "{'a': masked_array(\n",
       "  data=[[0.65243018, 0.70226269, 0.17480794, 0.09378894, 0.1312659 ],\n",
       "        [0.44919752, 0.6035897 , 0.56552003, 0.1349777 , 0.6362775 ],\n",
       "        [0.69875018, 0.3077587 , 0.12183795, 0.69785616, 0.28243023],\n",
       "        [0.81990218, 0.09280341, 0.4723043 , 0.0973698 , 0.85762372],\n",
       "        [0.57045693, 0.33809431, 0.92957358, 0.12150161, 0.90927818],\n",
       "        [0.44581242, 0.27014118, 0.08466066, 0.38988074, 0.48668796],\n",
       "        [0.50640771, 0.11149821, 0.33575484, 0.08029111, 0.76051727],\n",
       "        [0.20718963, 0.80381608, 0.84183202, 0.02910673, 0.70476937],\n",
       "        [0.96044229, 0.84038863, 0.01203133, 0.67972711, 0.6797894 ],\n",
       "        [0.54522241, 0.47622451, 0.70077352, 0.1901351 , 0.77515971],\n",
       "        [0.73260229, 0.53502847, 0.33131622, 0.89496012, 0.33132411],\n",
       "        [0.66601653, 0.33412888, 0.52242685, 0.73029883, 0.75378983],\n",
       "        [0.23606187, 0.00308431, 0.78321418, 0.31767026, 0.04864381],\n",
       "        [0.82226667, 0.13877124, 0.42560374, 0.74727908, 0.33128204],\n",
       "        [0.66249081, 0.32895641, 0.41528486, 0.85681531, 0.3344462 ],\n",
       "        [0.73173853, 0.45038305, 0.72694336, 0.44039308, 0.8881704 ],\n",
       "        [0.96821113, 0.73374006, 0.60983581, 0.06604334, 0.23470561],\n",
       "        [0.91723012, 0.83858271, 0.21190741, 0.49616465, 0.40318125],\n",
       "        [0.18709596, 0.16908034, 0.6959138 , 0.89460832, 0.08917328],\n",
       "        [0.98215066, 0.09375249, 0.82241604, 0.5251797 , 0.5422471 ]],\n",
       "  mask=False,\n",
       "  fill_value=1e+20), 'b': masked_array(\n",
       "  data=[[ 1.,  1., -1., -1., -1.],\n",
       "        [-1.,  1.,  1., -1.,  1.],\n",
       "        [ 1., -1., -1.,  1., -1.],\n",
       "        [ 1., -1., -1., -1.,  1.],\n",
       "        [ 1., -1.,  1., -1.,  1.],\n",
       "        [-1., -1., -1., -1., -1.],\n",
       "        [ 1., -1., -1., -1.,  1.],\n",
       "        [-1.,  1.,  1., -1.,  1.],\n",
       "        [ 1.,  1., -1.,  1.,  1.],\n",
       "        [ 1., -1.,  1., -1.,  1.],\n",
       "        [ 1.,  1., -1.,  1., -1.],\n",
       "        [ 1., -1.,  1.,  1.,  1.],\n",
       "        [-1., -1.,  1., -1., -1.],\n",
       "        [ 1., -1., -1.,  1., -1.],\n",
       "        [ 1., -1., -1.,  1., -1.],\n",
       "        [ 1., -1.,  1., -1.,  1.],\n",
       "        [ 1.,  1.,  1., -1., -1.],\n",
       "        [ 1.,  1., -1., -1., -1.],\n",
       "        [-1., -1.,  1.,  1., -1.],\n",
       "        [ 1., -1.,  1.,  1.,  1.]],\n",
       "  mask=False,\n",
       "  fill_value=1e+20)})"
      ]
     },
     "execution_count": 78,
     "metadata": {},
     "output_type": "execute_result"
    }
   ],
   "source": [
    "g[::-1, ::-1]"
   ]
  },
  {
   "cell_type": "code",
   "execution_count": 79,
   "metadata": {},
   "outputs": [
    {
     "data": {
      "text/html": [
       "<table>\n",
       "<tbody>\n",
       "<tr><td><b>y \\ x</b></td><td><b>[-0.5 | 0 | 0.5]</b></td><td><b>[2.5 | 3 | 3.5]</b></td><td><b>[4.5 | 5 | 5.5]</b></td></tr>\n",
       "<tr><td><b>2</b>    </td><td>a = 0.822<br>b = 1     </td><td>a = 0.61<br>b = 1     </td><td>a = 0.415<br>b = -1   </td></tr>\n",
       "<tr><td><b>3</b>    </td><td>a = 0.0938<br>b = -1   </td><td>a = 0.734<br>b = 1    </td><td>a = 0.329<br>b = -1   </td></tr>\n",
       "</tbody>\n",
       "</table>"
      ],
      "text/plain": [
       "GridData(Grid(\n",
       "Axis(\"x\",\n",
       "points = array([0, 3, 5]),\n",
       "edges = edges: array([[-0.5,  0.5],\n",
       "       [ 2.5,  3.5],\n",
       "       [ 4.5,  5.5]]))\n",
       "nbins = 3),\n",
       "Axis(\"y\",\n",
       "points = array([2, 3]),\n",
       "edges = edges: None)\n",
       "nbins = 2),)\n",
       "{'a': masked_array(\n",
       "  data=[[0.82241604, 0.09375249],\n",
       "        [0.60983581, 0.73374006],\n",
       "        [0.41528486, 0.32895641]],\n",
       "  mask=False,\n",
       "  fill_value=1e+20), 'b': masked_array(\n",
       "  data=[[ 1., -1.],\n",
       "        [ 1.,  1.],\n",
       "        [-1., -1.]],\n",
       "  mask=False,\n",
       "  fill_value=1e+20)})"
      ]
     },
     "execution_count": 79,
     "metadata": {},
     "output_type": "execute_result"
    }
   ],
   "source": [
    "g[[0,3,5], 2:-1]"
   ]
  },
  {
   "cell_type": "code",
   "execution_count": 80,
   "metadata": {},
   "outputs": [
    {
     "data": {
      "text/plain": [
       "{'a': 0.5422470976381163, 'b': 1.0}"
      ]
     },
     "execution_count": 80,
     "metadata": {},
     "output_type": "execute_result"
    }
   ],
   "source": [
    "g[0,0]"
   ]
  },
  {
   "cell_type": "code",
   "execution_count": 81,
   "metadata": {},
   "outputs": [
    {
     "data": {
      "text/plain": [
       "19.5"
      ]
     },
     "execution_count": 81,
     "metadata": {},
     "output_type": "execute_result"
    }
   ],
   "source": [
    "g.grid.edges[0].max()"
   ]
  },
  {
   "cell_type": "code",
   "execution_count": 82,
   "metadata": {},
   "outputs": [
    {
     "data": {
      "text/html": [
       "<table>\n",
       "<tbody>\n",
       "<tr><td><b>y</b></td><td><b>0</b></td><td><b>1</b></td><td><b>2</b></td><td><b>3</b></td><td><b>4</b></td></tr>\n",
       "<tr><td><b></b> </td><td>0.271   </td><td>0.104   </td><td>0.268   </td><td>-0.0347 </td><td>0.74    </td></tr>\n",
       "</tbody>\n",
       "</table>"
      ],
      "text/plain": [
       "GridArray(noname : [0.270842052333432 0.1037414840061942 0.26847249993518396\n",
       " -0.034693930968409836 0.740105714753746])"
      ]
     },
     "execution_count": 82,
     "metadata": {},
     "output_type": "execute_result"
    }
   ],
   "source": [
    "np.mean(g['b'], axis='x') + np.std(g['a'], axis='x')"
   ]
  },
  {
   "cell_type": "code",
   "execution_count": 83,
   "metadata": {},
   "outputs": [],
   "source": [
    "g['c'] = np.sqrt(g['x']) * np.sqrt(g['y'])"
   ]
  },
  {
   "cell_type": "code",
   "execution_count": 84,
   "metadata": {},
   "outputs": [
    {
     "data": {
      "text/plain": [
       "<matplotlib.collections.QuadMesh at 0x7f5dcab11518>"
      ]
     },
     "execution_count": 84,
     "metadata": {},
     "output_type": "execute_result"
    },
    {
     "data": {
      "image/png": "[encoded data removed]",
      "text/plain": [
       "<Figure size 432x288 with 2 Axes>"
      ]
     },
     "metadata": {
      "needs_background": "light"
     },
     "output_type": "display_data"
    }
   ],
   "source": [
    "g.plot('c', cbar=True)"
   ]
  },
  {
   "cell_type": "code",
   "execution_count": 85,
   "metadata": {},
   "outputs": [],
   "source": [
    "g['m'] = np.arange(g.grid.size * 3).reshape(g.shape + (-1,))"
   ]
  },
  {
   "cell_type": "code",
   "execution_count": 86,
   "metadata": {},
   "outputs": [
    {
     "name": "stderr",
     "output_type": "stream",
     "text": [
      "Clipping input data to the valid range for imshow with RGB data ([0..1] for floats or [0..255] for integers).\n"
     ]
    },
    {
     "data": {
      "text/plain": [
       "<matplotlib.image.AxesImage at 0x7f5dcaa3cb38>"
      ]
     },
     "execution_count": 86,
     "metadata": {},
     "output_type": "execute_result"
    },
    {
     "data": {
      "image/png": "[encoded data removed]",
      "text/plain": [
       "<Figure size 432x288 with 1 Axes>"
      ]
     },
     "metadata": {
      "needs_background": "light"
     },
     "output_type": "display_data"
    }
   ],
   "source": [
    "g.plot('m') #it's interpreted as an RGB image, since the excess dimension is 3"
   ]
  },
  {
   "cell_type": "code",
   "execution_count": 87,
   "metadata": {},
   "outputs": [
    {
     "data": {
      "text/html": [
       "<table>\n",
       "<tbody>\n",
       "<tr><td><b>y \\ x</b></td><td><b>[-0.5 | 0 | 0.5]</b></td><td><b>[0.5 | 1 | 1.5]</b></td><td><b>[1.5 | 2 | 2.5]</b></td><td><b>[2.5 | 3 | 3.5]</b></td><td><b>[3.5 | 4 | 4.5]</b></td><td><b>[4.5 | 5 | 5.5]</b></td><td>...</td><td><b>[13.5 | 14 | 14.5]</b></td><td><b>[14.5 | 15 | 15.5]</b></td><td><b>[15.5 | 16 | 16.5]</b></td><td><b>[16.5 | 17 | 17.5]</b></td><td><b>[17.5 | 18 | 18.5]</b></td><td><b>[18.5 | 19 | 19.5]</b></td></tr>\n",
       "<tr><td><b>0</b>    </td><td>0                      </td><td>15                    </td><td>30                    </td><td>45                    </td><td>60                    </td><td>75                    </td><td>...</td><td>210                      </td><td>225                      </td><td>240                      </td><td>255                      </td><td>270                      </td><td>285                      </td></tr>\n",
       "<tr><td><b>1</b>    </td><td>3                      </td><td>18                    </td><td>33                    </td><td>48                    </td><td>63                    </td><td>78                    </td><td>...</td><td>213                      </td><td>228                      </td><td>243                      </td><td>258                      </td><td>273                      </td><td>288                      </td></tr>\n",
       "<tr><td><b>2</b>    </td><td>6                      </td><td>21                    </td><td>36                    </td><td>51                    </td><td>66                    </td><td>81                    </td><td>...</td><td>216                      </td><td>231                      </td><td>246                      </td><td>261                      </td><td>276                      </td><td>291                      </td></tr>\n",
       "<tr><td><b>3</b>    </td><td>9                      </td><td>24                    </td><td>39                    </td><td>54                    </td><td>69                    </td><td>84                    </td><td>...</td><td>219                      </td><td>234                      </td><td>249                      </td><td>264                      </td><td>279                      </td><td>294                      </td></tr>\n",
       "<tr><td><b>4</b>    </td><td>12                     </td><td>27                    </td><td>42                    </td><td>57                    </td><td>72                    </td><td>87                    </td><td>...</td><td>222                      </td><td>237                      </td><td>252                      </td><td>267                      </td><td>282                      </td><td>297                      </td></tr>\n",
       "</tbody>\n",
       "</table>"
      ],
      "text/plain": [
       "GridArray(noname : [[  0   3   6   9  12]\n",
       " [ 15  18  21  24  27]\n",
       " [ 30  33  36  39  42]\n",
       " [ 45  48  51  54  57]\n",
       " [ 60  63  66  69  72]\n",
       " [ 75  78  81  84  87]\n",
       " [ 90  93  96  99 102]\n",
       " [105 108 111 114 117]\n",
       " [120 123 126 129 132]\n",
       " [135 138 141 144 147]\n",
       " [150 153 156 159 162]\n",
       " [165 168 171 174 177]\n",
       " [180 183 186 189 192]\n",
       " [195 198 201 204 207]\n",
       " [210 213 216 219 222]\n",
       " [225 228 231 234 237]\n",
       " [240 243 246 249 252]\n",
       " [255 258 261 264 267]\n",
       " [270 273 276 279 282]\n",
       " [285 288 291 294 297]])"
      ]
     },
     "execution_count": 87,
     "metadata": {},
     "output_type": "execute_result"
    }
   ],
   "source": [
    "g['m'][:,:,0]"
   ]
  },
  {
   "cell_type": "code",
   "execution_count": 88,
   "metadata": {},
   "outputs": [
    {
     "data": {
      "text/html": [
       "<table>\n",
       "<tbody>\n",
       "<tr><td><b>x</b></td><td><b>[-0.5 | 0 | 0.5]</b></td><td><b>[0.5 | 1 | 1.5]</b></td><td><b>[1.5 | 2 | 2.5]</b></td><td><b>[2.5 | 3 | 3.5]</b></td><td><b>[3.5 | 4 | 4.5]</b></td><td><b>[4.5 | 5 | 5.5]</b></td><td>...</td><td><b>[13.5 | 14 | 14.5]</b></td><td><b>[14.5 | 15 | 15.5]</b></td><td><b>[15.5 | 16 | 16.5]</b></td><td><b>[16.5 | 17 | 17.5]</b></td><td><b>[17.5 | 18 | 18.5]</b></td><td><b>[18.5 | 19 | 19.5]</b></td></tr>\n",
       "<tr><td><b>a</b></td><td>0.0938                 </td><td>0.169                 </td><td>0.839                 </td><td>0.734                 </td><td>0.45                  </td><td>0.329                 </td><td>...</td><td>0.27                     </td><td>0.338                    </td><td>0.0928                   </td><td>0.308                    </td><td>0.604                    </td><td>0.702                    </td></tr>\n",
       "<tr><td><b>b</b></td><td>-1                     </td><td>-1                    </td><td>1                     </td><td>1                     </td><td>-1                    </td><td>-1                    </td><td>...</td><td>-1                       </td><td>-1                       </td><td>-1                       </td><td>-1                       </td><td>1                        </td><td>1                        </td></tr>\n",
       "<tr><td><b>c</b></td><td>0                      </td><td>1.73                  </td><td>2.45                  </td><td>3                     </td><td>3.46                  </td><td>3.87                  </td><td>...</td><td>6.48                     </td><td>6.71                     </td><td>6.93                     </td><td>7.14                     </td><td>7.35                     </td><td>7.55                     </td></tr>\n",
       "<tr><td><b>m</b></td><td>[ 9 10 11]             </td><td>[24 25 26]            </td><td>[39 40 41]            </td><td>[54 55 56]            </td><td>[69 70 71]            </td><td>[84 85 86]            </td><td>...</td><td>[219 220 221]            </td><td>[234 235 236]            </td><td>[249 250 251]            </td><td>[264 265 266]            </td><td>[279 280 281]            </td><td>[294 295 296]            </td></tr>\n",
       "</tbody>\n",
       "</table>"
      ],
      "text/plain": [
       "GridData(Grid(\n",
       "Axis(\"x\",\n",
       "points = array([ 0,  1,  2,  3,  4,  5,  6,  7,  8,  9, 10, 11, 12, 13, 14, 15, 16,\n",
       "       17, 18, 19]),\n",
       "edges = edges: array([[-0.5,  0.5],\n",
       "       [ 0.5,  1.5],\n",
       "       [ 1.5,  2.5],\n",
       "       [ 2.5,  3.5],\n",
       "       [ 3.5,  4.5],\n",
       "       [ 4.5,  5.5],\n",
       "       [ 5.5,  6.5],\n",
       "       [ 6.5,  7.5],\n",
       "       [ 7.5,  8.5],\n",
       "       [ 8.5,  9.5],\n",
       "       [ 9.5, 10.5],\n",
       "       [10.5, 11.5],\n",
       "       [11.5, 12.5],\n",
       "       [12.5, 13.5],\n",
       "       [13.5, 14.5],\n",
       "       [14.5, 15.5],\n",
       "       [15.5, 16.5],\n",
       "       [16.5, 17.5],\n",
       "       [17.5, 18.5],\n",
       "       [18.5, 19.5]]))\n",
       "nbins = 20),)\n",
       "{'a': masked_array(data=[0.09375249, 0.16908034, 0.83858271, 0.73374006,\n",
       "                   0.45038305, 0.32895641, 0.13877124, 0.00308431,\n",
       "                   0.33412888, 0.53502847, 0.47622451, 0.84038863,\n",
       "                   0.80381608, 0.11149821, 0.27014118, 0.33809431,\n",
       "                   0.09280341, 0.3077587 , 0.6035897 , 0.70226269],\n",
       "             mask=False,\n",
       "       fill_value=1e+20), 'b': masked_array(data=[-1., -1.,  1.,  1., -1., -1., -1., -1., -1.,  1., -1.,\n",
       "                    1.,  1., -1., -1., -1., -1., -1.,  1.,  1.],\n",
       "             mask=False,\n",
       "       fill_value=1e+20), 'c': masked_array(data=[0.0, 1.7320508075688772, 2.4494897427831783,\n",
       "                   2.9999999999999996, 3.4641016151377544,\n",
       "                   3.872983346207417, 4.242640687119285, 4.58257569495584,\n",
       "                   4.898979485566357, 5.196152422706632,\n",
       "                   5.477225575051661, 5.744562646538029,\n",
       "                   5.999999999999999, 6.244997998398397,\n",
       "                   6.4807406984078595, 6.7082039324993685,\n",
       "                   6.928203230275509, 7.1414284285428495,\n",
       "                   7.348469228349534, 7.54983443527075],\n",
       "             mask=[False, False, False, False, False, False, False, False,\n",
       "                   False, False, False, False, False, False, False, False,\n",
       "                   False, False, False, False],\n",
       "       fill_value=1e+20), 'm': masked_array(\n",
       "  data=[[  9,  10,  11],\n",
       "        [ 24,  25,  26],\n",
       "        [ 39,  40,  41],\n",
       "        [ 54,  55,  56],\n",
       "        [ 69,  70,  71],\n",
       "        [ 84,  85,  86],\n",
       "        [ 99, 100, 101],\n",
       "        [114, 115, 116],\n",
       "        [129, 130, 131],\n",
       "        [144, 145, 146],\n",
       "        [159, 160, 161],\n",
       "        [174, 175, 176],\n",
       "        [189, 190, 191],\n",
       "        [204, 205, 206],\n",
       "        [219, 220, 221],\n",
       "        [234, 235, 236],\n",
       "        [249, 250, 251],\n",
       "        [264, 265, 266],\n",
       "        [279, 280, 281],\n",
       "        [294, 295, 296]],\n",
       "  mask=False,\n",
       "  fill_value=999999)})"
      ]
     },
     "execution_count": 88,
     "metadata": {},
     "output_type": "execute_result"
    }
   ],
   "source": [
    "g[:,3]"
   ]
  },
  {
   "cell_type": "code",
   "execution_count": 89,
   "metadata": {},
   "outputs": [
    {
     "data": {
      "text/html": [
       "<table>\n",
       "<tbody>\n",
       "<tr><td><b>y \\ x</b></td><td><b>[-0.5 | 0 | 0.5]</b></td><td><b>[0.5 | 1 | 1.5]</b></td><td><b>[1.5 | 2 | 2.5]</b></td><td><b>[2.5 | 3 | 3.5]</b></td><td><b>[3.5 | 4 | 4.5]</b></td><td><b>[4.5 | 5 | 5.5]</b></td><td>...</td><td><b>[13.5 | 14 | 14.5]</b></td><td><b>[14.5 | 15 | 15.5]</b></td><td><b>[15.5 | 16 | 16.5]</b></td><td><b>[16.5 | 17 | 17.5]</b></td><td><b>[17.5 | 18 | 18.5]</b></td><td><b>[18.5 | 19 | 19.5]</b></td></tr>\n",
       "<tr><td><b>0</b>    </td><td>[0 1 2]                </td><td>[15 16 17]            </td><td>[30 31 32]            </td><td>[45 46 47]            </td><td>[60 61 62]            </td><td>[75 76 77]            </td><td>...</td><td>[210 211 212]            </td><td>[225 226 227]            </td><td>[240 241 242]            </td><td>[255 256 257]            </td><td>[270 271 272]            </td><td>[285 286 287]            </td></tr>\n",
       "<tr><td><b>1</b>    </td><td>[3 4 5]                </td><td>[18 19 20]            </td><td>[33 34 35]            </td><td>[48 49 50]            </td><td>[63 64 65]            </td><td>[78 79 80]            </td><td>...</td><td>[213 214 215]            </td><td>[228 229 230]            </td><td>[243 244 245]            </td><td>[258 259 260]            </td><td>[273 274 275]            </td><td>[288 289 290]            </td></tr>\n",
       "<tr><td><b>2</b>    </td><td>[6 7 8]                </td><td>[21 22 23]            </td><td>[36 37 38]            </td><td>[51 52 53]            </td><td>[66 67 68]            </td><td>[81 82 83]            </td><td>...</td><td>[216 217 218]            </td><td>[231 232 233]            </td><td>[246 247 248]            </td><td>[261 262 263]            </td><td>[276 277 278]            </td><td>[291 292 293]            </td></tr>\n",
       "<tr><td><b>3</b>    </td><td>[ 9 10 11]             </td><td>[24 25 26]            </td><td>[39 40 41]            </td><td>[54 55 56]            </td><td>[69 70 71]            </td><td>[84 85 86]            </td><td>...</td><td>[219 220 221]            </td><td>[234 235 236]            </td><td>[249 250 251]            </td><td>[264 265 266]            </td><td>[279 280 281]            </td><td>[294 295 296]            </td></tr>\n",
       "<tr><td><b>4</b>    </td><td>[12 13 14]             </td><td>[27 28 29]            </td><td>[42 43 44]            </td><td>[57 58 59]            </td><td>[72 73 74]            </td><td>[87 88 89]            </td><td>...</td><td>[222 223 224]            </td><td>[237 238 239]            </td><td>[252 253 254]            </td><td>[267 268 269]            </td><td>[282 283 284]            </td><td>[297 298 299]            </td></tr>\n",
       "</tbody>\n",
       "</table>"
      ],
      "text/plain": [
       "GridArray(noname : [[[  0   1   2]\n",
       "  [  3   4   5]\n",
       "  [  6   7   8]\n",
       "  [  9  10  11]\n",
       "  [ 12  13  14]]\n",
       "\n",
       " [[ 15  16  17]\n",
       "  [ 18  19  20]\n",
       "  [ 21  22  23]\n",
       "  [ 24  25  26]\n",
       "  [ 27  28  29]]\n",
       "\n",
       " [[ 30  31  32]\n",
       "  [ 33  34  35]\n",
       "  [ 36  37  38]\n",
       "  [ 39  40  41]\n",
       "  [ 42  43  44]]\n",
       "\n",
       " [[ 45  46  47]\n",
       "  [ 48  49  50]\n",
       "  [ 51  52  53]\n",
       "  [ 54  55  56]\n",
       "  [ 57  58  59]]\n",
       "\n",
       " [[ 60  61  62]\n",
       "  [ 63  64  65]\n",
       "  [ 66  67  68]\n",
       "  [ 69  70  71]\n",
       "  [ 72  73  74]]\n",
       "\n",
       " [[ 75  76  77]\n",
       "  [ 78  79  80]\n",
       "  [ 81  82  83]\n",
       "  [ 84  85  86]\n",
       "  [ 87  88  89]]\n",
       "\n",
       " [[ 90  91  92]\n",
       "  [ 93  94  95]\n",
       "  [ 96  97  98]\n",
       "  [ 99 100 101]\n",
       "  [102 103 104]]\n",
       "\n",
       " [[105 106 107]\n",
       "  [108 109 110]\n",
       "  [111 112 113]\n",
       "  [114 115 116]\n",
       "  [117 118 119]]\n",
       "\n",
       " [[120 121 122]\n",
       "  [123 124 125]\n",
       "  [126 127 128]\n",
       "  [129 130 131]\n",
       "  [132 133 134]]\n",
       "\n",
       " [[135 136 137]\n",
       "  [138 139 140]\n",
       "  [141 142 143]\n",
       "  [144 145 146]\n",
       "  [147 148 149]]\n",
       "\n",
       " [[150 151 152]\n",
       "  [153 154 155]\n",
       "  [156 157 158]\n",
       "  [159 160 161]\n",
       "  [162 163 164]]\n",
       "\n",
       " [[165 166 167]\n",
       "  [168 169 170]\n",
       "  [171 172 173]\n",
       "  [174 175 176]\n",
       "  [177 178 179]]\n",
       "\n",
       " [[180 181 182]\n",
       "  [183 184 185]\n",
       "  [186 187 188]\n",
       "  [189 190 191]\n",
       "  [192 193 194]]\n",
       "\n",
       " [[195 196 197]\n",
       "  [198 199 200]\n",
       "  [201 202 203]\n",
       "  [204 205 206]\n",
       "  [207 208 209]]\n",
       "\n",
       " [[210 211 212]\n",
       "  [213 214 215]\n",
       "  [216 217 218]\n",
       "  [219 220 221]\n",
       "  [222 223 224]]\n",
       "\n",
       " [[225 226 227]\n",
       "  [228 229 230]\n",
       "  [231 232 233]\n",
       "  [234 235 236]\n",
       "  [237 238 239]]\n",
       "\n",
       " [[240 241 242]\n",
       "  [243 244 245]\n",
       "  [246 247 248]\n",
       "  [249 250 251]\n",
       "  [252 253 254]]\n",
       "\n",
       " [[255 256 257]\n",
       "  [258 259 260]\n",
       "  [261 262 263]\n",
       "  [264 265 266]\n",
       "  [267 268 269]]\n",
       "\n",
       " [[270 271 272]\n",
       "  [273 274 275]\n",
       "  [276 277 278]\n",
       "  [279 280 281]\n",
       "  [282 283 284]]\n",
       "\n",
       " [[285 286 287]\n",
       "  [288 289 290]\n",
       "  [291 292 293]\n",
       "  [294 295 296]\n",
       "  [297 298 299]]])"
      ]
     },
     "execution_count": 89,
     "metadata": {},
     "output_type": "execute_result"
    }
   ],
   "source": [
    "g['m']"
   ]
  },
  {
   "cell_type": "code",
   "execution_count": 90,
   "metadata": {},
   "outputs": [
    {
     "data": {
      "text/plain": [
       "[('a',\n",
       "  GridArray(noname : [[0.5422471  0.5251797  0.82241604 0.09375249 0.98215066]\n",
       "   [0.08917328 0.89460832 0.6959138  0.16908034 0.18709596]\n",
       "   [0.40318125 0.49616465 0.21190741 0.83858271 0.91723012]\n",
       "   [0.23470561 0.06604334 0.60983581 0.73374006 0.96821113]\n",
       "   [0.8881704  0.44039308 0.72694336 0.45038305 0.73173853]\n",
       "   [0.3344462  0.85681531 0.41528486 0.32895641 0.66249081]\n",
       "   [0.33128204 0.74727908 0.42560374 0.13877124 0.82226667]\n",
       "   [0.04864381 0.31767026 0.78321418 0.00308431 0.23606187]\n",
       "   [0.75378983 0.73029883 0.52242685 0.33412888 0.66601653]\n",
       "   [0.33132411 0.89496012 0.33131622 0.53502847 0.73260229]\n",
       "   [0.77515971 0.1901351  0.70077352 0.47622451 0.54522241]\n",
       "   [0.6797894  0.67972711 0.01203133 0.84038863 0.96044229]\n",
       "   [0.70476937 0.02910673 0.84183202 0.80381608 0.20718963]\n",
       "   [0.76051727 0.08029111 0.33575484 0.11149821 0.50640771]\n",
       "   [0.48668796 0.38988074 0.08466066 0.27014118 0.44581242]\n",
       "   [0.90927818 0.12150161 0.92957358 0.33809431 0.57045693]\n",
       "   [0.85762372 0.0973698  0.4723043  0.09280341 0.81990218]\n",
       "   [0.28243023 0.69785616 0.12183795 0.3077587  0.69875018]\n",
       "   [0.6362775  0.1349777  0.56552003 0.6035897  0.44919752]\n",
       "   [0.1312659  0.09378894 0.17480794 0.70226269 0.65243018]])),\n",
       " ('b', GridArray(noname : [[ 1.  1.  1. -1.  1.]\n",
       "   [-1.  1.  1. -1. -1.]\n",
       "   [-1. -1. -1.  1.  1.]\n",
       "   [-1. -1.  1.  1.  1.]\n",
       "   [ 1. -1.  1. -1.  1.]\n",
       "   [-1.  1. -1. -1.  1.]\n",
       "   [-1.  1. -1. -1.  1.]\n",
       "   [-1. -1.  1. -1. -1.]\n",
       "   [ 1.  1.  1. -1.  1.]\n",
       "   [-1.  1. -1.  1.  1.]\n",
       "   [ 1. -1.  1. -1.  1.]\n",
       "   [ 1.  1. -1.  1.  1.]\n",
       "   [ 1. -1.  1.  1. -1.]\n",
       "   [ 1. -1. -1. -1.  1.]\n",
       "   [-1. -1. -1. -1. -1.]\n",
       "   [ 1. -1.  1. -1.  1.]\n",
       "   [ 1. -1. -1. -1.  1.]\n",
       "   [-1.  1. -1. -1.  1.]\n",
       "   [ 1. -1.  1.  1. -1.]\n",
       "   [-1. -1. -1.  1.  1.]])),\n",
       " ('c', GridArray(noname : [[0.0 0.0 0.0 0.0 0.0]\n",
       "   [0.0 1.0 1.4142135623730951 1.7320508075688772 2.0]\n",
       "   [0.0 1.4142135623730951 2.0000000000000004 2.4494897427831783\n",
       "    2.8284271247461903]\n",
       "   [0.0 1.7320508075688772 2.4494897427831783 2.9999999999999996\n",
       "    3.4641016151377544]\n",
       "   [0.0 2.0 2.8284271247461903 3.4641016151377544 4.0]\n",
       "   [0.0 2.23606797749979 3.1622776601683795 3.872983346207417\n",
       "    4.47213595499958]\n",
       "   [0.0 2.449489742783178 3.4641016151377544 4.242640687119285\n",
       "    4.898979485566356]\n",
       "   [0.0 2.6457513110645907 3.7416573867739418 4.58257569495584\n",
       "    5.291502622129181]\n",
       "   [0.0 2.8284271247461903 4.000000000000001 4.898979485566357\n",
       "    5.656854249492381]\n",
       "   [0.0 3.0 4.242640687119286 5.196152422706632 6.0]\n",
       "   [0.0 3.1622776601683795 4.47213595499958 5.477225575051661\n",
       "    6.324555320336759]\n",
       "   [0.0 3.3166247903554 4.69041575982343 5.744562646538029 6.6332495807108]\n",
       "   [0.0 3.4641016151377544 4.898979485566357 5.999999999999999\n",
       "    6.928203230275509]\n",
       "   [0.0 3.605551275463989 5.099019513592785 6.244997998398397\n",
       "    7.211102550927978]\n",
       "   [0.0 3.7416573867739413 5.291502622129181 6.4807406984078595\n",
       "    7.483314773547883]\n",
       "   [0.0 3.872983346207417 5.477225575051662 6.7082039324993685\n",
       "    7.745966692414834]\n",
       "   [0.0 4.0 5.656854249492381 6.928203230275509 8.0]\n",
       "   [0.0 4.123105625617661 5.830951894845301 7.1414284285428495\n",
       "    8.246211251235321]\n",
       "   [0.0 4.242640687119285 6.0 7.348469228349534 8.48528137423857]\n",
       "   [0.0 4.358898943540674 6.164414002968978 7.54983443527075\n",
       "    8.717797887081348]])),\n",
       " ('m', GridArray(noname : [[[  0   1   2]\n",
       "    [  3   4   5]\n",
       "    [  6   7   8]\n",
       "    [  9  10  11]\n",
       "    [ 12  13  14]]\n",
       "  \n",
       "   [[ 15  16  17]\n",
       "    [ 18  19  20]\n",
       "    [ 21  22  23]\n",
       "    [ 24  25  26]\n",
       "    [ 27  28  29]]\n",
       "  \n",
       "   [[ 30  31  32]\n",
       "    [ 33  34  35]\n",
       "    [ 36  37  38]\n",
       "    [ 39  40  41]\n",
       "    [ 42  43  44]]\n",
       "  \n",
       "   [[ 45  46  47]\n",
       "    [ 48  49  50]\n",
       "    [ 51  52  53]\n",
       "    [ 54  55  56]\n",
       "    [ 57  58  59]]\n",
       "  \n",
       "   [[ 60  61  62]\n",
       "    [ 63  64  65]\n",
       "    [ 66  67  68]\n",
       "    [ 69  70  71]\n",
       "    [ 72  73  74]]\n",
       "  \n",
       "   [[ 75  76  77]\n",
       "    [ 78  79  80]\n",
       "    [ 81  82  83]\n",
       "    [ 84  85  86]\n",
       "    [ 87  88  89]]\n",
       "  \n",
       "   [[ 90  91  92]\n",
       "    [ 93  94  95]\n",
       "    [ 96  97  98]\n",
       "    [ 99 100 101]\n",
       "    [102 103 104]]\n",
       "  \n",
       "   [[105 106 107]\n",
       "    [108 109 110]\n",
       "    [111 112 113]\n",
       "    [114 115 116]\n",
       "    [117 118 119]]\n",
       "  \n",
       "   [[120 121 122]\n",
       "    [123 124 125]\n",
       "    [126 127 128]\n",
       "    [129 130 131]\n",
       "    [132 133 134]]\n",
       "  \n",
       "   [[135 136 137]\n",
       "    [138 139 140]\n",
       "    [141 142 143]\n",
       "    [144 145 146]\n",
       "    [147 148 149]]\n",
       "  \n",
       "   [[150 151 152]\n",
       "    [153 154 155]\n",
       "    [156 157 158]\n",
       "    [159 160 161]\n",
       "    [162 163 164]]\n",
       "  \n",
       "   [[165 166 167]\n",
       "    [168 169 170]\n",
       "    [171 172 173]\n",
       "    [174 175 176]\n",
       "    [177 178 179]]\n",
       "  \n",
       "   [[180 181 182]\n",
       "    [183 184 185]\n",
       "    [186 187 188]\n",
       "    [189 190 191]\n",
       "    [192 193 194]]\n",
       "  \n",
       "   [[195 196 197]\n",
       "    [198 199 200]\n",
       "    [201 202 203]\n",
       "    [204 205 206]\n",
       "    [207 208 209]]\n",
       "  \n",
       "   [[210 211 212]\n",
       "    [213 214 215]\n",
       "    [216 217 218]\n",
       "    [219 220 221]\n",
       "    [222 223 224]]\n",
       "  \n",
       "   [[225 226 227]\n",
       "    [228 229 230]\n",
       "    [231 232 233]\n",
       "    [234 235 236]\n",
       "    [237 238 239]]\n",
       "  \n",
       "   [[240 241 242]\n",
       "    [243 244 245]\n",
       "    [246 247 248]\n",
       "    [249 250 251]\n",
       "    [252 253 254]]\n",
       "  \n",
       "   [[255 256 257]\n",
       "    [258 259 260]\n",
       "    [261 262 263]\n",
       "    [264 265 266]\n",
       "    [267 268 269]]\n",
       "  \n",
       "   [[270 271 272]\n",
       "    [273 274 275]\n",
       "    [276 277 278]\n",
       "    [279 280 281]\n",
       "    [282 283 284]]\n",
       "  \n",
       "   [[285 286 287]\n",
       "    [288 289 290]\n",
       "    [291 292 293]\n",
       "    [294 295 296]\n",
       "    [297 298 299]]]))]"
      ]
     },
     "execution_count": 90,
     "metadata": {},
     "output_type": "execute_result"
    }
   ],
   "source": [
    "g.items()"
   ]
  },
  {
   "cell_type": "code",
   "execution_count": 91,
   "metadata": {},
   "outputs": [
    {
     "data": {
      "text/html": [
       "<table>\n",
       "<tbody>\n",
       "<tr><td><b>x \\ y</b>          </td><td><b>0</b>  </td><td><b>1</b>  </td><td><b>2</b>  </td><td><b>3</b>  </td><td><b>4</b>  </td></tr>\n",
       "<tr><td><b>[2.5 | 3 | 3.5]</b></td><td>[45 46 47]</td><td>[48 49 50]</td><td>[51 52 53]</td><td>[54 55 56]</td><td>[57 58 59]</td></tr>\n",
       "<tr><td><b>[3.5 | 4 | 4.5]</b></td><td>[60 61 62]</td><td>[63 64 65]</td><td>[66 67 68]</td><td>[69 70 71]</td><td>[72 73 74]</td></tr>\n",
       "</tbody>\n",
       "</table>"
      ],
      "text/plain": [
       "GridArray(noname : [[[45 46 47]\n",
       "  [60 61 62]]\n",
       "\n",
       " [[48 49 50]\n",
       "  [63 64 65]]\n",
       "\n",
       " [[51 52 53]\n",
       "  [66 67 68]]\n",
       "\n",
       " [[54 55 56]\n",
       "  [69 70 71]]\n",
       "\n",
       " [[57 58 59]\n",
       "  [72 73 74]]])"
      ]
     },
     "execution_count": 91,
     "metadata": {},
     "output_type": "execute_result"
    }
   ],
   "source": [
    "g.T[:,3:5]['m']"
   ]
  },
  {
   "cell_type": "code",
   "execution_count": 92,
   "metadata": {},
   "outputs": [
    {
     "data": {
      "text/plain": [
       "OrderedDict([('a', 49.38253040558932),\n",
       "             ('b', 0.0),\n",
       "             ('c', 351.52847238221136),\n",
       "             ('m', 44850)])"
      ]
     },
     "execution_count": 92,
     "metadata": {},
     "output_type": "execute_result"
    }
   ],
   "source": [
    "np.sum(g)"
   ]
  },
  {
   "cell_type": "code",
   "execution_count": 93,
   "metadata": {},
   "outputs": [
    {
     "data": {
      "text/html": [
       "<table>\n",
       "<tbody>\n",
       "<tr><td><b>y</b></td><td><b>0</b>        </td><td><b>1</b>        </td><td><b>2</b>        </td><td><b>3</b>        </td><td><b>4</b>        </td></tr>\n",
       "<tr><td><b>a</b></td><td>10.2            </td><td>8.48            </td><td>9.78            </td><td>8.17            </td><td>12.8            </td></tr>\n",
       "<tr><td><b>b</b></td><td>0               </td><td>-4              </td><td>0               </td><td>-6              </td><td>10              </td></tr>\n",
       "<tr><td><b>c</b></td><td>0               </td><td>57.2            </td><td>80.9            </td><td>99.1            </td><td>114             </td></tr>\n",
       "<tr><td><b>m</b></td><td>[2850 2870 2890]</td><td>[2910 2930 2950]</td><td>[2970 2990 3010]</td><td>[3030 3050 3070]</td><td>[3090 3110 3130]</td></tr>\n",
       "</tbody>\n",
       "</table>"
      ],
      "text/plain": [
       "GridData(Grid(\n",
       "Axis(\"y\",\n",
       "points = array([0, 1, 2, 3, 4]),\n",
       "edges = edges: None)\n",
       "nbins = 5),)\n",
       "{'a': masked_array(data=[10.18076287,  8.48404769,  9.78395845,  8.17208538,\n",
       "                   12.76167602],\n",
       "             mask=False,\n",
       "       fill_value=1e+20), 'b': masked_array(data=[ 0., -4.,  0., -6., 10.],\n",
       "             mask=False,\n",
       "       fill_value=1e+20), 'c': masked_array(data=[  0.        ,  57.19384186,  80.88430684,  99.06263998,\n",
       "                   114.38768371],\n",
       "             mask=False,\n",
       "       fill_value=1e+20), 'm': masked_array(\n",
       "  data=[[2850, 2870, 2890],\n",
       "        [2910, 2930, 2950],\n",
       "        [2970, 2990, 3010],\n",
       "        [3030, 3050, 3070],\n",
       "        [3090, 3110, 3130]],\n",
       "  mask=False,\n",
       "  fill_value=999999)})"
      ]
     },
     "execution_count": 93,
     "metadata": {},
     "output_type": "execute_result"
    }
   ],
   "source": [
    "np.sum(g, axis=(0))"
   ]
  },
  {
   "cell_type": "markdown",
   "metadata": {},
   "source": [
    "# Stuff to fix"
   ]
  },
  {
   "cell_type": "code",
   "execution_count": 94,
   "metadata": {},
   "outputs": [
    {
     "data": {
      "text/plain": [
       "array([14850, 14950, 15050])"
      ]
     },
     "execution_count": 94,
     "metadata": {},
     "output_type": "execute_result"
    }
   ],
   "source": [
    "np.sum(g['m'], axis=(0,1))"
   ]
  },
  {
   "cell_type": "code",
   "execution_count": 95,
   "metadata": {},
   "outputs": [
    {
     "data": {
      "text/plain": [
       "Grid(\n",
       "Axis(\"x\",\n",
       "points = array([ 0,  1,  2,  3,  4,  5,  6,  7,  8,  9, 10, 11, 12, 13, 14, 15, 16,\n",
       "       17, 18, 19]),\n",
       "edges = edges: array([[-0.5,  0.5],\n",
       "       [ 0.5,  1.5],\n",
       "       [ 1.5,  2.5],\n",
       "       [ 2.5,  3.5],\n",
       "       [ 3.5,  4.5],\n",
       "       [ 4.5,  5.5],\n",
       "       [ 5.5,  6.5],\n",
       "       [ 6.5,  7.5],\n",
       "       [ 7.5,  8.5],\n",
       "       [ 8.5,  9.5],\n",
       "       [ 9.5, 10.5],\n",
       "       [10.5, 11.5],\n",
       "       [11.5, 12.5],\n",
       "       [12.5, 13.5],\n",
       "       [13.5, 14.5],\n",
       "       [14.5, 15.5],\n",
       "       [15.5, 16.5],\n",
       "       [16.5, 17.5],\n",
       "       [17.5, 18.5],\n",
       "       [18.5, 19.5]]))\n",
       "nbins = 20),\n",
       "Axis(\"y\",\n",
       "points = array([0, 1, 2, 3, 4]),\n",
       "edges = edges: None)\n",
       "nbins = 5),)"
      ]
     },
     "execution_count": 95,
     "metadata": {},
     "output_type": "execute_result"
    }
   ],
   "source": [
    "# because of this\n",
    "np.sum(g['m'], axis=-1).grid"
   ]
  },
  {
   "cell_type": "code",
   "execution_count": 96,
   "metadata": {},
   "outputs": [
    {
     "data": {
      "text/html": [
       "<table>\n",
       "<tbody>\n",
       "<tr><td><b>y \\ x</b></td><td><b>[-0.5 | 0 | 0.5]</b></td><td><b>[0.5 | 1 | 1.5]</b></td><td><b>[1.5 | 2 | 2.5]</b></td><td><b>[2.5 | 3 | 3.5]</b></td><td><b>[3.5 | 4 | 4.5]</b></td><td><b>[4.5 | 5 | 5.5]</b></td><td>...</td><td><b>[13.5 | 14 | 14.5]</b></td><td><b>[14.5 | 15 | 15.5]</b></td><td><b>[15.5 | 16 | 16.5]</b></td><td><b>[16.5 | 17 | 17.5]</b></td><td><b>[17.5 | 18 | 18.5]</b></td><td><b>[18.5 | 19 | 19.5]</b></td></tr>\n",
       "<tr><td><b>0</b>    </td><td>3                      </td><td>48                    </td><td>93                    </td><td>138                   </td><td>183                   </td><td>228                   </td><td>...</td><td>633                      </td><td>678                      </td><td>723                      </td><td>768                      </td><td>813                      </td><td>858                      </td></tr>\n",
       "<tr><td><b>1</b>    </td><td>12                     </td><td>57                    </td><td>102                   </td><td>147                   </td><td>192                   </td><td>237                   </td><td>...</td><td>642                      </td><td>687                      </td><td>732                      </td><td>777                      </td><td>822                      </td><td>867                      </td></tr>\n",
       "<tr><td><b>2</b>    </td><td>21                     </td><td>66                    </td><td>111                   </td><td>156                   </td><td>201                   </td><td>246                   </td><td>...</td><td>651                      </td><td>696                      </td><td>741                      </td><td>786                      </td><td>831                      </td><td>876                      </td></tr>\n",
       "<tr><td><b>3</b>    </td><td>30                     </td><td>75                    </td><td>120                   </td><td>165                   </td><td>210                   </td><td>255                   </td><td>...</td><td>660                      </td><td>705                      </td><td>750                      </td><td>795                      </td><td>840                      </td><td>885                      </td></tr>\n",
       "<tr><td><b>4</b>    </td><td>39                     </td><td>84                    </td><td>129                   </td><td>174                   </td><td>219                   </td><td>264                   </td><td>...</td><td>669                      </td><td>714                      </td><td>759                      </td><td>804                      </td><td>849                      </td><td>894                      </td></tr>\n",
       "</tbody>\n",
       "</table>"
      ],
      "text/plain": [
       "GridArray(noname : [[  3  12  21  30  39]\n",
       " [ 48  57  66  75  84]\n",
       " [ 93 102 111 120 129]\n",
       " [138 147 156 165 174]\n",
       " [183 192 201 210 219]\n",
       " [228 237 246 255 264]\n",
       " [273 282 291 300 309]\n",
       " [318 327 336 345 354]\n",
       " [363 372 381 390 399]\n",
       " [408 417 426 435 444]\n",
       " [453 462 471 480 489]\n",
       " [498 507 516 525 534]\n",
       " [543 552 561 570 579]\n",
       " [588 597 606 615 624]\n",
       " [633 642 651 660 669]\n",
       " [678 687 696 705 714]\n",
       " [723 732 741 750 759]\n",
       " [768 777 786 795 804]\n",
       " [813 822 831 840 849]\n",
       " [858 867 876 885 894]])"
      ]
     },
     "execution_count": 96,
     "metadata": {},
     "output_type": "execute_result"
    }
   ],
   "source": [
    "np.sum(g['m'], axis=-1)"
   ]
  },
  {
   "cell_type": "code",
   "execution_count": null,
   "metadata": {},
   "outputs": [],
   "source": []
  },
  {
   "cell_type": "code",
   "execution_count": 97,
   "metadata": {},
   "outputs": [
    {
     "data": {
      "text/html": [
       "<table>\n",
       "<tbody>\n",
       "<tr><td><b>y \\ x</b></td><td><b>[-0.5 | 0 | 0.5]</b></td><td><b>[0.5 | 1 | 1.5]</b></td><td><b>[1.5 | 2 | 2.5]</b></td><td><b>[2.5 | 3 | 3.5]</b></td><td><b>[3.5 | 4 | 4.5]</b></td><td><b>[4.5 | 5 | 5.5]</b></td><td>...</td><td><b>[13.5 | 14 | 14.5]</b></td><td><b>[14.5 | 15 | 15.5]</b></td><td><b>[15.5 | 16 | 16.5]</b></td><td><b>[16.5 | 17 | 17.5]</b></td><td><b>[17.5 | 18 | 18.5]</b></td><td><b>[18.5 | 19 | 19.5]</b></td></tr>\n",
       "<tr><td><b>0</b>    </td><td>-0.627                 </td><td>0.732                 </td><td>-0.21                 </td><td>0.296                 </td><td>-1.66                 </td><td>-0.00334              </td><td>...</td><td>-0.46                    </td><td>-1.73                    </td><td>-1.57                    </td><td>0.153                    </td><td>-0.909                   </td><td>0.606                    </td></tr>\n",
       "<tr><td><b>1</b>    </td><td>-0.576                 </td><td>-1.68                 </td><td>-0.488                </td><td>0.802                 </td><td>-0.321                </td><td>-1.57                 </td><td>...</td><td>-0.17                    </td><td>0.635                    </td><td>0.708                    </td><td>-1.09                    </td><td>0.595                    </td><td>0.719                    </td></tr>\n",
       "<tr><td><b>2</b>    </td><td>-1.47                  </td><td>-1.09                 </td><td>0.364                 </td><td>-0.83                 </td><td>-1.18                 </td><td>-0.246                </td><td>...</td><td>0.746                    </td><td>-1.79                    </td><td>-0.417                   </td><td>0.634                    </td><td>-0.697                   </td><td>0.476                    </td></tr>\n",
       "<tr><td><b>3</b>    </td><td>0.719                  </td><td>0.493                 </td><td>-1.52                 </td><td>-1.2                  </td><td>-0.351                </td><td>0.0131                </td><td>...</td><td>0.19                     </td><td>-0.0143                  </td><td>0.722                    </td><td>0.0767                   </td><td>-0.811                   </td><td>-1.11                    </td></tr>\n",
       "<tr><td><b>4</b>    </td><td>-1.95                  </td><td>0.439                 </td><td>-1.75                 </td><td>-1.9                  </td><td>-1.2                  </td><td>-0.987                </td><td>...</td><td>-0.337                   </td><td>-0.711                   </td><td>-1.46                    </td><td>-1.1                     </td><td>-0.348                   </td><td>-0.957                   </td></tr>\n",
       "</tbody>\n",
       "</table>"
      ],
      "text/plain": [
       "GridArray(noname : [[-0.62674129 -0.5755391  -1.46724811  0.71874254 -1.94645199]\n",
       " [ 0.73248016 -1.68382497 -1.08774141  0.49275898  0.43871212]\n",
       " [-0.20954374 -0.48849394  0.36427776 -1.51574812 -1.75169037]\n",
       " [ 0.29588316  0.80186997 -0.82950743 -1.20122019 -1.90463338]\n",
       " [-1.66451119 -0.32117924 -1.18083008 -0.35114915 -1.19521558]\n",
       " [-0.0033386  -1.57044592 -0.24585458  0.01313077 -0.98747244]\n",
       " [ 0.00615389 -1.24183723 -0.27681121  0.58368629 -1.46680002]\n",
       " [ 0.85406857  0.04698923 -1.34964254  0.99074707  0.29181439]\n",
       " [-1.2613695  -1.1908965  -0.56728056 -0.00238664 -0.99804959]\n",
       " [ 0.00602767 -1.68488037  0.00605133 -0.60508542 -1.19780688]\n",
       " [-1.32547914  0.4295947  -1.10232056 -0.42867352 -0.63566722]\n",
       " [-1.0393682  -1.03918133  0.96390601 -1.5211659  -1.88132687]\n",
       " [-1.1143081   0.91267981 -1.52549607 -1.41144823  0.37843111]\n",
       " [-1.28155182  0.75912668 -0.00726452  0.66550536 -0.51922312]\n",
       " [-0.46006387 -0.16964223  0.74601803  0.18957647 -0.33743727]\n",
       " [-1.72783453  0.63549517 -1.78872073 -0.01428294 -0.71137078]\n",
       " [-1.57287116  0.70789059 -0.4169129   0.72158977 -1.45970653]\n",
       " [ 0.1527093  -1.09356848  0.63448614  0.0767239  -1.09625053]\n",
       " [-0.9088325   0.59506689 -0.6965601  -0.81076911 -0.34759256]\n",
       " [ 0.6062023   0.71863319  0.47557618 -1.10678807 -0.95729054]])"
      ]
     },
     "execution_count": 97,
     "metadata": {},
     "output_type": "execute_result"
    }
   ],
   "source": [
    "1 - 3 * g['a']"
   ]
  },
  {
   "cell_type": "code",
   "execution_count": 98,
   "metadata": {},
   "outputs": [
    {
     "data": {
      "text/plain": [
       "4"
      ]
     },
     "execution_count": 98,
     "metadata": {},
     "output_type": "execute_result"
    }
   ],
   "source": [
    "2 ** g['a']"
   ]
  },
  {
   "cell_type": "code",
   "execution_count": 99,
   "metadata": {},
   "outputs": [
    {
     "data": {
      "text/html": [
       "<table>\n",
       "<tbody>\n",
       "<tr><td><b>y \\ x</b></td><td><b>[-0.5 | 0 | 0.5]</b></td><td><b>[0.5 | 1 | 1.5]</b></td><td><b>[1.5 | 2 | 2.5]</b></td><td><b>[2.5 | 3 | 3.5]</b></td><td><b>[3.5 | 4 | 4.5]</b></td><td><b>[4.5 | 5 | 5.5]</b></td><td>...</td><td><b>[13.5 | 14 | 14.5]</b></td><td><b>[14.5 | 15 | 15.5]</b></td><td><b>[15.5 | 16 | 16.5]</b></td><td><b>[16.5 | 17 | 17.5]</b></td><td><b>[17.5 | 18 | 18.5]</b></td><td><b>[18.5 | 19 | 19.5]</b></td></tr>\n",
       "<tr><td><b>0</b>    </td><td>0.542                  </td><td>0.0892                </td><td>0.403                 </td><td>0.235                 </td><td>0.888                 </td><td>0.334                 </td><td>...</td><td>0.487                    </td><td>0.909                    </td><td>0.858                    </td><td>0.282                    </td><td>0.636                    </td><td>0.131                    </td></tr>\n",
       "<tr><td><b>1</b>    </td><td>0.525                  </td><td>0.895                 </td><td>0.496                 </td><td>0.066                 </td><td>0.44                  </td><td>0.857                 </td><td>...</td><td>0.39                     </td><td>0.122                    </td><td>0.0974                   </td><td>0.698                    </td><td>0.135                    </td><td>0.0938                   </td></tr>\n",
       "<tr><td><b>2</b>    </td><td>0.822                  </td><td>0.696                 </td><td>0.212                 </td><td>0.61                  </td><td>0.727                 </td><td>0.415                 </td><td>...</td><td>0.0847                   </td><td>0.93                     </td><td>0.472                    </td><td>0.122                    </td><td>0.566                    </td><td>0.175                    </td></tr>\n",
       "<tr><td><b>3</b>    </td><td>0.0938                 </td><td>0.169                 </td><td>0.839                 </td><td>0.734                 </td><td>0.45                  </td><td>0.329                 </td><td>...</td><td>0.27                     </td><td>0.338                    </td><td>0.0928                   </td><td>0.308                    </td><td>0.604                    </td><td>0.702                    </td></tr>\n",
       "<tr><td><b>4</b>    </td><td>0.982                  </td><td>0.187                 </td><td>0.917                 </td><td>0.968                 </td><td>0.732                 </td><td>0.662                 </td><td>...</td><td>0.446                    </td><td>0.57                     </td><td>0.82                     </td><td>0.699                    </td><td>0.449                    </td><td>0.652                    </td></tr>\n",
       "</tbody>\n",
       "</table>"
      ],
      "text/plain": [
       "GridArray(noname : [[0.5422471  0.5251797  0.82241604 0.09375249 0.98215066]\n",
       " [0.08917328 0.89460832 0.6959138  0.16908034 0.18709596]\n",
       " [0.40318125 0.49616465 0.21190741 0.83858271 0.91723012]\n",
       " [0.23470561 0.06604334 0.60983581 0.73374006 0.96821113]\n",
       " [0.8881704  0.44039308 0.72694336 0.45038305 0.73173853]\n",
       " [0.3344462  0.85681531 0.41528486 0.32895641 0.66249081]\n",
       " [0.33128204 0.74727908 0.42560374 0.13877124 0.82226667]\n",
       " [0.04864381 0.31767026 0.78321418 0.00308431 0.23606187]\n",
       " [0.75378983 0.73029883 0.52242685 0.33412888 0.66601653]\n",
       " [0.33132411 0.89496012 0.33131622 0.53502847 0.73260229]\n",
       " [0.77515971 0.1901351  0.70077352 0.47622451 0.54522241]\n",
       " [0.6797894  0.67972711 0.01203133 0.84038863 0.96044229]\n",
       " [0.70476937 0.02910673 0.84183202 0.80381608 0.20718963]\n",
       " [0.76051727 0.08029111 0.33575484 0.11149821 0.50640771]\n",
       " [0.48668796 0.38988074 0.08466066 0.27014118 0.44581242]\n",
       " [0.90927818 0.12150161 0.92957358 0.33809431 0.57045693]\n",
       " [0.85762372 0.0973698  0.4723043  0.09280341 0.81990218]\n",
       " [0.28243023 0.69785616 0.12183795 0.3077587  0.69875018]\n",
       " [0.6362775  0.1349777  0.56552003 0.6035897  0.44919752]\n",
       " [0.1312659  0.09378894 0.17480794 0.70226269 0.65243018]])"
      ]
     },
     "execution_count": 99,
     "metadata": {},
     "output_type": "execute_result"
    }
   ],
   "source": [
    "g['a']"
   ]
  },
  {
   "cell_type": "code",
   "execution_count": null,
   "metadata": {},
   "outputs": [],
   "source": []
  },
  {
   "cell_type": "code",
   "execution_count": 100,
   "metadata": {},
   "outputs": [
    {
     "data": {
      "text/html": [
       "<table>\n",
       "<tbody>\n",
       "<tr><td><b>y \\ x</b></td><td><b>[-0.5 | 0 | 0.5]</b></td><td><b>[0.5 | 1 | 1.5]</b></td><td><b>[1.5 | 2 | 2.5]</b></td><td><b>[2.5 | 3 | 3.5]</b></td><td><b>[3.5 | 4 | 4.5]</b></td><td><b>[4.5 | 5 | 5.5]</b></td><td>...</td><td><b>[13.5 | 14 | 14.5]</b></td><td><b>[14.5 | 15 | 15.5]</b></td><td><b>[15.5 | 16 | 16.5]</b></td><td><b>[16.5 | 17 | 17.5]</b></td><td><b>[17.5 | 18 | 18.5]</b></td><td><b>[18.5 | 19 | 19.5]</b></td></tr>\n",
       "<tr><td><b>0</b>    </td><td>0.542                  </td><td>0.0892                </td><td>0.403                 </td><td>0.235                 </td><td>0.888                 </td><td>0.334                 </td><td>...</td><td>0.487                    </td><td>0.909                    </td><td>0.858                    </td><td>0.282                    </td><td>0.636                    </td><td>0.131                    </td></tr>\n",
       "<tr><td><b>1</b>    </td><td>0.525                  </td><td>0.895                 </td><td>0.496                 </td><td>0.066                 </td><td>0.44                  </td><td>0.857                 </td><td>...</td><td>0.39                     </td><td>0.122                    </td><td>0.0974                   </td><td>0.698                    </td><td>0.135                    </td><td>0.0938                   </td></tr>\n",
       "<tr><td><b>2</b>    </td><td>0.822                  </td><td>0.696                 </td><td>0.212                 </td><td>0.61                  </td><td>0.727                 </td><td>0.415                 </td><td>...</td><td>0.0847                   </td><td>0.93                     </td><td>0.472                    </td><td>0.122                    </td><td>0.566                    </td><td>0.175                    </td></tr>\n",
       "<tr><td><b>3</b>    </td><td>0.0938                 </td><td>0.169                 </td><td>0.839                 </td><td>0.734                 </td><td>0.45                  </td><td>0.329                 </td><td>...</td><td>0.27                     </td><td>0.338                    </td><td>0.0928                   </td><td>0.308                    </td><td>0.604                    </td><td>0.702                    </td></tr>\n",
       "<tr><td><b>4</b>    </td><td>0.982                  </td><td>0.187                 </td><td>0.917                 </td><td>0.968                 </td><td>0.732                 </td><td>0.662                 </td><td>...</td><td>0.446                    </td><td>0.57                     </td><td>0.82                     </td><td>0.699                    </td><td>0.449                    </td><td>0.652                    </td></tr>\n",
       "</tbody>\n",
       "</table>"
      ],
      "text/plain": [
       "GridArray(noname : [[0.5422471  0.5251797  0.82241604 0.09375249 0.98215066]\n",
       " [0.08917328 0.89460832 0.6959138  0.16908034 0.18709596]\n",
       " [0.40318125 0.49616465 0.21190741 0.83858271 0.91723012]\n",
       " [0.23470561 0.06604334 0.60983581 0.73374006 0.96821113]\n",
       " [0.8881704  0.44039308 0.72694336 0.45038305 0.73173853]\n",
       " [0.3344462  0.85681531 0.41528486 0.32895641 0.66249081]\n",
       " [0.33128204 0.74727908 0.42560374 0.13877124 0.82226667]\n",
       " [0.04864381 0.31767026 0.78321418 0.00308431 0.23606187]\n",
       " [0.75378983 0.73029883 0.52242685 0.33412888 0.66601653]\n",
       " [0.33132411 0.89496012 0.33131622 0.53502847 0.73260229]\n",
       " [0.77515971 0.1901351  0.70077352 0.47622451 0.54522241]\n",
       " [0.6797894  0.67972711 0.01203133 0.84038863 0.96044229]\n",
       " [0.70476937 0.02910673 0.84183202 0.80381608 0.20718963]\n",
       " [0.76051727 0.08029111 0.33575484 0.11149821 0.50640771]\n",
       " [0.48668796 0.38988074 0.08466066 0.27014118 0.44581242]\n",
       " [0.90927818 0.12150161 0.92957358 0.33809431 0.57045693]\n",
       " [0.85762372 0.0973698  0.4723043  0.09280341 0.81990218]\n",
       " [0.28243023 0.69785616 0.12183795 0.3077587  0.69875018]\n",
       " [0.6362775  0.1349777  0.56552003 0.6035897  0.44919752]\n",
       " [0.1312659  0.09378894 0.17480794 0.70226269 0.65243018]])"
      ]
     },
     "execution_count": 100,
     "metadata": {},
     "output_type": "execute_result"
    }
   ],
   "source": [
    "g['a']"
   ]
  },
  {
   "cell_type": "code",
   "execution_count": 101,
   "metadata": {},
   "outputs": [],
   "source": [
    "a = g['a']"
   ]
  },
  {
   "cell_type": "code",
   "execution_count": 102,
   "metadata": {},
   "outputs": [
    {
     "data": {
      "text/html": [
       "<table>\n",
       "<tbody>\n",
       "<tr><td><b>y \\ x</b></td><td><b>[-0.5 | 0 | 0.5]</b></td><td><b>[0.5 | 1 | 1.5]</b></td><td><b>[1.5 | 2 | 2.5]</b></td><td><b>[2.5 | 3 | 3.5]</b></td><td><b>[3.5 | 4 | 4.5]</b></td><td><b>[4.5 | 5 | 5.5]</b></td><td>...</td><td><b>[13.5 | 14 | 14.5]</b></td><td><b>[14.5 | 15 | 15.5]</b></td><td><b>[15.5 | 16 | 16.5]</b></td><td><b>[16.5 | 17 | 17.5]</b></td><td><b>[17.5 | 18 | 18.5]</b></td><td><b>[18.5 | 19 | 19.5]</b></td></tr>\n",
       "<tr><td><b>0</b>    </td><td>0.542                  </td><td>0.0892                </td><td>0.403                 </td><td>0.235                 </td><td>0.888                 </td><td>0.334                 </td><td>...</td><td>0.487                    </td><td>0.909                    </td><td>0.858                    </td><td>0.282                    </td><td>0.636                    </td><td>0.131                    </td></tr>\n",
       "<tr><td><b>1</b>    </td><td>0.525                  </td><td>0.895                 </td><td>0.496                 </td><td>0.066                 </td><td>0.44                  </td><td>0.857                 </td><td>...</td><td>0.39                     </td><td>0.122                    </td><td>0.0974                   </td><td>0.698                    </td><td>0.135                    </td><td>0.0938                   </td></tr>\n",
       "<tr><td><b>2</b>    </td><td>0.822                  </td><td>0.696                 </td><td>0.212                 </td><td>0.61                  </td><td>0.727                 </td><td>0.415                 </td><td>...</td><td>0.0847                   </td><td>0.93                     </td><td>0.472                    </td><td>0.122                    </td><td>0.566                    </td><td>0.175                    </td></tr>\n",
       "<tr><td><b>3</b>    </td><td>0.0938                 </td><td>0.169                 </td><td>0.839                 </td><td>0.734                 </td><td>0.45                  </td><td>0.329                 </td><td>...</td><td>0.27                     </td><td>0.338                    </td><td>0.0928                   </td><td>0.308                    </td><td>0.604                    </td><td>0.702                    </td></tr>\n",
       "<tr><td><b>4</b>    </td><td>0.982                  </td><td>0.187                 </td><td>0.917                 </td><td>0.968                 </td><td>0.732                 </td><td>0.662                 </td><td>...</td><td>0.446                    </td><td>0.57                     </td><td>0.82                     </td><td>0.699                    </td><td>0.449                    </td><td>0.652                    </td></tr>\n",
       "</tbody>\n",
       "</table>"
      ],
      "text/plain": [
       "GridArray(noname : [[0.5422471  0.5251797  0.82241604 0.09375249 0.98215066]\n",
       " [0.08917328 0.89460832 0.6959138  0.16908034 0.18709596]\n",
       " [0.40318125 0.49616465 0.21190741 0.83858271 0.91723012]\n",
       " [0.23470561 0.06604334 0.60983581 0.73374006 0.96821113]\n",
       " [0.8881704  0.44039308 0.72694336 0.45038305 0.73173853]\n",
       " [0.3344462  0.85681531 0.41528486 0.32895641 0.66249081]\n",
       " [0.33128204 0.74727908 0.42560374 0.13877124 0.82226667]\n",
       " [0.04864381 0.31767026 0.78321418 0.00308431 0.23606187]\n",
       " [0.75378983 0.73029883 0.52242685 0.33412888 0.66601653]\n",
       " [0.33132411 0.89496012 0.33131622 0.53502847 0.73260229]\n",
       " [0.77515971 0.1901351  0.70077352 0.47622451 0.54522241]\n",
       " [0.6797894  0.67972711 0.01203133 0.84038863 0.96044229]\n",
       " [0.70476937 0.02910673 0.84183202 0.80381608 0.20718963]\n",
       " [0.76051727 0.08029111 0.33575484 0.11149821 0.50640771]\n",
       " [0.48668796 0.38988074 0.08466066 0.27014118 0.44581242]\n",
       " [0.90927818 0.12150161 0.92957358 0.33809431 0.57045693]\n",
       " [0.85762372 0.0973698  0.4723043  0.09280341 0.81990218]\n",
       " [0.28243023 0.69785616 0.12183795 0.3077587  0.69875018]\n",
       " [0.6362775  0.1349777  0.56552003 0.6035897  0.44919752]\n",
       " [0.1312659  0.09378894 0.17480794 0.70226269 0.65243018]])"
      ]
     },
     "execution_count": 102,
     "metadata": {},
     "output_type": "execute_result"
    }
   ],
   "source": [
    "a"
   ]
  },
  {
   "cell_type": "code",
   "execution_count": 103,
   "metadata": {},
   "outputs": [
    {
     "data": {
      "text/html": [
       "<table>\n",
       "<tbody>\n",
       "<tr><td><b>y</b></td><td><b>0</b></td><td><b>1</b></td><td><b>2</b></td><td><b>3</b></td><td><b>4</b></td></tr>\n",
       "<tr><td><b></b> </td><td>0.509   </td><td>0.424   </td><td>0.489   </td><td>0.409   </td><td>0.638   </td></tr>\n",
       "</tbody>\n",
       "</table>"
      ],
      "text/plain": [
       "GridArray(noname : [0.50903814 0.42420238 0.48919792 0.40860427 0.6380838 ])"
      ]
     },
     "execution_count": 103,
     "metadata": {},
     "output_type": "execute_result"
    }
   ],
   "source": [
    "np.mean(a, axis='x')"
   ]
  },
  {
   "cell_type": "code",
   "execution_count": 123,
   "metadata": {},
   "outputs": [
    {
     "name": "stdout",
     "output_type": "stream",
     "text": [
      "getitem:  (0, 0)\n",
      "tuple:  (0, 0)\n",
      "getitem:  (1, 0)\n",
      "tuple:  (1, 0)\n",
      "getitem:  (2, 0)\n",
      "tuple:  (2, 0)\n",
      "getitem:  (3, 0)\n",
      "tuple:  (3, 0)\n",
      "getitem:  (4, 0)\n",
      "tuple:  (4, 0)\n",
      "getitem:  (5, 0)\n",
      "tuple:  (5, 0)\n",
      "getitem:  (14, 0)\n",
      "tuple:  (14, 0)\n",
      "getitem:  (15, 0)\n",
      "tuple:  (15, 0)\n",
      "getitem:  (16, 0)\n",
      "tuple:  (16, 0)\n",
      "getitem:  (17, 0)\n",
      "tuple:  (17, 0)\n",
      "getitem:  (18, 0)\n",
      "tuple:  (18, 0)\n",
      "getitem:  (19, 0)\n",
      "tuple:  (19, 0)\n",
      "getitem:  (0, 1)\n",
      "tuple:  (0, 1)\n",
      "getitem:  (1, 1)\n",
      "tuple:  (1, 1)\n",
      "getitem:  (2, 1)\n",
      "tuple:  (2, 1)\n",
      "getitem:  (3, 1)\n",
      "tuple:  (3, 1)\n",
      "getitem:  (4, 1)\n",
      "tuple:  (4, 1)\n",
      "getitem:  (5, 1)\n",
      "tuple:  (5, 1)\n",
      "getitem:  (14, 1)\n",
      "tuple:  (14, 1)\n",
      "getitem:  (15, 1)\n",
      "tuple:  (15, 1)\n",
      "getitem:  (16, 1)\n",
      "tuple:  (16, 1)\n",
      "getitem:  (17, 1)\n",
      "tuple:  (17, 1)\n",
      "getitem:  (18, 1)\n",
      "tuple:  (18, 1)\n",
      "getitem:  (19, 1)\n",
      "tuple:  (19, 1)\n",
      "getitem:  (0, 2)\n",
      "tuple:  (0, 2)\n",
      "getitem:  (1, 2)\n",
      "tuple:  (1, 2)\n",
      "getitem:  (2, 2)\n",
      "tuple:  (2, 2)\n",
      "getitem:  (3, 2)\n",
      "tuple:  (3, 2)\n",
      "getitem:  (4, 2)\n",
      "tuple:  (4, 2)\n",
      "getitem:  (5, 2)\n",
      "tuple:  (5, 2)\n",
      "getitem:  (14, 2)\n",
      "tuple:  (14, 2)\n",
      "getitem:  (15, 2)\n",
      "tuple:  (15, 2)\n",
      "getitem:  (16, 2)\n",
      "tuple:  (16, 2)\n",
      "getitem:  (17, 2)\n",
      "tuple:  (17, 2)\n",
      "getitem:  (18, 2)\n",
      "tuple:  (18, 2)\n",
      "getitem:  (19, 2)\n",
      "tuple:  (19, 2)\n",
      "getitem:  (0, 3)\n",
      "tuple:  (0, 3)\n",
      "getitem:  (1, 3)\n",
      "tuple:  (1, 3)\n",
      "getitem:  (2, 3)\n",
      "tuple:  (2, 3)\n",
      "getitem:  (3, 3)\n",
      "tuple:  (3, 3)\n",
      "getitem:  (4, 3)\n",
      "tuple:  (4, 3)\n",
      "getitem:  (5, 3)\n",
      "tuple:  (5, 3)\n",
      "getitem:  (14, 3)\n",
      "tuple:  (14, 3)\n",
      "getitem:  (15, 3)\n",
      "tuple:  (15, 3)\n",
      "getitem:  (16, 3)\n",
      "tuple:  (16, 3)\n",
      "getitem:  (17, 3)\n",
      "tuple:  (17, 3)\n",
      "getitem:  (18, 3)\n",
      "tuple:  (18, 3)\n",
      "getitem:  (19, 3)\n",
      "tuple:  (19, 3)\n",
      "getitem:  (0, 4)\n",
      "tuple:  (0, 4)\n",
      "getitem:  (1, 4)\n",
      "tuple:  (1, 4)\n",
      "getitem:  (2, 4)\n",
      "tuple:  (2, 4)\n",
      "getitem:  (3, 4)\n",
      "tuple:  (3, 4)\n",
      "getitem:  (4, 4)\n",
      "tuple:  (4, 4)\n",
      "getitem:  (5, 4)\n",
      "tuple:  (5, 4)\n",
      "getitem:  (14, 4)\n",
      "tuple:  (14, 4)\n",
      "getitem:  (15, 4)\n",
      "tuple:  (15, 4)\n",
      "getitem:  (16, 4)\n",
      "tuple:  (16, 4)\n",
      "getitem:  (17, 4)\n",
      "tuple:  (17, 4)\n",
      "getitem:  (18, 4)\n",
      "tuple:  (18, 4)\n",
      "getitem:  (19, 4)\n",
      "tuple:  (19, 4)\n"
     ]
    },
    {
     "data": {
      "text/html": [
       "<table>\n",
       "<tbody>\n",
       "<tr><td><b>y \\ x</b></td><td><b>[-0.5 | 0 | 0.5]</b></td><td><b>[0.5 | 1 | 1.5]</b></td><td><b>[1.5 | 2 | 2.5]</b></td><td><b>[2.5 | 3 | 3.5]</b></td><td><b>[3.5 | 4 | 4.5]</b></td><td><b>[4.5 | 5 | 5.5]</b></td><td>...</td><td><b>[13.5 | 14 | 14.5]</b></td><td><b>[14.5 | 15 | 15.5]</b></td><td><b>[15.5 | 16 | 16.5]</b></td><td><b>[16.5 | 17 | 17.5]</b></td><td><b>[17.5 | 18 | 18.5]</b></td><td><b>[18.5 | 19 | 19.5]</b></td></tr>\n",
       "<tr><td><b>0</b>    </td><td>0.542                  </td><td>0.0892                </td><td>0.403                 </td><td>0.235                 </td><td>0.888                 </td><td>0.334                 </td><td>...</td><td>0.487                    </td><td>0.909                    </td><td>0.858                    </td><td>0.282                    </td><td>0.636                    </td><td>0.131                    </td></tr>\n",
       "<tr><td><b>1</b>    </td><td>0.525                  </td><td>0.895                 </td><td>0.496                 </td><td>0.066                 </td><td>0.44                  </td><td>0.857                 </td><td>...</td><td>0.39                     </td><td>0.122                    </td><td>0.0974                   </td><td>0.698                    </td><td>0.135                    </td><td>0.0938                   </td></tr>\n",
       "<tr><td><b>2</b>    </td><td>0.822                  </td><td>0.696                 </td><td>0.212                 </td><td>0.61                  </td><td>0.727                 </td><td>0.415                 </td><td>...</td><td>0.0847                   </td><td>0.93                     </td><td>0.472                    </td><td>0.122                    </td><td>0.566                    </td><td>0.175                    </td></tr>\n",
       "<tr><td><b>3</b>    </td><td>0.0938                 </td><td>0.169                 </td><td>0.839                 </td><td>0.734                 </td><td>0.45                  </td><td>0.329                 </td><td>...</td><td>0.27                     </td><td>0.338                    </td><td>0.0928                   </td><td>0.308                    </td><td>0.604                    </td><td>0.702                    </td></tr>\n",
       "<tr><td><b>4</b>    </td><td>0.982                  </td><td>0.187                 </td><td>0.917                 </td><td>0.968                 </td><td>0.732                 </td><td>0.662                 </td><td>...</td><td>0.446                    </td><td>0.57                     </td><td>0.82                     </td><td>0.699                    </td><td>0.449                    </td><td>0.652                    </td></tr>\n",
       "</tbody>\n",
       "</table>"
      ],
      "text/plain": [
       "GridArray(noname : [[0.5422471  0.5251797  0.82241604 0.09375249 0.98215066]\n",
       " [0.08917328 0.89460832 0.6959138  0.16908034 0.18709596]\n",
       " [0.40318125 0.49616465 0.21190741 0.83858271 0.91723012]\n",
       " [0.23470561 0.06604334 0.60983581 0.73374006 0.96821113]\n",
       " [0.8881704  0.44039308 0.72694336 0.45038305 0.73173853]\n",
       " [0.3344462  0.85681531 0.41528486 0.32895641 0.66249081]\n",
       " [0.33128204 0.74727908 0.42560374 0.13877124 0.82226667]\n",
       " [0.04864381 0.31767026 0.78321418 0.00308431 0.23606187]\n",
       " [0.75378983 0.73029883 0.52242685 0.33412888 0.66601653]\n",
       " [0.33132411 0.89496012 0.33131622 0.53502847 0.73260229]\n",
       " [0.77515971 0.1901351  0.70077352 0.47622451 0.54522241]\n",
       " [0.6797894  0.67972711 0.01203133 0.84038863 0.96044229]\n",
       " [0.70476937 0.02910673 0.84183202 0.80381608 0.20718963]\n",
       " [0.76051727 0.08029111 0.33575484 0.11149821 0.50640771]\n",
       " [0.48668796 0.38988074 0.08466066 0.27014118 0.44581242]\n",
       " [0.90927818 0.12150161 0.92957358 0.33809431 0.57045693]\n",
       " [0.85762372 0.0973698  0.4723043  0.09280341 0.81990218]\n",
       " [0.28243023 0.69785616 0.12183795 0.3077587  0.69875018]\n",
       " [0.6362775  0.1349777  0.56552003 0.6035897  0.44919752]\n",
       " [0.1312659  0.09378894 0.17480794 0.70226269 0.65243018]])"
      ]
     },
     "execution_count": 123,
     "metadata": {},
     "output_type": "execute_result"
    }
   ],
   "source": [
    "a"
   ]
  },
  {
   "cell_type": "code",
   "execution_count": 105,
   "metadata": {},
   "outputs": [],
   "source": [
    "from scipy import ndimage"
   ]
  },
  {
   "cell_type": "code",
   "execution_count": 124,
   "metadata": {},
   "outputs": [
    {
     "data": {
      "text/plain": [
       "array([[0.48674327, 0.56574717, 0.55728553, 0.5024945 , 0.57092611],\n",
       "       [0.42654335, 0.52035822, 0.53768423, 0.51211106, 0.55215539],\n",
       "       [0.3814099 , 0.44554898, 0.51748215, 0.602747  , 0.68157849],\n",
       "       [0.41635426, 0.43843719, 0.526917  , 0.65442259, 0.75812448],\n",
       "       [0.51705963, 0.51813878, 0.54082536, 0.59754314, 0.68273479],\n",
       "       [0.51390571, 0.54446189, 0.51249106, 0.50359762, 0.58463057],\n",
       "       [0.42695834, 0.49720535, 0.46910709, 0.42544587, 0.49139874],\n",
       "       [0.41594678, 0.48490434, 0.46628928, 0.40110241, 0.42963418],\n",
       "       [0.51611504, 0.54430275, 0.50512423, 0.4616172 , 0.49652738],\n",
       "       [0.56869438, 0.56190327, 0.52584254, 0.5313643 , 0.58636474],\n",
       "       [0.58431319, 0.53146069, 0.51543061, 0.57323295, 0.63563382],\n",
       "       [0.5853069 , 0.5001336 , 0.50185181, 0.58867641, 0.63659468],\n",
       "       [0.54952837, 0.44931705, 0.45704048, 0.51626019, 0.52324802],\n",
       "       [0.51759057, 0.39689236, 0.36435185, 0.39539546, 0.42252005],\n",
       "       [0.5299941 , 0.40754521, 0.35169658, 0.37191515, 0.42643664],\n",
       "       [0.57544027, 0.45273527, 0.40469094, 0.42437615, 0.49277896],\n",
       "       [0.55362696, 0.44576514, 0.39602335, 0.43593523, 0.54247837],\n",
       "       [0.46765831, 0.4076767 , 0.3829433 , 0.44489662, 0.5478652 ],\n",
       "       [0.36390012, 0.33979124, 0.38503943, 0.48729426, 0.556938  ],\n",
       "       [0.24950115, 0.25128906, 0.35803307, 0.51626153, 0.59091747]])"
      ]
     },
     "execution_count": 124,
     "metadata": {},
     "output_type": "execute_result"
    }
   ],
   "source": [
    "ndimage.gaussian_filter(a, sigma=1)"
   ]
  },
  {
   "cell_type": "code",
   "execution_count": 134,
   "metadata": {},
   "outputs": [
    {
     "data": {
      "text/html": [
       "<table>\n",
       "<tbody>\n",
       "<tr><td><b>y</b></td><td><b>0</b></td><td><b>1</b></td><td><b>2</b></td><td><b>3</b></td><td><b>4</b></td></tr>\n",
       "<tr><td><b></b> </td><td>0.514   </td><td>0.415   </td><td>0.497   </td><td>0.336   </td><td>0.664   </td></tr>\n",
       "</tbody>\n",
       "</table>"
      ],
      "text/plain": [
       "GridArray(noname : [0.51446753 0.41513691 0.49736558 0.3361116  0.66425367])"
      ]
     },
     "execution_count": 134,
     "metadata": {},
     "output_type": "execute_result"
    }
   ],
   "source": [
    "a.median(axis='x')"
   ]
  },
  {
   "cell_type": "code",
   "execution_count": 138,
   "metadata": {},
   "outputs": [
    {
     "data": {
      "text/html": [
       "<table>\n",
       "<tbody>\n",
       "<tr><td><b>y</b></td><td><b>0</b>                     </td><td><b>1</b>                     </td><td><b>2</b>                     </td><td><b>3</b>                     </td><td><b>4</b>                     </td><td>                             </td><td>   </td><td>                             </td><td>                                 </td><td>                                 </td><td>                                 </td><td>                                 </td><td>                                 </td></tr>\n",
       "<tr><td><b></b> </td><td>[0.542 0.525 ... 0.094 0.982]</td><td>[0.631 1.42  ... 0.263 1.169]</td><td>[1.035 1.916 ... 1.101 2.086]</td><td>[1.269 1.982 ... 1.835 3.055]</td><td>[2.157 2.422 ... 2.286 3.786]</td><td>[2.492 3.279 ... 2.614 4.449]</td><td>...</td><td>[7.364 7.339 ... 6.128 9.571]</td><td>[ 8.273  7.46  ...  6.466 10.141]</td><td>[ 9.131  7.557 ...  6.558 10.961]</td><td>[ 9.413  8.255 ...  6.866 11.66 ]</td><td>[10.049  8.39  ...  7.47  12.109]</td><td>[10.181  8.484 ...  8.172 12.762]</td></tr>\n",
       "</tbody>\n",
       "</table>"
      ],
      "text/plain": [
       "GridArray(noname : [[ 0.5422471   0.5251797   0.82241604  0.09375249  0.98215066]\n",
       " [ 0.63142038  1.41978802  1.51832984  0.26283283  1.16924662]\n",
       " [ 1.03460162  1.91595267  1.73023725  1.10141554  2.08647675]\n",
       " [ 1.26930724  1.98199601  2.34007306  1.8351556   3.05468787]\n",
       " [ 2.15747764  2.42238909  3.06701643  2.28553865  3.7864264 ]\n",
       " [ 2.49192383  3.2792044   3.48230129  2.61449506  4.44891721]\n",
       " [ 2.82320587  4.02648348  3.90790502  2.7532663   5.27118389]\n",
       " [ 2.87184968  4.34415373  4.6911192   2.75635061  5.50724576]\n",
       " [ 3.62563952  5.07445257  5.21354605  3.09047949  6.17326229]\n",
       " [ 3.95696362  5.96941269  5.54486228  3.62550796  6.90586458]\n",
       " [ 4.73212334  6.15954779  6.2456358   4.10173247  7.45108699]\n",
       " [ 5.41191274  6.8392749   6.25766713  4.9421211   8.41152928]\n",
       " [ 6.11668211  6.86838163  7.09949915  5.74593718  8.61871891]\n",
       " [ 6.87719938  6.94867274  7.43525399  5.85743539  9.12512662]\n",
       " [ 7.36388734  7.33855348  7.51991465  6.12757656  9.57093904]\n",
       " [ 8.27316551  7.46005509  8.44948822  6.46567088 10.14139597]\n",
       " [ 9.13078923  7.55742489  8.92179252  6.55847429 10.96129814]\n",
       " [ 9.41321947  8.25528105  9.04363048  6.86623299 11.66004832]\n",
       " [10.04949697  8.39025876  9.60915051  7.46982269 12.10924584]\n",
       " [10.18076287  8.48404769  9.78395845  8.17208538 12.76167602]])"
      ]
     },
     "execution_count": 138,
     "metadata": {},
     "output_type": "execute_result"
    }
   ],
   "source": [
    "np.cumsum(a, axis=0)"
   ]
  },
  {
   "cell_type": "code",
   "execution_count": 139,
   "metadata": {},
   "outputs": [
    {
     "data": {
      "text/plain": [
       "dtype('float64')"
      ]
     },
     "execution_count": 139,
     "metadata": {},
     "output_type": "execute_result"
    }
   ],
   "source": [
    "a.dtype"
   ]
  },
  {
   "cell_type": "code",
   "execution_count": 142,
   "metadata": {},
   "outputs": [
    {
     "data": {
      "text/html": [
       "<table>\n",
       "<tbody>\n",
       "<tr><td><b>y \\ x</b></td><td><b>[-0.5 | 0 | 0.5]</b></td><td><b>[0.5 | 1 | 1.5]</b></td><td><b>[1.5 | 2 | 2.5]</b></td><td><b>[2.5 | 3 | 3.5]</b></td><td><b>[3.5 | 4 | 4.5]</b></td><td><b>[4.5 | 5 | 5.5]</b></td><td>...</td><td><b>[13.5 | 14 | 14.5]</b></td><td><b>[14.5 | 15 | 15.5]</b></td><td><b>[15.5 | 16 | 16.5]</b></td><td><b>[16.5 | 17 | 17.5]</b></td><td><b>[17.5 | 18 | 18.5]</b></td><td><b>[18.5 | 19 | 19.5]</b></td></tr>\n",
       "<tr><td><b>0</b>    </td><td>0.516                  </td><td>0.0891                </td><td>0.392                 </td><td>0.233                 </td><td>0.776                 </td><td>0.328                 </td><td>...</td><td>0.468                    </td><td>0.789                    </td><td>0.756                    </td><td>0.279                    </td><td>0.594                    </td><td>0.131                    </td></tr>\n",
       "<tr><td><b>1</b>    </td><td>0.501                  </td><td>0.78                  </td><td>0.476                 </td><td>0.066                 </td><td>0.426                 </td><td>0.756                 </td><td>...</td><td>0.38                     </td><td>0.121                    </td><td>0.0972                   </td><td>0.643                    </td><td>0.135                    </td><td>0.0937                   </td></tr>\n",
       "<tr><td><b>2</b>    </td><td>0.733                  </td><td>0.641                 </td><td>0.21                  </td><td>0.573                 </td><td>0.665                 </td><td>0.403                 </td><td>...</td><td>0.0846                   </td><td>0.801                    </td><td>0.455                    </td><td>0.122                    </td><td>0.536                    </td><td>0.174                    </td></tr>\n",
       "<tr><td><b>3</b>    </td><td>0.0936                 </td><td>0.168                 </td><td>0.744                 </td><td>0.67                  </td><td>0.435                 </td><td>0.323                 </td><td>...</td><td>0.267                    </td><td>0.332                    </td><td>0.0927                   </td><td>0.303                    </td><td>0.568                    </td><td>0.646                    </td></tr>\n",
       "<tr><td><b>4</b>    </td><td>0.832                  </td><td>0.186                 </td><td>0.794                 </td><td>0.824                 </td><td>0.668                 </td><td>0.615                 </td><td>...</td><td>0.431                    </td><td>0.54                     </td><td>0.731                    </td><td>0.643                    </td><td>0.434                    </td><td>0.607                    </td></tr>\n",
       "</tbody>\n",
       "</table>"
      ],
      "text/plain": [
       "GridArray(noname : [[0.5160620471323063 0.5013684964566058 0.7327919657636048\n",
       "  0.09361520802099008 0.8316934170291335]\n",
       " [0.08905514429797508 0.7799640191999831 0.6410870213698087\n",
       "  0.16827587480824777 0.18600632265723424]\n",
       " [0.39234648944114964 0.47605618158210494 0.2103250301860393\n",
       "  0.743696382368871 0.793920523818205]\n",
       " [0.23255668069726732 0.06599534197237476 0.5727328749593331\n",
       "  0.6696519635528267 0.8238731443357669]\n",
       " [0.7759188733603591 0.4262950726151466 0.6645887943541858\n",
       "  0.43531041914810314 0.6681641315526934]\n",
       " [0.32824610476324634 0.7557609108068278 0.4034505931181789\n",
       "  0.3230555731807515 0.6150826709602164]\n",
       " [0.32525562253401763 0.6796453695417782 0.41287073376524897\n",
       "  0.13832626855589147 0.7326903233241168]\n",
       " [0.04862463000516142 0.3123542356128444 0.705560786666878\n",
       "  0.003084305027841146 0.2338755365383159]\n",
       " [0.6844068372053437 0.6670922875647446 0.49898474136445814\n",
       "  0.32794635085153645 0.6178587389382367]\n",
       " [0.325295406638258 0.780184137219092 0.3252879508773804\n",
       "  0.5098655335688863 0.6688065378442484]\n",
       " [0.6998301699551573 0.18899156303685943 0.6448091153487187\n",
       "  0.4584270487645151 0.5186082646370266]\n",
       " [0.6286292528822692 0.6285808083389969 0.012031038307105321\n",
       "  0.7449024612044155 0.8194451503713439]\n",
       " [0.6478581595702564 0.029102620592491274 0.7458646780986631\n",
       "  0.7200095470617988 0.2057104517649569]\n",
       " [0.6892962913447955 0.08020486692408842 0.32948195352960424\n",
       "  0.11126733522669446 0.48503895020863286]\n",
       " [0.4677009875154773 0.3800781105812974 0.08455955978445599\n",
       "  0.2668674953225998 0.43119104021567733]\n",
       " [0.7890605183481975 0.1212028827499045 0.8013649370555168\n",
       "  0.3316898929913301 0.5400166785480172]\n",
       " [0.7562900503008488 0.0972160169984258 0.45493952067911947\n",
       "  0.09267025739630846 0.7310790898169176]\n",
       " [0.27869041820303453 0.6425765078676321 0.12153674146495251\n",
       "  0.30292340668435747 0.6432612668864812]\n",
       " [0.5942055094697926 0.13456821586200676 0.5358549590240792\n",
       "  0.5676015392718254 0.4342428027913035]\n",
       " [0.13088925635239196 0.09365149611613968 0.1739190063173743\n",
       "  0.6459466364088727 0.6071192436126378]])"
      ]
     },
     "execution_count": 142,
     "metadata": {},
     "output_type": "execute_result"
    }
   ],
   "source": [
    "np.sin(a)"
   ]
  },
  {
   "cell_type": "code",
   "execution_count": 150,
   "metadata": {},
   "outputs": [
    {
     "ename": "IndexError",
     "evalue": "list index out of range",
     "output_type": "error",
     "traceback": [
      "\u001b[0;31m---------------------------------------------------------------------------\u001b[0m",
      "\u001b[0;31mIndexError\u001b[0m                                Traceback (most recent call last)",
      "\u001b[0;32m~/anaconda3/lib/python3.7/site-packages/IPython/core/formatters.py\u001b[0m in \u001b[0;36m__call__\u001b[0;34m(self, obj)\u001b[0m\n\u001b[1;32m    343\u001b[0m             \u001b[0mmethod\u001b[0m \u001b[0;34m=\u001b[0m \u001b[0mget_real_method\u001b[0m\u001b[0;34m(\u001b[0m\u001b[0mobj\u001b[0m\u001b[0;34m,\u001b[0m \u001b[0mself\u001b[0m\u001b[0;34m.\u001b[0m\u001b[0mprint_method\u001b[0m\u001b[0;34m)\u001b[0m\u001b[0;34m\u001b[0m\u001b[0;34m\u001b[0m\u001b[0m\n\u001b[1;32m    344\u001b[0m             \u001b[0;32mif\u001b[0m \u001b[0mmethod\u001b[0m \u001b[0;32mis\u001b[0m \u001b[0;32mnot\u001b[0m \u001b[0;32mNone\u001b[0m\u001b[0;34m:\u001b[0m\u001b[0;34m\u001b[0m\u001b[0;34m\u001b[0m\u001b[0m\n\u001b[0;32m--> 345\u001b[0;31m                 \u001b[0;32mreturn\u001b[0m \u001b[0mmethod\u001b[0m\u001b[0;34m(\u001b[0m\u001b[0;34m)\u001b[0m\u001b[0;34m\u001b[0m\u001b[0;34m\u001b[0m\u001b[0m\n\u001b[0m\u001b[1;32m    346\u001b[0m             \u001b[0;32mreturn\u001b[0m \u001b[0;32mNone\u001b[0m\u001b[0;34m\u001b[0m\u001b[0;34m\u001b[0m\u001b[0m\n\u001b[1;32m    347\u001b[0m         \u001b[0;32melse\u001b[0m\u001b[0;34m:\u001b[0m\u001b[0;34m\u001b[0m\u001b[0;34m\u001b[0m\u001b[0m\n",
      "\u001b[0;32m~/pynocular/pynocular/gridarray.py\u001b[0m in \u001b[0;36m_repr_html_\u001b[0;34m(self)\u001b[0m\n\u001b[1;32m    116\u001b[0m     \u001b[0;32mdef\u001b[0m \u001b[0m_repr_html_\u001b[0m\u001b[0;34m(\u001b[0m\u001b[0mself\u001b[0m\u001b[0;34m)\u001b[0m\u001b[0;34m:\u001b[0m\u001b[0;34m\u001b[0m\u001b[0;34m\u001b[0m\u001b[0m\n\u001b[1;32m    117\u001b[0m         \u001b[0;34m'''for jupyter'''\u001b[0m\u001b[0;34m\u001b[0m\u001b[0;34m\u001b[0m\u001b[0m\n\u001b[0;32m--> 118\u001b[0;31m         \u001b[0;32mreturn\u001b[0m \u001b[0mformat_html\u001b[0m\u001b[0;34m(\u001b[0m\u001b[0mself\u001b[0m\u001b[0;34m)\u001b[0m\u001b[0;34m\u001b[0m\u001b[0;34m\u001b[0m\u001b[0m\n\u001b[0m\u001b[1;32m    119\u001b[0m \u001b[0;34m\u001b[0m\u001b[0m\n\u001b[1;32m    120\u001b[0m     \u001b[0;32mdef\u001b[0m \u001b[0m__str__\u001b[0m\u001b[0;34m(\u001b[0m\u001b[0mself\u001b[0m\u001b[0;34m)\u001b[0m\u001b[0;34m:\u001b[0m\u001b[0;34m\u001b[0m\u001b[0;34m\u001b[0m\u001b[0m\n",
      "\u001b[0;32m~/pynocular/pynocular/utils/formatter.py\u001b[0m in \u001b[0;36mformat_html\u001b[0;34m(data)\u001b[0m\n\u001b[1;32m    161\u001b[0m     \u001b[0;32mif\u001b[0m \u001b[0misinstance\u001b[0m\u001b[0;34m(\u001b[0m\u001b[0mdata\u001b[0m\u001b[0;34m,\u001b[0m \u001b[0mpn\u001b[0m\u001b[0;34m.\u001b[0m\u001b[0mGridArray\u001b[0m\u001b[0;34m)\u001b[0m\u001b[0;34m:\u001b[0m\u001b[0;34m\u001b[0m\u001b[0;34m\u001b[0m\u001b[0m\n\u001b[1;32m    162\u001b[0m         \u001b[0;32mif\u001b[0m \u001b[0mdata\u001b[0m\u001b[0;34m.\u001b[0m\u001b[0mnax\u001b[0m \u001b[0;34m==\u001b[0m \u001b[0;36m2\u001b[0m\u001b[0;34m:\u001b[0m\u001b[0;34m\u001b[0m\u001b[0;34m\u001b[0m\u001b[0m\n\u001b[0;32m--> 163\u001b[0;31m             \u001b[0mtable\u001b[0m \u001b[0;34m=\u001b[0m \u001b[0mmake_2d_table\u001b[0m\u001b[0;34m(\u001b[0m\u001b[0mdata\u001b[0m\u001b[0;34m)\u001b[0m\u001b[0;34m\u001b[0m\u001b[0;34m\u001b[0m\u001b[0m\n\u001b[0m\u001b[1;32m    164\u001b[0m \u001b[0;34m\u001b[0m\u001b[0m\n\u001b[1;32m    165\u001b[0m         \u001b[0;32melif\u001b[0m \u001b[0mdata\u001b[0m\u001b[0;34m.\u001b[0m\u001b[0mnax\u001b[0m \u001b[0;34m==\u001b[0m \u001b[0;36m1\u001b[0m\u001b[0;34m:\u001b[0m\u001b[0;34m\u001b[0m\u001b[0;34m\u001b[0m\u001b[0m\n",
      "\u001b[0;32m~/pynocular/pynocular/utils/formatter.py\u001b[0m in \u001b[0;36mmake_2d_table\u001b[0;34m(data)\u001b[0m\n\u001b[1;32m    115\u001b[0m     \u001b[0;32mif\u001b[0m \u001b[0mn_data_rows\u001b[0m \u001b[0;34m>\u001b[0m \u001b[0mN_MAX\u001b[0m\u001b[0;34m:\u001b[0m\u001b[0;34m\u001b[0m\u001b[0;34m\u001b[0m\u001b[0m\n\u001b[1;32m    116\u001b[0m         \u001b[0;32mfor\u001b[0m \u001b[0mi\u001b[0m \u001b[0;32min\u001b[0m \u001b[0mrange\u001b[0m\u001b[0;34m(\u001b[0m\u001b[0;36m1\u001b[0m\u001b[0;34m,\u001b[0m \u001b[0mmin\u001b[0m\u001b[0;34m(\u001b[0m\u001b[0mn_data_cols\u001b[0m\u001b[0;34m,\u001b[0m \u001b[0;36m2\u001b[0m\u001b[0;34m*\u001b[0m\u001b[0;34m(\u001b[0m\u001b[0mN_MAX\u001b[0m\u001b[0;34m//\u001b[0m\u001b[0;36m2\u001b[0m\u001b[0;34m)\u001b[0m \u001b[0;34m+\u001b[0m \u001b[0;36m1\u001b[0m\u001b[0;34m)\u001b[0m \u001b[0;34m+\u001b[0m \u001b[0;36m1\u001b[0m\u001b[0;34m)\u001b[0m\u001b[0;34m:\u001b[0m\u001b[0;34m\u001b[0m\u001b[0;34m\u001b[0m\u001b[0m\n\u001b[0;32m--> 117\u001b[0;31m             \u001b[0mtable\u001b[0m\u001b[0;34m[\u001b[0m\u001b[0mN_MAX\u001b[0m\u001b[0;34m//\u001b[0m\u001b[0;36m2\u001b[0m\u001b[0;34m+\u001b[0m\u001b[0;36m1\u001b[0m\u001b[0;34m]\u001b[0m\u001b[0;34m[\u001b[0m\u001b[0mi\u001b[0m\u001b[0;34m]\u001b[0m \u001b[0;34m=\u001b[0m \u001b[0;34m'...'\u001b[0m\u001b[0;34m\u001b[0m\u001b[0;34m\u001b[0m\u001b[0m\n\u001b[0m\u001b[1;32m    118\u001b[0m         \u001b[0mdata_row_idices\u001b[0m \u001b[0;34m=\u001b[0m \u001b[0mlist\u001b[0m\u001b[0;34m(\u001b[0m\u001b[0mrange\u001b[0m\u001b[0;34m(\u001b[0m\u001b[0mN_MAX\u001b[0m\u001b[0;34m//\u001b[0m\u001b[0;36m2\u001b[0m\u001b[0;34m)\u001b[0m\u001b[0;34m)\u001b[0m \u001b[0;34m+\u001b[0m \u001b[0mlist\u001b[0m\u001b[0;34m(\u001b[0m\u001b[0mrange\u001b[0m\u001b[0;34m(\u001b[0m\u001b[0mn_data_rows\u001b[0m \u001b[0;34m-\u001b[0m \u001b[0mN_MAX\u001b[0m\u001b[0;34m//\u001b[0m\u001b[0;36m2\u001b[0m\u001b[0;34m,\u001b[0m \u001b[0mn_data_rows\u001b[0m\u001b[0;34m)\u001b[0m\u001b[0;34m)\u001b[0m\u001b[0;34m\u001b[0m\u001b[0;34m\u001b[0m\u001b[0m\n\u001b[1;32m    119\u001b[0m         \u001b[0mtable_row_idices\u001b[0m \u001b[0;34m=\u001b[0m \u001b[0mlist\u001b[0m\u001b[0;34m(\u001b[0m\u001b[0mrange\u001b[0m\u001b[0;34m(\u001b[0m\u001b[0mN_MAX\u001b[0m\u001b[0;34m//\u001b[0m\u001b[0;36m2\u001b[0m\u001b[0;34m)\u001b[0m\u001b[0;34m)\u001b[0m \u001b[0;34m+\u001b[0m \u001b[0mlist\u001b[0m\u001b[0;34m(\u001b[0m\u001b[0mrange\u001b[0m\u001b[0;34m(\u001b[0m\u001b[0mN_MAX\u001b[0m\u001b[0;34m//\u001b[0m\u001b[0;36m2\u001b[0m\u001b[0;34m+\u001b[0m\u001b[0;36m1\u001b[0m\u001b[0;34m,\u001b[0m \u001b[0;36m2\u001b[0m\u001b[0;34m*\u001b[0m\u001b[0;34m(\u001b[0m\u001b[0mN_MAX\u001b[0m\u001b[0;34m//\u001b[0m\u001b[0;36m2\u001b[0m\u001b[0;34m)\u001b[0m \u001b[0;34m+\u001b[0m \u001b[0;36m1\u001b[0m\u001b[0;34m)\u001b[0m\u001b[0;34m)\u001b[0m\u001b[0;34m\u001b[0m\u001b[0;34m\u001b[0m\u001b[0m\n",
      "\u001b[0;31mIndexError\u001b[0m: list index out of range"
     ]
    },
    {
     "data": {
      "text/plain": [
       "GridArray(noname : [[2.21962323 1.29012288 1.63295291 1.68321097 2.07164522 1.65437769\n",
       "  1.74271577 1.06947632 1.90738468 1.69184028 1.67664836 1.75757502\n",
       "  1.36863275 1.23850761 1.00147024 1.91333168 1.71857926 1.33497944\n",
       "  1.3787676  0.97082306]\n",
       " [1.29012288 1.356165   0.94069321 0.80961496 1.19212654 1.26490965\n",
       "  1.17155336 0.87826546 1.26521701 1.28828129 0.90942705 0.99886941\n",
       "  0.84940208 0.48690233 0.5801919  1.00057804 0.66135965 0.91705115\n",
       "  0.75714252 0.4580669 ]\n",
       " [1.63295291 0.94069321 1.99817129 1.76000014 1.77950187 1.53147953\n",
       "  1.46510767 0.56230742 1.66805364 1.76847012 1.45481533 2.1995664\n",
       "  1.3410888  0.97560573 1.04305702 1.43063257 1.32403635 1.38493633\n",
       "  1.36152159 1.32383576]\n",
       " [1.68321097 0.80961496 1.76000014 1.90715543 1.71980117 1.2711384\n",
       "  1.28460472 0.74084985 1.43375304 1.4408038  1.49916368 1.75831669\n",
       "  1.47111031 0.96067597 0.82146047 1.58872041 1.35767979 1.08903045\n",
       "  1.38092263 1.29057555]\n",
       " [2.07164522 1.19212654 1.77950187 1.71980117 2.24952553 1.60919576\n",
       "  1.59690566 0.92658081 2.00872304 1.70629572 1.89507444 1.99315145\n",
       "  1.76437166 1.37567826 1.11339125 2.10654703 1.78968656 1.29665821\n",
       "  1.63620882 1.07866147]\n",
       " [1.65437769 1.26490965 1.53147953 1.2711384  1.60919576 1.56555464\n",
       "  1.51821676 0.77111389 1.645933   1.67655957 1.23104246 1.72748542\n",
       "  1.0119283  0.83474917 0.91619632 1.28338767 1.14010369 1.30714379\n",
       "  1.05944739 0.86009908]\n",
       " [1.74271577 1.17155336 1.46510767 1.28460472 1.59690566 1.51821676\n",
       "  1.54469229 0.78137586 1.61181156 1.59619714 1.21153678 1.6446299\n",
       "  0.89542682 0.88671902 0.89267711 1.30363861 1.2449489  1.2841791\n",
       "  1.0054618  0.82189691]\n",
       " [1.06947632 0.87826546 0.56230742 0.74084985 0.92658081 0.77111389\n",
       "  0.78137586 0.77243978 0.83608521 0.73450031 0.77713779 0.48773556\n",
       "  0.75425258 0.44535595 0.31990781 0.94658933 0.63639888 0.49674934\n",
       "  0.62465274 0.32927117]\n",
       " [1.90738468 1.26521701 1.66805364 1.43375304 2.00872304 1.645933\n",
       "  1.61181156 0.83608521 1.92968544 1.74311927 1.61151336 1.9355763\n",
       "  1.39887013 1.18184471 1.0829993  1.75267214 1.54139825 1.35439823\n",
       "  1.37448615 0.92794074]\n",
       " [1.69184028 1.28828129 1.76847012 1.4408038  1.70629572 1.67655957\n",
       "  1.59619714 0.73450031 1.74311927 1.84346132 1.31339493 1.99079952\n",
       "  1.12032114 0.86572624 1.00936505 1.31679582 1.17809027 1.43506192\n",
       "  1.17100051 1.039048  ]\n",
       " [1.67664836 0.90942705 1.45481533 1.49916368 1.89507444 1.23104246\n",
       "  1.21153678 0.77713779 1.61151336 1.31339493 1.65216472 1.5884849\n",
       "  1.63753797 1.16927962 0.88243363 1.85139278 1.50551142 0.96453279\n",
       "  1.44753891 0.93223964]\n",
       " [1.75757502 0.99886941 2.1995664  1.75831669 1.99315145 1.72748542\n",
       "  1.6446299  0.48773556 1.9355763  1.99079952 1.5884849  2.55298977\n",
       "  1.38351931 1.15568441 1.25207708 1.54391118 1.52033051 1.59755683\n",
       "  1.46976488 1.37188234]\n",
       " [1.36863275 0.84940208 1.3410888  1.47111031 1.76437166 1.0119283\n",
       "  0.89542682 0.75425258 1.39887013 1.12032114 1.63753797 1.38351931\n",
       "  1.89527605 1.01552195 0.7351325  1.81687113 1.24933403 0.71408276\n",
       "  1.5066747  0.9420678 ]\n",
       " [1.23850761 0.48690233 0.97560573 0.96067597 1.37567826 0.83474917\n",
       "  0.88671902 0.44535595 1.18184471 0.86572624 1.16927962 1.15568441\n",
       "  1.01552195 0.96644511 0.68574689 1.33996678 1.24418623 0.69989942\n",
       "  0.97938989 0.57474972]\n",
       " [1.00147024 0.5801919  1.04305702 0.82146047 1.11339125 0.91619632\n",
       "  0.89267711 0.31990781 1.0829993  1.00936505 0.88243363 1.25207708\n",
       "  0.7351325  0.68574689 0.66776456 0.91425417 0.88593594 0.81450076\n",
       "  0.77348337 0.59582294]\n",
       " [1.91333168 1.00057804 1.43063257 1.58872041 2.10654703 1.28338767\n",
       "  1.30363861 0.94658933 1.75267214 1.31679582 1.85139278 1.54391118\n",
       "  1.81687113 1.33996678 0.91425417 2.14538535 1.7297859  0.95751398\n",
       "  1.58096382 0.9028639 ]\n",
       " [1.71857926 0.66135965 1.32403635 1.35767979 1.78968656 1.14010369\n",
       "  1.2449489  0.63639888 1.54139825 1.17809027 1.50551142 1.52033051\n",
       "  1.24933403 1.24418623 0.88593594 1.7297859  1.64892273 0.96918142\n",
       "  1.25024018 0.8043728 ]\n",
       " [1.33497944 0.91705115 1.38493633 1.08903045 1.29665821 1.30714379\n",
       "  1.2841791  0.49674934 1.35439823 1.43506192 0.96453279 1.59755683\n",
       "  0.71408276 0.69989942 0.81450076 0.95751398 0.96918142 1.16458177\n",
       "  0.84243766 0.79583604]\n",
       " [1.3787676  0.75714252 1.36152159 1.38092263 1.63620882 1.05944739\n",
       "  1.0054618  0.62465274 1.37448615 1.17100051 1.44753891 1.46976488\n",
       "  1.5066747  0.97938989 0.77348337 1.58096382 1.25024018 0.84243766\n",
       "  1.30897989 0.91198689]\n",
       " [0.97082306 0.4580669  1.32383576 1.29057555 1.07866147 0.86009908\n",
       "  0.82189691 0.32927117 0.92794074 1.039048   0.93223964 1.37188234\n",
       "  0.9420678  0.57474972 0.59582294 0.9028639  0.8043728  0.79583604\n",
       "  0.91198689 0.97542294]])"
      ]
     },
     "execution_count": 150,
     "metadata": {},
     "output_type": "execute_result"
    }
   ],
   "source": [
    "np.dot(a,a.T)"
   ]
  },
  {
   "cell_type": "code",
   "execution_count": 155,
   "metadata": {},
   "outputs": [
    {
     "data": {
      "text/html": [
       "<table>\n",
       "<tbody>\n",
       "<tr><td><b>y \\ x</b></td><td><b>0</b></td><td><b>1</b></td><td><b>2</b></td><td><b>3</b></td><td><b>4</b></td><td><b>5</b></td><td><b>6</b></td><td><b>7</b></td><td><b>8</b></td><td><b>9</b></td></tr>\n",
       "<tr><td><b>0</b>    </td><td>6.4     </td><td>3.64    </td><td>5.37    </td><td>4.86    </td><td>4.75    </td><td>4.68    </td><td>4.03    </td><td>3.8     </td><td>4.84    </td><td>4.64    </td></tr>\n",
       "<tr><td><b>1</b>    </td><td>3.64    </td><td>6.25    </td><td>4.88    </td><td>5.22    </td><td>4.93    </td><td>5.29    </td><td>4       </td><td>3.2     </td><td>5.52    </td><td>4.71    </td></tr>\n",
       "<tr><td><b>2</b>    </td><td>5.37    </td><td>4.88    </td><td>7.55    </td><td>5.77    </td><td>5.6     </td><td>5.6     </td><td>4.8     </td><td>4.71    </td><td>6.13    </td><td>5.49    </td></tr>\n",
       "<tr><td><b>3</b>    </td><td>4.86    </td><td>5.22    </td><td>5.77    </td><td>7.26    </td><td>5.89    </td><td>6.09    </td><td>4.35    </td><td>4.19    </td><td>6.52    </td><td>5.72    </td></tr>\n",
       "<tr><td><b>4</b>    </td><td>4.75    </td><td>4.93    </td><td>5.6     </td><td>5.89    </td><td>6.93    </td><td>6.41    </td><td>4.33    </td><td>4.08    </td><td>5.47    </td><td>5.89    </td></tr>\n",
       "<tr><td><b>5</b>    </td><td>4.68    </td><td>5.29    </td><td>5.6     </td><td>6.09    </td><td>6.41    </td><td>8.04    </td><td>5.07    </td><td>4.21    </td><td>6.65    </td><td>5.53    </td></tr>\n",
       "<tr><td>...         </td><td>4.03    </td><td>4       </td><td>4.8     </td><td>4.35    </td><td>4.33    </td><td>5.07    </td><td>5.02    </td><td>3.62    </td><td>5.39    </td><td>4.38    </td></tr>\n",
       "<tr><td><b>14</b>   </td><td>3.8     </td><td>3.2     </td><td>4.71    </td><td>4.19    </td><td>4.08    </td><td>4.21    </td><td>3.62    </td><td>4.06    </td><td>4.43    </td><td>4.07    </td></tr>\n",
       "<tr><td><b>15</b>   </td><td>4.84    </td><td>5.52    </td><td>6.13    </td><td>6.52    </td><td>5.47    </td><td>6.65    </td><td>5.39    </td><td>4.43    </td><td>8.38    </td><td>6.11    </td></tr>\n",
       "<tr><td><b>16</b>   </td><td>4.64    </td><td>4.71    </td><td>5.49    </td><td>5.72    </td><td>5.89    </td><td>5.53    </td><td>4.38    </td><td>4.07    </td><td>6.11    </td><td>6.75    </td></tr>\n",
       "<tr><td><b>17</b>   </td><td>0       </td><td>0       </td><td>0       </td><td>0       </td><td>0       </td><td>0       </td><td>0       </td><td>0       </td><td>0       </td><td>0       </td></tr>\n",
       "<tr><td><b>18</b>   </td><td>0       </td><td>0       </td><td>0       </td><td>0       </td><td>0       </td><td>0       </td><td>0       </td><td>0       </td><td>0       </td><td>0       </td></tr>\n",
       "<tr><td><b>19</b>   </td><td>0       </td><td>0       </td><td>0       </td><td>0       </td><td>0       </td><td>0       </td><td>0       </td><td>0       </td><td>0       </td><td>0       </td></tr>\n",
       "</tbody>\n",
       "</table>"
      ],
      "text/plain": [
       "GridArray(noname : [[6.40205043 3.63903735 5.37243876 4.85744625 4.75240103 4.67848151\n",
       "  4.03224246 3.80203043 4.84454598 4.63596436]\n",
       " [3.63903735 6.24726956 4.87989682 5.22213787 4.93183074 5.28894703\n",
       "  3.99679734 3.19863    5.52277885 4.71054189]\n",
       " [5.37243876 4.87989682 7.54627858 5.77227228 5.59715004 5.59798631\n",
       "  4.80468462 4.71321054 6.1269928  5.48940908]\n",
       " [4.85744625 5.22213787 5.77227228 7.26477268 5.88577073 6.09003719\n",
       "  4.35103428 4.18882502 6.52203737 5.72461629]\n",
       " [4.75240103 4.93183074 5.59715004 5.88577073 6.92845959 6.40879539\n",
       "  4.33407122 4.07820466 5.472261   5.89487442]\n",
       " [4.67848151 5.28894703 5.59798631 6.09003719 6.40879539 8.03855386\n",
       "  5.07283985 4.21372627 6.65422076 5.53018946]\n",
       " [4.03224246 3.99679734 4.80468462 4.35103428 4.33407122 5.07283985\n",
       "  5.02277057 3.61937045 5.39298029 4.3770468 ]\n",
       " [3.80203043 3.19863    4.71321054 4.18882502 4.07820466 4.21372627\n",
       "  3.61937045 4.05977605 4.42844316 4.06777166]\n",
       " [4.84454598 5.52277885 6.1269928  6.52203737 5.472261   6.65422076\n",
       "  5.39298029 4.42844316 8.37500263 6.10922381]\n",
       " [4.63596436 4.71054189 5.48940908 5.72461629 5.89487442 5.53018946\n",
       "  4.3770468  4.06777166 6.10922381 6.74897124]])"
      ]
     },
     "execution_count": 155,
     "metadata": {},
     "output_type": "execute_result"
    }
   ],
   "source": [
    "np.dot(b,b.T)"
   ]
  },
  {
   "cell_type": "code",
   "execution_count": 147,
   "metadata": {},
   "outputs": [
    {
     "data": {
      "text/html": [
       "<table>\n",
       "<tbody>\n",
       "<tr><td><b>y \\ x</b></td><td><b>0</b></td><td><b>1</b></td><td><b>2</b></td><td><b>3</b></td><td><b>4</b></td><td><b>5</b></td><td><b>6</b></td><td><b>7</b></td><td><b>8</b></td><td><b>9</b></td></tr>\n",
       "<tr><td><b>0</b>    </td><td>0.741   </td><td>0.565   </td><td>0.977   </td><td>0.251   </td><td>0.523   </td><td>0.848   </td><td>0.282   </td><td>0.14    </td><td>0.516   </td><td>0.0927  </td></tr>\n",
       "<tr><td><b>1</b>    </td><td>0.099   </td><td>0.304   </td><td>0.87    </td><td>0.597   </td><td>0.841   </td><td>0.287   </td><td>0.307   </td><td>0.376   </td><td>0.0409  </td><td>0.742   </td></tr>\n",
       "<tr><td><b>2</b>    </td><td>0.245   </td><td>0.0607  </td><td>0.98    </td><td>0.79    </td><td>0.794   </td><td>0.516   </td><td>0.374   </td><td>0.584   </td><td>0.542   </td><td>0.602   </td></tr>\n",
       "<tr><td><b>3</b>    </td><td>0.682   </td><td>0.0856  </td><td>0.393   </td><td>0.256   </td><td>0.888   </td><td>0.84    </td><td>0.448   </td><td>0.717   </td><td>0.631   </td><td>0.796   </td></tr>\n",
       "<tr><td><b>4</b>    </td><td>0.703   </td><td>0.272   </td><td>0.312   </td><td>0.486   </td><td>0.21    </td><td>0.0516  </td><td>0.757   </td><td>0.211   </td><td>0.709   </td><td>0.441   </td></tr>\n",
       "<tr><td><b>5</b>    </td><td>0.778   </td><td>0.0891  </td><td>0.701   </td><td>0.731   </td><td>0.0841  </td><td>0.341   </td><td>0.343   </td><td>0.644   </td><td>0.833   </td><td>0.085   </td></tr>\n",
       "<tr><td>...         </td><td>...     </td><td>...     </td><td>...     </td><td>...     </td><td>...     </td><td>...     </td><td>...     </td><td>...     </td><td>...     </td><td>...     </td></tr>\n",
       "<tr><td><b>14</b>   </td><td>0.832   </td><td>0.557   </td><td>0.711   </td><td>0.115   </td><td>0.177   </td><td>0.291   </td><td>0.436   </td><td>0.104   </td><td>0.106   </td><td>0.266   </td></tr>\n",
       "<tr><td><b>15</b>   </td><td>0.183   </td><td>0.859   </td><td>0.405   </td><td>0.579   </td><td>0.651   </td><td>0.58    </td><td>0.401   </td><td>0.0464  </td><td>0.69    </td><td>0.562   </td></tr>\n",
       "<tr><td><b>16</b>   </td><td>0.534   </td><td>0.604   </td><td>0.949   </td><td>0.595   </td><td>0.172   </td><td>0.682   </td><td>0.876   </td><td>0.939   </td><td>0.9     </td><td>0.3     </td></tr>\n",
       "<tr><td><b>17</b>   </td><td>0.424   </td><td>0.778   </td><td>0.581   </td><td>0.369   </td><td>0.897   </td><td>0.835   </td><td>0.508   </td><td>0.321   </td><td>0.948   </td><td>0.603   </td></tr>\n",
       "<tr><td><b>18</b>   </td><td>0.00539 </td><td>0.934   </td><td>0.312   </td><td>0.941   </td><td>0.656   </td><td>0.978   </td><td>0.617   </td><td>0.305   </td><td>0.986   </td><td>0.49    </td></tr>\n",
       "<tr><td><b>19</b>   </td><td>0.987   </td><td>0.103   </td><td>0.628   </td><td>0.327   </td><td>0.853   </td><td>0.432   </td><td>0.436   </td><td>0.758   </td><td>0.0259  </td><td>0.643   </td></tr>\n",
       "</tbody>\n",
       "</table>"
      ],
      "text/plain": [
       "GridArray(noname : [[0.74069142 0.09902332 0.24512989 0.68211014 0.70333389 0.77796487\n",
       "  0.74174387 0.74218382 0.71756558 0.00588677 0.00399032 0.33023744\n",
       "  0.55474725 0.14132937 0.83220887 0.1831426  0.53389077 0.42350113\n",
       "  0.00539331 0.9874557 ]\n",
       " [0.5647933  0.30381759 0.06073148 0.08562455 0.27217012 0.08906842\n",
       "  0.65714419 0.20579295 0.3972885  0.92018403 0.12465366 0.0495901\n",
       "  0.7235614  0.90628486 0.55747843 0.85887736 0.60353604 0.77774121\n",
       "  0.93439095 0.10300566]\n",
       " [0.97697034 0.87012118 0.98020017 0.39312486 0.31203573 0.70087726\n",
       "  0.1860022  0.63398698 0.11773683 0.64847345 0.02057805 0.64001824\n",
       "  0.50168903 0.44678002 0.71073195 0.40519847 0.94896674 0.58090271\n",
       "  0.31185086 0.62764022]\n",
       " [0.2511919  0.59720403 0.79047783 0.25562127 0.48558289 0.73121873\n",
       "  0.5353083  0.95420728 0.84713633 0.4661069  0.56973463 0.11150371\n",
       "  0.90515428 0.51478278 0.1148845  0.57852586 0.59548349 0.36859027\n",
       "  0.94104552 0.32732045]\n",
       " [0.52263321 0.84089031 0.79402965 0.88772642 0.20959461 0.08406649\n",
       "  0.51773876 0.39959254 0.66400592 0.15942445 0.36565266 0.13421405\n",
       "  0.68350757 0.72031159 0.17708672 0.65112549 0.17214368 0.89658621\n",
       "  0.65581619 0.85320905]\n",
       " [0.84770194 0.28739466 0.51642455 0.83996447 0.05162467 0.34128349\n",
       "  0.09069114 0.03206805 0.985828   0.06308402 0.99849922 0.5342436\n",
       "  0.79657907 0.71979555 0.29133893 0.57978528 0.68207141 0.83507067\n",
       "  0.9777325  0.4316021 ]\n",
       " [0.28242214 0.30667355 0.37390177 0.44784012 0.75653114 0.3430178\n",
       "  0.39246521 0.04773191 0.35549574 0.07176057 0.34343002 0.93431549\n",
       "  0.07756154 0.76564212 0.43559669 0.4005986  0.87644568 0.50837434\n",
       "  0.61670684 0.4364583 ]\n",
       " [0.14029284 0.37641066 0.58372191 0.71705531 0.21103063 0.64385269\n",
       "  0.26166252 0.16954433 0.25661119 0.51667269 0.12823065 0.33063742\n",
       "  0.38850623 0.46171629 0.10378369 0.04636827 0.93878493 0.32081083\n",
       "  0.30545934 0.75767422]\n",
       " [0.51626581 0.04089275 0.54175564 0.63084626 0.70927833 0.83255403\n",
       "  0.56410782 0.63245951 0.0578411  0.57280634 0.8750371  0.82027866\n",
       "  0.65180572 0.37146333 0.10585603 0.68980639 0.89967408 0.94835287\n",
       "  0.98567651 0.02589794]\n",
       " [0.09265162 0.74203357 0.60230305 0.79633743 0.44101386 0.08499864\n",
       "  0.86248066 0.47358856 0.28393708 0.66767252 0.55802344 0.81387369\n",
       "  0.99619434 0.19051409 0.26590802 0.56199601 0.30006919 0.60349511\n",
       "  0.49016523 0.64267507]])"
      ]
     },
     "execution_count": 147,
     "metadata": {},
     "output_type": "execute_result"
    }
   ],
   "source": [
    "b"
   ]
  },
  {
   "cell_type": "code",
   "execution_count": null,
   "metadata": {},
   "outputs": [],
   "source": []
  }
 ],
 "metadata": {
  "kernelspec": {
   "display_name": "Python 3",
   "language": "python",
   "name": "python3"
  },
  "language_info": {
   "codemirror_mode": {
    "name": "ipython",
    "version": 3
   },
   "file_extension": ".py",
   "mimetype": "text/x-python",
   "name": "python",
   "nbconvert_exporter": "python",
   "pygments_lexer": "ipython3",
   "version": "3.7.3"
  }
 },
 "nbformat": 4,
 "nbformat_minor": 4
}
