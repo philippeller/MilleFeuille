{
 "cells": [
  {
   "cell_type": "code",
   "execution_count": 82,
   "metadata": {},
   "outputs": [],
   "source": [
    "%reload_ext autoreload\n",
    "%autoreload 2\n",
    "import numpy as np\n",
    "import pynocular as pn\n",
    "from matplotlib import pyplot as plt"
   ]
  },
  {
   "cell_type": "code",
   "execution_count": 83,
   "metadata": {},
   "outputs": [],
   "source": [
    "g = pn.GridData(x=np.arange(11), y=np.arange(6))"
   ]
  },
  {
   "cell_type": "code",
   "execution_count": 84,
   "metadata": {},
   "outputs": [
    {
     "data": {
      "text/html": [
       "<table>\n",
       "<tbody>\n",
       "<tr><td><b>y \\ x</b>  </td><td><b>[0. 1.]</b></td><td><b>[1. 2.]</b></td><td><b>[2. 3.]</b></td><td><b>[3. 4.]</b></td><td><b>[4. 5.]</b></td><td><b>[5. 6.]</b></td><td><b>[6. 7.]</b></td><td><b>[7. 8.]</b></td><td><b>[8. 9.]</b></td><td><b>[ 9. 10.]</b></td></tr>\n",
       "<tr><td><b>[0. 1.]</b></td><td>              </td><td>              </td><td>              </td><td>              </td><td>              </td><td>              </td><td>              </td><td>              </td><td>              </td><td>                </td></tr>\n",
       "<tr><td><b>[1. 2.]</b></td><td>              </td><td>              </td><td>              </td><td>              </td><td>              </td><td>              </td><td>              </td><td>              </td><td>              </td><td>                </td></tr>\n",
       "<tr><td><b>[2. 3.]</b></td><td>              </td><td>              </td><td>              </td><td>              </td><td>              </td><td>              </td><td>              </td><td>              </td><td>              </td><td>                </td></tr>\n",
       "<tr><td><b>[3. 4.]</b></td><td>              </td><td>              </td><td>              </td><td>              </td><td>              </td><td>              </td><td>              </td><td>              </td><td>              </td><td>                </td></tr>\n",
       "<tr><td><b>[4. 5.]</b></td><td>              </td><td>              </td><td>              </td><td>              </td><td>              </td><td>              </td><td>              </td><td>              </td><td>              </td><td>                </td></tr>\n",
       "</tbody>\n",
       "</table>"
      ],
      "text/plain": [
       "GridData(Grid(\n",
       "Dimension(\"x\",\n",
       "points = None,\n",
       "edges = array([[ 0.,  1.],\n",
       "       [ 1.,  2.],\n",
       "       [ 2.,  3.],\n",
       "       [ 3.,  4.],\n",
       "       [ 4.,  5.],\n",
       "       [ 5.,  6.],\n",
       "       [ 6.,  7.],\n",
       "       [ 7.,  8.],\n",
       "       [ 8.,  9.],\n",
       "       [ 9., 10.]]))\n",
       "nbins = 10),\n",
       "Dimension(\"y\",\n",
       "points = None,\n",
       "edges = array([[0., 1.],\n",
       "       [1., 2.],\n",
       "       [2., 3.],\n",
       "       [3., 4.],\n",
       "       [4., 5.]]))\n",
       "nbins = 5),)\n",
       "OrderedDict())"
      ]
     },
     "execution_count": 84,
     "metadata": {},
     "output_type": "execute_result"
    }
   ],
   "source": [
    "g"
   ]
  },
  {
   "cell_type": "code",
   "execution_count": 85,
   "metadata": {},
   "outputs": [],
   "source": [
    "# add something\n",
    "g['a'] = np.random.rand(g.grid.size).reshape(g.shape)"
   ]
  },
  {
   "cell_type": "code",
   "execution_count": 86,
   "metadata": {},
   "outputs": [
    {
     "data": {
      "text/html": [
       "<table>\n",
       "<tbody>\n",
       "<tr><td><b>y \\ x</b>  </td><td><b>[0. 1.]</b></td><td><b>[1. 2.]</b></td><td><b>[2. 3.]</b></td><td><b>[3. 4.]</b></td><td><b>[4. 5.]</b></td><td><b>[5. 6.]</b></td><td><b>[6. 7.]</b></td><td><b>[7. 8.]</b></td><td><b>[8. 9.]</b></td><td><b>[ 9. 10.]</b></td></tr>\n",
       "<tr><td><b>[0. 1.]</b></td><td>a = 0.21      </td><td>a = 0.82      </td><td>a = 0.32      </td><td>a = 0.42      </td><td>a = 0.91      </td><td>a = 0.49      </td><td>a = 0.81      </td><td>a = 0.026     </td><td>a = 0.86      </td><td>a = 0.099       </td></tr>\n",
       "<tr><td><b>[1. 2.]</b></td><td>a = 0.44      </td><td>a = 0.18      </td><td>a = 0.71      </td><td>a = 0.47      </td><td>a = 0.35      </td><td>a = 0.2       </td><td>a = 0.011     </td><td>a = 0.83      </td><td>a = 0.55      </td><td>a = 0.81        </td></tr>\n",
       "<tr><td><b>[2. 3.]</b></td><td>a = 0.55      </td><td>a = 0.5       </td><td>a = 0.14      </td><td>a = 0.19      </td><td>a = 0.87      </td><td>a = 0.24      </td><td>a = 0.68      </td><td>a = 0.92      </td><td>a = 0.3       </td><td>a = 0.081       </td></tr>\n",
       "<tr><td><b>[3. 4.]</b></td><td>a = 0.41      </td><td>a = 0.23      </td><td>a = 0.17      </td><td>a = 0.77      </td><td>a = 0.35      </td><td>a = 0.3       </td><td>a = 0.15      </td><td>a = 0.55      </td><td>a = 0.16      </td><td>a = 0.66        </td></tr>\n",
       "<tr><td><b>[4. 5.]</b></td><td>a = 0.36      </td><td>a = 0.64      </td><td>a = 0.18      </td><td>a = 0.82      </td><td>a = 0.24      </td><td>a = 0.58      </td><td>a = 0.73      </td><td>a = 0.35      </td><td>a = 0.48      </td><td>a = 1           </td></tr>\n",
       "</tbody>\n",
       "</table>"
      ],
      "text/plain": [
       "GridData(Grid(\n",
       "Dimension(\"x\",\n",
       "points = None,\n",
       "edges = array([[ 0.,  1.],\n",
       "       [ 1.,  2.],\n",
       "       [ 2.,  3.],\n",
       "       [ 3.,  4.],\n",
       "       [ 4.,  5.],\n",
       "       [ 5.,  6.],\n",
       "       [ 6.,  7.],\n",
       "       [ 7.,  8.],\n",
       "       [ 8.,  9.],\n",
       "       [ 9., 10.]]))\n",
       "nbins = 10),\n",
       "Dimension(\"y\",\n",
       "points = None,\n",
       "edges = array([[0., 1.],\n",
       "       [1., 2.],\n",
       "       [2., 3.],\n",
       "       [3., 4.],\n",
       "       [4., 5.]]))\n",
       "nbins = 5),)\n",
       "OrderedDict([('a', array([[0.21022541, 0.44138186, 0.55432881, 0.41321868, 0.36001588],\n",
       "       [0.81734948, 0.17956556, 0.50042747, 0.23219442, 0.64434726],\n",
       "       [0.3200217 , 0.71010566, 0.1415858 , 0.17394634, 0.18461855],\n",
       "       [0.41990266, 0.46587995, 0.18731296, 0.77377227, 0.82316621],\n",
       "       [0.91178233, 0.35439107, 0.86843208, 0.3481604 , 0.24302774],\n",
       "       [0.48627447, 0.19710361, 0.23952989, 0.30001439, 0.57831792],\n",
       "       [0.80637884, 0.01056551, 0.67602952, 0.15131974, 0.73287103],\n",
       "       [0.02586992, 0.82700626, 0.92373173, 0.54542731, 0.34768194],\n",
       "       [0.86099537, 0.54966739, 0.30087034, 0.15548188, 0.48028433],\n",
       "       [0.09931307, 0.8063062 , 0.08126144, 0.66282526, 0.99661044]]))]))"
      ]
     },
     "execution_count": 86,
     "metadata": {},
     "output_type": "execute_result"
    }
   ],
   "source": [
    "g"
   ]
  },
  {
   "cell_type": "code",
   "execution_count": 87,
   "metadata": {},
   "outputs": [],
   "source": [
    "g['b'] = np.ones(g.shape)"
   ]
  },
  {
   "cell_type": "code",
   "execution_count": 88,
   "metadata": {},
   "outputs": [
    {
     "data": {
      "text/html": [
       "<table>\n",
       "<tbody>\n",
       "<tr><td><b>y \\ x</b>  </td><td><b>[0. 1.]</b>   </td><td><b>[1. 2.]</b>   </td><td><b>[2. 3.]</b>   </td><td><b>[3. 4.]</b>   </td><td><b>[4. 5.]</b>   </td><td><b>[5. 6.]</b>   </td><td><b>[6. 7.]</b>    </td><td><b>[7. 8.]</b>    </td><td><b>[8. 9.]</b>   </td><td><b>[ 9. 10.]</b>  </td></tr>\n",
       "<tr><td><b>[0. 1.]</b></td><td>a = 0.21<br>b = 1</td><td>a = 0.82<br>b = 1</td><td>a = 0.32<br>b = 1</td><td>a = 0.42<br>b = 1</td><td>a = 0.91<br>b = 1</td><td>a = 0.49<br>b = 1</td><td>a = 0.81<br>b = 1 </td><td>a = 0.026<br>b = 1</td><td>a = 0.86<br>b = 1</td><td>a = 0.099<br>b = 1</td></tr>\n",
       "<tr><td><b>[1. 2.]</b></td><td>a = 0.44<br>b = 1</td><td>a = 0.18<br>b = 1</td><td>a = 0.71<br>b = 1</td><td>a = 0.47<br>b = 1</td><td>a = 0.35<br>b = 1</td><td>a = 0.2<br>b = 1 </td><td>a = 0.011<br>b = 1</td><td>a = 0.83<br>b = 1 </td><td>a = 0.55<br>b = 1</td><td>a = 0.81<br>b = 1 </td></tr>\n",
       "<tr><td><b>[2. 3.]</b></td><td>a = 0.55<br>b = 1</td><td>a = 0.5<br>b = 1 </td><td>a = 0.14<br>b = 1</td><td>a = 0.19<br>b = 1</td><td>a = 0.87<br>b = 1</td><td>a = 0.24<br>b = 1</td><td>a = 0.68<br>b = 1 </td><td>a = 0.92<br>b = 1 </td><td>a = 0.3<br>b = 1 </td><td>a = 0.081<br>b = 1</td></tr>\n",
       "<tr><td><b>[3. 4.]</b></td><td>a = 0.41<br>b = 1</td><td>a = 0.23<br>b = 1</td><td>a = 0.17<br>b = 1</td><td>a = 0.77<br>b = 1</td><td>a = 0.35<br>b = 1</td><td>a = 0.3<br>b = 1 </td><td>a = 0.15<br>b = 1 </td><td>a = 0.55<br>b = 1 </td><td>a = 0.16<br>b = 1</td><td>a = 0.66<br>b = 1 </td></tr>\n",
       "<tr><td><b>[4. 5.]</b></td><td>a = 0.36<br>b = 1</td><td>a = 0.64<br>b = 1</td><td>a = 0.18<br>b = 1</td><td>a = 0.82<br>b = 1</td><td>a = 0.24<br>b = 1</td><td>a = 0.58<br>b = 1</td><td>a = 0.73<br>b = 1 </td><td>a = 0.35<br>b = 1 </td><td>a = 0.48<br>b = 1</td><td>a = 1<br>b = 1    </td></tr>\n",
       "</tbody>\n",
       "</table>"
      ],
      "text/plain": [
       "GridData(Grid(\n",
       "Dimension(\"x\",\n",
       "points = None,\n",
       "edges = array([[ 0.,  1.],\n",
       "       [ 1.,  2.],\n",
       "       [ 2.,  3.],\n",
       "       [ 3.,  4.],\n",
       "       [ 4.,  5.],\n",
       "       [ 5.,  6.],\n",
       "       [ 6.,  7.],\n",
       "       [ 7.,  8.],\n",
       "       [ 8.,  9.],\n",
       "       [ 9., 10.]]))\n",
       "nbins = 10),\n",
       "Dimension(\"y\",\n",
       "points = None,\n",
       "edges = array([[0., 1.],\n",
       "       [1., 2.],\n",
       "       [2., 3.],\n",
       "       [3., 4.],\n",
       "       [4., 5.]]))\n",
       "nbins = 5),)\n",
       "OrderedDict([('a', array([[0.21022541, 0.44138186, 0.55432881, 0.41321868, 0.36001588],\n",
       "       [0.81734948, 0.17956556, 0.50042747, 0.23219442, 0.64434726],\n",
       "       [0.3200217 , 0.71010566, 0.1415858 , 0.17394634, 0.18461855],\n",
       "       [0.41990266, 0.46587995, 0.18731296, 0.77377227, 0.82316621],\n",
       "       [0.91178233, 0.35439107, 0.86843208, 0.3481604 , 0.24302774],\n",
       "       [0.48627447, 0.19710361, 0.23952989, 0.30001439, 0.57831792],\n",
       "       [0.80637884, 0.01056551, 0.67602952, 0.15131974, 0.73287103],\n",
       "       [0.02586992, 0.82700626, 0.92373173, 0.54542731, 0.34768194],\n",
       "       [0.86099537, 0.54966739, 0.30087034, 0.15548188, 0.48028433],\n",
       "       [0.09931307, 0.8063062 , 0.08126144, 0.66282526, 0.99661044]])), ('b', array([[1., 1., 1., 1., 1.],\n",
       "       [1., 1., 1., 1., 1.],\n",
       "       [1., 1., 1., 1., 1.],\n",
       "       [1., 1., 1., 1., 1.],\n",
       "       [1., 1., 1., 1., 1.],\n",
       "       [1., 1., 1., 1., 1.],\n",
       "       [1., 1., 1., 1., 1.],\n",
       "       [1., 1., 1., 1., 1.],\n",
       "       [1., 1., 1., 1., 1.],\n",
       "       [1., 1., 1., 1., 1.]]))]))"
      ]
     },
     "execution_count": 88,
     "metadata": {},
     "output_type": "execute_result"
    }
   ],
   "source": [
    "g"
   ]
  },
  {
   "cell_type": "code",
   "execution_count": 89,
   "metadata": {},
   "outputs": [
    {
     "data": {
      "text/html": [
       "<table>\n",
       "<tbody>\n",
       "<tr><td><b>x \\ y</b>    </td><td><b>[0. 1.]</b></td><td><b>[1. 2.]</b></td><td><b>[2. 3.]</b></td><td><b>[3. 4.]</b></td><td><b>[4. 5.]</b></td></tr>\n",
       "<tr><td><b>[0. 1.]</b>  </td><td>0.21          </td><td>0.44          </td><td>0.55          </td><td>0.41          </td><td>0.36          </td></tr>\n",
       "<tr><td><b>[1. 2.]</b>  </td><td>0.82          </td><td>0.18          </td><td>0.5           </td><td>0.23          </td><td>0.64          </td></tr>\n",
       "<tr><td><b>[2. 3.]</b>  </td><td>0.32          </td><td>0.71          </td><td>0.14          </td><td>0.17          </td><td>0.18          </td></tr>\n",
       "<tr><td><b>[3. 4.]</b>  </td><td>0.42          </td><td>0.47          </td><td>0.19          </td><td>0.77          </td><td>0.82          </td></tr>\n",
       "<tr><td><b>[4. 5.]</b>  </td><td>0.91          </td><td>0.35          </td><td>0.87          </td><td>0.35          </td><td>0.24          </td></tr>\n",
       "<tr><td><b>[5. 6.]</b>  </td><td>0.49          </td><td>0.2           </td><td>0.24          </td><td>0.3           </td><td>0.58          </td></tr>\n",
       "<tr><td><b>[6. 7.]</b>  </td><td>0.81          </td><td>0.011         </td><td>0.68          </td><td>0.15          </td><td>0.73          </td></tr>\n",
       "<tr><td><b>[7. 8.]</b>  </td><td>0.026         </td><td>0.83          </td><td>0.92          </td><td>0.55          </td><td>0.35          </td></tr>\n",
       "<tr><td><b>[8. 9.]</b>  </td><td>0.86          </td><td>0.55          </td><td>0.3           </td><td>0.16          </td><td>0.48          </td></tr>\n",
       "<tr><td><b>[ 9. 10.]</b></td><td>0.099         </td><td>0.81          </td><td>0.081         </td><td>0.66          </td><td>1             </td></tr>\n",
       "</tbody>\n",
       "</table>"
      ],
      "text/plain": [
       "GridArray(a : [[0.21022541 0.81734948 0.3200217  0.41990266 0.91178233 0.48627447\n",
       "  0.80637884 0.02586992 0.86099537 0.09931307]\n",
       " [0.44138186 0.17956556 0.71010566 0.46587995 0.35439107 0.19710361\n",
       "  0.01056551 0.82700626 0.54966739 0.8063062 ]\n",
       " [0.55432881 0.50042747 0.1415858  0.18731296 0.86843208 0.23952989\n",
       "  0.67602952 0.92373173 0.30087034 0.08126144]\n",
       " [0.41321868 0.23219442 0.17394634 0.77377227 0.3481604  0.30001439\n",
       "  0.15131974 0.54542731 0.15548188 0.66282526]\n",
       " [0.36001588 0.64434726 0.18461855 0.82316621 0.24302774 0.57831792\n",
       "  0.73287103 0.34768194 0.48028433 0.99661044]])"
      ]
     },
     "execution_count": 89,
     "metadata": {},
     "output_type": "execute_result"
    }
   ],
   "source": [
    "g['a'].T"
   ]
  },
  {
   "cell_type": "code",
   "execution_count": 90,
   "metadata": {},
   "outputs": [
    {
     "data": {
      "text/html": [
       "<table>\n",
       "<tbody>\n",
       "<tr><td><b>y \\ x</b>  </td><td><b>[0. 1.]</b></td><td><b>[1. 2.]</b></td><td><b>[2. 3.]</b></td><td><b>[3. 4.]</b></td><td><b>[4. 5.]</b></td><td><b>[5. 6.]</b></td><td><b>[6. 7.]</b></td><td><b>[7. 8.]</b></td><td><b>[8. 9.]</b></td><td><b>[ 9. 10.]</b></td></tr>\n",
       "<tr><td><b>[0. 1.]</b></td><td>1             </td><td>--            </td><td>1             </td><td>1             </td><td>--            </td><td>1             </td><td>--            </td><td>1             </td><td>--            </td><td>1               </td></tr>\n",
       "<tr><td><b>[1. 2.]</b></td><td>1             </td><td>1             </td><td>--            </td><td>1             </td><td>1             </td><td>1             </td><td>1             </td><td>--            </td><td>--            </td><td>--              </td></tr>\n",
       "<tr><td><b>[2. 3.]</b></td><td>--            </td><td>--            </td><td>1             </td><td>1             </td><td>--            </td><td>1             </td><td>--            </td><td>--            </td><td>1             </td><td>1               </td></tr>\n",
       "<tr><td><b>[3. 4.]</b></td><td>1             </td><td>1             </td><td>1             </td><td>--            </td><td>1             </td><td>1             </td><td>1             </td><td>--            </td><td>1             </td><td>--              </td></tr>\n",
       "<tr><td><b>[4. 5.]</b></td><td>1             </td><td>--            </td><td>1             </td><td>--            </td><td>1             </td><td>--            </td><td>--            </td><td>1             </td><td>1             </td><td>--              </td></tr>\n",
       "</tbody>\n",
       "</table>"
      ],
      "text/plain": [
       "GridArray(b : [[1.0 1.0 -- 1.0 1.0]\n",
       " [-- 1.0 -- 1.0 --]\n",
       " [1.0 -- 1.0 1.0 1.0]\n",
       " [1.0 1.0 1.0 -- --]\n",
       " [-- 1.0 -- 1.0 1.0]\n",
       " [1.0 1.0 1.0 1.0 --]\n",
       " [-- 1.0 -- 1.0 --]\n",
       " [1.0 -- -- -- 1.0]\n",
       " [-- -- 1.0 1.0 1.0]\n",
       " [1.0 -- 1.0 -- --]])"
      ]
     },
     "execution_count": 90,
     "metadata": {},
     "output_type": "execute_result"
    }
   ],
   "source": [
    "g['b'][g['a'] < 0.5]"
   ]
  },
  {
   "cell_type": "code",
   "execution_count": 91,
   "metadata": {},
   "outputs": [],
   "source": [
    "g['b'][g['a'] < 0.5] *= -1"
   ]
  },
  {
   "cell_type": "code",
   "execution_count": 92,
   "metadata": {},
   "outputs": [
    {
     "data": {
      "text/html": [
       "<table>\n",
       "<tbody>\n",
       "<tr><td><b>y \\ x</b>  </td><td><b>[0. 1.]</b></td><td><b>[1. 2.]</b></td><td><b>[2. 3.]</b></td><td><b>[3. 4.]</b></td><td><b>[4. 5.]</b></td><td><b>[5. 6.]</b></td><td><b>[6. 7.]</b></td><td><b>[7. 8.]</b></td><td><b>[8. 9.]</b></td><td><b>[ 9. 10.]</b></td></tr>\n",
       "<tr><td><b>[0. 1.]</b></td><td>-1            </td><td>1             </td><td>-1            </td><td>-1            </td><td>1             </td><td>-1            </td><td>1             </td><td>-1            </td><td>1             </td><td>-1              </td></tr>\n",
       "<tr><td><b>[1. 2.]</b></td><td>-1            </td><td>-1            </td><td>1             </td><td>-1            </td><td>-1            </td><td>-1            </td><td>-1            </td><td>1             </td><td>1             </td><td>1               </td></tr>\n",
       "<tr><td><b>[2. 3.]</b></td><td>1             </td><td>1             </td><td>-1            </td><td>-1            </td><td>1             </td><td>-1            </td><td>1             </td><td>1             </td><td>-1            </td><td>-1              </td></tr>\n",
       "<tr><td><b>[3. 4.]</b></td><td>-1            </td><td>-1            </td><td>-1            </td><td>1             </td><td>-1            </td><td>-1            </td><td>-1            </td><td>1             </td><td>-1            </td><td>1               </td></tr>\n",
       "<tr><td><b>[4. 5.]</b></td><td>-1            </td><td>1             </td><td>-1            </td><td>1             </td><td>-1            </td><td>1             </td><td>1             </td><td>-1            </td><td>-1            </td><td>1               </td></tr>\n",
       "</tbody>\n",
       "</table>"
      ],
      "text/plain": [
       "GridArray(b : [[-1. -1.  1. -1. -1.]\n",
       " [ 1. -1.  1. -1.  1.]\n",
       " [-1.  1. -1. -1. -1.]\n",
       " [-1. -1. -1.  1.  1.]\n",
       " [ 1. -1.  1. -1. -1.]\n",
       " [-1. -1. -1. -1.  1.]\n",
       " [ 1. -1.  1. -1.  1.]\n",
       " [-1.  1.  1.  1. -1.]\n",
       " [ 1.  1. -1. -1. -1.]\n",
       " [-1.  1. -1.  1.  1.]])"
      ]
     },
     "execution_count": 92,
     "metadata": {},
     "output_type": "execute_result"
    }
   ],
   "source": [
    "g['b']"
   ]
  },
  {
   "cell_type": "code",
   "execution_count": 93,
   "metadata": {},
   "outputs": [
    {
     "data": {
      "text/html": [
       "<table>\n",
       "<tbody>\n",
       "<tr><td><b>x</b></td><td><b>[0. 1.]</b></td><td><b>[1. 2.]</b></td><td><b>[2. 3.]</b></td><td><b>[3. 4.]</b></td><td><b>[4. 5.]</b></td><td><b>[5. 6.]</b></td><td><b>[6. 7.]</b></td><td><b>[7. 8.]</b></td><td><b>[8. 9.]</b></td><td><b>[ 9. 10.]</b></td></tr>\n",
       "<tr><td><b>a</b></td><td>2             </td><td>2.4           </td><td>1.5           </td><td>2.7           </td><td>2.7           </td><td>1.8           </td><td>2.4           </td><td>2.7           </td><td>2.3           </td><td>2.6             </td></tr>\n",
       "</tbody>\n",
       "</table>"
      ],
      "text/plain": [
       "GridArray(a : [1.97917063 2.37388418 1.53027805 2.67003405 2.72579363 1.80124027\n",
       " 2.37716465 2.66971716 2.34729931 2.64631641])"
      ]
     },
     "execution_count": 93,
     "metadata": {},
     "output_type": "execute_result"
    }
   ],
   "source": [
    "np.sum(g['a'], axis='y')"
   ]
  },
  {
   "cell_type": "code",
   "execution_count": 94,
   "metadata": {},
   "outputs": [
    {
     "data": {
      "text/html": [
       "<table>\n",
       "<tbody>\n",
       "<tr><td><b>x</b></td><td><b>[0. 1.]</b></td><td><b>[1. 2.]</b></td><td><b>[2. 3.]</b></td><td><b>[3. 4.]</b></td><td><b>[4. 5.]</b></td><td><b>[5. 6.]</b></td><td><b>[6. 7.]</b></td><td><b>[7. 8.]</b></td><td><b>[8. 9.]</b></td><td><b>[ 9. 10.]</b></td></tr>\n",
       "<tr><td><b>a</b></td><td>0.41          </td><td>0.23          </td><td>0.17          </td><td>0.77          </td><td>0.35          </td><td>0.3           </td><td>0.15          </td><td>0.55          </td><td>0.16          </td><td>0.66            </td></tr>\n",
       "<tr><td><b>b</b></td><td>-1            </td><td>-1            </td><td>-1            </td><td>1             </td><td>-1            </td><td>-1            </td><td>-1            </td><td>1             </td><td>-1            </td><td>1               </td></tr>\n",
       "</tbody>\n",
       "</table>"
      ],
      "text/plain": [
       "GridData(Grid(\n",
       "Dimension(\"x\",\n",
       "points = None,\n",
       "edges = array([[ 0.,  1.],\n",
       "       [ 1.,  2.],\n",
       "       [ 2.,  3.],\n",
       "       [ 3.,  4.],\n",
       "       [ 4.,  5.],\n",
       "       [ 5.,  6.],\n",
       "       [ 6.,  7.],\n",
       "       [ 7.,  8.],\n",
       "       [ 8.,  9.],\n",
       "       [ 9., 10.]]))\n",
       "nbins = 10),)\n",
       "OrderedDict([('a', array([0.41321868, 0.23219442, 0.17394634, 0.77377227, 0.3481604 ,\n",
       "       0.30001439, 0.15131974, 0.54542731, 0.15548188, 0.66282526])), ('b', array([-1., -1., -1.,  1., -1., -1., -1.,  1., -1.,  1.]))]))"
      ]
     },
     "execution_count": 94,
     "metadata": {},
     "output_type": "execute_result"
    }
   ],
   "source": [
    "g[:,-2]"
   ]
  },
  {
   "cell_type": "code",
   "execution_count": 95,
   "metadata": {},
   "outputs": [
    {
     "data": {
      "text/html": [
       "<table>\n",
       "<tbody>\n",
       "<tr><td><b>y \\ x</b>  </td><td><b>[ 9. 10.]</b>   </td><td><b>[8. 9.]</b>    </td><td><b>[7. 8.]</b>     </td><td><b>[6. 7.]</b>     </td><td><b>[5. 6.]</b>    </td><td><b>[4. 5.]</b>    </td><td><b>[3. 4.]</b>    </td><td><b>[2. 3.]</b>    </td><td><b>[1. 2.]</b>    </td><td><b>[0. 1.]</b>    </td></tr>\n",
       "<tr><td><b>[4. 5.]</b></td><td>a = 1<br>b = 1     </td><td>a = 0.48<br>b = -1</td><td>a = 0.35<br>b = -1 </td><td>a = 0.73<br>b = 1  </td><td>a = 0.58<br>b = 1 </td><td>a = 0.24<br>b = -1</td><td>a = 0.82<br>b = 1 </td><td>a = 0.18<br>b = -1</td><td>a = 0.64<br>b = 1 </td><td>a = 0.36<br>b = -1</td></tr>\n",
       "<tr><td><b>[3. 4.]</b></td><td>a = 0.66<br>b = 1  </td><td>a = 0.16<br>b = -1</td><td>a = 0.55<br>b = 1  </td><td>a = 0.15<br>b = -1 </td><td>a = 0.3<br>b = -1 </td><td>a = 0.35<br>b = -1</td><td>a = 0.77<br>b = 1 </td><td>a = 0.17<br>b = -1</td><td>a = 0.23<br>b = -1</td><td>a = 0.41<br>b = -1</td></tr>\n",
       "<tr><td><b>[2. 3.]</b></td><td>a = 0.081<br>b = -1</td><td>a = 0.3<br>b = -1 </td><td>a = 0.92<br>b = 1  </td><td>a = 0.68<br>b = 1  </td><td>a = 0.24<br>b = -1</td><td>a = 0.87<br>b = 1 </td><td>a = 0.19<br>b = -1</td><td>a = 0.14<br>b = -1</td><td>a = 0.5<br>b = 1  </td><td>a = 0.55<br>b = 1 </td></tr>\n",
       "<tr><td><b>[1. 2.]</b></td><td>a = 0.81<br>b = 1  </td><td>a = 0.55<br>b = 1 </td><td>a = 0.83<br>b = 1  </td><td>a = 0.011<br>b = -1</td><td>a = 0.2<br>b = -1 </td><td>a = 0.35<br>b = -1</td><td>a = 0.47<br>b = -1</td><td>a = 0.71<br>b = 1 </td><td>a = 0.18<br>b = -1</td><td>a = 0.44<br>b = -1</td></tr>\n",
       "<tr><td><b>[0. 1.]</b></td><td>a = 0.099<br>b = -1</td><td>a = 0.86<br>b = 1 </td><td>a = 0.026<br>b = -1</td><td>a = 0.81<br>b = 1  </td><td>a = 0.49<br>b = -1</td><td>a = 0.91<br>b = 1 </td><td>a = 0.42<br>b = -1</td><td>a = 0.32<br>b = -1</td><td>a = 0.82<br>b = 1 </td><td>a = 0.21<br>b = -1</td></tr>\n",
       "</tbody>\n",
       "</table>"
      ],
      "text/plain": [
       "GridData(Grid(\n",
       "Dimension(\"x\",\n",
       "points = None,\n",
       "edges = array([[ 9., 10.],\n",
       "       [ 8.,  9.],\n",
       "       [ 7.,  8.],\n",
       "       [ 6.,  7.],\n",
       "       [ 5.,  6.],\n",
       "       [ 4.,  5.],\n",
       "       [ 3.,  4.],\n",
       "       [ 2.,  3.],\n",
       "       [ 1.,  2.],\n",
       "       [ 0.,  1.]]))\n",
       "nbins = 10),\n",
       "Dimension(\"y\",\n",
       "points = None,\n",
       "edges = array([[4., 5.],\n",
       "       [3., 4.],\n",
       "       [2., 3.],\n",
       "       [1., 2.],\n",
       "       [0., 1.]]))\n",
       "nbins = 5),)\n",
       "OrderedDict([('a', array([[0.99661044, 0.66282526, 0.08126144, 0.8063062 , 0.09931307],\n",
       "       [0.48028433, 0.15548188, 0.30087034, 0.54966739, 0.86099537],\n",
       "       [0.34768194, 0.54542731, 0.92373173, 0.82700626, 0.02586992],\n",
       "       [0.73287103, 0.15131974, 0.67602952, 0.01056551, 0.80637884],\n",
       "       [0.57831792, 0.30001439, 0.23952989, 0.19710361, 0.48627447],\n",
       "       [0.24302774, 0.3481604 , 0.86843208, 0.35439107, 0.91178233],\n",
       "       [0.82316621, 0.77377227, 0.18731296, 0.46587995, 0.41990266],\n",
       "       [0.18461855, 0.17394634, 0.1415858 , 0.71010566, 0.3200217 ],\n",
       "       [0.64434726, 0.23219442, 0.50042747, 0.17956556, 0.81734948],\n",
       "       [0.36001588, 0.41321868, 0.55432881, 0.44138186, 0.21022541]])), ('b', array([[ 1.,  1., -1.,  1., -1.],\n",
       "       [-1., -1., -1.,  1.,  1.],\n",
       "       [-1.,  1.,  1.,  1., -1.],\n",
       "       [ 1., -1.,  1., -1.,  1.],\n",
       "       [ 1., -1., -1., -1., -1.],\n",
       "       [-1., -1.,  1., -1.,  1.],\n",
       "       [ 1.,  1., -1., -1., -1.],\n",
       "       [-1., -1., -1.,  1., -1.],\n",
       "       [ 1., -1.,  1., -1.,  1.],\n",
       "       [-1., -1.,  1., -1., -1.]]))]))"
      ]
     },
     "execution_count": 95,
     "metadata": {},
     "output_type": "execute_result"
    }
   ],
   "source": [
    "g[::-1, ::-1]"
   ]
  },
  {
   "cell_type": "code",
   "execution_count": 96,
   "metadata": {},
   "outputs": [
    {
     "data": {
      "text/html": [
       "<table>\n",
       "<tbody>\n",
       "<tr><td><b>y \\ x</b>  </td><td><b>[0. 1.]</b>    </td><td><b>[3. 4.]</b>    </td><td><b>[5. 6.]</b>    </td></tr>\n",
       "<tr><td><b>[2. 3.]</b></td><td>a = 0.55<br>b = 1 </td><td>a = 0.19<br>b = -1</td><td>a = 0.24<br>b = -1</td></tr>\n",
       "<tr><td><b>[3. 4.]</b></td><td>a = 0.41<br>b = -1</td><td>a = 0.77<br>b = 1 </td><td>a = 0.3<br>b = -1 </td></tr>\n",
       "</tbody>\n",
       "</table>"
      ],
      "text/plain": [
       "GridData(Grid(\n",
       "Dimension(\"x\",\n",
       "points = None,\n",
       "edges = array([[0., 1.],\n",
       "       [3., 4.],\n",
       "       [5., 6.]]))\n",
       "nbins = 3),\n",
       "Dimension(\"y\",\n",
       "points = None,\n",
       "edges = array([[2., 3.],\n",
       "       [3., 4.]]))\n",
       "nbins = 2),)\n",
       "OrderedDict([('a', array([[0.55432881, 0.41321868],\n",
       "       [0.18731296, 0.77377227],\n",
       "       [0.23952989, 0.30001439]])), ('b', array([[ 1., -1.],\n",
       "       [-1.,  1.],\n",
       "       [-1., -1.]]))]))"
      ]
     },
     "execution_count": 96,
     "metadata": {},
     "output_type": "execute_result"
    }
   ],
   "source": [
    "g[[0,3,5], 2:-1]"
   ]
  },
  {
   "cell_type": "code",
   "execution_count": 97,
   "metadata": {},
   "outputs": [
    {
     "data": {
      "text/plain": [
       "{'a': 0.21022540542592794, 'b': -1.0}"
      ]
     },
     "execution_count": 97,
     "metadata": {},
     "output_type": "execute_result"
    }
   ],
   "source": [
    "g[0,0]"
   ]
  },
  {
   "cell_type": "code",
   "execution_count": 98,
   "metadata": {},
   "outputs": [
    {
     "data": {
      "text/plain": [
       "10.0"
      ]
     },
     "execution_count": 98,
     "metadata": {},
     "output_type": "execute_result"
    }
   ],
   "source": [
    "g.grid.edges[0].max()"
   ]
  },
  {
   "cell_type": "code",
   "execution_count": 99,
   "metadata": {},
   "outputs": [
    {
     "data": {
      "text/html": [
       "<table>\n",
       "<tbody>\n",
       "<tr><td><b>y</b></td><td><b>[0. 1.]</b></td><td><b>[1. 2.]</b></td><td><b>[2. 3.]</b></td><td><b>[3. 4.]</b></td><td><b>[4. 5.]</b></td></tr>\n",
       "<tr><td><b>b</b></td><td>0.12          </td><td>0.062         </td><td>0.29          </td><td>-0.19         </td><td>0.25          </td></tr>\n",
       "</tbody>\n",
       "</table>"
      ],
      "text/plain": [
       "GridArray(b : [ 0.11663866  0.06194689  0.28819837 -0.19077642  0.25013173])"
      ]
     },
     "execution_count": 99,
     "metadata": {},
     "output_type": "execute_result"
    }
   ],
   "source": [
    "np.mean(g['b'], axis='x') + np.std(g['a'], axis='x')"
   ]
  },
  {
   "cell_type": "code",
   "execution_count": 100,
   "metadata": {},
   "outputs": [],
   "source": [
    "g['c'] = np.sqrt(g['x']) * np.sqrt(g['y'])"
   ]
  },
  {
   "cell_type": "code",
   "execution_count": 101,
   "metadata": {},
   "outputs": [
    {
     "data": {
      "text/plain": [
       "<matplotlib.collections.QuadMesh at 0x7f482e6a14e0>"
      ]
     },
     "execution_count": 101,
     "metadata": {},
     "output_type": "execute_result"
    },
    {
     "data": {
      "image/png": "[encoded data removed]",
      "text/plain": [
       "<Figure size 432x288 with 2 Axes>"
      ]
     },
     "metadata": {
      "needs_background": "light"
     },
     "output_type": "display_data"
    }
   ],
   "source": [
    "g.plot('c', cbar=True)"
   ]
  },
  {
   "cell_type": "code",
   "execution_count": 102,
   "metadata": {},
   "outputs": [],
   "source": [
    "g['m'] = np.arange(g.grid.size * 3).reshape(g.shape + (-1,))"
   ]
  },
  {
   "cell_type": "code",
   "execution_count": 103,
   "metadata": {},
   "outputs": [
    {
     "data": {
      "text/plain": [
       "<matplotlib.image.AxesImage at 0x7f482e93ada0>"
      ]
     },
     "execution_count": 103,
     "metadata": {},
     "output_type": "execute_result"
    },
    {
     "data": {
      "image/png": "[encoded data removed]",
      "text/plain": [
       "<Figure size 432x288 with 1 Axes>"
      ]
     },
     "metadata": {
      "needs_background": "light"
     },
     "output_type": "display_data"
    }
   ],
   "source": [
    "g.plot('m') #it's interpreted as an RGB image, since the excess dimension is 3"
   ]
  },
  {
   "cell_type": "code",
   "execution_count": 104,
   "metadata": {},
   "outputs": [
    {
     "data": {
      "text/html": [
       "<table>\n",
       "<tbody>\n",
       "<tr><td><b>y \\ x</b>  </td><td><b>[0. 1.]</b></td><td><b>[1. 2.]</b></td><td><b>[2. 3.]</b></td><td><b>[3. 4.]</b></td><td><b>[4. 5.]</b></td><td><b>[5. 6.]</b></td><td><b>[6. 7.]</b></td><td><b>[7. 8.]</b></td><td><b>[8. 9.]</b></td><td><b>[ 9. 10.]</b></td></tr>\n",
       "<tr><td><b>[0. 1.]</b></td><td>0             </td><td>15            </td><td>30            </td><td>45            </td><td>60            </td><td>75            </td><td>90            </td><td>1.0e+02       </td><td>1.2e+02       </td><td>1.4e+02         </td></tr>\n",
       "<tr><td><b>[1. 2.]</b></td><td>3             </td><td>18            </td><td>33            </td><td>48            </td><td>63            </td><td>78            </td><td>93            </td><td>1.1e+02       </td><td>1.2e+02       </td><td>1.4e+02         </td></tr>\n",
       "<tr><td><b>[2. 3.]</b></td><td>6             </td><td>21            </td><td>36            </td><td>51            </td><td>66            </td><td>81            </td><td>96            </td><td>1.1e+02       </td><td>1.3e+02       </td><td>1.4e+02         </td></tr>\n",
       "<tr><td><b>[3. 4.]</b></td><td>9             </td><td>24            </td><td>39            </td><td>54            </td><td>69            </td><td>84            </td><td>99            </td><td>1.1e+02       </td><td>1.3e+02       </td><td>1.4e+02         </td></tr>\n",
       "<tr><td><b>[4. 5.]</b></td><td>12            </td><td>27            </td><td>42            </td><td>57            </td><td>72            </td><td>87            </td><td>1e+02         </td><td>1.2e+02       </td><td>1.3e+02       </td><td>1.5e+02         </td></tr>\n",
       "</tbody>\n",
       "</table>"
      ],
      "text/plain": [
       "GridArray(m : [[  0   3   6   9  12]\n",
       " [ 15  18  21  24  27]\n",
       " [ 30  33  36  39  42]\n",
       " [ 45  48  51  54  57]\n",
       " [ 60  63  66  69  72]\n",
       " [ 75  78  81  84  87]\n",
       " [ 90  93  96  99 102]\n",
       " [105 108 111 114 117]\n",
       " [120 123 126 129 132]\n",
       " [135 138 141 144 147]])"
      ]
     },
     "execution_count": 104,
     "metadata": {},
     "output_type": "execute_result"
    }
   ],
   "source": [
    "g['m'][:,:,0]"
   ]
  },
  {
   "cell_type": "code",
   "execution_count": 105,
   "metadata": {},
   "outputs": [
    {
     "data": {
      "text/html": [
       "<table>\n",
       "<tbody>\n",
       "<tr><td><b>x</b></td><td><b>[0. 1.]</b></td><td><b>[1. 2.]</b></td><td><b>[2. 3.]</b></td><td><b>[3. 4.]</b></td><td><b>[4. 5.]</b></td><td><b>[5. 6.]</b></td><td><b>[6. 7.]</b></td><td><b>[7. 8.]</b></td><td><b>[8. 9.]</b></td><td><b>[ 9. 10.]</b></td></tr>\n",
       "<tr><td><b>a</b></td><td>0.41          </td><td>0.23          </td><td>0.17          </td><td>0.77          </td><td>0.35          </td><td>0.3           </td><td>0.15          </td><td>0.55          </td><td>0.16          </td><td>0.66            </td></tr>\n",
       "<tr><td><b>b</b></td><td>-1            </td><td>-1            </td><td>-1            </td><td>1             </td><td>-1            </td><td>-1            </td><td>-1            </td><td>1             </td><td>-1            </td><td>1               </td></tr>\n",
       "<tr><td><b>c</b></td><td>1.3           </td><td>2.3           </td><td>3             </td><td>3.5           </td><td>4             </td><td>4.4           </td><td>4.8           </td><td>5.1           </td><td>5.5           </td><td>5.8             </td></tr>\n",
       "<tr><td><b>m</b></td><td>[ 9 10 11]    </td><td>[24 25 26]    </td><td>[39 40 41]    </td><td>[54 55 56]    </td><td>[69 70 71]    </td><td>[84 85 86]    </td><td>[ 99 100 101] </td><td>[114 115 116] </td><td>[129 130 131] </td><td>[144 145 146]   </td></tr>\n",
       "</tbody>\n",
       "</table>"
      ],
      "text/plain": [
       "GridData(Grid(\n",
       "Dimension(\"x\",\n",
       "points = None,\n",
       "edges = array([[ 0.,  1.],\n",
       "       [ 1.,  2.],\n",
       "       [ 2.,  3.],\n",
       "       [ 3.,  4.],\n",
       "       [ 4.,  5.],\n",
       "       [ 5.,  6.],\n",
       "       [ 6.,  7.],\n",
       "       [ 7.,  8.],\n",
       "       [ 8.,  9.],\n",
       "       [ 9., 10.]]))\n",
       "nbins = 10),)\n",
       "OrderedDict([('a', array([0.41321868, 0.23219442, 0.17394634, 0.77377227, 0.3481604 ,\n",
       "       0.30001439, 0.15131974, 0.54542731, 0.15548188, 0.66282526])), ('b', array([-1., -1., -1.,  1., -1., -1., -1.,  1., -1.,  1.])), ('c', array([1.32287566, 2.29128785, 2.95803989, 3.5       , 3.96862697,\n",
       "       4.38748219, 4.76969601, 5.12347538, 5.45435606, 5.7662813 ])), ('m', array([[  9,  10,  11],\n",
       "       [ 24,  25,  26],\n",
       "       [ 39,  40,  41],\n",
       "       [ 54,  55,  56],\n",
       "       [ 69,  70,  71],\n",
       "       [ 84,  85,  86],\n",
       "       [ 99, 100, 101],\n",
       "       [114, 115, 116],\n",
       "       [129, 130, 131],\n",
       "       [144, 145, 146]]))]))"
      ]
     },
     "execution_count": 105,
     "metadata": {},
     "output_type": "execute_result"
    }
   ],
   "source": [
    "g[:,3]"
   ]
  },
  {
   "cell_type": "markdown",
   "metadata": {},
   "source": [
    "# Stuff to fix"
   ]
  },
  {
   "cell_type": "code",
   "execution_count": 106,
   "metadata": {},
   "outputs": [
    {
     "data": {
      "text/html": [
       "GridArray(m : [[[  0   1   2]\n",
       "  [  3   4   5]\n",
       "  [  6   7   8]\n",
       "  [  9  10  11]\n",
       "  [ 12  13  14]]\n",
       "\n",
       " [[ 15  16  17]\n",
       "  [ 18  19  20]\n",
       "  [ 21  22  23]\n",
       "  [ 24  25  26]\n",
       "  [ 27  28  29]]\n",
       "\n",
       " [[ 30  31  32]\n",
       "  [ 33  34  35]\n",
       "  [ 36  37  38]\n",
       "  [ 39  40  41]\n",
       "  [ 42  43  44]]\n",
       "\n",
       " [[ 45  46  47]\n",
       "  [ 48  49  50]\n",
       "  [ 51  52  53]\n",
       "  [ 54  55  56]\n",
       "  [ 57  58  59]]\n",
       "\n",
       " [[ 60  61  62]\n",
       "  [ 63  64  65]\n",
       "  [ 66  67  68]\n",
       "  [ 69  70  71]\n",
       "  [ 72  73  74]]\n",
       "\n",
       " [[ 75  76  77]\n",
       "  [ 78  79  80]\n",
       "  [ 81  82  83]\n",
       "  [ 84  85  86]\n",
       "  [ 87  88  89]]\n",
       "\n",
       " [[ 90  91  92]\n",
       "  [ 93  94  95]\n",
       "  [ 96  97  98]\n",
       "  [ 99 100 101]\n",
       "  [102 103 104]]\n",
       "\n",
       " [[105 106 107]\n",
       "  [108 109 110]\n",
       "  [111 112 113]\n",
       "  [114 115 116]\n",
       "  [117 118 119]]\n",
       "\n",
       " [[120 121 122]\n",
       "  [123 124 125]\n",
       "  [126 127 128]\n",
       "  [129 130 131]\n",
       "  [132 133 134]]\n",
       "\n",
       " [[135 136 137]\n",
       "  [138 139 140]\n",
       "  [141 142 143]\n",
       "  [144 145 146]\n",
       "  [147 148 149]]])"
      ],
      "text/plain": [
       "GridArray(m : [[[  0   1   2]\n",
       "  [  3   4   5]\n",
       "  [  6   7   8]\n",
       "  [  9  10  11]\n",
       "  [ 12  13  14]]\n",
       "\n",
       " [[ 15  16  17]\n",
       "  [ 18  19  20]\n",
       "  [ 21  22  23]\n",
       "  [ 24  25  26]\n",
       "  [ 27  28  29]]\n",
       "\n",
       " [[ 30  31  32]\n",
       "  [ 33  34  35]\n",
       "  [ 36  37  38]\n",
       "  [ 39  40  41]\n",
       "  [ 42  43  44]]\n",
       "\n",
       " [[ 45  46  47]\n",
       "  [ 48  49  50]\n",
       "  [ 51  52  53]\n",
       "  [ 54  55  56]\n",
       "  [ 57  58  59]]\n",
       "\n",
       " [[ 60  61  62]\n",
       "  [ 63  64  65]\n",
       "  [ 66  67  68]\n",
       "  [ 69  70  71]\n",
       "  [ 72  73  74]]\n",
       "\n",
       " [[ 75  76  77]\n",
       "  [ 78  79  80]\n",
       "  [ 81  82  83]\n",
       "  [ 84  85  86]\n",
       "  [ 87  88  89]]\n",
       "\n",
       " [[ 90  91  92]\n",
       "  [ 93  94  95]\n",
       "  [ 96  97  98]\n",
       "  [ 99 100 101]\n",
       "  [102 103 104]]\n",
       "\n",
       " [[105 106 107]\n",
       "  [108 109 110]\n",
       "  [111 112 113]\n",
       "  [114 115 116]\n",
       "  [117 118 119]]\n",
       "\n",
       " [[120 121 122]\n",
       "  [123 124 125]\n",
       "  [126 127 128]\n",
       "  [129 130 131]\n",
       "  [132 133 134]]\n",
       "\n",
       " [[135 136 137]\n",
       "  [138 139 140]\n",
       "  [141 142 143]\n",
       "  [144 145 146]\n",
       "  [147 148 149]]])"
      ]
     },
     "execution_count": 106,
     "metadata": {},
     "output_type": "execute_result"
    }
   ],
   "source": [
    "g['m']"
   ]
  },
  {
   "cell_type": "code",
   "execution_count": 107,
   "metadata": {},
   "outputs": [
    {
     "ename": "TypeError",
     "evalue": "list indices must be integers or slices, not tuple",
     "output_type": "error",
     "traceback": [
      "\u001b[0;31m---------------------------------------------------------------------------\u001b[0m",
      "\u001b[0;31mTypeError\u001b[0m                                 Traceback (most recent call last)",
      "\u001b[0;32m<ipython-input-107-736532b143b4>\u001b[0m in \u001b[0;36m<module>\u001b[0;34m\u001b[0m\n\u001b[0;32m----> 1\u001b[0;31m \u001b[0mnp\u001b[0m\u001b[0;34m.\u001b[0m\u001b[0msum\u001b[0m\u001b[0;34m(\u001b[0m\u001b[0mg\u001b[0m\u001b[0;34m[\u001b[0m\u001b[0;34m'm'\u001b[0m\u001b[0;34m]\u001b[0m\u001b[0;34m,\u001b[0m \u001b[0maxis\u001b[0m\u001b[0;34m=\u001b[0m\u001b[0;34m(\u001b[0m\u001b[0;36m0\u001b[0m\u001b[0;34m,\u001b[0m\u001b[0;36m1\u001b[0m\u001b[0;34m)\u001b[0m\u001b[0;34m)\u001b[0m\u001b[0;34m\u001b[0m\u001b[0;34m\u001b[0m\u001b[0m\n\u001b[0m",
      "\u001b[0;32m~/anaconda3/lib/python3.7/site-packages/numpy/core/fromnumeric.py\u001b[0m in \u001b[0;36msum\u001b[0;34m(a, axis, dtype, out, keepdims, initial)\u001b[0m\n\u001b[1;32m   2074\u001b[0m \u001b[0;34m\u001b[0m\u001b[0m\n\u001b[1;32m   2075\u001b[0m     return _wrapreduction(a, np.add, 'sum', axis, dtype, out, keepdims=keepdims,\n\u001b[0;32m-> 2076\u001b[0;31m                           initial=initial)\n\u001b[0m\u001b[1;32m   2077\u001b[0m \u001b[0;34m\u001b[0m\u001b[0m\n\u001b[1;32m   2078\u001b[0m \u001b[0;34m\u001b[0m\u001b[0m\n",
      "\u001b[0;32m~/anaconda3/lib/python3.7/site-packages/numpy/core/fromnumeric.py\u001b[0m in \u001b[0;36m_wrapreduction\u001b[0;34m(obj, ufunc, method, axis, dtype, out, **kwargs)\u001b[0m\n\u001b[1;32m     84\u001b[0m                 \u001b[0;32mreturn\u001b[0m \u001b[0mreduction\u001b[0m\u001b[0;34m(\u001b[0m\u001b[0maxis\u001b[0m\u001b[0;34m=\u001b[0m\u001b[0maxis\u001b[0m\u001b[0;34m,\u001b[0m \u001b[0mout\u001b[0m\u001b[0;34m=\u001b[0m\u001b[0mout\u001b[0m\u001b[0;34m,\u001b[0m \u001b[0;34m**\u001b[0m\u001b[0mpasskwargs\u001b[0m\u001b[0;34m)\u001b[0m\u001b[0;34m\u001b[0m\u001b[0;34m\u001b[0m\u001b[0m\n\u001b[1;32m     85\u001b[0m \u001b[0;34m\u001b[0m\u001b[0m\n\u001b[0;32m---> 86\u001b[0;31m     \u001b[0;32mreturn\u001b[0m \u001b[0mufunc\u001b[0m\u001b[0;34m.\u001b[0m\u001b[0mreduce\u001b[0m\u001b[0;34m(\u001b[0m\u001b[0mobj\u001b[0m\u001b[0;34m,\u001b[0m \u001b[0maxis\u001b[0m\u001b[0;34m,\u001b[0m \u001b[0mdtype\u001b[0m\u001b[0;34m,\u001b[0m \u001b[0mout\u001b[0m\u001b[0;34m,\u001b[0m \u001b[0;34m**\u001b[0m\u001b[0mpasskwargs\u001b[0m\u001b[0;34m)\u001b[0m\u001b[0;34m\u001b[0m\u001b[0;34m\u001b[0m\u001b[0m\n\u001b[0m\u001b[1;32m     87\u001b[0m \u001b[0;34m\u001b[0m\u001b[0m\n\u001b[1;32m     88\u001b[0m \u001b[0;34m\u001b[0m\u001b[0m\n",
      "\u001b[0;32m~/pynocular/pynocular/griddata.py\u001b[0m in \u001b[0;36m__array_ufunc__\u001b[0;34m(self, ufunc, method, *inputs, **kwargs)\u001b[0m\n\u001b[1;32m    268\u001b[0m             \u001b[0mresult\u001b[0m \u001b[0;34m=\u001b[0m \u001b[0mnp\u001b[0m\u001b[0;34m.\u001b[0m\u001b[0masanyarray\u001b[0m\u001b[0;34m(\u001b[0m\u001b[0mself\u001b[0m\u001b[0;34m)\u001b[0m\u001b[0;34m.\u001b[0m\u001b[0m__array_ufunc__\u001b[0m\u001b[0;34m(\u001b[0m\u001b[0mufunc\u001b[0m\u001b[0;34m,\u001b[0m \u001b[0mmethod\u001b[0m\u001b[0;34m,\u001b[0m \u001b[0;34m*\u001b[0m\u001b[0marray_inputs\u001b[0m\u001b[0;34m,\u001b[0m \u001b[0;34m**\u001b[0m\u001b[0mkwargs\u001b[0m\u001b[0;34m)\u001b[0m\u001b[0;34m\u001b[0m\u001b[0;34m\u001b[0m\u001b[0m\n\u001b[1;32m    269\u001b[0m \u001b[0;34m\u001b[0m\u001b[0m\n\u001b[0;32m--> 270\u001b[0;31m         \u001b[0;32mreturn\u001b[0m \u001b[0mself\u001b[0m\u001b[0;34m.\u001b[0m\u001b[0m_pack_result\u001b[0m\u001b[0;34m(\u001b[0m\u001b[0mresult\u001b[0m\u001b[0;34m,\u001b[0m \u001b[0maxis\u001b[0m\u001b[0;34m)\u001b[0m\u001b[0;34m\u001b[0m\u001b[0;34m\u001b[0m\u001b[0m\n\u001b[0m\u001b[1;32m    271\u001b[0m \u001b[0;34m\u001b[0m\u001b[0m\n\u001b[1;32m    272\u001b[0m \u001b[0;34m\u001b[0m\u001b[0m\n",
      "\u001b[0;32m~/pynocular/pynocular/griddata.py\u001b[0m in \u001b[0;36m_pack_result\u001b[0;34m(self, result, axis)\u001b[0m\n\u001b[1;32m    210\u001b[0m                 \u001b[0;32mif\u001b[0m \u001b[0maxis\u001b[0m \u001b[0;32mis\u001b[0m \u001b[0;32mnot\u001b[0m \u001b[0;32mNone\u001b[0m\u001b[0;34m:\u001b[0m\u001b[0;34m\u001b[0m\u001b[0;34m\u001b[0m\u001b[0m\n\u001b[1;32m    211\u001b[0m                     \u001b[0mnew_grid\u001b[0m \u001b[0;34m=\u001b[0m \u001b[0mcopy\u001b[0m\u001b[0;34m.\u001b[0m\u001b[0mdeepcopy\u001b[0m\u001b[0;34m(\u001b[0m\u001b[0mself\u001b[0m\u001b[0;34m.\u001b[0m\u001b[0mgrid\u001b[0m\u001b[0;34m)\u001b[0m\u001b[0;34m\u001b[0m\u001b[0;34m\u001b[0m\u001b[0m\n\u001b[0;32m--> 212\u001b[0;31m                     \u001b[0;32mdel\u001b[0m\u001b[0;34m(\u001b[0m\u001b[0mnew_grid\u001b[0m\u001b[0;34m.\u001b[0m\u001b[0mdims\u001b[0m\u001b[0;34m[\u001b[0m\u001b[0maxis\u001b[0m\u001b[0;34m]\u001b[0m\u001b[0;34m)\u001b[0m\u001b[0;34m\u001b[0m\u001b[0;34m\u001b[0m\u001b[0m\n\u001b[0m\u001b[1;32m    213\u001b[0m                 \u001b[0;32melse\u001b[0m\u001b[0;34m:\u001b[0m\u001b[0;34m\u001b[0m\u001b[0;34m\u001b[0m\u001b[0m\n\u001b[1;32m    214\u001b[0m                     \u001b[0mnew_grid\u001b[0m \u001b[0;34m=\u001b[0m \u001b[0mself\u001b[0m\u001b[0;34m.\u001b[0m\u001b[0mgrid\u001b[0m\u001b[0;34m\u001b[0m\u001b[0;34m\u001b[0m\u001b[0m\n",
      "\u001b[0;31mTypeError\u001b[0m: list indices must be integers or slices, not tuple"
     ]
    }
   ],
   "source": [
    "np.sum(g['m'], axis=(0,1))"
   ]
  },
  {
   "cell_type": "code",
   "execution_count": null,
   "metadata": {},
   "outputs": [],
   "source": [
    "np.sum(g['m'], axis=-1)"
   ]
  },
  {
   "cell_type": "code",
   "execution_count": null,
   "metadata": {},
   "outputs": [],
   "source": [
    "# because of this\n",
    "np.sum(g['m'], axis=-1).grid"
   ]
  },
  {
   "cell_type": "code",
   "execution_count": 73,
   "metadata": {},
   "outputs": [
    {
     "name": "stdout",
     "output_type": "stream",
     "text": [
      "a : 25.638797828698017\n",
      "b : 6.0\n",
      "c : 158.62977636787497\n",
      "m : 11175\n"
     ]
    },
    {
     "ename": "NotImplementedError",
     "evalue": "",
     "output_type": "error",
     "traceback": [
      "\u001b[0;31m---------------------------------------------------------------------------\u001b[0m",
      "\u001b[0;31mNotImplementedError\u001b[0m                       Traceback (most recent call last)",
      "\u001b[0;32m<ipython-input-73-425f2f31ff07>\u001b[0m in \u001b[0;36m<module>\u001b[0;34m\u001b[0m\n\u001b[0;32m----> 1\u001b[0;31m \u001b[0mnp\u001b[0m\u001b[0;34m.\u001b[0m\u001b[0msum\u001b[0m\u001b[0;34m(\u001b[0m\u001b[0mg\u001b[0m\u001b[0;34m)\u001b[0m\u001b[0;34m\u001b[0m\u001b[0;34m\u001b[0m\u001b[0m\n\u001b[0m",
      "\u001b[0;32m~/anaconda3/lib/python3.7/site-packages/numpy/core/fromnumeric.py\u001b[0m in \u001b[0;36msum\u001b[0;34m(a, axis, dtype, out, keepdims, initial)\u001b[0m\n\u001b[1;32m   2074\u001b[0m \u001b[0;34m\u001b[0m\u001b[0m\n\u001b[1;32m   2075\u001b[0m     return _wrapreduction(a, np.add, 'sum', axis, dtype, out, keepdims=keepdims,\n\u001b[0;32m-> 2076\u001b[0;31m                           initial=initial)\n\u001b[0m\u001b[1;32m   2077\u001b[0m \u001b[0;34m\u001b[0m\u001b[0m\n\u001b[1;32m   2078\u001b[0m \u001b[0;34m\u001b[0m\u001b[0m\n",
      "\u001b[0;32m~/anaconda3/lib/python3.7/site-packages/numpy/core/fromnumeric.py\u001b[0m in \u001b[0;36m_wrapreduction\u001b[0;34m(obj, ufunc, method, axis, dtype, out, **kwargs)\u001b[0m\n\u001b[1;32m     84\u001b[0m                 \u001b[0;32mreturn\u001b[0m \u001b[0mreduction\u001b[0m\u001b[0;34m(\u001b[0m\u001b[0maxis\u001b[0m\u001b[0;34m=\u001b[0m\u001b[0maxis\u001b[0m\u001b[0;34m,\u001b[0m \u001b[0mout\u001b[0m\u001b[0;34m=\u001b[0m\u001b[0mout\u001b[0m\u001b[0;34m,\u001b[0m \u001b[0;34m**\u001b[0m\u001b[0mpasskwargs\u001b[0m\u001b[0;34m)\u001b[0m\u001b[0;34m\u001b[0m\u001b[0;34m\u001b[0m\u001b[0m\n\u001b[1;32m     85\u001b[0m \u001b[0;34m\u001b[0m\u001b[0m\n\u001b[0;32m---> 86\u001b[0;31m     \u001b[0;32mreturn\u001b[0m \u001b[0mufunc\u001b[0m\u001b[0;34m.\u001b[0m\u001b[0mreduce\u001b[0m\u001b[0;34m(\u001b[0m\u001b[0mobj\u001b[0m\u001b[0;34m,\u001b[0m \u001b[0maxis\u001b[0m\u001b[0;34m,\u001b[0m \u001b[0mdtype\u001b[0m\u001b[0;34m,\u001b[0m \u001b[0mout\u001b[0m\u001b[0;34m,\u001b[0m \u001b[0;34m**\u001b[0m\u001b[0mpasskwargs\u001b[0m\u001b[0;34m)\u001b[0m\u001b[0;34m\u001b[0m\u001b[0;34m\u001b[0m\u001b[0m\n\u001b[0m\u001b[1;32m     87\u001b[0m \u001b[0;34m\u001b[0m\u001b[0m\n\u001b[1;32m     88\u001b[0m \u001b[0;34m\u001b[0m\u001b[0m\n",
      "\u001b[0;32m~/pynocular/pynocular/griddata.py\u001b[0m in \u001b[0;36m__array_ufunc__\u001b[0;34m(self, ufunc, method, *inputs, **kwargs)\u001b[0m\n\u001b[1;32m    402\u001b[0m             \u001b[0mresult\u001b[0m \u001b[0;34m=\u001b[0m \u001b[0mconverted_inputs\u001b[0m\u001b[0;34m[\u001b[0m\u001b[0;36m0\u001b[0m\u001b[0;34m]\u001b[0m\u001b[0;34m.\u001b[0m\u001b[0m__array_ufunc__\u001b[0m\u001b[0;34m(\u001b[0m\u001b[0mufunc\u001b[0m\u001b[0;34m,\u001b[0m \u001b[0mmethod\u001b[0m\u001b[0;34m,\u001b[0m \u001b[0;34m*\u001b[0m\u001b[0mconverted_inputs\u001b[0m\u001b[0;34m,\u001b[0m \u001b[0;34m**\u001b[0m\u001b[0mkwargs\u001b[0m\u001b[0;34m)\u001b[0m\u001b[0;34m\u001b[0m\u001b[0;34m\u001b[0m\u001b[0m\n\u001b[1;32m    403\u001b[0m             \u001b[0mprint\u001b[0m\u001b[0;34m(\u001b[0m\u001b[0;34m'%s : %s'\u001b[0m\u001b[0;34m%\u001b[0m\u001b[0;34m(\u001b[0m\u001b[0mvar\u001b[0m\u001b[0;34m,\u001b[0m \u001b[0mresult\u001b[0m\u001b[0;34m)\u001b[0m\u001b[0;34m)\u001b[0m\u001b[0;34m\u001b[0m\u001b[0;34m\u001b[0m\u001b[0m\n\u001b[0;32m--> 404\u001b[0;31m         \u001b[0;32mraise\u001b[0m \u001b[0mNotImplementedError\u001b[0m\u001b[0;34m(\u001b[0m\u001b[0;34m)\u001b[0m\u001b[0;34m\u001b[0m\u001b[0;34m\u001b[0m\u001b[0m\n\u001b[0m\u001b[1;32m    405\u001b[0m \u001b[0;34m\u001b[0m\u001b[0m\n\u001b[1;32m    406\u001b[0m     \u001b[0;34m@\u001b[0m\u001b[0mproperty\u001b[0m\u001b[0;34m\u001b[0m\u001b[0;34m\u001b[0m\u001b[0m\n",
      "\u001b[0;31mNotImplementedError\u001b[0m: "
     ]
    }
   ],
   "source": [
    "np.sum(g)"
   ]
  },
  {
   "cell_type": "code",
   "execution_count": 74,
   "metadata": {},
   "outputs": [
    {
     "ename": "NotImplementedError",
     "evalue": "",
     "output_type": "error",
     "traceback": [
      "\u001b[0;31m---------------------------------------------------------------------------\u001b[0m",
      "\u001b[0;31mNotImplementedError\u001b[0m                       Traceback (most recent call last)",
      "\u001b[0;32m<ipython-input-74-d291b00d60d5>\u001b[0m in \u001b[0;36m<module>\u001b[0;34m\u001b[0m\n\u001b[0;32m----> 1\u001b[0;31m \u001b[0mg\u001b[0m\u001b[0;34m.\u001b[0m\u001b[0mT\u001b[0m\u001b[0;34m\u001b[0m\u001b[0;34m\u001b[0m\u001b[0m\n\u001b[0m",
      "\u001b[0;32m~/pynocular/pynocular/griddata.py\u001b[0m in \u001b[0;36mT\u001b[0;34m(self)\u001b[0m\n\u001b[1;32m    395\u001b[0m     \u001b[0;32mdef\u001b[0m \u001b[0mT\u001b[0m\u001b[0;34m(\u001b[0m\u001b[0mself\u001b[0m\u001b[0;34m)\u001b[0m\u001b[0;34m:\u001b[0m\u001b[0;34m\u001b[0m\u001b[0;34m\u001b[0m\u001b[0m\n\u001b[1;32m    396\u001b[0m         \u001b[0;34m'''transpose'''\u001b[0m\u001b[0;34m\u001b[0m\u001b[0;34m\u001b[0m\u001b[0m\n\u001b[0;32m--> 397\u001b[0;31m         \u001b[0;32mraise\u001b[0m \u001b[0mNotImplementedError\u001b[0m\u001b[0;34m(\u001b[0m\u001b[0;34m)\u001b[0m\u001b[0;34m\u001b[0m\u001b[0;34m\u001b[0m\u001b[0m\n\u001b[0m\u001b[1;32m    398\u001b[0m \u001b[0;34m\u001b[0m\u001b[0m\n\u001b[1;32m    399\u001b[0m     \u001b[0;32mdef\u001b[0m \u001b[0m__array_ufunc__\u001b[0m\u001b[0;34m(\u001b[0m\u001b[0mself\u001b[0m\u001b[0;34m,\u001b[0m \u001b[0mufunc\u001b[0m\u001b[0;34m,\u001b[0m \u001b[0mmethod\u001b[0m\u001b[0;34m,\u001b[0m \u001b[0;34m*\u001b[0m\u001b[0minputs\u001b[0m\u001b[0;34m,\u001b[0m \u001b[0;34m**\u001b[0m\u001b[0mkwargs\u001b[0m\u001b[0;34m)\u001b[0m\u001b[0;34m:\u001b[0m\u001b[0;34m\u001b[0m\u001b[0;34m\u001b[0m\u001b[0m\n",
      "\u001b[0;31mNotImplementedError\u001b[0m: "
     ]
    }
   ],
   "source": [
    "g.T"
   ]
  }
 ],
 "metadata": {
  "kernelspec": {
   "display_name": "Python 3",
   "language": "python",
   "name": "python3"
  },
  "language_info": {
   "codemirror_mode": {
    "name": "ipython",
    "version": 3
   },
   "file_extension": ".py",
   "mimetype": "text/x-python",
   "name": "python",
   "nbconvert_exporter": "python",
   "pygments_lexer": "ipython3",
   "version": "3.7.3"
  }
 },
 "nbformat": 4,
 "nbformat_minor": 4
}
