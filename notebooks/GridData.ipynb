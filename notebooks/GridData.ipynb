{
 "cells": [
  {
   "cell_type": "code",
   "execution_count": 1,
   "metadata": {},
   "outputs": [],
   "source": [
    "%reload_ext autoreload\n",
    "%autoreload 2\n",
    "import numpy as np\n",
    "import pynocular as pn\n",
    "from matplotlib import pyplot as plt"
   ]
  },
  {
   "cell_type": "code",
   "execution_count": 2,
   "metadata": {},
   "outputs": [],
   "source": [
    "g = pn.GridData(x=np.arange(11), y=np.arange(6))"
   ]
  },
  {
   "cell_type": "code",
   "execution_count": 3,
   "metadata": {},
   "outputs": [
    {
     "data": {
      "text/html": [
       "<table>\n",
       "<tbody>\n",
       "<tr><td><b>y \\ x</b>  </td><td><b>[0. 1.]</b></td><td><b>[1. 2.]</b></td><td><b>[2. 3.]</b></td><td><b>[3. 4.]</b></td><td><b>[4. 5.]</b></td><td><b>[5. 6.]</b></td><td><b>[6. 7.]</b></td><td><b>[7. 8.]</b></td><td><b>[8. 9.]</b></td><td><b>[ 9. 10.]</b></td></tr>\n",
       "<tr><td><b>[0. 1.]</b></td><td>              </td><td>              </td><td>              </td><td>              </td><td>              </td><td>              </td><td>              </td><td>              </td><td>              </td><td>                </td></tr>\n",
       "<tr><td><b>[1. 2.]</b></td><td>              </td><td>              </td><td>              </td><td>              </td><td>              </td><td>              </td><td>              </td><td>              </td><td>              </td><td>                </td></tr>\n",
       "<tr><td><b>[2. 3.]</b></td><td>              </td><td>              </td><td>              </td><td>              </td><td>              </td><td>              </td><td>              </td><td>              </td><td>              </td><td>                </td></tr>\n",
       "<tr><td><b>[3. 4.]</b></td><td>              </td><td>              </td><td>              </td><td>              </td><td>              </td><td>              </td><td>              </td><td>              </td><td>              </td><td>                </td></tr>\n",
       "<tr><td><b>[4. 5.]</b></td><td>              </td><td>              </td><td>              </td><td>              </td><td>              </td><td>              </td><td>              </td><td>              </td><td>              </td><td>                </td></tr>\n",
       "</tbody>\n",
       "</table>"
      ],
      "text/plain": [
       "GridData(Grid(\n",
       "Axis(\"x\",\n",
       "points = None,\n",
       "edges = array([[ 0.,  1.],\n",
       "       [ 1.,  2.],\n",
       "       [ 2.,  3.],\n",
       "       [ 3.,  4.],\n",
       "       [ 4.,  5.],\n",
       "       [ 5.,  6.],\n",
       "       [ 6.,  7.],\n",
       "       [ 7.,  8.],\n",
       "       [ 8.,  9.],\n",
       "       [ 9., 10.]]))\n",
       "nbins = 10),\n",
       "Axis(\"y\",\n",
       "points = None,\n",
       "edges = array([[0., 1.],\n",
       "       [1., 2.],\n",
       "       [2., 3.],\n",
       "       [3., 4.],\n",
       "       [4., 5.]]))\n",
       "nbins = 5),)\n",
       "[])"
      ]
     },
     "execution_count": 3,
     "metadata": {},
     "output_type": "execute_result"
    }
   ],
   "source": [
    "g"
   ]
  },
  {
   "cell_type": "code",
   "execution_count": 4,
   "metadata": {},
   "outputs": [],
   "source": [
    "# add something\n",
    "g['a'] = np.random.rand(g.grid.size).reshape(g.shape)"
   ]
  },
  {
   "cell_type": "code",
   "execution_count": 5,
   "metadata": {},
   "outputs": [
    {
     "data": {
      "text/html": [
       "<table>\n",
       "<tbody>\n",
       "<tr><td><b>y \\ x</b>  </td><td><b>[0. 1.]</b></td><td><b>[1. 2.]</b></td><td><b>[2. 3.]</b></td><td><b>[3. 4.]</b></td><td><b>[4. 5.]</b></td><td><b>[5. 6.]</b></td><td><b>[6. 7.]</b></td><td><b>[7. 8.]</b></td><td><b>[8. 9.]</b></td><td><b>[ 9. 10.]</b></td></tr>\n",
       "<tr><td><b>[0. 1.]</b></td><td>a = 0.1       </td><td>a = 0.81      </td><td>a = 0.76      </td><td>a = 0.27      </td><td>a = 0.56      </td><td>a = 0.48      </td><td>a = 0.81      </td><td>a = 0.52      </td><td>a = 0.78      </td><td>a = 0.19        </td></tr>\n",
       "<tr><td><b>[1. 2.]</b></td><td>a = 0.39      </td><td>a = 0.69      </td><td>a = 0.8       </td><td>a = 0.63      </td><td>a = 0.69      </td><td>a = 0.7       </td><td>a = 0.057     </td><td>a = 0.44      </td><td>a = 0.75      </td><td>a = 0.92        </td></tr>\n",
       "<tr><td><b>[2. 3.]</b></td><td>a = 0.2       </td><td>a = 0.83      </td><td>a = 0.45      </td><td>a = 0.084     </td><td>a = 0.52      </td><td>a = 0.87      </td><td>a = 0.37      </td><td>a = 0.007     </td><td>a = 0.13      </td><td>a = 0.99        </td></tr>\n",
       "<tr><td><b>[3. 4.]</b></td><td>a = 0.21      </td><td>a = 0.43      </td><td>a = 0.66      </td><td>a = 0.67      </td><td>a = 0.56      </td><td>a = 0.53      </td><td>a = 0.13      </td><td>a = 0.2       </td><td>a = 0.7       </td><td>a = 0.49        </td></tr>\n",
       "<tr><td><b>[4. 5.]</b></td><td>a = 0.42      </td><td>a = 0.11      </td><td>a = 0.51      </td><td>a = 0.4       </td><td>a = 0.57      </td><td>a = 0.48      </td><td>a = 0.54      </td><td>a = 0.88      </td><td>a = 0.39      </td><td>a = 0.9         </td></tr>\n",
       "</tbody>\n",
       "</table>"
      ],
      "text/plain": [
       "GridData(Grid(\n",
       "Axis(\"x\",\n",
       "points = None,\n",
       "edges = array([[ 0.,  1.],\n",
       "       [ 1.,  2.],\n",
       "       [ 2.,  3.],\n",
       "       [ 3.,  4.],\n",
       "       [ 4.,  5.],\n",
       "       [ 5.,  6.],\n",
       "       [ 6.,  7.],\n",
       "       [ 7.,  8.],\n",
       "       [ 8.,  9.],\n",
       "       [ 9., 10.]]))\n",
       "nbins = 10),\n",
       "Axis(\"y\",\n",
       "points = None,\n",
       "edges = array([[0., 1.],\n",
       "       [1., 2.],\n",
       "       [2., 3.],\n",
       "       [3., 4.],\n",
       "       [4., 5.]]))\n",
       "nbins = 5),)\n",
       "[GridArray(a : [[0.09955994 0.39135755 0.20353757 0.20740054 0.41871599]\n",
       " [0.80775562 0.69162109 0.82997468 0.42943377 0.11416578]\n",
       " [0.75540652 0.80203198 0.44522738 0.65939985 0.51004891]\n",
       " [0.27424804 0.62700406 0.08436564 0.67480006 0.3974028 ]\n",
       " [0.55992091 0.68588962 0.52187766 0.55731075 0.57079152]\n",
       " [0.48183672 0.70278109 0.87143276 0.52788705 0.4846986 ]\n",
       " [0.81371549 0.0568134  0.37166347 0.1333168  0.53901934]\n",
       " [0.51865655 0.4382315  0.00699437 0.19659278 0.87893644]\n",
       " [0.78484449 0.74561558 0.1320263  0.69610269 0.38610189]\n",
       " [0.18521507 0.91828218 0.99044174 0.48911889 0.90117269]])])"
      ]
     },
     "execution_count": 5,
     "metadata": {},
     "output_type": "execute_result"
    }
   ],
   "source": [
    "g"
   ]
  },
  {
   "cell_type": "code",
   "execution_count": 6,
   "metadata": {},
   "outputs": [],
   "source": [
    "g['b'] = np.ones(g.shape)"
   ]
  },
  {
   "cell_type": "code",
   "execution_count": 7,
   "metadata": {},
   "outputs": [
    {
     "data": {
      "text/html": [
       "<table>\n",
       "<tbody>\n",
       "<tr><td><b>y \\ x</b>  </td><td><b>[0. 1.]</b>   </td><td><b>[1. 2.]</b>   </td><td><b>[2. 3.]</b>   </td><td><b>[3. 4.]</b>    </td><td><b>[4. 5.]</b>   </td><td><b>[5. 6.]</b>   </td><td><b>[6. 7.]</b>    </td><td><b>[7. 8.]</b>    </td><td><b>[8. 9.]</b>   </td><td><b>[ 9. 10.]</b> </td></tr>\n",
       "<tr><td><b>[0. 1.]</b></td><td>a = 0.1<br>b = 1 </td><td>a = 0.81<br>b = 1</td><td>a = 0.76<br>b = 1</td><td>a = 0.27<br>b = 1 </td><td>a = 0.56<br>b = 1</td><td>a = 0.48<br>b = 1</td><td>a = 0.81<br>b = 1 </td><td>a = 0.52<br>b = 1 </td><td>a = 0.78<br>b = 1</td><td>a = 0.19<br>b = 1</td></tr>\n",
       "<tr><td><b>[1. 2.]</b></td><td>a = 0.39<br>b = 1</td><td>a = 0.69<br>b = 1</td><td>a = 0.8<br>b = 1 </td><td>a = 0.63<br>b = 1 </td><td>a = 0.69<br>b = 1</td><td>a = 0.7<br>b = 1 </td><td>a = 0.057<br>b = 1</td><td>a = 0.44<br>b = 1 </td><td>a = 0.75<br>b = 1</td><td>a = 0.92<br>b = 1</td></tr>\n",
       "<tr><td><b>[2. 3.]</b></td><td>a = 0.2<br>b = 1 </td><td>a = 0.83<br>b = 1</td><td>a = 0.45<br>b = 1</td><td>a = 0.084<br>b = 1</td><td>a = 0.52<br>b = 1</td><td>a = 0.87<br>b = 1</td><td>a = 0.37<br>b = 1 </td><td>a = 0.007<br>b = 1</td><td>a = 0.13<br>b = 1</td><td>a = 0.99<br>b = 1</td></tr>\n",
       "<tr><td><b>[3. 4.]</b></td><td>a = 0.21<br>b = 1</td><td>a = 0.43<br>b = 1</td><td>a = 0.66<br>b = 1</td><td>a = 0.67<br>b = 1 </td><td>a = 0.56<br>b = 1</td><td>a = 0.53<br>b = 1</td><td>a = 0.13<br>b = 1 </td><td>a = 0.2<br>b = 1  </td><td>a = 0.7<br>b = 1 </td><td>a = 0.49<br>b = 1</td></tr>\n",
       "<tr><td><b>[4. 5.]</b></td><td>a = 0.42<br>b = 1</td><td>a = 0.11<br>b = 1</td><td>a = 0.51<br>b = 1</td><td>a = 0.4<br>b = 1  </td><td>a = 0.57<br>b = 1</td><td>a = 0.48<br>b = 1</td><td>a = 0.54<br>b = 1 </td><td>a = 0.88<br>b = 1 </td><td>a = 0.39<br>b = 1</td><td>a = 0.9<br>b = 1 </td></tr>\n",
       "</tbody>\n",
       "</table>"
      ],
      "text/plain": [
       "GridData(Grid(\n",
       "Axis(\"x\",\n",
       "points = None,\n",
       "edges = array([[ 0.,  1.],\n",
       "       [ 1.,  2.],\n",
       "       [ 2.,  3.],\n",
       "       [ 3.,  4.],\n",
       "       [ 4.,  5.],\n",
       "       [ 5.,  6.],\n",
       "       [ 6.,  7.],\n",
       "       [ 7.,  8.],\n",
       "       [ 8.,  9.],\n",
       "       [ 9., 10.]]))\n",
       "nbins = 10),\n",
       "Axis(\"y\",\n",
       "points = None,\n",
       "edges = array([[0., 1.],\n",
       "       [1., 2.],\n",
       "       [2., 3.],\n",
       "       [3., 4.],\n",
       "       [4., 5.]]))\n",
       "nbins = 5),)\n",
       "[GridArray(a : [[0.09955994 0.39135755 0.20353757 0.20740054 0.41871599]\n",
       " [0.80775562 0.69162109 0.82997468 0.42943377 0.11416578]\n",
       " [0.75540652 0.80203198 0.44522738 0.65939985 0.51004891]\n",
       " [0.27424804 0.62700406 0.08436564 0.67480006 0.3974028 ]\n",
       " [0.55992091 0.68588962 0.52187766 0.55731075 0.57079152]\n",
       " [0.48183672 0.70278109 0.87143276 0.52788705 0.4846986 ]\n",
       " [0.81371549 0.0568134  0.37166347 0.1333168  0.53901934]\n",
       " [0.51865655 0.4382315  0.00699437 0.19659278 0.87893644]\n",
       " [0.78484449 0.74561558 0.1320263  0.69610269 0.38610189]\n",
       " [0.18521507 0.91828218 0.99044174 0.48911889 0.90117269]]), GridArray(b : [[1. 1. 1. 1. 1.]\n",
       " [1. 1. 1. 1. 1.]\n",
       " [1. 1. 1. 1. 1.]\n",
       " [1. 1. 1. 1. 1.]\n",
       " [1. 1. 1. 1. 1.]\n",
       " [1. 1. 1. 1. 1.]\n",
       " [1. 1. 1. 1. 1.]\n",
       " [1. 1. 1. 1. 1.]\n",
       " [1. 1. 1. 1. 1.]\n",
       " [1. 1. 1. 1. 1.]])])"
      ]
     },
     "execution_count": 7,
     "metadata": {},
     "output_type": "execute_result"
    }
   ],
   "source": [
    "g"
   ]
  },
  {
   "cell_type": "code",
   "execution_count": 8,
   "metadata": {},
   "outputs": [
    {
     "data": {
      "text/html": [
       "<table>\n",
       "<tbody>\n",
       "<tr><td><b>x \\ y</b>    </td><td><b>[0. 1.]</b></td><td><b>[1. 2.]</b></td><td><b>[2. 3.]</b></td><td><b>[3. 4.]</b></td><td><b>[4. 5.]</b></td></tr>\n",
       "<tr><td><b>[0. 1.]</b>  </td><td>0.1           </td><td>0.39          </td><td>0.2           </td><td>0.21          </td><td>0.42          </td></tr>\n",
       "<tr><td><b>[1. 2.]</b>  </td><td>0.81          </td><td>0.69          </td><td>0.83          </td><td>0.43          </td><td>0.11          </td></tr>\n",
       "<tr><td><b>[2. 3.]</b>  </td><td>0.76          </td><td>0.8           </td><td>0.45          </td><td>0.66          </td><td>0.51          </td></tr>\n",
       "<tr><td><b>[3. 4.]</b>  </td><td>0.27          </td><td>0.63          </td><td>0.084         </td><td>0.67          </td><td>0.4           </td></tr>\n",
       "<tr><td><b>[4. 5.]</b>  </td><td>0.56          </td><td>0.69          </td><td>0.52          </td><td>0.56          </td><td>0.57          </td></tr>\n",
       "<tr><td><b>[5. 6.]</b>  </td><td>0.48          </td><td>0.7           </td><td>0.87          </td><td>0.53          </td><td>0.48          </td></tr>\n",
       "<tr><td><b>[6. 7.]</b>  </td><td>0.81          </td><td>0.057         </td><td>0.37          </td><td>0.13          </td><td>0.54          </td></tr>\n",
       "<tr><td><b>[7. 8.]</b>  </td><td>0.52          </td><td>0.44          </td><td>0.007         </td><td>0.2           </td><td>0.88          </td></tr>\n",
       "<tr><td><b>[8. 9.]</b>  </td><td>0.78          </td><td>0.75          </td><td>0.13          </td><td>0.7           </td><td>0.39          </td></tr>\n",
       "<tr><td><b>[ 9. 10.]</b></td><td>0.19          </td><td>0.92          </td><td>0.99          </td><td>0.49          </td><td>0.9           </td></tr>\n",
       "</tbody>\n",
       "</table>"
      ],
      "text/plain": [
       "GridArray(a : [[0.09955994 0.80775562 0.75540652 0.27424804 0.55992091 0.48183672\n",
       "  0.81371549 0.51865655 0.78484449 0.18521507]\n",
       " [0.39135755 0.69162109 0.80203198 0.62700406 0.68588962 0.70278109\n",
       "  0.0568134  0.4382315  0.74561558 0.91828218]\n",
       " [0.20353757 0.82997468 0.44522738 0.08436564 0.52187766 0.87143276\n",
       "  0.37166347 0.00699437 0.1320263  0.99044174]\n",
       " [0.20740054 0.42943377 0.65939985 0.67480006 0.55731075 0.52788705\n",
       "  0.1333168  0.19659278 0.69610269 0.48911889]\n",
       " [0.41871599 0.11416578 0.51004891 0.3974028  0.57079152 0.4846986\n",
       "  0.53901934 0.87893644 0.38610189 0.90117269]])"
      ]
     },
     "execution_count": 8,
     "metadata": {},
     "output_type": "execute_result"
    }
   ],
   "source": [
    "g['a'].T"
   ]
  },
  {
   "cell_type": "code",
   "execution_count": 9,
   "metadata": {},
   "outputs": [
    {
     "data": {
      "text/html": [
       "<table>\n",
       "<tbody>\n",
       "<tr><td><b>y \\ x</b>  </td><td><b>[0. 1.]</b></td><td><b>[1. 2.]</b></td><td><b>[2. 3.]</b></td><td><b>[3. 4.]</b></td><td><b>[4. 5.]</b></td><td><b>[5. 6.]</b></td><td><b>[6. 7.]</b></td><td><b>[7. 8.]</b></td><td><b>[8. 9.]</b></td><td><b>[ 9. 10.]</b></td></tr>\n",
       "<tr><td><b>[0. 1.]</b></td><td>1             </td><td>--            </td><td>--            </td><td>1             </td><td>--            </td><td>1             </td><td>--            </td><td>--            </td><td>--            </td><td>1               </td></tr>\n",
       "<tr><td><b>[1. 2.]</b></td><td>1             </td><td>--            </td><td>--            </td><td>--            </td><td>--            </td><td>--            </td><td>1             </td><td>1             </td><td>--            </td><td>--              </td></tr>\n",
       "<tr><td><b>[2. 3.]</b></td><td>1             </td><td>--            </td><td>1             </td><td>1             </td><td>--            </td><td>--            </td><td>1             </td><td>1             </td><td>1             </td><td>--              </td></tr>\n",
       "<tr><td><b>[3. 4.]</b></td><td>1             </td><td>1             </td><td>--            </td><td>--            </td><td>--            </td><td>--            </td><td>1             </td><td>1             </td><td>--            </td><td>1               </td></tr>\n",
       "<tr><td><b>[4. 5.]</b></td><td>1             </td><td>1             </td><td>--            </td><td>1             </td><td>--            </td><td>1             </td><td>--            </td><td>--            </td><td>1             </td><td>--              </td></tr>\n",
       "</tbody>\n",
       "</table>"
      ],
      "text/plain": [
       "GridArray(b : [[1.0 1.0 1.0 1.0 1.0]\n",
       " [-- -- -- 1.0 1.0]\n",
       " [-- -- 1.0 -- --]\n",
       " [1.0 -- 1.0 -- 1.0]\n",
       " [-- -- -- -- --]\n",
       " [1.0 -- -- -- 1.0]\n",
       " [-- 1.0 1.0 1.0 --]\n",
       " [-- 1.0 1.0 1.0 --]\n",
       " [-- -- 1.0 -- 1.0]\n",
       " [1.0 -- -- 1.0 --]])"
      ]
     },
     "execution_count": 9,
     "metadata": {},
     "output_type": "execute_result"
    }
   ],
   "source": [
    "g['b'][g['a'] < 0.5]"
   ]
  },
  {
   "cell_type": "code",
   "execution_count": 10,
   "metadata": {},
   "outputs": [],
   "source": [
    "g['b'][g['a'] < 0.5] *= -1"
   ]
  },
  {
   "cell_type": "code",
   "execution_count": 11,
   "metadata": {},
   "outputs": [
    {
     "data": {
      "text/html": [
       "<table>\n",
       "<tbody>\n",
       "<tr><td><b>y \\ x</b>  </td><td><b>[0. 1.]</b></td><td><b>[1. 2.]</b></td><td><b>[2. 3.]</b></td><td><b>[3. 4.]</b></td><td><b>[4. 5.]</b></td><td><b>[5. 6.]</b></td><td><b>[6. 7.]</b></td><td><b>[7. 8.]</b></td><td><b>[8. 9.]</b></td><td><b>[ 9. 10.]</b></td></tr>\n",
       "<tr><td><b>[0. 1.]</b></td><td>-1            </td><td>1             </td><td>1             </td><td>-1            </td><td>1             </td><td>-1            </td><td>1             </td><td>1             </td><td>1             </td><td>-1              </td></tr>\n",
       "<tr><td><b>[1. 2.]</b></td><td>-1            </td><td>1             </td><td>1             </td><td>1             </td><td>1             </td><td>1             </td><td>-1            </td><td>-1            </td><td>1             </td><td>1               </td></tr>\n",
       "<tr><td><b>[2. 3.]</b></td><td>-1            </td><td>1             </td><td>-1            </td><td>-1            </td><td>1             </td><td>1             </td><td>-1            </td><td>-1            </td><td>-1            </td><td>1               </td></tr>\n",
       "<tr><td><b>[3. 4.]</b></td><td>-1            </td><td>-1            </td><td>1             </td><td>1             </td><td>1             </td><td>1             </td><td>-1            </td><td>-1            </td><td>1             </td><td>-1              </td></tr>\n",
       "<tr><td><b>[4. 5.]</b></td><td>-1            </td><td>-1            </td><td>1             </td><td>-1            </td><td>1             </td><td>-1            </td><td>1             </td><td>1             </td><td>-1            </td><td>1               </td></tr>\n",
       "</tbody>\n",
       "</table>"
      ],
      "text/plain": [
       "GridArray(b : [[-1. -1. -1. -1. -1.]\n",
       " [ 1.  1.  1. -1. -1.]\n",
       " [ 1.  1. -1.  1.  1.]\n",
       " [-1.  1. -1.  1. -1.]\n",
       " [ 1.  1.  1.  1.  1.]\n",
       " [-1.  1.  1.  1. -1.]\n",
       " [ 1. -1. -1. -1.  1.]\n",
       " [ 1. -1. -1. -1.  1.]\n",
       " [ 1.  1. -1.  1. -1.]\n",
       " [-1.  1.  1. -1.  1.]])"
      ]
     },
     "execution_count": 11,
     "metadata": {},
     "output_type": "execute_result"
    }
   ],
   "source": [
    "g['b']"
   ]
  },
  {
   "cell_type": "code",
   "execution_count": 12,
   "metadata": {},
   "outputs": [
    {
     "data": {
      "text/html": [
       "<table>\n",
       "<tbody>\n",
       "<tr><td><b>x</b></td><td><b>[0. 1.]</b></td><td><b>[1. 2.]</b></td><td><b>[2. 3.]</b></td><td><b>[3. 4.]</b></td><td><b>[4. 5.]</b></td><td><b>[5. 6.]</b></td><td><b>[6. 7.]</b></td><td><b>[7. 8.]</b></td><td><b>[8. 9.]</b></td><td><b>[ 9. 10.]</b></td></tr>\n",
       "<tr><td><b>a</b></td><td>1.3           </td><td>2.9           </td><td>3.2           </td><td>2.1           </td><td>2.9           </td><td>3.1           </td><td>1.9           </td><td>2             </td><td>2.7           </td><td>3.5             </td></tr>\n",
       "</tbody>\n",
       "</table>"
      ],
      "text/plain": [
       "GridArray(a : [1.3205716  2.87295094 3.17211464 2.0578206  2.89579047 3.06863621\n",
       " 1.9145285  2.03941164 2.74469094 3.48423057])"
      ]
     },
     "execution_count": 12,
     "metadata": {},
     "output_type": "execute_result"
    }
   ],
   "source": [
    "np.sum(g['a'], axis='y')"
   ]
  },
  {
   "cell_type": "code",
   "execution_count": 13,
   "metadata": {},
   "outputs": [
    {
     "data": {
      "text/html": [
       "<table>\n",
       "<tbody>\n",
       "<tr><td><b>x</b></td><td><b>[0. 1.]</b></td><td><b>[1. 2.]</b></td><td><b>[2. 3.]</b></td><td><b>[3. 4.]</b></td><td><b>[4. 5.]</b></td><td><b>[5. 6.]</b></td><td><b>[6. 7.]</b></td><td><b>[7. 8.]</b></td><td><b>[8. 9.]</b></td><td><b>[ 9. 10.]</b></td></tr>\n",
       "<tr><td><b>a</b></td><td>0.21          </td><td>0.43          </td><td>0.66          </td><td>0.67          </td><td>0.56          </td><td>0.53          </td><td>0.13          </td><td>0.2           </td><td>0.7           </td><td>0.49            </td></tr>\n",
       "<tr><td><b>b</b></td><td>-1            </td><td>-1            </td><td>1             </td><td>1             </td><td>1             </td><td>1             </td><td>-1            </td><td>-1            </td><td>1             </td><td>-1              </td></tr>\n",
       "</tbody>\n",
       "</table>"
      ],
      "text/plain": [
       "GridData(Grid(\n",
       "Axis(\"x\",\n",
       "points = None,\n",
       "edges = array([[ 0.,  1.],\n",
       "       [ 1.,  2.],\n",
       "       [ 2.,  3.],\n",
       "       [ 3.,  4.],\n",
       "       [ 4.,  5.],\n",
       "       [ 5.,  6.],\n",
       "       [ 6.,  7.],\n",
       "       [ 7.,  8.],\n",
       "       [ 8.,  9.],\n",
       "       [ 9., 10.]]))\n",
       "nbins = 10),)\n",
       "[GridArray(a : [0.20740054 0.42943377 0.65939985 0.67480006 0.55731075 0.52788705\n",
       " 0.1333168  0.19659278 0.69610269 0.48911889]), GridArray(b : [-1. -1.  1.  1.  1.  1. -1. -1.  1. -1.])])"
      ]
     },
     "execution_count": 13,
     "metadata": {},
     "output_type": "execute_result"
    }
   ],
   "source": [
    "g[:,-2]"
   ]
  },
  {
   "cell_type": "code",
   "execution_count": 14,
   "metadata": {},
   "outputs": [
    {
     "data": {
      "text/html": [
       "<table>\n",
       "<tbody>\n",
       "<tr><td><b>y \\ x</b>  </td><td><b>[ 9. 10.]</b>  </td><td><b>[8. 9.]</b>    </td><td><b>[7. 8.]</b>     </td><td><b>[6. 7.]</b>     </td><td><b>[5. 6.]</b>    </td><td><b>[4. 5.]</b>   </td><td><b>[3. 4.]</b>     </td><td><b>[2. 3.]</b>    </td><td><b>[1. 2.]</b>    </td><td><b>[0. 1.]</b>    </td></tr>\n",
       "<tr><td><b>[4. 5.]</b></td><td>a = 0.9<br>b = 1  </td><td>a = 0.39<br>b = -1</td><td>a = 0.88<br>b = 1  </td><td>a = 0.54<br>b = 1  </td><td>a = 0.48<br>b = -1</td><td>a = 0.57<br>b = 1</td><td>a = 0.4<br>b = -1  </td><td>a = 0.51<br>b = 1 </td><td>a = 0.11<br>b = -1</td><td>a = 0.42<br>b = -1</td></tr>\n",
       "<tr><td><b>[3. 4.]</b></td><td>a = 0.49<br>b = -1</td><td>a = 0.7<br>b = 1  </td><td>a = 0.2<br>b = -1  </td><td>a = 0.13<br>b = -1 </td><td>a = 0.53<br>b = 1 </td><td>a = 0.56<br>b = 1</td><td>a = 0.67<br>b = 1  </td><td>a = 0.66<br>b = 1 </td><td>a = 0.43<br>b = -1</td><td>a = 0.21<br>b = -1</td></tr>\n",
       "<tr><td><b>[2. 3.]</b></td><td>a = 0.99<br>b = 1 </td><td>a = 0.13<br>b = -1</td><td>a = 0.007<br>b = -1</td><td>a = 0.37<br>b = -1 </td><td>a = 0.87<br>b = 1 </td><td>a = 0.52<br>b = 1</td><td>a = 0.084<br>b = -1</td><td>a = 0.45<br>b = -1</td><td>a = 0.83<br>b = 1 </td><td>a = 0.2<br>b = -1 </td></tr>\n",
       "<tr><td><b>[1. 2.]</b></td><td>a = 0.92<br>b = 1 </td><td>a = 0.75<br>b = 1 </td><td>a = 0.44<br>b = -1 </td><td>a = 0.057<br>b = -1</td><td>a = 0.7<br>b = 1  </td><td>a = 0.69<br>b = 1</td><td>a = 0.63<br>b = 1  </td><td>a = 0.8<br>b = 1  </td><td>a = 0.69<br>b = 1 </td><td>a = 0.39<br>b = -1</td></tr>\n",
       "<tr><td><b>[0. 1.]</b></td><td>a = 0.19<br>b = -1</td><td>a = 0.78<br>b = 1 </td><td>a = 0.52<br>b = 1  </td><td>a = 0.81<br>b = 1  </td><td>a = 0.48<br>b = -1</td><td>a = 0.56<br>b = 1</td><td>a = 0.27<br>b = -1 </td><td>a = 0.76<br>b = 1 </td><td>a = 0.81<br>b = 1 </td><td>a = 0.1<br>b = -1 </td></tr>\n",
       "</tbody>\n",
       "</table>"
      ],
      "text/plain": [
       "GridData(Grid(\n",
       "Axis(\"x\",\n",
       "points = None,\n",
       "edges = array([[ 9., 10.],\n",
       "       [ 8.,  9.],\n",
       "       [ 7.,  8.],\n",
       "       [ 6.,  7.],\n",
       "       [ 5.,  6.],\n",
       "       [ 4.,  5.],\n",
       "       [ 3.,  4.],\n",
       "       [ 2.,  3.],\n",
       "       [ 1.,  2.],\n",
       "       [ 0.,  1.]]))\n",
       "nbins = 10),\n",
       "Axis(\"y\",\n",
       "points = None,\n",
       "edges = array([[4., 5.],\n",
       "       [3., 4.],\n",
       "       [2., 3.],\n",
       "       [1., 2.],\n",
       "       [0., 1.]]))\n",
       "nbins = 5),)\n",
       "[GridArray(a : [[0.90117269 0.48911889 0.99044174 0.91828218 0.18521507]\n",
       " [0.38610189 0.69610269 0.1320263  0.74561558 0.78484449]\n",
       " [0.87893644 0.19659278 0.00699437 0.4382315  0.51865655]\n",
       " [0.53901934 0.1333168  0.37166347 0.0568134  0.81371549]\n",
       " [0.4846986  0.52788705 0.87143276 0.70278109 0.48183672]\n",
       " [0.57079152 0.55731075 0.52187766 0.68588962 0.55992091]\n",
       " [0.3974028  0.67480006 0.08436564 0.62700406 0.27424804]\n",
       " [0.51004891 0.65939985 0.44522738 0.80203198 0.75540652]\n",
       " [0.11416578 0.42943377 0.82997468 0.69162109 0.80775562]\n",
       " [0.41871599 0.20740054 0.20353757 0.39135755 0.09955994]]), GridArray(b : [[ 1. -1.  1.  1. -1.]\n",
       " [-1.  1. -1.  1.  1.]\n",
       " [ 1. -1. -1. -1.  1.]\n",
       " [ 1. -1. -1. -1.  1.]\n",
       " [-1.  1.  1.  1. -1.]\n",
       " [ 1.  1.  1.  1.  1.]\n",
       " [-1.  1. -1.  1. -1.]\n",
       " [ 1.  1. -1.  1.  1.]\n",
       " [-1. -1.  1.  1.  1.]\n",
       " [-1. -1. -1. -1. -1.]])])"
      ]
     },
     "execution_count": 14,
     "metadata": {},
     "output_type": "execute_result"
    }
   ],
   "source": [
    "g[::-1, ::-1]"
   ]
  },
  {
   "cell_type": "code",
   "execution_count": 15,
   "metadata": {},
   "outputs": [
    {
     "data": {
      "text/html": [
       "<table>\n",
       "<tbody>\n",
       "<tr><td><b>y \\ x</b>  </td><td><b>[0. 1.]</b>    </td><td><b>[3. 4.]</b>     </td><td><b>[5. 6.]</b>   </td></tr>\n",
       "<tr><td><b>[2. 3.]</b></td><td>a = 0.2<br>b = -1 </td><td>a = 0.084<br>b = -1</td><td>a = 0.87<br>b = 1</td></tr>\n",
       "<tr><td><b>[3. 4.]</b></td><td>a = 0.21<br>b = -1</td><td>a = 0.67<br>b = 1  </td><td>a = 0.53<br>b = 1</td></tr>\n",
       "</tbody>\n",
       "</table>"
      ],
      "text/plain": [
       "GridData(Grid(\n",
       "Axis(\"x\",\n",
       "points = None,\n",
       "edges = array([[0., 1.],\n",
       "       [3., 4.],\n",
       "       [5., 6.]]))\n",
       "nbins = 3),\n",
       "Axis(\"y\",\n",
       "points = None,\n",
       "edges = array([[2., 3.],\n",
       "       [3., 4.]]))\n",
       "nbins = 2),)\n",
       "[GridArray(a : [[0.20353757 0.20740054]\n",
       " [0.08436564 0.67480006]\n",
       " [0.87143276 0.52788705]]), GridArray(b : [[-1. -1.]\n",
       " [-1.  1.]\n",
       " [ 1.  1.]])])"
      ]
     },
     "execution_count": 15,
     "metadata": {},
     "output_type": "execute_result"
    }
   ],
   "source": [
    "g[[0,3,5], 2:-1]"
   ]
  },
  {
   "cell_type": "code",
   "execution_count": 16,
   "metadata": {},
   "outputs": [
    {
     "data": {
      "text/plain": [
       "{'a': 0.09955993970779786, 'b': -1.0}"
      ]
     },
     "execution_count": 16,
     "metadata": {},
     "output_type": "execute_result"
    }
   ],
   "source": [
    "g[0,0]"
   ]
  },
  {
   "cell_type": "code",
   "execution_count": 17,
   "metadata": {},
   "outputs": [
    {
     "data": {
      "text/plain": [
       "10.0"
      ]
     },
     "execution_count": 17,
     "metadata": {},
     "output_type": "execute_result"
    }
   ],
   "source": [
    "g.grid.edges[0].max()"
   ]
  },
  {
   "cell_type": "code",
   "execution_count": 18,
   "metadata": {},
   "outputs": [
    {
     "data": {
      "text/html": [
       "<table>\n",
       "<tbody>\n",
       "<tr><td><b>y</b></td><td><b>[0. 1.]</b></td><td><b>[1. 2.]</b></td><td><b>[2. 3.]</b></td><td><b>[3. 4.]</b></td><td><b>[4. 5.]</b></td></tr>\n",
       "<tr><td><b>b</b></td><td>0.45          </td><td>0.64          </td><td>0.13          </td><td>0.2           </td><td>0.22          </td></tr>\n",
       "</tbody>\n",
       "</table>"
      ],
      "text/plain": [
       "GridArray(b : [0.45421821 0.63553892 0.13421589 0.19933235 0.22052965])"
      ]
     },
     "execution_count": 18,
     "metadata": {},
     "output_type": "execute_result"
    }
   ],
   "source": [
    "np.mean(g['b'], axis='x') + np.std(g['a'], axis='x')"
   ]
  },
  {
   "cell_type": "code",
   "execution_count": 19,
   "metadata": {},
   "outputs": [],
   "source": [
    "g['c'] = np.sqrt(g['x']) * np.sqrt(g['y'])"
   ]
  },
  {
   "cell_type": "code",
   "execution_count": 20,
   "metadata": {},
   "outputs": [
    {
     "data": {
      "text/plain": [
       "<matplotlib.collections.QuadMesh at 0x7f3dbde98240>"
      ]
     },
     "execution_count": 20,
     "metadata": {},
     "output_type": "execute_result"
    },
    {
     "data": {
      "image/png": "[encoded data removed]",
      "text/plain": [
       "<Figure size 432x288 with 2 Axes>"
      ]
     },
     "metadata": {
      "needs_background": "light"
     },
     "output_type": "display_data"
    }
   ],
   "source": [
    "g.plot('c', cbar=True)"
   ]
  },
  {
   "cell_type": "code",
   "execution_count": 21,
   "metadata": {},
   "outputs": [],
   "source": [
    "g['m'] = np.arange(g.grid.size * 3).reshape(g.shape + (-1,))"
   ]
  },
  {
   "cell_type": "code",
   "execution_count": 22,
   "metadata": {},
   "outputs": [
    {
     "data": {
      "text/plain": [
       "<matplotlib.image.AxesImage at 0x7f3dbdd6e6a0>"
      ]
     },
     "execution_count": 22,
     "metadata": {},
     "output_type": "execute_result"
    },
    {
     "data": {
      "image/png": "[encoded data removed]",
      "text/plain": [
       "<Figure size 432x288 with 1 Axes>"
      ]
     },
     "metadata": {
      "needs_background": "light"
     },
     "output_type": "display_data"
    }
   ],
   "source": [
    "g.plot('m') #it's interpreted as an RGB image, since the excess dimension is 3"
   ]
  },
  {
   "cell_type": "code",
   "execution_count": 23,
   "metadata": {},
   "outputs": [
    {
     "data": {
      "text/html": [
       "<table>\n",
       "<tbody>\n",
       "<tr><td><b>y \\ x</b>  </td><td><b>[0. 1.]</b></td><td><b>[1. 2.]</b></td><td><b>[2. 3.]</b></td><td><b>[3. 4.]</b></td><td><b>[4. 5.]</b></td><td><b>[5. 6.]</b></td><td><b>[6. 7.]</b></td><td><b>[7. 8.]</b></td><td><b>[8. 9.]</b></td><td><b>[ 9. 10.]</b></td></tr>\n",
       "<tr><td><b>[0. 1.]</b></td><td>0             </td><td>15            </td><td>30            </td><td>45            </td><td>60            </td><td>75            </td><td>90            </td><td>1.0e+02       </td><td>1.2e+02       </td><td>1.4e+02         </td></tr>\n",
       "<tr><td><b>[1. 2.]</b></td><td>3             </td><td>18            </td><td>33            </td><td>48            </td><td>63            </td><td>78            </td><td>93            </td><td>1.1e+02       </td><td>1.2e+02       </td><td>1.4e+02         </td></tr>\n",
       "<tr><td><b>[2. 3.]</b></td><td>6             </td><td>21            </td><td>36            </td><td>51            </td><td>66            </td><td>81            </td><td>96            </td><td>1.1e+02       </td><td>1.3e+02       </td><td>1.4e+02         </td></tr>\n",
       "<tr><td><b>[3. 4.]</b></td><td>9             </td><td>24            </td><td>39            </td><td>54            </td><td>69            </td><td>84            </td><td>99            </td><td>1.1e+02       </td><td>1.3e+02       </td><td>1.4e+02         </td></tr>\n",
       "<tr><td><b>[4. 5.]</b></td><td>12            </td><td>27            </td><td>42            </td><td>57            </td><td>72            </td><td>87            </td><td>1e+02         </td><td>1.2e+02       </td><td>1.3e+02       </td><td>1.5e+02         </td></tr>\n",
       "</tbody>\n",
       "</table>"
      ],
      "text/plain": [
       "GridArray(m : [[  0   3   6   9  12]\n",
       " [ 15  18  21  24  27]\n",
       " [ 30  33  36  39  42]\n",
       " [ 45  48  51  54  57]\n",
       " [ 60  63  66  69  72]\n",
       " [ 75  78  81  84  87]\n",
       " [ 90  93  96  99 102]\n",
       " [105 108 111 114 117]\n",
       " [120 123 126 129 132]\n",
       " [135 138 141 144 147]])"
      ]
     },
     "execution_count": 23,
     "metadata": {},
     "output_type": "execute_result"
    }
   ],
   "source": [
    "g['m'][:,:,0]"
   ]
  },
  {
   "cell_type": "code",
   "execution_count": 24,
   "metadata": {},
   "outputs": [
    {
     "data": {
      "text/html": [
       "<table>\n",
       "<tbody>\n",
       "<tr><td><b>x</b></td><td><b>[0. 1.]</b></td><td><b>[1. 2.]</b></td><td><b>[2. 3.]</b></td><td><b>[3. 4.]</b></td><td><b>[4. 5.]</b></td><td><b>[5. 6.]</b></td><td><b>[6. 7.]</b></td><td><b>[7. 8.]</b></td><td><b>[8. 9.]</b></td><td><b>[ 9. 10.]</b></td></tr>\n",
       "<tr><td><b>a</b></td><td>0.21          </td><td>0.43          </td><td>0.66          </td><td>0.67          </td><td>0.56          </td><td>0.53          </td><td>0.13          </td><td>0.2           </td><td>0.7           </td><td>0.49            </td></tr>\n",
       "<tr><td><b>b</b></td><td>-1            </td><td>-1            </td><td>1             </td><td>1             </td><td>1             </td><td>1             </td><td>-1            </td><td>-1            </td><td>1             </td><td>-1              </td></tr>\n",
       "<tr><td><b>c</b></td><td>1.3           </td><td>2.3           </td><td>3             </td><td>3.5           </td><td>4             </td><td>4.4           </td><td>4.8           </td><td>5.1           </td><td>5.5           </td><td>5.8             </td></tr>\n",
       "<tr><td><b>m</b></td><td>[ 9 10 11]    </td><td>[24 25 26]    </td><td>[39 40 41]    </td><td>[54 55 56]    </td><td>[69 70 71]    </td><td>[84 85 86]    </td><td>[ 99 100 101] </td><td>[114 115 116] </td><td>[129 130 131] </td><td>[144 145 146]   </td></tr>\n",
       "</tbody>\n",
       "</table>"
      ],
      "text/plain": [
       "GridData(Grid(\n",
       "Axis(\"x\",\n",
       "points = None,\n",
       "edges = array([[ 0.,  1.],\n",
       "       [ 1.,  2.],\n",
       "       [ 2.,  3.],\n",
       "       [ 3.,  4.],\n",
       "       [ 4.,  5.],\n",
       "       [ 5.,  6.],\n",
       "       [ 6.,  7.],\n",
       "       [ 7.,  8.],\n",
       "       [ 8.,  9.],\n",
       "       [ 9., 10.]]))\n",
       "nbins = 10),)\n",
       "[GridArray(a : [0.20740054 0.42943377 0.65939985 0.67480006 0.55731075 0.52788705\n",
       " 0.1333168  0.19659278 0.69610269 0.48911889]), GridArray(b : [-1. -1.  1.  1.  1.  1. -1. -1.  1. -1.]), GridArray(c : [1.32287566 2.29128785 2.95803989 3.5        3.96862697 4.38748219\n",
       " 4.76969601 5.12347538 5.45435606 5.7662813 ]), GridArray(m : [[  9  10  11]\n",
       " [ 24  25  26]\n",
       " [ 39  40  41]\n",
       " [ 54  55  56]\n",
       " [ 69  70  71]\n",
       " [ 84  85  86]\n",
       " [ 99 100 101]\n",
       " [114 115 116]\n",
       " [129 130 131]\n",
       " [144 145 146]])])"
      ]
     },
     "execution_count": 24,
     "metadata": {},
     "output_type": "execute_result"
    }
   ],
   "source": [
    "g[:,3]"
   ]
  },
  {
   "cell_type": "code",
   "execution_count": 25,
   "metadata": {},
   "outputs": [
    {
     "data": {
      "text/html": [
       "<table>\n",
       "<tbody>\n",
       "<tr><td><b>y \\ x</b>  </td><td><b>[0. 1.]</b></td><td><b>[1. 2.]</b></td><td><b>[2. 3.]</b></td><td><b>[3. 4.]</b></td><td><b>[4. 5.]</b></td><td><b>[5. 6.]</b></td><td><b>[6. 7.]</b></td><td><b>[7. 8.]</b></td><td><b>[8. 9.]</b></td><td><b>[ 9. 10.]</b></td></tr>\n",
       "<tr><td><b>[0. 1.]</b></td><td>[0 1 2]       </td><td>[15 16 17]    </td><td>[30 31 32]    </td><td>[45 46 47]    </td><td>[60 61 62]    </td><td>[75 76 77]    </td><td>[90 91 92]    </td><td>[105 106 107] </td><td>[120 121 122] </td><td>[135 136 137]   </td></tr>\n",
       "<tr><td><b>[1. 2.]</b></td><td>[3 4 5]       </td><td>[18 19 20]    </td><td>[33 34 35]    </td><td>[48 49 50]    </td><td>[63 64 65]    </td><td>[78 79 80]    </td><td>[93 94 95]    </td><td>[108 109 110] </td><td>[123 124 125] </td><td>[138 139 140]   </td></tr>\n",
       "<tr><td><b>[2. 3.]</b></td><td>[6 7 8]       </td><td>[21 22 23]    </td><td>[36 37 38]    </td><td>[51 52 53]    </td><td>[66 67 68]    </td><td>[81 82 83]    </td><td>[96 97 98]    </td><td>[111 112 113] </td><td>[126 127 128] </td><td>[141 142 143]   </td></tr>\n",
       "<tr><td><b>[3. 4.]</b></td><td>[ 9 10 11]    </td><td>[24 25 26]    </td><td>[39 40 41]    </td><td>[54 55 56]    </td><td>[69 70 71]    </td><td>[84 85 86]    </td><td>[ 99 100 101] </td><td>[114 115 116] </td><td>[129 130 131] </td><td>[144 145 146]   </td></tr>\n",
       "<tr><td><b>[4. 5.]</b></td><td>[12 13 14]    </td><td>[27 28 29]    </td><td>[42 43 44]    </td><td>[57 58 59]    </td><td>[72 73 74]    </td><td>[87 88 89]    </td><td>[102 103 104] </td><td>[117 118 119] </td><td>[132 133 134] </td><td>[147 148 149]   </td></tr>\n",
       "</tbody>\n",
       "</table>"
      ],
      "text/plain": [
       "GridArray(m : [[[  0   1   2]\n",
       "  [  3   4   5]\n",
       "  [  6   7   8]\n",
       "  [  9  10  11]\n",
       "  [ 12  13  14]]\n",
       "\n",
       " [[ 15  16  17]\n",
       "  [ 18  19  20]\n",
       "  [ 21  22  23]\n",
       "  [ 24  25  26]\n",
       "  [ 27  28  29]]\n",
       "\n",
       " [[ 30  31  32]\n",
       "  [ 33  34  35]\n",
       "  [ 36  37  38]\n",
       "  [ 39  40  41]\n",
       "  [ 42  43  44]]\n",
       "\n",
       " [[ 45  46  47]\n",
       "  [ 48  49  50]\n",
       "  [ 51  52  53]\n",
       "  [ 54  55  56]\n",
       "  [ 57  58  59]]\n",
       "\n",
       " [[ 60  61  62]\n",
       "  [ 63  64  65]\n",
       "  [ 66  67  68]\n",
       "  [ 69  70  71]\n",
       "  [ 72  73  74]]\n",
       "\n",
       " [[ 75  76  77]\n",
       "  [ 78  79  80]\n",
       "  [ 81  82  83]\n",
       "  [ 84  85  86]\n",
       "  [ 87  88  89]]\n",
       "\n",
       " [[ 90  91  92]\n",
       "  [ 93  94  95]\n",
       "  [ 96  97  98]\n",
       "  [ 99 100 101]\n",
       "  [102 103 104]]\n",
       "\n",
       " [[105 106 107]\n",
       "  [108 109 110]\n",
       "  [111 112 113]\n",
       "  [114 115 116]\n",
       "  [117 118 119]]\n",
       "\n",
       " [[120 121 122]\n",
       "  [123 124 125]\n",
       "  [126 127 128]\n",
       "  [129 130 131]\n",
       "  [132 133 134]]\n",
       "\n",
       " [[135 136 137]\n",
       "  [138 139 140]\n",
       "  [141 142 143]\n",
       "  [144 145 146]\n",
       "  [147 148 149]]])"
      ]
     },
     "execution_count": 25,
     "metadata": {},
     "output_type": "execute_result"
    }
   ],
   "source": [
    "g['m']"
   ]
  },
  {
   "cell_type": "code",
   "execution_count": 26,
   "metadata": {},
   "outputs": [
    {
     "data": {
      "text/html": [
       "<table>\n",
       "<tbody>\n",
       "<tr><td><b>x \\ y</b>  </td><td><b>[0. 1.]</b></td><td><b>[1. 2.]</b></td><td><b>[2. 3.]</b></td><td><b>[3. 4.]</b></td><td><b>[4. 5.]</b></td></tr>\n",
       "<tr><td><b>[3. 4.]</b></td><td>[45 46 47]    </td><td>[48 49 50]    </td><td>[51 52 53]    </td><td>[54 55 56]    </td><td>[57 58 59]    </td></tr>\n",
       "<tr><td><b>[4. 5.]</b></td><td>[60 61 62]    </td><td>[63 64 65]    </td><td>[66 67 68]    </td><td>[69 70 71]    </td><td>[72 73 74]    </td></tr>\n",
       "</tbody>\n",
       "</table>"
      ],
      "text/plain": [
       "GridArray(m : [[[45 46 47]\n",
       "  [60 61 62]]\n",
       "\n",
       " [[48 49 50]\n",
       "  [63 64 65]]\n",
       "\n",
       " [[51 52 53]\n",
       "  [66 67 68]]\n",
       "\n",
       " [[54 55 56]\n",
       "  [69 70 71]]\n",
       "\n",
       " [[57 58 59]\n",
       "  [72 73 74]]])"
      ]
     },
     "execution_count": 26,
     "metadata": {},
     "output_type": "execute_result"
    }
   ],
   "source": [
    "g.T[:,3:5]['m']"
   ]
  },
  {
   "cell_type": "code",
   "execution_count": 30,
   "metadata": {},
   "outputs": [
    {
     "data": {
      "text/plain": [
       "OrderedDict([('a', 25.570746121888018),\n",
       "             ('b', 4.0),\n",
       "             ('c', 158.62977636787497),\n",
       "             ('m', 11175)])"
      ]
     },
     "execution_count": 30,
     "metadata": {},
     "output_type": "execute_result"
    }
   ],
   "source": [
    "np.sum(g)"
   ]
  },
  {
   "cell_type": "markdown",
   "metadata": {},
   "source": [
    "# Stuff to fix"
   ]
  },
  {
   "cell_type": "code",
   "execution_count": 27,
   "metadata": {},
   "outputs": [
    {
     "ename": "TypeError",
     "evalue": "list indices must be integers or slices, not tuple",
     "output_type": "error",
     "traceback": [
      "\u001b[0;31m---------------------------------------------------------------------------\u001b[0m",
      "\u001b[0;31mTypeError\u001b[0m                                 Traceback (most recent call last)",
      "\u001b[0;32m<ipython-input-27-736532b143b4>\u001b[0m in \u001b[0;36m<module>\u001b[0;34m\u001b[0m\n\u001b[0;32m----> 1\u001b[0;31m \u001b[0mnp\u001b[0m\u001b[0;34m.\u001b[0m\u001b[0msum\u001b[0m\u001b[0;34m(\u001b[0m\u001b[0mg\u001b[0m\u001b[0;34m[\u001b[0m\u001b[0;34m'm'\u001b[0m\u001b[0;34m]\u001b[0m\u001b[0;34m,\u001b[0m \u001b[0maxis\u001b[0m\u001b[0;34m=\u001b[0m\u001b[0;34m(\u001b[0m\u001b[0;36m0\u001b[0m\u001b[0;34m,\u001b[0m\u001b[0;36m1\u001b[0m\u001b[0;34m)\u001b[0m\u001b[0;34m)\u001b[0m\u001b[0;34m\u001b[0m\u001b[0;34m\u001b[0m\u001b[0m\n\u001b[0m",
      "\u001b[0;32m~/anaconda3/lib/python3.7/site-packages/numpy/core/fromnumeric.py\u001b[0m in \u001b[0;36msum\u001b[0;34m(a, axis, dtype, out, keepdims, initial)\u001b[0m\n\u001b[1;32m   2074\u001b[0m \u001b[0;34m\u001b[0m\u001b[0m\n\u001b[1;32m   2075\u001b[0m     return _wrapreduction(a, np.add, 'sum', axis, dtype, out, keepdims=keepdims,\n\u001b[0;32m-> 2076\u001b[0;31m                           initial=initial)\n\u001b[0m\u001b[1;32m   2077\u001b[0m \u001b[0;34m\u001b[0m\u001b[0m\n\u001b[1;32m   2078\u001b[0m \u001b[0;34m\u001b[0m\u001b[0m\n",
      "\u001b[0;32m~/anaconda3/lib/python3.7/site-packages/numpy/core/fromnumeric.py\u001b[0m in \u001b[0;36m_wrapreduction\u001b[0;34m(obj, ufunc, method, axis, dtype, out, **kwargs)\u001b[0m\n\u001b[1;32m     84\u001b[0m                 \u001b[0;32mreturn\u001b[0m \u001b[0mreduction\u001b[0m\u001b[0;34m(\u001b[0m\u001b[0maxis\u001b[0m\u001b[0;34m=\u001b[0m\u001b[0maxis\u001b[0m\u001b[0;34m,\u001b[0m \u001b[0mout\u001b[0m\u001b[0;34m=\u001b[0m\u001b[0mout\u001b[0m\u001b[0;34m,\u001b[0m \u001b[0;34m**\u001b[0m\u001b[0mpasskwargs\u001b[0m\u001b[0;34m)\u001b[0m\u001b[0;34m\u001b[0m\u001b[0;34m\u001b[0m\u001b[0m\n\u001b[1;32m     85\u001b[0m \u001b[0;34m\u001b[0m\u001b[0m\n\u001b[0;32m---> 86\u001b[0;31m     \u001b[0;32mreturn\u001b[0m \u001b[0mufunc\u001b[0m\u001b[0;34m.\u001b[0m\u001b[0mreduce\u001b[0m\u001b[0;34m(\u001b[0m\u001b[0mobj\u001b[0m\u001b[0;34m,\u001b[0m \u001b[0maxis\u001b[0m\u001b[0;34m,\u001b[0m \u001b[0mdtype\u001b[0m\u001b[0;34m,\u001b[0m \u001b[0mout\u001b[0m\u001b[0;34m,\u001b[0m \u001b[0;34m**\u001b[0m\u001b[0mpasskwargs\u001b[0m\u001b[0;34m)\u001b[0m\u001b[0;34m\u001b[0m\u001b[0;34m\u001b[0m\u001b[0m\n\u001b[0m\u001b[1;32m     87\u001b[0m \u001b[0;34m\u001b[0m\u001b[0m\n\u001b[1;32m     88\u001b[0m \u001b[0;34m\u001b[0m\u001b[0m\n",
      "\u001b[0;32m~/pynocular/pynocular/griddata.py\u001b[0m in \u001b[0;36m__array_ufunc__\u001b[0;34m(self, ufunc, method, *inputs, **kwargs)\u001b[0m\n\u001b[1;32m    241\u001b[0m             \u001b[0mresult\u001b[0m \u001b[0;34m=\u001b[0m \u001b[0mnp\u001b[0m\u001b[0;34m.\u001b[0m\u001b[0masanyarray\u001b[0m\u001b[0;34m(\u001b[0m\u001b[0mself\u001b[0m\u001b[0;34m)\u001b[0m\u001b[0;34m.\u001b[0m\u001b[0m__array_ufunc__\u001b[0m\u001b[0;34m(\u001b[0m\u001b[0mufunc\u001b[0m\u001b[0;34m,\u001b[0m \u001b[0mmethod\u001b[0m\u001b[0;34m,\u001b[0m \u001b[0;34m*\u001b[0m\u001b[0marray_inputs\u001b[0m\u001b[0;34m,\u001b[0m \u001b[0;34m**\u001b[0m\u001b[0mkwargs\u001b[0m\u001b[0;34m)\u001b[0m\u001b[0;34m\u001b[0m\u001b[0;34m\u001b[0m\u001b[0m\n\u001b[1;32m    242\u001b[0m \u001b[0;34m\u001b[0m\u001b[0m\n\u001b[0;32m--> 243\u001b[0;31m         \u001b[0;32mreturn\u001b[0m \u001b[0mself\u001b[0m\u001b[0;34m.\u001b[0m\u001b[0m_pack_result\u001b[0m\u001b[0;34m(\u001b[0m\u001b[0mresult\u001b[0m\u001b[0;34m,\u001b[0m \u001b[0maxis\u001b[0m\u001b[0;34m)\u001b[0m\u001b[0;34m\u001b[0m\u001b[0;34m\u001b[0m\u001b[0m\n\u001b[0m\u001b[1;32m    244\u001b[0m \u001b[0;34m\u001b[0m\u001b[0m\n\u001b[1;32m    245\u001b[0m \u001b[0;34m\u001b[0m\u001b[0m\n",
      "\u001b[0;32m~/pynocular/pynocular/griddata.py\u001b[0m in \u001b[0;36m_pack_result\u001b[0;34m(self, result, axis)\u001b[0m\n\u001b[1;32m    183\u001b[0m                 \u001b[0;32mif\u001b[0m \u001b[0maxis\u001b[0m \u001b[0;32mis\u001b[0m \u001b[0;32mnot\u001b[0m \u001b[0;32mNone\u001b[0m\u001b[0;34m:\u001b[0m\u001b[0;34m\u001b[0m\u001b[0;34m\u001b[0m\u001b[0m\n\u001b[1;32m    184\u001b[0m                     \u001b[0mnew_grid\u001b[0m \u001b[0;34m=\u001b[0m \u001b[0mcopy\u001b[0m\u001b[0;34m.\u001b[0m\u001b[0mdeepcopy\u001b[0m\u001b[0;34m(\u001b[0m\u001b[0mself\u001b[0m\u001b[0;34m.\u001b[0m\u001b[0mgrid\u001b[0m\u001b[0;34m)\u001b[0m\u001b[0;34m\u001b[0m\u001b[0;34m\u001b[0m\u001b[0m\n\u001b[0;32m--> 185\u001b[0;31m                     \u001b[0;32mdel\u001b[0m\u001b[0;34m(\u001b[0m\u001b[0mnew_grid\u001b[0m\u001b[0;34m.\u001b[0m\u001b[0maxes\u001b[0m\u001b[0;34m[\u001b[0m\u001b[0maxis\u001b[0m\u001b[0;34m]\u001b[0m\u001b[0;34m)\u001b[0m\u001b[0;34m\u001b[0m\u001b[0;34m\u001b[0m\u001b[0m\n\u001b[0m\u001b[1;32m    186\u001b[0m                 \u001b[0;32melse\u001b[0m\u001b[0;34m:\u001b[0m\u001b[0;34m\u001b[0m\u001b[0;34m\u001b[0m\u001b[0m\n\u001b[1;32m    187\u001b[0m                     \u001b[0mnew_grid\u001b[0m \u001b[0;34m=\u001b[0m \u001b[0mself\u001b[0m\u001b[0;34m.\u001b[0m\u001b[0mgrid\u001b[0m\u001b[0;34m\u001b[0m\u001b[0;34m\u001b[0m\u001b[0m\n",
      "\u001b[0;31mTypeError\u001b[0m: list indices must be integers or slices, not tuple"
     ]
    }
   ],
   "source": [
    "np.sum(g['m'], axis=(0,1))"
   ]
  },
  {
   "cell_type": "code",
   "execution_count": 29,
   "metadata": {},
   "outputs": [
    {
     "data": {
      "text/plain": [
       "Grid(\n",
       "Axis(\"x\",\n",
       "points = None,\n",
       "edges = array([[ 0.,  1.],\n",
       "       [ 1.,  2.],\n",
       "       [ 2.,  3.],\n",
       "       [ 3.,  4.],\n",
       "       [ 4.,  5.],\n",
       "       [ 5.,  6.],\n",
       "       [ 6.,  7.],\n",
       "       [ 7.,  8.],\n",
       "       [ 8.,  9.],\n",
       "       [ 9., 10.]]))\n",
       "nbins = 10),)"
      ]
     },
     "execution_count": 29,
     "metadata": {},
     "output_type": "execute_result"
    }
   ],
   "source": [
    "# because of this\n",
    "np.sum(g['m'], axis=-1).grid"
   ]
  },
  {
   "cell_type": "code",
   "execution_count": 32,
   "metadata": {},
   "outputs": [
    {
     "data": {
      "text/html": [
       "<table>\n",
       "<tbody>\n",
       "<tr><td><b>x</b></td><td><b>[0. 1.]</b>   </td><td><b>[1. 2.]</b>   </td><td><b>[2. 3.]</b>       </td><td><b>[3. 4.]</b>       </td><td><b>[4. 5.]</b>       </td><td><b>[5. 6.]</b>       </td><td><b>[6. 7.]</b>       </td><td><b>[7. 8.]</b>       </td><td><b>[8. 9.]</b>       </td><td><b>[ 9. 10.]</b>     </td></tr>\n",
       "<tr><td><b>m</b></td><td>[ 3 12 ... 30 39]</td><td>[48 57 ... 75 84]</td><td>[ 93 102 ... 120 129]</td><td>[138 147 ... 165 174]</td><td>[183 192 ... 210 219]</td><td>[228 237 ... 255 264]</td><td>[273 282 ... 300 309]</td><td>[318 327 ... 345 354]</td><td>[363 372 ... 390 399]</td><td>[408 417 ... 435 444]</td></tr>\n",
       "</tbody>\n",
       "</table>"
      ],
      "text/plain": [
       "GridArray(m : [[  3  12  21  30  39]\n",
       " [ 48  57  66  75  84]\n",
       " [ 93 102 111 120 129]\n",
       " [138 147 156 165 174]\n",
       " [183 192 201 210 219]\n",
       " [228 237 246 255 264]\n",
       " [273 282 291 300 309]\n",
       " [318 327 336 345 354]\n",
       " [363 372 381 390 399]\n",
       " [408 417 426 435 444]])"
      ]
     },
     "execution_count": 32,
     "metadata": {},
     "output_type": "execute_result"
    }
   ],
   "source": [
    "np.sum(g['m'], axis=-1)"
   ]
  },
  {
   "cell_type": "code",
   "execution_count": null,
   "metadata": {},
   "outputs": [],
   "source": []
  }
 ],
 "metadata": {
  "kernelspec": {
   "display_name": "Python 3",
   "language": "python",
   "name": "python3"
  },
  "language_info": {
   "codemirror_mode": {
    "name": "ipython",
    "version": 3
   },
   "file_extension": ".py",
   "mimetype": "text/x-python",
   "name": "python",
   "nbconvert_exporter": "python",
   "pygments_lexer": "ipython3",
   "version": "3.7.3"
  }
 },
 "nbformat": 4,
 "nbformat_minor": 4
}
