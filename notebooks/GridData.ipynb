{
 "cells": [
  {
   "cell_type": "code",
   "execution_count": 1,
   "metadata": {},
   "outputs": [],
   "source": [
    "%reload_ext autoreload\n",
    "%autoreload 2\n",
    "import numpy as np\n",
    "import pynocular as pn\n",
    "from matplotlib import pyplot as plt\n",
    "from uncertainties import unumpy"
   ]
  },
  {
   "cell_type": "code",
   "execution_count": 2,
   "metadata": {},
   "outputs": [],
   "source": [
    "g2d = pn.Grid(x=np.arange(10), y=np.arange(20))"
   ]
  },
  {
   "cell_type": "code",
   "execution_count": 3,
   "metadata": {},
   "outputs": [],
   "source": [
    "b = pn.GridArray(np.random.rand(g2d.size).reshape(g2d.shape), grid=g2d)"
   ]
  },
  {
   "cell_type": "code",
   "execution_count": 4,
   "metadata": {},
   "outputs": [],
   "source": [
    "f = np.sum(np.cos(b) -1.2 / b, axis='y')"
   ]
  },
  {
   "cell_type": "code",
   "execution_count": 5,
   "metadata": {},
   "outputs": [],
   "source": [
    "f[f>-50] *= 33"
   ]
  },
  {
   "cell_type": "code",
   "execution_count": 6,
   "metadata": {},
   "outputs": [],
   "source": [
    "f[0:2] *= 0"
   ]
  },
  {
   "cell_type": "code",
   "execution_count": 7,
   "metadata": {},
   "outputs": [],
   "source": [
    "a = pn.GridArray(np.arange(10), x=10)"
   ]
  },
  {
   "cell_type": "code",
   "execution_count": 8,
   "metadata": {},
   "outputs": [],
   "source": [
    "a[[2,7]] *= 0"
   ]
  },
  {
   "cell_type": "code",
   "execution_count": 9,
   "metadata": {},
   "outputs": [
    {
     "data": {
      "text/plain": [
       "Grid(\n",
       "Axis(\"x\",\n",
       "points = None,\n",
       "edges = edges: None)\n",
       "nbins = 10),)"
      ]
     },
     "execution_count": 9,
     "metadata": {},
     "output_type": "execute_result"
    }
   ],
   "source": [
    "a.grid"
   ]
  },
  {
   "cell_type": "code",
   "execution_count": 10,
   "metadata": {},
   "outputs": [],
   "source": [
    "f[3] *= 4"
   ]
  },
  {
   "cell_type": "code",
   "execution_count": 11,
   "metadata": {},
   "outputs": [
    {
     "data": {
      "text/plain": [
       "-2382.882995365431"
      ]
     },
     "execution_count": 11,
     "metadata": {},
     "output_type": "execute_result"
    }
   ],
   "source": [
    "f[3]"
   ]
  },
  {
   "cell_type": "code",
   "execution_count": 12,
   "metadata": {},
   "outputs": [
    {
     "data": {
      "text/html": [
       "<table>\n",
       "<tbody>\n",
       "<tr><td><b>x</b>     </td><td><b>0</b></td><td><b>1</b></td><td><b>2</b></td><td><b>3</b></td><td><b>4</b></td><td><b>5</b></td><td><b>6</b></td><td><b>7</b></td><td><b>8</b></td><td><b>9</b></td></tr>\n",
       "<tr><td><b>noname</b></td><td>-0      </td><td>-0      </td><td>-4.7e+02</td><td>-2.4e+03</td><td>-2.5e+02</td><td>-64     </td><td>-1.3e+03</td><td>-2.1e+02</td><td>-1e+02  </td><td>-1.7e+02</td></tr>\n",
       "</tbody>\n",
       "</table>"
      ],
      "text/plain": [
       "GridArray(noname : [-0.0 -0.0 -474.3121145787575 -2382.882995365431 -254.1258283850167\n",
       " -63.571481139331304 -1264.3758724175887 -206.29775885700397\n",
       " -101.32515261963582 -172.85859385977105])"
      ]
     },
     "execution_count": 12,
     "metadata": {},
     "output_type": "execute_result"
    }
   ],
   "source": [
    "f"
   ]
  },
  {
   "cell_type": "code",
   "execution_count": 13,
   "metadata": {},
   "outputs": [
    {
     "data": {
      "text/plain": [
       "array([   -0.        ,    -0.        ,  -474.31211458, -2857.19510994,\n",
       "       -3111.32093833, -3174.89241947, -4439.26829189, -4645.56605074,\n",
       "       -4746.89120336, -4919.74979722])"
      ]
     },
     "execution_count": 13,
     "metadata": {},
     "output_type": "execute_result"
    }
   ],
   "source": [
    "np.cumsum(f, axis='x')"
   ]
  },
  {
   "cell_type": "code",
   "execution_count": 14,
   "metadata": {},
   "outputs": [
    {
     "data": {
      "text/html": [
       "<table>\n",
       "<tbody>\n",
       "<tr><td><b>x</b>     </td><td><b>0</b></td><td><b>1</b></td><td><b>2</b></td><td><b>3</b></td><td><b>4</b></td><td><b>5</b></td><td><b>6</b></td><td><b>7</b></td><td><b>8</b></td><td><b>9</b></td></tr>\n",
       "<tr><td><b>noname</b></td><td>-0      </td><td>-0      </td><td>-4.7e+02</td><td>-2.4e+03</td><td>-2.5e+02</td><td>-64     </td><td>-1.3e+03</td><td>-2.1e+02</td><td>-1e+02  </td><td>-1.7e+02</td></tr>\n",
       "</tbody>\n",
       "</table>"
      ],
      "text/plain": [
       "GridArray(noname : [-0.0 -0.0 -474.3121145787575 -2382.882995365431 -254.1258283850167\n",
       " -63.571481139331304 -1264.3758724175887 -206.29775885700397\n",
       " -101.32515261963582 -172.85859385977105])"
      ]
     },
     "execution_count": 14,
     "metadata": {},
     "output_type": "execute_result"
    }
   ],
   "source": [
    "f"
   ]
  },
  {
   "cell_type": "code",
   "execution_count": 15,
   "metadata": {},
   "outputs": [],
   "source": [
    "a = unumpy.uarray(np.arange(10), np.ones(10))"
   ]
  },
  {
   "cell_type": "code",
   "execution_count": 16,
   "metadata": {},
   "outputs": [],
   "source": [
    "a = np.arange(10)"
   ]
  },
  {
   "cell_type": "code",
   "execution_count": 17,
   "metadata": {},
   "outputs": [],
   "source": [
    "g = pn.Grid(x=np.arange(10))"
   ]
  },
  {
   "cell_type": "code",
   "execution_count": 18,
   "metadata": {},
   "outputs": [],
   "source": [
    "u = pn.GridArray(a, grid=g)"
   ]
  },
  {
   "cell_type": "code",
   "execution_count": 19,
   "metadata": {},
   "outputs": [
    {
     "data": {
      "text/plain": [
       "Grid(\n",
       "Axis(\"x\",\n",
       "points = array([0, 1, 2, 3, 4, 5, 6, 7, 8, 9]),\n",
       "edges = edges: None)\n",
       "nbins = 10),)"
      ]
     },
     "execution_count": 19,
     "metadata": {},
     "output_type": "execute_result"
    }
   ],
   "source": [
    "u.grid"
   ]
  },
  {
   "cell_type": "code",
   "execution_count": 20,
   "metadata": {},
   "outputs": [
    {
     "data": {
      "text/plain": [
       "9"
      ]
     },
     "execution_count": 20,
     "metadata": {},
     "output_type": "execute_result"
    }
   ],
   "source": [
    "np.max(u)"
   ]
  },
  {
   "cell_type": "code",
   "execution_count": 21,
   "metadata": {},
   "outputs": [
    {
     "data": {
      "text/plain": [
       "9"
      ]
     },
     "execution_count": 21,
     "metadata": {},
     "output_type": "execute_result"
    }
   ],
   "source": [
    "np.amax(np.empty_like(u))"
   ]
  },
  {
   "cell_type": "code",
   "execution_count": 22,
   "metadata": {},
   "outputs": [
    {
     "data": {
      "text/html": [
       "<table>\n",
       "<tbody>\n",
       "<tr><td><b>x</b>     </td><td><b>0</b></td><td><b>1</b></td><td><b>2</b></td><td><b>3</b></td><td><b>4</b></td><td><b>5</b></td><td><b>6</b></td><td><b>7</b></td><td><b>8</b></td><td><b>9</b></td></tr>\n",
       "<tr><td><b>noname</b></td><td>0       </td><td>1       </td><td>2       </td><td>3       </td><td>4       </td><td>5       </td><td>6       </td><td>7       </td><td>8       </td><td>9       </td></tr>\n",
       "</tbody>\n",
       "</table>"
      ],
      "text/plain": [
       "GridArray(noname : [0 1 2 3 4 5 6 7 8 9])"
      ]
     },
     "execution_count": 22,
     "metadata": {},
     "output_type": "execute_result"
    }
   ],
   "source": [
    "u.T"
   ]
  },
  {
   "cell_type": "code",
   "execution_count": 25,
   "metadata": {},
   "outputs": [
    {
     "data": {
      "text/html": [
       "<table>\n",
       "<tbody>\n",
       "<tr><td><b>x</b>     </td><td><b>0</b></td><td><b>1</b></td><td><b>2</b></td><td><b>3</b></td><td><b>4</b></td><td><b>5</b></td><td><b>6</b></td><td><b>7</b></td><td><b>8</b></td><td><b>9</b></td></tr>\n",
       "<tr><td><b>noname</b></td><td>1       </td><td>0.54    </td><td>-0.42   </td><td>-0.99   </td><td>-0.65   </td><td>0.28    </td><td>0.96    </td><td>0.75    </td><td>-0.15   </td><td>-0.91   </td></tr>\n",
       "</tbody>\n",
       "</table>"
      ],
      "text/plain": [
       "GridArray(noname : [1.0 0.5403023058681398 -0.4161468365471424 -0.9899924966004454\n",
       " -0.6536436208636119 0.28366218546322625 0.960170286650366\n",
       " 0.7539022543433046 -0.14550003380861354 -0.9111302618846769])"
      ]
     },
     "execution_count": 25,
     "metadata": {},
     "output_type": "execute_result"
    }
   ],
   "source": [
    "unumpy.cos(u)"
   ]
  },
  {
   "cell_type": "code",
   "execution_count": 26,
   "metadata": {},
   "outputs": [
    {
     "data": {
      "text/html": [
       "<table>\n",
       "<tbody>\n",
       "<tr><td><b>x</b>     </td><td><b>0</b></td><td><b>1</b></td><td><b>2</b></td><td><b>3</b></td><td><b>4</b></td><td><b>5</b></td><td><b>6</b></td><td><b>7</b></td><td><b>8</b></td><td><b>9</b></td></tr>\n",
       "<tr><td><b>noname</b></td><td>1       </td><td>1       </td><td>1       </td><td>1       </td><td>1       </td><td>1       </td><td>1       </td><td>1       </td><td>1       </td><td>1       </td></tr>\n",
       "</tbody>\n",
       "</table>"
      ],
      "text/plain": [
       "GridArray(noname : [1 1 1 1 1 1 1 1 1 1])"
      ]
     },
     "execution_count": 26,
     "metadata": {},
     "output_type": "execute_result"
    }
   ],
   "source": [
    "np.ones_like(u)"
   ]
  },
  {
   "cell_type": "code",
   "execution_count": 27,
   "metadata": {},
   "outputs": [
    {
     "data": {
      "text/html": [
       "<table>\n",
       "<tbody>\n",
       "<tr><td><b>x</b>     </td><td><b>0</b></td><td><b>1</b></td><td><b>2</b></td><td><b>3</b></td><td><b>4</b></td><td><b>5</b></td><td><b>6</b></td><td><b>7</b></td><td><b>8</b></td><td><b>9</b></td></tr>\n",
       "<tr><td><b>noname</b></td><td>0       </td><td>1       </td><td>1.4     </td><td>1.7     </td><td>2       </td><td>2.2     </td><td>2.4     </td><td>2.6     </td><td>2.8     </td><td>3       </td></tr>\n",
       "</tbody>\n",
       "</table>"
      ],
      "text/plain": [
       "GridArray(noname : [0.0 1.0 1.4142135623730951 1.7320508075688772 2.0 2.23606797749979\n",
       " 2.449489742783178 2.6457513110645907 2.8284271247461903 3.0])"
      ]
     },
     "execution_count": 27,
     "metadata": {},
     "output_type": "execute_result"
    }
   ],
   "source": [
    "np.sqrt(u)"
   ]
  },
  {
   "cell_type": "code",
   "execution_count": 28,
   "metadata": {},
   "outputs": [
    {
     "data": {
      "text/plain": [
       "array([10.        , 10.        ,  5.        ,  3.33333333,  2.5       ,\n",
       "        2.        ,  1.66666667,  1.42857143,  1.25      ,  1.11111111])"
      ]
     },
     "execution_count": 28,
     "metadata": {},
     "output_type": "execute_result"
    }
   ],
   "source": [
    "np.asarray(10 / u)"
   ]
  },
  {
   "cell_type": "code",
   "execution_count": 29,
   "metadata": {},
   "outputs": [
    {
     "data": {
      "text/html": [
       "<table>\n",
       "<tbody>\n",
       "<tr><td><b>x</b>     </td><td><b>0</b></td><td><b>1</b></td><td><b>2</b></td><td><b>3</b></td><td><b>4</b></td><td><b>5</b></td><td><b>6</b></td><td><b>7</b></td><td><b>8</b></td><td><b>9</b></td></tr>\n",
       "<tr><td><b>noname</b></td><td>0       </td><td>1       </td><td>2       </td><td>3       </td><td>4       </td><td>5       </td><td>6       </td><td>7       </td><td>8       </td><td>9       </td></tr>\n",
       "</tbody>\n",
       "</table>"
      ],
      "text/plain": [
       "GridArray(noname : [0 1 2 3 4 5 6 7 8 9])"
      ]
     },
     "execution_count": 29,
     "metadata": {},
     "output_type": "execute_result"
    }
   ],
   "source": [
    "u"
   ]
  },
  {
   "cell_type": "code",
   "execution_count": 30,
   "metadata": {},
   "outputs": [
    {
     "data": {
      "text/html": [
       "<table>\n",
       "<tbody>\n",
       "<tr><td><b>x</b>     </td><td><b>0</b></td><td><b>1</b></td><td><b>2</b></td><td><b>3</b></td><td><b>4</b></td><td><b>5</b></td><td><b>6</b></td><td><b>7</b></td><td><b>8</b></td><td><b>9</b></td></tr>\n",
       "<tr><td><b>noname</b></td><td>--      </td><td>--      </td><td>--      </td><td>1.7     </td><td>2       </td><td>2.2     </td><td>2.4     </td><td>2.6     </td><td>2.8     </td><td>3       </td></tr>\n",
       "</tbody>\n",
       "</table>"
      ],
      "text/plain": [
       "GridArray(noname : [-- -- -- 1.7320508075688772 2.0 2.23606797749979 2.449489742783178\n",
       " 2.6457513110645907 2.8284271247461903 3.0])"
      ]
     },
     "execution_count": 30,
     "metadata": {},
     "output_type": "execute_result"
    }
   ],
   "source": [
    "np.sqrt(u[u>2])"
   ]
  },
  {
   "cell_type": "code",
   "execution_count": 31,
   "metadata": {},
   "outputs": [
    {
     "data": {
      "text/html": [
       "<table>\n",
       "<tbody>\n",
       "<tr><td><b>x</b>     </td><td><b>0</b></td><td><b>1</b></td><td><b>2</b></td></tr>\n",
       "<tr><td><b>noname</b></td><td>0       </td><td>1       </td><td>2       </td></tr>\n",
       "</tbody>\n",
       "</table>"
      ],
      "text/plain": [
       "GridArray(noname : [0 1 2])"
      ]
     },
     "execution_count": 31,
     "metadata": {},
     "output_type": "execute_result"
    }
   ],
   "source": [
    "u[0:3]"
   ]
  },
  {
   "cell_type": "code",
   "execution_count": 32,
   "metadata": {},
   "outputs": [],
   "source": [
    "g = pn.GridData(x=np.arange(20), y=np.arange(5))\n",
    "#g = pn.GridData(y=np.arange(5))"
   ]
  },
  {
   "cell_type": "code",
   "execution_count": 33,
   "metadata": {},
   "outputs": [],
   "source": [
    "g.grid['x'].edges = pn.edges(points=g.grid['x'].points)"
   ]
  },
  {
   "cell_type": "code",
   "execution_count": 34,
   "metadata": {},
   "outputs": [],
   "source": [
    "e = pn.edges(points=np.arange(11))"
   ]
  },
  {
   "cell_type": "code",
   "execution_count": 35,
   "metadata": {},
   "outputs": [
    {
     "data": {
      "text/plain": [
       "-0.5"
      ]
     },
     "execution_count": 35,
     "metadata": {},
     "output_type": "execute_result"
    }
   ],
   "source": [
    "e[0,0]"
   ]
  },
  {
   "cell_type": "code",
   "execution_count": 36,
   "metadata": {},
   "outputs": [],
   "source": [
    "a = pn.GridArray(np.random.rand(g.grid.size).reshape(g.shape), grid=g.grid)"
   ]
  },
  {
   "cell_type": "code",
   "execution_count": 37,
   "metadata": {},
   "outputs": [
    {
     "data": {
      "text/html": [
       "<table>\n",
       "<tbody>\n",
       "<tr><td><b>y \\ x</b></td><td><b>[-0.5 | 0 | 0.5]</b></td><td><b>[0.5 | 1 | 1.5]</b></td><td><b>[1.5 | 2 | 2.5]</b></td><td><b>[2.5 | 3 | 3.5]</b></td><td><b>[3.5 | 4 | 4.5]</b></td><td><b>[4.5 | 5 | 5.5]</b></td><td>...</td><td><b>[14 | 14 | 14]</b></td><td><b>[14 | 15 | 16]</b></td><td><b>[16 | 16 | 16]</b></td><td><b>[16 | 17 | 18]</b></td><td><b>[18 | 18 | 18]</b></td><td><b>[18 | 19 | 20]</b></td></tr>\n",
       "<tr><td><b>0</b>    </td><td>0                      </td><td>0                     </td><td>0                     </td><td>0                     </td><td>0                     </td><td>0                     </td><td>...</td><td>0                    </td><td>0                    </td><td>0                    </td><td>0                    </td><td>0                    </td><td>0                    </td></tr>\n",
       "<tr><td><b>1</b>    </td><td>0                      </td><td>0                     </td><td>0                     </td><td>0                     </td><td>0                     </td><td>0                     </td><td>...</td><td>0                    </td><td>0                    </td><td>0                    </td><td>0                    </td><td>0                    </td><td>0                    </td></tr>\n",
       "<tr><td><b>2</b>    </td><td>0                      </td><td>0                     </td><td>0                     </td><td>0                     </td><td>0                     </td><td>0                     </td><td>...</td><td>0                    </td><td>0                    </td><td>0                    </td><td>0                    </td><td>0                    </td><td>0                    </td></tr>\n",
       "<tr><td><b>3</b>    </td><td>0                      </td><td>0                     </td><td>0                     </td><td>0                     </td><td>0                     </td><td>0                     </td><td>...</td><td>0                    </td><td>0                    </td><td>0                    </td><td>0                    </td><td>0                    </td><td>0                    </td></tr>\n",
       "<tr><td><b>4</b>    </td><td>0                      </td><td>0                     </td><td>0                     </td><td>0                     </td><td>0                     </td><td>0                     </td><td>...</td><td>0                    </td><td>0                    </td><td>0                    </td><td>0                    </td><td>0                    </td><td>0                    </td></tr>\n",
       "</tbody>\n",
       "</table>"
      ],
      "text/plain": [
       "GridArray(noname : [[0 0 0 0 0]\n",
       " [0 0 0 0 0]\n",
       " [0 0 0 0 0]\n",
       " [0 0 0 0 0]\n",
       " [0 0 0 0 0]\n",
       " [0 0 0 0 0]\n",
       " [0 0 0 0 0]\n",
       " [0 0 0 0 0]\n",
       " [0 0 0 0 0]\n",
       " [0 0 0 0 0]\n",
       " [0 0 0 0 0]\n",
       " [0 0 0 0 0]\n",
       " [0 0 0 0 0]\n",
       " [0 0 0 0 0]\n",
       " [0 0 0 0 0]\n",
       " [0 0 0 0 0]\n",
       " [0 0 0 0 0]\n",
       " [0 0 0 0 0]\n",
       " [0 0 0 0 0]\n",
       " [0 0 0 0 0]])"
      ]
     },
     "execution_count": 37,
     "metadata": {},
     "output_type": "execute_result"
    }
   ],
   "source": [
    "a.astype(np.int)"
   ]
  },
  {
   "cell_type": "code",
   "execution_count": 38,
   "metadata": {},
   "outputs": [
    {
     "data": {
      "text/html": [
       "<table>\n",
       "<tbody>\n",
       "<tr><td><b>y \\ x</b></td><td><b>[-0.5 | 0 | 0.5]</b></td><td><b>[0.5 | 1 | 1.5]</b></td><td><b>[1.5 | 2 | 2.5]</b></td><td><b>[2.5 | 3 | 3.5]</b></td><td><b>[3.5 | 4 | 4.5]</b></td><td><b>[4.5 | 5 | 5.5]</b></td><td>...</td><td><b>[14 | 14 | 14]</b></td><td><b>[14 | 15 | 16]</b></td><td><b>[16 | 16 | 16]</b></td><td><b>[16 | 17 | 18]</b></td><td><b>[18 | 18 | 18]</b></td><td><b>[18 | 19 | 20]</b></td></tr>\n",
       "<tr><td><b>0</b>    </td><td>1                      </td><td>1                     </td><td>1                     </td><td>1                     </td><td>1                     </td><td>1                     </td><td>...</td><td>1                    </td><td>1                    </td><td>1                    </td><td>1                    </td><td>1                    </td><td>1                    </td></tr>\n",
       "<tr><td><b>1</b>    </td><td>1                      </td><td>1                     </td><td>1                     </td><td>1                     </td><td>1                     </td><td>1                     </td><td>...</td><td>1                    </td><td>1                    </td><td>1                    </td><td>1                    </td><td>1                    </td><td>1                    </td></tr>\n",
       "<tr><td><b>2</b>    </td><td>1                      </td><td>1                     </td><td>1                     </td><td>1                     </td><td>1                     </td><td>1                     </td><td>...</td><td>1                    </td><td>1                    </td><td>1                    </td><td>1                    </td><td>1                    </td><td>1                    </td></tr>\n",
       "<tr><td><b>3</b>    </td><td>1                      </td><td>1                     </td><td>1                     </td><td>1                     </td><td>1                     </td><td>1                     </td><td>...</td><td>1                    </td><td>1                    </td><td>1                    </td><td>1                    </td><td>1                    </td><td>1                    </td></tr>\n",
       "<tr><td><b>4</b>    </td><td>1                      </td><td>1                     </td><td>1                     </td><td>1                     </td><td>1                     </td><td>1                     </td><td>...</td><td>1                    </td><td>1                    </td><td>1                    </td><td>1                    </td><td>1                    </td><td>1                    </td></tr>\n",
       "</tbody>\n",
       "</table>"
      ],
      "text/plain": [
       "GridArray(noname : [[1. 1. 1. 1. 1.]\n",
       " [1. 1. 1. 1. 1.]\n",
       " [1. 1. 1. 1. 1.]\n",
       " [1. 1. 1. 1. 1.]\n",
       " [1. 1. 1. 1. 1.]\n",
       " [1. 1. 1. 1. 1.]\n",
       " [1. 1. 1. 1. 1.]\n",
       " [1. 1. 1. 1. 1.]\n",
       " [1. 1. 1. 1. 1.]\n",
       " [1. 1. 1. 1. 1.]\n",
       " [1. 1. 1. 1. 1.]\n",
       " [1. 1. 1. 1. 1.]\n",
       " [1. 1. 1. 1. 1.]\n",
       " [1. 1. 1. 1. 1.]\n",
       " [1. 1. 1. 1. 1.]\n",
       " [1. 1. 1. 1. 1.]\n",
       " [1. 1. 1. 1. 1.]\n",
       " [1. 1. 1. 1. 1.]\n",
       " [1. 1. 1. 1. 1.]\n",
       " [1. 1. 1. 1. 1.]])"
      ]
     },
     "execution_count": 38,
     "metadata": {},
     "output_type": "execute_result"
    }
   ],
   "source": [
    "np.ones_like(a)"
   ]
  },
  {
   "cell_type": "code",
   "execution_count": 39,
   "metadata": {},
   "outputs": [
    {
     "data": {
      "text/plain": [
       "True"
      ]
     },
     "execution_count": 39,
     "metadata": {},
     "output_type": "execute_result"
    }
   ],
   "source": [
    "np.all(np.abs(-a) == a)"
   ]
  },
  {
   "cell_type": "code",
   "execution_count": 40,
   "metadata": {},
   "outputs": [
    {
     "data": {
      "text/html": [
       "<table>\n",
       "<tbody>\n",
       "<tr><td><b>y \\ x</b></td><td><b>[-0.5 | 0 | 0.5]</b></td><td><b>[0.5 | 1 | 1.5]</b></td><td><b>[1.5 | 2 | 2.5]</b></td><td><b>[2.5 | 3 | 3.5]</b></td><td><b>[3.5 | 4 | 4.5]</b></td><td><b>[4.5 | 5 | 5.5]</b></td><td>...</td><td><b>[14 | 14 | 14]</b></td><td><b>[14 | 15 | 16]</b></td><td><b>[16 | 16 | 16]</b></td><td><b>[16 | 17 | 18]</b></td><td><b>[18 | 18 | 18]</b></td><td><b>[18 | 19 | 20]</b></td></tr>\n",
       "<tr><td><b>0</b>    </td><td>0.61                   </td><td>0.95                  </td><td>0.65                  </td><td>0.93                  </td><td>0.78                  </td><td>0.45                  </td><td>...</td><td>0.71                 </td><td>0.72                 </td><td>0.38                 </td><td>0.74                 </td><td>0.6                  </td><td>0.97                 </td></tr>\n",
       "<tr><td><b>1</b>    </td><td>0.24                   </td><td>0.93                  </td><td>0.8                   </td><td>0.064                 </td><td>0.74                  </td><td>0.12                  </td><td>...</td><td>0.64                 </td><td>0.27                 </td><td>0.17                 </td><td>0.25                 </td><td>0.76                 </td><td>0.47                 </td></tr>\n",
       "<tr><td><b>2</b>    </td><td>0.82                   </td><td>0.31                  </td><td>0.15                  </td><td>0.064                 </td><td>0.25                  </td><td>0.93                  </td><td>...</td><td>0.46                 </td><td>0.3                  </td><td>0.6                  </td><td>0.32                 </td><td>0.56                 </td><td>0.31                 </td></tr>\n",
       "<tr><td><b>3</b>    </td><td>0.047                  </td><td>0.57                  </td><td>0.87                  </td><td>0.87                  </td><td>0.93                  </td><td>0.4                   </td><td>...</td><td>0.18                 </td><td>0.76                 </td><td>0.7                  </td><td>0.65                 </td><td>0.32                 </td><td>0.47                 </td></tr>\n",
       "<tr><td><b>4</b>    </td><td>0.47                   </td><td>0.46                  </td><td>0.47                  </td><td>0.54                  </td><td>0.71                  </td><td>0.74                  </td><td>...</td><td>0.95                 </td><td>0.65                 </td><td>0.83                 </td><td>0.49                 </td><td>0.66                 </td><td>1                    </td></tr>\n",
       "</tbody>\n",
       "</table>"
      ],
      "text/plain": [
       "GridArray(noname : [[0.6090512179362731 0.24240315060303652 0.82475069507919\n",
       "  0.04721557487620287 0.47020945913887724]\n",
       " [0.9477584407392804 0.9304074769454445 0.3128550553690391\n",
       "  0.5742226500018888 0.46141825406130976]\n",
       " [0.653176016163993 0.7969671797141749 0.14710621213107034\n",
       "  0.8726627938228955 0.4738259032098747]\n",
       " [0.9299228137042121 0.0641047407843216 0.06439484846420418\n",
       "  0.8678475486421867 0.5429523207564606]\n",
       " [0.7771980020783721 0.7374470142281471 0.2499881957529445\n",
       "  0.9270147164288076 0.7054490109210276]\n",
       " [0.4548299277478739 0.12486041807215775 0.9312116880045289\n",
       "  0.39568159726007057 0.7355185938427693]\n",
       " [0.9969558772687921 0.8484670258530699 0.6295197181128965\n",
       "  0.5719979228660432 0.03388313693910039]\n",
       " [0.44141307674717845 0.15051589070492877 0.9080341594125297\n",
       "  0.9626157300297237 0.8450917353707427]\n",
       " [0.1422219395683666 0.9994504809337902 0.5203747408940989\n",
       "  0.537948795369295 0.8042032311065676]\n",
       " [0.6376644721087648 0.8705119966302779 0.20820389427065822\n",
       "  0.49429364474300563 0.5779686892422542]\n",
       " [0.7964107323680851 0.41769891459888586 0.9433863600921516\n",
       "  0.05400660388129952 0.7561204452526614]\n",
       " [0.26680638665748324 0.6173869566793575 0.5543929342139682\n",
       "  0.8330807822470166 0.9769338982476143]\n",
       " [0.8566739643904101 0.8624382631101342 0.8588723807029602\n",
       "  0.3445894465986914 0.9202204631905412]\n",
       " [0.8236337882126546 0.2050825424749939 0.7049032140397264\n",
       "  0.07860413884219164 0.5784354290390797]\n",
       " [0.7079131299171442 0.6417313680947817 0.4582405549737313\n",
       "  0.18240846204747174 0.9510777920927976]\n",
       " [0.7242910991705488 0.26896543972776155 0.30446311215924227\n",
       "  0.7573978476284442 0.6465085120803139]\n",
       " [0.3825225829997555 0.16899325162990575 0.6004275238259735\n",
       "  0.6979692759823675 0.8295610464869436]\n",
       " [0.7402737156159738 0.24665665241372436 0.31709333285746144\n",
       "  0.6521965426702042 0.4885038069697989]\n",
       " [0.597704530814728 0.7551676922107817 0.5644224907095825\n",
       "  0.3232984219617878 0.6592219271141241]\n",
       " [0.97099300639683 0.46620780847874843 0.30960835820924215\n",
       "  0.46585694075065087 0.9992808577072293]])"
      ]
     },
     "execution_count": 40,
     "metadata": {},
     "output_type": "execute_result"
    }
   ],
   "source": [
    "np.abs(-a)"
   ]
  },
  {
   "cell_type": "code",
   "execution_count": 41,
   "metadata": {},
   "outputs": [
    {
     "data": {
      "text/html": [
       "<table>\n",
       "<tbody>\n",
       "<tr><td><b>x</b>     </td><td><b>[-0.5 | 0 | 0.5]</b></td><td><b>[0.5 | 1 | 1.5]</b></td><td><b>[1.5 | 2 | 2.5]</b></td><td><b>[2.5 | 3 | 3.5]</b></td><td><b>[3.5 | 4 | 4.5]</b></td><td><b>[4.5 | 5 | 5.5]</b></td><td>...</td><td><b>[14 | 14 | 14]</b></td><td><b>[14 | 15 | 16]</b></td><td><b>[16 | 16 | 16]</b></td><td><b>[16 | 17 | 18]</b></td><td><b>[18 | 18 | 18]</b></td><td><b>[18 | 19 | 20]</b></td></tr>\n",
       "<tr><td><b>noname</b></td><td>2.2                    </td><td>3.2                   </td><td>2.9                   </td><td>2.5                   </td><td>3.4                   </td><td>2.6                   </td><td>...</td><td>2.9                  </td><td>2.7                  </td><td>2.7                  </td><td>2.4                  </td><td>2.9                  </td><td>3.2                  </td></tr>\n",
       "</tbody>\n",
       "</table>"
      ],
      "text/plain": [
       "GridArray(noname : [2.1936301  3.22666188 2.94373811 2.46922227 3.39709694 2.64210222\n",
       " 3.08082368 3.30767059 3.00419919 2.7886427  2.96762306 3.24860096\n",
       " 3.84279452 2.39065911 2.94137131 2.70162601 2.67947368 2.44472405\n",
       " 2.89981506 3.21194697])"
      ]
     },
     "execution_count": 41,
     "metadata": {},
     "output_type": "execute_result"
    }
   ],
   "source": [
    "np.sum(a, axis='y')"
   ]
  },
  {
   "cell_type": "code",
   "execution_count": 42,
   "metadata": {},
   "outputs": [
    {
     "data": {
      "text/html": [
       "<table>\n",
       "<tbody>\n",
       "<tr><td><b>y \\ x</b></td><td><b>[-0.5 | 0 | 0.5]</b></td><td><b>[0.5 | 1 | 1.5]</b></td><td><b>[1.5 | 2 | 2.5]</b></td><td><b>[2.5 | 3 | 3.5]</b></td><td><b>[3.5 | 4 | 4.5]</b></td><td><b>[4.5 | 5 | 5.5]</b></td><td>...</td><td><b>[14 | 14 | 14]</b></td><td><b>[14 | 15 | 16]</b></td><td><b>[16 | 16 | 16]</b></td><td><b>[16 | 17 | 18]</b></td><td><b>[18 | 18 | 18]</b></td><td><b>[18 | 19 | 20]</b></td></tr>\n",
       "<tr><td><b>0</b>    </td><td>0.61                   </td><td>0.95                  </td><td>0.65                  </td><td>0.93                  </td><td>0.78                  </td><td>0.45                  </td><td>...</td><td>0.71                 </td><td>0.72                 </td><td>0.38                 </td><td>0.74                 </td><td>0.6                  </td><td>0.97                 </td></tr>\n",
       "<tr><td><b>1</b>    </td><td>0.24                   </td><td>0.93                  </td><td>0.8                   </td><td>0.064                 </td><td>0.74                  </td><td>0.12                  </td><td>...</td><td>0.64                 </td><td>0.27                 </td><td>0.17                 </td><td>0.25                 </td><td>0.76                 </td><td>0.47                 </td></tr>\n",
       "<tr><td><b>2</b>    </td><td>0.82                   </td><td>0.31                  </td><td>0.15                  </td><td>0.064                 </td><td>0.25                  </td><td>0.93                  </td><td>...</td><td>0.46                 </td><td>0.3                  </td><td>0.6                  </td><td>0.32                 </td><td>0.56                 </td><td>0.31                 </td></tr>\n",
       "<tr><td><b>3</b>    </td><td>0.047                  </td><td>0.57                  </td><td>0.87                  </td><td>0.87                  </td><td>0.93                  </td><td>0.4                   </td><td>...</td><td>0.18                 </td><td>0.76                 </td><td>0.7                  </td><td>0.65                 </td><td>0.32                 </td><td>0.47                 </td></tr>\n",
       "<tr><td><b>4</b>    </td><td>0.47                   </td><td>0.46                  </td><td>0.47                  </td><td>0.54                  </td><td>0.71                  </td><td>0.74                  </td><td>...</td><td>0.95                 </td><td>0.65                 </td><td>0.83                 </td><td>0.49                 </td><td>0.66                 </td><td>1                    </td></tr>\n",
       "</tbody>\n",
       "</table>"
      ],
      "text/plain": [
       "GridArray(noname : [[0.60905122 0.24240315 0.8247507  0.04721557 0.47020946]\n",
       " [0.94775844 0.93040748 0.31285506 0.57422265 0.46141825]\n",
       " [0.65317602 0.79696718 0.14710621 0.87266279 0.4738259 ]\n",
       " [0.92992281 0.06410474 0.06439485 0.86784755 0.54295232]\n",
       " [0.777198   0.73744701 0.2499882  0.92701472 0.70544901]\n",
       " [0.45482993 0.12486042 0.93121169 0.3956816  0.73551859]\n",
       " [0.99695588 0.84846703 0.62951972 0.57199792 0.03388314]\n",
       " [0.44141308 0.15051589 0.90803416 0.96261573 0.84509174]\n",
       " [0.14222194 0.99945048 0.52037474 0.5379488  0.80420323]\n",
       " [0.63766447 0.870512   0.20820389 0.49429364 0.57796869]\n",
       " [0.79641073 0.41769891 0.94338636 0.0540066  0.75612045]\n",
       " [0.26680639 0.61738696 0.55439293 0.83308078 0.9769339 ]\n",
       " [0.85667396 0.86243826 0.85887238 0.34458945 0.92022046]\n",
       " [0.82363379 0.20508254 0.70490321 0.07860414 0.57843543]\n",
       " [0.70791313 0.64173137 0.45824055 0.18240846 0.95107779]\n",
       " [0.7242911  0.26896544 0.30446311 0.75739785 0.64650851]\n",
       " [0.38252258 0.16899325 0.60042752 0.69796928 0.82956105]\n",
       " [0.74027372 0.24665665 0.31709333 0.65219654 0.48850381]\n",
       " [0.59770453 0.75516769 0.56442249 0.32329842 0.65922193]\n",
       " [0.97099301 0.46620781 0.30960836 0.46585694 0.99928086]])"
      ]
     },
     "execution_count": 42,
     "metadata": {},
     "output_type": "execute_result"
    }
   ],
   "source": [
    "a"
   ]
  },
  {
   "cell_type": "code",
   "execution_count": 43,
   "metadata": {},
   "outputs": [
    {
     "data": {
      "text/html": [
       "<table>\n",
       "<tbody>\n",
       "<tr><td><b>y \\ x</b></td><td><b>[-0.5 | 0 | 0.5]</b></td><td><b>[0.5 | 1 | 1.5]</b></td><td><b>[1.5 | 2 | 2.5]</b></td><td><b>[2.5 | 3 | 3.5]</b></td><td><b>[3.5 | 4 | 4.5]</b></td><td><b>[4.5 | 5 | 5.5]</b></td><td>...</td><td><b>[14 | 14 | 14]</b></td><td><b>[14 | 15 | 16]</b></td><td><b>[16 | 16 | 16]</b></td><td><b>[16 | 17 | 18]</b></td><td><b>[18 | 18 | 18]</b></td><td><b>[18 | 19 | 20]</b></td></tr>\n",
       "<tr><td><b>0</b>    </td><td>0.26                   </td><td>0.41                  </td><td>0.28                  </td><td>0.4                   </td><td>0.34                  </td><td>0.2                   </td><td>...</td><td>0.31                 </td><td>0.31                 </td><td>0.17                 </td><td>0.32                 </td><td>0.26                 </td><td>0.42                 </td></tr>\n",
       "<tr><td><b>1</b>    </td><td>0.11                   </td><td>0.4                   </td><td>0.35                  </td><td>0.028                 </td><td>0.32                  </td><td>0.054                 </td><td>...</td><td>0.28                 </td><td>0.12                 </td><td>0.073                </td><td>0.11                 </td><td>0.33                 </td><td>0.2                  </td></tr>\n",
       "<tr><td><b>2</b>    </td><td>0.36                   </td><td>0.14                  </td><td>0.064                 </td><td>0.028                 </td><td>0.11                  </td><td>0.4                   </td><td>...</td><td>0.2                  </td><td>0.13                 </td><td>0.26                 </td><td>0.14                 </td><td>0.25                 </td><td>0.13                 </td></tr>\n",
       "<tr><td><b>3</b>    </td><td>0.021                  </td><td>0.25                  </td><td>0.38                  </td><td>0.38                  </td><td>0.4                   </td><td>0.17                  </td><td>...</td><td>0.079                </td><td>0.33                 </td><td>0.3                  </td><td>0.28                 </td><td>0.14                 </td><td>0.2                  </td></tr>\n",
       "<tr><td><b>4</b>    </td><td>0.2                    </td><td>0.2                   </td><td>0.21                  </td><td>0.24                  </td><td>0.31                  </td><td>0.32                  </td><td>...</td><td>0.41                 </td><td>0.28                 </td><td>0.36                 </td><td>0.21                 </td><td>0.29                 </td><td>0.43                 </td></tr>\n",
       "</tbody>\n",
       "</table>"
      ],
      "text/plain": [
       "GridArray(noname : [[0.2645075831461783 0.10527435070286165 0.3581846758187636\n",
       "  0.020505463628624744 0.20420937344272694]\n",
       " [0.4116062609902996 0.40407083315893355 0.13587122418231004\n",
       "  0.24938172827968258 0.20039140158825955]\n",
       " [0.2836707395315714 0.3461184484078634 0.06388741618221307\n",
       "  0.3789926359195587 0.20577997514687285]\n",
       " [0.403860346587685 0.027840335186469237 0.02796632735099993\n",
       "  0.37690140150856555 0.2358011968410952]\n",
       " [0.33753280364886906 0.32026916897531316 0.10856849395645377\n",
       "  0.4025973759881389 0.30637261270710914]\n",
       " [0.19753012782535634 0.0542261905768712 0.40442009758417946\n",
       "  0.17184233428071352 0.3194316666431538]\n",
       " [0.43297243619885195 0.368484547404852 0.27339693982572155\n",
       "  0.24841554156084444 0.014715259402223525]\n",
       " [0.19170326347123623 0.06536822077190355 0.39435422481251936\n",
       "  0.4180586997451794 0.36701867737355665]\n",
       " [0.061766203560119325 0.4340558288050963 0.22599587849214156\n",
       "  0.23362819337538637 0.3492610255983479]\n",
       " [0.27693416154258654 0.37805855656711185 0.09042180239251492\n",
       "  0.21466900235173364 0.25100861245076633]\n",
       " [0.34587678639598685 0.1814043337072738 0.40970749049081556\n",
       "  0.023454770051983147 0.3283789370274607]\n",
       " [0.11587254146189037 0.26812774848488696 0.24076979213527883\n",
       "  0.36180238670952386 0.4242770011931718]\n",
       " [0.372048775524938 0.3745521786509561 0.37300353559840455\n",
       "  0.14965329517990697 0.3996466692981065]\n",
       " [0.3576996093298275 0.0890662165315791 0.30613557613332\n",
       "  0.03413734375392089 0.25121131496901233]\n",
       " [0.30744276598987547 0.2787003920277882 0.1990113444093752\n",
       "  0.07921898851967571 0.4130478369666302]\n",
       " [0.31455562766141026 0.1168102062964485 0.13222664955384975\n",
       "  0.3289337058304332 0.28077507929996215]\n",
       " [0.16612744700017248 0.07339283666175579 0.2607623603804536\n",
       "  0.3031242050971501 0.36027378489116657]\n",
       " [0.32149678979003454 0.10712162306800888 0.13771188470830661\n",
       "  0.2832453595980484 0.21215450775571493]\n",
       " [0.25957977954140854 0.3279651616387558 0.2451255731772611\n",
       "  0.14040672066603352 0.28629644529529175]\n",
       " [0.4216969046447922 0.2024714786425285 0.13446120152139923\n",
       "  0.2023190987243378 0.4339821623737983]])"
      ]
     },
     "execution_count": 43,
     "metadata": {},
     "output_type": "execute_result"
    }
   ],
   "source": [
    "np.log10(np.exp(np.fabs(a)))"
   ]
  },
  {
   "cell_type": "code",
   "execution_count": null,
   "metadata": {},
   "outputs": [],
   "source": []
  },
  {
   "cell_type": "code",
   "execution_count": 44,
   "metadata": {},
   "outputs": [
    {
     "data": {
      "text/html": [
       "<table>\n",
       "<tbody>\n",
       "<tr><td><b>x</b>     </td><td><b>[-0.5 | 0 | 0.5]</b>  </td><td><b>[0.5 | 1 | 1.5]</b>   </td><td><b>[1.5 | 2 | 2.5]</b>   </td><td><b>[2.5 | 3 | 3.5]</b>   </td><td><b>[3.5 | 4 | 4.5]</b>   </td><td><b>[4.5 | 5 | 5.5]</b>   </td><td>...</td><td><b>[14 | 14 | 14]</b>    </td><td><b>[14 | 15 | 16]</b>    </td><td><b>[16 | 16 | 16]</b>    </td><td><b>[16 | 17 | 18]</b>    </td><td><b>[18 | 18 | 18]</b>    </td><td><b>[18 | 19 | 20]</b>    </td></tr>\n",
       "<tr><td><b>noname</b></td><td>[0.61 0.85 ... 1.72 2.19]</td><td>[0.95 1.88 ... 2.77 3.23]</td><td>[0.65 1.45 ... 2.47 2.94]</td><td>[0.93 0.99 ... 1.93 2.47]</td><td>[0.78 1.51 ... 2.69 3.4 ]</td><td>[0.45 0.58 ... 1.91 2.64]</td><td>...</td><td>[0.71 1.35 ... 1.99 2.94]</td><td>[0.72 0.99 ... 2.06 2.7 ]</td><td>[0.38 0.55 ... 1.85 2.68]</td><td>[0.74 0.99 ... 1.96 2.44]</td><td>[0.6  1.35 ... 2.24 2.9 ]</td><td>[0.97 1.44 ... 2.21 3.21]</td></tr>\n",
       "</tbody>\n",
       "</table>"
      ],
      "text/plain": [
       "GridArray(noname : [[0.60905122 0.85145437 1.67620506 1.72342064 2.1936301 ]\n",
       " [0.94775844 1.87816592 2.19102097 2.76524362 3.22666188]\n",
       " [0.65317602 1.4501432  1.59724941 2.4699122  2.94373811]\n",
       " [0.92992281 0.99402755 1.0584224  1.92626995 2.46922227]\n",
       " [0.777198   1.51464502 1.76463321 2.69164793 3.39709694]\n",
       " [0.45482993 0.57969035 1.51090203 1.90658363 2.64210222]\n",
       " [0.99695588 1.8454229  2.47494262 3.04694054 3.08082368]\n",
       " [0.44141308 0.59192897 1.49996313 2.46257886 3.30767059]\n",
       " [0.14222194 1.14167242 1.66204716 2.19999596 3.00419919]\n",
       " [0.63766447 1.50817647 1.71638036 2.21067401 2.7886427 ]\n",
       " [0.79641073 1.21410965 2.15749601 2.21150261 2.96762306]\n",
       " [0.26680639 0.88419334 1.43858628 2.27166706 3.24860096]\n",
       " [0.85667396 1.71911223 2.57798461 2.92257405 3.84279452]\n",
       " [0.82363379 1.02871633 1.73361954 1.81222368 2.39065911]\n",
       " [0.70791313 1.3496445  1.80788505 1.99029352 2.94137131]\n",
       " [0.7242911  0.99325654 1.29771965 2.0551175  2.70162601]\n",
       " [0.38252258 0.55151583 1.15194336 1.84991263 2.67947368]\n",
       " [0.74027372 0.98693037 1.3040237  1.95622024 2.44472405]\n",
       " [0.59770453 1.35287222 1.91729471 2.24059314 2.89981506]\n",
       " [0.97099301 1.43720081 1.74680917 2.21266611 3.21194697]])"
      ]
     },
     "execution_count": 44,
     "metadata": {},
     "output_type": "execute_result"
    }
   ],
   "source": [
    "np.cumsum(a, axis='y')"
   ]
  },
  {
   "cell_type": "code",
   "execution_count": 45,
   "metadata": {},
   "outputs": [
    {
     "data": {
      "text/html": [
       "<table>\n",
       "<tbody>\n",
       "<tr><td><b>x</b>     </td><td><b>[18 | 19 | 20]</b></td><td><b>[16 | 17 | 18]</b></td><td><b>[14 | 15 | 16]</b></td><td><b>[12 | 13 | 14]</b></td><td><b>[10 | 11 | 12]</b></td><td><b>[8.5 | 9 | 9.5]</b></td><td><b>[6.5 | 7 | 7.5]</b></td><td><b>[4.5 | 5 | 5.5]</b></td><td><b>[2.5 | 3 | 3.5]</b></td><td><b>[0.5 | 1 | 1.5]</b></td></tr>\n",
       "<tr><td><b>noname</b></td><td>0.29                 </td><td>0.19                 </td><td>0.21                 </td><td>0.29                 </td><td>0.24                 </td><td>0.21                  </td><td>0.31                  </td><td>0.28                  </td><td>0.37                  </td><td>0.25                  </td></tr>\n",
       "</tbody>\n",
       "</table>"
      ],
      "text/plain": [
       "GridArray(noname : [0.28576169332376233 0.18870825260398333 0.2104784673765963\n",
       " 0.28810968923244035 0.24390392457573362 0.21486012730775267\n",
       " 0.3145468829423186 0.2796520301939522 0.3745817448811843\n",
       " 0.25383124469879254])"
      ]
     },
     "execution_count": 45,
     "metadata": {},
     "output_type": "execute_result"
    }
   ],
   "source": [
    "np.std(a, axis='y')[::-2]"
   ]
  },
  {
   "cell_type": "code",
   "execution_count": 46,
   "metadata": {},
   "outputs": [],
   "source": [
    "a[a > 0.5] *= 10"
   ]
  },
  {
   "cell_type": "code",
   "execution_count": 47,
   "metadata": {},
   "outputs": [
    {
     "data": {
      "text/html": [
       "<table>\n",
       "<tbody>\n",
       "<tr><td><b>x \\ y</b>           </td><td><b>0</b></td><td><b>1</b></td><td><b>2</b></td><td><b>3</b></td><td><b>4</b></td></tr>\n",
       "<tr><td><b>[-0.5 | 0 | 0.5]</b></td><td>6.1     </td><td>0.24    </td><td>8.2     </td><td>0.047   </td><td>0.47    </td></tr>\n",
       "<tr><td><b>[0.5 | 1 | 1.5]</b> </td><td>9.5     </td><td>9.3     </td><td>0.31    </td><td>5.7     </td><td>0.46    </td></tr>\n",
       "<tr><td><b>[1.5 | 2 | 2.5]</b> </td><td>6.5     </td><td>8       </td><td>0.15    </td><td>8.7     </td><td>0.47    </td></tr>\n",
       "<tr><td><b>[2.5 | 3 | 3.5]</b> </td><td>9.3     </td><td>0.064   </td><td>0.064   </td><td>8.7     </td><td>5.4     </td></tr>\n",
       "<tr><td><b>[3.5 | 4 | 4.5]</b> </td><td>7.8     </td><td>7.4     </td><td>0.25    </td><td>9.3     </td><td>7.1     </td></tr>\n",
       "<tr><td><b>[4.5 | 5 | 5.5]</b> </td><td>0.45    </td><td>0.12    </td><td>9.3     </td><td>0.4     </td><td>7.4     </td></tr>\n",
       "<tr><td>...                    </td><td>...     </td><td>...     </td><td>...     </td><td>...     </td><td>...     </td></tr>\n",
       "<tr><td><b>[14 | 14 | 14]</b>  </td><td>7.1     </td><td>6.4     </td><td>0.46    </td><td>0.18    </td><td>9.5     </td></tr>\n",
       "<tr><td><b>[14 | 15 | 16]</b>  </td><td>7.2     </td><td>0.27    </td><td>0.3     </td><td>7.6     </td><td>6.5     </td></tr>\n",
       "<tr><td><b>[16 | 16 | 16]</b>  </td><td>0.38    </td><td>0.17    </td><td>6       </td><td>7       </td><td>8.3     </td></tr>\n",
       "<tr><td><b>[16 | 17 | 18]</b>  </td><td>7.4     </td><td>0.25    </td><td>0.32    </td><td>6.5     </td><td>0.49    </td></tr>\n",
       "<tr><td><b>[18 | 18 | 18]</b>  </td><td>6       </td><td>7.6     </td><td>5.6     </td><td>0.32    </td><td>6.6     </td></tr>\n",
       "<tr><td><b>[18 | 19 | 20]</b>  </td><td>9.7     </td><td>0.47    </td><td>0.31    </td><td>0.47    </td><td>10      </td></tr>\n",
       "</tbody>\n",
       "</table>"
      ],
      "text/plain": [
       "GridArray(noname : [[6.09051218 9.47758441 6.53176016 9.29922814 7.77198002 0.45482993\n",
       "  9.96955877 0.44141308 0.14222194 6.37664472 7.96410732 0.26680639\n",
       "  8.56673964 8.23633788 7.0791313  7.24291099 0.38252258 7.40273716\n",
       "  5.97704531 9.70993006]\n",
       " [0.24240315 9.30407477 7.9696718  0.06410474 7.37447014 0.12486042\n",
       "  8.48467026 0.15051589 9.99450481 8.70511997 0.41769891 6.17386957\n",
       "  8.62438263 0.20508254 6.41731368 0.26896544 0.16899325 0.24665665\n",
       "  7.55167692 0.46620781]\n",
       " [8.24750695 0.31285506 0.14710621 0.06439485 0.2499882  9.31211688\n",
       "  6.29519718 9.08034159 5.20374741 0.20820389 9.4338636  5.54392934\n",
       "  8.58872381 7.04903214 0.45824055 0.30446311 6.00427524 0.31709333\n",
       "  5.64422491 0.30960836]\n",
       " [0.04721557 5.7422265  8.72662794 8.67847549 9.27014716 0.3956816\n",
       "  5.71997923 9.6261573  5.37948795 0.49429364 0.0540066  8.33080782\n",
       "  0.34458945 0.07860414 0.18240846 7.57397848 6.97969276 6.52196543\n",
       "  0.32329842 0.46585694]\n",
       " [0.47020946 0.46141825 0.4738259  5.42952321 7.05449011 7.35518594\n",
       "  0.03388314 8.45091735 8.04203231 5.77968689 7.56120445 9.76933898\n",
       "  9.20220463 5.78435429 9.51077792 6.46508512 8.29561046 0.48850381\n",
       "  6.59221927 9.99280858]])"
      ]
     },
     "execution_count": 47,
     "metadata": {},
     "output_type": "execute_result"
    }
   ],
   "source": [
    "a.T"
   ]
  },
  {
   "cell_type": "code",
   "execution_count": 48,
   "metadata": {},
   "outputs": [
    {
     "data": {
      "text/html": [
       "<table>\n",
       "<tbody>\n",
       "<tr><td><b>y \\ x</b></td><td><b>[2.5 | 3 | 3.5]</b></td><td><b>[3.5 | 4 | 4.5]</b></td></tr>\n",
       "<tr><td><b>0</b>    </td><td>9.3                   </td><td>7.8                   </td></tr>\n",
       "<tr><td><b>1</b>    </td><td>0.064                 </td><td>7.4                   </td></tr>\n",
       "<tr><td><b>2</b>    </td><td>0.064                 </td><td>0.25                  </td></tr>\n",
       "<tr><td><b>3</b>    </td><td>8.7                   </td><td>9.3                   </td></tr>\n",
       "<tr><td><b>4</b>    </td><td>5.4                   </td><td>7.1                   </td></tr>\n",
       "</tbody>\n",
       "</table>"
      ],
      "text/plain": [
       "GridArray(noname : [[9.29922814 0.06410474 0.06439485 8.67847549 5.42952321]\n",
       " [7.77198002 7.37447014 0.2499882  9.27014716 7.05449011]])"
      ]
     },
     "execution_count": 48,
     "metadata": {},
     "output_type": "execute_result"
    }
   ],
   "source": [
    "a[3:5]"
   ]
  },
  {
   "cell_type": "code",
   "execution_count": 49,
   "metadata": {},
   "outputs": [
    {
     "data": {
      "text/html": [
       "<table>\n",
       "<tbody>\n",
       "<tr><td><b>y</b>     </td><td><b>0</b></td><td><b>1</b></td><td><b>2</b></td><td><b>3</b></td><td><b>4</b></td></tr>\n",
       "<tr><td><b>noname</b></td><td>1.2e+02 </td><td>83      </td><td>83      </td><td>85      </td><td>1.2e+02 </td></tr>\n",
       "</tbody>\n",
       "</table>"
      ],
      "text/plain": [
       "GridArray(noname : [119.38400198  82.95524335  82.77491262  84.93550089 117.21328008])"
      ]
     },
     "execution_count": 49,
     "metadata": {},
     "output_type": "execute_result"
    }
   ],
   "source": [
    "np.sum(a, axis=0)"
   ]
  },
  {
   "cell_type": "code",
   "execution_count": 50,
   "metadata": {},
   "outputs": [
    {
     "data": {
      "text/html": [
       "<table>\n",
       "<tbody>\n",
       "<tr><td><b>y \\ x</b></td><td><b>[-0.5 | 0 | 0.5]</b></td><td><b>[0.5 | 1 | 1.5]</b></td><td><b>[1.5 | 2 | 2.5]</b></td><td><b>[2.5 | 3 | 3.5]</b></td><td><b>[3.5 | 4 | 4.5]</b></td><td><b>[4.5 | 5 | 5.5]</b></td><td>...</td><td><b>[14 | 14 | 14]</b></td><td><b>[14 | 15 | 16]</b></td><td><b>[16 | 16 | 16]</b></td><td><b>[16 | 17 | 18]</b></td><td><b>[18 | 18 | 18]</b></td><td><b>[18 | 19 | 20]</b></td></tr>\n",
       "<tr><td><b>0</b>    </td><td>12                     </td><td>19                    </td><td>13                    </td><td>19                    </td><td>16                    </td><td>0.91                  </td><td>...</td><td>14                   </td><td>14                   </td><td>0.77                 </td><td>15                   </td><td>12                   </td><td>19                   </td></tr>\n",
       "<tr><td><b>1</b>    </td><td>0.48                   </td><td>19                    </td><td>16                    </td><td>0.13                  </td><td>15                    </td><td>0.25                  </td><td>...</td><td>13                   </td><td>0.54                 </td><td>0.34                 </td><td>0.49                 </td><td>15                   </td><td>0.93                 </td></tr>\n",
       "<tr><td><b>2</b>    </td><td>16                     </td><td>0.63                  </td><td>0.29                  </td><td>0.13                  </td><td>0.5                   </td><td>19                    </td><td>...</td><td>0.92                 </td><td>0.61                 </td><td>12                   </td><td>0.63                 </td><td>11                   </td><td>0.62                 </td></tr>\n",
       "<tr><td><b>3</b>    </td><td>0.094                  </td><td>11                    </td><td>17                    </td><td>17                    </td><td>19                    </td><td>0.79                  </td><td>...</td><td>0.36                 </td><td>15                   </td><td>14                   </td><td>13                   </td><td>0.65                 </td><td>0.93                 </td></tr>\n",
       "<tr><td><b>4</b>    </td><td>0.94                   </td><td>0.92                  </td><td>0.95                  </td><td>11                    </td><td>14                    </td><td>15                    </td><td>...</td><td>19                   </td><td>13                   </td><td>17                   </td><td>0.98                 </td><td>13                   </td><td>20                   </td></tr>\n",
       "</tbody>\n",
       "</table>"
      ],
      "text/plain": [
       "GridArray(noname : [[12.18102436  0.4848063  16.4950139   0.09443115  0.94041892]\n",
       " [18.95516881 18.60814954  0.62571011 11.484453    0.92283651]\n",
       " [13.06352032 15.93934359  0.29421242 17.45325588  0.94765181]\n",
       " [18.59845627  0.12820948  0.1287897  17.35695097 10.85904642]\n",
       " [15.54396004 14.74894028  0.49997639 18.54029433 14.10898022]\n",
       " [ 0.90965986  0.24972084 18.62423376  0.79136319 14.71037188]\n",
       " [19.93911755 16.96934052 12.59039436 11.43995846  0.06776627]\n",
       " [ 0.88282615  0.30103178 18.16068319 19.2523146  16.90183471]\n",
       " [ 0.28444388 19.98900962 10.40749482 10.75897591 16.08406462]\n",
       " [12.75328944 17.41023993  0.41640779  0.98858729 11.55937378]\n",
       " [15.92821465  0.83539783 18.8677272   0.10801321 15.12240891]\n",
       " [ 0.53361277 12.34773913 11.08785868 16.66161564 19.53867796]\n",
       " [17.13347929 17.24876526 17.17744761  0.68917889 18.40440926]\n",
       " [16.47267576  0.41016508 14.09806428  0.15720828 11.56870858]\n",
       " [14.1582626  12.83462736  0.91648111  0.36481692 19.02155584]\n",
       " [14.48582198  0.53793088  0.60892622 15.14795695 12.93017024]\n",
       " [ 0.76504517  0.3379865  12.00855048 13.95938552 16.59122093]\n",
       " [14.80547431  0.4933133   0.63418667 13.04393085  0.97700761]\n",
       " [11.95409062 15.10335384 11.28844981  0.64659684 13.18443854]\n",
       " [19.41986013  0.93241562  0.61921672  0.93171388 19.98561715]])"
      ]
     },
     "execution_count": 50,
     "metadata": {},
     "output_type": "execute_result"
    }
   ],
   "source": [
    "a * 2"
   ]
  },
  {
   "cell_type": "code",
   "execution_count": 51,
   "metadata": {},
   "outputs": [],
   "source": [
    "m = np.ma.masked_array(np.arange(10))"
   ]
  },
  {
   "cell_type": "code",
   "execution_count": 52,
   "metadata": {},
   "outputs": [],
   "source": [
    "m.mask = m < 6"
   ]
  },
  {
   "cell_type": "code",
   "execution_count": 53,
   "metadata": {},
   "outputs": [
    {
     "data": {
      "text/plain": [
       "array([ 0,  1,  2,  3,  4,  5, 18, 21, 24, 27])"
      ]
     },
     "execution_count": 53,
     "metadata": {},
     "output_type": "execute_result"
    }
   ],
   "source": [
    "(m * 3).data"
   ]
  },
  {
   "cell_type": "code",
   "execution_count": 54,
   "metadata": {},
   "outputs": [],
   "source": [
    "# add something\n",
    "g['a'] = np.random.rand(g.grid.size).reshape(g.shape)"
   ]
  },
  {
   "cell_type": "code",
   "execution_count": 55,
   "metadata": {},
   "outputs": [
    {
     "data": {
      "text/html": [
       "<table>\n",
       "<tbody>\n",
       "<tr><td><b>y \\ x</b></td><td><b>[-0.5 | 0 | 0.5]</b></td><td><b>[0.5 | 1 | 1.5]</b></td><td><b>[1.5 | 2 | 2.5]</b></td><td><b>[2.5 | 3 | 3.5]</b></td><td><b>[3.5 | 4 | 4.5]</b></td><td><b>[4.5 | 5 | 5.5]</b></td><td>...</td><td><b>[14 | 14 | 14]</b></td><td><b>[14 | 15 | 16]</b></td><td><b>[16 | 16 | 16]</b></td><td><b>[16 | 17 | 18]</b></td><td><b>[18 | 18 | 18]</b></td><td><b>[18 | 19 | 20]</b></td></tr>\n",
       "<tr><td><b>0</b>    </td><td>0.51                   </td><td>0.065                 </td><td>0.65                  </td><td>0.87                  </td><td>0.21                  </td><td>0.63                  </td><td>...</td><td>0.69                 </td><td>0.31                 </td><td>0.81                 </td><td>0.88                 </td><td>0.36                 </td><td>0.086                </td></tr>\n",
       "<tr><td><b>1</b>    </td><td>0.88                   </td><td>0.21                  </td><td>0.57                  </td><td>0.76                  </td><td>0.55                  </td><td>0.46                  </td><td>...</td><td>0.23                 </td><td>0.6                  </td><td>0.8                  </td><td>0.16                 </td><td>0.36                 </td><td>0.29                 </td></tr>\n",
       "<tr><td><b>2</b>    </td><td>0.88                   </td><td>0.08                  </td><td>0.95                  </td><td>0.97                  </td><td>0.031                 </td><td>0.13                  </td><td>...</td><td>0.27                 </td><td>0.45                 </td><td>0.21                 </td><td>0.93                 </td><td>0.98                 </td><td>0.42                 </td></tr>\n",
       "<tr><td><b>3</b>    </td><td>0.37                   </td><td>0.33                  </td><td>0.99                  </td><td>0.58                  </td><td>0.35                  </td><td>0.043                 </td><td>...</td><td>0.89                 </td><td>0.5                  </td><td>0.22                 </td><td>0.084                </td><td>0.53                 </td><td>0.26                 </td></tr>\n",
       "<tr><td><b>4</b>    </td><td>0.025                  </td><td>0.89                  </td><td>0.2                   </td><td>0.75                  </td><td>0.052                 </td><td>0.27                  </td><td>...</td><td>0.17                 </td><td>0.17                 </td><td>0.25                 </td><td>0.28                 </td><td>0.71                 </td><td>0.49                 </td></tr>\n",
       "</tbody>\n",
       "</table>"
      ],
      "text/plain": [
       "GridArray(noname : [[0.51275065 0.88299932 0.88017659 0.36598017 0.02455188]\n",
       " [0.06501348 0.21005635 0.07974085 0.32626879 0.88743074]\n",
       " [0.64730109 0.56577588 0.94568822 0.98787972 0.20497248]\n",
       " [0.86558153 0.76482469 0.96981441 0.57919931 0.74509968]\n",
       " [0.21396473 0.55338587 0.03085662 0.34615434 0.05185877]\n",
       " [0.62885931 0.45797473 0.12953906 0.04337265 0.26549326]\n",
       " [0.26238439 0.47595952 0.31110059 0.93978747 0.33026101]\n",
       " [0.85246878 0.74168372 0.56833159 0.68584275 0.75407541]\n",
       " [0.56746781 0.80603049 0.60105486 0.85541385 0.25600805]\n",
       " [0.63978336 0.31314806 0.96449941 0.60595649 0.50522629]\n",
       " [0.55426776 0.54032913 0.96454664 0.36476766 0.93444188]\n",
       " [0.08264862 0.16418489 0.77073837 0.80689449 0.97806551]\n",
       " [0.17721213 0.08862304 0.29727216 0.96320464 0.60818777]\n",
       " [0.52281418 0.61216384 0.79331837 0.63728766 0.83838325]\n",
       " [0.6897116  0.22629358 0.2699679  0.88578814 0.16902952]\n",
       " [0.31092876 0.596973   0.44863035 0.50293539 0.17462122]\n",
       " [0.81107426 0.79782374 0.21306197 0.21938549 0.24801546]\n",
       " [0.8846168  0.16376923 0.92719051 0.08409564 0.28413598]\n",
       " [0.35655585 0.35820853 0.98025257 0.52941006 0.70963575]\n",
       " [0.08624143 0.29116432 0.41515673 0.26360781 0.48986161]])"
      ]
     },
     "execution_count": 55,
     "metadata": {},
     "output_type": "execute_result"
    }
   ],
   "source": [
    "np.asanyarray(g['a'])"
   ]
  },
  {
   "cell_type": "code",
   "execution_count": 58,
   "metadata": {},
   "outputs": [
    {
     "data": {
      "text/html": [
       "<table>\n",
       "<tbody>\n",
       "<tr><td><b>y \\ x</b></td><td><b>[-0.5 | 0 | 0.5]</b></td><td><b>[0.5 | 1 | 1.5]</b></td><td><b>[1.5 | 2 | 2.5]</b></td><td><b>[2.5 | 3 | 3.5]</b></td><td><b>[3.5 | 4 | 4.5]</b></td><td><b>[4.5 | 5 | 5.5]</b></td><td>...</td><td><b>[14 | 14 | 14]</b></td><td><b>[14 | 15 | 16]</b></td><td><b>[16 | 16 | 16]</b></td><td><b>[16 | 17 | 18]</b></td><td><b>[18 | 18 | 18]</b></td><td><b>[18 | 19 | 20]</b></td></tr>\n",
       "<tr><td><b>0</b>    </td><td>a = 0.51               </td><td>a = 0.065             </td><td>a = 0.65              </td><td>a = 0.87              </td><td>a = 0.21              </td><td>a = 0.63              </td><td>...</td><td>a = 0.69             </td><td>a = 0.31             </td><td>a = 0.81             </td><td>a = 0.88             </td><td>a = 0.36             </td><td>a = 0.086            </td></tr>\n",
       "<tr><td><b>1</b>    </td><td>a = 0.88               </td><td>a = 0.21              </td><td>a = 0.57              </td><td>a = 0.76              </td><td>a = 0.55              </td><td>a = 0.46              </td><td>...</td><td>a = 0.23             </td><td>a = 0.6              </td><td>a = 0.8              </td><td>a = 0.16             </td><td>a = 0.36             </td><td>a = 0.29             </td></tr>\n",
       "<tr><td><b>2</b>    </td><td>a = 0.88               </td><td>a = 0.08              </td><td>a = 0.95              </td><td>a = 0.97              </td><td>a = 0.031             </td><td>a = 0.13              </td><td>...</td><td>a = 0.27             </td><td>a = 0.45             </td><td>a = 0.21             </td><td>a = 0.93             </td><td>a = 0.98             </td><td>a = 0.42             </td></tr>\n",
       "<tr><td><b>3</b>    </td><td>a = 0.37               </td><td>a = 0.33              </td><td>a = 0.99              </td><td>a = 0.58              </td><td>a = 0.35              </td><td>a = 0.043             </td><td>...</td><td>a = 0.89             </td><td>a = 0.5              </td><td>a = 0.22             </td><td>a = 0.084            </td><td>a = 0.53             </td><td>a = 0.26             </td></tr>\n",
       "<tr><td><b>4</b>    </td><td>a = 0.025              </td><td>a = 0.89              </td><td>a = 0.2               </td><td>a = 0.75              </td><td>a = 0.052             </td><td>a = 0.27              </td><td>...</td><td>a = 0.17             </td><td>a = 0.17             </td><td>a = 0.25             </td><td>a = 0.28             </td><td>a = 0.71             </td><td>a = 0.49             </td></tr>\n",
       "</tbody>\n",
       "</table>"
      ],
      "text/plain": [
       "GridData(Grid(\n",
       "Axis(\"x\",\n",
       "points = array([ 0,  1,  2,  3,  4,  5,  6,  7,  8,  9, 10, 11, 12, 13, 14, 15, 16,\n",
       "       17, 18, 19]),\n",
       "edges = edges: array([[-0.5,  0.5],\n",
       "       [ 0.5,  1.5],\n",
       "       [ 1.5,  2.5],\n",
       "       [ 2.5,  3.5],\n",
       "       [ 3.5,  4.5],\n",
       "       [ 4.5,  5.5],\n",
       "       [ 5.5,  6.5],\n",
       "       [ 6.5,  7.5],\n",
       "       [ 7.5,  8.5],\n",
       "       [ 8.5,  9.5],\n",
       "       [ 9.5, 10.5],\n",
       "       [10.5, 11.5],\n",
       "       [11.5, 12.5],\n",
       "       [12.5, 13.5],\n",
       "       [13.5, 14.5],\n",
       "       [14.5, 15.5],\n",
       "       [15.5, 16.5],\n",
       "       [16.5, 17.5],\n",
       "       [17.5, 18.5],\n",
       "       [18.5, 19.5]]))\n",
       "nbins = 20),\n",
       "Axis(\"y\",\n",
       "points = array([0, 1, 2, 3, 4]),\n",
       "edges = edges: None)\n",
       "nbins = 5),)\n",
       "{'a': masked_array(\n",
       "  data=[[0.51275065, 0.88299932, 0.88017659, 0.36598017, 0.02455188],\n",
       "        [0.06501348, 0.21005635, 0.07974085, 0.32626879, 0.88743074],\n",
       "        [0.64730109, 0.56577588, 0.94568822, 0.98787972, 0.20497248],\n",
       "        [0.86558153, 0.76482469, 0.96981441, 0.57919931, 0.74509968],\n",
       "        [0.21396473, 0.55338587, 0.03085662, 0.34615434, 0.05185877],\n",
       "        [0.62885931, 0.45797473, 0.12953906, 0.04337265, 0.26549326],\n",
       "        [0.26238439, 0.47595952, 0.31110059, 0.93978747, 0.33026101],\n",
       "        [0.85246878, 0.74168372, 0.56833159, 0.68584275, 0.75407541],\n",
       "        [0.56746781, 0.80603049, 0.60105486, 0.85541385, 0.25600805],\n",
       "        [0.63978336, 0.31314806, 0.96449941, 0.60595649, 0.50522629],\n",
       "        [0.55426776, 0.54032913, 0.96454664, 0.36476766, 0.93444188],\n",
       "        [0.08264862, 0.16418489, 0.77073837, 0.80689449, 0.97806551],\n",
       "        [0.17721213, 0.08862304, 0.29727216, 0.96320464, 0.60818777],\n",
       "        [0.52281418, 0.61216384, 0.79331837, 0.63728766, 0.83838325],\n",
       "        [0.6897116 , 0.22629358, 0.2699679 , 0.88578814, 0.16902952],\n",
       "        [0.31092876, 0.596973  , 0.44863035, 0.50293539, 0.17462122],\n",
       "        [0.81107426, 0.79782374, 0.21306197, 0.21938549, 0.24801546],\n",
       "        [0.8846168 , 0.16376923, 0.92719051, 0.08409564, 0.28413598],\n",
       "        [0.35655585, 0.35820853, 0.98025257, 0.52941006, 0.70963575],\n",
       "        [0.08624143, 0.29116432, 0.41515673, 0.26360781, 0.48986161]],\n",
       "  mask=False,\n",
       "  fill_value=1e+20)})"
      ]
     },
     "execution_count": 58,
     "metadata": {},
     "output_type": "execute_result"
    }
   ],
   "source": [
    "g"
   ]
  },
  {
   "cell_type": "code",
   "execution_count": 59,
   "metadata": {},
   "outputs": [],
   "source": [
    "g['b'] = np.ones(g.shape)"
   ]
  },
  {
   "cell_type": "code",
   "execution_count": 60,
   "metadata": {},
   "outputs": [
    {
     "data": {
      "text/plain": [
       "(20, 5)"
      ]
     },
     "execution_count": 60,
     "metadata": {},
     "output_type": "execute_result"
    }
   ],
   "source": [
    "g.shape"
   ]
  },
  {
   "cell_type": "code",
   "execution_count": 61,
   "metadata": {},
   "outputs": [
    {
     "data": {
      "text/html": [
       "<table>\n",
       "<tbody>\n",
       "<tr><td><b>x \\ y</b>           </td><td><b>0</b></td><td><b>1</b></td><td><b>2</b></td><td><b>3</b></td><td><b>4</b></td></tr>\n",
       "<tr><td><b>[-0.5 | 0 | 0.5]</b></td><td>1       </td><td>1       </td><td>1       </td><td>1       </td><td>1       </td></tr>\n",
       "<tr><td><b>[0.5 | 1 | 1.5]</b> </td><td>1       </td><td>1       </td><td>1       </td><td>1       </td><td>1       </td></tr>\n",
       "<tr><td><b>[1.5 | 2 | 2.5]</b> </td><td>1       </td><td>1       </td><td>1       </td><td>1       </td><td>1       </td></tr>\n",
       "<tr><td><b>[2.5 | 3 | 3.5]</b> </td><td>1       </td><td>1       </td><td>1       </td><td>1       </td><td>1       </td></tr>\n",
       "<tr><td><b>[3.5 | 4 | 4.5]</b> </td><td>1       </td><td>1       </td><td>1       </td><td>1       </td><td>1       </td></tr>\n",
       "<tr><td><b>[4.5 | 5 | 5.5]</b> </td><td>1       </td><td>1       </td><td>1       </td><td>1       </td><td>1       </td></tr>\n",
       "<tr><td>...                    </td><td>...     </td><td>...     </td><td>...     </td><td>...     </td><td>...     </td></tr>\n",
       "<tr><td><b>[14 | 14 | 14]</b>  </td><td>1       </td><td>1       </td><td>1       </td><td>1       </td><td>1       </td></tr>\n",
       "<tr><td><b>[14 | 15 | 16]</b>  </td><td>1       </td><td>1       </td><td>1       </td><td>1       </td><td>1       </td></tr>\n",
       "<tr><td><b>[16 | 16 | 16]</b>  </td><td>1       </td><td>1       </td><td>1       </td><td>1       </td><td>1       </td></tr>\n",
       "<tr><td><b>[16 | 17 | 18]</b>  </td><td>1       </td><td>1       </td><td>1       </td><td>1       </td><td>1       </td></tr>\n",
       "<tr><td><b>[18 | 18 | 18]</b>  </td><td>1       </td><td>1       </td><td>1       </td><td>1       </td><td>1       </td></tr>\n",
       "<tr><td><b>[18 | 19 | 20]</b>  </td><td>1       </td><td>1       </td><td>1       </td><td>1       </td><td>1       </td></tr>\n",
       "</tbody>\n",
       "</table>"
      ],
      "text/plain": [
       "GridArray(noname : [[1. 1. 1. 1. 1. 1. 1. 1. 1. 1. 1. 1. 1. 1. 1. 1. 1. 1. 1. 1.]\n",
       " [1. 1. 1. 1. 1. 1. 1. 1. 1. 1. 1. 1. 1. 1. 1. 1. 1. 1. 1. 1.]\n",
       " [1. 1. 1. 1. 1. 1. 1. 1. 1. 1. 1. 1. 1. 1. 1. 1. 1. 1. 1. 1.]\n",
       " [1. 1. 1. 1. 1. 1. 1. 1. 1. 1. 1. 1. 1. 1. 1. 1. 1. 1. 1. 1.]\n",
       " [1. 1. 1. 1. 1. 1. 1. 1. 1. 1. 1. 1. 1. 1. 1. 1. 1. 1. 1. 1.]])"
      ]
     },
     "execution_count": 61,
     "metadata": {},
     "output_type": "execute_result"
    }
   ],
   "source": [
    "g['b'].T"
   ]
  },
  {
   "cell_type": "code",
   "execution_count": 42,
   "metadata": {},
   "outputs": [
    {
     "name": "stdout",
     "output_type": "stream",
     "text": [
      "ufunc\n",
      "() {}\n"
     ]
    },
    {
     "data": {
      "text/plain": [
       "Grid(\n",
       "Axis(\"x\",\n",
       "points = array([ 0,  1,  2,  3,  4,  5,  6,  7,  8,  9, 10, 11, 12, 13, 14, 15, 16,\n",
       "       17, 18, 19]),\n",
       "edges = edges: array([[-0.5,  0.5],\n",
       "       [ 0.5,  1.5],\n",
       "       [ 1.5,  2.5],\n",
       "       [ 2.5,  3.5],\n",
       "       [ 3.5,  4.5],\n",
       "       [ 4.5,  5.5],\n",
       "       [ 5.5,  6.5],\n",
       "       [ 6.5,  7.5],\n",
       "       [ 7.5,  8.5],\n",
       "       [ 8.5,  9.5],\n",
       "       [ 9.5, 10.5],\n",
       "       [10.5, 11.5],\n",
       "       [11.5, 12.5],\n",
       "       [12.5, 13.5],\n",
       "       [13.5, 14.5],\n",
       "       [14.5, 15.5],\n",
       "       [15.5, 16.5],\n",
       "       [16.5, 17.5],\n",
       "       [17.5, 18.5],\n",
       "       [18.5, 19.5]]))\n",
       "nbins = 20),\n",
       "Axis(\"y\",\n",
       "points = array([0, 1, 2, 3, 4]),\n",
       "edges = edges: None)\n",
       "nbins = 5),)"
      ]
     },
     "execution_count": 42,
     "metadata": {},
     "output_type": "execute_result"
    }
   ],
   "source": [
    "np.sin(a).grid"
   ]
  },
  {
   "cell_type": "code",
   "execution_count": 43,
   "metadata": {},
   "outputs": [
    {
     "name": "stdout",
     "output_type": "stream",
     "text": [
      "new  <class 'pynocular.griddata.GridArray'> (points) [ 0  1  2  3  4  5  6  7  8  9 10 11 12 13 14 15 16 17 18 19]\n",
      "(edges)  [[-0.5  0.5]\n",
      " [ 0.5  1.5]\n",
      " [ 1.5  2.5]\n",
      " [ 2.5  3.5]\n",
      " [ 3.5  4.5]\n",
      " [ 4.5  5.5]\n",
      " [ 5.5  6.5]\n",
      " [ 6.5  7.5]\n",
      " [ 7.5  8.5]\n",
      " [ 8.5  9.5]\n",
      " [ 9.5 10.5]\n",
      " [10.5 11.5]\n",
      " [11.5 12.5]\n",
      " [12.5 13.5]\n",
      " [13.5 14.5]\n",
      " [14.5 15.5]\n",
      " [15.5 16.5]\n",
      " [16.5 17.5]\n",
      " [17.5 18.5]\n",
      " [18.5 19.5]]\n",
      "(nbins)  20\n",
      "(points) [0 1 2 3 4]\n",
      "(edges)  None\n",
      "(nbins)  5 a a : [[0.92923727 0.66677596 0.23727435 0.1610907  0.01653312]\n",
      " [0.55190353 0.27774722 0.29892989 0.93888069 0.85850405]\n",
      " [0.73551706 0.35244653 0.8760508  0.21956474 0.53441049]\n",
      " [0.15723997 0.08435455 0.88621504 0.04831482 0.71454138]\n",
      " [0.85049881 0.99898884 0.52455096 0.7870131  0.69769233]\n",
      " [0.55569202 0.47328259 0.70182388 0.97605759 0.97067788]\n",
      " [0.35147541 0.53804803 0.42583771 0.34038949 0.67097437]\n",
      " [0.99991814 0.40016164 0.9862341  0.22136795 0.00428525]\n",
      " [0.1870811  0.55282106 0.89642015 0.02093399 0.89793334]\n",
      " [0.32208858 0.86061124 0.16765693 0.39742282 0.26526869]\n",
      " [0.55569622 0.82761335 0.09299961 0.60893835 0.49450812]\n",
      " [0.35534096 0.54596017 0.43240258 0.9995946  0.32889435]\n",
      " [0.9596192  0.34237546 0.67684045 0.36497417 0.14907469]\n",
      " [0.33104808 0.03411093 0.13289779 0.8052429  0.65576376]\n",
      " [0.66148267 0.397798   0.65264809 0.14355531 0.58967196]\n",
      " [0.22599018 0.5112301  0.55603438 0.66878642 0.75357486]\n",
      " [0.97331045 0.6453644  0.74637954 0.34437067 0.37256701]\n",
      " [0.55422566 0.43232625 0.94590443 0.28158927 0.98584402]\n",
      " [0.76719059 0.269261   0.28188932 0.52344498 0.06515638]\n",
      " [0.25834844 0.93810894 0.97695424 0.33338629 0.58261418]]\n",
      "finalize\n"
     ]
    }
   ],
   "source": [
    "a = g['a']"
   ]
  },
  {
   "cell_type": "code",
   "execution_count": 48,
   "metadata": {},
   "outputs": [
    {
     "name": "stderr",
     "output_type": "stream",
     "text": [
      "[autoreload of pynocular.griddata failed: Traceback (most recent call last):\n",
      "  File \"/home/peller/anaconda3/lib/python3.7/site-packages/IPython/extensions/autoreload.py\", line 244, in check\n",
      "    superreload(m, reload, self.old_objects)\n",
      "  File \"/home/peller/anaconda3/lib/python3.7/site-packages/IPython/extensions/autoreload.py\", line 394, in superreload\n",
      "    update_generic(old_obj, new_obj)\n",
      "  File \"/home/peller/anaconda3/lib/python3.7/site-packages/IPython/extensions/autoreload.py\", line 331, in update_generic\n",
      "    update(a, b)\n",
      "  File \"/home/peller/anaconda3/lib/python3.7/site-packages/IPython/extensions/autoreload.py\", line 289, in update_class\n",
      "    if update_generic(old_obj, new_obj): continue\n",
      "  File \"/home/peller/anaconda3/lib/python3.7/site-packages/IPython/extensions/autoreload.py\", line 331, in update_generic\n",
      "    update(a, b)\n",
      "  File \"/home/peller/anaconda3/lib/python3.7/site-packages/IPython/extensions/autoreload.py\", line 265, in update_function\n",
      "    setattr(old, name, getattr(new, name))\n",
      "ValueError: __array_ufunc__() requires a code object with 0 free vars, not 1\n",
      "]\n"
     ]
    },
    {
     "data": {
      "text/plain": [
       "array([Axis(\"x\",\n",
       "points = array([ 0,  1,  2,  3,  4,  5,  6,  7,  8,  9, 10, 11, 12, 13, 14, 15, 16,\n",
       "       17, 18, 19]),\n",
       "edges = edges: array([[-0.5,  0.5],\n",
       "       [ 0.5,  1.5],\n",
       "       [ 1.5,  2.5],\n",
       "       [ 2.5,  3.5],\n",
       "       [ 3.5,  4.5],\n",
       "       [ 4.5,  5.5],\n",
       "       [ 5.5,  6.5],\n",
       "       [ 6.5,  7.5],\n",
       "       [ 7.5,  8.5],\n",
       "       [ 8.5,  9.5],\n",
       "       [ 9.5, 10.5],\n",
       "       [10.5, 11.5],\n",
       "       [11.5, 12.5],\n",
       "       [12.5, 13.5],\n",
       "       [13.5, 14.5],\n",
       "       [14.5, 15.5],\n",
       "       [15.5, 16.5],\n",
       "       [16.5, 17.5],\n",
       "       [17.5, 18.5],\n",
       "       [18.5, 19.5]]))\n",
       "nbins = 20),\n",
       "       Axis(\"y\",\n",
       "points = array([0, 1, 2, 3, 4]),\n",
       "edges = edges: None)\n",
       "nbins = 5)], dtype=object)"
      ]
     },
     "execution_count": 48,
     "metadata": {},
     "output_type": "execute_result"
    }
   ],
   "source": [
    "a.view(np.ndarray)"
   ]
  },
  {
   "cell_type": "code",
   "execution_count": null,
   "metadata": {},
   "outputs": [],
   "source": [
    "g['b'][g['a'] < 0.5] *= -1"
   ]
  },
  {
   "cell_type": "code",
   "execution_count": null,
   "metadata": {},
   "outputs": [],
   "source": [
    "g"
   ]
  },
  {
   "cell_type": "code",
   "execution_count": null,
   "metadata": {},
   "outputs": [],
   "source": [
    "g['a']"
   ]
  },
  {
   "cell_type": "code",
   "execution_count": null,
   "metadata": {},
   "outputs": [],
   "source": [
    "np.sum(g['a'], axis='y')"
   ]
  },
  {
   "cell_type": "code",
   "execution_count": null,
   "metadata": {},
   "outputs": [],
   "source": [
    "g[:,-2]"
   ]
  },
  {
   "cell_type": "code",
   "execution_count": null,
   "metadata": {},
   "outputs": [],
   "source": [
    "g[::-1, ::-1]"
   ]
  },
  {
   "cell_type": "code",
   "execution_count": null,
   "metadata": {},
   "outputs": [],
   "source": [
    "g[[0,3,5], 2:-1]"
   ]
  },
  {
   "cell_type": "code",
   "execution_count": null,
   "metadata": {},
   "outputs": [],
   "source": [
    "g[0,0]"
   ]
  },
  {
   "cell_type": "code",
   "execution_count": null,
   "metadata": {},
   "outputs": [],
   "source": [
    "g.grid.edges[0].max()"
   ]
  },
  {
   "cell_type": "code",
   "execution_count": null,
   "metadata": {},
   "outputs": [],
   "source": [
    "np.mean(g['b'], axis='x') + np.std(g['a'], axis='x')"
   ]
  },
  {
   "cell_type": "code",
   "execution_count": null,
   "metadata": {},
   "outputs": [],
   "source": [
    "g['c'] = np.sqrt(g['x']) * np.sqrt(g['y'])"
   ]
  },
  {
   "cell_type": "code",
   "execution_count": null,
   "metadata": {},
   "outputs": [],
   "source": [
    "g.plot('c', cbar=True)"
   ]
  },
  {
   "cell_type": "code",
   "execution_count": null,
   "metadata": {},
   "outputs": [],
   "source": [
    "g['m'] = np.arange(g.grid.size * 3).reshape(g.shape + (-1,))"
   ]
  },
  {
   "cell_type": "code",
   "execution_count": null,
   "metadata": {},
   "outputs": [],
   "source": [
    "g.plot('m') #it's interpreted as an RGB image, since the excess dimension is 3"
   ]
  },
  {
   "cell_type": "code",
   "execution_count": null,
   "metadata": {},
   "outputs": [],
   "source": [
    "g['m'][:,:,0]"
   ]
  },
  {
   "cell_type": "code",
   "execution_count": null,
   "metadata": {},
   "outputs": [],
   "source": [
    "g[:,3]"
   ]
  },
  {
   "cell_type": "code",
   "execution_count": null,
   "metadata": {},
   "outputs": [],
   "source": [
    "g['m']"
   ]
  },
  {
   "cell_type": "code",
   "execution_count": null,
   "metadata": {},
   "outputs": [],
   "source": [
    "g.T[:,3:5]['m']"
   ]
  },
  {
   "cell_type": "code",
   "execution_count": null,
   "metadata": {},
   "outputs": [],
   "source": [
    "np.sum(g)"
   ]
  },
  {
   "cell_type": "code",
   "execution_count": null,
   "metadata": {},
   "outputs": [],
   "source": [
    "np.sum(g, axis=(0))"
   ]
  },
  {
   "cell_type": "markdown",
   "metadata": {},
   "source": [
    "# Stuff to fix"
   ]
  },
  {
   "cell_type": "code",
   "execution_count": null,
   "metadata": {},
   "outputs": [],
   "source": [
    "np.sum(g['m'], axis=(0,1))"
   ]
  },
  {
   "cell_type": "code",
   "execution_count": null,
   "metadata": {},
   "outputs": [],
   "source": [
    "# because of this\n",
    "np.sum(g['m'], axis=-1).grid"
   ]
  },
  {
   "cell_type": "code",
   "execution_count": null,
   "metadata": {},
   "outputs": [],
   "source": [
    "np.sum(g['m'], axis=-1)"
   ]
  },
  {
   "cell_type": "code",
   "execution_count": null,
   "metadata": {},
   "outputs": [],
   "source": []
  },
  {
   "cell_type": "code",
   "execution_count": null,
   "metadata": {},
   "outputs": [],
   "source": [
    "1 - 3 * g['a']"
   ]
  },
  {
   "cell_type": "code",
   "execution_count": null,
   "metadata": {},
   "outputs": [],
   "source": [
    "2 ** g['a']"
   ]
  },
  {
   "cell_type": "code",
   "execution_count": null,
   "metadata": {},
   "outputs": [],
   "source": [
    "g['a']"
   ]
  },
  {
   "cell_type": "code",
   "execution_count": null,
   "metadata": {},
   "outputs": [],
   "source": []
  },
  {
   "cell_type": "code",
   "execution_count": null,
   "metadata": {},
   "outputs": [],
   "source": [
    "g['a']"
   ]
  },
  {
   "cell_type": "code",
   "execution_count": null,
   "metadata": {},
   "outputs": [],
   "source": [
    "a = g['a']"
   ]
  },
  {
   "cell_type": "code",
   "execution_count": null,
   "metadata": {},
   "outputs": [],
   "source": [
    "a.T"
   ]
  },
  {
   "cell_type": "code",
   "execution_count": null,
   "metadata": {},
   "outputs": [],
   "source": [
    "np.mean(a, axis='x')"
   ]
  },
  {
   "cell_type": "code",
   "execution_count": null,
   "metadata": {},
   "outputs": [],
   "source": [
    "a"
   ]
  },
  {
   "cell_type": "code",
   "execution_count": null,
   "metadata": {},
   "outputs": [],
   "source": [
    "from scipy import ndimage"
   ]
  },
  {
   "cell_type": "code",
   "execution_count": null,
   "metadata": {},
   "outputs": [],
   "source": [
    "ndimage.gaussian_filter(a, sigma=1)"
   ]
  },
  {
   "cell_type": "code",
   "execution_count": null,
   "metadata": {},
   "outputs": [],
   "source": [
    "np.median(a)"
   ]
  },
  {
   "cell_type": "code",
   "execution_count": null,
   "metadata": {},
   "outputs": [],
   "source": [
    "np.cumsum(a)"
   ]
  },
  {
   "cell_type": "code",
   "execution_count": null,
   "metadata": {},
   "outputs": [],
   "source": [
    "a.dtype"
   ]
  },
  {
   "cell_type": "code",
   "execution_count": null,
   "metadata": {},
   "outputs": [],
   "source": [
    "np.sin(a)"
   ]
  },
  {
   "cell_type": "code",
   "execution_count": null,
   "metadata": {},
   "outputs": [],
   "source": [
    "np.dot(a,a.T)"
   ]
  },
  {
   "cell_type": "code",
   "execution_count": null,
   "metadata": {},
   "outputs": [],
   "source": [
    "b = a.values"
   ]
  },
  {
   "cell_type": "code",
   "execution_count": null,
   "metadata": {},
   "outputs": [],
   "source": [
    "np.dot(b,b.T)"
   ]
  },
  {
   "cell_type": "code",
   "execution_count": 19,
   "metadata": {},
   "outputs": [],
   "source": [
    "l = range(3)"
   ]
  },
  {
   "cell_type": "code",
   "execution_count": 20,
   "metadata": {},
   "outputs": [
    {
     "ename": "AttributeError",
     "evalue": "'range' object has no attribute 'next'",
     "output_type": "error",
     "traceback": [
      "\u001b[0;31m---------------------------------------------------------------------------\u001b[0m",
      "\u001b[0;31mAttributeError\u001b[0m                            Traceback (most recent call last)",
      "\u001b[0;32m<ipython-input-20-25aaa3b3a26b>\u001b[0m in \u001b[0;36m<module>\u001b[0;34m\u001b[0m\n\u001b[0;32m----> 1\u001b[0;31m \u001b[0ml\u001b[0m\u001b[0;34m.\u001b[0m\u001b[0mnext\u001b[0m\u001b[0;34m(\u001b[0m\u001b[0;34m)\u001b[0m\u001b[0;34m\u001b[0m\u001b[0;34m\u001b[0m\u001b[0m\n\u001b[0m",
      "\u001b[0;31mAttributeError\u001b[0m: 'range' object has no attribute 'next'"
     ]
    }
   ],
   "source": [
    "l.next()"
   ]
  },
  {
   "cell_type": "code",
   "execution_count": 128,
   "metadata": {},
   "outputs": [],
   "source": [
    "from collections import OrderedDict"
   ]
  },
  {
   "cell_type": "code",
   "execution_count": 131,
   "metadata": {},
   "outputs": [],
   "source": [
    "o = OrderedDict(a=12, b=23)"
   ]
  },
  {
   "cell_type": "code",
   "execution_count": 134,
   "metadata": {},
   "outputs": [
    {
     "data": {
      "text/plain": [
       "2"
      ]
     },
     "execution_count": 134,
     "metadata": {},
     "output_type": "execute_result"
    }
   ],
   "source": [
    "len(o)"
   ]
  },
  {
   "cell_type": "code",
   "execution_count": 140,
   "metadata": {},
   "outputs": [
    {
     "name": "stdout",
     "output_type": "stream",
     "text": [
      "12\n",
      "23\n"
     ]
    }
   ],
   "source": [
    "for i in o.values():\n",
    "    print(i)"
   ]
  },
  {
   "cell_type": "code",
   "execution_count": 141,
   "metadata": {},
   "outputs": [
    {
     "data": {
      "text/plain": [
       "odict_keys(['a', 'b'])"
      ]
     },
     "execution_count": 141,
     "metadata": {},
     "output_type": "execute_result"
    }
   ],
   "source": [
    "o.keys()"
   ]
  },
  {
   "cell_type": "code",
   "execution_count": 145,
   "metadata": {},
   "outputs": [
    {
     "data": {
      "text/plain": [
       "<function OrderedDict.get(key, default=None, /)>"
      ]
     },
     "execution_count": 145,
     "metadata": {},
     "output_type": "execute_result"
    }
   ],
   "source": [
    "o.get()"
   ]
  },
  {
   "cell_type": "code",
   "execution_count": 144,
   "metadata": {},
   "outputs": [
    {
     "data": {
      "text/plain": [
       "OrderedDict()"
      ]
     },
     "execution_count": 144,
     "metadata": {},
     "output_type": "execute_result"
    }
   ],
   "source": [
    "o."
   ]
  },
  {
   "cell_type": "code",
   "execution_count": null,
   "metadata": {},
   "outputs": [],
   "source": []
  }
 ],
 "metadata": {
  "kernelspec": {
   "display_name": "Python 3",
   "language": "python",
   "name": "python3"
  },
  "language_info": {
   "codemirror_mode": {
    "name": "ipython",
    "version": 3
   },
   "file_extension": ".py",
   "mimetype": "text/x-python",
   "name": "python",
   "nbconvert_exporter": "python",
   "pygments_lexer": "ipython3",
   "version": "3.7.3"
  }
 },
 "nbformat": 4,
 "nbformat_minor": 4
}
