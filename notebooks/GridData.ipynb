{
 "cells": [
  {
   "cell_type": "code",
   "execution_count": 1,
   "metadata": {},
   "outputs": [],
   "source": [
    "%reload_ext autoreload\n",
    "%autoreload 2\n",
    "import numpy as np\n",
    "import pynocular as pn\n",
    "from matplotlib import pyplot as plt\n",
    "from uncertainties import unumpy"
   ]
  },
  {
   "cell_type": "code",
   "execution_count": 2,
   "metadata": {},
   "outputs": [],
   "source": [
    "g2d = pn.Grid(x=np.arange(10), y=np.arange(20))"
   ]
  },
  {
   "cell_type": "code",
   "execution_count": 3,
   "metadata": {},
   "outputs": [],
   "source": [
    "b = pn.GridArray(np.random.rand(g2d.size).reshape(g2d.shape), grid=g2d)"
   ]
  },
  {
   "cell_type": "code",
   "execution_count": 4,
   "metadata": {},
   "outputs": [],
   "source": [
    "f = np.sum(np.cos(b) -1.2 / b, axis='y')"
   ]
  },
  {
   "cell_type": "code",
   "execution_count": 5,
   "metadata": {},
   "outputs": [],
   "source": [
    "f[f>-50] *= 33"
   ]
  },
  {
   "cell_type": "code",
   "execution_count": 8,
   "metadata": {},
   "outputs": [],
   "source": [
    "f[0:2] *= 0"
   ]
  },
  {
   "cell_type": "code",
   "execution_count": 9,
   "metadata": {},
   "outputs": [],
   "source": [
    "a = pn.GridArray(np.arange(10), x=10)"
   ]
  },
  {
   "cell_type": "code",
   "execution_count": 10,
   "metadata": {},
   "outputs": [],
   "source": [
    "a[[2,7]] *= 0"
   ]
  },
  {
   "cell_type": "code",
   "execution_count": 11,
   "metadata": {},
   "outputs": [
    {
     "data": {
      "text/plain": [
       "Grid(\n",
       "Axis(\"x\",\n",
       "points = None,\n",
       "edges = edges: None)\n",
       "nbins = 10),)"
      ]
     },
     "execution_count": 11,
     "metadata": {},
     "output_type": "execute_result"
    }
   ],
   "source": [
    "a.grid"
   ]
  },
  {
   "cell_type": "code",
   "execution_count": 12,
   "metadata": {},
   "outputs": [],
   "source": [
    "f[3] *= 4"
   ]
  },
  {
   "cell_type": "code",
   "execution_count": 13,
   "metadata": {},
   "outputs": [
    {
     "data": {
      "text/plain": [
       "-738.0734963094467"
      ]
     },
     "execution_count": 13,
     "metadata": {},
     "output_type": "execute_result"
    }
   ],
   "source": [
    "f[3]"
   ]
  },
  {
   "cell_type": "code",
   "execution_count": 15,
   "metadata": {},
   "outputs": [
    {
     "data": {
      "text/html": [
       "<table>\n",
       "<tbody>\n",
       "<tr><td><b>x</b>     </td><td><b>0</b></td><td><b>1</b></td><td><b>2</b></td><td><b>3</b></td><td><b>4</b></td><td><b>5</b></td><td><b>6</b></td><td><b>7</b></td><td><b>8</b></td><td><b>9</b></td></tr>\n",
       "<tr><td><b>noname</b></td><td>-0      </td><td>-0      </td><td>-1.5e+03</td><td>-7.4e+02</td><td>-1.3e+02</td><td>-74     </td><td>-69     </td><td>-1e+02  </td><td>-1.6e+02</td><td>-3.1e+02</td></tr>\n",
       "</tbody>\n",
       "</table>"
      ],
      "text/plain": [
       "GridArray(noname : [-0.0 -0.0 -1470.6894488829053 -738.0734963094467 -127.49435628311903\n",
       " -74.22341324269432 -68.63467006385498 -99.94109076703614\n",
       " -161.07596748215147 -314.3714990857331])"
      ]
     },
     "execution_count": 15,
     "metadata": {},
     "output_type": "execute_result"
    }
   ],
   "source": [
    "f"
   ]
  },
  {
   "cell_type": "code",
   "execution_count": 16,
   "metadata": {},
   "outputs": [
    {
     "data": {
      "text/plain": [
       "array([   -0.        ,    -0.        , -1470.68944888, -2208.76294519,\n",
       "       -2336.25730148, -2410.48071472, -2479.11538478, -2579.05647555,\n",
       "       -2740.13244303, -3054.50394212])"
      ]
     },
     "execution_count": 16,
     "metadata": {},
     "output_type": "execute_result"
    }
   ],
   "source": [
    "np.cumsum(f, axis='x')"
   ]
  },
  {
   "cell_type": "code",
   "execution_count": 17,
   "metadata": {},
   "outputs": [
    {
     "data": {
      "text/html": [
       "<table>\n",
       "<tbody>\n",
       "<tr><td><b>x</b>     </td><td><b>0</b></td><td><b>1</b></td><td><b>2</b></td><td><b>3</b></td><td><b>4</b></td><td><b>5</b></td><td><b>6</b></td><td><b>7</b></td><td><b>8</b></td><td><b>9</b></td></tr>\n",
       "<tr><td><b>noname</b></td><td>-0      </td><td>-0      </td><td>-1.5e+03</td><td>-7.4e+02</td><td>-1.3e+02</td><td>-74     </td><td>-69     </td><td>-1e+02  </td><td>-1.6e+02</td><td>-3.1e+02</td></tr>\n",
       "</tbody>\n",
       "</table>"
      ],
      "text/plain": [
       "GridArray(noname : [-0.0 -0.0 -1470.6894488829053 -738.0734963094467 -127.49435628311903\n",
       " -74.22341324269432 -68.63467006385498 -99.94109076703614\n",
       " -161.07596748215147 -314.3714990857331])"
      ]
     },
     "execution_count": 17,
     "metadata": {},
     "output_type": "execute_result"
    }
   ],
   "source": [
    "f"
   ]
  },
  {
   "cell_type": "code",
   "execution_count": 18,
   "metadata": {},
   "outputs": [],
   "source": [
    "a = unumpy.uarray(np.arange(10), np.ones(10))"
   ]
  },
  {
   "cell_type": "code",
   "execution_count": 19,
   "metadata": {},
   "outputs": [],
   "source": [
    "a = np.arange(10)"
   ]
  },
  {
   "cell_type": "code",
   "execution_count": 20,
   "metadata": {},
   "outputs": [],
   "source": [
    "g = pn.Grid(x=np.arange(10))"
   ]
  },
  {
   "cell_type": "code",
   "execution_count": 21,
   "metadata": {},
   "outputs": [],
   "source": [
    "u = pn.GridArray(a, grid=g)"
   ]
  },
  {
   "cell_type": "code",
   "execution_count": 22,
   "metadata": {},
   "outputs": [
    {
     "data": {
      "text/plain": [
       "Grid(\n",
       "Axis(\"x\",\n",
       "points = array([0, 1, 2, 3, 4, 5, 6, 7, 8, 9]),\n",
       "edges = edges: None)\n",
       "nbins = 10),)"
      ]
     },
     "execution_count": 22,
     "metadata": {},
     "output_type": "execute_result"
    }
   ],
   "source": [
    "u.grid"
   ]
  },
  {
   "cell_type": "code",
   "execution_count": 23,
   "metadata": {},
   "outputs": [
    {
     "data": {
      "text/plain": [
       "9"
      ]
     },
     "execution_count": 23,
     "metadata": {},
     "output_type": "execute_result"
    }
   ],
   "source": [
    "np.max(u)"
   ]
  },
  {
   "cell_type": "code",
   "execution_count": 24,
   "metadata": {},
   "outputs": [
    {
     "data": {
      "text/plain": [
       "9"
      ]
     },
     "execution_count": 24,
     "metadata": {},
     "output_type": "execute_result"
    }
   ],
   "source": [
    "np.amax(np.empty_like(u))"
   ]
  },
  {
   "cell_type": "code",
   "execution_count": 25,
   "metadata": {},
   "outputs": [
    {
     "data": {
      "text/html": [
       "<table>\n",
       "<tbody>\n",
       "<tr><td><b>x</b>     </td><td><b>0</b></td><td><b>1</b></td><td><b>2</b></td><td><b>3</b></td><td><b>4</b></td><td><b>5</b></td><td><b>6</b></td><td><b>7</b></td><td><b>8</b></td><td><b>9</b></td></tr>\n",
       "<tr><td><b>noname</b></td><td>0       </td><td>1       </td><td>2       </td><td>3       </td><td>4       </td><td>5       </td><td>6       </td><td>7       </td><td>8       </td><td>9       </td></tr>\n",
       "</tbody>\n",
       "</table>"
      ],
      "text/plain": [
       "GridArray(noname : [0 1 2 3 4 5 6 7 8 9])"
      ]
     },
     "execution_count": 25,
     "metadata": {},
     "output_type": "execute_result"
    }
   ],
   "source": [
    "u.T"
   ]
  },
  {
   "cell_type": "code",
   "execution_count": 26,
   "metadata": {},
   "outputs": [
    {
     "ename": "NameError",
     "evalue": "name 'l' is not defined",
     "output_type": "error",
     "traceback": [
      "\u001b[0;31m---------------------------------------------------------------------------\u001b[0m",
      "\u001b[0;31mNameError\u001b[0m                                 Traceback (most recent call last)",
      "\u001b[0;32m<ipython-input-26-4ddf88431d6e>\u001b[0m in \u001b[0;36m<module>\u001b[0;34m\u001b[0m\n\u001b[0;32m----> 1\u001b[0;31m \u001b[0mtype\u001b[0m\u001b[0;34m(\u001b[0m\u001b[0ml\u001b[0m\u001b[0;34m)\u001b[0m\u001b[0;34m\u001b[0m\u001b[0;34m\u001b[0m\u001b[0m\n\u001b[0m",
      "\u001b[0;31mNameError\u001b[0m: name 'l' is not defined"
     ]
    }
   ],
   "source": [
    "type(l)"
   ]
  },
  {
   "cell_type": "code",
   "execution_count": 27,
   "metadata": {},
   "outputs": [
    {
     "ename": "NameError",
     "evalue": "name 'l' is not defined",
     "output_type": "error",
     "traceback": [
      "\u001b[0;31m---------------------------------------------------------------------------\u001b[0m",
      "\u001b[0;31mNameError\u001b[0m                                 Traceback (most recent call last)",
      "\u001b[0;32m<ipython-input-27-cde25b5e10ad>\u001b[0m in \u001b[0;36m<module>\u001b[0;34m\u001b[0m\n\u001b[0;32m----> 1\u001b[0;31m \u001b[0ml\u001b[0m\u001b[0;34m\u001b[0m\u001b[0;34m\u001b[0m\u001b[0m\n\u001b[0m",
      "\u001b[0;31mNameError\u001b[0m: name 'l' is not defined"
     ]
    }
   ],
   "source": [
    "l"
   ]
  },
  {
   "cell_type": "code",
   "execution_count": null,
   "metadata": {},
   "outputs": [],
   "source": [
    "unumpy.cos(u)"
   ]
  },
  {
   "cell_type": "code",
   "execution_count": 28,
   "metadata": {},
   "outputs": [
    {
     "data": {
      "text/html": [
       "<table>\n",
       "<tbody>\n",
       "<tr><td><b>x</b>     </td><td><b>0</b></td><td><b>1</b></td><td><b>2</b></td><td><b>3</b></td><td><b>4</b></td><td><b>5</b></td><td><b>6</b></td><td><b>7</b></td><td><b>8</b></td><td><b>9</b></td></tr>\n",
       "<tr><td><b>noname</b></td><td>1       </td><td>1       </td><td>1       </td><td>1       </td><td>1       </td><td>1       </td><td>1       </td><td>1       </td><td>1       </td><td>1       </td></tr>\n",
       "</tbody>\n",
       "</table>"
      ],
      "text/plain": [
       "GridArray(noname : [1 1 1 1 1 1 1 1 1 1])"
      ]
     },
     "execution_count": 28,
     "metadata": {},
     "output_type": "execute_result"
    }
   ],
   "source": [
    "np.ones_like(u)"
   ]
  },
  {
   "cell_type": "code",
   "execution_count": 65,
   "metadata": {},
   "outputs": [
    {
     "data": {
      "text/html": [
       "<table>\n",
       "<tbody>\n",
       "<tr><td><b>x</b>     </td><td><b>0</b></td><td><b>1</b></td><td><b>2</b></td><td><b>3</b></td><td><b>4</b></td><td><b>5</b></td><td><b>6</b></td><td><b>7</b></td><td><b>8</b></td><td><b>9</b></td></tr>\n",
       "<tr><td><b>noname</b></td><td>0       </td><td>1       </td><td>1.4     </td><td>1.7     </td><td>2       </td><td>2.2     </td><td>2.4     </td><td>2.6     </td><td>2.8     </td><td>3       </td></tr>\n",
       "</tbody>\n",
       "</table>"
      ],
      "text/plain": [
       "GridArray(noname : [0.0 1.0 1.4142135623730951 1.7320508075688772 2.0 2.23606797749979\n",
       " 2.449489742783178 2.6457513110645907 2.8284271247461903 3.0])"
      ]
     },
     "execution_count": 65,
     "metadata": {},
     "output_type": "execute_result"
    }
   ],
   "source": [
    "np.sqrt(u)"
   ]
  },
  {
   "cell_type": "code",
   "execution_count": 66,
   "metadata": {},
   "outputs": [
    {
     "data": {
      "text/plain": [
       "array([10.        , 10.        ,  5.        ,  3.33333333,  2.5       ,\n",
       "        2.        ,  1.66666667,  1.42857143,  1.25      ,  1.11111111])"
      ]
     },
     "execution_count": 66,
     "metadata": {},
     "output_type": "execute_result"
    }
   ],
   "source": [
    "np.asarray(10 / u)"
   ]
  },
  {
   "cell_type": "code",
   "execution_count": 67,
   "metadata": {},
   "outputs": [
    {
     "data": {
      "text/html": [
       "<table>\n",
       "<tbody>\n",
       "<tr><td><b>x</b>     </td><td><b>0</b></td><td><b>1</b></td><td><b>2</b></td><td><b>3</b></td><td><b>4</b></td><td><b>5</b></td><td><b>6</b></td><td><b>7</b></td><td><b>8</b></td><td><b>9</b></td></tr>\n",
       "<tr><td><b>noname</b></td><td>0       </td><td>1       </td><td>2       </td><td>3       </td><td>4       </td><td>5       </td><td>6       </td><td>7       </td><td>8       </td><td>9       </td></tr>\n",
       "</tbody>\n",
       "</table>"
      ],
      "text/plain": [
       "GridArray(noname : [0 1 2 3 4 5 6 7 8 9])"
      ]
     },
     "execution_count": 67,
     "metadata": {},
     "output_type": "execute_result"
    }
   ],
   "source": [
    "u"
   ]
  },
  {
   "cell_type": "code",
   "execution_count": 68,
   "metadata": {},
   "outputs": [
    {
     "data": {
      "text/html": [
       "<table>\n",
       "<tbody>\n",
       "<tr><td><b>x</b>     </td><td><b>0</b></td><td><b>1</b></td><td><b>2</b></td><td><b>3</b></td><td><b>4</b></td><td><b>5</b></td><td><b>6</b></td><td><b>7</b></td><td><b>8</b></td><td><b>9</b></td></tr>\n",
       "<tr><td><b>noname</b></td><td>--      </td><td>--      </td><td>--      </td><td>1.7     </td><td>2       </td><td>2.2     </td><td>2.4     </td><td>2.6     </td><td>2.8     </td><td>3       </td></tr>\n",
       "</tbody>\n",
       "</table>"
      ],
      "text/plain": [
       "GridArray(noname : [-- -- -- 1.7320508075688772 2.0 2.23606797749979 2.449489742783178\n",
       " 2.6457513110645907 2.8284271247461903 3.0])"
      ]
     },
     "execution_count": 68,
     "metadata": {},
     "output_type": "execute_result"
    }
   ],
   "source": [
    "np.sqrt(u[u>2])"
   ]
  },
  {
   "cell_type": "code",
   "execution_count": 62,
   "metadata": {},
   "outputs": [
    {
     "data": {
      "text/html": [
       "<table>\n",
       "<tbody>\n",
       "<tr><td><b>x</b>     </td><td><b>0</b></td><td><b>1</b></td><td><b>2</b></td></tr>\n",
       "<tr><td><b>noname</b></td><td>0       </td><td>1       </td><td>2       </td></tr>\n",
       "</tbody>\n",
       "</table>"
      ],
      "text/plain": [
       "GridArray(noname : [0 1 2])"
      ]
     },
     "execution_count": 62,
     "metadata": {},
     "output_type": "execute_result"
    }
   ],
   "source": [
    "u[0:3]"
   ]
  },
  {
   "cell_type": "code",
   "execution_count": 109,
   "metadata": {},
   "outputs": [],
   "source": [
    "g = pn.GridData(x=np.arange(20), y=np.arange(5))\n",
    "#g = pn.GridData(y=np.arange(5))"
   ]
  },
  {
   "cell_type": "code",
   "execution_count": 110,
   "metadata": {},
   "outputs": [],
   "source": [
    "g.grid['x'].edges = pn.edges(points=g.grid['x'].points)"
   ]
  },
  {
   "cell_type": "code",
   "execution_count": 111,
   "metadata": {},
   "outputs": [],
   "source": [
    "e = pn.edges(points=np.arange(11))"
   ]
  },
  {
   "cell_type": "code",
   "execution_count": 112,
   "metadata": {},
   "outputs": [
    {
     "data": {
      "text/plain": [
       "-0.5"
      ]
     },
     "execution_count": 112,
     "metadata": {},
     "output_type": "execute_result"
    }
   ],
   "source": [
    "e[0,0]"
   ]
  },
  {
   "cell_type": "code",
   "execution_count": 113,
   "metadata": {},
   "outputs": [],
   "source": [
    "a = pn.GridArray(np.random.rand(g.grid.size).reshape(g.shape), grid=g.grid)"
   ]
  },
  {
   "cell_type": "code",
   "execution_count": 122,
   "metadata": {},
   "outputs": [
    {
     "data": {
      "text/html": [
       "<table>\n",
       "<tbody>\n",
       "<tr><td><b>y \\ x</b></td><td><b>[-0.5 | 0 | 0.5]</b></td><td><b>[0.5 | 1 | 1.5]</b></td><td><b>[1.5 | 2 | 2.5]</b></td><td><b>[2.5 | 3 | 3.5]</b></td><td><b>[3.5 | 4 | 4.5]</b></td><td><b>[4.5 | 5 | 5.5]</b></td><td>...</td><td><b>[14 | 14 | 14]</b></td><td><b>[14 | 15 | 16]</b></td><td><b>[16 | 16 | 16]</b></td><td><b>[16 | 17 | 18]</b></td><td><b>[18 | 18 | 18]</b></td><td><b>[18 | 19 | 20]</b></td></tr>\n",
       "<tr><td><b>0</b>    </td><td>0                      </td><td>0                     </td><td>0                     </td><td>0                     </td><td>0                     </td><td>0                     </td><td>...</td><td>0                    </td><td>0                    </td><td>0                    </td><td>0                    </td><td>0                    </td><td>0                    </td></tr>\n",
       "<tr><td><b>1</b>    </td><td>0                      </td><td>0                     </td><td>0                     </td><td>0                     </td><td>0                     </td><td>0                     </td><td>...</td><td>0                    </td><td>0                    </td><td>0                    </td><td>0                    </td><td>0                    </td><td>0                    </td></tr>\n",
       "<tr><td><b>2</b>    </td><td>0                      </td><td>0                     </td><td>0                     </td><td>0                     </td><td>0                     </td><td>0                     </td><td>...</td><td>0                    </td><td>0                    </td><td>0                    </td><td>0                    </td><td>0                    </td><td>0                    </td></tr>\n",
       "<tr><td><b>3</b>    </td><td>0                      </td><td>0                     </td><td>0                     </td><td>0                     </td><td>0                     </td><td>0                     </td><td>...</td><td>0                    </td><td>0                    </td><td>0                    </td><td>0                    </td><td>0                    </td><td>0                    </td></tr>\n",
       "<tr><td><b>4</b>    </td><td>0                      </td><td>0                     </td><td>0                     </td><td>0                     </td><td>0                     </td><td>0                     </td><td>...</td><td>0                    </td><td>0                    </td><td>0                    </td><td>0                    </td><td>0                    </td><td>0                    </td></tr>\n",
       "</tbody>\n",
       "</table>"
      ],
      "text/plain": [
       "GridArray(noname : [[0 0 0 0 0]\n",
       " [0 0 0 0 0]\n",
       " [0 0 0 0 0]\n",
       " [0 0 0 0 0]\n",
       " [0 0 0 0 0]\n",
       " [0 0 0 0 0]\n",
       " [0 0 0 0 0]\n",
       " [0 0 0 0 0]\n",
       " [0 0 0 0 0]\n",
       " [0 0 0 0 0]\n",
       " [0 0 0 0 0]\n",
       " [0 0 0 0 0]\n",
       " [0 0 0 0 0]\n",
       " [0 0 0 0 0]\n",
       " [0 0 0 0 0]\n",
       " [0 0 0 0 0]\n",
       " [0 0 0 0 0]\n",
       " [0 0 0 0 0]\n",
       " [0 0 0 0 0]\n",
       " [0 0 0 0 0]])"
      ]
     },
     "execution_count": 122,
     "metadata": {},
     "output_type": "execute_result"
    }
   ],
   "source": [
    "a.astype(np.int)"
   ]
  },
  {
   "cell_type": "code",
   "execution_count": 115,
   "metadata": {},
   "outputs": [
    {
     "data": {
      "text/html": [
       "<table>\n",
       "<tbody>\n",
       "<tr><td><b>y \\ x</b></td><td><b>[-0.5 | 0 | 0.5]</b></td><td><b>[0.5 | 1 | 1.5]</b></td><td><b>[1.5 | 2 | 2.5]</b></td><td><b>[2.5 | 3 | 3.5]</b></td><td><b>[3.5 | 4 | 4.5]</b></td><td><b>[4.5 | 5 | 5.5]</b></td><td>...</td><td><b>[14 | 14 | 14]</b></td><td><b>[14 | 15 | 16]</b></td><td><b>[16 | 16 | 16]</b></td><td><b>[16 | 17 | 18]</b></td><td><b>[18 | 18 | 18]</b></td><td><b>[18 | 19 | 20]</b></td></tr>\n",
       "<tr><td><b>0</b>    </td><td>1                      </td><td>1                     </td><td>1                     </td><td>1                     </td><td>1                     </td><td>1                     </td><td>...</td><td>1                    </td><td>1                    </td><td>1                    </td><td>1                    </td><td>1                    </td><td>1                    </td></tr>\n",
       "<tr><td><b>1</b>    </td><td>1                      </td><td>1                     </td><td>1                     </td><td>1                     </td><td>1                     </td><td>1                     </td><td>...</td><td>1                    </td><td>1                    </td><td>1                    </td><td>1                    </td><td>1                    </td><td>1                    </td></tr>\n",
       "<tr><td><b>2</b>    </td><td>1                      </td><td>1                     </td><td>1                     </td><td>1                     </td><td>1                     </td><td>1                     </td><td>...</td><td>1                    </td><td>1                    </td><td>1                    </td><td>1                    </td><td>1                    </td><td>1                    </td></tr>\n",
       "<tr><td><b>3</b>    </td><td>1                      </td><td>1                     </td><td>1                     </td><td>1                     </td><td>1                     </td><td>1                     </td><td>...</td><td>1                    </td><td>1                    </td><td>1                    </td><td>1                    </td><td>1                    </td><td>1                    </td></tr>\n",
       "<tr><td><b>4</b>    </td><td>1                      </td><td>1                     </td><td>1                     </td><td>1                     </td><td>1                     </td><td>1                     </td><td>...</td><td>1                    </td><td>1                    </td><td>1                    </td><td>1                    </td><td>1                    </td><td>1                    </td></tr>\n",
       "</tbody>\n",
       "</table>"
      ],
      "text/plain": [
       "GridArray(noname : [[1. 1. 1. 1. 1.]\n",
       " [1. 1. 1. 1. 1.]\n",
       " [1. 1. 1. 1. 1.]\n",
       " [1. 1. 1. 1. 1.]\n",
       " [1. 1. 1. 1. 1.]\n",
       " [1. 1. 1. 1. 1.]\n",
       " [1. 1. 1. 1. 1.]\n",
       " [1. 1. 1. 1. 1.]\n",
       " [1. 1. 1. 1. 1.]\n",
       " [1. 1. 1. 1. 1.]\n",
       " [1. 1. 1. 1. 1.]\n",
       " [1. 1. 1. 1. 1.]\n",
       " [1. 1. 1. 1. 1.]\n",
       " [1. 1. 1. 1. 1.]\n",
       " [1. 1. 1. 1. 1.]\n",
       " [1. 1. 1. 1. 1.]\n",
       " [1. 1. 1. 1. 1.]\n",
       " [1. 1. 1. 1. 1.]\n",
       " [1. 1. 1. 1. 1.]\n",
       " [1. 1. 1. 1. 1.]])"
      ]
     },
     "execution_count": 115,
     "metadata": {},
     "output_type": "execute_result"
    }
   ],
   "source": [
    "np.ones_like(a)"
   ]
  },
  {
   "cell_type": "code",
   "execution_count": 116,
   "metadata": {},
   "outputs": [
    {
     "data": {
      "text/plain": [
       "True"
      ]
     },
     "execution_count": 116,
     "metadata": {},
     "output_type": "execute_result"
    }
   ],
   "source": [
    "np.all(np.abs(-a) == a)"
   ]
  },
  {
   "cell_type": "code",
   "execution_count": 117,
   "metadata": {},
   "outputs": [
    {
     "data": {
      "text/html": [
       "<table>\n",
       "<tbody>\n",
       "<tr><td><b>y \\ x</b></td><td><b>[-0.5 | 0 | 0.5]</b></td><td><b>[0.5 | 1 | 1.5]</b></td><td><b>[1.5 | 2 | 2.5]</b></td><td><b>[2.5 | 3 | 3.5]</b></td><td><b>[3.5 | 4 | 4.5]</b></td><td><b>[4.5 | 5 | 5.5]</b></td><td>...</td><td><b>[14 | 14 | 14]</b></td><td><b>[14 | 15 | 16]</b></td><td><b>[16 | 16 | 16]</b></td><td><b>[16 | 17 | 18]</b></td><td><b>[18 | 18 | 18]</b></td><td><b>[18 | 19 | 20]</b></td></tr>\n",
       "<tr><td><b>0</b>    </td><td>0.94                   </td><td>0.077                 </td><td>0.96                  </td><td>0.075                 </td><td>0.47                  </td><td>0.58                  </td><td>...</td><td>0.058                </td><td>0.47                 </td><td>0.085                </td><td>0.84                 </td><td>0.81                 </td><td>0.36                 </td></tr>\n",
       "<tr><td><b>1</b>    </td><td>0.79                   </td><td>0.86                  </td><td>0.29                  </td><td>0.97                  </td><td>0.69                  </td><td>0.9                   </td><td>...</td><td>0.4                  </td><td>0.25                 </td><td>0.96                 </td><td>0.12                 </td><td>0.59                 </td><td>0.054                </td></tr>\n",
       "<tr><td><b>2</b>    </td><td>0.75                   </td><td>0.073                 </td><td>0.72                  </td><td>0.55                  </td><td>0.32                  </td><td>0.38                  </td><td>...</td><td>0.24                 </td><td>0.45                 </td><td>0.76                 </td><td>0.19                 </td><td>0.11                 </td><td>0.32                 </td></tr>\n",
       "<tr><td><b>3</b>    </td><td>0.59                   </td><td>0.3                   </td><td>0.57                  </td><td>0.6                   </td><td>0.65                  </td><td>0.4                   </td><td>...</td><td>0.3                  </td><td>0.6                  </td><td>0.014                </td><td>0.49                 </td><td>0.54                 </td><td>0.14                 </td></tr>\n",
       "<tr><td><b>4</b>    </td><td>0.49                   </td><td>0.06                  </td><td>0.51                  </td><td>0.42                  </td><td>0.93                  </td><td>0.24                  </td><td>...</td><td>0.58                 </td><td>0.54                 </td><td>0.12                 </td><td>0.9                  </td><td>0.81                 </td><td>0.061                </td></tr>\n",
       "</tbody>\n",
       "</table>"
      ],
      "text/plain": [
       "GridArray(noname : [[0.9402906749411682 0.7920199731661808 0.7496966922497037\n",
       "  0.5852068344674549 0.48946347081804253]\n",
       " [0.0772316164594764 0.8631533279009991 0.07257648694686036\n",
       "  0.2988893555269666 0.060144230129755005]\n",
       " [0.9559651825994855 0.2890394920074668 0.7178726136064401\n",
       "  0.5650625093371312 0.5105078558754774]\n",
       " [0.07453858736493302 0.9744983046248171 0.5484853257581203\n",
       "  0.603461643169586 0.42310858396221174]\n",
       " [0.46754409134685826 0.6862421689590344 0.31777329745631644\n",
       "  0.645917470955291 0.9272017795702548]\n",
       " [0.579811324731481 0.897137014040091 0.38006420057251045\n",
       "  0.4020181772043969 0.2415441514994412]\n",
       " [0.5162863424158166 0.6507114253545695 0.09850962584604639\n",
       "  0.6688443791040526 0.2356609722065558]\n",
       " [0.02739413505943178 0.30925154849289127 0.1959723922229828\n",
       "  0.646689743056504 0.7993930821446444]\n",
       " [0.7349739458520681 0.9389005815514971 0.6612016992683768\n",
       "  0.07191290357810398 0.537290170436649]\n",
       " [0.0550858743176722 0.18624052670524816 0.18391701594658627\n",
       "  0.693676980234228 0.16369138072550693]\n",
       " [0.5336741942560962 0.09577291438590207 0.8956658008636414\n",
       "  0.3570849378134764 0.7526841144070423]\n",
       " [0.29608228268283465 0.27874871093872733 0.13811452839805882\n",
       "  0.8625898408251921 0.7381912547443896]\n",
       " [0.7850712316876535 0.21584826511623612 0.6583671831897339\n",
       "  0.7856818172121444 0.003733566352210893]\n",
       " [0.9080499290170031 0.3191210318935962 0.27920477490365336\n",
       "  0.6423499548142503 0.20627650942858233]\n",
       " [0.058275887103769075 0.3977515543861113 0.24442994800230367\n",
       "  0.30015554672984146 0.5849070517632521]\n",
       " [0.467219150249655 0.25196175063927895 0.44725830592085714\n",
       "  0.6039328697009941 0.5422360384781979]\n",
       " [0.0847717185977015 0.9599114961104934 0.7625480518868087\n",
       "  0.014136178172979075 0.12133184850841416]\n",
       " [0.8433732695905898 0.11722375004697971 0.19141246982272653\n",
       "  0.4888868326037221 0.8958480145577825]\n",
       " [0.8127974773388477 0.5853028854768588 0.11035266854015047\n",
       "  0.5354552640910158 0.8147944917741538]\n",
       " [0.36136491034032703 0.05395331044500595 0.31552698339558083\n",
       "  0.14474930612418313 0.06104886123356856]])"
      ]
     },
     "execution_count": 117,
     "metadata": {},
     "output_type": "execute_result"
    }
   ],
   "source": [
    "np.abs(-a)"
   ]
  },
  {
   "cell_type": "code",
   "execution_count": 118,
   "metadata": {},
   "outputs": [
    {
     "data": {
      "text/html": [
       "<table>\n",
       "<tbody>\n",
       "<tr><td><b>x</b>     </td><td><b>[-0.5 | 0 | 0.5]</b></td><td><b>[0.5 | 1 | 1.5]</b></td><td><b>[1.5 | 2 | 2.5]</b></td><td><b>[2.5 | 3 | 3.5]</b></td><td><b>[3.5 | 4 | 4.5]</b></td><td><b>[4.5 | 5 | 5.5]</b></td><td>...</td><td><b>[14 | 14 | 14]</b></td><td><b>[14 | 15 | 16]</b></td><td><b>[16 | 16 | 16]</b></td><td><b>[16 | 17 | 18]</b></td><td><b>[18 | 18 | 18]</b></td><td><b>[18 | 19 | 20]</b></td></tr>\n",
       "<tr><td><b>noname</b></td><td>3.6                    </td><td>1.4                   </td><td>3                     </td><td>2.6                   </td><td>3                     </td><td>2.5                   </td><td>...</td><td>1.6                  </td><td>2.3                  </td><td>1.9                  </td><td>2.5                  </td><td>2.9                  </td><td>0.94                 </td></tr>\n",
       "</tbody>\n",
       "</table>"
      ],
      "text/plain": [
       "GridArray(noname : [3.55667765 1.37199502 3.03844765 2.62409244 3.04467881 2.50057487\n",
       " 2.17001274 1.9787009  2.9442793  1.28261178 2.63488196 2.31372662\n",
       " 2.44870206 2.3550022  1.58551999 2.31260811 1.94269929 2.53674434\n",
       " 2.85870279 0.93664337])"
      ]
     },
     "execution_count": 118,
     "metadata": {},
     "output_type": "execute_result"
    }
   ],
   "source": [
    "np.sum(a, axis='y')"
   ]
  },
  {
   "cell_type": "code",
   "execution_count": 74,
   "metadata": {},
   "outputs": [
    {
     "data": {
      "text/html": [
       "<table>\n",
       "<tbody>\n",
       "<tr><td><b>y \\ x</b></td><td><b>[-0.5 | 0 | 0.5]</b></td><td><b>[0.5 | 1 | 1.5]</b></td><td><b>[1.5 | 2 | 2.5]</b></td><td><b>[2.5 | 3 | 3.5]</b></td><td><b>[3.5 | 4 | 4.5]</b></td><td><b>[4.5 | 5 | 5.5]</b></td><td>...</td><td><b>[14 | 14 | 14]</b></td><td><b>[14 | 15 | 16]</b></td><td><b>[16 | 16 | 16]</b></td><td><b>[16 | 17 | 18]</b></td><td><b>[18 | 18 | 18]</b></td><td><b>[18 | 19 | 20]</b></td></tr>\n",
       "<tr><td><b>0</b>    </td><td>0.52                   </td><td>0.28                  </td><td>0.98                  </td><td>0.55                  </td><td>0.66                  </td><td>0.5                   </td><td>...</td><td>0.051                </td><td>0.46                 </td><td>0.3                  </td><td>0.78                 </td><td>0.048                </td><td>0.3                  </td></tr>\n",
       "<tr><td><b>1</b>    </td><td>0.75                   </td><td>0.31                  </td><td>0.49                  </td><td>0.81                  </td><td>0.21                  </td><td>0.38                  </td><td>...</td><td>0.7                  </td><td>0.026                </td><td>0.071                </td><td>0.37                 </td><td>0.71                 </td><td>0.52                 </td></tr>\n",
       "<tr><td><b>2</b>    </td><td>0.85                   </td><td>0.23                  </td><td>0.61                  </td><td>0.43                  </td><td>0.031                 </td><td>0.31                  </td><td>...</td><td>0.013                </td><td>0.55                 </td><td>0.33                 </td><td>0.18                 </td><td>0.36                 </td><td>0.59                 </td></tr>\n",
       "<tr><td><b>3</b>    </td><td>0.85                   </td><td>0.99                  </td><td>0.31                  </td><td>0.069                 </td><td>0.36                  </td><td>0.77                  </td><td>...</td><td>0.044                </td><td>0.56                 </td><td>0.59                 </td><td>0.79                 </td><td>0.18                 </td><td>0.33                 </td></tr>\n",
       "<tr><td><b>4</b>    </td><td>0.019                  </td><td>0.47                  </td><td>0.14                  </td><td>0.85                  </td><td>0.34                  </td><td>0.2                   </td><td>...</td><td>0.19                 </td><td>0.48                 </td><td>0.71                 </td><td>0.85                 </td><td>0.75                 </td><td>0.73                 </td></tr>\n",
       "</tbody>\n",
       "</table>"
      ],
      "text/plain": [
       "GridArray(noname : [[0.51773758 0.74823268 0.84997121 0.85184049 0.01909704]\n",
       " [0.28253743 0.30784544 0.22770422 0.98598182 0.46702724]\n",
       " [0.97525613 0.4946641  0.61267015 0.30934819 0.13752603]\n",
       " [0.55435852 0.80860641 0.43295254 0.06895191 0.85214425]\n",
       " [0.65533697 0.21350804 0.03090373 0.36030182 0.34186608]\n",
       " [0.50001462 0.37613848 0.31386637 0.77219564 0.20419148]\n",
       " [0.9194679  0.20059369 0.23005956 0.49256711 0.93594675]\n",
       " [0.43993728 0.81945399 0.369958   0.24159017 0.7493914 ]\n",
       " [0.26918439 0.6402172  0.16347993 0.37682523 0.75812015]\n",
       " [0.03773657 0.10964931 0.64876288 0.82756562 0.58489688]\n",
       " [0.27283382 0.11503791 0.44223876 0.57243144 0.17301331]\n",
       " [0.9611815  0.51623915 0.17170834 0.14321692 0.69130622]\n",
       " [0.73995773 0.93213192 0.73378686 0.39790764 0.72997257]\n",
       " [0.76638811 0.14951349 0.07727665 0.26727647 0.5371849 ]\n",
       " [0.05115629 0.69806089 0.01300415 0.0436297  0.18777605]\n",
       " [0.45762727 0.02551831 0.55151294 0.56075124 0.48050683]\n",
       " [0.29909592 0.07054671 0.32693787 0.58676342 0.70913594]\n",
       " [0.7766958  0.36543805 0.18194456 0.79364933 0.85188221]\n",
       " [0.04838825 0.70974108 0.36097104 0.17702063 0.75323571]\n",
       " [0.30013397 0.52159634 0.59489309 0.32864983 0.72589696]])"
      ]
     },
     "execution_count": 74,
     "metadata": {},
     "output_type": "execute_result"
    }
   ],
   "source": [
    "a"
   ]
  },
  {
   "cell_type": "code",
   "execution_count": 86,
   "metadata": {},
   "outputs": [
    {
     "data": {
      "text/html": [
       "<table>\n",
       "<tbody>\n",
       "<tr><td><b>y \\ x</b></td><td><b>[-0.5 | 0 | 0.5]</b></td><td><b>[0.5 | 1 | 1.5]</b></td><td><b>[1.5 | 2 | 2.5]</b></td><td><b>[2.5 | 3 | 3.5]</b></td><td><b>[3.5 | 4 | 4.5]</b></td><td><b>[4.5 | 5 | 5.5]</b></td><td>...</td><td><b>[14 | 14 | 14]</b></td><td><b>[14 | 15 | 16]</b></td><td><b>[16 | 16 | 16]</b></td><td><b>[16 | 17 | 18]</b></td><td><b>[18 | 18 | 18]</b></td><td><b>[18 | 19 | 20]</b></td></tr>\n",
       "<tr><td><b>0</b>    </td><td>0.22                   </td><td>0.12                  </td><td>0.42                  </td><td>0.24                  </td><td>0.28                  </td><td>0.22                  </td><td>...</td><td>0.022                </td><td>0.2                  </td><td>0.13                 </td><td>0.34                 </td><td>0.021                </td><td>0.13                 </td></tr>\n",
       "<tr><td><b>1</b>    </td><td>0.32                   </td><td>0.13                  </td><td>0.21                  </td><td>0.35                  </td><td>0.093                 </td><td>0.16                  </td><td>...</td><td>0.3                  </td><td>0.011                </td><td>0.031                </td><td>0.16                 </td><td>0.31                 </td><td>0.23                 </td></tr>\n",
       "<tr><td><b>2</b>    </td><td>0.37                   </td><td>0.099                 </td><td>0.27                  </td><td>0.19                  </td><td>0.013                 </td><td>0.14                  </td><td>...</td><td>0.0056               </td><td>0.24                 </td><td>0.14                 </td><td>0.079                </td><td>0.16                 </td><td>0.26                 </td></tr>\n",
       "<tr><td><b>3</b>    </td><td>0.37                   </td><td>0.43                  </td><td>0.13                  </td><td>0.03                  </td><td>0.16                  </td><td>0.34                  </td><td>...</td><td>0.019                </td><td>0.24                 </td><td>0.25                 </td><td>0.34                 </td><td>0.077                </td><td>0.14                 </td></tr>\n",
       "<tr><td><b>4</b>    </td><td>0.0083                 </td><td>0.2                   </td><td>0.06                  </td><td>0.37                  </td><td>0.15                  </td><td>0.089                 </td><td>...</td><td>0.082                </td><td>0.21                 </td><td>0.31                 </td><td>0.37                 </td><td>0.33                 </td><td>0.32                 </td></tr>\n",
       "</tbody>\n",
       "</table>"
      ],
      "text/plain": [
       "GridArray(noname : [[0.22485057340696105 0.3249533232737013 0.36913780491396725\n",
       "  0.36994962261488973 0.00829373754378401]\n",
       " [0.12270444659976579 0.13369557558048423 0.09889068798507201\n",
       "  0.42820646380386096 0.2028273512395685]\n",
       " [0.4235483557065706 0.2148298880982494 0.26607926735869525\n",
       "  0.13434820988558682 0.05972679624309248]\n",
       " [0.24075484581278753 0.351173303742206 0.18802889817766197\n",
       "  0.029945435964339878 0.3700815470458383]\n",
       " [0.28460922783743825 0.09272536463697129 0.013421318109416727\n",
       "  0.1564770930458578 0.14847055095605186]\n",
       " [0.21715359127020015 0.16335486414249478 0.13631043233705392\n",
       "  0.3353603047225876 0.08867923476400005]\n",
       " [0.3993198370007235 0.08711673054219356 0.0999135968585721\n",
       "  0.2139191783039576 0.40647650695405796]\n",
       " [0.19106233356141253 0.3558843459904716 0.16067072005780647\n",
       "  0.10492127661206864 0.32545655029859516]\n",
       " [0.11690529639697371 0.27804279639257545 0.07099843094402339\n",
       "  0.16365311836500826 0.32924739659515684]\n",
       " [0.0163887837108065 0.04762008824362188 0.28175413706858604\n",
       "  0.35940718222910234 0.2540174853128707]\n",
       " [0.11849022453056238 0.04996032868393072 0.19206185410262852\n",
       "  0.24860381554070338 0.07513872751951439]\n",
       " [0.41743582081410946 0.2241998156449911 0.07457198558205708\n",
       "  0.062198318057696704 0.30023047806441394]\n",
       " [0.32135955947589356 0.4048197486151405 0.31867958452476514\n",
       "  0.17280909188028432 0.31702305979723466]\n",
       " [0.33283812804593327 0.06493288377642908 0.033560821665777056\n",
       "  0.11607669504815842 0.23329643779630385]\n",
       " [0.02221689259049466 0.30316399229867724 0.005647628456936003\n",
       "  0.018948136302322637 0.08155010124673853]\n",
       " [0.19874500008830998 0.01108245922370207 0.2395190245734154\n",
       "  0.24353116783443707 0.2086814641642836]\n",
       " [0.12989570700283454 0.030638048020145386 0.14198731414639193\n",
       "  0.25482811745320033 0.3079738256804699]\n",
       " [0.3373147018446848 0.1587077291142234 0.07901751824206552\n",
       "  0.3446775255150732 0.36996774139488325]\n",
       " [0.02101475117370505 0.30823663366684395 0.15676772918569287\n",
       "  0.07687908435120619 0.3271261145163018]\n",
       " [0.1303465249891242 0.2265264134452834 0.2583587868349666\n",
       "  0.14273080666609408 0.31525304231369056]])"
      ]
     },
     "execution_count": 86,
     "metadata": {},
     "output_type": "execute_result"
    }
   ],
   "source": [
    "np.log10(np.exp(np.fabs(a)))"
   ]
  },
  {
   "cell_type": "code",
   "execution_count": 123,
   "metadata": {},
   "outputs": [
    {
     "ename": "ValueError",
     "evalue": "not enough values to unpack (expected 2, got 1)",
     "output_type": "error",
     "traceback": [
      "\u001b[0;31m---------------------------------------------------------------------------\u001b[0m",
      "\u001b[0;31mValueError\u001b[0m                                Traceback (most recent call last)",
      "\u001b[0;32m~/anaconda3/lib/python3.7/site-packages/IPython/core/formatters.py\u001b[0m in \u001b[0;36m__call__\u001b[0;34m(self, obj)\u001b[0m\n\u001b[1;32m    343\u001b[0m             \u001b[0mmethod\u001b[0m \u001b[0;34m=\u001b[0m \u001b[0mget_real_method\u001b[0m\u001b[0;34m(\u001b[0m\u001b[0mobj\u001b[0m\u001b[0;34m,\u001b[0m \u001b[0mself\u001b[0m\u001b[0;34m.\u001b[0m\u001b[0mprint_method\u001b[0m\u001b[0;34m)\u001b[0m\u001b[0;34m\u001b[0m\u001b[0;34m\u001b[0m\u001b[0m\n\u001b[1;32m    344\u001b[0m             \u001b[0;32mif\u001b[0m \u001b[0mmethod\u001b[0m \u001b[0;32mis\u001b[0m \u001b[0;32mnot\u001b[0m \u001b[0;32mNone\u001b[0m\u001b[0;34m:\u001b[0m\u001b[0;34m\u001b[0m\u001b[0;34m\u001b[0m\u001b[0m\n\u001b[0;32m--> 345\u001b[0;31m                 \u001b[0;32mreturn\u001b[0m \u001b[0mmethod\u001b[0m\u001b[0;34m(\u001b[0m\u001b[0;34m)\u001b[0m\u001b[0;34m\u001b[0m\u001b[0;34m\u001b[0m\u001b[0m\n\u001b[0m\u001b[1;32m    346\u001b[0m             \u001b[0;32mreturn\u001b[0m \u001b[0;32mNone\u001b[0m\u001b[0;34m\u001b[0m\u001b[0;34m\u001b[0m\u001b[0m\n\u001b[1;32m    347\u001b[0m         \u001b[0;32melse\u001b[0m\u001b[0;34m:\u001b[0m\u001b[0;34m\u001b[0m\u001b[0;34m\u001b[0m\u001b[0m\n",
      "\u001b[0;32m~/pynocular/pynocular/griddata.py\u001b[0m in \u001b[0;36m_repr_html_\u001b[0;34m(self)\u001b[0m\n\u001b[1;32m    122\u001b[0m     \u001b[0;32mdef\u001b[0m \u001b[0m_repr_html_\u001b[0m\u001b[0;34m(\u001b[0m\u001b[0mself\u001b[0m\u001b[0;34m)\u001b[0m\u001b[0;34m:\u001b[0m\u001b[0;34m\u001b[0m\u001b[0;34m\u001b[0m\u001b[0m\n\u001b[1;32m    123\u001b[0m         \u001b[0;34m'''for jupyter'''\u001b[0m\u001b[0;34m\u001b[0m\u001b[0;34m\u001b[0m\u001b[0m\n\u001b[0;32m--> 124\u001b[0;31m         \u001b[0;32mreturn\u001b[0m \u001b[0mformat_html\u001b[0m\u001b[0;34m(\u001b[0m\u001b[0mself\u001b[0m\u001b[0;34m)\u001b[0m\u001b[0;34m\u001b[0m\u001b[0;34m\u001b[0m\u001b[0m\n\u001b[0m\u001b[1;32m    125\u001b[0m \u001b[0;34m\u001b[0m\u001b[0m\n\u001b[1;32m    126\u001b[0m     \u001b[0;32mdef\u001b[0m \u001b[0m__str__\u001b[0m\u001b[0;34m(\u001b[0m\u001b[0mself\u001b[0m\u001b[0;34m)\u001b[0m\u001b[0;34m:\u001b[0m\u001b[0;34m\u001b[0m\u001b[0;34m\u001b[0m\u001b[0m\n",
      "\u001b[0;32m~/pynocular/pynocular/utils/formatter.py\u001b[0m in \u001b[0;36mformat_html\u001b[0;34m(data)\u001b[0m\n\u001b[1;32m    156\u001b[0m     \u001b[0;32mif\u001b[0m \u001b[0misinstance\u001b[0m\u001b[0;34m(\u001b[0m\u001b[0mdata\u001b[0m\u001b[0;34m,\u001b[0m \u001b[0mpn\u001b[0m\u001b[0;34m.\u001b[0m\u001b[0mGridArray\u001b[0m\u001b[0;34m)\u001b[0m\u001b[0;34m:\u001b[0m\u001b[0;34m\u001b[0m\u001b[0;34m\u001b[0m\u001b[0m\n\u001b[1;32m    157\u001b[0m         \u001b[0;32mif\u001b[0m \u001b[0mdata\u001b[0m\u001b[0;34m.\u001b[0m\u001b[0mnaxes\u001b[0m \u001b[0;34m==\u001b[0m \u001b[0;36m2\u001b[0m\u001b[0;34m:\u001b[0m\u001b[0;34m\u001b[0m\u001b[0;34m\u001b[0m\u001b[0m\n\u001b[0;32m--> 158\u001b[0;31m             \u001b[0mtable\u001b[0m \u001b[0;34m=\u001b[0m \u001b[0mmake_2d_table\u001b[0m\u001b[0;34m(\u001b[0m\u001b[0mdata\u001b[0m\u001b[0;34m)\u001b[0m\u001b[0;34m\u001b[0m\u001b[0;34m\u001b[0m\u001b[0m\n\u001b[0m\u001b[1;32m    159\u001b[0m \u001b[0;34m\u001b[0m\u001b[0m\n\u001b[1;32m    160\u001b[0m         \u001b[0;32melif\u001b[0m \u001b[0mdata\u001b[0m\u001b[0;34m.\u001b[0m\u001b[0mnaxes\u001b[0m \u001b[0;34m==\u001b[0m \u001b[0;36m1\u001b[0m\u001b[0;34m:\u001b[0m\u001b[0;34m\u001b[0m\u001b[0;34m\u001b[0m\u001b[0m\n",
      "\u001b[0;32m~/pynocular/pynocular/utils/formatter.py\u001b[0m in \u001b[0;36mmake_2d_table\u001b[0;34m(data)\u001b[0m\n\u001b[1;32m    106\u001b[0m         \u001b[0mtable\u001b[0m\u001b[0;34m.\u001b[0m\u001b[0mappend\u001b[0m\u001b[0;34m(\u001b[0m\u001b[0;34m[\u001b[0m\u001b[0my_labels\u001b[0m\u001b[0;34m[\u001b[0m\u001b[0mi\u001b[0m\u001b[0;34m]\u001b[0m\u001b[0;34m]\u001b[0m \u001b[0;34m+\u001b[0m \u001b[0;34m[\u001b[0m\u001b[0;36m0\u001b[0m\u001b[0;34m]\u001b[0m \u001b[0;34m*\u001b[0m \u001b[0;34m(\u001b[0m\u001b[0mlen\u001b[0m\u001b[0;34m(\u001b[0m\u001b[0mx_labels\u001b[0m\u001b[0;34m)\u001b[0m\u001b[0;34m)\u001b[0m\u001b[0;34m)\u001b[0m\u001b[0;34m\u001b[0m\u001b[0;34m\u001b[0m\u001b[0m\n\u001b[1;32m    107\u001b[0m \u001b[0;34m\u001b[0m\u001b[0m\n\u001b[0;32m--> 108\u001b[0;31m     \u001b[0mn_data_cols\u001b[0m\u001b[0;34m,\u001b[0m \u001b[0mn_data_rows\u001b[0m \u001b[0;34m=\u001b[0m \u001b[0mdata\u001b[0m\u001b[0;34m.\u001b[0m\u001b[0mshape\u001b[0m\u001b[0;34m[\u001b[0m\u001b[0;34m:\u001b[0m\u001b[0;36m2\u001b[0m\u001b[0;34m]\u001b[0m\u001b[0;34m\u001b[0m\u001b[0;34m\u001b[0m\u001b[0m\n\u001b[0m\u001b[1;32m    109\u001b[0m \u001b[0;34m\u001b[0m\u001b[0m\n\u001b[1;32m    110\u001b[0m     \u001b[0;32mif\u001b[0m \u001b[0mn_data_rows\u001b[0m \u001b[0;34m>\u001b[0m \u001b[0mN_MAX\u001b[0m\u001b[0;34m:\u001b[0m\u001b[0;34m\u001b[0m\u001b[0;34m\u001b[0m\u001b[0m\n",
      "\u001b[0;31mValueError\u001b[0m: not enough values to unpack (expected 2, got 1)"
     ]
    },
    {
     "data": {
      "text/plain": [
       "GridArray(noname : [ 0.94029067  1.73231065  2.48200734  3.06721417  3.55667765  3.63390926\n",
       "  4.49706259  4.56963908  4.86852843  4.92867266  5.88463785  6.17367734\n",
       "  6.89154995  7.45661246  7.96712032  8.0416589   9.01615721  9.56464253\n",
       " 10.16810418 10.59121276 11.05875685 11.74499902 12.06277232 12.70868979\n",
       " 13.63589157 14.21570289 15.11283991 15.49290411 15.89492229 16.13646644\n",
       " 16.65275278 17.30346421 17.40197383 18.07081821 18.30647918 18.33387332\n",
       " 18.64312487 18.83909726 19.485787   20.28518008 21.02015403 21.95905461\n",
       " 22.62025631 22.69216921 23.22945938 23.28454526 23.47078578 23.6547028\n",
       " 24.34837978 24.51207116 25.04574536 25.14151827 26.03718407 26.39426901\n",
       " 27.14695312 27.44303541 27.72178412 27.85989865 28.72248849 29.46067974\n",
       " 30.24575097 30.46159924 31.11996642 31.90564824 31.9093818  32.81743173\n",
       " 33.13655277 33.41575754 34.0581075  34.264384   34.32265989 34.72041145\n",
       " 34.96484139 35.26499694 35.84990399 36.31712314 36.56908489 37.0163432\n",
       " 37.62027607 38.16251211 38.24728383 39.20719532 39.96974337 39.98387955\n",
       " 40.1052114  40.94858467 41.06580842 41.25722089 41.74610772 42.64195574\n",
       " 43.45475321 44.0400561  44.15040877 44.68586403 45.50065852 45.86202344\n",
       " 45.91597675 46.23150373 46.37625304 46.4373019 ])"
      ]
     },
     "execution_count": 123,
     "metadata": {},
     "output_type": "execute_result"
    }
   ],
   "source": []
  },
  {
   "cell_type": "code",
   "execution_count": 124,
   "metadata": {},
   "outputs": [
    {
     "data": {
      "text/html": [
       "<table>\n",
       "<tbody>\n",
       "<tr><td><b>x</b>     </td><td><b>[-0.5 | 0 | 0.5]</b>  </td><td><b>[0.5 | 1 | 1.5]</b>   </td><td><b>[1.5 | 2 | 2.5]</b>   </td><td><b>[2.5 | 3 | 3.5]</b>   </td><td><b>[3.5 | 4 | 4.5]</b>   </td><td><b>[4.5 | 5 | 5.5]</b>   </td><td>...</td><td><b>[14 | 14 | 14]</b>    </td><td><b>[14 | 15 | 16]</b>    </td><td><b>[16 | 16 | 16]</b>    </td><td><b>[16 | 17 | 18]</b>    </td><td><b>[18 | 18 | 18]</b>    </td><td><b>[18 | 19 | 20]</b>    </td></tr>\n",
       "<tr><td><b>noname</b></td><td>[0.94 1.73 ... 3.07 3.56]</td><td>[0.08 0.94 ... 1.31 1.37]</td><td>[0.96 1.25 ... 2.53 3.04]</td><td>[0.07 1.05 ... 2.2  2.62]</td><td>[0.47 1.15 ... 2.12 3.04]</td><td>[0.58 1.48 ... 2.26 2.5 ]</td><td>...</td><td>[0.06 0.46 ... 1.   1.59]</td><td>[0.47 0.72 ... 1.77 2.31]</td><td>[0.08 1.04 ... 1.82 1.94]</td><td>[0.84 0.96 ... 1.64 2.54]</td><td>[0.81 1.4  ... 2.04 2.86]</td><td>[0.36 0.42 ... 0.88 0.94]</td></tr>\n",
       "</tbody>\n",
       "</table>"
      ],
      "text/plain": [
       "GridArray(noname : [[0.94029067 1.73231065 2.48200734 3.06721417 3.55667765]\n",
       " [0.07723162 0.94038494 1.01296143 1.31185079 1.37199502]\n",
       " [0.95596518 1.24500467 1.96287729 2.5279398  3.03844765]\n",
       " [0.07453859 1.04903689 1.59752222 2.20098386 2.62409244]\n",
       " [0.46754409 1.15378626 1.47155956 2.11747703 3.04467881]\n",
       " [0.57981132 1.47694834 1.85701254 2.25903072 2.50057487]\n",
       " [0.51628634 1.16699777 1.26550739 1.93435177 2.17001274]\n",
       " [0.02739414 0.33664568 0.53261808 1.17930782 1.9787009 ]\n",
       " [0.73497395 1.67387453 2.33507623 2.40698913 2.9442793 ]\n",
       " [0.05508587 0.2413264  0.42524342 1.1189204  1.28261178]\n",
       " [0.53367419 0.62944711 1.52511291 1.88219785 2.63488196]\n",
       " [0.29608228 0.57483099 0.71294552 1.57553536 2.31372662]\n",
       " [0.78507123 1.0009195  1.65928668 2.4449685  2.44870206]\n",
       " [0.90804993 1.22717096 1.50637574 2.14872569 2.3550022 ]\n",
       " [0.05827589 0.45602744 0.70045739 1.00061294 1.58551999]\n",
       " [0.46721915 0.7191809  1.16643921 1.77037208 2.31260811]\n",
       " [0.08477172 1.04468321 1.80723127 1.82136744 1.94269929]\n",
       " [0.84337327 0.96059702 1.15200949 1.64089632 2.53674434]\n",
       " [0.81279748 1.39810036 1.50845303 2.0439083  2.85870279]\n",
       " [0.36136491 0.41531822 0.7308452  0.87559451 0.93664337]])"
      ]
     },
     "execution_count": 124,
     "metadata": {},
     "output_type": "execute_result"
    }
   ],
   "source": [
    "np.cumsum(a, axis='y')"
   ]
  },
  {
   "cell_type": "code",
   "execution_count": 125,
   "metadata": {},
   "outputs": [
    {
     "data": {
      "text/html": [
       "<table>\n",
       "<tbody>\n",
       "<tr><td><b>x</b>     </td><td><b>[18 | 19 | 20]</b></td><td><b>[16 | 17 | 18]</b></td><td><b>[14 | 15 | 16]</b></td><td><b>[12 | 13 | 14]</b></td><td><b>[10 | 11 | 12]</b></td><td><b>[8.5 | 9 | 9.5]</b></td><td><b>[6.5 | 7 | 7.5]</b></td><td><b>[4.5 | 5 | 5.5]</b></td><td><b>[2.5 | 3 | 3.5]</b></td><td><b>[0.5 | 1 | 1.5]</b></td></tr>\n",
       "<tr><td><b>noname</b></td><td>0.13                 </td><td>0.32                 </td><td>0.12                 </td><td>0.26                 </td><td>0.28                 </td><td>0.22                  </td><td>0.29                  </td><td>0.23                  </td><td>0.29                  </td><td>0.31                  </td></tr>\n",
       "</tbody>\n",
       "</table>"
      ],
      "text/plain": [
       "GridArray(noname : [0.12827470473623956 0.3213092738912151 0.11911509072123737\n",
       " 0.2646902352754195 0.2838177495545586 0.22383452930485317\n",
       " 0.28599916428014227 0.22577513086618847 0.2905352632778086\n",
       " 0.30748783600508384])"
      ]
     },
     "execution_count": 125,
     "metadata": {},
     "output_type": "execute_result"
    }
   ],
   "source": [
    "np.std(a, axis='y')[::-2]"
   ]
  },
  {
   "cell_type": "code",
   "execution_count": 126,
   "metadata": {},
   "outputs": [],
   "source": [
    "a[a > 0.5] *= 10"
   ]
  },
  {
   "cell_type": "code",
   "execution_count": 127,
   "metadata": {},
   "outputs": [
    {
     "data": {
      "text/html": [
       "<table>\n",
       "<tbody>\n",
       "<tr><td><b>x \\ y</b>           </td><td><b>0</b></td><td><b>1</b></td><td><b>2</b></td><td><b>3</b></td><td><b>4</b></td></tr>\n",
       "<tr><td><b>[-0.5 | 0 | 0.5]</b></td><td>9.4     </td><td>7.9     </td><td>7.5     </td><td>5.9     </td><td>0.49    </td></tr>\n",
       "<tr><td><b>[0.5 | 1 | 1.5]</b> </td><td>0.077   </td><td>8.6     </td><td>0.073   </td><td>0.3     </td><td>0.06    </td></tr>\n",
       "<tr><td><b>[1.5 | 2 | 2.5]</b> </td><td>9.6     </td><td>0.29    </td><td>7.2     </td><td>5.7     </td><td>5.1     </td></tr>\n",
       "<tr><td><b>[2.5 | 3 | 3.5]</b> </td><td>0.075   </td><td>9.7     </td><td>5.5     </td><td>6       </td><td>0.42    </td></tr>\n",
       "<tr><td><b>[3.5 | 4 | 4.5]</b> </td><td>0.47    </td><td>6.9     </td><td>0.32    </td><td>6.5     </td><td>9.3     </td></tr>\n",
       "<tr><td><b>[4.5 | 5 | 5.5]</b> </td><td>5.8     </td><td>9       </td><td>0.38    </td><td>0.4     </td><td>0.24    </td></tr>\n",
       "<tr><td>...                    </td><td>...     </td><td>...     </td><td>...     </td><td>...     </td><td>...     </td></tr>\n",
       "<tr><td><b>[14 | 14 | 14]</b>  </td><td>0.058   </td><td>0.4     </td><td>0.24    </td><td>0.3     </td><td>5.8     </td></tr>\n",
       "<tr><td><b>[14 | 15 | 16]</b>  </td><td>0.47    </td><td>0.25    </td><td>0.45    </td><td>6       </td><td>5.4     </td></tr>\n",
       "<tr><td><b>[16 | 16 | 16]</b>  </td><td>0.085   </td><td>9.6     </td><td>7.6     </td><td>0.014   </td><td>0.12    </td></tr>\n",
       "<tr><td><b>[16 | 17 | 18]</b>  </td><td>8.4     </td><td>0.12    </td><td>0.19    </td><td>0.49    </td><td>9       </td></tr>\n",
       "<tr><td><b>[18 | 18 | 18]</b>  </td><td>8.1     </td><td>5.9     </td><td>0.11    </td><td>5.4     </td><td>8.1     </td></tr>\n",
       "<tr><td><b>[18 | 19 | 20]</b>  </td><td>0.36    </td><td>0.054   </td><td>0.32    </td><td>0.14    </td><td>0.061   </td></tr>\n",
       "</tbody>\n",
       "</table>"
      ],
      "text/plain": [
       "GridArray(noname : [[9.40290675e+00 7.72316165e-02 9.55965183e+00 7.45385874e-02\n",
       "  4.67544091e-01 5.79811325e+00 5.16286342e+00 2.73941351e-02\n",
       "  7.34973946e+00 5.50858743e-02 5.33674194e+00 2.96082283e-01\n",
       "  7.85071232e+00 9.08049929e+00 5.82758871e-02 4.67219150e-01\n",
       "  8.47717186e-02 8.43373270e+00 8.12797477e+00 3.61364910e-01]\n",
       " [7.92019973e+00 8.63153328e+00 2.89039492e-01 9.74498305e+00\n",
       "  6.86242169e+00 8.97137014e+00 6.50711425e+00 3.09251548e-01\n",
       "  9.38900582e+00 1.86240527e-01 9.57729144e-02 2.78748711e-01\n",
       "  2.15848265e-01 3.19121032e-01 3.97751554e-01 2.51961751e-01\n",
       "  9.59911496e+00 1.17223750e-01 5.85302885e+00 5.39533104e-02]\n",
       " [7.49696692e+00 7.25764869e-02 7.17872614e+00 5.48485326e+00\n",
       "  3.17773297e-01 3.80064201e-01 9.85096258e-02 1.95972392e-01\n",
       "  6.61201699e+00 1.83917016e-01 8.95665801e+00 1.38114528e-01\n",
       "  6.58367183e+00 2.79204775e-01 2.44429948e-01 4.47258306e-01\n",
       "  7.62548052e+00 1.91412470e-01 1.10352669e-01 3.15526983e-01]\n",
       " [5.85206834e+00 2.98889356e-01 5.65062509e+00 6.03461643e+00\n",
       "  6.45917471e+00 4.02018177e-01 6.68844379e+00 6.46689743e+00\n",
       "  7.19129036e-02 6.93676980e+00 3.57084938e-01 8.62589841e+00\n",
       "  7.85681817e+00 6.42349955e+00 3.00155547e-01 6.03932870e+00\n",
       "  1.41361782e-02 4.88886833e-01 5.35455264e+00 1.44749306e-01]\n",
       " [4.89463471e-01 6.01442301e-02 5.10507856e+00 4.23108584e-01\n",
       "  9.27201780e+00 2.41544151e-01 2.35660972e-01 7.99393082e+00\n",
       "  5.37290170e+00 1.63691381e-01 7.52684114e+00 7.38191255e+00\n",
       "  3.73356635e-03 2.06276509e-01 5.84907052e+00 5.42236038e+00\n",
       "  1.21331849e-01 8.95848015e+00 8.14794492e+00 6.10488612e-02]])"
      ]
     },
     "execution_count": 127,
     "metadata": {},
     "output_type": "execute_result"
    }
   ],
   "source": [
    "a.T"
   ]
  },
  {
   "cell_type": "code",
   "execution_count": 48,
   "metadata": {},
   "outputs": [
    {
     "data": {
      "text/html": [
       "<table>\n",
       "<tbody>\n",
       "<tr><td><b>y \\ x</b></td><td><b>[2.5 | 3 | 3.5]</b></td><td><b>[3.5 | 4 | 4.5]</b></td></tr>\n",
       "<tr><td><b>0</b>    </td><td>9.5                   </td><td>8.4                   </td></tr>\n",
       "<tr><td><b>1</b>    </td><td>43                    </td><td>7.6                   </td></tr>\n",
       "<tr><td><b>2</b>    </td><td>9.3                   </td><td>24                    </td></tr>\n",
       "<tr><td><b>3</b>    </td><td>6.9                   </td><td>8.3                   </td></tr>\n",
       "<tr><td><b>4</b>    </td><td>6                     </td><td>6.2                   </td></tr>\n",
       "</tbody>\n",
       "</table>"
      ],
      "text/plain": [
       "GridArray(noname : [[ 9.52798582 43.4973796   9.34051829  6.89698967  5.99668414]\n",
       " [ 8.37992184  7.58680271 23.85570971  8.27163313  6.21833324]])"
      ]
     },
     "execution_count": 48,
     "metadata": {},
     "output_type": "execute_result"
    }
   ],
   "source": [
    "a[3:5]"
   ]
  },
  {
   "cell_type": "code",
   "execution_count": 52,
   "metadata": {},
   "outputs": [
    {
     "data": {
      "text/html": [
       "<table>\n",
       "<tbody>\n",
       "<tr><td><b>y</b>     </td><td><b>0</b></td><td><b>1</b></td><td><b>2</b></td><td><b>3</b></td><td><b>4</b></td></tr>\n",
       "<tr><td><b>noname</b></td><td>2.6e+02 </td><td>2.9e+02 </td><td>3.8e+02 </td><td>2.1e+02 </td><td>3.6e+02 </td></tr>\n",
       "</tbody>\n",
       "</table>"
      ],
      "text/plain": [
       "GridArray(noname : [256.35961124 288.31803594 377.4480668  205.9102254  363.36298254])"
      ]
     },
     "execution_count": 52,
     "metadata": {},
     "output_type": "execute_result"
    }
   ],
   "source": [
    "np.sum(a, axis=0)"
   ]
  },
  {
   "cell_type": "code",
   "execution_count": 54,
   "metadata": {},
   "outputs": [
    {
     "data": {
      "text/html": [
       "<table>\n",
       "<tbody>\n",
       "<tr><td><b>y \\ x</b></td><td><b>[-0.5 | 0 | 0.5]</b></td><td><b>[0.5 | 1 | 1.5]</b></td><td><b>[1.5 | 2 | 2.5]</b></td><td><b>[2.5 | 3 | 3.5]</b></td><td><b>[3.5 | 4 | 4.5]</b></td><td><b>[4.5 | 5 | 5.5]</b></td><td>...</td><td><b>[14 | 14 | 14]</b></td><td><b>[14 | 15 | 16]</b></td><td><b>[16 | 16 | 16]</b></td><td><b>[16 | 17 | 18]</b></td><td><b>[18 | 18 | 18]</b></td><td><b>[18 | 19 | 20]</b></td></tr>\n",
       "<tr><td><b>0</b>    </td><td>45                     </td><td>11                    </td><td>14                    </td><td>19                    </td><td>17                    </td><td>65                    </td><td>...</td><td>19                   </td><td>13                   </td><td>11                   </td><td>14                   </td><td>17                   </td><td>42                   </td></tr>\n",
       "<tr><td><b>1</b>    </td><td>46                     </td><td>12                    </td><td>14                    </td><td>87                    </td><td>15                    </td><td>22                    </td><td>...</td><td>16                   </td><td>13                   </td><td>60                   </td><td>0.25                 </td><td>53                   </td><td>68                   </td></tr>\n",
       "<tr><td><b>2</b>    </td><td>0.53                   </td><td>80                    </td><td>78                    </td><td>19                    </td><td>48                    </td><td>16                    </td><td>...</td><td>22                   </td><td>46                   </td><td>13                   </td><td>14                   </td><td>73                   </td><td>54                   </td></tr>\n",
       "<tr><td><b>3</b>    </td><td>42                     </td><td>87                    </td><td>0.94                  </td><td>14                    </td><td>17                    </td><td>16                    </td><td>...</td><td>14                   </td><td>18                   </td><td>0.83                 </td><td>17                   </td><td>0.75                 </td><td>11                   </td></tr>\n",
       "<tr><td><b>4</b>    </td><td>14                     </td><td>92                    </td><td>20                    </td><td>12                    </td><td>12                    </td><td>16                    </td><td>...</td><td>19                   </td><td>20                   </td><td>89                   </td><td>65                   </td><td>19                   </td><td>32                   </td></tr>\n",
       "</tbody>\n",
       "</table>"
      ],
      "text/plain": [
       "GridArray(noname : [[45.47811478 45.706479    0.52845548 42.12316125 14.2766544 ]\n",
       " [11.25904402 11.77017832 79.70579063 86.53393305 92.16097635]\n",
       " [14.20611154 13.87158392 78.48376504  0.93997064 19.88195884]\n",
       " [19.05597164 86.99475919 18.68103659 13.79397933 11.99336827]\n",
       " [16.75984368 15.17360543 47.71141942 16.54326626 12.43666647]\n",
       " [65.21116424 22.19768134 15.70783322 15.89429074 16.41839842]\n",
       " [15.53873813 96.26061262 13.53151367 19.16121652 66.00694125]\n",
       " [40.03123255 14.77953077 45.29566493 70.67184211 68.34401182]\n",
       " [93.63028731  0.74711847 14.97870028 10.06730778 17.19575213]\n",
       " [10.42539435 11.57627994 18.9562908  18.98394774 55.76341815]\n",
       " [ 0.9704821  18.63989469 30.72068634 14.76564748 39.60688172]\n",
       " [18.55220009 14.84798858 70.31710629 11.22818099 15.97927864]\n",
       " [15.91020629  0.60473726 82.87437699 18.49549445 38.3789323 ]\n",
       " [29.68042017 13.36815733 15.397396   12.07440607 14.81297628]\n",
       " [19.29783481 15.93135102 21.73173143 13.55329291 19.02303471]\n",
       " [13.07343232 13.25273764 46.39977999 17.68788222 19.95362998]\n",
       " [10.72137865 59.95912198 12.63757904  0.83001963 89.42893959]\n",
       " [14.0347887   0.25018907 14.05504142 17.04126729 64.77579693]\n",
       " [16.94648697 52.79636609 73.24401862  0.7501324  18.62083887]\n",
       " [41.93609013 67.9076992  53.93794742 10.68121193 31.66750996]])"
      ]
     },
     "execution_count": 54,
     "metadata": {},
     "output_type": "execute_result"
    }
   ],
   "source": [
    "a * 2"
   ]
  },
  {
   "cell_type": "code",
   "execution_count": 55,
   "metadata": {},
   "outputs": [],
   "source": [
    "m = np.ma.masked_array(np.arange(10))"
   ]
  },
  {
   "cell_type": "code",
   "execution_count": 56,
   "metadata": {},
   "outputs": [],
   "source": [
    "m.mask = m < 6"
   ]
  },
  {
   "cell_type": "code",
   "execution_count": 57,
   "metadata": {},
   "outputs": [
    {
     "data": {
      "text/plain": [
       "array([ 0,  1,  2,  3,  4,  5, 18, 21, 24, 27])"
      ]
     },
     "execution_count": 57,
     "metadata": {},
     "output_type": "execute_result"
    }
   ],
   "source": [
    "(m * 3).data"
   ]
  },
  {
   "cell_type": "code",
   "execution_count": 58,
   "metadata": {},
   "outputs": [
    {
     "ename": "TypeError",
     "evalue": "data type not understood",
     "output_type": "error",
     "traceback": [
      "\u001b[0;31m---------------------------------------------------------------------------\u001b[0m",
      "\u001b[0;31mTypeError\u001b[0m                                 Traceback (most recent call last)",
      "\u001b[0;32m<ipython-input-58-09fcd928dfab>\u001b[0m in \u001b[0;36m<module>\u001b[0;34m\u001b[0m\n\u001b[1;32m      1\u001b[0m \u001b[0;31m# add something\u001b[0m\u001b[0;34m\u001b[0m\u001b[0;34m\u001b[0m\u001b[0;34m\u001b[0m\u001b[0m\n\u001b[0;32m----> 2\u001b[0;31m \u001b[0mg\u001b[0m\u001b[0;34m[\u001b[0m\u001b[0;34m'a'\u001b[0m\u001b[0;34m]\u001b[0m \u001b[0;34m=\u001b[0m \u001b[0mnp\u001b[0m\u001b[0;34m.\u001b[0m\u001b[0mrandom\u001b[0m\u001b[0;34m.\u001b[0m\u001b[0mrand\u001b[0m\u001b[0;34m(\u001b[0m\u001b[0mg\u001b[0m\u001b[0;34m.\u001b[0m\u001b[0mgrid\u001b[0m\u001b[0;34m.\u001b[0m\u001b[0msize\u001b[0m\u001b[0;34m)\u001b[0m\u001b[0;34m.\u001b[0m\u001b[0mreshape\u001b[0m\u001b[0;34m(\u001b[0m\u001b[0mg\u001b[0m\u001b[0;34m.\u001b[0m\u001b[0mshape\u001b[0m\u001b[0;34m)\u001b[0m\u001b[0;34m\u001b[0m\u001b[0;34m\u001b[0m\u001b[0m\n\u001b[0m",
      "\u001b[0;32m~/pynocular/pynocular/griddata.py\u001b[0m in \u001b[0;36m__setitem__\u001b[0;34m(self, var, val)\u001b[0m\n\u001b[1;32m    311\u001b[0m \u001b[0;34m\u001b[0m\u001b[0m\n\u001b[1;32m    312\u001b[0m     \u001b[0;32mdef\u001b[0m \u001b[0m__setitem__\u001b[0m\u001b[0;34m(\u001b[0m\u001b[0mself\u001b[0m\u001b[0;34m,\u001b[0m \u001b[0mvar\u001b[0m\u001b[0;34m,\u001b[0m \u001b[0mval\u001b[0m\u001b[0;34m)\u001b[0m\u001b[0;34m:\u001b[0m\u001b[0;34m\u001b[0m\u001b[0;34m\u001b[0m\u001b[0m\n\u001b[0;32m--> 313\u001b[0;31m         \u001b[0mself\u001b[0m\u001b[0;34m.\u001b[0m\u001b[0madd_data\u001b[0m\u001b[0;34m(\u001b[0m\u001b[0mvar\u001b[0m\u001b[0;34m,\u001b[0m \u001b[0mval\u001b[0m\u001b[0;34m)\u001b[0m\u001b[0;34m\u001b[0m\u001b[0;34m\u001b[0m\u001b[0m\n\u001b[0m\u001b[1;32m    314\u001b[0m \u001b[0;34m\u001b[0m\u001b[0m\n\u001b[1;32m    315\u001b[0m     \u001b[0;32mdef\u001b[0m \u001b[0m__getitem__\u001b[0m\u001b[0;34m(\u001b[0m\u001b[0mself\u001b[0m\u001b[0;34m,\u001b[0m \u001b[0mitem\u001b[0m\u001b[0;34m)\u001b[0m\u001b[0;34m:\u001b[0m\u001b[0;34m\u001b[0m\u001b[0;34m\u001b[0m\u001b[0m\n",
      "\u001b[0;32m~/pynocular/pynocular/griddata.py\u001b[0m in \u001b[0;36madd_data\u001b[0;34m(self, var, data)\u001b[0m\n\u001b[1;32m    454\u001b[0m             \u001b[0mdata\u001b[0m \u001b[0;34m=\u001b[0m \u001b[0mdata\u001b[0m\u001b[0;34m[\u001b[0m\u001b[0;34m...\u001b[0m\u001b[0;34m,\u001b[0m \u001b[0mnp\u001b[0m\u001b[0;34m.\u001b[0m\u001b[0mnewaxis\u001b[0m\u001b[0;34m]\u001b[0m\u001b[0;34m\u001b[0m\u001b[0;34m\u001b[0m\u001b[0m\n\u001b[1;32m    455\u001b[0m \u001b[0;34m\u001b[0m\u001b[0m\n\u001b[0;32m--> 456\u001b[0;31m         \u001b[0mdata\u001b[0m \u001b[0;34m=\u001b[0m \u001b[0mpn\u001b[0m\u001b[0;34m.\u001b[0m\u001b[0mGridArray\u001b[0m\u001b[0;34m(\u001b[0m\u001b[0mself\u001b[0m\u001b[0;34m.\u001b[0m\u001b[0mgrid\u001b[0m\u001b[0;34m,\u001b[0m \u001b[0mvar\u001b[0m\u001b[0;34m,\u001b[0m \u001b[0mdata\u001b[0m\u001b[0;34m)\u001b[0m\u001b[0;34m\u001b[0m\u001b[0;34m\u001b[0m\u001b[0m\n\u001b[0m\u001b[1;32m    457\u001b[0m \u001b[0;34m\u001b[0m\u001b[0m\n\u001b[1;32m    458\u001b[0m         \u001b[0;32mif\u001b[0m \u001b[0;32mnot\u001b[0m \u001b[0mdata\u001b[0m\u001b[0;34m.\u001b[0m\u001b[0mshape\u001b[0m\u001b[0;34m[\u001b[0m\u001b[0;34m:\u001b[0m\u001b[0mself\u001b[0m\u001b[0;34m.\u001b[0m\u001b[0mndim\u001b[0m\u001b[0;34m]\u001b[0m \u001b[0;34m==\u001b[0m \u001b[0mself\u001b[0m\u001b[0;34m.\u001b[0m\u001b[0mshape\u001b[0m\u001b[0;34m:\u001b[0m\u001b[0;34m\u001b[0m\u001b[0;34m\u001b[0m\u001b[0m\n",
      "\u001b[0;32m~/pynocular/pynocular/griddata.py\u001b[0m in \u001b[0;36m__new__\u001b[0;34m(cls, input_array, grid, *args, **kwargs)\u001b[0m\n\u001b[1;32m     92\u001b[0m     \u001b[0;32mdef\u001b[0m \u001b[0m__new__\u001b[0m\u001b[0;34m(\u001b[0m\u001b[0mcls\u001b[0m\u001b[0;34m,\u001b[0m \u001b[0minput_array\u001b[0m\u001b[0;34m,\u001b[0m \u001b[0;34m*\u001b[0m\u001b[0margs\u001b[0m\u001b[0;34m,\u001b[0m \u001b[0mgrid\u001b[0m\u001b[0;34m=\u001b[0m\u001b[0;32mNone\u001b[0m\u001b[0;34m,\u001b[0m \u001b[0;34m**\u001b[0m\u001b[0mkwargs\u001b[0m\u001b[0;34m)\u001b[0m\u001b[0;34m:\u001b[0m\u001b[0;34m\u001b[0m\u001b[0;34m\u001b[0m\u001b[0m\n\u001b[1;32m     93\u001b[0m         \u001b[0;31m#print(type(input_array))\u001b[0m\u001b[0;34m\u001b[0m\u001b[0;34m\u001b[0m\u001b[0;34m\u001b[0m\u001b[0m\n\u001b[0;32m---> 94\u001b[0;31m         \u001b[0msuper\u001b[0m\u001b[0;34m(\u001b[0m\u001b[0;34m)\u001b[0m\u001b[0;34m.\u001b[0m\u001b[0m__new__\u001b[0m\u001b[0;34m(\u001b[0m\u001b[0mcls\u001b[0m\u001b[0;34m,\u001b[0m \u001b[0minput_array\u001b[0m\u001b[0;34m,\u001b[0m \u001b[0;34m*\u001b[0m\u001b[0margs\u001b[0m\u001b[0;34m,\u001b[0m \u001b[0;34m**\u001b[0m\u001b[0mkwargs\u001b[0m\u001b[0;34m)\u001b[0m\u001b[0;34m\u001b[0m\u001b[0;34m\u001b[0m\u001b[0m\n\u001b[0m\u001b[1;32m     95\u001b[0m         \u001b[0;31m#print('new: args, kwargs', args, kwargs)\u001b[0m\u001b[0;34m\u001b[0m\u001b[0;34m\u001b[0m\u001b[0;34m\u001b[0m\u001b[0m\n\u001b[1;32m     96\u001b[0m         \u001b[0mobj\u001b[0m \u001b[0;34m=\u001b[0m \u001b[0mnp\u001b[0m\u001b[0;34m.\u001b[0m\u001b[0mma\u001b[0m\u001b[0;34m.\u001b[0m\u001b[0masarray\u001b[0m\u001b[0;34m(\u001b[0m\u001b[0minput_array\u001b[0m\u001b[0;34m)\u001b[0m\u001b[0;34m.\u001b[0m\u001b[0mview\u001b[0m\u001b[0;34m(\u001b[0m\u001b[0mcls\u001b[0m\u001b[0;34m,\u001b[0m \u001b[0;34m*\u001b[0m\u001b[0margs\u001b[0m\u001b[0;34m,\u001b[0m \u001b[0;34m**\u001b[0m\u001b[0mkwargs\u001b[0m\u001b[0;34m)\u001b[0m\u001b[0;34m\u001b[0m\u001b[0;34m\u001b[0m\u001b[0m\n",
      "\u001b[0;32m~/anaconda3/lib/python3.7/site-packages/numpy/ma/core.py\u001b[0m in \u001b[0;36m__new__\u001b[0;34m(cls, data, mask, dtype, copy, subok, ndmin, fill_value, keep_mask, hard_mask, shrink, order, **options)\u001b[0m\n\u001b[1;32m   2786\u001b[0m         \u001b[0;31m# Process data.\u001b[0m\u001b[0;34m\u001b[0m\u001b[0;34m\u001b[0m\u001b[0;34m\u001b[0m\u001b[0m\n\u001b[1;32m   2787\u001b[0m         _data = np.array(data, dtype=dtype, copy=copy,\n\u001b[0;32m-> 2788\u001b[0;31m                          order=order, subok=True, ndmin=ndmin)\n\u001b[0m\u001b[1;32m   2789\u001b[0m         \u001b[0m_baseclass\u001b[0m \u001b[0;34m=\u001b[0m \u001b[0mgetattr\u001b[0m\u001b[0;34m(\u001b[0m\u001b[0mdata\u001b[0m\u001b[0;34m,\u001b[0m \u001b[0;34m'_baseclass'\u001b[0m\u001b[0;34m,\u001b[0m \u001b[0mtype\u001b[0m\u001b[0;34m(\u001b[0m\u001b[0m_data\u001b[0m\u001b[0;34m)\u001b[0m\u001b[0;34m)\u001b[0m\u001b[0;34m\u001b[0m\u001b[0;34m\u001b[0m\u001b[0m\n\u001b[1;32m   2790\u001b[0m         \u001b[0;31m# Check that we're not erasing the mask.\u001b[0m\u001b[0;34m\u001b[0m\u001b[0;34m\u001b[0m\u001b[0;34m\u001b[0m\u001b[0m\n",
      "\u001b[0;31mTypeError\u001b[0m: data type not understood"
     ]
    }
   ],
   "source": [
    "# add something\n",
    "g['a'] = np.random.rand(g.grid.size).reshape(g.shape)"
   ]
  },
  {
   "cell_type": "code",
   "execution_count": 100,
   "metadata": {},
   "outputs": [
    {
     "data": {
      "text/plain": [
       "array(GridData(Grid(\n",
       "Axis(\"x\",\n",
       "points = array([ 0,  1,  2,  3,  4,  5,  6,  7,  8,  9, 10, 11, 12, 13, 14, 15, 16,\n",
       "       17, 18, 19]),\n",
       "edges = edges: array([[-0.5,  0.5],\n",
       "       [ 0.5,  1.5],\n",
       "       [ 1.5,  2.5],\n",
       "       [ 2.5,  3.5],\n",
       "       [ 3.5,  4.5],\n",
       "       [ 4.5,  5.5],\n",
       "       [ 5.5,  6.5],\n",
       "       [ 6.5,  7.5],\n",
       "       [ 7.5,  8.5],\n",
       "       [ 8.5,  9.5],\n",
       "       [ 9.5, 10.5],\n",
       "       [10.5, 11.5],\n",
       "       [11.5, 12.5],\n",
       "       [12.5, 13.5],\n",
       "       [13.5, 14.5],\n",
       "       [14.5, 15.5],\n",
       "       [15.5, 16.5],\n",
       "       [16.5, 17.5],\n",
       "       [17.5, 18.5],\n",
       "       [18.5, 19.5]]))\n",
       "nbins = 20),\n",
       "Axis(\"y\",\n",
       "points = array([0, 1, 2, 3, 4]),\n",
       "edges = edges: None)\n",
       "nbins = 5),)\n",
       "[]), dtype=object)"
      ]
     },
     "execution_count": 100,
     "metadata": {},
     "output_type": "execute_result"
    }
   ],
   "source": [
    "np.asanyarray(g['a'])"
   ]
  },
  {
   "cell_type": "code",
   "execution_count": 32,
   "metadata": {},
   "outputs": [
    {
     "data": {
      "text/html": [
       "<table>\n",
       "<tbody>\n",
       "<tr><td><b>y \\ x</b></td><td><b>[-0.5 | 0 | 0.5]</b></td><td><b>[0.5 | 1 | 1.5]</b></td><td><b>[1.5 | 2 | 2.5]</b></td><td><b>[2.5 | 3 | 3.5]</b></td><td><b>[3.5 | 4 | 4.5]</b></td><td><b>[4.5 | 5 | 5.5]</b></td><td>...</td><td><b>[14 | 14 | 14]</b></td><td><b>[14 | 15 | 16]</b></td><td><b>[16 | 16 | 16]</b></td><td><b>[16 | 17 | 18]</b></td><td><b>[18 | 18 | 18]</b></td><td><b>[18 | 19 | 20]</b></td></tr>\n",
       "<tr><td><b>0</b>    </td><td>a = 0.93<br>b = 1      </td><td>a = 0.55<br>b = 1     </td><td>a = 0.74<br>b = 1     </td><td>a = 0.16<br>b = 1     </td><td>a = 0.85<br>b = 1     </td><td>a = 0.56<br>b = 1     </td><td>...</td><td>a = 0.66<br>b = 1    </td><td>a = 0.23<br>b = 1    </td><td>a = 0.97<br>b = 1    </td><td>a = 0.55<br>b = 1    </td><td>a = 0.77<br>b = 1    </td><td>a = 0.26<br>b = 1    </td></tr>\n",
       "<tr><td><b>1</b>    </td><td>a = 0.67<br>b = 1      </td><td>a = 0.28<br>b = 1     </td><td>a = 0.35<br>b = 1     </td><td>a = 0.084<br>b = 1    </td><td>a = 1<br>b = 1        </td><td>a = 0.47<br>b = 1     </td><td>...</td><td>a = 0.4<br>b = 1     </td><td>a = 0.51<br>b = 1    </td><td>a = 0.65<br>b = 1    </td><td>a = 0.43<br>b = 1    </td><td>a = 0.27<br>b = 1    </td><td>a = 0.94<br>b = 1    </td></tr>\n",
       "<tr><td><b>2</b>    </td><td>a = 0.24<br>b = 1      </td><td>a = 0.3<br>b = 1      </td><td>a = 0.88<br>b = 1     </td><td>a = 0.89<br>b = 1     </td><td>a = 0.52<br>b = 1     </td><td>a = 0.7<br>b = 1      </td><td>...</td><td>a = 0.65<br>b = 1    </td><td>a = 0.56<br>b = 1    </td><td>a = 0.75<br>b = 1    </td><td>a = 0.95<br>b = 1    </td><td>a = 0.28<br>b = 1    </td><td>a = 0.98<br>b = 1    </td></tr>\n",
       "<tr><td><b>3</b>    </td><td>a = 0.16<br>b = 1      </td><td>a = 0.94<br>b = 1     </td><td>a = 0.22<br>b = 1     </td><td>a = 0.048<br>b = 1    </td><td>a = 0.79<br>b = 1     </td><td>a = 0.98<br>b = 1     </td><td>...</td><td>a = 0.14<br>b = 1    </td><td>a = 0.67<br>b = 1    </td><td>a = 0.34<br>b = 1    </td><td>a = 0.28<br>b = 1    </td><td>a = 0.52<br>b = 1    </td><td>a = 0.33<br>b = 1    </td></tr>\n",
       "<tr><td><b>4</b>    </td><td>a = 0.017<br>b = 1     </td><td>a = 0.86<br>b = 1     </td><td>a = 0.53<br>b = 1     </td><td>a = 0.71<br>b = 1     </td><td>a = 0.7<br>b = 1      </td><td>a = 0.97<br>b = 1     </td><td>...</td><td>a = 0.59<br>b = 1    </td><td>a = 0.75<br>b = 1    </td><td>a = 0.37<br>b = 1    </td><td>a = 0.99<br>b = 1    </td><td>a = 0.065<br>b = 1   </td><td>a = 0.58<br>b = 1    </td></tr>\n",
       "</tbody>\n",
       "</table>"
      ],
      "text/plain": [
       "GridData(Grid(\n",
       "Axis(\"x\",\n",
       "points = array([ 0,  1,  2,  3,  4,  5,  6,  7,  8,  9, 10, 11, 12, 13, 14, 15, 16,\n",
       "       17, 18, 19]),\n",
       "edges = edges: array([[-0.5,  0.5],\n",
       "       [ 0.5,  1.5],\n",
       "       [ 1.5,  2.5],\n",
       "       [ 2.5,  3.5],\n",
       "       [ 3.5,  4.5],\n",
       "       [ 4.5,  5.5],\n",
       "       [ 5.5,  6.5],\n",
       "       [ 6.5,  7.5],\n",
       "       [ 7.5,  8.5],\n",
       "       [ 8.5,  9.5],\n",
       "       [ 9.5, 10.5],\n",
       "       [10.5, 11.5],\n",
       "       [11.5, 12.5],\n",
       "       [12.5, 13.5],\n",
       "       [13.5, 14.5],\n",
       "       [14.5, 15.5],\n",
       "       [15.5, 16.5],\n",
       "       [16.5, 17.5],\n",
       "       [17.5, 18.5],\n",
       "       [18.5, 19.5]]))\n",
       "nbins = 20),\n",
       "Axis(\"y\",\n",
       "points = array([0, 1, 2, 3, 4]),\n",
       "edges = edges: None)\n",
       "nbins = 5),)\n",
       "[GridArray(a : [[0.92923727 0.66677596 0.23727435 0.1610907  0.01653312]\n",
       " [0.55190353 0.27774722 0.29892989 0.93888069 0.85850405]\n",
       " [0.73551706 0.35244653 0.8760508  0.21956474 0.53441049]\n",
       " [0.15723997 0.08435455 0.88621504 0.04831482 0.71454138]\n",
       " [0.85049881 0.99898884 0.52455096 0.7870131  0.69769233]\n",
       " [0.55569202 0.47328259 0.70182388 0.97605759 0.97067788]\n",
       " [0.35147541 0.53804803 0.42583771 0.34038949 0.67097437]\n",
       " [0.99991814 0.40016164 0.9862341  0.22136795 0.00428525]\n",
       " [0.1870811  0.55282106 0.89642015 0.02093399 0.89793334]\n",
       " [0.32208858 0.86061124 0.16765693 0.39742282 0.26526869]\n",
       " [0.55569622 0.82761335 0.09299961 0.60893835 0.49450812]\n",
       " [0.35534096 0.54596017 0.43240258 0.9995946  0.32889435]\n",
       " [0.9596192  0.34237546 0.67684045 0.36497417 0.14907469]\n",
       " [0.33104808 0.03411093 0.13289779 0.8052429  0.65576376]\n",
       " [0.66148267 0.397798   0.65264809 0.14355531 0.58967196]\n",
       " [0.22599018 0.5112301  0.55603438 0.66878642 0.75357486]\n",
       " [0.97331045 0.6453644  0.74637954 0.34437067 0.37256701]\n",
       " [0.55422566 0.43232625 0.94590443 0.28158927 0.98584402]\n",
       " [0.76719059 0.269261   0.28188932 0.52344498 0.06515638]\n",
       " [0.25834844 0.93810894 0.97695424 0.33338629 0.58261418]]), GridArray(b : [[1. 1. 1. 1. 1.]\n",
       " [1. 1. 1. 1. 1.]\n",
       " [1. 1. 1. 1. 1.]\n",
       " [1. 1. 1. 1. 1.]\n",
       " [1. 1. 1. 1. 1.]\n",
       " [1. 1. 1. 1. 1.]\n",
       " [1. 1. 1. 1. 1.]\n",
       " [1. 1. 1. 1. 1.]\n",
       " [1. 1. 1. 1. 1.]\n",
       " [1. 1. 1. 1. 1.]\n",
       " [1. 1. 1. 1. 1.]\n",
       " [1. 1. 1. 1. 1.]\n",
       " [1. 1. 1. 1. 1.]\n",
       " [1. 1. 1. 1. 1.]\n",
       " [1. 1. 1. 1. 1.]\n",
       " [1. 1. 1. 1. 1.]\n",
       " [1. 1. 1. 1. 1.]\n",
       " [1. 1. 1. 1. 1.]\n",
       " [1. 1. 1. 1. 1.]\n",
       " [1. 1. 1. 1. 1.]])])"
      ]
     },
     "execution_count": 32,
     "metadata": {},
     "output_type": "execute_result"
    }
   ],
   "source": [
    "g"
   ]
  },
  {
   "cell_type": "code",
   "execution_count": 33,
   "metadata": {},
   "outputs": [
    {
     "name": "stdout",
     "output_type": "stream",
     "text": [
      "new  <class 'pynocular.griddata.GridArray'> (points) [ 0  1  2  3  4  5  6  7  8  9 10 11 12 13 14 15 16 17 18 19]\n",
      "(edges)  [[-0.5  0.5]\n",
      " [ 0.5  1.5]\n",
      " [ 1.5  2.5]\n",
      " [ 2.5  3.5]\n",
      " [ 3.5  4.5]\n",
      " [ 4.5  5.5]\n",
      " [ 5.5  6.5]\n",
      " [ 6.5  7.5]\n",
      " [ 7.5  8.5]\n",
      " [ 8.5  9.5]\n",
      " [ 9.5 10.5]\n",
      " [10.5 11.5]\n",
      " [11.5 12.5]\n",
      " [12.5 13.5]\n",
      " [13.5 14.5]\n",
      " [14.5 15.5]\n",
      " [15.5 16.5]\n",
      " [16.5 17.5]\n",
      " [17.5 18.5]\n",
      " [18.5 19.5]]\n",
      "(nbins)  20\n",
      "(points) [0 1 2 3 4]\n",
      "(edges)  None\n",
      "(nbins)  5 b [[1. 1. 1. 1. 1.]\n",
      " [1. 1. 1. 1. 1.]\n",
      " [1. 1. 1. 1. 1.]\n",
      " [1. 1. 1. 1. 1.]\n",
      " [1. 1. 1. 1. 1.]\n",
      " [1. 1. 1. 1. 1.]\n",
      " [1. 1. 1. 1. 1.]\n",
      " [1. 1. 1. 1. 1.]\n",
      " [1. 1. 1. 1. 1.]\n",
      " [1. 1. 1. 1. 1.]\n",
      " [1. 1. 1. 1. 1.]\n",
      " [1. 1. 1. 1. 1.]\n",
      " [1. 1. 1. 1. 1.]\n",
      " [1. 1. 1. 1. 1.]\n",
      " [1. 1. 1. 1. 1.]\n",
      " [1. 1. 1. 1. 1.]\n",
      " [1. 1. 1. 1. 1.]\n",
      " [1. 1. 1. 1. 1.]\n",
      " [1. 1. 1. 1. 1.]\n",
      " [1. 1. 1. 1. 1.]]\n",
      "finalize\n"
     ]
    }
   ],
   "source": [
    "g['b'] = np.ones(g.shape)"
   ]
  },
  {
   "cell_type": "code",
   "execution_count": 34,
   "metadata": {},
   "outputs": [
    {
     "data": {
      "text/plain": [
       "(20, 5)"
      ]
     },
     "execution_count": 34,
     "metadata": {},
     "output_type": "execute_result"
    }
   ],
   "source": [
    "g.shape"
   ]
  },
  {
   "cell_type": "code",
   "execution_count": 35,
   "metadata": {},
   "outputs": [
    {
     "name": "stdout",
     "output_type": "stream",
     "text": [
      "new  <class 'pynocular.griddata.GridArray'> (points) [ 0  1  2  3  4  5  6  7  8  9 10 11 12 13 14 15 16 17 18 19]\n",
      "(edges)  [[-0.5  0.5]\n",
      " [ 0.5  1.5]\n",
      " [ 1.5  2.5]\n",
      " [ 2.5  3.5]\n",
      " [ 3.5  4.5]\n",
      " [ 4.5  5.5]\n",
      " [ 5.5  6.5]\n",
      " [ 6.5  7.5]\n",
      " [ 7.5  8.5]\n",
      " [ 8.5  9.5]\n",
      " [ 9.5 10.5]\n",
      " [10.5 11.5]\n",
      " [11.5 12.5]\n",
      " [12.5 13.5]\n",
      " [13.5 14.5]\n",
      " [14.5 15.5]\n",
      " [15.5 16.5]\n",
      " [16.5 17.5]\n",
      " [17.5 18.5]\n",
      " [18.5 19.5]]\n",
      "(nbins)  20\n",
      "(points) [0 1 2 3 4]\n",
      "(edges)  None\n",
      "(nbins)  5 b b : [[1. 1. 1. 1. 1.]\n",
      " [1. 1. 1. 1. 1.]\n",
      " [1. 1. 1. 1. 1.]\n",
      " [1. 1. 1. 1. 1.]\n",
      " [1. 1. 1. 1. 1.]\n",
      " [1. 1. 1. 1. 1.]\n",
      " [1. 1. 1. 1. 1.]\n",
      " [1. 1. 1. 1. 1.]\n",
      " [1. 1. 1. 1. 1.]\n",
      " [1. 1. 1. 1. 1.]\n",
      " [1. 1. 1. 1. 1.]\n",
      " [1. 1. 1. 1. 1.]\n",
      " [1. 1. 1. 1. 1.]\n",
      " [1. 1. 1. 1. 1.]\n",
      " [1. 1. 1. 1. 1.]\n",
      " [1. 1. 1. 1. 1.]\n",
      " [1. 1. 1. 1. 1.]\n",
      " [1. 1. 1. 1. 1.]\n",
      " [1. 1. 1. 1. 1.]\n",
      " [1. 1. 1. 1. 1.]]\n",
      "finalize\n",
      "new  <class 'pynocular.griddata.GridArray'> (points) [0 1 2 3 4]\n",
      "(edges)  None\n",
      "(nbins)  5\n",
      "(points) [ 0  1  2  3  4  5  6  7  8  9 10 11 12 13 14 15 16 17 18 19]\n",
      "(edges)  [[-0.5  0.5]\n",
      " [ 0.5  1.5]\n",
      " [ 1.5  2.5]\n",
      " [ 2.5  3.5]\n",
      " [ 3.5  4.5]\n",
      " [ 4.5  5.5]\n",
      " [ 5.5  6.5]\n",
      " [ 6.5  7.5]\n",
      " [ 7.5  8.5]\n",
      " [ 8.5  9.5]\n",
      " [ 9.5 10.5]\n",
      " [10.5 11.5]\n",
      " [11.5 12.5]\n",
      " [12.5 13.5]\n",
      " [13.5 14.5]\n",
      " [14.5 15.5]\n",
      " [15.5 16.5]\n",
      " [16.5 17.5]\n",
      " [17.5 18.5]\n",
      " [18.5 19.5]]\n",
      "(nbins)  20 b [[1. 1. 1. 1. 1. 1. 1. 1. 1. 1. 1. 1. 1. 1. 1. 1. 1. 1. 1. 1.]\n",
      " [1. 1. 1. 1. 1. 1. 1. 1. 1. 1. 1. 1. 1. 1. 1. 1. 1. 1. 1. 1.]\n",
      " [1. 1. 1. 1. 1. 1. 1. 1. 1. 1. 1. 1. 1. 1. 1. 1. 1. 1. 1. 1.]\n",
      " [1. 1. 1. 1. 1. 1. 1. 1. 1. 1. 1. 1. 1. 1. 1. 1. 1. 1. 1. 1.]\n",
      " [1. 1. 1. 1. 1. 1. 1. 1. 1. 1. 1. 1. 1. 1. 1. 1. 1. 1. 1. 1.]]\n",
      "finalize\n",
      "new  <class 'pynocular.griddata.GridArray'> (points) [0 1 2 3 4]\n",
      "(edges)  None\n",
      "(nbins)  5\n",
      "(points) [ 0  1  2  3  4  5  6  7  8  9 10 11 12 13 14 15 16 17 18 19]\n",
      "(edges)  [[-0.5  0.5]\n",
      " [ 0.5  1.5]\n",
      " [ 1.5  2.5]\n",
      " [ 2.5  3.5]\n",
      " [ 3.5  4.5]\n",
      " [ 4.5  5.5]\n",
      " [ 5.5  6.5]\n",
      " [ 6.5  7.5]\n",
      " [ 7.5  8.5]\n",
      " [ 8.5  9.5]\n",
      " [ 9.5 10.5]\n",
      " [10.5 11.5]\n",
      " [11.5 12.5]\n",
      " [12.5 13.5]\n",
      " [13.5 14.5]\n",
      " [14.5 15.5]\n",
      " [15.5 16.5]\n",
      " [16.5 17.5]\n",
      " [17.5 18.5]\n",
      " [18.5 19.5]]\n",
      "(nbins)  20 b b : [[1. 1. 1. 1. 1. 1. 1. 1. 1. 1. 1. 1. 1. 1. 1. 1. 1. 1. 1. 1.]\n",
      " [1. 1. 1. 1. 1. 1. 1. 1. 1. 1. 1. 1. 1. 1. 1. 1. 1. 1. 1. 1.]\n",
      " [1. 1. 1. 1. 1. 1. 1. 1. 1. 1. 1. 1. 1. 1. 1. 1. 1. 1. 1. 1.]\n",
      " [1. 1. 1. 1. 1. 1. 1. 1. 1. 1. 1. 1. 1. 1. 1. 1. 1. 1. 1. 1.]\n",
      " [1. 1. 1. 1. 1. 1. 1. 1. 1. 1. 1. 1. 1. 1. 1. 1. 1. 1. 1. 1.]]\n",
      "finalize\n"
     ]
    },
    {
     "data": {
      "text/html": [
       "<table>\n",
       "<tbody>\n",
       "<tr><td><b>x \\ y</b>           </td><td><b>0</b></td><td><b>1</b></td><td><b>2</b></td><td><b>3</b></td><td><b>4</b></td></tr>\n",
       "<tr><td><b>[-0.5 | 0 | 0.5]</b></td><td>1       </td><td>1       </td><td>1       </td><td>1       </td><td>1       </td></tr>\n",
       "<tr><td><b>[0.5 | 1 | 1.5]</b> </td><td>1       </td><td>1       </td><td>1       </td><td>1       </td><td>1       </td></tr>\n",
       "<tr><td><b>[1.5 | 2 | 2.5]</b> </td><td>1       </td><td>1       </td><td>1       </td><td>1       </td><td>1       </td></tr>\n",
       "<tr><td><b>[2.5 | 3 | 3.5]</b> </td><td>1       </td><td>1       </td><td>1       </td><td>1       </td><td>1       </td></tr>\n",
       "<tr><td><b>[3.5 | 4 | 4.5]</b> </td><td>1       </td><td>1       </td><td>1       </td><td>1       </td><td>1       </td></tr>\n",
       "<tr><td><b>[4.5 | 5 | 5.5]</b> </td><td>1       </td><td>1       </td><td>1       </td><td>1       </td><td>1       </td></tr>\n",
       "<tr><td>...                    </td><td>...     </td><td>...     </td><td>...     </td><td>...     </td><td>...     </td></tr>\n",
       "<tr><td><b>[14 | 14 | 14]</b>  </td><td>1       </td><td>1       </td><td>1       </td><td>1       </td><td>1       </td></tr>\n",
       "<tr><td><b>[14 | 15 | 16]</b>  </td><td>1       </td><td>1       </td><td>1       </td><td>1       </td><td>1       </td></tr>\n",
       "<tr><td><b>[16 | 16 | 16]</b>  </td><td>1       </td><td>1       </td><td>1       </td><td>1       </td><td>1       </td></tr>\n",
       "<tr><td><b>[16 | 17 | 18]</b>  </td><td>1       </td><td>1       </td><td>1       </td><td>1       </td><td>1       </td></tr>\n",
       "<tr><td><b>[18 | 18 | 18]</b>  </td><td>1       </td><td>1       </td><td>1       </td><td>1       </td><td>1       </td></tr>\n",
       "<tr><td><b>[18 | 19 | 20]</b>  </td><td>1       </td><td>1       </td><td>1       </td><td>1       </td><td>1       </td></tr>\n",
       "</tbody>\n",
       "</table>"
      ],
      "text/plain": [
       "GridArray(b : b : [[1. 1. 1. 1. 1. 1. 1. 1. 1. 1. 1. 1. 1. 1. 1. 1. 1. 1. 1. 1.]\n",
       " [1. 1. 1. 1. 1. 1. 1. 1. 1. 1. 1. 1. 1. 1. 1. 1. 1. 1. 1. 1.]\n",
       " [1. 1. 1. 1. 1. 1. 1. 1. 1. 1. 1. 1. 1. 1. 1. 1. 1. 1. 1. 1.]\n",
       " [1. 1. 1. 1. 1. 1. 1. 1. 1. 1. 1. 1. 1. 1. 1. 1. 1. 1. 1. 1.]\n",
       " [1. 1. 1. 1. 1. 1. 1. 1. 1. 1. 1. 1. 1. 1. 1. 1. 1. 1. 1. 1.]])"
      ]
     },
     "execution_count": 35,
     "metadata": {},
     "output_type": "execute_result"
    }
   ],
   "source": [
    "g['b'].T"
   ]
  },
  {
   "cell_type": "code",
   "execution_count": 42,
   "metadata": {},
   "outputs": [
    {
     "name": "stdout",
     "output_type": "stream",
     "text": [
      "ufunc\n",
      "() {}\n"
     ]
    },
    {
     "data": {
      "text/plain": [
       "Grid(\n",
       "Axis(\"x\",\n",
       "points = array([ 0,  1,  2,  3,  4,  5,  6,  7,  8,  9, 10, 11, 12, 13, 14, 15, 16,\n",
       "       17, 18, 19]),\n",
       "edges = edges: array([[-0.5,  0.5],\n",
       "       [ 0.5,  1.5],\n",
       "       [ 1.5,  2.5],\n",
       "       [ 2.5,  3.5],\n",
       "       [ 3.5,  4.5],\n",
       "       [ 4.5,  5.5],\n",
       "       [ 5.5,  6.5],\n",
       "       [ 6.5,  7.5],\n",
       "       [ 7.5,  8.5],\n",
       "       [ 8.5,  9.5],\n",
       "       [ 9.5, 10.5],\n",
       "       [10.5, 11.5],\n",
       "       [11.5, 12.5],\n",
       "       [12.5, 13.5],\n",
       "       [13.5, 14.5],\n",
       "       [14.5, 15.5],\n",
       "       [15.5, 16.5],\n",
       "       [16.5, 17.5],\n",
       "       [17.5, 18.5],\n",
       "       [18.5, 19.5]]))\n",
       "nbins = 20),\n",
       "Axis(\"y\",\n",
       "points = array([0, 1, 2, 3, 4]),\n",
       "edges = edges: None)\n",
       "nbins = 5),)"
      ]
     },
     "execution_count": 42,
     "metadata": {},
     "output_type": "execute_result"
    }
   ],
   "source": [
    "np.sin(a).grid"
   ]
  },
  {
   "cell_type": "code",
   "execution_count": 43,
   "metadata": {},
   "outputs": [
    {
     "name": "stdout",
     "output_type": "stream",
     "text": [
      "new  <class 'pynocular.griddata.GridArray'> (points) [ 0  1  2  3  4  5  6  7  8  9 10 11 12 13 14 15 16 17 18 19]\n",
      "(edges)  [[-0.5  0.5]\n",
      " [ 0.5  1.5]\n",
      " [ 1.5  2.5]\n",
      " [ 2.5  3.5]\n",
      " [ 3.5  4.5]\n",
      " [ 4.5  5.5]\n",
      " [ 5.5  6.5]\n",
      " [ 6.5  7.5]\n",
      " [ 7.5  8.5]\n",
      " [ 8.5  9.5]\n",
      " [ 9.5 10.5]\n",
      " [10.5 11.5]\n",
      " [11.5 12.5]\n",
      " [12.5 13.5]\n",
      " [13.5 14.5]\n",
      " [14.5 15.5]\n",
      " [15.5 16.5]\n",
      " [16.5 17.5]\n",
      " [17.5 18.5]\n",
      " [18.5 19.5]]\n",
      "(nbins)  20\n",
      "(points) [0 1 2 3 4]\n",
      "(edges)  None\n",
      "(nbins)  5 a a : [[0.92923727 0.66677596 0.23727435 0.1610907  0.01653312]\n",
      " [0.55190353 0.27774722 0.29892989 0.93888069 0.85850405]\n",
      " [0.73551706 0.35244653 0.8760508  0.21956474 0.53441049]\n",
      " [0.15723997 0.08435455 0.88621504 0.04831482 0.71454138]\n",
      " [0.85049881 0.99898884 0.52455096 0.7870131  0.69769233]\n",
      " [0.55569202 0.47328259 0.70182388 0.97605759 0.97067788]\n",
      " [0.35147541 0.53804803 0.42583771 0.34038949 0.67097437]\n",
      " [0.99991814 0.40016164 0.9862341  0.22136795 0.00428525]\n",
      " [0.1870811  0.55282106 0.89642015 0.02093399 0.89793334]\n",
      " [0.32208858 0.86061124 0.16765693 0.39742282 0.26526869]\n",
      " [0.55569622 0.82761335 0.09299961 0.60893835 0.49450812]\n",
      " [0.35534096 0.54596017 0.43240258 0.9995946  0.32889435]\n",
      " [0.9596192  0.34237546 0.67684045 0.36497417 0.14907469]\n",
      " [0.33104808 0.03411093 0.13289779 0.8052429  0.65576376]\n",
      " [0.66148267 0.397798   0.65264809 0.14355531 0.58967196]\n",
      " [0.22599018 0.5112301  0.55603438 0.66878642 0.75357486]\n",
      " [0.97331045 0.6453644  0.74637954 0.34437067 0.37256701]\n",
      " [0.55422566 0.43232625 0.94590443 0.28158927 0.98584402]\n",
      " [0.76719059 0.269261   0.28188932 0.52344498 0.06515638]\n",
      " [0.25834844 0.93810894 0.97695424 0.33338629 0.58261418]]\n",
      "finalize\n"
     ]
    }
   ],
   "source": [
    "a = g['a']"
   ]
  },
  {
   "cell_type": "code",
   "execution_count": 48,
   "metadata": {},
   "outputs": [
    {
     "name": "stderr",
     "output_type": "stream",
     "text": [
      "[autoreload of pynocular.griddata failed: Traceback (most recent call last):\n",
      "  File \"/home/peller/anaconda3/lib/python3.7/site-packages/IPython/extensions/autoreload.py\", line 244, in check\n",
      "    superreload(m, reload, self.old_objects)\n",
      "  File \"/home/peller/anaconda3/lib/python3.7/site-packages/IPython/extensions/autoreload.py\", line 394, in superreload\n",
      "    update_generic(old_obj, new_obj)\n",
      "  File \"/home/peller/anaconda3/lib/python3.7/site-packages/IPython/extensions/autoreload.py\", line 331, in update_generic\n",
      "    update(a, b)\n",
      "  File \"/home/peller/anaconda3/lib/python3.7/site-packages/IPython/extensions/autoreload.py\", line 289, in update_class\n",
      "    if update_generic(old_obj, new_obj): continue\n",
      "  File \"/home/peller/anaconda3/lib/python3.7/site-packages/IPython/extensions/autoreload.py\", line 331, in update_generic\n",
      "    update(a, b)\n",
      "  File \"/home/peller/anaconda3/lib/python3.7/site-packages/IPython/extensions/autoreload.py\", line 265, in update_function\n",
      "    setattr(old, name, getattr(new, name))\n",
      "ValueError: __array_ufunc__() requires a code object with 0 free vars, not 1\n",
      "]\n"
     ]
    },
    {
     "data": {
      "text/plain": [
       "array([Axis(\"x\",\n",
       "points = array([ 0,  1,  2,  3,  4,  5,  6,  7,  8,  9, 10, 11, 12, 13, 14, 15, 16,\n",
       "       17, 18, 19]),\n",
       "edges = edges: array([[-0.5,  0.5],\n",
       "       [ 0.5,  1.5],\n",
       "       [ 1.5,  2.5],\n",
       "       [ 2.5,  3.5],\n",
       "       [ 3.5,  4.5],\n",
       "       [ 4.5,  5.5],\n",
       "       [ 5.5,  6.5],\n",
       "       [ 6.5,  7.5],\n",
       "       [ 7.5,  8.5],\n",
       "       [ 8.5,  9.5],\n",
       "       [ 9.5, 10.5],\n",
       "       [10.5, 11.5],\n",
       "       [11.5, 12.5],\n",
       "       [12.5, 13.5],\n",
       "       [13.5, 14.5],\n",
       "       [14.5, 15.5],\n",
       "       [15.5, 16.5],\n",
       "       [16.5, 17.5],\n",
       "       [17.5, 18.5],\n",
       "       [18.5, 19.5]]))\n",
       "nbins = 20),\n",
       "       Axis(\"y\",\n",
       "points = array([0, 1, 2, 3, 4]),\n",
       "edges = edges: None)\n",
       "nbins = 5)], dtype=object)"
      ]
     },
     "execution_count": 48,
     "metadata": {},
     "output_type": "execute_result"
    }
   ],
   "source": [
    "a.view(np.ndarray)"
   ]
  },
  {
   "cell_type": "code",
   "execution_count": null,
   "metadata": {},
   "outputs": [],
   "source": [
    "g['b'][g['a'] < 0.5] *= -1"
   ]
  },
  {
   "cell_type": "code",
   "execution_count": null,
   "metadata": {},
   "outputs": [],
   "source": [
    "g"
   ]
  },
  {
   "cell_type": "code",
   "execution_count": null,
   "metadata": {},
   "outputs": [],
   "source": [
    "g['a']"
   ]
  },
  {
   "cell_type": "code",
   "execution_count": null,
   "metadata": {},
   "outputs": [],
   "source": [
    "np.sum(g['a'], axis='y')"
   ]
  },
  {
   "cell_type": "code",
   "execution_count": null,
   "metadata": {},
   "outputs": [],
   "source": [
    "g[:,-2]"
   ]
  },
  {
   "cell_type": "code",
   "execution_count": null,
   "metadata": {},
   "outputs": [],
   "source": [
    "g[::-1, ::-1]"
   ]
  },
  {
   "cell_type": "code",
   "execution_count": null,
   "metadata": {},
   "outputs": [],
   "source": [
    "g[[0,3,5], 2:-1]"
   ]
  },
  {
   "cell_type": "code",
   "execution_count": null,
   "metadata": {},
   "outputs": [],
   "source": [
    "g[0,0]"
   ]
  },
  {
   "cell_type": "code",
   "execution_count": null,
   "metadata": {},
   "outputs": [],
   "source": [
    "g.grid.edges[0].max()"
   ]
  },
  {
   "cell_type": "code",
   "execution_count": null,
   "metadata": {},
   "outputs": [],
   "source": [
    "np.mean(g['b'], axis='x') + np.std(g['a'], axis='x')"
   ]
  },
  {
   "cell_type": "code",
   "execution_count": null,
   "metadata": {},
   "outputs": [],
   "source": [
    "g['c'] = np.sqrt(g['x']) * np.sqrt(g['y'])"
   ]
  },
  {
   "cell_type": "code",
   "execution_count": null,
   "metadata": {},
   "outputs": [],
   "source": [
    "g.plot('c', cbar=True)"
   ]
  },
  {
   "cell_type": "code",
   "execution_count": null,
   "metadata": {},
   "outputs": [],
   "source": [
    "g['m'] = np.arange(g.grid.size * 3).reshape(g.shape + (-1,))"
   ]
  },
  {
   "cell_type": "code",
   "execution_count": null,
   "metadata": {},
   "outputs": [],
   "source": [
    "g.plot('m') #it's interpreted as an RGB image, since the excess dimension is 3"
   ]
  },
  {
   "cell_type": "code",
   "execution_count": null,
   "metadata": {},
   "outputs": [],
   "source": [
    "g['m'][:,:,0]"
   ]
  },
  {
   "cell_type": "code",
   "execution_count": null,
   "metadata": {},
   "outputs": [],
   "source": [
    "g[:,3]"
   ]
  },
  {
   "cell_type": "code",
   "execution_count": null,
   "metadata": {},
   "outputs": [],
   "source": [
    "g['m']"
   ]
  },
  {
   "cell_type": "code",
   "execution_count": null,
   "metadata": {},
   "outputs": [],
   "source": [
    "g.T[:,3:5]['m']"
   ]
  },
  {
   "cell_type": "code",
   "execution_count": null,
   "metadata": {},
   "outputs": [],
   "source": [
    "np.sum(g)"
   ]
  },
  {
   "cell_type": "code",
   "execution_count": null,
   "metadata": {},
   "outputs": [],
   "source": [
    "np.sum(g, axis=(0))"
   ]
  },
  {
   "cell_type": "markdown",
   "metadata": {},
   "source": [
    "# Stuff to fix"
   ]
  },
  {
   "cell_type": "code",
   "execution_count": null,
   "metadata": {},
   "outputs": [],
   "source": [
    "np.sum(g['m'], axis=(0,1))"
   ]
  },
  {
   "cell_type": "code",
   "execution_count": null,
   "metadata": {},
   "outputs": [],
   "source": [
    "# because of this\n",
    "np.sum(g['m'], axis=-1).grid"
   ]
  },
  {
   "cell_type": "code",
   "execution_count": null,
   "metadata": {},
   "outputs": [],
   "source": [
    "np.sum(g['m'], axis=-1)"
   ]
  },
  {
   "cell_type": "code",
   "execution_count": null,
   "metadata": {},
   "outputs": [],
   "source": []
  },
  {
   "cell_type": "code",
   "execution_count": null,
   "metadata": {},
   "outputs": [],
   "source": [
    "1 - 3 * g['a']"
   ]
  },
  {
   "cell_type": "code",
   "execution_count": null,
   "metadata": {},
   "outputs": [],
   "source": [
    "2 ** g['a']"
   ]
  },
  {
   "cell_type": "code",
   "execution_count": null,
   "metadata": {},
   "outputs": [],
   "source": [
    "g['a']"
   ]
  },
  {
   "cell_type": "code",
   "execution_count": null,
   "metadata": {},
   "outputs": [],
   "source": []
  },
  {
   "cell_type": "code",
   "execution_count": null,
   "metadata": {},
   "outputs": [],
   "source": [
    "g['a']"
   ]
  },
  {
   "cell_type": "code",
   "execution_count": null,
   "metadata": {},
   "outputs": [],
   "source": [
    "a = g['a']"
   ]
  },
  {
   "cell_type": "code",
   "execution_count": null,
   "metadata": {},
   "outputs": [],
   "source": [
    "a.T"
   ]
  },
  {
   "cell_type": "code",
   "execution_count": null,
   "metadata": {},
   "outputs": [],
   "source": [
    "np.mean(a, axis='x')"
   ]
  },
  {
   "cell_type": "code",
   "execution_count": null,
   "metadata": {},
   "outputs": [],
   "source": [
    "a"
   ]
  },
  {
   "cell_type": "code",
   "execution_count": null,
   "metadata": {},
   "outputs": [],
   "source": [
    "from scipy import ndimage"
   ]
  },
  {
   "cell_type": "code",
   "execution_count": null,
   "metadata": {},
   "outputs": [],
   "source": [
    "ndimage.gaussian_filter(a, sigma=1)"
   ]
  },
  {
   "cell_type": "code",
   "execution_count": null,
   "metadata": {},
   "outputs": [],
   "source": [
    "np.median(a)"
   ]
  },
  {
   "cell_type": "code",
   "execution_count": null,
   "metadata": {},
   "outputs": [],
   "source": [
    "np.cumsum(a)"
   ]
  },
  {
   "cell_type": "code",
   "execution_count": null,
   "metadata": {},
   "outputs": [],
   "source": [
    "a.dtype"
   ]
  },
  {
   "cell_type": "code",
   "execution_count": null,
   "metadata": {},
   "outputs": [],
   "source": [
    "np.sin(a)"
   ]
  },
  {
   "cell_type": "code",
   "execution_count": null,
   "metadata": {},
   "outputs": [],
   "source": [
    "np.dot(a,a.T)"
   ]
  },
  {
   "cell_type": "code",
   "execution_count": null,
   "metadata": {},
   "outputs": [],
   "source": [
    "b = a.values"
   ]
  },
  {
   "cell_type": "code",
   "execution_count": null,
   "metadata": {},
   "outputs": [],
   "source": [
    "np.dot(b,b.T)"
   ]
  },
  {
   "cell_type": "code",
   "execution_count": 19,
   "metadata": {},
   "outputs": [],
   "source": [
    "l = range(3)"
   ]
  },
  {
   "cell_type": "code",
   "execution_count": 20,
   "metadata": {},
   "outputs": [
    {
     "ename": "AttributeError",
     "evalue": "'range' object has no attribute 'next'",
     "output_type": "error",
     "traceback": [
      "\u001b[0;31m---------------------------------------------------------------------------\u001b[0m",
      "\u001b[0;31mAttributeError\u001b[0m                            Traceback (most recent call last)",
      "\u001b[0;32m<ipython-input-20-25aaa3b3a26b>\u001b[0m in \u001b[0;36m<module>\u001b[0;34m\u001b[0m\n\u001b[0;32m----> 1\u001b[0;31m \u001b[0ml\u001b[0m\u001b[0;34m.\u001b[0m\u001b[0mnext\u001b[0m\u001b[0;34m(\u001b[0m\u001b[0;34m)\u001b[0m\u001b[0;34m\u001b[0m\u001b[0;34m\u001b[0m\u001b[0m\n\u001b[0m",
      "\u001b[0;31mAttributeError\u001b[0m: 'range' object has no attribute 'next'"
     ]
    }
   ],
   "source": [
    "l.next()"
   ]
  },
  {
   "cell_type": "code",
   "execution_count": 128,
   "metadata": {},
   "outputs": [],
   "source": [
    "from collections import OrderedDict"
   ]
  },
  {
   "cell_type": "code",
   "execution_count": 131,
   "metadata": {},
   "outputs": [],
   "source": [
    "o = OrderedDict(a=12, b=23)"
   ]
  },
  {
   "cell_type": "code",
   "execution_count": 134,
   "metadata": {},
   "outputs": [
    {
     "data": {
      "text/plain": [
       "2"
      ]
     },
     "execution_count": 134,
     "metadata": {},
     "output_type": "execute_result"
    }
   ],
   "source": [
    "len(o)"
   ]
  },
  {
   "cell_type": "code",
   "execution_count": 140,
   "metadata": {},
   "outputs": [
    {
     "name": "stdout",
     "output_type": "stream",
     "text": [
      "12\n",
      "23\n"
     ]
    }
   ],
   "source": [
    "for i in o.values():\n",
    "    print(i)"
   ]
  },
  {
   "cell_type": "code",
   "execution_count": 141,
   "metadata": {},
   "outputs": [
    {
     "data": {
      "text/plain": [
       "odict_keys(['a', 'b'])"
      ]
     },
     "execution_count": 141,
     "metadata": {},
     "output_type": "execute_result"
    }
   ],
   "source": [
    "o.keys()"
   ]
  },
  {
   "cell_type": "code",
   "execution_count": 145,
   "metadata": {},
   "outputs": [
    {
     "data": {
      "text/plain": [
       "<function OrderedDict.get(key, default=None, /)>"
      ]
     },
     "execution_count": 145,
     "metadata": {},
     "output_type": "execute_result"
    }
   ],
   "source": [
    "o.get()"
   ]
  },
  {
   "cell_type": "code",
   "execution_count": 144,
   "metadata": {},
   "outputs": [
    {
     "data": {
      "text/plain": [
       "OrderedDict()"
      ]
     },
     "execution_count": 144,
     "metadata": {},
     "output_type": "execute_result"
    }
   ],
   "source": [
    "o."
   ]
  },
  {
   "cell_type": "code",
   "execution_count": null,
   "metadata": {},
   "outputs": [],
   "source": []
  }
 ],
 "metadata": {
  "kernelspec": {
   "display_name": "Python 3",
   "language": "python",
   "name": "python3"
  },
  "language_info": {
   "codemirror_mode": {
    "name": "ipython",
    "version": 3
   },
   "file_extension": ".py",
   "mimetype": "text/x-python",
   "name": "python",
   "nbconvert_exporter": "python",
   "pygments_lexer": "ipython3",
   "version": "3.7.3"
  }
 },
 "nbformat": 4,
 "nbformat_minor": 4
}
