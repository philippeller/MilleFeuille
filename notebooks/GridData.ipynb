{
 "cells": [
  {
   "cell_type": "code",
   "execution_count": 1,
   "metadata": {},
   "outputs": [],
   "source": [
    "%reload_ext autoreload\n",
    "%autoreload 2\n",
    "import numpy as np\n",
    "import pynocular as pn\n",
    "from matplotlib import pyplot as plt"
   ]
  },
  {
   "cell_type": "code",
   "execution_count": 3,
   "metadata": {},
   "outputs": [],
   "source": [
    "g = pn.GridData(x=np.arange(11), y=np.arange(6))"
   ]
  },
  {
   "cell_type": "code",
   "execution_count": 23,
   "metadata": {},
   "outputs": [
    {
     "data": {
      "text/html": [
       "<table>\n",
       "<tbody>\n",
       "<tr><td><b>y \\ x</b>  </td><td><b>[0. 1.]</b></td><td><b>[1. 2.]</b></td><td><b>[2. 3.]</b></td><td><b>[3. 4.]</b></td><td><b>[4. 5.]</b></td><td><b>[5. 6.]</b></td><td><b>[6. 7.]</b></td><td><b>[7. 8.]</b></td><td><b>[8. 9.]</b></td><td><b>[ 9. 10.]</b></td></tr>\n",
       "<tr><td><b>[0. 1.]</b></td><td>              </td><td>              </td><td>              </td><td>              </td><td>              </td><td>              </td><td>              </td><td>              </td><td>              </td><td>                </td></tr>\n",
       "<tr><td><b>[1. 2.]</b></td><td>              </td><td>              </td><td>              </td><td>              </td><td>              </td><td>              </td><td>              </td><td>              </td><td>              </td><td>                </td></tr>\n",
       "<tr><td><b>[2. 3.]</b></td><td>              </td><td>              </td><td>              </td><td>              </td><td>              </td><td>              </td><td>              </td><td>              </td><td>              </td><td>                </td></tr>\n",
       "<tr><td><b>[3. 4.]</b></td><td>              </td><td>              </td><td>              </td><td>              </td><td>              </td><td>              </td><td>              </td><td>              </td><td>              </td><td>                </td></tr>\n",
       "<tr><td><b>[4. 5.]</b></td><td>              </td><td>              </td><td>              </td><td>              </td><td>              </td><td>              </td><td>              </td><td>              </td><td>              </td><td>                </td></tr>\n",
       "</tbody>\n",
       "</table>"
      ],
      "text/plain": [
       "GridData(Grid(\n",
       "Dimension(\"x\",\n",
       "points = None,\n",
       "edges = array([[ 0.,  1.],\n",
       "       [ 1.,  2.],\n",
       "       [ 2.,  3.],\n",
       "       [ 3.,  4.],\n",
       "       [ 4.,  5.],\n",
       "       [ 5.,  6.],\n",
       "       [ 6.,  7.],\n",
       "       [ 7.,  8.],\n",
       "       [ 8.,  9.],\n",
       "       [ 9., 10.]]))\n",
       "nbins = 10),\n",
       "Dimension(\"y\",\n",
       "points = None,\n",
       "edges = array([[0., 1.],\n",
       "       [1., 2.],\n",
       "       [2., 3.],\n",
       "       [3., 4.],\n",
       "       [4., 5.]]))\n",
       "nbins = 5),)\n",
       "OrderedDict())"
      ]
     },
     "execution_count": 23,
     "metadata": {},
     "output_type": "execute_result"
    }
   ],
   "source": [
    "g"
   ]
  },
  {
   "cell_type": "code",
   "execution_count": 25,
   "metadata": {},
   "outputs": [],
   "source": [
    "# add something\n",
    "g['a'] = np.random.rand(g.grid.size).reshape(g.shape)"
   ]
  },
  {
   "cell_type": "code",
   "execution_count": 26,
   "metadata": {},
   "outputs": [
    {
     "data": {
      "text/html": [
       "<table>\n",
       "<tbody>\n",
       "<tr><td><b>y \\ x</b>  </td><td><b>[0. 1.]</b></td><td><b>[1. 2.]</b></td><td><b>[2. 3.]</b></td><td><b>[3. 4.]</b></td><td><b>[4. 5.]</b></td><td><b>[5. 6.]</b></td><td><b>[6. 7.]</b></td><td><b>[7. 8.]</b></td><td><b>[8. 9.]</b></td><td><b>[ 9. 10.]</b></td></tr>\n",
       "<tr><td><b>[0. 1.]</b></td><td>a = 0.89      </td><td>a = 0.97      </td><td>a = 0.93      </td><td>a = 0.79      </td><td>a = 0.49      </td><td>a = 0.83      </td><td>a = 0.51      </td><td>a = 0.32      </td><td>a = 0.28      </td><td>a = 0.19        </td></tr>\n",
       "<tr><td><b>[1. 2.]</b></td><td>a = 0.073     </td><td>a = 0.094     </td><td>a = 0.56      </td><td>a = 0.67      </td><td>a = 0.89      </td><td>a = 0.62      </td><td>a = 0.35      </td><td>a = 0.024     </td><td>a = 0.38      </td><td>a = 0.36        </td></tr>\n",
       "<tr><td><b>[2. 3.]</b></td><td>a = 0.0043    </td><td>a = 0.98      </td><td>a = 0.082     </td><td>a = 0.7       </td><td>a = 0.67      </td><td>a = 0.68      </td><td>a = 0.29      </td><td>a = 0.54      </td><td>a = 0.78      </td><td>a = 0.054       </td></tr>\n",
       "<tr><td><b>[3. 4.]</b></td><td>a = 0.54      </td><td>a = 0.26      </td><td>a = 0.68      </td><td>a = 0.65      </td><td>a = 0.061     </td><td>a = 0.3       </td><td>a = 0.97      </td><td>a = 0.14      </td><td>a = 0.13      </td><td>a = 0.23        </td></tr>\n",
       "<tr><td><b>[4. 5.]</b></td><td>a = 0.63      </td><td>a = 0.97      </td><td>a = 0.82      </td><td>a = 0.96      </td><td>a = 0.74      </td><td>a = 0.12      </td><td>a = 0.86      </td><td>a = 0.66      </td><td>a = 0.63      </td><td>a = 0.31        </td></tr>\n",
       "</tbody>\n",
       "</table>"
      ],
      "text/plain": [
       "GridData(Grid(\n",
       "Dimension(\"x\",\n",
       "points = None,\n",
       "edges = array([[ 0.,  1.],\n",
       "       [ 1.,  2.],\n",
       "       [ 2.,  3.],\n",
       "       [ 3.,  4.],\n",
       "       [ 4.,  5.],\n",
       "       [ 5.,  6.],\n",
       "       [ 6.,  7.],\n",
       "       [ 7.,  8.],\n",
       "       [ 8.,  9.],\n",
       "       [ 9., 10.]]))\n",
       "nbins = 10),\n",
       "Dimension(\"y\",\n",
       "points = None,\n",
       "edges = array([[0., 1.],\n",
       "       [1., 2.],\n",
       "       [2., 3.],\n",
       "       [3., 4.],\n",
       "       [4., 5.]]))\n",
       "nbins = 5),)\n",
       "OrderedDict([('a', array([[0.89343694, 0.07250173, 0.00431053, 0.53941466, 0.63262222],\n",
       "       [0.97349033, 0.09369209, 0.97668533, 0.26033187, 0.96942297],\n",
       "       [0.92640385, 0.56409501, 0.08160931, 0.67682216, 0.82317292],\n",
       "       [0.79269363, 0.66624969, 0.70305048, 0.64716543, 0.9581678 ],\n",
       "       [0.48709646, 0.89457325, 0.66806477, 0.06109754, 0.73888843],\n",
       "       [0.82542331, 0.61519215, 0.68251922, 0.29770879, 0.12107677],\n",
       "       [0.50606725, 0.35466107, 0.28598287, 0.9677737 , 0.86088461],\n",
       "       [0.32335405, 0.02387909, 0.53625476, 0.1376575 , 0.6569353 ],\n",
       "       [0.28115031, 0.3772091 , 0.77932743, 0.12806348, 0.62732552],\n",
       "       [0.18897808, 0.36301977, 0.0541213 , 0.2290822 , 0.31009077]]))]))"
      ]
     },
     "execution_count": 26,
     "metadata": {},
     "output_type": "execute_result"
    }
   ],
   "source": [
    "g"
   ]
  },
  {
   "cell_type": "code",
   "execution_count": 27,
   "metadata": {},
   "outputs": [],
   "source": [
    "g['b'] = np.ones(g.shape)"
   ]
  },
  {
   "cell_type": "code",
   "execution_count": 28,
   "metadata": {},
   "outputs": [
    {
     "data": {
      "text/html": [
       "<table>\n",
       "<tbody>\n",
       "<tr><td><b>y \\ x</b>  </td><td><b>[0. 1.]</b>     </td><td><b>[1. 2.]</b>    </td><td><b>[2. 3.]</b>    </td><td><b>[3. 4.]</b>   </td><td><b>[4. 5.]</b>    </td><td><b>[5. 6.]</b>   </td><td><b>[6. 7.]</b>   </td><td><b>[7. 8.]</b>    </td><td><b>[8. 9.]</b>   </td><td><b>[ 9. 10.]</b>  </td></tr>\n",
       "<tr><td><b>[0. 1.]</b></td><td>a = 0.89<br>b = 1  </td><td>a = 0.97<br>b = 1 </td><td>a = 0.93<br>b = 1 </td><td>a = 0.79<br>b = 1</td><td>a = 0.49<br>b = 1 </td><td>a = 0.83<br>b = 1</td><td>a = 0.51<br>b = 1</td><td>a = 0.32<br>b = 1 </td><td>a = 0.28<br>b = 1</td><td>a = 0.19<br>b = 1 </td></tr>\n",
       "<tr><td><b>[1. 2.]</b></td><td>a = 0.073<br>b = 1 </td><td>a = 0.094<br>b = 1</td><td>a = 0.56<br>b = 1 </td><td>a = 0.67<br>b = 1</td><td>a = 0.89<br>b = 1 </td><td>a = 0.62<br>b = 1</td><td>a = 0.35<br>b = 1</td><td>a = 0.024<br>b = 1</td><td>a = 0.38<br>b = 1</td><td>a = 0.36<br>b = 1 </td></tr>\n",
       "<tr><td><b>[2. 3.]</b></td><td>a = 0.0043<br>b = 1</td><td>a = 0.98<br>b = 1 </td><td>a = 0.082<br>b = 1</td><td>a = 0.7<br>b = 1 </td><td>a = 0.67<br>b = 1 </td><td>a = 0.68<br>b = 1</td><td>a = 0.29<br>b = 1</td><td>a = 0.54<br>b = 1 </td><td>a = 0.78<br>b = 1</td><td>a = 0.054<br>b = 1</td></tr>\n",
       "<tr><td><b>[3. 4.]</b></td><td>a = 0.54<br>b = 1  </td><td>a = 0.26<br>b = 1 </td><td>a = 0.68<br>b = 1 </td><td>a = 0.65<br>b = 1</td><td>a = 0.061<br>b = 1</td><td>a = 0.3<br>b = 1 </td><td>a = 0.97<br>b = 1</td><td>a = 0.14<br>b = 1 </td><td>a = 0.13<br>b = 1</td><td>a = 0.23<br>b = 1 </td></tr>\n",
       "<tr><td><b>[4. 5.]</b></td><td>a = 0.63<br>b = 1  </td><td>a = 0.97<br>b = 1 </td><td>a = 0.82<br>b = 1 </td><td>a = 0.96<br>b = 1</td><td>a = 0.74<br>b = 1 </td><td>a = 0.12<br>b = 1</td><td>a = 0.86<br>b = 1</td><td>a = 0.66<br>b = 1 </td><td>a = 0.63<br>b = 1</td><td>a = 0.31<br>b = 1 </td></tr>\n",
       "</tbody>\n",
       "</table>"
      ],
      "text/plain": [
       "GridData(Grid(\n",
       "Dimension(\"x\",\n",
       "points = None,\n",
       "edges = array([[ 0.,  1.],\n",
       "       [ 1.,  2.],\n",
       "       [ 2.,  3.],\n",
       "       [ 3.,  4.],\n",
       "       [ 4.,  5.],\n",
       "       [ 5.,  6.],\n",
       "       [ 6.,  7.],\n",
       "       [ 7.,  8.],\n",
       "       [ 8.,  9.],\n",
       "       [ 9., 10.]]))\n",
       "nbins = 10),\n",
       "Dimension(\"y\",\n",
       "points = None,\n",
       "edges = array([[0., 1.],\n",
       "       [1., 2.],\n",
       "       [2., 3.],\n",
       "       [3., 4.],\n",
       "       [4., 5.]]))\n",
       "nbins = 5),)\n",
       "OrderedDict([('a', array([[0.89343694, 0.07250173, 0.00431053, 0.53941466, 0.63262222],\n",
       "       [0.97349033, 0.09369209, 0.97668533, 0.26033187, 0.96942297],\n",
       "       [0.92640385, 0.56409501, 0.08160931, 0.67682216, 0.82317292],\n",
       "       [0.79269363, 0.66624969, 0.70305048, 0.64716543, 0.9581678 ],\n",
       "       [0.48709646, 0.89457325, 0.66806477, 0.06109754, 0.73888843],\n",
       "       [0.82542331, 0.61519215, 0.68251922, 0.29770879, 0.12107677],\n",
       "       [0.50606725, 0.35466107, 0.28598287, 0.9677737 , 0.86088461],\n",
       "       [0.32335405, 0.02387909, 0.53625476, 0.1376575 , 0.6569353 ],\n",
       "       [0.28115031, 0.3772091 , 0.77932743, 0.12806348, 0.62732552],\n",
       "       [0.18897808, 0.36301977, 0.0541213 , 0.2290822 , 0.31009077]])), ('b', array([[1., 1., 1., 1., 1.],\n",
       "       [1., 1., 1., 1., 1.],\n",
       "       [1., 1., 1., 1., 1.],\n",
       "       [1., 1., 1., 1., 1.],\n",
       "       [1., 1., 1., 1., 1.],\n",
       "       [1., 1., 1., 1., 1.],\n",
       "       [1., 1., 1., 1., 1.],\n",
       "       [1., 1., 1., 1., 1.],\n",
       "       [1., 1., 1., 1., 1.],\n",
       "       [1., 1., 1., 1., 1.]]))]))"
      ]
     },
     "execution_count": 28,
     "metadata": {},
     "output_type": "execute_result"
    }
   ],
   "source": [
    "g"
   ]
  },
  {
   "cell_type": "code",
   "execution_count": 29,
   "metadata": {},
   "outputs": [
    {
     "data": {
      "text/html": [
       "<table>\n",
       "<tbody>\n",
       "<tr><td><b>x \\ y</b>    </td><td><b>[0. 1.]</b></td><td><b>[1. 2.]</b></td><td><b>[2. 3.]</b></td><td><b>[3. 4.]</b></td><td><b>[4. 5.]</b></td></tr>\n",
       "<tr><td><b>[0. 1.]</b>  </td><td>0.89          </td><td>0.073         </td><td>0.0043        </td><td>0.54          </td><td>0.63          </td></tr>\n",
       "<tr><td><b>[1. 2.]</b>  </td><td>0.97          </td><td>0.094         </td><td>0.98          </td><td>0.26          </td><td>0.97          </td></tr>\n",
       "<tr><td><b>[2. 3.]</b>  </td><td>0.93          </td><td>0.56          </td><td>0.082         </td><td>0.68          </td><td>0.82          </td></tr>\n",
       "<tr><td><b>[3. 4.]</b>  </td><td>0.79          </td><td>0.67          </td><td>0.7           </td><td>0.65          </td><td>0.96          </td></tr>\n",
       "<tr><td><b>[4. 5.]</b>  </td><td>0.49          </td><td>0.89          </td><td>0.67          </td><td>0.061         </td><td>0.74          </td></tr>\n",
       "<tr><td><b>[5. 6.]</b>  </td><td>0.83          </td><td>0.62          </td><td>0.68          </td><td>0.3           </td><td>0.12          </td></tr>\n",
       "<tr><td><b>[6. 7.]</b>  </td><td>0.51          </td><td>0.35          </td><td>0.29          </td><td>0.97          </td><td>0.86          </td></tr>\n",
       "<tr><td><b>[7. 8.]</b>  </td><td>0.32          </td><td>0.024         </td><td>0.54          </td><td>0.14          </td><td>0.66          </td></tr>\n",
       "<tr><td><b>[8. 9.]</b>  </td><td>0.28          </td><td>0.38          </td><td>0.78          </td><td>0.13          </td><td>0.63          </td></tr>\n",
       "<tr><td><b>[ 9. 10.]</b></td><td>0.19          </td><td>0.36          </td><td>0.054         </td><td>0.23          </td><td>0.31          </td></tr>\n",
       "</tbody>\n",
       "</table>"
      ],
      "text/plain": [
       "GridArray(a : [[0.89343694 0.97349033 0.92640385 0.79269363 0.48709646 0.82542331\n",
       "  0.50606725 0.32335405 0.28115031 0.18897808]\n",
       " [0.07250173 0.09369209 0.56409501 0.66624969 0.89457325 0.61519215\n",
       "  0.35466107 0.02387909 0.3772091  0.36301977]\n",
       " [0.00431053 0.97668533 0.08160931 0.70305048 0.66806477 0.68251922\n",
       "  0.28598287 0.53625476 0.77932743 0.0541213 ]\n",
       " [0.53941466 0.26033187 0.67682216 0.64716543 0.06109754 0.29770879\n",
       "  0.9677737  0.1376575  0.12806348 0.2290822 ]\n",
       " [0.63262222 0.96942297 0.82317292 0.9581678  0.73888843 0.12107677\n",
       "  0.86088461 0.6569353  0.62732552 0.31009077]])"
      ]
     },
     "execution_count": 29,
     "metadata": {},
     "output_type": "execute_result"
    }
   ],
   "source": [
    "g['a'].T"
   ]
  },
  {
   "cell_type": "code",
   "execution_count": 30,
   "metadata": {},
   "outputs": [
    {
     "data": {
      "text/html": [
       "<table>\n",
       "<tbody>\n",
       "<tr><td><b>y \\ x</b>  </td><td><b>[0. 1.]</b></td><td><b>[1. 2.]</b></td><td><b>[2. 3.]</b></td><td><b>[3. 4.]</b></td><td><b>[4. 5.]</b></td><td><b>[5. 6.]</b></td><td><b>[6. 7.]</b></td><td><b>[7. 8.]</b></td><td><b>[8. 9.]</b></td><td><b>[ 9. 10.]</b></td></tr>\n",
       "<tr><td><b>[0. 1.]</b></td><td>--            </td><td>--            </td><td>--            </td><td>--            </td><td>1             </td><td>--            </td><td>--            </td><td>1             </td><td>1             </td><td>1               </td></tr>\n",
       "<tr><td><b>[1. 2.]</b></td><td>1             </td><td>1             </td><td>--            </td><td>--            </td><td>--            </td><td>--            </td><td>1             </td><td>1             </td><td>1             </td><td>1               </td></tr>\n",
       "<tr><td><b>[2. 3.]</b></td><td>1             </td><td>--            </td><td>1             </td><td>--            </td><td>--            </td><td>--            </td><td>1             </td><td>--            </td><td>--            </td><td>1               </td></tr>\n",
       "<tr><td><b>[3. 4.]</b></td><td>--            </td><td>1             </td><td>--            </td><td>--            </td><td>1             </td><td>1             </td><td>--            </td><td>1             </td><td>1             </td><td>1               </td></tr>\n",
       "<tr><td><b>[4. 5.]</b></td><td>--            </td><td>--            </td><td>--            </td><td>--            </td><td>--            </td><td>1             </td><td>--            </td><td>--            </td><td>--            </td><td>1               </td></tr>\n",
       "</tbody>\n",
       "</table>"
      ],
      "text/plain": [
       "GridArray(b : [[-- 1.0 1.0 -- --]\n",
       " [-- 1.0 -- 1.0 --]\n",
       " [-- -- 1.0 -- --]\n",
       " [-- -- -- -- --]\n",
       " [1.0 -- -- 1.0 --]\n",
       " [-- -- -- 1.0 1.0]\n",
       " [-- 1.0 1.0 -- --]\n",
       " [1.0 1.0 -- 1.0 --]\n",
       " [1.0 1.0 -- 1.0 --]\n",
       " [1.0 1.0 1.0 1.0 1.0]])"
      ]
     },
     "execution_count": 30,
     "metadata": {},
     "output_type": "execute_result"
    }
   ],
   "source": [
    "g['b'][g['a'] < 0.5]"
   ]
  },
  {
   "cell_type": "code",
   "execution_count": 31,
   "metadata": {},
   "outputs": [],
   "source": [
    "g['b'][g['a'] < 0.5] *= -1"
   ]
  },
  {
   "cell_type": "code",
   "execution_count": 32,
   "metadata": {},
   "outputs": [
    {
     "data": {
      "text/html": [
       "<table>\n",
       "<tbody>\n",
       "<tr><td><b>y \\ x</b>  </td><td><b>[0. 1.]</b></td><td><b>[1. 2.]</b></td><td><b>[2. 3.]</b></td><td><b>[3. 4.]</b></td><td><b>[4. 5.]</b></td><td><b>[5. 6.]</b></td><td><b>[6. 7.]</b></td><td><b>[7. 8.]</b></td><td><b>[8. 9.]</b></td><td><b>[ 9. 10.]</b></td></tr>\n",
       "<tr><td><b>[0. 1.]</b></td><td>1             </td><td>1             </td><td>1             </td><td>1             </td><td>-1            </td><td>1             </td><td>1             </td><td>-1            </td><td>-1            </td><td>-1              </td></tr>\n",
       "<tr><td><b>[1. 2.]</b></td><td>-1            </td><td>-1            </td><td>1             </td><td>1             </td><td>1             </td><td>1             </td><td>-1            </td><td>-1            </td><td>-1            </td><td>-1              </td></tr>\n",
       "<tr><td><b>[2. 3.]</b></td><td>-1            </td><td>1             </td><td>-1            </td><td>1             </td><td>1             </td><td>1             </td><td>-1            </td><td>1             </td><td>1             </td><td>-1              </td></tr>\n",
       "<tr><td><b>[3. 4.]</b></td><td>1             </td><td>-1            </td><td>1             </td><td>1             </td><td>-1            </td><td>-1            </td><td>1             </td><td>-1            </td><td>-1            </td><td>-1              </td></tr>\n",
       "<tr><td><b>[4. 5.]</b></td><td>1             </td><td>1             </td><td>1             </td><td>1             </td><td>1             </td><td>-1            </td><td>1             </td><td>1             </td><td>1             </td><td>-1              </td></tr>\n",
       "</tbody>\n",
       "</table>"
      ],
      "text/plain": [
       "GridArray(b : [[ 1. -1. -1.  1.  1.]\n",
       " [ 1. -1.  1. -1.  1.]\n",
       " [ 1.  1. -1.  1.  1.]\n",
       " [ 1.  1.  1.  1.  1.]\n",
       " [-1.  1.  1. -1.  1.]\n",
       " [ 1.  1.  1. -1. -1.]\n",
       " [ 1. -1. -1.  1.  1.]\n",
       " [-1. -1.  1. -1.  1.]\n",
       " [-1. -1.  1. -1.  1.]\n",
       " [-1. -1. -1. -1. -1.]])"
      ]
     },
     "execution_count": 32,
     "metadata": {},
     "output_type": "execute_result"
    }
   ],
   "source": [
    "g['b']"
   ]
  },
  {
   "cell_type": "code",
   "execution_count": 33,
   "metadata": {},
   "outputs": [
    {
     "data": {
      "text/html": [
       "<table>\n",
       "<tbody>\n",
       "<tr><td><b>x</b></td><td><b>[0. 1.]</b></td><td><b>[1. 2.]</b></td><td><b>[2. 3.]</b></td><td><b>[3. 4.]</b></td><td><b>[4. 5.]</b></td><td><b>[5. 6.]</b></td><td><b>[6. 7.]</b></td><td><b>[7. 8.]</b></td><td><b>[8. 9.]</b></td><td><b>[ 9. 10.]</b></td></tr>\n",
       "<tr><td><b>a</b></td><td>2.1           </td><td>3.3           </td><td>3.1           </td><td>3.8           </td><td>2.8           </td><td>2.5           </td><td>3             </td><td>1.7           </td><td>2.2           </td><td>1.1             </td></tr>\n",
       "</tbody>\n",
       "</table>"
      ],
      "text/plain": [
       "GridArray(a : [2.14228608 3.2736226  3.07210326 3.76732702 2.84972045 2.54192025\n",
       " 2.9753695  1.6780807  2.19307584 1.14529212])"
      ]
     },
     "execution_count": 33,
     "metadata": {},
     "output_type": "execute_result"
    }
   ],
   "source": [
    "np.sum(g['a'], axis='y')"
   ]
  },
  {
   "cell_type": "code",
   "execution_count": 37,
   "metadata": {},
   "outputs": [
    {
     "data": {
      "text/html": [
       "<table>\n",
       "<tbody>\n",
       "<tr><td><b>x</b></td><td><b>[0. 1.]</b></td><td><b>[1. 2.]</b></td><td><b>[2. 3.]</b></td><td><b>[3. 4.]</b></td><td><b>[4. 5.]</b></td><td><b>[5. 6.]</b></td><td><b>[6. 7.]</b></td><td><b>[7. 8.]</b></td><td><b>[8. 9.]</b></td><td><b>[ 9. 10.]</b></td></tr>\n",
       "<tr><td><b>a</b></td><td>0.54          </td><td>0.26          </td><td>0.68          </td><td>0.65          </td><td>0.061         </td><td>0.3           </td><td>0.97          </td><td>0.14          </td><td>0.13          </td><td>0.23            </td></tr>\n",
       "<tr><td><b>b</b></td><td>1             </td><td>-1            </td><td>1             </td><td>1             </td><td>-1            </td><td>-1            </td><td>1             </td><td>-1            </td><td>-1            </td><td>-1              </td></tr>\n",
       "</tbody>\n",
       "</table>"
      ],
      "text/plain": [
       "GridData(Grid(\n",
       "Dimension(\"x\",\n",
       "points = None,\n",
       "edges = array([[ 0.,  1.],\n",
       "       [ 1.,  2.],\n",
       "       [ 2.,  3.],\n",
       "       [ 3.,  4.],\n",
       "       [ 4.,  5.],\n",
       "       [ 5.,  6.],\n",
       "       [ 6.,  7.],\n",
       "       [ 7.,  8.],\n",
       "       [ 8.,  9.],\n",
       "       [ 9., 10.]]))\n",
       "nbins = 10),)\n",
       "OrderedDict([('a', array([0.53941466, 0.26033187, 0.67682216, 0.64716543, 0.06109754,\n",
       "       0.29770879, 0.9677737 , 0.1376575 , 0.12806348, 0.2290822 ])), ('b', array([ 1., -1.,  1.,  1., -1., -1.,  1., -1., -1., -1.]))]))"
      ]
     },
     "execution_count": 37,
     "metadata": {},
     "output_type": "execute_result"
    }
   ],
   "source": [
    "g[:,-2]"
   ]
  },
  {
   "cell_type": "code",
   "execution_count": 38,
   "metadata": {},
   "outputs": [
    {
     "data": {
      "text/html": [
       "<table>\n",
       "<tbody>\n",
       "<tr><td><b>y \\ x</b>  </td><td><b>[ 9. 10.]</b>   </td><td><b>[8. 9.]</b>    </td><td><b>[7. 8.]</b>     </td><td><b>[6. 7.]</b>    </td><td><b>[5. 6.]</b>    </td><td><b>[4. 5.]</b>     </td><td><b>[3. 4.]</b>   </td><td><b>[2. 3.]</b>     </td><td><b>[1. 2.]</b>     </td><td><b>[0. 1.]</b>      </td></tr>\n",
       "<tr><td><b>[4. 5.]</b></td><td>a = 0.31<br>b = -1 </td><td>a = 0.63<br>b = 1 </td><td>a = 0.66<br>b = 1  </td><td>a = 0.86<br>b = 1 </td><td>a = 0.12<br>b = -1</td><td>a = 0.74<br>b = 1  </td><td>a = 0.96<br>b = 1</td><td>a = 0.82<br>b = 1  </td><td>a = 0.97<br>b = 1  </td><td>a = 0.63<br>b = 1   </td></tr>\n",
       "<tr><td><b>[3. 4.]</b></td><td>a = 0.23<br>b = -1 </td><td>a = 0.13<br>b = -1</td><td>a = 0.14<br>b = -1 </td><td>a = 0.97<br>b = 1 </td><td>a = 0.3<br>b = -1 </td><td>a = 0.061<br>b = -1</td><td>a = 0.65<br>b = 1</td><td>a = 0.68<br>b = 1  </td><td>a = 0.26<br>b = -1 </td><td>a = 0.54<br>b = 1   </td></tr>\n",
       "<tr><td><b>[2. 3.]</b></td><td>a = 0.054<br>b = -1</td><td>a = 0.78<br>b = 1 </td><td>a = 0.54<br>b = 1  </td><td>a = 0.29<br>b = -1</td><td>a = 0.68<br>b = 1 </td><td>a = 0.67<br>b = 1  </td><td>a = 0.7<br>b = 1 </td><td>a = 0.082<br>b = -1</td><td>a = 0.98<br>b = 1  </td><td>a = 0.0043<br>b = -1</td></tr>\n",
       "<tr><td><b>[1. 2.]</b></td><td>a = 0.36<br>b = -1 </td><td>a = 0.38<br>b = -1</td><td>a = 0.024<br>b = -1</td><td>a = 0.35<br>b = -1</td><td>a = 0.62<br>b = 1 </td><td>a = 0.89<br>b = 1  </td><td>a = 0.67<br>b = 1</td><td>a = 0.56<br>b = 1  </td><td>a = 0.094<br>b = -1</td><td>a = 0.073<br>b = -1 </td></tr>\n",
       "<tr><td><b>[0. 1.]</b></td><td>a = 0.19<br>b = -1 </td><td>a = 0.28<br>b = -1</td><td>a = 0.32<br>b = -1 </td><td>a = 0.51<br>b = 1 </td><td>a = 0.83<br>b = 1 </td><td>a = 0.49<br>b = -1 </td><td>a = 0.79<br>b = 1</td><td>a = 0.93<br>b = 1  </td><td>a = 0.97<br>b = 1  </td><td>a = 0.89<br>b = 1   </td></tr>\n",
       "</tbody>\n",
       "</table>"
      ],
      "text/plain": [
       "GridData(Grid(\n",
       "Dimension(\"x\",\n",
       "points = None,\n",
       "edges = array([[ 9., 10.],\n",
       "       [ 8.,  9.],\n",
       "       [ 7.,  8.],\n",
       "       [ 6.,  7.],\n",
       "       [ 5.,  6.],\n",
       "       [ 4.,  5.],\n",
       "       [ 3.,  4.],\n",
       "       [ 2.,  3.],\n",
       "       [ 1.,  2.],\n",
       "       [ 0.,  1.]]))\n",
       "nbins = 10),\n",
       "Dimension(\"y\",\n",
       "points = None,\n",
       "edges = array([[4., 5.],\n",
       "       [3., 4.],\n",
       "       [2., 3.],\n",
       "       [1., 2.],\n",
       "       [0., 1.]]))\n",
       "nbins = 5),)\n",
       "OrderedDict([('a', array([[0.31009077, 0.2290822 , 0.0541213 , 0.36301977, 0.18897808],\n",
       "       [0.62732552, 0.12806348, 0.77932743, 0.3772091 , 0.28115031],\n",
       "       [0.6569353 , 0.1376575 , 0.53625476, 0.02387909, 0.32335405],\n",
       "       [0.86088461, 0.9677737 , 0.28598287, 0.35466107, 0.50606725],\n",
       "       [0.12107677, 0.29770879, 0.68251922, 0.61519215, 0.82542331],\n",
       "       [0.73888843, 0.06109754, 0.66806477, 0.89457325, 0.48709646],\n",
       "       [0.9581678 , 0.64716543, 0.70305048, 0.66624969, 0.79269363],\n",
       "       [0.82317292, 0.67682216, 0.08160931, 0.56409501, 0.92640385],\n",
       "       [0.96942297, 0.26033187, 0.97668533, 0.09369209, 0.97349033],\n",
       "       [0.63262222, 0.53941466, 0.00431053, 0.07250173, 0.89343694]])), ('b', array([[-1., -1., -1., -1., -1.],\n",
       "       [ 1., -1.,  1., -1., -1.],\n",
       "       [ 1., -1.,  1., -1., -1.],\n",
       "       [ 1.,  1., -1., -1.,  1.],\n",
       "       [-1., -1.,  1.,  1.,  1.],\n",
       "       [ 1., -1.,  1.,  1., -1.],\n",
       "       [ 1.,  1.,  1.,  1.,  1.],\n",
       "       [ 1.,  1., -1.,  1.,  1.],\n",
       "       [ 1., -1.,  1., -1.,  1.],\n",
       "       [ 1.,  1., -1., -1.,  1.]]))]))"
      ]
     },
     "execution_count": 38,
     "metadata": {},
     "output_type": "execute_result"
    }
   ],
   "source": [
    "g[::-1, ::-1]"
   ]
  },
  {
   "cell_type": "code",
   "execution_count": 47,
   "metadata": {},
   "outputs": [
    {
     "data": {
      "text/html": [
       "<table>\n",
       "<tbody>\n",
       "<tr><td><b>y \\ x</b>  </td><td><b>[0. 1.]</b>                 </td><td><b>[3. 4.]</b>              </td><td><b>[5. 6.]</b>              </td></tr>\n",
       "<tr><td><b>[2. 3.]</b></td><td>a = 0.0043<br>b = -1<br>c = 1.1</td><td>a = 0.7<br>b = 1<br>c = 3   </td><td>a = 0.68<br>b = 1<br>c = 3.7</td></tr>\n",
       "<tr><td><b>[3. 4.]</b></td><td>a = 0.54<br>b = 1<br>c = 1.3   </td><td>a = 0.65<br>b = 1<br>c = 3.5</td><td>a = 0.3<br>b = -1<br>c = 4.4</td></tr>\n",
       "</tbody>\n",
       "</table>"
      ],
      "text/plain": [
       "GridData(Grid(\n",
       "Dimension(\"x\",\n",
       "points = None,\n",
       "edges = array([[0., 1.],\n",
       "       [3., 4.],\n",
       "       [5., 6.]]))\n",
       "nbins = 3),\n",
       "Dimension(\"y\",\n",
       "points = None,\n",
       "edges = array([[2., 3.],\n",
       "       [3., 4.]]))\n",
       "nbins = 2),)\n",
       "OrderedDict([('a', array([[0.00431053, 0.53941466],\n",
       "       [0.70305048, 0.64716543],\n",
       "       [0.68251922, 0.29770879]])), ('b', array([[-1.,  1.],\n",
       "       [ 1.,  1.],\n",
       "       [ 1., -1.]])), ('c', array([[1.11803399, 1.32287566],\n",
       "       [2.95803989, 3.5       ],\n",
       "       [3.70809924, 4.38748219]]))]))"
      ]
     },
     "execution_count": 47,
     "metadata": {},
     "output_type": "execute_result"
    }
   ],
   "source": [
    "g[[0,3,5], 2:-1]"
   ]
  },
  {
   "cell_type": "code",
   "execution_count": 39,
   "metadata": {},
   "outputs": [
    {
     "data": {
      "text/plain": [
       "{'a': 0.8934369398260085, 'b': 1.0}"
      ]
     },
     "execution_count": 39,
     "metadata": {},
     "output_type": "execute_result"
    }
   ],
   "source": [
    "g[0,0]"
   ]
  },
  {
   "cell_type": "code",
   "execution_count": 63,
   "metadata": {},
   "outputs": [
    {
     "data": {
      "text/plain": [
       "10.0"
      ]
     },
     "execution_count": 63,
     "metadata": {},
     "output_type": "execute_result"
    }
   ],
   "source": [
    "g.grid.edges[0].max()"
   ]
  },
  {
   "cell_type": "code",
   "execution_count": 40,
   "metadata": {},
   "outputs": [
    {
     "data": {
      "text/html": [
       "<table>\n",
       "<tbody>\n",
       "<tr><td><b>y</b></td><td><b>[0. 1.]</b></td><td><b>[1. 2.]</b></td><td><b>[2. 3.]</b></td><td><b>[3. 4.]</b></td><td><b>[4. 5.]</b></td></tr>\n",
       "<tr><td><b>b</b></td><td>0.48          </td><td>0.071         </td><td>0.53          </td><td>0.082         </td><td>0.86          </td></tr>\n",
       "</tbody>\n",
       "</table>"
      ],
      "text/plain": [
       "GridArray(b : [0.48015528 0.071137   0.52703575 0.08214092 0.85914848])"
      ]
     },
     "execution_count": 40,
     "metadata": {},
     "output_type": "execute_result"
    }
   ],
   "source": [
    "np.mean(g['b'], axis='x') + np.std(g['a'], axis='x')"
   ]
  },
  {
   "cell_type": "code",
   "execution_count": 42,
   "metadata": {},
   "outputs": [],
   "source": [
    "g['c'] = np.sqrt(g['x']) * np.sqrt(g['y'])"
   ]
  },
  {
   "cell_type": "code",
   "execution_count": 64,
   "metadata": {},
   "outputs": [
    {
     "data": {
      "text/plain": [
       "<matplotlib.collections.QuadMesh at 0x7f482e90cb00>"
      ]
     },
     "execution_count": 64,
     "metadata": {},
     "output_type": "execute_result"
    },
    {
     "data": {
      "image/png": "[encoded data removed]",
      "text/plain": [
       "<Figure size 432x288 with 2 Axes>"
      ]
     },
     "metadata": {
      "needs_background": "light"
     },
     "output_type": "display_data"
    }
   ],
   "source": [
    "g.plot('c', cbar=True)"
   ]
  },
  {
   "cell_type": "code",
   "execution_count": 65,
   "metadata": {},
   "outputs": [],
   "source": [
    "g['m'] = np.arange(g.grid.size * 3).reshape(g.shape + (-1,))"
   ]
  },
  {
   "cell_type": "code",
   "execution_count": 66,
   "metadata": {},
   "outputs": [
    {
     "data": {
      "text/plain": [
       "<matplotlib.image.AxesImage at 0x7f482e867208>"
      ]
     },
     "execution_count": 66,
     "metadata": {},
     "output_type": "execute_result"
    },
    {
     "data": {
      "image/png": "[encoded data removed]",
      "text/plain": [
       "<Figure size 432x288 with 1 Axes>"
      ]
     },
     "metadata": {
      "needs_background": "light"
     },
     "output_type": "display_data"
    }
   ],
   "source": [
    "g.plot('m') #it's interpreted as an RGB image, since the excess dimension is 3"
   ]
  },
  {
   "cell_type": "code",
   "execution_count": 67,
   "metadata": {},
   "outputs": [
    {
     "data": {
      "text/html": [
       "<table>\n",
       "<tbody>\n",
       "<tr><td><b>y \\ x</b>  </td><td><b>[0. 1.]</b></td><td><b>[1. 2.]</b></td><td><b>[2. 3.]</b></td><td><b>[3. 4.]</b></td><td><b>[4. 5.]</b></td><td><b>[5. 6.]</b></td><td><b>[6. 7.]</b></td><td><b>[7. 8.]</b></td><td><b>[8. 9.]</b></td><td><b>[ 9. 10.]</b></td></tr>\n",
       "<tr><td><b>[0. 1.]</b></td><td>0             </td><td>15            </td><td>30            </td><td>45            </td><td>60            </td><td>75            </td><td>90            </td><td>1.0e+02       </td><td>1.2e+02       </td><td>1.4e+02         </td></tr>\n",
       "<tr><td><b>[1. 2.]</b></td><td>3             </td><td>18            </td><td>33            </td><td>48            </td><td>63            </td><td>78            </td><td>93            </td><td>1.1e+02       </td><td>1.2e+02       </td><td>1.4e+02         </td></tr>\n",
       "<tr><td><b>[2. 3.]</b></td><td>6             </td><td>21            </td><td>36            </td><td>51            </td><td>66            </td><td>81            </td><td>96            </td><td>1.1e+02       </td><td>1.3e+02       </td><td>1.4e+02         </td></tr>\n",
       "<tr><td><b>[3. 4.]</b></td><td>9             </td><td>24            </td><td>39            </td><td>54            </td><td>69            </td><td>84            </td><td>99            </td><td>1.1e+02       </td><td>1.3e+02       </td><td>1.4e+02         </td></tr>\n",
       "<tr><td><b>[4. 5.]</b></td><td>12            </td><td>27            </td><td>42            </td><td>57            </td><td>72            </td><td>87            </td><td>1e+02         </td><td>1.2e+02       </td><td>1.3e+02       </td><td>1.5e+02         </td></tr>\n",
       "</tbody>\n",
       "</table>"
      ],
      "text/plain": [
       "GridArray(m : [[  0   3   6   9  12]\n",
       " [ 15  18  21  24  27]\n",
       " [ 30  33  36  39  42]\n",
       " [ 45  48  51  54  57]\n",
       " [ 60  63  66  69  72]\n",
       " [ 75  78  81  84  87]\n",
       " [ 90  93  96  99 102]\n",
       " [105 108 111 114 117]\n",
       " [120 123 126 129 132]\n",
       " [135 138 141 144 147]])"
      ]
     },
     "execution_count": 67,
     "metadata": {},
     "output_type": "execute_result"
    }
   ],
   "source": [
    "g['m'][:,:,0]"
   ]
  },
  {
   "cell_type": "code",
   "execution_count": 68,
   "metadata": {},
   "outputs": [
    {
     "data": {
      "text/html": [
       "<table>\n",
       "<tbody>\n",
       "<tr><td><b>x</b></td><td><b>[0. 1.]</b></td><td><b>[1. 2.]</b></td><td><b>[2. 3.]</b></td><td><b>[3. 4.]</b></td><td><b>[4. 5.]</b></td><td><b>[5. 6.]</b></td><td><b>[6. 7.]</b></td><td><b>[7. 8.]</b></td><td><b>[8. 9.]</b></td><td><b>[ 9. 10.]</b></td></tr>\n",
       "<tr><td><b>a</b></td><td>0.54          </td><td>0.26          </td><td>0.68          </td><td>0.65          </td><td>0.061         </td><td>0.3           </td><td>0.97          </td><td>0.14          </td><td>0.13          </td><td>0.23            </td></tr>\n",
       "<tr><td><b>b</b></td><td>1             </td><td>-1            </td><td>1             </td><td>1             </td><td>-1            </td><td>-1            </td><td>1             </td><td>-1            </td><td>-1            </td><td>-1              </td></tr>\n",
       "<tr><td><b>c</b></td><td>1.3           </td><td>2.3           </td><td>3             </td><td>3.5           </td><td>4             </td><td>4.4           </td><td>4.8           </td><td>5.1           </td><td>5.5           </td><td>5.8             </td></tr>\n",
       "<tr><td><b>m</b></td><td>[ 9 10 11]    </td><td>[24 25 26]    </td><td>[39 40 41]    </td><td>[54 55 56]    </td><td>[69 70 71]    </td><td>[84 85 86]    </td><td>[ 99 100 101] </td><td>[114 115 116] </td><td>[129 130 131] </td><td>[144 145 146]   </td></tr>\n",
       "</tbody>\n",
       "</table>"
      ],
      "text/plain": [
       "GridData(Grid(\n",
       "Dimension(\"x\",\n",
       "points = None,\n",
       "edges = array([[ 0.,  1.],\n",
       "       [ 1.,  2.],\n",
       "       [ 2.,  3.],\n",
       "       [ 3.,  4.],\n",
       "       [ 4.,  5.],\n",
       "       [ 5.,  6.],\n",
       "       [ 6.,  7.],\n",
       "       [ 7.,  8.],\n",
       "       [ 8.,  9.],\n",
       "       [ 9., 10.]]))\n",
       "nbins = 10),)\n",
       "OrderedDict([('a', array([0.53941466, 0.26033187, 0.67682216, 0.64716543, 0.06109754,\n",
       "       0.29770879, 0.9677737 , 0.1376575 , 0.12806348, 0.2290822 ])), ('b', array([ 1., -1.,  1.,  1., -1., -1.,  1., -1., -1., -1.])), ('c', array([1.32287566, 2.29128785, 2.95803989, 3.5       , 3.96862697,\n",
       "       4.38748219, 4.76969601, 5.12347538, 5.45435606, 5.7662813 ])), ('m', array([[  9,  10,  11],\n",
       "       [ 24,  25,  26],\n",
       "       [ 39,  40,  41],\n",
       "       [ 54,  55,  56],\n",
       "       [ 69,  70,  71],\n",
       "       [ 84,  85,  86],\n",
       "       [ 99, 100, 101],\n",
       "       [114, 115, 116],\n",
       "       [129, 130, 131],\n",
       "       [144, 145, 146]]))]))"
      ]
     },
     "execution_count": 68,
     "metadata": {},
     "output_type": "execute_result"
    }
   ],
   "source": [
    "g[:,3]"
   ]
  },
  {
   "cell_type": "markdown",
   "metadata": {},
   "source": [
    "# Stuff to fix"
   ]
  },
  {
   "cell_type": "code",
   "execution_count": 69,
   "metadata": {},
   "outputs": [
    {
     "data": {
      "text/html": [
       "GridArray(m : [[[  0   1   2]\n",
       "  [  3   4   5]\n",
       "  [  6   7   8]\n",
       "  [  9  10  11]\n",
       "  [ 12  13  14]]\n",
       "\n",
       " [[ 15  16  17]\n",
       "  [ 18  19  20]\n",
       "  [ 21  22  23]\n",
       "  [ 24  25  26]\n",
       "  [ 27  28  29]]\n",
       "\n",
       " [[ 30  31  32]\n",
       "  [ 33  34  35]\n",
       "  [ 36  37  38]\n",
       "  [ 39  40  41]\n",
       "  [ 42  43  44]]\n",
       "\n",
       " [[ 45  46  47]\n",
       "  [ 48  49  50]\n",
       "  [ 51  52  53]\n",
       "  [ 54  55  56]\n",
       "  [ 57  58  59]]\n",
       "\n",
       " [[ 60  61  62]\n",
       "  [ 63  64  65]\n",
       "  [ 66  67  68]\n",
       "  [ 69  70  71]\n",
       "  [ 72  73  74]]\n",
       "\n",
       " [[ 75  76  77]\n",
       "  [ 78  79  80]\n",
       "  [ 81  82  83]\n",
       "  [ 84  85  86]\n",
       "  [ 87  88  89]]\n",
       "\n",
       " [[ 90  91  92]\n",
       "  [ 93  94  95]\n",
       "  [ 96  97  98]\n",
       "  [ 99 100 101]\n",
       "  [102 103 104]]\n",
       "\n",
       " [[105 106 107]\n",
       "  [108 109 110]\n",
       "  [111 112 113]\n",
       "  [114 115 116]\n",
       "  [117 118 119]]\n",
       "\n",
       " [[120 121 122]\n",
       "  [123 124 125]\n",
       "  [126 127 128]\n",
       "  [129 130 131]\n",
       "  [132 133 134]]\n",
       "\n",
       " [[135 136 137]\n",
       "  [138 139 140]\n",
       "  [141 142 143]\n",
       "  [144 145 146]\n",
       "  [147 148 149]]])"
      ],
      "text/plain": [
       "GridArray(m : [[[  0   1   2]\n",
       "  [  3   4   5]\n",
       "  [  6   7   8]\n",
       "  [  9  10  11]\n",
       "  [ 12  13  14]]\n",
       "\n",
       " [[ 15  16  17]\n",
       "  [ 18  19  20]\n",
       "  [ 21  22  23]\n",
       "  [ 24  25  26]\n",
       "  [ 27  28  29]]\n",
       "\n",
       " [[ 30  31  32]\n",
       "  [ 33  34  35]\n",
       "  [ 36  37  38]\n",
       "  [ 39  40  41]\n",
       "  [ 42  43  44]]\n",
       "\n",
       " [[ 45  46  47]\n",
       "  [ 48  49  50]\n",
       "  [ 51  52  53]\n",
       "  [ 54  55  56]\n",
       "  [ 57  58  59]]\n",
       "\n",
       " [[ 60  61  62]\n",
       "  [ 63  64  65]\n",
       "  [ 66  67  68]\n",
       "  [ 69  70  71]\n",
       "  [ 72  73  74]]\n",
       "\n",
       " [[ 75  76  77]\n",
       "  [ 78  79  80]\n",
       "  [ 81  82  83]\n",
       "  [ 84  85  86]\n",
       "  [ 87  88  89]]\n",
       "\n",
       " [[ 90  91  92]\n",
       "  [ 93  94  95]\n",
       "  [ 96  97  98]\n",
       "  [ 99 100 101]\n",
       "  [102 103 104]]\n",
       "\n",
       " [[105 106 107]\n",
       "  [108 109 110]\n",
       "  [111 112 113]\n",
       "  [114 115 116]\n",
       "  [117 118 119]]\n",
       "\n",
       " [[120 121 122]\n",
       "  [123 124 125]\n",
       "  [126 127 128]\n",
       "  [129 130 131]\n",
       "  [132 133 134]]\n",
       "\n",
       " [[135 136 137]\n",
       "  [138 139 140]\n",
       "  [141 142 143]\n",
       "  [144 145 146]\n",
       "  [147 148 149]]])"
      ]
     },
     "execution_count": 69,
     "metadata": {},
     "output_type": "execute_result"
    }
   ],
   "source": [
    "g['m']"
   ]
  },
  {
   "cell_type": "code",
   "execution_count": 70,
   "metadata": {},
   "outputs": [
    {
     "ename": "TypeError",
     "evalue": "list indices must be integers or slices, not tuple",
     "output_type": "error",
     "traceback": [
      "\u001b[0;31m---------------------------------------------------------------------------\u001b[0m",
      "\u001b[0;31mTypeError\u001b[0m                                 Traceback (most recent call last)",
      "\u001b[0;32m<ipython-input-70-736532b143b4>\u001b[0m in \u001b[0;36m<module>\u001b[0;34m\u001b[0m\n\u001b[0;32m----> 1\u001b[0;31m \u001b[0mnp\u001b[0m\u001b[0;34m.\u001b[0m\u001b[0msum\u001b[0m\u001b[0;34m(\u001b[0m\u001b[0mg\u001b[0m\u001b[0;34m[\u001b[0m\u001b[0;34m'm'\u001b[0m\u001b[0;34m]\u001b[0m\u001b[0;34m,\u001b[0m \u001b[0maxis\u001b[0m\u001b[0;34m=\u001b[0m\u001b[0;34m(\u001b[0m\u001b[0;36m0\u001b[0m\u001b[0;34m,\u001b[0m\u001b[0;36m1\u001b[0m\u001b[0;34m)\u001b[0m\u001b[0;34m)\u001b[0m\u001b[0;34m\u001b[0m\u001b[0;34m\u001b[0m\u001b[0m\n\u001b[0m",
      "\u001b[0;32m~/anaconda3/lib/python3.7/site-packages/numpy/core/fromnumeric.py\u001b[0m in \u001b[0;36msum\u001b[0;34m(a, axis, dtype, out, keepdims, initial)\u001b[0m\n\u001b[1;32m   2074\u001b[0m \u001b[0;34m\u001b[0m\u001b[0m\n\u001b[1;32m   2075\u001b[0m     return _wrapreduction(a, np.add, 'sum', axis, dtype, out, keepdims=keepdims,\n\u001b[0;32m-> 2076\u001b[0;31m                           initial=initial)\n\u001b[0m\u001b[1;32m   2077\u001b[0m \u001b[0;34m\u001b[0m\u001b[0m\n\u001b[1;32m   2078\u001b[0m \u001b[0;34m\u001b[0m\u001b[0m\n",
      "\u001b[0;32m~/anaconda3/lib/python3.7/site-packages/numpy/core/fromnumeric.py\u001b[0m in \u001b[0;36m_wrapreduction\u001b[0;34m(obj, ufunc, method, axis, dtype, out, **kwargs)\u001b[0m\n\u001b[1;32m     84\u001b[0m                 \u001b[0;32mreturn\u001b[0m \u001b[0mreduction\u001b[0m\u001b[0;34m(\u001b[0m\u001b[0maxis\u001b[0m\u001b[0;34m=\u001b[0m\u001b[0maxis\u001b[0m\u001b[0;34m,\u001b[0m \u001b[0mout\u001b[0m\u001b[0;34m=\u001b[0m\u001b[0mout\u001b[0m\u001b[0;34m,\u001b[0m \u001b[0;34m**\u001b[0m\u001b[0mpasskwargs\u001b[0m\u001b[0;34m)\u001b[0m\u001b[0;34m\u001b[0m\u001b[0;34m\u001b[0m\u001b[0m\n\u001b[1;32m     85\u001b[0m \u001b[0;34m\u001b[0m\u001b[0m\n\u001b[0;32m---> 86\u001b[0;31m     \u001b[0;32mreturn\u001b[0m \u001b[0mufunc\u001b[0m\u001b[0;34m.\u001b[0m\u001b[0mreduce\u001b[0m\u001b[0;34m(\u001b[0m\u001b[0mobj\u001b[0m\u001b[0;34m,\u001b[0m \u001b[0maxis\u001b[0m\u001b[0;34m,\u001b[0m \u001b[0mdtype\u001b[0m\u001b[0;34m,\u001b[0m \u001b[0mout\u001b[0m\u001b[0;34m,\u001b[0m \u001b[0;34m**\u001b[0m\u001b[0mpasskwargs\u001b[0m\u001b[0;34m)\u001b[0m\u001b[0;34m\u001b[0m\u001b[0;34m\u001b[0m\u001b[0m\n\u001b[0m\u001b[1;32m     87\u001b[0m \u001b[0;34m\u001b[0m\u001b[0m\n\u001b[1;32m     88\u001b[0m \u001b[0;34m\u001b[0m\u001b[0m\n",
      "\u001b[0;32m~/pynocular/pynocular/griddata.py\u001b[0m in \u001b[0;36m__array_ufunc__\u001b[0;34m(self, ufunc, method, *inputs, **kwargs)\u001b[0m\n\u001b[1;32m    268\u001b[0m             \u001b[0mresult\u001b[0m \u001b[0;34m=\u001b[0m \u001b[0mnp\u001b[0m\u001b[0;34m.\u001b[0m\u001b[0masanyarray\u001b[0m\u001b[0;34m(\u001b[0m\u001b[0mself\u001b[0m\u001b[0;34m)\u001b[0m\u001b[0;34m.\u001b[0m\u001b[0m__array_ufunc__\u001b[0m\u001b[0;34m(\u001b[0m\u001b[0mufunc\u001b[0m\u001b[0;34m,\u001b[0m \u001b[0mmethod\u001b[0m\u001b[0;34m,\u001b[0m \u001b[0;34m*\u001b[0m\u001b[0marray_inputs\u001b[0m\u001b[0;34m,\u001b[0m \u001b[0;34m**\u001b[0m\u001b[0mkwargs\u001b[0m\u001b[0;34m)\u001b[0m\u001b[0;34m\u001b[0m\u001b[0;34m\u001b[0m\u001b[0m\n\u001b[1;32m    269\u001b[0m \u001b[0;34m\u001b[0m\u001b[0m\n\u001b[0;32m--> 270\u001b[0;31m         \u001b[0;32mreturn\u001b[0m \u001b[0mself\u001b[0m\u001b[0;34m.\u001b[0m\u001b[0m_pack_result\u001b[0m\u001b[0;34m(\u001b[0m\u001b[0mresult\u001b[0m\u001b[0;34m,\u001b[0m \u001b[0maxis\u001b[0m\u001b[0;34m)\u001b[0m\u001b[0;34m\u001b[0m\u001b[0;34m\u001b[0m\u001b[0m\n\u001b[0m\u001b[1;32m    271\u001b[0m \u001b[0;34m\u001b[0m\u001b[0m\n\u001b[1;32m    272\u001b[0m \u001b[0;34m\u001b[0m\u001b[0m\n",
      "\u001b[0;32m~/pynocular/pynocular/griddata.py\u001b[0m in \u001b[0;36m_pack_result\u001b[0;34m(self, result, axis)\u001b[0m\n\u001b[1;32m    210\u001b[0m                 \u001b[0;32mif\u001b[0m \u001b[0maxis\u001b[0m \u001b[0;32mis\u001b[0m \u001b[0;32mnot\u001b[0m \u001b[0;32mNone\u001b[0m\u001b[0;34m:\u001b[0m\u001b[0;34m\u001b[0m\u001b[0;34m\u001b[0m\u001b[0m\n\u001b[1;32m    211\u001b[0m                     \u001b[0mnew_grid\u001b[0m \u001b[0;34m=\u001b[0m \u001b[0mcopy\u001b[0m\u001b[0;34m.\u001b[0m\u001b[0mdeepcopy\u001b[0m\u001b[0;34m(\u001b[0m\u001b[0mself\u001b[0m\u001b[0;34m.\u001b[0m\u001b[0mgrid\u001b[0m\u001b[0;34m)\u001b[0m\u001b[0;34m\u001b[0m\u001b[0;34m\u001b[0m\u001b[0m\n\u001b[0;32m--> 212\u001b[0;31m                     \u001b[0;32mdel\u001b[0m\u001b[0;34m(\u001b[0m\u001b[0mnew_grid\u001b[0m\u001b[0;34m.\u001b[0m\u001b[0mdims\u001b[0m\u001b[0;34m[\u001b[0m\u001b[0maxis\u001b[0m\u001b[0;34m]\u001b[0m\u001b[0;34m)\u001b[0m\u001b[0;34m\u001b[0m\u001b[0;34m\u001b[0m\u001b[0m\n\u001b[0m\u001b[1;32m    213\u001b[0m                 \u001b[0;32melse\u001b[0m\u001b[0;34m:\u001b[0m\u001b[0;34m\u001b[0m\u001b[0;34m\u001b[0m\u001b[0m\n\u001b[1;32m    214\u001b[0m                     \u001b[0mnew_grid\u001b[0m \u001b[0;34m=\u001b[0m \u001b[0mself\u001b[0m\u001b[0;34m.\u001b[0m\u001b[0mgrid\u001b[0m\u001b[0;34m\u001b[0m\u001b[0;34m\u001b[0m\u001b[0m\n",
      "\u001b[0;31mTypeError\u001b[0m: list indices must be integers or slices, not tuple"
     ]
    }
   ],
   "source": [
    "np.sum(g['m'], axis=(0,1))"
   ]
  },
  {
   "cell_type": "code",
   "execution_count": 71,
   "metadata": {},
   "outputs": [
    {
     "ename": "IndexError",
     "evalue": "list index out of range",
     "output_type": "error",
     "traceback": [
      "\u001b[0;31m---------------------------------------------------------------------------\u001b[0m",
      "\u001b[0;31mIndexError\u001b[0m                                Traceback (most recent call last)",
      "\u001b[0;32m~/anaconda3/lib/python3.7/site-packages/IPython/core/formatters.py\u001b[0m in \u001b[0;36m__call__\u001b[0;34m(self, obj)\u001b[0m\n\u001b[1;32m    343\u001b[0m             \u001b[0mmethod\u001b[0m \u001b[0;34m=\u001b[0m \u001b[0mget_real_method\u001b[0m\u001b[0;34m(\u001b[0m\u001b[0mobj\u001b[0m\u001b[0;34m,\u001b[0m \u001b[0mself\u001b[0m\u001b[0;34m.\u001b[0m\u001b[0mprint_method\u001b[0m\u001b[0;34m)\u001b[0m\u001b[0;34m\u001b[0m\u001b[0;34m\u001b[0m\u001b[0m\n\u001b[1;32m    344\u001b[0m             \u001b[0;32mif\u001b[0m \u001b[0mmethod\u001b[0m \u001b[0;32mis\u001b[0m \u001b[0;32mnot\u001b[0m \u001b[0;32mNone\u001b[0m\u001b[0;34m:\u001b[0m\u001b[0;34m\u001b[0m\u001b[0;34m\u001b[0m\u001b[0m\n\u001b[0;32m--> 345\u001b[0;31m                 \u001b[0;32mreturn\u001b[0m \u001b[0mmethod\u001b[0m\u001b[0;34m(\u001b[0m\u001b[0;34m)\u001b[0m\u001b[0;34m\u001b[0m\u001b[0;34m\u001b[0m\u001b[0m\n\u001b[0m\u001b[1;32m    346\u001b[0m             \u001b[0;32mreturn\u001b[0m \u001b[0;32mNone\u001b[0m\u001b[0;34m\u001b[0m\u001b[0;34m\u001b[0m\u001b[0m\n\u001b[1;32m    347\u001b[0m         \u001b[0;32melse\u001b[0m\u001b[0;34m:\u001b[0m\u001b[0;34m\u001b[0m\u001b[0;34m\u001b[0m\u001b[0m\n",
      "\u001b[0;32m~/pynocular/pynocular/griddata.py\u001b[0m in \u001b[0;36m_repr_html_\u001b[0;34m(self)\u001b[0m\n\u001b[1;32m     47\u001b[0m             \u001b[0mtable\u001b[0m \u001b[0;34m=\u001b[0m \u001b[0;34m[\u001b[0m\u001b[0mcopy\u001b[0m\u001b[0;34m.\u001b[0m\u001b[0mcopy\u001b[0m\u001b[0;34m(\u001b[0m\u001b[0mtable_x\u001b[0m\u001b[0;34m)\u001b[0m \u001b[0;32mfor\u001b[0m \u001b[0m_\u001b[0m \u001b[0;32min\u001b[0m \u001b[0mrange\u001b[0m\u001b[0;34m(\u001b[0m\u001b[0mself\u001b[0m\u001b[0;34m.\u001b[0m\u001b[0mshape\u001b[0m\u001b[0;34m[\u001b[0m\u001b[0;36m1\u001b[0m\u001b[0;34m]\u001b[0m \u001b[0;34m+\u001b[0m \u001b[0;36m1\u001b[0m\u001b[0;34m)\u001b[0m\u001b[0;34m]\u001b[0m\u001b[0;34m\u001b[0m\u001b[0;34m\u001b[0m\u001b[0m\n\u001b[1;32m     48\u001b[0m \u001b[0;34m\u001b[0m\u001b[0m\n\u001b[0;32m---> 49\u001b[0;31m             \u001b[0mtable\u001b[0m\u001b[0;34m[\u001b[0m\u001b[0;36m0\u001b[0m\u001b[0;34m]\u001b[0m\u001b[0;34m[\u001b[0m\u001b[0;36m0\u001b[0m\u001b[0;34m]\u001b[0m \u001b[0;34m=\u001b[0m \u001b[0;34m'<b>%s \\ %s</b>'\u001b[0m\u001b[0;34m%\u001b[0m\u001b[0;34m(\u001b[0m\u001b[0mself\u001b[0m\u001b[0;34m.\u001b[0m\u001b[0mgrid\u001b[0m\u001b[0;34m.\u001b[0m\u001b[0mvars\u001b[0m\u001b[0;34m[\u001b[0m\u001b[0;36m1\u001b[0m\u001b[0;34m]\u001b[0m\u001b[0;34m,\u001b[0m \u001b[0mself\u001b[0m\u001b[0;34m.\u001b[0m\u001b[0mgrid\u001b[0m\u001b[0;34m.\u001b[0m\u001b[0mvars\u001b[0m\u001b[0;34m[\u001b[0m\u001b[0;36m0\u001b[0m\u001b[0;34m]\u001b[0m\u001b[0;34m)\u001b[0m\u001b[0;34m\u001b[0m\u001b[0;34m\u001b[0m\u001b[0m\n\u001b[0m\u001b[1;32m     50\u001b[0m \u001b[0;34m\u001b[0m\u001b[0m\n\u001b[1;32m     51\u001b[0m             \u001b[0mx_labels\u001b[0m \u001b[0;34m=\u001b[0m \u001b[0mtable_labels\u001b[0m\u001b[0;34m(\u001b[0m\u001b[0mself\u001b[0m\u001b[0;34m.\u001b[0m\u001b[0mgrid\u001b[0m\u001b[0;34m,\u001b[0m \u001b[0;36m0\u001b[0m\u001b[0;34m)\u001b[0m\u001b[0;34m\u001b[0m\u001b[0;34m\u001b[0m\u001b[0m\n",
      "\u001b[0;31mIndexError\u001b[0m: list index out of range"
     ]
    },
    {
     "data": {
      "text/plain": [
       "GridArray(m : [[  3  12  21  30  39]\n",
       " [ 48  57  66  75  84]\n",
       " [ 93 102 111 120 129]\n",
       " [138 147 156 165 174]\n",
       " [183 192 201 210 219]\n",
       " [228 237 246 255 264]\n",
       " [273 282 291 300 309]\n",
       " [318 327 336 345 354]\n",
       " [363 372 381 390 399]\n",
       " [408 417 426 435 444]])"
      ]
     },
     "execution_count": 71,
     "metadata": {},
     "output_type": "execute_result"
    }
   ],
   "source": [
    "np.sum(g['m'], axis=-1)"
   ]
  },
  {
   "cell_type": "code",
   "execution_count": 72,
   "metadata": {},
   "outputs": [
    {
     "data": {
      "text/plain": [
       "Grid(\n",
       "Dimension(\"x\",\n",
       "points = None,\n",
       "edges = array([[ 0.,  1.],\n",
       "       [ 1.,  2.],\n",
       "       [ 2.,  3.],\n",
       "       [ 3.,  4.],\n",
       "       [ 4.,  5.],\n",
       "       [ 5.,  6.],\n",
       "       [ 6.,  7.],\n",
       "       [ 7.,  8.],\n",
       "       [ 8.,  9.],\n",
       "       [ 9., 10.]]))\n",
       "nbins = 10),)"
      ]
     },
     "execution_count": 72,
     "metadata": {},
     "output_type": "execute_result"
    }
   ],
   "source": [
    "# because of this\n",
    "np.sum(g['m'], axis=-1).grid"
   ]
  },
  {
   "cell_type": "code",
   "execution_count": 73,
   "metadata": {},
   "outputs": [
    {
     "name": "stdout",
     "output_type": "stream",
     "text": [
      "a : 25.638797828698017\n",
      "b : 6.0\n",
      "c : 158.62977636787497\n",
      "m : 11175\n"
     ]
    },
    {
     "ename": "NotImplementedError",
     "evalue": "",
     "output_type": "error",
     "traceback": [
      "\u001b[0;31m---------------------------------------------------------------------------\u001b[0m",
      "\u001b[0;31mNotImplementedError\u001b[0m                       Traceback (most recent call last)",
      "\u001b[0;32m<ipython-input-73-425f2f31ff07>\u001b[0m in \u001b[0;36m<module>\u001b[0;34m\u001b[0m\n\u001b[0;32m----> 1\u001b[0;31m \u001b[0mnp\u001b[0m\u001b[0;34m.\u001b[0m\u001b[0msum\u001b[0m\u001b[0;34m(\u001b[0m\u001b[0mg\u001b[0m\u001b[0;34m)\u001b[0m\u001b[0;34m\u001b[0m\u001b[0;34m\u001b[0m\u001b[0m\n\u001b[0m",
      "\u001b[0;32m~/anaconda3/lib/python3.7/site-packages/numpy/core/fromnumeric.py\u001b[0m in \u001b[0;36msum\u001b[0;34m(a, axis, dtype, out, keepdims, initial)\u001b[0m\n\u001b[1;32m   2074\u001b[0m \u001b[0;34m\u001b[0m\u001b[0m\n\u001b[1;32m   2075\u001b[0m     return _wrapreduction(a, np.add, 'sum', axis, dtype, out, keepdims=keepdims,\n\u001b[0;32m-> 2076\u001b[0;31m                           initial=initial)\n\u001b[0m\u001b[1;32m   2077\u001b[0m \u001b[0;34m\u001b[0m\u001b[0m\n\u001b[1;32m   2078\u001b[0m \u001b[0;34m\u001b[0m\u001b[0m\n",
      "\u001b[0;32m~/anaconda3/lib/python3.7/site-packages/numpy/core/fromnumeric.py\u001b[0m in \u001b[0;36m_wrapreduction\u001b[0;34m(obj, ufunc, method, axis, dtype, out, **kwargs)\u001b[0m\n\u001b[1;32m     84\u001b[0m                 \u001b[0;32mreturn\u001b[0m \u001b[0mreduction\u001b[0m\u001b[0;34m(\u001b[0m\u001b[0maxis\u001b[0m\u001b[0;34m=\u001b[0m\u001b[0maxis\u001b[0m\u001b[0;34m,\u001b[0m \u001b[0mout\u001b[0m\u001b[0;34m=\u001b[0m\u001b[0mout\u001b[0m\u001b[0;34m,\u001b[0m \u001b[0;34m**\u001b[0m\u001b[0mpasskwargs\u001b[0m\u001b[0;34m)\u001b[0m\u001b[0;34m\u001b[0m\u001b[0;34m\u001b[0m\u001b[0m\n\u001b[1;32m     85\u001b[0m \u001b[0;34m\u001b[0m\u001b[0m\n\u001b[0;32m---> 86\u001b[0;31m     \u001b[0;32mreturn\u001b[0m \u001b[0mufunc\u001b[0m\u001b[0;34m.\u001b[0m\u001b[0mreduce\u001b[0m\u001b[0;34m(\u001b[0m\u001b[0mobj\u001b[0m\u001b[0;34m,\u001b[0m \u001b[0maxis\u001b[0m\u001b[0;34m,\u001b[0m \u001b[0mdtype\u001b[0m\u001b[0;34m,\u001b[0m \u001b[0mout\u001b[0m\u001b[0;34m,\u001b[0m \u001b[0;34m**\u001b[0m\u001b[0mpasskwargs\u001b[0m\u001b[0;34m)\u001b[0m\u001b[0;34m\u001b[0m\u001b[0;34m\u001b[0m\u001b[0m\n\u001b[0m\u001b[1;32m     87\u001b[0m \u001b[0;34m\u001b[0m\u001b[0m\n\u001b[1;32m     88\u001b[0m \u001b[0;34m\u001b[0m\u001b[0m\n",
      "\u001b[0;32m~/pynocular/pynocular/griddata.py\u001b[0m in \u001b[0;36m__array_ufunc__\u001b[0;34m(self, ufunc, method, *inputs, **kwargs)\u001b[0m\n\u001b[1;32m    402\u001b[0m             \u001b[0mresult\u001b[0m \u001b[0;34m=\u001b[0m \u001b[0mconverted_inputs\u001b[0m\u001b[0;34m[\u001b[0m\u001b[0;36m0\u001b[0m\u001b[0;34m]\u001b[0m\u001b[0;34m.\u001b[0m\u001b[0m__array_ufunc__\u001b[0m\u001b[0;34m(\u001b[0m\u001b[0mufunc\u001b[0m\u001b[0;34m,\u001b[0m \u001b[0mmethod\u001b[0m\u001b[0;34m,\u001b[0m \u001b[0;34m*\u001b[0m\u001b[0mconverted_inputs\u001b[0m\u001b[0;34m,\u001b[0m \u001b[0;34m**\u001b[0m\u001b[0mkwargs\u001b[0m\u001b[0;34m)\u001b[0m\u001b[0;34m\u001b[0m\u001b[0;34m\u001b[0m\u001b[0m\n\u001b[1;32m    403\u001b[0m             \u001b[0mprint\u001b[0m\u001b[0;34m(\u001b[0m\u001b[0;34m'%s : %s'\u001b[0m\u001b[0;34m%\u001b[0m\u001b[0;34m(\u001b[0m\u001b[0mvar\u001b[0m\u001b[0;34m,\u001b[0m \u001b[0mresult\u001b[0m\u001b[0;34m)\u001b[0m\u001b[0;34m)\u001b[0m\u001b[0;34m\u001b[0m\u001b[0;34m\u001b[0m\u001b[0m\n\u001b[0;32m--> 404\u001b[0;31m         \u001b[0;32mraise\u001b[0m \u001b[0mNotImplementedError\u001b[0m\u001b[0;34m(\u001b[0m\u001b[0;34m)\u001b[0m\u001b[0;34m\u001b[0m\u001b[0;34m\u001b[0m\u001b[0m\n\u001b[0m\u001b[1;32m    405\u001b[0m \u001b[0;34m\u001b[0m\u001b[0m\n\u001b[1;32m    406\u001b[0m     \u001b[0;34m@\u001b[0m\u001b[0mproperty\u001b[0m\u001b[0;34m\u001b[0m\u001b[0;34m\u001b[0m\u001b[0m\n",
      "\u001b[0;31mNotImplementedError\u001b[0m: "
     ]
    }
   ],
   "source": [
    "np.sum(g)"
   ]
  },
  {
   "cell_type": "code",
   "execution_count": 74,
   "metadata": {},
   "outputs": [
    {
     "ename": "NotImplementedError",
     "evalue": "",
     "output_type": "error",
     "traceback": [
      "\u001b[0;31m---------------------------------------------------------------------------\u001b[0m",
      "\u001b[0;31mNotImplementedError\u001b[0m                       Traceback (most recent call last)",
      "\u001b[0;32m<ipython-input-74-d291b00d60d5>\u001b[0m in \u001b[0;36m<module>\u001b[0;34m\u001b[0m\n\u001b[0;32m----> 1\u001b[0;31m \u001b[0mg\u001b[0m\u001b[0;34m.\u001b[0m\u001b[0mT\u001b[0m\u001b[0;34m\u001b[0m\u001b[0;34m\u001b[0m\u001b[0m\n\u001b[0m",
      "\u001b[0;32m~/pynocular/pynocular/griddata.py\u001b[0m in \u001b[0;36mT\u001b[0;34m(self)\u001b[0m\n\u001b[1;32m    395\u001b[0m     \u001b[0;32mdef\u001b[0m \u001b[0mT\u001b[0m\u001b[0;34m(\u001b[0m\u001b[0mself\u001b[0m\u001b[0;34m)\u001b[0m\u001b[0;34m:\u001b[0m\u001b[0;34m\u001b[0m\u001b[0;34m\u001b[0m\u001b[0m\n\u001b[1;32m    396\u001b[0m         \u001b[0;34m'''transpose'''\u001b[0m\u001b[0;34m\u001b[0m\u001b[0;34m\u001b[0m\u001b[0m\n\u001b[0;32m--> 397\u001b[0;31m         \u001b[0;32mraise\u001b[0m \u001b[0mNotImplementedError\u001b[0m\u001b[0;34m(\u001b[0m\u001b[0;34m)\u001b[0m\u001b[0;34m\u001b[0m\u001b[0;34m\u001b[0m\u001b[0m\n\u001b[0m\u001b[1;32m    398\u001b[0m \u001b[0;34m\u001b[0m\u001b[0m\n\u001b[1;32m    399\u001b[0m     \u001b[0;32mdef\u001b[0m \u001b[0m__array_ufunc__\u001b[0m\u001b[0;34m(\u001b[0m\u001b[0mself\u001b[0m\u001b[0;34m,\u001b[0m \u001b[0mufunc\u001b[0m\u001b[0;34m,\u001b[0m \u001b[0mmethod\u001b[0m\u001b[0;34m,\u001b[0m \u001b[0;34m*\u001b[0m\u001b[0minputs\u001b[0m\u001b[0;34m,\u001b[0m \u001b[0;34m**\u001b[0m\u001b[0mkwargs\u001b[0m\u001b[0;34m)\u001b[0m\u001b[0;34m:\u001b[0m\u001b[0;34m\u001b[0m\u001b[0;34m\u001b[0m\u001b[0m\n",
      "\u001b[0;31mNotImplementedError\u001b[0m: "
     ]
    }
   ],
   "source": [
    "g.T"
   ]
  }
 ],
 "metadata": {
  "kernelspec": {
   "display_name": "Python 3",
   "language": "python",
   "name": "python3"
  },
  "language_info": {
   "codemirror_mode": {
    "name": "ipython",
    "version": 3
   },
   "file_extension": ".py",
   "mimetype": "text/x-python",
   "name": "python",
   "nbconvert_exporter": "python",
   "pygments_lexer": "ipython3",
   "version": "3.7.3"
  }
 },
 "nbformat": 4,
 "nbformat_minor": 4
}
