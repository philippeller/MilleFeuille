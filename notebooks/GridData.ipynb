{
 "cells": [
  {
   "cell_type": "code",
   "execution_count": 1,
   "metadata": {},
   "outputs": [],
   "source": [
    "%reload_ext autoreload\n",
    "%autoreload 2\n",
    "import numpy as np\n",
    "import pynocular as pn\n",
    "from matplotlib import pyplot as plt\n",
    "from uncertainties import unumpy"
   ]
  },
  {
   "cell_type": "code",
   "execution_count": 22,
   "metadata": {},
   "outputs": [],
   "source": [
    "p = pn.PointData(x=np.arange(200).reshape(20, 1, -1))"
   ]
  },
  {
   "cell_type": "code",
   "execution_count": 24,
   "metadata": {},
   "outputs": [
    {
     "data": {
      "text/html": [
       "<table>\n",
       "<tbody>\n",
       "<tr><td>[[0 1 ... 8 9]]</td><td>[[10 11 ... 18 19]]</td><td>[[20 21 ... 28 29]]</td><td>[[30 31 ... 38 39]]</td><td>[[40 41 ... 48 49]]</td><td>[[50 51 ... 58 59]]</td><td>...</td><td>[[140 141 ... 148 149]]</td><td>[[150 151 ... 158 159]]</td><td>[[160 161 ... 168 169]]</td><td>[[170 171 ... 178 179]]</td><td>[[180 181 ... 188 189]]</td><td>[[190 191 ... 198 199]]</td></tr>\n",
       "</tbody>\n",
       "</table>"
      ],
      "text/plain": [
       "PointArray([[[  0,   1,   2,   3,   4,   5,   6,   7,   8,   9]],\n",
       "\n",
       "            [[ 10,  11,  12,  13,  14,  15,  16,  17,  18,  19]],\n",
       "\n",
       "            [[ 20,  21,  22,  23,  24,  25,  26,  27,  28,  29]],\n",
       "\n",
       "            [[ 30,  31,  32,  33,  34,  35,  36,  37,  38,  39]],\n",
       "\n",
       "            [[ 40,  41,  42,  43,  44,  45,  46,  47,  48,  49]],\n",
       "\n",
       "            [[ 50,  51,  52,  53,  54,  55,  56,  57,  58,  59]],\n",
       "\n",
       "            [[ 60,  61,  62,  63,  64,  65,  66,  67,  68,  69]],\n",
       "\n",
       "            [[ 70,  71,  72,  73,  74,  75,  76,  77,  78,  79]],\n",
       "\n",
       "            [[ 80,  81,  82,  83,  84,  85,  86,  87,  88,  89]],\n",
       "\n",
       "            [[ 90,  91,  92,  93,  94,  95,  96,  97,  98,  99]],\n",
       "\n",
       "            [[100, 101, 102, 103, 104, 105, 106, 107, 108, 109]],\n",
       "\n",
       "            [[110, 111, 112, 113, 114, 115, 116, 117, 118, 119]],\n",
       "\n",
       "            [[120, 121, 122, 123, 124, 125, 126, 127, 128, 129]],\n",
       "\n",
       "            [[130, 131, 132, 133, 134, 135, 136, 137, 138, 139]],\n",
       "\n",
       "            [[140, 141, 142, 143, 144, 145, 146, 147, 148, 149]],\n",
       "\n",
       "            [[150, 151, 152, 153, 154, 155, 156, 157, 158, 159]],\n",
       "\n",
       "            [[160, 161, 162, 163, 164, 165, 166, 167, 168, 169]],\n",
       "\n",
       "            [[170, 171, 172, 173, 174, 175, 176, 177, 178, 179]],\n",
       "\n",
       "            [[180, 181, 182, 183, 184, 185, 186, 187, 188, 189]],\n",
       "\n",
       "            [[190, 191, 192, 193, 194, 195, 196, 197, 198, 199]]])"
      ]
     },
     "execution_count": 24,
     "metadata": {},
     "output_type": "execute_result"
    }
   ],
   "source": [
    "p['x']"
   ]
  },
  {
   "cell_type": "code",
   "execution_count": 13,
   "metadata": {},
   "outputs": [
    {
     "data": {
      "text/html": [
       "<table>\n",
       "<tbody>\n",
       "<tr><td><b>x</b></td><td>[0 1 ... 8 9]</td><td>[10 11 ... 18 19]</td><td>[20 21 ... 28 29]</td><td>[30 31 ... 38 39]</td><td>[40 41 ... 48 49]</td><td>[50 51 ... 58 59]</td><td>...</td><td>[140 141 ... 148 149]</td><td>[150 151 ... 158 159]</td><td>[160 161 ... 168 169]</td><td>[170 171 ... 178 179]</td><td>[180 181 ... 188 189]</td><td>[190 191 ... 198 199]</td></tr>\n",
       "</tbody>\n",
       "</table>"
      ],
      "text/plain": [
       "PointData({'x': PointArray([[  0,   1,   2,   3,   4,   5,   6,   7,   8,   9],\n",
       "            [ 10,  11,  12,  13,  14,  15,  16,  17,  18,  19],\n",
       "            [ 20,  21,  22,  23,  24,  25,  26,  27,  28,  29],\n",
       "            [ 30,  31,  32,  33,  34,  35,  36,  37,  38,  39],\n",
       "            [ 40,  41,  42,  43,  44,  45,  46,  47,  48,  49],\n",
       "            [ 50,  51,  52,  53,  54,  55,  56,  57,  58,  59],\n",
       "            [ 60,  61,  62,  63,  64,  65,  66,  67,  68,  69],\n",
       "            [ 70,  71,  72,  73,  74,  75,  76,  77,  78,  79],\n",
       "            [ 80,  81,  82,  83,  84,  85,  86,  87,  88,  89],\n",
       "            [ 90,  91,  92,  93,  94,  95,  96,  97,  98,  99],\n",
       "            [100, 101, 102, 103, 104, 105, 106, 107, 108, 109],\n",
       "            [110, 111, 112, 113, 114, 115, 116, 117, 118, 119],\n",
       "            [120, 121, 122, 123, 124, 125, 126, 127, 128, 129],\n",
       "            [130, 131, 132, 133, 134, 135, 136, 137, 138, 139],\n",
       "            [140, 141, 142, 143, 144, 145, 146, 147, 148, 149],\n",
       "            [150, 151, 152, 153, 154, 155, 156, 157, 158, 159],\n",
       "            [160, 161, 162, 163, 164, 165, 166, 167, 168, 169],\n",
       "            [170, 171, 172, 173, 174, 175, 176, 177, 178, 179],\n",
       "            [180, 181, 182, 183, 184, 185, 186, 187, 188, 189],\n",
       "            [190, 191, 192, 193, 194, 195, 196, 197, 198, 199]])})"
      ]
     },
     "execution_count": 13,
     "metadata": {},
     "output_type": "execute_result"
    }
   ],
   "source": [
    "p"
   ]
  },
  {
   "cell_type": "code",
   "execution_count": 3,
   "metadata": {},
   "outputs": [],
   "source": [
    "p['a'] = np.arange(33)\n",
    "p['b'] = np.zeros(p.array_shape)"
   ]
  },
  {
   "cell_type": "code",
   "execution_count": 4,
   "metadata": {},
   "outputs": [
    {
     "data": {
      "text/plain": [
       "pynocular.pointarray.PointArray"
      ]
     },
     "execution_count": 4,
     "metadata": {},
     "output_type": "execute_result"
    }
   ],
   "source": [
    "pn.PointArray"
   ]
  },
  {
   "cell_type": "code",
   "execution_count": 11,
   "metadata": {},
   "outputs": [
    {
     "data": {
      "text/html": [
       "<table>\n",
       "<tbody>\n",
       "<tr><td style=\"text-align: right;\">1</td><td style=\"text-align: right;\">0.54</td><td style=\"text-align: right;\">-0.42</td><td style=\"text-align: right;\">-0.99</td><td style=\"text-align: right;\">-0.65</td><td style=\"text-align: right;\">0.28</td><td>...</td><td style=\"text-align: right;\">-0.29</td><td style=\"text-align: right;\">-0.96</td><td style=\"text-align: right;\">-0.75</td><td style=\"text-align: right;\">0.15</td><td style=\"text-align: right;\">0.91</td><td style=\"text-align: right;\">0.83</td></tr>\n",
       "</tbody>\n",
       "</table>"
      ],
      "text/plain": [
       "PointArray([ 1.        ,  0.54030231, -0.41614684, -0.9899925 ,\n",
       "            -0.65364362,  0.28366219,  0.96017029,  0.75390225,\n",
       "            -0.14550003, -0.91113026, -0.83907153,  0.0044257 ,\n",
       "             0.84385396,  0.90744678,  0.13673722, -0.75968791,\n",
       "            -0.95765948, -0.27516334,  0.66031671,  0.98870462,\n",
       "             0.40808206, -0.54772926, -0.99996083, -0.53283302,\n",
       "             0.42417901,  0.99120281,  0.64691932, -0.29213881,\n",
       "            -0.96260587, -0.74805753,  0.15425145,  0.91474236,\n",
       "             0.83422336])"
      ]
     },
     "execution_count": 11,
     "metadata": {},
     "output_type": "execute_result"
    }
   ],
   "source": [
    "np.cos(p['a'])"
   ]
  },
  {
   "cell_type": "code",
   "execution_count": 2,
   "metadata": {},
   "outputs": [],
   "source": [
    "g2d = pn.Grid(x=np.arange(10), y=np.arange(20))"
   ]
  },
  {
   "cell_type": "code",
   "execution_count": 3,
   "metadata": {},
   "outputs": [],
   "source": [
    "b = pn.GridArray(np.random.rand(g2d.size).reshape(g2d.shape), grid=g2d)"
   ]
  },
  {
   "cell_type": "code",
   "execution_count": 4,
   "metadata": {},
   "outputs": [],
   "source": [
    "f = np.sum(np.cos(b) -1.2 / b, axis='y')"
   ]
  },
  {
   "cell_type": "code",
   "execution_count": 5,
   "metadata": {},
   "outputs": [],
   "source": [
    "f[f>-50] *= 33"
   ]
  },
  {
   "cell_type": "code",
   "execution_count": 6,
   "metadata": {},
   "outputs": [],
   "source": [
    "f[0:2] *= 0"
   ]
  },
  {
   "cell_type": "code",
   "execution_count": 7,
   "metadata": {},
   "outputs": [],
   "source": [
    "a = pn.GridArray(np.arange(10), x=10)"
   ]
  },
  {
   "cell_type": "code",
   "execution_count": 8,
   "metadata": {},
   "outputs": [],
   "source": [
    "a[[2,7]] *= 0"
   ]
  },
  {
   "cell_type": "code",
   "execution_count": 9,
   "metadata": {},
   "outputs": [
    {
     "data": {
      "text/plain": [
       "Grid(\n",
       "Axis(\"x\",\n",
       "points = None,\n",
       "edges = edges: None)\n",
       "nbins = 10),)"
      ]
     },
     "execution_count": 9,
     "metadata": {},
     "output_type": "execute_result"
    }
   ],
   "source": [
    "a.grid"
   ]
  },
  {
   "cell_type": "code",
   "execution_count": 10,
   "metadata": {},
   "outputs": [],
   "source": [
    "f[3] *= 4"
   ]
  },
  {
   "cell_type": "code",
   "execution_count": 11,
   "metadata": {},
   "outputs": [
    {
     "data": {
      "text/plain": [
       "-5653.227593258004"
      ]
     },
     "execution_count": 11,
     "metadata": {},
     "output_type": "execute_result"
    }
   ],
   "source": [
    "f[3]"
   ]
  },
  {
   "cell_type": "code",
   "execution_count": 12,
   "metadata": {},
   "outputs": [
    {
     "data": {
      "text/html": [
       "<table>\n",
       "<tbody>\n",
       "<tr><td><b>x</b></td><td><b>0</b></td><td><b>1</b></td><td><b>2</b></td><td><b>3</b></td><td><b>4</b></td><td><b>5</b></td><td><b>6</b></td><td><b>7</b></td><td><b>8</b></td><td><b>9</b></td></tr>\n",
       "<tr><td><b></b> </td><td>-0      </td><td>-0      </td><td>-3.9e+02</td><td>-5.7e+03</td><td>-99     </td><td>-91     </td><td>-83     </td><td>-73     </td><td>-70     </td><td>-1.5e+02</td></tr>\n",
       "</tbody>\n",
       "</table>"
      ],
      "text/plain": [
       "GridArray(noname : [-0.0 -0.0 -390.1030557536286 -5653.227593258004 -98.68979646892076\n",
       " -91.07391126290233 -82.97105085620986 -72.87974357436522\n",
       " -69.94994793034121 -146.11172612035045])"
      ]
     },
     "execution_count": 12,
     "metadata": {},
     "output_type": "execute_result"
    }
   ],
   "source": [
    "f"
   ]
  },
  {
   "cell_type": "code",
   "execution_count": 13,
   "metadata": {},
   "outputs": [
    {
     "data": {
      "text/plain": [
       "array([   -0.        ,    -0.        ,  -390.10305575, -6043.33064901,\n",
       "       -6142.02044548, -6233.09435674, -6316.0654076 , -6388.94515117,\n",
       "       -6458.8950991 , -6605.00682522])"
      ]
     },
     "execution_count": 13,
     "metadata": {},
     "output_type": "execute_result"
    }
   ],
   "source": [
    "np.cumsum(f, axis='x')"
   ]
  },
  {
   "cell_type": "code",
   "execution_count": 14,
   "metadata": {},
   "outputs": [
    {
     "data": {
      "text/html": [
       "<table>\n",
       "<tbody>\n",
       "<tr><td><b>x</b></td><td><b>0</b></td><td><b>1</b></td><td><b>2</b></td><td><b>3</b></td><td><b>4</b></td><td><b>5</b></td><td><b>6</b></td><td><b>7</b></td><td><b>8</b></td><td><b>9</b></td></tr>\n",
       "<tr><td><b></b> </td><td>-0      </td><td>-0      </td><td>-3.9e+02</td><td>-5.7e+03</td><td>-99     </td><td>-91     </td><td>-83     </td><td>-73     </td><td>-70     </td><td>-1.5e+02</td></tr>\n",
       "</tbody>\n",
       "</table>"
      ],
      "text/plain": [
       "GridArray(noname : [-0.0 -0.0 -390.1030557536286 -5653.227593258004 -98.68979646892076\n",
       " -91.07391126290233 -82.97105085620986 -72.87974357436522\n",
       " -69.94994793034121 -146.11172612035045])"
      ]
     },
     "execution_count": 14,
     "metadata": {},
     "output_type": "execute_result"
    }
   ],
   "source": [
    "f"
   ]
  },
  {
   "cell_type": "code",
   "execution_count": 15,
   "metadata": {},
   "outputs": [],
   "source": [
    "a = unumpy.uarray(np.arange(10), np.ones(10))"
   ]
  },
  {
   "cell_type": "code",
   "execution_count": 16,
   "metadata": {},
   "outputs": [],
   "source": [
    "a = np.arange(10)"
   ]
  },
  {
   "cell_type": "code",
   "execution_count": 17,
   "metadata": {},
   "outputs": [],
   "source": [
    "g = pn.Grid(x=np.arange(10))"
   ]
  },
  {
   "cell_type": "code",
   "execution_count": 18,
   "metadata": {},
   "outputs": [],
   "source": [
    "u = pn.GridArray(a, grid=g)"
   ]
  },
  {
   "cell_type": "code",
   "execution_count": 19,
   "metadata": {},
   "outputs": [
    {
     "data": {
      "text/plain": [
       "Grid(\n",
       "Axis(\"x\",\n",
       "points = array([0, 1, 2, 3, 4, 5, 6, 7, 8, 9]),\n",
       "edges = edges: None)\n",
       "nbins = 10),)"
      ]
     },
     "execution_count": 19,
     "metadata": {},
     "output_type": "execute_result"
    }
   ],
   "source": [
    "u.grid"
   ]
  },
  {
   "cell_type": "code",
   "execution_count": 20,
   "metadata": {},
   "outputs": [
    {
     "data": {
      "text/plain": [
       "9"
      ]
     },
     "execution_count": 20,
     "metadata": {},
     "output_type": "execute_result"
    }
   ],
   "source": [
    "np.max(u)"
   ]
  },
  {
   "cell_type": "code",
   "execution_count": 21,
   "metadata": {},
   "outputs": [
    {
     "data": {
      "text/plain": [
       "9"
      ]
     },
     "execution_count": 21,
     "metadata": {},
     "output_type": "execute_result"
    }
   ],
   "source": [
    "np.amax(np.empty_like(u))"
   ]
  },
  {
   "cell_type": "code",
   "execution_count": 22,
   "metadata": {},
   "outputs": [
    {
     "data": {
      "text/html": [
       "<table>\n",
       "<tbody>\n",
       "<tr><td><b>x</b></td><td><b>0</b></td><td><b>1</b></td><td><b>2</b></td><td><b>3</b></td><td><b>4</b></td><td><b>5</b></td><td><b>6</b></td><td><b>7</b></td><td><b>8</b></td><td><b>9</b></td></tr>\n",
       "<tr><td><b></b> </td><td>0       </td><td>1       </td><td>2       </td><td>3       </td><td>4       </td><td>5       </td><td>6       </td><td>7       </td><td>8       </td><td>9       </td></tr>\n",
       "</tbody>\n",
       "</table>"
      ],
      "text/plain": [
       "GridArray(noname : [0 1 2 3 4 5 6 7 8 9])"
      ]
     },
     "execution_count": 22,
     "metadata": {},
     "output_type": "execute_result"
    }
   ],
   "source": [
    "u.T"
   ]
  },
  {
   "cell_type": "code",
   "execution_count": 23,
   "metadata": {},
   "outputs": [
    {
     "data": {
      "text/html": [
       "<table>\n",
       "<tbody>\n",
       "<tr><td><b>x</b></td><td><b>0</b></td><td><b>1</b></td><td><b>2</b></td><td><b>3</b></td><td><b>4</b></td><td><b>5</b></td><td><b>6</b></td><td><b>7</b></td><td><b>8</b></td><td><b>9</b></td></tr>\n",
       "<tr><td><b></b> </td><td>1       </td><td>0.54    </td><td>-0.42   </td><td>-0.99   </td><td>-0.65   </td><td>0.28    </td><td>0.96    </td><td>0.75    </td><td>-0.15   </td><td>-0.91   </td></tr>\n",
       "</tbody>\n",
       "</table>"
      ],
      "text/plain": [
       "GridArray(noname : [1.0 0.5403023058681398 -0.4161468365471424 -0.9899924966004454\n",
       " -0.6536436208636119 0.28366218546322625 0.960170286650366\n",
       " 0.7539022543433046 -0.14550003380861354 -0.9111302618846769])"
      ]
     },
     "execution_count": 23,
     "metadata": {},
     "output_type": "execute_result"
    }
   ],
   "source": [
    "unumpy.cos(u)"
   ]
  },
  {
   "cell_type": "code",
   "execution_count": 24,
   "metadata": {},
   "outputs": [
    {
     "data": {
      "text/html": [
       "<table>\n",
       "<tbody>\n",
       "<tr><td><b>x</b></td><td><b>0</b></td><td><b>1</b></td><td><b>2</b></td><td><b>3</b></td><td><b>4</b></td><td><b>5</b></td><td><b>6</b></td><td><b>7</b></td><td><b>8</b></td><td><b>9</b></td></tr>\n",
       "<tr><td><b></b> </td><td>1       </td><td>1       </td><td>1       </td><td>1       </td><td>1       </td><td>1       </td><td>1       </td><td>1       </td><td>1       </td><td>1       </td></tr>\n",
       "</tbody>\n",
       "</table>"
      ],
      "text/plain": [
       "GridArray(noname : [1 1 1 1 1 1 1 1 1 1])"
      ]
     },
     "execution_count": 24,
     "metadata": {},
     "output_type": "execute_result"
    }
   ],
   "source": [
    "np.ones_like(u)"
   ]
  },
  {
   "cell_type": "code",
   "execution_count": 25,
   "metadata": {},
   "outputs": [
    {
     "data": {
      "text/html": [
       "<table>\n",
       "<tbody>\n",
       "<tr><td><b>x</b></td><td><b>0</b></td><td><b>1</b></td><td><b>2</b></td><td><b>3</b></td><td><b>4</b></td><td><b>5</b></td><td><b>6</b></td><td><b>7</b></td><td><b>8</b></td><td><b>9</b></td></tr>\n",
       "<tr><td><b></b> </td><td>0       </td><td>1       </td><td>1.4     </td><td>1.7     </td><td>2       </td><td>2.2     </td><td>2.4     </td><td>2.6     </td><td>2.8     </td><td>3       </td></tr>\n",
       "</tbody>\n",
       "</table>"
      ],
      "text/plain": [
       "GridArray(noname : [0.0 1.0 1.4142135623730951 1.7320508075688772 2.0 2.23606797749979\n",
       " 2.449489742783178 2.6457513110645907 2.8284271247461903 3.0])"
      ]
     },
     "execution_count": 25,
     "metadata": {},
     "output_type": "execute_result"
    }
   ],
   "source": [
    "np.sqrt(u)"
   ]
  },
  {
   "cell_type": "code",
   "execution_count": 26,
   "metadata": {},
   "outputs": [
    {
     "data": {
      "text/plain": [
       "array([10.        , 10.        ,  5.        ,  3.33333333,  2.5       ,\n",
       "        2.        ,  1.66666667,  1.42857143,  1.25      ,  1.11111111])"
      ]
     },
     "execution_count": 26,
     "metadata": {},
     "output_type": "execute_result"
    }
   ],
   "source": [
    "np.asarray(10 / u)"
   ]
  },
  {
   "cell_type": "code",
   "execution_count": 27,
   "metadata": {},
   "outputs": [
    {
     "data": {
      "text/html": [
       "<table>\n",
       "<tbody>\n",
       "<tr><td><b>x</b></td><td><b>0</b></td><td><b>1</b></td><td><b>2</b></td><td><b>3</b></td><td><b>4</b></td><td><b>5</b></td><td><b>6</b></td><td><b>7</b></td><td><b>8</b></td><td><b>9</b></td></tr>\n",
       "<tr><td><b></b> </td><td>0       </td><td>1       </td><td>2       </td><td>3       </td><td>4       </td><td>5       </td><td>6       </td><td>7       </td><td>8       </td><td>9       </td></tr>\n",
       "</tbody>\n",
       "</table>"
      ],
      "text/plain": [
       "GridArray(noname : [0 1 2 3 4 5 6 7 8 9])"
      ]
     },
     "execution_count": 27,
     "metadata": {},
     "output_type": "execute_result"
    }
   ],
   "source": [
    "u"
   ]
  },
  {
   "cell_type": "code",
   "execution_count": 28,
   "metadata": {},
   "outputs": [
    {
     "data": {
      "text/html": [
       "<table>\n",
       "<tbody>\n",
       "<tr><td><b>x</b></td><td><b>0</b></td><td><b>1</b></td><td><b>2</b></td><td><b>3</b></td><td><b>4</b></td><td><b>5</b></td><td><b>6</b></td><td><b>7</b></td><td><b>8</b></td><td><b>9</b></td></tr>\n",
       "<tr><td><b></b> </td><td>--      </td><td>--      </td><td>--      </td><td>1.7     </td><td>2       </td><td>2.2     </td><td>2.4     </td><td>2.6     </td><td>2.8     </td><td>3       </td></tr>\n",
       "</tbody>\n",
       "</table>"
      ],
      "text/plain": [
       "GridArray(noname : [-- -- -- 1.7320508075688772 2.0 2.23606797749979 2.449489742783178\n",
       " 2.6457513110645907 2.8284271247461903 3.0])"
      ]
     },
     "execution_count": 28,
     "metadata": {},
     "output_type": "execute_result"
    }
   ],
   "source": [
    "np.sqrt(u[u>2])"
   ]
  },
  {
   "cell_type": "code",
   "execution_count": 29,
   "metadata": {},
   "outputs": [
    {
     "data": {
      "text/html": [
       "<table>\n",
       "<tbody>\n",
       "<tr><td><b>x</b></td><td><b>0</b></td><td><b>1</b></td><td><b>2</b></td></tr>\n",
       "<tr><td><b></b> </td><td>0       </td><td>1       </td><td>2       </td></tr>\n",
       "</tbody>\n",
       "</table>"
      ],
      "text/plain": [
       "GridArray(noname : [0 1 2])"
      ]
     },
     "execution_count": 29,
     "metadata": {},
     "output_type": "execute_result"
    }
   ],
   "source": [
    "u[0:3]"
   ]
  },
  {
   "cell_type": "code",
   "execution_count": 30,
   "metadata": {},
   "outputs": [],
   "source": [
    "g = pn.GridData(x=np.arange(20), y=np.arange(5))\n",
    "#g = pn.GridData(y=np.arange(5))"
   ]
  },
  {
   "cell_type": "code",
   "execution_count": 31,
   "metadata": {},
   "outputs": [],
   "source": [
    "g.grid['x'].edges = pn.edges(points=g.grid['x'].points)"
   ]
  },
  {
   "cell_type": "code",
   "execution_count": 32,
   "metadata": {},
   "outputs": [],
   "source": [
    "e = pn.edges(points=np.arange(11))"
   ]
  },
  {
   "cell_type": "code",
   "execution_count": 33,
   "metadata": {},
   "outputs": [
    {
     "data": {
      "text/plain": [
       "-0.5"
      ]
     },
     "execution_count": 33,
     "metadata": {},
     "output_type": "execute_result"
    }
   ],
   "source": [
    "e[0,0]"
   ]
  },
  {
   "cell_type": "code",
   "execution_count": 34,
   "metadata": {},
   "outputs": [],
   "source": [
    "a = pn.GridArray(np.random.rand(g.grid.size).reshape(g.shape), grid=g.grid)"
   ]
  },
  {
   "cell_type": "code",
   "execution_count": 35,
   "metadata": {},
   "outputs": [
    {
     "data": {
      "text/html": [
       "<table>\n",
       "<tbody>\n",
       "<tr><td><b>y \\ x</b></td><td><b>[-0.5 | 0 | 0.5]</b></td><td><b>[0.5 | 1 | 1.5]</b></td><td><b>[1.5 | 2 | 2.5]</b></td><td><b>[2.5 | 3 | 3.5]</b></td><td><b>[3.5 | 4 | 4.5]</b></td><td><b>[4.5 | 5 | 5.5]</b></td><td>...</td><td><b>[14 | 14 | 14]</b></td><td><b>[14 | 15 | 16]</b></td><td><b>[16 | 16 | 16]</b></td><td><b>[16 | 17 | 18]</b></td><td><b>[18 | 18 | 18]</b></td><td><b>[18 | 19 | 20]</b></td></tr>\n",
       "<tr><td><b>0</b>    </td><td>0                      </td><td>0                     </td><td>0                     </td><td>0                     </td><td>0                     </td><td>0                     </td><td>...</td><td>0                    </td><td>0                    </td><td>0                    </td><td>0                    </td><td>0                    </td><td>0                    </td></tr>\n",
       "<tr><td><b>1</b>    </td><td>0                      </td><td>0                     </td><td>0                     </td><td>0                     </td><td>0                     </td><td>0                     </td><td>...</td><td>0                    </td><td>0                    </td><td>0                    </td><td>0                    </td><td>0                    </td><td>0                    </td></tr>\n",
       "<tr><td><b>2</b>    </td><td>0                      </td><td>0                     </td><td>0                     </td><td>0                     </td><td>0                     </td><td>0                     </td><td>...</td><td>0                    </td><td>0                    </td><td>0                    </td><td>0                    </td><td>0                    </td><td>0                    </td></tr>\n",
       "<tr><td><b>3</b>    </td><td>0                      </td><td>0                     </td><td>0                     </td><td>0                     </td><td>0                     </td><td>0                     </td><td>...</td><td>0                    </td><td>0                    </td><td>0                    </td><td>0                    </td><td>0                    </td><td>0                    </td></tr>\n",
       "<tr><td><b>4</b>    </td><td>0                      </td><td>0                     </td><td>0                     </td><td>0                     </td><td>0                     </td><td>0                     </td><td>...</td><td>0                    </td><td>0                    </td><td>0                    </td><td>0                    </td><td>0                    </td><td>0                    </td></tr>\n",
       "</tbody>\n",
       "</table>"
      ],
      "text/plain": [
       "GridArray(noname : [[0 0 0 0 0]\n",
       " [0 0 0 0 0]\n",
       " [0 0 0 0 0]\n",
       " [0 0 0 0 0]\n",
       " [0 0 0 0 0]\n",
       " [0 0 0 0 0]\n",
       " [0 0 0 0 0]\n",
       " [0 0 0 0 0]\n",
       " [0 0 0 0 0]\n",
       " [0 0 0 0 0]\n",
       " [0 0 0 0 0]\n",
       " [0 0 0 0 0]\n",
       " [0 0 0 0 0]\n",
       " [0 0 0 0 0]\n",
       " [0 0 0 0 0]\n",
       " [0 0 0 0 0]\n",
       " [0 0 0 0 0]\n",
       " [0 0 0 0 0]\n",
       " [0 0 0 0 0]\n",
       " [0 0 0 0 0]])"
      ]
     },
     "execution_count": 35,
     "metadata": {},
     "output_type": "execute_result"
    }
   ],
   "source": [
    "a.astype(np.int)"
   ]
  },
  {
   "cell_type": "code",
   "execution_count": 36,
   "metadata": {},
   "outputs": [
    {
     "data": {
      "text/html": [
       "<table>\n",
       "<tbody>\n",
       "<tr><td><b>y \\ x</b></td><td><b>[-0.5 | 0 | 0.5]</b></td><td><b>[0.5 | 1 | 1.5]</b></td><td><b>[1.5 | 2 | 2.5]</b></td><td><b>[2.5 | 3 | 3.5]</b></td><td><b>[3.5 | 4 | 4.5]</b></td><td><b>[4.5 | 5 | 5.5]</b></td><td>...</td><td><b>[14 | 14 | 14]</b></td><td><b>[14 | 15 | 16]</b></td><td><b>[16 | 16 | 16]</b></td><td><b>[16 | 17 | 18]</b></td><td><b>[18 | 18 | 18]</b></td><td><b>[18 | 19 | 20]</b></td></tr>\n",
       "<tr><td><b>0</b>    </td><td>1                      </td><td>1                     </td><td>1                     </td><td>1                     </td><td>1                     </td><td>1                     </td><td>...</td><td>1                    </td><td>1                    </td><td>1                    </td><td>1                    </td><td>1                    </td><td>1                    </td></tr>\n",
       "<tr><td><b>1</b>    </td><td>1                      </td><td>1                     </td><td>1                     </td><td>1                     </td><td>1                     </td><td>1                     </td><td>...</td><td>1                    </td><td>1                    </td><td>1                    </td><td>1                    </td><td>1                    </td><td>1                    </td></tr>\n",
       "<tr><td><b>2</b>    </td><td>1                      </td><td>1                     </td><td>1                     </td><td>1                     </td><td>1                     </td><td>1                     </td><td>...</td><td>1                    </td><td>1                    </td><td>1                    </td><td>1                    </td><td>1                    </td><td>1                    </td></tr>\n",
       "<tr><td><b>3</b>    </td><td>1                      </td><td>1                     </td><td>1                     </td><td>1                     </td><td>1                     </td><td>1                     </td><td>...</td><td>1                    </td><td>1                    </td><td>1                    </td><td>1                    </td><td>1                    </td><td>1                    </td></tr>\n",
       "<tr><td><b>4</b>    </td><td>1                      </td><td>1                     </td><td>1                     </td><td>1                     </td><td>1                     </td><td>1                     </td><td>...</td><td>1                    </td><td>1                    </td><td>1                    </td><td>1                    </td><td>1                    </td><td>1                    </td></tr>\n",
       "</tbody>\n",
       "</table>"
      ],
      "text/plain": [
       "GridArray(noname : [[1. 1. 1. 1. 1.]\n",
       " [1. 1. 1. 1. 1.]\n",
       " [1. 1. 1. 1. 1.]\n",
       " [1. 1. 1. 1. 1.]\n",
       " [1. 1. 1. 1. 1.]\n",
       " [1. 1. 1. 1. 1.]\n",
       " [1. 1. 1. 1. 1.]\n",
       " [1. 1. 1. 1. 1.]\n",
       " [1. 1. 1. 1. 1.]\n",
       " [1. 1. 1. 1. 1.]\n",
       " [1. 1. 1. 1. 1.]\n",
       " [1. 1. 1. 1. 1.]\n",
       " [1. 1. 1. 1. 1.]\n",
       " [1. 1. 1. 1. 1.]\n",
       " [1. 1. 1. 1. 1.]\n",
       " [1. 1. 1. 1. 1.]\n",
       " [1. 1. 1. 1. 1.]\n",
       " [1. 1. 1. 1. 1.]\n",
       " [1. 1. 1. 1. 1.]\n",
       " [1. 1. 1. 1. 1.]])"
      ]
     },
     "execution_count": 36,
     "metadata": {},
     "output_type": "execute_result"
    }
   ],
   "source": [
    "np.ones_like(a)"
   ]
  },
  {
   "cell_type": "code",
   "execution_count": 37,
   "metadata": {},
   "outputs": [
    {
     "data": {
      "text/plain": [
       "True"
      ]
     },
     "execution_count": 37,
     "metadata": {},
     "output_type": "execute_result"
    }
   ],
   "source": [
    "np.all(np.abs(-a) == a)"
   ]
  },
  {
   "cell_type": "code",
   "execution_count": 38,
   "metadata": {},
   "outputs": [
    {
     "data": {
      "text/html": [
       "<table>\n",
       "<tbody>\n",
       "<tr><td><b>y \\ x</b></td><td><b>[-0.5 | 0 | 0.5]</b></td><td><b>[0.5 | 1 | 1.5]</b></td><td><b>[1.5 | 2 | 2.5]</b></td><td><b>[2.5 | 3 | 3.5]</b></td><td><b>[3.5 | 4 | 4.5]</b></td><td><b>[4.5 | 5 | 5.5]</b></td><td>...</td><td><b>[14 | 14 | 14]</b></td><td><b>[14 | 15 | 16]</b></td><td><b>[16 | 16 | 16]</b></td><td><b>[16 | 17 | 18]</b></td><td><b>[18 | 18 | 18]</b></td><td><b>[18 | 19 | 20]</b></td></tr>\n",
       "<tr><td><b>0</b>    </td><td>0.68                   </td><td>0.63                  </td><td>0.15                  </td><td>0.93                  </td><td>0.18                  </td><td>0.87                  </td><td>...</td><td>0.22                 </td><td>0.88                 </td><td>0.82                 </td><td>0.71                 </td><td>0.36                 </td><td>0.24                 </td></tr>\n",
       "<tr><td><b>1</b>    </td><td>0.04                   </td><td>0.27                  </td><td>0.33                  </td><td>0.63                  </td><td>0.71                  </td><td>0.46                  </td><td>...</td><td>0.074                </td><td>0.42                 </td><td>0.19                 </td><td>0.46                 </td><td>0.69                 </td><td>0.76                 </td></tr>\n",
       "<tr><td><b>2</b>    </td><td>0.11                   </td><td>0.36                  </td><td>0.47                  </td><td>0.18                  </td><td>0.76                  </td><td>0.099                 </td><td>...</td><td>0.88                 </td><td>0.91                 </td><td>0.41                 </td><td>0.54                 </td><td>0.3                  </td><td>0.98                 </td></tr>\n",
       "<tr><td><b>3</b>    </td><td>0.76                   </td><td>0.99                  </td><td>0.66                  </td><td>0.33                  </td><td>0.3                   </td><td>0.49                  </td><td>...</td><td>0.1                  </td><td>0.4                  </td><td>0.39                 </td><td>0.17                 </td><td>0.82                 </td><td>0.54                 </td></tr>\n",
       "<tr><td><b>4</b>    </td><td>0.91                   </td><td>0.8                   </td><td>0.58                  </td><td>0.5                   </td><td>0.097                 </td><td>0.96                  </td><td>...</td><td>0.9                  </td><td>0.43                 </td><td>0.14                 </td><td>0.99                 </td><td>0.34                 </td><td>0.91                 </td></tr>\n",
       "</tbody>\n",
       "</table>"
      ],
      "text/plain": [
       "GridArray(noname : [[0.6844699882835198 0.039888734933063885 0.1053121839212463\n",
       "  0.755098469627895 0.9093225404847824]\n",
       " [0.626090298563537 0.2692845873662647 0.3568650258452247\n",
       "  0.9861132423845425 0.7966186725410711]\n",
       " [0.1456042504607219 0.33467012848949573 0.4656267466990044\n",
       "  0.6596938506228346 0.5771448082882166]\n",
       " [0.9297423133232673 0.6336766988907364 0.17905778021729224\n",
       "  0.3264070236335067 0.4992574299443914]\n",
       " [0.1843154341242782 0.71261635375869 0.7555294953351128\n",
       "  0.30483651333485273 0.09670114983406353]\n",
       " [0.8666878557835637 0.4625229498268587 0.09888990701435751\n",
       "  0.49301185480560306 0.9611314418158107]\n",
       " [0.5729892033470241 0.11793960322229691 0.3914995075143035\n",
       "  0.25974850905172564 0.2908802740691512]\n",
       " [0.35256486151293287 0.30489750176886843 0.5715914389566332\n",
       "  0.11098286593049811 0.4014185629814988]\n",
       " [0.8924256422307891 0.4284723940135632 0.7626548391827485\n",
       "  0.5719314226563159 0.17564735228786654]\n",
       " [0.8320963011771778 0.24880731218646412 0.7819208889331679\n",
       "  0.20655161261135213 0.27051653208902604]\n",
       " [0.7121485603824982 0.04179235852110719 0.7979199362295684\n",
       "  0.7622452174842016 0.14092186919161465]\n",
       " [0.639219219666835 0.9956926794014348 0.08176956249117973\n",
       "  0.3425752316294597 0.4296420054871545]\n",
       " [0.09632229692866923 0.039859234112680886 0.6046006715822452\n",
       "  0.4388489521678196 0.42127001478766524]\n",
       " [0.8371154660330283 0.16502059989021056 0.24361115303557945\n",
       "  0.6939222499970925 0.03538013749496183]\n",
       " [0.2235158833953309 0.07413760704520678 0.8761139575914383\n",
       "  0.1034085215745918 0.8979687188987462]\n",
       " [0.8820026026655189 0.42096678612728144 0.914461288505472\n",
       "  0.3982849954155502 0.4318768481644881]\n",
       " [0.816693404035625 0.1897566999119228 0.41055573701247616\n",
       "  0.3880974750631234 0.14207560439024602]\n",
       " [0.7082914409026494 0.45657314205717503 0.5414063709774359\n",
       "  0.16753435305095543 0.9853076636641565]\n",
       " [0.3577909483480667 0.6854417202864049 0.29678088832968086\n",
       "  0.8174697196363615 0.337988968468693]\n",
       " [0.2434152800310333 0.7623000615510092 0.9781215408350248\n",
       "  0.5446093395940295 0.9128734972589972]])"
      ]
     },
     "execution_count": 38,
     "metadata": {},
     "output_type": "execute_result"
    }
   ],
   "source": [
    "np.abs(-a)"
   ]
  },
  {
   "cell_type": "code",
   "execution_count": 39,
   "metadata": {},
   "outputs": [
    {
     "data": {
      "text/html": [
       "<table>\n",
       "<tbody>\n",
       "<tr><td><b>x</b></td><td><b>[-0.5 | 0 | 0.5]</b></td><td><b>[0.5 | 1 | 1.5]</b></td><td><b>[1.5 | 2 | 2.5]</b></td><td><b>[2.5 | 3 | 3.5]</b></td><td><b>[3.5 | 4 | 4.5]</b></td><td><b>[4.5 | 5 | 5.5]</b></td><td>...</td><td><b>[14 | 14 | 14]</b></td><td><b>[14 | 15 | 16]</b></td><td><b>[16 | 16 | 16]</b></td><td><b>[16 | 17 | 18]</b></td><td><b>[18 | 18 | 18]</b></td><td><b>[18 | 19 | 20]</b></td></tr>\n",
       "<tr><td><b></b> </td><td>2.5                    </td><td>3                     </td><td>2.2                   </td><td>2.6                   </td><td>2.1                   </td><td>2.9                   </td><td>...</td><td>2.2                  </td><td>3                    </td><td>1.9                  </td><td>2.9                  </td><td>2.5                  </td><td>3.4                  </td></tr>\n",
       "</tbody>\n",
       "</table>"
      ],
      "text/plain": [
       "GridArray(noname : [2.49409192 3.03497183 2.18273978 2.56814125 2.05399895 2.88224401\n",
       " 1.6330571  1.74145523 2.83113165 2.33989265 2.45502794 2.4888987\n",
       " 1.60090117 1.97504961 2.17514469 3.04759252 1.94717892 2.85911297\n",
       " 2.49547225 3.44131972])"
      ]
     },
     "execution_count": 39,
     "metadata": {},
     "output_type": "execute_result"
    }
   ],
   "source": [
    "np.sum(a, axis='y')"
   ]
  },
  {
   "cell_type": "code",
   "execution_count": 40,
   "metadata": {},
   "outputs": [
    {
     "data": {
      "text/html": [
       "<table>\n",
       "<tbody>\n",
       "<tr><td><b>y \\ x</b></td><td><b>[-0.5 | 0 | 0.5]</b></td><td><b>[0.5 | 1 | 1.5]</b></td><td><b>[1.5 | 2 | 2.5]</b></td><td><b>[2.5 | 3 | 3.5]</b></td><td><b>[3.5 | 4 | 4.5]</b></td><td><b>[4.5 | 5 | 5.5]</b></td><td>...</td><td><b>[14 | 14 | 14]</b></td><td><b>[14 | 15 | 16]</b></td><td><b>[16 | 16 | 16]</b></td><td><b>[16 | 17 | 18]</b></td><td><b>[18 | 18 | 18]</b></td><td><b>[18 | 19 | 20]</b></td></tr>\n",
       "<tr><td><b>0</b>    </td><td>0.68                   </td><td>0.63                  </td><td>0.15                  </td><td>0.93                  </td><td>0.18                  </td><td>0.87                  </td><td>...</td><td>0.22                 </td><td>0.88                 </td><td>0.82                 </td><td>0.71                 </td><td>0.36                 </td><td>0.24                 </td></tr>\n",
       "<tr><td><b>1</b>    </td><td>0.04                   </td><td>0.27                  </td><td>0.33                  </td><td>0.63                  </td><td>0.71                  </td><td>0.46                  </td><td>...</td><td>0.074                </td><td>0.42                 </td><td>0.19                 </td><td>0.46                 </td><td>0.69                 </td><td>0.76                 </td></tr>\n",
       "<tr><td><b>2</b>    </td><td>0.11                   </td><td>0.36                  </td><td>0.47                  </td><td>0.18                  </td><td>0.76                  </td><td>0.099                 </td><td>...</td><td>0.88                 </td><td>0.91                 </td><td>0.41                 </td><td>0.54                 </td><td>0.3                  </td><td>0.98                 </td></tr>\n",
       "<tr><td><b>3</b>    </td><td>0.76                   </td><td>0.99                  </td><td>0.66                  </td><td>0.33                  </td><td>0.3                   </td><td>0.49                  </td><td>...</td><td>0.1                  </td><td>0.4                  </td><td>0.39                 </td><td>0.17                 </td><td>0.82                 </td><td>0.54                 </td></tr>\n",
       "<tr><td><b>4</b>    </td><td>0.91                   </td><td>0.8                   </td><td>0.58                  </td><td>0.5                   </td><td>0.097                 </td><td>0.96                  </td><td>...</td><td>0.9                  </td><td>0.43                 </td><td>0.14                 </td><td>0.99                 </td><td>0.34                 </td><td>0.91                 </td></tr>\n",
       "</tbody>\n",
       "</table>"
      ],
      "text/plain": [
       "GridArray(noname : [[0.68446999 0.03988873 0.10531218 0.75509847 0.90932254]\n",
       " [0.6260903  0.26928459 0.35686503 0.98611324 0.79661867]\n",
       " [0.14560425 0.33467013 0.46562675 0.65969385 0.57714481]\n",
       " [0.92974231 0.6336767  0.17905778 0.32640702 0.49925743]\n",
       " [0.18431543 0.71261635 0.7555295  0.30483651 0.09670115]\n",
       " [0.86668786 0.46252295 0.09888991 0.49301185 0.96113144]\n",
       " [0.5729892  0.1179396  0.39149951 0.25974851 0.29088027]\n",
       " [0.35256486 0.3048975  0.57159144 0.11098287 0.40141856]\n",
       " [0.89242564 0.42847239 0.76265484 0.57193142 0.17564735]\n",
       " [0.8320963  0.24880731 0.78192089 0.20655161 0.27051653]\n",
       " [0.71214856 0.04179236 0.79791994 0.76224522 0.14092187]\n",
       " [0.63921922 0.99569268 0.08176956 0.34257523 0.42964201]\n",
       " [0.0963223  0.03985923 0.60460067 0.43884895 0.42127001]\n",
       " [0.83711547 0.1650206  0.24361115 0.69392225 0.03538014]\n",
       " [0.22351588 0.07413761 0.87611396 0.10340852 0.89796872]\n",
       " [0.8820026  0.42096679 0.91446129 0.398285   0.43187685]\n",
       " [0.8166934  0.1897567  0.41055574 0.38809748 0.1420756 ]\n",
       " [0.70829144 0.45657314 0.54140637 0.16753435 0.98530766]\n",
       " [0.35779095 0.68544172 0.29678089 0.81746972 0.33798897]\n",
       " [0.24341528 0.76230006 0.97812154 0.54460934 0.9128735 ]])"
      ]
     },
     "execution_count": 40,
     "metadata": {},
     "output_type": "execute_result"
    }
   ],
   "source": [
    "a"
   ]
  },
  {
   "cell_type": "code",
   "execution_count": 41,
   "metadata": {},
   "outputs": [
    {
     "data": {
      "text/html": [
       "<table>\n",
       "<tbody>\n",
       "<tr><td><b>y \\ x</b></td><td><b>[-0.5 | 0 | 0.5]</b></td><td><b>[0.5 | 1 | 1.5]</b></td><td><b>[1.5 | 2 | 2.5]</b></td><td><b>[2.5 | 3 | 3.5]</b></td><td><b>[3.5 | 4 | 4.5]</b></td><td><b>[4.5 | 5 | 5.5]</b></td><td>...</td><td><b>[14 | 14 | 14]</b></td><td><b>[14 | 15 | 16]</b></td><td><b>[16 | 16 | 16]</b></td><td><b>[16 | 17 | 18]</b></td><td><b>[18 | 18 | 18]</b></td><td><b>[18 | 19 | 20]</b></td></tr>\n",
       "<tr><td><b>0</b>    </td><td>0.3                    </td><td>0.27                  </td><td>0.063                 </td><td>0.4                   </td><td>0.08                  </td><td>0.38                  </td><td>...</td><td>0.097                </td><td>0.38                 </td><td>0.35                 </td><td>0.31                 </td><td>0.16                 </td><td>0.11                 </td></tr>\n",
       "<tr><td><b>1</b>    </td><td>0.017                  </td><td>0.12                  </td><td>0.15                  </td><td>0.28                  </td><td>0.31                  </td><td>0.2                   </td><td>...</td><td>0.032                </td><td>0.18                 </td><td>0.082                </td><td>0.2                  </td><td>0.3                  </td><td>0.33                 </td></tr>\n",
       "<tr><td><b>2</b>    </td><td>0.046                  </td><td>0.15                  </td><td>0.2                   </td><td>0.078                 </td><td>0.33                  </td><td>0.043                 </td><td>...</td><td>0.38                 </td><td>0.4                  </td><td>0.18                 </td><td>0.24                 </td><td>0.13                 </td><td>0.42                 </td></tr>\n",
       "<tr><td><b>3</b>    </td><td>0.33                   </td><td>0.43                  </td><td>0.29                  </td><td>0.14                  </td><td>0.13                  </td><td>0.21                  </td><td>...</td><td>0.045                </td><td>0.17                 </td><td>0.17                 </td><td>0.073                </td><td>0.36                 </td><td>0.24                 </td></tr>\n",
       "<tr><td><b>4</b>    </td><td>0.39                   </td><td>0.35                  </td><td>0.25                  </td><td>0.22                  </td><td>0.042                 </td><td>0.42                  </td><td>...</td><td>0.39                 </td><td>0.19                 </td><td>0.062                </td><td>0.43                 </td><td>0.15                 </td><td>0.4                  </td></tr>\n",
       "</tbody>\n",
       "</table>"
      ],
      "text/plain": [
       "GridArray(noname : [[0.2972615389399161 0.01732345747153115 0.045736500354177666\n",
       "  0.32793509865298504 0.39491376160278735]\n",
       " [0.2719075618393036 0.11694881035476289 0.15498451150884243\n",
       "  0.4282635396993306 0.34596709366568074]\n",
       " [0.06323512251675052 0.1453453900608403 0.20221912671794082\n",
       "  0.28650139907100514 0.2506508054986826]\n",
       " [0.4037819562682592 0.2752022936389153 0.0777638058902153\n",
       "  0.14175676921849625 0.21682474687404846]\n",
       " [0.08004717596977635 0.3094853501514147 0.3281222907391882\n",
       "  0.13238881562395358 0.041996775766633306]\n",
       " [0.37639775329936304 0.20087116486341933 0.042947340932261165\n",
       "  0.21411232805496058 0.4174140815643229]\n",
       " [0.24884604920375283 0.051220518877302564 0.17002607578130272\n",
       "  0.1128073441637613 0.1263276979227379]\n",
       " [0.1531169738680509 0.13241530256430653 0.24823900784200523\n",
       "  0.04819924625942372 0.17433386683639787]\n",
       " [0.3875755319297973 0.18608319636796639 0.33121678825387957\n",
       "  0.24838666088671446 0.07628267585953696]\n",
       " [0.3613748320133547 0.1080556427397611 0.3395839273485603\n",
       "  0.08970422558532834 0.11748383714986796]\n",
       " [0.30928219006946367 0.01815019069143923 0.3465322253050961\n",
       "  0.3310388918105328 0.06120159016941007]\n",
       " [0.27760937982780903 0.43242383633550674 0.0355120697775625\n",
       "  0.1487785327334027 0.1865911521769178]\n",
       " [0.04183224204036756 0.01731064542802721 0.2625747354231693\n",
       "  0.1905896783155082 0.18295524281358433]\n",
       " [0.36355462761401325 0.07166753593268285 0.10579897949344076\n",
       "  0.30136660404362603 0.015365398483040306]\n",
       " [0.0970717147763229 0.032197553641244964 0.38049145730038125\n",
       "  0.04490975030161857 0.3899828595394577]\n",
       " [0.38304886336194116 0.1828235522796247 0.3971454915120641\n",
       "  0.17297297573383538 0.18756173201960574]\n",
       " [0.35468543877945485 0.08241028767591935 0.17830209109824102\n",
       "  0.16854859186049936 0.06170265099975324]\n",
       " [0.3076070643633238 0.1982871961806606 0.2351297993827653\n",
       "  0.07275924505926117 0.42791368130632834]\n",
       " [0.15538663454249677 0.29768355678665787 0.12889030213592556\n",
       "  0.35502258836107015 0.14678674395012556]\n",
       " [0.10571391292841255 0.3310627102861125 0.42479278781535745\n",
       "  0.23652083097866114 0.3964559225353058]])"
      ]
     },
     "execution_count": 41,
     "metadata": {},
     "output_type": "execute_result"
    }
   ],
   "source": [
    "np.log10(np.exp(np.fabs(a)))"
   ]
  },
  {
   "cell_type": "code",
   "execution_count": null,
   "metadata": {},
   "outputs": [],
   "source": []
  },
  {
   "cell_type": "code",
   "execution_count": 42,
   "metadata": {},
   "outputs": [
    {
     "data": {
      "text/html": [
       "<table>\n",
       "<tbody>\n",
       "<tr><td><b>x</b></td><td><b>[-0.5 | 0 | 0.5]</b>  </td><td><b>[0.5 | 1 | 1.5]</b>   </td><td><b>[1.5 | 2 | 2.5]</b>   </td><td><b>[2.5 | 3 | 3.5]</b>   </td><td><b>[3.5 | 4 | 4.5]</b>   </td><td><b>[4.5 | 5 | 5.5]</b>   </td><td>...</td><td><b>[14 | 14 | 14]</b>    </td><td><b>[14 | 15 | 16]</b>    </td><td><b>[16 | 16 | 16]</b>    </td><td><b>[16 | 17 | 18]</b>    </td><td><b>[18 | 18 | 18]</b>    </td><td><b>[18 | 19 | 20]</b>    </td></tr>\n",
       "<tr><td><b></b> </td><td>[0.68 0.72 ... 1.58 2.49]</td><td>[0.63 0.9  ... 2.24 3.03]</td><td>[0.15 0.48 ... 1.61 2.18]</td><td>[0.93 1.56 ... 2.07 2.57]</td><td>[0.18 0.9  ... 1.96 2.05]</td><td>[0.87 1.33 ... 1.92 2.88]</td><td>...</td><td>[0.22 0.3  ... 1.28 2.18]</td><td>[0.88 1.3  ... 2.62 3.05]</td><td>[0.82 1.01 ... 1.81 1.95]</td><td>[0.71 1.16 ... 1.87 2.86]</td><td>[0.36 1.04 ... 2.16 2.5 ]</td><td>[0.24 1.01 ... 2.53 3.44]</td></tr>\n",
       "</tbody>\n",
       "</table>"
      ],
      "text/plain": [
       "GridArray(noname : [[0.68446999 0.72435872 0.82967091 1.58476938 2.49409192]\n",
       " [0.6260903  0.89537489 1.25223991 2.23835315 3.03497183]\n",
       " [0.14560425 0.48027438 0.94590113 1.60559498 2.18273978]\n",
       " [0.92974231 1.56341901 1.74247679 2.06888382 2.56814125]\n",
       " [0.18431543 0.89693179 1.65246128 1.9572978  2.05399895]\n",
       " [0.86668786 1.32921081 1.42810071 1.92111257 2.88224401]\n",
       " [0.5729892  0.69092881 1.08242831 1.34217682 1.6330571 ]\n",
       " [0.35256486 0.65746236 1.2290538  1.34003667 1.74145523]\n",
       " [0.89242564 1.32089804 2.08355288 2.6554843  2.83113165]\n",
       " [0.8320963  1.08090361 1.8628245  2.06937611 2.33989265]\n",
       " [0.71214856 0.75394092 1.55186086 2.31410607 2.45502794]\n",
       " [0.63921922 1.6349119  1.71668146 2.05925669 2.4888987 ]\n",
       " [0.0963223  0.13618153 0.7407822  1.17963115 1.60090117]\n",
       " [0.83711547 1.00213607 1.24574722 1.93966947 1.97504961]\n",
       " [0.22351588 0.29765349 1.17376745 1.27717597 2.17514469]\n",
       " [0.8820026  1.30296939 2.21743068 2.61571567 3.04759252]\n",
       " [0.8166934  1.0064501  1.41700584 1.80510332 1.94717892]\n",
       " [0.70829144 1.16486458 1.70627095 1.87380531 2.85911297]\n",
       " [0.35779095 1.04323267 1.34001356 2.15748328 2.49547225]\n",
       " [0.24341528 1.00571534 1.98383688 2.52844622 3.44131972]])"
      ]
     },
     "execution_count": 42,
     "metadata": {},
     "output_type": "execute_result"
    }
   ],
   "source": [
    "np.cumsum(a, axis='y')"
   ]
  },
  {
   "cell_type": "code",
   "execution_count": 43,
   "metadata": {},
   "outputs": [
    {
     "data": {
      "text/html": [
       "<table>\n",
       "<tbody>\n",
       "<tr><td><b>x</b></td><td><b>[18 | 19 | 20]</b></td><td><b>[16 | 17 | 18]</b></td><td><b>[14 | 15 | 16]</b></td><td><b>[12 | 13 | 14]</b></td><td><b>[10 | 11 | 12]</b></td><td><b>[8.5 | 9 | 9.5]</b></td><td><b>[6.5 | 7 | 7.5]</b></td><td><b>[4.5 | 5 | 5.5]</b></td><td><b>[2.5 | 3 | 3.5]</b></td><td><b>[0.5 | 1 | 1.5]</b></td></tr>\n",
       "<tr><td><b></b> </td><td>0.27                 </td><td>0.27                 </td><td>0.24                 </td><td>0.31                 </td><td>0.31                 </td><td>0.28                  </td><td>0.15                  </td><td>0.31                  </td><td>0.26                  </td><td>0.27                  </td></tr>\n",
       "</tbody>\n",
       "</table>"
      ],
      "text/plain": [
       "GridArray(noname : [0.26775929629509393 0.27101668346279484 0.23620566851671598\n",
       " 0.3130355089522542 0.306502228280907 0.27803339817070555\n",
       " 0.1489308806548079 0.3099105560794095 0.25875016950654856\n",
       " 0.26708265989908103])"
      ]
     },
     "execution_count": 43,
     "metadata": {},
     "output_type": "execute_result"
    }
   ],
   "source": [
    "np.std(a, axis='y')[::-2]"
   ]
  },
  {
   "cell_type": "code",
   "execution_count": 44,
   "metadata": {},
   "outputs": [],
   "source": [
    "a[a > 0.5] *= 10"
   ]
  },
  {
   "cell_type": "code",
   "execution_count": 45,
   "metadata": {},
   "outputs": [
    {
     "data": {
      "text/html": [
       "<table>\n",
       "<tbody>\n",
       "<tr><td><b>x \\ y</b>           </td><td><b>0</b></td><td><b>1</b></td><td><b>2</b></td><td><b>3</b></td><td><b>4</b></td></tr>\n",
       "<tr><td><b>[-0.5 | 0 | 0.5]</b></td><td>6.8     </td><td>0.04    </td><td>0.11    </td><td>7.6     </td><td>9.1     </td></tr>\n",
       "<tr><td><b>[0.5 | 1 | 1.5]</b> </td><td>6.3     </td><td>0.27    </td><td>0.36    </td><td>9.9     </td><td>8       </td></tr>\n",
       "<tr><td><b>[1.5 | 2 | 2.5]</b> </td><td>0.15    </td><td>0.33    </td><td>0.47    </td><td>6.6     </td><td>5.8     </td></tr>\n",
       "<tr><td><b>[2.5 | 3 | 3.5]</b> </td><td>9.3     </td><td>6.3     </td><td>0.18    </td><td>0.33    </td><td>0.5     </td></tr>\n",
       "<tr><td><b>[3.5 | 4 | 4.5]</b> </td><td>0.18    </td><td>7.1     </td><td>7.6     </td><td>0.3     </td><td>0.097   </td></tr>\n",
       "<tr><td><b>[4.5 | 5 | 5.5]</b> </td><td>8.7     </td><td>0.46    </td><td>0.099   </td><td>0.49    </td><td>9.6     </td></tr>\n",
       "<tr><td>...                    </td><td>...     </td><td>...     </td><td>...     </td><td>...     </td><td>...     </td></tr>\n",
       "<tr><td><b>[14 | 14 | 14]</b>  </td><td>0.22    </td><td>0.074   </td><td>8.8     </td><td>0.1     </td><td>9       </td></tr>\n",
       "<tr><td><b>[14 | 15 | 16]</b>  </td><td>8.8     </td><td>0.42    </td><td>9.1     </td><td>0.4     </td><td>0.43    </td></tr>\n",
       "<tr><td><b>[16 | 16 | 16]</b>  </td><td>8.2     </td><td>0.19    </td><td>0.41    </td><td>0.39    </td><td>0.14    </td></tr>\n",
       "<tr><td><b>[16 | 17 | 18]</b>  </td><td>7.1     </td><td>0.46    </td><td>5.4     </td><td>0.17    </td><td>9.9     </td></tr>\n",
       "<tr><td><b>[18 | 18 | 18]</b>  </td><td>0.36    </td><td>6.9     </td><td>0.3     </td><td>8.2     </td><td>0.34    </td></tr>\n",
       "<tr><td><b>[18 | 19 | 20]</b>  </td><td>0.24    </td><td>7.6     </td><td>9.8     </td><td>5.4     </td><td>9.1     </td></tr>\n",
       "</tbody>\n",
       "</table>"
      ],
      "text/plain": [
       "GridArray(noname : [[6.84469988 6.26090299 0.14560425 9.29742313 0.18431543 8.66687856\n",
       "  5.72989203 0.35256486 8.92425642 8.32096301 7.1214856  6.3921922\n",
       "  0.0963223  8.37115466 0.22351588 8.82002603 8.16693404 7.08291441\n",
       "  0.35779095 0.24341528]\n",
       " [0.03988873 0.26928459 0.33467013 6.33676699 7.12616354 0.46252295\n",
       "  0.1179396  0.3048975  0.42847239 0.24880731 0.04179236 9.95692679\n",
       "  0.03985923 0.1650206  0.07413761 0.42096679 0.1897567  0.45657314\n",
       "  6.8544172  7.62300062]\n",
       " [0.10531218 0.35686503 0.46562675 0.17905778 7.55529495 0.09888991\n",
       "  0.39149951 5.71591439 7.62654839 7.81920889 7.97919936 0.08176956\n",
       "  6.04600672 0.24361115 8.76113958 9.14461289 0.41055574 5.41406371\n",
       "  0.29678089 9.78121541]\n",
       " [7.5509847  9.86113242 6.59693851 0.32640702 0.30483651 0.49301185\n",
       "  0.25974851 0.11098287 5.71931423 0.20655161 7.62245217 0.34257523\n",
       "  0.43884895 6.9392225  0.10340852 0.398285   0.38809748 0.16753435\n",
       "  8.1746972  5.4460934 ]\n",
       " [9.0932254  7.96618673 5.77144808 0.49925743 0.09670115 9.61131442\n",
       "  0.29088027 0.40141856 0.17564735 0.27051653 0.14092187 0.42964201\n",
       "  0.42127001 0.03538014 8.97968719 0.43187685 0.1420756  9.85307664\n",
       "  0.33798897 9.12873497]])"
      ]
     },
     "execution_count": 45,
     "metadata": {},
     "output_type": "execute_result"
    }
   ],
   "source": [
    "a.T"
   ]
  },
  {
   "cell_type": "code",
   "execution_count": 46,
   "metadata": {},
   "outputs": [
    {
     "data": {
      "text/html": [
       "<table>\n",
       "<tbody>\n",
       "<tr><td><b>y \\ x</b></td><td><b>[2.5 | 3 | 3.5]</b></td><td><b>[3.5 | 4 | 4.5]</b></td></tr>\n",
       "<tr><td><b>0</b>    </td><td>9.3                   </td><td>0.18                  </td></tr>\n",
       "<tr><td><b>1</b>    </td><td>6.3                   </td><td>7.1                   </td></tr>\n",
       "<tr><td><b>2</b>    </td><td>0.18                  </td><td>7.6                   </td></tr>\n",
       "<tr><td><b>3</b>    </td><td>0.33                  </td><td>0.3                   </td></tr>\n",
       "<tr><td><b>4</b>    </td><td>0.5                   </td><td>0.097                 </td></tr>\n",
       "</tbody>\n",
       "</table>"
      ],
      "text/plain": [
       "GridArray(noname : [[9.29742313 6.33676699 0.17905778 0.32640702 0.49925743]\n",
       " [0.18431543 7.12616354 7.55529495 0.30483651 0.09670115]])"
      ]
     },
     "execution_count": 46,
     "metadata": {},
     "output_type": "execute_result"
    }
   ],
   "source": [
    "a[3:5]"
   ]
  },
  {
   "cell_type": "code",
   "execution_count": 47,
   "metadata": {},
   "outputs": [
    {
     "data": {
      "text/html": [
       "<table>\n",
       "<tbody>\n",
       "<tr><td><b>y</b></td><td><b>0</b></td><td><b>1</b></td><td><b>2</b></td><td><b>3</b></td><td><b>4</b></td></tr>\n",
       "<tr><td><b></b> </td><td>1e+02   </td><td>41      </td><td>78      </td><td>61      </td><td>64      </td></tr>\n",
       "</tbody>\n",
       "</table>"
      ],
      "text/plain": [
       "GridArray(noname : [101.60325192  41.49186478  78.47317277  61.45112303  64.07725018])"
      ]
     },
     "execution_count": 47,
     "metadata": {},
     "output_type": "execute_result"
    }
   ],
   "source": [
    "np.sum(a, axis=0)"
   ]
  },
  {
   "cell_type": "code",
   "execution_count": 48,
   "metadata": {},
   "outputs": [
    {
     "data": {
      "text/html": [
       "<table>\n",
       "<tbody>\n",
       "<tr><td><b>y \\ x</b></td><td><b>[-0.5 | 0 | 0.5]</b></td><td><b>[0.5 | 1 | 1.5]</b></td><td><b>[1.5 | 2 | 2.5]</b></td><td><b>[2.5 | 3 | 3.5]</b></td><td><b>[3.5 | 4 | 4.5]</b></td><td><b>[4.5 | 5 | 5.5]</b></td><td>...</td><td><b>[14 | 14 | 14]</b></td><td><b>[14 | 15 | 16]</b></td><td><b>[16 | 16 | 16]</b></td><td><b>[16 | 17 | 18]</b></td><td><b>[18 | 18 | 18]</b></td><td><b>[18 | 19 | 20]</b></td></tr>\n",
       "<tr><td><b>0</b>    </td><td>14                     </td><td>13                    </td><td>0.29                  </td><td>19                    </td><td>0.37                  </td><td>17                    </td><td>...</td><td>0.45                 </td><td>18                   </td><td>16                   </td><td>14                   </td><td>0.72                 </td><td>0.49                 </td></tr>\n",
       "<tr><td><b>1</b>    </td><td>0.08                   </td><td>0.54                  </td><td>0.67                  </td><td>13                    </td><td>14                    </td><td>0.93                  </td><td>...</td><td>0.15                 </td><td>0.84                 </td><td>0.38                 </td><td>0.91                 </td><td>14                   </td><td>15                   </td></tr>\n",
       "<tr><td><b>2</b>    </td><td>0.21                   </td><td>0.71                  </td><td>0.93                  </td><td>0.36                  </td><td>15                    </td><td>0.2                   </td><td>...</td><td>18                   </td><td>18                   </td><td>0.82                 </td><td>11                   </td><td>0.59                 </td><td>20                   </td></tr>\n",
       "<tr><td><b>3</b>    </td><td>15                     </td><td>20                    </td><td>13                    </td><td>0.65                  </td><td>0.61                  </td><td>0.99                  </td><td>...</td><td>0.21                 </td><td>0.8                  </td><td>0.78                 </td><td>0.34                 </td><td>16                   </td><td>11                   </td></tr>\n",
       "<tr><td><b>4</b>    </td><td>18                     </td><td>16                    </td><td>12                    </td><td>1                     </td><td>0.19                  </td><td>19                    </td><td>...</td><td>18                   </td><td>0.86                 </td><td>0.28                 </td><td>20                   </td><td>0.68                 </td><td>18                   </td></tr>\n",
       "</tbody>\n",
       "</table>"
      ],
      "text/plain": [
       "GridArray(noname : [[13.68939977  0.07977747  0.21062437 15.10196939 18.18645081]\n",
       " [12.52180597  0.53856917  0.71373005 19.72226485 15.93237345]\n",
       " [ 0.2912085   0.66934026  0.93125349 13.19387701 11.54289617]\n",
       " [18.59484627 12.67353398  0.35811556  0.65281405  0.99851486]\n",
       " [ 0.36863087 14.25232708 15.11058991  0.60967303  0.1934023 ]\n",
       " [17.33375712  0.9250459   0.19777981  0.98602371 19.22262884]\n",
       " [11.45978407  0.23587921  0.78299902  0.51949702  0.58176055]\n",
       " [ 0.70512972  0.609795   11.43182878  0.22196573  0.80283713]\n",
       " [17.84851284  0.85694479 15.25309678 11.43862845  0.3512947 ]\n",
       " [16.64192602  0.49761462 15.63841778  0.41310323  0.54103306]\n",
       " [14.24297121  0.08358472 15.95839872 15.24490435  0.28184374]\n",
       " [12.78438439 19.91385359  0.16353912  0.68515046  0.85928401]\n",
       " [ 0.19264459  0.07971847 12.09201343  0.8776979   0.84254003]\n",
       " [16.74230932  0.3300412   0.48722231 13.878445    0.07076027]\n",
       " [ 0.44703177  0.14827521 17.52227915  0.20681704 17.95937438]\n",
       " [17.64005205  0.84193357 18.28922577  0.79656999  0.8637537 ]\n",
       " [16.33386808  0.3795134   0.82111147  0.77619495  0.28415121]\n",
       " [14.16582882  0.91314628 10.82812742  0.33506871 19.70615327]\n",
       " [ 0.7155819  13.70883441  0.59356178 16.34939439  0.67597794]\n",
       " [ 0.48683056 15.24600123 19.56243082 10.89218679 18.25746995]])"
      ]
     },
     "execution_count": 48,
     "metadata": {},
     "output_type": "execute_result"
    }
   ],
   "source": [
    "a * 2"
   ]
  },
  {
   "cell_type": "code",
   "execution_count": 49,
   "metadata": {},
   "outputs": [],
   "source": [
    "m = np.ma.masked_array(np.arange(10))"
   ]
  },
  {
   "cell_type": "code",
   "execution_count": 50,
   "metadata": {},
   "outputs": [],
   "source": [
    "m.mask = m < 6"
   ]
  },
  {
   "cell_type": "code",
   "execution_count": 51,
   "metadata": {},
   "outputs": [
    {
     "data": {
      "text/plain": [
       "array([ 0,  1,  2,  3,  4,  5, 18, 21, 24, 27])"
      ]
     },
     "execution_count": 51,
     "metadata": {},
     "output_type": "execute_result"
    }
   ],
   "source": [
    "(m * 3).data"
   ]
  },
  {
   "cell_type": "code",
   "execution_count": 52,
   "metadata": {},
   "outputs": [],
   "source": [
    "# add something\n",
    "g['a'] = np.random.rand(g.grid.size).reshape(g.shape)"
   ]
  },
  {
   "cell_type": "code",
   "execution_count": 53,
   "metadata": {},
   "outputs": [
    {
     "data": {
      "text/html": [
       "<table>\n",
       "<tbody>\n",
       "<tr><td><b>y \\ x</b></td><td><b>[-0.5 | 0 | 0.5]</b></td><td><b>[0.5 | 1 | 1.5]</b></td><td><b>[1.5 | 2 | 2.5]</b></td><td><b>[2.5 | 3 | 3.5]</b></td><td><b>[3.5 | 4 | 4.5]</b></td><td><b>[4.5 | 5 | 5.5]</b></td><td>...</td><td><b>[14 | 14 | 14]</b></td><td><b>[14 | 15 | 16]</b></td><td><b>[16 | 16 | 16]</b></td><td><b>[16 | 17 | 18]</b></td><td><b>[18 | 18 | 18]</b></td><td><b>[18 | 19 | 20]</b></td></tr>\n",
       "<tr><td><b>0</b>    </td><td>0.57                   </td><td>0.66                  </td><td>0.82                  </td><td>0.44                  </td><td>0.42                  </td><td>0.5                   </td><td>...</td><td>0.83                 </td><td>0.45                 </td><td>0.65                 </td><td>0.28                 </td><td>0.06                 </td><td>0.65                 </td></tr>\n",
       "<tr><td><b>1</b>    </td><td>0.73                   </td><td>0.87                  </td><td>0.63                  </td><td>0.54                  </td><td>0.36                  </td><td>0.96                  </td><td>...</td><td>0.65                 </td><td>0.49                 </td><td>0.26                 </td><td>0.8                  </td><td>0.13                 </td><td>0.42                 </td></tr>\n",
       "<tr><td><b>2</b>    </td><td>0.21                   </td><td>0.49                  </td><td>0.21                  </td><td>0.12                  </td><td>0.71                  </td><td>0.24                  </td><td>...</td><td>0.47                 </td><td>0.87                 </td><td>0.17                 </td><td>0.32                 </td><td>0.52                 </td><td>0.38                 </td></tr>\n",
       "<tr><td><b>3</b>    </td><td>0.5                    </td><td>0.71                  </td><td>0.14                  </td><td>0.32                  </td><td>0.82                  </td><td>0.073                 </td><td>...</td><td>0.74                 </td><td>0.15                 </td><td>0.99                 </td><td>0.15                 </td><td>0.63                 </td><td>0.16                 </td></tr>\n",
       "<tr><td><b>4</b>    </td><td>0.41                   </td><td>0.11                  </td><td>0.71                  </td><td>0.53                  </td><td>0.05                  </td><td>0.93                  </td><td>...</td><td>0.41                 </td><td>0.33                 </td><td>0.75                 </td><td>0.75                 </td><td>0.91                 </td><td>0.53                 </td></tr>\n",
       "</tbody>\n",
       "</table>"
      ],
      "text/plain": [
       "GridArray(noname : [[0.56807268 0.72532386 0.20549115 0.49977233 0.40547238]\n",
       " [0.66423884 0.86947622 0.48603776 0.71089429 0.10753858]\n",
       " [0.82038434 0.62997374 0.20647165 0.14265565 0.70658604]\n",
       " [0.43730374 0.53813933 0.12301253 0.32434888 0.52596776]\n",
       " [0.41746343 0.35531785 0.71306956 0.82389844 0.04976494]\n",
       " [0.4989701  0.95855114 0.24289489 0.07250771 0.92975872]\n",
       " [0.11808475 0.12495763 0.27934471 0.98445456 0.09842793]\n",
       " [0.51797117 0.17209476 0.79640909 0.66074609 0.0421669 ]\n",
       " [0.41250704 0.38575903 0.55256899 0.68461344 0.77851337]\n",
       " [0.85270419 0.56216308 0.6288014  0.8878339  0.89154058]\n",
       " [0.88518655 0.58031958 0.76829123 0.98868574 0.01359997]\n",
       " [0.07017303 0.90497654 0.29167608 0.07268169 0.25805864]\n",
       " [0.19289716 0.29949347 0.45796538 0.31180024 0.57331261]\n",
       " [0.27017137 0.26592612 0.75556736 0.1486549  0.37320451]\n",
       " [0.82739134 0.64953099 0.47225509 0.73727223 0.40761022]\n",
       " [0.45497111 0.49063878 0.86937346 0.14953213 0.32783122]\n",
       " [0.6524066  0.2625403  0.17152556 0.99459187 0.75187753]\n",
       " [0.28007491 0.79688764 0.31800259 0.15266576 0.74686689]\n",
       " [0.05989569 0.13427367 0.51956044 0.62609714 0.90939938]\n",
       " [0.65138161 0.42486181 0.3819907  0.15866371 0.5344392 ]])"
      ]
     },
     "execution_count": 53,
     "metadata": {},
     "output_type": "execute_result"
    }
   ],
   "source": [
    "np.asanyarray(g['a'])"
   ]
  },
  {
   "cell_type": "code",
   "execution_count": 54,
   "metadata": {},
   "outputs": [
    {
     "data": {
      "text/html": [
       "<table>\n",
       "<tbody>\n",
       "<tr><td><b>y \\ x</b></td><td><b>[-0.5 | 0 | 0.5]</b></td><td><b>[0.5 | 1 | 1.5]</b></td><td><b>[1.5 | 2 | 2.5]</b></td><td><b>[2.5 | 3 | 3.5]</b></td><td><b>[3.5 | 4 | 4.5]</b></td><td><b>[4.5 | 5 | 5.5]</b></td><td>...</td><td><b>[14 | 14 | 14]</b></td><td><b>[14 | 15 | 16]</b></td><td><b>[16 | 16 | 16]</b></td><td><b>[16 | 17 | 18]</b></td><td><b>[18 | 18 | 18]</b></td><td><b>[18 | 19 | 20]</b></td></tr>\n",
       "<tr><td><b>0</b>    </td><td>a = 0.57               </td><td>a = 0.66              </td><td>a = 0.82              </td><td>a = 0.44              </td><td>a = 0.42              </td><td>a = 0.5               </td><td>...</td><td>a = 0.83             </td><td>a = 0.45             </td><td>a = 0.65             </td><td>a = 0.28             </td><td>a = 0.06             </td><td>a = 0.65             </td></tr>\n",
       "<tr><td><b>1</b>    </td><td>a = 0.73               </td><td>a = 0.87              </td><td>a = 0.63              </td><td>a = 0.54              </td><td>a = 0.36              </td><td>a = 0.96              </td><td>...</td><td>a = 0.65             </td><td>a = 0.49             </td><td>a = 0.26             </td><td>a = 0.8              </td><td>a = 0.13             </td><td>a = 0.42             </td></tr>\n",
       "<tr><td><b>2</b>    </td><td>a = 0.21               </td><td>a = 0.49              </td><td>a = 0.21              </td><td>a = 0.12              </td><td>a = 0.71              </td><td>a = 0.24              </td><td>...</td><td>a = 0.47             </td><td>a = 0.87             </td><td>a = 0.17             </td><td>a = 0.32             </td><td>a = 0.52             </td><td>a = 0.38             </td></tr>\n",
       "<tr><td><b>3</b>    </td><td>a = 0.5                </td><td>a = 0.71              </td><td>a = 0.14              </td><td>a = 0.32              </td><td>a = 0.82              </td><td>a = 0.073             </td><td>...</td><td>a = 0.74             </td><td>a = 0.15             </td><td>a = 0.99             </td><td>a = 0.15             </td><td>a = 0.63             </td><td>a = 0.16             </td></tr>\n",
       "<tr><td><b>4</b>    </td><td>a = 0.41               </td><td>a = 0.11              </td><td>a = 0.71              </td><td>a = 0.53              </td><td>a = 0.05              </td><td>a = 0.93              </td><td>...</td><td>a = 0.41             </td><td>a = 0.33             </td><td>a = 0.75             </td><td>a = 0.75             </td><td>a = 0.91             </td><td>a = 0.53             </td></tr>\n",
       "</tbody>\n",
       "</table>"
      ],
      "text/plain": [
       "GridData(Grid(\n",
       "Axis(\"x\",\n",
       "points = array([ 0,  1,  2,  3,  4,  5,  6,  7,  8,  9, 10, 11, 12, 13, 14, 15, 16,\n",
       "       17, 18, 19]),\n",
       "edges = edges: array([[-0.5,  0.5],\n",
       "       [ 0.5,  1.5],\n",
       "       [ 1.5,  2.5],\n",
       "       [ 2.5,  3.5],\n",
       "       [ 3.5,  4.5],\n",
       "       [ 4.5,  5.5],\n",
       "       [ 5.5,  6.5],\n",
       "       [ 6.5,  7.5],\n",
       "       [ 7.5,  8.5],\n",
       "       [ 8.5,  9.5],\n",
       "       [ 9.5, 10.5],\n",
       "       [10.5, 11.5],\n",
       "       [11.5, 12.5],\n",
       "       [12.5, 13.5],\n",
       "       [13.5, 14.5],\n",
       "       [14.5, 15.5],\n",
       "       [15.5, 16.5],\n",
       "       [16.5, 17.5],\n",
       "       [17.5, 18.5],\n",
       "       [18.5, 19.5]]))\n",
       "nbins = 20),\n",
       "Axis(\"y\",\n",
       "points = array([0, 1, 2, 3, 4]),\n",
       "edges = edges: None)\n",
       "nbins = 5),)\n",
       "{'a': masked_array(\n",
       "  data=[[0.56807268, 0.72532386, 0.20549115, 0.49977233, 0.40547238],\n",
       "        [0.66423884, 0.86947622, 0.48603776, 0.71089429, 0.10753858],\n",
       "        [0.82038434, 0.62997374, 0.20647165, 0.14265565, 0.70658604],\n",
       "        [0.43730374, 0.53813933, 0.12301253, 0.32434888, 0.52596776],\n",
       "        [0.41746343, 0.35531785, 0.71306956, 0.82389844, 0.04976494],\n",
       "        [0.4989701 , 0.95855114, 0.24289489, 0.07250771, 0.92975872],\n",
       "        [0.11808475, 0.12495763, 0.27934471, 0.98445456, 0.09842793],\n",
       "        [0.51797117, 0.17209476, 0.79640909, 0.66074609, 0.0421669 ],\n",
       "        [0.41250704, 0.38575903, 0.55256899, 0.68461344, 0.77851337],\n",
       "        [0.85270419, 0.56216308, 0.6288014 , 0.8878339 , 0.89154058],\n",
       "        [0.88518655, 0.58031958, 0.76829123, 0.98868574, 0.01359997],\n",
       "        [0.07017303, 0.90497654, 0.29167608, 0.07268169, 0.25805864],\n",
       "        [0.19289716, 0.29949347, 0.45796538, 0.31180024, 0.57331261],\n",
       "        [0.27017137, 0.26592612, 0.75556736, 0.1486549 , 0.37320451],\n",
       "        [0.82739134, 0.64953099, 0.47225509, 0.73727223, 0.40761022],\n",
       "        [0.45497111, 0.49063878, 0.86937346, 0.14953213, 0.32783122],\n",
       "        [0.6524066 , 0.2625403 , 0.17152556, 0.99459187, 0.75187753],\n",
       "        [0.28007491, 0.79688764, 0.31800259, 0.15266576, 0.74686689],\n",
       "        [0.05989569, 0.13427367, 0.51956044, 0.62609714, 0.90939938],\n",
       "        [0.65138161, 0.42486181, 0.3819907 , 0.15866371, 0.5344392 ]],\n",
       "  mask=False,\n",
       "  fill_value=1e+20)})"
      ]
     },
     "execution_count": 54,
     "metadata": {},
     "output_type": "execute_result"
    }
   ],
   "source": [
    "g"
   ]
  },
  {
   "cell_type": "code",
   "execution_count": 55,
   "metadata": {},
   "outputs": [],
   "source": [
    "g['b'] = np.ones(g.shape)"
   ]
  },
  {
   "cell_type": "code",
   "execution_count": 56,
   "metadata": {},
   "outputs": [
    {
     "data": {
      "text/plain": [
       "(20, 5)"
      ]
     },
     "execution_count": 56,
     "metadata": {},
     "output_type": "execute_result"
    }
   ],
   "source": [
    "g.shape"
   ]
  },
  {
   "cell_type": "code",
   "execution_count": 57,
   "metadata": {},
   "outputs": [
    {
     "data": {
      "text/html": [
       "<table>\n",
       "<tbody>\n",
       "<tr><td><b>x \\ y</b>           </td><td><b>0</b></td><td><b>1</b></td><td><b>2</b></td><td><b>3</b></td><td><b>4</b></td></tr>\n",
       "<tr><td><b>[-0.5 | 0 | 0.5]</b></td><td>1       </td><td>1       </td><td>1       </td><td>1       </td><td>1       </td></tr>\n",
       "<tr><td><b>[0.5 | 1 | 1.5]</b> </td><td>1       </td><td>1       </td><td>1       </td><td>1       </td><td>1       </td></tr>\n",
       "<tr><td><b>[1.5 | 2 | 2.5]</b> </td><td>1       </td><td>1       </td><td>1       </td><td>1       </td><td>1       </td></tr>\n",
       "<tr><td><b>[2.5 | 3 | 3.5]</b> </td><td>1       </td><td>1       </td><td>1       </td><td>1       </td><td>1       </td></tr>\n",
       "<tr><td><b>[3.5 | 4 | 4.5]</b> </td><td>1       </td><td>1       </td><td>1       </td><td>1       </td><td>1       </td></tr>\n",
       "<tr><td><b>[4.5 | 5 | 5.5]</b> </td><td>1       </td><td>1       </td><td>1       </td><td>1       </td><td>1       </td></tr>\n",
       "<tr><td>...                    </td><td>...     </td><td>...     </td><td>...     </td><td>...     </td><td>...     </td></tr>\n",
       "<tr><td><b>[14 | 14 | 14]</b>  </td><td>1       </td><td>1       </td><td>1       </td><td>1       </td><td>1       </td></tr>\n",
       "<tr><td><b>[14 | 15 | 16]</b>  </td><td>1       </td><td>1       </td><td>1       </td><td>1       </td><td>1       </td></tr>\n",
       "<tr><td><b>[16 | 16 | 16]</b>  </td><td>1       </td><td>1       </td><td>1       </td><td>1       </td><td>1       </td></tr>\n",
       "<tr><td><b>[16 | 17 | 18]</b>  </td><td>1       </td><td>1       </td><td>1       </td><td>1       </td><td>1       </td></tr>\n",
       "<tr><td><b>[18 | 18 | 18]</b>  </td><td>1       </td><td>1       </td><td>1       </td><td>1       </td><td>1       </td></tr>\n",
       "<tr><td><b>[18 | 19 | 20]</b>  </td><td>1       </td><td>1       </td><td>1       </td><td>1       </td><td>1       </td></tr>\n",
       "</tbody>\n",
       "</table>"
      ],
      "text/plain": [
       "GridArray(noname : [[1. 1. 1. 1. 1. 1. 1. 1. 1. 1. 1. 1. 1. 1. 1. 1. 1. 1. 1. 1.]\n",
       " [1. 1. 1. 1. 1. 1. 1. 1. 1. 1. 1. 1. 1. 1. 1. 1. 1. 1. 1. 1.]\n",
       " [1. 1. 1. 1. 1. 1. 1. 1. 1. 1. 1. 1. 1. 1. 1. 1. 1. 1. 1. 1.]\n",
       " [1. 1. 1. 1. 1. 1. 1. 1. 1. 1. 1. 1. 1. 1. 1. 1. 1. 1. 1. 1.]\n",
       " [1. 1. 1. 1. 1. 1. 1. 1. 1. 1. 1. 1. 1. 1. 1. 1. 1. 1. 1. 1.]])"
      ]
     },
     "execution_count": 57,
     "metadata": {},
     "output_type": "execute_result"
    }
   ],
   "source": [
    "g['b'].T"
   ]
  },
  {
   "cell_type": "code",
   "execution_count": 58,
   "metadata": {},
   "outputs": [
    {
     "data": {
      "text/plain": [
       "Grid(\n",
       "Axis(\"x\",\n",
       "points = array([ 0,  1,  2,  3,  4,  5,  6,  7,  8,  9, 10, 11, 12, 13, 14, 15, 16,\n",
       "       17, 18, 19]),\n",
       "edges = edges: array([[-0.5,  0.5],\n",
       "       [ 0.5,  1.5],\n",
       "       [ 1.5,  2.5],\n",
       "       [ 2.5,  3.5],\n",
       "       [ 3.5,  4.5],\n",
       "       [ 4.5,  5.5],\n",
       "       [ 5.5,  6.5],\n",
       "       [ 6.5,  7.5],\n",
       "       [ 7.5,  8.5],\n",
       "       [ 8.5,  9.5],\n",
       "       [ 9.5, 10.5],\n",
       "       [10.5, 11.5],\n",
       "       [11.5, 12.5],\n",
       "       [12.5, 13.5],\n",
       "       [13.5, 14.5],\n",
       "       [14.5, 15.5],\n",
       "       [15.5, 16.5],\n",
       "       [16.5, 17.5],\n",
       "       [17.5, 18.5],\n",
       "       [18.5, 19.5]]))\n",
       "nbins = 20),\n",
       "Axis(\"y\",\n",
       "points = array([0, 1, 2, 3, 4]),\n",
       "edges = edges: None)\n",
       "nbins = 5),)"
      ]
     },
     "execution_count": 58,
     "metadata": {},
     "output_type": "execute_result"
    }
   ],
   "source": [
    "np.sin(a).grid"
   ]
  },
  {
   "cell_type": "code",
   "execution_count": 59,
   "metadata": {},
   "outputs": [],
   "source": [
    "a = g['a']"
   ]
  },
  {
   "cell_type": "code",
   "execution_count": 60,
   "metadata": {},
   "outputs": [
    {
     "data": {
      "text/plain": [
       "array([[0.56807268, 0.72532386, 0.20549115, 0.49977233, 0.40547238],\n",
       "       [0.66423884, 0.86947622, 0.48603776, 0.71089429, 0.10753858],\n",
       "       [0.82038434, 0.62997374, 0.20647165, 0.14265565, 0.70658604],\n",
       "       [0.43730374, 0.53813933, 0.12301253, 0.32434888, 0.52596776],\n",
       "       [0.41746343, 0.35531785, 0.71306956, 0.82389844, 0.04976494],\n",
       "       [0.4989701 , 0.95855114, 0.24289489, 0.07250771, 0.92975872],\n",
       "       [0.11808475, 0.12495763, 0.27934471, 0.98445456, 0.09842793],\n",
       "       [0.51797117, 0.17209476, 0.79640909, 0.66074609, 0.0421669 ],\n",
       "       [0.41250704, 0.38575903, 0.55256899, 0.68461344, 0.77851337],\n",
       "       [0.85270419, 0.56216308, 0.6288014 , 0.8878339 , 0.89154058],\n",
       "       [0.88518655, 0.58031958, 0.76829123, 0.98868574, 0.01359997],\n",
       "       [0.07017303, 0.90497654, 0.29167608, 0.07268169, 0.25805864],\n",
       "       [0.19289716, 0.29949347, 0.45796538, 0.31180024, 0.57331261],\n",
       "       [0.27017137, 0.26592612, 0.75556736, 0.1486549 , 0.37320451],\n",
       "       [0.82739134, 0.64953099, 0.47225509, 0.73727223, 0.40761022],\n",
       "       [0.45497111, 0.49063878, 0.86937346, 0.14953213, 0.32783122],\n",
       "       [0.6524066 , 0.2625403 , 0.17152556, 0.99459187, 0.75187753],\n",
       "       [0.28007491, 0.79688764, 0.31800259, 0.15266576, 0.74686689],\n",
       "       [0.05989569, 0.13427367, 0.51956044, 0.62609714, 0.90939938],\n",
       "       [0.65138161, 0.42486181, 0.3819907 , 0.15866371, 0.5344392 ]])"
      ]
     },
     "execution_count": 60,
     "metadata": {},
     "output_type": "execute_result"
    }
   ],
   "source": [
    "a.view(np.ndarray)"
   ]
  },
  {
   "cell_type": "code",
   "execution_count": 61,
   "metadata": {},
   "outputs": [],
   "source": [
    "g['b'][g['a'] < 0.5] *= -1"
   ]
  },
  {
   "cell_type": "code",
   "execution_count": 62,
   "metadata": {},
   "outputs": [
    {
     "data": {
      "text/html": [
       "<table>\n",
       "<tbody>\n",
       "<tr><td><b>y \\ x</b></td><td><b>[-0.5 | 0 | 0.5]</b></td><td><b>[0.5 | 1 | 1.5]</b></td><td><b>[1.5 | 2 | 2.5]</b></td><td><b>[2.5 | 3 | 3.5]</b></td><td><b>[3.5 | 4 | 4.5]</b></td><td><b>[4.5 | 5 | 5.5]</b></td><td>...</td><td><b>[14 | 14 | 14]</b></td><td><b>[14 | 15 | 16]</b></td><td><b>[16 | 16 | 16]</b></td><td><b>[16 | 17 | 18]</b></td><td><b>[18 | 18 | 18]</b></td><td><b>[18 | 19 | 20]</b></td></tr>\n",
       "<tr><td><b>0</b>    </td><td>a = 0.57<br>b = 1      </td><td>a = 0.66<br>b = 1     </td><td>a = 0.82<br>b = 1     </td><td>a = 0.44<br>b = -1    </td><td>a = 0.42<br>b = -1    </td><td>a = 0.5<br>b = -1     </td><td>...</td><td>a = 0.83<br>b = 1    </td><td>a = 0.45<br>b = -1   </td><td>a = 0.65<br>b = 1    </td><td>a = 0.28<br>b = -1   </td><td>a = 0.06<br>b = -1   </td><td>a = 0.65<br>b = 1    </td></tr>\n",
       "<tr><td><b>1</b>    </td><td>a = 0.73<br>b = 1      </td><td>a = 0.87<br>b = 1     </td><td>a = 0.63<br>b = 1     </td><td>a = 0.54<br>b = 1     </td><td>a = 0.36<br>b = -1    </td><td>a = 0.96<br>b = 1     </td><td>...</td><td>a = 0.65<br>b = 1    </td><td>a = 0.49<br>b = -1   </td><td>a = 0.26<br>b = -1   </td><td>a = 0.8<br>b = 1     </td><td>a = 0.13<br>b = -1   </td><td>a = 0.42<br>b = -1   </td></tr>\n",
       "<tr><td><b>2</b>    </td><td>a = 0.21<br>b = -1     </td><td>a = 0.49<br>b = -1    </td><td>a = 0.21<br>b = -1    </td><td>a = 0.12<br>b = -1    </td><td>a = 0.71<br>b = 1     </td><td>a = 0.24<br>b = -1    </td><td>...</td><td>a = 0.47<br>b = -1   </td><td>a = 0.87<br>b = 1    </td><td>a = 0.17<br>b = -1   </td><td>a = 0.32<br>b = -1   </td><td>a = 0.52<br>b = 1    </td><td>a = 0.38<br>b = -1   </td></tr>\n",
       "<tr><td><b>3</b>    </td><td>a = 0.5<br>b = -1      </td><td>a = 0.71<br>b = 1     </td><td>a = 0.14<br>b = -1    </td><td>a = 0.32<br>b = -1    </td><td>a = 0.82<br>b = 1     </td><td>a = 0.073<br>b = -1   </td><td>...</td><td>a = 0.74<br>b = 1    </td><td>a = 0.15<br>b = -1   </td><td>a = 0.99<br>b = 1    </td><td>a = 0.15<br>b = -1   </td><td>a = 0.63<br>b = 1    </td><td>a = 0.16<br>b = -1   </td></tr>\n",
       "<tr><td><b>4</b>    </td><td>a = 0.41<br>b = -1     </td><td>a = 0.11<br>b = -1    </td><td>a = 0.71<br>b = 1     </td><td>a = 0.53<br>b = 1     </td><td>a = 0.05<br>b = -1    </td><td>a = 0.93<br>b = 1     </td><td>...</td><td>a = 0.41<br>b = -1   </td><td>a = 0.33<br>b = -1   </td><td>a = 0.75<br>b = 1    </td><td>a = 0.75<br>b = 1    </td><td>a = 0.91<br>b = 1    </td><td>a = 0.53<br>b = 1    </td></tr>\n",
       "</tbody>\n",
       "</table>"
      ],
      "text/plain": [
       "GridData(Grid(\n",
       "Axis(\"x\",\n",
       "points = array([ 0,  1,  2,  3,  4,  5,  6,  7,  8,  9, 10, 11, 12, 13, 14, 15, 16,\n",
       "       17, 18, 19]),\n",
       "edges = edges: array([[-0.5,  0.5],\n",
       "       [ 0.5,  1.5],\n",
       "       [ 1.5,  2.5],\n",
       "       [ 2.5,  3.5],\n",
       "       [ 3.5,  4.5],\n",
       "       [ 4.5,  5.5],\n",
       "       [ 5.5,  6.5],\n",
       "       [ 6.5,  7.5],\n",
       "       [ 7.5,  8.5],\n",
       "       [ 8.5,  9.5],\n",
       "       [ 9.5, 10.5],\n",
       "       [10.5, 11.5],\n",
       "       [11.5, 12.5],\n",
       "       [12.5, 13.5],\n",
       "       [13.5, 14.5],\n",
       "       [14.5, 15.5],\n",
       "       [15.5, 16.5],\n",
       "       [16.5, 17.5],\n",
       "       [17.5, 18.5],\n",
       "       [18.5, 19.5]]))\n",
       "nbins = 20),\n",
       "Axis(\"y\",\n",
       "points = array([0, 1, 2, 3, 4]),\n",
       "edges = edges: None)\n",
       "nbins = 5),)\n",
       "{'a': masked_array(\n",
       "  data=[[0.56807268, 0.72532386, 0.20549115, 0.49977233, 0.40547238],\n",
       "        [0.66423884, 0.86947622, 0.48603776, 0.71089429, 0.10753858],\n",
       "        [0.82038434, 0.62997374, 0.20647165, 0.14265565, 0.70658604],\n",
       "        [0.43730374, 0.53813933, 0.12301253, 0.32434888, 0.52596776],\n",
       "        [0.41746343, 0.35531785, 0.71306956, 0.82389844, 0.04976494],\n",
       "        [0.4989701 , 0.95855114, 0.24289489, 0.07250771, 0.92975872],\n",
       "        [0.11808475, 0.12495763, 0.27934471, 0.98445456, 0.09842793],\n",
       "        [0.51797117, 0.17209476, 0.79640909, 0.66074609, 0.0421669 ],\n",
       "        [0.41250704, 0.38575903, 0.55256899, 0.68461344, 0.77851337],\n",
       "        [0.85270419, 0.56216308, 0.6288014 , 0.8878339 , 0.89154058],\n",
       "        [0.88518655, 0.58031958, 0.76829123, 0.98868574, 0.01359997],\n",
       "        [0.07017303, 0.90497654, 0.29167608, 0.07268169, 0.25805864],\n",
       "        [0.19289716, 0.29949347, 0.45796538, 0.31180024, 0.57331261],\n",
       "        [0.27017137, 0.26592612, 0.75556736, 0.1486549 , 0.37320451],\n",
       "        [0.82739134, 0.64953099, 0.47225509, 0.73727223, 0.40761022],\n",
       "        [0.45497111, 0.49063878, 0.86937346, 0.14953213, 0.32783122],\n",
       "        [0.6524066 , 0.2625403 , 0.17152556, 0.99459187, 0.75187753],\n",
       "        [0.28007491, 0.79688764, 0.31800259, 0.15266576, 0.74686689],\n",
       "        [0.05989569, 0.13427367, 0.51956044, 0.62609714, 0.90939938],\n",
       "        [0.65138161, 0.42486181, 0.3819907 , 0.15866371, 0.5344392 ]],\n",
       "  mask=False,\n",
       "  fill_value=1e+20), 'b': masked_array(\n",
       "  data=[[ 1.,  1., -1., -1., -1.],\n",
       "        [ 1.,  1., -1.,  1., -1.],\n",
       "        [ 1.,  1., -1., -1.,  1.],\n",
       "        [-1.,  1., -1., -1.,  1.],\n",
       "        [-1., -1.,  1.,  1., -1.],\n",
       "        [-1.,  1., -1., -1.,  1.],\n",
       "        [-1., -1., -1.,  1., -1.],\n",
       "        [ 1., -1.,  1.,  1., -1.],\n",
       "        [-1., -1.,  1.,  1.,  1.],\n",
       "        [ 1.,  1.,  1.,  1.,  1.],\n",
       "        [ 1.,  1.,  1.,  1., -1.],\n",
       "        [-1.,  1., -1., -1., -1.],\n",
       "        [-1., -1., -1., -1.,  1.],\n",
       "        [-1., -1.,  1., -1., -1.],\n",
       "        [ 1.,  1., -1.,  1., -1.],\n",
       "        [-1., -1.,  1., -1., -1.],\n",
       "        [ 1., -1., -1.,  1.,  1.],\n",
       "        [-1.,  1., -1., -1.,  1.],\n",
       "        [-1., -1.,  1.,  1.,  1.],\n",
       "        [ 1., -1., -1., -1.,  1.]],\n",
       "  mask=False,\n",
       "  fill_value=1e+20)})"
      ]
     },
     "execution_count": 62,
     "metadata": {},
     "output_type": "execute_result"
    }
   ],
   "source": [
    "g"
   ]
  },
  {
   "cell_type": "code",
   "execution_count": 63,
   "metadata": {},
   "outputs": [
    {
     "data": {
      "text/html": [
       "<table>\n",
       "<tbody>\n",
       "<tr><td><b>y \\ x</b></td><td><b>[-0.5 | 0 | 0.5]</b></td><td><b>[0.5 | 1 | 1.5]</b></td><td><b>[1.5 | 2 | 2.5]</b></td><td><b>[2.5 | 3 | 3.5]</b></td><td><b>[3.5 | 4 | 4.5]</b></td><td><b>[4.5 | 5 | 5.5]</b></td><td>...</td><td><b>[14 | 14 | 14]</b></td><td><b>[14 | 15 | 16]</b></td><td><b>[16 | 16 | 16]</b></td><td><b>[16 | 17 | 18]</b></td><td><b>[18 | 18 | 18]</b></td><td><b>[18 | 19 | 20]</b></td></tr>\n",
       "<tr><td><b>0</b>    </td><td>0.57                   </td><td>0.66                  </td><td>0.82                  </td><td>0.44                  </td><td>0.42                  </td><td>0.5                   </td><td>...</td><td>0.83                 </td><td>0.45                 </td><td>0.65                 </td><td>0.28                 </td><td>0.06                 </td><td>0.65                 </td></tr>\n",
       "<tr><td><b>1</b>    </td><td>0.73                   </td><td>0.87                  </td><td>0.63                  </td><td>0.54                  </td><td>0.36                  </td><td>0.96                  </td><td>...</td><td>0.65                 </td><td>0.49                 </td><td>0.26                 </td><td>0.8                  </td><td>0.13                 </td><td>0.42                 </td></tr>\n",
       "<tr><td><b>2</b>    </td><td>0.21                   </td><td>0.49                  </td><td>0.21                  </td><td>0.12                  </td><td>0.71                  </td><td>0.24                  </td><td>...</td><td>0.47                 </td><td>0.87                 </td><td>0.17                 </td><td>0.32                 </td><td>0.52                 </td><td>0.38                 </td></tr>\n",
       "<tr><td><b>3</b>    </td><td>0.5                    </td><td>0.71                  </td><td>0.14                  </td><td>0.32                  </td><td>0.82                  </td><td>0.073                 </td><td>...</td><td>0.74                 </td><td>0.15                 </td><td>0.99                 </td><td>0.15                 </td><td>0.63                 </td><td>0.16                 </td></tr>\n",
       "<tr><td><b>4</b>    </td><td>0.41                   </td><td>0.11                  </td><td>0.71                  </td><td>0.53                  </td><td>0.05                  </td><td>0.93                  </td><td>...</td><td>0.41                 </td><td>0.33                 </td><td>0.75                 </td><td>0.75                 </td><td>0.91                 </td><td>0.53                 </td></tr>\n",
       "</tbody>\n",
       "</table>"
      ],
      "text/plain": [
       "GridArray(noname : [[0.56807268 0.72532386 0.20549115 0.49977233 0.40547238]\n",
       " [0.66423884 0.86947622 0.48603776 0.71089429 0.10753858]\n",
       " [0.82038434 0.62997374 0.20647165 0.14265565 0.70658604]\n",
       " [0.43730374 0.53813933 0.12301253 0.32434888 0.52596776]\n",
       " [0.41746343 0.35531785 0.71306956 0.82389844 0.04976494]\n",
       " [0.4989701  0.95855114 0.24289489 0.07250771 0.92975872]\n",
       " [0.11808475 0.12495763 0.27934471 0.98445456 0.09842793]\n",
       " [0.51797117 0.17209476 0.79640909 0.66074609 0.0421669 ]\n",
       " [0.41250704 0.38575903 0.55256899 0.68461344 0.77851337]\n",
       " [0.85270419 0.56216308 0.6288014  0.8878339  0.89154058]\n",
       " [0.88518655 0.58031958 0.76829123 0.98868574 0.01359997]\n",
       " [0.07017303 0.90497654 0.29167608 0.07268169 0.25805864]\n",
       " [0.19289716 0.29949347 0.45796538 0.31180024 0.57331261]\n",
       " [0.27017137 0.26592612 0.75556736 0.1486549  0.37320451]\n",
       " [0.82739134 0.64953099 0.47225509 0.73727223 0.40761022]\n",
       " [0.45497111 0.49063878 0.86937346 0.14953213 0.32783122]\n",
       " [0.6524066  0.2625403  0.17152556 0.99459187 0.75187753]\n",
       " [0.28007491 0.79688764 0.31800259 0.15266576 0.74686689]\n",
       " [0.05989569 0.13427367 0.51956044 0.62609714 0.90939938]\n",
       " [0.65138161 0.42486181 0.3819907  0.15866371 0.5344392 ]])"
      ]
     },
     "execution_count": 63,
     "metadata": {},
     "output_type": "execute_result"
    }
   ],
   "source": [
    "g['a']"
   ]
  },
  {
   "cell_type": "code",
   "execution_count": 64,
   "metadata": {},
   "outputs": [
    {
     "data": {
      "text/html": [
       "<table>\n",
       "<tbody>\n",
       "<tr><td><b>x</b></td><td><b>[-0.5 | 0 | 0.5]</b></td><td><b>[0.5 | 1 | 1.5]</b></td><td><b>[1.5 | 2 | 2.5]</b></td><td><b>[2.5 | 3 | 3.5]</b></td><td><b>[3.5 | 4 | 4.5]</b></td><td><b>[4.5 | 5 | 5.5]</b></td><td>...</td><td><b>[14 | 14 | 14]</b></td><td><b>[14 | 15 | 16]</b></td><td><b>[16 | 16 | 16]</b></td><td><b>[16 | 17 | 18]</b></td><td><b>[18 | 18 | 18]</b></td><td><b>[18 | 19 | 20]</b></td></tr>\n",
       "<tr><td><b></b> </td><td>2.4                    </td><td>2.8                   </td><td>2.5                   </td><td>1.9                   </td><td>2.4                   </td><td>2.7                   </td><td>...</td><td>3.1                  </td><td>2.3                  </td><td>2.8                  </td><td>2.3                  </td><td>2.2                  </td><td>2.2                  </td></tr>\n",
       "</tbody>\n",
       "</table>"
      ],
      "text/plain": [
       "GridArray(noname : [2.4041324  2.8381857  2.50607142 1.94877225 2.35951422 2.70268256\n",
       " 1.60526958 2.18938801 2.81396187 3.82304314 3.23608308 1.59756598\n",
       " 1.83546885 1.81352426 3.09405987 2.2923467  2.83294186 2.2944978\n",
       " 2.24922633 2.15133702])"
      ]
     },
     "execution_count": 64,
     "metadata": {},
     "output_type": "execute_result"
    }
   ],
   "source": [
    "np.sum(g['a'], axis='y')"
   ]
  },
  {
   "cell_type": "code",
   "execution_count": 65,
   "metadata": {},
   "outputs": [
    {
     "data": {
      "text/html": [
       "<table>\n",
       "<tbody>\n",
       "<tr><td><b>x</b></td><td><b>[-0.5 | 0 | 0.5]</b></td><td><b>[0.5 | 1 | 1.5]</b></td><td><b>[1.5 | 2 | 2.5]</b></td><td><b>[2.5 | 3 | 3.5]</b></td><td><b>[3.5 | 4 | 4.5]</b></td><td><b>[4.5 | 5 | 5.5]</b></td><td>...</td><td><b>[14 | 14 | 14]</b></td><td><b>[14 | 15 | 16]</b></td><td><b>[16 | 16 | 16]</b></td><td><b>[16 | 17 | 18]</b></td><td><b>[18 | 18 | 18]</b></td><td><b>[18 | 19 | 20]</b></td></tr>\n",
       "<tr><td><b>a</b></td><td>0.5                    </td><td>0.71                  </td><td>0.14                  </td><td>0.32                  </td><td>0.82                  </td><td>0.073                 </td><td>...</td><td>0.74                 </td><td>0.15                 </td><td>0.99                 </td><td>0.15                 </td><td>0.63                 </td><td>0.16                 </td></tr>\n",
       "<tr><td><b>b</b></td><td>-1                     </td><td>1                     </td><td>-1                    </td><td>-1                    </td><td>1                     </td><td>-1                    </td><td>...</td><td>1                    </td><td>-1                   </td><td>1                    </td><td>-1                   </td><td>1                    </td><td>-1                   </td></tr>\n",
       "</tbody>\n",
       "</table>"
      ],
      "text/plain": [
       "GridData(Grid(\n",
       "Axis(\"x\",\n",
       "points = array([ 0,  1,  2,  3,  4,  5,  6,  7,  8,  9, 10, 11, 12, 13, 14, 15, 16,\n",
       "       17, 18, 19]),\n",
       "edges = edges: array([[-0.5,  0.5],\n",
       "       [ 0.5,  1.5],\n",
       "       [ 1.5,  2.5],\n",
       "       [ 2.5,  3.5],\n",
       "       [ 3.5,  4.5],\n",
       "       [ 4.5,  5.5],\n",
       "       [ 5.5,  6.5],\n",
       "       [ 6.5,  7.5],\n",
       "       [ 7.5,  8.5],\n",
       "       [ 8.5,  9.5],\n",
       "       [ 9.5, 10.5],\n",
       "       [10.5, 11.5],\n",
       "       [11.5, 12.5],\n",
       "       [12.5, 13.5],\n",
       "       [13.5, 14.5],\n",
       "       [14.5, 15.5],\n",
       "       [15.5, 16.5],\n",
       "       [16.5, 17.5],\n",
       "       [17.5, 18.5],\n",
       "       [18.5, 19.5]]))\n",
       "nbins = 20),)\n",
       "{'a': masked_array(data=[0.49977233, 0.71089429, 0.14265565, 0.32434888,\n",
       "                   0.82389844, 0.07250771, 0.98445456, 0.66074609,\n",
       "                   0.68461344, 0.8878339 , 0.98868574, 0.07268169,\n",
       "                   0.31180024, 0.1486549 , 0.73727223, 0.14953213,\n",
       "                   0.99459187, 0.15266576, 0.62609714, 0.15866371],\n",
       "             mask=False,\n",
       "       fill_value=1e+20), 'b': masked_array(data=[-1.,  1., -1., -1.,  1., -1.,  1.,  1.,  1.,  1.,  1.,\n",
       "                   -1., -1., -1.,  1., -1.,  1., -1.,  1., -1.],\n",
       "             mask=False,\n",
       "       fill_value=1e+20)})"
      ]
     },
     "execution_count": 65,
     "metadata": {},
     "output_type": "execute_result"
    }
   ],
   "source": [
    "g[:,-2]"
   ]
  },
  {
   "cell_type": "code",
   "execution_count": 66,
   "metadata": {},
   "outputs": [
    {
     "data": {
      "text/html": [
       "<table>\n",
       "<tbody>\n",
       "<tr><td><b>y \\ x</b></td><td><b>[18 | 19 | 20]</b></td><td><b>[18 | 18 | 18]</b></td><td><b>[16 | 17 | 18]</b></td><td><b>[16 | 16 | 16]</b></td><td><b>[14 | 15 | 16]</b></td><td><b>[14 | 14 | 14]</b></td><td>...</td><td><b>[4.5 | 5 | 5.5]</b></td><td><b>[3.5 | 4 | 4.5]</b></td><td><b>[2.5 | 3 | 3.5]</b></td><td><b>[1.5 | 2 | 2.5]</b></td><td><b>[0.5 | 1 | 1.5]</b></td><td><b>[-0.5 | 0 | 0.5]</b></td></tr>\n",
       "<tr><td><b>4</b>    </td><td>a = 0.53<br>b = 1    </td><td>a = 0.91<br>b = 1    </td><td>a = 0.75<br>b = 1    </td><td>a = 0.75<br>b = 1    </td><td>a = 0.33<br>b = -1   </td><td>a = 0.41<br>b = -1   </td><td>...</td><td>a = 0.93<br>b = 1     </td><td>a = 0.05<br>b = -1    </td><td>a = 0.53<br>b = 1     </td><td>a = 0.71<br>b = 1     </td><td>a = 0.11<br>b = -1    </td><td>a = 0.41<br>b = -1     </td></tr>\n",
       "<tr><td><b>3</b>    </td><td>a = 0.16<br>b = -1   </td><td>a = 0.63<br>b = 1    </td><td>a = 0.15<br>b = -1   </td><td>a = 0.99<br>b = 1    </td><td>a = 0.15<br>b = -1   </td><td>a = 0.74<br>b = 1    </td><td>...</td><td>a = 0.073<br>b = -1   </td><td>a = 0.82<br>b = 1     </td><td>a = 0.32<br>b = -1    </td><td>a = 0.14<br>b = -1    </td><td>a = 0.71<br>b = 1     </td><td>a = 0.5<br>b = -1      </td></tr>\n",
       "<tr><td><b>2</b>    </td><td>a = 0.38<br>b = -1   </td><td>a = 0.52<br>b = 1    </td><td>a = 0.32<br>b = -1   </td><td>a = 0.17<br>b = -1   </td><td>a = 0.87<br>b = 1    </td><td>a = 0.47<br>b = -1   </td><td>...</td><td>a = 0.24<br>b = -1    </td><td>a = 0.71<br>b = 1     </td><td>a = 0.12<br>b = -1    </td><td>a = 0.21<br>b = -1    </td><td>a = 0.49<br>b = -1    </td><td>a = 0.21<br>b = -1     </td></tr>\n",
       "<tr><td><b>1</b>    </td><td>a = 0.42<br>b = -1   </td><td>a = 0.13<br>b = -1   </td><td>a = 0.8<br>b = 1     </td><td>a = 0.26<br>b = -1   </td><td>a = 0.49<br>b = -1   </td><td>a = 0.65<br>b = 1    </td><td>...</td><td>a = 0.96<br>b = 1     </td><td>a = 0.36<br>b = -1    </td><td>a = 0.54<br>b = 1     </td><td>a = 0.63<br>b = 1     </td><td>a = 0.87<br>b = 1     </td><td>a = 0.73<br>b = 1      </td></tr>\n",
       "<tr><td><b>0</b>    </td><td>a = 0.65<br>b = 1    </td><td>a = 0.06<br>b = -1   </td><td>a = 0.28<br>b = -1   </td><td>a = 0.65<br>b = 1    </td><td>a = 0.45<br>b = -1   </td><td>a = 0.83<br>b = 1    </td><td>...</td><td>a = 0.5<br>b = -1     </td><td>a = 0.42<br>b = -1    </td><td>a = 0.44<br>b = -1    </td><td>a = 0.82<br>b = 1     </td><td>a = 0.66<br>b = 1     </td><td>a = 0.57<br>b = 1      </td></tr>\n",
       "</tbody>\n",
       "</table>"
      ],
      "text/plain": [
       "GridData(Grid(\n",
       "Axis(\"x\",\n",
       "points = array([19, 18, 17, 16, 15, 14, 13, 12, 11, 10,  9,  8,  7,  6,  5,  4,  3,\n",
       "        2,  1,  0]),\n",
       "edges = edges: array([[18.5, 19.5],\n",
       "       [17.5, 18.5],\n",
       "       [16.5, 17.5],\n",
       "       [15.5, 16.5],\n",
       "       [14.5, 15.5],\n",
       "       [13.5, 14.5],\n",
       "       [12.5, 13.5],\n",
       "       [11.5, 12.5],\n",
       "       [10.5, 11.5],\n",
       "       [ 9.5, 10.5],\n",
       "       [ 8.5,  9.5],\n",
       "       [ 7.5,  8.5],\n",
       "       [ 6.5,  7.5],\n",
       "       [ 5.5,  6.5],\n",
       "       [ 4.5,  5.5],\n",
       "       [ 3.5,  4.5],\n",
       "       [ 2.5,  3.5],\n",
       "       [ 1.5,  2.5],\n",
       "       [ 0.5,  1.5],\n",
       "       [-0.5,  0.5]]))\n",
       "nbins = 20),\n",
       "Axis(\"y\",\n",
       "points = array([4, 3, 2, 1, 0]),\n",
       "edges = edges: None)\n",
       "nbins = 5),)\n",
       "{'a': masked_array(\n",
       "  data=[[0.5344392 , 0.15866371, 0.3819907 , 0.42486181, 0.65138161],\n",
       "        [0.90939938, 0.62609714, 0.51956044, 0.13427367, 0.05989569],\n",
       "        [0.74686689, 0.15266576, 0.31800259, 0.79688764, 0.28007491],\n",
       "        [0.75187753, 0.99459187, 0.17152556, 0.2625403 , 0.6524066 ],\n",
       "        [0.32783122, 0.14953213, 0.86937346, 0.49063878, 0.45497111],\n",
       "        [0.40761022, 0.73727223, 0.47225509, 0.64953099, 0.82739134],\n",
       "        [0.37320451, 0.1486549 , 0.75556736, 0.26592612, 0.27017137],\n",
       "        [0.57331261, 0.31180024, 0.45796538, 0.29949347, 0.19289716],\n",
       "        [0.25805864, 0.07268169, 0.29167608, 0.90497654, 0.07017303],\n",
       "        [0.01359997, 0.98868574, 0.76829123, 0.58031958, 0.88518655],\n",
       "        [0.89154058, 0.8878339 , 0.6288014 , 0.56216308, 0.85270419],\n",
       "        [0.77851337, 0.68461344, 0.55256899, 0.38575903, 0.41250704],\n",
       "        [0.0421669 , 0.66074609, 0.79640909, 0.17209476, 0.51797117],\n",
       "        [0.09842793, 0.98445456, 0.27934471, 0.12495763, 0.11808475],\n",
       "        [0.92975872, 0.07250771, 0.24289489, 0.95855114, 0.4989701 ],\n",
       "        [0.04976494, 0.82389844, 0.71306956, 0.35531785, 0.41746343],\n",
       "        [0.52596776, 0.32434888, 0.12301253, 0.53813933, 0.43730374],\n",
       "        [0.70658604, 0.14265565, 0.20647165, 0.62997374, 0.82038434],\n",
       "        [0.10753858, 0.71089429, 0.48603776, 0.86947622, 0.66423884],\n",
       "        [0.40547238, 0.49977233, 0.20549115, 0.72532386, 0.56807268]],\n",
       "  mask=False,\n",
       "  fill_value=1e+20), 'b': masked_array(\n",
       "  data=[[ 1., -1., -1., -1.,  1.],\n",
       "        [ 1.,  1.,  1., -1., -1.],\n",
       "        [ 1., -1., -1.,  1., -1.],\n",
       "        [ 1.,  1., -1., -1.,  1.],\n",
       "        [-1., -1.,  1., -1., -1.],\n",
       "        [-1.,  1., -1.,  1.,  1.],\n",
       "        [-1., -1.,  1., -1., -1.],\n",
       "        [ 1., -1., -1., -1., -1.],\n",
       "        [-1., -1., -1.,  1., -1.],\n",
       "        [-1.,  1.,  1.,  1.,  1.],\n",
       "        [ 1.,  1.,  1.,  1.,  1.],\n",
       "        [ 1.,  1.,  1., -1., -1.],\n",
       "        [-1.,  1.,  1., -1.,  1.],\n",
       "        [-1.,  1., -1., -1., -1.],\n",
       "        [ 1., -1., -1.,  1., -1.],\n",
       "        [-1.,  1.,  1., -1., -1.],\n",
       "        [ 1., -1., -1.,  1., -1.],\n",
       "        [ 1., -1., -1.,  1.,  1.],\n",
       "        [-1.,  1., -1.,  1.,  1.],\n",
       "        [-1., -1., -1.,  1.,  1.]],\n",
       "  mask=False,\n",
       "  fill_value=1e+20)})"
      ]
     },
     "execution_count": 66,
     "metadata": {},
     "output_type": "execute_result"
    }
   ],
   "source": [
    "g[::-1, ::-1]"
   ]
  },
  {
   "cell_type": "code",
   "execution_count": 67,
   "metadata": {},
   "outputs": [
    {
     "data": {
      "text/html": [
       "<table>\n",
       "<tbody>\n",
       "<tr><td><b>y \\ x</b></td><td><b>[-0.5 | 0 | 0.5]</b></td><td><b>[2.5 | 3 | 3.5]</b></td><td><b>[4.5 | 5 | 5.5]</b></td></tr>\n",
       "<tr><td><b>2</b>    </td><td>a = 0.21<br>b = -1     </td><td>a = 0.12<br>b = -1    </td><td>a = 0.24<br>b = -1    </td></tr>\n",
       "<tr><td><b>3</b>    </td><td>a = 0.5<br>b = -1      </td><td>a = 0.32<br>b = -1    </td><td>a = 0.073<br>b = -1   </td></tr>\n",
       "</tbody>\n",
       "</table>"
      ],
      "text/plain": [
       "GridData(Grid(\n",
       "Axis(\"x\",\n",
       "points = array([0, 3, 5]),\n",
       "edges = edges: array([[-0.5,  0.5],\n",
       "       [ 2.5,  3.5],\n",
       "       [ 4.5,  5.5]]))\n",
       "nbins = 3),\n",
       "Axis(\"y\",\n",
       "points = array([2, 3]),\n",
       "edges = edges: None)\n",
       "nbins = 2),)\n",
       "{'a': masked_array(\n",
       "  data=[[0.20549115, 0.49977233],\n",
       "        [0.12301253, 0.32434888],\n",
       "        [0.24289489, 0.07250771]],\n",
       "  mask=False,\n",
       "  fill_value=1e+20), 'b': masked_array(\n",
       "  data=[[-1., -1.],\n",
       "        [-1., -1.],\n",
       "        [-1., -1.]],\n",
       "  mask=False,\n",
       "  fill_value=1e+20)})"
      ]
     },
     "execution_count": 67,
     "metadata": {},
     "output_type": "execute_result"
    }
   ],
   "source": [
    "g[[0,3,5], 2:-1]"
   ]
  },
  {
   "cell_type": "code",
   "execution_count": 68,
   "metadata": {},
   "outputs": [
    {
     "data": {
      "text/plain": [
       "{'a': 0.5680726834707136, 'b': 1.0}"
      ]
     },
     "execution_count": 68,
     "metadata": {},
     "output_type": "execute_result"
    }
   ],
   "source": [
    "g[0,0]"
   ]
  },
  {
   "cell_type": "code",
   "execution_count": 69,
   "metadata": {},
   "outputs": [
    {
     "data": {
      "text/plain": [
       "19.5"
      ]
     },
     "execution_count": 69,
     "metadata": {},
     "output_type": "execute_result"
    }
   ],
   "source": [
    "g.grid.edges[0].max()"
   ]
  },
  {
   "cell_type": "code",
   "execution_count": 70,
   "metadata": {},
   "outputs": [
    {
     "data": {
      "text/html": [
       "<table>\n",
       "<tbody>\n",
       "<tr><td><b>y</b></td><td><b>0</b></td><td><b>1</b></td><td><b>2</b></td><td><b>3</b></td><td><b>4</b></td></tr>\n",
       "<tr><td><b></b> </td><td>0.15    </td><td>0.25    </td><td>0.027   </td><td>0.33    </td><td>0.3     </td></tr>\n",
       "</tbody>\n",
       "</table>"
      ],
      "text/plain": [
       "GridArray(noname : [0.15444631200775868 0.2522791318417595 0.026798251587948296\n",
       " 0.3310526771153608 0.3022629504993381])"
      ]
     },
     "execution_count": 70,
     "metadata": {},
     "output_type": "execute_result"
    }
   ],
   "source": [
    "np.mean(g['b'], axis='x') + np.std(g['a'], axis='x')"
   ]
  },
  {
   "cell_type": "code",
   "execution_count": 71,
   "metadata": {},
   "outputs": [
    {
     "ename": "NotImplementedError",
     "evalue": "",
     "output_type": "error",
     "traceback": [
      "\u001b[0;31m---------------------------------------------------------------------------\u001b[0m",
      "\u001b[0;31mNotImplementedError\u001b[0m                       Traceback (most recent call last)",
      "\u001b[0;32m<ipython-input-71-282fd5ae5321>\u001b[0m in \u001b[0;36m<module>\u001b[0;34m\u001b[0m\n\u001b[0;32m----> 1\u001b[0;31m \u001b[0mg\u001b[0m\u001b[0;34m[\u001b[0m\u001b[0;34m'c'\u001b[0m\u001b[0;34m]\u001b[0m \u001b[0;34m=\u001b[0m \u001b[0mnp\u001b[0m\u001b[0;34m.\u001b[0m\u001b[0msqrt\u001b[0m\u001b[0;34m(\u001b[0m\u001b[0mg\u001b[0m\u001b[0;34m[\u001b[0m\u001b[0;34m'x'\u001b[0m\u001b[0;34m]\u001b[0m\u001b[0;34m)\u001b[0m \u001b[0;34m*\u001b[0m \u001b[0mnp\u001b[0m\u001b[0;34m.\u001b[0m\u001b[0msqrt\u001b[0m\u001b[0;34m(\u001b[0m\u001b[0mg\u001b[0m\u001b[0;34m[\u001b[0m\u001b[0;34m'y'\u001b[0m\u001b[0;34m]\u001b[0m\u001b[0;34m)\u001b[0m\u001b[0;34m\u001b[0m\u001b[0;34m\u001b[0m\u001b[0m\n\u001b[0m",
      "\u001b[0;32m~/pynocular/pynocular/griddata.py\u001b[0m in \u001b[0;36m__getitem__\u001b[0;34m(self, item)\u001b[0m\n\u001b[1;32m     68\u001b[0m                     \u001b[0mdata\u001b[0m \u001b[0;34m=\u001b[0m \u001b[0mself\u001b[0m\u001b[0;34m.\u001b[0m\u001b[0mdata\u001b[0m\u001b[0;34m[\u001b[0m\u001b[0mitem\u001b[0m\u001b[0;34m]\u001b[0m\u001b[0;34m\u001b[0m\u001b[0;34m\u001b[0m\u001b[0m\n\u001b[1;32m     69\u001b[0m                 \u001b[0;32melse\u001b[0m\u001b[0;34m:\u001b[0m\u001b[0;34m\u001b[0m\u001b[0;34m\u001b[0m\u001b[0m\n\u001b[0;32m---> 70\u001b[0;31m                     \u001b[0;32mraise\u001b[0m \u001b[0mNotImplementedError\u001b[0m\u001b[0;34m(\u001b[0m\u001b[0;34m)\u001b[0m\u001b[0;34m\u001b[0m\u001b[0;34m\u001b[0m\u001b[0m\n\u001b[0m\u001b[1;32m     71\u001b[0m                 \u001b[0mnew_data\u001b[0m \u001b[0;34m=\u001b[0m \u001b[0mpn\u001b[0m\u001b[0;34m.\u001b[0m\u001b[0mGridArray\u001b[0m\u001b[0;34m(\u001b[0m\u001b[0mdata\u001b[0m\u001b[0;34m,\u001b[0m \u001b[0mgrid\u001b[0m\u001b[0;34m=\u001b[0m\u001b[0mself\u001b[0m\u001b[0;34m.\u001b[0m\u001b[0mgrid\u001b[0m\u001b[0;34m)\u001b[0m\u001b[0;34m\u001b[0m\u001b[0;34m\u001b[0m\u001b[0m\n\u001b[1;32m     72\u001b[0m                 \u001b[0;32mreturn\u001b[0m \u001b[0mnew_data\u001b[0m\u001b[0;34m\u001b[0m\u001b[0;34m\u001b[0m\u001b[0m\n",
      "\u001b[0;31mNotImplementedError\u001b[0m: "
     ]
    }
   ],
   "source": [
    "g['c'] = np.sqrt(g['x']) * np.sqrt(g['y'])"
   ]
  },
  {
   "cell_type": "code",
   "execution_count": 72,
   "metadata": {},
   "outputs": [
    {
     "ename": "KeyError",
     "evalue": "'c'",
     "output_type": "error",
     "traceback": [
      "\u001b[0;31m---------------------------------------------------------------------------\u001b[0m",
      "\u001b[0;31mKeyError\u001b[0m                                  Traceback (most recent call last)",
      "\u001b[0;32m<ipython-input-72-558095549382>\u001b[0m in \u001b[0;36m<module>\u001b[0;34m\u001b[0m\n\u001b[0;32m----> 1\u001b[0;31m \u001b[0mg\u001b[0m\u001b[0;34m.\u001b[0m\u001b[0mplot\u001b[0m\u001b[0;34m(\u001b[0m\u001b[0;34m'c'\u001b[0m\u001b[0;34m,\u001b[0m \u001b[0mcbar\u001b[0m\u001b[0;34m=\u001b[0m\u001b[0;32mTrue\u001b[0m\u001b[0;34m)\u001b[0m\u001b[0;34m\u001b[0m\u001b[0;34m\u001b[0m\u001b[0m\n\u001b[0m",
      "\u001b[0;32m~/pynocular/pynocular/griddata.py\u001b[0m in \u001b[0;36mplot\u001b[0;34m(self, var, **kwargs)\u001b[0m\n\u001b[1;32m    251\u001b[0m             \u001b[0;32mreturn\u001b[0m \u001b[0mself\u001b[0m\u001b[0;34m.\u001b[0m\u001b[0mplot_step\u001b[0m\u001b[0;34m(\u001b[0m\u001b[0mvar\u001b[0m\u001b[0;34m,\u001b[0m \u001b[0;34m**\u001b[0m\u001b[0mkwargs\u001b[0m\u001b[0;34m)\u001b[0m\u001b[0;34m\u001b[0m\u001b[0;34m\u001b[0m\u001b[0m\n\u001b[1;32m    252\u001b[0m         \u001b[0;32melif\u001b[0m \u001b[0mself\u001b[0m\u001b[0;34m.\u001b[0m\u001b[0mndim\u001b[0m \u001b[0;34m==\u001b[0m \u001b[0;36m2\u001b[0m\u001b[0;34m:\u001b[0m\u001b[0;34m\u001b[0m\u001b[0;34m\u001b[0m\u001b[0m\n\u001b[0;32m--> 253\u001b[0;31m             \u001b[0;32mreturn\u001b[0m \u001b[0mself\u001b[0m\u001b[0;34m.\u001b[0m\u001b[0mplot_map\u001b[0m\u001b[0;34m(\u001b[0m\u001b[0mvar\u001b[0m\u001b[0;34m,\u001b[0m \u001b[0;34m**\u001b[0m\u001b[0mkwargs\u001b[0m\u001b[0;34m)\u001b[0m\u001b[0;34m\u001b[0m\u001b[0;34m\u001b[0m\u001b[0m\n\u001b[0m\u001b[1;32m    254\u001b[0m \u001b[0;34m\u001b[0m\u001b[0m\n\u001b[1;32m    255\u001b[0m     \u001b[0;32mdef\u001b[0m \u001b[0mplot_map\u001b[0m\u001b[0;34m(\u001b[0m\u001b[0mself\u001b[0m\u001b[0;34m,\u001b[0m \u001b[0mvar\u001b[0m\u001b[0;34m=\u001b[0m\u001b[0;32mNone\u001b[0m\u001b[0;34m,\u001b[0m \u001b[0mcbar\u001b[0m\u001b[0;34m=\u001b[0m\u001b[0;32mFalse\u001b[0m\u001b[0;34m,\u001b[0m \u001b[0mfig\u001b[0m\u001b[0;34m=\u001b[0m\u001b[0;32mNone\u001b[0m\u001b[0;34m,\u001b[0m \u001b[0max\u001b[0m\u001b[0;34m=\u001b[0m\u001b[0;32mNone\u001b[0m\u001b[0;34m,\u001b[0m \u001b[0;34m**\u001b[0m\u001b[0mkwargs\u001b[0m\u001b[0;34m)\u001b[0m\u001b[0;34m:\u001b[0m\u001b[0;34m\u001b[0m\u001b[0;34m\u001b[0m\u001b[0m\n",
      "\u001b[0;32m~/pynocular/pynocular/griddata.py\u001b[0m in \u001b[0;36mplot_map\u001b[0;34m(self, var, cbar, fig, ax, **kwargs)\u001b[0m\n\u001b[1;32m    263\u001b[0m             \u001b[0mvar\u001b[0m \u001b[0;34m=\u001b[0m \u001b[0mself\u001b[0m\u001b[0;34m.\u001b[0m\u001b[0mdata_vars\u001b[0m\u001b[0;34m[\u001b[0m\u001b[0;36m0\u001b[0m\u001b[0;34m]\u001b[0m\u001b[0;34m\u001b[0m\u001b[0;34m\u001b[0m\u001b[0m\n\u001b[1;32m    264\u001b[0m         \u001b[0;32mif\u001b[0m \u001b[0mself\u001b[0m\u001b[0;34m.\u001b[0m\u001b[0mgrid\u001b[0m\u001b[0;34m.\u001b[0m\u001b[0mnaxes\u001b[0m \u001b[0;34m==\u001b[0m \u001b[0;36m2\u001b[0m\u001b[0;34m:\u001b[0m\u001b[0;34m\u001b[0m\u001b[0;34m\u001b[0m\u001b[0m\n\u001b[0;32m--> 265\u001b[0;31m             \u001b[0;32mreturn\u001b[0m \u001b[0mpn\u001b[0m\u001b[0;34m.\u001b[0m\u001b[0mplotting\u001b[0m\u001b[0;34m.\u001b[0m\u001b[0mplot_map\u001b[0m\u001b[0;34m(\u001b[0m\u001b[0mself\u001b[0m\u001b[0;34m,\u001b[0m \u001b[0mvar\u001b[0m\u001b[0;34m,\u001b[0m \u001b[0mcbar\u001b[0m\u001b[0;34m=\u001b[0m\u001b[0mcbar\u001b[0m\u001b[0;34m,\u001b[0m \u001b[0mfig\u001b[0m\u001b[0;34m=\u001b[0m\u001b[0mfig\u001b[0m\u001b[0;34m,\u001b[0m \u001b[0max\u001b[0m\u001b[0;34m=\u001b[0m\u001b[0max\u001b[0m\u001b[0;34m,\u001b[0m \u001b[0;34m**\u001b[0m\u001b[0mkwargs\u001b[0m\u001b[0;34m)\u001b[0m\u001b[0;34m\u001b[0m\u001b[0;34m\u001b[0m\u001b[0m\n\u001b[0m\u001b[1;32m    266\u001b[0m \u001b[0;34m\u001b[0m\u001b[0m\n\u001b[1;32m    267\u001b[0m         \u001b[0;32mraise\u001b[0m \u001b[0mValueError\u001b[0m\u001b[0;34m(\u001b[0m\u001b[0;34m'Can only plot maps of 2d grids'\u001b[0m\u001b[0;34m)\u001b[0m\u001b[0;34m\u001b[0m\u001b[0;34m\u001b[0m\u001b[0m\n",
      "\u001b[0;32m~/pynocular/pynocular/plotting/stat_plot.py\u001b[0m in \u001b[0;36mplot_map\u001b[0;34m(source, var, cbar, fig, ax, **kwargs)\u001b[0m\n\u001b[1;32m     32\u001b[0m     \u001b[0;32massert\u001b[0m \u001b[0msource\u001b[0m\u001b[0;34m.\u001b[0m\u001b[0mgrid\u001b[0m\u001b[0;34m.\u001b[0m\u001b[0mnaxes\u001b[0m \u001b[0;34m==\u001b[0m \u001b[0;36m2\u001b[0m\u001b[0;34m\u001b[0m\u001b[0;34m\u001b[0m\u001b[0m\n\u001b[1;32m     33\u001b[0m \u001b[0;34m\u001b[0m\u001b[0m\n\u001b[0;32m---> 34\u001b[0;31m     \u001b[0mdata\u001b[0m \u001b[0;34m=\u001b[0m \u001b[0msource\u001b[0m\u001b[0;34m.\u001b[0m\u001b[0mget_array\u001b[0m\u001b[0;34m(\u001b[0m\u001b[0mvar\u001b[0m\u001b[0;34m)\u001b[0m\u001b[0;34m\u001b[0m\u001b[0;34m\u001b[0m\u001b[0m\n\u001b[0m\u001b[1;32m     35\u001b[0m \u001b[0;34m\u001b[0m\u001b[0m\n\u001b[1;32m     36\u001b[0m     \u001b[0;32mif\u001b[0m \u001b[0mdata\u001b[0m\u001b[0;34m.\u001b[0m\u001b[0mndim\u001b[0m \u001b[0;34m==\u001b[0m \u001b[0msource\u001b[0m\u001b[0;34m.\u001b[0m\u001b[0mgrid\u001b[0m\u001b[0;34m.\u001b[0m\u001b[0mnaxes\u001b[0m \u001b[0;34m+\u001b[0m \u001b[0;36m1\u001b[0m \u001b[0;32mand\u001b[0m \u001b[0mdata\u001b[0m\u001b[0;34m.\u001b[0m\u001b[0mshape\u001b[0m\u001b[0;34m[\u001b[0m\u001b[0;34m-\u001b[0m\u001b[0;36m1\u001b[0m\u001b[0;34m]\u001b[0m \u001b[0;34m==\u001b[0m \u001b[0;36m3\u001b[0m\u001b[0;34m:\u001b[0m\u001b[0;34m\u001b[0m\u001b[0;34m\u001b[0m\u001b[0m\n",
      "\u001b[0;32m~/pynocular/pynocular/griddata.py\u001b[0m in \u001b[0;36mget_array\u001b[0;34m(self, var, flat)\u001b[0m\n\u001b[1;32m    217\u001b[0m             \u001b[0marray\u001b[0m \u001b[0;34m=\u001b[0m \u001b[0mself\u001b[0m\u001b[0;34m.\u001b[0m\u001b[0mgrid\u001b[0m\u001b[0;34m.\u001b[0m\u001b[0mpoint_mgrid\u001b[0m\u001b[0;34m[\u001b[0m\u001b[0mself\u001b[0m\u001b[0;34m.\u001b[0m\u001b[0mgrid\u001b[0m\u001b[0;34m.\u001b[0m\u001b[0mvars\u001b[0m\u001b[0;34m.\u001b[0m\u001b[0mindex\u001b[0m\u001b[0;34m(\u001b[0m\u001b[0mvar\u001b[0m\u001b[0;34m)\u001b[0m\u001b[0;34m]\u001b[0m\u001b[0;34m\u001b[0m\u001b[0;34m\u001b[0m\u001b[0m\n\u001b[1;32m    218\u001b[0m         \u001b[0;32melse\u001b[0m\u001b[0;34m:\u001b[0m\u001b[0;34m\u001b[0m\u001b[0;34m\u001b[0m\u001b[0m\n\u001b[0;32m--> 219\u001b[0;31m             \u001b[0marray\u001b[0m \u001b[0;34m=\u001b[0m \u001b[0mself\u001b[0m\u001b[0;34m.\u001b[0m\u001b[0mdata\u001b[0m\u001b[0;34m[\u001b[0m\u001b[0mvar\u001b[0m\u001b[0;34m]\u001b[0m\u001b[0;34m\u001b[0m\u001b[0;34m\u001b[0m\u001b[0m\n\u001b[0m\u001b[1;32m    220\u001b[0m         \u001b[0;32mif\u001b[0m \u001b[0mflat\u001b[0m\u001b[0;34m:\u001b[0m\u001b[0;34m\u001b[0m\u001b[0;34m\u001b[0m\u001b[0m\n\u001b[1;32m    221\u001b[0m             \u001b[0;32mif\u001b[0m \u001b[0marray\u001b[0m\u001b[0;34m.\u001b[0m\u001b[0mndim\u001b[0m \u001b[0;34m==\u001b[0m \u001b[0mself\u001b[0m\u001b[0;34m.\u001b[0m\u001b[0mgrid\u001b[0m\u001b[0;34m.\u001b[0m\u001b[0mnaxes\u001b[0m\u001b[0;34m:\u001b[0m\u001b[0;34m\u001b[0m\u001b[0;34m\u001b[0m\u001b[0m\n",
      "\u001b[0;31mKeyError\u001b[0m: 'c'"
     ]
    },
    {
     "data": {
      "image/png": "[encoded data removed]",
      "text/plain": [
       "<Figure size 432x288 with 1 Axes>"
      ]
     },
     "metadata": {
      "needs_background": "light"
     },
     "output_type": "display_data"
    }
   ],
   "source": [
    "g.plot('c', cbar=True)"
   ]
  },
  {
   "cell_type": "code",
   "execution_count": null,
   "metadata": {},
   "outputs": [],
   "source": [
    "g['m'] = np.arange(g.grid.size * 3).reshape(g.shape + (-1,))"
   ]
  },
  {
   "cell_type": "code",
   "execution_count": 73,
   "metadata": {},
   "outputs": [
    {
     "ename": "KeyError",
     "evalue": "'m'",
     "output_type": "error",
     "traceback": [
      "\u001b[0;31m---------------------------------------------------------------------------\u001b[0m",
      "\u001b[0;31mKeyError\u001b[0m                                  Traceback (most recent call last)",
      "\u001b[0;32m<ipython-input-73-066cb43afdab>\u001b[0m in \u001b[0;36m<module>\u001b[0;34m\u001b[0m\n\u001b[0;32m----> 1\u001b[0;31m \u001b[0mg\u001b[0m\u001b[0;34m.\u001b[0m\u001b[0mplot\u001b[0m\u001b[0;34m(\u001b[0m\u001b[0;34m'm'\u001b[0m\u001b[0;34m)\u001b[0m \u001b[0;31m#it's interpreted as an RGB image, since the excess dimension is 3\u001b[0m\u001b[0;34m\u001b[0m\u001b[0;34m\u001b[0m\u001b[0m\n\u001b[0m",
      "\u001b[0;32m~/pynocular/pynocular/griddata.py\u001b[0m in \u001b[0;36mplot\u001b[0;34m(self, var, **kwargs)\u001b[0m\n\u001b[1;32m    251\u001b[0m             \u001b[0;32mreturn\u001b[0m \u001b[0mself\u001b[0m\u001b[0;34m.\u001b[0m\u001b[0mplot_step\u001b[0m\u001b[0;34m(\u001b[0m\u001b[0mvar\u001b[0m\u001b[0;34m,\u001b[0m \u001b[0;34m**\u001b[0m\u001b[0mkwargs\u001b[0m\u001b[0;34m)\u001b[0m\u001b[0;34m\u001b[0m\u001b[0;34m\u001b[0m\u001b[0m\n\u001b[1;32m    252\u001b[0m         \u001b[0;32melif\u001b[0m \u001b[0mself\u001b[0m\u001b[0;34m.\u001b[0m\u001b[0mndim\u001b[0m \u001b[0;34m==\u001b[0m \u001b[0;36m2\u001b[0m\u001b[0;34m:\u001b[0m\u001b[0;34m\u001b[0m\u001b[0;34m\u001b[0m\u001b[0m\n\u001b[0;32m--> 253\u001b[0;31m             \u001b[0;32mreturn\u001b[0m \u001b[0mself\u001b[0m\u001b[0;34m.\u001b[0m\u001b[0mplot_map\u001b[0m\u001b[0;34m(\u001b[0m\u001b[0mvar\u001b[0m\u001b[0;34m,\u001b[0m \u001b[0;34m**\u001b[0m\u001b[0mkwargs\u001b[0m\u001b[0;34m)\u001b[0m\u001b[0;34m\u001b[0m\u001b[0;34m\u001b[0m\u001b[0m\n\u001b[0m\u001b[1;32m    254\u001b[0m \u001b[0;34m\u001b[0m\u001b[0m\n\u001b[1;32m    255\u001b[0m     \u001b[0;32mdef\u001b[0m \u001b[0mplot_map\u001b[0m\u001b[0;34m(\u001b[0m\u001b[0mself\u001b[0m\u001b[0;34m,\u001b[0m \u001b[0mvar\u001b[0m\u001b[0;34m=\u001b[0m\u001b[0;32mNone\u001b[0m\u001b[0;34m,\u001b[0m \u001b[0mcbar\u001b[0m\u001b[0;34m=\u001b[0m\u001b[0;32mFalse\u001b[0m\u001b[0;34m,\u001b[0m \u001b[0mfig\u001b[0m\u001b[0;34m=\u001b[0m\u001b[0;32mNone\u001b[0m\u001b[0;34m,\u001b[0m \u001b[0max\u001b[0m\u001b[0;34m=\u001b[0m\u001b[0;32mNone\u001b[0m\u001b[0;34m,\u001b[0m \u001b[0;34m**\u001b[0m\u001b[0mkwargs\u001b[0m\u001b[0;34m)\u001b[0m\u001b[0;34m:\u001b[0m\u001b[0;34m\u001b[0m\u001b[0;34m\u001b[0m\u001b[0m\n",
      "\u001b[0;32m~/pynocular/pynocular/griddata.py\u001b[0m in \u001b[0;36mplot_map\u001b[0;34m(self, var, cbar, fig, ax, **kwargs)\u001b[0m\n\u001b[1;32m    263\u001b[0m             \u001b[0mvar\u001b[0m \u001b[0;34m=\u001b[0m \u001b[0mself\u001b[0m\u001b[0;34m.\u001b[0m\u001b[0mdata_vars\u001b[0m\u001b[0;34m[\u001b[0m\u001b[0;36m0\u001b[0m\u001b[0;34m]\u001b[0m\u001b[0;34m\u001b[0m\u001b[0;34m\u001b[0m\u001b[0m\n\u001b[1;32m    264\u001b[0m         \u001b[0;32mif\u001b[0m \u001b[0mself\u001b[0m\u001b[0;34m.\u001b[0m\u001b[0mgrid\u001b[0m\u001b[0;34m.\u001b[0m\u001b[0mnaxes\u001b[0m \u001b[0;34m==\u001b[0m \u001b[0;36m2\u001b[0m\u001b[0;34m:\u001b[0m\u001b[0;34m\u001b[0m\u001b[0;34m\u001b[0m\u001b[0m\n\u001b[0;32m--> 265\u001b[0;31m             \u001b[0;32mreturn\u001b[0m \u001b[0mpn\u001b[0m\u001b[0;34m.\u001b[0m\u001b[0mplotting\u001b[0m\u001b[0;34m.\u001b[0m\u001b[0mplot_map\u001b[0m\u001b[0;34m(\u001b[0m\u001b[0mself\u001b[0m\u001b[0;34m,\u001b[0m \u001b[0mvar\u001b[0m\u001b[0;34m,\u001b[0m \u001b[0mcbar\u001b[0m\u001b[0;34m=\u001b[0m\u001b[0mcbar\u001b[0m\u001b[0;34m,\u001b[0m \u001b[0mfig\u001b[0m\u001b[0;34m=\u001b[0m\u001b[0mfig\u001b[0m\u001b[0;34m,\u001b[0m \u001b[0max\u001b[0m\u001b[0;34m=\u001b[0m\u001b[0max\u001b[0m\u001b[0;34m,\u001b[0m \u001b[0;34m**\u001b[0m\u001b[0mkwargs\u001b[0m\u001b[0;34m)\u001b[0m\u001b[0;34m\u001b[0m\u001b[0;34m\u001b[0m\u001b[0m\n\u001b[0m\u001b[1;32m    266\u001b[0m \u001b[0;34m\u001b[0m\u001b[0m\n\u001b[1;32m    267\u001b[0m         \u001b[0;32mraise\u001b[0m \u001b[0mValueError\u001b[0m\u001b[0;34m(\u001b[0m\u001b[0;34m'Can only plot maps of 2d grids'\u001b[0m\u001b[0;34m)\u001b[0m\u001b[0;34m\u001b[0m\u001b[0;34m\u001b[0m\u001b[0m\n",
      "\u001b[0;32m~/pynocular/pynocular/plotting/stat_plot.py\u001b[0m in \u001b[0;36mplot_map\u001b[0;34m(source, var, cbar, fig, ax, **kwargs)\u001b[0m\n\u001b[1;32m     32\u001b[0m     \u001b[0;32massert\u001b[0m \u001b[0msource\u001b[0m\u001b[0;34m.\u001b[0m\u001b[0mgrid\u001b[0m\u001b[0;34m.\u001b[0m\u001b[0mnaxes\u001b[0m \u001b[0;34m==\u001b[0m \u001b[0;36m2\u001b[0m\u001b[0;34m\u001b[0m\u001b[0;34m\u001b[0m\u001b[0m\n\u001b[1;32m     33\u001b[0m \u001b[0;34m\u001b[0m\u001b[0m\n\u001b[0;32m---> 34\u001b[0;31m     \u001b[0mdata\u001b[0m \u001b[0;34m=\u001b[0m \u001b[0msource\u001b[0m\u001b[0;34m.\u001b[0m\u001b[0mget_array\u001b[0m\u001b[0;34m(\u001b[0m\u001b[0mvar\u001b[0m\u001b[0;34m)\u001b[0m\u001b[0;34m\u001b[0m\u001b[0;34m\u001b[0m\u001b[0m\n\u001b[0m\u001b[1;32m     35\u001b[0m \u001b[0;34m\u001b[0m\u001b[0m\n\u001b[1;32m     36\u001b[0m     \u001b[0;32mif\u001b[0m \u001b[0mdata\u001b[0m\u001b[0;34m.\u001b[0m\u001b[0mndim\u001b[0m \u001b[0;34m==\u001b[0m \u001b[0msource\u001b[0m\u001b[0;34m.\u001b[0m\u001b[0mgrid\u001b[0m\u001b[0;34m.\u001b[0m\u001b[0mnaxes\u001b[0m \u001b[0;34m+\u001b[0m \u001b[0;36m1\u001b[0m \u001b[0;32mand\u001b[0m \u001b[0mdata\u001b[0m\u001b[0;34m.\u001b[0m\u001b[0mshape\u001b[0m\u001b[0;34m[\u001b[0m\u001b[0;34m-\u001b[0m\u001b[0;36m1\u001b[0m\u001b[0;34m]\u001b[0m \u001b[0;34m==\u001b[0m \u001b[0;36m3\u001b[0m\u001b[0;34m:\u001b[0m\u001b[0;34m\u001b[0m\u001b[0;34m\u001b[0m\u001b[0m\n",
      "\u001b[0;32m~/pynocular/pynocular/griddata.py\u001b[0m in \u001b[0;36mget_array\u001b[0;34m(self, var, flat)\u001b[0m\n\u001b[1;32m    217\u001b[0m             \u001b[0marray\u001b[0m \u001b[0;34m=\u001b[0m \u001b[0mself\u001b[0m\u001b[0;34m.\u001b[0m\u001b[0mgrid\u001b[0m\u001b[0;34m.\u001b[0m\u001b[0mpoint_mgrid\u001b[0m\u001b[0;34m[\u001b[0m\u001b[0mself\u001b[0m\u001b[0;34m.\u001b[0m\u001b[0mgrid\u001b[0m\u001b[0;34m.\u001b[0m\u001b[0mvars\u001b[0m\u001b[0;34m.\u001b[0m\u001b[0mindex\u001b[0m\u001b[0;34m(\u001b[0m\u001b[0mvar\u001b[0m\u001b[0;34m)\u001b[0m\u001b[0;34m]\u001b[0m\u001b[0;34m\u001b[0m\u001b[0;34m\u001b[0m\u001b[0m\n\u001b[1;32m    218\u001b[0m         \u001b[0;32melse\u001b[0m\u001b[0;34m:\u001b[0m\u001b[0;34m\u001b[0m\u001b[0;34m\u001b[0m\u001b[0m\n\u001b[0;32m--> 219\u001b[0;31m             \u001b[0marray\u001b[0m \u001b[0;34m=\u001b[0m \u001b[0mself\u001b[0m\u001b[0;34m.\u001b[0m\u001b[0mdata\u001b[0m\u001b[0;34m[\u001b[0m\u001b[0mvar\u001b[0m\u001b[0;34m]\u001b[0m\u001b[0;34m\u001b[0m\u001b[0;34m\u001b[0m\u001b[0m\n\u001b[0m\u001b[1;32m    220\u001b[0m         \u001b[0;32mif\u001b[0m \u001b[0mflat\u001b[0m\u001b[0;34m:\u001b[0m\u001b[0;34m\u001b[0m\u001b[0;34m\u001b[0m\u001b[0m\n\u001b[1;32m    221\u001b[0m             \u001b[0;32mif\u001b[0m \u001b[0marray\u001b[0m\u001b[0;34m.\u001b[0m\u001b[0mndim\u001b[0m \u001b[0;34m==\u001b[0m \u001b[0mself\u001b[0m\u001b[0;34m.\u001b[0m\u001b[0mgrid\u001b[0m\u001b[0;34m.\u001b[0m\u001b[0mnaxes\u001b[0m\u001b[0;34m:\u001b[0m\u001b[0;34m\u001b[0m\u001b[0;34m\u001b[0m\u001b[0m\n",
      "\u001b[0;31mKeyError\u001b[0m: 'm'"
     ]
    },
    {
     "data": {
      "image/png": "[encoded data removed]",
      "text/plain": [
       "<Figure size 432x288 with 1 Axes>"
      ]
     },
     "metadata": {
      "needs_background": "light"
     },
     "output_type": "display_data"
    }
   ],
   "source": [
    "g.plot('m') #it's interpreted as an RGB image, since the excess dimension is 3"
   ]
  },
  {
   "cell_type": "code",
   "execution_count": null,
   "metadata": {},
   "outputs": [],
   "source": [
    "g['m'][:,:,0]"
   ]
  },
  {
   "cell_type": "code",
   "execution_count": null,
   "metadata": {},
   "outputs": [],
   "source": [
    "g[:,3]"
   ]
  },
  {
   "cell_type": "code",
   "execution_count": null,
   "metadata": {},
   "outputs": [],
   "source": [
    "g['m']"
   ]
  },
  {
   "cell_type": "code",
   "execution_count": null,
   "metadata": {},
   "outputs": [],
   "source": [
    "g.T[:,3:5]['m']"
   ]
  },
  {
   "cell_type": "code",
   "execution_count": null,
   "metadata": {},
   "outputs": [],
   "source": [
    "np.sum(g)"
   ]
  },
  {
   "cell_type": "code",
   "execution_count": null,
   "metadata": {},
   "outputs": [],
   "source": [
    "np.sum(g, axis=(0))"
   ]
  },
  {
   "cell_type": "markdown",
   "metadata": {},
   "source": [
    "# Stuff to fix"
   ]
  },
  {
   "cell_type": "code",
   "execution_count": null,
   "metadata": {},
   "outputs": [],
   "source": [
    "np.sum(g['m'], axis=(0,1))"
   ]
  },
  {
   "cell_type": "code",
   "execution_count": null,
   "metadata": {},
   "outputs": [],
   "source": [
    "# because of this\n",
    "np.sum(g['m'], axis=-1).grid"
   ]
  },
  {
   "cell_type": "code",
   "execution_count": null,
   "metadata": {},
   "outputs": [],
   "source": [
    "np.sum(g['m'], axis=-1)"
   ]
  },
  {
   "cell_type": "code",
   "execution_count": null,
   "metadata": {},
   "outputs": [],
   "source": []
  },
  {
   "cell_type": "code",
   "execution_count": null,
   "metadata": {},
   "outputs": [],
   "source": [
    "1 - 3 * g['a']"
   ]
  },
  {
   "cell_type": "code",
   "execution_count": null,
   "metadata": {},
   "outputs": [],
   "source": [
    "2 ** g['a']"
   ]
  },
  {
   "cell_type": "code",
   "execution_count": null,
   "metadata": {},
   "outputs": [],
   "source": [
    "g['a']"
   ]
  },
  {
   "cell_type": "code",
   "execution_count": null,
   "metadata": {},
   "outputs": [],
   "source": []
  },
  {
   "cell_type": "code",
   "execution_count": null,
   "metadata": {},
   "outputs": [],
   "source": [
    "g['a']"
   ]
  },
  {
   "cell_type": "code",
   "execution_count": null,
   "metadata": {},
   "outputs": [],
   "source": [
    "a = g['a']"
   ]
  },
  {
   "cell_type": "code",
   "execution_count": null,
   "metadata": {},
   "outputs": [],
   "source": [
    "a.T"
   ]
  },
  {
   "cell_type": "code",
   "execution_count": null,
   "metadata": {},
   "outputs": [],
   "source": [
    "np.mean(a, axis='x')"
   ]
  },
  {
   "cell_type": "code",
   "execution_count": null,
   "metadata": {},
   "outputs": [],
   "source": [
    "a"
   ]
  },
  {
   "cell_type": "code",
   "execution_count": null,
   "metadata": {},
   "outputs": [],
   "source": [
    "from scipy import ndimage"
   ]
  },
  {
   "cell_type": "code",
   "execution_count": null,
   "metadata": {},
   "outputs": [],
   "source": [
    "ndimage.gaussian_filter(a, sigma=1)"
   ]
  },
  {
   "cell_type": "code",
   "execution_count": null,
   "metadata": {},
   "outputs": [],
   "source": [
    "np.median(a)"
   ]
  },
  {
   "cell_type": "code",
   "execution_count": null,
   "metadata": {},
   "outputs": [],
   "source": [
    "np.cumsum(a)"
   ]
  },
  {
   "cell_type": "code",
   "execution_count": null,
   "metadata": {},
   "outputs": [],
   "source": [
    "a.dtype"
   ]
  },
  {
   "cell_type": "code",
   "execution_count": null,
   "metadata": {},
   "outputs": [],
   "source": [
    "np.sin(a)"
   ]
  },
  {
   "cell_type": "code",
   "execution_count": null,
   "metadata": {},
   "outputs": [],
   "source": [
    "np.dot(a,a.T)"
   ]
  },
  {
   "cell_type": "code",
   "execution_count": null,
   "metadata": {},
   "outputs": [],
   "source": [
    "b = a.values"
   ]
  },
  {
   "cell_type": "code",
   "execution_count": null,
   "metadata": {},
   "outputs": [],
   "source": [
    "np.dot(b,b.T)"
   ]
  },
  {
   "cell_type": "code",
   "execution_count": 19,
   "metadata": {},
   "outputs": [],
   "source": [
    "l = range(3)"
   ]
  },
  {
   "cell_type": "code",
   "execution_count": 20,
   "metadata": {},
   "outputs": [
    {
     "ename": "AttributeError",
     "evalue": "'range' object has no attribute 'next'",
     "output_type": "error",
     "traceback": [
      "\u001b[0;31m---------------------------------------------------------------------------\u001b[0m",
      "\u001b[0;31mAttributeError\u001b[0m                            Traceback (most recent call last)",
      "\u001b[0;32m<ipython-input-20-25aaa3b3a26b>\u001b[0m in \u001b[0;36m<module>\u001b[0;34m\u001b[0m\n\u001b[0;32m----> 1\u001b[0;31m \u001b[0ml\u001b[0m\u001b[0;34m.\u001b[0m\u001b[0mnext\u001b[0m\u001b[0;34m(\u001b[0m\u001b[0;34m)\u001b[0m\u001b[0;34m\u001b[0m\u001b[0;34m\u001b[0m\u001b[0m\n\u001b[0m",
      "\u001b[0;31mAttributeError\u001b[0m: 'range' object has no attribute 'next'"
     ]
    }
   ],
   "source": [
    "l.next()"
   ]
  },
  {
   "cell_type": "code",
   "execution_count": 128,
   "metadata": {},
   "outputs": [],
   "source": [
    "from collections import OrderedDict"
   ]
  },
  {
   "cell_type": "code",
   "execution_count": 131,
   "metadata": {},
   "outputs": [],
   "source": [
    "o = OrderedDict(a=12, b=23)"
   ]
  },
  {
   "cell_type": "code",
   "execution_count": 134,
   "metadata": {},
   "outputs": [
    {
     "data": {
      "text/plain": [
       "2"
      ]
     },
     "execution_count": 134,
     "metadata": {},
     "output_type": "execute_result"
    }
   ],
   "source": [
    "len(o)"
   ]
  },
  {
   "cell_type": "code",
   "execution_count": 140,
   "metadata": {},
   "outputs": [
    {
     "name": "stdout",
     "output_type": "stream",
     "text": [
      "12\n",
      "23\n"
     ]
    }
   ],
   "source": [
    "for i in o.values():\n",
    "    print(i)"
   ]
  },
  {
   "cell_type": "code",
   "execution_count": 141,
   "metadata": {},
   "outputs": [
    {
     "data": {
      "text/plain": [
       "odict_keys(['a', 'b'])"
      ]
     },
     "execution_count": 141,
     "metadata": {},
     "output_type": "execute_result"
    }
   ],
   "source": [
    "o.keys()"
   ]
  },
  {
   "cell_type": "code",
   "execution_count": 145,
   "metadata": {},
   "outputs": [
    {
     "data": {
      "text/plain": [
       "<function OrderedDict.get(key, default=None, /)>"
      ]
     },
     "execution_count": 145,
     "metadata": {},
     "output_type": "execute_result"
    }
   ],
   "source": [
    "o.get()"
   ]
  },
  {
   "cell_type": "code",
   "execution_count": 144,
   "metadata": {},
   "outputs": [
    {
     "data": {
      "text/plain": [
       "OrderedDict()"
      ]
     },
     "execution_count": 144,
     "metadata": {},
     "output_type": "execute_result"
    }
   ],
   "source": [
    "o."
   ]
  },
  {
   "cell_type": "code",
   "execution_count": null,
   "metadata": {},
   "outputs": [],
   "source": []
  }
 ],
 "metadata": {
  "kernelspec": {
   "display_name": "Python 3",
   "language": "python",
   "name": "python3"
  },
  "language_info": {
   "codemirror_mode": {
    "name": "ipython",
    "version": 3
   },
   "file_extension": ".py",
   "mimetype": "text/x-python",
   "name": "python",
   "nbconvert_exporter": "python",
   "pygments_lexer": "ipython3",
   "version": "3.7.3"
  }
 },
 "nbformat": 4,
 "nbformat_minor": 4
}
