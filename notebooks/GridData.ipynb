{
 "cells": [
  {
   "cell_type": "code",
   "execution_count": 102,
   "metadata": {},
   "outputs": [],
   "source": [
    "%reload_ext autoreload\n",
    "%autoreload 2\n",
    "import numpy as np\n",
    "import pynocular as pn\n",
    "from matplotlib import pyplot as plt"
   ]
  },
  {
   "cell_type": "code",
   "execution_count": 103,
   "metadata": {},
   "outputs": [],
   "source": [
    "g = pn.GridData(x=np.arange(21), y=np.arange(6))"
   ]
  },
  {
   "cell_type": "code",
   "execution_count": 104,
   "metadata": {},
   "outputs": [
    {
     "data": {
      "text/html": [
       "<table>\n",
       "<tbody>\n",
       "<tr><td><b>y \\ x</b>  </td><td><b>[0. 1.]</b></td><td><b>[1. 2.]</b></td><td><b>[2. 3.]</b></td><td><b>[3. 4.]</b></td><td><b>[4. 5.]</b></td><td><b>[5. 6.]</b></td><td>...</td><td><b>[14. 15.]</b></td><td><b>[15. 16.]</b></td><td><b>[16. 17.]</b></td><td><b>[17. 18.]</b></td><td><b>[18. 19.]</b></td><td><b>[19. 20.]</b></td></tr>\n",
       "<tr><td><b>[0. 1.]</b></td><td>              </td><td>              </td><td>              </td><td>              </td><td>              </td><td>              </td><td>...</td><td>                </td><td>                </td><td>                </td><td>                </td><td>                </td><td>                </td></tr>\n",
       "<tr><td><b>[1. 2.]</b></td><td>              </td><td>              </td><td>              </td><td>              </td><td>              </td><td>              </td><td>...</td><td>                </td><td>                </td><td>                </td><td>                </td><td>                </td><td>                </td></tr>\n",
       "<tr><td><b>[2. 3.]</b></td><td>              </td><td>              </td><td>              </td><td>              </td><td>              </td><td>              </td><td>...</td><td>                </td><td>                </td><td>                </td><td>                </td><td>                </td><td>                </td></tr>\n",
       "<tr><td><b>[3. 4.]</b></td><td>              </td><td>              </td><td>              </td><td>              </td><td>              </td><td>              </td><td>...</td><td>                </td><td>                </td><td>                </td><td>                </td><td>                </td><td>                </td></tr>\n",
       "<tr><td><b>[4. 5.]</b></td><td>              </td><td>              </td><td>              </td><td>              </td><td>              </td><td>              </td><td>...</td><td>                </td><td>                </td><td>                </td><td>                </td><td>                </td><td>                </td></tr>\n",
       "</tbody>\n",
       "</table>"
      ],
      "text/plain": [
       "GridData(Grid(\n",
       "Axis(\"x\",\n",
       "points = None,\n",
       "edges = array([[ 0.,  1.],\n",
       "       [ 1.,  2.],\n",
       "       [ 2.,  3.],\n",
       "       [ 3.,  4.],\n",
       "       [ 4.,  5.],\n",
       "       [ 5.,  6.],\n",
       "       [ 6.,  7.],\n",
       "       [ 7.,  8.],\n",
       "       [ 8.,  9.],\n",
       "       [ 9., 10.],\n",
       "       [10., 11.],\n",
       "       [11., 12.],\n",
       "       [12., 13.],\n",
       "       [13., 14.],\n",
       "       [14., 15.],\n",
       "       [15., 16.],\n",
       "       [16., 17.],\n",
       "       [17., 18.],\n",
       "       [18., 19.],\n",
       "       [19., 20.]]))\n",
       "nbins = 20),\n",
       "Axis(\"y\",\n",
       "points = None,\n",
       "edges = array([[0., 1.],\n",
       "       [1., 2.],\n",
       "       [2., 3.],\n",
       "       [3., 4.],\n",
       "       [4., 5.]]))\n",
       "nbins = 5),)\n",
       "[])"
      ]
     },
     "execution_count": 104,
     "metadata": {},
     "output_type": "execute_result"
    }
   ],
   "source": [
    "g"
   ]
  },
  {
   "cell_type": "code",
   "execution_count": 105,
   "metadata": {},
   "outputs": [],
   "source": [
    "# add something\n",
    "g['a'] = np.random.rand(g.grid.size).reshape(g.shape)"
   ]
  },
  {
   "cell_type": "code",
   "execution_count": 106,
   "metadata": {},
   "outputs": [
    {
     "data": {
      "text/html": [
       "<table>\n",
       "<tbody>\n",
       "<tr><td><b>y \\ x</b>  </td><td><b>[0. 1.]</b></td><td><b>[1. 2.]</b></td><td><b>[2. 3.]</b></td><td><b>[3. 4.]</b></td><td><b>[4. 5.]</b></td><td><b>[5. 6.]</b></td><td>...</td><td><b>[14. 15.]</b></td><td><b>[15. 16.]</b></td><td><b>[16. 17.]</b></td><td><b>[17. 18.]</b></td><td><b>[18. 19.]</b></td><td><b>[19. 20.]</b></td></tr>\n",
       "<tr><td><b>[0. 1.]</b></td><td>a = 0.61      </td><td>a = 0.38      </td><td>a = 0.33      </td><td>a = 0.15      </td><td>a = 0.45      </td><td>a = 0.35      </td><td>...</td><td>a = 0.85        </td><td>a = 0.15        </td><td>a = 0.71        </td><td>a = 0.72        </td><td>a = 0.88        </td><td>a = 0.12        </td></tr>\n",
       "<tr><td><b>[1. 2.]</b></td><td>a = 0.94      </td><td>a = 0.39      </td><td>a = 0.5       </td><td>a = 0.21      </td><td>a = 0.16      </td><td>a = 0.26      </td><td>...</td><td>a = 0.21        </td><td>a = 0.26        </td><td>a = 0.9         </td><td>a = 0.46        </td><td>a = 0.51        </td><td>a = 0.42        </td></tr>\n",
       "<tr><td><b>[2. 3.]</b></td><td>a = 0.91      </td><td>a = 0.47      </td><td>a = 0.4       </td><td>a = 0.72      </td><td>a = 0.98      </td><td>a = 0.53      </td><td>...</td><td>a = 0.027       </td><td>a = 0.66        </td><td>a = 0.029       </td><td>a = 0.22        </td><td>a = 0.57        </td><td>a = 0.8         </td></tr>\n",
       "<tr><td><b>[3. 4.]</b></td><td>a = 0.69      </td><td>a = 0.61      </td><td>a = 0.18      </td><td>a = 0.8       </td><td>a = 0.074     </td><td>a = 0.51      </td><td>...</td><td>a = 0.48        </td><td>a = 0.56        </td><td>a = 0.33        </td><td>a = 0.33        </td><td>a = 0.92        </td><td>a = 0.48        </td></tr>\n",
       "<tr><td><b>[4. 5.]</b></td><td>a = 0.39      </td><td>a = 0.74      </td><td>a = 0.54      </td><td>a = 0.25      </td><td>a = 0.6       </td><td>a = 0.56      </td><td>...</td><td>a = 0.31        </td><td>a = 0.89        </td><td>a = 0.64        </td><td>a = 0.7         </td><td>a = 0.21        </td><td>a = 0.75        </td></tr>\n",
       "</tbody>\n",
       "</table>"
      ],
      "text/plain": [
       "GridData(Grid(\n",
       "Axis(\"x\",\n",
       "points = None,\n",
       "edges = array([[ 0.,  1.],\n",
       "       [ 1.,  2.],\n",
       "       [ 2.,  3.],\n",
       "       [ 3.,  4.],\n",
       "       [ 4.,  5.],\n",
       "       [ 5.,  6.],\n",
       "       [ 6.,  7.],\n",
       "       [ 7.,  8.],\n",
       "       [ 8.,  9.],\n",
       "       [ 9., 10.],\n",
       "       [10., 11.],\n",
       "       [11., 12.],\n",
       "       [12., 13.],\n",
       "       [13., 14.],\n",
       "       [14., 15.],\n",
       "       [15., 16.],\n",
       "       [16., 17.],\n",
       "       [17., 18.],\n",
       "       [18., 19.],\n",
       "       [19., 20.]]))\n",
       "nbins = 20),\n",
       "Axis(\"y\",\n",
       "points = None,\n",
       "edges = array([[0., 1.],\n",
       "       [1., 2.],\n",
       "       [2., 3.],\n",
       "       [3., 4.],\n",
       "       [4., 5.]]))\n",
       "nbins = 5),)\n",
       "[GridArray(a : [[0.60724931 0.94121067 0.90872383 0.68794883 0.39019938]\n",
       " [0.38066504 0.39401243 0.47162141 0.6078555  0.73566583]\n",
       " [0.32690845 0.49888907 0.40270122 0.17522994 0.54071207]\n",
       " [0.15359453 0.20825346 0.71628659 0.8016141  0.25327254]\n",
       " [0.44818402 0.15601479 0.98216289 0.07361609 0.59539014]\n",
       " [0.35232173 0.26473526 0.53419151 0.51196432 0.56366195]\n",
       " [0.74888559 0.33388275 0.80779037 0.30147297 0.03889536]\n",
       " [0.56561252 0.82129457 0.99700777 0.92659651 0.77128051]\n",
       " [0.69799693 0.64007116 0.93558232 0.38441883 0.44084284]\n",
       " [0.37984024 0.89685304 0.31289374 0.48203364 0.36458438]\n",
       " [0.72217869 0.14288056 0.18236482 0.61789114 0.00434624]\n",
       " [0.39971559 0.24668918 0.613626   0.88212954 0.82850063]\n",
       " [0.81160992 0.00955763 0.28728859 0.49259011 0.69969441]\n",
       " [0.96507672 0.81980437 0.95724464 0.87152772 0.86686726]\n",
       " [0.85091815 0.21410966 0.02701908 0.48274437 0.30520386]\n",
       " [0.15119714 0.2625145  0.65848071 0.55866164 0.88566679]\n",
       " [0.71026385 0.89863685 0.02921534 0.33401905 0.63535831]\n",
       " [0.721911   0.45927751 0.22140315 0.32839972 0.69980555]\n",
       " [0.88258343 0.50793063 0.56594988 0.92362144 0.20615527]\n",
       " [0.12163923 0.4174494  0.79825011 0.47724997 0.75464451]])])"
      ]
     },
     "execution_count": 106,
     "metadata": {},
     "output_type": "execute_result"
    }
   ],
   "source": [
    "g"
   ]
  },
  {
   "cell_type": "code",
   "execution_count": 107,
   "metadata": {},
   "outputs": [],
   "source": [
    "g['b'] = np.ones(g.shape)"
   ]
  },
  {
   "cell_type": "code",
   "execution_count": 108,
   "metadata": {},
   "outputs": [
    {
     "data": {
      "text/plain": [
       "(20, 5)"
      ]
     },
     "execution_count": 108,
     "metadata": {},
     "output_type": "execute_result"
    }
   ],
   "source": [
    "g.shape"
   ]
  },
  {
   "cell_type": "code",
   "execution_count": 109,
   "metadata": {},
   "outputs": [
    {
     "data": {
      "text/html": [
       "<table>\n",
       "<tbody>\n",
       "<tr><td><b>x \\ y</b>    </td><td><b>[0. 1.]</b></td><td><b>[1. 2.]</b></td><td><b>[2. 3.]</b></td><td><b>[3. 4.]</b></td><td><b>[4. 5.]</b></td></tr>\n",
       "<tr><td><b>[0. 1.]</b>  </td><td>1             </td><td>1             </td><td>1             </td><td>1             </td><td>1             </td></tr>\n",
       "<tr><td><b>[1. 2.]</b>  </td><td>1             </td><td>1             </td><td>1             </td><td>1             </td><td>1             </td></tr>\n",
       "<tr><td><b>[2. 3.]</b>  </td><td>1             </td><td>1             </td><td>1             </td><td>1             </td><td>1             </td></tr>\n",
       "<tr><td><b>[3. 4.]</b>  </td><td>1             </td><td>1             </td><td>1             </td><td>1             </td><td>1             </td></tr>\n",
       "<tr><td><b>[4. 5.]</b>  </td><td>1             </td><td>1             </td><td>1             </td><td>1             </td><td>1             </td></tr>\n",
       "<tr><td><b>[5. 6.]</b>  </td><td>1             </td><td>1             </td><td>1             </td><td>1             </td><td>1             </td></tr>\n",
       "<tr><td>...             </td><td>...           </td><td>...           </td><td>...           </td><td>...           </td><td>...           </td></tr>\n",
       "<tr><td><b>[14. 15.]</b></td><td>1             </td><td>1             </td><td>1             </td><td>1             </td><td>1             </td></tr>\n",
       "<tr><td><b>[15. 16.]</b></td><td>1             </td><td>1             </td><td>1             </td><td>1             </td><td>1             </td></tr>\n",
       "<tr><td><b>[16. 17.]</b></td><td>1             </td><td>1             </td><td>1             </td><td>1             </td><td>1             </td></tr>\n",
       "<tr><td><b>[17. 18.]</b></td><td>1             </td><td>1             </td><td>1             </td><td>1             </td><td>1             </td></tr>\n",
       "<tr><td><b>[18. 19.]</b></td><td>1             </td><td>1             </td><td>1             </td><td>1             </td><td>1             </td></tr>\n",
       "<tr><td><b>[19. 20.]</b></td><td>1             </td><td>1             </td><td>1             </td><td>1             </td><td>1             </td></tr>\n",
       "</tbody>\n",
       "</table>"
      ],
      "text/plain": [
       "GridArray(b : [[1. 1. 1. 1. 1. 1. 1. 1. 1. 1. 1. 1. 1. 1. 1. 1. 1. 1. 1. 1.]\n",
       " [1. 1. 1. 1. 1. 1. 1. 1. 1. 1. 1. 1. 1. 1. 1. 1. 1. 1. 1. 1.]\n",
       " [1. 1. 1. 1. 1. 1. 1. 1. 1. 1. 1. 1. 1. 1. 1. 1. 1. 1. 1. 1.]\n",
       " [1. 1. 1. 1. 1. 1. 1. 1. 1. 1. 1. 1. 1. 1. 1. 1. 1. 1. 1. 1.]\n",
       " [1. 1. 1. 1. 1. 1. 1. 1. 1. 1. 1. 1. 1. 1. 1. 1. 1. 1. 1. 1.]])"
      ]
     },
     "execution_count": 109,
     "metadata": {},
     "output_type": "execute_result"
    }
   ],
   "source": [
    "g['b'].T"
   ]
  },
  {
   "cell_type": "code",
   "execution_count": 110,
   "metadata": {},
   "outputs": [
    {
     "data": {
      "text/html": [
       "<table>\n",
       "<tbody>\n",
       "<tr><td><b>y \\ x</b>  </td><td><b>[0. 1.]</b></td><td><b>[1. 2.]</b></td><td><b>[2. 3.]</b></td><td><b>[3. 4.]</b></td><td><b>[4. 5.]</b></td><td><b>[5. 6.]</b></td><td>...</td><td><b>[14. 15.]</b></td><td><b>[15. 16.]</b></td><td><b>[16. 17.]</b></td><td><b>[17. 18.]</b></td><td><b>[18. 19.]</b></td><td><b>[19. 20.]</b></td></tr>\n",
       "<tr><td><b>[0. 1.]</b></td><td>--            </td><td>1             </td><td>1             </td><td>1             </td><td>1             </td><td>1             </td><td>...</td><td>--              </td><td>1               </td><td>--              </td><td>--              </td><td>--              </td><td>1               </td></tr>\n",
       "<tr><td><b>[1. 2.]</b></td><td>--            </td><td>1             </td><td>1             </td><td>1             </td><td>1             </td><td>1             </td><td>...</td><td>1               </td><td>1               </td><td>--              </td><td>1               </td><td>--              </td><td>1               </td></tr>\n",
       "<tr><td><b>[2. 3.]</b></td><td>--            </td><td>1             </td><td>1             </td><td>--            </td><td>--            </td><td>--            </td><td>...</td><td>1               </td><td>--              </td><td>1               </td><td>1               </td><td>--              </td><td>--              </td></tr>\n",
       "<tr><td><b>[3. 4.]</b></td><td>--            </td><td>--            </td><td>1             </td><td>--            </td><td>1             </td><td>--            </td><td>...</td><td>1               </td><td>--              </td><td>1               </td><td>1               </td><td>--              </td><td>1               </td></tr>\n",
       "<tr><td><b>[4. 5.]</b></td><td>1             </td><td>--            </td><td>--            </td><td>1             </td><td>--            </td><td>--            </td><td>...</td><td>1               </td><td>--              </td><td>--              </td><td>--              </td><td>1               </td><td>--              </td></tr>\n",
       "</tbody>\n",
       "</table>"
      ],
      "text/plain": [
       "GridArray(b : [[-- -- -- -- 1.0]\n",
       " [1.0 1.0 1.0 -- --]\n",
       " [1.0 1.0 1.0 1.0 --]\n",
       " [1.0 1.0 -- -- 1.0]\n",
       " [1.0 1.0 -- 1.0 --]\n",
       " [1.0 1.0 -- -- --]\n",
       " [-- 1.0 -- 1.0 1.0]\n",
       " [-- -- -- -- --]\n",
       " [-- -- -- 1.0 1.0]\n",
       " [1.0 -- 1.0 1.0 1.0]\n",
       " [-- 1.0 1.0 -- 1.0]\n",
       " [1.0 1.0 -- -- --]\n",
       " [-- 1.0 1.0 1.0 --]\n",
       " [-- -- -- -- --]\n",
       " [-- 1.0 1.0 1.0 1.0]\n",
       " [1.0 1.0 -- -- --]\n",
       " [-- -- 1.0 1.0 --]\n",
       " [-- 1.0 1.0 1.0 --]\n",
       " [-- -- -- -- 1.0]\n",
       " [1.0 1.0 -- 1.0 --]])"
      ]
     },
     "execution_count": 110,
     "metadata": {},
     "output_type": "execute_result"
    }
   ],
   "source": [
    "g['b'][g['a'] < 0.5]"
   ]
  },
  {
   "cell_type": "code",
   "execution_count": 111,
   "metadata": {},
   "outputs": [],
   "source": [
    "g['b'][g['a'] < 0.5] *= -1"
   ]
  },
  {
   "cell_type": "code",
   "execution_count": 112,
   "metadata": {},
   "outputs": [
    {
     "data": {
      "text/html": [
       "<table>\n",
       "<tbody>\n",
       "<tr><td><b>y \\ x</b>  </td><td><b>[0. 1.]</b></td><td><b>[1. 2.]</b></td><td><b>[2. 3.]</b></td><td><b>[3. 4.]</b></td><td><b>[4. 5.]</b></td><td><b>[5. 6.]</b></td><td>...</td><td><b>[14. 15.]</b></td><td><b>[15. 16.]</b></td><td><b>[16. 17.]</b></td><td><b>[17. 18.]</b></td><td><b>[18. 19.]</b></td><td><b>[19. 20.]</b></td></tr>\n",
       "<tr><td><b>[0. 1.]</b></td><td>1             </td><td>-1            </td><td>-1            </td><td>-1            </td><td>-1            </td><td>-1            </td><td>...</td><td>1               </td><td>-1              </td><td>1               </td><td>1               </td><td>1               </td><td>-1              </td></tr>\n",
       "<tr><td><b>[1. 2.]</b></td><td>1             </td><td>-1            </td><td>-1            </td><td>-1            </td><td>-1            </td><td>-1            </td><td>...</td><td>-1              </td><td>-1              </td><td>1               </td><td>-1              </td><td>1               </td><td>-1              </td></tr>\n",
       "<tr><td><b>[2. 3.]</b></td><td>1             </td><td>-1            </td><td>-1            </td><td>1             </td><td>1             </td><td>1             </td><td>...</td><td>-1              </td><td>1               </td><td>-1              </td><td>-1              </td><td>1               </td><td>1               </td></tr>\n",
       "<tr><td><b>[3. 4.]</b></td><td>1             </td><td>1             </td><td>-1            </td><td>1             </td><td>-1            </td><td>1             </td><td>...</td><td>-1              </td><td>1               </td><td>-1              </td><td>-1              </td><td>1               </td><td>-1              </td></tr>\n",
       "<tr><td><b>[4. 5.]</b></td><td>-1            </td><td>1             </td><td>1             </td><td>-1            </td><td>1             </td><td>1             </td><td>...</td><td>-1              </td><td>1               </td><td>1               </td><td>1               </td><td>-1              </td><td>1               </td></tr>\n",
       "</tbody>\n",
       "</table>"
      ],
      "text/plain": [
       "GridArray(b : [[ 1.  1.  1.  1. -1.]\n",
       " [-1. -1. -1.  1.  1.]\n",
       " [-1. -1. -1. -1.  1.]\n",
       " [-1. -1.  1.  1. -1.]\n",
       " [-1. -1.  1. -1.  1.]\n",
       " [-1. -1.  1.  1.  1.]\n",
       " [ 1. -1.  1. -1. -1.]\n",
       " [ 1.  1.  1.  1.  1.]\n",
       " [ 1.  1.  1. -1. -1.]\n",
       " [-1.  1. -1. -1. -1.]\n",
       " [ 1. -1. -1.  1. -1.]\n",
       " [-1. -1.  1.  1.  1.]\n",
       " [ 1. -1. -1. -1.  1.]\n",
       " [ 1.  1.  1.  1.  1.]\n",
       " [ 1. -1. -1. -1. -1.]\n",
       " [-1. -1.  1.  1.  1.]\n",
       " [ 1.  1. -1. -1.  1.]\n",
       " [ 1. -1. -1. -1.  1.]\n",
       " [ 1.  1.  1.  1. -1.]\n",
       " [-1. -1.  1. -1.  1.]])"
      ]
     },
     "execution_count": 112,
     "metadata": {},
     "output_type": "execute_result"
    }
   ],
   "source": [
    "g['b']"
   ]
  },
  {
   "cell_type": "code",
   "execution_count": 113,
   "metadata": {},
   "outputs": [
    {
     "data": {
      "text/html": [
       "<table>\n",
       "<tbody>\n",
       "<tr><td><b>x</b></td><td><b>[0. 1.]</b></td><td><b>[1. 2.]</b></td><td><b>[2. 3.]</b></td><td><b>[3. 4.]</b></td><td><b>[4. 5.]</b></td><td><b>[5. 6.]</b></td><td>...</td><td><b>[14. 15.]</b></td><td><b>[15. 16.]</b></td><td><b>[16. 17.]</b></td><td><b>[17. 18.]</b></td><td><b>[18. 19.]</b></td><td><b>[19. 20.]</b></td></tr>\n",
       "<tr><td><b>a</b></td><td>3.5           </td><td>2.6           </td><td>1.9           </td><td>2.1           </td><td>2.3           </td><td>2.2           </td><td>...</td><td>1.9             </td><td>2.5             </td><td>2.6             </td><td>2.4             </td><td>3.1             </td><td>2.6             </td></tr>\n",
       "</tbody>\n",
       "</table>"
      ],
      "text/plain": [
       "GridArray(a : [3.53533203 2.58982021 1.94444074 2.13302122 2.25536793 2.22687477\n",
       " 2.23092705 4.08179189 3.09891207 2.43620503 1.66966145 2.97066094\n",
       " 2.30074066 4.48052071 1.87999512 2.51652078 2.6074934  2.43079693\n",
       " 3.08624066 2.56923322])"
      ]
     },
     "execution_count": 113,
     "metadata": {},
     "output_type": "execute_result"
    }
   ],
   "source": [
    "np.sum(g['a'], axis='y')"
   ]
  },
  {
   "cell_type": "code",
   "execution_count": 114,
   "metadata": {},
   "outputs": [
    {
     "data": {
      "text/html": [
       "<table>\n",
       "<tbody>\n",
       "<tr><td><b>x</b></td><td><b>[0. 1.]</b></td><td><b>[1. 2.]</b></td><td><b>[2. 3.]</b></td><td><b>[3. 4.]</b></td><td><b>[4. 5.]</b></td><td><b>[5. 6.]</b></td><td>...</td><td><b>[14. 15.]</b></td><td><b>[15. 16.]</b></td><td><b>[16. 17.]</b></td><td><b>[17. 18.]</b></td><td><b>[18. 19.]</b></td><td><b>[19. 20.]</b></td></tr>\n",
       "<tr><td><b>a</b></td><td>0.69          </td><td>0.61          </td><td>0.18          </td><td>0.8           </td><td>0.074         </td><td>0.51          </td><td>...</td><td>0.48            </td><td>0.56            </td><td>0.33            </td><td>0.33            </td><td>0.92            </td><td>0.48            </td></tr>\n",
       "<tr><td><b>b</b></td><td>1             </td><td>1             </td><td>-1            </td><td>1             </td><td>-1            </td><td>1             </td><td>...</td><td>-1              </td><td>1               </td><td>-1              </td><td>-1              </td><td>1               </td><td>-1              </td></tr>\n",
       "</tbody>\n",
       "</table>"
      ],
      "text/plain": [
       "GridData(Grid(\n",
       "Axis(\"x\",\n",
       "points = None,\n",
       "edges = array([[ 0.,  1.],\n",
       "       [ 1.,  2.],\n",
       "       [ 2.,  3.],\n",
       "       [ 3.,  4.],\n",
       "       [ 4.,  5.],\n",
       "       [ 5.,  6.],\n",
       "       [ 6.,  7.],\n",
       "       [ 7.,  8.],\n",
       "       [ 8.,  9.],\n",
       "       [ 9., 10.],\n",
       "       [10., 11.],\n",
       "       [11., 12.],\n",
       "       [12., 13.],\n",
       "       [13., 14.],\n",
       "       [14., 15.],\n",
       "       [15., 16.],\n",
       "       [16., 17.],\n",
       "       [17., 18.],\n",
       "       [18., 19.],\n",
       "       [19., 20.]]))\n",
       "nbins = 20),)\n",
       "[GridArray(a : [0.68794883 0.6078555  0.17522994 0.8016141  0.07361609 0.51196432\n",
       " 0.30147297 0.92659651 0.38441883 0.48203364 0.61789114 0.88212954\n",
       " 0.49259011 0.87152772 0.48274437 0.55866164 0.33401905 0.32839972\n",
       " 0.92362144 0.47724997]), GridArray(b : [ 1.  1. -1.  1. -1.  1. -1.  1. -1. -1.  1.  1. -1.  1. -1.  1. -1. -1.\n",
       "  1. -1.])])"
      ]
     },
     "execution_count": 114,
     "metadata": {},
     "output_type": "execute_result"
    }
   ],
   "source": [
    "g[:,-2]"
   ]
  },
  {
   "cell_type": "code",
   "execution_count": 115,
   "metadata": {},
   "outputs": [
    {
     "data": {
      "text/html": [
       "<table>\n",
       "<tbody>\n",
       "<tr><td><b>y \\ x</b>  </td><td><b>[19. 20.]</b>  </td><td><b>[18. 19.]</b>  </td><td><b>[17. 18.]</b>  </td><td><b>[16. 17.]</b>   </td><td><b>[15. 16.]</b>  </td><td><b>[14. 15.]</b>   </td><td>...</td><td><b>[5. 6.]</b>    </td><td><b>[4. 5.]</b>     </td><td><b>[3. 4.]</b>    </td><td><b>[2. 3.]</b>    </td><td><b>[1. 2.]</b>    </td><td><b>[0. 1.]</b>    </td></tr>\n",
       "<tr><td><b>[4. 5.]</b></td><td>a = 0.75<br>b = 1 </td><td>a = 0.21<br>b = -1</td><td>a = 0.7<br>b = 1  </td><td>a = 0.64<br>b = 1  </td><td>a = 0.89<br>b = 1 </td><td>a = 0.31<br>b = -1 </td><td>...</td><td>a = 0.56<br>b = 1 </td><td>a = 0.6<br>b = 1   </td><td>a = 0.25<br>b = -1</td><td>a = 0.54<br>b = 1 </td><td>a = 0.74<br>b = 1 </td><td>a = 0.39<br>b = -1</td></tr>\n",
       "<tr><td><b>[3. 4.]</b></td><td>a = 0.48<br>b = -1</td><td>a = 0.92<br>b = 1 </td><td>a = 0.33<br>b = -1</td><td>a = 0.33<br>b = -1 </td><td>a = 0.56<br>b = 1 </td><td>a = 0.48<br>b = -1 </td><td>...</td><td>a = 0.51<br>b = 1 </td><td>a = 0.074<br>b = -1</td><td>a = 0.8<br>b = 1  </td><td>a = 0.18<br>b = -1</td><td>a = 0.61<br>b = 1 </td><td>a = 0.69<br>b = 1 </td></tr>\n",
       "<tr><td><b>[2. 3.]</b></td><td>a = 0.8<br>b = 1  </td><td>a = 0.57<br>b = 1 </td><td>a = 0.22<br>b = -1</td><td>a = 0.029<br>b = -1</td><td>a = 0.66<br>b = 1 </td><td>a = 0.027<br>b = -1</td><td>...</td><td>a = 0.53<br>b = 1 </td><td>a = 0.98<br>b = 1  </td><td>a = 0.72<br>b = 1 </td><td>a = 0.4<br>b = -1 </td><td>a = 0.47<br>b = -1</td><td>a = 0.91<br>b = 1 </td></tr>\n",
       "<tr><td><b>[1. 2.]</b></td><td>a = 0.42<br>b = -1</td><td>a = 0.51<br>b = 1 </td><td>a = 0.46<br>b = -1</td><td>a = 0.9<br>b = 1   </td><td>a = 0.26<br>b = -1</td><td>a = 0.21<br>b = -1 </td><td>...</td><td>a = 0.26<br>b = -1</td><td>a = 0.16<br>b = -1 </td><td>a = 0.21<br>b = -1</td><td>a = 0.5<br>b = -1 </td><td>a = 0.39<br>b = -1</td><td>a = 0.94<br>b = 1 </td></tr>\n",
       "<tr><td><b>[0. 1.]</b></td><td>a = 0.12<br>b = -1</td><td>a = 0.88<br>b = 1 </td><td>a = 0.72<br>b = 1 </td><td>a = 0.71<br>b = 1  </td><td>a = 0.15<br>b = -1</td><td>a = 0.85<br>b = 1  </td><td>...</td><td>a = 0.35<br>b = -1</td><td>a = 0.45<br>b = -1 </td><td>a = 0.15<br>b = -1</td><td>a = 0.33<br>b = -1</td><td>a = 0.38<br>b = -1</td><td>a = 0.61<br>b = 1 </td></tr>\n",
       "</tbody>\n",
       "</table>"
      ],
      "text/plain": [
       "GridData(Grid(\n",
       "Axis(\"x\",\n",
       "points = None,\n",
       "edges = array([[19., 20.],\n",
       "       [18., 19.],\n",
       "       [17., 18.],\n",
       "       [16., 17.],\n",
       "       [15., 16.],\n",
       "       [14., 15.],\n",
       "       [13., 14.],\n",
       "       [12., 13.],\n",
       "       [11., 12.],\n",
       "       [10., 11.],\n",
       "       [ 9., 10.],\n",
       "       [ 8.,  9.],\n",
       "       [ 7.,  8.],\n",
       "       [ 6.,  7.],\n",
       "       [ 5.,  6.],\n",
       "       [ 4.,  5.],\n",
       "       [ 3.,  4.],\n",
       "       [ 2.,  3.],\n",
       "       [ 1.,  2.],\n",
       "       [ 0.,  1.]]))\n",
       "nbins = 20),\n",
       "Axis(\"y\",\n",
       "points = None,\n",
       "edges = array([[4., 5.],\n",
       "       [3., 4.],\n",
       "       [2., 3.],\n",
       "       [1., 2.],\n",
       "       [0., 1.]]))\n",
       "nbins = 5),)\n",
       "[GridArray(a : [[0.75464451 0.47724997 0.79825011 0.4174494  0.12163923]\n",
       " [0.20615527 0.92362144 0.56594988 0.50793063 0.88258343]\n",
       " [0.69980555 0.32839972 0.22140315 0.45927751 0.721911  ]\n",
       " [0.63535831 0.33401905 0.02921534 0.89863685 0.71026385]\n",
       " [0.88566679 0.55866164 0.65848071 0.2625145  0.15119714]\n",
       " [0.30520386 0.48274437 0.02701908 0.21410966 0.85091815]\n",
       " [0.86686726 0.87152772 0.95724464 0.81980437 0.96507672]\n",
       " [0.69969441 0.49259011 0.28728859 0.00955763 0.81160992]\n",
       " [0.82850063 0.88212954 0.613626   0.24668918 0.39971559]\n",
       " [0.00434624 0.61789114 0.18236482 0.14288056 0.72217869]\n",
       " [0.36458438 0.48203364 0.31289374 0.89685304 0.37984024]\n",
       " [0.44084284 0.38441883 0.93558232 0.64007116 0.69799693]\n",
       " [0.77128051 0.92659651 0.99700777 0.82129457 0.56561252]\n",
       " [0.03889536 0.30147297 0.80779037 0.33388275 0.74888559]\n",
       " [0.56366195 0.51196432 0.53419151 0.26473526 0.35232173]\n",
       " [0.59539014 0.07361609 0.98216289 0.15601479 0.44818402]\n",
       " [0.25327254 0.8016141  0.71628659 0.20825346 0.15359453]\n",
       " [0.54071207 0.17522994 0.40270122 0.49888907 0.32690845]\n",
       " [0.73566583 0.6078555  0.47162141 0.39401243 0.38066504]\n",
       " [0.39019938 0.68794883 0.90872383 0.94121067 0.60724931]]), GridArray(b : [[ 1. -1.  1. -1. -1.]\n",
       " [-1.  1.  1.  1.  1.]\n",
       " [ 1. -1. -1. -1.  1.]\n",
       " [ 1. -1. -1.  1.  1.]\n",
       " [ 1.  1.  1. -1. -1.]\n",
       " [-1. -1. -1. -1.  1.]\n",
       " [ 1.  1.  1.  1.  1.]\n",
       " [ 1. -1. -1. -1.  1.]\n",
       " [ 1.  1.  1. -1. -1.]\n",
       " [-1.  1. -1. -1.  1.]\n",
       " [-1. -1. -1.  1. -1.]\n",
       " [-1. -1.  1.  1.  1.]\n",
       " [ 1.  1.  1.  1.  1.]\n",
       " [-1. -1.  1. -1.  1.]\n",
       " [ 1.  1.  1. -1. -1.]\n",
       " [ 1. -1.  1. -1. -1.]\n",
       " [-1.  1.  1. -1. -1.]\n",
       " [ 1. -1. -1. -1. -1.]\n",
       " [ 1.  1. -1. -1. -1.]\n",
       " [-1.  1.  1.  1.  1.]])])"
      ]
     },
     "execution_count": 115,
     "metadata": {},
     "output_type": "execute_result"
    }
   ],
   "source": [
    "g[::-1, ::-1]"
   ]
  },
  {
   "cell_type": "code",
   "execution_count": 116,
   "metadata": {},
   "outputs": [
    {
     "data": {
      "text/html": [
       "<table>\n",
       "<tbody>\n",
       "<tr><td><b>y \\ x</b>  </td><td><b>[0. 1.]</b>   </td><td><b>[3. 4.]</b>   </td><td><b>[5. 6.]</b>   </td></tr>\n",
       "<tr><td><b>[2. 3.]</b></td><td>a = 0.91<br>b = 1</td><td>a = 0.72<br>b = 1</td><td>a = 0.53<br>b = 1</td></tr>\n",
       "<tr><td><b>[3. 4.]</b></td><td>a = 0.69<br>b = 1</td><td>a = 0.8<br>b = 1 </td><td>a = 0.51<br>b = 1</td></tr>\n",
       "</tbody>\n",
       "</table>"
      ],
      "text/plain": [
       "GridData(Grid(\n",
       "Axis(\"x\",\n",
       "points = None,\n",
       "edges = array([[0., 1.],\n",
       "       [3., 4.],\n",
       "       [5., 6.]]))\n",
       "nbins = 3),\n",
       "Axis(\"y\",\n",
       "points = None,\n",
       "edges = array([[2., 3.],\n",
       "       [3., 4.]]))\n",
       "nbins = 2),)\n",
       "[GridArray(a : [[0.90872383 0.68794883]\n",
       " [0.71628659 0.8016141 ]\n",
       " [0.53419151 0.51196432]]), GridArray(b : [[1. 1.]\n",
       " [1. 1.]\n",
       " [1. 1.]])])"
      ]
     },
     "execution_count": 116,
     "metadata": {},
     "output_type": "execute_result"
    }
   ],
   "source": [
    "g[[0,3,5], 2:-1]"
   ]
  },
  {
   "cell_type": "code",
   "execution_count": 117,
   "metadata": {},
   "outputs": [
    {
     "data": {
      "text/plain": [
       "{'a': 0.6072493123662851, 'b': 1.0}"
      ]
     },
     "execution_count": 117,
     "metadata": {},
     "output_type": "execute_result"
    }
   ],
   "source": [
    "g[0,0]"
   ]
  },
  {
   "cell_type": "code",
   "execution_count": 118,
   "metadata": {},
   "outputs": [
    {
     "data": {
      "text/plain": [
       "20.0"
      ]
     },
     "execution_count": 118,
     "metadata": {},
     "output_type": "execute_result"
    }
   ],
   "source": [
    "g.grid.edges[0].max()"
   ]
  },
  {
   "cell_type": "code",
   "execution_count": 119,
   "metadata": {},
   "outputs": [
    {
     "data": {
      "text/html": [
       "<table>\n",
       "<tbody>\n",
       "<tr><td><b>y</b></td><td><b>[0. 1.]</b></td><td><b>[1. 2.]</b></td><td><b>[2. 3.]</b></td><td><b>[3. 4.]</b></td><td><b>[4. 5.]</b></td></tr>\n",
       "<tr><td><b>b</b></td><td>0.35          </td><td>-0.019        </td><td>0.51          </td><td>0.24          </td><td>0.46          </td></tr>\n",
       "</tbody>\n",
       "</table>"
      ],
      "text/plain": [
       "GridArray(b : [ 0.35207698 -0.01935545  0.51099665  0.24048711  0.46063716])"
      ]
     },
     "execution_count": 119,
     "metadata": {},
     "output_type": "execute_result"
    }
   ],
   "source": [
    "np.mean(g['b'], axis='x') + np.std(g['a'], axis='x')"
   ]
  },
  {
   "cell_type": "code",
   "execution_count": 120,
   "metadata": {},
   "outputs": [],
   "source": [
    "g['c'] = np.sqrt(g['x']) * np.sqrt(g['y'])"
   ]
  },
  {
   "cell_type": "code",
   "execution_count": 121,
   "metadata": {},
   "outputs": [
    {
     "data": {
      "text/plain": [
       "<matplotlib.collections.QuadMesh at 0x7f3dbdba9cc0>"
      ]
     },
     "execution_count": 121,
     "metadata": {},
     "output_type": "execute_result"
    },
    {
     "data": {
      "image/png": "[encoded data removed]",
      "text/plain": [
       "<Figure size 432x288 with 2 Axes>"
      ]
     },
     "metadata": {
      "needs_background": "light"
     },
     "output_type": "display_data"
    }
   ],
   "source": [
    "g.plot('c', cbar=True)"
   ]
  },
  {
   "cell_type": "code",
   "execution_count": 122,
   "metadata": {},
   "outputs": [],
   "source": [
    "g['m'] = np.arange(g.grid.size * 3).reshape(g.shape + (-1,))"
   ]
  },
  {
   "cell_type": "code",
   "execution_count": 123,
   "metadata": {},
   "outputs": [
    {
     "name": "stderr",
     "output_type": "stream",
     "text": [
      "Clipping input data to the valid range for imshow with RGB data ([0..1] for floats or [0..255] for integers).\n"
     ]
    },
    {
     "data": {
      "text/plain": [
       "<matplotlib.image.AxesImage at 0x7f3dbdb45da0>"
      ]
     },
     "execution_count": 123,
     "metadata": {},
     "output_type": "execute_result"
    },
    {
     "data": {
      "image/png": "[encoded data removed]",
      "text/plain": [
       "<Figure size 432x288 with 1 Axes>"
      ]
     },
     "metadata": {
      "needs_background": "light"
     },
     "output_type": "display_data"
    }
   ],
   "source": [
    "g.plot('m') #it's interpreted as an RGB image, since the excess dimension is 3"
   ]
  },
  {
   "cell_type": "code",
   "execution_count": 124,
   "metadata": {},
   "outputs": [
    {
     "data": {
      "text/html": [
       "<table>\n",
       "<tbody>\n",
       "<tr><td><b>y \\ x</b>  </td><td><b>[0. 1.]</b></td><td><b>[1. 2.]</b></td><td><b>[2. 3.]</b></td><td><b>[3. 4.]</b></td><td><b>[4. 5.]</b></td><td><b>[5. 6.]</b></td><td>...</td><td><b>[14. 15.]</b></td><td><b>[15. 16.]</b></td><td><b>[16. 17.]</b></td><td><b>[17. 18.]</b></td><td><b>[18. 19.]</b></td><td><b>[19. 20.]</b></td></tr>\n",
       "<tr><td><b>[0. 1.]</b></td><td>0             </td><td>15            </td><td>30            </td><td>45            </td><td>60            </td><td>75            </td><td>...</td><td>2.1e+02         </td><td>2.2e+02         </td><td>2.4e+02         </td><td>2.6e+02         </td><td>2.7e+02         </td><td>2.8e+02         </td></tr>\n",
       "<tr><td><b>[1. 2.]</b></td><td>3             </td><td>18            </td><td>33            </td><td>48            </td><td>63            </td><td>78            </td><td>...</td><td>2.1e+02         </td><td>2.3e+02         </td><td>2.4e+02         </td><td>2.6e+02         </td><td>2.7e+02         </td><td>2.9e+02         </td></tr>\n",
       "<tr><td><b>[2. 3.]</b></td><td>6             </td><td>21            </td><td>36            </td><td>51            </td><td>66            </td><td>81            </td><td>...</td><td>2.2e+02         </td><td>2.3e+02         </td><td>2.5e+02         </td><td>2.6e+02         </td><td>2.8e+02         </td><td>2.9e+02         </td></tr>\n",
       "<tr><td><b>[3. 4.]</b></td><td>9             </td><td>24            </td><td>39            </td><td>54            </td><td>69            </td><td>84            </td><td>...</td><td>2.2e+02         </td><td>2.3e+02         </td><td>2.5e+02         </td><td>2.6e+02         </td><td>2.8e+02         </td><td>2.9e+02         </td></tr>\n",
       "<tr><td><b>[4. 5.]</b></td><td>12            </td><td>27            </td><td>42            </td><td>57            </td><td>72            </td><td>87            </td><td>...</td><td>2.2e+02         </td><td>2.4e+02         </td><td>2.5e+02         </td><td>2.7e+02         </td><td>2.8e+02         </td><td>3e+02           </td></tr>\n",
       "</tbody>\n",
       "</table>"
      ],
      "text/plain": [
       "GridArray(m : [[  0   3   6   9  12]\n",
       " [ 15  18  21  24  27]\n",
       " [ 30  33  36  39  42]\n",
       " [ 45  48  51  54  57]\n",
       " [ 60  63  66  69  72]\n",
       " [ 75  78  81  84  87]\n",
       " [ 90  93  96  99 102]\n",
       " [105 108 111 114 117]\n",
       " [120 123 126 129 132]\n",
       " [135 138 141 144 147]\n",
       " [150 153 156 159 162]\n",
       " [165 168 171 174 177]\n",
       " [180 183 186 189 192]\n",
       " [195 198 201 204 207]\n",
       " [210 213 216 219 222]\n",
       " [225 228 231 234 237]\n",
       " [240 243 246 249 252]\n",
       " [255 258 261 264 267]\n",
       " [270 273 276 279 282]\n",
       " [285 288 291 294 297]])"
      ]
     },
     "execution_count": 124,
     "metadata": {},
     "output_type": "execute_result"
    }
   ],
   "source": [
    "g['m'][:,:,0]"
   ]
  },
  {
   "cell_type": "code",
   "execution_count": 125,
   "metadata": {},
   "outputs": [
    {
     "data": {
      "text/html": [
       "<table>\n",
       "<tbody>\n",
       "<tr><td><b>x</b></td><td><b>[0. 1.]</b></td><td><b>[1. 2.]</b></td><td><b>[2. 3.]</b></td><td><b>[3. 4.]</b></td><td><b>[4. 5.]</b></td><td><b>[5. 6.]</b></td><td>...</td><td><b>[14. 15.]</b></td><td><b>[15. 16.]</b></td><td><b>[16. 17.]</b></td><td><b>[17. 18.]</b></td><td><b>[18. 19.]</b></td><td><b>[19. 20.]</b></td></tr>\n",
       "<tr><td><b>a</b></td><td>0.69          </td><td>0.61          </td><td>0.18          </td><td>0.8           </td><td>0.074         </td><td>0.51          </td><td>...</td><td>0.48            </td><td>0.56            </td><td>0.33            </td><td>0.33            </td><td>0.92            </td><td>0.48            </td></tr>\n",
       "<tr><td><b>b</b></td><td>1             </td><td>1             </td><td>-1            </td><td>1             </td><td>-1            </td><td>1             </td><td>...</td><td>-1              </td><td>1               </td><td>-1              </td><td>-1              </td><td>1               </td><td>-1              </td></tr>\n",
       "<tr><td><b>c</b></td><td>1.3           </td><td>2.3           </td><td>3             </td><td>3.5           </td><td>4             </td><td>4.4           </td><td>...</td><td>7.1             </td><td>7.4             </td><td>7.6             </td><td>7.8             </td><td>8               </td><td>8.3             </td></tr>\n",
       "<tr><td><b>m</b></td><td>[ 9 10 11]    </td><td>[24 25 26]    </td><td>[39 40 41]    </td><td>[54 55 56]    </td><td>[69 70 71]    </td><td>[84 85 86]    </td><td>...</td><td>[219 220 221]   </td><td>[234 235 236]   </td><td>[249 250 251]   </td><td>[264 265 266]   </td><td>[279 280 281]   </td><td>[294 295 296]   </td></tr>\n",
       "</tbody>\n",
       "</table>"
      ],
      "text/plain": [
       "GridData(Grid(\n",
       "Axis(\"x\",\n",
       "points = None,\n",
       "edges = array([[ 0.,  1.],\n",
       "       [ 1.,  2.],\n",
       "       [ 2.,  3.],\n",
       "       [ 3.,  4.],\n",
       "       [ 4.,  5.],\n",
       "       [ 5.,  6.],\n",
       "       [ 6.,  7.],\n",
       "       [ 7.,  8.],\n",
       "       [ 8.,  9.],\n",
       "       [ 9., 10.],\n",
       "       [10., 11.],\n",
       "       [11., 12.],\n",
       "       [12., 13.],\n",
       "       [13., 14.],\n",
       "       [14., 15.],\n",
       "       [15., 16.],\n",
       "       [16., 17.],\n",
       "       [17., 18.],\n",
       "       [18., 19.],\n",
       "       [19., 20.]]))\n",
       "nbins = 20),)\n",
       "[GridArray(a : [0.68794883 0.6078555  0.17522994 0.8016141  0.07361609 0.51196432\n",
       " 0.30147297 0.92659651 0.38441883 0.48203364 0.61789114 0.88212954\n",
       " 0.49259011 0.87152772 0.48274437 0.55866164 0.33401905 0.32839972\n",
       " 0.92362144 0.47724997]), GridArray(b : [ 1.  1. -1.  1. -1.  1. -1.  1. -1. -1.  1.  1. -1.  1. -1.  1. -1. -1.\n",
       "  1. -1.]), GridArray(c : [1.32287566 2.29128785 2.95803989 3.5        3.96862697 4.38748219\n",
       " 4.76969601 5.12347538 5.45435606 5.7662813  6.06217783 6.34428877\n",
       " 6.61437828 6.87386354 7.12390342 7.36545993 7.59934208 7.82623792\n",
       " 8.04673847 8.26135582]), GridArray(m : [[  9  10  11]\n",
       " [ 24  25  26]\n",
       " [ 39  40  41]\n",
       " [ 54  55  56]\n",
       " [ 69  70  71]\n",
       " [ 84  85  86]\n",
       " [ 99 100 101]\n",
       " [114 115 116]\n",
       " [129 130 131]\n",
       " [144 145 146]\n",
       " [159 160 161]\n",
       " [174 175 176]\n",
       " [189 190 191]\n",
       " [204 205 206]\n",
       " [219 220 221]\n",
       " [234 235 236]\n",
       " [249 250 251]\n",
       " [264 265 266]\n",
       " [279 280 281]\n",
       " [294 295 296]])])"
      ]
     },
     "execution_count": 125,
     "metadata": {},
     "output_type": "execute_result"
    }
   ],
   "source": [
    "g[:,3]"
   ]
  },
  {
   "cell_type": "code",
   "execution_count": 126,
   "metadata": {},
   "outputs": [
    {
     "data": {
      "text/html": [
       "<table>\n",
       "<tbody>\n",
       "<tr><td><b>y \\ x</b>  </td><td><b>[0. 1.]</b></td><td><b>[1. 2.]</b></td><td><b>[2. 3.]</b></td><td><b>[3. 4.]</b></td><td><b>[4. 5.]</b></td><td><b>[5. 6.]</b></td><td>...</td><td><b>[14. 15.]</b></td><td><b>[15. 16.]</b></td><td><b>[16. 17.]</b></td><td><b>[17. 18.]</b></td><td><b>[18. 19.]</b></td><td><b>[19. 20.]</b></td></tr>\n",
       "<tr><td><b>[0. 1.]</b></td><td>[0 1 2]       </td><td>[15 16 17]    </td><td>[30 31 32]    </td><td>[45 46 47]    </td><td>[60 61 62]    </td><td>[75 76 77]    </td><td>...</td><td>[210 211 212]   </td><td>[225 226 227]   </td><td>[240 241 242]   </td><td>[255 256 257]   </td><td>[270 271 272]   </td><td>[285 286 287]   </td></tr>\n",
       "<tr><td><b>[1. 2.]</b></td><td>[3 4 5]       </td><td>[18 19 20]    </td><td>[33 34 35]    </td><td>[48 49 50]    </td><td>[63 64 65]    </td><td>[78 79 80]    </td><td>...</td><td>[213 214 215]   </td><td>[228 229 230]   </td><td>[243 244 245]   </td><td>[258 259 260]   </td><td>[273 274 275]   </td><td>[288 289 290]   </td></tr>\n",
       "<tr><td><b>[2. 3.]</b></td><td>[6 7 8]       </td><td>[21 22 23]    </td><td>[36 37 38]    </td><td>[51 52 53]    </td><td>[66 67 68]    </td><td>[81 82 83]    </td><td>...</td><td>[216 217 218]   </td><td>[231 232 233]   </td><td>[246 247 248]   </td><td>[261 262 263]   </td><td>[276 277 278]   </td><td>[291 292 293]   </td></tr>\n",
       "<tr><td><b>[3. 4.]</b></td><td>[ 9 10 11]    </td><td>[24 25 26]    </td><td>[39 40 41]    </td><td>[54 55 56]    </td><td>[69 70 71]    </td><td>[84 85 86]    </td><td>...</td><td>[219 220 221]   </td><td>[234 235 236]   </td><td>[249 250 251]   </td><td>[264 265 266]   </td><td>[279 280 281]   </td><td>[294 295 296]   </td></tr>\n",
       "<tr><td><b>[4. 5.]</b></td><td>[12 13 14]    </td><td>[27 28 29]    </td><td>[42 43 44]    </td><td>[57 58 59]    </td><td>[72 73 74]    </td><td>[87 88 89]    </td><td>...</td><td>[222 223 224]   </td><td>[237 238 239]   </td><td>[252 253 254]   </td><td>[267 268 269]   </td><td>[282 283 284]   </td><td>[297 298 299]   </td></tr>\n",
       "</tbody>\n",
       "</table>"
      ],
      "text/plain": [
       "GridArray(m : [[[  0   1   2]\n",
       "  [  3   4   5]\n",
       "  [  6   7   8]\n",
       "  [  9  10  11]\n",
       "  [ 12  13  14]]\n",
       "\n",
       " [[ 15  16  17]\n",
       "  [ 18  19  20]\n",
       "  [ 21  22  23]\n",
       "  [ 24  25  26]\n",
       "  [ 27  28  29]]\n",
       "\n",
       " [[ 30  31  32]\n",
       "  [ 33  34  35]\n",
       "  [ 36  37  38]\n",
       "  [ 39  40  41]\n",
       "  [ 42  43  44]]\n",
       "\n",
       " [[ 45  46  47]\n",
       "  [ 48  49  50]\n",
       "  [ 51  52  53]\n",
       "  [ 54  55  56]\n",
       "  [ 57  58  59]]\n",
       "\n",
       " [[ 60  61  62]\n",
       "  [ 63  64  65]\n",
       "  [ 66  67  68]\n",
       "  [ 69  70  71]\n",
       "  [ 72  73  74]]\n",
       "\n",
       " [[ 75  76  77]\n",
       "  [ 78  79  80]\n",
       "  [ 81  82  83]\n",
       "  [ 84  85  86]\n",
       "  [ 87  88  89]]\n",
       "\n",
       " [[ 90  91  92]\n",
       "  [ 93  94  95]\n",
       "  [ 96  97  98]\n",
       "  [ 99 100 101]\n",
       "  [102 103 104]]\n",
       "\n",
       " [[105 106 107]\n",
       "  [108 109 110]\n",
       "  [111 112 113]\n",
       "  [114 115 116]\n",
       "  [117 118 119]]\n",
       "\n",
       " [[120 121 122]\n",
       "  [123 124 125]\n",
       "  [126 127 128]\n",
       "  [129 130 131]\n",
       "  [132 133 134]]\n",
       "\n",
       " [[135 136 137]\n",
       "  [138 139 140]\n",
       "  [141 142 143]\n",
       "  [144 145 146]\n",
       "  [147 148 149]]\n",
       "\n",
       " [[150 151 152]\n",
       "  [153 154 155]\n",
       "  [156 157 158]\n",
       "  [159 160 161]\n",
       "  [162 163 164]]\n",
       "\n",
       " [[165 166 167]\n",
       "  [168 169 170]\n",
       "  [171 172 173]\n",
       "  [174 175 176]\n",
       "  [177 178 179]]\n",
       "\n",
       " [[180 181 182]\n",
       "  [183 184 185]\n",
       "  [186 187 188]\n",
       "  [189 190 191]\n",
       "  [192 193 194]]\n",
       "\n",
       " [[195 196 197]\n",
       "  [198 199 200]\n",
       "  [201 202 203]\n",
       "  [204 205 206]\n",
       "  [207 208 209]]\n",
       "\n",
       " [[210 211 212]\n",
       "  [213 214 215]\n",
       "  [216 217 218]\n",
       "  [219 220 221]\n",
       "  [222 223 224]]\n",
       "\n",
       " [[225 226 227]\n",
       "  [228 229 230]\n",
       "  [231 232 233]\n",
       "  [234 235 236]\n",
       "  [237 238 239]]\n",
       "\n",
       " [[240 241 242]\n",
       "  [243 244 245]\n",
       "  [246 247 248]\n",
       "  [249 250 251]\n",
       "  [252 253 254]]\n",
       "\n",
       " [[255 256 257]\n",
       "  [258 259 260]\n",
       "  [261 262 263]\n",
       "  [264 265 266]\n",
       "  [267 268 269]]\n",
       "\n",
       " [[270 271 272]\n",
       "  [273 274 275]\n",
       "  [276 277 278]\n",
       "  [279 280 281]\n",
       "  [282 283 284]]\n",
       "\n",
       " [[285 286 287]\n",
       "  [288 289 290]\n",
       "  [291 292 293]\n",
       "  [294 295 296]\n",
       "  [297 298 299]]])"
      ]
     },
     "execution_count": 126,
     "metadata": {},
     "output_type": "execute_result"
    }
   ],
   "source": [
    "g['m']"
   ]
  },
  {
   "cell_type": "code",
   "execution_count": 127,
   "metadata": {},
   "outputs": [
    {
     "data": {
      "text/html": [
       "<table>\n",
       "<tbody>\n",
       "<tr><td><b>x \\ y</b>  </td><td><b>[0. 1.]</b></td><td><b>[1. 2.]</b></td><td><b>[2. 3.]</b></td><td><b>[3. 4.]</b></td><td><b>[4. 5.]</b></td></tr>\n",
       "<tr><td><b>[3. 4.]</b></td><td>[45 46 47]    </td><td>[48 49 50]    </td><td>[51 52 53]    </td><td>[54 55 56]    </td><td>[57 58 59]    </td></tr>\n",
       "<tr><td><b>[4. 5.]</b></td><td>[60 61 62]    </td><td>[63 64 65]    </td><td>[66 67 68]    </td><td>[69 70 71]    </td><td>[72 73 74]    </td></tr>\n",
       "</tbody>\n",
       "</table>"
      ],
      "text/plain": [
       "GridArray(m : [[[45 46 47]\n",
       "  [60 61 62]]\n",
       "\n",
       " [[48 49 50]\n",
       "  [63 64 65]]\n",
       "\n",
       " [[51 52 53]\n",
       "  [66 67 68]]\n",
       "\n",
       " [[54 55 56]\n",
       "  [69 70 71]]\n",
       "\n",
       " [[57 58 59]\n",
       "  [72 73 74]]])"
      ]
     },
     "execution_count": 127,
     "metadata": {},
     "output_type": "execute_result"
    }
   ],
   "source": [
    "g.T[:,3:5]['m']"
   ]
  },
  {
   "cell_type": "code",
   "execution_count": 128,
   "metadata": {},
   "outputs": [
    {
     "data": {
      "text/plain": [
       "OrderedDict([('a', 53.04455683811586),\n",
       "             ('b', 4.0),\n",
       "             ('c', 447.94207307484214),\n",
       "             ('m', 44850)])"
      ]
     },
     "execution_count": 128,
     "metadata": {},
     "output_type": "execute_result"
    }
   ],
   "source": [
    "np.sum(g)"
   ]
  },
  {
   "cell_type": "markdown",
   "metadata": {},
   "source": [
    "# Stuff to fix"
   ]
  },
  {
   "cell_type": "code",
   "execution_count": 129,
   "metadata": {},
   "outputs": [
    {
     "ename": "TypeError",
     "evalue": "list indices must be integers or slices, not tuple",
     "output_type": "error",
     "traceback": [
      "\u001b[0;31m---------------------------------------------------------------------------\u001b[0m",
      "\u001b[0;31mTypeError\u001b[0m                                 Traceback (most recent call last)",
      "\u001b[0;32m<ipython-input-129-736532b143b4>\u001b[0m in \u001b[0;36m<module>\u001b[0;34m\u001b[0m\n\u001b[0;32m----> 1\u001b[0;31m \u001b[0mnp\u001b[0m\u001b[0;34m.\u001b[0m\u001b[0msum\u001b[0m\u001b[0;34m(\u001b[0m\u001b[0mg\u001b[0m\u001b[0;34m[\u001b[0m\u001b[0;34m'm'\u001b[0m\u001b[0;34m]\u001b[0m\u001b[0;34m,\u001b[0m \u001b[0maxis\u001b[0m\u001b[0;34m=\u001b[0m\u001b[0;34m(\u001b[0m\u001b[0;36m0\u001b[0m\u001b[0;34m,\u001b[0m\u001b[0;36m1\u001b[0m\u001b[0;34m)\u001b[0m\u001b[0;34m)\u001b[0m\u001b[0;34m\u001b[0m\u001b[0;34m\u001b[0m\u001b[0m\n\u001b[0m",
      "\u001b[0;32m~/anaconda3/lib/python3.7/site-packages/numpy/core/fromnumeric.py\u001b[0m in \u001b[0;36msum\u001b[0;34m(a, axis, dtype, out, keepdims, initial)\u001b[0m\n\u001b[1;32m   2074\u001b[0m \u001b[0;34m\u001b[0m\u001b[0m\n\u001b[1;32m   2075\u001b[0m     return _wrapreduction(a, np.add, 'sum', axis, dtype, out, keepdims=keepdims,\n\u001b[0;32m-> 2076\u001b[0;31m                           initial=initial)\n\u001b[0m\u001b[1;32m   2077\u001b[0m \u001b[0;34m\u001b[0m\u001b[0m\n\u001b[1;32m   2078\u001b[0m \u001b[0;34m\u001b[0m\u001b[0m\n",
      "\u001b[0;32m~/anaconda3/lib/python3.7/site-packages/numpy/core/fromnumeric.py\u001b[0m in \u001b[0;36m_wrapreduction\u001b[0;34m(obj, ufunc, method, axis, dtype, out, **kwargs)\u001b[0m\n\u001b[1;32m     84\u001b[0m                 \u001b[0;32mreturn\u001b[0m \u001b[0mreduction\u001b[0m\u001b[0;34m(\u001b[0m\u001b[0maxis\u001b[0m\u001b[0;34m=\u001b[0m\u001b[0maxis\u001b[0m\u001b[0;34m,\u001b[0m \u001b[0mout\u001b[0m\u001b[0;34m=\u001b[0m\u001b[0mout\u001b[0m\u001b[0;34m,\u001b[0m \u001b[0;34m**\u001b[0m\u001b[0mpasskwargs\u001b[0m\u001b[0;34m)\u001b[0m\u001b[0;34m\u001b[0m\u001b[0;34m\u001b[0m\u001b[0m\n\u001b[1;32m     85\u001b[0m \u001b[0;34m\u001b[0m\u001b[0m\n\u001b[0;32m---> 86\u001b[0;31m     \u001b[0;32mreturn\u001b[0m \u001b[0mufunc\u001b[0m\u001b[0;34m.\u001b[0m\u001b[0mreduce\u001b[0m\u001b[0;34m(\u001b[0m\u001b[0mobj\u001b[0m\u001b[0;34m,\u001b[0m \u001b[0maxis\u001b[0m\u001b[0;34m,\u001b[0m \u001b[0mdtype\u001b[0m\u001b[0;34m,\u001b[0m \u001b[0mout\u001b[0m\u001b[0;34m,\u001b[0m \u001b[0;34m**\u001b[0m\u001b[0mpasskwargs\u001b[0m\u001b[0;34m)\u001b[0m\u001b[0;34m\u001b[0m\u001b[0;34m\u001b[0m\u001b[0m\n\u001b[0m\u001b[1;32m     87\u001b[0m \u001b[0;34m\u001b[0m\u001b[0m\n\u001b[1;32m     88\u001b[0m \u001b[0;34m\u001b[0m\u001b[0m\n",
      "\u001b[0;32m~/pynocular/pynocular/griddata.py\u001b[0m in \u001b[0;36m__array_ufunc__\u001b[0;34m(self, ufunc, method, *inputs, **kwargs)\u001b[0m\n\u001b[1;32m    241\u001b[0m             \u001b[0mresult\u001b[0m \u001b[0;34m=\u001b[0m \u001b[0mnp\u001b[0m\u001b[0;34m.\u001b[0m\u001b[0masanyarray\u001b[0m\u001b[0;34m(\u001b[0m\u001b[0mself\u001b[0m\u001b[0;34m)\u001b[0m\u001b[0;34m.\u001b[0m\u001b[0m__array_ufunc__\u001b[0m\u001b[0;34m(\u001b[0m\u001b[0mufunc\u001b[0m\u001b[0;34m,\u001b[0m \u001b[0mmethod\u001b[0m\u001b[0;34m,\u001b[0m \u001b[0;34m*\u001b[0m\u001b[0marray_inputs\u001b[0m\u001b[0;34m,\u001b[0m \u001b[0;34m**\u001b[0m\u001b[0mkwargs\u001b[0m\u001b[0;34m)\u001b[0m\u001b[0;34m\u001b[0m\u001b[0;34m\u001b[0m\u001b[0m\n\u001b[1;32m    242\u001b[0m \u001b[0;34m\u001b[0m\u001b[0m\n\u001b[0;32m--> 243\u001b[0;31m         \u001b[0;32mreturn\u001b[0m \u001b[0mself\u001b[0m\u001b[0;34m.\u001b[0m\u001b[0m_pack_result\u001b[0m\u001b[0;34m(\u001b[0m\u001b[0mresult\u001b[0m\u001b[0;34m,\u001b[0m \u001b[0maxis\u001b[0m\u001b[0;34m)\u001b[0m\u001b[0;34m\u001b[0m\u001b[0;34m\u001b[0m\u001b[0m\n\u001b[0m\u001b[1;32m    244\u001b[0m \u001b[0;34m\u001b[0m\u001b[0m\n\u001b[1;32m    245\u001b[0m \u001b[0;34m\u001b[0m\u001b[0m\n",
      "\u001b[0;32m~/pynocular/pynocular/griddata.py\u001b[0m in \u001b[0;36m_pack_result\u001b[0;34m(self, result, axis)\u001b[0m\n\u001b[1;32m    183\u001b[0m                 \u001b[0;32mif\u001b[0m \u001b[0maxis\u001b[0m \u001b[0;32mis\u001b[0m \u001b[0;32mnot\u001b[0m \u001b[0;32mNone\u001b[0m\u001b[0;34m:\u001b[0m\u001b[0;34m\u001b[0m\u001b[0;34m\u001b[0m\u001b[0m\n\u001b[1;32m    184\u001b[0m                     \u001b[0mnew_grid\u001b[0m \u001b[0;34m=\u001b[0m \u001b[0mcopy\u001b[0m\u001b[0;34m.\u001b[0m\u001b[0mdeepcopy\u001b[0m\u001b[0;34m(\u001b[0m\u001b[0mself\u001b[0m\u001b[0;34m.\u001b[0m\u001b[0mgrid\u001b[0m\u001b[0;34m)\u001b[0m\u001b[0;34m\u001b[0m\u001b[0;34m\u001b[0m\u001b[0m\n\u001b[0;32m--> 185\u001b[0;31m                     \u001b[0;32mdel\u001b[0m\u001b[0;34m(\u001b[0m\u001b[0mnew_grid\u001b[0m\u001b[0;34m.\u001b[0m\u001b[0maxes\u001b[0m\u001b[0;34m[\u001b[0m\u001b[0maxis\u001b[0m\u001b[0;34m]\u001b[0m\u001b[0;34m)\u001b[0m\u001b[0;34m\u001b[0m\u001b[0;34m\u001b[0m\u001b[0m\n\u001b[0m\u001b[1;32m    186\u001b[0m                 \u001b[0;32melse\u001b[0m\u001b[0;34m:\u001b[0m\u001b[0;34m\u001b[0m\u001b[0;34m\u001b[0m\u001b[0m\n\u001b[1;32m    187\u001b[0m                     \u001b[0mnew_grid\u001b[0m \u001b[0;34m=\u001b[0m \u001b[0mself\u001b[0m\u001b[0;34m.\u001b[0m\u001b[0mgrid\u001b[0m\u001b[0;34m\u001b[0m\u001b[0;34m\u001b[0m\u001b[0m\n",
      "\u001b[0;31mTypeError\u001b[0m: list indices must be integers or slices, not tuple"
     ]
    }
   ],
   "source": [
    "np.sum(g['m'], axis=(0,1))"
   ]
  },
  {
   "cell_type": "code",
   "execution_count": 130,
   "metadata": {},
   "outputs": [
    {
     "data": {
      "text/plain": [
       "Grid(\n",
       "Axis(\"x\",\n",
       "points = None,\n",
       "edges = array([[ 0.,  1.],\n",
       "       [ 1.,  2.],\n",
       "       [ 2.,  3.],\n",
       "       [ 3.,  4.],\n",
       "       [ 4.,  5.],\n",
       "       [ 5.,  6.],\n",
       "       [ 6.,  7.],\n",
       "       [ 7.,  8.],\n",
       "       [ 8.,  9.],\n",
       "       [ 9., 10.],\n",
       "       [10., 11.],\n",
       "       [11., 12.],\n",
       "       [12., 13.],\n",
       "       [13., 14.],\n",
       "       [14., 15.],\n",
       "       [15., 16.],\n",
       "       [16., 17.],\n",
       "       [17., 18.],\n",
       "       [18., 19.],\n",
       "       [19., 20.]]))\n",
       "nbins = 20),)"
      ]
     },
     "execution_count": 130,
     "metadata": {},
     "output_type": "execute_result"
    }
   ],
   "source": [
    "# because of this\n",
    "np.sum(g['m'], axis=-1).grid"
   ]
  },
  {
   "cell_type": "code",
   "execution_count": 131,
   "metadata": {},
   "outputs": [
    {
     "data": {
      "text/html": [
       "<table>\n",
       "<tbody>\n",
       "<tr><td><b>x</b></td><td><b>[0. 1.]</b>   </td><td><b>[1. 2.]</b>   </td><td><b>[2. 3.]</b>       </td><td><b>[3. 4.]</b>       </td><td><b>[4. 5.]</b>       </td><td><b>[5. 6.]</b>       </td><td>...</td><td><b>[14. 15.]</b>     </td><td><b>[15. 16.]</b>     </td><td><b>[16. 17.]</b>     </td><td><b>[17. 18.]</b>     </td><td><b>[18. 19.]</b>     </td><td><b>[19. 20.]</b>     </td></tr>\n",
       "<tr><td><b>m</b></td><td>[ 3 12 ... 30 39]</td><td>[48 57 ... 75 84]</td><td>[ 93 102 ... 120 129]</td><td>[138 147 ... 165 174]</td><td>[183 192 ... 210 219]</td><td>[228 237 ... 255 264]</td><td>...</td><td>[633 642 ... 660 669]</td><td>[678 687 ... 705 714]</td><td>[723 732 ... 750 759]</td><td>[768 777 ... 795 804]</td><td>[813 822 ... 840 849]</td><td>[858 867 ... 885 894]</td></tr>\n",
       "</tbody>\n",
       "</table>"
      ],
      "text/plain": [
       "GridArray(m : [[  3  12  21  30  39]\n",
       " [ 48  57  66  75  84]\n",
       " [ 93 102 111 120 129]\n",
       " [138 147 156 165 174]\n",
       " [183 192 201 210 219]\n",
       " [228 237 246 255 264]\n",
       " [273 282 291 300 309]\n",
       " [318 327 336 345 354]\n",
       " [363 372 381 390 399]\n",
       " [408 417 426 435 444]\n",
       " [453 462 471 480 489]\n",
       " [498 507 516 525 534]\n",
       " [543 552 561 570 579]\n",
       " [588 597 606 615 624]\n",
       " [633 642 651 660 669]\n",
       " [678 687 696 705 714]\n",
       " [723 732 741 750 759]\n",
       " [768 777 786 795 804]\n",
       " [813 822 831 840 849]\n",
       " [858 867 876 885 894]])"
      ]
     },
     "execution_count": 131,
     "metadata": {},
     "output_type": "execute_result"
    }
   ],
   "source": [
    "np.sum(g['m'], axis=-1)"
   ]
  },
  {
   "cell_type": "code",
   "execution_count": null,
   "metadata": {},
   "outputs": [],
   "source": []
  }
 ],
 "metadata": {
  "kernelspec": {
   "display_name": "Python 3",
   "language": "python",
   "name": "python3"
  },
  "language_info": {
   "codemirror_mode": {
    "name": "ipython",
    "version": 3
   },
   "file_extension": ".py",
   "mimetype": "text/x-python",
   "name": "python",
   "nbconvert_exporter": "python",
   "pygments_lexer": "ipython3",
   "version": "3.7.3"
  }
 },
 "nbformat": 4,
 "nbformat_minor": 4
}
