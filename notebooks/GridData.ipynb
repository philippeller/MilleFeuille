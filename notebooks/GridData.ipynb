{
 "cells": [
  {
   "cell_type": "code",
   "execution_count": 1,
   "metadata": {},
   "outputs": [],
   "source": [
    "%reload_ext autoreload\n",
    "%autoreload 2\n",
    "import numpy as np\n",
    "import pynocular as pn\n",
    "from matplotlib import pyplot as plt\n",
    "from uncertainties import unumpy"
   ]
  },
  {
   "cell_type": "code",
   "execution_count": 7,
   "metadata": {},
   "outputs": [],
   "source": [
    "g2d = pn.Grid(x=np.arange(10), y=np.arange(20))"
   ]
  },
  {
   "cell_type": "code",
   "execution_count": 8,
   "metadata": {},
   "outputs": [],
   "source": [
    "b = pn.GridArray(np.random.rand(g2d.size).reshape(g2d.shape), grid=g2d)"
   ]
  },
  {
   "cell_type": "code",
   "execution_count": 9,
   "metadata": {},
   "outputs": [],
   "source": [
    "f = np.sum(np.cos(b) -1.2 / b, axis='y')"
   ]
  },
  {
   "cell_type": "code",
   "execution_count": 10,
   "metadata": {},
   "outputs": [],
   "source": [
    "f[f>-50] *= 33"
   ]
  },
  {
   "cell_type": "code",
   "execution_count": 11,
   "metadata": {},
   "outputs": [],
   "source": [
    "f[0:2] *= 0"
   ]
  },
  {
   "cell_type": "code",
   "execution_count": 35,
   "metadata": {},
   "outputs": [],
   "source": [
    "a = pn.GridArray(np.arange(10), x=10)"
   ]
  },
  {
   "cell_type": "code",
   "execution_count": 36,
   "metadata": {},
   "outputs": [],
   "source": [
    "a[[2,7]] *= 0"
   ]
  },
  {
   "cell_type": "code",
   "execution_count": 37,
   "metadata": {},
   "outputs": [
    {
     "data": {
      "text/plain": [
       "Grid(\n",
       "Axis(\"x\",\n",
       "points = None,\n",
       "edges = edges: None)\n",
       "nbins = 10),)"
      ]
     },
     "execution_count": 37,
     "metadata": {},
     "output_type": "execute_result"
    }
   ],
   "source": [
    "a.grid"
   ]
  },
  {
   "cell_type": "code",
   "execution_count": 29,
   "metadata": {},
   "outputs": [],
   "source": [
    "f[3] *= 4"
   ]
  },
  {
   "cell_type": "code",
   "execution_count": 30,
   "metadata": {},
   "outputs": [
    {
     "data": {
      "text/plain": [
       "-10589.768427059766"
      ]
     },
     "execution_count": 30,
     "metadata": {},
     "output_type": "execute_result"
    }
   ],
   "source": [
    "f[3]"
   ]
  },
  {
   "cell_type": "code",
   "execution_count": 31,
   "metadata": {},
   "outputs": [
    {
     "data": {
      "text/html": [
       "<table>\n",
       "<tbody>\n",
       "<tr><td><b>x</b>     </td><td><b>0</b></td><td><b>1</b></td><td><b>2</b></td><td><b>3</b></td><td><b>4</b></td><td><b>5</b></td><td><b>6</b></td><td><b>7</b></td><td><b>8</b></td><td><b>9</b></td></tr>\n",
       "<tr><td><b>noname</b></td><td>-0      </td><td>-0      </td><td>-62     </td><td>-1.1e+04</td><td>-92     </td><td>-80     </td><td>-1.9e+02</td><td>-1.6e+02</td><td>-7.4e+02</td><td>-1e+02  </td></tr>\n",
       "</tbody>\n",
       "</table>"
      ],
      "text/plain": [
       "GridArray(noname : [-0.0 -0.0 -61.70332547960153 -10589.768427059766 -91.90802491243352\n",
       " -80.01776079823661 -194.16952737862783 -158.76165405022584\n",
       " -738.1146706682234 -100.16346171492927])"
      ]
     },
     "execution_count": 31,
     "metadata": {},
     "output_type": "execute_result"
    }
   ],
   "source": [
    "f"
   ]
  },
  {
   "cell_type": "code",
   "execution_count": 51,
   "metadata": {},
   "outputs": [
    {
     "data": {
      "text/plain": [
       "array([  -3232.42700708,   -4700.59616645,   -9339.26622676,\n",
       "        -12071.69587966,  -15599.19774619,  -17502.98516842,\n",
       "        -20668.14868224,  -22264.57108904, -274787.72195437,\n",
       "       -278765.14017335])"
      ]
     },
     "execution_count": 51,
     "metadata": {},
     "output_type": "execute_result"
    }
   ],
   "source": [
    "np.cumsum(f, axis='x')"
   ]
  },
  {
   "cell_type": "code",
   "execution_count": 52,
   "metadata": {},
   "outputs": [
    {
     "data": {
      "text/html": [
       "<table>\n",
       "<tbody>\n",
       "<tr><td><b>x</b>     </td><td><b>0</b></td><td><b>1</b></td><td><b>2</b></td><td><b>3</b></td><td><b>4</b></td><td><b>5</b></td><td><b>6</b></td><td><b>7</b></td><td><b>8</b></td><td><b>9</b></td></tr>\n",
       "<tr><td><b>noname</b></td><td>-3.2e+03</td><td>-1.5e+03</td><td>-4.6e+03</td><td>-2.7e+03</td><td>-3.5e+03</td><td>-1.9e+03</td><td>-3.2e+03</td><td>-1.6e+03</td><td>-2.5e+05</td><td>-4e+03  </td></tr>\n",
       "</tbody>\n",
       "</table>"
      ],
      "text/plain": [
       "GridArray(noname : [-3232.4270070783373 -1468.1691593751518 -4638.6700603016\n",
       " -2732.4296529080843 -3527.501866527901 -1903.7874222247524\n",
       " -3165.163513825642 -1596.4224067958553 -252523.15086532937\n",
       " -3977.418218984074])"
      ]
     },
     "execution_count": 52,
     "metadata": {},
     "output_type": "execute_result"
    }
   ],
   "source": [
    "f"
   ]
  },
  {
   "cell_type": "code",
   "execution_count": 53,
   "metadata": {},
   "outputs": [],
   "source": [
    "a = unumpy.uarray(np.arange(10), np.ones(10))"
   ]
  },
  {
   "cell_type": "code",
   "execution_count": 54,
   "metadata": {},
   "outputs": [],
   "source": [
    "a = np.arange(10)"
   ]
  },
  {
   "cell_type": "code",
   "execution_count": 40,
   "metadata": {},
   "outputs": [],
   "source": [
    "g = pn.Grid(x=np.arange(10))"
   ]
  },
  {
   "cell_type": "code",
   "execution_count": 55,
   "metadata": {},
   "outputs": [],
   "source": [
    "u = pn.GridArray(a, grid=g)"
   ]
  },
  {
   "cell_type": "code",
   "execution_count": 56,
   "metadata": {},
   "outputs": [
    {
     "data": {
      "text/plain": [
       "Grid(\n",
       "Axis(\"x\",\n",
       "points = array([0, 1, 2, 3, 4, 5, 6, 7, 8, 9]),\n",
       "edges = edges: None)\n",
       "nbins = 10),)"
      ]
     },
     "execution_count": 56,
     "metadata": {},
     "output_type": "execute_result"
    }
   ],
   "source": [
    "u.grid"
   ]
  },
  {
   "cell_type": "code",
   "execution_count": 60,
   "metadata": {},
   "outputs": [
    {
     "data": {
      "text/plain": [
       "9"
      ]
     },
     "execution_count": 60,
     "metadata": {},
     "output_type": "execute_result"
    }
   ],
   "source": [
    "np.max(u)"
   ]
  },
  {
   "cell_type": "code",
   "execution_count": 54,
   "metadata": {},
   "outputs": [
    {
     "data": {
      "text/plain": [
       "0"
      ]
     },
     "execution_count": 54,
     "metadata": {},
     "output_type": "execute_result"
    }
   ],
   "source": [
    "np.amax(np.empty_like(u))"
   ]
  },
  {
   "cell_type": "code",
   "execution_count": 45,
   "metadata": {},
   "outputs": [
    {
     "data": {
      "text/html": [
       "<table>\n",
       "<tbody>\n",
       "<tr><td><b>x</b>     </td><td><b>0</b></td><td><b>1</b></td><td><b>2</b></td><td><b>3</b></td><td><b>4</b></td><td><b>5</b></td><td><b>6</b></td><td><b>7</b></td><td><b>8</b></td><td><b>9</b></td></tr>\n",
       "<tr><td><b>noname</b></td><td>0       </td><td>1       </td><td>2       </td><td>3       </td><td>4       </td><td>5       </td><td>6       </td><td>7       </td><td>8       </td><td>9       </td></tr>\n",
       "</tbody>\n",
       "</table>"
      ],
      "text/plain": [
       "GridArray(noname : [0 1 2 3 4 5 6 7 8 9])"
      ]
     },
     "execution_count": 45,
     "metadata": {},
     "output_type": "execute_result"
    }
   ],
   "source": [
    "u.T"
   ]
  },
  {
   "cell_type": "code",
   "execution_count": 61,
   "metadata": {},
   "outputs": [
    {
     "data": {
      "text/plain": [
       "pynocular.griddata.GridArray"
      ]
     },
     "execution_count": 61,
     "metadata": {},
     "output_type": "execute_result"
    }
   ],
   "source": [
    "type(l)"
   ]
  },
  {
   "cell_type": "code",
   "execution_count": 62,
   "metadata": {},
   "outputs": [
    {
     "data": {
      "text/html": [
       "<table>\n",
       "<tbody>\n",
       "<tr><td><b>x</b>     </td><td><b>0</b></td><td><b>1</b></td><td><b>2</b></td><td><b>3</b></td><td><b>4</b></td><td><b>5</b></td><td><b>6</b></td><td><b>7</b></td><td><b>8</b></td><td><b>9</b></td></tr>\n",
       "<tr><td><b>noname</b></td><td>1       </td><td>1       </td><td>1       </td><td>1       </td><td>1       </td><td>1       </td><td>1       </td><td>1       </td><td>1       </td><td>1       </td></tr>\n",
       "</tbody>\n",
       "</table>"
      ],
      "text/plain": [
       "GridArray(noname : [1 1 1 1 1 1 1 1 1 1])"
      ]
     },
     "execution_count": 62,
     "metadata": {},
     "output_type": "execute_result"
    }
   ],
   "source": [
    "l"
   ]
  },
  {
   "cell_type": "code",
   "execution_count": 63,
   "metadata": {},
   "outputs": [
    {
     "data": {
      "text/html": [
       "<table>\n",
       "<tbody>\n",
       "<tr><td><b>x</b>     </td><td><b>0</b></td><td><b>1</b></td><td><b>2</b></td><td><b>3</b></td><td><b>4</b></td><td><b>5</b></td><td><b>6</b></td><td><b>7</b></td><td><b>8</b></td><td><b>9</b></td></tr>\n",
       "<tr><td><b>noname</b></td><td>1       </td><td>0.54    </td><td>-0.42   </td><td>-0.99   </td><td>-0.65   </td><td>0.28    </td><td>0.96    </td><td>0.75    </td><td>-0.15   </td><td>-0.91   </td></tr>\n",
       "</tbody>\n",
       "</table>"
      ],
      "text/plain": [
       "GridArray(noname : [1.0 0.5403023058681398 -0.4161468365471424 -0.9899924966004454\n",
       " -0.6536436208636119 0.28366218546322625 0.960170286650366\n",
       " 0.7539022543433046 -0.14550003380861354 -0.9111302618846769])"
      ]
     },
     "execution_count": 63,
     "metadata": {},
     "output_type": "execute_result"
    }
   ],
   "source": [
    "unumpy.cos(u)"
   ]
  },
  {
   "cell_type": "code",
   "execution_count": 64,
   "metadata": {},
   "outputs": [
    {
     "data": {
      "text/html": [
       "<table>\n",
       "<tbody>\n",
       "<tr><td><b>x</b>     </td><td><b>0</b></td><td><b>1</b></td><td><b>2</b></td><td><b>3</b></td><td><b>4</b></td><td><b>5</b></td><td><b>6</b></td><td><b>7</b></td><td><b>8</b></td><td><b>9</b></td></tr>\n",
       "<tr><td><b>noname</b></td><td>1       </td><td>1       </td><td>1       </td><td>1       </td><td>1       </td><td>1       </td><td>1       </td><td>1       </td><td>1       </td><td>1       </td></tr>\n",
       "</tbody>\n",
       "</table>"
      ],
      "text/plain": [
       "GridArray(noname : [1 1 1 1 1 1 1 1 1 1])"
      ]
     },
     "execution_count": 64,
     "metadata": {},
     "output_type": "execute_result"
    }
   ],
   "source": [
    "np.ones_like(u)"
   ]
  },
  {
   "cell_type": "code",
   "execution_count": 65,
   "metadata": {},
   "outputs": [
    {
     "data": {
      "text/html": [
       "<table>\n",
       "<tbody>\n",
       "<tr><td><b>x</b>     </td><td><b>0</b></td><td><b>1</b></td><td><b>2</b></td><td><b>3</b></td><td><b>4</b></td><td><b>5</b></td><td><b>6</b></td><td><b>7</b></td><td><b>8</b></td><td><b>9</b></td></tr>\n",
       "<tr><td><b>noname</b></td><td>0       </td><td>1       </td><td>1.4     </td><td>1.7     </td><td>2       </td><td>2.2     </td><td>2.4     </td><td>2.6     </td><td>2.8     </td><td>3       </td></tr>\n",
       "</tbody>\n",
       "</table>"
      ],
      "text/plain": [
       "GridArray(noname : [0.0 1.0 1.4142135623730951 1.7320508075688772 2.0 2.23606797749979\n",
       " 2.449489742783178 2.6457513110645907 2.8284271247461903 3.0])"
      ]
     },
     "execution_count": 65,
     "metadata": {},
     "output_type": "execute_result"
    }
   ],
   "source": [
    "np.sqrt(u)"
   ]
  },
  {
   "cell_type": "code",
   "execution_count": 66,
   "metadata": {},
   "outputs": [
    {
     "data": {
      "text/plain": [
       "array([10.        , 10.        ,  5.        ,  3.33333333,  2.5       ,\n",
       "        2.        ,  1.66666667,  1.42857143,  1.25      ,  1.11111111])"
      ]
     },
     "execution_count": 66,
     "metadata": {},
     "output_type": "execute_result"
    }
   ],
   "source": [
    "np.asarray(10 / u)"
   ]
  },
  {
   "cell_type": "code",
   "execution_count": 67,
   "metadata": {},
   "outputs": [
    {
     "data": {
      "text/html": [
       "<table>\n",
       "<tbody>\n",
       "<tr><td><b>x</b>     </td><td><b>0</b></td><td><b>1</b></td><td><b>2</b></td><td><b>3</b></td><td><b>4</b></td><td><b>5</b></td><td><b>6</b></td><td><b>7</b></td><td><b>8</b></td><td><b>9</b></td></tr>\n",
       "<tr><td><b>noname</b></td><td>0       </td><td>1       </td><td>2       </td><td>3       </td><td>4       </td><td>5       </td><td>6       </td><td>7       </td><td>8       </td><td>9       </td></tr>\n",
       "</tbody>\n",
       "</table>"
      ],
      "text/plain": [
       "GridArray(noname : [0 1 2 3 4 5 6 7 8 9])"
      ]
     },
     "execution_count": 67,
     "metadata": {},
     "output_type": "execute_result"
    }
   ],
   "source": [
    "u"
   ]
  },
  {
   "cell_type": "code",
   "execution_count": 68,
   "metadata": {},
   "outputs": [
    {
     "data": {
      "text/html": [
       "<table>\n",
       "<tbody>\n",
       "<tr><td><b>x</b>     </td><td><b>0</b></td><td><b>1</b></td><td><b>2</b></td><td><b>3</b></td><td><b>4</b></td><td><b>5</b></td><td><b>6</b></td><td><b>7</b></td><td><b>8</b></td><td><b>9</b></td></tr>\n",
       "<tr><td><b>noname</b></td><td>--      </td><td>--      </td><td>--      </td><td>1.7     </td><td>2       </td><td>2.2     </td><td>2.4     </td><td>2.6     </td><td>2.8     </td><td>3       </td></tr>\n",
       "</tbody>\n",
       "</table>"
      ],
      "text/plain": [
       "GridArray(noname : [-- -- -- 1.7320508075688772 2.0 2.23606797749979 2.449489742783178\n",
       " 2.6457513110645907 2.8284271247461903 3.0])"
      ]
     },
     "execution_count": 68,
     "metadata": {},
     "output_type": "execute_result"
    }
   ],
   "source": [
    "np.sqrt(u[u>2])"
   ]
  },
  {
   "cell_type": "code",
   "execution_count": 62,
   "metadata": {},
   "outputs": [
    {
     "data": {
      "text/html": [
       "<table>\n",
       "<tbody>\n",
       "<tr><td><b>x</b>     </td><td><b>0</b></td><td><b>1</b></td><td><b>2</b></td></tr>\n",
       "<tr><td><b>noname</b></td><td>0       </td><td>1       </td><td>2       </td></tr>\n",
       "</tbody>\n",
       "</table>"
      ],
      "text/plain": [
       "GridArray(noname : [0 1 2])"
      ]
     },
     "execution_count": 62,
     "metadata": {},
     "output_type": "execute_result"
    }
   ],
   "source": [
    "u[0:3]"
   ]
  },
  {
   "cell_type": "code",
   "execution_count": 63,
   "metadata": {},
   "outputs": [],
   "source": [
    "g = pn.GridData(x=np.arange(20), y=np.arange(5))\n",
    "#g = pn.GridData(y=np.arange(5))"
   ]
  },
  {
   "cell_type": "code",
   "execution_count": 64,
   "metadata": {},
   "outputs": [],
   "source": [
    "g.grid['x'].edges = pn.edges(points=g.grid['x'].points)"
   ]
  },
  {
   "cell_type": "code",
   "execution_count": 65,
   "metadata": {},
   "outputs": [],
   "source": [
    "e = pn.edges(points=np.arange(11))"
   ]
  },
  {
   "cell_type": "code",
   "execution_count": 66,
   "metadata": {},
   "outputs": [
    {
     "data": {
      "text/plain": [
       "-0.5"
      ]
     },
     "execution_count": 66,
     "metadata": {},
     "output_type": "execute_result"
    }
   ],
   "source": [
    "e[0,0]"
   ]
  },
  {
   "cell_type": "code",
   "execution_count": 67,
   "metadata": {},
   "outputs": [],
   "source": [
    "a = pn.GridArray(np.random.rand(g.grid.size).reshape(g.shape), grid=g.grid)"
   ]
  },
  {
   "cell_type": "code",
   "execution_count": 68,
   "metadata": {},
   "outputs": [
    {
     "data": {
      "text/html": [
       "<table>\n",
       "<tbody>\n",
       "<tr><td><b>y \\ x</b></td><td><b>[-0.5 | 0 | 0.5]</b></td><td><b>[0.5 | 1 | 1.5]</b></td><td><b>[1.5 | 2 | 2.5]</b></td><td><b>[2.5 | 3 | 3.5]</b></td><td><b>[3.5 | 4 | 4.5]</b></td><td><b>[4.5 | 5 | 5.5]</b></td><td>...</td><td><b>[14 | 14 | 14]</b></td><td><b>[14 | 15 | 16]</b></td><td><b>[16 | 16 | 16]</b></td><td><b>[16 | 17 | 18]</b></td><td><b>[18 | 18 | 18]</b></td><td><b>[18 | 19 | 20]</b></td></tr>\n",
       "<tr><td><b>0</b>    </td><td>0                      </td><td>0                     </td><td>0                     </td><td>0                     </td><td>0                     </td><td>0                     </td><td>...</td><td>0                    </td><td>0                    </td><td>0                    </td><td>0                    </td><td>0                    </td><td>0                    </td></tr>\n",
       "<tr><td><b>1</b>    </td><td>0                      </td><td>0                     </td><td>0                     </td><td>0                     </td><td>0                     </td><td>0                     </td><td>...</td><td>0                    </td><td>0                    </td><td>0                    </td><td>0                    </td><td>0                    </td><td>0                    </td></tr>\n",
       "<tr><td><b>2</b>    </td><td>0                      </td><td>0                     </td><td>0                     </td><td>0                     </td><td>0                     </td><td>0                     </td><td>...</td><td>0                    </td><td>0                    </td><td>0                    </td><td>0                    </td><td>0                    </td><td>0                    </td></tr>\n",
       "<tr><td><b>3</b>    </td><td>0                      </td><td>0                     </td><td>0                     </td><td>0                     </td><td>0                     </td><td>0                     </td><td>...</td><td>0                    </td><td>0                    </td><td>0                    </td><td>0                    </td><td>0                    </td><td>0                    </td></tr>\n",
       "<tr><td><b>4</b>    </td><td>0                      </td><td>0                     </td><td>0                     </td><td>0                     </td><td>0                     </td><td>0                     </td><td>...</td><td>0                    </td><td>0                    </td><td>0                    </td><td>0                    </td><td>0                    </td><td>0                    </td></tr>\n",
       "</tbody>\n",
       "</table>"
      ],
      "text/plain": [
       "GridArray(noname : [[0 0 0 0 0]\n",
       " [0 0 0 0 0]\n",
       " [0 0 0 0 0]\n",
       " [0 0 0 0 0]\n",
       " [0 0 0 0 0]\n",
       " [0 0 0 0 0]\n",
       " [0 0 0 0 0]\n",
       " [0 0 0 0 0]\n",
       " [0 0 0 0 0]\n",
       " [0 0 0 0 0]\n",
       " [0 0 0 0 0]\n",
       " [0 0 0 0 0]\n",
       " [0 0 0 0 0]\n",
       " [0 0 0 0 0]\n",
       " [0 0 0 0 0]\n",
       " [0 0 0 0 0]\n",
       " [0 0 0 0 0]\n",
       " [0 0 0 0 0]\n",
       " [0 0 0 0 0]\n",
       " [0 0 0 0 0]])"
      ]
     },
     "execution_count": 68,
     "metadata": {},
     "output_type": "execute_result"
    }
   ],
   "source": [
    "a.astype(np.int)"
   ]
  },
  {
   "cell_type": "code",
   "execution_count": 69,
   "metadata": {},
   "outputs": [
    {
     "data": {
      "text/html": [
       "<table>\n",
       "<tbody>\n",
       "<tr><td><b>y \\ x</b></td><td><b>[-0.5 | 0 | 0.5]</b></td><td><b>[0.5 | 1 | 1.5]</b></td><td><b>[1.5 | 2 | 2.5]</b></td><td><b>[2.5 | 3 | 3.5]</b></td><td><b>[3.5 | 4 | 4.5]</b></td><td><b>[4.5 | 5 | 5.5]</b></td><td>...</td><td><b>[14 | 14 | 14]</b></td><td><b>[14 | 15 | 16]</b></td><td><b>[16 | 16 | 16]</b></td><td><b>[16 | 17 | 18]</b></td><td><b>[18 | 18 | 18]</b></td><td><b>[18 | 19 | 20]</b></td></tr>\n",
       "<tr><td><b>0</b>    </td><td>1                      </td><td>1                     </td><td>1                     </td><td>1                     </td><td>1                     </td><td>1                     </td><td>...</td><td>1                    </td><td>1                    </td><td>1                    </td><td>1                    </td><td>1                    </td><td>1                    </td></tr>\n",
       "<tr><td><b>1</b>    </td><td>1                      </td><td>1                     </td><td>1                     </td><td>1                     </td><td>1                     </td><td>1                     </td><td>...</td><td>1                    </td><td>1                    </td><td>1                    </td><td>1                    </td><td>1                    </td><td>1                    </td></tr>\n",
       "<tr><td><b>2</b>    </td><td>1                      </td><td>1                     </td><td>1                     </td><td>1                     </td><td>1                     </td><td>1                     </td><td>...</td><td>1                    </td><td>1                    </td><td>1                    </td><td>1                    </td><td>1                    </td><td>1                    </td></tr>\n",
       "<tr><td><b>3</b>    </td><td>1                      </td><td>1                     </td><td>1                     </td><td>1                     </td><td>1                     </td><td>1                     </td><td>...</td><td>1                    </td><td>1                    </td><td>1                    </td><td>1                    </td><td>1                    </td><td>1                    </td></tr>\n",
       "<tr><td><b>4</b>    </td><td>1                      </td><td>1                     </td><td>1                     </td><td>1                     </td><td>1                     </td><td>1                     </td><td>...</td><td>1                    </td><td>1                    </td><td>1                    </td><td>1                    </td><td>1                    </td><td>1                    </td></tr>\n",
       "</tbody>\n",
       "</table>"
      ],
      "text/plain": [
       "GridArray(noname : [[1. 1. 1. 1. 1.]\n",
       " [1. 1. 1. 1. 1.]\n",
       " [1. 1. 1. 1. 1.]\n",
       " [1. 1. 1. 1. 1.]\n",
       " [1. 1. 1. 1. 1.]\n",
       " [1. 1. 1. 1. 1.]\n",
       " [1. 1. 1. 1. 1.]\n",
       " [1. 1. 1. 1. 1.]\n",
       " [1. 1. 1. 1. 1.]\n",
       " [1. 1. 1. 1. 1.]\n",
       " [1. 1. 1. 1. 1.]\n",
       " [1. 1. 1. 1. 1.]\n",
       " [1. 1. 1. 1. 1.]\n",
       " [1. 1. 1. 1. 1.]\n",
       " [1. 1. 1. 1. 1.]\n",
       " [1. 1. 1. 1. 1.]\n",
       " [1. 1. 1. 1. 1.]\n",
       " [1. 1. 1. 1. 1.]\n",
       " [1. 1. 1. 1. 1.]\n",
       " [1. 1. 1. 1. 1.]])"
      ]
     },
     "execution_count": 69,
     "metadata": {},
     "output_type": "execute_result"
    }
   ],
   "source": [
    "np.ones_like(a)"
   ]
  },
  {
   "cell_type": "code",
   "execution_count": 70,
   "metadata": {},
   "outputs": [
    {
     "data": {
      "text/plain": [
       "True"
      ]
     },
     "execution_count": 70,
     "metadata": {},
     "output_type": "execute_result"
    }
   ],
   "source": [
    "np.all(np.abs(-a) == a)"
   ]
  },
  {
   "cell_type": "code",
   "execution_count": 71,
   "metadata": {},
   "outputs": [
    {
     "data": {
      "text/html": [
       "<table>\n",
       "<tbody>\n",
       "<tr><td><b>y \\ x</b></td><td><b>[-0.5 | 0 | 0.5]</b></td><td><b>[0.5 | 1 | 1.5]</b></td><td><b>[1.5 | 2 | 2.5]</b></td><td><b>[2.5 | 3 | 3.5]</b></td><td><b>[3.5 | 4 | 4.5]</b></td><td><b>[4.5 | 5 | 5.5]</b></td><td>...</td><td><b>[14 | 14 | 14]</b></td><td><b>[14 | 15 | 16]</b></td><td><b>[16 | 16 | 16]</b></td><td><b>[16 | 17 | 18]</b></td><td><b>[18 | 18 | 18]</b></td><td><b>[18 | 19 | 20]</b></td></tr>\n",
       "<tr><td><b>0</b>    </td><td>0.52                   </td><td>0.28                  </td><td>0.98                  </td><td>0.55                  </td><td>0.66                  </td><td>0.5                   </td><td>...</td><td>0.051                </td><td>0.46                 </td><td>0.3                  </td><td>0.78                 </td><td>0.048                </td><td>0.3                  </td></tr>\n",
       "<tr><td><b>1</b>    </td><td>0.75                   </td><td>0.31                  </td><td>0.49                  </td><td>0.81                  </td><td>0.21                  </td><td>0.38                  </td><td>...</td><td>0.7                  </td><td>0.026                </td><td>0.071                </td><td>0.37                 </td><td>0.71                 </td><td>0.52                 </td></tr>\n",
       "<tr><td><b>2</b>    </td><td>0.85                   </td><td>0.23                  </td><td>0.61                  </td><td>0.43                  </td><td>0.031                 </td><td>0.31                  </td><td>...</td><td>0.013                </td><td>0.55                 </td><td>0.33                 </td><td>0.18                 </td><td>0.36                 </td><td>0.59                 </td></tr>\n",
       "<tr><td><b>3</b>    </td><td>0.85                   </td><td>0.99                  </td><td>0.31                  </td><td>0.069                 </td><td>0.36                  </td><td>0.77                  </td><td>...</td><td>0.044                </td><td>0.56                 </td><td>0.59                 </td><td>0.79                 </td><td>0.18                 </td><td>0.33                 </td></tr>\n",
       "<tr><td><b>4</b>    </td><td>0.019                  </td><td>0.47                  </td><td>0.14                  </td><td>0.85                  </td><td>0.34                  </td><td>0.2                   </td><td>...</td><td>0.19                 </td><td>0.48                 </td><td>0.71                 </td><td>0.85                 </td><td>0.75                 </td><td>0.73                 </td></tr>\n",
       "</tbody>\n",
       "</table>"
      ],
      "text/plain": [
       "GridArray(noname : [[0.5177375784780318 0.7482326780888998 0.8499712068554451\n",
       "  0.8518404861918178 0.019097036433522008]\n",
       " [0.2825374295847046 0.3078454393308818 0.22770422399035217\n",
       "  0.9859818202784648 0.4670272354156978]\n",
       " [0.975256130012089 0.49466409786460797 0.6126701545749088\n",
       "  0.3093481853529876 0.1375260306816375]\n",
       " [0.5543585190346046 0.8086064142542737 0.43295253799597966\n",
       "  0.06895191445469673 0.8521442534199218]\n",
       " [0.6553369653470313 0.21350804235552734 0.030903727007074\n",
       "  0.3603018218424344 0.34186607738001784]\n",
       " [0.5000146221488848 0.376138475042576 0.3138663695188739\n",
       "  0.7721956384361709 0.20419148402570597]\n",
       " [0.9194679040146779 0.20059368509683395 0.23005955871396477\n",
       "  0.49256711106822804 0.9359467455647044]\n",
       " [0.4399372810911645 0.8194539899075952 0.3699580048857246\n",
       "  0.24159016746485407 0.749391401134812]\n",
       " [0.26918439277572215 0.6402171981879229 0.16347992871767547\n",
       "  0.3768252307692581 0.7581201473071066]\n",
       " [0.0377365690648066 0.10964930531682471 0.6487628759035273\n",
       "  0.8275656201157255 0.5848968750412501]\n",
       " [0.2728338246695904 0.11503790806870173 0.44223876218950975\n",
       "  0.5724314397254651 0.17301331389297525]\n",
       " [0.9611814982883019 0.5162391533561697 0.17170834235621146\n",
       "  0.1432169199689548 0.6913062232535954]\n",
       " [0.7399577311403259 0.9321319185108194 0.7337868607682602\n",
       "  0.3979076388973811 0.7299725716244725]\n",
       " [0.7663881120186093 0.1495134902287205 0.07727664767624987\n",
       "  0.26727646766190527 0.5371848999183819]\n",
       " [0.05115628569152286 0.6980608893994958 0.013004145095709796\n",
       "  0.043629696189747436 0.18777604746289533]\n",
       " [0.4576272745104428 0.025518305402210784 0.5515129354712209\n",
       "  0.5607512367350058 0.4805068285688505]\n",
       " [0.29909591858864903 0.07054671264962253 0.3269378729477447\n",
       "  0.5867634245234749 0.7091359400441968]\n",
       " [0.7766958041153025 0.36543805120134787 0.18194455958956512\n",
       "  0.7936493321410822 0.8518822062245343]\n",
       " [0.04838825278555248 0.7097410777959414 0.360971036285504\n",
       "  0.17702063359011921 0.7532357148142997]\n",
       " [0.3001339653635332 0.5215963427685155 0.5948930912102204\n",
       "  0.32864982774036344 0.725896955752525]])"
      ]
     },
     "execution_count": 71,
     "metadata": {},
     "output_type": "execute_result"
    }
   ],
   "source": [
    "np.abs(-a)"
   ]
  },
  {
   "cell_type": "code",
   "execution_count": 42,
   "metadata": {},
   "outputs": [
    {
     "data": {
      "text/html": [
       "<table>\n",
       "<tbody>\n",
       "<tr><td><b>x</b>     </td><td><b>[-0.5 | 0 | 0.5]</b></td><td><b>[0.5 | 1 | 1.5]</b></td><td><b>[1.5 | 2 | 2.5]</b></td><td><b>[2.5 | 3 | 3.5]</b></td><td><b>[3.5 | 4 | 4.5]</b></td><td><b>[4.5 | 5 | 5.5]</b></td><td>...</td><td><b>[14 | 14 | 14]</b></td><td><b>[14 | 15 | 16]</b></td><td><b>[16 | 16 | 16]</b></td><td><b>[16 | 17 | 18]</b></td><td><b>[18 | 18 | 18]</b></td><td><b>[18 | 19 | 20]</b></td></tr>\n",
       "<tr><td><b>noname</b></td><td>1.4                    </td><td>2.4                   </td><td>2.8                   </td><td>3.6                   </td><td>2.7                   </td><td>2.8                   </td><td>...</td><td>2.8                  </td><td>3.4                  </td><td>2                    </td><td>2.6                  </td><td>2.4                  </td><td>1.5                  </td></tr>\n",
       "</tbody>\n",
       "</table>"
      ],
      "text/plain": [
       "GridArray(noname : [1.40679427 2.44346462 2.83740007 3.61119159 2.7245762  2.83807035\n",
       " 3.22291119 1.8606903  1.94355386 2.42163508 2.07043905 2.66290041\n",
       " 2.35678845 2.93104888 2.78202353 3.43038301 1.95638917 2.59294331\n",
       " 2.44607484 1.51130683])"
      ]
     },
     "execution_count": 42,
     "metadata": {},
     "output_type": "execute_result"
    }
   ],
   "source": [
    "np.sum(a, axis='y')"
   ]
  },
  {
   "cell_type": "code",
   "execution_count": 74,
   "metadata": {},
   "outputs": [
    {
     "data": {
      "text/html": [
       "<table>\n",
       "<tbody>\n",
       "<tr><td><b>y \\ x</b></td><td><b>[-0.5 | 0 | 0.5]</b></td><td><b>[0.5 | 1 | 1.5]</b></td><td><b>[1.5 | 2 | 2.5]</b></td><td><b>[2.5 | 3 | 3.5]</b></td><td><b>[3.5 | 4 | 4.5]</b></td><td><b>[4.5 | 5 | 5.5]</b></td><td>...</td><td><b>[14 | 14 | 14]</b></td><td><b>[14 | 15 | 16]</b></td><td><b>[16 | 16 | 16]</b></td><td><b>[16 | 17 | 18]</b></td><td><b>[18 | 18 | 18]</b></td><td><b>[18 | 19 | 20]</b></td></tr>\n",
       "<tr><td><b>0</b>    </td><td>0.52                   </td><td>0.28                  </td><td>0.98                  </td><td>0.55                  </td><td>0.66                  </td><td>0.5                   </td><td>...</td><td>0.051                </td><td>0.46                 </td><td>0.3                  </td><td>0.78                 </td><td>0.048                </td><td>0.3                  </td></tr>\n",
       "<tr><td><b>1</b>    </td><td>0.75                   </td><td>0.31                  </td><td>0.49                  </td><td>0.81                  </td><td>0.21                  </td><td>0.38                  </td><td>...</td><td>0.7                  </td><td>0.026                </td><td>0.071                </td><td>0.37                 </td><td>0.71                 </td><td>0.52                 </td></tr>\n",
       "<tr><td><b>2</b>    </td><td>0.85                   </td><td>0.23                  </td><td>0.61                  </td><td>0.43                  </td><td>0.031                 </td><td>0.31                  </td><td>...</td><td>0.013                </td><td>0.55                 </td><td>0.33                 </td><td>0.18                 </td><td>0.36                 </td><td>0.59                 </td></tr>\n",
       "<tr><td><b>3</b>    </td><td>0.85                   </td><td>0.99                  </td><td>0.31                  </td><td>0.069                 </td><td>0.36                  </td><td>0.77                  </td><td>...</td><td>0.044                </td><td>0.56                 </td><td>0.59                 </td><td>0.79                 </td><td>0.18                 </td><td>0.33                 </td></tr>\n",
       "<tr><td><b>4</b>    </td><td>0.019                  </td><td>0.47                  </td><td>0.14                  </td><td>0.85                  </td><td>0.34                  </td><td>0.2                   </td><td>...</td><td>0.19                 </td><td>0.48                 </td><td>0.71                 </td><td>0.85                 </td><td>0.75                 </td><td>0.73                 </td></tr>\n",
       "</tbody>\n",
       "</table>"
      ],
      "text/plain": [
       "GridArray(noname : [[0.51773758 0.74823268 0.84997121 0.85184049 0.01909704]\n",
       " [0.28253743 0.30784544 0.22770422 0.98598182 0.46702724]\n",
       " [0.97525613 0.4946641  0.61267015 0.30934819 0.13752603]\n",
       " [0.55435852 0.80860641 0.43295254 0.06895191 0.85214425]\n",
       " [0.65533697 0.21350804 0.03090373 0.36030182 0.34186608]\n",
       " [0.50001462 0.37613848 0.31386637 0.77219564 0.20419148]\n",
       " [0.9194679  0.20059369 0.23005956 0.49256711 0.93594675]\n",
       " [0.43993728 0.81945399 0.369958   0.24159017 0.7493914 ]\n",
       " [0.26918439 0.6402172  0.16347993 0.37682523 0.75812015]\n",
       " [0.03773657 0.10964931 0.64876288 0.82756562 0.58489688]\n",
       " [0.27283382 0.11503791 0.44223876 0.57243144 0.17301331]\n",
       " [0.9611815  0.51623915 0.17170834 0.14321692 0.69130622]\n",
       " [0.73995773 0.93213192 0.73378686 0.39790764 0.72997257]\n",
       " [0.76638811 0.14951349 0.07727665 0.26727647 0.5371849 ]\n",
       " [0.05115629 0.69806089 0.01300415 0.0436297  0.18777605]\n",
       " [0.45762727 0.02551831 0.55151294 0.56075124 0.48050683]\n",
       " [0.29909592 0.07054671 0.32693787 0.58676342 0.70913594]\n",
       " [0.7766958  0.36543805 0.18194456 0.79364933 0.85188221]\n",
       " [0.04838825 0.70974108 0.36097104 0.17702063 0.75323571]\n",
       " [0.30013397 0.52159634 0.59489309 0.32864983 0.72589696]])"
      ]
     },
     "execution_count": 74,
     "metadata": {},
     "output_type": "execute_result"
    }
   ],
   "source": [
    "a"
   ]
  },
  {
   "cell_type": "code",
   "execution_count": 84,
   "metadata": {},
   "outputs": [
    {
     "data": {
      "text/html": [
       "<table>\n",
       "<tbody>\n",
       "<tr><td><b>y \\ x</b></td><td><b>[-0.5 | 0 | 0.5]</b></td><td><b>[0.5 | 1 | 1.5]</b></td><td><b>[1.5 | 2 | 2.5]</b></td><td><b>[2.5 | 3 | 3.5]</b></td><td><b>[3.5 | 4 | 4.5]</b></td><td><b>[4.5 | 5 | 5.5]</b></td><td>...</td><td><b>[14 | 14 | 14]</b></td><td><b>[14 | 15 | 16]</b></td><td><b>[16 | 16 | 16]</b></td><td><b>[16 | 17 | 18]</b></td><td><b>[18 | 18 | 18]</b></td><td><b>[18 | 19 | 20]</b></td></tr>\n",
       "<tr><td><b>0</b>    </td><td>1.9                    </td><td>3.5                   </td><td>1                     </td><td>1.8                   </td><td>1.5                   </td><td>2                     </td><td>...</td><td>20                   </td><td>2.2                  </td><td>3.3                  </td><td>1.3                  </td><td>21                   </td><td>3.3                  </td></tr>\n",
       "<tr><td><b>1</b>    </td><td>1.3                    </td><td>3.2                   </td><td>2                     </td><td>1.2                   </td><td>4.7                   </td><td>2.7                   </td><td>...</td><td>1.4                  </td><td>39                   </td><td>14                   </td><td>2.7                  </td><td>1.4                  </td><td>1.9                  </td></tr>\n",
       "<tr><td><b>2</b>    </td><td>1.2                    </td><td>4.4                   </td><td>1.6                   </td><td>2.3                   </td><td>32                    </td><td>3.2                   </td><td>...</td><td>77                   </td><td>1.8                  </td><td>3.1                  </td><td>5.5                  </td><td>2.8                  </td><td>1.7                  </td></tr>\n",
       "<tr><td><b>3</b>    </td><td>1.2                    </td><td>1                     </td><td>3.2                   </td><td>15                    </td><td>2.8                   </td><td>1.3                   </td><td>...</td><td>23                   </td><td>1.8                  </td><td>1.7                  </td><td>1.3                  </td><td>5.6                  </td><td>3                    </td></tr>\n",
       "<tr><td><b>4</b>    </td><td>52                     </td><td>2.1                   </td><td>7.3                   </td><td>1.2                   </td><td>2.9                   </td><td>4.9                   </td><td>...</td><td>5.3                  </td><td>2.1                  </td><td>1.4                  </td><td>1.2                  </td><td>1.3                  </td><td>1.4                  </td></tr>\n",
       "</tbody>\n",
       "</table>"
      ],
      "text/plain": [
       "GridArray(noname : [[1.9314804286365532 1.336482660118711 1.1765104416884915\n",
       "  1.1739287063832036 52.364145791995696]\n",
       " [3.53935406529987 3.248383351637602 4.39166205385092 1.0142174829527548\n",
       "  2.141202748293484]\n",
       " [1.0253716631215681 2.0215738403430787 1.632199630637849\n",
       "  3.232603413719499 7.27135070388911]\n",
       " [1.8038867730245471 1.236695606628642 2.3097219954610497\n",
       "  14.502860550116083 1.173510231380059]\n",
       " [1.5259325398658896 4.683664319936152 32.358556615876644\n",
       "  2.7754508564136975 2.9251220468078247]\n",
       " [1.9999415131148686 2.658595348127595 3.1860692865339506\n",
       "  1.2950086095088185 4.897363887487631]\n",
       " [1.0875855433710022 4.985201799933349 4.346700504817144\n",
       "  2.0301802079950173 1.0684368579076036]\n",
       " [2.2730512802182328 1.2203247678527551 2.703009495115229\n",
       "  4.13924130478314 1.334416165552058]\n",
       " [3.714925630302703 1.5619699108840093 6.116958869776409\n",
       "  2.653750116356543 1.319052136461571]\n",
       " [26.49949438388683 9.119984819881562 1.5413952264258453\n",
       "  1.2083633922107124 1.7097030992505724]\n",
       " [3.665234694455604 8.692786723857935 2.261221958584165\n",
       "  1.7469340965611435 5.779902005799348]\n",
       " [1.0403862348378814 1.9370867039022677 5.8238288616489315\n",
       "  6.982415207761558 1.4465369562182646]\n",
       " [1.3514285450588253 1.0728095242115592 1.3627935487329659\n",
       "  2.513146022456473 1.3699144856561003]\n",
       " [1.3048219098363547 6.68835968226168 12.940519938047714\n",
       "  3.741444238424172 1.861556421544866]\n",
       " [19.54793993508623 1.432539790132414 76.89855754761692 22.92016876878896\n",
       "  5.32549285977276]\n",
       " [2.1851844409181527 39.187555138883354 1.8131940987849813\n",
       "  1.783321969689333 2.0811358768374144]\n",
       " [3.3434090465651405 14.175004935617658 3.0586850981312668\n",
       "  1.7042643733496594 1.41016685734145]\n",
       " [1.2875053459816908 2.7364419132396898 5.496179727801831\n",
       "  1.2600023202970907 1.173871214462749]\n",
       " [20.666172933166436 1.4089645242254265 2.7703053693456634\n",
       "  5.649058980974166 1.327605662254792]\n",
       " [3.331845493690671 1.9171913566192316 1.6809743040815126\n",
       "  3.0427522414221673 1.3776059977594437]])"
      ]
     },
     "execution_count": 84,
     "metadata": {},
     "output_type": "execute_result"
    }
   ],
   "source": [
    "1/np.fabs(a)"
   ]
  },
  {
   "cell_type": "code",
   "execution_count": null,
   "metadata": {},
   "outputs": [],
   "source": []
  },
  {
   "cell_type": "code",
   "execution_count": 81,
   "metadata": {},
   "outputs": [
    {
     "data": {
      "text/html": [
       "<table>\n",
       "<tbody>\n",
       "<tr><td><b>x</b>     </td><td><b>[-0.5 | 0 | 0.5]</b>  </td><td><b>[0.5 | 1 | 1.5]</b>   </td><td><b>[1.5 | 2 | 2.5]</b>   </td><td><b>[2.5 | 3 | 3.5]</b>   </td><td><b>[3.5 | 4 | 4.5]</b>   </td><td><b>[4.5 | 5 | 5.5]</b>   </td><td>...</td><td><b>[14 | 14 | 14]</b>    </td><td><b>[14 | 15 | 16]</b>    </td><td><b>[16 | 16 | 16]</b>    </td><td><b>[16 | 17 | 18]</b>    </td><td><b>[18 | 18 | 18]</b>    </td><td><b>[18 | 19 | 20]</b>    </td></tr>\n",
       "<tr><td><b>noname</b></td><td>[0.61 1.07 ... 2.18 2.87]</td><td>[0.37 0.73 ... 1.86 2.73]</td><td>[0.88 1.15 ... 2.65 2.96]</td><td>[0.72 1.24 ... 1.74 2.08]</td><td>[0.55 1.52 ... 2.9  3.07]</td><td>[0.66 0.77 ... 1.56 2.4 ]</td><td>...</td><td>[0.26 1.19 ... 2.86 3.43]</td><td>[0.94 1.52 ... 2.47 3.02]</td><td>[0.33 0.71 ... 2.53 3.38]</td><td>[0.82 1.57 ... 2.73 3.51]</td><td>[0.01 0.41 ... 0.99 1.18]</td><td>[0.48 0.94 ... 2.05 2.51]</td></tr>\n",
       "</tbody>\n",
       "</table>"
      ],
      "text/plain": [
       "GridArray(noname : [[0.61054606 1.07332914 2.02906309 2.18369999 2.86889444]\n",
       " [0.36732215 0.7339393  1.26237548 1.86417865 2.73423492]\n",
       " [0.88392344 1.15408384 1.95735726 2.64562632 2.96136072]\n",
       " [0.71728274 1.2390976  1.43224394 1.74002479 2.0831975 ]\n",
       " [0.54997964 1.51531518 2.31160096 2.89788784 3.07043399]\n",
       " [0.6631493  0.77434533 1.24070372 1.55701137 2.40125219]\n",
       " [0.76697307 1.54894028 1.59126441 2.21636448 2.6741411 ]\n",
       " [0.28262709 0.2908967  1.07018657 1.27340524 2.10458725]\n",
       " [0.81628118 1.11090597 1.64860732 1.81273959 1.8312113 ]\n",
       " [0.62243436 1.14700875 1.35830487 1.39607147 1.9416003 ]\n",
       " [0.15948166 0.46117935 0.57215827 0.64571037 0.79248993]\n",
       " [0.0390675  0.94446362 1.11540999 1.31480796 2.09755685]\n",
       " [0.45656791 0.84644336 1.44636341 1.69759685 2.44257332]\n",
       " [0.53310281 1.20344866 1.7009681  1.80808273 1.99081026]\n",
       " [0.26090924 1.19019894 2.08261916 2.85983693 3.42790218]\n",
       " [0.94188702 1.51827507 2.13586047 2.47025931 3.01688643]\n",
       " [0.32693789 0.71304382 1.54643963 2.53093185 3.38425317]\n",
       " [0.81807522 1.56529765 2.0212579  2.72739076 3.51231699]\n",
       " [0.00570374 0.40583735 0.98885684 0.9892621  1.17842855]\n",
       " [0.48404758 0.93662646 1.32418295 2.04880761 2.51024548]])"
      ]
     },
     "execution_count": 81,
     "metadata": {},
     "output_type": "execute_result"
    }
   ],
   "source": [
    "np.cumsum(a, axis='y')"
   ]
  },
  {
   "cell_type": "code",
   "execution_count": 87,
   "metadata": {},
   "outputs": [
    {
     "data": {
      "text/html": [
       "<table>\n",
       "<tbody>\n",
       "<tr><td><b>x</b>     </td><td><b>[18 | 19 | 20]</b></td><td><b>[16 | 17 | 18]</b></td><td><b>[14 | 15 | 16]</b></td><td><b>[12 | 13 | 14]</b></td><td><b>[10 | 11 | 12]</b></td><td><b>[8.5 | 9 | 9.5]</b></td><td><b>[6.5 | 7 | 7.5]</b></td><td><b>[4.5 | 5 | 5.5]</b></td><td><b>[2.5 | 3 | 3.5]</b></td><td><b>[0.5 | 1 | 1.5]</b></td></tr>\n",
       "<tr><td><b>noname</b></td><td>0.12                 </td><td>0.13                 </td><td>0.2                  </td><td>0.22                 </td><td>0.35                 </td><td>0.22                  </td><td>0.33                  </td><td>0.26                  </td><td>0.18                  </td><td>0.19                  </td></tr>\n",
       "</tbody>\n",
       "</table>"
      ],
      "text/plain": [
       "GridArray(noname : [0.11581801849879496 0.1287997284445286 0.19549379026698813\n",
       " 0.21600257231565778 0.35298654254783524 0.22463951122359083\n",
       " 0.32666283022297277 0.2565978870492859 0.1836545553532101\n",
       " 0.18576078237790697])"
      ]
     },
     "execution_count": 87,
     "metadata": {},
     "output_type": "execute_result"
    }
   ],
   "source": [
    "np.std(a, axis='y')[::-2]"
   ]
  },
  {
   "cell_type": "code",
   "execution_count": 46,
   "metadata": {},
   "outputs": [],
   "source": [
    "a[a > 0.5] *= 10"
   ]
  },
  {
   "cell_type": "code",
   "execution_count": 83,
   "metadata": {},
   "outputs": [
    {
     "data": {
      "text/html": [
       "<table>\n",
       "<tbody>\n",
       "<tr><td><b>x \\ y</b>           </td><td><b>0</b></td><td><b>1</b></td><td><b>2</b></td><td><b>3</b></td><td><b>4</b></td></tr>\n",
       "<tr><td><b>[-0.5 | 0 | 0.5]</b></td><td>0.61    </td><td>0.46    </td><td>0.96    </td><td>0.15    </td><td>0.69    </td></tr>\n",
       "<tr><td><b>[0.5 | 1 | 1.5]</b> </td><td>0.37    </td><td>0.37    </td><td>0.53    </td><td>0.6     </td><td>0.87    </td></tr>\n",
       "<tr><td><b>[1.5 | 2 | 2.5]</b> </td><td>0.88    </td><td>0.27    </td><td>0.8     </td><td>0.69    </td><td>0.32    </td></tr>\n",
       "<tr><td><b>[2.5 | 3 | 3.5]</b> </td><td>0.72    </td><td>0.52    </td><td>0.19    </td><td>0.31    </td><td>0.34    </td></tr>\n",
       "<tr><td><b>[3.5 | 4 | 4.5]</b> </td><td>0.55    </td><td>0.97    </td><td>0.8     </td><td>0.59    </td><td>0.17    </td></tr>\n",
       "<tr><td><b>[4.5 | 5 | 5.5]</b> </td><td>0.66    </td><td>0.11    </td><td>0.47    </td><td>0.32    </td><td>0.84    </td></tr>\n",
       "<tr><td>...                    </td><td>...     </td><td>...     </td><td>...     </td><td>...     </td><td>...     </td></tr>\n",
       "<tr><td><b>[14 | 14 | 14]</b>  </td><td>0.26    </td><td>0.93    </td><td>0.89    </td><td>0.78    </td><td>0.57    </td></tr>\n",
       "<tr><td><b>[14 | 15 | 16]</b>  </td><td>0.94    </td><td>0.58    </td><td>0.62    </td><td>0.33    </td><td>0.55    </td></tr>\n",
       "<tr><td><b>[16 | 16 | 16]</b>  </td><td>0.33    </td><td>0.39    </td><td>0.83    </td><td>0.98    </td><td>0.85    </td></tr>\n",
       "<tr><td><b>[16 | 17 | 18]</b>  </td><td>0.82    </td><td>0.75    </td><td>0.46    </td><td>0.71    </td><td>0.78    </td></tr>\n",
       "<tr><td><b>[18 | 18 | 18]</b>  </td><td>0.0057  </td><td>0.4     </td><td>0.58    </td><td>0.00041 </td><td>0.19    </td></tr>\n",
       "<tr><td><b>[18 | 19 | 20]</b>  </td><td>0.48    </td><td>0.45    </td><td>0.39    </td><td>0.72    </td><td>0.46    </td></tr>\n",
       "</tbody>\n",
       "</table>"
      ],
      "text/plain": [
       "GridArray(noname : [[6.10546058e-01 3.67322152e-01 8.83923442e-01 7.17282736e-01\n",
       "  5.49979636e-01 6.63149299e-01 7.66973071e-01 2.82627090e-01\n",
       "  8.16281183e-01 6.22434356e-01 1.59481665e-01 3.90675010e-02\n",
       "  4.56567914e-01 5.33102805e-01 2.60909240e-01 9.41887019e-01\n",
       "  3.26937892e-01 8.18075217e-01 5.70374280e-03 4.84047585e-01]\n",
       " [4.62783078e-01 3.66617148e-01 2.70160396e-01 5.21814862e-01\n",
       "  9.65335548e-01 1.11196033e-01 7.81967206e-01 8.26960670e-03\n",
       "  2.94624783e-01 5.24574393e-01 3.01697689e-01 9.05396124e-01\n",
       "  3.89875445e-01 6.70345860e-01 9.29289702e-01 5.76388053e-01\n",
       "  3.86105924e-01 7.47222433e-01 4.00133603e-01 4.52578875e-01]\n",
       " [9.55733954e-01 5.28436179e-01 8.03273423e-01 1.93146344e-01\n",
       "  7.96285779e-01 4.66358390e-01 4.23241345e-02 7.79289870e-01\n",
       "  5.37701356e-01 2.11296125e-01 1.10978913e-01 1.70946366e-01\n",
       "  5.99920053e-01 4.97519438e-01 8.92420217e-01 6.17585394e-01\n",
       "  8.33395818e-01 4.55960249e-01 5.83019495e-01 3.87556489e-01]\n",
       " [1.54636899e-01 6.01803167e-01 6.88269055e-01 3.07780848e-01\n",
       "  5.86286872e-01 3.16307646e-01 6.25100073e-01 2.03218676e-01\n",
       "  1.64132265e-01 3.77665958e-02 7.35521072e-02 1.99397969e-01\n",
       "  2.51233437e-01 1.07114630e-01 7.77217775e-01 3.34398848e-01\n",
       "  9.84492217e-01 7.06132862e-01 4.05259049e-04 7.24624659e-01]\n",
       " [6.85194455e-01 8.70056270e-01 3.15734408e-01 3.43172708e-01\n",
       "  1.72546157e-01 8.44240826e-01 4.57776612e-01 8.31182010e-01\n",
       "  1.84717128e-02 5.45528833e-01 1.46779555e-01 7.82748887e-01\n",
       "  7.44976472e-01 1.82727532e-01 5.68065243e-01 5.46627120e-01\n",
       "  8.53321318e-01 7.84926232e-01 1.89166455e-01 4.61437875e-01]])"
      ]
     },
     "execution_count": 83,
     "metadata": {},
     "output_type": "execute_result"
    }
   ],
   "source": [
    "a.T"
   ]
  },
  {
   "cell_type": "code",
   "execution_count": 48,
   "metadata": {},
   "outputs": [
    {
     "data": {
      "text/html": [
       "<table>\n",
       "<tbody>\n",
       "<tr><td><b>y \\ x</b></td><td><b>[2.5 | 3 | 3.5]</b></td><td><b>[3.5 | 4 | 4.5]</b></td></tr>\n",
       "<tr><td><b>0</b>    </td><td>9.5                   </td><td>8.4                   </td></tr>\n",
       "<tr><td><b>1</b>    </td><td>43                    </td><td>7.6                   </td></tr>\n",
       "<tr><td><b>2</b>    </td><td>9.3                   </td><td>24                    </td></tr>\n",
       "<tr><td><b>3</b>    </td><td>6.9                   </td><td>8.3                   </td></tr>\n",
       "<tr><td><b>4</b>    </td><td>6                     </td><td>6.2                   </td></tr>\n",
       "</tbody>\n",
       "</table>"
      ],
      "text/plain": [
       "GridArray(noname : [[ 9.52798582 43.4973796   9.34051829  6.89698967  5.99668414]\n",
       " [ 8.37992184  7.58680271 23.85570971  8.27163313  6.21833324]])"
      ]
     },
     "execution_count": 48,
     "metadata": {},
     "output_type": "execute_result"
    }
   ],
   "source": [
    "a[3:5]"
   ]
  },
  {
   "cell_type": "code",
   "execution_count": 52,
   "metadata": {},
   "outputs": [
    {
     "data": {
      "text/html": [
       "<table>\n",
       "<tbody>\n",
       "<tr><td><b>y</b>     </td><td><b>0</b></td><td><b>1</b></td><td><b>2</b></td><td><b>3</b></td><td><b>4</b></td></tr>\n",
       "<tr><td><b>noname</b></td><td>2.6e+02 </td><td>2.9e+02 </td><td>3.8e+02 </td><td>2.1e+02 </td><td>3.6e+02 </td></tr>\n",
       "</tbody>\n",
       "</table>"
      ],
      "text/plain": [
       "GridArray(noname : [256.35961124 288.31803594 377.4480668  205.9102254  363.36298254])"
      ]
     },
     "execution_count": 52,
     "metadata": {},
     "output_type": "execute_result"
    }
   ],
   "source": [
    "np.sum(a, axis=0)"
   ]
  },
  {
   "cell_type": "code",
   "execution_count": 54,
   "metadata": {},
   "outputs": [
    {
     "data": {
      "text/html": [
       "<table>\n",
       "<tbody>\n",
       "<tr><td><b>y \\ x</b></td><td><b>[-0.5 | 0 | 0.5]</b></td><td><b>[0.5 | 1 | 1.5]</b></td><td><b>[1.5 | 2 | 2.5]</b></td><td><b>[2.5 | 3 | 3.5]</b></td><td><b>[3.5 | 4 | 4.5]</b></td><td><b>[4.5 | 5 | 5.5]</b></td><td>...</td><td><b>[14 | 14 | 14]</b></td><td><b>[14 | 15 | 16]</b></td><td><b>[16 | 16 | 16]</b></td><td><b>[16 | 17 | 18]</b></td><td><b>[18 | 18 | 18]</b></td><td><b>[18 | 19 | 20]</b></td></tr>\n",
       "<tr><td><b>0</b>    </td><td>45                     </td><td>11                    </td><td>14                    </td><td>19                    </td><td>17                    </td><td>65                    </td><td>...</td><td>19                   </td><td>13                   </td><td>11                   </td><td>14                   </td><td>17                   </td><td>42                   </td></tr>\n",
       "<tr><td><b>1</b>    </td><td>46                     </td><td>12                    </td><td>14                    </td><td>87                    </td><td>15                    </td><td>22                    </td><td>...</td><td>16                   </td><td>13                   </td><td>60                   </td><td>0.25                 </td><td>53                   </td><td>68                   </td></tr>\n",
       "<tr><td><b>2</b>    </td><td>0.53                   </td><td>80                    </td><td>78                    </td><td>19                    </td><td>48                    </td><td>16                    </td><td>...</td><td>22                   </td><td>46                   </td><td>13                   </td><td>14                   </td><td>73                   </td><td>54                   </td></tr>\n",
       "<tr><td><b>3</b>    </td><td>42                     </td><td>87                    </td><td>0.94                  </td><td>14                    </td><td>17                    </td><td>16                    </td><td>...</td><td>14                   </td><td>18                   </td><td>0.83                 </td><td>17                   </td><td>0.75                 </td><td>11                   </td></tr>\n",
       "<tr><td><b>4</b>    </td><td>14                     </td><td>92                    </td><td>20                    </td><td>12                    </td><td>12                    </td><td>16                    </td><td>...</td><td>19                   </td><td>20                   </td><td>89                   </td><td>65                   </td><td>19                   </td><td>32                   </td></tr>\n",
       "</tbody>\n",
       "</table>"
      ],
      "text/plain": [
       "GridArray(noname : [[45.47811478 45.706479    0.52845548 42.12316125 14.2766544 ]\n",
       " [11.25904402 11.77017832 79.70579063 86.53393305 92.16097635]\n",
       " [14.20611154 13.87158392 78.48376504  0.93997064 19.88195884]\n",
       " [19.05597164 86.99475919 18.68103659 13.79397933 11.99336827]\n",
       " [16.75984368 15.17360543 47.71141942 16.54326626 12.43666647]\n",
       " [65.21116424 22.19768134 15.70783322 15.89429074 16.41839842]\n",
       " [15.53873813 96.26061262 13.53151367 19.16121652 66.00694125]\n",
       " [40.03123255 14.77953077 45.29566493 70.67184211 68.34401182]\n",
       " [93.63028731  0.74711847 14.97870028 10.06730778 17.19575213]\n",
       " [10.42539435 11.57627994 18.9562908  18.98394774 55.76341815]\n",
       " [ 0.9704821  18.63989469 30.72068634 14.76564748 39.60688172]\n",
       " [18.55220009 14.84798858 70.31710629 11.22818099 15.97927864]\n",
       " [15.91020629  0.60473726 82.87437699 18.49549445 38.3789323 ]\n",
       " [29.68042017 13.36815733 15.397396   12.07440607 14.81297628]\n",
       " [19.29783481 15.93135102 21.73173143 13.55329291 19.02303471]\n",
       " [13.07343232 13.25273764 46.39977999 17.68788222 19.95362998]\n",
       " [10.72137865 59.95912198 12.63757904  0.83001963 89.42893959]\n",
       " [14.0347887   0.25018907 14.05504142 17.04126729 64.77579693]\n",
       " [16.94648697 52.79636609 73.24401862  0.7501324  18.62083887]\n",
       " [41.93609013 67.9076992  53.93794742 10.68121193 31.66750996]])"
      ]
     },
     "execution_count": 54,
     "metadata": {},
     "output_type": "execute_result"
    }
   ],
   "source": [
    "a * 2"
   ]
  },
  {
   "cell_type": "code",
   "execution_count": 55,
   "metadata": {},
   "outputs": [],
   "source": [
    "m = np.ma.masked_array(np.arange(10))"
   ]
  },
  {
   "cell_type": "code",
   "execution_count": 56,
   "metadata": {},
   "outputs": [],
   "source": [
    "m.mask = m < 6"
   ]
  },
  {
   "cell_type": "code",
   "execution_count": 57,
   "metadata": {},
   "outputs": [
    {
     "data": {
      "text/plain": [
       "array([ 0,  1,  2,  3,  4,  5, 18, 21, 24, 27])"
      ]
     },
     "execution_count": 57,
     "metadata": {},
     "output_type": "execute_result"
    }
   ],
   "source": [
    "(m * 3).data"
   ]
  },
  {
   "cell_type": "code",
   "execution_count": 58,
   "metadata": {},
   "outputs": [
    {
     "ename": "TypeError",
     "evalue": "data type not understood",
     "output_type": "error",
     "traceback": [
      "\u001b[0;31m---------------------------------------------------------------------------\u001b[0m",
      "\u001b[0;31mTypeError\u001b[0m                                 Traceback (most recent call last)",
      "\u001b[0;32m<ipython-input-58-09fcd928dfab>\u001b[0m in \u001b[0;36m<module>\u001b[0;34m\u001b[0m\n\u001b[1;32m      1\u001b[0m \u001b[0;31m# add something\u001b[0m\u001b[0;34m\u001b[0m\u001b[0;34m\u001b[0m\u001b[0;34m\u001b[0m\u001b[0m\n\u001b[0;32m----> 2\u001b[0;31m \u001b[0mg\u001b[0m\u001b[0;34m[\u001b[0m\u001b[0;34m'a'\u001b[0m\u001b[0;34m]\u001b[0m \u001b[0;34m=\u001b[0m \u001b[0mnp\u001b[0m\u001b[0;34m.\u001b[0m\u001b[0mrandom\u001b[0m\u001b[0;34m.\u001b[0m\u001b[0mrand\u001b[0m\u001b[0;34m(\u001b[0m\u001b[0mg\u001b[0m\u001b[0;34m.\u001b[0m\u001b[0mgrid\u001b[0m\u001b[0;34m.\u001b[0m\u001b[0msize\u001b[0m\u001b[0;34m)\u001b[0m\u001b[0;34m.\u001b[0m\u001b[0mreshape\u001b[0m\u001b[0;34m(\u001b[0m\u001b[0mg\u001b[0m\u001b[0;34m.\u001b[0m\u001b[0mshape\u001b[0m\u001b[0;34m)\u001b[0m\u001b[0;34m\u001b[0m\u001b[0;34m\u001b[0m\u001b[0m\n\u001b[0m",
      "\u001b[0;32m~/pynocular/pynocular/griddata.py\u001b[0m in \u001b[0;36m__setitem__\u001b[0;34m(self, var, val)\u001b[0m\n\u001b[1;32m    311\u001b[0m \u001b[0;34m\u001b[0m\u001b[0m\n\u001b[1;32m    312\u001b[0m     \u001b[0;32mdef\u001b[0m \u001b[0m__setitem__\u001b[0m\u001b[0;34m(\u001b[0m\u001b[0mself\u001b[0m\u001b[0;34m,\u001b[0m \u001b[0mvar\u001b[0m\u001b[0;34m,\u001b[0m \u001b[0mval\u001b[0m\u001b[0;34m)\u001b[0m\u001b[0;34m:\u001b[0m\u001b[0;34m\u001b[0m\u001b[0;34m\u001b[0m\u001b[0m\n\u001b[0;32m--> 313\u001b[0;31m         \u001b[0mself\u001b[0m\u001b[0;34m.\u001b[0m\u001b[0madd_data\u001b[0m\u001b[0;34m(\u001b[0m\u001b[0mvar\u001b[0m\u001b[0;34m,\u001b[0m \u001b[0mval\u001b[0m\u001b[0;34m)\u001b[0m\u001b[0;34m\u001b[0m\u001b[0;34m\u001b[0m\u001b[0m\n\u001b[0m\u001b[1;32m    314\u001b[0m \u001b[0;34m\u001b[0m\u001b[0m\n\u001b[1;32m    315\u001b[0m     \u001b[0;32mdef\u001b[0m \u001b[0m__getitem__\u001b[0m\u001b[0;34m(\u001b[0m\u001b[0mself\u001b[0m\u001b[0;34m,\u001b[0m \u001b[0mitem\u001b[0m\u001b[0;34m)\u001b[0m\u001b[0;34m:\u001b[0m\u001b[0;34m\u001b[0m\u001b[0;34m\u001b[0m\u001b[0m\n",
      "\u001b[0;32m~/pynocular/pynocular/griddata.py\u001b[0m in \u001b[0;36madd_data\u001b[0;34m(self, var, data)\u001b[0m\n\u001b[1;32m    454\u001b[0m             \u001b[0mdata\u001b[0m \u001b[0;34m=\u001b[0m \u001b[0mdata\u001b[0m\u001b[0;34m[\u001b[0m\u001b[0;34m...\u001b[0m\u001b[0;34m,\u001b[0m \u001b[0mnp\u001b[0m\u001b[0;34m.\u001b[0m\u001b[0mnewaxis\u001b[0m\u001b[0;34m]\u001b[0m\u001b[0;34m\u001b[0m\u001b[0;34m\u001b[0m\u001b[0m\n\u001b[1;32m    455\u001b[0m \u001b[0;34m\u001b[0m\u001b[0m\n\u001b[0;32m--> 456\u001b[0;31m         \u001b[0mdata\u001b[0m \u001b[0;34m=\u001b[0m \u001b[0mpn\u001b[0m\u001b[0;34m.\u001b[0m\u001b[0mGridArray\u001b[0m\u001b[0;34m(\u001b[0m\u001b[0mself\u001b[0m\u001b[0;34m.\u001b[0m\u001b[0mgrid\u001b[0m\u001b[0;34m,\u001b[0m \u001b[0mvar\u001b[0m\u001b[0;34m,\u001b[0m \u001b[0mdata\u001b[0m\u001b[0;34m)\u001b[0m\u001b[0;34m\u001b[0m\u001b[0;34m\u001b[0m\u001b[0m\n\u001b[0m\u001b[1;32m    457\u001b[0m \u001b[0;34m\u001b[0m\u001b[0m\n\u001b[1;32m    458\u001b[0m         \u001b[0;32mif\u001b[0m \u001b[0;32mnot\u001b[0m \u001b[0mdata\u001b[0m\u001b[0;34m.\u001b[0m\u001b[0mshape\u001b[0m\u001b[0;34m[\u001b[0m\u001b[0;34m:\u001b[0m\u001b[0mself\u001b[0m\u001b[0;34m.\u001b[0m\u001b[0mndim\u001b[0m\u001b[0;34m]\u001b[0m \u001b[0;34m==\u001b[0m \u001b[0mself\u001b[0m\u001b[0;34m.\u001b[0m\u001b[0mshape\u001b[0m\u001b[0;34m:\u001b[0m\u001b[0;34m\u001b[0m\u001b[0;34m\u001b[0m\u001b[0m\n",
      "\u001b[0;32m~/pynocular/pynocular/griddata.py\u001b[0m in \u001b[0;36m__new__\u001b[0;34m(cls, input_array, grid, *args, **kwargs)\u001b[0m\n\u001b[1;32m     92\u001b[0m     \u001b[0;32mdef\u001b[0m \u001b[0m__new__\u001b[0m\u001b[0;34m(\u001b[0m\u001b[0mcls\u001b[0m\u001b[0;34m,\u001b[0m \u001b[0minput_array\u001b[0m\u001b[0;34m,\u001b[0m \u001b[0;34m*\u001b[0m\u001b[0margs\u001b[0m\u001b[0;34m,\u001b[0m \u001b[0mgrid\u001b[0m\u001b[0;34m=\u001b[0m\u001b[0;32mNone\u001b[0m\u001b[0;34m,\u001b[0m \u001b[0;34m**\u001b[0m\u001b[0mkwargs\u001b[0m\u001b[0;34m)\u001b[0m\u001b[0;34m:\u001b[0m\u001b[0;34m\u001b[0m\u001b[0;34m\u001b[0m\u001b[0m\n\u001b[1;32m     93\u001b[0m         \u001b[0;31m#print(type(input_array))\u001b[0m\u001b[0;34m\u001b[0m\u001b[0;34m\u001b[0m\u001b[0;34m\u001b[0m\u001b[0m\n\u001b[0;32m---> 94\u001b[0;31m         \u001b[0msuper\u001b[0m\u001b[0;34m(\u001b[0m\u001b[0;34m)\u001b[0m\u001b[0;34m.\u001b[0m\u001b[0m__new__\u001b[0m\u001b[0;34m(\u001b[0m\u001b[0mcls\u001b[0m\u001b[0;34m,\u001b[0m \u001b[0minput_array\u001b[0m\u001b[0;34m,\u001b[0m \u001b[0;34m*\u001b[0m\u001b[0margs\u001b[0m\u001b[0;34m,\u001b[0m \u001b[0;34m**\u001b[0m\u001b[0mkwargs\u001b[0m\u001b[0;34m)\u001b[0m\u001b[0;34m\u001b[0m\u001b[0;34m\u001b[0m\u001b[0m\n\u001b[0m\u001b[1;32m     95\u001b[0m         \u001b[0;31m#print('new: args, kwargs', args, kwargs)\u001b[0m\u001b[0;34m\u001b[0m\u001b[0;34m\u001b[0m\u001b[0;34m\u001b[0m\u001b[0m\n\u001b[1;32m     96\u001b[0m         \u001b[0mobj\u001b[0m \u001b[0;34m=\u001b[0m \u001b[0mnp\u001b[0m\u001b[0;34m.\u001b[0m\u001b[0mma\u001b[0m\u001b[0;34m.\u001b[0m\u001b[0masarray\u001b[0m\u001b[0;34m(\u001b[0m\u001b[0minput_array\u001b[0m\u001b[0;34m)\u001b[0m\u001b[0;34m.\u001b[0m\u001b[0mview\u001b[0m\u001b[0;34m(\u001b[0m\u001b[0mcls\u001b[0m\u001b[0;34m,\u001b[0m \u001b[0;34m*\u001b[0m\u001b[0margs\u001b[0m\u001b[0;34m,\u001b[0m \u001b[0;34m**\u001b[0m\u001b[0mkwargs\u001b[0m\u001b[0;34m)\u001b[0m\u001b[0;34m\u001b[0m\u001b[0;34m\u001b[0m\u001b[0m\n",
      "\u001b[0;32m~/anaconda3/lib/python3.7/site-packages/numpy/ma/core.py\u001b[0m in \u001b[0;36m__new__\u001b[0;34m(cls, data, mask, dtype, copy, subok, ndmin, fill_value, keep_mask, hard_mask, shrink, order, **options)\u001b[0m\n\u001b[1;32m   2786\u001b[0m         \u001b[0;31m# Process data.\u001b[0m\u001b[0;34m\u001b[0m\u001b[0;34m\u001b[0m\u001b[0;34m\u001b[0m\u001b[0m\n\u001b[1;32m   2787\u001b[0m         _data = np.array(data, dtype=dtype, copy=copy,\n\u001b[0;32m-> 2788\u001b[0;31m                          order=order, subok=True, ndmin=ndmin)\n\u001b[0m\u001b[1;32m   2789\u001b[0m         \u001b[0m_baseclass\u001b[0m \u001b[0;34m=\u001b[0m \u001b[0mgetattr\u001b[0m\u001b[0;34m(\u001b[0m\u001b[0mdata\u001b[0m\u001b[0;34m,\u001b[0m \u001b[0;34m'_baseclass'\u001b[0m\u001b[0;34m,\u001b[0m \u001b[0mtype\u001b[0m\u001b[0;34m(\u001b[0m\u001b[0m_data\u001b[0m\u001b[0;34m)\u001b[0m\u001b[0;34m)\u001b[0m\u001b[0;34m\u001b[0m\u001b[0;34m\u001b[0m\u001b[0m\n\u001b[1;32m   2790\u001b[0m         \u001b[0;31m# Check that we're not erasing the mask.\u001b[0m\u001b[0;34m\u001b[0m\u001b[0;34m\u001b[0m\u001b[0;34m\u001b[0m\u001b[0m\n",
      "\u001b[0;31mTypeError\u001b[0m: data type not understood"
     ]
    }
   ],
   "source": [
    "# add something\n",
    "g['a'] = np.random.rand(g.grid.size).reshape(g.shape)"
   ]
  },
  {
   "cell_type": "code",
   "execution_count": 100,
   "metadata": {},
   "outputs": [
    {
     "data": {
      "text/plain": [
       "array(GridData(Grid(\n",
       "Axis(\"x\",\n",
       "points = array([ 0,  1,  2,  3,  4,  5,  6,  7,  8,  9, 10, 11, 12, 13, 14, 15, 16,\n",
       "       17, 18, 19]),\n",
       "edges = edges: array([[-0.5,  0.5],\n",
       "       [ 0.5,  1.5],\n",
       "       [ 1.5,  2.5],\n",
       "       [ 2.5,  3.5],\n",
       "       [ 3.5,  4.5],\n",
       "       [ 4.5,  5.5],\n",
       "       [ 5.5,  6.5],\n",
       "       [ 6.5,  7.5],\n",
       "       [ 7.5,  8.5],\n",
       "       [ 8.5,  9.5],\n",
       "       [ 9.5, 10.5],\n",
       "       [10.5, 11.5],\n",
       "       [11.5, 12.5],\n",
       "       [12.5, 13.5],\n",
       "       [13.5, 14.5],\n",
       "       [14.5, 15.5],\n",
       "       [15.5, 16.5],\n",
       "       [16.5, 17.5],\n",
       "       [17.5, 18.5],\n",
       "       [18.5, 19.5]]))\n",
       "nbins = 20),\n",
       "Axis(\"y\",\n",
       "points = array([0, 1, 2, 3, 4]),\n",
       "edges = edges: None)\n",
       "nbins = 5),)\n",
       "[]), dtype=object)"
      ]
     },
     "execution_count": 100,
     "metadata": {},
     "output_type": "execute_result"
    }
   ],
   "source": [
    "np.asanyarray(g['a'])"
   ]
  },
  {
   "cell_type": "code",
   "execution_count": 32,
   "metadata": {},
   "outputs": [
    {
     "data": {
      "text/html": [
       "<table>\n",
       "<tbody>\n",
       "<tr><td><b>y \\ x</b></td><td><b>[-0.5 | 0 | 0.5]</b></td><td><b>[0.5 | 1 | 1.5]</b></td><td><b>[1.5 | 2 | 2.5]</b></td><td><b>[2.5 | 3 | 3.5]</b></td><td><b>[3.5 | 4 | 4.5]</b></td><td><b>[4.5 | 5 | 5.5]</b></td><td>...</td><td><b>[14 | 14 | 14]</b></td><td><b>[14 | 15 | 16]</b></td><td><b>[16 | 16 | 16]</b></td><td><b>[16 | 17 | 18]</b></td><td><b>[18 | 18 | 18]</b></td><td><b>[18 | 19 | 20]</b></td></tr>\n",
       "<tr><td><b>0</b>    </td><td>a = 0.93<br>b = 1      </td><td>a = 0.55<br>b = 1     </td><td>a = 0.74<br>b = 1     </td><td>a = 0.16<br>b = 1     </td><td>a = 0.85<br>b = 1     </td><td>a = 0.56<br>b = 1     </td><td>...</td><td>a = 0.66<br>b = 1    </td><td>a = 0.23<br>b = 1    </td><td>a = 0.97<br>b = 1    </td><td>a = 0.55<br>b = 1    </td><td>a = 0.77<br>b = 1    </td><td>a = 0.26<br>b = 1    </td></tr>\n",
       "<tr><td><b>1</b>    </td><td>a = 0.67<br>b = 1      </td><td>a = 0.28<br>b = 1     </td><td>a = 0.35<br>b = 1     </td><td>a = 0.084<br>b = 1    </td><td>a = 1<br>b = 1        </td><td>a = 0.47<br>b = 1     </td><td>...</td><td>a = 0.4<br>b = 1     </td><td>a = 0.51<br>b = 1    </td><td>a = 0.65<br>b = 1    </td><td>a = 0.43<br>b = 1    </td><td>a = 0.27<br>b = 1    </td><td>a = 0.94<br>b = 1    </td></tr>\n",
       "<tr><td><b>2</b>    </td><td>a = 0.24<br>b = 1      </td><td>a = 0.3<br>b = 1      </td><td>a = 0.88<br>b = 1     </td><td>a = 0.89<br>b = 1     </td><td>a = 0.52<br>b = 1     </td><td>a = 0.7<br>b = 1      </td><td>...</td><td>a = 0.65<br>b = 1    </td><td>a = 0.56<br>b = 1    </td><td>a = 0.75<br>b = 1    </td><td>a = 0.95<br>b = 1    </td><td>a = 0.28<br>b = 1    </td><td>a = 0.98<br>b = 1    </td></tr>\n",
       "<tr><td><b>3</b>    </td><td>a = 0.16<br>b = 1      </td><td>a = 0.94<br>b = 1     </td><td>a = 0.22<br>b = 1     </td><td>a = 0.048<br>b = 1    </td><td>a = 0.79<br>b = 1     </td><td>a = 0.98<br>b = 1     </td><td>...</td><td>a = 0.14<br>b = 1    </td><td>a = 0.67<br>b = 1    </td><td>a = 0.34<br>b = 1    </td><td>a = 0.28<br>b = 1    </td><td>a = 0.52<br>b = 1    </td><td>a = 0.33<br>b = 1    </td></tr>\n",
       "<tr><td><b>4</b>    </td><td>a = 0.017<br>b = 1     </td><td>a = 0.86<br>b = 1     </td><td>a = 0.53<br>b = 1     </td><td>a = 0.71<br>b = 1     </td><td>a = 0.7<br>b = 1      </td><td>a = 0.97<br>b = 1     </td><td>...</td><td>a = 0.59<br>b = 1    </td><td>a = 0.75<br>b = 1    </td><td>a = 0.37<br>b = 1    </td><td>a = 0.99<br>b = 1    </td><td>a = 0.065<br>b = 1   </td><td>a = 0.58<br>b = 1    </td></tr>\n",
       "</tbody>\n",
       "</table>"
      ],
      "text/plain": [
       "GridData(Grid(\n",
       "Axis(\"x\",\n",
       "points = array([ 0,  1,  2,  3,  4,  5,  6,  7,  8,  9, 10, 11, 12, 13, 14, 15, 16,\n",
       "       17, 18, 19]),\n",
       "edges = edges: array([[-0.5,  0.5],\n",
       "       [ 0.5,  1.5],\n",
       "       [ 1.5,  2.5],\n",
       "       [ 2.5,  3.5],\n",
       "       [ 3.5,  4.5],\n",
       "       [ 4.5,  5.5],\n",
       "       [ 5.5,  6.5],\n",
       "       [ 6.5,  7.5],\n",
       "       [ 7.5,  8.5],\n",
       "       [ 8.5,  9.5],\n",
       "       [ 9.5, 10.5],\n",
       "       [10.5, 11.5],\n",
       "       [11.5, 12.5],\n",
       "       [12.5, 13.5],\n",
       "       [13.5, 14.5],\n",
       "       [14.5, 15.5],\n",
       "       [15.5, 16.5],\n",
       "       [16.5, 17.5],\n",
       "       [17.5, 18.5],\n",
       "       [18.5, 19.5]]))\n",
       "nbins = 20),\n",
       "Axis(\"y\",\n",
       "points = array([0, 1, 2, 3, 4]),\n",
       "edges = edges: None)\n",
       "nbins = 5),)\n",
       "[GridArray(a : [[0.92923727 0.66677596 0.23727435 0.1610907  0.01653312]\n",
       " [0.55190353 0.27774722 0.29892989 0.93888069 0.85850405]\n",
       " [0.73551706 0.35244653 0.8760508  0.21956474 0.53441049]\n",
       " [0.15723997 0.08435455 0.88621504 0.04831482 0.71454138]\n",
       " [0.85049881 0.99898884 0.52455096 0.7870131  0.69769233]\n",
       " [0.55569202 0.47328259 0.70182388 0.97605759 0.97067788]\n",
       " [0.35147541 0.53804803 0.42583771 0.34038949 0.67097437]\n",
       " [0.99991814 0.40016164 0.9862341  0.22136795 0.00428525]\n",
       " [0.1870811  0.55282106 0.89642015 0.02093399 0.89793334]\n",
       " [0.32208858 0.86061124 0.16765693 0.39742282 0.26526869]\n",
       " [0.55569622 0.82761335 0.09299961 0.60893835 0.49450812]\n",
       " [0.35534096 0.54596017 0.43240258 0.9995946  0.32889435]\n",
       " [0.9596192  0.34237546 0.67684045 0.36497417 0.14907469]\n",
       " [0.33104808 0.03411093 0.13289779 0.8052429  0.65576376]\n",
       " [0.66148267 0.397798   0.65264809 0.14355531 0.58967196]\n",
       " [0.22599018 0.5112301  0.55603438 0.66878642 0.75357486]\n",
       " [0.97331045 0.6453644  0.74637954 0.34437067 0.37256701]\n",
       " [0.55422566 0.43232625 0.94590443 0.28158927 0.98584402]\n",
       " [0.76719059 0.269261   0.28188932 0.52344498 0.06515638]\n",
       " [0.25834844 0.93810894 0.97695424 0.33338629 0.58261418]]), GridArray(b : [[1. 1. 1. 1. 1.]\n",
       " [1. 1. 1. 1. 1.]\n",
       " [1. 1. 1. 1. 1.]\n",
       " [1. 1. 1. 1. 1.]\n",
       " [1. 1. 1. 1. 1.]\n",
       " [1. 1. 1. 1. 1.]\n",
       " [1. 1. 1. 1. 1.]\n",
       " [1. 1. 1. 1. 1.]\n",
       " [1. 1. 1. 1. 1.]\n",
       " [1. 1. 1. 1. 1.]\n",
       " [1. 1. 1. 1. 1.]\n",
       " [1. 1. 1. 1. 1.]\n",
       " [1. 1. 1. 1. 1.]\n",
       " [1. 1. 1. 1. 1.]\n",
       " [1. 1. 1. 1. 1.]\n",
       " [1. 1. 1. 1. 1.]\n",
       " [1. 1. 1. 1. 1.]\n",
       " [1. 1. 1. 1. 1.]\n",
       " [1. 1. 1. 1. 1.]\n",
       " [1. 1. 1. 1. 1.]])])"
      ]
     },
     "execution_count": 32,
     "metadata": {},
     "output_type": "execute_result"
    }
   ],
   "source": [
    "g"
   ]
  },
  {
   "cell_type": "code",
   "execution_count": 33,
   "metadata": {},
   "outputs": [
    {
     "name": "stdout",
     "output_type": "stream",
     "text": [
      "new  <class 'pynocular.griddata.GridArray'> (points) [ 0  1  2  3  4  5  6  7  8  9 10 11 12 13 14 15 16 17 18 19]\n",
      "(edges)  [[-0.5  0.5]\n",
      " [ 0.5  1.5]\n",
      " [ 1.5  2.5]\n",
      " [ 2.5  3.5]\n",
      " [ 3.5  4.5]\n",
      " [ 4.5  5.5]\n",
      " [ 5.5  6.5]\n",
      " [ 6.5  7.5]\n",
      " [ 7.5  8.5]\n",
      " [ 8.5  9.5]\n",
      " [ 9.5 10.5]\n",
      " [10.5 11.5]\n",
      " [11.5 12.5]\n",
      " [12.5 13.5]\n",
      " [13.5 14.5]\n",
      " [14.5 15.5]\n",
      " [15.5 16.5]\n",
      " [16.5 17.5]\n",
      " [17.5 18.5]\n",
      " [18.5 19.5]]\n",
      "(nbins)  20\n",
      "(points) [0 1 2 3 4]\n",
      "(edges)  None\n",
      "(nbins)  5 b [[1. 1. 1. 1. 1.]\n",
      " [1. 1. 1. 1. 1.]\n",
      " [1. 1. 1. 1. 1.]\n",
      " [1. 1. 1. 1. 1.]\n",
      " [1. 1. 1. 1. 1.]\n",
      " [1. 1. 1. 1. 1.]\n",
      " [1. 1. 1. 1. 1.]\n",
      " [1. 1. 1. 1. 1.]\n",
      " [1. 1. 1. 1. 1.]\n",
      " [1. 1. 1. 1. 1.]\n",
      " [1. 1. 1. 1. 1.]\n",
      " [1. 1. 1. 1. 1.]\n",
      " [1. 1. 1. 1. 1.]\n",
      " [1. 1. 1. 1. 1.]\n",
      " [1. 1. 1. 1. 1.]\n",
      " [1. 1. 1. 1. 1.]\n",
      " [1. 1. 1. 1. 1.]\n",
      " [1. 1. 1. 1. 1.]\n",
      " [1. 1. 1. 1. 1.]\n",
      " [1. 1. 1. 1. 1.]]\n",
      "finalize\n"
     ]
    }
   ],
   "source": [
    "g['b'] = np.ones(g.shape)"
   ]
  },
  {
   "cell_type": "code",
   "execution_count": 34,
   "metadata": {},
   "outputs": [
    {
     "data": {
      "text/plain": [
       "(20, 5)"
      ]
     },
     "execution_count": 34,
     "metadata": {},
     "output_type": "execute_result"
    }
   ],
   "source": [
    "g.shape"
   ]
  },
  {
   "cell_type": "code",
   "execution_count": 35,
   "metadata": {},
   "outputs": [
    {
     "name": "stdout",
     "output_type": "stream",
     "text": [
      "new  <class 'pynocular.griddata.GridArray'> (points) [ 0  1  2  3  4  5  6  7  8  9 10 11 12 13 14 15 16 17 18 19]\n",
      "(edges)  [[-0.5  0.5]\n",
      " [ 0.5  1.5]\n",
      " [ 1.5  2.5]\n",
      " [ 2.5  3.5]\n",
      " [ 3.5  4.5]\n",
      " [ 4.5  5.5]\n",
      " [ 5.5  6.5]\n",
      " [ 6.5  7.5]\n",
      " [ 7.5  8.5]\n",
      " [ 8.5  9.5]\n",
      " [ 9.5 10.5]\n",
      " [10.5 11.5]\n",
      " [11.5 12.5]\n",
      " [12.5 13.5]\n",
      " [13.5 14.5]\n",
      " [14.5 15.5]\n",
      " [15.5 16.5]\n",
      " [16.5 17.5]\n",
      " [17.5 18.5]\n",
      " [18.5 19.5]]\n",
      "(nbins)  20\n",
      "(points) [0 1 2 3 4]\n",
      "(edges)  None\n",
      "(nbins)  5 b b : [[1. 1. 1. 1. 1.]\n",
      " [1. 1. 1. 1. 1.]\n",
      " [1. 1. 1. 1. 1.]\n",
      " [1. 1. 1. 1. 1.]\n",
      " [1. 1. 1. 1. 1.]\n",
      " [1. 1. 1. 1. 1.]\n",
      " [1. 1. 1. 1. 1.]\n",
      " [1. 1. 1. 1. 1.]\n",
      " [1. 1. 1. 1. 1.]\n",
      " [1. 1. 1. 1. 1.]\n",
      " [1. 1. 1. 1. 1.]\n",
      " [1. 1. 1. 1. 1.]\n",
      " [1. 1. 1. 1. 1.]\n",
      " [1. 1. 1. 1. 1.]\n",
      " [1. 1. 1. 1. 1.]\n",
      " [1. 1. 1. 1. 1.]\n",
      " [1. 1. 1. 1. 1.]\n",
      " [1. 1. 1. 1. 1.]\n",
      " [1. 1. 1. 1. 1.]\n",
      " [1. 1. 1. 1. 1.]]\n",
      "finalize\n",
      "new  <class 'pynocular.griddata.GridArray'> (points) [0 1 2 3 4]\n",
      "(edges)  None\n",
      "(nbins)  5\n",
      "(points) [ 0  1  2  3  4  5  6  7  8  9 10 11 12 13 14 15 16 17 18 19]\n",
      "(edges)  [[-0.5  0.5]\n",
      " [ 0.5  1.5]\n",
      " [ 1.5  2.5]\n",
      " [ 2.5  3.5]\n",
      " [ 3.5  4.5]\n",
      " [ 4.5  5.5]\n",
      " [ 5.5  6.5]\n",
      " [ 6.5  7.5]\n",
      " [ 7.5  8.5]\n",
      " [ 8.5  9.5]\n",
      " [ 9.5 10.5]\n",
      " [10.5 11.5]\n",
      " [11.5 12.5]\n",
      " [12.5 13.5]\n",
      " [13.5 14.5]\n",
      " [14.5 15.5]\n",
      " [15.5 16.5]\n",
      " [16.5 17.5]\n",
      " [17.5 18.5]\n",
      " [18.5 19.5]]\n",
      "(nbins)  20 b [[1. 1. 1. 1. 1. 1. 1. 1. 1. 1. 1. 1. 1. 1. 1. 1. 1. 1. 1. 1.]\n",
      " [1. 1. 1. 1. 1. 1. 1. 1. 1. 1. 1. 1. 1. 1. 1. 1. 1. 1. 1. 1.]\n",
      " [1. 1. 1. 1. 1. 1. 1. 1. 1. 1. 1. 1. 1. 1. 1. 1. 1. 1. 1. 1.]\n",
      " [1. 1. 1. 1. 1. 1. 1. 1. 1. 1. 1. 1. 1. 1. 1. 1. 1. 1. 1. 1.]\n",
      " [1. 1. 1. 1. 1. 1. 1. 1. 1. 1. 1. 1. 1. 1. 1. 1. 1. 1. 1. 1.]]\n",
      "finalize\n",
      "new  <class 'pynocular.griddata.GridArray'> (points) [0 1 2 3 4]\n",
      "(edges)  None\n",
      "(nbins)  5\n",
      "(points) [ 0  1  2  3  4  5  6  7  8  9 10 11 12 13 14 15 16 17 18 19]\n",
      "(edges)  [[-0.5  0.5]\n",
      " [ 0.5  1.5]\n",
      " [ 1.5  2.5]\n",
      " [ 2.5  3.5]\n",
      " [ 3.5  4.5]\n",
      " [ 4.5  5.5]\n",
      " [ 5.5  6.5]\n",
      " [ 6.5  7.5]\n",
      " [ 7.5  8.5]\n",
      " [ 8.5  9.5]\n",
      " [ 9.5 10.5]\n",
      " [10.5 11.5]\n",
      " [11.5 12.5]\n",
      " [12.5 13.5]\n",
      " [13.5 14.5]\n",
      " [14.5 15.5]\n",
      " [15.5 16.5]\n",
      " [16.5 17.5]\n",
      " [17.5 18.5]\n",
      " [18.5 19.5]]\n",
      "(nbins)  20 b b : [[1. 1. 1. 1. 1. 1. 1. 1. 1. 1. 1. 1. 1. 1. 1. 1. 1. 1. 1. 1.]\n",
      " [1. 1. 1. 1. 1. 1. 1. 1. 1. 1. 1. 1. 1. 1. 1. 1. 1. 1. 1. 1.]\n",
      " [1. 1. 1. 1. 1. 1. 1. 1. 1. 1. 1. 1. 1. 1. 1. 1. 1. 1. 1. 1.]\n",
      " [1. 1. 1. 1. 1. 1. 1. 1. 1. 1. 1. 1. 1. 1. 1. 1. 1. 1. 1. 1.]\n",
      " [1. 1. 1. 1. 1. 1. 1. 1. 1. 1. 1. 1. 1. 1. 1. 1. 1. 1. 1. 1.]]\n",
      "finalize\n"
     ]
    },
    {
     "data": {
      "text/html": [
       "<table>\n",
       "<tbody>\n",
       "<tr><td><b>x \\ y</b>           </td><td><b>0</b></td><td><b>1</b></td><td><b>2</b></td><td><b>3</b></td><td><b>4</b></td></tr>\n",
       "<tr><td><b>[-0.5 | 0 | 0.5]</b></td><td>1       </td><td>1       </td><td>1       </td><td>1       </td><td>1       </td></tr>\n",
       "<tr><td><b>[0.5 | 1 | 1.5]</b> </td><td>1       </td><td>1       </td><td>1       </td><td>1       </td><td>1       </td></tr>\n",
       "<tr><td><b>[1.5 | 2 | 2.5]</b> </td><td>1       </td><td>1       </td><td>1       </td><td>1       </td><td>1       </td></tr>\n",
       "<tr><td><b>[2.5 | 3 | 3.5]</b> </td><td>1       </td><td>1       </td><td>1       </td><td>1       </td><td>1       </td></tr>\n",
       "<tr><td><b>[3.5 | 4 | 4.5]</b> </td><td>1       </td><td>1       </td><td>1       </td><td>1       </td><td>1       </td></tr>\n",
       "<tr><td><b>[4.5 | 5 | 5.5]</b> </td><td>1       </td><td>1       </td><td>1       </td><td>1       </td><td>1       </td></tr>\n",
       "<tr><td>...                    </td><td>...     </td><td>...     </td><td>...     </td><td>...     </td><td>...     </td></tr>\n",
       "<tr><td><b>[14 | 14 | 14]</b>  </td><td>1       </td><td>1       </td><td>1       </td><td>1       </td><td>1       </td></tr>\n",
       "<tr><td><b>[14 | 15 | 16]</b>  </td><td>1       </td><td>1       </td><td>1       </td><td>1       </td><td>1       </td></tr>\n",
       "<tr><td><b>[16 | 16 | 16]</b>  </td><td>1       </td><td>1       </td><td>1       </td><td>1       </td><td>1       </td></tr>\n",
       "<tr><td><b>[16 | 17 | 18]</b>  </td><td>1       </td><td>1       </td><td>1       </td><td>1       </td><td>1       </td></tr>\n",
       "<tr><td><b>[18 | 18 | 18]</b>  </td><td>1       </td><td>1       </td><td>1       </td><td>1       </td><td>1       </td></tr>\n",
       "<tr><td><b>[18 | 19 | 20]</b>  </td><td>1       </td><td>1       </td><td>1       </td><td>1       </td><td>1       </td></tr>\n",
       "</tbody>\n",
       "</table>"
      ],
      "text/plain": [
       "GridArray(b : b : [[1. 1. 1. 1. 1. 1. 1. 1. 1. 1. 1. 1. 1. 1. 1. 1. 1. 1. 1. 1.]\n",
       " [1. 1. 1. 1. 1. 1. 1. 1. 1. 1. 1. 1. 1. 1. 1. 1. 1. 1. 1. 1.]\n",
       " [1. 1. 1. 1. 1. 1. 1. 1. 1. 1. 1. 1. 1. 1. 1. 1. 1. 1. 1. 1.]\n",
       " [1. 1. 1. 1. 1. 1. 1. 1. 1. 1. 1. 1. 1. 1. 1. 1. 1. 1. 1. 1.]\n",
       " [1. 1. 1. 1. 1. 1. 1. 1. 1. 1. 1. 1. 1. 1. 1. 1. 1. 1. 1. 1.]])"
      ]
     },
     "execution_count": 35,
     "metadata": {},
     "output_type": "execute_result"
    }
   ],
   "source": [
    "g['b'].T"
   ]
  },
  {
   "cell_type": "code",
   "execution_count": 42,
   "metadata": {},
   "outputs": [
    {
     "name": "stdout",
     "output_type": "stream",
     "text": [
      "ufunc\n",
      "() {}\n"
     ]
    },
    {
     "data": {
      "text/plain": [
       "Grid(\n",
       "Axis(\"x\",\n",
       "points = array([ 0,  1,  2,  3,  4,  5,  6,  7,  8,  9, 10, 11, 12, 13, 14, 15, 16,\n",
       "       17, 18, 19]),\n",
       "edges = edges: array([[-0.5,  0.5],\n",
       "       [ 0.5,  1.5],\n",
       "       [ 1.5,  2.5],\n",
       "       [ 2.5,  3.5],\n",
       "       [ 3.5,  4.5],\n",
       "       [ 4.5,  5.5],\n",
       "       [ 5.5,  6.5],\n",
       "       [ 6.5,  7.5],\n",
       "       [ 7.5,  8.5],\n",
       "       [ 8.5,  9.5],\n",
       "       [ 9.5, 10.5],\n",
       "       [10.5, 11.5],\n",
       "       [11.5, 12.5],\n",
       "       [12.5, 13.5],\n",
       "       [13.5, 14.5],\n",
       "       [14.5, 15.5],\n",
       "       [15.5, 16.5],\n",
       "       [16.5, 17.5],\n",
       "       [17.5, 18.5],\n",
       "       [18.5, 19.5]]))\n",
       "nbins = 20),\n",
       "Axis(\"y\",\n",
       "points = array([0, 1, 2, 3, 4]),\n",
       "edges = edges: None)\n",
       "nbins = 5),)"
      ]
     },
     "execution_count": 42,
     "metadata": {},
     "output_type": "execute_result"
    }
   ],
   "source": [
    "np.sin(a).grid"
   ]
  },
  {
   "cell_type": "code",
   "execution_count": 43,
   "metadata": {},
   "outputs": [
    {
     "name": "stdout",
     "output_type": "stream",
     "text": [
      "new  <class 'pynocular.griddata.GridArray'> (points) [ 0  1  2  3  4  5  6  7  8  9 10 11 12 13 14 15 16 17 18 19]\n",
      "(edges)  [[-0.5  0.5]\n",
      " [ 0.5  1.5]\n",
      " [ 1.5  2.5]\n",
      " [ 2.5  3.5]\n",
      " [ 3.5  4.5]\n",
      " [ 4.5  5.5]\n",
      " [ 5.5  6.5]\n",
      " [ 6.5  7.5]\n",
      " [ 7.5  8.5]\n",
      " [ 8.5  9.5]\n",
      " [ 9.5 10.5]\n",
      " [10.5 11.5]\n",
      " [11.5 12.5]\n",
      " [12.5 13.5]\n",
      " [13.5 14.5]\n",
      " [14.5 15.5]\n",
      " [15.5 16.5]\n",
      " [16.5 17.5]\n",
      " [17.5 18.5]\n",
      " [18.5 19.5]]\n",
      "(nbins)  20\n",
      "(points) [0 1 2 3 4]\n",
      "(edges)  None\n",
      "(nbins)  5 a a : [[0.92923727 0.66677596 0.23727435 0.1610907  0.01653312]\n",
      " [0.55190353 0.27774722 0.29892989 0.93888069 0.85850405]\n",
      " [0.73551706 0.35244653 0.8760508  0.21956474 0.53441049]\n",
      " [0.15723997 0.08435455 0.88621504 0.04831482 0.71454138]\n",
      " [0.85049881 0.99898884 0.52455096 0.7870131  0.69769233]\n",
      " [0.55569202 0.47328259 0.70182388 0.97605759 0.97067788]\n",
      " [0.35147541 0.53804803 0.42583771 0.34038949 0.67097437]\n",
      " [0.99991814 0.40016164 0.9862341  0.22136795 0.00428525]\n",
      " [0.1870811  0.55282106 0.89642015 0.02093399 0.89793334]\n",
      " [0.32208858 0.86061124 0.16765693 0.39742282 0.26526869]\n",
      " [0.55569622 0.82761335 0.09299961 0.60893835 0.49450812]\n",
      " [0.35534096 0.54596017 0.43240258 0.9995946  0.32889435]\n",
      " [0.9596192  0.34237546 0.67684045 0.36497417 0.14907469]\n",
      " [0.33104808 0.03411093 0.13289779 0.8052429  0.65576376]\n",
      " [0.66148267 0.397798   0.65264809 0.14355531 0.58967196]\n",
      " [0.22599018 0.5112301  0.55603438 0.66878642 0.75357486]\n",
      " [0.97331045 0.6453644  0.74637954 0.34437067 0.37256701]\n",
      " [0.55422566 0.43232625 0.94590443 0.28158927 0.98584402]\n",
      " [0.76719059 0.269261   0.28188932 0.52344498 0.06515638]\n",
      " [0.25834844 0.93810894 0.97695424 0.33338629 0.58261418]]\n",
      "finalize\n"
     ]
    }
   ],
   "source": [
    "a = g['a']"
   ]
  },
  {
   "cell_type": "code",
   "execution_count": 48,
   "metadata": {},
   "outputs": [
    {
     "name": "stderr",
     "output_type": "stream",
     "text": [
      "[autoreload of pynocular.griddata failed: Traceback (most recent call last):\n",
      "  File \"/home/peller/anaconda3/lib/python3.7/site-packages/IPython/extensions/autoreload.py\", line 244, in check\n",
      "    superreload(m, reload, self.old_objects)\n",
      "  File \"/home/peller/anaconda3/lib/python3.7/site-packages/IPython/extensions/autoreload.py\", line 394, in superreload\n",
      "    update_generic(old_obj, new_obj)\n",
      "  File \"/home/peller/anaconda3/lib/python3.7/site-packages/IPython/extensions/autoreload.py\", line 331, in update_generic\n",
      "    update(a, b)\n",
      "  File \"/home/peller/anaconda3/lib/python3.7/site-packages/IPython/extensions/autoreload.py\", line 289, in update_class\n",
      "    if update_generic(old_obj, new_obj): continue\n",
      "  File \"/home/peller/anaconda3/lib/python3.7/site-packages/IPython/extensions/autoreload.py\", line 331, in update_generic\n",
      "    update(a, b)\n",
      "  File \"/home/peller/anaconda3/lib/python3.7/site-packages/IPython/extensions/autoreload.py\", line 265, in update_function\n",
      "    setattr(old, name, getattr(new, name))\n",
      "ValueError: __array_ufunc__() requires a code object with 0 free vars, not 1\n",
      "]\n"
     ]
    },
    {
     "data": {
      "text/plain": [
       "array([Axis(\"x\",\n",
       "points = array([ 0,  1,  2,  3,  4,  5,  6,  7,  8,  9, 10, 11, 12, 13, 14, 15, 16,\n",
       "       17, 18, 19]),\n",
       "edges = edges: array([[-0.5,  0.5],\n",
       "       [ 0.5,  1.5],\n",
       "       [ 1.5,  2.5],\n",
       "       [ 2.5,  3.5],\n",
       "       [ 3.5,  4.5],\n",
       "       [ 4.5,  5.5],\n",
       "       [ 5.5,  6.5],\n",
       "       [ 6.5,  7.5],\n",
       "       [ 7.5,  8.5],\n",
       "       [ 8.5,  9.5],\n",
       "       [ 9.5, 10.5],\n",
       "       [10.5, 11.5],\n",
       "       [11.5, 12.5],\n",
       "       [12.5, 13.5],\n",
       "       [13.5, 14.5],\n",
       "       [14.5, 15.5],\n",
       "       [15.5, 16.5],\n",
       "       [16.5, 17.5],\n",
       "       [17.5, 18.5],\n",
       "       [18.5, 19.5]]))\n",
       "nbins = 20),\n",
       "       Axis(\"y\",\n",
       "points = array([0, 1, 2, 3, 4]),\n",
       "edges = edges: None)\n",
       "nbins = 5)], dtype=object)"
      ]
     },
     "execution_count": 48,
     "metadata": {},
     "output_type": "execute_result"
    }
   ],
   "source": [
    "a.view(np.ndarray)"
   ]
  },
  {
   "cell_type": "code",
   "execution_count": null,
   "metadata": {},
   "outputs": [],
   "source": [
    "g['b'][g['a'] < 0.5] *= -1"
   ]
  },
  {
   "cell_type": "code",
   "execution_count": null,
   "metadata": {},
   "outputs": [],
   "source": [
    "g"
   ]
  },
  {
   "cell_type": "code",
   "execution_count": null,
   "metadata": {},
   "outputs": [],
   "source": [
    "g['a']"
   ]
  },
  {
   "cell_type": "code",
   "execution_count": null,
   "metadata": {},
   "outputs": [],
   "source": [
    "np.sum(g['a'], axis='y')"
   ]
  },
  {
   "cell_type": "code",
   "execution_count": null,
   "metadata": {},
   "outputs": [],
   "source": [
    "g[:,-2]"
   ]
  },
  {
   "cell_type": "code",
   "execution_count": null,
   "metadata": {},
   "outputs": [],
   "source": [
    "g[::-1, ::-1]"
   ]
  },
  {
   "cell_type": "code",
   "execution_count": null,
   "metadata": {},
   "outputs": [],
   "source": [
    "g[[0,3,5], 2:-1]"
   ]
  },
  {
   "cell_type": "code",
   "execution_count": null,
   "metadata": {},
   "outputs": [],
   "source": [
    "g[0,0]"
   ]
  },
  {
   "cell_type": "code",
   "execution_count": null,
   "metadata": {},
   "outputs": [],
   "source": [
    "g.grid.edges[0].max()"
   ]
  },
  {
   "cell_type": "code",
   "execution_count": null,
   "metadata": {},
   "outputs": [],
   "source": [
    "np.mean(g['b'], axis='x') + np.std(g['a'], axis='x')"
   ]
  },
  {
   "cell_type": "code",
   "execution_count": null,
   "metadata": {},
   "outputs": [],
   "source": [
    "g['c'] = np.sqrt(g['x']) * np.sqrt(g['y'])"
   ]
  },
  {
   "cell_type": "code",
   "execution_count": null,
   "metadata": {},
   "outputs": [],
   "source": [
    "g.plot('c', cbar=True)"
   ]
  },
  {
   "cell_type": "code",
   "execution_count": null,
   "metadata": {},
   "outputs": [],
   "source": [
    "g['m'] = np.arange(g.grid.size * 3).reshape(g.shape + (-1,))"
   ]
  },
  {
   "cell_type": "code",
   "execution_count": null,
   "metadata": {},
   "outputs": [],
   "source": [
    "g.plot('m') #it's interpreted as an RGB image, since the excess dimension is 3"
   ]
  },
  {
   "cell_type": "code",
   "execution_count": null,
   "metadata": {},
   "outputs": [],
   "source": [
    "g['m'][:,:,0]"
   ]
  },
  {
   "cell_type": "code",
   "execution_count": null,
   "metadata": {},
   "outputs": [],
   "source": [
    "g[:,3]"
   ]
  },
  {
   "cell_type": "code",
   "execution_count": null,
   "metadata": {},
   "outputs": [],
   "source": [
    "g['m']"
   ]
  },
  {
   "cell_type": "code",
   "execution_count": null,
   "metadata": {},
   "outputs": [],
   "source": [
    "g.T[:,3:5]['m']"
   ]
  },
  {
   "cell_type": "code",
   "execution_count": null,
   "metadata": {},
   "outputs": [],
   "source": [
    "np.sum(g)"
   ]
  },
  {
   "cell_type": "code",
   "execution_count": null,
   "metadata": {},
   "outputs": [],
   "source": [
    "np.sum(g, axis=(0))"
   ]
  },
  {
   "cell_type": "markdown",
   "metadata": {},
   "source": [
    "# Stuff to fix"
   ]
  },
  {
   "cell_type": "code",
   "execution_count": null,
   "metadata": {},
   "outputs": [],
   "source": [
    "np.sum(g['m'], axis=(0,1))"
   ]
  },
  {
   "cell_type": "code",
   "execution_count": null,
   "metadata": {},
   "outputs": [],
   "source": [
    "# because of this\n",
    "np.sum(g['m'], axis=-1).grid"
   ]
  },
  {
   "cell_type": "code",
   "execution_count": null,
   "metadata": {},
   "outputs": [],
   "source": [
    "np.sum(g['m'], axis=-1)"
   ]
  },
  {
   "cell_type": "code",
   "execution_count": null,
   "metadata": {},
   "outputs": [],
   "source": []
  },
  {
   "cell_type": "code",
   "execution_count": null,
   "metadata": {},
   "outputs": [],
   "source": [
    "1 - 3 * g['a']"
   ]
  },
  {
   "cell_type": "code",
   "execution_count": null,
   "metadata": {},
   "outputs": [],
   "source": [
    "2 ** g['a']"
   ]
  },
  {
   "cell_type": "code",
   "execution_count": null,
   "metadata": {},
   "outputs": [],
   "source": [
    "g['a']"
   ]
  },
  {
   "cell_type": "code",
   "execution_count": null,
   "metadata": {},
   "outputs": [],
   "source": []
  },
  {
   "cell_type": "code",
   "execution_count": null,
   "metadata": {},
   "outputs": [],
   "source": [
    "g['a']"
   ]
  },
  {
   "cell_type": "code",
   "execution_count": null,
   "metadata": {},
   "outputs": [],
   "source": [
    "a = g['a']"
   ]
  },
  {
   "cell_type": "code",
   "execution_count": null,
   "metadata": {},
   "outputs": [],
   "source": [
    "a.T"
   ]
  },
  {
   "cell_type": "code",
   "execution_count": null,
   "metadata": {},
   "outputs": [],
   "source": [
    "np.mean(a, axis='x')"
   ]
  },
  {
   "cell_type": "code",
   "execution_count": null,
   "metadata": {},
   "outputs": [],
   "source": [
    "a"
   ]
  },
  {
   "cell_type": "code",
   "execution_count": null,
   "metadata": {},
   "outputs": [],
   "source": [
    "from scipy import ndimage"
   ]
  },
  {
   "cell_type": "code",
   "execution_count": null,
   "metadata": {},
   "outputs": [],
   "source": [
    "ndimage.gaussian_filter(a, sigma=1)"
   ]
  },
  {
   "cell_type": "code",
   "execution_count": null,
   "metadata": {},
   "outputs": [],
   "source": [
    "np.median(a)"
   ]
  },
  {
   "cell_type": "code",
   "execution_count": null,
   "metadata": {},
   "outputs": [],
   "source": [
    "np.cumsum(a)"
   ]
  },
  {
   "cell_type": "code",
   "execution_count": null,
   "metadata": {},
   "outputs": [],
   "source": [
    "a.dtype"
   ]
  },
  {
   "cell_type": "code",
   "execution_count": null,
   "metadata": {},
   "outputs": [],
   "source": [
    "np.sin(a)"
   ]
  },
  {
   "cell_type": "code",
   "execution_count": null,
   "metadata": {},
   "outputs": [],
   "source": [
    "np.dot(a,a.T)"
   ]
  },
  {
   "cell_type": "code",
   "execution_count": null,
   "metadata": {},
   "outputs": [],
   "source": [
    "b = a.values"
   ]
  },
  {
   "cell_type": "code",
   "execution_count": null,
   "metadata": {},
   "outputs": [],
   "source": [
    "np.dot(b,b.T)"
   ]
  },
  {
   "cell_type": "code",
   "execution_count": 19,
   "metadata": {},
   "outputs": [],
   "source": [
    "l = range(3)"
   ]
  },
  {
   "cell_type": "code",
   "execution_count": 20,
   "metadata": {},
   "outputs": [
    {
     "ename": "AttributeError",
     "evalue": "'range' object has no attribute 'next'",
     "output_type": "error",
     "traceback": [
      "\u001b[0;31m---------------------------------------------------------------------------\u001b[0m",
      "\u001b[0;31mAttributeError\u001b[0m                            Traceback (most recent call last)",
      "\u001b[0;32m<ipython-input-20-25aaa3b3a26b>\u001b[0m in \u001b[0;36m<module>\u001b[0;34m\u001b[0m\n\u001b[0;32m----> 1\u001b[0;31m \u001b[0ml\u001b[0m\u001b[0;34m.\u001b[0m\u001b[0mnext\u001b[0m\u001b[0;34m(\u001b[0m\u001b[0;34m)\u001b[0m\u001b[0;34m\u001b[0m\u001b[0;34m\u001b[0m\u001b[0m\n\u001b[0m",
      "\u001b[0;31mAttributeError\u001b[0m: 'range' object has no attribute 'next'"
     ]
    }
   ],
   "source": [
    "l.next()"
   ]
  },
  {
   "cell_type": "code",
   "execution_count": null,
   "metadata": {},
   "outputs": [],
   "source": []
  }
 ],
 "metadata": {
  "kernelspec": {
   "display_name": "Python 3",
   "language": "python",
   "name": "python3"
  },
  "language_info": {
   "codemirror_mode": {
    "name": "ipython",
    "version": 3
   },
   "file_extension": ".py",
   "mimetype": "text/x-python",
   "name": "python",
   "nbconvert_exporter": "python",
   "pygments_lexer": "ipython3",
   "version": "3.7.3"
  }
 },
 "nbformat": 4,
 "nbformat_minor": 4
}
