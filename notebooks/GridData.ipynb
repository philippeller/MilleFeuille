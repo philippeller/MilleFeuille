{
 "cells": [
  {
   "cell_type": "code",
   "execution_count": 1,
   "metadata": {},
   "outputs": [],
   "source": [
    "%reload_ext autoreload\n",
    "%autoreload 2\n",
    "import numpy as np\n",
    "import pynocular as pn\n",
    "from matplotlib import pyplot as plt"
   ]
  },
  {
   "cell_type": "code",
   "execution_count": 2,
   "metadata": {},
   "outputs": [],
   "source": [
    "g = pn.GridData(x=np.arange(20), y=np.arange(5))\n",
    "#g = pn.GridData(y=np.arange(5))"
   ]
  },
  {
   "cell_type": "code",
   "execution_count": 3,
   "metadata": {},
   "outputs": [],
   "source": [
    "g.grid['x'].edges = pn.edges(points=g.grid['x'].points)"
   ]
  },
  {
   "cell_type": "code",
   "execution_count": 4,
   "metadata": {},
   "outputs": [],
   "source": [
    "e = pn.edges(points=np.arange(11))"
   ]
  },
  {
   "cell_type": "code",
   "execution_count": 5,
   "metadata": {},
   "outputs": [
    {
     "data": {
      "text/plain": [
       "-0.5"
      ]
     },
     "execution_count": 5,
     "metadata": {},
     "output_type": "execute_result"
    }
   ],
   "source": [
    "e[0,0]"
   ]
  },
  {
   "cell_type": "code",
   "execution_count": 6,
   "metadata": {},
   "outputs": [
    {
     "data": {
      "text/html": [
       "<table>\n",
       "<tbody>\n",
       "<tr><td><b>y \\ x</b></td><td><b>[-0.5 | 0 | 0.5]</b></td><td><b>[0.5 | 1 | 1.5]</b></td><td><b>[1.5 | 2 | 2.5]</b></td><td><b>[2.5 | 3 | 3.5]</b></td><td><b>[3.5 | 4 | 4.5]</b></td><td><b>[4.5 | 5 | 5.5]</b></td><td>...</td><td><b>[14 | 14 | 14]</b></td><td><b>[14 | 15 | 16]</b></td><td><b>[16 | 16 | 16]</b></td><td><b>[16 | 17 | 18]</b></td><td><b>[18 | 18 | 18]</b></td><td><b>[18 | 19 | 20]</b></td></tr>\n",
       "<tr><td><b>0</b>    </td><td>                       </td><td>                      </td><td>                      </td><td>                      </td><td>                      </td><td>                      </td><td>...</td><td>                     </td><td>                     </td><td>                     </td><td>                     </td><td>                     </td><td>                     </td></tr>\n",
       "<tr><td><b>1</b>    </td><td>                       </td><td>                      </td><td>                      </td><td>                      </td><td>                      </td><td>                      </td><td>...</td><td>                     </td><td>                     </td><td>                     </td><td>                     </td><td>                     </td><td>                     </td></tr>\n",
       "<tr><td><b>2</b>    </td><td>                       </td><td>                      </td><td>                      </td><td>                      </td><td>                      </td><td>                      </td><td>...</td><td>                     </td><td>                     </td><td>                     </td><td>                     </td><td>                     </td><td>                     </td></tr>\n",
       "<tr><td><b>3</b>    </td><td>                       </td><td>                      </td><td>                      </td><td>                      </td><td>                      </td><td>                      </td><td>...</td><td>                     </td><td>                     </td><td>                     </td><td>                     </td><td>                     </td><td>                     </td></tr>\n",
       "<tr><td><b>4</b>    </td><td>                       </td><td>                      </td><td>                      </td><td>                      </td><td>                      </td><td>                      </td><td>...</td><td>                     </td><td>                     </td><td>                     </td><td>                     </td><td>                     </td><td>                     </td></tr>\n",
       "</tbody>\n",
       "</table>"
      ],
      "text/plain": [
       "GridData(Grid(\n",
       "Axis(\"x\",\n",
       "points = array([ 0,  1,  2,  3,  4,  5,  6,  7,  8,  9, 10, 11, 12, 13, 14, 15, 16,\n",
       "       17, 18, 19]),\n",
       "edges = edges: array([[-0.5,  0.5],\n",
       "       [ 0.5,  1.5],\n",
       "       [ 1.5,  2.5],\n",
       "       [ 2.5,  3.5],\n",
       "       [ 3.5,  4.5],\n",
       "       [ 4.5,  5.5],\n",
       "       [ 5.5,  6.5],\n",
       "       [ 6.5,  7.5],\n",
       "       [ 7.5,  8.5],\n",
       "       [ 8.5,  9.5],\n",
       "       [ 9.5, 10.5],\n",
       "       [10.5, 11.5],\n",
       "       [11.5, 12.5],\n",
       "       [12.5, 13.5],\n",
       "       [13.5, 14.5],\n",
       "       [14.5, 15.5],\n",
       "       [15.5, 16.5],\n",
       "       [16.5, 17.5],\n",
       "       [17.5, 18.5],\n",
       "       [18.5, 19.5]]))\n",
       "nbins = 20),\n",
       "Axis(\"y\",\n",
       "points = array([0, 1, 2, 3, 4]),\n",
       "edges = edges: None)\n",
       "nbins = 5),)\n",
       "[])"
      ]
     },
     "execution_count": 6,
     "metadata": {},
     "output_type": "execute_result"
    }
   ],
   "source": [
    "g"
   ]
  },
  {
   "cell_type": "code",
   "execution_count": 7,
   "metadata": {},
   "outputs": [],
   "source": [
    "# add something\n",
    "g['a'] = np.random.rand(g.grid.size).reshape(g.shape)"
   ]
  },
  {
   "cell_type": "code",
   "execution_count": 8,
   "metadata": {},
   "outputs": [
    {
     "data": {
      "text/html": [
       "<table>\n",
       "<tbody>\n",
       "<tr><td><b>y \\ x</b></td><td><b>[-0.5 | 0 | 0.5]</b></td><td><b>[0.5 | 1 | 1.5]</b></td><td><b>[1.5 | 2 | 2.5]</b></td><td><b>[2.5 | 3 | 3.5]</b></td><td><b>[3.5 | 4 | 4.5]</b></td><td><b>[4.5 | 5 | 5.5]</b></td><td>...</td><td><b>[14 | 14 | 14]</b></td><td><b>[14 | 15 | 16]</b></td><td><b>[16 | 16 | 16]</b></td><td><b>[16 | 17 | 18]</b></td><td><b>[18 | 18 | 18]</b></td><td><b>[18 | 19 | 20]</b></td></tr>\n",
       "<tr><td><b>0</b>    </td><td>a = 0.43               </td><td>a = 0.85              </td><td>a = 0.42              </td><td>a = 0.0076            </td><td>a = 0.24              </td><td>a = 0.4               </td><td>...</td><td>a = 0.79             </td><td>a = 0.79             </td><td>a = 0.85             </td><td>a = 0.094            </td><td>a = 0.48             </td><td>a = 0.63             </td></tr>\n",
       "<tr><td><b>1</b>    </td><td>a = 0.088              </td><td>a = 0.67              </td><td>a = 0.17              </td><td>a = 0.76              </td><td>a = 0.38              </td><td>a = 0.56              </td><td>...</td><td>a = 0.16             </td><td>a = 0.66             </td><td>a = 0.32             </td><td>a = 0.8              </td><td>a = 0.38             </td><td>a = 0.43             </td></tr>\n",
       "<tr><td><b>2</b>    </td><td>a = 0.66               </td><td>a = 0.95              </td><td>a = 0.43              </td><td>a = 0.29              </td><td>a = 0.59              </td><td>a = 0.008             </td><td>...</td><td>a = 0.34             </td><td>a = 0.44             </td><td>a = 0.56             </td><td>a = 0.24             </td><td>a = 0.6              </td><td>a = 0.47             </td></tr>\n",
       "<tr><td><b>3</b>    </td><td>a = 0.9                </td><td>a = 0.34              </td><td>a = 0.97              </td><td>a = 0.27              </td><td>a = 0.38              </td><td>a = 0.96              </td><td>...</td><td>a = 0.77             </td><td>a = 0.0042           </td><td>a = 0.36             </td><td>a = 0.37             </td><td>a = 0.89             </td><td>a = 0.22             </td></tr>\n",
       "<tr><td><b>4</b>    </td><td>a = 0.6                </td><td>a = 0.93              </td><td>a = 0.8               </td><td>a = 0.92              </td><td>a = 0.32              </td><td>a = 0.046             </td><td>...</td><td>a = 0.55             </td><td>a = 0.35             </td><td>a = 0.39             </td><td>a = 0.42             </td><td>a = 0.81             </td><td>a = 0.66             </td></tr>\n",
       "</tbody>\n",
       "</table>"
      ],
      "text/plain": [
       "GridData(Grid(\n",
       "Axis(\"x\",\n",
       "points = array([ 0,  1,  2,  3,  4,  5,  6,  7,  8,  9, 10, 11, 12, 13, 14, 15, 16,\n",
       "       17, 18, 19]),\n",
       "edges = edges: array([[-0.5,  0.5],\n",
       "       [ 0.5,  1.5],\n",
       "       [ 1.5,  2.5],\n",
       "       [ 2.5,  3.5],\n",
       "       [ 3.5,  4.5],\n",
       "       [ 4.5,  5.5],\n",
       "       [ 5.5,  6.5],\n",
       "       [ 6.5,  7.5],\n",
       "       [ 7.5,  8.5],\n",
       "       [ 8.5,  9.5],\n",
       "       [ 9.5, 10.5],\n",
       "       [10.5, 11.5],\n",
       "       [11.5, 12.5],\n",
       "       [12.5, 13.5],\n",
       "       [13.5, 14.5],\n",
       "       [14.5, 15.5],\n",
       "       [15.5, 16.5],\n",
       "       [16.5, 17.5],\n",
       "       [17.5, 18.5],\n",
       "       [18.5, 19.5]]))\n",
       "nbins = 20),\n",
       "Axis(\"y\",\n",
       "points = array([0, 1, 2, 3, 4]),\n",
       "edges = edges: None)\n",
       "nbins = 5),)\n",
       "[GridArray(a : [[0.42650651 0.08841262 0.65603125 0.90193056 0.60435964]\n",
       " [0.84928844 0.66927707 0.95396353 0.3403454  0.92569702]\n",
       " [0.42305686 0.17199805 0.42836883 0.96733786 0.80113828]\n",
       " [0.00756194 0.75777209 0.28758397 0.27176994 0.92312798]\n",
       " [0.23948777 0.38301604 0.58950698 0.37635754 0.31654917]\n",
       " [0.39586844 0.55990162 0.00803872 0.96303506 0.04574157]\n",
       " [0.14531024 0.02163611 0.73264906 0.1345545  0.97605709]\n",
       " [0.44945697 0.39283611 0.94880498 0.59439472 0.43005778]\n",
       " [0.70080324 0.36544196 0.76767331 0.09619144 0.67262229]\n",
       " [0.59730257 0.79893815 0.53978705 0.23627267 0.40071414]\n",
       " [0.12960167 0.98564403 0.62250388 0.41362403 0.19445148]\n",
       " [0.88009964 0.44441822 0.81071197 0.71618141 0.7294633 ]\n",
       " [0.41824145 0.7327171  0.09872942 0.03401247 0.25443439]\n",
       " [0.09600545 0.53762401 0.44305801 0.80283179 0.46607574]\n",
       " [0.79491016 0.15660884 0.33508485 0.77371216 0.55365169]\n",
       " [0.78948858 0.65983809 0.43994384 0.00420234 0.35209699]\n",
       " [0.84919673 0.32108528 0.56465983 0.36003323 0.39075924]\n",
       " [0.0936724  0.80386148 0.2399462  0.36600749 0.42027815]\n",
       " [0.48177859 0.3750921  0.59915905 0.88618276 0.80986706]\n",
       " [0.63423513 0.42533113 0.47120003 0.22267331 0.65880096]])])"
      ]
     },
     "execution_count": 8,
     "metadata": {},
     "output_type": "execute_result"
    }
   ],
   "source": [
    "g"
   ]
  },
  {
   "cell_type": "code",
   "execution_count": 9,
   "metadata": {},
   "outputs": [],
   "source": [
    "g['b'] = np.ones(g.shape)"
   ]
  },
  {
   "cell_type": "code",
   "execution_count": 10,
   "metadata": {},
   "outputs": [
    {
     "data": {
      "text/plain": [
       "(20, 5)"
      ]
     },
     "execution_count": 10,
     "metadata": {},
     "output_type": "execute_result"
    }
   ],
   "source": [
    "g.shape"
   ]
  },
  {
   "cell_type": "code",
   "execution_count": 11,
   "metadata": {},
   "outputs": [
    {
     "data": {
      "text/html": [
       "<table>\n",
       "<tbody>\n",
       "<tr><td><b>x \\ y</b>           </td><td><b>0</b></td><td><b>1</b></td><td><b>2</b></td><td><b>3</b></td><td><b>4</b></td></tr>\n",
       "<tr><td><b>[-0.5 | 0 | 0.5]</b></td><td>1       </td><td>1       </td><td>1       </td><td>1       </td><td>1       </td></tr>\n",
       "<tr><td><b>[0.5 | 1 | 1.5]</b> </td><td>1       </td><td>1       </td><td>1       </td><td>1       </td><td>1       </td></tr>\n",
       "<tr><td><b>[1.5 | 2 | 2.5]</b> </td><td>1       </td><td>1       </td><td>1       </td><td>1       </td><td>1       </td></tr>\n",
       "<tr><td><b>[2.5 | 3 | 3.5]</b> </td><td>1       </td><td>1       </td><td>1       </td><td>1       </td><td>1       </td></tr>\n",
       "<tr><td><b>[3.5 | 4 | 4.5]</b> </td><td>1       </td><td>1       </td><td>1       </td><td>1       </td><td>1       </td></tr>\n",
       "<tr><td><b>[4.5 | 5 | 5.5]</b> </td><td>1       </td><td>1       </td><td>1       </td><td>1       </td><td>1       </td></tr>\n",
       "<tr><td>...                    </td><td>...     </td><td>...     </td><td>...     </td><td>...     </td><td>...     </td></tr>\n",
       "<tr><td><b>[14 | 14 | 14]</b>  </td><td>1       </td><td>1       </td><td>1       </td><td>1       </td><td>1       </td></tr>\n",
       "<tr><td><b>[14 | 15 | 16]</b>  </td><td>1       </td><td>1       </td><td>1       </td><td>1       </td><td>1       </td></tr>\n",
       "<tr><td><b>[16 | 16 | 16]</b>  </td><td>1       </td><td>1       </td><td>1       </td><td>1       </td><td>1       </td></tr>\n",
       "<tr><td><b>[16 | 17 | 18]</b>  </td><td>1       </td><td>1       </td><td>1       </td><td>1       </td><td>1       </td></tr>\n",
       "<tr><td><b>[18 | 18 | 18]</b>  </td><td>1       </td><td>1       </td><td>1       </td><td>1       </td><td>1       </td></tr>\n",
       "<tr><td><b>[18 | 19 | 20]</b>  </td><td>1       </td><td>1       </td><td>1       </td><td>1       </td><td>1       </td></tr>\n",
       "</tbody>\n",
       "</table>"
      ],
      "text/plain": [
       "GridArray(b : [[1. 1. 1. 1. 1. 1. 1. 1. 1. 1. 1. 1. 1. 1. 1. 1. 1. 1. 1. 1.]\n",
       " [1. 1. 1. 1. 1. 1. 1. 1. 1. 1. 1. 1. 1. 1. 1. 1. 1. 1. 1. 1.]\n",
       " [1. 1. 1. 1. 1. 1. 1. 1. 1. 1. 1. 1. 1. 1. 1. 1. 1. 1. 1. 1.]\n",
       " [1. 1. 1. 1. 1. 1. 1. 1. 1. 1. 1. 1. 1. 1. 1. 1. 1. 1. 1. 1.]\n",
       " [1. 1. 1. 1. 1. 1. 1. 1. 1. 1. 1. 1. 1. 1. 1. 1. 1. 1. 1. 1.]])"
      ]
     },
     "execution_count": 11,
     "metadata": {},
     "output_type": "execute_result"
    }
   ],
   "source": [
    "g['b'].T"
   ]
  },
  {
   "cell_type": "code",
   "execution_count": 13,
   "metadata": {},
   "outputs": [
    {
     "data": {
      "text/html": [
       "<table>\n",
       "<tbody>\n",
       "<tr><td><b>y \\ x</b></td><td><b>[-0.5 | 0 | 0.5]</b></td><td><b>[0.5 | 1 | 1.5]</b></td><td><b>[1.5 | 2 | 2.5]</b></td><td><b>[2.5 | 3 | 3.5]</b></td><td><b>[3.5 | 4 | 4.5]</b></td><td><b>[4.5 | 5 | 5.5]</b></td><td>...</td><td><b>[14 | 14 | 14]</b></td><td><b>[14 | 15 | 16]</b></td><td><b>[16 | 16 | 16]</b></td><td><b>[16 | 17 | 18]</b></td><td><b>[18 | 18 | 18]</b></td><td><b>[18 | 19 | 20]</b></td></tr>\n",
       "<tr><td><b>0</b>    </td><td>1                      </td><td>--                    </td><td>1                     </td><td>1                     </td><td>1                     </td><td>1                     </td><td>...</td><td>--                   </td><td>--                   </td><td>--                   </td><td>1                    </td><td>1                    </td><td>--                   </td></tr>\n",
       "<tr><td><b>1</b>    </td><td>1                      </td><td>--                    </td><td>1                     </td><td>--                    </td><td>1                     </td><td>--                    </td><td>...</td><td>1                    </td><td>--                   </td><td>1                    </td><td>--                   </td><td>1                    </td><td>1                    </td></tr>\n",
       "<tr><td><b>2</b>    </td><td>--                     </td><td>--                    </td><td>1                     </td><td>1                     </td><td>--                    </td><td>1                     </td><td>...</td><td>1                    </td><td>1                    </td><td>--                   </td><td>1                    </td><td>--                   </td><td>1                    </td></tr>\n",
       "<tr><td><b>3</b>    </td><td>--                     </td><td>1                     </td><td>--                    </td><td>1                     </td><td>1                     </td><td>--                    </td><td>...</td><td>--                   </td><td>1                    </td><td>1                    </td><td>1                    </td><td>--                   </td><td>1                    </td></tr>\n",
       "<tr><td><b>4</b>    </td><td>--                     </td><td>--                    </td><td>--                    </td><td>--                    </td><td>1                     </td><td>1                     </td><td>...</td><td>--                   </td><td>1                    </td><td>1                    </td><td>1                    </td><td>--                   </td><td>--                   </td></tr>\n",
       "</tbody>\n",
       "</table>"
      ],
      "text/plain": [
       "GridArray(b : [[1.0 1.0 -- -- --]\n",
       " [-- -- -- 1.0 --]\n",
       " [1.0 1.0 1.0 -- --]\n",
       " [1.0 -- 1.0 1.0 --]\n",
       " [1.0 1.0 -- 1.0 1.0]\n",
       " [1.0 -- 1.0 -- 1.0]\n",
       " [1.0 1.0 -- 1.0 --]\n",
       " [1.0 1.0 -- -- 1.0]\n",
       " [-- 1.0 -- 1.0 --]\n",
       " [-- -- -- 1.0 1.0]\n",
       " [1.0 -- -- 1.0 1.0]\n",
       " [-- 1.0 -- -- --]\n",
       " [1.0 -- 1.0 1.0 1.0]\n",
       " [1.0 -- 1.0 -- 1.0]\n",
       " [-- 1.0 1.0 -- --]\n",
       " [-- -- 1.0 1.0 1.0]\n",
       " [-- 1.0 -- 1.0 1.0]\n",
       " [1.0 -- 1.0 1.0 1.0]\n",
       " [1.0 1.0 -- -- --]\n",
       " [-- 1.0 1.0 1.0 --]])"
      ]
     },
     "execution_count": 13,
     "metadata": {},
     "output_type": "execute_result"
    }
   ],
   "source": [
    "g['b'][g['a'] < 0.5]"
   ]
  },
  {
   "cell_type": "code",
   "execution_count": 20,
   "metadata": {},
   "outputs": [
    {
     "name": "stdout",
     "output_type": "stream",
     "text": [
      "46\n"
     ]
    }
   ],
   "source": [
    "g['b'][g['a'] < 0.5] *= -1"
   ]
  },
  {
   "cell_type": "code",
   "execution_count": 21,
   "metadata": {},
   "outputs": [
    {
     "data": {
      "text/html": [
       "<table>\n",
       "<tbody>\n",
       "<tr><td><b>y \\ x</b></td><td><b>[-0.5 | 0 | 0.5]</b></td><td><b>[0.5 | 1 | 1.5]</b></td><td><b>[1.5 | 2 | 2.5]</b></td><td><b>[2.5 | 3 | 3.5]</b></td><td><b>[3.5 | 4 | 4.5]</b></td><td><b>[4.5 | 5 | 5.5]</b></td><td>...</td><td><b>[14 | 14 | 14]</b></td><td><b>[14 | 15 | 16]</b></td><td><b>[16 | 16 | 16]</b></td><td><b>[16 | 17 | 18]</b></td><td><b>[18 | 18 | 18]</b></td><td><b>[18 | 19 | 20]</b></td></tr>\n",
       "<tr><td><b>0</b>    </td><td>1                      </td><td>1                     </td><td>1                     </td><td>1                     </td><td>1                     </td><td>1                     </td><td>...</td><td>1                    </td><td>1                    </td><td>1                    </td><td>1                    </td><td>1                    </td><td>1                    </td></tr>\n",
       "<tr><td><b>1</b>    </td><td>1                      </td><td>1                     </td><td>1                     </td><td>1                     </td><td>1                     </td><td>1                     </td><td>...</td><td>1                    </td><td>1                    </td><td>1                    </td><td>1                    </td><td>1                    </td><td>1                    </td></tr>\n",
       "<tr><td><b>2</b>    </td><td>1                      </td><td>1                     </td><td>1                     </td><td>1                     </td><td>1                     </td><td>1                     </td><td>...</td><td>1                    </td><td>1                    </td><td>1                    </td><td>1                    </td><td>1                    </td><td>1                    </td></tr>\n",
       "<tr><td><b>3</b>    </td><td>1                      </td><td>1                     </td><td>1                     </td><td>1                     </td><td>1                     </td><td>1                     </td><td>...</td><td>1                    </td><td>1                    </td><td>1                    </td><td>1                    </td><td>1                    </td><td>1                    </td></tr>\n",
       "<tr><td><b>4</b>    </td><td>1                      </td><td>1                     </td><td>1                     </td><td>1                     </td><td>1                     </td><td>1                     </td><td>...</td><td>1                    </td><td>1                    </td><td>1                    </td><td>1                    </td><td>1                    </td><td>1                    </td></tr>\n",
       "</tbody>\n",
       "</table>"
      ],
      "text/plain": [
       "GridArray(b : [[1. 1. 1. 1. 1.]\n",
       " [1. 1. 1. 1. 1.]\n",
       " [1. 1. 1. 1. 1.]\n",
       " [1. 1. 1. 1. 1.]\n",
       " [1. 1. 1. 1. 1.]\n",
       " [1. 1. 1. 1. 1.]\n",
       " [1. 1. 1. 1. 1.]\n",
       " [1. 1. 1. 1. 1.]\n",
       " [1. 1. 1. 1. 1.]\n",
       " [1. 1. 1. 1. 1.]\n",
       " [1. 1. 1. 1. 1.]\n",
       " [1. 1. 1. 1. 1.]\n",
       " [1. 1. 1. 1. 1.]\n",
       " [1. 1. 1. 1. 1.]\n",
       " [1. 1. 1. 1. 1.]\n",
       " [1. 1. 1. 1. 1.]\n",
       " [1. 1. 1. 1. 1.]\n",
       " [1. 1. 1. 1. 1.]\n",
       " [1. 1. 1. 1. 1.]\n",
       " [1. 1. 1. 1. 1.]])"
      ]
     },
     "execution_count": 21,
     "metadata": {},
     "output_type": "execute_result"
    }
   ],
   "source": [
    "g['b']"
   ]
  },
  {
   "cell_type": "code",
   "execution_count": null,
   "metadata": {},
   "outputs": [],
   "source": [
    "np.sum(g['a'], axis='y')"
   ]
  },
  {
   "cell_type": "code",
   "execution_count": null,
   "metadata": {},
   "outputs": [],
   "source": [
    "g[:,-2]"
   ]
  },
  {
   "cell_type": "code",
   "execution_count": null,
   "metadata": {},
   "outputs": [],
   "source": [
    "g[::-1, ::-1]"
   ]
  },
  {
   "cell_type": "code",
   "execution_count": null,
   "metadata": {},
   "outputs": [],
   "source": [
    "g[[0,3,5], 2:-1]"
   ]
  },
  {
   "cell_type": "code",
   "execution_count": null,
   "metadata": {},
   "outputs": [],
   "source": [
    "g[0,0]"
   ]
  },
  {
   "cell_type": "code",
   "execution_count": null,
   "metadata": {},
   "outputs": [],
   "source": [
    "g.grid.edges[0].max()"
   ]
  },
  {
   "cell_type": "code",
   "execution_count": null,
   "metadata": {},
   "outputs": [],
   "source": [
    "np.mean(g['b'], axis='x') + np.std(g['a'], axis='x')"
   ]
  },
  {
   "cell_type": "code",
   "execution_count": null,
   "metadata": {},
   "outputs": [],
   "source": [
    "g['c'] = np.sqrt(g['x']) * np.sqrt(g['y'])"
   ]
  },
  {
   "cell_type": "code",
   "execution_count": null,
   "metadata": {},
   "outputs": [],
   "source": [
    "g.plot('c', cbar=True)"
   ]
  },
  {
   "cell_type": "code",
   "execution_count": null,
   "metadata": {},
   "outputs": [],
   "source": [
    "g['m'] = np.arange(g.grid.size * 3).reshape(g.shape + (-1,))"
   ]
  },
  {
   "cell_type": "code",
   "execution_count": null,
   "metadata": {},
   "outputs": [],
   "source": [
    "g.plot('m') #it's interpreted as an RGB image, since the excess dimension is 3"
   ]
  },
  {
   "cell_type": "code",
   "execution_count": null,
   "metadata": {},
   "outputs": [],
   "source": [
    "g['m'][:,:,0]"
   ]
  },
  {
   "cell_type": "code",
   "execution_count": null,
   "metadata": {},
   "outputs": [],
   "source": [
    "g[:,3]"
   ]
  },
  {
   "cell_type": "code",
   "execution_count": null,
   "metadata": {},
   "outputs": [],
   "source": [
    "g['m']"
   ]
  },
  {
   "cell_type": "code",
   "execution_count": null,
   "metadata": {},
   "outputs": [],
   "source": [
    "g.T[:,3:5]['m']"
   ]
  },
  {
   "cell_type": "code",
   "execution_count": null,
   "metadata": {},
   "outputs": [],
   "source": [
    "np.sum(g)"
   ]
  },
  {
   "cell_type": "code",
   "execution_count": null,
   "metadata": {},
   "outputs": [],
   "source": [
    "np.sum(g, axis=(0))"
   ]
  },
  {
   "cell_type": "code",
   "execution_count": null,
   "metadata": {},
   "outputs": [],
   "source": [
    "n"
   ]
  },
  {
   "cell_type": "markdown",
   "metadata": {},
   "source": [
    "# Stuff to fix"
   ]
  },
  {
   "cell_type": "code",
   "execution_count": null,
   "metadata": {},
   "outputs": [],
   "source": [
    "np.sum(g['m'], axis=(0,1))"
   ]
  },
  {
   "cell_type": "code",
   "execution_count": null,
   "metadata": {},
   "outputs": [],
   "source": [
    "# because of this\n",
    "np.sum(g['m'], axis=-1).grid"
   ]
  },
  {
   "cell_type": "code",
   "execution_count": null,
   "metadata": {},
   "outputs": [],
   "source": [
    "np.sum(g['m'], axis=-1)"
   ]
  },
  {
   "cell_type": "code",
   "execution_count": null,
   "metadata": {},
   "outputs": [],
   "source": []
  },
  {
   "cell_type": "code",
   "execution_count": null,
   "metadata": {},
   "outputs": [],
   "source": [
    "1 - 3 * g['a']"
   ]
  },
  {
   "cell_type": "code",
   "execution_count": null,
   "metadata": {},
   "outputs": [],
   "source": [
    "2 ** g['a']"
   ]
  },
  {
   "cell_type": "code",
   "execution_count": null,
   "metadata": {},
   "outputs": [],
   "source": [
    "g['a']"
   ]
  },
  {
   "cell_type": "code",
   "execution_count": null,
   "metadata": {},
   "outputs": [],
   "source": [
    "2 ** 0.04"
   ]
  },
  {
   "cell_type": "code",
   "execution_count": null,
   "metadata": {},
   "outputs": [],
   "source": []
  }
 ],
 "metadata": {
  "kernelspec": {
   "display_name": "Python 3",
   "language": "python",
   "name": "python3"
  },
  "language_info": {
   "codemirror_mode": {
    "name": "ipython",
    "version": 3
   },
   "file_extension": ".py",
   "mimetype": "text/x-python",
   "name": "python",
   "nbconvert_exporter": "python",
   "pygments_lexer": "ipython3",
   "version": "3.7.3"
  }
 },
 "nbformat": 4,
 "nbformat_minor": 4
}
