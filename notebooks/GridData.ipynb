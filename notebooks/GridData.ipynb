{
 "cells": [
  {
   "cell_type": "code",
   "execution_count": 1,
   "metadata": {},
   "outputs": [],
   "source": [
    "%reload_ext autoreload\n",
    "%autoreload 2\n",
    "import numpy as np\n",
    "import pynocular as pn\n",
    "from matplotlib import pyplot as plt"
   ]
  },
  {
   "cell_type": "code",
   "execution_count": 54,
   "metadata": {},
   "outputs": [
    {
     "ename": "NotImplementedError",
     "evalue": "",
     "output_type": "error",
     "traceback": [
      "\u001b[0;31m---------------------------------------------------------------------------\u001b[0m",
      "\u001b[0;31mNotImplementedError\u001b[0m                       Traceback (most recent call last)",
      "\u001b[0;32m<ipython-input-54-f3e68ad823b1>\u001b[0m in \u001b[0;36m<module>\u001b[0;34m\u001b[0m\n\u001b[1;32m      1\u001b[0m \u001b[0;31m#g = pn.GridData(x=np.arange(20), y=np.arange(5))\u001b[0m\u001b[0;34m\u001b[0m\u001b[0;34m\u001b[0m\u001b[0;34m\u001b[0m\u001b[0m\n\u001b[0;32m----> 2\u001b[0;31m \u001b[0mg\u001b[0m \u001b[0;34m=\u001b[0m \u001b[0mpn\u001b[0m\u001b[0;34m.\u001b[0m\u001b[0mGridData\u001b[0m\u001b[0;34m(\u001b[0m\u001b[0mx\u001b[0m\u001b[0;34m=\u001b[0m\u001b[0mpn\u001b[0m\u001b[0;34m.\u001b[0m\u001b[0medges\u001b[0m\u001b[0;34m(\u001b[0m\u001b[0;36m20\u001b[0m\u001b[0;34m)\u001b[0m\u001b[0;34m,\u001b[0m \u001b[0my\u001b[0m\u001b[0;34m=\u001b[0m\u001b[0mnp\u001b[0m\u001b[0;34m.\u001b[0m\u001b[0marange\u001b[0m\u001b[0;34m(\u001b[0m\u001b[0;36m5\u001b[0m\u001b[0;34m)\u001b[0m\u001b[0;34m)\u001b[0m\u001b[0;34m\u001b[0m\u001b[0;34m\u001b[0m\u001b[0m\n\u001b[0m",
      "\u001b[0;32m~/pynocular/pynocular/grid.py\u001b[0m in \u001b[0;36m__init__\u001b[0;34m(self, delta, points, *args, **kwargs)\u001b[0m\n\u001b[1;32m     52\u001b[0m             \u001b[0;32mpass\u001b[0m\u001b[0;34m\u001b[0m\u001b[0;34m\u001b[0m\u001b[0m\n\u001b[1;32m     53\u001b[0m         \u001b[0;32melse\u001b[0m\u001b[0;34m:\u001b[0m\u001b[0;34m\u001b[0m\u001b[0;34m\u001b[0m\u001b[0m\n\u001b[0;32m---> 54\u001b[0;31m             \u001b[0;32mraise\u001b[0m \u001b[0mNotImplementedError\u001b[0m\u001b[0;34m(\u001b[0m\u001b[0;34m)\u001b[0m\u001b[0;34m\u001b[0m\u001b[0;34m\u001b[0m\u001b[0m\n\u001b[0m\u001b[1;32m     55\u001b[0m \u001b[0;34m\u001b[0m\u001b[0m\n\u001b[1;32m     56\u001b[0m     \u001b[0;32mdef\u001b[0m \u001b[0m__array__\u001b[0m\u001b[0;34m(\u001b[0m\u001b[0mself\u001b[0m\u001b[0;34m)\u001b[0m\u001b[0;34m:\u001b[0m\u001b[0;34m\u001b[0m\u001b[0;34m\u001b[0m\u001b[0m\n",
      "\u001b[0;31mNotImplementedError\u001b[0m: "
     ]
    }
   ],
   "source": [
    "#g = pn.GridData(x=np.arange(20), y=np.arange(5))\n",
    "g = pn.GridData(x=pn.edges(20), y=np.arange(5))"
   ]
  },
  {
   "cell_type": "code",
   "execution_count": 3,
   "metadata": {},
   "outputs": [],
   "source": [
    "g.grid['x'].edges = pn.edges(points=g.grid['x'].points)"
   ]
  },
  {
   "cell_type": "code",
   "execution_count": 39,
   "metadata": {},
   "outputs": [],
   "source": [
    "e = pn.edges(points=np.arange(11))"
   ]
  },
  {
   "cell_type": "code",
   "execution_count": 49,
   "metadata": {},
   "outputs": [
    {
     "data": {
      "text/plain": [
       "-0.5"
      ]
     },
     "execution_count": 49,
     "metadata": {},
     "output_type": "execute_result"
    }
   ],
   "source": [
    "e[0,0]"
   ]
  },
  {
   "cell_type": "code",
   "execution_count": 52,
   "metadata": {},
   "outputs": [
    {
     "name": "stdout",
     "output_type": "stream",
     "text": [
      "hello\n"
     ]
    },
    {
     "data": {
      "text/html": [
       "<table>\n",
       "<tbody>\n",
       "<tr><td><b>y \\ x</b></td><td><b>[-0.5 | 0 | 0.5]</b>                      </td><td><b>[0.5 | 1 | 1.5]</b>                        </td><td><b>[1.5 | 2 | 2.5]</b>                         </td><td><b>[2.5 | 3 | 3.5]</b>                        </td><td><b>[3.5 | 4 | 4.5]</b>                         </td><td><b>[4.5 | 5 | 5.5]</b>                           </td><td>...</td><td><b>[14 | 14 | 14]</b>                             </td><td><b>[14 | 15 | 16]</b>                              </td><td><b>[16 | 16 | 16]</b>                             </td><td><b>[16 | 17 | 18]</b>                             </td><td><b>[18 | 18 | 18]</b>                             </td><td><b>[18 | 19 | 20]</b>                             </td></tr>\n",
       "<tr><td><b>0</b>    </td><td>a = 0.29<br>b = -1<br>c = 0<br>m = [0 1 2]   </td><td>a = 0.9<br>b = 1<br>c = 0<br>m = [15 16 17]   </td><td>a = 0.95<br>b = 1<br>c = 0<br>m = [30 31 32]   </td><td>a = 0.011<br>b = -1<br>c = 0<br>m = [45 46 47]</td><td>a = 0.8<br>b = 1<br>c = 0<br>m = [60 61 62]    </td><td>a = 0.56<br>b = 1<br>c = 0<br>m = [75 76 77]     </td><td>...</td><td>a = 0.38<br>b = -1<br>c = 0<br>m = [210 211 212]  </td><td>a = 0.52<br>b = 1<br>c = 0<br>m = [225 226 227]    </td><td>a = 0.88<br>b = 1<br>c = 0<br>m = [240 241 242]   </td><td>a = 0.27<br>b = -1<br>c = 0<br>m = [255 256 257]  </td><td>a = 0.019<br>b = -1<br>c = 0<br>m = [270 271 272] </td><td>a = 0.67<br>b = 1<br>c = 0<br>m = [285 286 287]   </td></tr>\n",
       "<tr><td><b>1</b>    </td><td>a = 0.23<br>b = -1<br>c = 0<br>m = [3 4 5]   </td><td>a = 0.4<br>b = -1<br>c = 1<br>m = [18 19 20]  </td><td>a = 0.6<br>b = 1<br>c = 1.4<br>m = [33 34 35]  </td><td>a = 0.77<br>b = 1<br>c = 1.7<br>m = [48 49 50]</td><td>a = 0.3<br>b = -1<br>c = 2<br>m = [63 64 65]   </td><td>a = 0.3<br>b = -1<br>c = 2.2<br>m = [78 79 80]   </td><td>...</td><td>a = 0.52<br>b = 1<br>c = 3.7<br>m = [213 214 215] </td><td>a = 0.93<br>b = 1<br>c = 3.9<br>m = [228 229 230]  </td><td>a = 0.84<br>b = 1<br>c = 4<br>m = [243 244 245]   </td><td>a = 0.54<br>b = 1<br>c = 4.1<br>m = [258 259 260] </td><td>a = 0.62<br>b = 1<br>c = 4.2<br>m = [273 274 275] </td><td>a = 0.18<br>b = -1<br>c = 4.4<br>m = [288 289 290]</td></tr>\n",
       "<tr><td><b>2</b>    </td><td>a = 0.38<br>b = -1<br>c = 0<br>m = [6 7 8]   </td><td>a = 0.53<br>b = 1<br>c = 1.4<br>m = [21 22 23]</td><td>a = 0.71<br>b = 1<br>c = 2<br>m = [36 37 38]   </td><td>a = 0.95<br>b = 1<br>c = 2.4<br>m = [51 52 53]</td><td>a = 0.41<br>b = -1<br>c = 2.8<br>m = [66 67 68]</td><td>a = 0.79<br>b = 1<br>c = 3.2<br>m = [81 82 83]   </td><td>...</td><td>a = 0.54<br>b = 1<br>c = 5.3<br>m = [216 217 218] </td><td>a = 0.052<br>b = -1<br>c = 5.5<br>m = [231 232 233]</td><td>a = 0.53<br>b = 1<br>c = 5.7<br>m = [246 247 248] </td><td>a = 0.83<br>b = 1<br>c = 5.8<br>m = [261 262 263] </td><td>a = 0.89<br>b = 1<br>c = 6<br>m = [276 277 278]   </td><td>a = 0.93<br>b = 1<br>c = 6.2<br>m = [291 292 293] </td></tr>\n",
       "<tr><td><b>3</b>    </td><td>a = 0.48<br>b = -1<br>c = 0<br>m = [ 9 10 11]</td><td>a = 0.94<br>b = 1<br>c = 1.7<br>m = [24 25 26]</td><td>a = 0.34<br>b = -1<br>c = 2.4<br>m = [39 40 41]</td><td>a = 0.02<br>b = -1<br>c = 3<br>m = [54 55 56] </td><td>a = 0.13<br>b = -1<br>c = 3.5<br>m = [69 70 71]</td><td>a = 0.0014<br>b = -1<br>c = 3.9<br>m = [84 85 86]</td><td>...</td><td>a = 0.87<br>b = 1<br>c = 6.5<br>m = [219 220 221] </td><td>a = 0.46<br>b = -1<br>c = 6.7<br>m = [234 235 236] </td><td>a = 0.59<br>b = 1<br>c = 6.9<br>m = [249 250 251] </td><td>a = 0.22<br>b = -1<br>c = 7.1<br>m = [264 265 266]</td><td>a = 0.44<br>b = -1<br>c = 7.3<br>m = [279 280 281]</td><td>a = 0.12<br>b = -1<br>c = 7.5<br>m = [294 295 296]</td></tr>\n",
       "<tr><td><b>4</b>    </td><td>a = 0.26<br>b = -1<br>c = 0<br>m = [12 13 14]</td><td>a = 0.035<br>b = -1<br>c = 2<br>m = [27 28 29]</td><td>a = 0.98<br>b = 1<br>c = 2.8<br>m = [42 43 44] </td><td>a = 0.57<br>b = 1<br>c = 3.5<br>m = [57 58 59]</td><td>a = 0.42<br>b = -1<br>c = 4<br>m = [72 73 74]  </td><td>a = 0.63<br>b = 1<br>c = 4.5<br>m = [87 88 89]   </td><td>...</td><td>a = 0.28<br>b = -1<br>c = 7.5<br>m = [222 223 224]</td><td>a = 0.67<br>b = 1<br>c = 7.7<br>m = [237 238 239]  </td><td>a = 0.0094<br>b = -1<br>c = 8<br>m = [252 253 254]</td><td>a = 0.76<br>b = 1<br>c = 8.2<br>m = [267 268 269] </td><td>a = 0.63<br>b = 1<br>c = 8.5<br>m = [282 283 284] </td><td>a = 0.86<br>b = 1<br>c = 8.7<br>m = [297 298 299] </td></tr>\n",
       "</tbody>\n",
       "</table>"
      ],
      "text/plain": [
       "GridData(Grid(\n",
       "Axis(\"x\",\n",
       "points = array([ 0,  1,  2,  3,  4,  5,  6,  7,  8,  9, 10, 11, 12, 13, 14, 15, 16,\n",
       "       17, 18, 19]),\n",
       "edges = edges: array([[-0.5,  0.5],\n",
       "       [ 0.5,  1.5],\n",
       "       [ 1.5,  2.5],\n",
       "       [ 2.5,  3.5],\n",
       "       [ 3.5,  4.5],\n",
       "       [ 4.5,  5.5],\n",
       "       [ 5.5,  6.5],\n",
       "       [ 6.5,  7.5],\n",
       "       [ 7.5,  8.5],\n",
       "       [ 8.5,  9.5],\n",
       "       [ 9.5, 10.5],\n",
       "       [10.5, 11.5],\n",
       "       [11.5, 12.5],\n",
       "       [12.5, 13.5],\n",
       "       [13.5, 14.5],\n",
       "       [14.5, 15.5],\n",
       "       [15.5, 16.5],\n",
       "       [16.5, 17.5],\n",
       "       [17.5, 18.5],\n",
       "       [18.5, 19.5]]))\n",
       "nbins = 20),\n",
       "Axis(\"y\",\n",
       "points = array([0, 1, 2, 3, 4]),\n",
       "edges = edges: None)\n",
       "nbins = 5),)\n",
       "[GridArray(a : [[0.28601132 0.22760912 0.37658576 0.48402267 0.25530198]\n",
       " [0.90176707 0.40132441 0.52860804 0.93883458 0.03491115]\n",
       " [0.94877067 0.6046086  0.71406356 0.34145825 0.97554393]\n",
       " [0.01074109 0.76745781 0.95301202 0.02021153 0.56822709]\n",
       " [0.79646868 0.29863227 0.40719495 0.12716441 0.42255473]\n",
       " [0.56386456 0.29560758 0.78738924 0.00136009 0.62544356]\n",
       " [0.98902064 0.37607821 0.72870184 0.49252654 0.88102655]\n",
       " [0.10257279 0.54086949 0.3956292  0.31351007 0.2029889 ]\n",
       " [0.42536216 0.40871072 0.87103536 0.43863342 0.33222237]\n",
       " [0.52701548 0.76682674 0.5417411  0.33506514 0.86250509]\n",
       " [0.24123947 0.18509736 0.0434884  0.96237689 0.68041585]\n",
       " [0.10178317 0.004886   0.18405079 0.94546805 0.75347416]\n",
       " [0.49489625 0.61104502 0.73108731 0.2686311  0.37611824]\n",
       " [0.34708036 0.6181495  0.81769095 0.82895081 0.76064026]\n",
       " [0.38367604 0.52055992 0.54444203 0.87311254 0.28495663]\n",
       " [0.51914538 0.93316353 0.05170641 0.46343809 0.67086513]\n",
       " [0.88248233 0.83975981 0.52753564 0.58722756 0.00937328]\n",
       " [0.27244383 0.53501262 0.82944749 0.22181902 0.75556965]\n",
       " [0.01855005 0.6188147  0.8868315  0.44455643 0.62899177]\n",
       " [0.66959085 0.17929959 0.92733323 0.11795257 0.86357509]]), GridArray(b : [[-1. -1. -1. -1. -1.]\n",
       " [ 1. -1.  1.  1. -1.]\n",
       " [ 1.  1.  1. -1.  1.]\n",
       " [-1.  1.  1. -1.  1.]\n",
       " [ 1. -1. -1. -1. -1.]\n",
       " [ 1. -1.  1. -1.  1.]\n",
       " [ 1. -1.  1. -1.  1.]\n",
       " [-1.  1. -1. -1. -1.]\n",
       " [-1. -1.  1. -1. -1.]\n",
       " [ 1.  1.  1. -1.  1.]\n",
       " [-1. -1. -1.  1.  1.]\n",
       " [-1. -1. -1.  1.  1.]\n",
       " [-1.  1.  1. -1. -1.]\n",
       " [-1.  1.  1.  1.  1.]\n",
       " [-1.  1.  1.  1. -1.]\n",
       " [ 1.  1. -1. -1.  1.]\n",
       " [ 1.  1.  1.  1. -1.]\n",
       " [-1.  1.  1. -1.  1.]\n",
       " [-1.  1.  1. -1.  1.]\n",
       " [ 1. -1.  1. -1.  1.]]), GridArray(c : [[0.         0.         0.         0.         0.        ]\n",
       " [0.         1.         1.41421356 1.73205081 2.        ]\n",
       " [0.         1.41421356 2.         2.44948974 2.82842712]\n",
       " [0.         1.73205081 2.44948974 3.         3.46410162]\n",
       " [0.         2.         2.82842712 3.46410162 4.        ]\n",
       " [0.         2.23606798 3.16227766 3.87298335 4.47213595]\n",
       " [0.         2.44948974 3.46410162 4.24264069 4.89897949]\n",
       " [0.         2.64575131 3.74165739 4.58257569 5.29150262]\n",
       " [0.         2.82842712 4.         4.89897949 5.65685425]\n",
       " [0.         3.         4.24264069 5.19615242 6.        ]\n",
       " [0.         3.16227766 4.47213595 5.47722558 6.32455532]\n",
       " [0.         3.31662479 4.69041576 5.74456265 6.63324958]\n",
       " [0.         3.46410162 4.89897949 6.         6.92820323]\n",
       " [0.         3.60555128 5.09901951 6.244998   7.21110255]\n",
       " [0.         3.74165739 5.29150262 6.4807407  7.48331477]\n",
       " [0.         3.87298335 5.47722558 6.70820393 7.74596669]\n",
       " [0.         4.         5.65685425 6.92820323 8.        ]\n",
       " [0.         4.12310563 5.83095189 7.14142843 8.24621125]\n",
       " [0.         4.24264069 6.         7.34846923 8.48528137]\n",
       " [0.         4.35889894 6.164414   7.54983444 8.71779789]]), GridArray(m : [[[  0   1   2]\n",
       "  [  3   4   5]\n",
       "  [  6   7   8]\n",
       "  [  9  10  11]\n",
       "  [ 12  13  14]]\n",
       "\n",
       " [[ 15  16  17]\n",
       "  [ 18  19  20]\n",
       "  [ 21  22  23]\n",
       "  [ 24  25  26]\n",
       "  [ 27  28  29]]\n",
       "\n",
       " [[ 30  31  32]\n",
       "  [ 33  34  35]\n",
       "  [ 36  37  38]\n",
       "  [ 39  40  41]\n",
       "  [ 42  43  44]]\n",
       "\n",
       " [[ 45  46  47]\n",
       "  [ 48  49  50]\n",
       "  [ 51  52  53]\n",
       "  [ 54  55  56]\n",
       "  [ 57  58  59]]\n",
       "\n",
       " [[ 60  61  62]\n",
       "  [ 63  64  65]\n",
       "  [ 66  67  68]\n",
       "  [ 69  70  71]\n",
       "  [ 72  73  74]]\n",
       "\n",
       " [[ 75  76  77]\n",
       "  [ 78  79  80]\n",
       "  [ 81  82  83]\n",
       "  [ 84  85  86]\n",
       "  [ 87  88  89]]\n",
       "\n",
       " [[ 90  91  92]\n",
       "  [ 93  94  95]\n",
       "  [ 96  97  98]\n",
       "  [ 99 100 101]\n",
       "  [102 103 104]]\n",
       "\n",
       " [[105 106 107]\n",
       "  [108 109 110]\n",
       "  [111 112 113]\n",
       "  [114 115 116]\n",
       "  [117 118 119]]\n",
       "\n",
       " [[120 121 122]\n",
       "  [123 124 125]\n",
       "  [126 127 128]\n",
       "  [129 130 131]\n",
       "  [132 133 134]]\n",
       "\n",
       " [[135 136 137]\n",
       "  [138 139 140]\n",
       "  [141 142 143]\n",
       "  [144 145 146]\n",
       "  [147 148 149]]\n",
       "\n",
       " [[150 151 152]\n",
       "  [153 154 155]\n",
       "  [156 157 158]\n",
       "  [159 160 161]\n",
       "  [162 163 164]]\n",
       "\n",
       " [[165 166 167]\n",
       "  [168 169 170]\n",
       "  [171 172 173]\n",
       "  [174 175 176]\n",
       "  [177 178 179]]\n",
       "\n",
       " [[180 181 182]\n",
       "  [183 184 185]\n",
       "  [186 187 188]\n",
       "  [189 190 191]\n",
       "  [192 193 194]]\n",
       "\n",
       " [[195 196 197]\n",
       "  [198 199 200]\n",
       "  [201 202 203]\n",
       "  [204 205 206]\n",
       "  [207 208 209]]\n",
       "\n",
       " [[210 211 212]\n",
       "  [213 214 215]\n",
       "  [216 217 218]\n",
       "  [219 220 221]\n",
       "  [222 223 224]]\n",
       "\n",
       " [[225 226 227]\n",
       "  [228 229 230]\n",
       "  [231 232 233]\n",
       "  [234 235 236]\n",
       "  [237 238 239]]\n",
       "\n",
       " [[240 241 242]\n",
       "  [243 244 245]\n",
       "  [246 247 248]\n",
       "  [249 250 251]\n",
       "  [252 253 254]]\n",
       "\n",
       " [[255 256 257]\n",
       "  [258 259 260]\n",
       "  [261 262 263]\n",
       "  [264 265 266]\n",
       "  [267 268 269]]\n",
       "\n",
       " [[270 271 272]\n",
       "  [273 274 275]\n",
       "  [276 277 278]\n",
       "  [279 280 281]\n",
       "  [282 283 284]]\n",
       "\n",
       " [[285 286 287]\n",
       "  [288 289 290]\n",
       "  [291 292 293]\n",
       "  [294 295 296]\n",
       "  [297 298 299]]])])"
      ]
     },
     "execution_count": 52,
     "metadata": {},
     "output_type": "execute_result"
    }
   ],
   "source": [
    "g"
   ]
  },
  {
   "cell_type": "code",
   "execution_count": 55,
   "metadata": {},
   "outputs": [],
   "source": [
    "# add something\n",
    "g['a'] = np.random.rand(g.grid.size).reshape(g.shape)"
   ]
  },
  {
   "cell_type": "code",
   "execution_count": 56,
   "metadata": {},
   "outputs": [
    {
     "data": {
      "text/html": [
       "<table>\n",
       "<tbody>\n",
       "<tr><td><b>y \\ x</b></td><td><b>0</b></td><td><b>1</b></td><td><b>2</b></td><td><b>3</b> </td><td><b>4</b>  </td><td><b>5</b> </td><td>...</td><td><b>14</b></td><td><b>15</b></td><td><b>16</b> </td><td><b>17</b> </td><td><b>18</b></td><td><b>19</b></td></tr>\n",
       "<tr><td><b>0</b>    </td><td>a = 0.04</td><td>a = 0.4 </td><td>a = 0.18</td><td>a = 0.75 </td><td>a = 0.24  </td><td>a = 0.098</td><td>...</td><td>a = 0.61 </td><td>a = 0.031</td><td>a = 0.16  </td><td>a = 0.53  </td><td>a = 0.71 </td><td>a = 0.4  </td></tr>\n",
       "<tr><td><b>1</b>    </td><td>a = 0.67</td><td>a = 0.89</td><td>a = 0.44</td><td>a = 0.027</td><td>a = 0.85  </td><td>a = 0.95 </td><td>...</td><td>a = 0.45 </td><td>a = 0.98 </td><td>a = 0.02  </td><td>a = 0.0038</td><td>a = 0.64 </td><td>a = 0.8  </td></tr>\n",
       "<tr><td><b>2</b>    </td><td>a = 0.84</td><td>a = 0.24</td><td>a = 0.33</td><td>a = 0.15 </td><td>a = 0.0025</td><td>a = 0.46 </td><td>...</td><td>a = 0.32 </td><td>a = 0.69 </td><td>a = 0.88  </td><td>a = 0.6   </td><td>a = 0.89 </td><td>a = 0.21 </td></tr>\n",
       "<tr><td><b>3</b>    </td><td>a = 0.97</td><td>a = 0.44</td><td>a = 0.83</td><td>a = 0.26 </td><td>a = 0.62  </td><td>a = 0.3  </td><td>...</td><td>a = 0.77 </td><td>a = 0.073</td><td>a = 0.74  </td><td>a = 0.43  </td><td>a = 0.41 </td><td>a = 0.9  </td></tr>\n",
       "<tr><td><b>4</b>    </td><td>a = 0.69</td><td>a = 0.17</td><td>a = 0.25</td><td>a = 0.75 </td><td>a = 0.69  </td><td>a = 0.93 </td><td>...</td><td>a = 0.6  </td><td>a = 0.19 </td><td>a = 0.0029</td><td>a = 0.077 </td><td>a = 0.076</td><td>a = 0.89 </td></tr>\n",
       "</tbody>\n",
       "</table>"
      ],
      "text/plain": [
       "GridData(Grid(\n",
       "Axis(\"x\",\n",
       "points = array([ 0,  1,  2,  3,  4,  5,  6,  7,  8,  9, 10, 11, 12, 13, 14, 15, 16,\n",
       "       17, 18, 19]),\n",
       "edges = edges: None)\n",
       "nbins = 20),\n",
       "Axis(\"y\",\n",
       "points = array([0, 1, 2, 3, 4]),\n",
       "edges = edges: None)\n",
       "nbins = 5),)\n",
       "[GridArray(a : [[0.03984081 0.66664926 0.83567201 0.9676864  0.68969736]\n",
       " [0.39861319 0.88988729 0.23615806 0.44027161 0.16823982]\n",
       " [0.18247607 0.43808573 0.33246738 0.83480197 0.25171937]\n",
       " [0.74522978 0.02727886 0.14999632 0.25893918 0.75262819]\n",
       " [0.23818357 0.85236616 0.00249705 0.6186721  0.68631669]\n",
       " [0.09765116 0.95043673 0.45710095 0.29807842 0.92750204]\n",
       " [0.89813459 0.26181981 0.25358884 0.94829742 0.70693566]\n",
       " [0.20165455 0.15713288 0.74612784 0.03617103 0.31578417]\n",
       " [0.40494149 0.07484461 0.60213737 0.2896884  0.03297239]\n",
       " [0.77888335 0.75969421 0.78220673 0.80231839 0.4034508 ]\n",
       " [0.48041686 0.45802773 0.06832432 0.0922543  0.9531102 ]\n",
       " [0.06198642 0.29834144 0.50192268 0.17528005 0.215916  ]\n",
       " [0.74747545 0.19792104 0.82795516 0.90694642 0.67906904]\n",
       " [0.71387433 0.40637737 0.24483385 0.79022605 0.24025722]\n",
       " [0.60741121 0.44896539 0.3227774  0.77176586 0.59600582]\n",
       " [0.03097481 0.97761043 0.69382518 0.07290973 0.18816778]\n",
       " [0.16304201 0.01987617 0.88465351 0.7412319  0.00287703]\n",
       " [0.52553586 0.00378849 0.59685541 0.43383252 0.07713491]\n",
       " [0.71446834 0.6404116  0.88619826 0.40536048 0.0763543 ]\n",
       " [0.39645743 0.79576254 0.21001893 0.90298377 0.88938774]])])"
      ]
     },
     "execution_count": 56,
     "metadata": {},
     "output_type": "execute_result"
    }
   ],
   "source": [
    "g"
   ]
  },
  {
   "cell_type": "code",
   "execution_count": 57,
   "metadata": {},
   "outputs": [],
   "source": [
    "g['b'] = np.ones(g.shape)"
   ]
  },
  {
   "cell_type": "code",
   "execution_count": 58,
   "metadata": {},
   "outputs": [
    {
     "data": {
      "text/plain": [
       "(20, 5)"
      ]
     },
     "execution_count": 58,
     "metadata": {},
     "output_type": "execute_result"
    }
   ],
   "source": [
    "g.shape"
   ]
  },
  {
   "cell_type": "code",
   "execution_count": 61,
   "metadata": {},
   "outputs": [
    {
     "data": {
      "text/html": [
       "<table>\n",
       "<tbody>\n",
       "<tr><td><b>x \\ y</b></td><td><b>0</b></td><td><b>1</b></td><td><b>2</b></td><td><b>3</b></td><td><b>4</b></td></tr>\n",
       "<tr><td><b>0</b>    </td><td>1       </td><td>1       </td><td>1       </td><td>1       </td><td>1       </td></tr>\n",
       "<tr><td><b>1</b>    </td><td>1       </td><td>1       </td><td>1       </td><td>1       </td><td>1       </td></tr>\n",
       "<tr><td><b>2</b>    </td><td>1       </td><td>1       </td><td>1       </td><td>1       </td><td>1       </td></tr>\n",
       "<tr><td><b>3</b>    </td><td>1       </td><td>1       </td><td>1       </td><td>1       </td><td>1       </td></tr>\n",
       "<tr><td><b>4</b>    </td><td>1       </td><td>1       </td><td>1       </td><td>1       </td><td>1       </td></tr>\n",
       "<tr><td><b>5</b>    </td><td>1       </td><td>1       </td><td>1       </td><td>1       </td><td>1       </td></tr>\n",
       "<tr><td>...         </td><td>...     </td><td>...     </td><td>...     </td><td>...     </td><td>...     </td></tr>\n",
       "<tr><td><b>14</b>   </td><td>1       </td><td>1       </td><td>1       </td><td>1       </td><td>1       </td></tr>\n",
       "<tr><td><b>15</b>   </td><td>1       </td><td>1       </td><td>1       </td><td>1       </td><td>1       </td></tr>\n",
       "<tr><td><b>16</b>   </td><td>1       </td><td>1       </td><td>1       </td><td>1       </td><td>1       </td></tr>\n",
       "<tr><td><b>17</b>   </td><td>1       </td><td>1       </td><td>1       </td><td>1       </td><td>1       </td></tr>\n",
       "<tr><td><b>18</b>   </td><td>1       </td><td>1       </td><td>1       </td><td>1       </td><td>1       </td></tr>\n",
       "<tr><td><b>19</b>   </td><td>1       </td><td>1       </td><td>1       </td><td>1       </td><td>1       </td></tr>\n",
       "</tbody>\n",
       "</table>"
      ],
      "text/plain": [
       "GridArray(b : [[1. 1. 1. 1. 1. 1. 1. 1. 1. 1. 1. 1. 1. 1. 1. 1. 1. 1. 1. 1.]\n",
       " [1. 1. 1. 1. 1. 1. 1. 1. 1. 1. 1. 1. 1. 1. 1. 1. 1. 1. 1. 1.]\n",
       " [1. 1. 1. 1. 1. 1. 1. 1. 1. 1. 1. 1. 1. 1. 1. 1. 1. 1. 1. 1.]\n",
       " [1. 1. 1. 1. 1. 1. 1. 1. 1. 1. 1. 1. 1. 1. 1. 1. 1. 1. 1. 1.]\n",
       " [1. 1. 1. 1. 1. 1. 1. 1. 1. 1. 1. 1. 1. 1. 1. 1. 1. 1. 1. 1.]])"
      ]
     },
     "execution_count": 61,
     "metadata": {},
     "output_type": "execute_result"
    }
   ],
   "source": [
    "g['b'].T"
   ]
  },
  {
   "cell_type": "code",
   "execution_count": 10,
   "metadata": {},
   "outputs": [
    {
     "data": {
      "text/plain": [
       "GridArray(b : [[1.0 1.0 1.0 1.0 1.0]\n",
       " [-- 1.0 -- -- 1.0]\n",
       " [-- -- -- 1.0 --]\n",
       " [1.0 -- -- 1.0 --]\n",
       " [-- 1.0 1.0 1.0 1.0]\n",
       " [-- 1.0 -- 1.0 --]\n",
       " [-- 1.0 -- 1.0 --]\n",
       " [1.0 -- 1.0 1.0 1.0]\n",
       " [1.0 1.0 -- 1.0 1.0]\n",
       " [-- -- -- 1.0 --]\n",
       " [1.0 1.0 1.0 -- --]\n",
       " [1.0 1.0 1.0 -- --]\n",
       " [1.0 -- -- 1.0 1.0]\n",
       " [1.0 -- -- -- --]\n",
       " [1.0 -- -- -- 1.0]\n",
       " [-- -- 1.0 1.0 --]\n",
       " [-- -- -- -- 1.0]\n",
       " [1.0 -- -- 1.0 --]\n",
       " [1.0 -- -- 1.0 --]\n",
       " [-- 1.0 -- 1.0 --]])"
      ]
     },
     "execution_count": 10,
     "metadata": {},
     "output_type": "execute_result"
    }
   ],
   "source": [
    "g['b'][g['a'] < 0.5]"
   ]
  },
  {
   "cell_type": "code",
   "execution_count": 11,
   "metadata": {},
   "outputs": [],
   "source": [
    "g['b'][g['a'] < 0.5] *= -1"
   ]
  },
  {
   "cell_type": "code",
   "execution_count": 12,
   "metadata": {},
   "outputs": [
    {
     "data": {
      "text/plain": [
       "GridArray(b : [[-1. -1. -1. -1. -1.]\n",
       " [ 1. -1.  1.  1. -1.]\n",
       " [ 1.  1.  1. -1.  1.]\n",
       " [-1.  1.  1. -1.  1.]\n",
       " [ 1. -1. -1. -1. -1.]\n",
       " [ 1. -1.  1. -1.  1.]\n",
       " [ 1. -1.  1. -1.  1.]\n",
       " [-1.  1. -1. -1. -1.]\n",
       " [-1. -1.  1. -1. -1.]\n",
       " [ 1.  1.  1. -1.  1.]\n",
       " [-1. -1. -1.  1.  1.]\n",
       " [-1. -1. -1.  1.  1.]\n",
       " [-1.  1.  1. -1. -1.]\n",
       " [-1.  1.  1.  1.  1.]\n",
       " [-1.  1.  1.  1. -1.]\n",
       " [ 1.  1. -1. -1.  1.]\n",
       " [ 1.  1.  1.  1. -1.]\n",
       " [-1.  1.  1. -1.  1.]\n",
       " [-1.  1.  1. -1.  1.]\n",
       " [ 1. -1.  1. -1.  1.]])"
      ]
     },
     "execution_count": 12,
     "metadata": {},
     "output_type": "execute_result"
    }
   ],
   "source": [
    "g['b']"
   ]
  },
  {
   "cell_type": "code",
   "execution_count": 13,
   "metadata": {},
   "outputs": [
    {
     "data": {
      "text/plain": [
       "GridArray(a : [1.62953085 2.80544524 3.584445   2.31964955 2.05201503 2.27366504\n",
       " 3.46735377 1.55557044 2.47596402 3.03315355 2.11261798 1.98966217\n",
       " 2.48177792 3.37251188 2.60674716 2.63831854 2.84637862 2.6142926\n",
       " 2.59774445 2.75775133])"
      ]
     },
     "execution_count": 13,
     "metadata": {},
     "output_type": "execute_result"
    }
   ],
   "source": [
    "np.sum(g['a'], axis='y')"
   ]
  },
  {
   "cell_type": "code",
   "execution_count": 14,
   "metadata": {},
   "outputs": [
    {
     "data": {
      "text/plain": [
       "GridData(Grid(\n",
       "Axis(\"x\",\n",
       "points = array([ 0,  1,  2,  3,  4,  5,  6,  7,  8,  9, 10, 11, 12, 13, 14, 15, 16,\n",
       "       17, 18, 19]),\n",
       "edges = array([[-0.5,  0.5],\n",
       "       [ 0.5,  1.5],\n",
       "       [ 1.5,  2.5],\n",
       "       [ 2.5,  3.5],\n",
       "       [ 3.5,  4.5],\n",
       "       [ 4.5,  5.5],\n",
       "       [ 5.5,  6.5],\n",
       "       [ 6.5,  7.5],\n",
       "       [ 7.5,  8.5],\n",
       "       [ 8.5,  9.5],\n",
       "       [ 9.5, 10.5],\n",
       "       [10.5, 11.5],\n",
       "       [11.5, 12.5],\n",
       "       [12.5, 13.5],\n",
       "       [13.5, 14.5],\n",
       "       [14.5, 15.5],\n",
       "       [15.5, 16.5],\n",
       "       [16.5, 17.5],\n",
       "       [17.5, 18.5],\n",
       "       [18.5, 19.5]]))\n",
       "nbins = 20),)\n",
       "[GridArray(a : [0.48402267 0.93883458 0.34145825 0.02021153 0.12716441 0.00136009\n",
       " 0.49252654 0.31351007 0.43863342 0.33506514 0.96237689 0.94546805\n",
       " 0.2686311  0.82895081 0.87311254 0.46343809 0.58722756 0.22181902\n",
       " 0.44455643 0.11795257]), GridArray(b : [-1.  1. -1. -1. -1. -1. -1. -1. -1. -1.  1.  1. -1.  1.  1. -1.  1. -1.\n",
       " -1. -1.])])"
      ]
     },
     "execution_count": 14,
     "metadata": {},
     "output_type": "execute_result"
    }
   ],
   "source": [
    "g[:,-2]"
   ]
  },
  {
   "cell_type": "code",
   "execution_count": 15,
   "metadata": {},
   "outputs": [
    {
     "data": {
      "text/plain": [
       "GridData(Grid(\n",
       "Axis(\"x\",\n",
       "points = array([19, 18, 17, 16, 15, 14, 13, 12, 11, 10,  9,  8,  7,  6,  5,  4,  3,\n",
       "        2,  1,  0]),\n",
       "edges = array([[18.5, 19.5],\n",
       "       [17.5, 18.5],\n",
       "       [16.5, 17.5],\n",
       "       [15.5, 16.5],\n",
       "       [14.5, 15.5],\n",
       "       [13.5, 14.5],\n",
       "       [12.5, 13.5],\n",
       "       [11.5, 12.5],\n",
       "       [10.5, 11.5],\n",
       "       [ 9.5, 10.5],\n",
       "       [ 8.5,  9.5],\n",
       "       [ 7.5,  8.5],\n",
       "       [ 6.5,  7.5],\n",
       "       [ 5.5,  6.5],\n",
       "       [ 4.5,  5.5],\n",
       "       [ 3.5,  4.5],\n",
       "       [ 2.5,  3.5],\n",
       "       [ 1.5,  2.5],\n",
       "       [ 0.5,  1.5],\n",
       "       [-0.5,  0.5]]))\n",
       "nbins = 20),\n",
       "Axis(\"y\",\n",
       "points = array([4, 3, 2, 1, 0]),\n",
       "edges = None)\n",
       "nbins = 5),)\n",
       "[GridArray(a : [[0.86357509 0.11795257 0.92733323 0.17929959 0.66959085]\n",
       " [0.62899177 0.44455643 0.8868315  0.6188147  0.01855005]\n",
       " [0.75556965 0.22181902 0.82944749 0.53501262 0.27244383]\n",
       " [0.00937328 0.58722756 0.52753564 0.83975981 0.88248233]\n",
       " [0.67086513 0.46343809 0.05170641 0.93316353 0.51914538]\n",
       " [0.28495663 0.87311254 0.54444203 0.52055992 0.38367604]\n",
       " [0.76064026 0.82895081 0.81769095 0.6181495  0.34708036]\n",
       " [0.37611824 0.2686311  0.73108731 0.61104502 0.49489625]\n",
       " [0.75347416 0.94546805 0.18405079 0.004886   0.10178317]\n",
       " [0.68041585 0.96237689 0.0434884  0.18509736 0.24123947]\n",
       " [0.86250509 0.33506514 0.5417411  0.76682674 0.52701548]\n",
       " [0.33222237 0.43863342 0.87103536 0.40871072 0.42536216]\n",
       " [0.2029889  0.31351007 0.3956292  0.54086949 0.10257279]\n",
       " [0.88102655 0.49252654 0.72870184 0.37607821 0.98902064]\n",
       " [0.62544356 0.00136009 0.78738924 0.29560758 0.56386456]\n",
       " [0.42255473 0.12716441 0.40719495 0.29863227 0.79646868]\n",
       " [0.56822709 0.02021153 0.95301202 0.76745781 0.01074109]\n",
       " [0.97554393 0.34145825 0.71406356 0.6046086  0.94877067]\n",
       " [0.03491115 0.93883458 0.52860804 0.40132441 0.90176707]\n",
       " [0.25530198 0.48402267 0.37658576 0.22760912 0.28601132]]), GridArray(b : [[ 1. -1.  1. -1.  1.]\n",
       " [ 1. -1.  1.  1. -1.]\n",
       " [ 1. -1.  1.  1. -1.]\n",
       " [-1.  1.  1.  1.  1.]\n",
       " [ 1. -1. -1.  1.  1.]\n",
       " [-1.  1.  1.  1. -1.]\n",
       " [ 1.  1.  1.  1. -1.]\n",
       " [-1. -1.  1.  1. -1.]\n",
       " [ 1.  1. -1. -1. -1.]\n",
       " [ 1.  1. -1. -1. -1.]\n",
       " [ 1. -1.  1.  1.  1.]\n",
       " [-1. -1.  1. -1. -1.]\n",
       " [-1. -1. -1.  1. -1.]\n",
       " [ 1. -1.  1. -1.  1.]\n",
       " [ 1. -1.  1. -1.  1.]\n",
       " [-1. -1. -1. -1.  1.]\n",
       " [ 1. -1.  1.  1. -1.]\n",
       " [ 1. -1.  1.  1.  1.]\n",
       " [-1.  1.  1. -1.  1.]\n",
       " [-1. -1. -1. -1. -1.]])])"
      ]
     },
     "execution_count": 15,
     "metadata": {},
     "output_type": "execute_result"
    }
   ],
   "source": [
    "g[::-1, ::-1]"
   ]
  },
  {
   "cell_type": "code",
   "execution_count": 16,
   "metadata": {},
   "outputs": [
    {
     "data": {
      "text/plain": [
       "GridData(Grid(\n",
       "Axis(\"x\",\n",
       "points = array([0, 3, 5]),\n",
       "edges = array([[-0.5,  0.5],\n",
       "       [ 2.5,  3.5],\n",
       "       [ 4.5,  5.5]]))\n",
       "nbins = 3),\n",
       "Axis(\"y\",\n",
       "points = array([2, 3]),\n",
       "edges = None)\n",
       "nbins = 2),)\n",
       "[GridArray(a : [[0.37658576 0.48402267]\n",
       " [0.95301202 0.02021153]\n",
       " [0.78738924 0.00136009]]), GridArray(b : [[-1. -1.]\n",
       " [ 1. -1.]\n",
       " [ 1. -1.]])])"
      ]
     },
     "execution_count": 16,
     "metadata": {},
     "output_type": "execute_result"
    }
   ],
   "source": [
    "g[[0,3,5], 2:-1]"
   ]
  },
  {
   "cell_type": "code",
   "execution_count": 17,
   "metadata": {},
   "outputs": [
    {
     "data": {
      "text/plain": [
       "{'a': 0.2860113161803358, 'b': -1.0}"
      ]
     },
     "execution_count": 17,
     "metadata": {},
     "output_type": "execute_result"
    }
   ],
   "source": [
    "g[0,0]"
   ]
  },
  {
   "cell_type": "code",
   "execution_count": 18,
   "metadata": {},
   "outputs": [
    {
     "data": {
      "text/plain": [
       "19.5"
      ]
     },
     "execution_count": 18,
     "metadata": {},
     "output_type": "execute_result"
    }
   ],
   "source": [
    "g.grid.edges[0].max()"
   ]
  },
  {
   "cell_type": "code",
   "execution_count": 19,
   "metadata": {},
   "outputs": [
    {
     "data": {
      "text/html": [
       "<table>\n",
       "<tbody>\n",
       "<tr><td><b>y</b></td><td><b>0</b></td><td><b>1</b></td><td><b>2</b></td><td><b>3</b></td><td><b>4</b></td></tr>\n",
       "<tr><td><b>b</b></td><td>0.2     </td><td>0.34    </td><td>0.67    </td><td>-0.098  </td><td>0.48    </td></tr>\n",
       "</tbody>\n",
       "</table>"
      ],
      "text/plain": [
       "GridArray(b : [ 0.20425485  0.33811924  0.6736122  -0.09844813  0.48172877])"
      ]
     },
     "execution_count": 19,
     "metadata": {},
     "output_type": "execute_result"
    }
   ],
   "source": [
    "np.mean(g['b'], axis='x') + np.std(g['a'], axis='x')"
   ]
  },
  {
   "cell_type": "code",
   "execution_count": 20,
   "metadata": {},
   "outputs": [],
   "source": [
    "g['c'] = np.sqrt(g['x']) * np.sqrt(g['y'])"
   ]
  },
  {
   "cell_type": "code",
   "execution_count": 21,
   "metadata": {},
   "outputs": [
    {
     "data": {
      "text/plain": [
       "<matplotlib.collections.QuadMesh at 0x7f7a5bb44668>"
      ]
     },
     "execution_count": 21,
     "metadata": {},
     "output_type": "execute_result"
    },
    {
     "data": {
      "image/png": "[encoded data removed]",
      "text/plain": [
       "<Figure size 432x288 with 2 Axes>"
      ]
     },
     "metadata": {
      "needs_background": "light"
     },
     "output_type": "display_data"
    }
   ],
   "source": [
    "g.plot('c', cbar=True)"
   ]
  },
  {
   "cell_type": "code",
   "execution_count": 22,
   "metadata": {},
   "outputs": [],
   "source": [
    "g['m'] = np.arange(g.grid.size * 3).reshape(g.shape + (-1,))"
   ]
  },
  {
   "cell_type": "code",
   "execution_count": 23,
   "metadata": {},
   "outputs": [
    {
     "name": "stderr",
     "output_type": "stream",
     "text": [
      "Clipping input data to the valid range for imshow with RGB data ([0..1] for floats or [0..255] for integers).\n"
     ]
    },
    {
     "data": {
      "text/plain": [
       "<matplotlib.image.AxesImage at 0x7f7a5ba3c160>"
      ]
     },
     "execution_count": 23,
     "metadata": {},
     "output_type": "execute_result"
    },
    {
     "data": {
      "image/png": "[encoded data removed]",
      "text/plain": [
       "<Figure size 432x288 with 1 Axes>"
      ]
     },
     "metadata": {
      "needs_background": "light"
     },
     "output_type": "display_data"
    }
   ],
   "source": [
    "g.plot('m') #it's interpreted as an RGB image, since the excess dimension is 3"
   ]
  },
  {
   "cell_type": "code",
   "execution_count": 24,
   "metadata": {},
   "outputs": [
    {
     "data": {
      "text/plain": [
       "GridArray(m : [[  0   3   6   9  12]\n",
       " [ 15  18  21  24  27]\n",
       " [ 30  33  36  39  42]\n",
       " [ 45  48  51  54  57]\n",
       " [ 60  63  66  69  72]\n",
       " [ 75  78  81  84  87]\n",
       " [ 90  93  96  99 102]\n",
       " [105 108 111 114 117]\n",
       " [120 123 126 129 132]\n",
       " [135 138 141 144 147]\n",
       " [150 153 156 159 162]\n",
       " [165 168 171 174 177]\n",
       " [180 183 186 189 192]\n",
       " [195 198 201 204 207]\n",
       " [210 213 216 219 222]\n",
       " [225 228 231 234 237]\n",
       " [240 243 246 249 252]\n",
       " [255 258 261 264 267]\n",
       " [270 273 276 279 282]\n",
       " [285 288 291 294 297]])"
      ]
     },
     "execution_count": 24,
     "metadata": {},
     "output_type": "execute_result"
    }
   ],
   "source": [
    "g['m'][:,:,0]"
   ]
  },
  {
   "cell_type": "code",
   "execution_count": 25,
   "metadata": {},
   "outputs": [
    {
     "data": {
      "text/plain": [
       "GridData(Grid(\n",
       "Axis(\"x\",\n",
       "points = array([ 0,  1,  2,  3,  4,  5,  6,  7,  8,  9, 10, 11, 12, 13, 14, 15, 16,\n",
       "       17, 18, 19]),\n",
       "edges = array([[-0.5,  0.5],\n",
       "       [ 0.5,  1.5],\n",
       "       [ 1.5,  2.5],\n",
       "       [ 2.5,  3.5],\n",
       "       [ 3.5,  4.5],\n",
       "       [ 4.5,  5.5],\n",
       "       [ 5.5,  6.5],\n",
       "       [ 6.5,  7.5],\n",
       "       [ 7.5,  8.5],\n",
       "       [ 8.5,  9.5],\n",
       "       [ 9.5, 10.5],\n",
       "       [10.5, 11.5],\n",
       "       [11.5, 12.5],\n",
       "       [12.5, 13.5],\n",
       "       [13.5, 14.5],\n",
       "       [14.5, 15.5],\n",
       "       [15.5, 16.5],\n",
       "       [16.5, 17.5],\n",
       "       [17.5, 18.5],\n",
       "       [18.5, 19.5]]))\n",
       "nbins = 20),)\n",
       "[GridArray(a : [0.48402267 0.93883458 0.34145825 0.02021153 0.12716441 0.00136009\n",
       " 0.49252654 0.31351007 0.43863342 0.33506514 0.96237689 0.94546805\n",
       " 0.2686311  0.82895081 0.87311254 0.46343809 0.58722756 0.22181902\n",
       " 0.44455643 0.11795257]), GridArray(b : [-1.  1. -1. -1. -1. -1. -1. -1. -1. -1.  1.  1. -1.  1.  1. -1.  1. -1.\n",
       " -1. -1.]), GridArray(c : [0.         1.73205081 2.44948974 3.         3.46410162 3.87298335\n",
       " 4.24264069 4.58257569 4.89897949 5.19615242 5.47722558 5.74456265\n",
       " 6.         6.244998   6.4807407  6.70820393 6.92820323 7.14142843\n",
       " 7.34846923 7.54983444]), GridArray(m : [[  9  10  11]\n",
       " [ 24  25  26]\n",
       " [ 39  40  41]\n",
       " [ 54  55  56]\n",
       " [ 69  70  71]\n",
       " [ 84  85  86]\n",
       " [ 99 100 101]\n",
       " [114 115 116]\n",
       " [129 130 131]\n",
       " [144 145 146]\n",
       " [159 160 161]\n",
       " [174 175 176]\n",
       " [189 190 191]\n",
       " [204 205 206]\n",
       " [219 220 221]\n",
       " [234 235 236]\n",
       " [249 250 251]\n",
       " [264 265 266]\n",
       " [279 280 281]\n",
       " [294 295 296]])])"
      ]
     },
     "execution_count": 25,
     "metadata": {},
     "output_type": "execute_result"
    }
   ],
   "source": [
    "g[:,3]"
   ]
  },
  {
   "cell_type": "code",
   "execution_count": 26,
   "metadata": {},
   "outputs": [
    {
     "data": {
      "text/plain": [
       "GridArray(m : [[[  0   1   2]\n",
       "  [  3   4   5]\n",
       "  [  6   7   8]\n",
       "  [  9  10  11]\n",
       "  [ 12  13  14]]\n",
       "\n",
       " [[ 15  16  17]\n",
       "  [ 18  19  20]\n",
       "  [ 21  22  23]\n",
       "  [ 24  25  26]\n",
       "  [ 27  28  29]]\n",
       "\n",
       " [[ 30  31  32]\n",
       "  [ 33  34  35]\n",
       "  [ 36  37  38]\n",
       "  [ 39  40  41]\n",
       "  [ 42  43  44]]\n",
       "\n",
       " [[ 45  46  47]\n",
       "  [ 48  49  50]\n",
       "  [ 51  52  53]\n",
       "  [ 54  55  56]\n",
       "  [ 57  58  59]]\n",
       "\n",
       " [[ 60  61  62]\n",
       "  [ 63  64  65]\n",
       "  [ 66  67  68]\n",
       "  [ 69  70  71]\n",
       "  [ 72  73  74]]\n",
       "\n",
       " [[ 75  76  77]\n",
       "  [ 78  79  80]\n",
       "  [ 81  82  83]\n",
       "  [ 84  85  86]\n",
       "  [ 87  88  89]]\n",
       "\n",
       " [[ 90  91  92]\n",
       "  [ 93  94  95]\n",
       "  [ 96  97  98]\n",
       "  [ 99 100 101]\n",
       "  [102 103 104]]\n",
       "\n",
       " [[105 106 107]\n",
       "  [108 109 110]\n",
       "  [111 112 113]\n",
       "  [114 115 116]\n",
       "  [117 118 119]]\n",
       "\n",
       " [[120 121 122]\n",
       "  [123 124 125]\n",
       "  [126 127 128]\n",
       "  [129 130 131]\n",
       "  [132 133 134]]\n",
       "\n",
       " [[135 136 137]\n",
       "  [138 139 140]\n",
       "  [141 142 143]\n",
       "  [144 145 146]\n",
       "  [147 148 149]]\n",
       "\n",
       " [[150 151 152]\n",
       "  [153 154 155]\n",
       "  [156 157 158]\n",
       "  [159 160 161]\n",
       "  [162 163 164]]\n",
       "\n",
       " [[165 166 167]\n",
       "  [168 169 170]\n",
       "  [171 172 173]\n",
       "  [174 175 176]\n",
       "  [177 178 179]]\n",
       "\n",
       " [[180 181 182]\n",
       "  [183 184 185]\n",
       "  [186 187 188]\n",
       "  [189 190 191]\n",
       "  [192 193 194]]\n",
       "\n",
       " [[195 196 197]\n",
       "  [198 199 200]\n",
       "  [201 202 203]\n",
       "  [204 205 206]\n",
       "  [207 208 209]]\n",
       "\n",
       " [[210 211 212]\n",
       "  [213 214 215]\n",
       "  [216 217 218]\n",
       "  [219 220 221]\n",
       "  [222 223 224]]\n",
       "\n",
       " [[225 226 227]\n",
       "  [228 229 230]\n",
       "  [231 232 233]\n",
       "  [234 235 236]\n",
       "  [237 238 239]]\n",
       "\n",
       " [[240 241 242]\n",
       "  [243 244 245]\n",
       "  [246 247 248]\n",
       "  [249 250 251]\n",
       "  [252 253 254]]\n",
       "\n",
       " [[255 256 257]\n",
       "  [258 259 260]\n",
       "  [261 262 263]\n",
       "  [264 265 266]\n",
       "  [267 268 269]]\n",
       "\n",
       " [[270 271 272]\n",
       "  [273 274 275]\n",
       "  [276 277 278]\n",
       "  [279 280 281]\n",
       "  [282 283 284]]\n",
       "\n",
       " [[285 286 287]\n",
       "  [288 289 290]\n",
       "  [291 292 293]\n",
       "  [294 295 296]\n",
       "  [297 298 299]]])"
      ]
     },
     "execution_count": 26,
     "metadata": {},
     "output_type": "execute_result"
    }
   ],
   "source": [
    "g['m']"
   ]
  },
  {
   "cell_type": "code",
   "execution_count": 27,
   "metadata": {},
   "outputs": [
    {
     "data": {
      "text/plain": [
       "GridArray(m : [[[45 46 47]\n",
       "  [60 61 62]]\n",
       "\n",
       " [[48 49 50]\n",
       "  [63 64 65]]\n",
       "\n",
       " [[51 52 53]\n",
       "  [66 67 68]]\n",
       "\n",
       " [[54 55 56]\n",
       "  [69 70 71]]\n",
       "\n",
       " [[57 58 59]\n",
       "  [72 73 74]]])"
      ]
     },
     "execution_count": 27,
     "metadata": {},
     "output_type": "execute_result"
    }
   ],
   "source": [
    "g.T[:,3:5]['m']"
   ]
  },
  {
   "cell_type": "code",
   "execution_count": 28,
   "metadata": {},
   "outputs": [
    {
     "data": {
      "text/plain": [
       "OrderedDict([('a', 51.21459514495259),\n",
       "             ('b', 4.0),\n",
       "             ('c', 351.5284723822114),\n",
       "             ('m', 44850)])"
      ]
     },
     "execution_count": 28,
     "metadata": {},
     "output_type": "execute_result"
    }
   ],
   "source": [
    "np.sum(g)"
   ]
  },
  {
   "cell_type": "markdown",
   "metadata": {},
   "source": [
    "# Stuff to fix"
   ]
  },
  {
   "cell_type": "code",
   "execution_count": 29,
   "metadata": {},
   "outputs": [
    {
     "ename": "TypeError",
     "evalue": "list indices must be integers or slices, not tuple",
     "output_type": "error",
     "traceback": [
      "\u001b[0;31m---------------------------------------------------------------------------\u001b[0m",
      "\u001b[0;31mTypeError\u001b[0m                                 Traceback (most recent call last)",
      "\u001b[0;32m<ipython-input-29-736532b143b4>\u001b[0m in \u001b[0;36m<module>\u001b[0;34m\u001b[0m\n\u001b[0;32m----> 1\u001b[0;31m \u001b[0mnp\u001b[0m\u001b[0;34m.\u001b[0m\u001b[0msum\u001b[0m\u001b[0;34m(\u001b[0m\u001b[0mg\u001b[0m\u001b[0;34m[\u001b[0m\u001b[0;34m'm'\u001b[0m\u001b[0;34m]\u001b[0m\u001b[0;34m,\u001b[0m \u001b[0maxis\u001b[0m\u001b[0;34m=\u001b[0m\u001b[0;34m(\u001b[0m\u001b[0;36m0\u001b[0m\u001b[0;34m,\u001b[0m\u001b[0;36m1\u001b[0m\u001b[0;34m)\u001b[0m\u001b[0;34m)\u001b[0m\u001b[0;34m\u001b[0m\u001b[0;34m\u001b[0m\u001b[0m\n\u001b[0m",
      "\u001b[0;32m~/anaconda3/lib/python3.7/site-packages/numpy/core/fromnumeric.py\u001b[0m in \u001b[0;36msum\u001b[0;34m(a, axis, dtype, out, keepdims, initial)\u001b[0m\n\u001b[1;32m   2074\u001b[0m \u001b[0;34m\u001b[0m\u001b[0m\n\u001b[1;32m   2075\u001b[0m     return _wrapreduction(a, np.add, 'sum', axis, dtype, out, keepdims=keepdims,\n\u001b[0;32m-> 2076\u001b[0;31m                           initial=initial)\n\u001b[0m\u001b[1;32m   2077\u001b[0m \u001b[0;34m\u001b[0m\u001b[0m\n\u001b[1;32m   2078\u001b[0m \u001b[0;34m\u001b[0m\u001b[0m\n",
      "\u001b[0;32m~/anaconda3/lib/python3.7/site-packages/numpy/core/fromnumeric.py\u001b[0m in \u001b[0;36m_wrapreduction\u001b[0;34m(obj, ufunc, method, axis, dtype, out, **kwargs)\u001b[0m\n\u001b[1;32m     84\u001b[0m                 \u001b[0;32mreturn\u001b[0m \u001b[0mreduction\u001b[0m\u001b[0;34m(\u001b[0m\u001b[0maxis\u001b[0m\u001b[0;34m=\u001b[0m\u001b[0maxis\u001b[0m\u001b[0;34m,\u001b[0m \u001b[0mout\u001b[0m\u001b[0;34m=\u001b[0m\u001b[0mout\u001b[0m\u001b[0;34m,\u001b[0m \u001b[0;34m**\u001b[0m\u001b[0mpasskwargs\u001b[0m\u001b[0;34m)\u001b[0m\u001b[0;34m\u001b[0m\u001b[0;34m\u001b[0m\u001b[0m\n\u001b[1;32m     85\u001b[0m \u001b[0;34m\u001b[0m\u001b[0m\n\u001b[0;32m---> 86\u001b[0;31m     \u001b[0;32mreturn\u001b[0m \u001b[0mufunc\u001b[0m\u001b[0;34m.\u001b[0m\u001b[0mreduce\u001b[0m\u001b[0;34m(\u001b[0m\u001b[0mobj\u001b[0m\u001b[0;34m,\u001b[0m \u001b[0maxis\u001b[0m\u001b[0;34m,\u001b[0m \u001b[0mdtype\u001b[0m\u001b[0;34m,\u001b[0m \u001b[0mout\u001b[0m\u001b[0;34m,\u001b[0m \u001b[0;34m**\u001b[0m\u001b[0mpasskwargs\u001b[0m\u001b[0;34m)\u001b[0m\u001b[0;34m\u001b[0m\u001b[0;34m\u001b[0m\u001b[0m\n\u001b[0m\u001b[1;32m     87\u001b[0m \u001b[0;34m\u001b[0m\u001b[0m\n\u001b[1;32m     88\u001b[0m \u001b[0;34m\u001b[0m\u001b[0m\n",
      "\u001b[0;32m~/pynocular/pynocular/griddata.py\u001b[0m in \u001b[0;36m__array_ufunc__\u001b[0;34m(self, ufunc, method, *inputs, **kwargs)\u001b[0m\n\u001b[1;32m    241\u001b[0m             \u001b[0mresult\u001b[0m \u001b[0;34m=\u001b[0m \u001b[0mnp\u001b[0m\u001b[0;34m.\u001b[0m\u001b[0masanyarray\u001b[0m\u001b[0;34m(\u001b[0m\u001b[0mself\u001b[0m\u001b[0;34m)\u001b[0m\u001b[0;34m.\u001b[0m\u001b[0m__array_ufunc__\u001b[0m\u001b[0;34m(\u001b[0m\u001b[0mufunc\u001b[0m\u001b[0;34m,\u001b[0m \u001b[0mmethod\u001b[0m\u001b[0;34m,\u001b[0m \u001b[0;34m*\u001b[0m\u001b[0marray_inputs\u001b[0m\u001b[0;34m,\u001b[0m \u001b[0;34m**\u001b[0m\u001b[0mkwargs\u001b[0m\u001b[0;34m)\u001b[0m\u001b[0;34m\u001b[0m\u001b[0;34m\u001b[0m\u001b[0m\n\u001b[1;32m    242\u001b[0m \u001b[0;34m\u001b[0m\u001b[0m\n\u001b[0;32m--> 243\u001b[0;31m         \u001b[0;32mreturn\u001b[0m \u001b[0mself\u001b[0m\u001b[0;34m.\u001b[0m\u001b[0m_pack_result\u001b[0m\u001b[0;34m(\u001b[0m\u001b[0mresult\u001b[0m\u001b[0;34m,\u001b[0m \u001b[0maxis\u001b[0m\u001b[0;34m)\u001b[0m\u001b[0;34m\u001b[0m\u001b[0;34m\u001b[0m\u001b[0m\n\u001b[0m\u001b[1;32m    244\u001b[0m \u001b[0;34m\u001b[0m\u001b[0m\n\u001b[1;32m    245\u001b[0m \u001b[0;34m\u001b[0m\u001b[0m\n",
      "\u001b[0;32m~/pynocular/pynocular/griddata.py\u001b[0m in \u001b[0;36m_pack_result\u001b[0;34m(self, result, axis)\u001b[0m\n\u001b[1;32m    183\u001b[0m                 \u001b[0;32mif\u001b[0m \u001b[0maxis\u001b[0m \u001b[0;32mis\u001b[0m \u001b[0;32mnot\u001b[0m \u001b[0;32mNone\u001b[0m\u001b[0;34m:\u001b[0m\u001b[0;34m\u001b[0m\u001b[0;34m\u001b[0m\u001b[0m\n\u001b[1;32m    184\u001b[0m                     \u001b[0mnew_grid\u001b[0m \u001b[0;34m=\u001b[0m \u001b[0mcopy\u001b[0m\u001b[0;34m.\u001b[0m\u001b[0mdeepcopy\u001b[0m\u001b[0;34m(\u001b[0m\u001b[0mself\u001b[0m\u001b[0;34m.\u001b[0m\u001b[0mgrid\u001b[0m\u001b[0;34m)\u001b[0m\u001b[0;34m\u001b[0m\u001b[0;34m\u001b[0m\u001b[0m\n\u001b[0;32m--> 185\u001b[0;31m                     \u001b[0;32mdel\u001b[0m\u001b[0;34m(\u001b[0m\u001b[0mnew_grid\u001b[0m\u001b[0;34m.\u001b[0m\u001b[0maxes\u001b[0m\u001b[0;34m[\u001b[0m\u001b[0maxis\u001b[0m\u001b[0;34m]\u001b[0m\u001b[0;34m)\u001b[0m\u001b[0;34m\u001b[0m\u001b[0;34m\u001b[0m\u001b[0m\n\u001b[0m\u001b[1;32m    186\u001b[0m                 \u001b[0;32melse\u001b[0m\u001b[0;34m:\u001b[0m\u001b[0;34m\u001b[0m\u001b[0;34m\u001b[0m\u001b[0m\n\u001b[1;32m    187\u001b[0m                     \u001b[0mnew_grid\u001b[0m \u001b[0;34m=\u001b[0m \u001b[0mself\u001b[0m\u001b[0;34m.\u001b[0m\u001b[0mgrid\u001b[0m\u001b[0;34m\u001b[0m\u001b[0;34m\u001b[0m\u001b[0m\n",
      "\u001b[0;31mTypeError\u001b[0m: list indices must be integers or slices, not tuple"
     ]
    }
   ],
   "source": [
    "np.sum(g['m'], axis=(0,1))"
   ]
  },
  {
   "cell_type": "code",
   "execution_count": null,
   "metadata": {},
   "outputs": [],
   "source": [
    "# because of this\n",
    "np.sum(g['m'], axis=-1).grid"
   ]
  },
  {
   "cell_type": "code",
   "execution_count": null,
   "metadata": {},
   "outputs": [],
   "source": [
    "np.sum(g['m'], axis=-1)"
   ]
  },
  {
   "cell_type": "code",
   "execution_count": null,
   "metadata": {},
   "outputs": [],
   "source": []
  },
  {
   "cell_type": "code",
   "execution_count": null,
   "metadata": {},
   "outputs": [],
   "source": []
  }
 ],
 "metadata": {
  "kernelspec": {
   "display_name": "Python 3",
   "language": "python",
   "name": "python3"
  },
  "language_info": {
   "codemirror_mode": {
    "name": "ipython",
    "version": 3
   },
   "file_extension": ".py",
   "mimetype": "text/x-python",
   "name": "python",
   "nbconvert_exporter": "python",
   "pygments_lexer": "ipython3",
   "version": "3.7.3"
  }
 },
 "nbformat": 4,
 "nbformat_minor": 4
}
