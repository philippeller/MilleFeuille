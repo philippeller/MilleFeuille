{
 "cells": [
  {
   "cell_type": "code",
   "execution_count": 22,
   "metadata": {},
   "outputs": [],
   "source": [
    "%reload_ext autoreload\n",
    "%autoreload 2\n",
    "import numpy as np\n",
    "import pynocular as pn\n",
    "from matplotlib import pyplot as plt\n",
    "#from uncertainties import unumpy"
   ]
  },
  {
   "cell_type": "code",
   "execution_count": 23,
   "metadata": {},
   "outputs": [],
   "source": [
    "p = pn.PointData()#x='aaa') #x=np.arange(200).reshape(20, 1, -1))"
   ]
  },
  {
   "cell_type": "code",
   "execution_count": 24,
   "metadata": {},
   "outputs": [
    {
     "data": {
      "text/plain": [
       "array([3])"
      ]
     },
     "execution_count": 24,
     "metadata": {},
     "output_type": "execute_result"
    }
   ],
   "source": [
    "np.asanyarray(3)[np.newaxis]"
   ]
  },
  {
   "cell_type": "code",
   "execution_count": 25,
   "metadata": {},
   "outputs": [],
   "source": [
    "p['a'] = np.arange(33)\n",
    "p['b'] = np.zeros(p.array_shape)"
   ]
  },
  {
   "cell_type": "code",
   "execution_count": 26,
   "metadata": {},
   "outputs": [
    {
     "data": {
      "text/plain": [
       "pynocular.pointarray.PointArray"
      ]
     },
     "execution_count": 26,
     "metadata": {},
     "output_type": "execute_result"
    }
   ],
   "source": [
    "pn.PointArray"
   ]
  },
  {
   "cell_type": "code",
   "execution_count": 27,
   "metadata": {},
   "outputs": [
    {
     "data": {
      "text/html": [
       "<table>\n",
       "<tbody>\n",
       "<tr><td style=\"text-align: right;\">1</td><td style=\"text-align: right;\">0.54</td><td style=\"text-align: right;\">-0.416</td><td style=\"text-align: right;\">-0.99</td><td style=\"text-align: right;\">-0.654</td><td style=\"text-align: right;\">0.284</td><td>...</td><td style=\"text-align: right;\">-0.292</td><td style=\"text-align: right;\">-0.963</td><td style=\"text-align: right;\">-0.748</td><td style=\"text-align: right;\">0.154</td><td style=\"text-align: right;\">0.915</td><td style=\"text-align: right;\">0.834</td></tr>\n",
       "</tbody>\n",
       "</table>"
      ],
      "text/plain": [
       "PointArray([ 1.        ,  0.54030231, -0.41614684, -0.9899925 ,\n",
       "            -0.65364362,  0.28366219,  0.96017029,  0.75390225,\n",
       "            -0.14550003, -0.91113026, -0.83907153,  0.0044257 ,\n",
       "             0.84385396,  0.90744678,  0.13673722, -0.75968791,\n",
       "            -0.95765948, -0.27516334,  0.66031671,  0.98870462,\n",
       "             0.40808206, -0.54772926, -0.99996083, -0.53283302,\n",
       "             0.42417901,  0.99120281,  0.64691932, -0.29213881,\n",
       "            -0.96260587, -0.74805753,  0.15425145,  0.91474236,\n",
       "             0.83422336])"
      ]
     },
     "execution_count": 27,
     "metadata": {},
     "output_type": "execute_result"
    }
   ],
   "source": [
    "np.cos(p['a'])"
   ]
  },
  {
   "cell_type": "code",
   "execution_count": 28,
   "metadata": {},
   "outputs": [],
   "source": [
    "g2d = pn.Grid(x=np.arange(10), y=np.arange(20))"
   ]
  },
  {
   "cell_type": "code",
   "execution_count": 29,
   "metadata": {},
   "outputs": [],
   "source": [
    "b = pn.GridArray(np.random.rand(g2d.size).reshape(g2d.shape), grid=g2d)"
   ]
  },
  {
   "cell_type": "code",
   "execution_count": 30,
   "metadata": {},
   "outputs": [],
   "source": [
    "f = np.sum(np.cos(b) -1.2 / b, axis='y')"
   ]
  },
  {
   "cell_type": "code",
   "execution_count": 31,
   "metadata": {},
   "outputs": [],
   "source": [
    "f[f>-50] *= 33"
   ]
  },
  {
   "cell_type": "code",
   "execution_count": 88,
   "metadata": {},
   "outputs": [
    {
     "name": "stdout",
     "output_type": "stream",
     "text": [
      "slice(0, 2, None) [-0.0 -0.0]\n",
      "[-0. -0.]\n"
     ]
    }
   ],
   "source": [
    "f[0:2] *= 0"
   ]
  },
  {
   "cell_type": "code",
   "execution_count": 115,
   "metadata": {},
   "outputs": [
    {
     "data": {
      "text/html": [
       "<table>\n",
       "<tbody>\n",
       "<tr><td><b>x</b></td><td><b>0</b></td><td><b>1</b></td><td><b>2</b></td><td><b>3</b></td><td><b>4</b></td><td><b>5</b></td><td><b>6</b></td><td><b>7</b></td><td><b>8</b></td><td><b>9</b></td></tr>\n",
       "<tr><td><b></b> </td><td>-0      </td><td>-0      </td><td>-86     </td><td>220     </td><td>55      </td><td>-73.1   </td><td>-65.9   </td><td>-120    </td><td>-255    </td><td>-148    </td></tr>\n",
       "</tbody>\n",
       "</table>"
      ],
      "text/plain": [
       "GridArray([-0.0 -0.0 -86.02338664877372 220.0 55.0 -73.06868578562283\n",
       " -65.87395066945444 -120.1537064655078 -255.4844867238455\n",
       " -147.73833535768733])"
      ]
     },
     "execution_count": 115,
     "metadata": {},
     "output_type": "execute_result"
    }
   ],
   "source": [
    "f"
   ]
  },
  {
   "cell_type": "code",
   "execution_count": 116,
   "metadata": {},
   "outputs": [],
   "source": [
    "a = pn.GridArray(np.arange(10), 'x')"
   ]
  },
  {
   "cell_type": "code",
   "execution_count": 117,
   "metadata": {},
   "outputs": [],
   "source": [
    "ar = np.arange(10)"
   ]
  },
  {
   "cell_type": "code",
   "execution_count": 118,
   "metadata": {},
   "outputs": [
    {
     "name": "stdout",
     "output_type": "stream",
     "text": [
      "[3, 5] 5\n",
      "list\n",
      "[0 1 2 5 4 5 6 7 8 9]\n"
     ]
    }
   ],
   "source": [
    "a[[3,5]] = 5"
   ]
  },
  {
   "cell_type": "code",
   "execution_count": 119,
   "metadata": {},
   "outputs": [
    {
     "data": {
      "text/plain": [
       "array([0, 1, 2, 5, 4, 5, 6, 7, 8, 9])"
      ]
     },
     "execution_count": 119,
     "metadata": {},
     "output_type": "execute_result"
    }
   ],
   "source": [
    "a.data[:]"
   ]
  },
  {
   "cell_type": "code",
   "execution_count": 120,
   "metadata": {},
   "outputs": [
    {
     "name": "stdout",
     "output_type": "stream",
     "text": [
      "3 880.0\n"
     ]
    }
   ],
   "source": [
    "f[3] *= 4"
   ]
  },
  {
   "cell_type": "code",
   "execution_count": 121,
   "metadata": {},
   "outputs": [
    {
     "name": "stdout",
     "output_type": "stream",
     "text": [
      "slice(3, 5, None) 55\n"
     ]
    }
   ],
   "source": [
    "f[3:5] = 55"
   ]
  },
  {
   "cell_type": "code",
   "execution_count": 122,
   "metadata": {},
   "outputs": [
    {
     "data": {
      "text/html": [
       "<table>\n",
       "<tbody>\n",
       "<tr><td><b>x</b></td><td><b>0</b></td><td><b>1</b></td><td><b>2</b></td><td><b>3</b></td><td><b>4</b></td><td><b>5</b></td><td><b>6</b></td><td><b>7</b></td><td><b>8</b></td><td><b>9</b></td></tr>\n",
       "<tr><td><b></b> </td><td>-0      </td><td>-0      </td><td>-86     </td><td>55      </td><td>55      </td><td>-73.1   </td><td>-65.9   </td><td>-120    </td><td>-255    </td><td>-148    </td></tr>\n",
       "</tbody>\n",
       "</table>"
      ],
      "text/plain": [
       "GridArray([-0.0 -0.0 -86.02338664877372 55.0 55.0 -73.06868578562283\n",
       " -65.87395066945444 -120.1537064655078 -255.4844867238455\n",
       " -147.73833535768733])"
      ]
     },
     "execution_count": 122,
     "metadata": {},
     "output_type": "execute_result"
    }
   ],
   "source": [
    "f"
   ]
  },
  {
   "cell_type": "code",
   "execution_count": 123,
   "metadata": {},
   "outputs": [
    {
     "data": {
      "text/plain": [
       "[<matplotlib.lines.Line2D at 0x7f54bb49b400>]"
      ]
     },
     "execution_count": 123,
     "metadata": {},
     "output_type": "execute_result"
    },
    {
     "data": {
      "image/png": "[encoded data removed]",
      "text/plain": [
       "<Figure size 432x288 with 1 Axes>"
      ]
     },
     "metadata": {
      "needs_background": "light"
     },
     "output_type": "display_data"
    }
   ],
   "source": [
    "f.plot()"
   ]
  },
  {
   "cell_type": "code",
   "execution_count": 124,
   "metadata": {},
   "outputs": [
    {
     "data": {
      "text/html": [
       "<table>\n",
       "<tbody>\n",
       "<tr><td><b>x</b></td><td><b>0</b></td><td><b>1</b></td><td><b>2</b></td><td><b>3</b></td><td><b>4</b></td><td><b>5</b></td><td><b>6</b></td><td><b>7</b></td><td><b>8</b></td><td><b>9</b></td></tr>\n",
       "<tr><td><b></b> </td><td>-0      </td><td>-0      </td><td>-86     </td><td>55      </td><td>55      </td><td>-73.1   </td><td>-65.9   </td><td>-120    </td><td>-255    </td><td>-148    </td></tr>\n",
       "</tbody>\n",
       "</table>"
      ],
      "text/plain": [
       "GridArray([-0.0 -0.0 -86.02338664877372 55.0 55.0 -73.06868578562283\n",
       " -65.87395066945444 -120.1537064655078 -255.4844867238455\n",
       " -147.73833535768733])"
      ]
     },
     "execution_count": 124,
     "metadata": {},
     "output_type": "execute_result"
    }
   ],
   "source": [
    "f[f>-500]"
   ]
  },
  {
   "cell_type": "code",
   "execution_count": 125,
   "metadata": {},
   "outputs": [
    {
     "data": {
      "text/plain": [
       "array([  -0.        ,   -0.        ,  -86.02338665,  -31.02338665,\n",
       "         23.97661335,  -49.09207243, -114.9660231 , -235.11972957,\n",
       "       -490.60421629, -638.34255165])"
      ]
     },
     "execution_count": 125,
     "metadata": {},
     "output_type": "execute_result"
    }
   ],
   "source": [
    "np.cumsum(f, axis='x')"
   ]
  },
  {
   "cell_type": "code",
   "execution_count": 126,
   "metadata": {},
   "outputs": [
    {
     "data": {
      "text/html": [
       "<table>\n",
       "<tbody>\n",
       "<tr><td><b>x</b></td><td><b>0</b></td><td><b>1</b></td><td><b>2</b></td><td><b>3</b></td><td><b>4</b></td><td><b>5</b></td><td><b>6</b></td><td><b>7</b></td><td><b>8</b></td><td><b>9</b></td></tr>\n",
       "<tr><td><b></b> </td><td>-0      </td><td>-0      </td><td>-86     </td><td>55      </td><td>55      </td><td>-73.1   </td><td>-65.9   </td><td>-120    </td><td>-255    </td><td>-148    </td></tr>\n",
       "</tbody>\n",
       "</table>"
      ],
      "text/plain": [
       "GridArray([-0.0 -0.0 -86.02338664877372 55.0 55.0 -73.06868578562283\n",
       " -65.87395066945444 -120.1537064655078 -255.4844867238455\n",
       " -147.73833535768733])"
      ]
     },
     "execution_count": 126,
     "metadata": {},
     "output_type": "execute_result"
    }
   ],
   "source": [
    "f"
   ]
  },
  {
   "cell_type": "code",
   "execution_count": 127,
   "metadata": {},
   "outputs": [
    {
     "ename": "NameError",
     "evalue": "name 'unumpy' is not defined",
     "output_type": "error",
     "traceback": [
      "\u001b[0;31m---------------------------------------------------------------------------\u001b[0m",
      "\u001b[0;31mNameError\u001b[0m                                 Traceback (most recent call last)",
      "\u001b[0;32m<ipython-input-127-6df918579a6c>\u001b[0m in \u001b[0;36m<module>\u001b[0;34m\u001b[0m\n\u001b[0;32m----> 1\u001b[0;31m \u001b[0ma\u001b[0m \u001b[0;34m=\u001b[0m \u001b[0munumpy\u001b[0m\u001b[0;34m.\u001b[0m\u001b[0muarray\u001b[0m\u001b[0;34m(\u001b[0m\u001b[0mnp\u001b[0m\u001b[0;34m.\u001b[0m\u001b[0marange\u001b[0m\u001b[0;34m(\u001b[0m\u001b[0;36m10\u001b[0m\u001b[0;34m)\u001b[0m\u001b[0;34m,\u001b[0m \u001b[0mnp\u001b[0m\u001b[0;34m.\u001b[0m\u001b[0mones\u001b[0m\u001b[0;34m(\u001b[0m\u001b[0;36m10\u001b[0m\u001b[0;34m)\u001b[0m\u001b[0;34m)\u001b[0m\u001b[0;34m\u001b[0m\u001b[0;34m\u001b[0m\u001b[0m\n\u001b[0m",
      "\u001b[0;31mNameError\u001b[0m: name 'unumpy' is not defined"
     ]
    }
   ],
   "source": [
    "a = unumpy.uarray(np.arange(10), np.ones(10))"
   ]
  },
  {
   "cell_type": "code",
   "execution_count": 128,
   "metadata": {},
   "outputs": [],
   "source": [
    "a = np.arange(10)"
   ]
  },
  {
   "cell_type": "code",
   "execution_count": 129,
   "metadata": {},
   "outputs": [],
   "source": [
    "g = pn.Grid(x=np.arange(10))"
   ]
  },
  {
   "cell_type": "code",
   "execution_count": 130,
   "metadata": {},
   "outputs": [],
   "source": [
    "u = pn.GridArray(a, grid=g)"
   ]
  },
  {
   "cell_type": "code",
   "execution_count": 131,
   "metadata": {},
   "outputs": [
    {
     "data": {
      "text/plain": [
       "Grid(\n",
       "Axis(\"x\",\n",
       "points = array([0, 1, 2, 3, 4, 5, 6, 7, 8, 9]),\n",
       "edges = edges: None)\n",
       "nbins = 10),)"
      ]
     },
     "execution_count": 131,
     "metadata": {},
     "output_type": "execute_result"
    }
   ],
   "source": [
    "u.grid"
   ]
  },
  {
   "cell_type": "code",
   "execution_count": 132,
   "metadata": {},
   "outputs": [
    {
     "data": {
      "text/plain": [
       "9"
      ]
     },
     "execution_count": 132,
     "metadata": {},
     "output_type": "execute_result"
    }
   ],
   "source": [
    "np.max(u)"
   ]
  },
  {
   "cell_type": "code",
   "execution_count": 133,
   "metadata": {},
   "outputs": [
    {
     "data": {
      "text/plain": [
       "140736879426032"
      ]
     },
     "execution_count": 133,
     "metadata": {},
     "output_type": "execute_result"
    }
   ],
   "source": [
    "np.amax(np.empty_like(u))"
   ]
  },
  {
   "cell_type": "code",
   "execution_count": 134,
   "metadata": {},
   "outputs": [
    {
     "data": {
      "text/html": [
       "<table>\n",
       "<tbody>\n",
       "<tr><td><b>x</b></td><td><b>0</b></td><td><b>1</b></td><td><b>2</b></td><td><b>3</b></td><td><b>4</b></td><td><b>5</b></td><td><b>6</b></td><td><b>7</b></td><td><b>8</b></td><td><b>9</b></td></tr>\n",
       "<tr><td><b></b> </td><td>0       </td><td>1       </td><td>2       </td><td>3       </td><td>4       </td><td>5       </td><td>6       </td><td>7       </td><td>8       </td><td>9       </td></tr>\n",
       "</tbody>\n",
       "</table>"
      ],
      "text/plain": [
       "GridArray([0 1 2 3 4 5 6 7 8 9])"
      ]
     },
     "execution_count": 134,
     "metadata": {},
     "output_type": "execute_result"
    }
   ],
   "source": [
    "u.T"
   ]
  },
  {
   "cell_type": "code",
   "execution_count": 135,
   "metadata": {},
   "outputs": [
    {
     "ename": "NameError",
     "evalue": "name 'unumpy' is not defined",
     "output_type": "error",
     "traceback": [
      "\u001b[0;31m---------------------------------------------------------------------------\u001b[0m",
      "\u001b[0;31mNameError\u001b[0m                                 Traceback (most recent call last)",
      "\u001b[0;32m<ipython-input-135-8152c94c5715>\u001b[0m in \u001b[0;36m<module>\u001b[0;34m\u001b[0m\n\u001b[0;32m----> 1\u001b[0;31m \u001b[0munumpy\u001b[0m\u001b[0;34m.\u001b[0m\u001b[0mcos\u001b[0m\u001b[0;34m(\u001b[0m\u001b[0mu\u001b[0m\u001b[0;34m)\u001b[0m\u001b[0;34m\u001b[0m\u001b[0;34m\u001b[0m\u001b[0m\n\u001b[0m",
      "\u001b[0;31mNameError\u001b[0m: name 'unumpy' is not defined"
     ]
    }
   ],
   "source": [
    "unumpy.cos(u)"
   ]
  },
  {
   "cell_type": "code",
   "execution_count": 136,
   "metadata": {},
   "outputs": [
    {
     "data": {
      "text/html": [
       "<table>\n",
       "<tbody>\n",
       "<tr><td><b>x</b></td><td><b>0</b></td><td><b>1</b></td><td><b>2</b></td><td><b>3</b></td><td><b>4</b></td><td><b>5</b></td><td><b>6</b></td><td><b>7</b></td><td><b>8</b></td><td><b>9</b></td></tr>\n",
       "<tr><td><b></b> </td><td>1       </td><td>1       </td><td>1       </td><td>1       </td><td>1       </td><td>1       </td><td>1       </td><td>1       </td><td>1       </td><td>1       </td></tr>\n",
       "</tbody>\n",
       "</table>"
      ],
      "text/plain": [
       "GridArray([1 1 1 1 1 1 1 1 1 1])"
      ]
     },
     "execution_count": 136,
     "metadata": {},
     "output_type": "execute_result"
    }
   ],
   "source": [
    "np.ones_like(u)"
   ]
  },
  {
   "cell_type": "code",
   "execution_count": 137,
   "metadata": {},
   "outputs": [
    {
     "data": {
      "text/html": [
       "<table>\n",
       "<tbody>\n",
       "<tr><td><b>x</b></td><td><b>0</b></td><td><b>1</b></td><td><b>2</b></td><td><b>3</b></td><td><b>4</b></td><td><b>5</b></td><td><b>6</b></td><td><b>7</b></td><td><b>8</b></td><td><b>9</b></td></tr>\n",
       "<tr><td><b></b> </td><td>0       </td><td>1       </td><td>1.41    </td><td>1.73    </td><td>2       </td><td>2.24    </td><td>2.45    </td><td>2.65    </td><td>2.83    </td><td>3       </td></tr>\n",
       "</tbody>\n",
       "</table>"
      ],
      "text/plain": [
       "GridArray([0.0 1.0 1.4142135623730951 1.7320508075688772 2.0 2.23606797749979\n",
       " 2.449489742783178 2.6457513110645907 2.8284271247461903 3.0])"
      ]
     },
     "execution_count": 137,
     "metadata": {},
     "output_type": "execute_result"
    }
   ],
   "source": [
    "np.sqrt(u)"
   ]
  },
  {
   "cell_type": "code",
   "execution_count": 138,
   "metadata": {},
   "outputs": [
    {
     "data": {
      "text/plain": [
       "array([10.        , 10.        ,  5.        ,  3.33333333,  2.5       ,\n",
       "        2.        ,  1.66666667,  1.42857143,  1.25      ,  1.11111111])"
      ]
     },
     "execution_count": 138,
     "metadata": {},
     "output_type": "execute_result"
    }
   ],
   "source": [
    "np.asarray(10 / u)"
   ]
  },
  {
   "cell_type": "code",
   "execution_count": 139,
   "metadata": {},
   "outputs": [
    {
     "data": {
      "text/html": [
       "<table>\n",
       "<tbody>\n",
       "<tr><td><b>x</b></td><td><b>0</b></td><td><b>1</b></td><td><b>2</b></td><td><b>3</b></td><td><b>4</b></td><td><b>5</b></td><td><b>6</b></td><td><b>7</b></td><td><b>8</b></td><td><b>9</b></td></tr>\n",
       "<tr><td><b></b> </td><td>0       </td><td>1       </td><td>2       </td><td>3       </td><td>4       </td><td>5       </td><td>6       </td><td>7       </td><td>8       </td><td>9       </td></tr>\n",
       "</tbody>\n",
       "</table>"
      ],
      "text/plain": [
       "GridArray([0 1 2 3 4 5 6 7 8 9])"
      ]
     },
     "execution_count": 139,
     "metadata": {},
     "output_type": "execute_result"
    }
   ],
   "source": [
    "u"
   ]
  },
  {
   "cell_type": "code",
   "execution_count": 140,
   "metadata": {},
   "outputs": [
    {
     "data": {
      "text/html": [
       "<table>\n",
       "<tbody>\n",
       "<tr><td><b>x</b></td><td><b>0</b></td><td><b>1</b></td><td><b>2</b></td><td><b>3</b></td><td><b>4</b></td><td><b>5</b></td><td><b>6</b></td><td><b>7</b></td><td><b>8</b></td><td><b>9</b></td></tr>\n",
       "<tr><td><b></b> </td><td>--      </td><td>--      </td><td>--      </td><td>1.73    </td><td>2       </td><td>2.24    </td><td>2.45    </td><td>2.65    </td><td>2.83    </td><td>3       </td></tr>\n",
       "</tbody>\n",
       "</table>"
      ],
      "text/plain": [
       "GridArray([-- -- -- 1.7320508075688772 2.0 2.23606797749979 2.449489742783178\n",
       " 2.6457513110645907 2.8284271247461903 3.0])"
      ]
     },
     "execution_count": 140,
     "metadata": {},
     "output_type": "execute_result"
    }
   ],
   "source": [
    "np.sqrt(u[u>2])"
   ]
  },
  {
   "cell_type": "code",
   "execution_count": 141,
   "metadata": {},
   "outputs": [
    {
     "data": {
      "text/html": [
       "<table>\n",
       "<tbody>\n",
       "<tr><td><b>x</b></td><td><b>0</b></td><td><b>1</b></td><td><b>2</b></td></tr>\n",
       "<tr><td><b></b> </td><td>0       </td><td>1       </td><td>2       </td></tr>\n",
       "</tbody>\n",
       "</table>"
      ],
      "text/plain": [
       "GridArray([0 1 2])"
      ]
     },
     "execution_count": 141,
     "metadata": {},
     "output_type": "execute_result"
    }
   ],
   "source": [
    "u[0:3]"
   ]
  },
  {
   "cell_type": "code",
   "execution_count": 142,
   "metadata": {},
   "outputs": [],
   "source": [
    "g = pn.GridData(x=np.arange(20), y=np.arange(5))\n",
    "#g = pn.GridData(y=np.arange(5))"
   ]
  },
  {
   "cell_type": "code",
   "execution_count": 143,
   "metadata": {},
   "outputs": [],
   "source": [
    "g.grid['x'].edges = pn.edges(points=g.grid['x'].points)"
   ]
  },
  {
   "cell_type": "code",
   "execution_count": 144,
   "metadata": {},
   "outputs": [],
   "source": [
    "e = pn.edges(points=np.arange(11))"
   ]
  },
  {
   "cell_type": "code",
   "execution_count": 145,
   "metadata": {},
   "outputs": [
    {
     "data": {
      "text/plain": [
       "-0.5"
      ]
     },
     "execution_count": 145,
     "metadata": {},
     "output_type": "execute_result"
    }
   ],
   "source": [
    "e[0,0]"
   ]
  },
  {
   "cell_type": "code",
   "execution_count": 146,
   "metadata": {},
   "outputs": [],
   "source": [
    "a = pn.GridArray(np.random.rand(g.grid.size).reshape(g.shape), grid=g.grid)"
   ]
  },
  {
   "cell_type": "code",
   "execution_count": 147,
   "metadata": {},
   "outputs": [
    {
     "data": {
      "text/plain": [
       "[<matplotlib.lines.Line2D at 0x7f54bb440470>]"
      ]
     },
     "execution_count": 147,
     "metadata": {},
     "output_type": "execute_result"
    },
    {
     "data": {
      "image/png": "[encoded data removed]",
      "text/plain": [
       "<Figure size 432x288 with 1 Axes>"
      ]
     },
     "metadata": {
      "needs_background": "light"
     },
     "output_type": "display_data"
    }
   ],
   "source": [
    "a[a>0.2][:,0].plot()"
   ]
  },
  {
   "cell_type": "code",
   "execution_count": 148,
   "metadata": {},
   "outputs": [
    {
     "data": {
      "text/plain": [
       "[<matplotlib.lines.Line2D at 0x7f54bb3a6320>]"
      ]
     },
     "execution_count": 148,
     "metadata": {},
     "output_type": "execute_result"
    },
    {
     "data": {
      "image/png": "[encoded data removed]",
      "text/plain": [
       "<Figure size 432x288 with 1 Axes>"
      ]
     },
     "metadata": {
      "needs_background": "light"
     },
     "output_type": "display_data"
    }
   ],
   "source": [
    "a[1].plot()"
   ]
  },
  {
   "cell_type": "code",
   "execution_count": 149,
   "metadata": {},
   "outputs": [
    {
     "data": {
      "text/plain": [
       "[<matplotlib.lines.Line2D at 0x7f54bb370c50>]"
      ]
     },
     "execution_count": 149,
     "metadata": {},
     "output_type": "execute_result"
    },
    {
     "data": {
      "image/png": "[encoded data removed]",
      "text/plain": [
       "<Figure size 432x288 with 1 Axes>"
      ]
     },
     "metadata": {
      "needs_background": "light"
     },
     "output_type": "display_data"
    }
   ],
   "source": [
    "a[a>0.2][2].plot()"
   ]
  },
  {
   "cell_type": "code",
   "execution_count": 150,
   "metadata": {},
   "outputs": [
    {
     "data": {
      "text/plain": [
       "[<matplotlib.lines.Line2D at 0x7f54bb2d1940>]"
      ]
     },
     "execution_count": 150,
     "metadata": {},
     "output_type": "execute_result"
    },
    {
     "data": {
      "image/png": "[encoded data removed]",
      "text/plain": [
       "<Figure size 432x288 with 1 Axes>"
      ]
     },
     "metadata": {
      "needs_background": "light"
     },
     "output_type": "display_data"
    }
   ],
   "source": [
    "np.ma.masked_where(a>0.5, a)[:,0].plot()"
   ]
  },
  {
   "cell_type": "code",
   "execution_count": 151,
   "metadata": {},
   "outputs": [
    {
     "data": {
      "text/html": [
       "<table>\n",
       "<tbody>\n",
       "<tr><td><b>y \\ x</b></td><td><b>[-0.5 | 0 | 0.5]</b></td><td><b>[0.5 | 1 | 1.5]</b></td><td><b>[1.5 | 2 | 2.5]</b></td><td><b>[2.5 | 3 | 3.5]</b></td><td><b>[3.5 | 4 | 4.5]</b></td><td><b>[4.5 | 5 | 5.5]</b></td><td>...</td><td><b>[13.5 | 14 | 14.5]</b></td><td><b>[14.5 | 15 | 15.5]</b></td><td><b>[15.5 | 16 | 16.5]</b></td><td><b>[16.5 | 17 | 17.5]</b></td><td><b>[17.5 | 18 | 18.5]</b></td><td><b>[18.5 | 19 | 19.5]</b></td></tr>\n",
       "<tr><td><b>0</b>    </td><td>0                      </td><td>0                     </td><td>0                     </td><td>0                     </td><td>0                     </td><td>0                     </td><td>...</td><td>0                        </td><td>0                        </td><td>0                        </td><td>0                        </td><td>0                        </td><td>0                        </td></tr>\n",
       "<tr><td><b>1</b>    </td><td>0                      </td><td>0                     </td><td>0                     </td><td>0                     </td><td>0                     </td><td>0                     </td><td>...</td><td>0                        </td><td>0                        </td><td>0                        </td><td>0                        </td><td>0                        </td><td>0                        </td></tr>\n",
       "<tr><td><b>2</b>    </td><td>0                      </td><td>0                     </td><td>0                     </td><td>0                     </td><td>0                     </td><td>0                     </td><td>...</td><td>0                        </td><td>0                        </td><td>0                        </td><td>0                        </td><td>0                        </td><td>0                        </td></tr>\n",
       "<tr><td><b>3</b>    </td><td>0                      </td><td>0                     </td><td>0                     </td><td>0                     </td><td>0                     </td><td>0                     </td><td>...</td><td>0                        </td><td>0                        </td><td>0                        </td><td>0                        </td><td>0                        </td><td>0                        </td></tr>\n",
       "<tr><td><b>4</b>    </td><td>0                      </td><td>0                     </td><td>0                     </td><td>0                     </td><td>0                     </td><td>0                     </td><td>...</td><td>0                        </td><td>0                        </td><td>0                        </td><td>0                        </td><td>0                        </td><td>0                        </td></tr>\n",
       "</tbody>\n",
       "</table>"
      ],
      "text/plain": [
       "GridArray([[0 0 0 0 0]\n",
       " [0 0 0 0 0]\n",
       " [0 0 0 0 0]\n",
       " [0 0 0 0 0]\n",
       " [0 0 0 0 0]\n",
       " [0 0 0 0 0]\n",
       " [0 0 0 0 0]\n",
       " [0 0 0 0 0]\n",
       " [0 0 0 0 0]\n",
       " [0 0 0 0 0]\n",
       " [0 0 0 0 0]\n",
       " [0 0 0 0 0]\n",
       " [0 0 0 0 0]\n",
       " [0 0 0 0 0]\n",
       " [0 0 0 0 0]\n",
       " [0 0 0 0 0]\n",
       " [0 0 0 0 0]\n",
       " [0 0 0 0 0]\n",
       " [0 0 0 0 0]\n",
       " [0 0 0 0 0]])"
      ]
     },
     "execution_count": 151,
     "metadata": {},
     "output_type": "execute_result"
    }
   ],
   "source": [
    "a.astype(np.int)"
   ]
  },
  {
   "cell_type": "code",
   "execution_count": 152,
   "metadata": {},
   "outputs": [
    {
     "data": {
      "text/html": [
       "<table>\n",
       "<tbody>\n",
       "<tr><td><b>y \\ x</b></td><td><b>[-0.5 | 0 | 0.5]</b></td><td><b>[0.5 | 1 | 1.5]</b></td><td><b>[1.5 | 2 | 2.5]</b></td><td><b>[2.5 | 3 | 3.5]</b></td><td><b>[3.5 | 4 | 4.5]</b></td><td><b>[4.5 | 5 | 5.5]</b></td><td>...</td><td><b>[13.5 | 14 | 14.5]</b></td><td><b>[14.5 | 15 | 15.5]</b></td><td><b>[15.5 | 16 | 16.5]</b></td><td><b>[16.5 | 17 | 17.5]</b></td><td><b>[17.5 | 18 | 18.5]</b></td><td><b>[18.5 | 19 | 19.5]</b></td></tr>\n",
       "<tr><td><b>0</b>    </td><td>1                      </td><td>1                     </td><td>1                     </td><td>1                     </td><td>1                     </td><td>1                     </td><td>...</td><td>1                        </td><td>1                        </td><td>1                        </td><td>1                        </td><td>1                        </td><td>1                        </td></tr>\n",
       "<tr><td><b>1</b>    </td><td>1                      </td><td>1                     </td><td>1                     </td><td>1                     </td><td>1                     </td><td>1                     </td><td>...</td><td>1                        </td><td>1                        </td><td>1                        </td><td>1                        </td><td>1                        </td><td>1                        </td></tr>\n",
       "<tr><td><b>2</b>    </td><td>1                      </td><td>1                     </td><td>1                     </td><td>1                     </td><td>1                     </td><td>1                     </td><td>...</td><td>1                        </td><td>1                        </td><td>1                        </td><td>1                        </td><td>1                        </td><td>1                        </td></tr>\n",
       "<tr><td><b>3</b>    </td><td>1                      </td><td>1                     </td><td>1                     </td><td>1                     </td><td>1                     </td><td>1                     </td><td>...</td><td>1                        </td><td>1                        </td><td>1                        </td><td>1                        </td><td>1                        </td><td>1                        </td></tr>\n",
       "<tr><td><b>4</b>    </td><td>1                      </td><td>1                     </td><td>1                     </td><td>1                     </td><td>1                     </td><td>1                     </td><td>...</td><td>1                        </td><td>1                        </td><td>1                        </td><td>1                        </td><td>1                        </td><td>1                        </td></tr>\n",
       "</tbody>\n",
       "</table>"
      ],
      "text/plain": [
       "GridArray([[1. 1. 1. 1. 1.]\n",
       " [1. 1. 1. 1. 1.]\n",
       " [1. 1. 1. 1. 1.]\n",
       " [1. 1. 1. 1. 1.]\n",
       " [1. 1. 1. 1. 1.]\n",
       " [1. 1. 1. 1. 1.]\n",
       " [1. 1. 1. 1. 1.]\n",
       " [1. 1. 1. 1. 1.]\n",
       " [1. 1. 1. 1. 1.]\n",
       " [1. 1. 1. 1. 1.]\n",
       " [1. 1. 1. 1. 1.]\n",
       " [1. 1. 1. 1. 1.]\n",
       " [1. 1. 1. 1. 1.]\n",
       " [1. 1. 1. 1. 1.]\n",
       " [1. 1. 1. 1. 1.]\n",
       " [1. 1. 1. 1. 1.]\n",
       " [1. 1. 1. 1. 1.]\n",
       " [1. 1. 1. 1. 1.]\n",
       " [1. 1. 1. 1. 1.]\n",
       " [1. 1. 1. 1. 1.]])"
      ]
     },
     "execution_count": 152,
     "metadata": {},
     "output_type": "execute_result"
    }
   ],
   "source": [
    "np.ones_like(a)"
   ]
  },
  {
   "cell_type": "code",
   "execution_count": 153,
   "metadata": {},
   "outputs": [
    {
     "data": {
      "text/plain": [
       "True"
      ]
     },
     "execution_count": 153,
     "metadata": {},
     "output_type": "execute_result"
    }
   ],
   "source": [
    "np.all(np.abs(-a) == a)"
   ]
  },
  {
   "cell_type": "code",
   "execution_count": 154,
   "metadata": {},
   "outputs": [
    {
     "data": {
      "text/html": [
       "<table>\n",
       "<tbody>\n",
       "<tr><td><b>y \\ x</b></td><td><b>[-0.5 | 0 | 0.5]</b></td><td><b>[0.5 | 1 | 1.5]</b></td><td><b>[1.5 | 2 | 2.5]</b></td><td><b>[2.5 | 3 | 3.5]</b></td><td><b>[3.5 | 4 | 4.5]</b></td><td><b>[4.5 | 5 | 5.5]</b></td><td>...</td><td><b>[13.5 | 14 | 14.5]</b></td><td><b>[14.5 | 15 | 15.5]</b></td><td><b>[15.5 | 16 | 16.5]</b></td><td><b>[16.5 | 17 | 17.5]</b></td><td><b>[17.5 | 18 | 18.5]</b></td><td><b>[18.5 | 19 | 19.5]</b></td></tr>\n",
       "<tr><td><b>0</b>    </td><td>0.506                  </td><td>0.114                 </td><td>0.63                  </td><td>0.792                 </td><td>0.85                  </td><td>0.185                 </td><td>...</td><td>0.959                    </td><td>0.838                    </td><td>0.792                    </td><td>0.0626                   </td><td>0.533                    </td><td>0.579                    </td></tr>\n",
       "<tr><td><b>1</b>    </td><td>0.904                  </td><td>0.934                 </td><td>0.266                 </td><td>0.674                 </td><td>0.0796                </td><td>0.571                 </td><td>...</td><td>0.78                     </td><td>0.936                    </td><td>0.568                    </td><td>0.428                    </td><td>0.944                    </td><td>0.289                    </td></tr>\n",
       "<tr><td><b>2</b>    </td><td>0.573                  </td><td>0.877                 </td><td>0.135                 </td><td>0.992                 </td><td>0.486                 </td><td>0.715                 </td><td>...</td><td>0.637                    </td><td>0.546                    </td><td>0.823                    </td><td>0.525                    </td><td>0.745                    </td><td>0.215                    </td></tr>\n",
       "<tr><td><b>3</b>    </td><td>0.668                  </td><td>0.128                 </td><td>0.957                 </td><td>0.25                  </td><td>0.307                 </td><td>0.58                  </td><td>...</td><td>0.723                    </td><td>0.72                     </td><td>0.0939                   </td><td>0.294                    </td><td>0.465                    </td><td>0.733                    </td></tr>\n",
       "<tr><td><b>4</b>    </td><td>0.882                  </td><td>0.701                 </td><td>0.967                 </td><td>0.627                 </td><td>0.225                 </td><td>0.155                 </td><td>...</td><td>0.0629                   </td><td>0.781                    </td><td>0.779                    </td><td>0.358                    </td><td>0.0406                   </td><td>0.0766                   </td></tr>\n",
       "</tbody>\n",
       "</table>"
      ],
      "text/plain": [
       "GridArray([[0.5061020680043105 0.9038454848635171 0.572927401868016\n",
       "  0.6676685229210115 0.881695223349132]\n",
       " [0.11372286404427812 0.9339274744783987 0.8768824772044941\n",
       "  0.128360940860749 0.7006360252431152]\n",
       " [0.6300364017045931 0.26587924201737545 0.1349737087186419\n",
       "  0.9569914046001845 0.9671053968564107]\n",
       " [0.7920094807526655 0.673828484856824 0.9915693559801011\n",
       "  0.24953782543639647 0.6273823866077802]\n",
       " [0.8503017722686623 0.079553229862252 0.4855521326858725\n",
       "  0.30746846763033553 0.22526320163749736]\n",
       " [0.1849303939174778 0.5714284355269174 0.7145849509588356\n",
       "  0.5800264934960769 0.15501290346043128]\n",
       " [0.6050435318037076 0.9929961093505463 0.4177424260271462\n",
       "  0.7726330500210404 0.1802595281397823]\n",
       " [0.1429732589538102 0.25829433128127566 0.49296370935203226\n",
       "  0.5140494442897313 0.4891081259286294]\n",
       " [0.3559789009741554 0.9459649008403656 0.06771821286990809\n",
       "  0.45577589997482315 0.03881510181281689]\n",
       " [0.6205748494889707 0.7320432089093084 0.8013311652871019\n",
       "  0.855400845633565 0.382827502257161]\n",
       " [0.26990822672194636 0.12001355108898304 0.15853884018800368\n",
       "  0.661188533443033 0.5477306215126763]\n",
       " [0.9551659748096033 0.25831771935090375 0.03306010411114324\n",
       "  0.4295154705734482 0.45793788786288425]\n",
       " [0.8180917939757423 0.3738887100612066 0.31129902761247963\n",
       "  0.9665085613937853 0.3195872036602059]\n",
       " [0.6492861092317419 0.08136042250371445 0.7220867628135791\n",
       "  0.6972171306877204 0.5865084272370898]\n",
       " [0.959115101868941 0.7795860863112156 0.6368023458671178\n",
       "  0.7230062128211717 0.06291694027676287]\n",
       " [0.8381051964468212 0.936341633650442 0.5459274325509257\n",
       "  0.7200781597111389 0.7814479467699961]\n",
       " [0.7916996861352077 0.5681153281289508 0.8228846093092502\n",
       "  0.09388738202653413 0.7791471559818504]\n",
       " [0.0626037569684531 0.42766386079381635 0.5254606278799385\n",
       "  0.2936130618343047 0.3583780634345167]\n",
       " [0.5332918117534617 0.9435257564629876 0.744959775510022\n",
       "  0.4647557839025729 0.04062830857534305]\n",
       " [0.5785318532114987 0.2885355228685297 0.21491522002490393\n",
       "  0.7327337501430282 0.07657611099030981]])"
      ]
     },
     "execution_count": 154,
     "metadata": {},
     "output_type": "execute_result"
    }
   ],
   "source": [
    "np.abs(-a)"
   ]
  },
  {
   "cell_type": "code",
   "execution_count": 155,
   "metadata": {},
   "outputs": [
    {
     "data": {
      "text/html": [
       "<table>\n",
       "<tbody>\n",
       "<tr><td><b>x</b></td><td><b>[-0.5 | 0 | 0.5]</b></td><td><b>[0.5 | 1 | 1.5]</b></td><td><b>[1.5 | 2 | 2.5]</b></td><td><b>[2.5 | 3 | 3.5]</b></td><td><b>[3.5 | 4 | 4.5]</b></td><td><b>[4.5 | 5 | 5.5]</b></td><td>...</td><td><b>[13.5 | 14 | 14.5]</b></td><td><b>[14.5 | 15 | 15.5]</b></td><td><b>[15.5 | 16 | 16.5]</b></td><td><b>[16.5 | 17 | 17.5]</b></td><td><b>[17.5 | 18 | 18.5]</b></td><td><b>[18.5 | 19 | 19.5]</b></td></tr>\n",
       "<tr><td><b></b> </td><td>3.53                   </td><td>2.75                  </td><td>2.95                  </td><td>3.33                  </td><td>1.95                  </td><td>2.21                  </td><td>...</td><td>3.16                     </td><td>3.82                     </td><td>3.06                     </td><td>1.67                     </td><td>2.73                     </td><td>1.89                     </td></tr>\n",
       "</tbody>\n",
       "</table>"
      ],
      "text/plain": [
       "GridArray([3.5322387  2.75352978 2.95498615 3.33432753 1.9481388  2.20598318\n",
       " 2.96867465 1.89738887 1.86425302 3.39217757 1.75737977 2.13399716\n",
       " 2.7893753  2.73645885 3.16142669 3.82190037 3.05573416 1.66771937\n",
       " 2.72716144 1.89129246])"
      ]
     },
     "execution_count": 155,
     "metadata": {},
     "output_type": "execute_result"
    }
   ],
   "source": [
    "np.sum(a, axis='y')"
   ]
  },
  {
   "cell_type": "code",
   "execution_count": 156,
   "metadata": {},
   "outputs": [
    {
     "data": {
      "text/html": [
       "<table>\n",
       "<tbody>\n",
       "<tr><td><b>y \\ x</b></td><td><b>[-0.5 | 0 | 0.5]</b></td><td><b>[0.5 | 1 | 1.5]</b></td><td><b>[1.5 | 2 | 2.5]</b></td><td><b>[2.5 | 3 | 3.5]</b></td><td><b>[3.5 | 4 | 4.5]</b></td><td><b>[4.5 | 5 | 5.5]</b></td><td>...</td><td><b>[13.5 | 14 | 14.5]</b></td><td><b>[14.5 | 15 | 15.5]</b></td><td><b>[15.5 | 16 | 16.5]</b></td><td><b>[16.5 | 17 | 17.5]</b></td><td><b>[17.5 | 18 | 18.5]</b></td><td><b>[18.5 | 19 | 19.5]</b></td></tr>\n",
       "<tr><td><b>0</b>    </td><td>0.506                  </td><td>0.114                 </td><td>0.63                  </td><td>0.792                 </td><td>0.85                  </td><td>0.185                 </td><td>...</td><td>0.959                    </td><td>0.838                    </td><td>0.792                    </td><td>0.0626                   </td><td>0.533                    </td><td>0.579                    </td></tr>\n",
       "<tr><td><b>1</b>    </td><td>0.904                  </td><td>0.934                 </td><td>0.266                 </td><td>0.674                 </td><td>0.0796                </td><td>0.571                 </td><td>...</td><td>0.78                     </td><td>0.936                    </td><td>0.568                    </td><td>0.428                    </td><td>0.944                    </td><td>0.289                    </td></tr>\n",
       "<tr><td><b>2</b>    </td><td>0.573                  </td><td>0.877                 </td><td>0.135                 </td><td>0.992                 </td><td>0.486                 </td><td>0.715                 </td><td>...</td><td>0.637                    </td><td>0.546                    </td><td>0.823                    </td><td>0.525                    </td><td>0.745                    </td><td>0.215                    </td></tr>\n",
       "<tr><td><b>3</b>    </td><td>0.668                  </td><td>0.128                 </td><td>0.957                 </td><td>0.25                  </td><td>0.307                 </td><td>0.58                  </td><td>...</td><td>0.723                    </td><td>0.72                     </td><td>0.0939                   </td><td>0.294                    </td><td>0.465                    </td><td>0.733                    </td></tr>\n",
       "<tr><td><b>4</b>    </td><td>0.882                  </td><td>0.701                 </td><td>0.967                 </td><td>0.627                 </td><td>0.225                 </td><td>0.155                 </td><td>...</td><td>0.0629                   </td><td>0.781                    </td><td>0.779                    </td><td>0.358                    </td><td>0.0406                   </td><td>0.0766                   </td></tr>\n",
       "</tbody>\n",
       "</table>"
      ],
      "text/plain": [
       "GridArray([[0.50610207 0.90384548 0.5729274  0.66766852 0.88169522]\n",
       " [0.11372286 0.93392747 0.87688248 0.12836094 0.70063603]\n",
       " [0.6300364  0.26587924 0.13497371 0.9569914  0.9671054 ]\n",
       " [0.79200948 0.67382848 0.99156936 0.24953783 0.62738239]\n",
       " [0.85030177 0.07955323 0.48555213 0.30746847 0.2252632 ]\n",
       " [0.18493039 0.57142844 0.71458495 0.58002649 0.1550129 ]\n",
       " [0.60504353 0.99299611 0.41774243 0.77263305 0.18025953]\n",
       " [0.14297326 0.25829433 0.49296371 0.51404944 0.48910813]\n",
       " [0.3559789  0.9459649  0.06771821 0.4557759  0.0388151 ]\n",
       " [0.62057485 0.73204321 0.80133117 0.85540085 0.3828275 ]\n",
       " [0.26990823 0.12001355 0.15853884 0.66118853 0.54773062]\n",
       " [0.95516597 0.25831772 0.0330601  0.42951547 0.45793789]\n",
       " [0.81809179 0.37388871 0.31129903 0.96650856 0.3195872 ]\n",
       " [0.64928611 0.08136042 0.72208676 0.69721713 0.58650843]\n",
       " [0.9591151  0.77958609 0.63680235 0.72300621 0.06291694]\n",
       " [0.8381052  0.93634163 0.54592743 0.72007816 0.78144795]\n",
       " [0.79169969 0.56811533 0.82288461 0.09388738 0.77914716]\n",
       " [0.06260376 0.42766386 0.52546063 0.29361306 0.35837806]\n",
       " [0.53329181 0.94352576 0.74495978 0.46475578 0.04062831]\n",
       " [0.57853185 0.28853552 0.21491522 0.73273375 0.07657611]])"
      ]
     },
     "execution_count": 156,
     "metadata": {},
     "output_type": "execute_result"
    }
   ],
   "source": [
    "a"
   ]
  },
  {
   "cell_type": "code",
   "execution_count": 157,
   "metadata": {},
   "outputs": [
    {
     "data": {
      "text/html": [
       "<table>\n",
       "<tbody>\n",
       "<tr><td><b>y \\ x</b></td><td><b>[-0.5 | 0 | 0.5]</b></td><td><b>[0.5 | 1 | 1.5]</b></td><td><b>[1.5 | 2 | 2.5]</b></td><td><b>[2.5 | 3 | 3.5]</b></td><td><b>[3.5 | 4 | 4.5]</b></td><td><b>[4.5 | 5 | 5.5]</b></td><td>...</td><td><b>[13.5 | 14 | 14.5]</b></td><td><b>[14.5 | 15 | 15.5]</b></td><td><b>[15.5 | 16 | 16.5]</b></td><td><b>[16.5 | 17 | 17.5]</b></td><td><b>[17.5 | 18 | 18.5]</b></td><td><b>[18.5 | 19 | 19.5]</b></td></tr>\n",
       "<tr><td><b>0</b>    </td><td>0.22                   </td><td>0.0494                </td><td>0.274                 </td><td>0.344                 </td><td>0.369                 </td><td>0.0803                </td><td>...</td><td>0.417                    </td><td>0.364                    </td><td>0.344                    </td><td>0.0272                   </td><td>0.232                    </td><td>0.251                    </td></tr>\n",
       "<tr><td><b>1</b>    </td><td>0.393                  </td><td>0.406                 </td><td>0.115                 </td><td>0.293                 </td><td>0.0345                </td><td>0.248                 </td><td>...</td><td>0.339                    </td><td>0.407                    </td><td>0.247                    </td><td>0.186                    </td><td>0.41                     </td><td>0.125                    </td></tr>\n",
       "<tr><td><b>2</b>    </td><td>0.249                  </td><td>0.381                 </td><td>0.0586                </td><td>0.431                 </td><td>0.211                 </td><td>0.31                  </td><td>...</td><td>0.277                    </td><td>0.237                    </td><td>0.357                    </td><td>0.228                    </td><td>0.324                    </td><td>0.0933                   </td></tr>\n",
       "<tr><td><b>3</b>    </td><td>0.29                   </td><td>0.0557                </td><td>0.416                 </td><td>0.108                 </td><td>0.134                 </td><td>0.252                 </td><td>...</td><td>0.314                    </td><td>0.313                    </td><td>0.0408                   </td><td>0.128                    </td><td>0.202                    </td><td>0.318                    </td></tr>\n",
       "<tr><td><b>4</b>    </td><td>0.383                  </td><td>0.304                 </td><td>0.42                  </td><td>0.272                 </td><td>0.0978                </td><td>0.0673                </td><td>...</td><td>0.0273                   </td><td>0.339                    </td><td>0.338                    </td><td>0.156                    </td><td>0.0176                   </td><td>0.0333                   </td></tr>\n",
       "</tbody>\n",
       "</table>"
      ],
      "text/plain": [
       "GridArray([[0.21979733541409632 0.3925351065693946 0.24881920916244613\n",
       "  0.28996475524509013 0.3829153702209832]\n",
       " [0.04938921232066374 0.40559954866380865 0.3808252211275658\n",
       "  0.05574644830773293 0.30428235958571237]\n",
       " [0.27362133265848526 0.1154698876607654 0.05861833689852299\n",
       "  0.4156160862467023 0.42000853727359366]\n",
       " [0.3439653471059424 0.29263999272254754 0.4306330997265191\n",
       "  0.10837290061316392 0.2724687085470515]\n",
       " [0.36928136764883557 0.03454952874675706 0.21087261190182996\n",
       "  0.1335318588511033 0.09783056544702469]\n",
       " [0.08031424961455527 0.2481682163519483 0.31034030105252813\n",
       "  0.2519023054830386 0.06732124859666683]\n",
       " [0.2627670671736049 0.4312527308423403 0.1814232304804669\n",
       "  0.33555027016021705 0.07828571838159136]\n",
       " [0.062092497423364444 0.11217580278234852 0.2140914187501461\n",
       "  0.22324883708046336 0.21241696014484454]\n",
       " [0.15459967236705982 0.41082733650912756 0.029409646173750883\n",
       "  0.19794095834355413 0.016857184531819263]\n",
       " [0.26951223274100095 0.3179223261440621 0.348013703261291\n",
       "  0.3714958670740326 0.16625987175108972]\n",
       " [0.1172196534856331 0.052121222991559316 0.06885254346099146\n",
       "  0.28715053157201287 0.23787638649239384]\n",
       " [0.4148233121615512 0.11218596009193033 0.014357820786616501\n",
       "  0.18653619876212707 0.19887989775328077]\n",
       " [0.35529275181399683 0.16237780362550686 0.13519544991394794\n",
       "  0.41974933492557126 0.13879495903651815]\n",
       " [0.28198137441577753 0.03533438253868031 0.31359829654531957\n",
       "  0.3027975525460953 0.254717373538823]\n",
       " [0.41653839625175637 0.3385699354535131 0.2765597448731353\n",
       "  0.31399760861000303 0.02732447998043453]\n",
       " [0.3639844620712953 0.40664800467066314 0.2370932714764767\n",
       "  0.31272597130159613 0.33937853117683536]\n",
       " [0.34383080501305713 0.2467293520910586 0.3573742450661206\n",
       "  0.04077477193446631 0.33837931043352987]\n",
       " [0.027188466197811414 0.18573205485219485 0.22820465114567529\n",
       "  0.1275145325693568 0.1556416153847842]\n",
       " [0.23160569108871618 0.40976802956546693 0.32353191974388773\n",
       "  0.20184087238150758 0.01764465022333409]\n",
       " [0.25125319145501596 0.125309385414872 0.09333649413383903\n",
       "  0.3182222243913932 0.03325658244870247]])"
      ]
     },
     "execution_count": 157,
     "metadata": {},
     "output_type": "execute_result"
    }
   ],
   "source": [
    "np.log10(np.exp(np.fabs(a)))"
   ]
  },
  {
   "cell_type": "code",
   "execution_count": null,
   "metadata": {},
   "outputs": [],
   "source": []
  },
  {
   "cell_type": "code",
   "execution_count": 158,
   "metadata": {},
   "outputs": [
    {
     "data": {
      "text/html": [
       "<table>\n",
       "<tbody>\n",
       "<tr><td><b>x</b></td><td><b>[-0.5 | 0 | 0.5]</b>      </td><td><b>[0.5 | 1 | 1.5]</b>       </td><td><b>[1.5 | 2 | 2.5]</b>       </td><td><b>[2.5 | 3 | 3.5]</b>       </td><td><b>[3.5 | 4 | 4.5]</b>       </td><td><b>[4.5 | 5 | 5.5]</b>       </td><td>...</td><td><b>[13.5 | 14 | 14.5]</b>    </td><td><b>[14.5 | 15 | 15.5]</b>    </td><td><b>[15.5 | 16 | 16.5]</b>    </td><td><b>[16.5 | 17 | 17.5]</b>    </td><td><b>[17.5 | 18 | 18.5]</b>    </td><td><b>[18.5 | 19 | 19.5]</b>    </td></tr>\n",
       "<tr><td><b></b> </td><td>[0.506 1.41  ... 2.651 3.532]</td><td>[0.114 1.048 ... 2.053 2.754]</td><td>[0.63  0.896 ... 1.988 2.955]</td><td>[0.792 1.466 ... 2.707 3.334]</td><td>[0.85  0.93  ... 1.723 1.948]</td><td>[0.185 0.756 ... 2.051 2.206]</td><td>...</td><td>[0.959 1.739 ... 3.099 3.161]</td><td>[0.838 1.774 ... 3.04  3.822]</td><td>[0.792 1.36  ... 2.277 3.056]</td><td>[0.063 0.49  ... 1.309 1.668]</td><td>[0.533 1.477 ... 2.687 2.727]</td><td>[0.579 0.867 ... 1.815 1.891]</td></tr>\n",
       "</tbody>\n",
       "</table>"
      ],
      "text/plain": [
       "GridArray([[0.50610207 1.40994755 1.98287495 2.65054348 3.5322387 ]\n",
       " [0.11372286 1.04765034 1.92453282 2.05289376 2.75352978]\n",
       " [0.6300364  0.89591564 1.03088935 1.98788076 2.95498615]\n",
       " [0.79200948 1.46583797 2.45740732 2.70694515 3.33432753]\n",
       " [0.85030177 0.929855   1.41540713 1.7228756  1.9481388 ]\n",
       " [0.18493039 0.75635883 1.47094378 2.05097027 2.20598318]\n",
       " [0.60504353 1.59803964 2.01578207 2.78841512 2.96867465]\n",
       " [0.14297326 0.40126759 0.8942313  1.40828074 1.89738887]\n",
       " [0.3559789  1.3019438  1.36966201 1.82543791 1.86425302]\n",
       " [0.62057485 1.35261806 2.15394922 3.00935007 3.39217757]\n",
       " [0.26990823 0.38992178 0.54846062 1.20964915 1.75737977]\n",
       " [0.95516597 1.21348369 1.2465438  1.67605927 2.13399716]\n",
       " [0.81809179 1.1919805  1.50327953 2.46978809 2.7893753 ]\n",
       " [0.64928611 0.73064653 1.45273329 2.14995043 2.73645885]\n",
       " [0.9591151  1.73870119 2.37550353 3.09850975 3.16142669]\n",
       " [0.8381052  1.77444683 2.32037426 3.04045242 3.82190037]\n",
       " [0.79169969 1.35981501 2.18269962 2.27658701 3.05573416]\n",
       " [0.06260376 0.49026762 1.01572825 1.30934131 1.66771937]\n",
       " [0.53329181 1.47681757 2.22177734 2.68653313 2.72716144]\n",
       " [0.57853185 0.86706738 1.0819826  1.81471635 1.89129246]])"
      ]
     },
     "execution_count": 158,
     "metadata": {},
     "output_type": "execute_result"
    }
   ],
   "source": [
    "np.cumsum(a, axis='y')"
   ]
  },
  {
   "cell_type": "code",
   "execution_count": 159,
   "metadata": {},
   "outputs": [
    {
     "data": {
      "text/html": [
       "<table>\n",
       "<tbody>\n",
       "<tr><td><b>x</b></td><td><b>[18.5 | 19 | 19.5]</b></td><td><b>[16.5 | 17 | 17.5]</b></td><td><b>[14.5 | 15 | 15.5]</b></td><td><b>[12.5 | 13 | 13.5]</b></td><td><b>[10.5 | 11 | 11.5]</b></td><td><b>[8.5 | 9 | 9.5]</b></td><td><b>[6.5 | 7 | 7.5]</b></td><td><b>[4.5 | 5 | 5.5]</b></td><td><b>[2.5 | 3 | 3.5]</b></td><td><b>[0.5 | 1 | 1.5]</b></td></tr>\n",
       "<tr><td><b></b> </td><td>0.241                    </td><td>0.156                    </td><td>0.13                     </td><td>0.238                    </td><td>0.304                    </td><td>0.167                 </td><td>0.151                 </td><td>0.227                 </td><td>0.244                 </td><td>0.359                 </td></tr>\n",
       "</tbody>\n",
       "</table>"
      ],
      "text/plain": [
       "GridArray([0.24145625796300696 0.15576287495807908 0.13037001198422857\n",
       " 0.23751366921081307 0.3044880719119128 0.1673474276845392\n",
       " 0.15074960594156436 0.2273977736468891 0.24366509695272065\n",
       " 0.3591819637290708])"
      ]
     },
     "execution_count": 159,
     "metadata": {},
     "output_type": "execute_result"
    }
   ],
   "source": [
    "np.std(a, axis='y')[::-2]"
   ]
  },
  {
   "cell_type": "code",
   "execution_count": 165,
   "metadata": {},
   "outputs": [
    {
     "name": "stdout",
     "output_type": "stream",
     "text": [
      "[[ True  True  True  True  True]\n",
      " [False  True  True False  True]\n",
      " [ True False False  True  True]\n",
      " [ True  True  True False  True]\n",
      " [ True False False False False]\n",
      " [False  True  True  True False]\n",
      " [ True  True False  True False]\n",
      " [False False False  True False]\n",
      " [False  True False False False]\n",
      " [ True  True  True  True False]\n",
      " [False False False  True  True]\n",
      " [ True False False False False]\n",
      " [ True False False  True False]\n",
      " [ True False  True  True  True]\n",
      " [ True  True  True  True False]\n",
      " [ True  True  True  True  True]\n",
      " [ True  True  True False  True]\n",
      " [False False  True False False]\n",
      " [ True  True  True False False]\n",
      " [ True False False  True False]] [[506.10206800431047 903.8454848635171 572.9274018680161\n",
      "  667.6685229210115 881.695223349132]\n",
      " [-- 933.9274744783986 876.882477204494 -- 700.6360252431152]\n",
      " [630.0364017045931 -- -- 956.9914046001844 967.1053968564108]\n",
      " [792.0094807526655 673.828484856824 991.5693559801011 --\n",
      "  627.3823866077803]\n",
      " [850.3017722686623 -- -- -- --]\n",
      " [-- 571.4284355269173 714.5849509588356 580.0264934960769 --]\n",
      " [605.0435318037075 992.9961093505462 -- 772.6330500210405 --]\n",
      " [-- -- -- 514.0494442897314 --]\n",
      " [-- 945.9649008403655 -- -- --]\n",
      " [620.5748494889707 732.0432089093084 801.3311652871018 855.400845633565\n",
      "  --]\n",
      " [-- -- -- 661.1885334430328 547.7306215126763]\n",
      " [955.1659748096031 -- -- -- --]\n",
      " [818.0917939757422 -- -- 966.5085613937854 --]\n",
      " [649.2861092317419 -- 722.0867628135791 697.2171306877203\n",
      "  586.5084272370899]\n",
      " [959.1151018689409 779.5860863112157 636.8023458671179 723.0062128211716\n",
      "  --]\n",
      " [838.1051964468213 936.341633650442 545.9274325509257 720.0781597111388\n",
      "  781.4479467699961]\n",
      " [791.6996861352077 568.1153281289508 822.8846093092501 --\n",
      "  779.1471559818503]\n",
      " [-- -- 525.4606278799386 -- --]\n",
      " [533.2918117534618 943.5257564629877 744.9597755100219 -- --]\n",
      " [578.5318532114986 -- -- 732.7337501430281 --]]\n"
     ]
    }
   ],
   "source": [
    "a[a > 0.5] *= 10"
   ]
  },
  {
   "cell_type": "code",
   "execution_count": 166,
   "metadata": {},
   "outputs": [
    {
     "data": {
      "text/plain": [
       "<matplotlib.collections.QuadMesh at 0x7f54bbb251d0>"
      ]
     },
     "execution_count": 166,
     "metadata": {},
     "output_type": "execute_result"
    },
    {
     "data": {
      "image/png": "[encoded data removed]",
      "text/plain": [
       "<Figure size 432x288 with 2 Axes>"
      ]
     },
     "metadata": {
      "needs_background": "light"
     },
     "output_type": "display_data"
    }
   ],
   "source": [
    "np.empty_like(a).plot(cbar=True)"
   ]
  },
  {
   "cell_type": "code",
   "execution_count": 167,
   "metadata": {},
   "outputs": [
    {
     "data": {
      "text/html": [
       "<table>\n",
       "<tbody>\n",
       "<tr><td><b>y \\ x</b></td><td><b>[2.5 | 3 | 3.5]</b></td><td><b>[3.5 | 4 | 4.5]</b></td></tr>\n",
       "<tr><td><b>0</b>    </td><td>792                   </td><td>850                   </td></tr>\n",
       "<tr><td><b>1</b>    </td><td>674                   </td><td>0.0796                </td></tr>\n",
       "<tr><td><b>2</b>    </td><td>992                   </td><td>0.486                 </td></tr>\n",
       "<tr><td><b>3</b>    </td><td>0.25                  </td><td>0.307                 </td></tr>\n",
       "<tr><td><b>4</b>    </td><td>627                   </td><td>0.225                 </td></tr>\n",
       "</tbody>\n",
       "</table>"
      ],
      "text/plain": [
       "GridArray([[7.92009481e+02 6.73828485e+02 9.91569356e+02 2.49537825e-01\n",
       "  6.27382387e+02]\n",
       " [8.50301772e+02 7.95532299e-02 4.85552133e-01 3.07468468e-01\n",
       "  2.25263202e-01]])"
      ]
     },
     "execution_count": 167,
     "metadata": {},
     "output_type": "execute_result"
    }
   ],
   "source": [
    "a[3:5]"
   ]
  },
  {
   "cell_type": "code",
   "execution_count": 168,
   "metadata": {},
   "outputs": [
    {
     "data": {
      "text/html": [
       "<table>\n",
       "<tbody>\n",
       "<tr><td><b>y</b></td><td><b>0</b></td><td><b>1</b></td><td><b>2</b></td><td><b>3</b></td><td><b>4</b></td></tr>\n",
       "<tr><td><b></b> </td><td>1.01e+04</td><td>8.98e+03</td><td>7.96e+03</td><td>8.85e+03</td><td>5.87e+03</td></tr>\n",
       "</tbody>\n",
       "</table>"
      ],
      "text/plain": [
       "GridArray([10128.48574886  8983.75640997  7957.73366861  8849.92502399\n",
       "  5874.44049444])"
      ]
     },
     "execution_count": 168,
     "metadata": {},
     "output_type": "execute_result"
    }
   ],
   "source": [
    "np.sum(a, axis=0)"
   ]
  },
  {
   "cell_type": "code",
   "execution_count": 169,
   "metadata": {},
   "outputs": [
    {
     "data": {
      "text/html": [
       "<table>\n",
       "<tbody>\n",
       "<tr><td><b>y \\ x</b></td><td><b>[-0.5 | 0 | 0.5]</b></td><td><b>[0.5 | 1 | 1.5]</b></td><td><b>[1.5 | 2 | 2.5]</b></td><td><b>[2.5 | 3 | 3.5]</b></td><td><b>[3.5 | 4 | 4.5]</b></td><td><b>[4.5 | 5 | 5.5]</b></td><td>...</td><td><b>[13.5 | 14 | 14.5]</b></td><td><b>[14.5 | 15 | 15.5]</b></td><td><b>[15.5 | 16 | 16.5]</b></td><td><b>[16.5 | 17 | 17.5]</b></td><td><b>[17.5 | 18 | 18.5]</b></td><td><b>[18.5 | 19 | 19.5]</b></td></tr>\n",
       "<tr><td><b>0</b>    </td><td>1.01e+03               </td><td>0.227                 </td><td>1.26e+03              </td><td>1.58e+03              </td><td>1.7e+03               </td><td>0.37                  </td><td>...</td><td>1.92e+03                 </td><td>1.68e+03                 </td><td>1.58e+03                 </td><td>0.125                    </td><td>1.07e+03                 </td><td>1.16e+03                 </td></tr>\n",
       "<tr><td><b>1</b>    </td><td>1.81e+03               </td><td>1.87e+03              </td><td>0.532                 </td><td>1.35e+03              </td><td>0.159                 </td><td>1.14e+03              </td><td>...</td><td>1.56e+03                 </td><td>1.87e+03                 </td><td>1.14e+03                 </td><td>0.855                    </td><td>1.89e+03                 </td><td>0.577                    </td></tr>\n",
       "<tr><td><b>2</b>    </td><td>1.15e+03               </td><td>1.75e+03              </td><td>0.27                  </td><td>1.98e+03              </td><td>0.971                 </td><td>1.43e+03              </td><td>...</td><td>1.27e+03                 </td><td>1.09e+03                 </td><td>1.65e+03                 </td><td>1.05e+03                 </td><td>1.49e+03                 </td><td>0.43                     </td></tr>\n",
       "<tr><td><b>3</b>    </td><td>1.34e+03               </td><td>0.257                 </td><td>1.91e+03              </td><td>0.499                 </td><td>0.615                 </td><td>1.16e+03              </td><td>...</td><td>1.45e+03                 </td><td>1.44e+03                 </td><td>0.188                    </td><td>0.587                    </td><td>0.93                     </td><td>1.47e+03                 </td></tr>\n",
       "<tr><td><b>4</b>    </td><td>1.76e+03               </td><td>1.4e+03               </td><td>1.93e+03              </td><td>1.25e+03              </td><td>0.451                 </td><td>0.31                  </td><td>...</td><td>0.126                    </td><td>1.56e+03                 </td><td>1.56e+03                 </td><td>0.717                    </td><td>0.0813                   </td><td>0.153                    </td></tr>\n",
       "</tbody>\n",
       "</table>"
      ],
      "text/plain": [
       "GridArray([[1.01220414e+03 1.80769097e+03 1.14585480e+03 1.33533705e+03\n",
       "  1.76339045e+03]\n",
       " [2.27445728e-01 1.86785495e+03 1.75376495e+03 2.56721882e-01\n",
       "  1.40127205e+03]\n",
       " [1.26007280e+03 5.31758484e-01 2.69947417e-01 1.91398281e+03\n",
       "  1.93421079e+03]\n",
       " [1.58401896e+03 1.34765697e+03 1.98313871e+03 4.99075651e-01\n",
       "  1.25476477e+03]\n",
       " [1.70060354e+03 1.59106460e-01 9.71104265e-01 6.14936935e-01\n",
       "  4.50526403e-01]\n",
       " [3.69860788e-01 1.14285687e+03 1.42916990e+03 1.16005299e+03\n",
       "  3.10025807e-01]\n",
       " [1.21008706e+03 1.98599222e+03 8.35484852e-01 1.54526610e+03\n",
       "  3.60519056e-01]\n",
       " [2.85946518e-01 5.16588663e-01 9.85927419e-01 1.02809889e+03\n",
       "  9.78216252e-01]\n",
       " [7.11957802e-01 1.89192980e+03 1.35436426e-01 9.11551800e-01\n",
       "  7.76302036e-02]\n",
       " [1.24114970e+03 1.46408642e+03 1.60266233e+03 1.71080169e+03\n",
       "  7.65655005e-01]\n",
       " [5.39816453e-01 2.40027102e-01 3.17077680e-01 1.32237707e+03\n",
       "  1.09546124e+03]\n",
       " [1.91033195e+03 5.16635439e-01 6.61202082e-02 8.59030941e-01\n",
       "  9.15875776e-01]\n",
       " [1.63618359e+03 7.47777420e-01 6.22598055e-01 1.93301712e+03\n",
       "  6.39174407e-01]\n",
       " [1.29857222e+03 1.62720845e-01 1.44417353e+03 1.39443426e+03\n",
       "  1.17301685e+03]\n",
       " [1.91823020e+03 1.55917217e+03 1.27360469e+03 1.44601243e+03\n",
       "  1.25833881e-01]\n",
       " [1.67621039e+03 1.87268327e+03 1.09185487e+03 1.44015632e+03\n",
       "  1.56289589e+03]\n",
       " [1.58339937e+03 1.13623066e+03 1.64576922e+03 1.87774764e-01\n",
       "  1.55829431e+03]\n",
       " [1.25207514e-01 8.55327722e-01 1.05092126e+03 5.87226124e-01\n",
       "  7.16756127e-01]\n",
       " [1.06658362e+03 1.88705151e+03 1.48991955e+03 9.29511568e-01\n",
       "  8.12566172e-02]\n",
       " [1.15706371e+03 5.77071046e-01 4.29830440e-01 1.46546750e+03\n",
       "  1.53152222e-01]])"
      ]
     },
     "execution_count": 169,
     "metadata": {},
     "output_type": "execute_result"
    }
   ],
   "source": [
    "a * 2"
   ]
  },
  {
   "cell_type": "code",
   "execution_count": 170,
   "metadata": {},
   "outputs": [],
   "source": [
    "m = np.ma.masked_array(np.arange(10))"
   ]
  },
  {
   "cell_type": "code",
   "execution_count": 171,
   "metadata": {},
   "outputs": [],
   "source": [
    "m.mask = m < 6"
   ]
  },
  {
   "cell_type": "code",
   "execution_count": 172,
   "metadata": {},
   "outputs": [
    {
     "data": {
      "text/plain": [
       "array([ 0,  1,  2,  3,  4,  5, 18, 21, 24, 27])"
      ]
     },
     "execution_count": 172,
     "metadata": {},
     "output_type": "execute_result"
    }
   ],
   "source": [
    "(m * 3).data"
   ]
  },
  {
   "cell_type": "code",
   "execution_count": 173,
   "metadata": {},
   "outputs": [],
   "source": [
    "# add something\n",
    "g['a'] = np.random.rand(g.grid.size).reshape(g.shape)"
   ]
  },
  {
   "cell_type": "code",
   "execution_count": 174,
   "metadata": {},
   "outputs": [
    {
     "data": {
      "text/html": [
       "<table>\n",
       "<tbody>\n",
       "<tr><td><b>y \\ x</b></td><td><b>[-0.5 | 0 | 0.5]</b></td><td><b>[0.5 | 1 | 1.5]</b></td><td><b>[1.5 | 2 | 2.5]</b></td><td><b>[2.5 | 3 | 3.5]</b></td><td><b>[3.5 | 4 | 4.5]</b></td><td><b>[4.5 | 5 | 5.5]</b></td><td>...</td><td><b>[13.5 | 14 | 14.5]</b></td><td><b>[14.5 | 15 | 15.5]</b></td><td><b>[15.5 | 16 | 16.5]</b></td><td><b>[16.5 | 17 | 17.5]</b></td><td><b>[17.5 | 18 | 18.5]</b></td><td><b>[18.5 | 19 | 19.5]</b></td></tr>\n",
       "<tr><td><b>0</b>    </td><td>0.521                  </td><td>0.536                 </td><td>0.182                 </td><td>0.0423                </td><td>0.685                 </td><td>0.375                 </td><td>...</td><td>0.672                    </td><td>0.25                     </td><td>0.754                    </td><td>0.863                    </td><td>0.466                    </td><td>0.971                    </td></tr>\n",
       "<tr><td><b>1</b>    </td><td>0.793                  </td><td>0.299                 </td><td>0.084                 </td><td>0.791                 </td><td>0.0437                </td><td>0.479                 </td><td>...</td><td>0.051                    </td><td>0.542                    </td><td>0.158                    </td><td>0.296                    </td><td>0.604                    </td><td>0.104                    </td></tr>\n",
       "<tr><td><b>2</b>    </td><td>0.404                  </td><td>0.613                 </td><td>0.854                 </td><td>0.802                 </td><td>0.803                 </td><td>0.201                 </td><td>...</td><td>0.198                    </td><td>0.0885                   </td><td>0.0024                   </td><td>0.467                    </td><td>0.727                    </td><td>0.191                    </td></tr>\n",
       "<tr><td><b>3</b>    </td><td>0.259                  </td><td>0.418                 </td><td>0.11                  </td><td>0.229                 </td><td>0.16                  </td><td>0.199                 </td><td>...</td><td>0.913                    </td><td>0.167                    </td><td>0.994                    </td><td>0.349                    </td><td>0.342                    </td><td>0.382                    </td></tr>\n",
       "<tr><td><b>4</b>    </td><td>0.355                  </td><td>0.0327                </td><td>0.878                 </td><td>0.644                 </td><td>0.399                 </td><td>0.619                 </td><td>...</td><td>0.54                     </td><td>0.851                    </td><td>0.867                    </td><td>0.396                    </td><td>0.236                    </td><td>0.509                    </td></tr>\n",
       "</tbody>\n",
       "</table>"
      ],
      "text/plain": [
       "GridArray([[0.52079923 0.79286803 0.40398511 0.25922735 0.35538727]\n",
       " [0.53628543 0.2994186  0.61337872 0.4183659  0.03270594]\n",
       " [0.1821003  0.08401091 0.85424661 0.11046701 0.87767559]\n",
       " [0.04228843 0.7907802  0.80188789 0.22852356 0.64362069]\n",
       " [0.68496575 0.04374722 0.80252561 0.16005938 0.39907791]\n",
       " [0.37495399 0.47878184 0.20052275 0.19918724 0.61923918]\n",
       " [0.77660979 0.48264574 0.54972996 0.26127181 0.35795558]\n",
       " [0.21291713 0.27678778 0.38857381 0.59315509 0.55411865]\n",
       " [0.04119838 0.50352676 0.89388369 0.42865366 0.04766125]\n",
       " [0.33973352 0.70575824 0.25788791 0.28870478 0.92964324]\n",
       " [0.6352447  0.99293571 0.5183005  0.67463529 0.59614909]\n",
       " [0.25515335 0.57177673 0.16711653 0.78166342 0.95328254]\n",
       " [0.28791936 0.6979522  0.25443857 0.89115813 0.3395614 ]\n",
       " [0.00266692 0.20873307 0.63679426 0.30882483 0.46953325]\n",
       " [0.6719271  0.05099001 0.19787246 0.91259332 0.54012629]\n",
       " [0.24954435 0.54239605 0.08854585 0.16698528 0.85145682]\n",
       " [0.75407025 0.15847834 0.00240059 0.99396571 0.86663725]\n",
       " [0.86282404 0.29560218 0.46685538 0.34933974 0.39641289]\n",
       " [0.46627768 0.60409576 0.72705651 0.3422299  0.23622166]\n",
       " [0.97104364 0.10432774 0.19137263 0.38226971 0.50852291]])"
      ]
     },
     "execution_count": 174,
     "metadata": {},
     "output_type": "execute_result"
    }
   ],
   "source": [
    "np.asanyarray(g['a'])"
   ]
  },
  {
   "cell_type": "code",
   "execution_count": 175,
   "metadata": {},
   "outputs": [
    {
     "data": {
      "text/html": [
       "<table>\n",
       "<tbody>\n",
       "<tr><td><b>y \\ x</b></td><td><b>[-0.5 | 0 | 0.5]</b></td><td><b>[0.5 | 1 | 1.5]</b></td><td><b>[1.5 | 2 | 2.5]</b></td><td><b>[2.5 | 3 | 3.5]</b></td><td><b>[3.5 | 4 | 4.5]</b></td><td><b>[4.5 | 5 | 5.5]</b></td><td>...</td><td><b>[13.5 | 14 | 14.5]</b></td><td><b>[14.5 | 15 | 15.5]</b></td><td><b>[15.5 | 16 | 16.5]</b></td><td><b>[16.5 | 17 | 17.5]</b></td><td><b>[17.5 | 18 | 18.5]</b></td><td><b>[18.5 | 19 | 19.5]</b></td></tr>\n",
       "<tr><td><b>0</b>    </td><td>a = 0.521              </td><td>a = 0.536             </td><td>a = 0.182             </td><td>a = 0.0423            </td><td>a = 0.685             </td><td>a = 0.375             </td><td>...</td><td>a = 0.672                </td><td>a = 0.25                 </td><td>a = 0.754                </td><td>a = 0.863                </td><td>a = 0.466                </td><td>a = 0.971                </td></tr>\n",
       "<tr><td><b>1</b>    </td><td>a = 0.793              </td><td>a = 0.299             </td><td>a = 0.084             </td><td>a = 0.791             </td><td>a = 0.0437            </td><td>a = 0.479             </td><td>...</td><td>a = 0.051                </td><td>a = 0.542                </td><td>a = 0.158                </td><td>a = 0.296                </td><td>a = 0.604                </td><td>a = 0.104                </td></tr>\n",
       "<tr><td><b>2</b>    </td><td>a = 0.404              </td><td>a = 0.613             </td><td>a = 0.854             </td><td>a = 0.802             </td><td>a = 0.803             </td><td>a = 0.201             </td><td>...</td><td>a = 0.198                </td><td>a = 0.0885               </td><td>a = 0.0024               </td><td>a = 0.467                </td><td>a = 0.727                </td><td>a = 0.191                </td></tr>\n",
       "<tr><td><b>3</b>    </td><td>a = 0.259              </td><td>a = 0.418             </td><td>a = 0.11              </td><td>a = 0.229             </td><td>a = 0.16              </td><td>a = 0.199             </td><td>...</td><td>a = 0.913                </td><td>a = 0.167                </td><td>a = 0.994                </td><td>a = 0.349                </td><td>a = 0.342                </td><td>a = 0.382                </td></tr>\n",
       "<tr><td><b>4</b>    </td><td>a = 0.355              </td><td>a = 0.0327            </td><td>a = 0.878             </td><td>a = 0.644             </td><td>a = 0.399             </td><td>a = 0.619             </td><td>...</td><td>a = 0.54                 </td><td>a = 0.851                </td><td>a = 0.867                </td><td>a = 0.396                </td><td>a = 0.236                </td><td>a = 0.509                </td></tr>\n",
       "</tbody>\n",
       "</table>"
      ],
      "text/plain": [
       "GridData(Grid(\n",
       "Axis(\"x\",\n",
       "points = array([ 0,  1,  2,  3,  4,  5,  6,  7,  8,  9, 10, 11, 12, 13, 14, 15, 16,\n",
       "       17, 18, 19]),\n",
       "edges = edges: array([[-0.5,  0.5],\n",
       "       [ 0.5,  1.5],\n",
       "       [ 1.5,  2.5],\n",
       "       [ 2.5,  3.5],\n",
       "       [ 3.5,  4.5],\n",
       "       [ 4.5,  5.5],\n",
       "       [ 5.5,  6.5],\n",
       "       [ 6.5,  7.5],\n",
       "       [ 7.5,  8.5],\n",
       "       [ 8.5,  9.5],\n",
       "       [ 9.5, 10.5],\n",
       "       [10.5, 11.5],\n",
       "       [11.5, 12.5],\n",
       "       [12.5, 13.5],\n",
       "       [13.5, 14.5],\n",
       "       [14.5, 15.5],\n",
       "       [15.5, 16.5],\n",
       "       [16.5, 17.5],\n",
       "       [17.5, 18.5],\n",
       "       [18.5, 19.5]]))\n",
       "nbins = 20),\n",
       "Axis(\"y\",\n",
       "points = array([0, 1, 2, 3, 4]),\n",
       "edges = edges: None)\n",
       "nbins = 5),)\n",
       "{'a': masked_array(\n",
       "  data=[[0.52079923, 0.79286803, 0.40398511, 0.25922735, 0.35538727],\n",
       "        [0.53628543, 0.2994186 , 0.61337872, 0.4183659 , 0.03270594],\n",
       "        [0.1821003 , 0.08401091, 0.85424661, 0.11046701, 0.87767559],\n",
       "        [0.04228843, 0.7907802 , 0.80188789, 0.22852356, 0.64362069],\n",
       "        [0.68496575, 0.04374722, 0.80252561, 0.16005938, 0.39907791],\n",
       "        [0.37495399, 0.47878184, 0.20052275, 0.19918724, 0.61923918],\n",
       "        [0.77660979, 0.48264574, 0.54972996, 0.26127181, 0.35795558],\n",
       "        [0.21291713, 0.27678778, 0.38857381, 0.59315509, 0.55411865],\n",
       "        [0.04119838, 0.50352676, 0.89388369, 0.42865366, 0.04766125],\n",
       "        [0.33973352, 0.70575824, 0.25788791, 0.28870478, 0.92964324],\n",
       "        [0.6352447 , 0.99293571, 0.5183005 , 0.67463529, 0.59614909],\n",
       "        [0.25515335, 0.57177673, 0.16711653, 0.78166342, 0.95328254],\n",
       "        [0.28791936, 0.6979522 , 0.25443857, 0.89115813, 0.3395614 ],\n",
       "        [0.00266692, 0.20873307, 0.63679426, 0.30882483, 0.46953325],\n",
       "        [0.6719271 , 0.05099001, 0.19787246, 0.91259332, 0.54012629],\n",
       "        [0.24954435, 0.54239605, 0.08854585, 0.16698528, 0.85145682],\n",
       "        [0.75407025, 0.15847834, 0.00240059, 0.99396571, 0.86663725],\n",
       "        [0.86282404, 0.29560218, 0.46685538, 0.34933974, 0.39641289],\n",
       "        [0.46627768, 0.60409576, 0.72705651, 0.3422299 , 0.23622166],\n",
       "        [0.97104364, 0.10432774, 0.19137263, 0.38226971, 0.50852291]],\n",
       "  mask=False,\n",
       "  fill_value=1e+20)})"
      ]
     },
     "execution_count": 175,
     "metadata": {},
     "output_type": "execute_result"
    }
   ],
   "source": [
    "g"
   ]
  },
  {
   "cell_type": "code",
   "execution_count": 176,
   "metadata": {},
   "outputs": [],
   "source": [
    "g['b'] = np.ones(g.shape)"
   ]
  },
  {
   "cell_type": "code",
   "execution_count": 177,
   "metadata": {},
   "outputs": [
    {
     "data": {
      "text/plain": [
       "(20, 5)"
      ]
     },
     "execution_count": 177,
     "metadata": {},
     "output_type": "execute_result"
    }
   ],
   "source": [
    "g.shape"
   ]
  },
  {
   "cell_type": "code",
   "execution_count": 178,
   "metadata": {},
   "outputs": [
    {
     "data": {
      "text/html": [
       "<table>\n",
       "<tbody>\n",
       "<tr><td><b>x \\ y</b>             </td><td><b>0</b></td><td><b>1</b></td><td><b>2</b></td><td><b>3</b></td><td><b>4</b></td></tr>\n",
       "<tr><td><b>[-0.5 | 0 | 0.5]</b>  </td><td>1       </td><td>1       </td><td>1       </td><td>1       </td><td>1       </td></tr>\n",
       "<tr><td><b>[0.5 | 1 | 1.5]</b>   </td><td>1       </td><td>1       </td><td>1       </td><td>1       </td><td>1       </td></tr>\n",
       "<tr><td><b>[1.5 | 2 | 2.5]</b>   </td><td>1       </td><td>1       </td><td>1       </td><td>1       </td><td>1       </td></tr>\n",
       "<tr><td><b>[2.5 | 3 | 3.5]</b>   </td><td>1       </td><td>1       </td><td>1       </td><td>1       </td><td>1       </td></tr>\n",
       "<tr><td><b>[3.5 | 4 | 4.5]</b>   </td><td>1       </td><td>1       </td><td>1       </td><td>1       </td><td>1       </td></tr>\n",
       "<tr><td><b>[4.5 | 5 | 5.5]</b>   </td><td>1       </td><td>1       </td><td>1       </td><td>1       </td><td>1       </td></tr>\n",
       "<tr><td>...                      </td><td>...     </td><td>...     </td><td>...     </td><td>...     </td><td>...     </td></tr>\n",
       "<tr><td><b>[13.5 | 14 | 14.5]</b></td><td>1       </td><td>1       </td><td>1       </td><td>1       </td><td>1       </td></tr>\n",
       "<tr><td><b>[14.5 | 15 | 15.5]</b></td><td>1       </td><td>1       </td><td>1       </td><td>1       </td><td>1       </td></tr>\n",
       "<tr><td><b>[15.5 | 16 | 16.5]</b></td><td>1       </td><td>1       </td><td>1       </td><td>1       </td><td>1       </td></tr>\n",
       "<tr><td><b>[16.5 | 17 | 17.5]</b></td><td>1       </td><td>1       </td><td>1       </td><td>1       </td><td>1       </td></tr>\n",
       "<tr><td><b>[17.5 | 18 | 18.5]</b></td><td>1       </td><td>1       </td><td>1       </td><td>1       </td><td>1       </td></tr>\n",
       "<tr><td><b>[18.5 | 19 | 19.5]</b></td><td>1       </td><td>1       </td><td>1       </td><td>1       </td><td>1       </td></tr>\n",
       "</tbody>\n",
       "</table>"
      ],
      "text/plain": [
       "GridArray([[1. 1. 1. 1. 1. 1. 1. 1. 1. 1. 1. 1. 1. 1. 1. 1. 1. 1. 1. 1.]\n",
       " [1. 1. 1. 1. 1. 1. 1. 1. 1. 1. 1. 1. 1. 1. 1. 1. 1. 1. 1. 1.]\n",
       " [1. 1. 1. 1. 1. 1. 1. 1. 1. 1. 1. 1. 1. 1. 1. 1. 1. 1. 1. 1.]\n",
       " [1. 1. 1. 1. 1. 1. 1. 1. 1. 1. 1. 1. 1. 1. 1. 1. 1. 1. 1. 1.]\n",
       " [1. 1. 1. 1. 1. 1. 1. 1. 1. 1. 1. 1. 1. 1. 1. 1. 1. 1. 1. 1.]])"
      ]
     },
     "execution_count": 178,
     "metadata": {},
     "output_type": "execute_result"
    }
   ],
   "source": [
    "g['b'].T"
   ]
  },
  {
   "cell_type": "code",
   "execution_count": 179,
   "metadata": {},
   "outputs": [
    {
     "data": {
      "text/plain": [
       "Grid(\n",
       "Axis(\"x\",\n",
       "points = array([ 0,  1,  2,  3,  4,  5,  6,  7,  8,  9, 10, 11, 12, 13, 14, 15, 16,\n",
       "       17, 18, 19]),\n",
       "edges = edges: array([[-0.5,  0.5],\n",
       "       [ 0.5,  1.5],\n",
       "       [ 1.5,  2.5],\n",
       "       [ 2.5,  3.5],\n",
       "       [ 3.5,  4.5],\n",
       "       [ 4.5,  5.5],\n",
       "       [ 5.5,  6.5],\n",
       "       [ 6.5,  7.5],\n",
       "       [ 7.5,  8.5],\n",
       "       [ 8.5,  9.5],\n",
       "       [ 9.5, 10.5],\n",
       "       [10.5, 11.5],\n",
       "       [11.5, 12.5],\n",
       "       [12.5, 13.5],\n",
       "       [13.5, 14.5],\n",
       "       [14.5, 15.5],\n",
       "       [15.5, 16.5],\n",
       "       [16.5, 17.5],\n",
       "       [17.5, 18.5],\n",
       "       [18.5, 19.5]]))\n",
       "nbins = 20),\n",
       "Axis(\"y\",\n",
       "points = array([0, 1, 2, 3, 4]),\n",
       "edges = edges: None)\n",
       "nbins = 5),)"
      ]
     },
     "execution_count": 179,
     "metadata": {},
     "output_type": "execute_result"
    }
   ],
   "source": [
    "np.sin(a).grid"
   ]
  },
  {
   "cell_type": "code",
   "execution_count": 180,
   "metadata": {},
   "outputs": [],
   "source": [
    "a = g['a']"
   ]
  },
  {
   "cell_type": "code",
   "execution_count": 181,
   "metadata": {},
   "outputs": [
    {
     "data": {
      "text/plain": [
       "array([[0.52079923, 0.79286803, 0.40398511, 0.25922735, 0.35538727],\n",
       "       [0.53628543, 0.2994186 , 0.61337872, 0.4183659 , 0.03270594],\n",
       "       [0.1821003 , 0.08401091, 0.85424661, 0.11046701, 0.87767559],\n",
       "       [0.04228843, 0.7907802 , 0.80188789, 0.22852356, 0.64362069],\n",
       "       [0.68496575, 0.04374722, 0.80252561, 0.16005938, 0.39907791],\n",
       "       [0.37495399, 0.47878184, 0.20052275, 0.19918724, 0.61923918],\n",
       "       [0.77660979, 0.48264574, 0.54972996, 0.26127181, 0.35795558],\n",
       "       [0.21291713, 0.27678778, 0.38857381, 0.59315509, 0.55411865],\n",
       "       [0.04119838, 0.50352676, 0.89388369, 0.42865366, 0.04766125],\n",
       "       [0.33973352, 0.70575824, 0.25788791, 0.28870478, 0.92964324],\n",
       "       [0.6352447 , 0.99293571, 0.5183005 , 0.67463529, 0.59614909],\n",
       "       [0.25515335, 0.57177673, 0.16711653, 0.78166342, 0.95328254],\n",
       "       [0.28791936, 0.6979522 , 0.25443857, 0.89115813, 0.3395614 ],\n",
       "       [0.00266692, 0.20873307, 0.63679426, 0.30882483, 0.46953325],\n",
       "       [0.6719271 , 0.05099001, 0.19787246, 0.91259332, 0.54012629],\n",
       "       [0.24954435, 0.54239605, 0.08854585, 0.16698528, 0.85145682],\n",
       "       [0.75407025, 0.15847834, 0.00240059, 0.99396571, 0.86663725],\n",
       "       [0.86282404, 0.29560218, 0.46685538, 0.34933974, 0.39641289],\n",
       "       [0.46627768, 0.60409576, 0.72705651, 0.3422299 , 0.23622166],\n",
       "       [0.97104364, 0.10432774, 0.19137263, 0.38226971, 0.50852291]])"
      ]
     },
     "execution_count": 181,
     "metadata": {},
     "output_type": "execute_result"
    }
   ],
   "source": [
    "a.view(np.ndarray)"
   ]
  },
  {
   "cell_type": "code",
   "execution_count": 182,
   "metadata": {},
   "outputs": [],
   "source": [
    "g['b'][g['a'] < 0.5] *= -1"
   ]
  },
  {
   "cell_type": "code",
   "execution_count": 183,
   "metadata": {},
   "outputs": [
    {
     "data": {
      "text/html": [
       "<table>\n",
       "<tbody>\n",
       "<tr><td><b>y \\ x</b></td><td><b>[-0.5 | 0 | 0.5]</b></td><td><b>[0.5 | 1 | 1.5]</b></td><td><b>[1.5 | 2 | 2.5]</b></td><td><b>[2.5 | 3 | 3.5]</b></td><td><b>[3.5 | 4 | 4.5]</b></td><td><b>[4.5 | 5 | 5.5]</b></td><td>...</td><td><b>[13.5 | 14 | 14.5]</b></td><td><b>[14.5 | 15 | 15.5]</b></td><td><b>[15.5 | 16 | 16.5]</b></td><td><b>[16.5 | 17 | 17.5]</b></td><td><b>[17.5 | 18 | 18.5]</b></td><td><b>[18.5 | 19 | 19.5]</b></td></tr>\n",
       "<tr><td><b>0</b>    </td><td>a = 0.521<br>b = 1     </td><td>a = 0.536<br>b = 1    </td><td>a = 0.182<br>b = -1   </td><td>a = 0.0423<br>b = -1  </td><td>a = 0.685<br>b = 1    </td><td>a = 0.375<br>b = -1   </td><td>...</td><td>a = 0.672<br>b = 1       </td><td>a = 0.25<br>b = -1       </td><td>a = 0.754<br>b = 1       </td><td>a = 0.863<br>b = 1       </td><td>a = 0.466<br>b = -1      </td><td>a = 0.971<br>b = 1       </td></tr>\n",
       "<tr><td><b>1</b>    </td><td>a = 0.793<br>b = 1     </td><td>a = 0.299<br>b = -1   </td><td>a = 0.084<br>b = -1   </td><td>a = 0.791<br>b = 1    </td><td>a = 0.0437<br>b = -1  </td><td>a = 0.479<br>b = -1   </td><td>...</td><td>a = 0.051<br>b = -1      </td><td>a = 0.542<br>b = 1       </td><td>a = 0.158<br>b = -1      </td><td>a = 0.296<br>b = -1      </td><td>a = 0.604<br>b = 1       </td><td>a = 0.104<br>b = -1      </td></tr>\n",
       "<tr><td><b>2</b>    </td><td>a = 0.404<br>b = -1    </td><td>a = 0.613<br>b = 1    </td><td>a = 0.854<br>b = 1    </td><td>a = 0.802<br>b = 1    </td><td>a = 0.803<br>b = 1    </td><td>a = 0.201<br>b = -1   </td><td>...</td><td>a = 0.198<br>b = -1      </td><td>a = 0.0885<br>b = -1     </td><td>a = 0.0024<br>b = -1     </td><td>a = 0.467<br>b = -1      </td><td>a = 0.727<br>b = 1       </td><td>a = 0.191<br>b = -1      </td></tr>\n",
       "<tr><td><b>3</b>    </td><td>a = 0.259<br>b = -1    </td><td>a = 0.418<br>b = -1   </td><td>a = 0.11<br>b = -1    </td><td>a = 0.229<br>b = -1   </td><td>a = 0.16<br>b = -1    </td><td>a = 0.199<br>b = -1   </td><td>...</td><td>a = 0.913<br>b = 1       </td><td>a = 0.167<br>b = -1      </td><td>a = 0.994<br>b = 1       </td><td>a = 0.349<br>b = -1      </td><td>a = 0.342<br>b = -1      </td><td>a = 0.382<br>b = -1      </td></tr>\n",
       "<tr><td><b>4</b>    </td><td>a = 0.355<br>b = -1    </td><td>a = 0.0327<br>b = -1  </td><td>a = 0.878<br>b = 1    </td><td>a = 0.644<br>b = 1    </td><td>a = 0.399<br>b = -1   </td><td>a = 0.619<br>b = 1    </td><td>...</td><td>a = 0.54<br>b = 1        </td><td>a = 0.851<br>b = 1       </td><td>a = 0.867<br>b = 1       </td><td>a = 0.396<br>b = -1      </td><td>a = 0.236<br>b = -1      </td><td>a = 0.509<br>b = 1       </td></tr>\n",
       "</tbody>\n",
       "</table>"
      ],
      "text/plain": [
       "GridData(Grid(\n",
       "Axis(\"x\",\n",
       "points = array([ 0,  1,  2,  3,  4,  5,  6,  7,  8,  9, 10, 11, 12, 13, 14, 15, 16,\n",
       "       17, 18, 19]),\n",
       "edges = edges: array([[-0.5,  0.5],\n",
       "       [ 0.5,  1.5],\n",
       "       [ 1.5,  2.5],\n",
       "       [ 2.5,  3.5],\n",
       "       [ 3.5,  4.5],\n",
       "       [ 4.5,  5.5],\n",
       "       [ 5.5,  6.5],\n",
       "       [ 6.5,  7.5],\n",
       "       [ 7.5,  8.5],\n",
       "       [ 8.5,  9.5],\n",
       "       [ 9.5, 10.5],\n",
       "       [10.5, 11.5],\n",
       "       [11.5, 12.5],\n",
       "       [12.5, 13.5],\n",
       "       [13.5, 14.5],\n",
       "       [14.5, 15.5],\n",
       "       [15.5, 16.5],\n",
       "       [16.5, 17.5],\n",
       "       [17.5, 18.5],\n",
       "       [18.5, 19.5]]))\n",
       "nbins = 20),\n",
       "Axis(\"y\",\n",
       "points = array([0, 1, 2, 3, 4]),\n",
       "edges = edges: None)\n",
       "nbins = 5),)\n",
       "{'a': masked_array(\n",
       "  data=[[0.52079923, 0.79286803, 0.40398511, 0.25922735, 0.35538727],\n",
       "        [0.53628543, 0.2994186 , 0.61337872, 0.4183659 , 0.03270594],\n",
       "        [0.1821003 , 0.08401091, 0.85424661, 0.11046701, 0.87767559],\n",
       "        [0.04228843, 0.7907802 , 0.80188789, 0.22852356, 0.64362069],\n",
       "        [0.68496575, 0.04374722, 0.80252561, 0.16005938, 0.39907791],\n",
       "        [0.37495399, 0.47878184, 0.20052275, 0.19918724, 0.61923918],\n",
       "        [0.77660979, 0.48264574, 0.54972996, 0.26127181, 0.35795558],\n",
       "        [0.21291713, 0.27678778, 0.38857381, 0.59315509, 0.55411865],\n",
       "        [0.04119838, 0.50352676, 0.89388369, 0.42865366, 0.04766125],\n",
       "        [0.33973352, 0.70575824, 0.25788791, 0.28870478, 0.92964324],\n",
       "        [0.6352447 , 0.99293571, 0.5183005 , 0.67463529, 0.59614909],\n",
       "        [0.25515335, 0.57177673, 0.16711653, 0.78166342, 0.95328254],\n",
       "        [0.28791936, 0.6979522 , 0.25443857, 0.89115813, 0.3395614 ],\n",
       "        [0.00266692, 0.20873307, 0.63679426, 0.30882483, 0.46953325],\n",
       "        [0.6719271 , 0.05099001, 0.19787246, 0.91259332, 0.54012629],\n",
       "        [0.24954435, 0.54239605, 0.08854585, 0.16698528, 0.85145682],\n",
       "        [0.75407025, 0.15847834, 0.00240059, 0.99396571, 0.86663725],\n",
       "        [0.86282404, 0.29560218, 0.46685538, 0.34933974, 0.39641289],\n",
       "        [0.46627768, 0.60409576, 0.72705651, 0.3422299 , 0.23622166],\n",
       "        [0.97104364, 0.10432774, 0.19137263, 0.38226971, 0.50852291]],\n",
       "  mask=False,\n",
       "  fill_value=1e+20), 'b': masked_array(\n",
       "  data=[[ 1.,  1., -1., -1., -1.],\n",
       "        [ 1., -1.,  1., -1., -1.],\n",
       "        [-1., -1.,  1., -1.,  1.],\n",
       "        [-1.,  1.,  1., -1.,  1.],\n",
       "        [ 1., -1.,  1., -1., -1.],\n",
       "        [-1., -1., -1., -1.,  1.],\n",
       "        [ 1., -1.,  1., -1., -1.],\n",
       "        [-1., -1., -1.,  1.,  1.],\n",
       "        [-1.,  1.,  1., -1., -1.],\n",
       "        [-1.,  1., -1., -1.,  1.],\n",
       "        [ 1.,  1.,  1.,  1.,  1.],\n",
       "        [-1.,  1., -1.,  1.,  1.],\n",
       "        [-1.,  1., -1.,  1., -1.],\n",
       "        [-1., -1.,  1., -1., -1.],\n",
       "        [ 1., -1., -1.,  1.,  1.],\n",
       "        [-1.,  1., -1., -1.,  1.],\n",
       "        [ 1., -1., -1.,  1.,  1.],\n",
       "        [ 1., -1., -1., -1., -1.],\n",
       "        [-1.,  1.,  1., -1., -1.],\n",
       "        [ 1., -1., -1., -1.,  1.]],\n",
       "  mask=False,\n",
       "  fill_value=1e+20)})"
      ]
     },
     "execution_count": 183,
     "metadata": {},
     "output_type": "execute_result"
    }
   ],
   "source": [
    "g"
   ]
  },
  {
   "cell_type": "code",
   "execution_count": 184,
   "metadata": {},
   "outputs": [
    {
     "data": {
      "text/html": [
       "<table>\n",
       "<tbody>\n",
       "<tr><td><b>y \\ x</b></td><td><b>[-0.5 | 0 | 0.5]</b></td><td><b>[0.5 | 1 | 1.5]</b></td><td><b>[1.5 | 2 | 2.5]</b></td><td><b>[2.5 | 3 | 3.5]</b></td><td><b>[3.5 | 4 | 4.5]</b></td><td><b>[4.5 | 5 | 5.5]</b></td><td>...</td><td><b>[13.5 | 14 | 14.5]</b></td><td><b>[14.5 | 15 | 15.5]</b></td><td><b>[15.5 | 16 | 16.5]</b></td><td><b>[16.5 | 17 | 17.5]</b></td><td><b>[17.5 | 18 | 18.5]</b></td><td><b>[18.5 | 19 | 19.5]</b></td></tr>\n",
       "<tr><td><b>0</b>    </td><td>0                      </td><td>1                     </td><td>2                     </td><td>3                     </td><td>4                     </td><td>5                     </td><td>...</td><td>14                       </td><td>15                       </td><td>16                       </td><td>17                       </td><td>18                       </td><td>19                       </td></tr>\n",
       "<tr><td><b>1</b>    </td><td>0                      </td><td>1                     </td><td>2                     </td><td>3                     </td><td>4                     </td><td>5                     </td><td>...</td><td>14                       </td><td>15                       </td><td>16                       </td><td>17                       </td><td>18                       </td><td>19                       </td></tr>\n",
       "<tr><td><b>2</b>    </td><td>0                      </td><td>1                     </td><td>2                     </td><td>3                     </td><td>4                     </td><td>5                     </td><td>...</td><td>14                       </td><td>15                       </td><td>16                       </td><td>17                       </td><td>18                       </td><td>19                       </td></tr>\n",
       "<tr><td><b>3</b>    </td><td>0                      </td><td>1                     </td><td>2                     </td><td>3                     </td><td>4                     </td><td>5                     </td><td>...</td><td>14                       </td><td>15                       </td><td>16                       </td><td>17                       </td><td>18                       </td><td>19                       </td></tr>\n",
       "<tr><td><b>4</b>    </td><td>0                      </td><td>1                     </td><td>2                     </td><td>3                     </td><td>4                     </td><td>5                     </td><td>...</td><td>14                       </td><td>15                       </td><td>16                       </td><td>17                       </td><td>18                       </td><td>19                       </td></tr>\n",
       "</tbody>\n",
       "</table>"
      ],
      "text/plain": [
       "GridArray([[ 0  0  0  0  0]\n",
       " [ 1  1  1  1  1]\n",
       " [ 2  2  2  2  2]\n",
       " [ 3  3  3  3  3]\n",
       " [ 4  4  4  4  4]\n",
       " [ 5  5  5  5  5]\n",
       " [ 6  6  6  6  6]\n",
       " [ 7  7  7  7  7]\n",
       " [ 8  8  8  8  8]\n",
       " [ 9  9  9  9  9]\n",
       " [10 10 10 10 10]\n",
       " [11 11 11 11 11]\n",
       " [12 12 12 12 12]\n",
       " [13 13 13 13 13]\n",
       " [14 14 14 14 14]\n",
       " [15 15 15 15 15]\n",
       " [16 16 16 16 16]\n",
       " [17 17 17 17 17]\n",
       " [18 18 18 18 18]\n",
       " [19 19 19 19 19]])"
      ]
     },
     "execution_count": 184,
     "metadata": {},
     "output_type": "execute_result"
    }
   ],
   "source": [
    "g['x']"
   ]
  },
  {
   "cell_type": "code",
   "execution_count": 185,
   "metadata": {},
   "outputs": [
    {
     "data": {
      "text/html": [
       "<table>\n",
       "<tbody>\n",
       "<tr><td><b>y \\ x</b></td><td><b>[-0.5 | 0 | 0.5]</b></td><td><b>[0.5 | 1 | 1.5]</b></td><td><b>[1.5 | 2 | 2.5]</b></td><td><b>[2.5 | 3 | 3.5]</b></td><td><b>[3.5 | 4 | 4.5]</b></td><td><b>[4.5 | 5 | 5.5]</b></td><td>...</td><td><b>[13.5 | 14 | 14.5]</b></td><td><b>[14.5 | 15 | 15.5]</b></td><td><b>[15.5 | 16 | 16.5]</b></td><td><b>[16.5 | 17 | 17.5]</b></td><td><b>[17.5 | 18 | 18.5]</b></td><td><b>[18.5 | 19 | 19.5]</b></td></tr>\n",
       "<tr><td><b>0</b>    </td><td>0.521                  </td><td>0.536                 </td><td>0.182                 </td><td>0.0423                </td><td>0.685                 </td><td>0.375                 </td><td>...</td><td>0.672                    </td><td>0.25                     </td><td>0.754                    </td><td>0.863                    </td><td>0.466                    </td><td>0.971                    </td></tr>\n",
       "<tr><td><b>1</b>    </td><td>0.793                  </td><td>0.299                 </td><td>0.084                 </td><td>0.791                 </td><td>0.0437                </td><td>0.479                 </td><td>...</td><td>0.051                    </td><td>0.542                    </td><td>0.158                    </td><td>0.296                    </td><td>0.604                    </td><td>0.104                    </td></tr>\n",
       "<tr><td><b>2</b>    </td><td>0.404                  </td><td>0.613                 </td><td>0.854                 </td><td>0.802                 </td><td>0.803                 </td><td>0.201                 </td><td>...</td><td>0.198                    </td><td>0.0885                   </td><td>0.0024                   </td><td>0.467                    </td><td>0.727                    </td><td>0.191                    </td></tr>\n",
       "<tr><td><b>3</b>    </td><td>0.259                  </td><td>0.418                 </td><td>0.11                  </td><td>0.229                 </td><td>0.16                  </td><td>0.199                 </td><td>...</td><td>0.913                    </td><td>0.167                    </td><td>0.994                    </td><td>0.349                    </td><td>0.342                    </td><td>0.382                    </td></tr>\n",
       "<tr><td><b>4</b>    </td><td>0.355                  </td><td>0.0327                </td><td>0.878                 </td><td>0.644                 </td><td>0.399                 </td><td>0.619                 </td><td>...</td><td>0.54                     </td><td>0.851                    </td><td>0.867                    </td><td>0.396                    </td><td>0.236                    </td><td>0.509                    </td></tr>\n",
       "</tbody>\n",
       "</table>"
      ],
      "text/plain": [
       "GridArray([[0.52079923 0.79286803 0.40398511 0.25922735 0.35538727]\n",
       " [0.53628543 0.2994186  0.61337872 0.4183659  0.03270594]\n",
       " [0.1821003  0.08401091 0.85424661 0.11046701 0.87767559]\n",
       " [0.04228843 0.7907802  0.80188789 0.22852356 0.64362069]\n",
       " [0.68496575 0.04374722 0.80252561 0.16005938 0.39907791]\n",
       " [0.37495399 0.47878184 0.20052275 0.19918724 0.61923918]\n",
       " [0.77660979 0.48264574 0.54972996 0.26127181 0.35795558]\n",
       " [0.21291713 0.27678778 0.38857381 0.59315509 0.55411865]\n",
       " [0.04119838 0.50352676 0.89388369 0.42865366 0.04766125]\n",
       " [0.33973352 0.70575824 0.25788791 0.28870478 0.92964324]\n",
       " [0.6352447  0.99293571 0.5183005  0.67463529 0.59614909]\n",
       " [0.25515335 0.57177673 0.16711653 0.78166342 0.95328254]\n",
       " [0.28791936 0.6979522  0.25443857 0.89115813 0.3395614 ]\n",
       " [0.00266692 0.20873307 0.63679426 0.30882483 0.46953325]\n",
       " [0.6719271  0.05099001 0.19787246 0.91259332 0.54012629]\n",
       " [0.24954435 0.54239605 0.08854585 0.16698528 0.85145682]\n",
       " [0.75407025 0.15847834 0.00240059 0.99396571 0.86663725]\n",
       " [0.86282404 0.29560218 0.46685538 0.34933974 0.39641289]\n",
       " [0.46627768 0.60409576 0.72705651 0.3422299  0.23622166]\n",
       " [0.97104364 0.10432774 0.19137263 0.38226971 0.50852291]])"
      ]
     },
     "execution_count": 185,
     "metadata": {},
     "output_type": "execute_result"
    }
   ],
   "source": [
    "g['a']"
   ]
  },
  {
   "cell_type": "code",
   "execution_count": 186,
   "metadata": {},
   "outputs": [
    {
     "data": {
      "text/html": [
       "<table>\n",
       "<tbody>\n",
       "<tr><td><b>x</b></td><td><b>[-0.5 | 0 | 0.5]</b></td><td><b>[0.5 | 1 | 1.5]</b></td><td><b>[1.5 | 2 | 2.5]</b></td><td><b>[2.5 | 3 | 3.5]</b></td><td><b>[3.5 | 4 | 4.5]</b></td><td><b>[4.5 | 5 | 5.5]</b></td><td>...</td><td><b>[13.5 | 14 | 14.5]</b></td><td><b>[14.5 | 15 | 15.5]</b></td><td><b>[15.5 | 16 | 16.5]</b></td><td><b>[16.5 | 17 | 17.5]</b></td><td><b>[17.5 | 18 | 18.5]</b></td><td><b>[18.5 | 19 | 19.5]</b></td></tr>\n",
       "<tr><td><b></b> </td><td>2.33                   </td><td>1.9                   </td><td>2.11                  </td><td>2.51                  </td><td>2.09                  </td><td>1.87                  </td><td>...</td><td>2.37                     </td><td>1.9                      </td><td>2.78                     </td><td>2.37                     </td><td>2.38                     </td><td>2.16                     </td></tr>\n",
       "</tbody>\n",
       "</table>"
      ],
      "text/plain": [
       "GridArray([2.33226699 1.90015459 2.10850041 2.50710078 2.09037586 1.872685\n",
       " 2.42821288 2.02555245 1.91492374 2.52172769 3.41726529 2.72899257\n",
       " 2.47102966 1.62655234 2.37350918 1.89892835 2.77555214 2.37103423\n",
       " 2.37588151 2.15753664])"
      ]
     },
     "execution_count": 186,
     "metadata": {},
     "output_type": "execute_result"
    }
   ],
   "source": [
    "np.sum(g['a'], axis='y')"
   ]
  },
  {
   "cell_type": "code",
   "execution_count": 187,
   "metadata": {},
   "outputs": [
    {
     "data": {
      "text/html": [
       "<table>\n",
       "<tbody>\n",
       "<tr><td><b>x</b></td><td><b>[-0.5 | 0 | 0.5]</b></td><td><b>[0.5 | 1 | 1.5]</b></td><td><b>[1.5 | 2 | 2.5]</b></td><td><b>[2.5 | 3 | 3.5]</b></td><td><b>[3.5 | 4 | 4.5]</b></td><td><b>[4.5 | 5 | 5.5]</b></td><td>...</td><td><b>[13.5 | 14 | 14.5]</b></td><td><b>[14.5 | 15 | 15.5]</b></td><td><b>[15.5 | 16 | 16.5]</b></td><td><b>[16.5 | 17 | 17.5]</b></td><td><b>[17.5 | 18 | 18.5]</b></td><td><b>[18.5 | 19 | 19.5]</b></td></tr>\n",
       "<tr><td><b>a</b></td><td>0.259                  </td><td>0.418                 </td><td>0.11                  </td><td>0.229                 </td><td>0.16                  </td><td>0.199                 </td><td>...</td><td>0.913                    </td><td>0.167                    </td><td>0.994                    </td><td>0.349                    </td><td>0.342                    </td><td>0.382                    </td></tr>\n",
       "<tr><td><b>b</b></td><td>-1                     </td><td>-1                    </td><td>-1                    </td><td>-1                    </td><td>-1                    </td><td>-1                    </td><td>...</td><td>1                        </td><td>-1                       </td><td>1                        </td><td>-1                       </td><td>-1                       </td><td>-1                       </td></tr>\n",
       "</tbody>\n",
       "</table>"
      ],
      "text/plain": [
       "GridData(Grid(\n",
       "Axis(\"x\",\n",
       "points = array([ 0,  1,  2,  3,  4,  5,  6,  7,  8,  9, 10, 11, 12, 13, 14, 15, 16,\n",
       "       17, 18, 19]),\n",
       "edges = edges: array([[-0.5,  0.5],\n",
       "       [ 0.5,  1.5],\n",
       "       [ 1.5,  2.5],\n",
       "       [ 2.5,  3.5],\n",
       "       [ 3.5,  4.5],\n",
       "       [ 4.5,  5.5],\n",
       "       [ 5.5,  6.5],\n",
       "       [ 6.5,  7.5],\n",
       "       [ 7.5,  8.5],\n",
       "       [ 8.5,  9.5],\n",
       "       [ 9.5, 10.5],\n",
       "       [10.5, 11.5],\n",
       "       [11.5, 12.5],\n",
       "       [12.5, 13.5],\n",
       "       [13.5, 14.5],\n",
       "       [14.5, 15.5],\n",
       "       [15.5, 16.5],\n",
       "       [16.5, 17.5],\n",
       "       [17.5, 18.5],\n",
       "       [18.5, 19.5]]))\n",
       "nbins = 20),)\n",
       "{'a': masked_array(data=[0.25922735, 0.4183659 , 0.11046701, 0.22852356,\n",
       "                   0.16005938, 0.19918724, 0.26127181, 0.59315509,\n",
       "                   0.42865366, 0.28870478, 0.67463529, 0.78166342,\n",
       "                   0.89115813, 0.30882483, 0.91259332, 0.16698528,\n",
       "                   0.99396571, 0.34933974, 0.3422299 , 0.38226971],\n",
       "             mask=False,\n",
       "       fill_value=1e+20), 'b': masked_array(data=[-1., -1., -1., -1., -1., -1., -1.,  1., -1., -1.,  1.,\n",
       "                    1.,  1., -1.,  1., -1.,  1., -1., -1., -1.],\n",
       "             mask=False,\n",
       "       fill_value=1e+20)})"
      ]
     },
     "execution_count": 187,
     "metadata": {},
     "output_type": "execute_result"
    }
   ],
   "source": [
    "g[:,-2]"
   ]
  },
  {
   "cell_type": "code",
   "execution_count": 188,
   "metadata": {},
   "outputs": [
    {
     "data": {
      "text/html": [
       "<table>\n",
       "<tbody>\n",
       "<tr><td><b>y \\ x</b></td><td><b>[18.5 | 19 | 19.5]</b></td><td><b>[17.5 | 18 | 18.5]</b></td><td><b>[16.5 | 17 | 17.5]</b></td><td><b>[15.5 | 16 | 16.5]</b></td><td><b>[14.5 | 15 | 15.5]</b></td><td><b>[13.5 | 14 | 14.5]</b></td><td>...</td><td><b>[4.5 | 5 | 5.5]</b></td><td><b>[3.5 | 4 | 4.5]</b></td><td><b>[2.5 | 3 | 3.5]</b></td><td><b>[1.5 | 2 | 2.5]</b></td><td><b>[0.5 | 1 | 1.5]</b></td><td><b>[-0.5 | 0 | 0.5]</b></td></tr>\n",
       "<tr><td><b>4</b>    </td><td>a = 0.509<br>b = 1       </td><td>a = 0.236<br>b = -1      </td><td>a = 0.396<br>b = -1      </td><td>a = 0.867<br>b = 1       </td><td>a = 0.851<br>b = 1       </td><td>a = 0.54<br>b = 1        </td><td>...</td><td>a = 0.619<br>b = 1    </td><td>a = 0.399<br>b = -1   </td><td>a = 0.644<br>b = 1    </td><td>a = 0.878<br>b = 1    </td><td>a = 0.0327<br>b = -1  </td><td>a = 0.355<br>b = -1    </td></tr>\n",
       "<tr><td><b>3</b>    </td><td>a = 0.382<br>b = -1      </td><td>a = 0.342<br>b = -1      </td><td>a = 0.349<br>b = -1      </td><td>a = 0.994<br>b = 1       </td><td>a = 0.167<br>b = -1      </td><td>a = 0.913<br>b = 1       </td><td>...</td><td>a = 0.199<br>b = -1   </td><td>a = 0.16<br>b = -1    </td><td>a = 0.229<br>b = -1   </td><td>a = 0.11<br>b = -1    </td><td>a = 0.418<br>b = -1   </td><td>a = 0.259<br>b = -1    </td></tr>\n",
       "<tr><td><b>2</b>    </td><td>a = 0.191<br>b = -1      </td><td>a = 0.727<br>b = 1       </td><td>a = 0.467<br>b = -1      </td><td>a = 0.0024<br>b = -1     </td><td>a = 0.0885<br>b = -1     </td><td>a = 0.198<br>b = -1      </td><td>...</td><td>a = 0.201<br>b = -1   </td><td>a = 0.803<br>b = 1    </td><td>a = 0.802<br>b = 1    </td><td>a = 0.854<br>b = 1    </td><td>a = 0.613<br>b = 1    </td><td>a = 0.404<br>b = -1    </td></tr>\n",
       "<tr><td><b>1</b>    </td><td>a = 0.104<br>b = -1      </td><td>a = 0.604<br>b = 1       </td><td>a = 0.296<br>b = -1      </td><td>a = 0.158<br>b = -1      </td><td>a = 0.542<br>b = 1       </td><td>a = 0.051<br>b = -1      </td><td>...</td><td>a = 0.479<br>b = -1   </td><td>a = 0.0437<br>b = -1  </td><td>a = 0.791<br>b = 1    </td><td>a = 0.084<br>b = -1   </td><td>a = 0.299<br>b = -1   </td><td>a = 0.793<br>b = 1     </td></tr>\n",
       "<tr><td><b>0</b>    </td><td>a = 0.971<br>b = 1       </td><td>a = 0.466<br>b = -1      </td><td>a = 0.863<br>b = 1       </td><td>a = 0.754<br>b = 1       </td><td>a = 0.25<br>b = -1       </td><td>a = 0.672<br>b = 1       </td><td>...</td><td>a = 0.375<br>b = -1   </td><td>a = 0.685<br>b = 1    </td><td>a = 0.0423<br>b = -1  </td><td>a = 0.182<br>b = -1   </td><td>a = 0.536<br>b = 1    </td><td>a = 0.521<br>b = 1     </td></tr>\n",
       "</tbody>\n",
       "</table>"
      ],
      "text/plain": [
       "GridData(Grid(\n",
       "Axis(\"x\",\n",
       "points = array([19, 18, 17, 16, 15, 14, 13, 12, 11, 10,  9,  8,  7,  6,  5,  4,  3,\n",
       "        2,  1,  0]),\n",
       "edges = edges: array([[18.5, 19.5],\n",
       "       [17.5, 18.5],\n",
       "       [16.5, 17.5],\n",
       "       [15.5, 16.5],\n",
       "       [14.5, 15.5],\n",
       "       [13.5, 14.5],\n",
       "       [12.5, 13.5],\n",
       "       [11.5, 12.5],\n",
       "       [10.5, 11.5],\n",
       "       [ 9.5, 10.5],\n",
       "       [ 8.5,  9.5],\n",
       "       [ 7.5,  8.5],\n",
       "       [ 6.5,  7.5],\n",
       "       [ 5.5,  6.5],\n",
       "       [ 4.5,  5.5],\n",
       "       [ 3.5,  4.5],\n",
       "       [ 2.5,  3.5],\n",
       "       [ 1.5,  2.5],\n",
       "       [ 0.5,  1.5],\n",
       "       [-0.5,  0.5]]))\n",
       "nbins = 20),\n",
       "Axis(\"y\",\n",
       "points = array([4, 3, 2, 1, 0]),\n",
       "edges = edges: None)\n",
       "nbins = 5),)\n",
       "{'a': masked_array(\n",
       "  data=[[0.50852291, 0.38226971, 0.19137263, 0.10432774, 0.97104364],\n",
       "        [0.23622166, 0.3422299 , 0.72705651, 0.60409576, 0.46627768],\n",
       "        [0.39641289, 0.34933974, 0.46685538, 0.29560218, 0.86282404],\n",
       "        [0.86663725, 0.99396571, 0.00240059, 0.15847834, 0.75407025],\n",
       "        [0.85145682, 0.16698528, 0.08854585, 0.54239605, 0.24954435],\n",
       "        [0.54012629, 0.91259332, 0.19787246, 0.05099001, 0.6719271 ],\n",
       "        [0.46953325, 0.30882483, 0.63679426, 0.20873307, 0.00266692],\n",
       "        [0.3395614 , 0.89115813, 0.25443857, 0.6979522 , 0.28791936],\n",
       "        [0.95328254, 0.78166342, 0.16711653, 0.57177673, 0.25515335],\n",
       "        [0.59614909, 0.67463529, 0.5183005 , 0.99293571, 0.6352447 ],\n",
       "        [0.92964324, 0.28870478, 0.25788791, 0.70575824, 0.33973352],\n",
       "        [0.04766125, 0.42865366, 0.89388369, 0.50352676, 0.04119838],\n",
       "        [0.55411865, 0.59315509, 0.38857381, 0.27678778, 0.21291713],\n",
       "        [0.35795558, 0.26127181, 0.54972996, 0.48264574, 0.77660979],\n",
       "        [0.61923918, 0.19918724, 0.20052275, 0.47878184, 0.37495399],\n",
       "        [0.39907791, 0.16005938, 0.80252561, 0.04374722, 0.68496575],\n",
       "        [0.64362069, 0.22852356, 0.80188789, 0.7907802 , 0.04228843],\n",
       "        [0.87767559, 0.11046701, 0.85424661, 0.08401091, 0.1821003 ],\n",
       "        [0.03270594, 0.4183659 , 0.61337872, 0.2994186 , 0.53628543],\n",
       "        [0.35538727, 0.25922735, 0.40398511, 0.79286803, 0.52079923]],\n",
       "  mask=False,\n",
       "  fill_value=1e+20), 'b': masked_array(\n",
       "  data=[[ 1., -1., -1., -1.,  1.],\n",
       "        [-1., -1.,  1.,  1., -1.],\n",
       "        [-1., -1., -1., -1.,  1.],\n",
       "        [ 1.,  1., -1., -1.,  1.],\n",
       "        [ 1., -1., -1.,  1., -1.],\n",
       "        [ 1.,  1., -1., -1.,  1.],\n",
       "        [-1., -1.,  1., -1., -1.],\n",
       "        [-1.,  1., -1.,  1., -1.],\n",
       "        [ 1.,  1., -1.,  1., -1.],\n",
       "        [ 1.,  1.,  1.,  1.,  1.],\n",
       "        [ 1., -1., -1.,  1., -1.],\n",
       "        [-1., -1.,  1.,  1., -1.],\n",
       "        [ 1.,  1., -1., -1., -1.],\n",
       "        [-1., -1.,  1., -1.,  1.],\n",
       "        [ 1., -1., -1., -1., -1.],\n",
       "        [-1., -1.,  1., -1.,  1.],\n",
       "        [ 1., -1.,  1.,  1., -1.],\n",
       "        [ 1., -1.,  1., -1., -1.],\n",
       "        [-1., -1.,  1., -1.,  1.],\n",
       "        [-1., -1., -1.,  1.,  1.]],\n",
       "  mask=False,\n",
       "  fill_value=1e+20)})"
      ]
     },
     "execution_count": 188,
     "metadata": {},
     "output_type": "execute_result"
    }
   ],
   "source": [
    "g[::-1, ::-1]"
   ]
  },
  {
   "cell_type": "code",
   "execution_count": 189,
   "metadata": {},
   "outputs": [
    {
     "data": {
      "text/html": [
       "<table>\n",
       "<tbody>\n",
       "<tr><td><b>y \\ x</b></td><td><b>[-0.5 | 0 | 0.5]</b></td><td><b>[2.5 | 3 | 3.5]</b></td><td><b>[4.5 | 5 | 5.5]</b></td></tr>\n",
       "<tr><td><b>2</b>    </td><td>a = 0.404<br>b = -1    </td><td>a = 0.802<br>b = 1    </td><td>a = 0.201<br>b = -1   </td></tr>\n",
       "<tr><td><b>3</b>    </td><td>a = 0.259<br>b = -1    </td><td>a = 0.229<br>b = -1   </td><td>a = 0.199<br>b = -1   </td></tr>\n",
       "</tbody>\n",
       "</table>"
      ],
      "text/plain": [
       "GridData(Grid(\n",
       "Axis(\"x\",\n",
       "points = array([0, 3, 5]),\n",
       "edges = edges: array([[-0.5,  0.5],\n",
       "       [ 2.5,  3.5],\n",
       "       [ 4.5,  5.5]]))\n",
       "nbins = 3),\n",
       "Axis(\"y\",\n",
       "points = array([2, 3]),\n",
       "edges = edges: None)\n",
       "nbins = 2),)\n",
       "{'a': masked_array(\n",
       "  data=[[0.40398511, 0.25922735],\n",
       "        [0.80188789, 0.22852356],\n",
       "        [0.20052275, 0.19918724]],\n",
       "  mask=False,\n",
       "  fill_value=1e+20), 'b': masked_array(\n",
       "  data=[[-1., -1.],\n",
       "        [ 1., -1.],\n",
       "        [-1., -1.]],\n",
       "  mask=False,\n",
       "  fill_value=1e+20)})"
      ]
     },
     "execution_count": 189,
     "metadata": {},
     "output_type": "execute_result"
    }
   ],
   "source": [
    "g[[0,3,5], 2:-1]"
   ]
  },
  {
   "cell_type": "code",
   "execution_count": 190,
   "metadata": {},
   "outputs": [
    {
     "data": {
      "text/plain": [
       "{'a': 0.5207992294326821, 'b': 1.0}"
      ]
     },
     "execution_count": 190,
     "metadata": {},
     "output_type": "execute_result"
    }
   ],
   "source": [
    "g[0,0]"
   ]
  },
  {
   "cell_type": "code",
   "execution_count": 191,
   "metadata": {},
   "outputs": [
    {
     "data": {
      "text/plain": [
       "19.5"
      ]
     },
     "execution_count": 191,
     "metadata": {},
     "output_type": "execute_result"
    }
   ],
   "source": [
    "g.grid.edges[0].max()"
   ]
  },
  {
   "cell_type": "code",
   "execution_count": 192,
   "metadata": {},
   "outputs": [
    {
     "data": {
      "text/html": [
       "<table>\n",
       "<tbody>\n",
       "<tr><td><b>y</b></td><td><b>0</b></td><td><b>1</b></td><td><b>2</b></td><td><b>3</b></td><td><b>4</b></td></tr>\n",
       "<tr><td><b></b> </td><td>0.181   </td><td>0.174   </td><td>0.169   </td><td>-0.134  </td><td>0.365   </td></tr>\n",
       "</tbody>\n",
       "</table>"
      ],
      "text/plain": [
       "GridArray([0.1806526910893663 0.17383288145324885 0.16893559307707798\n",
       " -0.133586046105854 0.3649565404869619])"
      ]
     },
     "execution_count": 192,
     "metadata": {},
     "output_type": "execute_result"
    }
   ],
   "source": [
    "np.mean(g['b'], axis='x') + np.std(g['a'], axis='x')"
   ]
  },
  {
   "cell_type": "code",
   "execution_count": 193,
   "metadata": {},
   "outputs": [],
   "source": [
    "g['c'] = np.sqrt(g['x']) * np.sqrt(g['y'])"
   ]
  },
  {
   "cell_type": "code",
   "execution_count": 194,
   "metadata": {},
   "outputs": [
    {
     "data": {
      "text/plain": [
       "<matplotlib.collections.QuadMesh at 0x7f54bb18a9b0>"
      ]
     },
     "execution_count": 194,
     "metadata": {},
     "output_type": "execute_result"
    },
    {
     "data": {
      "image/png": "[encoded data removed]",
      "text/plain": [
       "<Figure size 432x288 with 2 Axes>"
      ]
     },
     "metadata": {
      "needs_background": "light"
     },
     "output_type": "display_data"
    }
   ],
   "source": [
    "g.plot('c', cbar=True)"
   ]
  },
  {
   "cell_type": "code",
   "execution_count": 195,
   "metadata": {},
   "outputs": [],
   "source": [
    "g['m'] = np.arange(g.grid.size * 3).reshape(g.shape + (-1,))"
   ]
  },
  {
   "cell_type": "code",
   "execution_count": 196,
   "metadata": {},
   "outputs": [
    {
     "name": "stderr",
     "output_type": "stream",
     "text": [
      "Clipping input data to the valid range for imshow with RGB data ([0..1] for floats or [0..255] for integers).\n"
     ]
    },
    {
     "data": {
      "text/plain": [
       "<matplotlib.image.AxesImage at 0x7f54bb0b15f8>"
      ]
     },
     "execution_count": 196,
     "metadata": {},
     "output_type": "execute_result"
    },
    {
     "data": {
      "image/png": "[encoded data removed]",
      "text/plain": [
       "<Figure size 432x288 with 1 Axes>"
      ]
     },
     "metadata": {
      "needs_background": "light"
     },
     "output_type": "display_data"
    }
   ],
   "source": [
    "g.plot('m') #it's interpreted as an RGB image, since the excess dimension is 3"
   ]
  },
  {
   "cell_type": "code",
   "execution_count": 197,
   "metadata": {},
   "outputs": [
    {
     "data": {
      "text/html": [
       "<table>\n",
       "<tbody>\n",
       "<tr><td><b>y \\ x</b></td><td><b>[-0.5 | 0 | 0.5]</b></td><td><b>[0.5 | 1 | 1.5]</b></td><td><b>[1.5 | 2 | 2.5]</b></td><td><b>[2.5 | 3 | 3.5]</b></td><td><b>[3.5 | 4 | 4.5]</b></td><td><b>[4.5 | 5 | 5.5]</b></td><td>...</td><td><b>[13.5 | 14 | 14.5]</b></td><td><b>[14.5 | 15 | 15.5]</b></td><td><b>[15.5 | 16 | 16.5]</b></td><td><b>[16.5 | 17 | 17.5]</b></td><td><b>[17.5 | 18 | 18.5]</b></td><td><b>[18.5 | 19 | 19.5]</b></td></tr>\n",
       "<tr><td><b>0</b>    </td><td>0                      </td><td>15                    </td><td>30                    </td><td>45                    </td><td>60                    </td><td>75                    </td><td>...</td><td>210                      </td><td>225                      </td><td>240                      </td><td>255                      </td><td>270                      </td><td>285                      </td></tr>\n",
       "<tr><td><b>1</b>    </td><td>3                      </td><td>18                    </td><td>33                    </td><td>48                    </td><td>63                    </td><td>78                    </td><td>...</td><td>213                      </td><td>228                      </td><td>243                      </td><td>258                      </td><td>273                      </td><td>288                      </td></tr>\n",
       "<tr><td><b>2</b>    </td><td>6                      </td><td>21                    </td><td>36                    </td><td>51                    </td><td>66                    </td><td>81                    </td><td>...</td><td>216                      </td><td>231                      </td><td>246                      </td><td>261                      </td><td>276                      </td><td>291                      </td></tr>\n",
       "<tr><td><b>3</b>    </td><td>9                      </td><td>24                    </td><td>39                    </td><td>54                    </td><td>69                    </td><td>84                    </td><td>...</td><td>219                      </td><td>234                      </td><td>249                      </td><td>264                      </td><td>279                      </td><td>294                      </td></tr>\n",
       "<tr><td><b>4</b>    </td><td>12                     </td><td>27                    </td><td>42                    </td><td>57                    </td><td>72                    </td><td>87                    </td><td>...</td><td>222                      </td><td>237                      </td><td>252                      </td><td>267                      </td><td>282                      </td><td>297                      </td></tr>\n",
       "</tbody>\n",
       "</table>"
      ],
      "text/plain": [
       "GridArray([[  0   3   6   9  12]\n",
       " [ 15  18  21  24  27]\n",
       " [ 30  33  36  39  42]\n",
       " [ 45  48  51  54  57]\n",
       " [ 60  63  66  69  72]\n",
       " [ 75  78  81  84  87]\n",
       " [ 90  93  96  99 102]\n",
       " [105 108 111 114 117]\n",
       " [120 123 126 129 132]\n",
       " [135 138 141 144 147]\n",
       " [150 153 156 159 162]\n",
       " [165 168 171 174 177]\n",
       " [180 183 186 189 192]\n",
       " [195 198 201 204 207]\n",
       " [210 213 216 219 222]\n",
       " [225 228 231 234 237]\n",
       " [240 243 246 249 252]\n",
       " [255 258 261 264 267]\n",
       " [270 273 276 279 282]\n",
       " [285 288 291 294 297]])"
      ]
     },
     "execution_count": 197,
     "metadata": {},
     "output_type": "execute_result"
    }
   ],
   "source": [
    "g['m'][:,:,0]"
   ]
  },
  {
   "cell_type": "code",
   "execution_count": 198,
   "metadata": {},
   "outputs": [
    {
     "data": {
      "text/html": [
       "<table>\n",
       "<tbody>\n",
       "<tr><td><b>x</b></td><td><b>[-0.5 | 0 | 0.5]</b></td><td><b>[0.5 | 1 | 1.5]</b></td><td><b>[1.5 | 2 | 2.5]</b></td><td><b>[2.5 | 3 | 3.5]</b></td><td><b>[3.5 | 4 | 4.5]</b></td><td><b>[4.5 | 5 | 5.5]</b></td><td>...</td><td><b>[13.5 | 14 | 14.5]</b></td><td><b>[14.5 | 15 | 15.5]</b></td><td><b>[15.5 | 16 | 16.5]</b></td><td><b>[16.5 | 17 | 17.5]</b></td><td><b>[17.5 | 18 | 18.5]</b></td><td><b>[18.5 | 19 | 19.5]</b></td></tr>\n",
       "<tr><td><b>a</b></td><td>0.259                  </td><td>0.418                 </td><td>0.11                  </td><td>0.229                 </td><td>0.16                  </td><td>0.199                 </td><td>...</td><td>0.913                    </td><td>0.167                    </td><td>0.994                    </td><td>0.349                    </td><td>0.342                    </td><td>0.382                    </td></tr>\n",
       "<tr><td><b>b</b></td><td>-1                     </td><td>-1                    </td><td>-1                    </td><td>-1                    </td><td>-1                    </td><td>-1                    </td><td>...</td><td>1                        </td><td>-1                       </td><td>1                        </td><td>-1                       </td><td>-1                       </td><td>-1                       </td></tr>\n",
       "<tr><td><b>c</b></td><td>0                      </td><td>1.73                  </td><td>2.45                  </td><td>3                     </td><td>3.46                  </td><td>3.87                  </td><td>...</td><td>6.48                     </td><td>6.71                     </td><td>6.93                     </td><td>7.14                     </td><td>7.35                     </td><td>7.55                     </td></tr>\n",
       "<tr><td><b>m</b></td><td>[ 9 10 11]             </td><td>[24 25 26]            </td><td>[39 40 41]            </td><td>[54 55 56]            </td><td>[69 70 71]            </td><td>[84 85 86]            </td><td>...</td><td>[219 220 221]            </td><td>[234 235 236]            </td><td>[249 250 251]            </td><td>[264 265 266]            </td><td>[279 280 281]            </td><td>[294 295 296]            </td></tr>\n",
       "</tbody>\n",
       "</table>"
      ],
      "text/plain": [
       "GridData(Grid(\n",
       "Axis(\"x\",\n",
       "points = array([ 0,  1,  2,  3,  4,  5,  6,  7,  8,  9, 10, 11, 12, 13, 14, 15, 16,\n",
       "       17, 18, 19]),\n",
       "edges = edges: array([[-0.5,  0.5],\n",
       "       [ 0.5,  1.5],\n",
       "       [ 1.5,  2.5],\n",
       "       [ 2.5,  3.5],\n",
       "       [ 3.5,  4.5],\n",
       "       [ 4.5,  5.5],\n",
       "       [ 5.5,  6.5],\n",
       "       [ 6.5,  7.5],\n",
       "       [ 7.5,  8.5],\n",
       "       [ 8.5,  9.5],\n",
       "       [ 9.5, 10.5],\n",
       "       [10.5, 11.5],\n",
       "       [11.5, 12.5],\n",
       "       [12.5, 13.5],\n",
       "       [13.5, 14.5],\n",
       "       [14.5, 15.5],\n",
       "       [15.5, 16.5],\n",
       "       [16.5, 17.5],\n",
       "       [17.5, 18.5],\n",
       "       [18.5, 19.5]]))\n",
       "nbins = 20),)\n",
       "{'a': masked_array(data=[0.25922735, 0.4183659 , 0.11046701, 0.22852356,\n",
       "                   0.16005938, 0.19918724, 0.26127181, 0.59315509,\n",
       "                   0.42865366, 0.28870478, 0.67463529, 0.78166342,\n",
       "                   0.89115813, 0.30882483, 0.91259332, 0.16698528,\n",
       "                   0.99396571, 0.34933974, 0.3422299 , 0.38226971],\n",
       "             mask=False,\n",
       "       fill_value=1e+20), 'b': masked_array(data=[-1., -1., -1., -1., -1., -1., -1.,  1., -1., -1.,  1.,\n",
       "                    1.,  1., -1.,  1., -1.,  1., -1., -1., -1.],\n",
       "             mask=False,\n",
       "       fill_value=1e+20), 'c': masked_array(data=[0.0, 1.7320508075688772, 2.4494897427831783,\n",
       "                   2.9999999999999996, 3.4641016151377544,\n",
       "                   3.872983346207417, 4.242640687119285, 4.58257569495584,\n",
       "                   4.898979485566357, 5.196152422706632,\n",
       "                   5.477225575051661, 5.744562646538029,\n",
       "                   5.999999999999999, 6.244997998398397,\n",
       "                   6.4807406984078595, 6.7082039324993685,\n",
       "                   6.928203230275509, 7.1414284285428495,\n",
       "                   7.348469228349534, 7.54983443527075],\n",
       "             mask=[False, False, False, False, False, False, False, False,\n",
       "                   False, False, False, False, False, False, False, False,\n",
       "                   False, False, False, False],\n",
       "       fill_value=1e+20), 'm': masked_array(\n",
       "  data=[[  9,  10,  11],\n",
       "        [ 24,  25,  26],\n",
       "        [ 39,  40,  41],\n",
       "        [ 54,  55,  56],\n",
       "        [ 69,  70,  71],\n",
       "        [ 84,  85,  86],\n",
       "        [ 99, 100, 101],\n",
       "        [114, 115, 116],\n",
       "        [129, 130, 131],\n",
       "        [144, 145, 146],\n",
       "        [159, 160, 161],\n",
       "        [174, 175, 176],\n",
       "        [189, 190, 191],\n",
       "        [204, 205, 206],\n",
       "        [219, 220, 221],\n",
       "        [234, 235, 236],\n",
       "        [249, 250, 251],\n",
       "        [264, 265, 266],\n",
       "        [279, 280, 281],\n",
       "        [294, 295, 296]],\n",
       "  mask=False,\n",
       "  fill_value=999999)})"
      ]
     },
     "execution_count": 198,
     "metadata": {},
     "output_type": "execute_result"
    }
   ],
   "source": [
    "g[:,3]"
   ]
  },
  {
   "cell_type": "code",
   "execution_count": 199,
   "metadata": {},
   "outputs": [
    {
     "data": {
      "text/html": [
       "<table>\n",
       "<tbody>\n",
       "<tr><td><b>y \\ x</b></td><td><b>[-0.5 | 0 | 0.5]</b></td><td><b>[0.5 | 1 | 1.5]</b></td><td><b>[1.5 | 2 | 2.5]</b></td><td><b>[2.5 | 3 | 3.5]</b></td><td><b>[3.5 | 4 | 4.5]</b></td><td><b>[4.5 | 5 | 5.5]</b></td><td>...</td><td><b>[13.5 | 14 | 14.5]</b></td><td><b>[14.5 | 15 | 15.5]</b></td><td><b>[15.5 | 16 | 16.5]</b></td><td><b>[16.5 | 17 | 17.5]</b></td><td><b>[17.5 | 18 | 18.5]</b></td><td><b>[18.5 | 19 | 19.5]</b></td></tr>\n",
       "<tr><td><b>0</b>    </td><td>[0 1 2]                </td><td>[15 16 17]            </td><td>[30 31 32]            </td><td>[45 46 47]            </td><td>[60 61 62]            </td><td>[75 76 77]            </td><td>...</td><td>[210 211 212]            </td><td>[225 226 227]            </td><td>[240 241 242]            </td><td>[255 256 257]            </td><td>[270 271 272]            </td><td>[285 286 287]            </td></tr>\n",
       "<tr><td><b>1</b>    </td><td>[3 4 5]                </td><td>[18 19 20]            </td><td>[33 34 35]            </td><td>[48 49 50]            </td><td>[63 64 65]            </td><td>[78 79 80]            </td><td>...</td><td>[213 214 215]            </td><td>[228 229 230]            </td><td>[243 244 245]            </td><td>[258 259 260]            </td><td>[273 274 275]            </td><td>[288 289 290]            </td></tr>\n",
       "<tr><td><b>2</b>    </td><td>[6 7 8]                </td><td>[21 22 23]            </td><td>[36 37 38]            </td><td>[51 52 53]            </td><td>[66 67 68]            </td><td>[81 82 83]            </td><td>...</td><td>[216 217 218]            </td><td>[231 232 233]            </td><td>[246 247 248]            </td><td>[261 262 263]            </td><td>[276 277 278]            </td><td>[291 292 293]            </td></tr>\n",
       "<tr><td><b>3</b>    </td><td>[ 9 10 11]             </td><td>[24 25 26]            </td><td>[39 40 41]            </td><td>[54 55 56]            </td><td>[69 70 71]            </td><td>[84 85 86]            </td><td>...</td><td>[219 220 221]            </td><td>[234 235 236]            </td><td>[249 250 251]            </td><td>[264 265 266]            </td><td>[279 280 281]            </td><td>[294 295 296]            </td></tr>\n",
       "<tr><td><b>4</b>    </td><td>[12 13 14]             </td><td>[27 28 29]            </td><td>[42 43 44]            </td><td>[57 58 59]            </td><td>[72 73 74]            </td><td>[87 88 89]            </td><td>...</td><td>[222 223 224]            </td><td>[237 238 239]            </td><td>[252 253 254]            </td><td>[267 268 269]            </td><td>[282 283 284]            </td><td>[297 298 299]            </td></tr>\n",
       "</tbody>\n",
       "</table>"
      ],
      "text/plain": [
       "GridArray([[[  0   1   2]\n",
       "  [  3   4   5]\n",
       "  [  6   7   8]\n",
       "  [  9  10  11]\n",
       "  [ 12  13  14]]\n",
       "\n",
       " [[ 15  16  17]\n",
       "  [ 18  19  20]\n",
       "  [ 21  22  23]\n",
       "  [ 24  25  26]\n",
       "  [ 27  28  29]]\n",
       "\n",
       " [[ 30  31  32]\n",
       "  [ 33  34  35]\n",
       "  [ 36  37  38]\n",
       "  [ 39  40  41]\n",
       "  [ 42  43  44]]\n",
       "\n",
       " [[ 45  46  47]\n",
       "  [ 48  49  50]\n",
       "  [ 51  52  53]\n",
       "  [ 54  55  56]\n",
       "  [ 57  58  59]]\n",
       "\n",
       " [[ 60  61  62]\n",
       "  [ 63  64  65]\n",
       "  [ 66  67  68]\n",
       "  [ 69  70  71]\n",
       "  [ 72  73  74]]\n",
       "\n",
       " [[ 75  76  77]\n",
       "  [ 78  79  80]\n",
       "  [ 81  82  83]\n",
       "  [ 84  85  86]\n",
       "  [ 87  88  89]]\n",
       "\n",
       " [[ 90  91  92]\n",
       "  [ 93  94  95]\n",
       "  [ 96  97  98]\n",
       "  [ 99 100 101]\n",
       "  [102 103 104]]\n",
       "\n",
       " [[105 106 107]\n",
       "  [108 109 110]\n",
       "  [111 112 113]\n",
       "  [114 115 116]\n",
       "  [117 118 119]]\n",
       "\n",
       " [[120 121 122]\n",
       "  [123 124 125]\n",
       "  [126 127 128]\n",
       "  [129 130 131]\n",
       "  [132 133 134]]\n",
       "\n",
       " [[135 136 137]\n",
       "  [138 139 140]\n",
       "  [141 142 143]\n",
       "  [144 145 146]\n",
       "  [147 148 149]]\n",
       "\n",
       " [[150 151 152]\n",
       "  [153 154 155]\n",
       "  [156 157 158]\n",
       "  [159 160 161]\n",
       "  [162 163 164]]\n",
       "\n",
       " [[165 166 167]\n",
       "  [168 169 170]\n",
       "  [171 172 173]\n",
       "  [174 175 176]\n",
       "  [177 178 179]]\n",
       "\n",
       " [[180 181 182]\n",
       "  [183 184 185]\n",
       "  [186 187 188]\n",
       "  [189 190 191]\n",
       "  [192 193 194]]\n",
       "\n",
       " [[195 196 197]\n",
       "  [198 199 200]\n",
       "  [201 202 203]\n",
       "  [204 205 206]\n",
       "  [207 208 209]]\n",
       "\n",
       " [[210 211 212]\n",
       "  [213 214 215]\n",
       "  [216 217 218]\n",
       "  [219 220 221]\n",
       "  [222 223 224]]\n",
       "\n",
       " [[225 226 227]\n",
       "  [228 229 230]\n",
       "  [231 232 233]\n",
       "  [234 235 236]\n",
       "  [237 238 239]]\n",
       "\n",
       " [[240 241 242]\n",
       "  [243 244 245]\n",
       "  [246 247 248]\n",
       "  [249 250 251]\n",
       "  [252 253 254]]\n",
       "\n",
       " [[255 256 257]\n",
       "  [258 259 260]\n",
       "  [261 262 263]\n",
       "  [264 265 266]\n",
       "  [267 268 269]]\n",
       "\n",
       " [[270 271 272]\n",
       "  [273 274 275]\n",
       "  [276 277 278]\n",
       "  [279 280 281]\n",
       "  [282 283 284]]\n",
       "\n",
       " [[285 286 287]\n",
       "  [288 289 290]\n",
       "  [291 292 293]\n",
       "  [294 295 296]\n",
       "  [297 298 299]]])"
      ]
     },
     "execution_count": 199,
     "metadata": {},
     "output_type": "execute_result"
    }
   ],
   "source": [
    "g['m']"
   ]
  },
  {
   "cell_type": "code",
   "execution_count": 200,
   "metadata": {},
   "outputs": [
    {
     "data": {
      "text/plain": [
       "[('a', GridArray([[0.52079923 0.79286803 0.40398511 0.25922735 0.35538727]\n",
       "   [0.53628543 0.2994186  0.61337872 0.4183659  0.03270594]\n",
       "   [0.1821003  0.08401091 0.85424661 0.11046701 0.87767559]\n",
       "   [0.04228843 0.7907802  0.80188789 0.22852356 0.64362069]\n",
       "   [0.68496575 0.04374722 0.80252561 0.16005938 0.39907791]\n",
       "   [0.37495399 0.47878184 0.20052275 0.19918724 0.61923918]\n",
       "   [0.77660979 0.48264574 0.54972996 0.26127181 0.35795558]\n",
       "   [0.21291713 0.27678778 0.38857381 0.59315509 0.55411865]\n",
       "   [0.04119838 0.50352676 0.89388369 0.42865366 0.04766125]\n",
       "   [0.33973352 0.70575824 0.25788791 0.28870478 0.92964324]\n",
       "   [0.6352447  0.99293571 0.5183005  0.67463529 0.59614909]\n",
       "   [0.25515335 0.57177673 0.16711653 0.78166342 0.95328254]\n",
       "   [0.28791936 0.6979522  0.25443857 0.89115813 0.3395614 ]\n",
       "   [0.00266692 0.20873307 0.63679426 0.30882483 0.46953325]\n",
       "   [0.6719271  0.05099001 0.19787246 0.91259332 0.54012629]\n",
       "   [0.24954435 0.54239605 0.08854585 0.16698528 0.85145682]\n",
       "   [0.75407025 0.15847834 0.00240059 0.99396571 0.86663725]\n",
       "   [0.86282404 0.29560218 0.46685538 0.34933974 0.39641289]\n",
       "   [0.46627768 0.60409576 0.72705651 0.3422299  0.23622166]\n",
       "   [0.97104364 0.10432774 0.19137263 0.38226971 0.50852291]])),\n",
       " ('b', GridArray([[ 1.  1. -1. -1. -1.]\n",
       "   [ 1. -1.  1. -1. -1.]\n",
       "   [-1. -1.  1. -1.  1.]\n",
       "   [-1.  1.  1. -1.  1.]\n",
       "   [ 1. -1.  1. -1. -1.]\n",
       "   [-1. -1. -1. -1.  1.]\n",
       "   [ 1. -1.  1. -1. -1.]\n",
       "   [-1. -1. -1.  1.  1.]\n",
       "   [-1.  1.  1. -1. -1.]\n",
       "   [-1.  1. -1. -1.  1.]\n",
       "   [ 1.  1.  1.  1.  1.]\n",
       "   [-1.  1. -1.  1.  1.]\n",
       "   [-1.  1. -1.  1. -1.]\n",
       "   [-1. -1.  1. -1. -1.]\n",
       "   [ 1. -1. -1.  1.  1.]\n",
       "   [-1.  1. -1. -1.  1.]\n",
       "   [ 1. -1. -1.  1.  1.]\n",
       "   [ 1. -1. -1. -1. -1.]\n",
       "   [-1.  1.  1. -1. -1.]\n",
       "   [ 1. -1. -1. -1.  1.]])),\n",
       " ('c', GridArray([[0.0 0.0 0.0 0.0 0.0]\n",
       "   [0.0 1.0 1.4142135623730951 1.7320508075688772 2.0]\n",
       "   [0.0 1.4142135623730951 2.0000000000000004 2.4494897427831783\n",
       "    2.8284271247461903]\n",
       "   [0.0 1.7320508075688772 2.4494897427831783 2.9999999999999996\n",
       "    3.4641016151377544]\n",
       "   [0.0 2.0 2.8284271247461903 3.4641016151377544 4.0]\n",
       "   [0.0 2.23606797749979 3.1622776601683795 3.872983346207417\n",
       "    4.47213595499958]\n",
       "   [0.0 2.449489742783178 3.4641016151377544 4.242640687119285\n",
       "    4.898979485566356]\n",
       "   [0.0 2.6457513110645907 3.7416573867739418 4.58257569495584\n",
       "    5.291502622129181]\n",
       "   [0.0 2.8284271247461903 4.000000000000001 4.898979485566357\n",
       "    5.656854249492381]\n",
       "   [0.0 3.0 4.242640687119286 5.196152422706632 6.0]\n",
       "   [0.0 3.1622776601683795 4.47213595499958 5.477225575051661\n",
       "    6.324555320336759]\n",
       "   [0.0 3.3166247903554 4.69041575982343 5.744562646538029 6.6332495807108]\n",
       "   [0.0 3.4641016151377544 4.898979485566357 5.999999999999999\n",
       "    6.928203230275509]\n",
       "   [0.0 3.605551275463989 5.099019513592785 6.244997998398397\n",
       "    7.211102550927978]\n",
       "   [0.0 3.7416573867739413 5.291502622129181 6.4807406984078595\n",
       "    7.483314773547883]\n",
       "   [0.0 3.872983346207417 5.477225575051662 6.7082039324993685\n",
       "    7.745966692414834]\n",
       "   [0.0 4.0 5.656854249492381 6.928203230275509 8.0]\n",
       "   [0.0 4.123105625617661 5.830951894845301 7.1414284285428495\n",
       "    8.246211251235321]\n",
       "   [0.0 4.242640687119285 6.0 7.348469228349534 8.48528137423857]\n",
       "   [0.0 4.358898943540674 6.164414002968978 7.54983443527075\n",
       "    8.717797887081348]])),\n",
       " ('m', GridArray([[[  0   1   2]\n",
       "    [  3   4   5]\n",
       "    [  6   7   8]\n",
       "    [  9  10  11]\n",
       "    [ 12  13  14]]\n",
       "  \n",
       "   [[ 15  16  17]\n",
       "    [ 18  19  20]\n",
       "    [ 21  22  23]\n",
       "    [ 24  25  26]\n",
       "    [ 27  28  29]]\n",
       "  \n",
       "   [[ 30  31  32]\n",
       "    [ 33  34  35]\n",
       "    [ 36  37  38]\n",
       "    [ 39  40  41]\n",
       "    [ 42  43  44]]\n",
       "  \n",
       "   [[ 45  46  47]\n",
       "    [ 48  49  50]\n",
       "    [ 51  52  53]\n",
       "    [ 54  55  56]\n",
       "    [ 57  58  59]]\n",
       "  \n",
       "   [[ 60  61  62]\n",
       "    [ 63  64  65]\n",
       "    [ 66  67  68]\n",
       "    [ 69  70  71]\n",
       "    [ 72  73  74]]\n",
       "  \n",
       "   [[ 75  76  77]\n",
       "    [ 78  79  80]\n",
       "    [ 81  82  83]\n",
       "    [ 84  85  86]\n",
       "    [ 87  88  89]]\n",
       "  \n",
       "   [[ 90  91  92]\n",
       "    [ 93  94  95]\n",
       "    [ 96  97  98]\n",
       "    [ 99 100 101]\n",
       "    [102 103 104]]\n",
       "  \n",
       "   [[105 106 107]\n",
       "    [108 109 110]\n",
       "    [111 112 113]\n",
       "    [114 115 116]\n",
       "    [117 118 119]]\n",
       "  \n",
       "   [[120 121 122]\n",
       "    [123 124 125]\n",
       "    [126 127 128]\n",
       "    [129 130 131]\n",
       "    [132 133 134]]\n",
       "  \n",
       "   [[135 136 137]\n",
       "    [138 139 140]\n",
       "    [141 142 143]\n",
       "    [144 145 146]\n",
       "    [147 148 149]]\n",
       "  \n",
       "   [[150 151 152]\n",
       "    [153 154 155]\n",
       "    [156 157 158]\n",
       "    [159 160 161]\n",
       "    [162 163 164]]\n",
       "  \n",
       "   [[165 166 167]\n",
       "    [168 169 170]\n",
       "    [171 172 173]\n",
       "    [174 175 176]\n",
       "    [177 178 179]]\n",
       "  \n",
       "   [[180 181 182]\n",
       "    [183 184 185]\n",
       "    [186 187 188]\n",
       "    [189 190 191]\n",
       "    [192 193 194]]\n",
       "  \n",
       "   [[195 196 197]\n",
       "    [198 199 200]\n",
       "    [201 202 203]\n",
       "    [204 205 206]\n",
       "    [207 208 209]]\n",
       "  \n",
       "   [[210 211 212]\n",
       "    [213 214 215]\n",
       "    [216 217 218]\n",
       "    [219 220 221]\n",
       "    [222 223 224]]\n",
       "  \n",
       "   [[225 226 227]\n",
       "    [228 229 230]\n",
       "    [231 232 233]\n",
       "    [234 235 236]\n",
       "    [237 238 239]]\n",
       "  \n",
       "   [[240 241 242]\n",
       "    [243 244 245]\n",
       "    [246 247 248]\n",
       "    [249 250 251]\n",
       "    [252 253 254]]\n",
       "  \n",
       "   [[255 256 257]\n",
       "    [258 259 260]\n",
       "    [261 262 263]\n",
       "    [264 265 266]\n",
       "    [267 268 269]]\n",
       "  \n",
       "   [[270 271 272]\n",
       "    [273 274 275]\n",
       "    [276 277 278]\n",
       "    [279 280 281]\n",
       "    [282 283 284]]\n",
       "  \n",
       "   [[285 286 287]\n",
       "    [288 289 290]\n",
       "    [291 292 293]\n",
       "    [294 295 296]\n",
       "    [297 298 299]]]))]"
      ]
     },
     "execution_count": 200,
     "metadata": {},
     "output_type": "execute_result"
    }
   ],
   "source": [
    "g.items()"
   ]
  },
  {
   "cell_type": "code",
   "execution_count": 201,
   "metadata": {},
   "outputs": [
    {
     "data": {
      "text/html": [
       "<table>\n",
       "<tbody>\n",
       "<tr><td><b>x \\ y</b>          </td><td><b>0</b>  </td><td><b>1</b>  </td><td><b>2</b>  </td><td><b>3</b>  </td><td><b>4</b>  </td></tr>\n",
       "<tr><td><b>[2.5 | 3 | 3.5]</b></td><td>[45 46 47]</td><td>[48 49 50]</td><td>[51 52 53]</td><td>[54 55 56]</td><td>[57 58 59]</td></tr>\n",
       "<tr><td><b>[3.5 | 4 | 4.5]</b></td><td>[60 61 62]</td><td>[63 64 65]</td><td>[66 67 68]</td><td>[69 70 71]</td><td>[72 73 74]</td></tr>\n",
       "</tbody>\n",
       "</table>"
      ],
      "text/plain": [
       "GridArray([[[45 46 47]\n",
       "  [60 61 62]]\n",
       "\n",
       " [[48 49 50]\n",
       "  [63 64 65]]\n",
       "\n",
       " [[51 52 53]\n",
       "  [66 67 68]]\n",
       "\n",
       " [[54 55 56]\n",
       "  [69 70 71]]\n",
       "\n",
       " [[57 58 59]\n",
       "  [72 73 74]]])"
      ]
     },
     "execution_count": 201,
     "metadata": {},
     "output_type": "execute_result"
    }
   ],
   "source": [
    "g.T[:,3:5]['m']"
   ]
  },
  {
   "cell_type": "code",
   "execution_count": 202,
   "metadata": {},
   "outputs": [
    {
     "data": {
      "text/plain": [
       "OrderedDict([('a', 45.89778232214159),\n",
       "             ('b', -12.0),\n",
       "             ('c', 351.52847238221136),\n",
       "             ('m', 44850)])"
      ]
     },
     "execution_count": 202,
     "metadata": {},
     "output_type": "execute_result"
    }
   ],
   "source": [
    "np.sum(g)"
   ]
  },
  {
   "cell_type": "code",
   "execution_count": 203,
   "metadata": {},
   "outputs": [
    {
     "data": {
      "text/html": [
       "<table>\n",
       "<tbody>\n",
       "<tr><td><b>y</b></td><td><b>0</b>        </td><td><b>1</b>        </td><td><b>2</b>        </td><td><b>3</b>        </td><td><b>4</b>        </td></tr>\n",
       "<tr><td><b>a</b></td><td>8.87            </td><td>8.69            </td><td>9.02            </td><td>8.75            </td><td>10.6            </td></tr>\n",
       "<tr><td><b>b</b></td><td>-2              </td><td>-2              </td><td>-2              </td><td>-8              </td><td>2               </td></tr>\n",
       "<tr><td><b>c</b></td><td>0               </td><td>57.2            </td><td>80.9            </td><td>99.1            </td><td>114             </td></tr>\n",
       "<tr><td><b>m</b></td><td>[2850 2870 2890]</td><td>[2910 2930 2950]</td><td>[2970 2990 3010]</td><td>[3030 3050 3070]</td><td>[3090 3110 3130]</td></tr>\n",
       "</tbody>\n",
       "</table>"
      ],
      "text/plain": [
       "GridData(Grid(\n",
       "Axis(\"y\",\n",
       "points = array([0, 1, 2, 3, 4]),\n",
       "edges = edges: None)\n",
       "nbins = 5),)\n",
       "{'a': masked_array(data=[ 8.86852336,  8.68561311,  9.01737535,  8.75128111,\n",
       "                   10.5749894 ],\n",
       "             mask=False,\n",
       "       fill_value=1e+20), 'b': masked_array(data=[-2., -2., -2., -8.,  2.],\n",
       "             mask=False,\n",
       "       fill_value=1e+20), 'c': masked_array(data=[  0.        ,  57.19384186,  80.88430684,  99.06263998,\n",
       "                   114.38768371],\n",
       "             mask=False,\n",
       "       fill_value=1e+20), 'm': masked_array(\n",
       "  data=[[2850, 2870, 2890],\n",
       "        [2910, 2930, 2950],\n",
       "        [2970, 2990, 3010],\n",
       "        [3030, 3050, 3070],\n",
       "        [3090, 3110, 3130]],\n",
       "  mask=False,\n",
       "  fill_value=999999)})"
      ]
     },
     "execution_count": 203,
     "metadata": {},
     "output_type": "execute_result"
    }
   ],
   "source": [
    "np.sum(g, axis=(0))"
   ]
  },
  {
   "cell_type": "markdown",
   "metadata": {},
   "source": [
    "# Stuff to fix"
   ]
  },
  {
   "cell_type": "code",
   "execution_count": 204,
   "metadata": {},
   "outputs": [
    {
     "data": {
      "text/plain": [
       "array([14850, 14950, 15050])"
      ]
     },
     "execution_count": 204,
     "metadata": {},
     "output_type": "execute_result"
    }
   ],
   "source": [
    "np.sum(g['m'], axis=(0,1))"
   ]
  },
  {
   "cell_type": "code",
   "execution_count": 95,
   "metadata": {},
   "outputs": [
    {
     "data": {
      "text/plain": [
       "Grid(\n",
       "Axis(\"x\",\n",
       "points = array([ 0,  1,  2,  3,  4,  5,  6,  7,  8,  9, 10, 11, 12, 13, 14, 15, 16,\n",
       "       17, 18, 19]),\n",
       "edges = edges: array([[-0.5,  0.5],\n",
       "       [ 0.5,  1.5],\n",
       "       [ 1.5,  2.5],\n",
       "       [ 2.5,  3.5],\n",
       "       [ 3.5,  4.5],\n",
       "       [ 4.5,  5.5],\n",
       "       [ 5.5,  6.5],\n",
       "       [ 6.5,  7.5],\n",
       "       [ 7.5,  8.5],\n",
       "       [ 8.5,  9.5],\n",
       "       [ 9.5, 10.5],\n",
       "       [10.5, 11.5],\n",
       "       [11.5, 12.5],\n",
       "       [12.5, 13.5],\n",
       "       [13.5, 14.5],\n",
       "       [14.5, 15.5],\n",
       "       [15.5, 16.5],\n",
       "       [16.5, 17.5],\n",
       "       [17.5, 18.5],\n",
       "       [18.5, 19.5]]))\n",
       "nbins = 20),\n",
       "Axis(\"y\",\n",
       "points = array([0, 1, 2, 3, 4]),\n",
       "edges = edges: None)\n",
       "nbins = 5),)"
      ]
     },
     "execution_count": 95,
     "metadata": {},
     "output_type": "execute_result"
    }
   ],
   "source": [
    "# because of this\n",
    "np.sum(g['m'], axis=-1).grid"
   ]
  },
  {
   "cell_type": "code",
   "execution_count": 96,
   "metadata": {},
   "outputs": [
    {
     "data": {
      "text/html": [
       "<table>\n",
       "<tbody>\n",
       "<tr><td><b>y \\ x</b></td><td><b>[-0.5 | 0 | 0.5]</b></td><td><b>[0.5 | 1 | 1.5]</b></td><td><b>[1.5 | 2 | 2.5]</b></td><td><b>[2.5 | 3 | 3.5]</b></td><td><b>[3.5 | 4 | 4.5]</b></td><td><b>[4.5 | 5 | 5.5]</b></td><td>...</td><td><b>[13.5 | 14 | 14.5]</b></td><td><b>[14.5 | 15 | 15.5]</b></td><td><b>[15.5 | 16 | 16.5]</b></td><td><b>[16.5 | 17 | 17.5]</b></td><td><b>[17.5 | 18 | 18.5]</b></td><td><b>[18.5 | 19 | 19.5]</b></td></tr>\n",
       "<tr><td><b>0</b>    </td><td>3                      </td><td>48                    </td><td>93                    </td><td>138                   </td><td>183                   </td><td>228                   </td><td>...</td><td>633                      </td><td>678                      </td><td>723                      </td><td>768                      </td><td>813                      </td><td>858                      </td></tr>\n",
       "<tr><td><b>1</b>    </td><td>12                     </td><td>57                    </td><td>102                   </td><td>147                   </td><td>192                   </td><td>237                   </td><td>...</td><td>642                      </td><td>687                      </td><td>732                      </td><td>777                      </td><td>822                      </td><td>867                      </td></tr>\n",
       "<tr><td><b>2</b>    </td><td>21                     </td><td>66                    </td><td>111                   </td><td>156                   </td><td>201                   </td><td>246                   </td><td>...</td><td>651                      </td><td>696                      </td><td>741                      </td><td>786                      </td><td>831                      </td><td>876                      </td></tr>\n",
       "<tr><td><b>3</b>    </td><td>30                     </td><td>75                    </td><td>120                   </td><td>165                   </td><td>210                   </td><td>255                   </td><td>...</td><td>660                      </td><td>705                      </td><td>750                      </td><td>795                      </td><td>840                      </td><td>885                      </td></tr>\n",
       "<tr><td><b>4</b>    </td><td>39                     </td><td>84                    </td><td>129                   </td><td>174                   </td><td>219                   </td><td>264                   </td><td>...</td><td>669                      </td><td>714                      </td><td>759                      </td><td>804                      </td><td>849                      </td><td>894                      </td></tr>\n",
       "</tbody>\n",
       "</table>"
      ],
      "text/plain": [
       "GridArray(noname : [[  3  12  21  30  39]\n",
       " [ 48  57  66  75  84]\n",
       " [ 93 102 111 120 129]\n",
       " [138 147 156 165 174]\n",
       " [183 192 201 210 219]\n",
       " [228 237 246 255 264]\n",
       " [273 282 291 300 309]\n",
       " [318 327 336 345 354]\n",
       " [363 372 381 390 399]\n",
       " [408 417 426 435 444]\n",
       " [453 462 471 480 489]\n",
       " [498 507 516 525 534]\n",
       " [543 552 561 570 579]\n",
       " [588 597 606 615 624]\n",
       " [633 642 651 660 669]\n",
       " [678 687 696 705 714]\n",
       " [723 732 741 750 759]\n",
       " [768 777 786 795 804]\n",
       " [813 822 831 840 849]\n",
       " [858 867 876 885 894]])"
      ]
     },
     "execution_count": 96,
     "metadata": {},
     "output_type": "execute_result"
    }
   ],
   "source": [
    "np.sum(g['m'], axis=-1)"
   ]
  },
  {
   "cell_type": "code",
   "execution_count": null,
   "metadata": {},
   "outputs": [],
   "source": []
  },
  {
   "cell_type": "code",
   "execution_count": 97,
   "metadata": {},
   "outputs": [
    {
     "data": {
      "text/html": [
       "<table>\n",
       "<tbody>\n",
       "<tr><td><b>y \\ x</b></td><td><b>[-0.5 | 0 | 0.5]</b></td><td><b>[0.5 | 1 | 1.5]</b></td><td><b>[1.5 | 2 | 2.5]</b></td><td><b>[2.5 | 3 | 3.5]</b></td><td><b>[3.5 | 4 | 4.5]</b></td><td><b>[4.5 | 5 | 5.5]</b></td><td>...</td><td><b>[13.5 | 14 | 14.5]</b></td><td><b>[14.5 | 15 | 15.5]</b></td><td><b>[15.5 | 16 | 16.5]</b></td><td><b>[16.5 | 17 | 17.5]</b></td><td><b>[17.5 | 18 | 18.5]</b></td><td><b>[18.5 | 19 | 19.5]</b></td></tr>\n",
       "<tr><td><b>0</b>    </td><td>-0.627                 </td><td>0.732                 </td><td>-0.21                 </td><td>0.296                 </td><td>-1.66                 </td><td>-0.00334              </td><td>...</td><td>-0.46                    </td><td>-1.73                    </td><td>-1.57                    </td><td>0.153                    </td><td>-0.909                   </td><td>0.606                    </td></tr>\n",
       "<tr><td><b>1</b>    </td><td>-0.576                 </td><td>-1.68                 </td><td>-0.488                </td><td>0.802                 </td><td>-0.321                </td><td>-1.57                 </td><td>...</td><td>-0.17                    </td><td>0.635                    </td><td>0.708                    </td><td>-1.09                    </td><td>0.595                    </td><td>0.719                    </td></tr>\n",
       "<tr><td><b>2</b>    </td><td>-1.47                  </td><td>-1.09                 </td><td>0.364                 </td><td>-0.83                 </td><td>-1.18                 </td><td>-0.246                </td><td>...</td><td>0.746                    </td><td>-1.79                    </td><td>-0.417                   </td><td>0.634                    </td><td>-0.697                   </td><td>0.476                    </td></tr>\n",
       "<tr><td><b>3</b>    </td><td>0.719                  </td><td>0.493                 </td><td>-1.52                 </td><td>-1.2                  </td><td>-0.351                </td><td>0.0131                </td><td>...</td><td>0.19                     </td><td>-0.0143                  </td><td>0.722                    </td><td>0.0767                   </td><td>-0.811                   </td><td>-1.11                    </td></tr>\n",
       "<tr><td><b>4</b>    </td><td>-1.95                  </td><td>0.439                 </td><td>-1.75                 </td><td>-1.9                  </td><td>-1.2                  </td><td>-0.987                </td><td>...</td><td>-0.337                   </td><td>-0.711                   </td><td>-1.46                    </td><td>-1.1                     </td><td>-0.348                   </td><td>-0.957                   </td></tr>\n",
       "</tbody>\n",
       "</table>"
      ],
      "text/plain": [
       "GridArray(noname : [[-0.62674129 -0.5755391  -1.46724811  0.71874254 -1.94645199]\n",
       " [ 0.73248016 -1.68382497 -1.08774141  0.49275898  0.43871212]\n",
       " [-0.20954374 -0.48849394  0.36427776 -1.51574812 -1.75169037]\n",
       " [ 0.29588316  0.80186997 -0.82950743 -1.20122019 -1.90463338]\n",
       " [-1.66451119 -0.32117924 -1.18083008 -0.35114915 -1.19521558]\n",
       " [-0.0033386  -1.57044592 -0.24585458  0.01313077 -0.98747244]\n",
       " [ 0.00615389 -1.24183723 -0.27681121  0.58368629 -1.46680002]\n",
       " [ 0.85406857  0.04698923 -1.34964254  0.99074707  0.29181439]\n",
       " [-1.2613695  -1.1908965  -0.56728056 -0.00238664 -0.99804959]\n",
       " [ 0.00602767 -1.68488037  0.00605133 -0.60508542 -1.19780688]\n",
       " [-1.32547914  0.4295947  -1.10232056 -0.42867352 -0.63566722]\n",
       " [-1.0393682  -1.03918133  0.96390601 -1.5211659  -1.88132687]\n",
       " [-1.1143081   0.91267981 -1.52549607 -1.41144823  0.37843111]\n",
       " [-1.28155182  0.75912668 -0.00726452  0.66550536 -0.51922312]\n",
       " [-0.46006387 -0.16964223  0.74601803  0.18957647 -0.33743727]\n",
       " [-1.72783453  0.63549517 -1.78872073 -0.01428294 -0.71137078]\n",
       " [-1.57287116  0.70789059 -0.4169129   0.72158977 -1.45970653]\n",
       " [ 0.1527093  -1.09356848  0.63448614  0.0767239  -1.09625053]\n",
       " [-0.9088325   0.59506689 -0.6965601  -0.81076911 -0.34759256]\n",
       " [ 0.6062023   0.71863319  0.47557618 -1.10678807 -0.95729054]])"
      ]
     },
     "execution_count": 97,
     "metadata": {},
     "output_type": "execute_result"
    }
   ],
   "source": [
    "1 - 3 * g['a']"
   ]
  },
  {
   "cell_type": "code",
   "execution_count": 98,
   "metadata": {},
   "outputs": [
    {
     "data": {
      "text/plain": [
       "4"
      ]
     },
     "execution_count": 98,
     "metadata": {},
     "output_type": "execute_result"
    }
   ],
   "source": [
    "2 ** g['a']"
   ]
  },
  {
   "cell_type": "code",
   "execution_count": 99,
   "metadata": {},
   "outputs": [
    {
     "data": {
      "text/html": [
       "<table>\n",
       "<tbody>\n",
       "<tr><td><b>y \\ x</b></td><td><b>[-0.5 | 0 | 0.5]</b></td><td><b>[0.5 | 1 | 1.5]</b></td><td><b>[1.5 | 2 | 2.5]</b></td><td><b>[2.5 | 3 | 3.5]</b></td><td><b>[3.5 | 4 | 4.5]</b></td><td><b>[4.5 | 5 | 5.5]</b></td><td>...</td><td><b>[13.5 | 14 | 14.5]</b></td><td><b>[14.5 | 15 | 15.5]</b></td><td><b>[15.5 | 16 | 16.5]</b></td><td><b>[16.5 | 17 | 17.5]</b></td><td><b>[17.5 | 18 | 18.5]</b></td><td><b>[18.5 | 19 | 19.5]</b></td></tr>\n",
       "<tr><td><b>0</b>    </td><td>0.542                  </td><td>0.0892                </td><td>0.403                 </td><td>0.235                 </td><td>0.888                 </td><td>0.334                 </td><td>...</td><td>0.487                    </td><td>0.909                    </td><td>0.858                    </td><td>0.282                    </td><td>0.636                    </td><td>0.131                    </td></tr>\n",
       "<tr><td><b>1</b>    </td><td>0.525                  </td><td>0.895                 </td><td>0.496                 </td><td>0.066                 </td><td>0.44                  </td><td>0.857                 </td><td>...</td><td>0.39                     </td><td>0.122                    </td><td>0.0974                   </td><td>0.698                    </td><td>0.135                    </td><td>0.0938                   </td></tr>\n",
       "<tr><td><b>2</b>    </td><td>0.822                  </td><td>0.696                 </td><td>0.212                 </td><td>0.61                  </td><td>0.727                 </td><td>0.415                 </td><td>...</td><td>0.0847                   </td><td>0.93                     </td><td>0.472                    </td><td>0.122                    </td><td>0.566                    </td><td>0.175                    </td></tr>\n",
       "<tr><td><b>3</b>    </td><td>0.0938                 </td><td>0.169                 </td><td>0.839                 </td><td>0.734                 </td><td>0.45                  </td><td>0.329                 </td><td>...</td><td>0.27                     </td><td>0.338                    </td><td>0.0928                   </td><td>0.308                    </td><td>0.604                    </td><td>0.702                    </td></tr>\n",
       "<tr><td><b>4</b>    </td><td>0.982                  </td><td>0.187                 </td><td>0.917                 </td><td>0.968                 </td><td>0.732                 </td><td>0.662                 </td><td>...</td><td>0.446                    </td><td>0.57                     </td><td>0.82                     </td><td>0.699                    </td><td>0.449                    </td><td>0.652                    </td></tr>\n",
       "</tbody>\n",
       "</table>"
      ],
      "text/plain": [
       "GridArray(noname : [[0.5422471  0.5251797  0.82241604 0.09375249 0.98215066]\n",
       " [0.08917328 0.89460832 0.6959138  0.16908034 0.18709596]\n",
       " [0.40318125 0.49616465 0.21190741 0.83858271 0.91723012]\n",
       " [0.23470561 0.06604334 0.60983581 0.73374006 0.96821113]\n",
       " [0.8881704  0.44039308 0.72694336 0.45038305 0.73173853]\n",
       " [0.3344462  0.85681531 0.41528486 0.32895641 0.66249081]\n",
       " [0.33128204 0.74727908 0.42560374 0.13877124 0.82226667]\n",
       " [0.04864381 0.31767026 0.78321418 0.00308431 0.23606187]\n",
       " [0.75378983 0.73029883 0.52242685 0.33412888 0.66601653]\n",
       " [0.33132411 0.89496012 0.33131622 0.53502847 0.73260229]\n",
       " [0.77515971 0.1901351  0.70077352 0.47622451 0.54522241]\n",
       " [0.6797894  0.67972711 0.01203133 0.84038863 0.96044229]\n",
       " [0.70476937 0.02910673 0.84183202 0.80381608 0.20718963]\n",
       " [0.76051727 0.08029111 0.33575484 0.11149821 0.50640771]\n",
       " [0.48668796 0.38988074 0.08466066 0.27014118 0.44581242]\n",
       " [0.90927818 0.12150161 0.92957358 0.33809431 0.57045693]\n",
       " [0.85762372 0.0973698  0.4723043  0.09280341 0.81990218]\n",
       " [0.28243023 0.69785616 0.12183795 0.3077587  0.69875018]\n",
       " [0.6362775  0.1349777  0.56552003 0.6035897  0.44919752]\n",
       " [0.1312659  0.09378894 0.17480794 0.70226269 0.65243018]])"
      ]
     },
     "execution_count": 99,
     "metadata": {},
     "output_type": "execute_result"
    }
   ],
   "source": [
    "g['a']"
   ]
  },
  {
   "cell_type": "code",
   "execution_count": null,
   "metadata": {},
   "outputs": [],
   "source": []
  },
  {
   "cell_type": "code",
   "execution_count": 100,
   "metadata": {},
   "outputs": [
    {
     "data": {
      "text/html": [
       "<table>\n",
       "<tbody>\n",
       "<tr><td><b>y \\ x</b></td><td><b>[-0.5 | 0 | 0.5]</b></td><td><b>[0.5 | 1 | 1.5]</b></td><td><b>[1.5 | 2 | 2.5]</b></td><td><b>[2.5 | 3 | 3.5]</b></td><td><b>[3.5 | 4 | 4.5]</b></td><td><b>[4.5 | 5 | 5.5]</b></td><td>...</td><td><b>[13.5 | 14 | 14.5]</b></td><td><b>[14.5 | 15 | 15.5]</b></td><td><b>[15.5 | 16 | 16.5]</b></td><td><b>[16.5 | 17 | 17.5]</b></td><td><b>[17.5 | 18 | 18.5]</b></td><td><b>[18.5 | 19 | 19.5]</b></td></tr>\n",
       "<tr><td><b>0</b>    </td><td>0.542                  </td><td>0.0892                </td><td>0.403                 </td><td>0.235                 </td><td>0.888                 </td><td>0.334                 </td><td>...</td><td>0.487                    </td><td>0.909                    </td><td>0.858                    </td><td>0.282                    </td><td>0.636                    </td><td>0.131                    </td></tr>\n",
       "<tr><td><b>1</b>    </td><td>0.525                  </td><td>0.895                 </td><td>0.496                 </td><td>0.066                 </td><td>0.44                  </td><td>0.857                 </td><td>...</td><td>0.39                     </td><td>0.122                    </td><td>0.0974                   </td><td>0.698                    </td><td>0.135                    </td><td>0.0938                   </td></tr>\n",
       "<tr><td><b>2</b>    </td><td>0.822                  </td><td>0.696                 </td><td>0.212                 </td><td>0.61                  </td><td>0.727                 </td><td>0.415                 </td><td>...</td><td>0.0847                   </td><td>0.93                     </td><td>0.472                    </td><td>0.122                    </td><td>0.566                    </td><td>0.175                    </td></tr>\n",
       "<tr><td><b>3</b>    </td><td>0.0938                 </td><td>0.169                 </td><td>0.839                 </td><td>0.734                 </td><td>0.45                  </td><td>0.329                 </td><td>...</td><td>0.27                     </td><td>0.338                    </td><td>0.0928                   </td><td>0.308                    </td><td>0.604                    </td><td>0.702                    </td></tr>\n",
       "<tr><td><b>4</b>    </td><td>0.982                  </td><td>0.187                 </td><td>0.917                 </td><td>0.968                 </td><td>0.732                 </td><td>0.662                 </td><td>...</td><td>0.446                    </td><td>0.57                     </td><td>0.82                     </td><td>0.699                    </td><td>0.449                    </td><td>0.652                    </td></tr>\n",
       "</tbody>\n",
       "</table>"
      ],
      "text/plain": [
       "GridArray(noname : [[0.5422471  0.5251797  0.82241604 0.09375249 0.98215066]\n",
       " [0.08917328 0.89460832 0.6959138  0.16908034 0.18709596]\n",
       " [0.40318125 0.49616465 0.21190741 0.83858271 0.91723012]\n",
       " [0.23470561 0.06604334 0.60983581 0.73374006 0.96821113]\n",
       " [0.8881704  0.44039308 0.72694336 0.45038305 0.73173853]\n",
       " [0.3344462  0.85681531 0.41528486 0.32895641 0.66249081]\n",
       " [0.33128204 0.74727908 0.42560374 0.13877124 0.82226667]\n",
       " [0.04864381 0.31767026 0.78321418 0.00308431 0.23606187]\n",
       " [0.75378983 0.73029883 0.52242685 0.33412888 0.66601653]\n",
       " [0.33132411 0.89496012 0.33131622 0.53502847 0.73260229]\n",
       " [0.77515971 0.1901351  0.70077352 0.47622451 0.54522241]\n",
       " [0.6797894  0.67972711 0.01203133 0.84038863 0.96044229]\n",
       " [0.70476937 0.02910673 0.84183202 0.80381608 0.20718963]\n",
       " [0.76051727 0.08029111 0.33575484 0.11149821 0.50640771]\n",
       " [0.48668796 0.38988074 0.08466066 0.27014118 0.44581242]\n",
       " [0.90927818 0.12150161 0.92957358 0.33809431 0.57045693]\n",
       " [0.85762372 0.0973698  0.4723043  0.09280341 0.81990218]\n",
       " [0.28243023 0.69785616 0.12183795 0.3077587  0.69875018]\n",
       " [0.6362775  0.1349777  0.56552003 0.6035897  0.44919752]\n",
       " [0.1312659  0.09378894 0.17480794 0.70226269 0.65243018]])"
      ]
     },
     "execution_count": 100,
     "metadata": {},
     "output_type": "execute_result"
    }
   ],
   "source": [
    "g['a']"
   ]
  },
  {
   "cell_type": "code",
   "execution_count": 101,
   "metadata": {},
   "outputs": [],
   "source": [
    "a = g['a']"
   ]
  },
  {
   "cell_type": "code",
   "execution_count": 102,
   "metadata": {},
   "outputs": [
    {
     "data": {
      "text/html": [
       "<table>\n",
       "<tbody>\n",
       "<tr><td><b>y \\ x</b></td><td><b>[-0.5 | 0 | 0.5]</b></td><td><b>[0.5 | 1 | 1.5]</b></td><td><b>[1.5 | 2 | 2.5]</b></td><td><b>[2.5 | 3 | 3.5]</b></td><td><b>[3.5 | 4 | 4.5]</b></td><td><b>[4.5 | 5 | 5.5]</b></td><td>...</td><td><b>[13.5 | 14 | 14.5]</b></td><td><b>[14.5 | 15 | 15.5]</b></td><td><b>[15.5 | 16 | 16.5]</b></td><td><b>[16.5 | 17 | 17.5]</b></td><td><b>[17.5 | 18 | 18.5]</b></td><td><b>[18.5 | 19 | 19.5]</b></td></tr>\n",
       "<tr><td><b>0</b>    </td><td>0.542                  </td><td>0.0892                </td><td>0.403                 </td><td>0.235                 </td><td>0.888                 </td><td>0.334                 </td><td>...</td><td>0.487                    </td><td>0.909                    </td><td>0.858                    </td><td>0.282                    </td><td>0.636                    </td><td>0.131                    </td></tr>\n",
       "<tr><td><b>1</b>    </td><td>0.525                  </td><td>0.895                 </td><td>0.496                 </td><td>0.066                 </td><td>0.44                  </td><td>0.857                 </td><td>...</td><td>0.39                     </td><td>0.122                    </td><td>0.0974                   </td><td>0.698                    </td><td>0.135                    </td><td>0.0938                   </td></tr>\n",
       "<tr><td><b>2</b>    </td><td>0.822                  </td><td>0.696                 </td><td>0.212                 </td><td>0.61                  </td><td>0.727                 </td><td>0.415                 </td><td>...</td><td>0.0847                   </td><td>0.93                     </td><td>0.472                    </td><td>0.122                    </td><td>0.566                    </td><td>0.175                    </td></tr>\n",
       "<tr><td><b>3</b>    </td><td>0.0938                 </td><td>0.169                 </td><td>0.839                 </td><td>0.734                 </td><td>0.45                  </td><td>0.329                 </td><td>...</td><td>0.27                     </td><td>0.338                    </td><td>0.0928                   </td><td>0.308                    </td><td>0.604                    </td><td>0.702                    </td></tr>\n",
       "<tr><td><b>4</b>    </td><td>0.982                  </td><td>0.187                 </td><td>0.917                 </td><td>0.968                 </td><td>0.732                 </td><td>0.662                 </td><td>...</td><td>0.446                    </td><td>0.57                     </td><td>0.82                     </td><td>0.699                    </td><td>0.449                    </td><td>0.652                    </td></tr>\n",
       "</tbody>\n",
       "</table>"
      ],
      "text/plain": [
       "GridArray(noname : [[0.5422471  0.5251797  0.82241604 0.09375249 0.98215066]\n",
       " [0.08917328 0.89460832 0.6959138  0.16908034 0.18709596]\n",
       " [0.40318125 0.49616465 0.21190741 0.83858271 0.91723012]\n",
       " [0.23470561 0.06604334 0.60983581 0.73374006 0.96821113]\n",
       " [0.8881704  0.44039308 0.72694336 0.45038305 0.73173853]\n",
       " [0.3344462  0.85681531 0.41528486 0.32895641 0.66249081]\n",
       " [0.33128204 0.74727908 0.42560374 0.13877124 0.82226667]\n",
       " [0.04864381 0.31767026 0.78321418 0.00308431 0.23606187]\n",
       " [0.75378983 0.73029883 0.52242685 0.33412888 0.66601653]\n",
       " [0.33132411 0.89496012 0.33131622 0.53502847 0.73260229]\n",
       " [0.77515971 0.1901351  0.70077352 0.47622451 0.54522241]\n",
       " [0.6797894  0.67972711 0.01203133 0.84038863 0.96044229]\n",
       " [0.70476937 0.02910673 0.84183202 0.80381608 0.20718963]\n",
       " [0.76051727 0.08029111 0.33575484 0.11149821 0.50640771]\n",
       " [0.48668796 0.38988074 0.08466066 0.27014118 0.44581242]\n",
       " [0.90927818 0.12150161 0.92957358 0.33809431 0.57045693]\n",
       " [0.85762372 0.0973698  0.4723043  0.09280341 0.81990218]\n",
       " [0.28243023 0.69785616 0.12183795 0.3077587  0.69875018]\n",
       " [0.6362775  0.1349777  0.56552003 0.6035897  0.44919752]\n",
       " [0.1312659  0.09378894 0.17480794 0.70226269 0.65243018]])"
      ]
     },
     "execution_count": 102,
     "metadata": {},
     "output_type": "execute_result"
    }
   ],
   "source": [
    "a"
   ]
  },
  {
   "cell_type": "code",
   "execution_count": 103,
   "metadata": {},
   "outputs": [
    {
     "data": {
      "text/html": [
       "<table>\n",
       "<tbody>\n",
       "<tr><td><b>y</b></td><td><b>0</b></td><td><b>1</b></td><td><b>2</b></td><td><b>3</b></td><td><b>4</b></td></tr>\n",
       "<tr><td><b></b> </td><td>0.509   </td><td>0.424   </td><td>0.489   </td><td>0.409   </td><td>0.638   </td></tr>\n",
       "</tbody>\n",
       "</table>"
      ],
      "text/plain": [
       "GridArray(noname : [0.50903814 0.42420238 0.48919792 0.40860427 0.6380838 ])"
      ]
     },
     "execution_count": 103,
     "metadata": {},
     "output_type": "execute_result"
    }
   ],
   "source": [
    "np.mean(a, axis='x')"
   ]
  },
  {
   "cell_type": "code",
   "execution_count": 123,
   "metadata": {},
   "outputs": [
    {
     "name": "stdout",
     "output_type": "stream",
     "text": [
      "getitem:  (0, 0)\n",
      "tuple:  (0, 0)\n",
      "getitem:  (1, 0)\n",
      "tuple:  (1, 0)\n",
      "getitem:  (2, 0)\n",
      "tuple:  (2, 0)\n",
      "getitem:  (3, 0)\n",
      "tuple:  (3, 0)\n",
      "getitem:  (4, 0)\n",
      "tuple:  (4, 0)\n",
      "getitem:  (5, 0)\n",
      "tuple:  (5, 0)\n",
      "getitem:  (14, 0)\n",
      "tuple:  (14, 0)\n",
      "getitem:  (15, 0)\n",
      "tuple:  (15, 0)\n",
      "getitem:  (16, 0)\n",
      "tuple:  (16, 0)\n",
      "getitem:  (17, 0)\n",
      "tuple:  (17, 0)\n",
      "getitem:  (18, 0)\n",
      "tuple:  (18, 0)\n",
      "getitem:  (19, 0)\n",
      "tuple:  (19, 0)\n",
      "getitem:  (0, 1)\n",
      "tuple:  (0, 1)\n",
      "getitem:  (1, 1)\n",
      "tuple:  (1, 1)\n",
      "getitem:  (2, 1)\n",
      "tuple:  (2, 1)\n",
      "getitem:  (3, 1)\n",
      "tuple:  (3, 1)\n",
      "getitem:  (4, 1)\n",
      "tuple:  (4, 1)\n",
      "getitem:  (5, 1)\n",
      "tuple:  (5, 1)\n",
      "getitem:  (14, 1)\n",
      "tuple:  (14, 1)\n",
      "getitem:  (15, 1)\n",
      "tuple:  (15, 1)\n",
      "getitem:  (16, 1)\n",
      "tuple:  (16, 1)\n",
      "getitem:  (17, 1)\n",
      "tuple:  (17, 1)\n",
      "getitem:  (18, 1)\n",
      "tuple:  (18, 1)\n",
      "getitem:  (19, 1)\n",
      "tuple:  (19, 1)\n",
      "getitem:  (0, 2)\n",
      "tuple:  (0, 2)\n",
      "getitem:  (1, 2)\n",
      "tuple:  (1, 2)\n",
      "getitem:  (2, 2)\n",
      "tuple:  (2, 2)\n",
      "getitem:  (3, 2)\n",
      "tuple:  (3, 2)\n",
      "getitem:  (4, 2)\n",
      "tuple:  (4, 2)\n",
      "getitem:  (5, 2)\n",
      "tuple:  (5, 2)\n",
      "getitem:  (14, 2)\n",
      "tuple:  (14, 2)\n",
      "getitem:  (15, 2)\n",
      "tuple:  (15, 2)\n",
      "getitem:  (16, 2)\n",
      "tuple:  (16, 2)\n",
      "getitem:  (17, 2)\n",
      "tuple:  (17, 2)\n",
      "getitem:  (18, 2)\n",
      "tuple:  (18, 2)\n",
      "getitem:  (19, 2)\n",
      "tuple:  (19, 2)\n",
      "getitem:  (0, 3)\n",
      "tuple:  (0, 3)\n",
      "getitem:  (1, 3)\n",
      "tuple:  (1, 3)\n",
      "getitem:  (2, 3)\n",
      "tuple:  (2, 3)\n",
      "getitem:  (3, 3)\n",
      "tuple:  (3, 3)\n",
      "getitem:  (4, 3)\n",
      "tuple:  (4, 3)\n",
      "getitem:  (5, 3)\n",
      "tuple:  (5, 3)\n",
      "getitem:  (14, 3)\n",
      "tuple:  (14, 3)\n",
      "getitem:  (15, 3)\n",
      "tuple:  (15, 3)\n",
      "getitem:  (16, 3)\n",
      "tuple:  (16, 3)\n",
      "getitem:  (17, 3)\n",
      "tuple:  (17, 3)\n",
      "getitem:  (18, 3)\n",
      "tuple:  (18, 3)\n",
      "getitem:  (19, 3)\n",
      "tuple:  (19, 3)\n",
      "getitem:  (0, 4)\n",
      "tuple:  (0, 4)\n",
      "getitem:  (1, 4)\n",
      "tuple:  (1, 4)\n",
      "getitem:  (2, 4)\n",
      "tuple:  (2, 4)\n",
      "getitem:  (3, 4)\n",
      "tuple:  (3, 4)\n",
      "getitem:  (4, 4)\n",
      "tuple:  (4, 4)\n",
      "getitem:  (5, 4)\n",
      "tuple:  (5, 4)\n",
      "getitem:  (14, 4)\n",
      "tuple:  (14, 4)\n",
      "getitem:  (15, 4)\n",
      "tuple:  (15, 4)\n",
      "getitem:  (16, 4)\n",
      "tuple:  (16, 4)\n",
      "getitem:  (17, 4)\n",
      "tuple:  (17, 4)\n",
      "getitem:  (18, 4)\n",
      "tuple:  (18, 4)\n",
      "getitem:  (19, 4)\n",
      "tuple:  (19, 4)\n"
     ]
    },
    {
     "data": {
      "text/html": [
       "<table>\n",
       "<tbody>\n",
       "<tr><td><b>y \\ x</b></td><td><b>[-0.5 | 0 | 0.5]</b></td><td><b>[0.5 | 1 | 1.5]</b></td><td><b>[1.5 | 2 | 2.5]</b></td><td><b>[2.5 | 3 | 3.5]</b></td><td><b>[3.5 | 4 | 4.5]</b></td><td><b>[4.5 | 5 | 5.5]</b></td><td>...</td><td><b>[13.5 | 14 | 14.5]</b></td><td><b>[14.5 | 15 | 15.5]</b></td><td><b>[15.5 | 16 | 16.5]</b></td><td><b>[16.5 | 17 | 17.5]</b></td><td><b>[17.5 | 18 | 18.5]</b></td><td><b>[18.5 | 19 | 19.5]</b></td></tr>\n",
       "<tr><td><b>0</b>    </td><td>0.542                  </td><td>0.0892                </td><td>0.403                 </td><td>0.235                 </td><td>0.888                 </td><td>0.334                 </td><td>...</td><td>0.487                    </td><td>0.909                    </td><td>0.858                    </td><td>0.282                    </td><td>0.636                    </td><td>0.131                    </td></tr>\n",
       "<tr><td><b>1</b>    </td><td>0.525                  </td><td>0.895                 </td><td>0.496                 </td><td>0.066                 </td><td>0.44                  </td><td>0.857                 </td><td>...</td><td>0.39                     </td><td>0.122                    </td><td>0.0974                   </td><td>0.698                    </td><td>0.135                    </td><td>0.0938                   </td></tr>\n",
       "<tr><td><b>2</b>    </td><td>0.822                  </td><td>0.696                 </td><td>0.212                 </td><td>0.61                  </td><td>0.727                 </td><td>0.415                 </td><td>...</td><td>0.0847                   </td><td>0.93                     </td><td>0.472                    </td><td>0.122                    </td><td>0.566                    </td><td>0.175                    </td></tr>\n",
       "<tr><td><b>3</b>    </td><td>0.0938                 </td><td>0.169                 </td><td>0.839                 </td><td>0.734                 </td><td>0.45                  </td><td>0.329                 </td><td>...</td><td>0.27                     </td><td>0.338                    </td><td>0.0928                   </td><td>0.308                    </td><td>0.604                    </td><td>0.702                    </td></tr>\n",
       "<tr><td><b>4</b>    </td><td>0.982                  </td><td>0.187                 </td><td>0.917                 </td><td>0.968                 </td><td>0.732                 </td><td>0.662                 </td><td>...</td><td>0.446                    </td><td>0.57                     </td><td>0.82                     </td><td>0.699                    </td><td>0.449                    </td><td>0.652                    </td></tr>\n",
       "</tbody>\n",
       "</table>"
      ],
      "text/plain": [
       "GridArray(noname : [[0.5422471  0.5251797  0.82241604 0.09375249 0.98215066]\n",
       " [0.08917328 0.89460832 0.6959138  0.16908034 0.18709596]\n",
       " [0.40318125 0.49616465 0.21190741 0.83858271 0.91723012]\n",
       " [0.23470561 0.06604334 0.60983581 0.73374006 0.96821113]\n",
       " [0.8881704  0.44039308 0.72694336 0.45038305 0.73173853]\n",
       " [0.3344462  0.85681531 0.41528486 0.32895641 0.66249081]\n",
       " [0.33128204 0.74727908 0.42560374 0.13877124 0.82226667]\n",
       " [0.04864381 0.31767026 0.78321418 0.00308431 0.23606187]\n",
       " [0.75378983 0.73029883 0.52242685 0.33412888 0.66601653]\n",
       " [0.33132411 0.89496012 0.33131622 0.53502847 0.73260229]\n",
       " [0.77515971 0.1901351  0.70077352 0.47622451 0.54522241]\n",
       " [0.6797894  0.67972711 0.01203133 0.84038863 0.96044229]\n",
       " [0.70476937 0.02910673 0.84183202 0.80381608 0.20718963]\n",
       " [0.76051727 0.08029111 0.33575484 0.11149821 0.50640771]\n",
       " [0.48668796 0.38988074 0.08466066 0.27014118 0.44581242]\n",
       " [0.90927818 0.12150161 0.92957358 0.33809431 0.57045693]\n",
       " [0.85762372 0.0973698  0.4723043  0.09280341 0.81990218]\n",
       " [0.28243023 0.69785616 0.12183795 0.3077587  0.69875018]\n",
       " [0.6362775  0.1349777  0.56552003 0.6035897  0.44919752]\n",
       " [0.1312659  0.09378894 0.17480794 0.70226269 0.65243018]])"
      ]
     },
     "execution_count": 123,
     "metadata": {},
     "output_type": "execute_result"
    }
   ],
   "source": [
    "a"
   ]
  },
  {
   "cell_type": "code",
   "execution_count": 105,
   "metadata": {},
   "outputs": [],
   "source": [
    "from scipy import ndimage"
   ]
  },
  {
   "cell_type": "code",
   "execution_count": 124,
   "metadata": {},
   "outputs": [
    {
     "data": {
      "text/plain": [
       "array([[0.48674327, 0.56574717, 0.55728553, 0.5024945 , 0.57092611],\n",
       "       [0.42654335, 0.52035822, 0.53768423, 0.51211106, 0.55215539],\n",
       "       [0.3814099 , 0.44554898, 0.51748215, 0.602747  , 0.68157849],\n",
       "       [0.41635426, 0.43843719, 0.526917  , 0.65442259, 0.75812448],\n",
       "       [0.51705963, 0.51813878, 0.54082536, 0.59754314, 0.68273479],\n",
       "       [0.51390571, 0.54446189, 0.51249106, 0.50359762, 0.58463057],\n",
       "       [0.42695834, 0.49720535, 0.46910709, 0.42544587, 0.49139874],\n",
       "       [0.41594678, 0.48490434, 0.46628928, 0.40110241, 0.42963418],\n",
       "       [0.51611504, 0.54430275, 0.50512423, 0.4616172 , 0.49652738],\n",
       "       [0.56869438, 0.56190327, 0.52584254, 0.5313643 , 0.58636474],\n",
       "       [0.58431319, 0.53146069, 0.51543061, 0.57323295, 0.63563382],\n",
       "       [0.5853069 , 0.5001336 , 0.50185181, 0.58867641, 0.63659468],\n",
       "       [0.54952837, 0.44931705, 0.45704048, 0.51626019, 0.52324802],\n",
       "       [0.51759057, 0.39689236, 0.36435185, 0.39539546, 0.42252005],\n",
       "       [0.5299941 , 0.40754521, 0.35169658, 0.37191515, 0.42643664],\n",
       "       [0.57544027, 0.45273527, 0.40469094, 0.42437615, 0.49277896],\n",
       "       [0.55362696, 0.44576514, 0.39602335, 0.43593523, 0.54247837],\n",
       "       [0.46765831, 0.4076767 , 0.3829433 , 0.44489662, 0.5478652 ],\n",
       "       [0.36390012, 0.33979124, 0.38503943, 0.48729426, 0.556938  ],\n",
       "       [0.24950115, 0.25128906, 0.35803307, 0.51626153, 0.59091747]])"
      ]
     },
     "execution_count": 124,
     "metadata": {},
     "output_type": "execute_result"
    }
   ],
   "source": [
    "ndimage.gaussian_filter(a, sigma=1)"
   ]
  },
  {
   "cell_type": "code",
   "execution_count": 134,
   "metadata": {},
   "outputs": [
    {
     "data": {
      "text/html": [
       "<table>\n",
       "<tbody>\n",
       "<tr><td><b>y</b></td><td><b>0</b></td><td><b>1</b></td><td><b>2</b></td><td><b>3</b></td><td><b>4</b></td></tr>\n",
       "<tr><td><b></b> </td><td>0.514   </td><td>0.415   </td><td>0.497   </td><td>0.336   </td><td>0.664   </td></tr>\n",
       "</tbody>\n",
       "</table>"
      ],
      "text/plain": [
       "GridArray(noname : [0.51446753 0.41513691 0.49736558 0.3361116  0.66425367])"
      ]
     },
     "execution_count": 134,
     "metadata": {},
     "output_type": "execute_result"
    }
   ],
   "source": [
    "a.median(axis='x')"
   ]
  },
  {
   "cell_type": "code",
   "execution_count": 138,
   "metadata": {},
   "outputs": [
    {
     "data": {
      "text/html": [
       "<table>\n",
       "<tbody>\n",
       "<tr><td><b>y</b></td><td><b>0</b>                     </td><td><b>1</b>                     </td><td><b>2</b>                     </td><td><b>3</b>                     </td><td><b>4</b>                     </td><td>                             </td><td>   </td><td>                             </td><td>                                 </td><td>                                 </td><td>                                 </td><td>                                 </td><td>                                 </td></tr>\n",
       "<tr><td><b></b> </td><td>[0.542 0.525 ... 0.094 0.982]</td><td>[0.631 1.42  ... 0.263 1.169]</td><td>[1.035 1.916 ... 1.101 2.086]</td><td>[1.269 1.982 ... 1.835 3.055]</td><td>[2.157 2.422 ... 2.286 3.786]</td><td>[2.492 3.279 ... 2.614 4.449]</td><td>...</td><td>[7.364 7.339 ... 6.128 9.571]</td><td>[ 8.273  7.46  ...  6.466 10.141]</td><td>[ 9.131  7.557 ...  6.558 10.961]</td><td>[ 9.413  8.255 ...  6.866 11.66 ]</td><td>[10.049  8.39  ...  7.47  12.109]</td><td>[10.181  8.484 ...  8.172 12.762]</td></tr>\n",
       "</tbody>\n",
       "</table>"
      ],
      "text/plain": [
       "GridArray(noname : [[ 0.5422471   0.5251797   0.82241604  0.09375249  0.98215066]\n",
       " [ 0.63142038  1.41978802  1.51832984  0.26283283  1.16924662]\n",
       " [ 1.03460162  1.91595267  1.73023725  1.10141554  2.08647675]\n",
       " [ 1.26930724  1.98199601  2.34007306  1.8351556   3.05468787]\n",
       " [ 2.15747764  2.42238909  3.06701643  2.28553865  3.7864264 ]\n",
       " [ 2.49192383  3.2792044   3.48230129  2.61449506  4.44891721]\n",
       " [ 2.82320587  4.02648348  3.90790502  2.7532663   5.27118389]\n",
       " [ 2.87184968  4.34415373  4.6911192   2.75635061  5.50724576]\n",
       " [ 3.62563952  5.07445257  5.21354605  3.09047949  6.17326229]\n",
       " [ 3.95696362  5.96941269  5.54486228  3.62550796  6.90586458]\n",
       " [ 4.73212334  6.15954779  6.2456358   4.10173247  7.45108699]\n",
       " [ 5.41191274  6.8392749   6.25766713  4.9421211   8.41152928]\n",
       " [ 6.11668211  6.86838163  7.09949915  5.74593718  8.61871891]\n",
       " [ 6.87719938  6.94867274  7.43525399  5.85743539  9.12512662]\n",
       " [ 7.36388734  7.33855348  7.51991465  6.12757656  9.57093904]\n",
       " [ 8.27316551  7.46005509  8.44948822  6.46567088 10.14139597]\n",
       " [ 9.13078923  7.55742489  8.92179252  6.55847429 10.96129814]\n",
       " [ 9.41321947  8.25528105  9.04363048  6.86623299 11.66004832]\n",
       " [10.04949697  8.39025876  9.60915051  7.46982269 12.10924584]\n",
       " [10.18076287  8.48404769  9.78395845  8.17208538 12.76167602]])"
      ]
     },
     "execution_count": 138,
     "metadata": {},
     "output_type": "execute_result"
    }
   ],
   "source": [
    "np.cumsum(a, axis=0)"
   ]
  },
  {
   "cell_type": "code",
   "execution_count": 139,
   "metadata": {},
   "outputs": [
    {
     "data": {
      "text/plain": [
       "dtype('float64')"
      ]
     },
     "execution_count": 139,
     "metadata": {},
     "output_type": "execute_result"
    }
   ],
   "source": [
    "a.dtype"
   ]
  },
  {
   "cell_type": "code",
   "execution_count": 142,
   "metadata": {},
   "outputs": [
    {
     "data": {
      "text/html": [
       "<table>\n",
       "<tbody>\n",
       "<tr><td><b>y \\ x</b></td><td><b>[-0.5 | 0 | 0.5]</b></td><td><b>[0.5 | 1 | 1.5]</b></td><td><b>[1.5 | 2 | 2.5]</b></td><td><b>[2.5 | 3 | 3.5]</b></td><td><b>[3.5 | 4 | 4.5]</b></td><td><b>[4.5 | 5 | 5.5]</b></td><td>...</td><td><b>[13.5 | 14 | 14.5]</b></td><td><b>[14.5 | 15 | 15.5]</b></td><td><b>[15.5 | 16 | 16.5]</b></td><td><b>[16.5 | 17 | 17.5]</b></td><td><b>[17.5 | 18 | 18.5]</b></td><td><b>[18.5 | 19 | 19.5]</b></td></tr>\n",
       "<tr><td><b>0</b>    </td><td>0.516                  </td><td>0.0891                </td><td>0.392                 </td><td>0.233                 </td><td>0.776                 </td><td>0.328                 </td><td>...</td><td>0.468                    </td><td>0.789                    </td><td>0.756                    </td><td>0.279                    </td><td>0.594                    </td><td>0.131                    </td></tr>\n",
       "<tr><td><b>1</b>    </td><td>0.501                  </td><td>0.78                  </td><td>0.476                 </td><td>0.066                 </td><td>0.426                 </td><td>0.756                 </td><td>...</td><td>0.38                     </td><td>0.121                    </td><td>0.0972                   </td><td>0.643                    </td><td>0.135                    </td><td>0.0937                   </td></tr>\n",
       "<tr><td><b>2</b>    </td><td>0.733                  </td><td>0.641                 </td><td>0.21                  </td><td>0.573                 </td><td>0.665                 </td><td>0.403                 </td><td>...</td><td>0.0846                   </td><td>0.801                    </td><td>0.455                    </td><td>0.122                    </td><td>0.536                    </td><td>0.174                    </td></tr>\n",
       "<tr><td><b>3</b>    </td><td>0.0936                 </td><td>0.168                 </td><td>0.744                 </td><td>0.67                  </td><td>0.435                 </td><td>0.323                 </td><td>...</td><td>0.267                    </td><td>0.332                    </td><td>0.0927                   </td><td>0.303                    </td><td>0.568                    </td><td>0.646                    </td></tr>\n",
       "<tr><td><b>4</b>    </td><td>0.832                  </td><td>0.186                 </td><td>0.794                 </td><td>0.824                 </td><td>0.668                 </td><td>0.615                 </td><td>...</td><td>0.431                    </td><td>0.54                     </td><td>0.731                    </td><td>0.643                    </td><td>0.434                    </td><td>0.607                    </td></tr>\n",
       "</tbody>\n",
       "</table>"
      ],
      "text/plain": [
       "GridArray(noname : [[0.5160620471323063 0.5013684964566058 0.7327919657636048\n",
       "  0.09361520802099008 0.8316934170291335]\n",
       " [0.08905514429797508 0.7799640191999831 0.6410870213698087\n",
       "  0.16827587480824777 0.18600632265723424]\n",
       " [0.39234648944114964 0.47605618158210494 0.2103250301860393\n",
       "  0.743696382368871 0.793920523818205]\n",
       " [0.23255668069726732 0.06599534197237476 0.5727328749593331\n",
       "  0.6696519635528267 0.8238731443357669]\n",
       " [0.7759188733603591 0.4262950726151466 0.6645887943541858\n",
       "  0.43531041914810314 0.6681641315526934]\n",
       " [0.32824610476324634 0.7557609108068278 0.4034505931181789\n",
       "  0.3230555731807515 0.6150826709602164]\n",
       " [0.32525562253401763 0.6796453695417782 0.41287073376524897\n",
       "  0.13832626855589147 0.7326903233241168]\n",
       " [0.04862463000516142 0.3123542356128444 0.705560786666878\n",
       "  0.003084305027841146 0.2338755365383159]\n",
       " [0.6844068372053437 0.6670922875647446 0.49898474136445814\n",
       "  0.32794635085153645 0.6178587389382367]\n",
       " [0.325295406638258 0.780184137219092 0.3252879508773804\n",
       "  0.5098655335688863 0.6688065378442484]\n",
       " [0.6998301699551573 0.18899156303685943 0.6448091153487187\n",
       "  0.4584270487645151 0.5186082646370266]\n",
       " [0.6286292528822692 0.6285808083389969 0.012031038307105321\n",
       "  0.7449024612044155 0.8194451503713439]\n",
       " [0.6478581595702564 0.029102620592491274 0.7458646780986631\n",
       "  0.7200095470617988 0.2057104517649569]\n",
       " [0.6892962913447955 0.08020486692408842 0.32948195352960424\n",
       "  0.11126733522669446 0.48503895020863286]\n",
       " [0.4677009875154773 0.3800781105812974 0.08455955978445599\n",
       "  0.2668674953225998 0.43119104021567733]\n",
       " [0.7890605183481975 0.1212028827499045 0.8013649370555168\n",
       "  0.3316898929913301 0.5400166785480172]\n",
       " [0.7562900503008488 0.0972160169984258 0.45493952067911947\n",
       "  0.09267025739630846 0.7310790898169176]\n",
       " [0.27869041820303453 0.6425765078676321 0.12153674146495251\n",
       "  0.30292340668435747 0.6432612668864812]\n",
       " [0.5942055094697926 0.13456821586200676 0.5358549590240792\n",
       "  0.5676015392718254 0.4342428027913035]\n",
       " [0.13088925635239196 0.09365149611613968 0.1739190063173743\n",
       "  0.6459466364088727 0.6071192436126378]])"
      ]
     },
     "execution_count": 142,
     "metadata": {},
     "output_type": "execute_result"
    }
   ],
   "source": [
    "np.sin(a)"
   ]
  },
  {
   "cell_type": "code",
   "execution_count": 150,
   "metadata": {},
   "outputs": [
    {
     "ename": "IndexError",
     "evalue": "list index out of range",
     "output_type": "error",
     "traceback": [
      "\u001b[0;31m---------------------------------------------------------------------------\u001b[0m",
      "\u001b[0;31mIndexError\u001b[0m                                Traceback (most recent call last)",
      "\u001b[0;32m~/anaconda3/lib/python3.7/site-packages/IPython/core/formatters.py\u001b[0m in \u001b[0;36m__call__\u001b[0;34m(self, obj)\u001b[0m\n\u001b[1;32m    343\u001b[0m             \u001b[0mmethod\u001b[0m \u001b[0;34m=\u001b[0m \u001b[0mget_real_method\u001b[0m\u001b[0;34m(\u001b[0m\u001b[0mobj\u001b[0m\u001b[0;34m,\u001b[0m \u001b[0mself\u001b[0m\u001b[0;34m.\u001b[0m\u001b[0mprint_method\u001b[0m\u001b[0;34m)\u001b[0m\u001b[0;34m\u001b[0m\u001b[0;34m\u001b[0m\u001b[0m\n\u001b[1;32m    344\u001b[0m             \u001b[0;32mif\u001b[0m \u001b[0mmethod\u001b[0m \u001b[0;32mis\u001b[0m \u001b[0;32mnot\u001b[0m \u001b[0;32mNone\u001b[0m\u001b[0;34m:\u001b[0m\u001b[0;34m\u001b[0m\u001b[0;34m\u001b[0m\u001b[0m\n\u001b[0;32m--> 345\u001b[0;31m                 \u001b[0;32mreturn\u001b[0m \u001b[0mmethod\u001b[0m\u001b[0;34m(\u001b[0m\u001b[0;34m)\u001b[0m\u001b[0;34m\u001b[0m\u001b[0;34m\u001b[0m\u001b[0m\n\u001b[0m\u001b[1;32m    346\u001b[0m             \u001b[0;32mreturn\u001b[0m \u001b[0;32mNone\u001b[0m\u001b[0;34m\u001b[0m\u001b[0;34m\u001b[0m\u001b[0m\n\u001b[1;32m    347\u001b[0m         \u001b[0;32melse\u001b[0m\u001b[0;34m:\u001b[0m\u001b[0;34m\u001b[0m\u001b[0;34m\u001b[0m\u001b[0m\n",
      "\u001b[0;32m~/pynocular/pynocular/gridarray.py\u001b[0m in \u001b[0;36m_repr_html_\u001b[0;34m(self)\u001b[0m\n\u001b[1;32m    116\u001b[0m     \u001b[0;32mdef\u001b[0m \u001b[0m_repr_html_\u001b[0m\u001b[0;34m(\u001b[0m\u001b[0mself\u001b[0m\u001b[0;34m)\u001b[0m\u001b[0;34m:\u001b[0m\u001b[0;34m\u001b[0m\u001b[0;34m\u001b[0m\u001b[0m\n\u001b[1;32m    117\u001b[0m         \u001b[0;34m'''for jupyter'''\u001b[0m\u001b[0;34m\u001b[0m\u001b[0;34m\u001b[0m\u001b[0m\n\u001b[0;32m--> 118\u001b[0;31m         \u001b[0;32mreturn\u001b[0m \u001b[0mformat_html\u001b[0m\u001b[0;34m(\u001b[0m\u001b[0mself\u001b[0m\u001b[0;34m)\u001b[0m\u001b[0;34m\u001b[0m\u001b[0;34m\u001b[0m\u001b[0m\n\u001b[0m\u001b[1;32m    119\u001b[0m \u001b[0;34m\u001b[0m\u001b[0m\n\u001b[1;32m    120\u001b[0m     \u001b[0;32mdef\u001b[0m \u001b[0m__str__\u001b[0m\u001b[0;34m(\u001b[0m\u001b[0mself\u001b[0m\u001b[0;34m)\u001b[0m\u001b[0;34m:\u001b[0m\u001b[0;34m\u001b[0m\u001b[0;34m\u001b[0m\u001b[0m\n",
      "\u001b[0;32m~/pynocular/pynocular/utils/formatter.py\u001b[0m in \u001b[0;36mformat_html\u001b[0;34m(data)\u001b[0m\n\u001b[1;32m    161\u001b[0m     \u001b[0;32mif\u001b[0m \u001b[0misinstance\u001b[0m\u001b[0;34m(\u001b[0m\u001b[0mdata\u001b[0m\u001b[0;34m,\u001b[0m \u001b[0mpn\u001b[0m\u001b[0;34m.\u001b[0m\u001b[0mGridArray\u001b[0m\u001b[0;34m)\u001b[0m\u001b[0;34m:\u001b[0m\u001b[0;34m\u001b[0m\u001b[0;34m\u001b[0m\u001b[0m\n\u001b[1;32m    162\u001b[0m         \u001b[0;32mif\u001b[0m \u001b[0mdata\u001b[0m\u001b[0;34m.\u001b[0m\u001b[0mnax\u001b[0m \u001b[0;34m==\u001b[0m \u001b[0;36m2\u001b[0m\u001b[0;34m:\u001b[0m\u001b[0;34m\u001b[0m\u001b[0;34m\u001b[0m\u001b[0m\n\u001b[0;32m--> 163\u001b[0;31m             \u001b[0mtable\u001b[0m \u001b[0;34m=\u001b[0m \u001b[0mmake_2d_table\u001b[0m\u001b[0;34m(\u001b[0m\u001b[0mdata\u001b[0m\u001b[0;34m)\u001b[0m\u001b[0;34m\u001b[0m\u001b[0;34m\u001b[0m\u001b[0m\n\u001b[0m\u001b[1;32m    164\u001b[0m \u001b[0;34m\u001b[0m\u001b[0m\n\u001b[1;32m    165\u001b[0m         \u001b[0;32melif\u001b[0m \u001b[0mdata\u001b[0m\u001b[0;34m.\u001b[0m\u001b[0mnax\u001b[0m \u001b[0;34m==\u001b[0m \u001b[0;36m1\u001b[0m\u001b[0;34m:\u001b[0m\u001b[0;34m\u001b[0m\u001b[0;34m\u001b[0m\u001b[0m\n",
      "\u001b[0;32m~/pynocular/pynocular/utils/formatter.py\u001b[0m in \u001b[0;36mmake_2d_table\u001b[0;34m(data)\u001b[0m\n\u001b[1;32m    115\u001b[0m     \u001b[0;32mif\u001b[0m \u001b[0mn_data_rows\u001b[0m \u001b[0;34m>\u001b[0m \u001b[0mN_MAX\u001b[0m\u001b[0;34m:\u001b[0m\u001b[0;34m\u001b[0m\u001b[0;34m\u001b[0m\u001b[0m\n\u001b[1;32m    116\u001b[0m         \u001b[0;32mfor\u001b[0m \u001b[0mi\u001b[0m \u001b[0;32min\u001b[0m \u001b[0mrange\u001b[0m\u001b[0;34m(\u001b[0m\u001b[0;36m1\u001b[0m\u001b[0;34m,\u001b[0m \u001b[0mmin\u001b[0m\u001b[0;34m(\u001b[0m\u001b[0mn_data_cols\u001b[0m\u001b[0;34m,\u001b[0m \u001b[0;36m2\u001b[0m\u001b[0;34m*\u001b[0m\u001b[0;34m(\u001b[0m\u001b[0mN_MAX\u001b[0m\u001b[0;34m//\u001b[0m\u001b[0;36m2\u001b[0m\u001b[0;34m)\u001b[0m \u001b[0;34m+\u001b[0m \u001b[0;36m1\u001b[0m\u001b[0;34m)\u001b[0m \u001b[0;34m+\u001b[0m \u001b[0;36m1\u001b[0m\u001b[0;34m)\u001b[0m\u001b[0;34m:\u001b[0m\u001b[0;34m\u001b[0m\u001b[0;34m\u001b[0m\u001b[0m\n\u001b[0;32m--> 117\u001b[0;31m             \u001b[0mtable\u001b[0m\u001b[0;34m[\u001b[0m\u001b[0mN_MAX\u001b[0m\u001b[0;34m//\u001b[0m\u001b[0;36m2\u001b[0m\u001b[0;34m+\u001b[0m\u001b[0;36m1\u001b[0m\u001b[0;34m]\u001b[0m\u001b[0;34m[\u001b[0m\u001b[0mi\u001b[0m\u001b[0;34m]\u001b[0m \u001b[0;34m=\u001b[0m \u001b[0;34m'...'\u001b[0m\u001b[0;34m\u001b[0m\u001b[0;34m\u001b[0m\u001b[0m\n\u001b[0m\u001b[1;32m    118\u001b[0m         \u001b[0mdata_row_idices\u001b[0m \u001b[0;34m=\u001b[0m \u001b[0mlist\u001b[0m\u001b[0;34m(\u001b[0m\u001b[0mrange\u001b[0m\u001b[0;34m(\u001b[0m\u001b[0mN_MAX\u001b[0m\u001b[0;34m//\u001b[0m\u001b[0;36m2\u001b[0m\u001b[0;34m)\u001b[0m\u001b[0;34m)\u001b[0m \u001b[0;34m+\u001b[0m \u001b[0mlist\u001b[0m\u001b[0;34m(\u001b[0m\u001b[0mrange\u001b[0m\u001b[0;34m(\u001b[0m\u001b[0mn_data_rows\u001b[0m \u001b[0;34m-\u001b[0m \u001b[0mN_MAX\u001b[0m\u001b[0;34m//\u001b[0m\u001b[0;36m2\u001b[0m\u001b[0;34m,\u001b[0m \u001b[0mn_data_rows\u001b[0m\u001b[0;34m)\u001b[0m\u001b[0;34m)\u001b[0m\u001b[0;34m\u001b[0m\u001b[0;34m\u001b[0m\u001b[0m\n\u001b[1;32m    119\u001b[0m         \u001b[0mtable_row_idices\u001b[0m \u001b[0;34m=\u001b[0m \u001b[0mlist\u001b[0m\u001b[0;34m(\u001b[0m\u001b[0mrange\u001b[0m\u001b[0;34m(\u001b[0m\u001b[0mN_MAX\u001b[0m\u001b[0;34m//\u001b[0m\u001b[0;36m2\u001b[0m\u001b[0;34m)\u001b[0m\u001b[0;34m)\u001b[0m \u001b[0;34m+\u001b[0m \u001b[0mlist\u001b[0m\u001b[0;34m(\u001b[0m\u001b[0mrange\u001b[0m\u001b[0;34m(\u001b[0m\u001b[0mN_MAX\u001b[0m\u001b[0;34m//\u001b[0m\u001b[0;36m2\u001b[0m\u001b[0;34m+\u001b[0m\u001b[0;36m1\u001b[0m\u001b[0;34m,\u001b[0m \u001b[0;36m2\u001b[0m\u001b[0;34m*\u001b[0m\u001b[0;34m(\u001b[0m\u001b[0mN_MAX\u001b[0m\u001b[0;34m//\u001b[0m\u001b[0;36m2\u001b[0m\u001b[0;34m)\u001b[0m \u001b[0;34m+\u001b[0m \u001b[0;36m1\u001b[0m\u001b[0;34m)\u001b[0m\u001b[0;34m)\u001b[0m\u001b[0;34m\u001b[0m\u001b[0;34m\u001b[0m\u001b[0m\n",
      "\u001b[0;31mIndexError\u001b[0m: list index out of range"
     ]
    },
    {
     "data": {
      "text/plain": [
       "GridArray(noname : [[2.21962323 1.29012288 1.63295291 1.68321097 2.07164522 1.65437769\n",
       "  1.74271577 1.06947632 1.90738468 1.69184028 1.67664836 1.75757502\n",
       "  1.36863275 1.23850761 1.00147024 1.91333168 1.71857926 1.33497944\n",
       "  1.3787676  0.97082306]\n",
       " [1.29012288 1.356165   0.94069321 0.80961496 1.19212654 1.26490965\n",
       "  1.17155336 0.87826546 1.26521701 1.28828129 0.90942705 0.99886941\n",
       "  0.84940208 0.48690233 0.5801919  1.00057804 0.66135965 0.91705115\n",
       "  0.75714252 0.4580669 ]\n",
       " [1.63295291 0.94069321 1.99817129 1.76000014 1.77950187 1.53147953\n",
       "  1.46510767 0.56230742 1.66805364 1.76847012 1.45481533 2.1995664\n",
       "  1.3410888  0.97560573 1.04305702 1.43063257 1.32403635 1.38493633\n",
       "  1.36152159 1.32383576]\n",
       " [1.68321097 0.80961496 1.76000014 1.90715543 1.71980117 1.2711384\n",
       "  1.28460472 0.74084985 1.43375304 1.4408038  1.49916368 1.75831669\n",
       "  1.47111031 0.96067597 0.82146047 1.58872041 1.35767979 1.08903045\n",
       "  1.38092263 1.29057555]\n",
       " [2.07164522 1.19212654 1.77950187 1.71980117 2.24952553 1.60919576\n",
       "  1.59690566 0.92658081 2.00872304 1.70629572 1.89507444 1.99315145\n",
       "  1.76437166 1.37567826 1.11339125 2.10654703 1.78968656 1.29665821\n",
       "  1.63620882 1.07866147]\n",
       " [1.65437769 1.26490965 1.53147953 1.2711384  1.60919576 1.56555464\n",
       "  1.51821676 0.77111389 1.645933   1.67655957 1.23104246 1.72748542\n",
       "  1.0119283  0.83474917 0.91619632 1.28338767 1.14010369 1.30714379\n",
       "  1.05944739 0.86009908]\n",
       " [1.74271577 1.17155336 1.46510767 1.28460472 1.59690566 1.51821676\n",
       "  1.54469229 0.78137586 1.61181156 1.59619714 1.21153678 1.6446299\n",
       "  0.89542682 0.88671902 0.89267711 1.30363861 1.2449489  1.2841791\n",
       "  1.0054618  0.82189691]\n",
       " [1.06947632 0.87826546 0.56230742 0.74084985 0.92658081 0.77111389\n",
       "  0.78137586 0.77243978 0.83608521 0.73450031 0.77713779 0.48773556\n",
       "  0.75425258 0.44535595 0.31990781 0.94658933 0.63639888 0.49674934\n",
       "  0.62465274 0.32927117]\n",
       " [1.90738468 1.26521701 1.66805364 1.43375304 2.00872304 1.645933\n",
       "  1.61181156 0.83608521 1.92968544 1.74311927 1.61151336 1.9355763\n",
       "  1.39887013 1.18184471 1.0829993  1.75267214 1.54139825 1.35439823\n",
       "  1.37448615 0.92794074]\n",
       " [1.69184028 1.28828129 1.76847012 1.4408038  1.70629572 1.67655957\n",
       "  1.59619714 0.73450031 1.74311927 1.84346132 1.31339493 1.99079952\n",
       "  1.12032114 0.86572624 1.00936505 1.31679582 1.17809027 1.43506192\n",
       "  1.17100051 1.039048  ]\n",
       " [1.67664836 0.90942705 1.45481533 1.49916368 1.89507444 1.23104246\n",
       "  1.21153678 0.77713779 1.61151336 1.31339493 1.65216472 1.5884849\n",
       "  1.63753797 1.16927962 0.88243363 1.85139278 1.50551142 0.96453279\n",
       "  1.44753891 0.93223964]\n",
       " [1.75757502 0.99886941 2.1995664  1.75831669 1.99315145 1.72748542\n",
       "  1.6446299  0.48773556 1.9355763  1.99079952 1.5884849  2.55298977\n",
       "  1.38351931 1.15568441 1.25207708 1.54391118 1.52033051 1.59755683\n",
       "  1.46976488 1.37188234]\n",
       " [1.36863275 0.84940208 1.3410888  1.47111031 1.76437166 1.0119283\n",
       "  0.89542682 0.75425258 1.39887013 1.12032114 1.63753797 1.38351931\n",
       "  1.89527605 1.01552195 0.7351325  1.81687113 1.24933403 0.71408276\n",
       "  1.5066747  0.9420678 ]\n",
       " [1.23850761 0.48690233 0.97560573 0.96067597 1.37567826 0.83474917\n",
       "  0.88671902 0.44535595 1.18184471 0.86572624 1.16927962 1.15568441\n",
       "  1.01552195 0.96644511 0.68574689 1.33996678 1.24418623 0.69989942\n",
       "  0.97938989 0.57474972]\n",
       " [1.00147024 0.5801919  1.04305702 0.82146047 1.11339125 0.91619632\n",
       "  0.89267711 0.31990781 1.0829993  1.00936505 0.88243363 1.25207708\n",
       "  0.7351325  0.68574689 0.66776456 0.91425417 0.88593594 0.81450076\n",
       "  0.77348337 0.59582294]\n",
       " [1.91333168 1.00057804 1.43063257 1.58872041 2.10654703 1.28338767\n",
       "  1.30363861 0.94658933 1.75267214 1.31679582 1.85139278 1.54391118\n",
       "  1.81687113 1.33996678 0.91425417 2.14538535 1.7297859  0.95751398\n",
       "  1.58096382 0.9028639 ]\n",
       " [1.71857926 0.66135965 1.32403635 1.35767979 1.78968656 1.14010369\n",
       "  1.2449489  0.63639888 1.54139825 1.17809027 1.50551142 1.52033051\n",
       "  1.24933403 1.24418623 0.88593594 1.7297859  1.64892273 0.96918142\n",
       "  1.25024018 0.8043728 ]\n",
       " [1.33497944 0.91705115 1.38493633 1.08903045 1.29665821 1.30714379\n",
       "  1.2841791  0.49674934 1.35439823 1.43506192 0.96453279 1.59755683\n",
       "  0.71408276 0.69989942 0.81450076 0.95751398 0.96918142 1.16458177\n",
       "  0.84243766 0.79583604]\n",
       " [1.3787676  0.75714252 1.36152159 1.38092263 1.63620882 1.05944739\n",
       "  1.0054618  0.62465274 1.37448615 1.17100051 1.44753891 1.46976488\n",
       "  1.5066747  0.97938989 0.77348337 1.58096382 1.25024018 0.84243766\n",
       "  1.30897989 0.91198689]\n",
       " [0.97082306 0.4580669  1.32383576 1.29057555 1.07866147 0.86009908\n",
       "  0.82189691 0.32927117 0.92794074 1.039048   0.93223964 1.37188234\n",
       "  0.9420678  0.57474972 0.59582294 0.9028639  0.8043728  0.79583604\n",
       "  0.91198689 0.97542294]])"
      ]
     },
     "execution_count": 150,
     "metadata": {},
     "output_type": "execute_result"
    }
   ],
   "source": [
    "np.dot(a,a.T)"
   ]
  },
  {
   "cell_type": "code",
   "execution_count": 155,
   "metadata": {},
   "outputs": [
    {
     "data": {
      "text/html": [
       "<table>\n",
       "<tbody>\n",
       "<tr><td><b>y \\ x</b></td><td><b>0</b></td><td><b>1</b></td><td><b>2</b></td><td><b>3</b></td><td><b>4</b></td><td><b>5</b></td><td><b>6</b></td><td><b>7</b></td><td><b>8</b></td><td><b>9</b></td></tr>\n",
       "<tr><td><b>0</b>    </td><td>6.4     </td><td>3.64    </td><td>5.37    </td><td>4.86    </td><td>4.75    </td><td>4.68    </td><td>4.03    </td><td>3.8     </td><td>4.84    </td><td>4.64    </td></tr>\n",
       "<tr><td><b>1</b>    </td><td>3.64    </td><td>6.25    </td><td>4.88    </td><td>5.22    </td><td>4.93    </td><td>5.29    </td><td>4       </td><td>3.2     </td><td>5.52    </td><td>4.71    </td></tr>\n",
       "<tr><td><b>2</b>    </td><td>5.37    </td><td>4.88    </td><td>7.55    </td><td>5.77    </td><td>5.6     </td><td>5.6     </td><td>4.8     </td><td>4.71    </td><td>6.13    </td><td>5.49    </td></tr>\n",
       "<tr><td><b>3</b>    </td><td>4.86    </td><td>5.22    </td><td>5.77    </td><td>7.26    </td><td>5.89    </td><td>6.09    </td><td>4.35    </td><td>4.19    </td><td>6.52    </td><td>5.72    </td></tr>\n",
       "<tr><td><b>4</b>    </td><td>4.75    </td><td>4.93    </td><td>5.6     </td><td>5.89    </td><td>6.93    </td><td>6.41    </td><td>4.33    </td><td>4.08    </td><td>5.47    </td><td>5.89    </td></tr>\n",
       "<tr><td><b>5</b>    </td><td>4.68    </td><td>5.29    </td><td>5.6     </td><td>6.09    </td><td>6.41    </td><td>8.04    </td><td>5.07    </td><td>4.21    </td><td>6.65    </td><td>5.53    </td></tr>\n",
       "<tr><td>...         </td><td>4.03    </td><td>4       </td><td>4.8     </td><td>4.35    </td><td>4.33    </td><td>5.07    </td><td>5.02    </td><td>3.62    </td><td>5.39    </td><td>4.38    </td></tr>\n",
       "<tr><td><b>14</b>   </td><td>3.8     </td><td>3.2     </td><td>4.71    </td><td>4.19    </td><td>4.08    </td><td>4.21    </td><td>3.62    </td><td>4.06    </td><td>4.43    </td><td>4.07    </td></tr>\n",
       "<tr><td><b>15</b>   </td><td>4.84    </td><td>5.52    </td><td>6.13    </td><td>6.52    </td><td>5.47    </td><td>6.65    </td><td>5.39    </td><td>4.43    </td><td>8.38    </td><td>6.11    </td></tr>\n",
       "<tr><td><b>16</b>   </td><td>4.64    </td><td>4.71    </td><td>5.49    </td><td>5.72    </td><td>5.89    </td><td>5.53    </td><td>4.38    </td><td>4.07    </td><td>6.11    </td><td>6.75    </td></tr>\n",
       "<tr><td><b>17</b>   </td><td>0       </td><td>0       </td><td>0       </td><td>0       </td><td>0       </td><td>0       </td><td>0       </td><td>0       </td><td>0       </td><td>0       </td></tr>\n",
       "<tr><td><b>18</b>   </td><td>0       </td><td>0       </td><td>0       </td><td>0       </td><td>0       </td><td>0       </td><td>0       </td><td>0       </td><td>0       </td><td>0       </td></tr>\n",
       "<tr><td><b>19</b>   </td><td>0       </td><td>0       </td><td>0       </td><td>0       </td><td>0       </td><td>0       </td><td>0       </td><td>0       </td><td>0       </td><td>0       </td></tr>\n",
       "</tbody>\n",
       "</table>"
      ],
      "text/plain": [
       "GridArray(noname : [[6.40205043 3.63903735 5.37243876 4.85744625 4.75240103 4.67848151\n",
       "  4.03224246 3.80203043 4.84454598 4.63596436]\n",
       " [3.63903735 6.24726956 4.87989682 5.22213787 4.93183074 5.28894703\n",
       "  3.99679734 3.19863    5.52277885 4.71054189]\n",
       " [5.37243876 4.87989682 7.54627858 5.77227228 5.59715004 5.59798631\n",
       "  4.80468462 4.71321054 6.1269928  5.48940908]\n",
       " [4.85744625 5.22213787 5.77227228 7.26477268 5.88577073 6.09003719\n",
       "  4.35103428 4.18882502 6.52203737 5.72461629]\n",
       " [4.75240103 4.93183074 5.59715004 5.88577073 6.92845959 6.40879539\n",
       "  4.33407122 4.07820466 5.472261   5.89487442]\n",
       " [4.67848151 5.28894703 5.59798631 6.09003719 6.40879539 8.03855386\n",
       "  5.07283985 4.21372627 6.65422076 5.53018946]\n",
       " [4.03224246 3.99679734 4.80468462 4.35103428 4.33407122 5.07283985\n",
       "  5.02277057 3.61937045 5.39298029 4.3770468 ]\n",
       " [3.80203043 3.19863    4.71321054 4.18882502 4.07820466 4.21372627\n",
       "  3.61937045 4.05977605 4.42844316 4.06777166]\n",
       " [4.84454598 5.52277885 6.1269928  6.52203737 5.472261   6.65422076\n",
       "  5.39298029 4.42844316 8.37500263 6.10922381]\n",
       " [4.63596436 4.71054189 5.48940908 5.72461629 5.89487442 5.53018946\n",
       "  4.3770468  4.06777166 6.10922381 6.74897124]])"
      ]
     },
     "execution_count": 155,
     "metadata": {},
     "output_type": "execute_result"
    }
   ],
   "source": [
    "np.dot(b,b.T)"
   ]
  },
  {
   "cell_type": "code",
   "execution_count": 147,
   "metadata": {},
   "outputs": [
    {
     "data": {
      "text/html": [
       "<table>\n",
       "<tbody>\n",
       "<tr><td><b>y \\ x</b></td><td><b>0</b></td><td><b>1</b></td><td><b>2</b></td><td><b>3</b></td><td><b>4</b></td><td><b>5</b></td><td><b>6</b></td><td><b>7</b></td><td><b>8</b></td><td><b>9</b></td></tr>\n",
       "<tr><td><b>0</b>    </td><td>0.741   </td><td>0.565   </td><td>0.977   </td><td>0.251   </td><td>0.523   </td><td>0.848   </td><td>0.282   </td><td>0.14    </td><td>0.516   </td><td>0.0927  </td></tr>\n",
       "<tr><td><b>1</b>    </td><td>0.099   </td><td>0.304   </td><td>0.87    </td><td>0.597   </td><td>0.841   </td><td>0.287   </td><td>0.307   </td><td>0.376   </td><td>0.0409  </td><td>0.742   </td></tr>\n",
       "<tr><td><b>2</b>    </td><td>0.245   </td><td>0.0607  </td><td>0.98    </td><td>0.79    </td><td>0.794   </td><td>0.516   </td><td>0.374   </td><td>0.584   </td><td>0.542   </td><td>0.602   </td></tr>\n",
       "<tr><td><b>3</b>    </td><td>0.682   </td><td>0.0856  </td><td>0.393   </td><td>0.256   </td><td>0.888   </td><td>0.84    </td><td>0.448   </td><td>0.717   </td><td>0.631   </td><td>0.796   </td></tr>\n",
       "<tr><td><b>4</b>    </td><td>0.703   </td><td>0.272   </td><td>0.312   </td><td>0.486   </td><td>0.21    </td><td>0.0516  </td><td>0.757   </td><td>0.211   </td><td>0.709   </td><td>0.441   </td></tr>\n",
       "<tr><td><b>5</b>    </td><td>0.778   </td><td>0.0891  </td><td>0.701   </td><td>0.731   </td><td>0.0841  </td><td>0.341   </td><td>0.343   </td><td>0.644   </td><td>0.833   </td><td>0.085   </td></tr>\n",
       "<tr><td>...         </td><td>...     </td><td>...     </td><td>...     </td><td>...     </td><td>...     </td><td>...     </td><td>...     </td><td>...     </td><td>...     </td><td>...     </td></tr>\n",
       "<tr><td><b>14</b>   </td><td>0.832   </td><td>0.557   </td><td>0.711   </td><td>0.115   </td><td>0.177   </td><td>0.291   </td><td>0.436   </td><td>0.104   </td><td>0.106   </td><td>0.266   </td></tr>\n",
       "<tr><td><b>15</b>   </td><td>0.183   </td><td>0.859   </td><td>0.405   </td><td>0.579   </td><td>0.651   </td><td>0.58    </td><td>0.401   </td><td>0.0464  </td><td>0.69    </td><td>0.562   </td></tr>\n",
       "<tr><td><b>16</b>   </td><td>0.534   </td><td>0.604   </td><td>0.949   </td><td>0.595   </td><td>0.172   </td><td>0.682   </td><td>0.876   </td><td>0.939   </td><td>0.9     </td><td>0.3     </td></tr>\n",
       "<tr><td><b>17</b>   </td><td>0.424   </td><td>0.778   </td><td>0.581   </td><td>0.369   </td><td>0.897   </td><td>0.835   </td><td>0.508   </td><td>0.321   </td><td>0.948   </td><td>0.603   </td></tr>\n",
       "<tr><td><b>18</b>   </td><td>0.00539 </td><td>0.934   </td><td>0.312   </td><td>0.941   </td><td>0.656   </td><td>0.978   </td><td>0.617   </td><td>0.305   </td><td>0.986   </td><td>0.49    </td></tr>\n",
       "<tr><td><b>19</b>   </td><td>0.987   </td><td>0.103   </td><td>0.628   </td><td>0.327   </td><td>0.853   </td><td>0.432   </td><td>0.436   </td><td>0.758   </td><td>0.0259  </td><td>0.643   </td></tr>\n",
       "</tbody>\n",
       "</table>"
      ],
      "text/plain": [
       "GridArray(noname : [[0.74069142 0.09902332 0.24512989 0.68211014 0.70333389 0.77796487\n",
       "  0.74174387 0.74218382 0.71756558 0.00588677 0.00399032 0.33023744\n",
       "  0.55474725 0.14132937 0.83220887 0.1831426  0.53389077 0.42350113\n",
       "  0.00539331 0.9874557 ]\n",
       " [0.5647933  0.30381759 0.06073148 0.08562455 0.27217012 0.08906842\n",
       "  0.65714419 0.20579295 0.3972885  0.92018403 0.12465366 0.0495901\n",
       "  0.7235614  0.90628486 0.55747843 0.85887736 0.60353604 0.77774121\n",
       "  0.93439095 0.10300566]\n",
       " [0.97697034 0.87012118 0.98020017 0.39312486 0.31203573 0.70087726\n",
       "  0.1860022  0.63398698 0.11773683 0.64847345 0.02057805 0.64001824\n",
       "  0.50168903 0.44678002 0.71073195 0.40519847 0.94896674 0.58090271\n",
       "  0.31185086 0.62764022]\n",
       " [0.2511919  0.59720403 0.79047783 0.25562127 0.48558289 0.73121873\n",
       "  0.5353083  0.95420728 0.84713633 0.4661069  0.56973463 0.11150371\n",
       "  0.90515428 0.51478278 0.1148845  0.57852586 0.59548349 0.36859027\n",
       "  0.94104552 0.32732045]\n",
       " [0.52263321 0.84089031 0.79402965 0.88772642 0.20959461 0.08406649\n",
       "  0.51773876 0.39959254 0.66400592 0.15942445 0.36565266 0.13421405\n",
       "  0.68350757 0.72031159 0.17708672 0.65112549 0.17214368 0.89658621\n",
       "  0.65581619 0.85320905]\n",
       " [0.84770194 0.28739466 0.51642455 0.83996447 0.05162467 0.34128349\n",
       "  0.09069114 0.03206805 0.985828   0.06308402 0.99849922 0.5342436\n",
       "  0.79657907 0.71979555 0.29133893 0.57978528 0.68207141 0.83507067\n",
       "  0.9777325  0.4316021 ]\n",
       " [0.28242214 0.30667355 0.37390177 0.44784012 0.75653114 0.3430178\n",
       "  0.39246521 0.04773191 0.35549574 0.07176057 0.34343002 0.93431549\n",
       "  0.07756154 0.76564212 0.43559669 0.4005986  0.87644568 0.50837434\n",
       "  0.61670684 0.4364583 ]\n",
       " [0.14029284 0.37641066 0.58372191 0.71705531 0.21103063 0.64385269\n",
       "  0.26166252 0.16954433 0.25661119 0.51667269 0.12823065 0.33063742\n",
       "  0.38850623 0.46171629 0.10378369 0.04636827 0.93878493 0.32081083\n",
       "  0.30545934 0.75767422]\n",
       " [0.51626581 0.04089275 0.54175564 0.63084626 0.70927833 0.83255403\n",
       "  0.56410782 0.63245951 0.0578411  0.57280634 0.8750371  0.82027866\n",
       "  0.65180572 0.37146333 0.10585603 0.68980639 0.89967408 0.94835287\n",
       "  0.98567651 0.02589794]\n",
       " [0.09265162 0.74203357 0.60230305 0.79633743 0.44101386 0.08499864\n",
       "  0.86248066 0.47358856 0.28393708 0.66767252 0.55802344 0.81387369\n",
       "  0.99619434 0.19051409 0.26590802 0.56199601 0.30006919 0.60349511\n",
       "  0.49016523 0.64267507]])"
      ]
     },
     "execution_count": 147,
     "metadata": {},
     "output_type": "execute_result"
    }
   ],
   "source": [
    "b"
   ]
  },
  {
   "cell_type": "code",
   "execution_count": null,
   "metadata": {},
   "outputs": [],
   "source": []
  }
 ],
 "metadata": {
  "kernelspec": {
   "display_name": "Python 3",
   "language": "python",
   "name": "python3"
  },
  "language_info": {
   "codemirror_mode": {
    "name": "ipython",
    "version": 3
   },
   "file_extension": ".py",
   "mimetype": "text/x-python",
   "name": "python",
   "nbconvert_exporter": "python",
   "pygments_lexer": "ipython3",
   "version": "3.7.3"
  }
 },
 "nbformat": 4,
 "nbformat_minor": 4
}
