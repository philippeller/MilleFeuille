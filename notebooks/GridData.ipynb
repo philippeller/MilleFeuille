{
 "cells": [
  {
   "cell_type": "code",
   "execution_count": 1,
   "metadata": {},
   "outputs": [],
   "source": [
    "%reload_ext autoreload\n",
    "%autoreload 2\n",
    "import numpy as np\n",
    "import pynocular as pn\n",
    "from matplotlib import pyplot as plt\n",
    "from uncertainties import unumpy"
   ]
  },
  {
   "cell_type": "code",
   "execution_count": 7,
   "metadata": {},
   "outputs": [],
   "source": [
    "p = pn.PointData() #x=np.arange(200).reshape(20, 1, -1))"
   ]
  },
  {
   "cell_type": "code",
   "execution_count": 10,
   "metadata": {},
   "outputs": [
    {
     "data": {
      "text/html": [],
      "text/plain": [
       "PointData({})"
      ]
     },
     "execution_count": 10,
     "metadata": {},
     "output_type": "execute_result"
    }
   ],
   "source": [
    "p"
   ]
  },
  {
   "cell_type": "code",
   "execution_count": 12,
   "metadata": {},
   "outputs": [],
   "source": [
    "p['a'] = np.arange(33)\n",
    "p['b'] = np.zeros(p.array_shape)"
   ]
  },
  {
   "cell_type": "code",
   "execution_count": 13,
   "metadata": {},
   "outputs": [
    {
     "data": {
      "text/plain": [
       "pynocular.pointarray.PointArray"
      ]
     },
     "execution_count": 13,
     "metadata": {},
     "output_type": "execute_result"
    }
   ],
   "source": [
    "pn.PointArray"
   ]
  },
  {
   "cell_type": "code",
   "execution_count": 14,
   "metadata": {},
   "outputs": [
    {
     "data": {
      "text/html": [
       "<table>\n",
       "<tbody>\n",
       "<tr><td style=\"text-align: right;\">1</td><td style=\"text-align: right;\">0.54</td><td style=\"text-align: right;\">-0.42</td><td style=\"text-align: right;\">-0.99</td><td style=\"text-align: right;\">-0.65</td><td style=\"text-align: right;\">0.28</td><td>...</td><td style=\"text-align: right;\">-0.29</td><td style=\"text-align: right;\">-0.96</td><td style=\"text-align: right;\">-0.75</td><td style=\"text-align: right;\">0.15</td><td style=\"text-align: right;\">0.91</td><td style=\"text-align: right;\">0.83</td></tr>\n",
       "</tbody>\n",
       "</table>"
      ],
      "text/plain": [
       "PointArray([ 1.        ,  0.54030231, -0.41614684, -0.9899925 ,\n",
       "            -0.65364362,  0.28366219,  0.96017029,  0.75390225,\n",
       "            -0.14550003, -0.91113026, -0.83907153,  0.0044257 ,\n",
       "             0.84385396,  0.90744678,  0.13673722, -0.75968791,\n",
       "            -0.95765948, -0.27516334,  0.66031671,  0.98870462,\n",
       "             0.40808206, -0.54772926, -0.99996083, -0.53283302,\n",
       "             0.42417901,  0.99120281,  0.64691932, -0.29213881,\n",
       "            -0.96260587, -0.74805753,  0.15425145,  0.91474236,\n",
       "             0.83422336])"
      ]
     },
     "execution_count": 14,
     "metadata": {},
     "output_type": "execute_result"
    }
   ],
   "source": [
    "np.cos(p['a'])"
   ]
  },
  {
   "cell_type": "code",
   "execution_count": 15,
   "metadata": {},
   "outputs": [],
   "source": [
    "g2d = pn.Grid(x=np.arange(10), y=np.arange(20))"
   ]
  },
  {
   "cell_type": "code",
   "execution_count": 16,
   "metadata": {},
   "outputs": [],
   "source": [
    "b = pn.GridArray(np.random.rand(g2d.size).reshape(g2d.shape), grid=g2d)"
   ]
  },
  {
   "cell_type": "code",
   "execution_count": 17,
   "metadata": {},
   "outputs": [],
   "source": [
    "f = np.sum(np.cos(b) -1.2 / b, axis='y')"
   ]
  },
  {
   "cell_type": "code",
   "execution_count": 18,
   "metadata": {},
   "outputs": [],
   "source": [
    "f[f>-50] *= 33"
   ]
  },
  {
   "cell_type": "code",
   "execution_count": 19,
   "metadata": {},
   "outputs": [],
   "source": [
    "f[0:2] *= 0"
   ]
  },
  {
   "cell_type": "code",
   "execution_count": 20,
   "metadata": {},
   "outputs": [],
   "source": [
    "a = pn.GridArray(np.arange(10), x=10)"
   ]
  },
  {
   "cell_type": "code",
   "execution_count": 21,
   "metadata": {},
   "outputs": [],
   "source": [
    "a[[2,7]] *= 0"
   ]
  },
  {
   "cell_type": "code",
   "execution_count": 22,
   "metadata": {},
   "outputs": [
    {
     "data": {
      "text/plain": [
       "Grid(\n",
       "Axis(\"x\",\n",
       "points = None,\n",
       "edges = edges: None)\n",
       "nbins = 10),)"
      ]
     },
     "execution_count": 22,
     "metadata": {},
     "output_type": "execute_result"
    }
   ],
   "source": [
    "a.grid"
   ]
  },
  {
   "cell_type": "code",
   "execution_count": 23,
   "metadata": {},
   "outputs": [],
   "source": [
    "f[3] *= 4"
   ]
  },
  {
   "cell_type": "code",
   "execution_count": 24,
   "metadata": {},
   "outputs": [
    {
     "data": {
      "text/plain": [
       "-356.35587562688744"
      ]
     },
     "execution_count": 24,
     "metadata": {},
     "output_type": "execute_result"
    }
   ],
   "source": [
    "f[3]"
   ]
  },
  {
   "cell_type": "code",
   "execution_count": 25,
   "metadata": {},
   "outputs": [
    {
     "data": {
      "text/html": [
       "<table>\n",
       "<tbody>\n",
       "<tr><td><b>x</b></td><td><b>0</b></td><td><b>1</b></td><td><b>2</b></td><td><b>3</b></td><td><b>4</b></td><td><b>5</b></td><td><b>6</b></td><td><b>7</b></td><td><b>8</b></td><td><b>9</b></td></tr>\n",
       "<tr><td><b></b> </td><td>-0      </td><td>-0      </td><td>-1.4e+03</td><td>-3.6e+02</td><td>-82     </td><td>-75     </td><td>-1.6e+02</td><td>-99     </td><td>-76     </td><td>-1.6e+02</td></tr>\n",
       "</tbody>\n",
       "</table>"
      ],
      "text/plain": [
       "GridArray(noname : [-0.0 -0.0 -1417.6011545188549 -356.35587562688744 -82.3176969113408\n",
       " -75.41123937545879 -157.03970127192449 -99.21582135265498\n",
       " -75.93167752527188 -156.22919832522527])"
      ]
     },
     "execution_count": 25,
     "metadata": {},
     "output_type": "execute_result"
    }
   ],
   "source": [
    "f"
   ]
  },
  {
   "cell_type": "code",
   "execution_count": 26,
   "metadata": {},
   "outputs": [
    {
     "data": {
      "text/plain": [
       "array([   -0.        ,    -0.        , -1417.60115452, -1773.95703015,\n",
       "       -1856.27472706, -1931.68596643, -2088.7256677 , -2187.94148906,\n",
       "       -2263.87316658, -2420.10236491])"
      ]
     },
     "execution_count": 26,
     "metadata": {},
     "output_type": "execute_result"
    }
   ],
   "source": [
    "np.cumsum(f, axis='x')"
   ]
  },
  {
   "cell_type": "code",
   "execution_count": 27,
   "metadata": {},
   "outputs": [
    {
     "data": {
      "text/html": [
       "<table>\n",
       "<tbody>\n",
       "<tr><td><b>x</b></td><td><b>0</b></td><td><b>1</b></td><td><b>2</b></td><td><b>3</b></td><td><b>4</b></td><td><b>5</b></td><td><b>6</b></td><td><b>7</b></td><td><b>8</b></td><td><b>9</b></td></tr>\n",
       "<tr><td><b></b> </td><td>-0      </td><td>-0      </td><td>-1.4e+03</td><td>-3.6e+02</td><td>-82     </td><td>-75     </td><td>-1.6e+02</td><td>-99     </td><td>-76     </td><td>-1.6e+02</td></tr>\n",
       "</tbody>\n",
       "</table>"
      ],
      "text/plain": [
       "GridArray(noname : [-0.0 -0.0 -1417.6011545188549 -356.35587562688744 -82.3176969113408\n",
       " -75.41123937545879 -157.03970127192449 -99.21582135265498\n",
       " -75.93167752527188 -156.22919832522527])"
      ]
     },
     "execution_count": 27,
     "metadata": {},
     "output_type": "execute_result"
    }
   ],
   "source": [
    "f"
   ]
  },
  {
   "cell_type": "code",
   "execution_count": 28,
   "metadata": {},
   "outputs": [],
   "source": [
    "a = unumpy.uarray(np.arange(10), np.ones(10))"
   ]
  },
  {
   "cell_type": "code",
   "execution_count": 29,
   "metadata": {},
   "outputs": [],
   "source": [
    "a = np.arange(10)"
   ]
  },
  {
   "cell_type": "code",
   "execution_count": 30,
   "metadata": {},
   "outputs": [],
   "source": [
    "g = pn.Grid(x=np.arange(10))"
   ]
  },
  {
   "cell_type": "code",
   "execution_count": 31,
   "metadata": {},
   "outputs": [],
   "source": [
    "u = pn.GridArray(a, grid=g)"
   ]
  },
  {
   "cell_type": "code",
   "execution_count": 32,
   "metadata": {},
   "outputs": [
    {
     "data": {
      "text/plain": [
       "Grid(\n",
       "Axis(\"x\",\n",
       "points = array([0, 1, 2, 3, 4, 5, 6, 7, 8, 9]),\n",
       "edges = edges: None)\n",
       "nbins = 10),)"
      ]
     },
     "execution_count": 32,
     "metadata": {},
     "output_type": "execute_result"
    }
   ],
   "source": [
    "u.grid"
   ]
  },
  {
   "cell_type": "code",
   "execution_count": 33,
   "metadata": {},
   "outputs": [
    {
     "data": {
      "text/plain": [
       "9"
      ]
     },
     "execution_count": 33,
     "metadata": {},
     "output_type": "execute_result"
    }
   ],
   "source": [
    "np.max(u)"
   ]
  },
  {
   "cell_type": "code",
   "execution_count": 34,
   "metadata": {},
   "outputs": [
    {
     "data": {
      "text/plain": [
       "9"
      ]
     },
     "execution_count": 34,
     "metadata": {},
     "output_type": "execute_result"
    }
   ],
   "source": [
    "np.amax(np.empty_like(u))"
   ]
  },
  {
   "cell_type": "code",
   "execution_count": 35,
   "metadata": {},
   "outputs": [
    {
     "data": {
      "text/html": [
       "<table>\n",
       "<tbody>\n",
       "<tr><td><b>x</b></td><td><b>0</b></td><td><b>1</b></td><td><b>2</b></td><td><b>3</b></td><td><b>4</b></td><td><b>5</b></td><td><b>6</b></td><td><b>7</b></td><td><b>8</b></td><td><b>9</b></td></tr>\n",
       "<tr><td><b></b> </td><td>0       </td><td>1       </td><td>2       </td><td>3       </td><td>4       </td><td>5       </td><td>6       </td><td>7       </td><td>8       </td><td>9       </td></tr>\n",
       "</tbody>\n",
       "</table>"
      ],
      "text/plain": [
       "GridArray(noname : [0 1 2 3 4 5 6 7 8 9])"
      ]
     },
     "execution_count": 35,
     "metadata": {},
     "output_type": "execute_result"
    }
   ],
   "source": [
    "u.T"
   ]
  },
  {
   "cell_type": "code",
   "execution_count": 36,
   "metadata": {},
   "outputs": [
    {
     "data": {
      "text/html": [
       "<table>\n",
       "<tbody>\n",
       "<tr><td><b>x</b></td><td><b>0</b></td><td><b>1</b></td><td><b>2</b></td><td><b>3</b></td><td><b>4</b></td><td><b>5</b></td><td><b>6</b></td><td><b>7</b></td><td><b>8</b></td><td><b>9</b></td></tr>\n",
       "<tr><td><b></b> </td><td>1       </td><td>0.54    </td><td>-0.42   </td><td>-0.99   </td><td>-0.65   </td><td>0.28    </td><td>0.96    </td><td>0.75    </td><td>-0.15   </td><td>-0.91   </td></tr>\n",
       "</tbody>\n",
       "</table>"
      ],
      "text/plain": [
       "GridArray(noname : [1.0 0.5403023058681398 -0.4161468365471424 -0.9899924966004454\n",
       " -0.6536436208636119 0.28366218546322625 0.960170286650366\n",
       " 0.7539022543433046 -0.14550003380861354 -0.9111302618846769])"
      ]
     },
     "execution_count": 36,
     "metadata": {},
     "output_type": "execute_result"
    }
   ],
   "source": [
    "unumpy.cos(u)"
   ]
  },
  {
   "cell_type": "code",
   "execution_count": 37,
   "metadata": {},
   "outputs": [
    {
     "data": {
      "text/html": [
       "<table>\n",
       "<tbody>\n",
       "<tr><td><b>x</b></td><td><b>0</b></td><td><b>1</b></td><td><b>2</b></td><td><b>3</b></td><td><b>4</b></td><td><b>5</b></td><td><b>6</b></td><td><b>7</b></td><td><b>8</b></td><td><b>9</b></td></tr>\n",
       "<tr><td><b></b> </td><td>1       </td><td>1       </td><td>1       </td><td>1       </td><td>1       </td><td>1       </td><td>1       </td><td>1       </td><td>1       </td><td>1       </td></tr>\n",
       "</tbody>\n",
       "</table>"
      ],
      "text/plain": [
       "GridArray(noname : [1 1 1 1 1 1 1 1 1 1])"
      ]
     },
     "execution_count": 37,
     "metadata": {},
     "output_type": "execute_result"
    }
   ],
   "source": [
    "np.ones_like(u)"
   ]
  },
  {
   "cell_type": "code",
   "execution_count": 38,
   "metadata": {},
   "outputs": [
    {
     "data": {
      "text/html": [
       "<table>\n",
       "<tbody>\n",
       "<tr><td><b>x</b></td><td><b>0</b></td><td><b>1</b></td><td><b>2</b></td><td><b>3</b></td><td><b>4</b></td><td><b>5</b></td><td><b>6</b></td><td><b>7</b></td><td><b>8</b></td><td><b>9</b></td></tr>\n",
       "<tr><td><b></b> </td><td>0       </td><td>1       </td><td>1.4     </td><td>1.7     </td><td>2       </td><td>2.2     </td><td>2.4     </td><td>2.6     </td><td>2.8     </td><td>3       </td></tr>\n",
       "</tbody>\n",
       "</table>"
      ],
      "text/plain": [
       "GridArray(noname : [0.0 1.0 1.4142135623730951 1.7320508075688772 2.0 2.23606797749979\n",
       " 2.449489742783178 2.6457513110645907 2.8284271247461903 3.0])"
      ]
     },
     "execution_count": 38,
     "metadata": {},
     "output_type": "execute_result"
    }
   ],
   "source": [
    "np.sqrt(u)"
   ]
  },
  {
   "cell_type": "code",
   "execution_count": 39,
   "metadata": {},
   "outputs": [
    {
     "data": {
      "text/plain": [
       "array([10.        , 10.        ,  5.        ,  3.33333333,  2.5       ,\n",
       "        2.        ,  1.66666667,  1.42857143,  1.25      ,  1.11111111])"
      ]
     },
     "execution_count": 39,
     "metadata": {},
     "output_type": "execute_result"
    }
   ],
   "source": [
    "np.asarray(10 / u)"
   ]
  },
  {
   "cell_type": "code",
   "execution_count": 40,
   "metadata": {},
   "outputs": [
    {
     "data": {
      "text/html": [
       "<table>\n",
       "<tbody>\n",
       "<tr><td><b>x</b></td><td><b>0</b></td><td><b>1</b></td><td><b>2</b></td><td><b>3</b></td><td><b>4</b></td><td><b>5</b></td><td><b>6</b></td><td><b>7</b></td><td><b>8</b></td><td><b>9</b></td></tr>\n",
       "<tr><td><b></b> </td><td>0       </td><td>1       </td><td>2       </td><td>3       </td><td>4       </td><td>5       </td><td>6       </td><td>7       </td><td>8       </td><td>9       </td></tr>\n",
       "</tbody>\n",
       "</table>"
      ],
      "text/plain": [
       "GridArray(noname : [0 1 2 3 4 5 6 7 8 9])"
      ]
     },
     "execution_count": 40,
     "metadata": {},
     "output_type": "execute_result"
    }
   ],
   "source": [
    "u"
   ]
  },
  {
   "cell_type": "code",
   "execution_count": 41,
   "metadata": {},
   "outputs": [
    {
     "data": {
      "text/html": [
       "<table>\n",
       "<tbody>\n",
       "<tr><td><b>x</b></td><td><b>0</b></td><td><b>1</b></td><td><b>2</b></td><td><b>3</b></td><td><b>4</b></td><td><b>5</b></td><td><b>6</b></td><td><b>7</b></td><td><b>8</b></td><td><b>9</b></td></tr>\n",
       "<tr><td><b></b> </td><td>--      </td><td>--      </td><td>--      </td><td>1.7     </td><td>2       </td><td>2.2     </td><td>2.4     </td><td>2.6     </td><td>2.8     </td><td>3       </td></tr>\n",
       "</tbody>\n",
       "</table>"
      ],
      "text/plain": [
       "GridArray(noname : [-- -- -- 1.7320508075688772 2.0 2.23606797749979 2.449489742783178\n",
       " 2.6457513110645907 2.8284271247461903 3.0])"
      ]
     },
     "execution_count": 41,
     "metadata": {},
     "output_type": "execute_result"
    }
   ],
   "source": [
    "np.sqrt(u[u>2])"
   ]
  },
  {
   "cell_type": "code",
   "execution_count": 42,
   "metadata": {},
   "outputs": [
    {
     "data": {
      "text/html": [
       "<table>\n",
       "<tbody>\n",
       "<tr><td><b>x</b></td><td><b>0</b></td><td><b>1</b></td><td><b>2</b></td></tr>\n",
       "<tr><td><b></b> </td><td>0       </td><td>1       </td><td>2       </td></tr>\n",
       "</tbody>\n",
       "</table>"
      ],
      "text/plain": [
       "GridArray(noname : [0 1 2])"
      ]
     },
     "execution_count": 42,
     "metadata": {},
     "output_type": "execute_result"
    }
   ],
   "source": [
    "u[0:3]"
   ]
  },
  {
   "cell_type": "code",
   "execution_count": 43,
   "metadata": {},
   "outputs": [],
   "source": [
    "g = pn.GridData(x=np.arange(20), y=np.arange(5))\n",
    "#g = pn.GridData(y=np.arange(5))"
   ]
  },
  {
   "cell_type": "code",
   "execution_count": 44,
   "metadata": {},
   "outputs": [],
   "source": [
    "g.grid['x'].edges = pn.edges(points=g.grid['x'].points)"
   ]
  },
  {
   "cell_type": "code",
   "execution_count": 45,
   "metadata": {},
   "outputs": [],
   "source": [
    "e = pn.edges(points=np.arange(11))"
   ]
  },
  {
   "cell_type": "code",
   "execution_count": 46,
   "metadata": {},
   "outputs": [
    {
     "data": {
      "text/plain": [
       "-0.5"
      ]
     },
     "execution_count": 46,
     "metadata": {},
     "output_type": "execute_result"
    }
   ],
   "source": [
    "e[0,0]"
   ]
  },
  {
   "cell_type": "code",
   "execution_count": 47,
   "metadata": {},
   "outputs": [],
   "source": [
    "a = pn.GridArray(np.random.rand(g.grid.size).reshape(g.shape), grid=g.grid)"
   ]
  },
  {
   "cell_type": "code",
   "execution_count": 48,
   "metadata": {},
   "outputs": [
    {
     "data": {
      "text/html": [
       "<table>\n",
       "<tbody>\n",
       "<tr><td><b>y \\ x</b></td><td><b>[-0.5 | 0 | 0.5]</b></td><td><b>[0.5 | 1 | 1.5]</b></td><td><b>[1.5 | 2 | 2.5]</b></td><td><b>[2.5 | 3 | 3.5]</b></td><td><b>[3.5 | 4 | 4.5]</b></td><td><b>[4.5 | 5 | 5.5]</b></td><td>...</td><td><b>[14 | 14 | 14]</b></td><td><b>[14 | 15 | 16]</b></td><td><b>[16 | 16 | 16]</b></td><td><b>[16 | 17 | 18]</b></td><td><b>[18 | 18 | 18]</b></td><td><b>[18 | 19 | 20]</b></td></tr>\n",
       "<tr><td><b>0</b>    </td><td>0                      </td><td>0                     </td><td>0                     </td><td>0                     </td><td>0                     </td><td>0                     </td><td>...</td><td>0                    </td><td>0                    </td><td>0                    </td><td>0                    </td><td>0                    </td><td>0                    </td></tr>\n",
       "<tr><td><b>1</b>    </td><td>0                      </td><td>0                     </td><td>0                     </td><td>0                     </td><td>0                     </td><td>0                     </td><td>...</td><td>0                    </td><td>0                    </td><td>0                    </td><td>0                    </td><td>0                    </td><td>0                    </td></tr>\n",
       "<tr><td><b>2</b>    </td><td>0                      </td><td>0                     </td><td>0                     </td><td>0                     </td><td>0                     </td><td>0                     </td><td>...</td><td>0                    </td><td>0                    </td><td>0                    </td><td>0                    </td><td>0                    </td><td>0                    </td></tr>\n",
       "<tr><td><b>3</b>    </td><td>0                      </td><td>0                     </td><td>0                     </td><td>0                     </td><td>0                     </td><td>0                     </td><td>...</td><td>0                    </td><td>0                    </td><td>0                    </td><td>0                    </td><td>0                    </td><td>0                    </td></tr>\n",
       "<tr><td><b>4</b>    </td><td>0                      </td><td>0                     </td><td>0                     </td><td>0                     </td><td>0                     </td><td>0                     </td><td>...</td><td>0                    </td><td>0                    </td><td>0                    </td><td>0                    </td><td>0                    </td><td>0                    </td></tr>\n",
       "</tbody>\n",
       "</table>"
      ],
      "text/plain": [
       "GridArray(noname : [[0 0 0 0 0]\n",
       " [0 0 0 0 0]\n",
       " [0 0 0 0 0]\n",
       " [0 0 0 0 0]\n",
       " [0 0 0 0 0]\n",
       " [0 0 0 0 0]\n",
       " [0 0 0 0 0]\n",
       " [0 0 0 0 0]\n",
       " [0 0 0 0 0]\n",
       " [0 0 0 0 0]\n",
       " [0 0 0 0 0]\n",
       " [0 0 0 0 0]\n",
       " [0 0 0 0 0]\n",
       " [0 0 0 0 0]\n",
       " [0 0 0 0 0]\n",
       " [0 0 0 0 0]\n",
       " [0 0 0 0 0]\n",
       " [0 0 0 0 0]\n",
       " [0 0 0 0 0]\n",
       " [0 0 0 0 0]])"
      ]
     },
     "execution_count": 48,
     "metadata": {},
     "output_type": "execute_result"
    }
   ],
   "source": [
    "a.astype(np.int)"
   ]
  },
  {
   "cell_type": "code",
   "execution_count": 49,
   "metadata": {},
   "outputs": [
    {
     "data": {
      "text/html": [
       "<table>\n",
       "<tbody>\n",
       "<tr><td><b>y \\ x</b></td><td><b>[-0.5 | 0 | 0.5]</b></td><td><b>[0.5 | 1 | 1.5]</b></td><td><b>[1.5 | 2 | 2.5]</b></td><td><b>[2.5 | 3 | 3.5]</b></td><td><b>[3.5 | 4 | 4.5]</b></td><td><b>[4.5 | 5 | 5.5]</b></td><td>...</td><td><b>[14 | 14 | 14]</b></td><td><b>[14 | 15 | 16]</b></td><td><b>[16 | 16 | 16]</b></td><td><b>[16 | 17 | 18]</b></td><td><b>[18 | 18 | 18]</b></td><td><b>[18 | 19 | 20]</b></td></tr>\n",
       "<tr><td><b>0</b>    </td><td>1                      </td><td>1                     </td><td>1                     </td><td>1                     </td><td>1                     </td><td>1                     </td><td>...</td><td>1                    </td><td>1                    </td><td>1                    </td><td>1                    </td><td>1                    </td><td>1                    </td></tr>\n",
       "<tr><td><b>1</b>    </td><td>1                      </td><td>1                     </td><td>1                     </td><td>1                     </td><td>1                     </td><td>1                     </td><td>...</td><td>1                    </td><td>1                    </td><td>1                    </td><td>1                    </td><td>1                    </td><td>1                    </td></tr>\n",
       "<tr><td><b>2</b>    </td><td>1                      </td><td>1                     </td><td>1                     </td><td>1                     </td><td>1                     </td><td>1                     </td><td>...</td><td>1                    </td><td>1                    </td><td>1                    </td><td>1                    </td><td>1                    </td><td>1                    </td></tr>\n",
       "<tr><td><b>3</b>    </td><td>1                      </td><td>1                     </td><td>1                     </td><td>1                     </td><td>1                     </td><td>1                     </td><td>...</td><td>1                    </td><td>1                    </td><td>1                    </td><td>1                    </td><td>1                    </td><td>1                    </td></tr>\n",
       "<tr><td><b>4</b>    </td><td>1                      </td><td>1                     </td><td>1                     </td><td>1                     </td><td>1                     </td><td>1                     </td><td>...</td><td>1                    </td><td>1                    </td><td>1                    </td><td>1                    </td><td>1                    </td><td>1                    </td></tr>\n",
       "</tbody>\n",
       "</table>"
      ],
      "text/plain": [
       "GridArray(noname : [[1. 1. 1. 1. 1.]\n",
       " [1. 1. 1. 1. 1.]\n",
       " [1. 1. 1. 1. 1.]\n",
       " [1. 1. 1. 1. 1.]\n",
       " [1. 1. 1. 1. 1.]\n",
       " [1. 1. 1. 1. 1.]\n",
       " [1. 1. 1. 1. 1.]\n",
       " [1. 1. 1. 1. 1.]\n",
       " [1. 1. 1. 1. 1.]\n",
       " [1. 1. 1. 1. 1.]\n",
       " [1. 1. 1. 1. 1.]\n",
       " [1. 1. 1. 1. 1.]\n",
       " [1. 1. 1. 1. 1.]\n",
       " [1. 1. 1. 1. 1.]\n",
       " [1. 1. 1. 1. 1.]\n",
       " [1. 1. 1. 1. 1.]\n",
       " [1. 1. 1. 1. 1.]\n",
       " [1. 1. 1. 1. 1.]\n",
       " [1. 1. 1. 1. 1.]\n",
       " [1. 1. 1. 1. 1.]])"
      ]
     },
     "execution_count": 49,
     "metadata": {},
     "output_type": "execute_result"
    }
   ],
   "source": [
    "np.ones_like(a)"
   ]
  },
  {
   "cell_type": "code",
   "execution_count": 50,
   "metadata": {},
   "outputs": [
    {
     "data": {
      "text/plain": [
       "True"
      ]
     },
     "execution_count": 50,
     "metadata": {},
     "output_type": "execute_result"
    }
   ],
   "source": [
    "np.all(np.abs(-a) == a)"
   ]
  },
  {
   "cell_type": "code",
   "execution_count": 51,
   "metadata": {},
   "outputs": [
    {
     "data": {
      "text/html": [
       "<table>\n",
       "<tbody>\n",
       "<tr><td><b>y \\ x</b></td><td><b>[-0.5 | 0 | 0.5]</b></td><td><b>[0.5 | 1 | 1.5]</b></td><td><b>[1.5 | 2 | 2.5]</b></td><td><b>[2.5 | 3 | 3.5]</b></td><td><b>[3.5 | 4 | 4.5]</b></td><td><b>[4.5 | 5 | 5.5]</b></td><td>...</td><td><b>[14 | 14 | 14]</b></td><td><b>[14 | 15 | 16]</b></td><td><b>[16 | 16 | 16]</b></td><td><b>[16 | 17 | 18]</b></td><td><b>[18 | 18 | 18]</b></td><td><b>[18 | 19 | 20]</b></td></tr>\n",
       "<tr><td><b>0</b>    </td><td>0.85                   </td><td>0.78                  </td><td>0.015                 </td><td>0.51                  </td><td>0.59                  </td><td>0.76                  </td><td>...</td><td>0.069                </td><td>0.98                 </td><td>0.49                 </td><td>0.76                 </td><td>0.72                 </td><td>0.28                 </td></tr>\n",
       "<tr><td><b>1</b>    </td><td>0.24                   </td><td>0.19                  </td><td>0.38                  </td><td>0.32                  </td><td>0.47                  </td><td>0.035                 </td><td>...</td><td>0.35                 </td><td>0.81                 </td><td>0.36                 </td><td>0.34                 </td><td>0.33                 </td><td>0.39                 </td></tr>\n",
       "<tr><td><b>2</b>    </td><td>0.22                   </td><td>0.19                  </td><td>0.88                  </td><td>0.91                  </td><td>0.17                  </td><td>0.19                  </td><td>...</td><td>0.34                 </td><td>0.75                 </td><td>0.57                 </td><td>0.071                </td><td>0.46                 </td><td>0.23                 </td></tr>\n",
       "<tr><td><b>3</b>    </td><td>0.3                    </td><td>0.8                   </td><td>0.57                  </td><td>0.71                  </td><td>0.69                  </td><td>0.24                  </td><td>...</td><td>1                    </td><td>0.46                 </td><td>0.44                 </td><td>0.053                </td><td>0.28                 </td><td>0.61                 </td></tr>\n",
       "<tr><td><b>4</b>    </td><td>0.86                   </td><td>0.11                  </td><td>0.57                  </td><td>0.32                  </td><td>0.76                  </td><td>0.74                  </td><td>...</td><td>0.12                 </td><td>0.65                 </td><td>0.86                 </td><td>0.79                 </td><td>0.11                 </td><td>0.59                 </td></tr>\n",
       "</tbody>\n",
       "</table>"
      ],
      "text/plain": [
       "GridArray(noname : [[0.8527924832531782 0.2444075287140144 0.22146778168118797\n",
       "  0.2976678169044017 0.8593973773363421]\n",
       " [0.7798350741488923 0.19216097505959362 0.1919711408577931\n",
       "  0.8032601718590885 0.11138197392593441]\n",
       " [0.014866453335689034 0.3761104322988925 0.8790911050537139\n",
       "  0.5735535893675093 0.569015867798997]\n",
       " [0.5076490095622691 0.3202487061658208 0.909772518728772\n",
       "  0.7056707164351278 0.3173579169421088]\n",
       " [0.5934447404837979 0.4687886036006882 0.17346555444906564\n",
       "  0.6855455441589305 0.7648647084232741]\n",
       " [0.7565946904947959 0.035096937682276286 0.19061136438602344\n",
       "  0.23778920774075318 0.741974016045546]\n",
       " [0.16783563941881607 0.30915033482385246 0.7615530477418551\n",
       "  0.45854760139650164 0.2828728708798254]\n",
       " [0.45633914526722164 0.5730066283425812 0.8259881853613384\n",
       "  0.2868109618975564 0.2384171130065893]\n",
       " [0.12166904057724526 0.021353633395558957 0.7423998028656802\n",
       "  0.20301303148960603 0.4574013951925605]\n",
       " [0.5510091123949503 0.03553890653321845 0.7180182053535726\n",
       "  0.5327102709567255 0.6359620972083873]\n",
       " [0.22147656881513456 0.23088020317094127 0.20874598242758502\n",
       "  0.6889666248153061 0.5070231034967372]\n",
       " [0.9634606814198128 0.3215637901009085 0.6053503866073551\n",
       "  0.11693936121723425 0.5516627858907366]\n",
       " [0.6237406326502829 0.7690904030150096 0.9561879241827799\n",
       "  0.040522075908706934 0.721787770682278]\n",
       " [0.6892374075599257 0.3428998529920979 0.8343816557632104\n",
       "  0.94867243916326 0.5733226363310819]\n",
       " [0.06921834353403056 0.3469232534009632 0.34132236309168407\n",
       "  0.996774507316856 0.118951227835985]\n",
       " [0.9787625874754734 0.8095735951399814 0.7459708647227749\n",
       "  0.46277178607227587 0.649305038708711]\n",
       " [0.4915061980536758 0.35504704549711086 0.5710191842408646\n",
       "  0.44020207340348505 0.864581339781461]\n",
       " [0.7558372335940857 0.3379193591593944 0.07120498461544356\n",
       "  0.052863598212938734 0.7903358104420491]\n",
       " [0.718358678747678 0.32544513654710994 0.46354072517048084\n",
       "  0.28378297315521417 0.10831983831959136]\n",
       " [0.2751635824828893 0.39160876124704924 0.23207631569835785\n",
       "  0.605889642761121 0.5913930964822809]])"
      ]
     },
     "execution_count": 51,
     "metadata": {},
     "output_type": "execute_result"
    }
   ],
   "source": [
    "np.abs(-a)"
   ]
  },
  {
   "cell_type": "code",
   "execution_count": 52,
   "metadata": {},
   "outputs": [
    {
     "data": {
      "text/html": [
       "<table>\n",
       "<tbody>\n",
       "<tr><td><b>x</b></td><td><b>[-0.5 | 0 | 0.5]</b></td><td><b>[0.5 | 1 | 1.5]</b></td><td><b>[1.5 | 2 | 2.5]</b></td><td><b>[2.5 | 3 | 3.5]</b></td><td><b>[3.5 | 4 | 4.5]</b></td><td><b>[4.5 | 5 | 5.5]</b></td><td>...</td><td><b>[14 | 14 | 14]</b></td><td><b>[14 | 15 | 16]</b></td><td><b>[16 | 16 | 16]</b></td><td><b>[16 | 17 | 18]</b></td><td><b>[18 | 18 | 18]</b></td><td><b>[18 | 19 | 20]</b></td></tr>\n",
       "<tr><td><b></b> </td><td>2.5                    </td><td>2.1                   </td><td>2.4                   </td><td>2.8                   </td><td>2.7                   </td><td>2                     </td><td>...</td><td>1.9                  </td><td>3.6                  </td><td>2.7                  </td><td>2                    </td><td>1.9                  </td><td>2.1                  </td></tr>\n",
       "</tbody>\n",
       "</table>"
      ],
      "text/plain": [
       "GridArray(noname : [2.47573299 2.07860934 2.41263745 2.76069887 2.68610915 1.96206622\n",
       " 1.97995949 2.38056203 1.5458369  2.47323859 1.85709248 2.55897701\n",
       " 3.11132881 3.38851399 1.8731897  3.64638387 2.72235584 2.00816099\n",
       " 1.89944735 2.0961314 ])"
      ]
     },
     "execution_count": 52,
     "metadata": {},
     "output_type": "execute_result"
    }
   ],
   "source": [
    "np.sum(a, axis='y')"
   ]
  },
  {
   "cell_type": "code",
   "execution_count": 53,
   "metadata": {},
   "outputs": [
    {
     "data": {
      "text/html": [
       "<table>\n",
       "<tbody>\n",
       "<tr><td><b>y \\ x</b></td><td><b>[-0.5 | 0 | 0.5]</b></td><td><b>[0.5 | 1 | 1.5]</b></td><td><b>[1.5 | 2 | 2.5]</b></td><td><b>[2.5 | 3 | 3.5]</b></td><td><b>[3.5 | 4 | 4.5]</b></td><td><b>[4.5 | 5 | 5.5]</b></td><td>...</td><td><b>[14 | 14 | 14]</b></td><td><b>[14 | 15 | 16]</b></td><td><b>[16 | 16 | 16]</b></td><td><b>[16 | 17 | 18]</b></td><td><b>[18 | 18 | 18]</b></td><td><b>[18 | 19 | 20]</b></td></tr>\n",
       "<tr><td><b>0</b>    </td><td>0.85                   </td><td>0.78                  </td><td>0.015                 </td><td>0.51                  </td><td>0.59                  </td><td>0.76                  </td><td>...</td><td>0.069                </td><td>0.98                 </td><td>0.49                 </td><td>0.76                 </td><td>0.72                 </td><td>0.28                 </td></tr>\n",
       "<tr><td><b>1</b>    </td><td>0.24                   </td><td>0.19                  </td><td>0.38                  </td><td>0.32                  </td><td>0.47                  </td><td>0.035                 </td><td>...</td><td>0.35                 </td><td>0.81                 </td><td>0.36                 </td><td>0.34                 </td><td>0.33                 </td><td>0.39                 </td></tr>\n",
       "<tr><td><b>2</b>    </td><td>0.22                   </td><td>0.19                  </td><td>0.88                  </td><td>0.91                  </td><td>0.17                  </td><td>0.19                  </td><td>...</td><td>0.34                 </td><td>0.75                 </td><td>0.57                 </td><td>0.071                </td><td>0.46                 </td><td>0.23                 </td></tr>\n",
       "<tr><td><b>3</b>    </td><td>0.3                    </td><td>0.8                   </td><td>0.57                  </td><td>0.71                  </td><td>0.69                  </td><td>0.24                  </td><td>...</td><td>1                    </td><td>0.46                 </td><td>0.44                 </td><td>0.053                </td><td>0.28                 </td><td>0.61                 </td></tr>\n",
       "<tr><td><b>4</b>    </td><td>0.86                   </td><td>0.11                  </td><td>0.57                  </td><td>0.32                  </td><td>0.76                  </td><td>0.74                  </td><td>...</td><td>0.12                 </td><td>0.65                 </td><td>0.86                 </td><td>0.79                 </td><td>0.11                 </td><td>0.59                 </td></tr>\n",
       "</tbody>\n",
       "</table>"
      ],
      "text/plain": [
       "GridArray(noname : [[0.85279248 0.24440753 0.22146778 0.29766782 0.85939738]\n",
       " [0.77983507 0.19216098 0.19197114 0.80326017 0.11138197]\n",
       " [0.01486645 0.37611043 0.87909111 0.57355359 0.56901587]\n",
       " [0.50764901 0.32024871 0.90977252 0.70567072 0.31735792]\n",
       " [0.59344474 0.4687886  0.17346555 0.68554554 0.76486471]\n",
       " [0.75659469 0.03509694 0.19061136 0.23778921 0.74197402]\n",
       " [0.16783564 0.30915033 0.76155305 0.4585476  0.28287287]\n",
       " [0.45633915 0.57300663 0.82598819 0.28681096 0.23841711]\n",
       " [0.12166904 0.02135363 0.7423998  0.20301303 0.4574014 ]\n",
       " [0.55100911 0.03553891 0.71801821 0.53271027 0.6359621 ]\n",
       " [0.22147657 0.2308802  0.20874598 0.68896662 0.5070231 ]\n",
       " [0.96346068 0.32156379 0.60535039 0.11693936 0.55166279]\n",
       " [0.62374063 0.7690904  0.95618792 0.04052208 0.72178777]\n",
       " [0.68923741 0.34289985 0.83438166 0.94867244 0.57332264]\n",
       " [0.06921834 0.34692325 0.34132236 0.99677451 0.11895123]\n",
       " [0.97876259 0.8095736  0.74597086 0.46277179 0.64930504]\n",
       " [0.4915062  0.35504705 0.57101918 0.44020207 0.86458134]\n",
       " [0.75583723 0.33791936 0.07120498 0.0528636  0.79033581]\n",
       " [0.71835868 0.32544514 0.46354073 0.28378297 0.10831984]\n",
       " [0.27516358 0.39160876 0.23207632 0.60588964 0.5913931 ]])"
      ]
     },
     "execution_count": 53,
     "metadata": {},
     "output_type": "execute_result"
    }
   ],
   "source": [
    "a"
   ]
  },
  {
   "cell_type": "code",
   "execution_count": 54,
   "metadata": {},
   "outputs": [
    {
     "data": {
      "text/html": [
       "<table>\n",
       "<tbody>\n",
       "<tr><td><b>y \\ x</b></td><td><b>[-0.5 | 0 | 0.5]</b></td><td><b>[0.5 | 1 | 1.5]</b></td><td><b>[1.5 | 2 | 2.5]</b></td><td><b>[2.5 | 3 | 3.5]</b></td><td><b>[3.5 | 4 | 4.5]</b></td><td><b>[4.5 | 5 | 5.5]</b></td><td>...</td><td><b>[14 | 14 | 14]</b></td><td><b>[14 | 15 | 16]</b></td><td><b>[16 | 16 | 16]</b></td><td><b>[16 | 17 | 18]</b></td><td><b>[18 | 18 | 18]</b></td><td><b>[18 | 19 | 20]</b></td></tr>\n",
       "<tr><td><b>0</b>    </td><td>0.37                   </td><td>0.34                  </td><td>0.0065                </td><td>0.22                  </td><td>0.26                  </td><td>0.33                  </td><td>...</td><td>0.03                 </td><td>0.43                 </td><td>0.21                 </td><td>0.33                 </td><td>0.31                 </td><td>0.12                 </td></tr>\n",
       "<tr><td><b>1</b>    </td><td>0.11                   </td><td>0.083                 </td><td>0.16                  </td><td>0.14                  </td><td>0.2                   </td><td>0.015                 </td><td>...</td><td>0.15                 </td><td>0.35                 </td><td>0.15                 </td><td>0.15                 </td><td>0.14                 </td><td>0.17                 </td></tr>\n",
       "<tr><td><b>2</b>    </td><td>0.096                  </td><td>0.083                 </td><td>0.38                  </td><td>0.4                   </td><td>0.075                 </td><td>0.083                 </td><td>...</td><td>0.15                 </td><td>0.32                 </td><td>0.25                 </td><td>0.031                </td><td>0.2                  </td><td>0.1                  </td></tr>\n",
       "<tr><td><b>3</b>    </td><td>0.13                   </td><td>0.35                  </td><td>0.25                  </td><td>0.31                  </td><td>0.3                   </td><td>0.1                   </td><td>...</td><td>0.43                 </td><td>0.2                  </td><td>0.19                 </td><td>0.023                </td><td>0.12                 </td><td>0.26                 </td></tr>\n",
       "<tr><td><b>4</b>    </td><td>0.37                   </td><td>0.048                 </td><td>0.25                  </td><td>0.14                  </td><td>0.33                  </td><td>0.32                  </td><td>...</td><td>0.052                </td><td>0.28                 </td><td>0.38                 </td><td>0.34                 </td><td>0.047                </td><td>0.26                 </td></tr>\n",
       "</tbody>\n",
       "</table>"
      ],
      "text/plain": [
       "GridArray(noname : [[0.3703630696854266 0.10614484105610703 0.09618223550349403\n",
       "  0.12927549032176916 0.37323153873930015]\n",
       " [0.3386780694974772 0.08345445110552993 0.08337200715921145\n",
       "  0.34885146017105984 0.0483725766595252]\n",
       " [0.006456418649161937 0.16334268533365556 0.3817844160150598\n",
       "  0.2490911589381129 0.24712045150049464]\n",
       " [0.22046916359654453 0.13908224592447185 0.3951091846711285\n",
       "  0.3064688981884903 0.13782679211626836]\n",
       " [0.25772977610662073 0.20359230372290976 0.07533513309751724\n",
       "  0.29772864692158557 0.3321765222707676]\n",
       " [0.32858489911918853 0.015242406367114922 0.08278146374089998\n",
       "  0.10327054077795512 0.3222352208841755]\n",
       " [0.0728900920662957 0.13426228449254185 0.3307382863108913\n",
       "  0.19914469297647247 0.12285012690323924]\n",
       " [0.19818557266600076 0.24885361678317047 0.3587221110197096\n",
       "  0.12456041810147253 0.10354323657006577]\n",
       " [0.05284019294116049 0.00927376515227629 0.32242013775062683\n",
       "  0.08816743933038702 0.1986469019469776]\n",
       " [0.23930021699153559 0.015434351000252226 0.31183134449113253\n",
       "  0.231353131129692 0.276194829517222]\n",
       " [0.09618605170727876 0.10026999821784148 0.09065722828777338\n",
       "  0.2992144033727955 0.22019733604609426]\n",
       " [0.4184256574713716 0.13965337962072005 0.26290033252157446\n",
       "  0.05078611929393599 0.23958410378372197]\n",
       " [0.27088711489886114 0.33401171811416674 0.41526713913510616\n",
       "  0.017598513962416077 0.31346844591256307]\n",
       " [0.29933200282457834 0.14891951399990436 0.36236734889926087\n",
       "  0.4120032054623022 0.24899085730881368]\n",
       " [0.030061144643313078 0.15066685459596182 0.14823441884089653\n",
       "  0.432893668229543 0.05165986186478474]\n",
       " [0.42507119083394695 0.35159334506387113 0.3239710302096983\n",
       "  0.20097923307170154 0.2819895953831705]\n",
       " [0.2134584296359582 0.15419497267544802 0.2479904807767038\n",
       "  0.19117733140150375 0.375482905023609]\n",
       " [0.3282559397669306 0.14675651301120807 0.030923931902493113\n",
       "  0.022958368997429885 0.3432384813255164]\n",
       " [0.31197921020742736 0.14133902696466014 0.20131317907897164\n",
       "  0.12324537929940818 0.04704270806285094]\n",
       " [0.11950202549304911 0.1700735240745615 0.10078946328823384\n",
       "  0.2631345284934874 0.25683875843793197]])"
      ]
     },
     "execution_count": 54,
     "metadata": {},
     "output_type": "execute_result"
    }
   ],
   "source": [
    "np.log10(np.exp(np.fabs(a)))"
   ]
  },
  {
   "cell_type": "code",
   "execution_count": null,
   "metadata": {},
   "outputs": [],
   "source": []
  },
  {
   "cell_type": "code",
   "execution_count": 55,
   "metadata": {},
   "outputs": [
    {
     "data": {
      "text/html": [
       "<table>\n",
       "<tbody>\n",
       "<tr><td><b>x</b></td><td><b>[-0.5 | 0 | 0.5]</b>  </td><td><b>[0.5 | 1 | 1.5]</b>   </td><td><b>[1.5 | 2 | 2.5]</b>   </td><td><b>[2.5 | 3 | 3.5]</b>   </td><td><b>[3.5 | 4 | 4.5]</b>   </td><td><b>[4.5 | 5 | 5.5]</b>   </td><td>...</td><td><b>[14 | 14 | 14]</b>    </td><td><b>[14 | 15 | 16]</b>    </td><td><b>[16 | 16 | 16]</b>    </td><td><b>[16 | 17 | 18]</b>    </td><td><b>[18 | 18 | 18]</b>    </td><td><b>[18 | 19 | 20]</b>    </td></tr>\n",
       "<tr><td><b></b> </td><td>[0.85 1.1  ... 1.62 2.48]</td><td>[0.78 0.97 ... 1.97 2.08]</td><td>[0.01 0.39 ... 1.84 2.41]</td><td>[0.51 0.83 ... 2.44 2.76]</td><td>[0.59 1.06 ... 1.92 2.69]</td><td>[0.76 0.79 ... 1.22 1.96]</td><td>...</td><td>[0.07 0.42 ... 1.75 1.87]</td><td>[0.98 1.79 ... 3.   3.65]</td><td>[0.49 0.85 ... 1.86 2.72]</td><td>[0.76 1.09 ... 1.22 2.01]</td><td>[0.72 1.04 ... 1.79 1.9 ]</td><td>[0.28 0.67 ... 1.5  2.1 ]</td></tr>\n",
       "</tbody>\n",
       "</table>"
      ],
      "text/plain": [
       "GridArray(noname : [[0.85279248 1.09720001 1.31866779 1.61633561 2.47573299]\n",
       " [0.77983507 0.97199605 1.16396719 1.96722736 2.07860934]\n",
       " [0.01486645 0.39097689 1.27006799 1.84362158 2.41263745]\n",
       " [0.50764901 0.82789772 1.73767023 2.44334095 2.76069887]\n",
       " [0.59344474 1.06223334 1.2356989  1.92124444 2.68610915]\n",
       " [0.75659469 0.79169163 0.98230299 1.2200922  1.96206622]\n",
       " [0.16783564 0.47698597 1.23853902 1.69708662 1.97995949]\n",
       " [0.45633915 1.02934577 1.85533396 2.14214492 2.38056203]\n",
       " [0.12166904 0.14302267 0.88542248 1.08843551 1.5458369 ]\n",
       " [0.55100911 0.58654802 1.30456622 1.8372765  2.47323859]\n",
       " [0.22147657 0.45235677 0.66110275 1.35006938 1.85709248]\n",
       " [0.96346068 1.28502447 1.89037486 2.00731422 2.55897701]\n",
       " [0.62374063 1.39283104 2.34901896 2.38954104 3.11132881]\n",
       " [0.68923741 1.03213726 1.86651892 2.81519136 3.38851399]\n",
       " [0.06921834 0.4161416  0.75746396 1.75423847 1.8731897 ]\n",
       " [0.97876259 1.78833618 2.53430705 2.99707883 3.64638387]\n",
       " [0.4915062  0.84655324 1.41757243 1.8577745  2.72235584]\n",
       " [0.75583723 1.09375659 1.16496158 1.21782518 2.00816099]\n",
       " [0.71835868 1.04380382 1.50734454 1.79112751 1.89944735]\n",
       " [0.27516358 0.66677234 0.89884866 1.5047383  2.0961314 ]])"
      ]
     },
     "execution_count": 55,
     "metadata": {},
     "output_type": "execute_result"
    }
   ],
   "source": [
    "np.cumsum(a, axis='y')"
   ]
  },
  {
   "cell_type": "code",
   "execution_count": 56,
   "metadata": {},
   "outputs": [
    {
     "data": {
      "text/html": [
       "<table>\n",
       "<tbody>\n",
       "<tr><td><b>x</b></td><td><b>[18 | 19 | 20]</b></td><td><b>[16 | 17 | 18]</b></td><td><b>[14 | 15 | 16]</b></td><td><b>[12 | 13 | 14]</b></td><td><b>[10 | 11 | 12]</b></td><td><b>[8.5 | 9 | 9.5]</b></td><td><b>[6.5 | 7 | 7.5]</b></td><td><b>[4.5 | 5 | 5.5]</b></td><td><b>[2.5 | 3 | 3.5]</b></td><td><b>[0.5 | 1 | 1.5]</b></td></tr>\n",
       "<tr><td><b></b> </td><td>0.16                 </td><td>0.32                 </td><td>0.17                 </td><td>0.21                 </td><td>0.29                 </td><td>0.24                  </td><td>0.21                  </td><td>0.3                   </td><td>0.23                  </td><td>0.31                  </td></tr>\n",
       "</tbody>\n",
       "</table>"
      ],
      "text/plain": [
       "GridArray(noname : [0.1555805392656905 0.3198226730365894 0.17110805376230628\n",
       " 0.21028270887347061 0.28511149650090195 0.23885995640700924\n",
       " 0.21190876442354992 0.2990412658110904 0.2290625880637583\n",
       " 0.30836050192072156])"
      ]
     },
     "execution_count": 56,
     "metadata": {},
     "output_type": "execute_result"
    }
   ],
   "source": [
    "np.std(a, axis='y')[::-2]"
   ]
  },
  {
   "cell_type": "code",
   "execution_count": 57,
   "metadata": {},
   "outputs": [],
   "source": [
    "a[a > 0.5] *= 10"
   ]
  },
  {
   "cell_type": "code",
   "execution_count": 58,
   "metadata": {},
   "outputs": [
    {
     "data": {
      "text/html": [
       "<table>\n",
       "<tbody>\n",
       "<tr><td><b>x \\ y</b>           </td><td><b>0</b></td><td><b>1</b></td><td><b>2</b></td><td><b>3</b></td><td><b>4</b></td></tr>\n",
       "<tr><td><b>[-0.5 | 0 | 0.5]</b></td><td>8.5     </td><td>0.24    </td><td>0.22    </td><td>0.3     </td><td>8.6     </td></tr>\n",
       "<tr><td><b>[0.5 | 1 | 1.5]</b> </td><td>7.8     </td><td>0.19    </td><td>0.19    </td><td>8       </td><td>0.11    </td></tr>\n",
       "<tr><td><b>[1.5 | 2 | 2.5]</b> </td><td>0.015   </td><td>0.38    </td><td>8.8     </td><td>5.7     </td><td>5.7     </td></tr>\n",
       "<tr><td><b>[2.5 | 3 | 3.5]</b> </td><td>5.1     </td><td>0.32    </td><td>9.1     </td><td>7.1     </td><td>0.32    </td></tr>\n",
       "<tr><td><b>[3.5 | 4 | 4.5]</b> </td><td>5.9     </td><td>0.47    </td><td>0.17    </td><td>6.9     </td><td>7.6     </td></tr>\n",
       "<tr><td><b>[4.5 | 5 | 5.5]</b> </td><td>7.6     </td><td>0.035   </td><td>0.19    </td><td>0.24    </td><td>7.4     </td></tr>\n",
       "<tr><td>...                    </td><td>...     </td><td>...     </td><td>...     </td><td>...     </td><td>...     </td></tr>\n",
       "<tr><td><b>[14 | 14 | 14]</b>  </td><td>0.069   </td><td>0.35    </td><td>0.34    </td><td>10      </td><td>0.12    </td></tr>\n",
       "<tr><td><b>[14 | 15 | 16]</b>  </td><td>9.8     </td><td>8.1     </td><td>7.5     </td><td>0.46    </td><td>6.5     </td></tr>\n",
       "<tr><td><b>[16 | 16 | 16]</b>  </td><td>0.49    </td><td>0.36    </td><td>5.7     </td><td>0.44    </td><td>8.6     </td></tr>\n",
       "<tr><td><b>[16 | 17 | 18]</b>  </td><td>7.6     </td><td>0.34    </td><td>0.071   </td><td>0.053   </td><td>7.9     </td></tr>\n",
       "<tr><td><b>[18 | 18 | 18]</b>  </td><td>7.2     </td><td>0.33    </td><td>0.46    </td><td>0.28    </td><td>0.11    </td></tr>\n",
       "<tr><td><b>[18 | 19 | 20]</b>  </td><td>0.28    </td><td>0.39    </td><td>0.23    </td><td>6.1     </td><td>5.9     </td></tr>\n",
       "</tbody>\n",
       "</table>"
      ],
      "text/plain": [
       "GridArray(noname : [[8.52792483 7.79835074 0.01486645 5.0764901  5.9344474  7.5659469\n",
       "  0.16783564 0.45633915 0.12166904 5.51009112 0.22147657 9.63460681\n",
       "  6.23740633 6.89237408 0.06921834 9.78762587 0.4915062  7.55837234\n",
       "  7.18358679 0.27516358]\n",
       " [0.24440753 0.19216098 0.37611043 0.32024871 0.4687886  0.03509694\n",
       "  0.30915033 5.73006628 0.02135363 0.03553891 0.2308802  0.32156379\n",
       "  7.69090403 0.34289985 0.34692325 8.09573595 0.35504705 0.33791936\n",
       "  0.32544514 0.39160876]\n",
       " [0.22146778 0.19197114 8.79091105 9.09772519 0.17346555 0.19061136\n",
       "  7.61553048 8.25988185 7.42399803 7.18018205 0.20874598 6.05350387\n",
       "  9.56187924 8.34381656 0.34132236 7.45970865 5.71019184 0.07120498\n",
       "  0.46354073 0.23207632]\n",
       " [0.29766782 8.03260172 5.73553589 7.05670716 6.85545544 0.23778921\n",
       "  0.4585476  0.28681096 0.20301303 5.32710271 6.88966625 0.11693936\n",
       "  0.04052208 9.48672439 9.96774507 0.46277179 0.44020207 0.0528636\n",
       "  0.28378297 6.05889643]\n",
       " [8.59397377 0.11138197 5.69015868 0.31735792 7.64864708 7.41974016\n",
       "  0.28287287 0.23841711 0.4574014  6.35962097 5.07023103 5.51662786\n",
       "  7.21787771 5.73322636 0.11895123 6.49305039 8.6458134  7.9033581\n",
       "  0.10831984 5.91393096]])"
      ]
     },
     "execution_count": 58,
     "metadata": {},
     "output_type": "execute_result"
    }
   ],
   "source": [
    "a.T"
   ]
  },
  {
   "cell_type": "code",
   "execution_count": 59,
   "metadata": {},
   "outputs": [
    {
     "data": {
      "text/html": [
       "<table>\n",
       "<tbody>\n",
       "<tr><td><b>y \\ x</b></td><td><b>[2.5 | 3 | 3.5]</b></td><td><b>[3.5 | 4 | 4.5]</b></td></tr>\n",
       "<tr><td><b>0</b>    </td><td>5.1                   </td><td>5.9                   </td></tr>\n",
       "<tr><td><b>1</b>    </td><td>0.32                  </td><td>0.47                  </td></tr>\n",
       "<tr><td><b>2</b>    </td><td>9.1                   </td><td>0.17                  </td></tr>\n",
       "<tr><td><b>3</b>    </td><td>7.1                   </td><td>6.9                   </td></tr>\n",
       "<tr><td><b>4</b>    </td><td>0.32                  </td><td>7.6                   </td></tr>\n",
       "</tbody>\n",
       "</table>"
      ],
      "text/plain": [
       "GridArray(noname : [[5.0764901  0.32024871 9.09772519 7.05670716 0.31735792]\n",
       " [5.9344474  0.4687886  0.17346555 6.85545544 7.64864708]])"
      ]
     },
     "execution_count": 59,
     "metadata": {},
     "output_type": "execute_result"
    }
   ],
   "source": [
    "a[3:5]"
   ]
  },
  {
   "cell_type": "code",
   "execution_count": 60,
   "metadata": {},
   "outputs": [
    {
     "data": {
      "text/html": [
       "<table>\n",
       "<tbody>\n",
       "<tr><td><b>y</b></td><td><b>0</b></td><td><b>1</b></td><td><b>2</b></td><td><b>3</b></td><td><b>4</b></td></tr>\n",
       "<tr><td><b></b> </td><td>90      </td><td>26      </td><td>88      </td><td>68      </td><td>90      </td></tr>\n",
       "</tbody>\n",
       "</table>"
      ],
      "text/plain": [
       "GridArray(noname : [89.52529829 26.17184973 87.59173502 68.29134556 89.84095882])"
      ]
     },
     "execution_count": 60,
     "metadata": {},
     "output_type": "execute_result"
    }
   ],
   "source": [
    "np.sum(a, axis=0)"
   ]
  },
  {
   "cell_type": "code",
   "execution_count": 61,
   "metadata": {},
   "outputs": [
    {
     "data": {
      "text/html": [
       "<table>\n",
       "<tbody>\n",
       "<tr><td><b>y \\ x</b></td><td><b>[-0.5 | 0 | 0.5]</b></td><td><b>[0.5 | 1 | 1.5]</b></td><td><b>[1.5 | 2 | 2.5]</b></td><td><b>[2.5 | 3 | 3.5]</b></td><td><b>[3.5 | 4 | 4.5]</b></td><td><b>[4.5 | 5 | 5.5]</b></td><td>...</td><td><b>[14 | 14 | 14]</b></td><td><b>[14 | 15 | 16]</b></td><td><b>[16 | 16 | 16]</b></td><td><b>[16 | 17 | 18]</b></td><td><b>[18 | 18 | 18]</b></td><td><b>[18 | 19 | 20]</b></td></tr>\n",
       "<tr><td><b>0</b>    </td><td>17                     </td><td>16                    </td><td>0.03                  </td><td>10                    </td><td>12                    </td><td>15                    </td><td>...</td><td>0.14                 </td><td>20                   </td><td>0.98                 </td><td>15                   </td><td>14                   </td><td>0.55                 </td></tr>\n",
       "<tr><td><b>1</b>    </td><td>0.49                   </td><td>0.38                  </td><td>0.75                  </td><td>0.64                  </td><td>0.94                  </td><td>0.07                  </td><td>...</td><td>0.69                 </td><td>16                   </td><td>0.71                 </td><td>0.68                 </td><td>0.65                 </td><td>0.78                 </td></tr>\n",
       "<tr><td><b>2</b>    </td><td>0.44                   </td><td>0.38                  </td><td>18                    </td><td>18                    </td><td>0.35                  </td><td>0.38                  </td><td>...</td><td>0.68                 </td><td>15                   </td><td>11                   </td><td>0.14                 </td><td>0.93                 </td><td>0.46                 </td></tr>\n",
       "<tr><td><b>3</b>    </td><td>0.6                    </td><td>16                    </td><td>11                    </td><td>14                    </td><td>14                    </td><td>0.48                  </td><td>...</td><td>20                   </td><td>0.93                 </td><td>0.88                 </td><td>0.11                 </td><td>0.57                 </td><td>12                   </td></tr>\n",
       "<tr><td><b>4</b>    </td><td>17                     </td><td>0.22                  </td><td>11                    </td><td>0.63                  </td><td>15                    </td><td>15                    </td><td>...</td><td>0.24                 </td><td>13                   </td><td>17                   </td><td>16                   </td><td>0.22                 </td><td>12                   </td></tr>\n",
       "</tbody>\n",
       "</table>"
      ],
      "text/plain": [
       "GridArray(noname : [[17.05584967  0.48881506  0.44293556  0.59533563 17.18794755]\n",
       " [15.59670148  0.38432195  0.38394228 16.06520344  0.22276395]\n",
       " [ 0.02973291  0.75222086 17.5818221  11.47107179 11.38031736]\n",
       " [10.15298019  0.64049741 18.19545037 14.11341433  0.63471583]\n",
       " [11.86889481  0.93757721  0.34693111 13.71091088 15.29729417]\n",
       " [15.13189381  0.07019388  0.38122273  0.47557842 14.83948032]\n",
       " [ 0.33567128  0.61830067 15.23106095  0.9170952   0.56574574]\n",
       " [ 0.91267829 11.46013257 16.51976371  0.57362192  0.47683423]\n",
       " [ 0.24333808  0.04270727 14.84799606  0.40602606  0.91480279]\n",
       " [11.02018225  0.07107781 14.36036411 10.65420542 12.71924194]\n",
       " [ 0.44295314  0.46176041  0.41749196 13.7793325  10.14046207]\n",
       " [19.26921363  0.64312758 12.10700773  0.23387872 11.03325572]\n",
       " [12.47481265 15.38180806 19.12375848  0.08104415 14.43575541]\n",
       " [13.78474815  0.68579971 16.68763312 18.97344878 11.46645273]\n",
       " [ 0.13843669  0.69384651  0.68264473 19.93549015  0.23790246]\n",
       " [19.57525175 16.1914719  14.91941729  0.92554357 12.98610077]\n",
       " [ 0.9830124   0.71009409 11.42038368  0.88040415 17.2916268 ]\n",
       " [15.11674467  0.67583872  0.14240997  0.1057272  15.80671621]\n",
       " [14.36717357  0.65089027  0.92708145  0.56756595  0.21663968]\n",
       " [ 0.55032716  0.78321752  0.46415263 12.11779286 11.82786193]])"
      ]
     },
     "execution_count": 61,
     "metadata": {},
     "output_type": "execute_result"
    }
   ],
   "source": [
    "a * 2"
   ]
  },
  {
   "cell_type": "code",
   "execution_count": 62,
   "metadata": {},
   "outputs": [],
   "source": [
    "m = np.ma.masked_array(np.arange(10))"
   ]
  },
  {
   "cell_type": "code",
   "execution_count": 63,
   "metadata": {},
   "outputs": [],
   "source": [
    "m.mask = m < 6"
   ]
  },
  {
   "cell_type": "code",
   "execution_count": 64,
   "metadata": {},
   "outputs": [
    {
     "data": {
      "text/plain": [
       "array([ 0,  1,  2,  3,  4,  5, 18, 21, 24, 27])"
      ]
     },
     "execution_count": 64,
     "metadata": {},
     "output_type": "execute_result"
    }
   ],
   "source": [
    "(m * 3).data"
   ]
  },
  {
   "cell_type": "code",
   "execution_count": 65,
   "metadata": {},
   "outputs": [],
   "source": [
    "# add something\n",
    "g['a'] = np.random.rand(g.grid.size).reshape(g.shape)"
   ]
  },
  {
   "cell_type": "code",
   "execution_count": 66,
   "metadata": {},
   "outputs": [
    {
     "data": {
      "text/html": [
       "<table>\n",
       "<tbody>\n",
       "<tr><td><b>y \\ x</b></td><td><b>[-0.5 | 0 | 0.5]</b></td><td><b>[0.5 | 1 | 1.5]</b></td><td><b>[1.5 | 2 | 2.5]</b></td><td><b>[2.5 | 3 | 3.5]</b></td><td><b>[3.5 | 4 | 4.5]</b></td><td><b>[4.5 | 5 | 5.5]</b></td><td>...</td><td><b>[14 | 14 | 14]</b></td><td><b>[14 | 15 | 16]</b></td><td><b>[16 | 16 | 16]</b></td><td><b>[16 | 17 | 18]</b></td><td><b>[18 | 18 | 18]</b></td><td><b>[18 | 19 | 20]</b></td></tr>\n",
       "<tr><td><b>0</b>    </td><td>0.9                    </td><td>0.82                  </td><td>0.21                  </td><td>0.2                   </td><td>0.4                   </td><td>0.57                  </td><td>...</td><td>0.12                 </td><td>0.12                 </td><td>0.39                 </td><td>0.27                 </td><td>0.8                  </td><td>0.11                 </td></tr>\n",
       "<tr><td><b>1</b>    </td><td>0.53                   </td><td>0.91                  </td><td>0.73                  </td><td>0.79                  </td><td>0.73                  </td><td>0.28                  </td><td>...</td><td>0.41                 </td><td>0.093                </td><td>0.33                 </td><td>0.97                 </td><td>0.66                 </td><td>0.83                 </td></tr>\n",
       "<tr><td><b>2</b>    </td><td>0.73                   </td><td>0.06                  </td><td>0.93                  </td><td>0.69                  </td><td>0.71                  </td><td>0.25                  </td><td>...</td><td>0.086                </td><td>0.64                 </td><td>0.7                  </td><td>0.041                </td><td>0.47                 </td><td>0.41                 </td></tr>\n",
       "<tr><td><b>3</b>    </td><td>0.55                   </td><td>0.25                  </td><td>0.23                  </td><td>0.89                  </td><td>0.72                  </td><td>0.062                 </td><td>...</td><td>0.63                 </td><td>0.017                </td><td>0.39                 </td><td>0.69                 </td><td>0.82                 </td><td>0.27                 </td></tr>\n",
       "<tr><td><b>4</b>    </td><td>0.52                   </td><td>0.28                  </td><td>0.6                   </td><td>0.86                  </td><td>0.68                  </td><td>0.8                   </td><td>...</td><td>0.11                 </td><td>0.39                 </td><td>0.97                 </td><td>0.3                  </td><td>0.58                 </td><td>0.69                 </td></tr>\n",
       "</tbody>\n",
       "</table>"
      ],
      "text/plain": [
       "GridArray(noname : [[0.8955654  0.52710248 0.73370501 0.54634915 0.52368598]\n",
       " [0.82413602 0.91112014 0.06011037 0.25127009 0.27729142]\n",
       " [0.20812772 0.7329453  0.9254161  0.23277165 0.5960185 ]\n",
       " [0.19718584 0.7902864  0.69367125 0.88574021 0.86052956]\n",
       " [0.40436585 0.72750648 0.71122236 0.72478348 0.6847975 ]\n",
       " [0.56509877 0.28275362 0.24724485 0.06197082 0.80245146]\n",
       " [0.08910227 0.59399475 0.20514605 0.48578045 0.27869258]\n",
       " [0.55327472 0.22089206 0.94288546 0.56603444 0.49211571]\n",
       " [0.87991656 0.04438234 0.37731103 0.07518645 0.67056757]\n",
       " [0.86637374 0.26759321 0.26182507 0.09985251 0.17313404]\n",
       " [0.76558851 0.2515386  0.42107381 0.87866936 0.99951926]\n",
       " [0.15338604 0.04923163 0.29962297 0.6708976  0.58401704]\n",
       " [0.04004417 0.66870697 0.91348951 0.16894117 0.89053516]\n",
       " [0.23916468 0.61807383 0.61120683 0.62980465 0.35009106]\n",
       " [0.12061862 0.40777106 0.08620122 0.62587605 0.11115614]\n",
       " [0.12308512 0.09342794 0.63563416 0.01662477 0.3938922 ]\n",
       " [0.38793716 0.32807649 0.69760227 0.38712137 0.96505393]\n",
       " [0.27113862 0.97236714 0.04082415 0.68871101 0.30363298]\n",
       " [0.80394601 0.65703298 0.47179354 0.81888359 0.57750879]\n",
       " [0.11201009 0.82650458 0.40754788 0.27144063 0.68964238]])"
      ]
     },
     "execution_count": 66,
     "metadata": {},
     "output_type": "execute_result"
    }
   ],
   "source": [
    "np.asanyarray(g['a'])"
   ]
  },
  {
   "cell_type": "code",
   "execution_count": 67,
   "metadata": {},
   "outputs": [
    {
     "data": {
      "text/html": [
       "<table>\n",
       "<tbody>\n",
       "<tr><td><b>y \\ x</b></td><td><b>[-0.5 | 0 | 0.5]</b></td><td><b>[0.5 | 1 | 1.5]</b></td><td><b>[1.5 | 2 | 2.5]</b></td><td><b>[2.5 | 3 | 3.5]</b></td><td><b>[3.5 | 4 | 4.5]</b></td><td><b>[4.5 | 5 | 5.5]</b></td><td>...</td><td><b>[14 | 14 | 14]</b></td><td><b>[14 | 15 | 16]</b></td><td><b>[16 | 16 | 16]</b></td><td><b>[16 | 17 | 18]</b></td><td><b>[18 | 18 | 18]</b></td><td><b>[18 | 19 | 20]</b></td></tr>\n",
       "<tr><td><b>0</b>    </td><td>a = 0.9                </td><td>a = 0.82              </td><td>a = 0.21              </td><td>a = 0.2               </td><td>a = 0.4               </td><td>a = 0.57              </td><td>...</td><td>a = 0.12             </td><td>a = 0.12             </td><td>a = 0.39             </td><td>a = 0.27             </td><td>a = 0.8              </td><td>a = 0.11             </td></tr>\n",
       "<tr><td><b>1</b>    </td><td>a = 0.53               </td><td>a = 0.91              </td><td>a = 0.73              </td><td>a = 0.79              </td><td>a = 0.73              </td><td>a = 0.28              </td><td>...</td><td>a = 0.41             </td><td>a = 0.093            </td><td>a = 0.33             </td><td>a = 0.97             </td><td>a = 0.66             </td><td>a = 0.83             </td></tr>\n",
       "<tr><td><b>2</b>    </td><td>a = 0.73               </td><td>a = 0.06              </td><td>a = 0.93              </td><td>a = 0.69              </td><td>a = 0.71              </td><td>a = 0.25              </td><td>...</td><td>a = 0.086            </td><td>a = 0.64             </td><td>a = 0.7              </td><td>a = 0.041            </td><td>a = 0.47             </td><td>a = 0.41             </td></tr>\n",
       "<tr><td><b>3</b>    </td><td>a = 0.55               </td><td>a = 0.25              </td><td>a = 0.23              </td><td>a = 0.89              </td><td>a = 0.72              </td><td>a = 0.062             </td><td>...</td><td>a = 0.63             </td><td>a = 0.017            </td><td>a = 0.39             </td><td>a = 0.69             </td><td>a = 0.82             </td><td>a = 0.27             </td></tr>\n",
       "<tr><td><b>4</b>    </td><td>a = 0.52               </td><td>a = 0.28              </td><td>a = 0.6               </td><td>a = 0.86              </td><td>a = 0.68              </td><td>a = 0.8               </td><td>...</td><td>a = 0.11             </td><td>a = 0.39             </td><td>a = 0.97             </td><td>a = 0.3              </td><td>a = 0.58             </td><td>a = 0.69             </td></tr>\n",
       "</tbody>\n",
       "</table>"
      ],
      "text/plain": [
       "GridData(Grid(\n",
       "Axis(\"x\",\n",
       "points = array([ 0,  1,  2,  3,  4,  5,  6,  7,  8,  9, 10, 11, 12, 13, 14, 15, 16,\n",
       "       17, 18, 19]),\n",
       "edges = edges: array([[-0.5,  0.5],\n",
       "       [ 0.5,  1.5],\n",
       "       [ 1.5,  2.5],\n",
       "       [ 2.5,  3.5],\n",
       "       [ 3.5,  4.5],\n",
       "       [ 4.5,  5.5],\n",
       "       [ 5.5,  6.5],\n",
       "       [ 6.5,  7.5],\n",
       "       [ 7.5,  8.5],\n",
       "       [ 8.5,  9.5],\n",
       "       [ 9.5, 10.5],\n",
       "       [10.5, 11.5],\n",
       "       [11.5, 12.5],\n",
       "       [12.5, 13.5],\n",
       "       [13.5, 14.5],\n",
       "       [14.5, 15.5],\n",
       "       [15.5, 16.5],\n",
       "       [16.5, 17.5],\n",
       "       [17.5, 18.5],\n",
       "       [18.5, 19.5]]))\n",
       "nbins = 20),\n",
       "Axis(\"y\",\n",
       "points = array([0, 1, 2, 3, 4]),\n",
       "edges = edges: None)\n",
       "nbins = 5),)\n",
       "{'a': masked_array(\n",
       "  data=[[0.8955654 , 0.52710248, 0.73370501, 0.54634915, 0.52368598],\n",
       "        [0.82413602, 0.91112014, 0.06011037, 0.25127009, 0.27729142],\n",
       "        [0.20812772, 0.7329453 , 0.9254161 , 0.23277165, 0.5960185 ],\n",
       "        [0.19718584, 0.7902864 , 0.69367125, 0.88574021, 0.86052956],\n",
       "        [0.40436585, 0.72750648, 0.71122236, 0.72478348, 0.6847975 ],\n",
       "        [0.56509877, 0.28275362, 0.24724485, 0.06197082, 0.80245146],\n",
       "        [0.08910227, 0.59399475, 0.20514605, 0.48578045, 0.27869258],\n",
       "        [0.55327472, 0.22089206, 0.94288546, 0.56603444, 0.49211571],\n",
       "        [0.87991656, 0.04438234, 0.37731103, 0.07518645, 0.67056757],\n",
       "        [0.86637374, 0.26759321, 0.26182507, 0.09985251, 0.17313404],\n",
       "        [0.76558851, 0.2515386 , 0.42107381, 0.87866936, 0.99951926],\n",
       "        [0.15338604, 0.04923163, 0.29962297, 0.6708976 , 0.58401704],\n",
       "        [0.04004417, 0.66870697, 0.91348951, 0.16894117, 0.89053516],\n",
       "        [0.23916468, 0.61807383, 0.61120683, 0.62980465, 0.35009106],\n",
       "        [0.12061862, 0.40777106, 0.08620122, 0.62587605, 0.11115614],\n",
       "        [0.12308512, 0.09342794, 0.63563416, 0.01662477, 0.3938922 ],\n",
       "        [0.38793716, 0.32807649, 0.69760227, 0.38712137, 0.96505393],\n",
       "        [0.27113862, 0.97236714, 0.04082415, 0.68871101, 0.30363298],\n",
       "        [0.80394601, 0.65703298, 0.47179354, 0.81888359, 0.57750879],\n",
       "        [0.11201009, 0.82650458, 0.40754788, 0.27144063, 0.68964238]],\n",
       "  mask=False,\n",
       "  fill_value=1e+20)})"
      ]
     },
     "execution_count": 67,
     "metadata": {},
     "output_type": "execute_result"
    }
   ],
   "source": [
    "g"
   ]
  },
  {
   "cell_type": "code",
   "execution_count": 68,
   "metadata": {},
   "outputs": [],
   "source": [
    "g['b'] = np.ones(g.shape)"
   ]
  },
  {
   "cell_type": "code",
   "execution_count": 69,
   "metadata": {},
   "outputs": [
    {
     "data": {
      "text/plain": [
       "(20, 5)"
      ]
     },
     "execution_count": 69,
     "metadata": {},
     "output_type": "execute_result"
    }
   ],
   "source": [
    "g.shape"
   ]
  },
  {
   "cell_type": "code",
   "execution_count": 70,
   "metadata": {},
   "outputs": [
    {
     "data": {
      "text/html": [
       "<table>\n",
       "<tbody>\n",
       "<tr><td><b>x \\ y</b>           </td><td><b>0</b></td><td><b>1</b></td><td><b>2</b></td><td><b>3</b></td><td><b>4</b></td></tr>\n",
       "<tr><td><b>[-0.5 | 0 | 0.5]</b></td><td>1       </td><td>1       </td><td>1       </td><td>1       </td><td>1       </td></tr>\n",
       "<tr><td><b>[0.5 | 1 | 1.5]</b> </td><td>1       </td><td>1       </td><td>1       </td><td>1       </td><td>1       </td></tr>\n",
       "<tr><td><b>[1.5 | 2 | 2.5]</b> </td><td>1       </td><td>1       </td><td>1       </td><td>1       </td><td>1       </td></tr>\n",
       "<tr><td><b>[2.5 | 3 | 3.5]</b> </td><td>1       </td><td>1       </td><td>1       </td><td>1       </td><td>1       </td></tr>\n",
       "<tr><td><b>[3.5 | 4 | 4.5]</b> </td><td>1       </td><td>1       </td><td>1       </td><td>1       </td><td>1       </td></tr>\n",
       "<tr><td><b>[4.5 | 5 | 5.5]</b> </td><td>1       </td><td>1       </td><td>1       </td><td>1       </td><td>1       </td></tr>\n",
       "<tr><td>...                    </td><td>...     </td><td>...     </td><td>...     </td><td>...     </td><td>...     </td></tr>\n",
       "<tr><td><b>[14 | 14 | 14]</b>  </td><td>1       </td><td>1       </td><td>1       </td><td>1       </td><td>1       </td></tr>\n",
       "<tr><td><b>[14 | 15 | 16]</b>  </td><td>1       </td><td>1       </td><td>1       </td><td>1       </td><td>1       </td></tr>\n",
       "<tr><td><b>[16 | 16 | 16]</b>  </td><td>1       </td><td>1       </td><td>1       </td><td>1       </td><td>1       </td></tr>\n",
       "<tr><td><b>[16 | 17 | 18]</b>  </td><td>1       </td><td>1       </td><td>1       </td><td>1       </td><td>1       </td></tr>\n",
       "<tr><td><b>[18 | 18 | 18]</b>  </td><td>1       </td><td>1       </td><td>1       </td><td>1       </td><td>1       </td></tr>\n",
       "<tr><td><b>[18 | 19 | 20]</b>  </td><td>1       </td><td>1       </td><td>1       </td><td>1       </td><td>1       </td></tr>\n",
       "</tbody>\n",
       "</table>"
      ],
      "text/plain": [
       "GridArray(noname : [[1. 1. 1. 1. 1. 1. 1. 1. 1. 1. 1. 1. 1. 1. 1. 1. 1. 1. 1. 1.]\n",
       " [1. 1. 1. 1. 1. 1. 1. 1. 1. 1. 1. 1. 1. 1. 1. 1. 1. 1. 1. 1.]\n",
       " [1. 1. 1. 1. 1. 1. 1. 1. 1. 1. 1. 1. 1. 1. 1. 1. 1. 1. 1. 1.]\n",
       " [1. 1. 1. 1. 1. 1. 1. 1. 1. 1. 1. 1. 1. 1. 1. 1. 1. 1. 1. 1.]\n",
       " [1. 1. 1. 1. 1. 1. 1. 1. 1. 1. 1. 1. 1. 1. 1. 1. 1. 1. 1. 1.]])"
      ]
     },
     "execution_count": 70,
     "metadata": {},
     "output_type": "execute_result"
    }
   ],
   "source": [
    "g['b'].T"
   ]
  },
  {
   "cell_type": "code",
   "execution_count": 71,
   "metadata": {},
   "outputs": [
    {
     "data": {
      "text/plain": [
       "Grid(\n",
       "Axis(\"x\",\n",
       "points = array([ 0,  1,  2,  3,  4,  5,  6,  7,  8,  9, 10, 11, 12, 13, 14, 15, 16,\n",
       "       17, 18, 19]),\n",
       "edges = edges: array([[-0.5,  0.5],\n",
       "       [ 0.5,  1.5],\n",
       "       [ 1.5,  2.5],\n",
       "       [ 2.5,  3.5],\n",
       "       [ 3.5,  4.5],\n",
       "       [ 4.5,  5.5],\n",
       "       [ 5.5,  6.5],\n",
       "       [ 6.5,  7.5],\n",
       "       [ 7.5,  8.5],\n",
       "       [ 8.5,  9.5],\n",
       "       [ 9.5, 10.5],\n",
       "       [10.5, 11.5],\n",
       "       [11.5, 12.5],\n",
       "       [12.5, 13.5],\n",
       "       [13.5, 14.5],\n",
       "       [14.5, 15.5],\n",
       "       [15.5, 16.5],\n",
       "       [16.5, 17.5],\n",
       "       [17.5, 18.5],\n",
       "       [18.5, 19.5]]))\n",
       "nbins = 20),\n",
       "Axis(\"y\",\n",
       "points = array([0, 1, 2, 3, 4]),\n",
       "edges = edges: None)\n",
       "nbins = 5),)"
      ]
     },
     "execution_count": 71,
     "metadata": {},
     "output_type": "execute_result"
    }
   ],
   "source": [
    "np.sin(a).grid"
   ]
  },
  {
   "cell_type": "code",
   "execution_count": 72,
   "metadata": {},
   "outputs": [],
   "source": [
    "a = g['a']"
   ]
  },
  {
   "cell_type": "code",
   "execution_count": 73,
   "metadata": {},
   "outputs": [
    {
     "data": {
      "text/plain": [
       "array([[0.8955654 , 0.52710248, 0.73370501, 0.54634915, 0.52368598],\n",
       "       [0.82413602, 0.91112014, 0.06011037, 0.25127009, 0.27729142],\n",
       "       [0.20812772, 0.7329453 , 0.9254161 , 0.23277165, 0.5960185 ],\n",
       "       [0.19718584, 0.7902864 , 0.69367125, 0.88574021, 0.86052956],\n",
       "       [0.40436585, 0.72750648, 0.71122236, 0.72478348, 0.6847975 ],\n",
       "       [0.56509877, 0.28275362, 0.24724485, 0.06197082, 0.80245146],\n",
       "       [0.08910227, 0.59399475, 0.20514605, 0.48578045, 0.27869258],\n",
       "       [0.55327472, 0.22089206, 0.94288546, 0.56603444, 0.49211571],\n",
       "       [0.87991656, 0.04438234, 0.37731103, 0.07518645, 0.67056757],\n",
       "       [0.86637374, 0.26759321, 0.26182507, 0.09985251, 0.17313404],\n",
       "       [0.76558851, 0.2515386 , 0.42107381, 0.87866936, 0.99951926],\n",
       "       [0.15338604, 0.04923163, 0.29962297, 0.6708976 , 0.58401704],\n",
       "       [0.04004417, 0.66870697, 0.91348951, 0.16894117, 0.89053516],\n",
       "       [0.23916468, 0.61807383, 0.61120683, 0.62980465, 0.35009106],\n",
       "       [0.12061862, 0.40777106, 0.08620122, 0.62587605, 0.11115614],\n",
       "       [0.12308512, 0.09342794, 0.63563416, 0.01662477, 0.3938922 ],\n",
       "       [0.38793716, 0.32807649, 0.69760227, 0.38712137, 0.96505393],\n",
       "       [0.27113862, 0.97236714, 0.04082415, 0.68871101, 0.30363298],\n",
       "       [0.80394601, 0.65703298, 0.47179354, 0.81888359, 0.57750879],\n",
       "       [0.11201009, 0.82650458, 0.40754788, 0.27144063, 0.68964238]])"
      ]
     },
     "execution_count": 73,
     "metadata": {},
     "output_type": "execute_result"
    }
   ],
   "source": [
    "a.view(np.ndarray)"
   ]
  },
  {
   "cell_type": "code",
   "execution_count": 74,
   "metadata": {},
   "outputs": [],
   "source": [
    "g['b'][g['a'] < 0.5] *= -1"
   ]
  },
  {
   "cell_type": "code",
   "execution_count": 75,
   "metadata": {},
   "outputs": [
    {
     "data": {
      "text/html": [
       "<table>\n",
       "<tbody>\n",
       "<tr><td><b>y \\ x</b></td><td><b>[-0.5 | 0 | 0.5]</b></td><td><b>[0.5 | 1 | 1.5]</b></td><td><b>[1.5 | 2 | 2.5]</b></td><td><b>[2.5 | 3 | 3.5]</b></td><td><b>[3.5 | 4 | 4.5]</b></td><td><b>[4.5 | 5 | 5.5]</b></td><td>...</td><td><b>[14 | 14 | 14]</b></td><td><b>[14 | 15 | 16]</b></td><td><b>[16 | 16 | 16]</b></td><td><b>[16 | 17 | 18]</b></td><td><b>[18 | 18 | 18]</b></td><td><b>[18 | 19 | 20]</b></td></tr>\n",
       "<tr><td><b>0</b>    </td><td>a = 0.9<br>b = 1       </td><td>a = 0.82<br>b = 1     </td><td>a = 0.21<br>b = -1    </td><td>a = 0.2<br>b = -1     </td><td>a = 0.4<br>b = -1     </td><td>a = 0.57<br>b = 1     </td><td>...</td><td>a = 0.12<br>b = -1   </td><td>a = 0.12<br>b = -1   </td><td>a = 0.39<br>b = -1   </td><td>a = 0.27<br>b = -1   </td><td>a = 0.8<br>b = 1     </td><td>a = 0.11<br>b = -1   </td></tr>\n",
       "<tr><td><b>1</b>    </td><td>a = 0.53<br>b = 1      </td><td>a = 0.91<br>b = 1     </td><td>a = 0.73<br>b = 1     </td><td>a = 0.79<br>b = 1     </td><td>a = 0.73<br>b = 1     </td><td>a = 0.28<br>b = -1    </td><td>...</td><td>a = 0.41<br>b = -1   </td><td>a = 0.093<br>b = -1  </td><td>a = 0.33<br>b = -1   </td><td>a = 0.97<br>b = 1    </td><td>a = 0.66<br>b = 1    </td><td>a = 0.83<br>b = 1    </td></tr>\n",
       "<tr><td><b>2</b>    </td><td>a = 0.73<br>b = 1      </td><td>a = 0.06<br>b = -1    </td><td>a = 0.93<br>b = 1     </td><td>a = 0.69<br>b = 1     </td><td>a = 0.71<br>b = 1     </td><td>a = 0.25<br>b = -1    </td><td>...</td><td>a = 0.086<br>b = -1  </td><td>a = 0.64<br>b = 1    </td><td>a = 0.7<br>b = 1     </td><td>a = 0.041<br>b = -1  </td><td>a = 0.47<br>b = -1   </td><td>a = 0.41<br>b = -1   </td></tr>\n",
       "<tr><td><b>3</b>    </td><td>a = 0.55<br>b = 1      </td><td>a = 0.25<br>b = -1    </td><td>a = 0.23<br>b = -1    </td><td>a = 0.89<br>b = 1     </td><td>a = 0.72<br>b = 1     </td><td>a = 0.062<br>b = -1   </td><td>...</td><td>a = 0.63<br>b = 1    </td><td>a = 0.017<br>b = -1  </td><td>a = 0.39<br>b = -1   </td><td>a = 0.69<br>b = 1    </td><td>a = 0.82<br>b = 1    </td><td>a = 0.27<br>b = -1   </td></tr>\n",
       "<tr><td><b>4</b>    </td><td>a = 0.52<br>b = 1      </td><td>a = 0.28<br>b = -1    </td><td>a = 0.6<br>b = 1      </td><td>a = 0.86<br>b = 1     </td><td>a = 0.68<br>b = 1     </td><td>a = 0.8<br>b = 1      </td><td>...</td><td>a = 0.11<br>b = -1   </td><td>a = 0.39<br>b = -1   </td><td>a = 0.97<br>b = 1    </td><td>a = 0.3<br>b = -1    </td><td>a = 0.58<br>b = 1    </td><td>a = 0.69<br>b = 1    </td></tr>\n",
       "</tbody>\n",
       "</table>"
      ],
      "text/plain": [
       "GridData(Grid(\n",
       "Axis(\"x\",\n",
       "points = array([ 0,  1,  2,  3,  4,  5,  6,  7,  8,  9, 10, 11, 12, 13, 14, 15, 16,\n",
       "       17, 18, 19]),\n",
       "edges = edges: array([[-0.5,  0.5],\n",
       "       [ 0.5,  1.5],\n",
       "       [ 1.5,  2.5],\n",
       "       [ 2.5,  3.5],\n",
       "       [ 3.5,  4.5],\n",
       "       [ 4.5,  5.5],\n",
       "       [ 5.5,  6.5],\n",
       "       [ 6.5,  7.5],\n",
       "       [ 7.5,  8.5],\n",
       "       [ 8.5,  9.5],\n",
       "       [ 9.5, 10.5],\n",
       "       [10.5, 11.5],\n",
       "       [11.5, 12.5],\n",
       "       [12.5, 13.5],\n",
       "       [13.5, 14.5],\n",
       "       [14.5, 15.5],\n",
       "       [15.5, 16.5],\n",
       "       [16.5, 17.5],\n",
       "       [17.5, 18.5],\n",
       "       [18.5, 19.5]]))\n",
       "nbins = 20),\n",
       "Axis(\"y\",\n",
       "points = array([0, 1, 2, 3, 4]),\n",
       "edges = edges: None)\n",
       "nbins = 5),)\n",
       "{'a': masked_array(\n",
       "  data=[[0.8955654 , 0.52710248, 0.73370501, 0.54634915, 0.52368598],\n",
       "        [0.82413602, 0.91112014, 0.06011037, 0.25127009, 0.27729142],\n",
       "        [0.20812772, 0.7329453 , 0.9254161 , 0.23277165, 0.5960185 ],\n",
       "        [0.19718584, 0.7902864 , 0.69367125, 0.88574021, 0.86052956],\n",
       "        [0.40436585, 0.72750648, 0.71122236, 0.72478348, 0.6847975 ],\n",
       "        [0.56509877, 0.28275362, 0.24724485, 0.06197082, 0.80245146],\n",
       "        [0.08910227, 0.59399475, 0.20514605, 0.48578045, 0.27869258],\n",
       "        [0.55327472, 0.22089206, 0.94288546, 0.56603444, 0.49211571],\n",
       "        [0.87991656, 0.04438234, 0.37731103, 0.07518645, 0.67056757],\n",
       "        [0.86637374, 0.26759321, 0.26182507, 0.09985251, 0.17313404],\n",
       "        [0.76558851, 0.2515386 , 0.42107381, 0.87866936, 0.99951926],\n",
       "        [0.15338604, 0.04923163, 0.29962297, 0.6708976 , 0.58401704],\n",
       "        [0.04004417, 0.66870697, 0.91348951, 0.16894117, 0.89053516],\n",
       "        [0.23916468, 0.61807383, 0.61120683, 0.62980465, 0.35009106],\n",
       "        [0.12061862, 0.40777106, 0.08620122, 0.62587605, 0.11115614],\n",
       "        [0.12308512, 0.09342794, 0.63563416, 0.01662477, 0.3938922 ],\n",
       "        [0.38793716, 0.32807649, 0.69760227, 0.38712137, 0.96505393],\n",
       "        [0.27113862, 0.97236714, 0.04082415, 0.68871101, 0.30363298],\n",
       "        [0.80394601, 0.65703298, 0.47179354, 0.81888359, 0.57750879],\n",
       "        [0.11201009, 0.82650458, 0.40754788, 0.27144063, 0.68964238]],\n",
       "  mask=False,\n",
       "  fill_value=1e+20), 'b': masked_array(\n",
       "  data=[[ 1.,  1.,  1.,  1.,  1.],\n",
       "        [ 1.,  1., -1., -1., -1.],\n",
       "        [-1.,  1.,  1., -1.,  1.],\n",
       "        [-1.,  1.,  1.,  1.,  1.],\n",
       "        [-1.,  1.,  1.,  1.,  1.],\n",
       "        [ 1., -1., -1., -1.,  1.],\n",
       "        [-1.,  1., -1., -1., -1.],\n",
       "        [ 1., -1.,  1.,  1., -1.],\n",
       "        [ 1., -1., -1., -1.,  1.],\n",
       "        [ 1., -1., -1., -1., -1.],\n",
       "        [ 1., -1., -1.,  1.,  1.],\n",
       "        [-1., -1., -1.,  1.,  1.],\n",
       "        [-1.,  1.,  1., -1.,  1.],\n",
       "        [-1.,  1.,  1.,  1., -1.],\n",
       "        [-1., -1., -1.,  1., -1.],\n",
       "        [-1., -1.,  1., -1., -1.],\n",
       "        [-1., -1.,  1., -1.,  1.],\n",
       "        [-1.,  1., -1.,  1., -1.],\n",
       "        [ 1.,  1., -1.,  1.,  1.],\n",
       "        [-1.,  1., -1., -1.,  1.]],\n",
       "  mask=False,\n",
       "  fill_value=1e+20)})"
      ]
     },
     "execution_count": 75,
     "metadata": {},
     "output_type": "execute_result"
    }
   ],
   "source": [
    "g"
   ]
  },
  {
   "cell_type": "code",
   "execution_count": 79,
   "metadata": {},
   "outputs": [
    {
     "data": {
      "text/html": [
       "<table>\n",
       "<tbody>\n",
       "<tr><td><b>y \\ x</b></td><td><b>[-0.5 | 0 | 0.5]</b></td><td><b>[0.5 | 1 | 1.5]</b></td><td><b>[1.5 | 2 | 2.5]</b></td><td><b>[2.5 | 3 | 3.5]</b></td><td><b>[3.5 | 4 | 4.5]</b></td><td><b>[4.5 | 5 | 5.5]</b></td><td>...</td><td><b>[14 | 14 | 14]</b></td><td><b>[14 | 15 | 16]</b></td><td><b>[16 | 16 | 16]</b></td><td><b>[16 | 17 | 18]</b></td><td><b>[18 | 18 | 18]</b></td><td><b>[18 | 19 | 20]</b></td></tr>\n",
       "<tr><td><b>0</b>    </td><td>0                      </td><td>1                     </td><td>2                     </td><td>3                     </td><td>4                     </td><td>5                     </td><td>...</td><td>14                   </td><td>15                   </td><td>16                   </td><td>17                   </td><td>18                   </td><td>19                   </td></tr>\n",
       "<tr><td><b>1</b>    </td><td>0                      </td><td>1                     </td><td>2                     </td><td>3                     </td><td>4                     </td><td>5                     </td><td>...</td><td>14                   </td><td>15                   </td><td>16                   </td><td>17                   </td><td>18                   </td><td>19                   </td></tr>\n",
       "<tr><td><b>2</b>    </td><td>0                      </td><td>1                     </td><td>2                     </td><td>3                     </td><td>4                     </td><td>5                     </td><td>...</td><td>14                   </td><td>15                   </td><td>16                   </td><td>17                   </td><td>18                   </td><td>19                   </td></tr>\n",
       "<tr><td><b>3</b>    </td><td>0                      </td><td>1                     </td><td>2                     </td><td>3                     </td><td>4                     </td><td>5                     </td><td>...</td><td>14                   </td><td>15                   </td><td>16                   </td><td>17                   </td><td>18                   </td><td>19                   </td></tr>\n",
       "<tr><td><b>4</b>    </td><td>0                      </td><td>1                     </td><td>2                     </td><td>3                     </td><td>4                     </td><td>5                     </td><td>...</td><td>14                   </td><td>15                   </td><td>16                   </td><td>17                   </td><td>18                   </td><td>19                   </td></tr>\n",
       "</tbody>\n",
       "</table>"
      ],
      "text/plain": [
       "GridArray(noname : [[ 0  0  0  0  0]\n",
       " [ 1  1  1  1  1]\n",
       " [ 2  2  2  2  2]\n",
       " [ 3  3  3  3  3]\n",
       " [ 4  4  4  4  4]\n",
       " [ 5  5  5  5  5]\n",
       " [ 6  6  6  6  6]\n",
       " [ 7  7  7  7  7]\n",
       " [ 8  8  8  8  8]\n",
       " [ 9  9  9  9  9]\n",
       " [10 10 10 10 10]\n",
       " [11 11 11 11 11]\n",
       " [12 12 12 12 12]\n",
       " [13 13 13 13 13]\n",
       " [14 14 14 14 14]\n",
       " [15 15 15 15 15]\n",
       " [16 16 16 16 16]\n",
       " [17 17 17 17 17]\n",
       " [18 18 18 18 18]\n",
       " [19 19 19 19 19]])"
      ]
     },
     "execution_count": 79,
     "metadata": {},
     "output_type": "execute_result"
    }
   ],
   "source": [
    "g['x']"
   ]
  },
  {
   "cell_type": "code",
   "execution_count": 80,
   "metadata": {},
   "outputs": [
    {
     "data": {
      "text/html": [
       "<table>\n",
       "<tbody>\n",
       "<tr><td><b>y \\ x</b></td><td><b>[-0.5 | 0 | 0.5]</b></td><td><b>[0.5 | 1 | 1.5]</b></td><td><b>[1.5 | 2 | 2.5]</b></td><td><b>[2.5 | 3 | 3.5]</b></td><td><b>[3.5 | 4 | 4.5]</b></td><td><b>[4.5 | 5 | 5.5]</b></td><td>...</td><td><b>[14 | 14 | 14]</b></td><td><b>[14 | 15 | 16]</b></td><td><b>[16 | 16 | 16]</b></td><td><b>[16 | 17 | 18]</b></td><td><b>[18 | 18 | 18]</b></td><td><b>[18 | 19 | 20]</b></td></tr>\n",
       "<tr><td><b>0</b>    </td><td>0.9                    </td><td>0.82                  </td><td>0.21                  </td><td>0.2                   </td><td>0.4                   </td><td>0.57                  </td><td>...</td><td>0.12                 </td><td>0.12                 </td><td>0.39                 </td><td>0.27                 </td><td>0.8                  </td><td>0.11                 </td></tr>\n",
       "<tr><td><b>1</b>    </td><td>0.53                   </td><td>0.91                  </td><td>0.73                  </td><td>0.79                  </td><td>0.73                  </td><td>0.28                  </td><td>...</td><td>0.41                 </td><td>0.093                </td><td>0.33                 </td><td>0.97                 </td><td>0.66                 </td><td>0.83                 </td></tr>\n",
       "<tr><td><b>2</b>    </td><td>0.73                   </td><td>0.06                  </td><td>0.93                  </td><td>0.69                  </td><td>0.71                  </td><td>0.25                  </td><td>...</td><td>0.086                </td><td>0.64                 </td><td>0.7                  </td><td>0.041                </td><td>0.47                 </td><td>0.41                 </td></tr>\n",
       "<tr><td><b>3</b>    </td><td>0.55                   </td><td>0.25                  </td><td>0.23                  </td><td>0.89                  </td><td>0.72                  </td><td>0.062                 </td><td>...</td><td>0.63                 </td><td>0.017                </td><td>0.39                 </td><td>0.69                 </td><td>0.82                 </td><td>0.27                 </td></tr>\n",
       "<tr><td><b>4</b>    </td><td>0.52                   </td><td>0.28                  </td><td>0.6                   </td><td>0.86                  </td><td>0.68                  </td><td>0.8                   </td><td>...</td><td>0.11                 </td><td>0.39                 </td><td>0.97                 </td><td>0.3                  </td><td>0.58                 </td><td>0.69                 </td></tr>\n",
       "</tbody>\n",
       "</table>"
      ],
      "text/plain": [
       "GridArray(noname : [[0.8955654  0.52710248 0.73370501 0.54634915 0.52368598]\n",
       " [0.82413602 0.91112014 0.06011037 0.25127009 0.27729142]\n",
       " [0.20812772 0.7329453  0.9254161  0.23277165 0.5960185 ]\n",
       " [0.19718584 0.7902864  0.69367125 0.88574021 0.86052956]\n",
       " [0.40436585 0.72750648 0.71122236 0.72478348 0.6847975 ]\n",
       " [0.56509877 0.28275362 0.24724485 0.06197082 0.80245146]\n",
       " [0.08910227 0.59399475 0.20514605 0.48578045 0.27869258]\n",
       " [0.55327472 0.22089206 0.94288546 0.56603444 0.49211571]\n",
       " [0.87991656 0.04438234 0.37731103 0.07518645 0.67056757]\n",
       " [0.86637374 0.26759321 0.26182507 0.09985251 0.17313404]\n",
       " [0.76558851 0.2515386  0.42107381 0.87866936 0.99951926]\n",
       " [0.15338604 0.04923163 0.29962297 0.6708976  0.58401704]\n",
       " [0.04004417 0.66870697 0.91348951 0.16894117 0.89053516]\n",
       " [0.23916468 0.61807383 0.61120683 0.62980465 0.35009106]\n",
       " [0.12061862 0.40777106 0.08620122 0.62587605 0.11115614]\n",
       " [0.12308512 0.09342794 0.63563416 0.01662477 0.3938922 ]\n",
       " [0.38793716 0.32807649 0.69760227 0.38712137 0.96505393]\n",
       " [0.27113862 0.97236714 0.04082415 0.68871101 0.30363298]\n",
       " [0.80394601 0.65703298 0.47179354 0.81888359 0.57750879]\n",
       " [0.11201009 0.82650458 0.40754788 0.27144063 0.68964238]])"
      ]
     },
     "execution_count": 80,
     "metadata": {},
     "output_type": "execute_result"
    }
   ],
   "source": [
    "g['a']"
   ]
  },
  {
   "cell_type": "code",
   "execution_count": 81,
   "metadata": {},
   "outputs": [
    {
     "data": {
      "text/html": [
       "<table>\n",
       "<tbody>\n",
       "<tr><td><b>x</b></td><td><b>[-0.5 | 0 | 0.5]</b></td><td><b>[0.5 | 1 | 1.5]</b></td><td><b>[1.5 | 2 | 2.5]</b></td><td><b>[2.5 | 3 | 3.5]</b></td><td><b>[3.5 | 4 | 4.5]</b></td><td><b>[4.5 | 5 | 5.5]</b></td><td>...</td><td><b>[14 | 14 | 14]</b></td><td><b>[14 | 15 | 16]</b></td><td><b>[16 | 16 | 16]</b></td><td><b>[16 | 17 | 18]</b></td><td><b>[18 | 18 | 18]</b></td><td><b>[18 | 19 | 20]</b></td></tr>\n",
       "<tr><td><b></b> </td><td>3.2                    </td><td>2.3                   </td><td>2.7                   </td><td>3.4                   </td><td>3.3                   </td><td>2                     </td><td>...</td><td>1.4                  </td><td>1.3                  </td><td>2.8                  </td><td>2.3                  </td><td>3.3                  </td><td>2.3                  </td></tr>\n",
       "</tbody>\n",
       "</table>"
      ],
      "text/plain": [
       "GridArray(noname : [3.22640803 2.32392804 2.69527927 3.42741325 3.25267567 1.95951951\n",
       " 1.6527161  2.77520238 2.04736395 1.66877856 3.31638955 1.75715527\n",
       " 2.68171699 2.44834105 1.35162309 1.26266419 2.76579122 2.27667389\n",
       " 3.32916492 2.30714557])"
      ]
     },
     "execution_count": 81,
     "metadata": {},
     "output_type": "execute_result"
    }
   ],
   "source": [
    "np.sum(g['a'], axis='y')"
   ]
  },
  {
   "cell_type": "code",
   "execution_count": 82,
   "metadata": {},
   "outputs": [
    {
     "data": {
      "text/html": [
       "<table>\n",
       "<tbody>\n",
       "<tr><td><b>x</b></td><td><b>[-0.5 | 0 | 0.5]</b></td><td><b>[0.5 | 1 | 1.5]</b></td><td><b>[1.5 | 2 | 2.5]</b></td><td><b>[2.5 | 3 | 3.5]</b></td><td><b>[3.5 | 4 | 4.5]</b></td><td><b>[4.5 | 5 | 5.5]</b></td><td>...</td><td><b>[14 | 14 | 14]</b></td><td><b>[14 | 15 | 16]</b></td><td><b>[16 | 16 | 16]</b></td><td><b>[16 | 17 | 18]</b></td><td><b>[18 | 18 | 18]</b></td><td><b>[18 | 19 | 20]</b></td></tr>\n",
       "<tr><td><b>a</b></td><td>0.55                   </td><td>0.25                  </td><td>0.23                  </td><td>0.89                  </td><td>0.72                  </td><td>0.062                 </td><td>...</td><td>0.63                 </td><td>0.017                </td><td>0.39                 </td><td>0.69                 </td><td>0.82                 </td><td>0.27                 </td></tr>\n",
       "<tr><td><b>b</b></td><td>1                      </td><td>-1                    </td><td>-1                    </td><td>1                     </td><td>1                     </td><td>-1                    </td><td>...</td><td>1                    </td><td>-1                   </td><td>-1                   </td><td>1                    </td><td>1                    </td><td>-1                   </td></tr>\n",
       "</tbody>\n",
       "</table>"
      ],
      "text/plain": [
       "GridData(Grid(\n",
       "Axis(\"x\",\n",
       "points = array([ 0,  1,  2,  3,  4,  5,  6,  7,  8,  9, 10, 11, 12, 13, 14, 15, 16,\n",
       "       17, 18, 19]),\n",
       "edges = edges: array([[-0.5,  0.5],\n",
       "       [ 0.5,  1.5],\n",
       "       [ 1.5,  2.5],\n",
       "       [ 2.5,  3.5],\n",
       "       [ 3.5,  4.5],\n",
       "       [ 4.5,  5.5],\n",
       "       [ 5.5,  6.5],\n",
       "       [ 6.5,  7.5],\n",
       "       [ 7.5,  8.5],\n",
       "       [ 8.5,  9.5],\n",
       "       [ 9.5, 10.5],\n",
       "       [10.5, 11.5],\n",
       "       [11.5, 12.5],\n",
       "       [12.5, 13.5],\n",
       "       [13.5, 14.5],\n",
       "       [14.5, 15.5],\n",
       "       [15.5, 16.5],\n",
       "       [16.5, 17.5],\n",
       "       [17.5, 18.5],\n",
       "       [18.5, 19.5]]))\n",
       "nbins = 20),)\n",
       "{'a': masked_array(data=[0.54634915, 0.25127009, 0.23277165, 0.88574021,\n",
       "                   0.72478348, 0.06197082, 0.48578045, 0.56603444,\n",
       "                   0.07518645, 0.09985251, 0.87866936, 0.6708976 ,\n",
       "                   0.16894117, 0.62980465, 0.62587605, 0.01662477,\n",
       "                   0.38712137, 0.68871101, 0.81888359, 0.27144063],\n",
       "             mask=False,\n",
       "       fill_value=1e+20), 'b': masked_array(data=[ 1., -1., -1.,  1.,  1., -1., -1.,  1., -1., -1.,  1.,\n",
       "                    1., -1.,  1.,  1., -1., -1.,  1.,  1., -1.],\n",
       "             mask=False,\n",
       "       fill_value=1e+20)})"
      ]
     },
     "execution_count": 82,
     "metadata": {},
     "output_type": "execute_result"
    }
   ],
   "source": [
    "g[:,-2]"
   ]
  },
  {
   "cell_type": "code",
   "execution_count": 83,
   "metadata": {},
   "outputs": [
    {
     "data": {
      "text/html": [
       "<table>\n",
       "<tbody>\n",
       "<tr><td><b>y \\ x</b></td><td><b>[18 | 19 | 20]</b></td><td><b>[18 | 18 | 18]</b></td><td><b>[16 | 17 | 18]</b></td><td><b>[16 | 16 | 16]</b></td><td><b>[14 | 15 | 16]</b></td><td><b>[14 | 14 | 14]</b></td><td>...</td><td><b>[4.5 | 5 | 5.5]</b></td><td><b>[3.5 | 4 | 4.5]</b></td><td><b>[2.5 | 3 | 3.5]</b></td><td><b>[1.5 | 2 | 2.5]</b></td><td><b>[0.5 | 1 | 1.5]</b></td><td><b>[-0.5 | 0 | 0.5]</b></td></tr>\n",
       "<tr><td><b>4</b>    </td><td>a = 0.69<br>b = 1    </td><td>a = 0.58<br>b = 1    </td><td>a = 0.3<br>b = -1    </td><td>a = 0.97<br>b = 1    </td><td>a = 0.39<br>b = -1   </td><td>a = 0.11<br>b = -1   </td><td>...</td><td>a = 0.8<br>b = 1      </td><td>a = 0.68<br>b = 1     </td><td>a = 0.86<br>b = 1     </td><td>a = 0.6<br>b = 1      </td><td>a = 0.28<br>b = -1    </td><td>a = 0.52<br>b = 1      </td></tr>\n",
       "<tr><td><b>3</b>    </td><td>a = 0.27<br>b = -1   </td><td>a = 0.82<br>b = 1    </td><td>a = 0.69<br>b = 1    </td><td>a = 0.39<br>b = -1   </td><td>a = 0.017<br>b = -1  </td><td>a = 0.63<br>b = 1    </td><td>...</td><td>a = 0.062<br>b = -1   </td><td>a = 0.72<br>b = 1     </td><td>a = 0.89<br>b = 1     </td><td>a = 0.23<br>b = -1    </td><td>a = 0.25<br>b = -1    </td><td>a = 0.55<br>b = 1      </td></tr>\n",
       "<tr><td><b>2</b>    </td><td>a = 0.41<br>b = -1   </td><td>a = 0.47<br>b = -1   </td><td>a = 0.041<br>b = -1  </td><td>a = 0.7<br>b = 1     </td><td>a = 0.64<br>b = 1    </td><td>a = 0.086<br>b = -1  </td><td>...</td><td>a = 0.25<br>b = -1    </td><td>a = 0.71<br>b = 1     </td><td>a = 0.69<br>b = 1     </td><td>a = 0.93<br>b = 1     </td><td>a = 0.06<br>b = -1    </td><td>a = 0.73<br>b = 1      </td></tr>\n",
       "<tr><td><b>1</b>    </td><td>a = 0.83<br>b = 1    </td><td>a = 0.66<br>b = 1    </td><td>a = 0.97<br>b = 1    </td><td>a = 0.33<br>b = -1   </td><td>a = 0.093<br>b = -1  </td><td>a = 0.41<br>b = -1   </td><td>...</td><td>a = 0.28<br>b = -1    </td><td>a = 0.73<br>b = 1     </td><td>a = 0.79<br>b = 1     </td><td>a = 0.73<br>b = 1     </td><td>a = 0.91<br>b = 1     </td><td>a = 0.53<br>b = 1      </td></tr>\n",
       "<tr><td><b>0</b>    </td><td>a = 0.11<br>b = -1   </td><td>a = 0.8<br>b = 1     </td><td>a = 0.27<br>b = -1   </td><td>a = 0.39<br>b = -1   </td><td>a = 0.12<br>b = -1   </td><td>a = 0.12<br>b = -1   </td><td>...</td><td>a = 0.57<br>b = 1     </td><td>a = 0.4<br>b = -1     </td><td>a = 0.2<br>b = -1     </td><td>a = 0.21<br>b = -1    </td><td>a = 0.82<br>b = 1     </td><td>a = 0.9<br>b = 1       </td></tr>\n",
       "</tbody>\n",
       "</table>"
      ],
      "text/plain": [
       "GridData(Grid(\n",
       "Axis(\"x\",\n",
       "points = array([19, 18, 17, 16, 15, 14, 13, 12, 11, 10,  9,  8,  7,  6,  5,  4,  3,\n",
       "        2,  1,  0]),\n",
       "edges = edges: array([[18.5, 19.5],\n",
       "       [17.5, 18.5],\n",
       "       [16.5, 17.5],\n",
       "       [15.5, 16.5],\n",
       "       [14.5, 15.5],\n",
       "       [13.5, 14.5],\n",
       "       [12.5, 13.5],\n",
       "       [11.5, 12.5],\n",
       "       [10.5, 11.5],\n",
       "       [ 9.5, 10.5],\n",
       "       [ 8.5,  9.5],\n",
       "       [ 7.5,  8.5],\n",
       "       [ 6.5,  7.5],\n",
       "       [ 5.5,  6.5],\n",
       "       [ 4.5,  5.5],\n",
       "       [ 3.5,  4.5],\n",
       "       [ 2.5,  3.5],\n",
       "       [ 1.5,  2.5],\n",
       "       [ 0.5,  1.5],\n",
       "       [-0.5,  0.5]]))\n",
       "nbins = 20),\n",
       "Axis(\"y\",\n",
       "points = array([4, 3, 2, 1, 0]),\n",
       "edges = edges: None)\n",
       "nbins = 5),)\n",
       "{'a': masked_array(\n",
       "  data=[[0.68964238, 0.27144063, 0.40754788, 0.82650458, 0.11201009],\n",
       "        [0.57750879, 0.81888359, 0.47179354, 0.65703298, 0.80394601],\n",
       "        [0.30363298, 0.68871101, 0.04082415, 0.97236714, 0.27113862],\n",
       "        [0.96505393, 0.38712137, 0.69760227, 0.32807649, 0.38793716],\n",
       "        [0.3938922 , 0.01662477, 0.63563416, 0.09342794, 0.12308512],\n",
       "        [0.11115614, 0.62587605, 0.08620122, 0.40777106, 0.12061862],\n",
       "        [0.35009106, 0.62980465, 0.61120683, 0.61807383, 0.23916468],\n",
       "        [0.89053516, 0.16894117, 0.91348951, 0.66870697, 0.04004417],\n",
       "        [0.58401704, 0.6708976 , 0.29962297, 0.04923163, 0.15338604],\n",
       "        [0.99951926, 0.87866936, 0.42107381, 0.2515386 , 0.76558851],\n",
       "        [0.17313404, 0.09985251, 0.26182507, 0.26759321, 0.86637374],\n",
       "        [0.67056757, 0.07518645, 0.37731103, 0.04438234, 0.87991656],\n",
       "        [0.49211571, 0.56603444, 0.94288546, 0.22089206, 0.55327472],\n",
       "        [0.27869258, 0.48578045, 0.20514605, 0.59399475, 0.08910227],\n",
       "        [0.80245146, 0.06197082, 0.24724485, 0.28275362, 0.56509877],\n",
       "        [0.6847975 , 0.72478348, 0.71122236, 0.72750648, 0.40436585],\n",
       "        [0.86052956, 0.88574021, 0.69367125, 0.7902864 , 0.19718584],\n",
       "        [0.5960185 , 0.23277165, 0.9254161 , 0.7329453 , 0.20812772],\n",
       "        [0.27729142, 0.25127009, 0.06011037, 0.91112014, 0.82413602],\n",
       "        [0.52368598, 0.54634915, 0.73370501, 0.52710248, 0.8955654 ]],\n",
       "  mask=False,\n",
       "  fill_value=1e+20), 'b': masked_array(\n",
       "  data=[[ 1., -1., -1.,  1., -1.],\n",
       "        [ 1.,  1., -1.,  1.,  1.],\n",
       "        [-1.,  1., -1.,  1., -1.],\n",
       "        [ 1., -1.,  1., -1., -1.],\n",
       "        [-1., -1.,  1., -1., -1.],\n",
       "        [-1.,  1., -1., -1., -1.],\n",
       "        [-1.,  1.,  1.,  1., -1.],\n",
       "        [ 1., -1.,  1.,  1., -1.],\n",
       "        [ 1.,  1., -1., -1., -1.],\n",
       "        [ 1.,  1., -1., -1.,  1.],\n",
       "        [-1., -1., -1., -1.,  1.],\n",
       "        [ 1., -1., -1., -1.,  1.],\n",
       "        [-1.,  1.,  1., -1.,  1.],\n",
       "        [-1., -1., -1.,  1., -1.],\n",
       "        [ 1., -1., -1., -1.,  1.],\n",
       "        [ 1.,  1.,  1.,  1., -1.],\n",
       "        [ 1.,  1.,  1.,  1., -1.],\n",
       "        [ 1., -1.,  1.,  1., -1.],\n",
       "        [-1., -1., -1.,  1.,  1.],\n",
       "        [ 1.,  1.,  1.,  1.,  1.]],\n",
       "  mask=False,\n",
       "  fill_value=1e+20)})"
      ]
     },
     "execution_count": 83,
     "metadata": {},
     "output_type": "execute_result"
    }
   ],
   "source": [
    "g[::-1, ::-1]"
   ]
  },
  {
   "cell_type": "code",
   "execution_count": 84,
   "metadata": {},
   "outputs": [
    {
     "data": {
      "text/html": [
       "<table>\n",
       "<tbody>\n",
       "<tr><td><b>y \\ x</b></td><td><b>[-0.5 | 0 | 0.5]</b></td><td><b>[2.5 | 3 | 3.5]</b></td><td><b>[4.5 | 5 | 5.5]</b></td></tr>\n",
       "<tr><td><b>2</b>    </td><td>a = 0.73<br>b = 1      </td><td>a = 0.69<br>b = 1     </td><td>a = 0.25<br>b = -1    </td></tr>\n",
       "<tr><td><b>3</b>    </td><td>a = 0.55<br>b = 1      </td><td>a = 0.89<br>b = 1     </td><td>a = 0.062<br>b = -1   </td></tr>\n",
       "</tbody>\n",
       "</table>"
      ],
      "text/plain": [
       "GridData(Grid(\n",
       "Axis(\"x\",\n",
       "points = array([0, 3, 5]),\n",
       "edges = edges: array([[-0.5,  0.5],\n",
       "       [ 2.5,  3.5],\n",
       "       [ 4.5,  5.5]]))\n",
       "nbins = 3),\n",
       "Axis(\"y\",\n",
       "points = array([2, 3]),\n",
       "edges = edges: None)\n",
       "nbins = 2),)\n",
       "{'a': masked_array(\n",
       "  data=[[0.73370501, 0.54634915],\n",
       "        [0.69367125, 0.88574021],\n",
       "        [0.24724485, 0.06197082]],\n",
       "  mask=False,\n",
       "  fill_value=1e+20), 'b': masked_array(\n",
       "  data=[[ 1.,  1.],\n",
       "        [ 1.,  1.],\n",
       "        [-1., -1.]],\n",
       "  mask=False,\n",
       "  fill_value=1e+20)})"
      ]
     },
     "execution_count": 84,
     "metadata": {},
     "output_type": "execute_result"
    }
   ],
   "source": [
    "g[[0,3,5], 2:-1]"
   ]
  },
  {
   "cell_type": "code",
   "execution_count": 85,
   "metadata": {},
   "outputs": [
    {
     "data": {
      "text/plain": [
       "{'a': 0.8955654043955208, 'b': 1.0}"
      ]
     },
     "execution_count": 85,
     "metadata": {},
     "output_type": "execute_result"
    }
   ],
   "source": [
    "g[0,0]"
   ]
  },
  {
   "cell_type": "code",
   "execution_count": 86,
   "metadata": {},
   "outputs": [
    {
     "data": {
      "text/plain": [
       "19.5"
      ]
     },
     "execution_count": 86,
     "metadata": {},
     "output_type": "execute_result"
    }
   ],
   "source": [
    "g.grid.edges[0].max()"
   ]
  },
  {
   "cell_type": "code",
   "execution_count": 87,
   "metadata": {},
   "outputs": [
    {
     "data": {
      "text/html": [
       "<table>\n",
       "<tbody>\n",
       "<tr><td><b>y</b></td><td><b>0</b></td><td><b>1</b></td><td><b>2</b></td><td><b>3</b></td><td><b>4</b></td></tr>\n",
       "<tr><td><b></b> </td><td>0.1     </td><td>0.38    </td><td>0.18    </td><td>0.28    </td><td>0.46    </td></tr>\n",
       "</tbody>\n",
       "</table>"
      ],
      "text/plain": [
       "GridArray(noname : [0.10444047086593727 0.3846597416349117 0.1833076871948692\n",
       " 0.2811478646946569 0.45650015924571397])"
      ]
     },
     "execution_count": 87,
     "metadata": {},
     "output_type": "execute_result"
    }
   ],
   "source": [
    "np.mean(g['b'], axis='x') + np.std(g['a'], axis='x')"
   ]
  },
  {
   "cell_type": "code",
   "execution_count": 88,
   "metadata": {},
   "outputs": [],
   "source": [
    "g['c'] = np.sqrt(g['x']) * np.sqrt(g['y'])"
   ]
  },
  {
   "cell_type": "code",
   "execution_count": 89,
   "metadata": {},
   "outputs": [
    {
     "data": {
      "text/plain": [
       "<matplotlib.collections.QuadMesh at 0x7f7c415f9438>"
      ]
     },
     "execution_count": 89,
     "metadata": {},
     "output_type": "execute_result"
    },
    {
     "data": {
      "image/png": "[encoded data removed]",
      "text/plain": [
       "<Figure size 432x288 with 2 Axes>"
      ]
     },
     "metadata": {
      "needs_background": "light"
     },
     "output_type": "display_data"
    }
   ],
   "source": [
    "g.plot('c', cbar=True)"
   ]
  },
  {
   "cell_type": "code",
   "execution_count": 90,
   "metadata": {},
   "outputs": [],
   "source": [
    "g['m'] = np.arange(g.grid.size * 3).reshape(g.shape + (-1,))"
   ]
  },
  {
   "cell_type": "code",
   "execution_count": 91,
   "metadata": {},
   "outputs": [
    {
     "name": "stderr",
     "output_type": "stream",
     "text": [
      "Clipping input data to the valid range for imshow with RGB data ([0..1] for floats or [0..255] for integers).\n"
     ]
    },
    {
     "data": {
      "text/plain": [
       "<matplotlib.image.AxesImage at 0x7f7c4154d1d0>"
      ]
     },
     "execution_count": 91,
     "metadata": {},
     "output_type": "execute_result"
    },
    {
     "data": {
      "image/png": "[encoded data removed]",
      "text/plain": [
       "<Figure size 432x288 with 1 Axes>"
      ]
     },
     "metadata": {
      "needs_background": "light"
     },
     "output_type": "display_data"
    }
   ],
   "source": [
    "g.plot('m') #it's interpreted as an RGB image, since the excess dimension is 3"
   ]
  },
  {
   "cell_type": "code",
   "execution_count": 99,
   "metadata": {},
   "outputs": [
    {
     "data": {
      "text/html": [
       "<table>\n",
       "<tbody>\n",
       "<tr><td><b>y \\ x</b></td><td><b>[-0.5 | 0 | 0.5]</b></td><td><b>[0.5 | 1 | 1.5]</b></td><td><b>[1.5 | 2 | 2.5]</b></td><td><b>[2.5 | 3 | 3.5]</b></td><td><b>[3.5 | 4 | 4.5]</b></td><td><b>[4.5 | 5 | 5.5]</b></td><td>...</td><td><b>[14 | 14 | 14]</b></td><td><b>[14 | 15 | 16]</b></td><td><b>[16 | 16 | 16]</b></td><td><b>[16 | 17 | 18]</b></td><td><b>[18 | 18 | 18]</b></td><td><b>[18 | 19 | 20]</b></td></tr>\n",
       "<tr><td><b>0</b>    </td><td>0                      </td><td>15                    </td><td>30                    </td><td>45                    </td><td>60                    </td><td>75                    </td><td>...</td><td>2.1e+02              </td><td>2.2e+02              </td><td>2.4e+02              </td><td>2.6e+02              </td><td>2.7e+02              </td><td>2.8e+02              </td></tr>\n",
       "<tr><td><b>1</b>    </td><td>3                      </td><td>18                    </td><td>33                    </td><td>48                    </td><td>63                    </td><td>78                    </td><td>...</td><td>2.1e+02              </td><td>2.3e+02              </td><td>2.4e+02              </td><td>2.6e+02              </td><td>2.7e+02              </td><td>2.9e+02              </td></tr>\n",
       "<tr><td><b>2</b>    </td><td>6                      </td><td>21                    </td><td>36                    </td><td>51                    </td><td>66                    </td><td>81                    </td><td>...</td><td>2.2e+02              </td><td>2.3e+02              </td><td>2.5e+02              </td><td>2.6e+02              </td><td>2.8e+02              </td><td>2.9e+02              </td></tr>\n",
       "<tr><td><b>3</b>    </td><td>9                      </td><td>24                    </td><td>39                    </td><td>54                    </td><td>69                    </td><td>84                    </td><td>...</td><td>2.2e+02              </td><td>2.3e+02              </td><td>2.5e+02              </td><td>2.6e+02              </td><td>2.8e+02              </td><td>2.9e+02              </td></tr>\n",
       "<tr><td><b>4</b>    </td><td>12                     </td><td>27                    </td><td>42                    </td><td>57                    </td><td>72                    </td><td>87                    </td><td>...</td><td>2.2e+02              </td><td>2.4e+02              </td><td>2.5e+02              </td><td>2.7e+02              </td><td>2.8e+02              </td><td>3e+02                </td></tr>\n",
       "</tbody>\n",
       "</table>"
      ],
      "text/plain": [
       "GridArray(noname : [[  0   3   6   9  12]\n",
       " [ 15  18  21  24  27]\n",
       " [ 30  33  36  39  42]\n",
       " [ 45  48  51  54  57]\n",
       " [ 60  63  66  69  72]\n",
       " [ 75  78  81  84  87]\n",
       " [ 90  93  96  99 102]\n",
       " [105 108 111 114 117]\n",
       " [120 123 126 129 132]\n",
       " [135 138 141 144 147]\n",
       " [150 153 156 159 162]\n",
       " [165 168 171 174 177]\n",
       " [180 183 186 189 192]\n",
       " [195 198 201 204 207]\n",
       " [210 213 216 219 222]\n",
       " [225 228 231 234 237]\n",
       " [240 243 246 249 252]\n",
       " [255 258 261 264 267]\n",
       " [270 273 276 279 282]\n",
       " [285 288 291 294 297]])"
      ]
     },
     "execution_count": 99,
     "metadata": {},
     "output_type": "execute_result"
    }
   ],
   "source": [
    "g['m'][:,:,0]"
   ]
  },
  {
   "cell_type": "code",
   "execution_count": 100,
   "metadata": {},
   "outputs": [
    {
     "data": {
      "text/html": [
       "<table>\n",
       "<tbody>\n",
       "<tr><td><b>x</b></td><td><b>[-0.5 | 0 | 0.5]</b></td><td><b>[0.5 | 1 | 1.5]</b></td><td><b>[1.5 | 2 | 2.5]</b></td><td><b>[2.5 | 3 | 3.5]</b></td><td><b>[3.5 | 4 | 4.5]</b></td><td><b>[4.5 | 5 | 5.5]</b></td><td>...</td><td><b>[14 | 14 | 14]</b></td><td><b>[14 | 15 | 16]</b></td><td><b>[16 | 16 | 16]</b></td><td><b>[16 | 17 | 18]</b></td><td><b>[18 | 18 | 18]</b></td><td><b>[18 | 19 | 20]</b></td></tr>\n",
       "<tr><td><b>a</b></td><td>0.55                   </td><td>0.25                  </td><td>0.23                  </td><td>0.89                  </td><td>0.72                  </td><td>0.062                 </td><td>...</td><td>0.63                 </td><td>0.017                </td><td>0.39                 </td><td>0.69                 </td><td>0.82                 </td><td>0.27                 </td></tr>\n",
       "<tr><td><b>b</b></td><td>1                      </td><td>-1                    </td><td>-1                    </td><td>1                     </td><td>1                     </td><td>-1                    </td><td>...</td><td>1                    </td><td>-1                   </td><td>-1                   </td><td>1                    </td><td>1                    </td><td>-1                   </td></tr>\n",
       "<tr><td><b>c</b></td><td>0                      </td><td>1.7                   </td><td>2.4                   </td><td>3                     </td><td>3.5                   </td><td>3.9                   </td><td>...</td><td>6.5                  </td><td>6.7                  </td><td>6.9                  </td><td>7.1                  </td><td>7.3                  </td><td>7.5                  </td></tr>\n",
       "<tr><td><b>m</b></td><td>[ 9 10 11]             </td><td>[24 25 26]            </td><td>[39 40 41]            </td><td>[54 55 56]            </td><td>[69 70 71]            </td><td>[84 85 86]            </td><td>...</td><td>[219 220 221]        </td><td>[234 235 236]        </td><td>[249 250 251]        </td><td>[264 265 266]        </td><td>[279 280 281]        </td><td>[294 295 296]        </td></tr>\n",
       "</tbody>\n",
       "</table>"
      ],
      "text/plain": [
       "GridData(Grid(\n",
       "Axis(\"x\",\n",
       "points = array([ 0,  1,  2,  3,  4,  5,  6,  7,  8,  9, 10, 11, 12, 13, 14, 15, 16,\n",
       "       17, 18, 19]),\n",
       "edges = edges: array([[-0.5,  0.5],\n",
       "       [ 0.5,  1.5],\n",
       "       [ 1.5,  2.5],\n",
       "       [ 2.5,  3.5],\n",
       "       [ 3.5,  4.5],\n",
       "       [ 4.5,  5.5],\n",
       "       [ 5.5,  6.5],\n",
       "       [ 6.5,  7.5],\n",
       "       [ 7.5,  8.5],\n",
       "       [ 8.5,  9.5],\n",
       "       [ 9.5, 10.5],\n",
       "       [10.5, 11.5],\n",
       "       [11.5, 12.5],\n",
       "       [12.5, 13.5],\n",
       "       [13.5, 14.5],\n",
       "       [14.5, 15.5],\n",
       "       [15.5, 16.5],\n",
       "       [16.5, 17.5],\n",
       "       [17.5, 18.5],\n",
       "       [18.5, 19.5]]))\n",
       "nbins = 20),)\n",
       "{'a': masked_array(data=[0.54634915, 0.25127009, 0.23277165, 0.88574021,\n",
       "                   0.72478348, 0.06197082, 0.48578045, 0.56603444,\n",
       "                   0.07518645, 0.09985251, 0.87866936, 0.6708976 ,\n",
       "                   0.16894117, 0.62980465, 0.62587605, 0.01662477,\n",
       "                   0.38712137, 0.68871101, 0.81888359, 0.27144063],\n",
       "             mask=False,\n",
       "       fill_value=1e+20), 'b': masked_array(data=[ 1., -1., -1.,  1.,  1., -1., -1.,  1., -1., -1.,  1.,\n",
       "                    1., -1.,  1.,  1., -1., -1.,  1.,  1., -1.],\n",
       "             mask=False,\n",
       "       fill_value=1e+20), 'c': masked_array(data=[0.0, 1.7320508075688772, 2.4494897427831783,\n",
       "                   2.9999999999999996, 3.4641016151377544,\n",
       "                   3.872983346207417, 4.242640687119285, 4.58257569495584,\n",
       "                   4.898979485566357, 5.196152422706632,\n",
       "                   5.477225575051661, 5.744562646538029,\n",
       "                   5.999999999999999, 6.244997998398397,\n",
       "                   6.4807406984078595, 6.7082039324993685,\n",
       "                   6.928203230275509, 7.1414284285428495,\n",
       "                   7.348469228349534, 7.54983443527075],\n",
       "             mask=[False, False, False, False, False, False, False, False,\n",
       "                   False, False, False, False, False, False, False, False,\n",
       "                   False, False, False, False],\n",
       "       fill_value=1e+20), 'm': masked_array(\n",
       "  data=[[  9,  10,  11],\n",
       "        [ 24,  25,  26],\n",
       "        [ 39,  40,  41],\n",
       "        [ 54,  55,  56],\n",
       "        [ 69,  70,  71],\n",
       "        [ 84,  85,  86],\n",
       "        [ 99, 100, 101],\n",
       "        [114, 115, 116],\n",
       "        [129, 130, 131],\n",
       "        [144, 145, 146],\n",
       "        [159, 160, 161],\n",
       "        [174, 175, 176],\n",
       "        [189, 190, 191],\n",
       "        [204, 205, 206],\n",
       "        [219, 220, 221],\n",
       "        [234, 235, 236],\n",
       "        [249, 250, 251],\n",
       "        [264, 265, 266],\n",
       "        [279, 280, 281],\n",
       "        [294, 295, 296]],\n",
       "  mask=False,\n",
       "  fill_value=999999)})"
      ]
     },
     "execution_count": 100,
     "metadata": {},
     "output_type": "execute_result"
    }
   ],
   "source": [
    "g[:,3]"
   ]
  },
  {
   "cell_type": "code",
   "execution_count": 101,
   "metadata": {},
   "outputs": [
    {
     "data": {
      "text/html": [
       "<table>\n",
       "<tbody>\n",
       "<tr><td><b>y \\ x</b></td><td><b>[-0.5 | 0 | 0.5]</b></td><td><b>[0.5 | 1 | 1.5]</b></td><td><b>[1.5 | 2 | 2.5]</b></td><td><b>[2.5 | 3 | 3.5]</b></td><td><b>[3.5 | 4 | 4.5]</b></td><td><b>[4.5 | 5 | 5.5]</b></td><td>...</td><td><b>[14 | 14 | 14]</b></td><td><b>[14 | 15 | 16]</b></td><td><b>[16 | 16 | 16]</b></td><td><b>[16 | 17 | 18]</b></td><td><b>[18 | 18 | 18]</b></td><td><b>[18 | 19 | 20]</b></td></tr>\n",
       "<tr><td><b>0</b>    </td><td>[0 1 2]                </td><td>[15 16 17]            </td><td>[30 31 32]            </td><td>[45 46 47]            </td><td>[60 61 62]            </td><td>[75 76 77]            </td><td>...</td><td>[210 211 212]        </td><td>[225 226 227]        </td><td>[240 241 242]        </td><td>[255 256 257]        </td><td>[270 271 272]        </td><td>[285 286 287]        </td></tr>\n",
       "<tr><td><b>1</b>    </td><td>[3 4 5]                </td><td>[18 19 20]            </td><td>[33 34 35]            </td><td>[48 49 50]            </td><td>[63 64 65]            </td><td>[78 79 80]            </td><td>...</td><td>[213 214 215]        </td><td>[228 229 230]        </td><td>[243 244 245]        </td><td>[258 259 260]        </td><td>[273 274 275]        </td><td>[288 289 290]        </td></tr>\n",
       "<tr><td><b>2</b>    </td><td>[6 7 8]                </td><td>[21 22 23]            </td><td>[36 37 38]            </td><td>[51 52 53]            </td><td>[66 67 68]            </td><td>[81 82 83]            </td><td>...</td><td>[216 217 218]        </td><td>[231 232 233]        </td><td>[246 247 248]        </td><td>[261 262 263]        </td><td>[276 277 278]        </td><td>[291 292 293]        </td></tr>\n",
       "<tr><td><b>3</b>    </td><td>[ 9 10 11]             </td><td>[24 25 26]            </td><td>[39 40 41]            </td><td>[54 55 56]            </td><td>[69 70 71]            </td><td>[84 85 86]            </td><td>...</td><td>[219 220 221]        </td><td>[234 235 236]        </td><td>[249 250 251]        </td><td>[264 265 266]        </td><td>[279 280 281]        </td><td>[294 295 296]        </td></tr>\n",
       "<tr><td><b>4</b>    </td><td>[12 13 14]             </td><td>[27 28 29]            </td><td>[42 43 44]            </td><td>[57 58 59]            </td><td>[72 73 74]            </td><td>[87 88 89]            </td><td>...</td><td>[222 223 224]        </td><td>[237 238 239]        </td><td>[252 253 254]        </td><td>[267 268 269]        </td><td>[282 283 284]        </td><td>[297 298 299]        </td></tr>\n",
       "</tbody>\n",
       "</table>"
      ],
      "text/plain": [
       "GridArray(noname : [[[  0   1   2]\n",
       "  [  3   4   5]\n",
       "  [  6   7   8]\n",
       "  [  9  10  11]\n",
       "  [ 12  13  14]]\n",
       "\n",
       " [[ 15  16  17]\n",
       "  [ 18  19  20]\n",
       "  [ 21  22  23]\n",
       "  [ 24  25  26]\n",
       "  [ 27  28  29]]\n",
       "\n",
       " [[ 30  31  32]\n",
       "  [ 33  34  35]\n",
       "  [ 36  37  38]\n",
       "  [ 39  40  41]\n",
       "  [ 42  43  44]]\n",
       "\n",
       " [[ 45  46  47]\n",
       "  [ 48  49  50]\n",
       "  [ 51  52  53]\n",
       "  [ 54  55  56]\n",
       "  [ 57  58  59]]\n",
       "\n",
       " [[ 60  61  62]\n",
       "  [ 63  64  65]\n",
       "  [ 66  67  68]\n",
       "  [ 69  70  71]\n",
       "  [ 72  73  74]]\n",
       "\n",
       " [[ 75  76  77]\n",
       "  [ 78  79  80]\n",
       "  [ 81  82  83]\n",
       "  [ 84  85  86]\n",
       "  [ 87  88  89]]\n",
       "\n",
       " [[ 90  91  92]\n",
       "  [ 93  94  95]\n",
       "  [ 96  97  98]\n",
       "  [ 99 100 101]\n",
       "  [102 103 104]]\n",
       "\n",
       " [[105 106 107]\n",
       "  [108 109 110]\n",
       "  [111 112 113]\n",
       "  [114 115 116]\n",
       "  [117 118 119]]\n",
       "\n",
       " [[120 121 122]\n",
       "  [123 124 125]\n",
       "  [126 127 128]\n",
       "  [129 130 131]\n",
       "  [132 133 134]]\n",
       "\n",
       " [[135 136 137]\n",
       "  [138 139 140]\n",
       "  [141 142 143]\n",
       "  [144 145 146]\n",
       "  [147 148 149]]\n",
       "\n",
       " [[150 151 152]\n",
       "  [153 154 155]\n",
       "  [156 157 158]\n",
       "  [159 160 161]\n",
       "  [162 163 164]]\n",
       "\n",
       " [[165 166 167]\n",
       "  [168 169 170]\n",
       "  [171 172 173]\n",
       "  [174 175 176]\n",
       "  [177 178 179]]\n",
       "\n",
       " [[180 181 182]\n",
       "  [183 184 185]\n",
       "  [186 187 188]\n",
       "  [189 190 191]\n",
       "  [192 193 194]]\n",
       "\n",
       " [[195 196 197]\n",
       "  [198 199 200]\n",
       "  [201 202 203]\n",
       "  [204 205 206]\n",
       "  [207 208 209]]\n",
       "\n",
       " [[210 211 212]\n",
       "  [213 214 215]\n",
       "  [216 217 218]\n",
       "  [219 220 221]\n",
       "  [222 223 224]]\n",
       "\n",
       " [[225 226 227]\n",
       "  [228 229 230]\n",
       "  [231 232 233]\n",
       "  [234 235 236]\n",
       "  [237 238 239]]\n",
       "\n",
       " [[240 241 242]\n",
       "  [243 244 245]\n",
       "  [246 247 248]\n",
       "  [249 250 251]\n",
       "  [252 253 254]]\n",
       "\n",
       " [[255 256 257]\n",
       "  [258 259 260]\n",
       "  [261 262 263]\n",
       "  [264 265 266]\n",
       "  [267 268 269]]\n",
       "\n",
       " [[270 271 272]\n",
       "  [273 274 275]\n",
       "  [276 277 278]\n",
       "  [279 280 281]\n",
       "  [282 283 284]]\n",
       "\n",
       " [[285 286 287]\n",
       "  [288 289 290]\n",
       "  [291 292 293]\n",
       "  [294 295 296]\n",
       "  [297 298 299]]])"
      ]
     },
     "execution_count": 101,
     "metadata": {},
     "output_type": "execute_result"
    }
   ],
   "source": [
    "g['m']"
   ]
  },
  {
   "cell_type": "code",
   "execution_count": 106,
   "metadata": {},
   "outputs": [
    {
     "data": {
      "text/plain": [
       "[('a',\n",
       "  GridArray(noname : [[0.8955654  0.52710248 0.73370501 0.54634915 0.52368598]\n",
       "   [0.82413602 0.91112014 0.06011037 0.25127009 0.27729142]\n",
       "   [0.20812772 0.7329453  0.9254161  0.23277165 0.5960185 ]\n",
       "   [0.19718584 0.7902864  0.69367125 0.88574021 0.86052956]\n",
       "   [0.40436585 0.72750648 0.71122236 0.72478348 0.6847975 ]\n",
       "   [0.56509877 0.28275362 0.24724485 0.06197082 0.80245146]\n",
       "   [0.08910227 0.59399475 0.20514605 0.48578045 0.27869258]\n",
       "   [0.55327472 0.22089206 0.94288546 0.56603444 0.49211571]\n",
       "   [0.87991656 0.04438234 0.37731103 0.07518645 0.67056757]\n",
       "   [0.86637374 0.26759321 0.26182507 0.09985251 0.17313404]\n",
       "   [0.76558851 0.2515386  0.42107381 0.87866936 0.99951926]\n",
       "   [0.15338604 0.04923163 0.29962297 0.6708976  0.58401704]\n",
       "   [0.04004417 0.66870697 0.91348951 0.16894117 0.89053516]\n",
       "   [0.23916468 0.61807383 0.61120683 0.62980465 0.35009106]\n",
       "   [0.12061862 0.40777106 0.08620122 0.62587605 0.11115614]\n",
       "   [0.12308512 0.09342794 0.63563416 0.01662477 0.3938922 ]\n",
       "   [0.38793716 0.32807649 0.69760227 0.38712137 0.96505393]\n",
       "   [0.27113862 0.97236714 0.04082415 0.68871101 0.30363298]\n",
       "   [0.80394601 0.65703298 0.47179354 0.81888359 0.57750879]\n",
       "   [0.11201009 0.82650458 0.40754788 0.27144063 0.68964238]])),\n",
       " ('b', GridArray(noname : [[ 1.  1.  1.  1.  1.]\n",
       "   [ 1.  1. -1. -1. -1.]\n",
       "   [-1.  1.  1. -1.  1.]\n",
       "   [-1.  1.  1.  1.  1.]\n",
       "   [-1.  1.  1.  1.  1.]\n",
       "   [ 1. -1. -1. -1.  1.]\n",
       "   [-1.  1. -1. -1. -1.]\n",
       "   [ 1. -1.  1.  1. -1.]\n",
       "   [ 1. -1. -1. -1.  1.]\n",
       "   [ 1. -1. -1. -1. -1.]\n",
       "   [ 1. -1. -1.  1.  1.]\n",
       "   [-1. -1. -1.  1.  1.]\n",
       "   [-1.  1.  1. -1.  1.]\n",
       "   [-1.  1.  1.  1. -1.]\n",
       "   [-1. -1. -1.  1. -1.]\n",
       "   [-1. -1.  1. -1. -1.]\n",
       "   [-1. -1.  1. -1.  1.]\n",
       "   [-1.  1. -1.  1. -1.]\n",
       "   [ 1.  1. -1.  1.  1.]\n",
       "   [-1.  1. -1. -1.  1.]])),\n",
       " ('c', GridArray(noname : [[0.0 0.0 0.0 0.0 0.0]\n",
       "   [0.0 1.0 1.4142135623730951 1.7320508075688772 2.0]\n",
       "   [0.0 1.4142135623730951 2.0000000000000004 2.4494897427831783\n",
       "    2.8284271247461903]\n",
       "   [0.0 1.7320508075688772 2.4494897427831783 2.9999999999999996\n",
       "    3.4641016151377544]\n",
       "   [0.0 2.0 2.8284271247461903 3.4641016151377544 4.0]\n",
       "   [0.0 2.23606797749979 3.1622776601683795 3.872983346207417\n",
       "    4.47213595499958]\n",
       "   [0.0 2.449489742783178 3.4641016151377544 4.242640687119285\n",
       "    4.898979485566356]\n",
       "   [0.0 2.6457513110645907 3.7416573867739418 4.58257569495584\n",
       "    5.291502622129181]\n",
       "   [0.0 2.8284271247461903 4.000000000000001 4.898979485566357\n",
       "    5.656854249492381]\n",
       "   [0.0 3.0 4.242640687119286 5.196152422706632 6.0]\n",
       "   [0.0 3.1622776601683795 4.47213595499958 5.477225575051661\n",
       "    6.324555320336759]\n",
       "   [0.0 3.3166247903554 4.69041575982343 5.744562646538029 6.6332495807108]\n",
       "   [0.0 3.4641016151377544 4.898979485566357 5.999999999999999\n",
       "    6.928203230275509]\n",
       "   [0.0 3.605551275463989 5.099019513592785 6.244997998398397\n",
       "    7.211102550927978]\n",
       "   [0.0 3.7416573867739413 5.291502622129181 6.4807406984078595\n",
       "    7.483314773547883]\n",
       "   [0.0 3.872983346207417 5.477225575051662 6.7082039324993685\n",
       "    7.745966692414834]\n",
       "   [0.0 4.0 5.656854249492381 6.928203230275509 8.0]\n",
       "   [0.0 4.123105625617661 5.830951894845301 7.1414284285428495\n",
       "    8.246211251235321]\n",
       "   [0.0 4.242640687119285 6.0 7.348469228349534 8.48528137423857]\n",
       "   [0.0 4.358898943540674 6.164414002968978 7.54983443527075\n",
       "    8.717797887081348]])),\n",
       " ('m', GridArray(noname : [[[  0   1   2]\n",
       "    [  3   4   5]\n",
       "    [  6   7   8]\n",
       "    [  9  10  11]\n",
       "    [ 12  13  14]]\n",
       "  \n",
       "   [[ 15  16  17]\n",
       "    [ 18  19  20]\n",
       "    [ 21  22  23]\n",
       "    [ 24  25  26]\n",
       "    [ 27  28  29]]\n",
       "  \n",
       "   [[ 30  31  32]\n",
       "    [ 33  34  35]\n",
       "    [ 36  37  38]\n",
       "    [ 39  40  41]\n",
       "    [ 42  43  44]]\n",
       "  \n",
       "   [[ 45  46  47]\n",
       "    [ 48  49  50]\n",
       "    [ 51  52  53]\n",
       "    [ 54  55  56]\n",
       "    [ 57  58  59]]\n",
       "  \n",
       "   [[ 60  61  62]\n",
       "    [ 63  64  65]\n",
       "    [ 66  67  68]\n",
       "    [ 69  70  71]\n",
       "    [ 72  73  74]]\n",
       "  \n",
       "   [[ 75  76  77]\n",
       "    [ 78  79  80]\n",
       "    [ 81  82  83]\n",
       "    [ 84  85  86]\n",
       "    [ 87  88  89]]\n",
       "  \n",
       "   [[ 90  91  92]\n",
       "    [ 93  94  95]\n",
       "    [ 96  97  98]\n",
       "    [ 99 100 101]\n",
       "    [102 103 104]]\n",
       "  \n",
       "   [[105 106 107]\n",
       "    [108 109 110]\n",
       "    [111 112 113]\n",
       "    [114 115 116]\n",
       "    [117 118 119]]\n",
       "  \n",
       "   [[120 121 122]\n",
       "    [123 124 125]\n",
       "    [126 127 128]\n",
       "    [129 130 131]\n",
       "    [132 133 134]]\n",
       "  \n",
       "   [[135 136 137]\n",
       "    [138 139 140]\n",
       "    [141 142 143]\n",
       "    [144 145 146]\n",
       "    [147 148 149]]\n",
       "  \n",
       "   [[150 151 152]\n",
       "    [153 154 155]\n",
       "    [156 157 158]\n",
       "    [159 160 161]\n",
       "    [162 163 164]]\n",
       "  \n",
       "   [[165 166 167]\n",
       "    [168 169 170]\n",
       "    [171 172 173]\n",
       "    [174 175 176]\n",
       "    [177 178 179]]\n",
       "  \n",
       "   [[180 181 182]\n",
       "    [183 184 185]\n",
       "    [186 187 188]\n",
       "    [189 190 191]\n",
       "    [192 193 194]]\n",
       "  \n",
       "   [[195 196 197]\n",
       "    [198 199 200]\n",
       "    [201 202 203]\n",
       "    [204 205 206]\n",
       "    [207 208 209]]\n",
       "  \n",
       "   [[210 211 212]\n",
       "    [213 214 215]\n",
       "    [216 217 218]\n",
       "    [219 220 221]\n",
       "    [222 223 224]]\n",
       "  \n",
       "   [[225 226 227]\n",
       "    [228 229 230]\n",
       "    [231 232 233]\n",
       "    [234 235 236]\n",
       "    [237 238 239]]\n",
       "  \n",
       "   [[240 241 242]\n",
       "    [243 244 245]\n",
       "    [246 247 248]\n",
       "    [249 250 251]\n",
       "    [252 253 254]]\n",
       "  \n",
       "   [[255 256 257]\n",
       "    [258 259 260]\n",
       "    [261 262 263]\n",
       "    [264 265 266]\n",
       "    [267 268 269]]\n",
       "  \n",
       "   [[270 271 272]\n",
       "    [273 274 275]\n",
       "    [276 277 278]\n",
       "    [279 280 281]\n",
       "    [282 283 284]]\n",
       "  \n",
       "   [[285 286 287]\n",
       "    [288 289 290]\n",
       "    [291 292 293]\n",
       "    [294 295 296]\n",
       "    [297 298 299]]]))]"
      ]
     },
     "execution_count": 106,
     "metadata": {},
     "output_type": "execute_result"
    }
   ],
   "source": [
    "g.items()"
   ]
  },
  {
   "cell_type": "code",
   "execution_count": 107,
   "metadata": {},
   "outputs": [
    {
     "data": {
      "text/html": [
       "<table>\n",
       "<tbody>\n",
       "<tr><td><b>x \\ y</b>          </td><td><b>0</b>  </td><td><b>1</b>  </td><td><b>2</b>  </td><td><b>3</b>  </td><td><b>4</b>  </td></tr>\n",
       "<tr><td><b>[2.5 | 3 | 3.5]</b></td><td>[45 46 47]</td><td>[48 49 50]</td><td>[51 52 53]</td><td>[54 55 56]</td><td>[57 58 59]</td></tr>\n",
       "<tr><td><b>[3.5 | 4 | 4.5]</b></td><td>[60 61 62]</td><td>[63 64 65]</td><td>[66 67 68]</td><td>[69 70 71]</td><td>[72 73 74]</td></tr>\n",
       "</tbody>\n",
       "</table>"
      ],
      "text/plain": [
       "GridArray(noname : [[[45 46 47]\n",
       "  [60 61 62]]\n",
       "\n",
       " [[48 49 50]\n",
       "  [63 64 65]]\n",
       "\n",
       " [[51 52 53]\n",
       "  [66 67 68]]\n",
       "\n",
       " [[54 55 56]\n",
       "  [69 70 71]]\n",
       "\n",
       " [[57 58 59]\n",
       "  [72 73 74]]])"
      ]
     },
     "execution_count": 107,
     "metadata": {},
     "output_type": "execute_result"
    }
   ],
   "source": [
    "g.T[:,3:5]['m']"
   ]
  },
  {
   "cell_type": "code",
   "execution_count": 108,
   "metadata": {},
   "outputs": [
    {
     "data": {
      "text/plain": [
       "OrderedDict([('a', 48.525950516168706),\n",
       "             ('b', 0.0),\n",
       "             ('c', 351.52847238221136),\n",
       "             ('m', 44850)])"
      ]
     },
     "execution_count": 108,
     "metadata": {},
     "output_type": "execute_result"
    }
   ],
   "source": [
    "np.sum(g)"
   ]
  },
  {
   "cell_type": "code",
   "execution_count": 109,
   "metadata": {},
   "outputs": [
    {
     "data": {
      "text/html": [
       "<table>\n",
       "<tbody>\n",
       "<tr><td><b>y</b></td><td><b>0</b>        </td><td><b>1</b>        </td><td><b>2</b>        </td><td><b>3</b>        </td><td><b>4</b>        </td></tr>\n",
       "<tr><td><b>a</b></td><td>8.5             </td><td>10              </td><td>9.7             </td><td>9.1             </td><td>11              </td></tr>\n",
       "<tr><td><b>b</b></td><td>-4              </td><td>2               </td><td>-2              </td><td>0               </td><td>4               </td></tr>\n",
       "<tr><td><b>c</b></td><td>0               </td><td>57              </td><td>81              </td><td>99              </td><td>1.1e+02         </td></tr>\n",
       "<tr><td><b>m</b></td><td>[2850 2870 2890]</td><td>[2910 2930 2950]</td><td>[2970 2990 3010]</td><td>[3030 3050 3070]</td><td>[3090 3110 3130]</td></tr>\n",
       "</tbody>\n",
       "</table>"
      ],
      "text/plain": [
       "GridData(Grid(\n",
       "Axis(\"y\",\n",
       "points = array([0, 1, 2, 3, 4]),\n",
       "edges = edges: None)\n",
       "nbins = 5),)\n",
       "{'a': masked_array(data=[ 8.50006593,  9.971308  ,  9.74353389,  9.08670945,\n",
       "                   11.22433326],\n",
       "             mask=False,\n",
       "       fill_value=1e+20), 'b': masked_array(data=[-4.,  2., -2.,  0.,  4.],\n",
       "             mask=False,\n",
       "       fill_value=1e+20), 'c': masked_array(data=[  0.        ,  57.19384186,  80.88430684,  99.06263998,\n",
       "                   114.38768371],\n",
       "             mask=False,\n",
       "       fill_value=1e+20), 'm': masked_array(\n",
       "  data=[[2850, 2870, 2890],\n",
       "        [2910, 2930, 2950],\n",
       "        [2970, 2990, 3010],\n",
       "        [3030, 3050, 3070],\n",
       "        [3090, 3110, 3130]],\n",
       "  mask=False,\n",
       "  fill_value=999999)})"
      ]
     },
     "execution_count": 109,
     "metadata": {},
     "output_type": "execute_result"
    }
   ],
   "source": [
    "np.sum(g, axis=(0))"
   ]
  },
  {
   "cell_type": "markdown",
   "metadata": {},
   "source": [
    "# Stuff to fix"
   ]
  },
  {
   "cell_type": "code",
   "execution_count": 110,
   "metadata": {},
   "outputs": [
    {
     "data": {
      "text/plain": [
       "array([14850, 14950, 15050])"
      ]
     },
     "execution_count": 110,
     "metadata": {},
     "output_type": "execute_result"
    }
   ],
   "source": [
    "np.sum(g['m'], axis=(0,1))"
   ]
  },
  {
   "cell_type": "code",
   "execution_count": 111,
   "metadata": {},
   "outputs": [
    {
     "data": {
      "text/plain": [
       "Grid(\n",
       "Axis(\"x\",\n",
       "points = array([ 0,  1,  2,  3,  4,  5,  6,  7,  8,  9, 10, 11, 12, 13, 14, 15, 16,\n",
       "       17, 18, 19]),\n",
       "edges = edges: array([[-0.5,  0.5],\n",
       "       [ 0.5,  1.5],\n",
       "       [ 1.5,  2.5],\n",
       "       [ 2.5,  3.5],\n",
       "       [ 3.5,  4.5],\n",
       "       [ 4.5,  5.5],\n",
       "       [ 5.5,  6.5],\n",
       "       [ 6.5,  7.5],\n",
       "       [ 7.5,  8.5],\n",
       "       [ 8.5,  9.5],\n",
       "       [ 9.5, 10.5],\n",
       "       [10.5, 11.5],\n",
       "       [11.5, 12.5],\n",
       "       [12.5, 13.5],\n",
       "       [13.5, 14.5],\n",
       "       [14.5, 15.5],\n",
       "       [15.5, 16.5],\n",
       "       [16.5, 17.5],\n",
       "       [17.5, 18.5],\n",
       "       [18.5, 19.5]]))\n",
       "nbins = 20),\n",
       "Axis(\"y\",\n",
       "points = array([0, 1, 2, 3, 4]),\n",
       "edges = edges: None)\n",
       "nbins = 5),)"
      ]
     },
     "execution_count": 111,
     "metadata": {},
     "output_type": "execute_result"
    }
   ],
   "source": [
    "# because of this\n",
    "np.sum(g['m'], axis=-1).grid"
   ]
  },
  {
   "cell_type": "code",
   "execution_count": 112,
   "metadata": {},
   "outputs": [
    {
     "data": {
      "text/html": [
       "<table>\n",
       "<tbody>\n",
       "<tr><td><b>y \\ x</b></td><td><b>[-0.5 | 0 | 0.5]</b></td><td><b>[0.5 | 1 | 1.5]</b></td><td><b>[1.5 | 2 | 2.5]</b></td><td><b>[2.5 | 3 | 3.5]</b></td><td><b>[3.5 | 4 | 4.5]</b></td><td><b>[4.5 | 5 | 5.5]</b></td><td>...</td><td><b>[14 | 14 | 14]</b></td><td><b>[14 | 15 | 16]</b></td><td><b>[16 | 16 | 16]</b></td><td><b>[16 | 17 | 18]</b></td><td><b>[18 | 18 | 18]</b></td><td><b>[18 | 19 | 20]</b></td></tr>\n",
       "<tr><td><b>0</b>    </td><td>3                      </td><td>48                    </td><td>93                    </td><td>1.4e+02               </td><td>1.8e+02               </td><td>2.3e+02               </td><td>...</td><td>6.3e+02              </td><td>6.8e+02              </td><td>7.2e+02              </td><td>7.7e+02              </td><td>8.1e+02              </td><td>8.6e+02              </td></tr>\n",
       "<tr><td><b>1</b>    </td><td>12                     </td><td>57                    </td><td>1e+02                 </td><td>1.5e+02               </td><td>1.9e+02               </td><td>2.4e+02               </td><td>...</td><td>6.4e+02              </td><td>6.9e+02              </td><td>7.3e+02              </td><td>7.8e+02              </td><td>8.2e+02              </td><td>8.7e+02              </td></tr>\n",
       "<tr><td><b>2</b>    </td><td>21                     </td><td>66                    </td><td>1.1e+02               </td><td>1.6e+02               </td><td>2e+02                 </td><td>2.5e+02               </td><td>...</td><td>6.5e+02              </td><td>7e+02                </td><td>7.4e+02              </td><td>7.9e+02              </td><td>8.3e+02              </td><td>8.8e+02              </td></tr>\n",
       "<tr><td><b>3</b>    </td><td>30                     </td><td>75                    </td><td>1.2e+02               </td><td>1.6e+02               </td><td>2.1e+02               </td><td>2.6e+02               </td><td>...</td><td>6.6e+02              </td><td>7.0e+02              </td><td>7.5e+02              </td><td>8e+02                </td><td>8.4e+02              </td><td>8.8e+02              </td></tr>\n",
       "<tr><td><b>4</b>    </td><td>39                     </td><td>84                    </td><td>1.3e+02               </td><td>1.7e+02               </td><td>2.2e+02               </td><td>2.6e+02               </td><td>...</td><td>6.7e+02              </td><td>7.1e+02              </td><td>7.6e+02              </td><td>8e+02                </td><td>8.5e+02              </td><td>8.9e+02              </td></tr>\n",
       "</tbody>\n",
       "</table>"
      ],
      "text/plain": [
       "GridArray(noname : [[  3  12  21  30  39]\n",
       " [ 48  57  66  75  84]\n",
       " [ 93 102 111 120 129]\n",
       " [138 147 156 165 174]\n",
       " [183 192 201 210 219]\n",
       " [228 237 246 255 264]\n",
       " [273 282 291 300 309]\n",
       " [318 327 336 345 354]\n",
       " [363 372 381 390 399]\n",
       " [408 417 426 435 444]\n",
       " [453 462 471 480 489]\n",
       " [498 507 516 525 534]\n",
       " [543 552 561 570 579]\n",
       " [588 597 606 615 624]\n",
       " [633 642 651 660 669]\n",
       " [678 687 696 705 714]\n",
       " [723 732 741 750 759]\n",
       " [768 777 786 795 804]\n",
       " [813 822 831 840 849]\n",
       " [858 867 876 885 894]])"
      ]
     },
     "execution_count": 112,
     "metadata": {},
     "output_type": "execute_result"
    }
   ],
   "source": [
    "np.sum(g['m'], axis=-1)"
   ]
  },
  {
   "cell_type": "code",
   "execution_count": null,
   "metadata": {},
   "outputs": [],
   "source": []
  },
  {
   "cell_type": "code",
   "execution_count": 113,
   "metadata": {},
   "outputs": [
    {
     "data": {
      "text/html": [
       "<table>\n",
       "<tbody>\n",
       "<tr><td><b>y \\ x</b></td><td><b>[-0.5 | 0 | 0.5]</b></td><td><b>[0.5 | 1 | 1.5]</b></td><td><b>[1.5 | 2 | 2.5]</b></td><td><b>[2.5 | 3 | 3.5]</b></td><td><b>[3.5 | 4 | 4.5]</b></td><td><b>[4.5 | 5 | 5.5]</b></td><td>...</td><td><b>[14 | 14 | 14]</b></td><td><b>[14 | 15 | 16]</b></td><td><b>[16 | 16 | 16]</b></td><td><b>[16 | 17 | 18]</b></td><td><b>[18 | 18 | 18]</b></td><td><b>[18 | 19 | 20]</b></td></tr>\n",
       "<tr><td><b>0</b>    </td><td>-1.7                   </td><td>-1.5                  </td><td>0.38                  </td><td>0.41                  </td><td>-0.21                 </td><td>-0.7                  </td><td>...</td><td>0.64                 </td><td>0.63                 </td><td>-0.16                </td><td>0.19                 </td><td>-1.4                 </td><td>0.66                 </td></tr>\n",
       "<tr><td><b>1</b>    </td><td>-0.58                  </td><td>-1.7                  </td><td>-1.2                  </td><td>-1.4                  </td><td>-1.2                  </td><td>0.15                  </td><td>...</td><td>-0.22                </td><td>0.72                 </td><td>0.016                </td><td>-1.9                 </td><td>-0.97                </td><td>-1.5                 </td></tr>\n",
       "<tr><td><b>2</b>    </td><td>-1.2                   </td><td>0.82                  </td><td>-1.8                  </td><td>-1.1                  </td><td>-1.1                  </td><td>0.26                  </td><td>...</td><td>0.74                 </td><td>-0.91                </td><td>-1.1                 </td><td>0.88                 </td><td>-0.42                </td><td>-0.22                </td></tr>\n",
       "<tr><td><b>3</b>    </td><td>-0.64                  </td><td>0.25                  </td><td>0.3                   </td><td>-1.7                  </td><td>-1.2                  </td><td>0.81                  </td><td>...</td><td>-0.88                </td><td>0.95                 </td><td>-0.16                </td><td>-1.1                 </td><td>-1.5                 </td><td>0.19                 </td></tr>\n",
       "<tr><td><b>4</b>    </td><td>-0.57                  </td><td>0.17                  </td><td>-0.79                 </td><td>-1.6                  </td><td>-1.1                  </td><td>-1.4                  </td><td>...</td><td>0.67                 </td><td>-0.18                </td><td>-1.9                 </td><td>0.089                </td><td>-0.73                </td><td>-1.1                 </td></tr>\n",
       "</tbody>\n",
       "</table>"
      ],
      "text/plain": [
       "GridArray(noname : [[-1.68669621 -0.58130744 -1.20111504 -0.63904746 -0.57105793]\n",
       " [-1.47240807 -1.73336041  0.8196689   0.24618972  0.16812575]\n",
       " [ 0.37561684 -1.1988359  -1.7762483   0.30168505 -0.7880555 ]\n",
       " [ 0.40844249 -1.37085921 -1.08101374 -1.65722062 -1.58158868]\n",
       " [-0.21309754 -1.18251943 -1.13366709 -1.17435045 -1.05439251]\n",
       " [-0.6952963   0.15173915  0.25826546  0.81408753 -1.40735437]\n",
       " [ 0.73269318 -0.78198424  0.38456184 -0.45734134  0.16392225]\n",
       " [-0.65982417  0.33732383 -1.82865637 -0.69810332 -0.47634713]\n",
       " [-1.63974968  0.86685299 -0.1319331   0.77444065 -1.0117027 ]\n",
       " [-1.59912123  0.19722037  0.2145248   0.70044248  0.48059788]\n",
       " [-1.29676553  0.2453842  -0.26322144 -1.63600808 -1.99855779]\n",
       " [ 0.53984187  0.85230511  0.1011311  -1.01269279 -0.75205112]\n",
       " [ 0.87986748 -1.00612092 -1.74046854  0.49317649 -1.67160548]\n",
       " [ 0.28250596 -0.85422149 -0.83362048 -0.88941396 -0.05027318]\n",
       " [ 0.63814413 -0.22331318  0.74139635 -0.87762815  0.66653159]\n",
       " [ 0.63074464  0.71971618 -0.90690247  0.95012569 -0.1816766 ]\n",
       " [-0.16381149  0.01577054 -1.09280681 -0.16136411 -1.89516179]\n",
       " [ 0.18658415 -1.91710143  0.87752755 -1.06613302  0.08910106]\n",
       " [-1.41183803 -0.97109894 -0.41538063 -1.45665078 -0.73252636]\n",
       " [ 0.66396972 -1.47951375 -0.22264365  0.18567812 -1.06892715]])"
      ]
     },
     "execution_count": 113,
     "metadata": {},
     "output_type": "execute_result"
    }
   ],
   "source": [
    "1 - 3 * g['a']"
   ]
  },
  {
   "cell_type": "code",
   "execution_count": 114,
   "metadata": {},
   "outputs": [
    {
     "data": {
      "text/plain": [
       "4"
      ]
     },
     "execution_count": 114,
     "metadata": {},
     "output_type": "execute_result"
    }
   ],
   "source": [
    "2 ** g['a']"
   ]
  },
  {
   "cell_type": "code",
   "execution_count": 115,
   "metadata": {},
   "outputs": [
    {
     "data": {
      "text/html": [
       "<table>\n",
       "<tbody>\n",
       "<tr><td><b>y \\ x</b></td><td><b>[-0.5 | 0 | 0.5]</b></td><td><b>[0.5 | 1 | 1.5]</b></td><td><b>[1.5 | 2 | 2.5]</b></td><td><b>[2.5 | 3 | 3.5]</b></td><td><b>[3.5 | 4 | 4.5]</b></td><td><b>[4.5 | 5 | 5.5]</b></td><td>...</td><td><b>[14 | 14 | 14]</b></td><td><b>[14 | 15 | 16]</b></td><td><b>[16 | 16 | 16]</b></td><td><b>[16 | 17 | 18]</b></td><td><b>[18 | 18 | 18]</b></td><td><b>[18 | 19 | 20]</b></td></tr>\n",
       "<tr><td><b>0</b>    </td><td>0.9                    </td><td>0.82                  </td><td>0.21                  </td><td>0.2                   </td><td>0.4                   </td><td>0.57                  </td><td>...</td><td>0.12                 </td><td>0.12                 </td><td>0.39                 </td><td>0.27                 </td><td>0.8                  </td><td>0.11                 </td></tr>\n",
       "<tr><td><b>1</b>    </td><td>0.53                   </td><td>0.91                  </td><td>0.73                  </td><td>0.79                  </td><td>0.73                  </td><td>0.28                  </td><td>...</td><td>0.41                 </td><td>0.093                </td><td>0.33                 </td><td>0.97                 </td><td>0.66                 </td><td>0.83                 </td></tr>\n",
       "<tr><td><b>2</b>    </td><td>0.73                   </td><td>0.06                  </td><td>0.93                  </td><td>0.69                  </td><td>0.71                  </td><td>0.25                  </td><td>...</td><td>0.086                </td><td>0.64                 </td><td>0.7                  </td><td>0.041                </td><td>0.47                 </td><td>0.41                 </td></tr>\n",
       "<tr><td><b>3</b>    </td><td>0.55                   </td><td>0.25                  </td><td>0.23                  </td><td>0.89                  </td><td>0.72                  </td><td>0.062                 </td><td>...</td><td>0.63                 </td><td>0.017                </td><td>0.39                 </td><td>0.69                 </td><td>0.82                 </td><td>0.27                 </td></tr>\n",
       "<tr><td><b>4</b>    </td><td>0.52                   </td><td>0.28                  </td><td>0.6                   </td><td>0.86                  </td><td>0.68                  </td><td>0.8                   </td><td>...</td><td>0.11                 </td><td>0.39                 </td><td>0.97                 </td><td>0.3                  </td><td>0.58                 </td><td>0.69                 </td></tr>\n",
       "</tbody>\n",
       "</table>"
      ],
      "text/plain": [
       "GridArray(noname : [[0.8955654  0.52710248 0.73370501 0.54634915 0.52368598]\n",
       " [0.82413602 0.91112014 0.06011037 0.25127009 0.27729142]\n",
       " [0.20812772 0.7329453  0.9254161  0.23277165 0.5960185 ]\n",
       " [0.19718584 0.7902864  0.69367125 0.88574021 0.86052956]\n",
       " [0.40436585 0.72750648 0.71122236 0.72478348 0.6847975 ]\n",
       " [0.56509877 0.28275362 0.24724485 0.06197082 0.80245146]\n",
       " [0.08910227 0.59399475 0.20514605 0.48578045 0.27869258]\n",
       " [0.55327472 0.22089206 0.94288546 0.56603444 0.49211571]\n",
       " [0.87991656 0.04438234 0.37731103 0.07518645 0.67056757]\n",
       " [0.86637374 0.26759321 0.26182507 0.09985251 0.17313404]\n",
       " [0.76558851 0.2515386  0.42107381 0.87866936 0.99951926]\n",
       " [0.15338604 0.04923163 0.29962297 0.6708976  0.58401704]\n",
       " [0.04004417 0.66870697 0.91348951 0.16894117 0.89053516]\n",
       " [0.23916468 0.61807383 0.61120683 0.62980465 0.35009106]\n",
       " [0.12061862 0.40777106 0.08620122 0.62587605 0.11115614]\n",
       " [0.12308512 0.09342794 0.63563416 0.01662477 0.3938922 ]\n",
       " [0.38793716 0.32807649 0.69760227 0.38712137 0.96505393]\n",
       " [0.27113862 0.97236714 0.04082415 0.68871101 0.30363298]\n",
       " [0.80394601 0.65703298 0.47179354 0.81888359 0.57750879]\n",
       " [0.11201009 0.82650458 0.40754788 0.27144063 0.68964238]])"
      ]
     },
     "execution_count": 115,
     "metadata": {},
     "output_type": "execute_result"
    }
   ],
   "source": [
    "g['a']"
   ]
  },
  {
   "cell_type": "code",
   "execution_count": null,
   "metadata": {},
   "outputs": [],
   "source": []
  },
  {
   "cell_type": "code",
   "execution_count": 116,
   "metadata": {},
   "outputs": [
    {
     "data": {
      "text/html": [
       "<table>\n",
       "<tbody>\n",
       "<tr><td><b>y \\ x</b></td><td><b>[-0.5 | 0 | 0.5]</b></td><td><b>[0.5 | 1 | 1.5]</b></td><td><b>[1.5 | 2 | 2.5]</b></td><td><b>[2.5 | 3 | 3.5]</b></td><td><b>[3.5 | 4 | 4.5]</b></td><td><b>[4.5 | 5 | 5.5]</b></td><td>...</td><td><b>[14 | 14 | 14]</b></td><td><b>[14 | 15 | 16]</b></td><td><b>[16 | 16 | 16]</b></td><td><b>[16 | 17 | 18]</b></td><td><b>[18 | 18 | 18]</b></td><td><b>[18 | 19 | 20]</b></td></tr>\n",
       "<tr><td><b>0</b>    </td><td>0.9                    </td><td>0.82                  </td><td>0.21                  </td><td>0.2                   </td><td>0.4                   </td><td>0.57                  </td><td>...</td><td>0.12                 </td><td>0.12                 </td><td>0.39                 </td><td>0.27                 </td><td>0.8                  </td><td>0.11                 </td></tr>\n",
       "<tr><td><b>1</b>    </td><td>0.53                   </td><td>0.91                  </td><td>0.73                  </td><td>0.79                  </td><td>0.73                  </td><td>0.28                  </td><td>...</td><td>0.41                 </td><td>0.093                </td><td>0.33                 </td><td>0.97                 </td><td>0.66                 </td><td>0.83                 </td></tr>\n",
       "<tr><td><b>2</b>    </td><td>0.73                   </td><td>0.06                  </td><td>0.93                  </td><td>0.69                  </td><td>0.71                  </td><td>0.25                  </td><td>...</td><td>0.086                </td><td>0.64                 </td><td>0.7                  </td><td>0.041                </td><td>0.47                 </td><td>0.41                 </td></tr>\n",
       "<tr><td><b>3</b>    </td><td>0.55                   </td><td>0.25                  </td><td>0.23                  </td><td>0.89                  </td><td>0.72                  </td><td>0.062                 </td><td>...</td><td>0.63                 </td><td>0.017                </td><td>0.39                 </td><td>0.69                 </td><td>0.82                 </td><td>0.27                 </td></tr>\n",
       "<tr><td><b>4</b>    </td><td>0.52                   </td><td>0.28                  </td><td>0.6                   </td><td>0.86                  </td><td>0.68                  </td><td>0.8                   </td><td>...</td><td>0.11                 </td><td>0.39                 </td><td>0.97                 </td><td>0.3                  </td><td>0.58                 </td><td>0.69                 </td></tr>\n",
       "</tbody>\n",
       "</table>"
      ],
      "text/plain": [
       "GridArray(noname : [[0.8955654  0.52710248 0.73370501 0.54634915 0.52368598]\n",
       " [0.82413602 0.91112014 0.06011037 0.25127009 0.27729142]\n",
       " [0.20812772 0.7329453  0.9254161  0.23277165 0.5960185 ]\n",
       " [0.19718584 0.7902864  0.69367125 0.88574021 0.86052956]\n",
       " [0.40436585 0.72750648 0.71122236 0.72478348 0.6847975 ]\n",
       " [0.56509877 0.28275362 0.24724485 0.06197082 0.80245146]\n",
       " [0.08910227 0.59399475 0.20514605 0.48578045 0.27869258]\n",
       " [0.55327472 0.22089206 0.94288546 0.56603444 0.49211571]\n",
       " [0.87991656 0.04438234 0.37731103 0.07518645 0.67056757]\n",
       " [0.86637374 0.26759321 0.26182507 0.09985251 0.17313404]\n",
       " [0.76558851 0.2515386  0.42107381 0.87866936 0.99951926]\n",
       " [0.15338604 0.04923163 0.29962297 0.6708976  0.58401704]\n",
       " [0.04004417 0.66870697 0.91348951 0.16894117 0.89053516]\n",
       " [0.23916468 0.61807383 0.61120683 0.62980465 0.35009106]\n",
       " [0.12061862 0.40777106 0.08620122 0.62587605 0.11115614]\n",
       " [0.12308512 0.09342794 0.63563416 0.01662477 0.3938922 ]\n",
       " [0.38793716 0.32807649 0.69760227 0.38712137 0.96505393]\n",
       " [0.27113862 0.97236714 0.04082415 0.68871101 0.30363298]\n",
       " [0.80394601 0.65703298 0.47179354 0.81888359 0.57750879]\n",
       " [0.11201009 0.82650458 0.40754788 0.27144063 0.68964238]])"
      ]
     },
     "execution_count": 116,
     "metadata": {},
     "output_type": "execute_result"
    }
   ],
   "source": [
    "g['a']"
   ]
  },
  {
   "cell_type": "code",
   "execution_count": 117,
   "metadata": {},
   "outputs": [],
   "source": [
    "a = g['a']"
   ]
  },
  {
   "cell_type": "code",
   "execution_count": 128,
   "metadata": {},
   "outputs": [
    {
     "data": {
      "text/html": [
       "<table>\n",
       "<tbody>\n",
       "<tr><td><b>y \\ x</b></td><td><b>[-0.5 | 0 | 0.5]</b></td><td><b>[0.5 | 1 | 1.5]</b></td><td><b>[1.5 | 2 | 2.5]</b></td><td><b>[2.5 | 3 | 3.5]</b></td><td><b>[3.5 | 4 | 4.5]</b></td><td><b>[4.5 | 5 | 5.5]</b></td><td>...</td><td><b>[14 | 14 | 14]</b></td><td><b>[14 | 15 | 16]</b></td><td><b>[16 | 16 | 16]</b></td><td><b>[16 | 17 | 18]</b></td><td><b>[18 | 18 | 18]</b></td><td><b>[18 | 19 | 20]</b></td></tr>\n",
       "<tr><td><b>0</b>    </td><td>0.9                    </td><td>0.82                  </td><td>0.21                  </td><td>0.2                   </td><td>0.4                   </td><td>0.57                  </td><td>...</td><td>0.12                 </td><td>0.12                 </td><td>0.39                 </td><td>0.27                 </td><td>0.8                  </td><td>0.11                 </td></tr>\n",
       "<tr><td><b>1</b>    </td><td>0.53                   </td><td>0.91                  </td><td>0.73                  </td><td>0.79                  </td><td>0.73                  </td><td>0.28                  </td><td>...</td><td>0.41                 </td><td>0.093                </td><td>0.33                 </td><td>0.97                 </td><td>0.66                 </td><td>0.83                 </td></tr>\n",
       "<tr><td><b>2</b>    </td><td>0.73                   </td><td>0.06                  </td><td>0.93                  </td><td>0.69                  </td><td>0.71                  </td><td>0.25                  </td><td>...</td><td>0.086                </td><td>0.64                 </td><td>0.7                  </td><td>0.041                </td><td>0.47                 </td><td>0.41                 </td></tr>\n",
       "<tr><td><b>3</b>    </td><td>0.55                   </td><td>0.25                  </td><td>0.23                  </td><td>0.89                  </td><td>0.72                  </td><td>0.062                 </td><td>...</td><td>0.63                 </td><td>0.017                </td><td>0.39                 </td><td>0.69                 </td><td>0.82                 </td><td>0.27                 </td></tr>\n",
       "<tr><td><b>4</b>    </td><td>0.52                   </td><td>0.28                  </td><td>0.6                   </td><td>0.86                  </td><td>0.68                  </td><td>0.8                   </td><td>...</td><td>0.11                 </td><td>0.39                 </td><td>0.97                 </td><td>0.3                  </td><td>0.58                 </td><td>0.69                 </td></tr>\n",
       "</tbody>\n",
       "</table>"
      ],
      "text/plain": [
       "GridArray(noname : [[0.8955654  0.52710248 0.73370501 0.54634915 0.52368598]\n",
       " [0.82413602 0.91112014 0.06011037 0.25127009 0.27729142]\n",
       " [0.20812772 0.7329453  0.9254161  0.23277165 0.5960185 ]\n",
       " [0.19718584 0.7902864  0.69367125 0.88574021 0.86052956]\n",
       " [0.40436585 0.72750648 0.71122236 0.72478348 0.6847975 ]\n",
       " [0.56509877 0.28275362 0.24724485 0.06197082 0.80245146]\n",
       " [0.08910227 0.59399475 0.20514605 0.48578045 0.27869258]\n",
       " [0.55327472 0.22089206 0.94288546 0.56603444 0.49211571]\n",
       " [0.87991656 0.04438234 0.37731103 0.07518645 0.67056757]\n",
       " [0.86637374 0.26759321 0.26182507 0.09985251 0.17313404]\n",
       " [0.76558851 0.2515386  0.42107381 0.87866936 0.99951926]\n",
       " [0.15338604 0.04923163 0.29962297 0.6708976  0.58401704]\n",
       " [0.04004417 0.66870697 0.91348951 0.16894117 0.89053516]\n",
       " [0.23916468 0.61807383 0.61120683 0.62980465 0.35009106]\n",
       " [0.12061862 0.40777106 0.08620122 0.62587605 0.11115614]\n",
       " [0.12308512 0.09342794 0.63563416 0.01662477 0.3938922 ]\n",
       " [0.38793716 0.32807649 0.69760227 0.38712137 0.96505393]\n",
       " [0.27113862 0.97236714 0.04082415 0.68871101 0.30363298]\n",
       " [0.80394601 0.65703298 0.47179354 0.81888359 0.57750879]\n",
       " [0.11201009 0.82650458 0.40754788 0.27144063 0.68964238]])"
      ]
     },
     "execution_count": 128,
     "metadata": {},
     "output_type": "execute_result"
    }
   ],
   "source": [
    "a"
   ]
  },
  {
   "cell_type": "code",
   "execution_count": 119,
   "metadata": {},
   "outputs": [
    {
     "data": {
      "text/html": [
       "<table>\n",
       "<tbody>\n",
       "<tr><td><b>y</b></td><td><b>0</b></td><td><b>1</b></td><td><b>2</b></td><td><b>3</b></td><td><b>4</b></td></tr>\n",
       "<tr><td><b></b> </td><td>0.43    </td><td>0.5     </td><td>0.49    </td><td>0.45    </td><td>0.56    </td></tr>\n",
       "</tbody>\n",
       "</table>"
      ],
      "text/plain": [
       "GridArray(noname : [0.4250033  0.4985654  0.48717669 0.45433547 0.56121666])"
      ]
     },
     "execution_count": 119,
     "metadata": {},
     "output_type": "execute_result"
    }
   ],
   "source": [
    "np.mean(a, axis='x')"
   ]
  },
  {
   "cell_type": "code",
   "execution_count": 120,
   "metadata": {},
   "outputs": [
    {
     "data": {
      "text/html": [
       "<table>\n",
       "<tbody>\n",
       "<tr><td><b>y \\ x</b></td><td><b>[-0.5 | 0 | 0.5]</b></td><td><b>[0.5 | 1 | 1.5]</b></td><td><b>[1.5 | 2 | 2.5]</b></td><td><b>[2.5 | 3 | 3.5]</b></td><td><b>[3.5 | 4 | 4.5]</b></td><td><b>[4.5 | 5 | 5.5]</b></td><td>...</td><td><b>[14 | 14 | 14]</b></td><td><b>[14 | 15 | 16]</b></td><td><b>[16 | 16 | 16]</b></td><td><b>[16 | 17 | 18]</b></td><td><b>[18 | 18 | 18]</b></td><td><b>[18 | 19 | 20]</b></td></tr>\n",
       "<tr><td><b>0</b>    </td><td>0.9                    </td><td>0.82                  </td><td>0.21                  </td><td>0.2                   </td><td>0.4                   </td><td>0.57                  </td><td>...</td><td>0.12                 </td><td>0.12                 </td><td>0.39                 </td><td>0.27                 </td><td>0.8                  </td><td>0.11                 </td></tr>\n",
       "<tr><td><b>1</b>    </td><td>0.53                   </td><td>0.91                  </td><td>0.73                  </td><td>0.79                  </td><td>0.73                  </td><td>0.28                  </td><td>...</td><td>0.41                 </td><td>0.093                </td><td>0.33                 </td><td>0.97                 </td><td>0.66                 </td><td>0.83                 </td></tr>\n",
       "<tr><td><b>2</b>    </td><td>0.73                   </td><td>0.06                  </td><td>0.93                  </td><td>0.69                  </td><td>0.71                  </td><td>0.25                  </td><td>...</td><td>0.086                </td><td>0.64                 </td><td>0.7                  </td><td>0.041                </td><td>0.47                 </td><td>0.41                 </td></tr>\n",
       "<tr><td><b>3</b>    </td><td>0.55                   </td><td>0.25                  </td><td>0.23                  </td><td>0.89                  </td><td>0.72                  </td><td>0.062                 </td><td>...</td><td>0.63                 </td><td>0.017                </td><td>0.39                 </td><td>0.69                 </td><td>0.82                 </td><td>0.27                 </td></tr>\n",
       "<tr><td><b>4</b>    </td><td>0.52                   </td><td>0.28                  </td><td>0.6                   </td><td>0.86                  </td><td>0.68                  </td><td>0.8                   </td><td>...</td><td>0.11                 </td><td>0.39                 </td><td>0.97                 </td><td>0.3                  </td><td>0.58                 </td><td>0.69                 </td></tr>\n",
       "</tbody>\n",
       "</table>"
      ],
      "text/plain": [
       "GridArray(noname : [[0.8955654  0.52710248 0.73370501 0.54634915 0.52368598]\n",
       " [0.82413602 0.91112014 0.06011037 0.25127009 0.27729142]\n",
       " [0.20812772 0.7329453  0.9254161  0.23277165 0.5960185 ]\n",
       " [0.19718584 0.7902864  0.69367125 0.88574021 0.86052956]\n",
       " [0.40436585 0.72750648 0.71122236 0.72478348 0.6847975 ]\n",
       " [0.56509877 0.28275362 0.24724485 0.06197082 0.80245146]\n",
       " [0.08910227 0.59399475 0.20514605 0.48578045 0.27869258]\n",
       " [0.55327472 0.22089206 0.94288546 0.56603444 0.49211571]\n",
       " [0.87991656 0.04438234 0.37731103 0.07518645 0.67056757]\n",
       " [0.86637374 0.26759321 0.26182507 0.09985251 0.17313404]\n",
       " [0.76558851 0.2515386  0.42107381 0.87866936 0.99951926]\n",
       " [0.15338604 0.04923163 0.29962297 0.6708976  0.58401704]\n",
       " [0.04004417 0.66870697 0.91348951 0.16894117 0.89053516]\n",
       " [0.23916468 0.61807383 0.61120683 0.62980465 0.35009106]\n",
       " [0.12061862 0.40777106 0.08620122 0.62587605 0.11115614]\n",
       " [0.12308512 0.09342794 0.63563416 0.01662477 0.3938922 ]\n",
       " [0.38793716 0.32807649 0.69760227 0.38712137 0.96505393]\n",
       " [0.27113862 0.97236714 0.04082415 0.68871101 0.30363298]\n",
       " [0.80394601 0.65703298 0.47179354 0.81888359 0.57750879]\n",
       " [0.11201009 0.82650458 0.40754788 0.27144063 0.68964238]])"
      ]
     },
     "execution_count": 120,
     "metadata": {},
     "output_type": "execute_result"
    }
   ],
   "source": [
    "a"
   ]
  },
  {
   "cell_type": "code",
   "execution_count": 121,
   "metadata": {},
   "outputs": [],
   "source": [
    "from scipy import ndimage"
   ]
  },
  {
   "cell_type": "code",
   "execution_count": 122,
   "metadata": {},
   "outputs": [
    {
     "data": {
      "text/plain": [
       "array([[0.7601107 , 0.66775744, 0.55820661, 0.48466158, 0.45846251],\n",
       "       [0.67563178, 0.641365  , 0.53791683, 0.45166175, 0.43800479],\n",
       "       [0.5294944 , 0.61318883, 0.60499918, 0.54740202, 0.54516855],\n",
       "       [0.4582732 , 0.59244166, 0.66205405, 0.66561442, 0.68189103],\n",
       "       [0.45778521, 0.53503253, 0.58167565, 0.61648201, 0.66819984],\n",
       "       [0.42158883, 0.43821858, 0.44015132, 0.47600177, 0.54918105],\n",
       "       [0.39089342, 0.40443974, 0.41771102, 0.43586093, 0.46564796],\n",
       "       [0.46044818, 0.42648289, 0.43756611, 0.44674904, 0.45691931],\n",
       "       [0.56027366, 0.42670476, 0.37306709, 0.38642249, 0.43118458],\n",
       "       [0.58362763, 0.42212392, 0.35511661, 0.39996542, 0.46729653],\n",
       "       [0.47778083, 0.39282996, 0.41393445, 0.52916547, 0.61719991],\n",
       "       [0.32319494, 0.36548305, 0.46434878, 0.57744395, 0.65979756],\n",
       "       [0.28068286, 0.41332441, 0.518072  , 0.55283827, 0.58821313],\n",
       "       [0.286067  , 0.4137849 , 0.49391259, 0.48718083, 0.46228436],\n",
       "       [0.24645027, 0.33450051, 0.40036501, 0.40052098, 0.3682256 ],\n",
       "       [0.25120764, 0.32125729, 0.38574158, 0.40294139, 0.42117264],\n",
       "       [0.35715975, 0.41209411, 0.45086879, 0.48183676, 0.53231803],\n",
       "       [0.48844172, 0.51725873, 0.50624212, 0.52654464, 0.55430874],\n",
       "       [0.53475433, 0.56181838, 0.53276465, 0.53916554, 0.56352862],\n",
       "       [0.46732228, 0.53858386, 0.51880972, 0.51500955, 0.57007364]])"
      ]
     },
     "execution_count": 122,
     "metadata": {},
     "output_type": "execute_result"
    }
   ],
   "source": [
    "ndimage.gaussian_filter(a, sigma=1)"
   ]
  },
  {
   "cell_type": "code",
   "execution_count": 123,
   "metadata": {},
   "outputs": [
    {
     "name": "stderr",
     "output_type": "stream",
     "text": [
      "/home/peller/anaconda3/lib/python3.7/site-packages/numpy/core/fromnumeric.py:734: UserWarning: Warning: 'partition' will ignore the 'mask' of the GridArray.\n",
      "  a.partition(kth, axis=axis, kind=kind, order=order)\n"
     ]
    },
    {
     "ename": "TypeError",
     "evalue": "'NoneType' object is not subscriptable",
     "output_type": "error",
     "traceback": [
      "\u001b[0;31m---------------------------------------------------------------------------\u001b[0m",
      "\u001b[0;31mTypeError\u001b[0m                                 Traceback (most recent call last)",
      "\u001b[0;32m<ipython-input-123-635a22a53929>\u001b[0m in \u001b[0;36m<module>\u001b[0;34m\u001b[0m\n\u001b[0;32m----> 1\u001b[0;31m \u001b[0mnp\u001b[0m\u001b[0;34m.\u001b[0m\u001b[0mmedian\u001b[0m\u001b[0;34m(\u001b[0m\u001b[0ma\u001b[0m\u001b[0;34m)\u001b[0m\u001b[0;34m\u001b[0m\u001b[0;34m\u001b[0m\u001b[0m\n\u001b[0m",
      "\u001b[0;32m~/anaconda3/lib/python3.7/site-packages/numpy/lib/function_base.py\u001b[0m in \u001b[0;36mmedian\u001b[0;34m(a, axis, out, overwrite_input, keepdims)\u001b[0m\n\u001b[1;32m   3495\u001b[0m     \"\"\"\n\u001b[1;32m   3496\u001b[0m     r, k = _ureduce(a, func=_median, axis=axis, out=out,\n\u001b[0;32m-> 3497\u001b[0;31m                     overwrite_input=overwrite_input)\n\u001b[0m\u001b[1;32m   3498\u001b[0m     \u001b[0;32mif\u001b[0m \u001b[0mkeepdims\u001b[0m\u001b[0;34m:\u001b[0m\u001b[0;34m\u001b[0m\u001b[0;34m\u001b[0m\u001b[0m\n\u001b[1;32m   3499\u001b[0m         \u001b[0;32mreturn\u001b[0m \u001b[0mr\u001b[0m\u001b[0;34m.\u001b[0m\u001b[0mreshape\u001b[0m\u001b[0;34m(\u001b[0m\u001b[0mk\u001b[0m\u001b[0;34m)\u001b[0m\u001b[0;34m\u001b[0m\u001b[0;34m\u001b[0m\u001b[0m\n",
      "\u001b[0;32m~/anaconda3/lib/python3.7/site-packages/numpy/lib/function_base.py\u001b[0m in \u001b[0;36m_ureduce\u001b[0;34m(a, func, **kwargs)\u001b[0m\n\u001b[1;32m   3403\u001b[0m         \u001b[0mkeepdim\u001b[0m \u001b[0;34m=\u001b[0m \u001b[0;34m(\u001b[0m\u001b[0;36m1\u001b[0m\u001b[0;34m,\u001b[0m\u001b[0;34m)\u001b[0m \u001b[0;34m*\u001b[0m \u001b[0ma\u001b[0m\u001b[0;34m.\u001b[0m\u001b[0mndim\u001b[0m\u001b[0;34m\u001b[0m\u001b[0;34m\u001b[0m\u001b[0m\n\u001b[1;32m   3404\u001b[0m \u001b[0;34m\u001b[0m\u001b[0m\n\u001b[0;32m-> 3405\u001b[0;31m     \u001b[0mr\u001b[0m \u001b[0;34m=\u001b[0m \u001b[0mfunc\u001b[0m\u001b[0;34m(\u001b[0m\u001b[0ma\u001b[0m\u001b[0;34m,\u001b[0m \u001b[0;34m**\u001b[0m\u001b[0mkwargs\u001b[0m\u001b[0;34m)\u001b[0m\u001b[0;34m\u001b[0m\u001b[0;34m\u001b[0m\u001b[0m\n\u001b[0m\u001b[1;32m   3406\u001b[0m     \u001b[0;32mreturn\u001b[0m \u001b[0mr\u001b[0m\u001b[0;34m,\u001b[0m \u001b[0mkeepdim\u001b[0m\u001b[0;34m\u001b[0m\u001b[0;34m\u001b[0m\u001b[0m\n\u001b[1;32m   3407\u001b[0m \u001b[0;34m\u001b[0m\u001b[0m\n",
      "\u001b[0;32m~/anaconda3/lib/python3.7/site-packages/numpy/lib/function_base.py\u001b[0m in \u001b[0;36m_median\u001b[0;34m(a, axis, out, overwrite_input)\u001b[0m\n\u001b[1;32m   3548\u001b[0m     \u001b[0;32mif\u001b[0m \u001b[0mnp\u001b[0m\u001b[0;34m.\u001b[0m\u001b[0missubdtype\u001b[0m\u001b[0;34m(\u001b[0m\u001b[0ma\u001b[0m\u001b[0;34m.\u001b[0m\u001b[0mdtype\u001b[0m\u001b[0;34m,\u001b[0m \u001b[0mnp\u001b[0m\u001b[0;34m.\u001b[0m\u001b[0minexact\u001b[0m\u001b[0;34m)\u001b[0m \u001b[0;32mand\u001b[0m \u001b[0msz\u001b[0m \u001b[0;34m>\u001b[0m \u001b[0;36m0\u001b[0m\u001b[0;34m:\u001b[0m\u001b[0;34m\u001b[0m\u001b[0;34m\u001b[0m\u001b[0m\n\u001b[1;32m   3549\u001b[0m         \u001b[0;31m# warn and return nans like mean would\u001b[0m\u001b[0;34m\u001b[0m\u001b[0;34m\u001b[0m\u001b[0;34m\u001b[0m\u001b[0m\n\u001b[0;32m-> 3550\u001b[0;31m         \u001b[0mrout\u001b[0m \u001b[0;34m=\u001b[0m \u001b[0mmean\u001b[0m\u001b[0;34m(\u001b[0m\u001b[0mpart\u001b[0m\u001b[0;34m[\u001b[0m\u001b[0mindexer\u001b[0m\u001b[0;34m]\u001b[0m\u001b[0;34m,\u001b[0m \u001b[0maxis\u001b[0m\u001b[0;34m=\u001b[0m\u001b[0maxis\u001b[0m\u001b[0;34m,\u001b[0m \u001b[0mout\u001b[0m\u001b[0;34m=\u001b[0m\u001b[0mout\u001b[0m\u001b[0;34m)\u001b[0m\u001b[0;34m\u001b[0m\u001b[0;34m\u001b[0m\u001b[0m\n\u001b[0m\u001b[1;32m   3551\u001b[0m         \u001b[0;32mreturn\u001b[0m \u001b[0mnp\u001b[0m\u001b[0;34m.\u001b[0m\u001b[0mlib\u001b[0m\u001b[0;34m.\u001b[0m\u001b[0mutils\u001b[0m\u001b[0;34m.\u001b[0m\u001b[0m_median_nancheck\u001b[0m\u001b[0;34m(\u001b[0m\u001b[0mpart\u001b[0m\u001b[0;34m,\u001b[0m \u001b[0mrout\u001b[0m\u001b[0;34m,\u001b[0m \u001b[0maxis\u001b[0m\u001b[0;34m,\u001b[0m \u001b[0mout\u001b[0m\u001b[0;34m)\u001b[0m\u001b[0;34m\u001b[0m\u001b[0;34m\u001b[0m\u001b[0m\n\u001b[1;32m   3552\u001b[0m     \u001b[0;32melse\u001b[0m\u001b[0;34m:\u001b[0m\u001b[0;34m\u001b[0m\u001b[0;34m\u001b[0m\u001b[0m\n",
      "\u001b[0;32m~/pynocular/pynocular/gridarray.py\u001b[0m in \u001b[0;36m__getitem__\u001b[0;34m(self, item, *args)\u001b[0m\n\u001b[1;32m    142\u001b[0m                 \u001b[0;32mraise\u001b[0m \u001b[0mIndexError\u001b[0m\u001b[0;34m(\u001b[0m\u001b[0;34m'Cannot process list of indices %s'\u001b[0m\u001b[0;34m%\u001b[0m\u001b[0mitem\u001b[0m\u001b[0;34m)\u001b[0m\u001b[0;34m\u001b[0m\u001b[0;34m\u001b[0m\u001b[0m\n\u001b[1;32m    143\u001b[0m         \u001b[0;32melif\u001b[0m \u001b[0misinstance\u001b[0m\u001b[0;34m(\u001b[0m\u001b[0mitem\u001b[0m\u001b[0;34m,\u001b[0m \u001b[0mtuple\u001b[0m\u001b[0;34m)\u001b[0m\u001b[0;34m:\u001b[0m\u001b[0;34m\u001b[0m\u001b[0;34m\u001b[0m\u001b[0m\n\u001b[0;32m--> 144\u001b[0;31m             \u001b[0mnew_grid\u001b[0m \u001b[0;34m=\u001b[0m \u001b[0mself\u001b[0m\u001b[0;34m.\u001b[0m\u001b[0mgrid\u001b[0m\u001b[0;34m[\u001b[0m\u001b[0mitem\u001b[0m\u001b[0;34m]\u001b[0m\u001b[0;34m\u001b[0m\u001b[0;34m\u001b[0m\u001b[0m\n\u001b[0m\u001b[1;32m    145\u001b[0m             \u001b[0;32mif\u001b[0m \u001b[0mlen\u001b[0m\u001b[0;34m(\u001b[0m\u001b[0mnew_grid\u001b[0m\u001b[0;34m)\u001b[0m \u001b[0;34m==\u001b[0m \u001b[0;36m0\u001b[0m\u001b[0;34m:\u001b[0m\u001b[0;34m\u001b[0m\u001b[0;34m\u001b[0m\u001b[0m\n\u001b[1;32m    146\u001b[0m                 \u001b[0;31m# then we have a single element\u001b[0m\u001b[0;34m\u001b[0m\u001b[0;34m\u001b[0m\u001b[0;34m\u001b[0m\u001b[0m\n",
      "\u001b[0;31mTypeError\u001b[0m: 'NoneType' object is not subscriptable"
     ]
    }
   ],
   "source": [
    "np.median(a)"
   ]
  },
  {
   "cell_type": "code",
   "execution_count": 124,
   "metadata": {},
   "outputs": [
    {
     "ename": "ValueError",
     "evalue": "not enough values to unpack (expected 2, got 1)",
     "output_type": "error",
     "traceback": [
      "\u001b[0;31m---------------------------------------------------------------------------\u001b[0m",
      "\u001b[0;31mValueError\u001b[0m                                Traceback (most recent call last)",
      "\u001b[0;32m~/anaconda3/lib/python3.7/site-packages/IPython/core/formatters.py\u001b[0m in \u001b[0;36m__call__\u001b[0;34m(self, obj)\u001b[0m\n\u001b[1;32m    343\u001b[0m             \u001b[0mmethod\u001b[0m \u001b[0;34m=\u001b[0m \u001b[0mget_real_method\u001b[0m\u001b[0;34m(\u001b[0m\u001b[0mobj\u001b[0m\u001b[0;34m,\u001b[0m \u001b[0mself\u001b[0m\u001b[0;34m.\u001b[0m\u001b[0mprint_method\u001b[0m\u001b[0;34m)\u001b[0m\u001b[0;34m\u001b[0m\u001b[0;34m\u001b[0m\u001b[0m\n\u001b[1;32m    344\u001b[0m             \u001b[0;32mif\u001b[0m \u001b[0mmethod\u001b[0m \u001b[0;32mis\u001b[0m \u001b[0;32mnot\u001b[0m \u001b[0;32mNone\u001b[0m\u001b[0;34m:\u001b[0m\u001b[0;34m\u001b[0m\u001b[0;34m\u001b[0m\u001b[0m\n\u001b[0;32m--> 345\u001b[0;31m                 \u001b[0;32mreturn\u001b[0m \u001b[0mmethod\u001b[0m\u001b[0;34m(\u001b[0m\u001b[0;34m)\u001b[0m\u001b[0;34m\u001b[0m\u001b[0;34m\u001b[0m\u001b[0m\n\u001b[0m\u001b[1;32m    346\u001b[0m             \u001b[0;32mreturn\u001b[0m \u001b[0;32mNone\u001b[0m\u001b[0;34m\u001b[0m\u001b[0;34m\u001b[0m\u001b[0m\n\u001b[1;32m    347\u001b[0m         \u001b[0;32melse\u001b[0m\u001b[0;34m:\u001b[0m\u001b[0;34m\u001b[0m\u001b[0;34m\u001b[0m\u001b[0m\n",
      "\u001b[0;32m~/pynocular/pynocular/gridarray.py\u001b[0m in \u001b[0;36m_repr_html_\u001b[0;34m(self)\u001b[0m\n\u001b[1;32m    116\u001b[0m     \u001b[0;32mdef\u001b[0m \u001b[0m_repr_html_\u001b[0m\u001b[0;34m(\u001b[0m\u001b[0mself\u001b[0m\u001b[0;34m)\u001b[0m\u001b[0;34m:\u001b[0m\u001b[0;34m\u001b[0m\u001b[0;34m\u001b[0m\u001b[0m\n\u001b[1;32m    117\u001b[0m         \u001b[0;34m'''for jupyter'''\u001b[0m\u001b[0;34m\u001b[0m\u001b[0;34m\u001b[0m\u001b[0m\n\u001b[0;32m--> 118\u001b[0;31m         \u001b[0;32mreturn\u001b[0m \u001b[0mformat_html\u001b[0m\u001b[0;34m(\u001b[0m\u001b[0mself\u001b[0m\u001b[0;34m)\u001b[0m\u001b[0;34m\u001b[0m\u001b[0;34m\u001b[0m\u001b[0m\n\u001b[0m\u001b[1;32m    119\u001b[0m \u001b[0;34m\u001b[0m\u001b[0m\n\u001b[1;32m    120\u001b[0m     \u001b[0;32mdef\u001b[0m \u001b[0m__str__\u001b[0m\u001b[0;34m(\u001b[0m\u001b[0mself\u001b[0m\u001b[0;34m)\u001b[0m\u001b[0;34m:\u001b[0m\u001b[0;34m\u001b[0m\u001b[0;34m\u001b[0m\u001b[0m\n",
      "\u001b[0;32m~/pynocular/pynocular/utils/formatter.py\u001b[0m in \u001b[0;36mformat_html\u001b[0;34m(data)\u001b[0m\n\u001b[1;32m    159\u001b[0m     \u001b[0;32mif\u001b[0m \u001b[0misinstance\u001b[0m\u001b[0;34m(\u001b[0m\u001b[0mdata\u001b[0m\u001b[0;34m,\u001b[0m \u001b[0mpn\u001b[0m\u001b[0;34m.\u001b[0m\u001b[0mGridArray\u001b[0m\u001b[0;34m)\u001b[0m\u001b[0;34m:\u001b[0m\u001b[0;34m\u001b[0m\u001b[0;34m\u001b[0m\u001b[0m\n\u001b[1;32m    160\u001b[0m         \u001b[0;32mif\u001b[0m \u001b[0mdata\u001b[0m\u001b[0;34m.\u001b[0m\u001b[0mnaxes\u001b[0m \u001b[0;34m==\u001b[0m \u001b[0;36m2\u001b[0m\u001b[0;34m:\u001b[0m\u001b[0;34m\u001b[0m\u001b[0;34m\u001b[0m\u001b[0m\n\u001b[0;32m--> 161\u001b[0;31m             \u001b[0mtable\u001b[0m \u001b[0;34m=\u001b[0m \u001b[0mmake_2d_table\u001b[0m\u001b[0;34m(\u001b[0m\u001b[0mdata\u001b[0m\u001b[0;34m)\u001b[0m\u001b[0;34m\u001b[0m\u001b[0;34m\u001b[0m\u001b[0m\n\u001b[0m\u001b[1;32m    162\u001b[0m \u001b[0;34m\u001b[0m\u001b[0m\n\u001b[1;32m    163\u001b[0m         \u001b[0;32melif\u001b[0m \u001b[0mdata\u001b[0m\u001b[0;34m.\u001b[0m\u001b[0mnaxes\u001b[0m \u001b[0;34m==\u001b[0m \u001b[0;36m1\u001b[0m\u001b[0;34m:\u001b[0m\u001b[0;34m\u001b[0m\u001b[0;34m\u001b[0m\u001b[0m\n",
      "\u001b[0;32m~/pynocular/pynocular/utils/formatter.py\u001b[0m in \u001b[0;36mmake_2d_table\u001b[0;34m(data)\u001b[0m\n\u001b[1;32m    109\u001b[0m         \u001b[0mtable\u001b[0m\u001b[0;34m.\u001b[0m\u001b[0mappend\u001b[0m\u001b[0;34m(\u001b[0m\u001b[0;34m[\u001b[0m\u001b[0my_labels\u001b[0m\u001b[0;34m[\u001b[0m\u001b[0mi\u001b[0m\u001b[0;34m]\u001b[0m\u001b[0;34m]\u001b[0m \u001b[0;34m+\u001b[0m \u001b[0;34m[\u001b[0m\u001b[0;36m0\u001b[0m\u001b[0;34m]\u001b[0m \u001b[0;34m*\u001b[0m \u001b[0;34m(\u001b[0m\u001b[0mlen\u001b[0m\u001b[0;34m(\u001b[0m\u001b[0mx_labels\u001b[0m\u001b[0;34m)\u001b[0m\u001b[0;34m)\u001b[0m\u001b[0;34m)\u001b[0m\u001b[0;34m\u001b[0m\u001b[0;34m\u001b[0m\u001b[0m\n\u001b[1;32m    110\u001b[0m \u001b[0;34m\u001b[0m\u001b[0m\n\u001b[0;32m--> 111\u001b[0;31m     \u001b[0mn_data_cols\u001b[0m\u001b[0;34m,\u001b[0m \u001b[0mn_data_rows\u001b[0m \u001b[0;34m=\u001b[0m \u001b[0mdata\u001b[0m\u001b[0;34m.\u001b[0m\u001b[0mshape\u001b[0m\u001b[0;34m[\u001b[0m\u001b[0;34m:\u001b[0m\u001b[0;36m2\u001b[0m\u001b[0;34m]\u001b[0m\u001b[0;34m\u001b[0m\u001b[0;34m\u001b[0m\u001b[0m\n\u001b[0m\u001b[1;32m    112\u001b[0m \u001b[0;34m\u001b[0m\u001b[0m\n\u001b[1;32m    113\u001b[0m     \u001b[0;32mif\u001b[0m \u001b[0mn_data_rows\u001b[0m \u001b[0;34m>\u001b[0m \u001b[0mN_MAX\u001b[0m\u001b[0;34m:\u001b[0m\u001b[0;34m\u001b[0m\u001b[0;34m\u001b[0m\u001b[0m\n",
      "\u001b[0;31mValueError\u001b[0m: not enough values to unpack (expected 2, got 1)"
     ]
    },
    {
     "data": {
      "text/plain": [
       "GridArray(noname : [ 0.8955654   1.42266789  2.1563729   2.70272205  3.22640803  4.05054405\n",
       "  4.96166419  5.02177456  5.27304465  5.55033607  5.75846379  6.49140909\n",
       "  7.41682519  7.64959684  8.24561534  8.44280117  9.23308758  9.92675883\n",
       " 10.81249903 11.67302859 12.07739444 12.80490092 13.51612328 14.24090676\n",
       " 14.92570427 15.49080304 15.77355665 16.0208015  16.08277232 16.88522378\n",
       " 16.97432605 17.5683208  17.77346685 18.2592473  18.53793988 19.09121461\n",
       " 19.31210666 20.25499212 20.82102656 21.31314227 22.19305883 22.23744116\n",
       " 22.6147522  22.68993865 23.36050622 24.22687996 24.49447317 24.75629823\n",
       " 24.85615074 25.02928478 25.79487328 26.04641188 26.4674857  27.34615506\n",
       " 28.34567432 28.49906036 28.54829199 28.84791496 29.51881256 30.1028296\n",
       " 30.14287377 30.81158074 31.72507026 31.89401143 32.78454659 33.02371127\n",
       " 33.6417851  34.25299193 34.88279658 35.23288764 35.35350626 35.76127732\n",
       " 35.84747854 36.47335459 36.58451073 36.70759585 36.80102379 37.43665795\n",
       " 37.45328271 37.84717492 38.23511208 38.56318856 39.26079083 39.6479122\n",
       " 40.61296613 40.88410475 41.85647189 41.89729605 42.58600705 42.88964003\n",
       " 43.69358604 44.35061902 44.82241256 45.64129616 46.21880495 46.33081504\n",
       " 47.15731962 47.56486751 47.83630813 48.52595052])"
      ]
     },
     "execution_count": 124,
     "metadata": {},
     "output_type": "execute_result"
    }
   ],
   "source": [
    "np.cumsum(a)"
   ]
  },
  {
   "cell_type": "code",
   "execution_count": 125,
   "metadata": {},
   "outputs": [
    {
     "data": {
      "text/plain": [
       "dtype('float64')"
      ]
     },
     "execution_count": 125,
     "metadata": {},
     "output_type": "execute_result"
    }
   ],
   "source": [
    "a.dtype"
   ]
  },
  {
   "cell_type": "code",
   "execution_count": 126,
   "metadata": {},
   "outputs": [
    {
     "data": {
      "text/html": [
       "<table>\n",
       "<tbody>\n",
       "<tr><td><b>y \\ x</b></td><td><b>[-0.5 | 0 | 0.5]</b></td><td><b>[0.5 | 1 | 1.5]</b></td><td><b>[1.5 | 2 | 2.5]</b></td><td><b>[2.5 | 3 | 3.5]</b></td><td><b>[3.5 | 4 | 4.5]</b></td><td><b>[4.5 | 5 | 5.5]</b></td><td>...</td><td><b>[14 | 14 | 14]</b></td><td><b>[14 | 15 | 16]</b></td><td><b>[16 | 16 | 16]</b></td><td><b>[16 | 17 | 18]</b></td><td><b>[18 | 18 | 18]</b></td><td><b>[18 | 19 | 20]</b></td></tr>\n",
       "<tr><td><b>0</b>    </td><td>0.78                   </td><td>0.73                  </td><td>0.21                  </td><td>0.2                   </td><td>0.39                  </td><td>0.54                  </td><td>...</td><td>0.12                 </td><td>0.12                 </td><td>0.38                 </td><td>0.27                 </td><td>0.72                 </td><td>0.11                 </td></tr>\n",
       "<tr><td><b>1</b>    </td><td>0.5                    </td><td>0.79                  </td><td>0.67                  </td><td>0.71                  </td><td>0.67                  </td><td>0.28                  </td><td>...</td><td>0.4                  </td><td>0.093                </td><td>0.32                 </td><td>0.83                 </td><td>0.61                 </td><td>0.74                 </td></tr>\n",
       "<tr><td><b>2</b>    </td><td>0.67                   </td><td>0.06                  </td><td>0.8                   </td><td>0.64                  </td><td>0.65                  </td><td>0.24                  </td><td>...</td><td>0.086                </td><td>0.59                 </td><td>0.64                 </td><td>0.041                </td><td>0.45                 </td><td>0.4                  </td></tr>\n",
       "<tr><td><b>3</b>    </td><td>0.52                   </td><td>0.25                  </td><td>0.23                  </td><td>0.77                  </td><td>0.66                  </td><td>0.062                 </td><td>...</td><td>0.59                 </td><td>0.017                </td><td>0.38                 </td><td>0.64                 </td><td>0.73                 </td><td>0.27                 </td></tr>\n",
       "<tr><td><b>4</b>    </td><td>0.5                    </td><td>0.27                  </td><td>0.56                  </td><td>0.76                  </td><td>0.63                  </td><td>0.72                  </td><td>...</td><td>0.11                 </td><td>0.38                 </td><td>0.82                 </td><td>0.3                  </td><td>0.55                 </td><td>0.64                 </td></tr>\n",
       "</tbody>\n",
       "</table>"
      ],
      "text/plain": [
       "GridArray(noname : [[0.7805626275303278 0.5030312225131567 0.6696259338195777\n",
       "  0.5195713158349368 0.500075517229939]\n",
       " [0.7339612509595093 0.7901907234587856 0.06007417459230785\n",
       "  0.24863436756118357 0.2737515394334299]\n",
       " [0.20662838928508442 0.6690615018997814 0.7988711169890601\n",
       "  0.23067530803937467 0.5613519330697014]\n",
       " [0.19591047877080375 0.7105548274622413 0.6393643218179976\n",
       "  0.7743835397656815 0.7581879616353306]\n",
       " [0.3934358292394414 0.665009455225615 0.6527602776000729\n",
       "  0.6629733640640282 0.6325161812445436]\n",
       " [0.5354992315675724 0.2790009764411576 0.24473352082840313\n",
       "  0.06193116671091878 0.7190618804898843]\n",
       " [0.08898441925790511 0.5596759732270847 0.20371015263327125\n",
       "  0.46689865859890123 0.2750989123447403]\n",
       " [0.525476202166983 0.2191000909416869 0.8092565436069293\n",
       "  0.536289206049129 0.4724915926208026]\n",
       " [0.7706857123116498 0.044367768991463746 0.3684219827293474\n",
       "  0.0751156325437195 0.6214307584090859]\n",
       " [0.7619856091744674 0.26441107160961724 0.25884384729298554\n",
       "  0.09968665834697969 0.17227037398943487]\n",
       " [0.6929614182662507 0.24889443457066582 0.40874070537297374\n",
       "  0.7698903776079107 0.8412111451472399]\n",
       " [0.1527852899791278 0.04921174336858475 0.29515999041385277\n",
       "  0.6216892935967719 0.5513796098362364]\n",
       " [0.04003347351150873 0.619971966147412 0.791640603435908\n",
       "  0.16813868921626127 0.7774084724810669]\n",
       " [0.2368911642891018 0.5794664163708205 0.5738562151867924\n",
       "  0.5889869017588565 0.3429833460426449]\n",
       " [0.12032635817196759 0.39656413260682954 0.0860945018291249\n",
       "  0.5858074928242992 0.11092737574488093]\n",
       " [0.12277456687399188 0.09329208053145019 0.5936879368838298\n",
       "  0.016624002755424052 0.38378545866432234]\n",
       " [0.3782796717257414 0.32222270375214696 0.6423819515617187\n",
       "  0.377524371942777 0.8220796246932823]\n",
       " [0.2678286292045246 0.8262215461298182 0.0408128117205661\n",
       "  0.6355425216930591 0.29898896603849145]\n",
       " [0.7200997102815953 0.6107702342138079 0.45448462353794583\n",
       "  0.730383738429264 0.5459384323999266]\n",
       " [0.11177602152036671 0.7355678962334716 0.3963592441324804\n",
       "  0.26811959429112026 0.6362613312234794]])"
      ]
     },
     "execution_count": 126,
     "metadata": {},
     "output_type": "execute_result"
    }
   ],
   "source": [
    "np.sin(a)"
   ]
  },
  {
   "cell_type": "code",
   "execution_count": 127,
   "metadata": {},
   "outputs": [
    {
     "ename": "IndexError",
     "evalue": "list index out of range",
     "output_type": "error",
     "traceback": [
      "\u001b[0;31m---------------------------------------------------------------------------\u001b[0m",
      "\u001b[0;31mIndexError\u001b[0m                                Traceback (most recent call last)",
      "\u001b[0;32m~/anaconda3/lib/python3.7/site-packages/IPython/core/formatters.py\u001b[0m in \u001b[0;36m__call__\u001b[0;34m(self, obj)\u001b[0m\n\u001b[1;32m    343\u001b[0m             \u001b[0mmethod\u001b[0m \u001b[0;34m=\u001b[0m \u001b[0mget_real_method\u001b[0m\u001b[0;34m(\u001b[0m\u001b[0mobj\u001b[0m\u001b[0;34m,\u001b[0m \u001b[0mself\u001b[0m\u001b[0;34m.\u001b[0m\u001b[0mprint_method\u001b[0m\u001b[0;34m)\u001b[0m\u001b[0;34m\u001b[0m\u001b[0;34m\u001b[0m\u001b[0m\n\u001b[1;32m    344\u001b[0m             \u001b[0;32mif\u001b[0m \u001b[0mmethod\u001b[0m \u001b[0;32mis\u001b[0m \u001b[0;32mnot\u001b[0m \u001b[0;32mNone\u001b[0m\u001b[0;34m:\u001b[0m\u001b[0;34m\u001b[0m\u001b[0;34m\u001b[0m\u001b[0m\n\u001b[0;32m--> 345\u001b[0;31m                 \u001b[0;32mreturn\u001b[0m \u001b[0mmethod\u001b[0m\u001b[0;34m(\u001b[0m\u001b[0;34m)\u001b[0m\u001b[0;34m\u001b[0m\u001b[0;34m\u001b[0m\u001b[0m\n\u001b[0m\u001b[1;32m    346\u001b[0m             \u001b[0;32mreturn\u001b[0m \u001b[0;32mNone\u001b[0m\u001b[0;34m\u001b[0m\u001b[0;34m\u001b[0m\u001b[0m\n\u001b[1;32m    347\u001b[0m         \u001b[0;32melse\u001b[0m\u001b[0;34m:\u001b[0m\u001b[0;34m\u001b[0m\u001b[0;34m\u001b[0m\u001b[0m\n",
      "\u001b[0;32m~/pynocular/pynocular/gridarray.py\u001b[0m in \u001b[0;36m_repr_html_\u001b[0;34m(self)\u001b[0m\n\u001b[1;32m    116\u001b[0m     \u001b[0;32mdef\u001b[0m \u001b[0m_repr_html_\u001b[0m\u001b[0;34m(\u001b[0m\u001b[0mself\u001b[0m\u001b[0;34m)\u001b[0m\u001b[0;34m:\u001b[0m\u001b[0;34m\u001b[0m\u001b[0;34m\u001b[0m\u001b[0m\n\u001b[1;32m    117\u001b[0m         \u001b[0;34m'''for jupyter'''\u001b[0m\u001b[0;34m\u001b[0m\u001b[0;34m\u001b[0m\u001b[0m\n\u001b[0;32m--> 118\u001b[0;31m         \u001b[0;32mreturn\u001b[0m \u001b[0mformat_html\u001b[0m\u001b[0;34m(\u001b[0m\u001b[0mself\u001b[0m\u001b[0;34m)\u001b[0m\u001b[0;34m\u001b[0m\u001b[0;34m\u001b[0m\u001b[0m\n\u001b[0m\u001b[1;32m    119\u001b[0m \u001b[0;34m\u001b[0m\u001b[0m\n\u001b[1;32m    120\u001b[0m     \u001b[0;32mdef\u001b[0m \u001b[0m__str__\u001b[0m\u001b[0;34m(\u001b[0m\u001b[0mself\u001b[0m\u001b[0;34m)\u001b[0m\u001b[0;34m:\u001b[0m\u001b[0;34m\u001b[0m\u001b[0;34m\u001b[0m\u001b[0m\n",
      "\u001b[0;32m~/pynocular/pynocular/utils/formatter.py\u001b[0m in \u001b[0;36mformat_html\u001b[0;34m(data)\u001b[0m\n\u001b[1;32m    159\u001b[0m     \u001b[0;32mif\u001b[0m \u001b[0misinstance\u001b[0m\u001b[0;34m(\u001b[0m\u001b[0mdata\u001b[0m\u001b[0;34m,\u001b[0m \u001b[0mpn\u001b[0m\u001b[0;34m.\u001b[0m\u001b[0mGridArray\u001b[0m\u001b[0;34m)\u001b[0m\u001b[0;34m:\u001b[0m\u001b[0;34m\u001b[0m\u001b[0;34m\u001b[0m\u001b[0m\n\u001b[1;32m    160\u001b[0m         \u001b[0;32mif\u001b[0m \u001b[0mdata\u001b[0m\u001b[0;34m.\u001b[0m\u001b[0mnaxes\u001b[0m \u001b[0;34m==\u001b[0m \u001b[0;36m2\u001b[0m\u001b[0;34m:\u001b[0m\u001b[0;34m\u001b[0m\u001b[0;34m\u001b[0m\u001b[0m\n\u001b[0;32m--> 161\u001b[0;31m             \u001b[0mtable\u001b[0m \u001b[0;34m=\u001b[0m \u001b[0mmake_2d_table\u001b[0m\u001b[0;34m(\u001b[0m\u001b[0mdata\u001b[0m\u001b[0;34m)\u001b[0m\u001b[0;34m\u001b[0m\u001b[0;34m\u001b[0m\u001b[0m\n\u001b[0m\u001b[1;32m    162\u001b[0m \u001b[0;34m\u001b[0m\u001b[0m\n\u001b[1;32m    163\u001b[0m         \u001b[0;32melif\u001b[0m \u001b[0mdata\u001b[0m\u001b[0;34m.\u001b[0m\u001b[0mnaxes\u001b[0m \u001b[0;34m==\u001b[0m \u001b[0;36m1\u001b[0m\u001b[0;34m:\u001b[0m\u001b[0;34m\u001b[0m\u001b[0;34m\u001b[0m\u001b[0m\n",
      "\u001b[0;32m~/pynocular/pynocular/utils/formatter.py\u001b[0m in \u001b[0;36mmake_2d_table\u001b[0;34m(data)\u001b[0m\n\u001b[1;32m    113\u001b[0m     \u001b[0;32mif\u001b[0m \u001b[0mn_data_rows\u001b[0m \u001b[0;34m>\u001b[0m \u001b[0mN_MAX\u001b[0m\u001b[0;34m:\u001b[0m\u001b[0;34m\u001b[0m\u001b[0;34m\u001b[0m\u001b[0m\n\u001b[1;32m    114\u001b[0m         \u001b[0;32mfor\u001b[0m \u001b[0mi\u001b[0m \u001b[0;32min\u001b[0m \u001b[0mrange\u001b[0m\u001b[0;34m(\u001b[0m\u001b[0;36m1\u001b[0m\u001b[0;34m,\u001b[0m \u001b[0mmin\u001b[0m\u001b[0;34m(\u001b[0m\u001b[0mn_data_cols\u001b[0m\u001b[0;34m,\u001b[0m \u001b[0;36m2\u001b[0m\u001b[0;34m*\u001b[0m\u001b[0;34m(\u001b[0m\u001b[0mN_MAX\u001b[0m\u001b[0;34m//\u001b[0m\u001b[0;36m2\u001b[0m\u001b[0;34m)\u001b[0m \u001b[0;34m+\u001b[0m \u001b[0;36m1\u001b[0m\u001b[0;34m)\u001b[0m \u001b[0;34m+\u001b[0m \u001b[0;36m1\u001b[0m\u001b[0;34m)\u001b[0m\u001b[0;34m:\u001b[0m\u001b[0;34m\u001b[0m\u001b[0;34m\u001b[0m\u001b[0m\n\u001b[0;32m--> 115\u001b[0;31m             \u001b[0mtable\u001b[0m\u001b[0;34m[\u001b[0m\u001b[0mN_MAX\u001b[0m\u001b[0;34m//\u001b[0m\u001b[0;36m2\u001b[0m\u001b[0;34m+\u001b[0m\u001b[0;36m1\u001b[0m\u001b[0;34m]\u001b[0m\u001b[0;34m[\u001b[0m\u001b[0mi\u001b[0m\u001b[0;34m]\u001b[0m \u001b[0;34m=\u001b[0m \u001b[0;34m'...'\u001b[0m\u001b[0;34m\u001b[0m\u001b[0;34m\u001b[0m\u001b[0m\n\u001b[0m\u001b[1;32m    116\u001b[0m         \u001b[0mdata_row_idices\u001b[0m \u001b[0;34m=\u001b[0m \u001b[0mlist\u001b[0m\u001b[0;34m(\u001b[0m\u001b[0mrange\u001b[0m\u001b[0;34m(\u001b[0m\u001b[0mN_MAX\u001b[0m\u001b[0;34m//\u001b[0m\u001b[0;36m2\u001b[0m\u001b[0;34m)\u001b[0m\u001b[0;34m)\u001b[0m \u001b[0;34m+\u001b[0m \u001b[0mlist\u001b[0m\u001b[0;34m(\u001b[0m\u001b[0mrange\u001b[0m\u001b[0;34m(\u001b[0m\u001b[0mn_data_rows\u001b[0m \u001b[0;34m-\u001b[0m \u001b[0mN_MAX\u001b[0m\u001b[0;34m//\u001b[0m\u001b[0;36m2\u001b[0m\u001b[0;34m,\u001b[0m \u001b[0mn_data_rows\u001b[0m\u001b[0;34m)\u001b[0m\u001b[0;34m)\u001b[0m\u001b[0;34m\u001b[0m\u001b[0;34m\u001b[0m\u001b[0m\n\u001b[1;32m    117\u001b[0m         \u001b[0mtable_row_idices\u001b[0m \u001b[0;34m=\u001b[0m \u001b[0mlist\u001b[0m\u001b[0;34m(\u001b[0m\u001b[0mrange\u001b[0m\u001b[0;34m(\u001b[0m\u001b[0mN_MAX\u001b[0m\u001b[0;34m//\u001b[0m\u001b[0;36m2\u001b[0m\u001b[0;34m)\u001b[0m\u001b[0;34m)\u001b[0m \u001b[0;34m+\u001b[0m \u001b[0mlist\u001b[0m\u001b[0;34m(\u001b[0m\u001b[0mrange\u001b[0m\u001b[0;34m(\u001b[0m\u001b[0mN_MAX\u001b[0m\u001b[0;34m//\u001b[0m\u001b[0;36m2\u001b[0m\u001b[0;34m+\u001b[0m\u001b[0;36m1\u001b[0m\u001b[0;34m,\u001b[0m \u001b[0;36m2\u001b[0m\u001b[0;34m*\u001b[0m\u001b[0;34m(\u001b[0m\u001b[0mN_MAX\u001b[0m\u001b[0;34m//\u001b[0m\u001b[0;36m2\u001b[0m\u001b[0;34m)\u001b[0m \u001b[0;34m+\u001b[0m \u001b[0;36m1\u001b[0m\u001b[0;34m)\u001b[0m\u001b[0;34m)\u001b[0m\u001b[0;34m\u001b[0m\u001b[0;34m\u001b[0m\u001b[0m\n",
      "\u001b[0;31mIndexError\u001b[0m: list index out of range"
     ]
    },
    {
     "data": {
      "text/plain": [
       "GridArray(noname : [[2.19094187 1.5449195  1.69101283 2.03667549 2.02203764 1.29061811\n",
       "  0.95476284 1.87069277 1.48049675 1.25426796 2.13065965 1.05553809\n",
       "  1.61723276 1.51585239 0.78636303 0.84120359 1.74907596 1.32059739\n",
       "  2.16229685 1.34444231]\n",
       " [1.5449195  1.65298053 1.11871325 1.38542812 1.41085498 0.97628706\n",
       "  0.82630553 0.99259701 0.99312362 1.0466563  1.3833833  0.51979675\n",
       "  0.98657205 1.05231193 0.66420274 0.3381714  1.02543641 1.36909964\n",
       "  1.65545572 1.1292912 ]\n",
       " [1.69101283 1.11871325 1.84634161 1.98127783 1.85241985 1.04636098\n",
       "  0.92293762 1.57468182 0.98200651 0.74517863 1.533634   0.8495348\n",
       "  1.91391799 1.42367316 0.61568727 0.92095789 1.63207584 1.14818599\n",
       "  1.62031684 1.48046973]\n",
       " [2.03667549 1.38542812 1.98127783 2.66966149 2.37928657 1.2518157\n",
       "  1.29939808 1.86255803 1.11395053 0.80136276 2.2802262  1.37379738\n",
       "  2.0859974  1.81869884 1.05585224 0.89270772 1.99302313 1.72153595\n",
       "  2.22732212 1.79184992]\n",
       " [2.02203764 1.41085498 1.85241985 2.37928657 2.19287338 1.20448998\n",
       "  1.15700303 1.80227905 1.17014558 0.92215679 2.11336425 1.19712787\n",
       "  1.88465735 1.6772802  0.93648244 0.85160383 1.83314234 1.55317111\n",
       "  2.12762406 1.60543873]\n",
       " [1.29061811 0.97628706 1.04636098 1.2518157  1.20448998 1.10818496\n",
       "  0.52276854 1.03821305 1.14583453 0.77510418 1.46438246 0.68490032\n",
       "  1.16264446 0.78099261 0.33275644 0.57023923 1.28286536 0.7245847\n",
       "  1.27090553 0.96798397]\n",
       " [0.95476284 0.82630553 0.92293762 1.29939808 1.15700303 0.52276854\n",
       "  0.71650608 0.78605345 0.40557563 0.38661478 1.00940891 0.59304699\n",
       "  0.91842909 0.91734396 0.60566184 0.31471153 0.82956151 1.02929755\n",
       "  1.11743919 0.90858534]\n",
       " [1.87069277 0.99259701 1.57468182 1.86255803 1.80227905 1.03821305\n",
       "  0.78605345 1.80651206 1.22495534 0.92704489 1.86540427 1.04540474\n",
       "  1.56505633 1.37392583 0.64705558 0.89131831 1.63890658 0.94255152\n",
       "  1.78250111 1.12184021]\n",
       " [1.48049675 0.99312362 0.98200651 1.11395053 1.17014558 1.14583453\n",
       "  0.40557563 1.22495534 1.37390042 0.99660813 1.58000291 0.69226828\n",
       "  1.01945007 0.75060409 0.27835193 0.61766426 1.29536632 0.55252685\n",
       "  1.36340659 0.77187453]\n",
       " [1.25426796 1.0466563  0.74517863 0.80136276 0.92215679 0.77510418\n",
       "  0.38661478 0.92704489 0.99660813 0.93070787 1.10163163 0.39261653\n",
       "  0.62386027 0.65612788 0.31792742 0.36791953 0.81227809 0.62713373\n",
       "  1.17761666 0.57142047]\n",
       " [2.13065965 1.3833833  1.533634   2.2802262  2.11336425 1.46438246\n",
       "  1.00940891 1.86540427 1.58000291 1.10163163 2.59779919 1.42921108\n",
       "  1.62205997 1.49924716 0.89225228 0.7936927  1.97800786 1.37799473\n",
       "  2.27617997 1.3930766 ]\n",
       " [1.05553809 0.51979675 0.8495348  1.37379738 1.19712787 0.68490032\n",
       "  0.59304699 1.04540474 0.69226828 0.39261653 1.42921108 0.90690444\n",
       "  0.94619612 0.87723848 0.54922013 0.45512301 1.10800028 0.74107334\n",
       "  1.18368309 0.76485342]\n",
       " [1.61723276 0.98657205 1.91391799 2.0859974  1.88465735 1.16264446\n",
       "  0.91842909 1.56505633 1.01945007 0.62386027 1.62205997 0.94619612\n",
       "  2.10482964 1.3993868  0.56097801 1.00163336 1.79698921 1.08512613\n",
       "  1.55516938 1.58947374]\n",
       " [1.51585239 1.05231193 1.42367316 1.81869884 1.6772802  0.78099261\n",
       "  0.91734396 1.37392583 0.75060409 0.65612788 1.49924716 0.87723848\n",
       "  1.3993868  1.33200644 0.76666153 0.62405541 1.30360322 1.23084605\n",
       "  1.60465118 1.19911796]\n",
       " [0.78636303 0.66420274 0.61568727 1.05585224 0.93648244 0.33275644\n",
       "  0.60566184 0.64705558 0.27835193 0.31792742 0.89225228 0.54922013\n",
       "  0.56097801 0.76666153 0.59233326 0.16192459 0.59026837 0.89752503\n",
       "  0.98227235 0.63221245]\n",
       " [0.84120359 0.3381714  0.92095789 0.89270772 0.85160383 0.57023923\n",
       "  0.31471153 0.89131831 0.61766426 0.36791953 0.7936927  0.45512301\n",
       "  1.00163336 0.62405541 0.16192459 0.58333696 0.90838365 0.28121694\n",
       "  0.70131708 0.62621415]\n",
       " [1.74907596 1.02543641 1.63207584 1.99302313 1.83314234 1.28286536\n",
       "  0.82956151 1.63890658 1.29536632 0.81227809 1.97800786 1.10800028\n",
       "  1.79698921 1.30360322 0.59026837 0.90838365 1.82597039 1.01231151\n",
       "  1.73089632 1.36953849]\n",
       " [1.32059739 1.36909964 1.14818599 1.72153595 1.55317111 0.7245847\n",
       "  1.02929755 0.94255152 0.55252685 0.62713373 1.37799473 0.74107334\n",
       "  1.08512613 1.23084605 0.89752503 0.28121694 1.01231151 1.58719646\n",
       "  1.61544352 1.24701628]\n",
       " [2.16229685 1.65545572 1.62031684 2.22732212 2.12762406 1.27090553\n",
       "  1.11743919 1.78250111 1.36340659 1.17761666 2.27617997 1.18368309\n",
       "  1.55516938 1.60465118 0.98227235 0.70131708 1.73089632 1.61544352\n",
       "  2.30469741 1.44592211]\n",
       " [1.34444231 1.1292912  1.48046973 1.79184992 1.60543873 0.96798397\n",
       "  0.90858534 1.12184021 0.77187453 0.57142047 1.3930766  0.76485342\n",
       "  1.58947374 1.19911796 0.63221245 0.62621415 1.36953849 1.24701628\n",
       "  1.44592211 1.411038  ]])"
      ]
     },
     "execution_count": 127,
     "metadata": {},
     "output_type": "execute_result"
    }
   ],
   "source": [
    "np.dot(a,a.T)"
   ]
  },
  {
   "cell_type": "code",
   "execution_count": null,
   "metadata": {},
   "outputs": [],
   "source": [
    "b = a.values"
   ]
  },
  {
   "cell_type": "code",
   "execution_count": null,
   "metadata": {},
   "outputs": [],
   "source": [
    "np.dot(b,b.T)"
   ]
  },
  {
   "cell_type": "code",
   "execution_count": 19,
   "metadata": {},
   "outputs": [],
   "source": [
    "l = range(3)"
   ]
  },
  {
   "cell_type": "code",
   "execution_count": 20,
   "metadata": {},
   "outputs": [
    {
     "ename": "AttributeError",
     "evalue": "'range' object has no attribute 'next'",
     "output_type": "error",
     "traceback": [
      "\u001b[0;31m---------------------------------------------------------------------------\u001b[0m",
      "\u001b[0;31mAttributeError\u001b[0m                            Traceback (most recent call last)",
      "\u001b[0;32m<ipython-input-20-25aaa3b3a26b>\u001b[0m in \u001b[0;36m<module>\u001b[0;34m\u001b[0m\n\u001b[0;32m----> 1\u001b[0;31m \u001b[0ml\u001b[0m\u001b[0;34m.\u001b[0m\u001b[0mnext\u001b[0m\u001b[0;34m(\u001b[0m\u001b[0;34m)\u001b[0m\u001b[0;34m\u001b[0m\u001b[0;34m\u001b[0m\u001b[0m\n\u001b[0m",
      "\u001b[0;31mAttributeError\u001b[0m: 'range' object has no attribute 'next'"
     ]
    }
   ],
   "source": [
    "l.next()"
   ]
  },
  {
   "cell_type": "code",
   "execution_count": 128,
   "metadata": {},
   "outputs": [],
   "source": [
    "from collections import OrderedDict"
   ]
  },
  {
   "cell_type": "code",
   "execution_count": 131,
   "metadata": {},
   "outputs": [],
   "source": [
    "o = OrderedDict(a=12, b=23)"
   ]
  },
  {
   "cell_type": "code",
   "execution_count": 134,
   "metadata": {},
   "outputs": [
    {
     "data": {
      "text/plain": [
       "2"
      ]
     },
     "execution_count": 134,
     "metadata": {},
     "output_type": "execute_result"
    }
   ],
   "source": [
    "len(o)"
   ]
  },
  {
   "cell_type": "code",
   "execution_count": 140,
   "metadata": {},
   "outputs": [
    {
     "name": "stdout",
     "output_type": "stream",
     "text": [
      "12\n",
      "23\n"
     ]
    }
   ],
   "source": [
    "for i in o.values():\n",
    "    print(i)"
   ]
  },
  {
   "cell_type": "code",
   "execution_count": 141,
   "metadata": {},
   "outputs": [
    {
     "data": {
      "text/plain": [
       "odict_keys(['a', 'b'])"
      ]
     },
     "execution_count": 141,
     "metadata": {},
     "output_type": "execute_result"
    }
   ],
   "source": [
    "o.keys()"
   ]
  },
  {
   "cell_type": "code",
   "execution_count": 145,
   "metadata": {},
   "outputs": [
    {
     "data": {
      "text/plain": [
       "<function OrderedDict.get(key, default=None, /)>"
      ]
     },
     "execution_count": 145,
     "metadata": {},
     "output_type": "execute_result"
    }
   ],
   "source": [
    "o.get()"
   ]
  },
  {
   "cell_type": "code",
   "execution_count": 144,
   "metadata": {},
   "outputs": [
    {
     "data": {
      "text/plain": [
       "OrderedDict()"
      ]
     },
     "execution_count": 144,
     "metadata": {},
     "output_type": "execute_result"
    }
   ],
   "source": [
    "o."
   ]
  },
  {
   "cell_type": "code",
   "execution_count": null,
   "metadata": {},
   "outputs": [],
   "source": []
  }
 ],
 "metadata": {
  "kernelspec": {
   "display_name": "Python 3",
   "language": "python",
   "name": "python3"
  },
  "language_info": {
   "codemirror_mode": {
    "name": "ipython",
    "version": 3
   },
   "file_extension": ".py",
   "mimetype": "text/x-python",
   "name": "python",
   "nbconvert_exporter": "python",
   "pygments_lexer": "ipython3",
   "version": "3.7.3"
  }
 },
 "nbformat": 4,
 "nbformat_minor": 4
}
