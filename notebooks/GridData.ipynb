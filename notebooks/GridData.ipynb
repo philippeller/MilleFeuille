{
 "cells": [
  {
   "cell_type": "code",
   "execution_count": 48,
   "metadata": {},
   "outputs": [],
   "source": [
    "%reload_ext autoreload\n",
    "%autoreload 2\n",
    "import numpy as np\n",
    "import pynocular as pn\n",
    "from matplotlib import pyplot as plt\n",
    "#from uncertainties import unumpy"
   ]
  },
  {
   "cell_type": "code",
   "execution_count": 49,
   "metadata": {},
   "outputs": [
    {
     "data": {
      "text/plain": [
       "array([22, 41,  7])"
      ]
     },
     "execution_count": 49,
     "metadata": {},
     "output_type": "execute_result"
    }
   ],
   "source": [
    "arr = np.array([[3,6,1],[4,5,1]])\n",
    "np.ravel_multi_index(arr, (7,6))"
   ]
  },
  {
   "cell_type": "code",
   "execution_count": 50,
   "metadata": {},
   "outputs": [
    {
     "data": {
      "text/plain": [
       "4"
      ]
     },
     "execution_count": 50,
     "metadata": {},
     "output_type": "execute_result"
    }
   ],
   "source": [
    "bins = [0,1,2,3]\n",
    "np.digitize(5, bins)"
   ]
  },
  {
   "cell_type": "code",
   "execution_count": 51,
   "metadata": {},
   "outputs": [
    {
     "data": {
      "text/plain": [
       "array(-1)"
      ]
     },
     "execution_count": 51,
     "metadata": {},
     "output_type": "execute_result"
    }
   ],
   "source": [
    "np.full_like(2, fill_value=-1)"
   ]
  },
  {
   "cell_type": "code",
   "execution_count": 52,
   "metadata": {},
   "outputs": [
    {
     "data": {
      "text/plain": [
       "array([ True, False, False, False,  True])"
      ]
     },
     "execution_count": 52,
     "metadata": {},
     "output_type": "execute_result"
    }
   ],
   "source": [
    "np.any([np.array([0,1,1,1,0]) == 0, np.array([0,1,1,1,1]) == 0], axis=0)"
   ]
  },
  {
   "cell_type": "code",
   "execution_count": 53,
   "metadata": {},
   "outputs": [],
   "source": [
    "p = pn.PointData()#x='aaa') #x=np.arange(200).reshape(20, 1, -1))"
   ]
  },
  {
   "cell_type": "code",
   "execution_count": 54,
   "metadata": {},
   "outputs": [
    {
     "data": {
      "text/plain": [
       "array([3])"
      ]
     },
     "execution_count": 54,
     "metadata": {},
     "output_type": "execute_result"
    }
   ],
   "source": [
    "np.asanyarray(3)[np.newaxis]"
   ]
  },
  {
   "cell_type": "code",
   "execution_count": 55,
   "metadata": {},
   "outputs": [],
   "source": [
    "p['a'] = np.arange(33)\n",
    "p['b'] = np.zeros(p.array_shape)"
   ]
  },
  {
   "cell_type": "code",
   "execution_count": 56,
   "metadata": {},
   "outputs": [
    {
     "data": {
      "text/plain": [
       "pynocular.core.pointarray.PointArray"
      ]
     },
     "execution_count": 56,
     "metadata": {},
     "output_type": "execute_result"
    }
   ],
   "source": [
    "pn.PointArray"
   ]
  },
  {
   "cell_type": "code",
   "execution_count": 57,
   "metadata": {},
   "outputs": [
    {
     "data": {
      "text/html": [
       "<table>\n",
       "<tbody>\n",
       "<tr><td style=\"text-align: right;\">1</td><td style=\"text-align: right;\">0.54</td><td style=\"text-align: right;\">-0.416</td><td style=\"text-align: right;\">-0.99</td><td style=\"text-align: right;\">-0.654</td><td style=\"text-align: right;\">0.284</td><td>...</td><td style=\"text-align: right;\">-0.292</td><td style=\"text-align: right;\">-0.963</td><td style=\"text-align: right;\">-0.748</td><td style=\"text-align: right;\">0.154</td><td style=\"text-align: right;\">0.915</td><td style=\"text-align: right;\">0.834</td></tr>\n",
       "</tbody>\n",
       "</table>"
      ],
      "text/plain": [
       "1  0.54  -0.416  -0.99  -0.654  0.284  ...  -0.292  -0.963  -0.748  0.154  0.915  0.834"
      ]
     },
     "execution_count": 57,
     "metadata": {},
     "output_type": "execute_result"
    }
   ],
   "source": [
    "np.cos(p['a'])"
   ]
  },
  {
   "cell_type": "code",
   "execution_count": 58,
   "metadata": {},
   "outputs": [],
   "source": [
    "g2d = pn.Grid(x=np.arange(10), y=np.arange(20))"
   ]
  },
  {
   "cell_type": "code",
   "execution_count": 59,
   "metadata": {},
   "outputs": [],
   "source": [
    "b = pn.GridArray(np.random.rand(g2d.size).reshape(g2d.shape), grid=g2d)"
   ]
  },
  {
   "cell_type": "code",
   "execution_count": 60,
   "metadata": {},
   "outputs": [
    {
     "data": {
      "text/html": [
       "<table>\n",
       "<tbody>\n",
       "<tr><td><b>y \\ x</b></td><td><b>0</b></td><td><b>1</b></td><td><b>2</b></td><td><b>3</b></td><td><b>4</b></td><td><b>5</b></td><td><b>6</b></td><td><b>7</b></td><td><b>8</b></td><td><b>9</b></td></tr>\n",
       "<tr><td><b>0</b>    </td><td>0.0494  </td><td>0.101   </td><td>0.27    </td><td>0.776   </td><td>0.089   </td><td>0.306   </td><td>0.545   </td><td>0.362   </td><td>0.394   </td><td>0.593   </td></tr>\n",
       "<tr><td><b>1</b>    </td><td>0.578   </td><td>0.989   </td><td>0.281   </td><td>0.117   </td><td>0.147   </td><td>0.792   </td><td>0.7     </td><td>0.084   </td><td>0.432   </td><td>0.18    </td></tr>\n",
       "<tr><td><b>2</b>    </td><td>0.19    </td><td>0.93    </td><td>0.962   </td><td>0.712   </td><td>0.373   </td><td>0.408   </td><td>0.316   </td><td>0.647   </td><td>0.444   </td><td>0.345   </td></tr>\n",
       "<tr><td><b>3</b>    </td><td>0.181   </td><td>0.428   </td><td>0.637   </td><td>0.18    </td><td>0.199   </td><td>0.539   </td><td>0.91    </td><td>0.947   </td><td>0.362   </td><td>0.976   </td></tr>\n",
       "<tr><td><b>4</b>    </td><td>0.0042  </td><td>0.678   </td><td>0.192   </td><td>0.772   </td><td>0.119   </td><td>0.665   </td><td>0.98    </td><td>0.596   </td><td>0.215   </td><td>0.173   </td></tr>\n",
       "<tr><td><b>5</b>    </td><td>0.459   </td><td>0.301   </td><td>0.393   </td><td>0.427   </td><td>0.325   </td><td>0.847   </td><td>0.00652 </td><td>0.537   </td><td>0.651   </td><td>0.278   </td></tr>\n",
       "<tr><td>...         </td><td>...     </td><td>...     </td><td>...     </td><td>...     </td><td>...     </td><td>...     </td><td>...     </td><td>...     </td><td>...     </td><td>...     </td></tr>\n",
       "<tr><td><b>14</b>   </td><td>0.136   </td><td>0.754   </td><td>0.0612  </td><td>0.13    </td><td>0.373   </td><td>0.223   </td><td>0.769   </td><td>0.546   </td><td>0.373   </td><td>0.231   </td></tr>\n",
       "<tr><td><b>15</b>   </td><td>0.696   </td><td>0.201   </td><td>0.632   </td><td>0.437   </td><td>0.0318  </td><td>0.967   </td><td>0.858   </td><td>0.552   </td><td>0.11    </td><td>0.445   </td></tr>\n",
       "<tr><td><b>16</b>   </td><td>0.614   </td><td>0.528   </td><td>0.0349  </td><td>0.813   </td><td>0.0385  </td><td>0.489   </td><td>0.655   </td><td>0.516   </td><td>0.657   </td><td>0.242   </td></tr>\n",
       "<tr><td><b>17</b>   </td><td>0.0638  </td><td>0.594   </td><td>0.944   </td><td>0.339   </td><td>0.388   </td><td>0.343   </td><td>0.687   </td><td>0.2     </td><td>0.00351 </td><td>0.593   </td></tr>\n",
       "<tr><td><b>18</b>   </td><td>0.764   </td><td>0.836   </td><td>0.128   </td><td>0.721   </td><td>0.534   </td><td>0.328   </td><td>0.957   </td><td>0.908   </td><td>0.468   </td><td>0.217   </td></tr>\n",
       "<tr><td><b>19</b>   </td><td>0.425   </td><td>0.587   </td><td>0.786   </td><td>0.424   </td><td>0.442   </td><td>0.377   </td><td>0.0888  </td><td>0.934   </td><td>0.539   </td><td>0.706   </td></tr>\n",
       "</tbody>\n",
       "</table>"
      ],
      "text/plain": [
       "y \\ x  0       1      2       3      4       5      6        7      8        9\n",
       "0      0.0494  0.101  0.27    0.776  0.089   0.306  0.545    0.362  0.394    0.593\n",
       "1      0.578   0.989  0.281   0.117  0.147   0.792  0.7      0.084  0.432    0.18\n",
       "2      0.19    0.93   0.962   0.712  0.373   0.408  0.316    0.647  0.444    0.345\n",
       "3      0.181   0.428  0.637   0.18   0.199   0.539  0.91     0.947  0.362    0.976\n",
       "4      0.0042  0.678  0.192   0.772  0.119   0.665  0.98     0.596  0.215    0.173\n",
       "5      0.459   0.301  0.393   0.427  0.325   0.847  0.00652  0.537  0.651    0.278\n",
       "...    ...     ...    ...     ...    ...     ...    ...      ...    ...      ...\n",
       "14     0.136   0.754  0.0612  0.13   0.373   0.223  0.769    0.546  0.373    0.231\n",
       "15     0.696   0.201  0.632   0.437  0.0318  0.967  0.858    0.552  0.11     0.445\n",
       "16     0.614   0.528  0.0349  0.813  0.0385  0.489  0.655    0.516  0.657    0.242\n",
       "17     0.0638  0.594  0.944   0.339  0.388   0.343  0.687    0.2    0.00351  0.593\n",
       "18     0.764   0.836  0.128   0.721  0.534   0.328  0.957    0.908  0.468    0.217\n",
       "19     0.425   0.587  0.786   0.424  0.442   0.377  0.0888   0.934  0.539    0.706"
      ]
     },
     "execution_count": 60,
     "metadata": {},
     "output_type": "execute_result"
    }
   ],
   "source": [
    "b"
   ]
  },
  {
   "cell_type": "code",
   "execution_count": 61,
   "metadata": {},
   "outputs": [],
   "source": [
    "f = np.sum(np.cos(b) -1.2 / b, axis='y')"
   ]
  },
  {
   "cell_type": "code",
   "execution_count": 62,
   "metadata": {},
   "outputs": [
    {
     "data": {
      "text/html": [
       "<table>\n",
       "<tbody>\n",
       "<tr><td><b>x</b></td><td><b>0</b></td><td><b>1</b></td><td><b>2</b></td><td><b>3</b></td><td><b>4</b></td><td><b>5</b></td><td><b>6</b></td><td><b>7</b></td><td><b>8</b></td><td><b>9</b></td></tr>\n",
       "<tr><td><b></b> </td><td>-368    </td><td>-47.2   </td><td>-112    </td><td>-66.9   </td><td>-190    </td><td>-37     </td><td>-229    </td><td>-143    </td><td>-392    </td><td>-48.8   </td></tr>\n",
       "</tbody>\n",
       "</table>"
      ],
      "text/plain": [
       "x     0    1       2    3       4    5     6     7     8    9\n",
       "   -368  -47.2  -112  -66.9  -190  -37  -229  -143  -392  -48.8"
      ]
     },
     "execution_count": 62,
     "metadata": {},
     "output_type": "execute_result"
    }
   ],
   "source": [
    "f"
   ]
  },
  {
   "cell_type": "code",
   "execution_count": 63,
   "metadata": {},
   "outputs": [],
   "source": [
    "f[f>-50] *= 33"
   ]
  },
  {
   "cell_type": "code",
   "execution_count": 64,
   "metadata": {},
   "outputs": [],
   "source": [
    "f[0:2] *= 0"
   ]
  },
  {
   "cell_type": "code",
   "execution_count": 65,
   "metadata": {},
   "outputs": [
    {
     "data": {
      "text/html": [
       "<table>\n",
       "<tbody>\n",
       "<tr><td><b>x</b></td><td><b>0</b></td><td><b>1</b></td><td><b>2</b></td><td><b>3</b></td><td><b>4</b></td><td><b>5</b> </td><td><b>6</b></td><td><b>7</b></td><td><b>8</b></td><td><b>9</b> </td></tr>\n",
       "<tr><td><b></b> </td><td>-0      </td><td>-0      </td><td>-112    </td><td>-66.9   </td><td>-190    </td><td>-1.22e+03</td><td>-229    </td><td>-143    </td><td>-392    </td><td>-1.61e+03</td></tr>\n",
       "</tbody>\n",
       "</table>"
      ],
      "text/plain": [
       "x   0   1     2    3       4      5     6     7     8      9\n",
       "   -0  -0  -112  -66.9  -190  -1220  -229  -143  -392  -1610"
      ]
     },
     "execution_count": 65,
     "metadata": {},
     "output_type": "execute_result"
    }
   ],
   "source": [
    "f"
   ]
  },
  {
   "cell_type": "code",
   "execution_count": 66,
   "metadata": {},
   "outputs": [],
   "source": [
    "a = pn.GridArray(np.arange(10), 'x')"
   ]
  },
  {
   "cell_type": "code",
   "execution_count": 67,
   "metadata": {},
   "outputs": [],
   "source": [
    "ar = np.arange(10)"
   ]
  },
  {
   "cell_type": "code",
   "execution_count": 68,
   "metadata": {},
   "outputs": [],
   "source": [
    "a[[3,5]] = 5"
   ]
  },
  {
   "cell_type": "code",
   "execution_count": 69,
   "metadata": {},
   "outputs": [
    {
     "data": {
      "text/plain": [
       "array([0, 1, 2, 5, 4, 5, 6, 7, 8, 9])"
      ]
     },
     "execution_count": 69,
     "metadata": {},
     "output_type": "execute_result"
    }
   ],
   "source": [
    "a.data[:]"
   ]
  },
  {
   "cell_type": "code",
   "execution_count": 70,
   "metadata": {},
   "outputs": [],
   "source": [
    "f[3] *= 4"
   ]
  },
  {
   "cell_type": "code",
   "execution_count": 71,
   "metadata": {},
   "outputs": [],
   "source": [
    "f[3:5] = 55"
   ]
  },
  {
   "cell_type": "code",
   "execution_count": 72,
   "metadata": {},
   "outputs": [
    {
     "data": {
      "text/html": [
       "<table>\n",
       "<tbody>\n",
       "<tr><td><b>x</b></td><td><b>0</b></td><td><b>1</b></td><td><b>2</b></td><td><b>3</b></td><td><b>4</b></td><td><b>5</b> </td><td><b>6</b></td><td><b>7</b></td><td><b>8</b></td><td><b>9</b> </td></tr>\n",
       "<tr><td><b></b> </td><td>-0      </td><td>-0      </td><td>-112    </td><td>55      </td><td>55      </td><td>-1.22e+03</td><td>-229    </td><td>-143    </td><td>-392    </td><td>-1.61e+03</td></tr>\n",
       "</tbody>\n",
       "</table>"
      ],
      "text/plain": [
       "x   0   1     2   3   4      5     6     7     8      9\n",
       "   -0  -0  -112  55  55  -1220  -229  -143  -392  -1610"
      ]
     },
     "execution_count": 72,
     "metadata": {},
     "output_type": "execute_result"
    }
   ],
   "source": [
    "f"
   ]
  },
  {
   "cell_type": "code",
   "execution_count": 73,
   "metadata": {},
   "outputs": [
    {
     "data": {
      "text/plain": [
       "[<matplotlib.lines.Line2D at 0x7f17cd788ba8>]"
      ]
     },
     "execution_count": 73,
     "metadata": {},
     "output_type": "execute_result"
    },
    {
     "data": {
      "image/png": "[encoded data removed]",
      "text/plain": [
       "<Figure size 432x288 with 1 Axes>"
      ]
     },
     "metadata": {
      "needs_background": "light"
     },
     "output_type": "display_data"
    }
   ],
   "source": [
    "f.plot()"
   ]
  },
  {
   "cell_type": "code",
   "execution_count": 74,
   "metadata": {},
   "outputs": [
    {
     "data": {
      "text/html": [
       "<table>\n",
       "<tbody>\n",
       "<tr><td><b>x</b></td><td><b>0</b></td><td><b>1</b></td><td><b>2</b></td><td><b>3</b></td><td><b>4</b></td><td><b>5</b></td><td><b>6</b></td><td><b>7</b></td><td><b>8</b></td><td><b>9</b></td></tr>\n",
       "<tr><td><b></b> </td><td>-0      </td><td>-0      </td><td>-112    </td><td>55      </td><td>55      </td><td>--      </td><td>-229    </td><td>-143    </td><td>-392    </td><td>--      </td></tr>\n",
       "</tbody>\n",
       "</table>"
      ],
      "text/plain": [
       "x   0   1     2   3   4  5      6     7     8  9\n",
       "   -0  -0  -112  55  55  --  -229  -143  -392  --"
      ]
     },
     "execution_count": 74,
     "metadata": {},
     "output_type": "execute_result"
    }
   ],
   "source": [
    "f[f>-500]"
   ]
  },
  {
   "cell_type": "code",
   "execution_count": 75,
   "metadata": {},
   "outputs": [
    {
     "data": {
      "text/plain": [
       "array([  -0.        ,   -0.        , -112.06482273,  -57.06482273,\n",
       "         -2.06482273,   -2.06482273, -231.13430941, -374.11415848,\n",
       "       -766.41001091, -766.41001091])"
      ]
     },
     "execution_count": 75,
     "metadata": {},
     "output_type": "execute_result"
    }
   ],
   "source": [
    "np.cumsum(f, axis='x')"
   ]
  },
  {
   "cell_type": "code",
   "execution_count": 76,
   "metadata": {},
   "outputs": [
    {
     "data": {
      "text/html": [
       "<table>\n",
       "<tbody>\n",
       "<tr><td><b>x</b></td><td><b>0</b></td><td><b>1</b></td><td><b>2</b></td><td><b>3</b></td><td><b>4</b></td><td><b>5</b></td><td><b>6</b></td><td><b>7</b></td><td><b>8</b></td><td><b>9</b></td></tr>\n",
       "<tr><td><b></b> </td><td>-0      </td><td>-0      </td><td>-112    </td><td>55      </td><td>55      </td><td>--      </td><td>-229    </td><td>-143    </td><td>-392    </td><td>--      </td></tr>\n",
       "</tbody>\n",
       "</table>"
      ],
      "text/plain": [
       "x   0   1     2   3   4  5      6     7     8  9\n",
       "   -0  -0  -112  55  55  --  -229  -143  -392  --"
      ]
     },
     "execution_count": 76,
     "metadata": {},
     "output_type": "execute_result"
    }
   ],
   "source": [
    "f"
   ]
  },
  {
   "cell_type": "code",
   "execution_count": 77,
   "metadata": {},
   "outputs": [],
   "source": [
    "#a = unumpy.uarray(np.arange(10), np.ones(10))"
   ]
  },
  {
   "cell_type": "code",
   "execution_count": 78,
   "metadata": {},
   "outputs": [],
   "source": [
    "a = np.arange(10)"
   ]
  },
  {
   "cell_type": "code",
   "execution_count": 79,
   "metadata": {},
   "outputs": [],
   "source": [
    "g = pn.Grid(x=np.arange(10))"
   ]
  },
  {
   "cell_type": "code",
   "execution_count": 80,
   "metadata": {},
   "outputs": [],
   "source": [
    "u = pn.GridArray(a, grid=g)"
   ]
  },
  {
   "cell_type": "code",
   "execution_count": 81,
   "metadata": {},
   "outputs": [
    {
     "data": {
      "text/plain": [
       "Grid(\n",
       "Axis(\"x\",\n",
       "points = array([0, 1, 2, 3, 4, 5, 6, 7, 8, 9]),\n",
       "edges = edges: None)\n",
       "nbins = 10),)"
      ]
     },
     "execution_count": 81,
     "metadata": {},
     "output_type": "execute_result"
    }
   ],
   "source": [
    "u.grid"
   ]
  },
  {
   "cell_type": "code",
   "execution_count": 82,
   "metadata": {},
   "outputs": [
    {
     "data": {
      "text/plain": [
       "9"
      ]
     },
     "execution_count": 82,
     "metadata": {},
     "output_type": "execute_result"
    }
   ],
   "source": [
    "np.max(u)"
   ]
  },
  {
   "cell_type": "code",
   "execution_count": 83,
   "metadata": {},
   "outputs": [
    {
     "data": {
      "text/plain": [
       "9218868437227405312"
      ]
     },
     "execution_count": 83,
     "metadata": {},
     "output_type": "execute_result"
    }
   ],
   "source": [
    "np.amax(np.empty_like(u))"
   ]
  },
  {
   "cell_type": "code",
   "execution_count": 84,
   "metadata": {},
   "outputs": [],
   "source": [
    "u[u>3] *= -1"
   ]
  },
  {
   "cell_type": "code",
   "execution_count": 85,
   "metadata": {},
   "outputs": [
    {
     "data": {
      "text/html": [
       "<table>\n",
       "<tbody>\n",
       "<tr><td><b>x</b></td><td><b>0</b></td><td><b>1</b></td><td><b>2</b></td><td><b>3</b></td><td><b>4</b></td><td><b>5</b></td><td><b>6</b></td><td><b>7</b></td><td><b>8</b></td><td><b>9</b></td></tr>\n",
       "<tr><td><b></b> </td><td>--      </td><td>1       </td><td>--      </td><td>3       </td><td>--      </td><td>-5      </td><td>--      </td><td>-7      </td><td>--      </td><td>-9      </td></tr>\n",
       "</tbody>\n",
       "</table>"
      ],
      "text/plain": [
       "x  0   1  2   3  4    5  6    7  8    9\n",
       "   --  1  --  3  --  -5  --  -7  --  -9"
      ]
     },
     "execution_count": 85,
     "metadata": {},
     "output_type": "execute_result"
    }
   ],
   "source": [
    "u[u%2==1]"
   ]
  },
  {
   "cell_type": "code",
   "execution_count": 86,
   "metadata": {},
   "outputs": [],
   "source": [
    "#unumpy.cos(u)"
   ]
  },
  {
   "cell_type": "code",
   "execution_count": 87,
   "metadata": {},
   "outputs": [
    {
     "data": {
      "text/html": [
       "<table>\n",
       "<tbody>\n",
       "<tr><td><b>x</b></td><td><b>0</b></td><td><b>1</b></td><td><b>2</b></td><td><b>3</b></td><td><b>4</b></td><td><b>5</b></td><td><b>6</b></td><td><b>7</b></td><td><b>8</b></td><td><b>9</b></td></tr>\n",
       "<tr><td><b></b> </td><td>1       </td><td>1       </td><td>1       </td><td>1       </td><td>1       </td><td>1       </td><td>1       </td><td>1       </td><td>1       </td><td>1       </td></tr>\n",
       "</tbody>\n",
       "</table>"
      ],
      "text/plain": [
       "x  0  1  2  3  4  5  6  7  8  9\n",
       "   1  1  1  1  1  1  1  1  1  1"
      ]
     },
     "execution_count": 87,
     "metadata": {},
     "output_type": "execute_result"
    }
   ],
   "source": [
    "np.ones_like(u)"
   ]
  },
  {
   "cell_type": "code",
   "execution_count": 88,
   "metadata": {},
   "outputs": [
    {
     "name": "stderr",
     "output_type": "stream",
     "text": [
      "/home/peller/pynocular/pynocular/core/gridarray.py:317: RuntimeWarning: invalid value encountered in sqrt\n",
      "  return np.ma.asarray(self).__array_ufunc__(ufunc, method, *inputs, **kwargs)\n"
     ]
    },
    {
     "data": {
      "text/html": [
       "<table>\n",
       "<tbody>\n",
       "<tr><td><b>x</b></td><td><b>0</b></td><td><b>1</b></td><td><b>2</b></td><td><b>3</b></td><td><b>4</b></td><td><b>5</b></td><td><b>6</b></td><td><b>7</b></td><td><b>8</b></td><td><b>9</b></td></tr>\n",
       "<tr><td><b></b> </td><td>0       </td><td>1       </td><td>1.41    </td><td>1.73    </td><td>--      </td><td>--      </td><td>--      </td><td>--      </td><td>--      </td><td>--      </td></tr>\n",
       "</tbody>\n",
       "</table>"
      ],
      "text/plain": [
       "x  0  1  2     3     4   5   6   7   8   9\n",
       "   0  1  1.41  1.73  --  --  --  --  --  --"
      ]
     },
     "execution_count": 88,
     "metadata": {},
     "output_type": "execute_result"
    }
   ],
   "source": [
    "np.sqrt(u)"
   ]
  },
  {
   "cell_type": "code",
   "execution_count": 89,
   "metadata": {},
   "outputs": [
    {
     "data": {
      "text/plain": [
       "array([10.        , 10.        ,  5.        ,  3.33333333, -2.5       ,\n",
       "       -2.        , -1.66666667, -1.42857143, -1.25      , -1.11111111])"
      ]
     },
     "execution_count": 89,
     "metadata": {},
     "output_type": "execute_result"
    }
   ],
   "source": [
    "np.asarray(10 / u)"
   ]
  },
  {
   "cell_type": "code",
   "execution_count": 90,
   "metadata": {},
   "outputs": [
    {
     "data": {
      "text/html": [
       "<table>\n",
       "<tbody>\n",
       "<tr><td><b>x</b></td><td><b>0</b></td><td><b>1</b></td><td><b>2</b></td><td><b>3</b></td><td><b>4</b></td><td><b>5</b></td><td><b>6</b></td><td><b>7</b></td><td><b>8</b></td><td><b>9</b></td></tr>\n",
       "<tr><td><b></b> </td><td>0       </td><td>1       </td><td>2       </td><td>3       </td><td>-4      </td><td>-5      </td><td>-6      </td><td>-7      </td><td>-8      </td><td>-9      </td></tr>\n",
       "</tbody>\n",
       "</table>"
      ],
      "text/plain": [
       "x  0  1  2  3   4   5   6   7   8   9\n",
       "   0  1  2  3  -4  -5  -6  -7  -8  -9"
      ]
     },
     "execution_count": 90,
     "metadata": {},
     "output_type": "execute_result"
    }
   ],
   "source": [
    "u"
   ]
  },
  {
   "cell_type": "code",
   "execution_count": 91,
   "metadata": {},
   "outputs": [
    {
     "data": {
      "text/html": [
       "<table>\n",
       "<tbody>\n",
       "<tr><td><b>x</b></td><td><b>0</b></td><td><b>1</b></td><td><b>2</b></td><td><b>3</b></td><td><b>4</b></td><td><b>5</b></td><td><b>6</b></td><td><b>7</b></td><td><b>8</b></td><td><b>9</b></td></tr>\n",
       "<tr><td><b></b> </td><td>--      </td><td>--      </td><td>--      </td><td>1.73    </td><td>--      </td><td>--      </td><td>--      </td><td>--      </td><td>--      </td><td>--      </td></tr>\n",
       "</tbody>\n",
       "</table>"
      ],
      "text/plain": [
       "x  0   1   2   3     4   5   6   7   8   9\n",
       "   --  --  --  1.73  --  --  --  --  --  --"
      ]
     },
     "execution_count": 91,
     "metadata": {},
     "output_type": "execute_result"
    }
   ],
   "source": [
    "np.sqrt(u[u>2])"
   ]
  },
  {
   "cell_type": "code",
   "execution_count": 92,
   "metadata": {},
   "outputs": [
    {
     "data": {
      "text/html": [
       "<table>\n",
       "<tbody>\n",
       "<tr><td><b>x</b></td><td><b>0</b></td><td><b>1</b></td><td><b>2</b></td></tr>\n",
       "<tr><td><b></b> </td><td>0       </td><td>1       </td><td>2       </td></tr>\n",
       "</tbody>\n",
       "</table>"
      ],
      "text/plain": [
       "x  0  1  2\n",
       "   0  1  2"
      ]
     },
     "execution_count": 92,
     "metadata": {},
     "output_type": "execute_result"
    }
   ],
   "source": [
    "u[0:3]"
   ]
  },
  {
   "cell_type": "code",
   "execution_count": 93,
   "metadata": {},
   "outputs": [],
   "source": [
    "g = pn.GridData(x=np.arange(20), y=np.arange(5))\n",
    "#g = pn.GridData(y=np.arange(5))"
   ]
  },
  {
   "cell_type": "code",
   "execution_count": 94,
   "metadata": {},
   "outputs": [],
   "source": [
    "g.grid['x'].edges = pn.Edges(points=g.grid['x'].points)"
   ]
  },
  {
   "cell_type": "code",
   "execution_count": 95,
   "metadata": {},
   "outputs": [],
   "source": [
    "e = pn.Edges(points=np.arange(11))"
   ]
  },
  {
   "cell_type": "code",
   "execution_count": 96,
   "metadata": {},
   "outputs": [
    {
     "data": {
      "text/plain": [
       "-0.5"
      ]
     },
     "execution_count": 96,
     "metadata": {},
     "output_type": "execute_result"
    }
   ],
   "source": [
    "e[0,0]"
   ]
  },
  {
   "cell_type": "code",
   "execution_count": 97,
   "metadata": {},
   "outputs": [],
   "source": [
    "a = pn.GridArray(np.random.rand(g.grid.size).reshape(g.shape), grid=g.grid)"
   ]
  },
  {
   "cell_type": "code",
   "execution_count": 98,
   "metadata": {},
   "outputs": [
    {
     "data": {
      "text/plain": [
       "[<matplotlib.lines.Line2D at 0x7f17cd06c940>]"
      ]
     },
     "execution_count": 98,
     "metadata": {},
     "output_type": "execute_result"
    },
    {
     "data": {
      "image/png": "[encoded data removed]",
      "text/plain": [
       "<Figure size 432x288 with 1 Axes>"
      ]
     },
     "metadata": {
      "needs_background": "light"
     },
     "output_type": "display_data"
    }
   ],
   "source": [
    "np.max(np.sin(a), axis='x').plot()"
   ]
  },
  {
   "cell_type": "code",
   "execution_count": 99,
   "metadata": {},
   "outputs": [
    {
     "data": {
      "text/plain": [
       "[<matplotlib.lines.Line2D at 0x7f17cd290518>]"
      ]
     },
     "execution_count": 99,
     "metadata": {},
     "output_type": "execute_result"
    },
    {
     "data": {
      "image/png": "[encoded data removed]",
      "text/plain": [
       "<Figure size 432x288 with 1 Axes>"
      ]
     },
     "metadata": {
      "needs_background": "light"
     },
     "output_type": "display_data"
    }
   ],
   "source": [
    "a[a>0.2][:,0].plot()"
   ]
  },
  {
   "cell_type": "code",
   "execution_count": 100,
   "metadata": {},
   "outputs": [
    {
     "data": {
      "text/plain": [
       "[<matplotlib.lines.Line2D at 0x7f17cdd716d8>]"
      ]
     },
     "execution_count": 100,
     "metadata": {},
     "output_type": "execute_result"
    },
    {
     "data": {
      "image/png": "[encoded data removed]",
      "text/plain": [
       "<Figure size 432x288 with 1 Axes>"
      ]
     },
     "metadata": {
      "needs_background": "light"
     },
     "output_type": "display_data"
    }
   ],
   "source": [
    "a[1].plot()"
   ]
  },
  {
   "cell_type": "code",
   "execution_count": 101,
   "metadata": {},
   "outputs": [],
   "source": [
    "gd = pn.GridData(a=a)"
   ]
  },
  {
   "cell_type": "code",
   "execution_count": 102,
   "metadata": {},
   "outputs": [
    {
     "data": {
      "text/plain": [
       "{'a': masked_array(\n",
       "   data=[[0.79135096, 0.07675364, 0.42355848, 0.43374142, 0.11609713],\n",
       "         [0.49907694, 0.84750869, 0.25815068, 0.68843127, 0.66774879],\n",
       "         [0.84572572, 0.58608308, 0.05470485, 0.69978199, 0.566062  ],\n",
       "         [0.58757263, 0.3749057 , 0.96151212, 0.52145751, 0.02334573],\n",
       "         [0.59579896, 0.76534063, 0.10533958, 0.4109584 , 0.32073659],\n",
       "         [0.7793814 , 0.75971648, 0.88672328, 0.5412957 , 0.35479447],\n",
       "         [0.88234805, 0.64568699, 0.43350107, 0.77288451, 0.49692703],\n",
       "         [0.06051625, 0.67454496, 0.04416081, 0.31834696, 0.71111455],\n",
       "         [0.41724693, 0.31843059, 0.11267874, 0.62132368, 0.04519395],\n",
       "         [0.01693463, 0.11674011, 0.6069072 , 0.28680207, 0.97739873],\n",
       "         [0.85450548, 0.29553036, 0.79763297, 0.55067511, 0.70891824],\n",
       "         [0.02173451, 0.60694849, 0.0491529 , 0.46670689, 0.07679855],\n",
       "         [0.75802339, 0.23751404, 0.60351363, 0.48294653, 0.95940904],\n",
       "         [0.9201937 , 0.39306688, 0.68626063, 0.31470336, 0.00988434],\n",
       "         [0.30924825, 0.94828557, 0.53075123, 0.01333648, 0.60340035],\n",
       "         [0.07779903, 0.41337855, 0.13882822, 0.32865603, 0.7243342 ],\n",
       "         [0.68019165, 0.72193684, 0.83821514, 0.71998744, 0.66273741],\n",
       "         [0.37526797, 0.87526601, 0.43773219, 0.7540627 , 0.68986489],\n",
       "         [0.83536033, 0.67998941, 0.03980382, 0.19640057, 0.73408163],\n",
       "         [0.6960042 , 0.16423197, 0.72907277, 0.69702686, 0.3754801 ]],\n",
       "   mask=False,\n",
       "   fill_value=1e+20)}"
      ]
     },
     "execution_count": 102,
     "metadata": {},
     "output_type": "execute_result"
    }
   ],
   "source": [
    "gd.data"
   ]
  },
  {
   "cell_type": "code",
   "execution_count": 103,
   "metadata": {},
   "outputs": [
    {
     "data": {
      "text/html": [
       "<table>\n",
       "<tbody>\n",
       "<tr><td><b>y \\ x</b></td><td><b>[-0.5 | 0 | 0.5]</b></td><td><b>[0.5 | 1 | 1.5]</b></td><td><b>[1.5 | 2 | 2.5]</b></td><td><b>[2.5 | 3 | 3.5]</b></td><td><b>[3.5 | 4 | 4.5]</b></td><td><b>[4.5 | 5 | 5.5]</b></td><td>...</td><td><b>[13.5 | 14 | 14.5]</b></td><td><b>[14.5 | 15 | 15.5]</b></td><td><b>[15.5 | 16 | 16.5]</b></td><td><b>[16.5 | 17 | 17.5]</b></td><td><b>[17.5 | 18 | 18.5]</b></td><td><b>[18.5 | 19 | 19.5]</b></td></tr>\n",
       "<tr><td><b>0</b>    </td><td>0.791                  </td><td>0.499                 </td><td>0.846                 </td><td>0.588                 </td><td>0.596                 </td><td>0.779                 </td><td>...</td><td>0.309                    </td><td>0.0778                   </td><td>0.68                     </td><td>0.375                    </td><td>0.835                    </td><td>0.696                    </td></tr>\n",
       "<tr><td><b>1</b>    </td><td>0.0768                 </td><td>0.848                 </td><td>0.586                 </td><td>0.375                 </td><td>0.765                 </td><td>0.76                  </td><td>...</td><td>0.948                    </td><td>0.413                    </td><td>0.722                    </td><td>0.875                    </td><td>0.68                     </td><td>0.164                    </td></tr>\n",
       "<tr><td><b>2</b>    </td><td>0.424                  </td><td>0.258                 </td><td>0.0547                </td><td>0.962                 </td><td>0.105                 </td><td>0.887                 </td><td>...</td><td>0.531                    </td><td>0.139                    </td><td>0.838                    </td><td>0.438                    </td><td>0.0398                   </td><td>0.729                    </td></tr>\n",
       "<tr><td><b>3</b>    </td><td>0.434                  </td><td>0.688                 </td><td>0.7                   </td><td>0.521                 </td><td>0.411                 </td><td>0.541                 </td><td>...</td><td>0.0133                   </td><td>0.329                    </td><td>0.72                     </td><td>0.754                    </td><td>0.196                    </td><td>0.697                    </td></tr>\n",
       "<tr><td><b>4</b>    </td><td>0.116                  </td><td>0.668                 </td><td>0.566                 </td><td>0.0233                </td><td>0.321                 </td><td>0.355                 </td><td>...</td><td>0.603                    </td><td>0.724                    </td><td>0.663                    </td><td>0.69                     </td><td>0.734                    </td><td>0.375                    </td></tr>\n",
       "</tbody>\n",
       "</table>"
      ],
      "text/plain": [
       "y \\ x  [-0.5 | 0 | 0.5]  [0.5 | 1 | 1.5]  [1.5 | 2 | 2.5]  [2.5 | 3 | 3.5]  [3.5 | 4 | 4.5]  [4.5 | 5 | 5.5]  ...  [13.5 | 14 | 14.5]  [14.5 | 15 | 15.5]  [15.5 | 16 | 16.5]  [16.5 | 17 | 17.5]  [17.5 | 18 | 18.5]  [18.5 | 19 | 19.5]\n",
       "0      0.791             0.499            0.846            0.588            0.596            0.779            ...  0.309               0.0778              0.68                0.375               0.835               0.696\n",
       "1      0.0768            0.848            0.586            0.375            0.765            0.76             ...  0.948               0.413               0.722               0.875               0.68                0.164\n",
       "2      0.424             0.258            0.0547           0.962            0.105            0.887            ...  0.531               0.139               0.838               0.438               0.0398              0.729\n",
       "3      0.434             0.688            0.7              0.521            0.411            0.541            ...  0.0133              0.329               0.72                0.754               0.196               0.697\n",
       "4      0.116             0.668            0.566            0.0233           0.321            0.355            ...  0.603               0.724               0.663               0.69                0.734               0.375"
      ]
     },
     "execution_count": 103,
     "metadata": {},
     "output_type": "execute_result"
    }
   ],
   "source": [
    "gd['a']"
   ]
  },
  {
   "cell_type": "code",
   "execution_count": 104,
   "metadata": {},
   "outputs": [
    {
     "data": {
      "text/plain": [
       "[<matplotlib.lines.Line2D at 0x7f17cd8fdf60>]"
      ]
     },
     "execution_count": 104,
     "metadata": {},
     "output_type": "execute_result"
    },
    {
     "data": {
      "image/png": "[encoded data removed]",
      "text/plain": [
       "<Figure size 432x288 with 1 Axes>"
      ]
     },
     "metadata": {
      "needs_background": "light"
     },
     "output_type": "display_data"
    }
   ],
   "source": [
    "a[a>0.2][2].plot()"
   ]
  },
  {
   "cell_type": "code",
   "execution_count": 105,
   "metadata": {},
   "outputs": [
    {
     "data": {
      "text/plain": [
       "[<matplotlib.lines.Line2D at 0x7f17cdb98c50>]"
      ]
     },
     "execution_count": 105,
     "metadata": {},
     "output_type": "execute_result"
    },
    {
     "data": {
      "image/png": "[encoded data removed]",
      "text/plain": [
       "<Figure size 432x288 with 1 Axes>"
      ]
     },
     "metadata": {
      "needs_background": "light"
     },
     "output_type": "display_data"
    }
   ],
   "source": [
    "np.ma.masked_where(a>0.5, a)[:,0].plot()"
   ]
  },
  {
   "cell_type": "code",
   "execution_count": 106,
   "metadata": {},
   "outputs": [
    {
     "data": {
      "text/html": [
       "<table>\n",
       "<tbody>\n",
       "<tr><td><b>y \\ x</b></td><td><b>[-0.5 | 0 | 0.5]</b></td><td><b>[0.5 | 1 | 1.5]</b></td><td><b>[1.5 | 2 | 2.5]</b></td><td><b>[2.5 | 3 | 3.5]</b></td><td><b>[3.5 | 4 | 4.5]</b></td><td><b>[4.5 | 5 | 5.5]</b></td><td>...</td><td><b>[13.5 | 14 | 14.5]</b></td><td><b>[14.5 | 15 | 15.5]</b></td><td><b>[15.5 | 16 | 16.5]</b></td><td><b>[16.5 | 17 | 17.5]</b></td><td><b>[17.5 | 18 | 18.5]</b></td><td><b>[18.5 | 19 | 19.5]</b></td></tr>\n",
       "<tr><td><b>0</b>    </td><td>0                      </td><td>0                     </td><td>0                     </td><td>0                     </td><td>0                     </td><td>0                     </td><td>...</td><td>0                        </td><td>0                        </td><td>0                        </td><td>0                        </td><td>0                        </td><td>0                        </td></tr>\n",
       "<tr><td><b>1</b>    </td><td>0                      </td><td>0                     </td><td>0                     </td><td>0                     </td><td>0                     </td><td>0                     </td><td>...</td><td>0                        </td><td>0                        </td><td>0                        </td><td>0                        </td><td>0                        </td><td>0                        </td></tr>\n",
       "<tr><td><b>2</b>    </td><td>0                      </td><td>0                     </td><td>0                     </td><td>0                     </td><td>0                     </td><td>0                     </td><td>...</td><td>0                        </td><td>0                        </td><td>0                        </td><td>0                        </td><td>0                        </td><td>0                        </td></tr>\n",
       "<tr><td><b>3</b>    </td><td>0                      </td><td>0                     </td><td>0                     </td><td>0                     </td><td>0                     </td><td>0                     </td><td>...</td><td>0                        </td><td>0                        </td><td>0                        </td><td>0                        </td><td>0                        </td><td>0                        </td></tr>\n",
       "<tr><td><b>4</b>    </td><td>0                      </td><td>0                     </td><td>0                     </td><td>0                     </td><td>0                     </td><td>0                     </td><td>...</td><td>0                        </td><td>0                        </td><td>0                        </td><td>0                        </td><td>0                        </td><td>0                        </td></tr>\n",
       "</tbody>\n",
       "</table>"
      ],
      "text/plain": [
       "y \\ x  [-0.5 | 0 | 0.5]  [0.5 | 1 | 1.5]  [1.5 | 2 | 2.5]  [2.5 | 3 | 3.5]  [3.5 | 4 | 4.5]  [4.5 | 5 | 5.5]  ...  [13.5 | 14 | 14.5]  [14.5 | 15 | 15.5]  [15.5 | 16 | 16.5]  [16.5 | 17 | 17.5]  [17.5 | 18 | 18.5]  [18.5 | 19 | 19.5]\n",
       "0      0                 0                0                0                0                0                ...  0                   0                   0                   0                   0                   0\n",
       "1      0                 0                0                0                0                0                ...  0                   0                   0                   0                   0                   0\n",
       "2      0                 0                0                0                0                0                ...  0                   0                   0                   0                   0                   0\n",
       "3      0                 0                0                0                0                0                ...  0                   0                   0                   0                   0                   0\n",
       "4      0                 0                0                0                0                0                ...  0                   0                   0                   0                   0                   0"
      ]
     },
     "execution_count": 106,
     "metadata": {},
     "output_type": "execute_result"
    }
   ],
   "source": [
    "a.astype(np.int)"
   ]
  },
  {
   "cell_type": "code",
   "execution_count": 107,
   "metadata": {},
   "outputs": [
    {
     "data": {
      "text/html": [
       "<table>\n",
       "<tbody>\n",
       "<tr><td><b>y \\ x</b></td><td><b>[-0.5 | 0 | 0.5]</b></td><td><b>[0.5 | 1 | 1.5]</b></td><td><b>[1.5 | 2 | 2.5]</b></td><td><b>[2.5 | 3 | 3.5]</b></td><td><b>[3.5 | 4 | 4.5]</b></td><td><b>[4.5 | 5 | 5.5]</b></td><td>...</td><td><b>[13.5 | 14 | 14.5]</b></td><td><b>[14.5 | 15 | 15.5]</b></td><td><b>[15.5 | 16 | 16.5]</b></td><td><b>[16.5 | 17 | 17.5]</b></td><td><b>[17.5 | 18 | 18.5]</b></td><td><b>[18.5 | 19 | 19.5]</b></td></tr>\n",
       "<tr><td><b>0</b>    </td><td>1                      </td><td>1                     </td><td>1                     </td><td>1                     </td><td>1                     </td><td>1                     </td><td>...</td><td>1                        </td><td>1                        </td><td>1                        </td><td>1                        </td><td>1                        </td><td>1                        </td></tr>\n",
       "<tr><td><b>1</b>    </td><td>1                      </td><td>1                     </td><td>1                     </td><td>1                     </td><td>1                     </td><td>1                     </td><td>...</td><td>1                        </td><td>1                        </td><td>1                        </td><td>1                        </td><td>1                        </td><td>1                        </td></tr>\n",
       "<tr><td><b>2</b>    </td><td>1                      </td><td>1                     </td><td>1                     </td><td>1                     </td><td>1                     </td><td>1                     </td><td>...</td><td>1                        </td><td>1                        </td><td>1                        </td><td>1                        </td><td>1                        </td><td>1                        </td></tr>\n",
       "<tr><td><b>3</b>    </td><td>1                      </td><td>1                     </td><td>1                     </td><td>1                     </td><td>1                     </td><td>1                     </td><td>...</td><td>1                        </td><td>1                        </td><td>1                        </td><td>1                        </td><td>1                        </td><td>1                        </td></tr>\n",
       "<tr><td><b>4</b>    </td><td>1                      </td><td>1                     </td><td>1                     </td><td>1                     </td><td>1                     </td><td>1                     </td><td>...</td><td>1                        </td><td>1                        </td><td>1                        </td><td>1                        </td><td>1                        </td><td>1                        </td></tr>\n",
       "</tbody>\n",
       "</table>"
      ],
      "text/plain": [
       "y \\ x  [-0.5 | 0 | 0.5]  [0.5 | 1 | 1.5]  [1.5 | 2 | 2.5]  [2.5 | 3 | 3.5]  [3.5 | 4 | 4.5]  [4.5 | 5 | 5.5]  ...  [13.5 | 14 | 14.5]  [14.5 | 15 | 15.5]  [15.5 | 16 | 16.5]  [16.5 | 17 | 17.5]  [17.5 | 18 | 18.5]  [18.5 | 19 | 19.5]\n",
       "0      1                 1                1                1                1                1                ...  1                   1                   1                   1                   1                   1\n",
       "1      1                 1                1                1                1                1                ...  1                   1                   1                   1                   1                   1\n",
       "2      1                 1                1                1                1                1                ...  1                   1                   1                   1                   1                   1\n",
       "3      1                 1                1                1                1                1                ...  1                   1                   1                   1                   1                   1\n",
       "4      1                 1                1                1                1                1                ...  1                   1                   1                   1                   1                   1"
      ]
     },
     "execution_count": 107,
     "metadata": {},
     "output_type": "execute_result"
    }
   ],
   "source": [
    "np.ones_like(a)"
   ]
  },
  {
   "cell_type": "code",
   "execution_count": 108,
   "metadata": {},
   "outputs": [
    {
     "data": {
      "text/plain": [
       "True"
      ]
     },
     "execution_count": 108,
     "metadata": {},
     "output_type": "execute_result"
    }
   ],
   "source": [
    "np.all(np.abs(-a) == a)"
   ]
  },
  {
   "cell_type": "code",
   "execution_count": 109,
   "metadata": {},
   "outputs": [
    {
     "data": {
      "text/html": [
       "<table>\n",
       "<tbody>\n",
       "<tr><td><b>y \\ x</b></td><td><b>[-0.5 | 0 | 0.5]</b></td><td><b>[0.5 | 1 | 1.5]</b></td><td><b>[1.5 | 2 | 2.5]</b></td><td><b>[2.5 | 3 | 3.5]</b></td><td><b>[3.5 | 4 | 4.5]</b></td><td><b>[4.5 | 5 | 5.5]</b></td><td>...</td><td><b>[13.5 | 14 | 14.5]</b></td><td><b>[14.5 | 15 | 15.5]</b></td><td><b>[15.5 | 16 | 16.5]</b></td><td><b>[16.5 | 17 | 17.5]</b></td><td><b>[17.5 | 18 | 18.5]</b></td><td><b>[18.5 | 19 | 19.5]</b></td></tr>\n",
       "<tr><td><b>0</b>    </td><td>0.791                  </td><td>0.499                 </td><td>0.846                 </td><td>0.588                 </td><td>0.596                 </td><td>0.779                 </td><td>...</td><td>0.309                    </td><td>0.0778                   </td><td>0.68                     </td><td>0.375                    </td><td>0.835                    </td><td>0.696                    </td></tr>\n",
       "<tr><td><b>1</b>    </td><td>0.0768                 </td><td>0.848                 </td><td>0.586                 </td><td>0.375                 </td><td>0.765                 </td><td>0.76                  </td><td>...</td><td>0.948                    </td><td>0.413                    </td><td>0.722                    </td><td>0.875                    </td><td>0.68                     </td><td>0.164                    </td></tr>\n",
       "<tr><td><b>2</b>    </td><td>0.424                  </td><td>0.258                 </td><td>0.0547                </td><td>0.962                 </td><td>0.105                 </td><td>0.887                 </td><td>...</td><td>0.531                    </td><td>0.139                    </td><td>0.838                    </td><td>0.438                    </td><td>0.0398                   </td><td>0.729                    </td></tr>\n",
       "<tr><td><b>3</b>    </td><td>0.434                  </td><td>0.688                 </td><td>0.7                   </td><td>0.521                 </td><td>0.411                 </td><td>0.541                 </td><td>...</td><td>0.0133                   </td><td>0.329                    </td><td>0.72                     </td><td>0.754                    </td><td>0.196                    </td><td>0.697                    </td></tr>\n",
       "<tr><td><b>4</b>    </td><td>0.116                  </td><td>0.668                 </td><td>0.566                 </td><td>0.0233                </td><td>0.321                 </td><td>0.355                 </td><td>...</td><td>0.603                    </td><td>0.724                    </td><td>0.663                    </td><td>0.69                     </td><td>0.734                    </td><td>0.375                    </td></tr>\n",
       "</tbody>\n",
       "</table>"
      ],
      "text/plain": [
       "y \\ x  [-0.5 | 0 | 0.5]  [0.5 | 1 | 1.5]  [1.5 | 2 | 2.5]  [2.5 | 3 | 3.5]  [3.5 | 4 | 4.5]  [4.5 | 5 | 5.5]  ...  [13.5 | 14 | 14.5]  [14.5 | 15 | 15.5]  [15.5 | 16 | 16.5]  [16.5 | 17 | 17.5]  [17.5 | 18 | 18.5]  [18.5 | 19 | 19.5]\n",
       "0      0.791             0.499            0.846            0.588            0.596            0.779            ...  0.309               0.0778              0.68                0.375               0.835               0.696\n",
       "1      0.0768            0.848            0.586            0.375            0.765            0.76             ...  0.948               0.413               0.722               0.875               0.68                0.164\n",
       "2      0.424             0.258            0.0547           0.962            0.105            0.887            ...  0.531               0.139               0.838               0.438               0.0398              0.729\n",
       "3      0.434             0.688            0.7              0.521            0.411            0.541            ...  0.0133              0.329               0.72                0.754               0.196               0.697\n",
       "4      0.116             0.668            0.566            0.0233           0.321            0.355            ...  0.603               0.724               0.663               0.69                0.734               0.375"
      ]
     },
     "execution_count": 109,
     "metadata": {},
     "output_type": "execute_result"
    }
   ],
   "source": [
    "np.abs(-a)"
   ]
  },
  {
   "cell_type": "code",
   "execution_count": 110,
   "metadata": {},
   "outputs": [
    {
     "data": {
      "text/html": [
       "<table>\n",
       "<tbody>\n",
       "<tr><td><b>x</b></td><td><b>[-0.5 | 0 | 0.5]</b></td><td><b>[0.5 | 1 | 1.5]</b></td><td><b>[1.5 | 2 | 2.5]</b></td><td><b>[2.5 | 3 | 3.5]</b></td><td><b>[3.5 | 4 | 4.5]</b></td><td><b>[4.5 | 5 | 5.5]</b></td><td>...</td><td><b>[13.5 | 14 | 14.5]</b></td><td><b>[14.5 | 15 | 15.5]</b></td><td><b>[15.5 | 16 | 16.5]</b></td><td><b>[16.5 | 17 | 17.5]</b></td><td><b>[17.5 | 18 | 18.5]</b></td><td><b>[18.5 | 19 | 19.5]</b></td></tr>\n",
       "<tr><td><b></b> </td><td>1.84                   </td><td>2.96                  </td><td>2.75                  </td><td>2.47                  </td><td>2.2                   </td><td>3.32                  </td><td>...</td><td>2.41                     </td><td>1.68                     </td><td>3.62                     </td><td>3.13                     </td><td>2.49                     </td><td>2.66                     </td></tr>\n",
       "</tbody>\n",
       "</table>"
      ],
      "text/plain": [
       "x  [-0.5 | 0 | 0.5]  [0.5 | 1 | 1.5]  [1.5 | 2 | 2.5]  [2.5 | 3 | 3.5]  [3.5 | 4 | 4.5]  [4.5 | 5 | 5.5]  ...  [13.5 | 14 | 14.5]  [14.5 | 15 | 15.5]  [15.5 | 16 | 16.5]  [16.5 | 17 | 17.5]  [17.5 | 18 | 18.5]  [18.5 | 19 | 19.5]\n",
       "   1.84              2.96             2.75             2.47             2.2              3.32             ...  2.41                1.68                3.62                3.13                2.49                2.66"
      ]
     },
     "execution_count": 110,
     "metadata": {},
     "output_type": "execute_result"
    }
   ],
   "source": [
    "np.sum(a, axis='y')"
   ]
  },
  {
   "cell_type": "code",
   "execution_count": 174,
   "metadata": {},
   "outputs": [
    {
     "data": {
      "text/html": [
       "<table>\n",
       "<tbody>\n",
       "<tr><td><b>y \\ x</b></td><td><b>[-0.5 | 0 | 0.5]</b></td><td><b>[0.5 | 1 | 1.5]</b></td><td><b>[1.5 | 2 | 2.5]</b></td><td><b>[2.5 | 3 | 3.5]</b></td><td><b>[3.5 | 4 | 4.5]</b></td><td><b>[4.5 | 5 | 5.5]</b></td><td>...</td><td><b>[13.5 | 14 | 14.5]</b></td><td><b>[14.5 | 15 | 15.5]</b></td><td><b>[15.5 | 16 | 16.5]</b></td><td><b>[16.5 | 17 | 17.5]</b></td><td><b>[17.5 | 18 | 18.5]</b></td><td><b>[18.5 | 19 | 19.5]</b></td></tr>\n",
       "<tr><td><b>0</b>    </td><td>0.644                  </td><td>0.962                 </td><td>0.488                 </td><td>0.0336                </td><td>0.448                 </td><td>0.219                 </td><td>...</td><td>0.0345                   </td><td>0.785                    </td><td>0.302                    </td><td>0.207                    </td><td>0.872                    </td><td>0.0973                   </td></tr>\n",
       "<tr><td><b>1</b>    </td><td>0.692                  </td><td>0.933                 </td><td>0.169                 </td><td>0.994                 </td><td>0.0931                </td><td>0.85                  </td><td>...</td><td>0.122                    </td><td>0.252                    </td><td>0.808                    </td><td>0.915                    </td><td>0.376                    </td><td>0.149                    </td></tr>\n",
       "<tr><td><b>2</b>    </td><td>0.605                  </td><td>0.916                 </td><td>0.115                 </td><td>0.787                 </td><td>0.836                 </td><td>0.333                 </td><td>...</td><td>0.849                    </td><td>0.802                    </td><td>0.0165                   </td><td>0.691                    </td><td>0.0436                   </td><td>0.954                    </td></tr>\n",
       "<tr><td><b>3</b>    </td><td>0.224                  </td><td>0.234                 </td><td>0.502                 </td><td>0.191                 </td><td>0.934                 </td><td>0.402                 </td><td>...</td><td>0.808                    </td><td>0.673                    </td><td>0.135                    </td><td>0.156                    </td><td>0.674                    </td><td>0.868                    </td></tr>\n",
       "<tr><td><b>4</b>    </td><td>0.77                   </td><td>0.694                 </td><td>0.729                 </td><td>0.918                 </td><td>0.0419                </td><td>0.738                 </td><td>...</td><td>0.0429                   </td><td>0.0825                   </td><td>0.369                    </td><td>0.373                    </td><td>0.599                    </td><td>0.681                    </td></tr>\n",
       "</tbody>\n",
       "</table>"
      ],
      "text/plain": [
       "y \\ x  [-0.5 | 0 | 0.5]  [0.5 | 1 | 1.5]  [1.5 | 2 | 2.5]  [2.5 | 3 | 3.5]  [3.5 | 4 | 4.5]  [4.5 | 5 | 5.5]  ...  [13.5 | 14 | 14.5]  [14.5 | 15 | 15.5]  [15.5 | 16 | 16.5]  [16.5 | 17 | 17.5]  [17.5 | 18 | 18.5]  [18.5 | 19 | 19.5]\n",
       "0      0.644             0.962            0.488            0.0336           0.448            0.219            ...  0.0345              0.785               0.302               0.207               0.872               0.0973\n",
       "1      0.692             0.933            0.169            0.994            0.0931           0.85             ...  0.122               0.252               0.808               0.915               0.376               0.149\n",
       "2      0.605             0.916            0.115            0.787            0.836            0.333            ...  0.849               0.802               0.0165              0.691               0.0436              0.954\n",
       "3      0.224             0.234            0.502            0.191            0.934            0.402            ...  0.808               0.673               0.135               0.156               0.674               0.868\n",
       "4      0.77              0.694            0.729            0.918            0.0419           0.738            ...  0.0429              0.0825              0.369               0.373               0.599               0.681"
      ]
     },
     "execution_count": 174,
     "metadata": {},
     "output_type": "execute_result"
    }
   ],
   "source": [
    "a"
   ]
  },
  {
   "cell_type": "code",
   "execution_count": 207,
   "metadata": {},
   "outputs": [
    {
     "name": "stdout",
     "output_type": "stream",
     "text": [
      "[array([4]), array([1])]\n"
     ]
    },
    {
     "data": {
      "text/plain": [
       "array([21])"
      ]
     },
     "execution_count": 207,
     "metadata": {},
     "output_type": "execute_result"
    }
   ],
   "source": [
    "a.grid.compute_indices([[4],[1]])"
   ]
  },
  {
   "cell_type": "code",
   "execution_count": 224,
   "metadata": {},
   "outputs": [
    {
     "data": {
      "text/html": [
       "<table>\n",
       "<tbody>\n",
       "<tr><td><b>y \\ x</b></td><td><b>0</b></td><td><b>1</b></td></tr>\n",
       "<tr><td><b>0</b>    </td><td>0.644   </td><td>0.962   </td></tr>\n",
       "<tr><td><b>1</b>    </td><td>0.692   </td><td>0.933   </td></tr>\n",
       "</tbody>\n",
       "</table>"
      ],
      "text/plain": [
       "y \\ x  0      1\n",
       "0      0.644  0.962\n",
       "1      0.692  0.933"
      ]
     },
     "execution_count": 224,
     "metadata": {},
     "output_type": "execute_result"
    }
   ],
   "source": [
    "a.lookup(x=[0, 1], y=[0, 1])"
   ]
  },
  {
   "cell_type": "code",
   "execution_count": 196,
   "metadata": {},
   "outputs": [
    {
     "data": {
      "text/plain": [
       "20"
      ]
     },
     "execution_count": 196,
     "metadata": {},
     "output_type": "execute_result"
    }
   ],
   "source": [
    "len(a.grid.axes[0])"
   ]
  },
  {
   "cell_type": "code",
   "execution_count": 112,
   "metadata": {},
   "outputs": [
    {
     "data": {
      "text/html": [
       "<table>\n",
       "<tbody>\n",
       "<tr><td><b>y \\ x</b></td><td><b>[-0.5 | 0 | 0.5]</b></td><td><b>[0.5 | 1 | 1.5]</b></td><td><b>[1.5 | 2 | 2.5]</b></td><td><b>[2.5 | 3 | 3.5]</b></td><td><b>[3.5 | 4 | 4.5]</b></td><td><b>[4.5 | 5 | 5.5]</b></td><td>...</td><td><b>[13.5 | 14 | 14.5]</b></td><td><b>[14.5 | 15 | 15.5]</b></td><td><b>[15.5 | 16 | 16.5]</b></td><td><b>[16.5 | 17 | 17.5]</b></td><td><b>[17.5 | 18 | 18.5]</b></td><td><b>[18.5 | 19 | 19.5]</b></td></tr>\n",
       "<tr><td><b>0</b>    </td><td>0.344                  </td><td>0.217                 </td><td>0.367                 </td><td>0.255                 </td><td>0.259                 </td><td>0.338                 </td><td>...</td><td>0.134                    </td><td>0.0338                   </td><td>0.295                    </td><td>0.163                    </td><td>0.363                    </td><td>0.302                    </td></tr>\n",
       "<tr><td><b>1</b>    </td><td>0.0333                 </td><td>0.368                 </td><td>0.255                 </td><td>0.163                 </td><td>0.332                 </td><td>0.33                  </td><td>...</td><td>0.412                    </td><td>0.18                     </td><td>0.314                    </td><td>0.38                     </td><td>0.295                    </td><td>0.0713                   </td></tr>\n",
       "<tr><td><b>2</b>    </td><td>0.184                  </td><td>0.112                 </td><td>0.0238                </td><td>0.418                 </td><td>0.0457                </td><td>0.385                 </td><td>...</td><td>0.231                    </td><td>0.0603                   </td><td>0.364                    </td><td>0.19                     </td><td>0.0173                   </td><td>0.317                    </td></tr>\n",
       "<tr><td><b>3</b>    </td><td>0.188                  </td><td>0.299                 </td><td>0.304                 </td><td>0.226                 </td><td>0.178                 </td><td>0.235                 </td><td>...</td><td>0.00579                  </td><td>0.143                    </td><td>0.313                    </td><td>0.327                    </td><td>0.0853                   </td><td>0.303                    </td></tr>\n",
       "<tr><td><b>4</b>    </td><td>0.0504                 </td><td>0.29                  </td><td>0.246                 </td><td>0.0101                </td><td>0.139                 </td><td>0.154                 </td><td>...</td><td>0.262                    </td><td>0.315                    </td><td>0.288                    </td><td>0.3                      </td><td>0.319                    </td><td>0.163                    </td></tr>\n",
       "</tbody>\n",
       "</table>"
      ],
      "text/plain": [
       "y \\ x  [-0.5 | 0 | 0.5]  [0.5 | 1 | 1.5]  [1.5 | 2 | 2.5]  [2.5 | 3 | 3.5]  [3.5 | 4 | 4.5]  [4.5 | 5 | 5.5]  ...  [13.5 | 14 | 14.5]  [14.5 | 15 | 15.5]  [15.5 | 16 | 16.5]  [16.5 | 17 | 17.5]  [17.5 | 18 | 18.5]  [18.5 | 19 | 19.5]\n",
       "0      0.344             0.217            0.367            0.255            0.259            0.338            ...  0.134               0.0338              0.295               0.163               0.363               0.302\n",
       "1      0.0333            0.368            0.255            0.163            0.332            0.33             ...  0.412               0.18                0.314               0.38                0.295               0.0713\n",
       "2      0.184             0.112            0.0238           0.418            0.0457           0.385            ...  0.231               0.0603              0.364               0.19                0.0173              0.317\n",
       "3      0.188             0.299            0.304            0.226            0.178            0.235            ...  0.00579             0.143               0.313               0.327               0.0853              0.303\n",
       "4      0.0504            0.29             0.246            0.0101           0.139            0.154            ...  0.262               0.315               0.288               0.3                 0.319               0.163"
      ]
     },
     "execution_count": 112,
     "metadata": {},
     "output_type": "execute_result"
    }
   ],
   "source": [
    "np.log10(np.exp(np.fabs(a)))"
   ]
  },
  {
   "cell_type": "code",
   "execution_count": null,
   "metadata": {},
   "outputs": [],
   "source": []
  },
  {
   "cell_type": "code",
   "execution_count": 113,
   "metadata": {},
   "outputs": [
    {
     "data": {
      "text/html": [
       "<table>\n",
       "<tbody>\n",
       "<tr><td><b>x</b></td><td><b>[-0.5 | 0 | 0.5]</b>      </td><td><b>[0.5 | 1 | 1.5]</b>       </td><td><b>[1.5 | 2 | 2.5]</b>       </td><td><b>[2.5 | 3 | 3.5]</b>       </td><td><b>[3.5 | 4 | 4.5]</b>       </td><td><b>[4.5 | 5 | 5.5]</b>       </td><td>...</td><td><b>[13.5 | 14 | 14.5]</b>    </td><td><b>[14.5 | 15 | 15.5]</b>    </td><td><b>[15.5 | 16 | 16.5]</b>    </td><td><b>[16.5 | 17 | 17.5]</b>    </td><td><b>[17.5 | 18 | 18.5]</b>    </td><td><b>[18.5 | 19 | 19.5]</b>    </td></tr>\n",
       "<tr><td><b></b> </td><td>[0.791 0.868 ... 1.725 1.842]</td><td>[0.499 1.347 ... 2.293 2.961]</td><td>[0.846 1.432 ... 2.186 2.752]</td><td>[0.588 0.962 ... 2.445 2.469]</td><td>[0.596 1.361 ... 1.877 2.198]</td><td>[0.779 1.539 ... 2.967 3.322]</td><td>...</td><td>[0.309 1.258 ... 1.802 2.405]</td><td>[0.078 0.491 ... 0.959 1.683]</td><td>[0.68  1.402 ... 2.96  3.623]</td><td>[0.375 1.251 ... 2.442 3.132]</td><td>[0.835 1.515 ... 1.752 2.486]</td><td>[0.696 0.86  ... 2.286 2.662]</td></tr>\n",
       "</tbody>\n",
       "</table>"
      ],
      "text/plain": [
       "x  [-0.5 | 0 | 0.5]               [0.5 | 1 | 1.5]                [1.5 | 2 | 2.5]                [2.5 | 3 | 3.5]                [3.5 | 4 | 4.5]                [4.5 | 5 | 5.5]                ...  [13.5 | 14 | 14.5]             [14.5 | 15 | 15.5]             [15.5 | 16 | 16.5]             [16.5 | 17 | 17.5]             [17.5 | 18 | 18.5]             [18.5 | 19 | 19.5]\n",
       "   [0.791 0.868 ... 1.725 1.842]  [0.499 1.347 ... 2.293 2.961]  [0.846 1.432 ... 2.186 2.752]  [0.588 0.962 ... 2.445 2.469]  [0.596 1.361 ... 1.877 2.198]  [0.779 1.539 ... 2.967 3.322]  ...  [0.309 1.258 ... 1.802 2.405]  [0.078 0.491 ... 0.959 1.683]  [0.68  1.402 ... 2.96  3.623]  [0.375 1.251 ... 2.442 3.132]  [0.835 1.515 ... 1.752 2.486]  [0.696 0.86  ... 2.286 2.662]"
      ]
     },
     "execution_count": 113,
     "metadata": {},
     "output_type": "execute_result"
    }
   ],
   "source": [
    "np.cumsum(a, axis='y')"
   ]
  },
  {
   "cell_type": "code",
   "execution_count": 114,
   "metadata": {},
   "outputs": [
    {
     "data": {
      "text/html": [
       "<table>\n",
       "<tbody>\n",
       "<tr><td><b>x</b></td><td><b>[18.5 | 19 | 19.5]</b></td><td><b>[16.5 | 17 | 17.5]</b></td><td><b>[14.5 | 15 | 15.5]</b></td><td><b>[12.5 | 13 | 13.5]</b></td><td><b>[10.5 | 11 | 11.5]</b></td><td><b>[8.5 | 9 | 9.5]</b></td><td><b>[6.5 | 7 | 7.5]</b></td><td><b>[4.5 | 5 | 5.5]</b></td><td><b>[2.5 | 3 | 3.5]</b></td><td><b>[0.5 | 1 | 1.5]</b></td></tr>\n",
       "<tr><td><b></b> </td><td>0.225                    </td><td>0.19                     </td><td>0.229                    </td><td>0.313                    </td><td>0.244                    </td><td>0.351                 </td><td>0.288                 </td><td>0.191                 </td><td>0.305                 </td><td>0.2                   </td></tr>\n",
       "</tbody>\n",
       "</table>"
      ],
      "text/plain": [
       "x  [18.5 | 19 | 19.5]  [16.5 | 17 | 17.5]  [14.5 | 15 | 15.5]  [12.5 | 13 | 13.5]  [10.5 | 11 | 11.5]  [8.5 | 9 | 9.5]  [6.5 | 7 | 7.5]  [4.5 | 5 | 5.5]  [2.5 | 3 | 3.5]  [0.5 | 1 | 1.5]\n",
       "   0.225               0.19                0.229               0.313               0.244               0.351            0.288            0.191            0.305            0.2"
      ]
     },
     "execution_count": 114,
     "metadata": {},
     "output_type": "execute_result"
    }
   ],
   "source": [
    "np.std(a, axis='y')[::-2]"
   ]
  },
  {
   "cell_type": "code",
   "execution_count": 115,
   "metadata": {},
   "outputs": [],
   "source": [
    "a[a > 0.5] *= 10"
   ]
  },
  {
   "cell_type": "code",
   "execution_count": 116,
   "metadata": {},
   "outputs": [
    {
     "data": {
      "text/plain": [
       "<matplotlib.collections.QuadMesh at 0x7f17ccf39b70>"
      ]
     },
     "execution_count": 116,
     "metadata": {},
     "output_type": "execute_result"
    },
    {
     "data": {
      "image/png": "[encoded data removed]",
      "text/plain": [
       "<Figure size 432x288 with 2 Axes>"
      ]
     },
     "metadata": {
      "needs_background": "light"
     },
     "output_type": "display_data"
    }
   ],
   "source": [
    "np.empty_like(a).plot(cbar=True)"
   ]
  },
  {
   "cell_type": "code",
   "execution_count": 117,
   "metadata": {},
   "outputs": [
    {
     "data": {
      "text/html": [
       "<table>\n",
       "<tbody>\n",
       "<tr><td><b>y \\ x</b></td><td><b>[2.5 | 3 | 3.5]</b></td><td><b>[3.5 | 4 | 4.5]</b></td></tr>\n",
       "<tr><td><b>0</b>    </td><td>5.88                  </td><td>5.96                  </td></tr>\n",
       "<tr><td><b>1</b>    </td><td>0.375                 </td><td>7.65                  </td></tr>\n",
       "<tr><td><b>2</b>    </td><td>9.62                  </td><td>0.105                 </td></tr>\n",
       "<tr><td><b>3</b>    </td><td>5.21                  </td><td>0.411                 </td></tr>\n",
       "<tr><td><b>4</b>    </td><td>0.0233                </td><td>0.321                 </td></tr>\n",
       "</tbody>\n",
       "</table>"
      ],
      "text/plain": [
       "y \\ x  [2.5 | 3 | 3.5]  [3.5 | 4 | 4.5]\n",
       "0      5.88             5.96\n",
       "1      0.375            7.65\n",
       "2      9.62             0.105\n",
       "3      5.21             0.411\n",
       "4      0.0233           0.321"
      ]
     },
     "execution_count": 117,
     "metadata": {},
     "output_type": "execute_result"
    }
   ],
   "source": [
    "a[3:5]"
   ]
  },
  {
   "cell_type": "code",
   "execution_count": 118,
   "metadata": {},
   "outputs": [
    {
     "data": {
      "text/html": [
       "<table>\n",
       "<tbody>\n",
       "<tr><td><b>y</b></td><td><b>0</b></td><td><b>1</b></td><td><b>2</b></td><td><b>3</b></td><td><b>4</b></td></tr>\n",
       "<tr><td><b></b> </td><td>94      </td><td>83.5    </td><td>68.5    </td><td>68.9    </td><td>81.9    </td></tr>\n",
       "</tbody>\n",
       "</table>"
      ],
      "text/plain": [
       "y   0   1     2     3     4\n",
       "   94  83.5  68.5  68.9  81.9"
      ]
     },
     "execution_count": 118,
     "metadata": {},
     "output_type": "execute_result"
    }
   ],
   "source": [
    "np.sum(a, axis=0)"
   ]
  },
  {
   "cell_type": "code",
   "execution_count": 119,
   "metadata": {},
   "outputs": [
    {
     "data": {
      "text/html": [
       "<table>\n",
       "<tbody>\n",
       "<tr><td><b>y \\ x</b></td><td><b>[-0.5 | 0 | 0.5]</b></td><td><b>[0.5 | 1 | 1.5]</b></td><td><b>[1.5 | 2 | 2.5]</b></td><td><b>[2.5 | 3 | 3.5]</b></td><td><b>[3.5 | 4 | 4.5]</b></td><td><b>[4.5 | 5 | 5.5]</b></td><td>...</td><td><b>[13.5 | 14 | 14.5]</b></td><td><b>[14.5 | 15 | 15.5]</b></td><td><b>[15.5 | 16 | 16.5]</b></td><td><b>[16.5 | 17 | 17.5]</b></td><td><b>[17.5 | 18 | 18.5]</b></td><td><b>[18.5 | 19 | 19.5]</b></td></tr>\n",
       "<tr><td><b>0</b>    </td><td>15.8                   </td><td>0.998                 </td><td>16.9                  </td><td>11.8                  </td><td>11.9                  </td><td>15.6                  </td><td>...</td><td>0.618                    </td><td>0.156                    </td><td>13.6                     </td><td>0.751                    </td><td>16.7                     </td><td>13.9                     </td></tr>\n",
       "<tr><td><b>1</b>    </td><td>0.154                  </td><td>17                    </td><td>11.7                  </td><td>0.75                  </td><td>15.3                  </td><td>15.2                  </td><td>...</td><td>19                       </td><td>0.827                    </td><td>14.4                     </td><td>17.5                     </td><td>13.6                     </td><td>0.328                    </td></tr>\n",
       "<tr><td><b>2</b>    </td><td>0.847                  </td><td>0.516                 </td><td>0.109                 </td><td>19.2                  </td><td>0.211                 </td><td>17.7                  </td><td>...</td><td>10.6                     </td><td>0.278                    </td><td>16.8                     </td><td>0.875                    </td><td>0.0796                   </td><td>14.6                     </td></tr>\n",
       "<tr><td><b>3</b>    </td><td>0.867                  </td><td>13.8                  </td><td>14                    </td><td>10.4                  </td><td>0.822                 </td><td>10.8                  </td><td>...</td><td>0.0267                   </td><td>0.657                    </td><td>14.4                     </td><td>15.1                     </td><td>0.393                    </td><td>13.9                     </td></tr>\n",
       "<tr><td><b>4</b>    </td><td>0.232                  </td><td>13.4                  </td><td>11.3                  </td><td>0.0467                </td><td>0.641                 </td><td>0.71                  </td><td>...</td><td>12.1                     </td><td>14.5                     </td><td>13.3                     </td><td>13.8                     </td><td>14.7                     </td><td>0.751                    </td></tr>\n",
       "</tbody>\n",
       "</table>"
      ],
      "text/plain": [
       "y \\ x  [-0.5 | 0 | 0.5]  [0.5 | 1 | 1.5]  [1.5 | 2 | 2.5]  [2.5 | 3 | 3.5]  [3.5 | 4 | 4.5]  [4.5 | 5 | 5.5]  ...  [13.5 | 14 | 14.5]  [14.5 | 15 | 15.5]  [15.5 | 16 | 16.5]  [16.5 | 17 | 17.5]  [17.5 | 18 | 18.5]  [18.5 | 19 | 19.5]\n",
       "0      15.8              0.998            16.9             11.8             11.9             15.6             ...  0.618               0.156               13.6                0.751               16.7                13.9\n",
       "1      0.154             17               11.7             0.75             15.3             15.2             ...  19                  0.827               14.4                17.5                13.6                0.328\n",
       "2      0.847             0.516            0.109            19.2             0.211            17.7             ...  10.6                0.278               16.8                0.875               0.0796              14.6\n",
       "3      0.867             13.8             14               10.4             0.822            10.8             ...  0.0267              0.657               14.4                15.1                0.393               13.9\n",
       "4      0.232             13.4             11.3             0.0467           0.641            0.71             ...  12.1                14.5                13.3                13.8                14.7                0.751"
      ]
     },
     "execution_count": 119,
     "metadata": {},
     "output_type": "execute_result"
    }
   ],
   "source": [
    "a * 2"
   ]
  },
  {
   "cell_type": "code",
   "execution_count": 120,
   "metadata": {},
   "outputs": [],
   "source": [
    "m = np.ma.masked_array(np.arange(10))"
   ]
  },
  {
   "cell_type": "code",
   "execution_count": 121,
   "metadata": {},
   "outputs": [],
   "source": [
    "m.mask = m < 6"
   ]
  },
  {
   "cell_type": "code",
   "execution_count": 122,
   "metadata": {},
   "outputs": [
    {
     "data": {
      "text/plain": [
       "array([ 0,  1,  2,  3,  4,  5, 18, 21, 24, 27])"
      ]
     },
     "execution_count": 122,
     "metadata": {},
     "output_type": "execute_result"
    }
   ],
   "source": [
    "(m * 3).data"
   ]
  },
  {
   "cell_type": "code",
   "execution_count": 123,
   "metadata": {},
   "outputs": [],
   "source": [
    "# add something\n",
    "g['a'] = np.random.rand(g.grid.size).reshape(g.shape)"
   ]
  },
  {
   "cell_type": "code",
   "execution_count": 124,
   "metadata": {},
   "outputs": [
    {
     "data": {
      "text/html": [
       "<table>\n",
       "<tbody>\n",
       "<tr><td><b>y \\ x</b></td><td><b>[-0.5 | 0 | 0.5]</b></td><td><b>[0.5 | 1 | 1.5]</b></td><td><b>[1.5 | 2 | 2.5]</b></td><td><b>[2.5 | 3 | 3.5]</b></td><td><b>[3.5 | 4 | 4.5]</b></td><td><b>[4.5 | 5 | 5.5]</b></td><td>...</td><td><b>[13.5 | 14 | 14.5]</b></td><td><b>[14.5 | 15 | 15.5]</b></td><td><b>[15.5 | 16 | 16.5]</b></td><td><b>[16.5 | 17 | 17.5]</b></td><td><b>[17.5 | 18 | 18.5]</b></td><td><b>[18.5 | 19 | 19.5]</b></td></tr>\n",
       "<tr><td><b>0</b>    </td><td>0.644                  </td><td>0.962                 </td><td>0.488                 </td><td>0.0336                </td><td>0.448                 </td><td>0.219                 </td><td>...</td><td>0.0345                   </td><td>0.785                    </td><td>0.302                    </td><td>0.207                    </td><td>0.872                    </td><td>0.0973                   </td></tr>\n",
       "<tr><td><b>1</b>    </td><td>0.692                  </td><td>0.933                 </td><td>0.169                 </td><td>0.994                 </td><td>0.0931                </td><td>0.85                  </td><td>...</td><td>0.122                    </td><td>0.252                    </td><td>0.808                    </td><td>0.915                    </td><td>0.376                    </td><td>0.149                    </td></tr>\n",
       "<tr><td><b>2</b>    </td><td>0.605                  </td><td>0.916                 </td><td>0.115                 </td><td>0.787                 </td><td>0.836                 </td><td>0.333                 </td><td>...</td><td>0.849                    </td><td>0.802                    </td><td>0.0165                   </td><td>0.691                    </td><td>0.0436                   </td><td>0.954                    </td></tr>\n",
       "<tr><td><b>3</b>    </td><td>0.224                  </td><td>0.234                 </td><td>0.502                 </td><td>0.191                 </td><td>0.934                 </td><td>0.402                 </td><td>...</td><td>0.808                    </td><td>0.673                    </td><td>0.135                    </td><td>0.156                    </td><td>0.674                    </td><td>0.868                    </td></tr>\n",
       "<tr><td><b>4</b>    </td><td>0.77                   </td><td>0.694                 </td><td>0.729                 </td><td>0.918                 </td><td>0.0419                </td><td>0.738                 </td><td>...</td><td>0.0429                   </td><td>0.0825                   </td><td>0.369                    </td><td>0.373                    </td><td>0.599                    </td><td>0.681                    </td></tr>\n",
       "</tbody>\n",
       "</table>"
      ],
      "text/plain": [
       "y \\ x  [-0.5 | 0 | 0.5]  [0.5 | 1 | 1.5]  [1.5 | 2 | 2.5]  [2.5 | 3 | 3.5]  [3.5 | 4 | 4.5]  [4.5 | 5 | 5.5]  ...  [13.5 | 14 | 14.5]  [14.5 | 15 | 15.5]  [15.5 | 16 | 16.5]  [16.5 | 17 | 17.5]  [17.5 | 18 | 18.5]  [18.5 | 19 | 19.5]\n",
       "0      0.644             0.962            0.488            0.0336           0.448            0.219            ...  0.0345              0.785               0.302               0.207               0.872               0.0973\n",
       "1      0.692             0.933            0.169            0.994            0.0931           0.85             ...  0.122               0.252               0.808               0.915               0.376               0.149\n",
       "2      0.605             0.916            0.115            0.787            0.836            0.333            ...  0.849               0.802               0.0165              0.691               0.0436              0.954\n",
       "3      0.224             0.234            0.502            0.191            0.934            0.402            ...  0.808               0.673               0.135               0.156               0.674               0.868\n",
       "4      0.77              0.694            0.729            0.918            0.0419           0.738            ...  0.0429              0.0825              0.369               0.373               0.599               0.681"
      ]
     },
     "execution_count": 124,
     "metadata": {},
     "output_type": "execute_result"
    }
   ],
   "source": [
    "np.asanyarray(g['a'])"
   ]
  },
  {
   "cell_type": "code",
   "execution_count": 125,
   "metadata": {},
   "outputs": [
    {
     "data": {
      "text/html": [
       "<table>\n",
       "<tbody>\n",
       "<tr><td><b>y \\ x</b></td><td><b>[-0.5 | 0 | 0.5]</b></td><td><b>[0.5 | 1 | 1.5]</b></td><td><b>[1.5 | 2 | 2.5]</b></td><td><b>[2.5 | 3 | 3.5]</b></td><td><b>[3.5 | 4 | 4.5]</b></td><td><b>[4.5 | 5 | 5.5]</b></td><td>...</td><td><b>[13.5 | 14 | 14.5]</b></td><td><b>[14.5 | 15 | 15.5]</b></td><td><b>[15.5 | 16 | 16.5]</b></td><td><b>[16.5 | 17 | 17.5]</b></td><td><b>[17.5 | 18 | 18.5]</b></td><td><b>[18.5 | 19 | 19.5]</b></td></tr>\n",
       "<tr><td><b>0</b>    </td><td>a = 0.644              </td><td>a = 0.962             </td><td>a = 0.488             </td><td>a = 0.0336            </td><td>a = 0.448             </td><td>a = 0.219             </td><td>...</td><td>a = 0.0345               </td><td>a = 0.785                </td><td>a = 0.302                </td><td>a = 0.207                </td><td>a = 0.872                </td><td>a = 0.0973               </td></tr>\n",
       "<tr><td><b>1</b>    </td><td>a = 0.692              </td><td>a = 0.933             </td><td>a = 0.169             </td><td>a = 0.994             </td><td>a = 0.0931            </td><td>a = 0.85              </td><td>...</td><td>a = 0.122                </td><td>a = 0.252                </td><td>a = 0.808                </td><td>a = 0.915                </td><td>a = 0.376                </td><td>a = 0.149                </td></tr>\n",
       "<tr><td><b>2</b>    </td><td>a = 0.605              </td><td>a = 0.916             </td><td>a = 0.115             </td><td>a = 0.787             </td><td>a = 0.836             </td><td>a = 0.333             </td><td>...</td><td>a = 0.849                </td><td>a = 0.802                </td><td>a = 0.0165               </td><td>a = 0.691                </td><td>a = 0.0436               </td><td>a = 0.954                </td></tr>\n",
       "<tr><td><b>3</b>    </td><td>a = 0.224              </td><td>a = 0.234             </td><td>a = 0.502             </td><td>a = 0.191             </td><td>a = 0.934             </td><td>a = 0.402             </td><td>...</td><td>a = 0.808                </td><td>a = 0.673                </td><td>a = 0.135                </td><td>a = 0.156                </td><td>a = 0.674                </td><td>a = 0.868                </td></tr>\n",
       "<tr><td><b>4</b>    </td><td>a = 0.77               </td><td>a = 0.694             </td><td>a = 0.729             </td><td>a = 0.918             </td><td>a = 0.0419            </td><td>a = 0.738             </td><td>...</td><td>a = 0.0429               </td><td>a = 0.0825               </td><td>a = 0.369                </td><td>a = 0.373                </td><td>a = 0.599                </td><td>a = 0.681                </td></tr>\n",
       "</tbody>\n",
       "</table>"
      ],
      "text/plain": [
       "y \\ x  [-0.5 | 0 | 0.5]  [0.5 | 1 | 1.5]  [1.5 | 2 | 2.5]  [2.5 | 3 | 3.5]  [3.5 | 4 | 4.5]  [4.5 | 5 | 5.5]  ...  [13.5 | 14 | 14.5]  [14.5 | 15 | 15.5]  [15.5 | 16 | 16.5]  [16.5 | 17 | 17.5]  [17.5 | 18 | 18.5]  [18.5 | 19 | 19.5]\n",
       "0      a = 0.644         a = 0.962        a = 0.488        a = 0.0336       a = 0.448        a = 0.219        ...  a = 0.0345          a = 0.785           a = 0.302           a = 0.207           a = 0.872           a = 0.0973\n",
       "1      a = 0.692         a = 0.933        a = 0.169        a = 0.994        a = 0.0931       a = 0.85         ...  a = 0.122           a = 0.252           a = 0.808           a = 0.915           a = 0.376           a = 0.149\n",
       "2      a = 0.605         a = 0.916        a = 0.115        a = 0.787        a = 0.836        a = 0.333        ...  a = 0.849           a = 0.802           a = 0.0165          a = 0.691           a = 0.0436          a = 0.954\n",
       "3      a = 0.224         a = 0.234        a = 0.502        a = 0.191        a = 0.934        a = 0.402        ...  a = 0.808           a = 0.673           a = 0.135           a = 0.156           a = 0.674           a = 0.868\n",
       "4      a = 0.77          a = 0.694        a = 0.729        a = 0.918        a = 0.0419       a = 0.738        ...  a = 0.0429          a = 0.0825          a = 0.369           a = 0.373           a = 0.599           a = 0.681"
      ]
     },
     "execution_count": 125,
     "metadata": {},
     "output_type": "execute_result"
    }
   ],
   "source": [
    "g"
   ]
  },
  {
   "cell_type": "code",
   "execution_count": 126,
   "metadata": {},
   "outputs": [],
   "source": [
    "g['b'] = np.ones(g.shape)"
   ]
  },
  {
   "cell_type": "code",
   "execution_count": 127,
   "metadata": {},
   "outputs": [
    {
     "data": {
      "text/plain": [
       "(20, 5)"
      ]
     },
     "execution_count": 127,
     "metadata": {},
     "output_type": "execute_result"
    }
   ],
   "source": [
    "g.shape"
   ]
  },
  {
   "cell_type": "code",
   "execution_count": 128,
   "metadata": {},
   "outputs": [
    {
     "data": {
      "text/html": [
       "<table>\n",
       "<tbody>\n",
       "<tr><td><b>x \\ y</b>             </td><td><b>0</b></td><td><b>1</b></td><td><b>2</b></td><td><b>3</b></td><td><b>4</b></td></tr>\n",
       "<tr><td><b>[-0.5 | 0 | 0.5]</b>  </td><td>1       </td><td>1       </td><td>1       </td><td>1       </td><td>1       </td></tr>\n",
       "<tr><td><b>[0.5 | 1 | 1.5]</b>   </td><td>1       </td><td>1       </td><td>1       </td><td>1       </td><td>1       </td></tr>\n",
       "<tr><td><b>[1.5 | 2 | 2.5]</b>   </td><td>1       </td><td>1       </td><td>1       </td><td>1       </td><td>1       </td></tr>\n",
       "<tr><td><b>[2.5 | 3 | 3.5]</b>   </td><td>1       </td><td>1       </td><td>1       </td><td>1       </td><td>1       </td></tr>\n",
       "<tr><td><b>[3.5 | 4 | 4.5]</b>   </td><td>1       </td><td>1       </td><td>1       </td><td>1       </td><td>1       </td></tr>\n",
       "<tr><td><b>[4.5 | 5 | 5.5]</b>   </td><td>1       </td><td>1       </td><td>1       </td><td>1       </td><td>1       </td></tr>\n",
       "<tr><td>...                      </td><td>...     </td><td>...     </td><td>...     </td><td>...     </td><td>...     </td></tr>\n",
       "<tr><td><b>[13.5 | 14 | 14.5]</b></td><td>1       </td><td>1       </td><td>1       </td><td>1       </td><td>1       </td></tr>\n",
       "<tr><td><b>[14.5 | 15 | 15.5]</b></td><td>1       </td><td>1       </td><td>1       </td><td>1       </td><td>1       </td></tr>\n",
       "<tr><td><b>[15.5 | 16 | 16.5]</b></td><td>1       </td><td>1       </td><td>1       </td><td>1       </td><td>1       </td></tr>\n",
       "<tr><td><b>[16.5 | 17 | 17.5]</b></td><td>1       </td><td>1       </td><td>1       </td><td>1       </td><td>1       </td></tr>\n",
       "<tr><td><b>[17.5 | 18 | 18.5]</b></td><td>1       </td><td>1       </td><td>1       </td><td>1       </td><td>1       </td></tr>\n",
       "<tr><td><b>[18.5 | 19 | 19.5]</b></td><td>1       </td><td>1       </td><td>1       </td><td>1       </td><td>1       </td></tr>\n",
       "</tbody>\n",
       "</table>"
      ],
      "text/plain": [
       "x \\ y               0    1    2    3    4\n",
       "[-0.5 | 0 | 0.5]    1    1    1    1    1\n",
       "[0.5 | 1 | 1.5]     1    1    1    1    1\n",
       "[1.5 | 2 | 2.5]     1    1    1    1    1\n",
       "[2.5 | 3 | 3.5]     1    1    1    1    1\n",
       "[3.5 | 4 | 4.5]     1    1    1    1    1\n",
       "[4.5 | 5 | 5.5]     1    1    1    1    1\n",
       "...                 ...  ...  ...  ...  ...\n",
       "[13.5 | 14 | 14.5]  1    1    1    1    1\n",
       "[14.5 | 15 | 15.5]  1    1    1    1    1\n",
       "[15.5 | 16 | 16.5]  1    1    1    1    1\n",
       "[16.5 | 17 | 17.5]  1    1    1    1    1\n",
       "[17.5 | 18 | 18.5]  1    1    1    1    1\n",
       "[18.5 | 19 | 19.5]  1    1    1    1    1"
      ]
     },
     "execution_count": 128,
     "metadata": {},
     "output_type": "execute_result"
    }
   ],
   "source": [
    "g['b'].T"
   ]
  },
  {
   "cell_type": "code",
   "execution_count": 129,
   "metadata": {},
   "outputs": [
    {
     "data": {
      "text/plain": [
       "Grid(\n",
       "Axis(\"x\",\n",
       "points = array([ 0,  1,  2,  3,  4,  5,  6,  7,  8,  9, 10, 11, 12, 13, 14, 15, 16,\n",
       "       17, 18, 19]),\n",
       "edges = edges: array([[-0.5,  0.5],\n",
       "       [ 0.5,  1.5],\n",
       "       [ 1.5,  2.5],\n",
       "       [ 2.5,  3.5],\n",
       "       [ 3.5,  4.5],\n",
       "       [ 4.5,  5.5],\n",
       "       [ 5.5,  6.5],\n",
       "       [ 6.5,  7.5],\n",
       "       [ 7.5,  8.5],\n",
       "       [ 8.5,  9.5],\n",
       "       [ 9.5, 10.5],\n",
       "       [10.5, 11.5],\n",
       "       [11.5, 12.5],\n",
       "       [12.5, 13.5],\n",
       "       [13.5, 14.5],\n",
       "       [14.5, 15.5],\n",
       "       [15.5, 16.5],\n",
       "       [16.5, 17.5],\n",
       "       [17.5, 18.5],\n",
       "       [18.5, 19.5]]))\n",
       "nbins = 20),\n",
       "Axis(\"y\",\n",
       "points = array([0, 1, 2, 3, 4]),\n",
       "edges = edges: None)\n",
       "nbins = 5),)"
      ]
     },
     "execution_count": 129,
     "metadata": {},
     "output_type": "execute_result"
    }
   ],
   "source": [
    "np.sin(a).grid"
   ]
  },
  {
   "cell_type": "code",
   "execution_count": 130,
   "metadata": {},
   "outputs": [],
   "source": [
    "a = g['a']"
   ]
  },
  {
   "cell_type": "code",
   "execution_count": 131,
   "metadata": {},
   "outputs": [
    {
     "data": {
      "text/plain": [
       "array([[0.64384411, 0.69164983, 0.60476357, 0.22417428, 0.77028332],\n",
       "       [0.96210993, 0.93309494, 0.9159544 , 0.23427927, 0.69378066],\n",
       "       [0.48775438, 0.16866226, 0.11458268, 0.50169219, 0.72877234],\n",
       "       [0.0335821 , 0.99366145, 0.78738756, 0.19079775, 0.91825237],\n",
       "       [0.44823467, 0.09314411, 0.83622994, 0.93358332, 0.04185775],\n",
       "       [0.2188553 , 0.84988309, 0.3332435 , 0.40237451, 0.7379919 ],\n",
       "       [0.08733676, 0.63004731, 0.70401471, 0.75267183, 0.5625663 ],\n",
       "       [0.06573771, 0.92569669, 0.02640727, 0.28920523, 0.65638411],\n",
       "       [0.173445  , 0.82793488, 0.58293595, 0.57633818, 0.85285685],\n",
       "       [0.46303313, 0.98207189, 0.51976188, 0.53493368, 0.13820344],\n",
       "       [0.30794493, 0.32873326, 0.53803814, 0.89349492, 0.45111186],\n",
       "       [0.1272111 , 0.9010258 , 0.69127389, 0.34911579, 0.24789183],\n",
       "       [0.12960751, 0.07770881, 0.66804549, 0.16665   , 0.88946338],\n",
       "       [0.86530381, 0.80422553, 0.98095338, 0.7525025 , 0.74891807],\n",
       "       [0.03450689, 0.1221066 , 0.84865091, 0.80847526, 0.04293256],\n",
       "       [0.78545183, 0.25206347, 0.80210758, 0.67335095, 0.08251806],\n",
       "       [0.30197565, 0.80823125, 0.01647246, 0.1348213 , 0.36880792],\n",
       "       [0.20728194, 0.91466558, 0.69079612, 0.15574435, 0.37273697],\n",
       "       [0.87191529, 0.37573057, 0.04356815, 0.67427633, 0.59891433],\n",
       "       [0.09727543, 0.14875678, 0.95387324, 0.86841275, 0.68084357]])"
      ]
     },
     "execution_count": 131,
     "metadata": {},
     "output_type": "execute_result"
    }
   ],
   "source": [
    "a.view(np.ndarray)"
   ]
  },
  {
   "cell_type": "code",
   "execution_count": 132,
   "metadata": {},
   "outputs": [],
   "source": [
    "g['b'][g['a'] < 0.5] *= -1"
   ]
  },
  {
   "cell_type": "code",
   "execution_count": 133,
   "metadata": {},
   "outputs": [
    {
     "data": {
      "text/html": [
       "<table>\n",
       "<tbody>\n",
       "<tr><td><b>y \\ x</b></td><td><b>[-0.5 | 0 | 0.5]</b></td><td><b>[0.5 | 1 | 1.5]</b></td><td><b>[1.5 | 2 | 2.5]</b></td><td><b>[2.5 | 3 | 3.5]</b></td><td><b>[3.5 | 4 | 4.5]</b></td><td><b>[4.5 | 5 | 5.5]</b></td><td>...</td><td><b>[13.5 | 14 | 14.5]</b></td><td><b>[14.5 | 15 | 15.5]</b></td><td><b>[15.5 | 16 | 16.5]</b></td><td><b>[16.5 | 17 | 17.5]</b></td><td><b>[17.5 | 18 | 18.5]</b></td><td><b>[18.5 | 19 | 19.5]</b></td></tr>\n",
       "<tr><td><b>0</b>    </td><td>a = 0.644<br>b = 1     </td><td>a = 0.962<br>b = 1    </td><td>a = 0.488<br>b = -1   </td><td>a = 0.0336<br>b = -1  </td><td>a = 0.448<br>b = -1   </td><td>a = 0.219<br>b = -1   </td><td>...</td><td>a = 0.0345<br>b = -1     </td><td>a = 0.785<br>b = 1       </td><td>a = 0.302<br>b = -1      </td><td>a = 0.207<br>b = -1      </td><td>a = 0.872<br>b = 1       </td><td>a = 0.0973<br>b = -1     </td></tr>\n",
       "<tr><td><b>1</b>    </td><td>a = 0.692<br>b = 1     </td><td>a = 0.933<br>b = 1    </td><td>a = 0.169<br>b = -1   </td><td>a = 0.994<br>b = 1    </td><td>a = 0.0931<br>b = -1  </td><td>a = 0.85<br>b = 1     </td><td>...</td><td>a = 0.122<br>b = -1      </td><td>a = 0.252<br>b = -1      </td><td>a = 0.808<br>b = 1       </td><td>a = 0.915<br>b = 1       </td><td>a = 0.376<br>b = -1      </td><td>a = 0.149<br>b = -1      </td></tr>\n",
       "<tr><td><b>2</b>    </td><td>a = 0.605<br>b = 1     </td><td>a = 0.916<br>b = 1    </td><td>a = 0.115<br>b = -1   </td><td>a = 0.787<br>b = 1    </td><td>a = 0.836<br>b = 1    </td><td>a = 0.333<br>b = -1   </td><td>...</td><td>a = 0.849<br>b = 1       </td><td>a = 0.802<br>b = 1       </td><td>a = 0.0165<br>b = -1     </td><td>a = 0.691<br>b = 1       </td><td>a = 0.0436<br>b = -1     </td><td>a = 0.954<br>b = 1       </td></tr>\n",
       "<tr><td><b>3</b>    </td><td>a = 0.224<br>b = -1    </td><td>a = 0.234<br>b = -1   </td><td>a = 0.502<br>b = 1    </td><td>a = 0.191<br>b = -1   </td><td>a = 0.934<br>b = 1    </td><td>a = 0.402<br>b = -1   </td><td>...</td><td>a = 0.808<br>b = 1       </td><td>a = 0.673<br>b = 1       </td><td>a = 0.135<br>b = -1      </td><td>a = 0.156<br>b = -1      </td><td>a = 0.674<br>b = 1       </td><td>a = 0.868<br>b = 1       </td></tr>\n",
       "<tr><td><b>4</b>    </td><td>a = 0.77<br>b = 1      </td><td>a = 0.694<br>b = 1    </td><td>a = 0.729<br>b = 1    </td><td>a = 0.918<br>b = 1    </td><td>a = 0.0419<br>b = -1  </td><td>a = 0.738<br>b = 1    </td><td>...</td><td>a = 0.0429<br>b = -1     </td><td>a = 0.0825<br>b = -1     </td><td>a = 0.369<br>b = -1      </td><td>a = 0.373<br>b = -1      </td><td>a = 0.599<br>b = 1       </td><td>a = 0.681<br>b = 1       </td></tr>\n",
       "</tbody>\n",
       "</table>"
      ],
      "text/plain": [
       "y \\ x  [-0.5 | 0 | 0.5]  [0.5 | 1 | 1.5]  [1.5 | 2 | 2.5]  [2.5 | 3 | 3.5]  [3.5 | 4 | 4.5]  [4.5 | 5 | 5.5]  ...  [13.5 | 14 | 14.5]  [14.5 | 15 | 15.5]  [15.5 | 16 | 16.5]  [16.5 | 17 | 17.5]  [17.5 | 18 | 18.5]  [18.5 | 19 | 19.5]\n",
       "0      a = 0.644         a = 0.962        a = 0.488        a = 0.0336       a = 0.448        a = 0.219        ...  a = 0.0345          a = 0.785           a = 0.302           a = 0.207           a = 0.872           a = 0.0973\n",
       "       b = 1             b = 1            b = -1           b = -1           b = -1           b = -1                b = -1              b = 1               b = -1              b = -1              b = 1               b = -1\n",
       "1      a = 0.692         a = 0.933        a = 0.169        a = 0.994        a = 0.0931       a = 0.85         ...  a = 0.122           a = 0.252           a = 0.808           a = 0.915           a = 0.376           a = 0.149\n",
       "       b = 1             b = 1            b = -1           b = 1            b = -1           b = 1                 b = -1              b = -1              b = 1               b = 1               b = -1              b = -1\n",
       "2      a = 0.605         a = 0.916        a = 0.115        a = 0.787        a = 0.836        a = 0.333        ...  a = 0.849           a = 0.802           a = 0.0165          a = 0.691           a = 0.0436          a = 0.954\n",
       "       b = 1             b = 1            b = -1           b = 1            b = 1            b = -1                b = 1               b = 1               b = -1              b = 1               b = -1              b = 1\n",
       "3      a = 0.224         a = 0.234        a = 0.502        a = 0.191        a = 0.934        a = 0.402        ...  a = 0.808           a = 0.673           a = 0.135           a = 0.156           a = 0.674           a = 0.868\n",
       "       b = -1            b = -1           b = 1            b = -1           b = 1            b = -1                b = 1               b = 1               b = -1              b = -1              b = 1               b = 1\n",
       "4      a = 0.77          a = 0.694        a = 0.729        a = 0.918        a = 0.0419       a = 0.738        ...  a = 0.0429          a = 0.0825          a = 0.369           a = 0.373           a = 0.599           a = 0.681\n",
       "       b = 1             b = 1            b = 1            b = 1            b = -1           b = 1                 b = -1              b = -1              b = -1              b = -1              b = 1               b = 1"
      ]
     },
     "execution_count": 133,
     "metadata": {},
     "output_type": "execute_result"
    }
   ],
   "source": [
    "g"
   ]
  },
  {
   "cell_type": "code",
   "execution_count": 134,
   "metadata": {},
   "outputs": [
    {
     "data": {
      "text/html": [
       "<table>\n",
       "<tbody>\n",
       "<tr><td><b>y \\ x</b></td><td><b>[-0.5 | 0 | 0.5]</b></td><td><b>[0.5 | 1 | 1.5]</b></td><td><b>[1.5 | 2 | 2.5]</b></td><td><b>[2.5 | 3 | 3.5]</b></td><td><b>[3.5 | 4 | 4.5]</b></td><td><b>[4.5 | 5 | 5.5]</b></td><td>...</td><td><b>[13.5 | 14 | 14.5]</b></td><td><b>[14.5 | 15 | 15.5]</b></td><td><b>[15.5 | 16 | 16.5]</b></td><td><b>[16.5 | 17 | 17.5]</b></td><td><b>[17.5 | 18 | 18.5]</b></td><td><b>[18.5 | 19 | 19.5]</b></td></tr>\n",
       "<tr><td><b>0</b>    </td><td>0                      </td><td>1                     </td><td>2                     </td><td>3                     </td><td>4                     </td><td>5                     </td><td>...</td><td>14                       </td><td>15                       </td><td>16                       </td><td>17                       </td><td>18                       </td><td>19                       </td></tr>\n",
       "<tr><td><b>1</b>    </td><td>0                      </td><td>1                     </td><td>2                     </td><td>3                     </td><td>4                     </td><td>5                     </td><td>...</td><td>14                       </td><td>15                       </td><td>16                       </td><td>17                       </td><td>18                       </td><td>19                       </td></tr>\n",
       "<tr><td><b>2</b>    </td><td>0                      </td><td>1                     </td><td>2                     </td><td>3                     </td><td>4                     </td><td>5                     </td><td>...</td><td>14                       </td><td>15                       </td><td>16                       </td><td>17                       </td><td>18                       </td><td>19                       </td></tr>\n",
       "<tr><td><b>3</b>    </td><td>0                      </td><td>1                     </td><td>2                     </td><td>3                     </td><td>4                     </td><td>5                     </td><td>...</td><td>14                       </td><td>15                       </td><td>16                       </td><td>17                       </td><td>18                       </td><td>19                       </td></tr>\n",
       "<tr><td><b>4</b>    </td><td>0                      </td><td>1                     </td><td>2                     </td><td>3                     </td><td>4                     </td><td>5                     </td><td>...</td><td>14                       </td><td>15                       </td><td>16                       </td><td>17                       </td><td>18                       </td><td>19                       </td></tr>\n",
       "</tbody>\n",
       "</table>"
      ],
      "text/plain": [
       "y \\ x  [-0.5 | 0 | 0.5]  [0.5 | 1 | 1.5]  [1.5 | 2 | 2.5]  [2.5 | 3 | 3.5]  [3.5 | 4 | 4.5]  [4.5 | 5 | 5.5]  ...  [13.5 | 14 | 14.5]  [14.5 | 15 | 15.5]  [15.5 | 16 | 16.5]  [16.5 | 17 | 17.5]  [17.5 | 18 | 18.5]  [18.5 | 19 | 19.5]\n",
       "0      0                 1                2                3                4                5                ...  14                  15                  16                  17                  18                  19\n",
       "1      0                 1                2                3                4                5                ...  14                  15                  16                  17                  18                  19\n",
       "2      0                 1                2                3                4                5                ...  14                  15                  16                  17                  18                  19\n",
       "3      0                 1                2                3                4                5                ...  14                  15                  16                  17                  18                  19\n",
       "4      0                 1                2                3                4                5                ...  14                  15                  16                  17                  18                  19"
      ]
     },
     "execution_count": 134,
     "metadata": {},
     "output_type": "execute_result"
    }
   ],
   "source": [
    "g['x']"
   ]
  },
  {
   "cell_type": "code",
   "execution_count": 135,
   "metadata": {},
   "outputs": [
    {
     "data": {
      "text/html": [
       "<table>\n",
       "<tbody>\n",
       "<tr><td><b>y \\ x</b></td><td><b>[-0.5 | 0 | 0.5]</b></td><td><b>[0.5 | 1 | 1.5]</b></td><td><b>[1.5 | 2 | 2.5]</b></td><td><b>[2.5 | 3 | 3.5]</b></td><td><b>[3.5 | 4 | 4.5]</b></td><td><b>[4.5 | 5 | 5.5]</b></td><td>...</td><td><b>[13.5 | 14 | 14.5]</b></td><td><b>[14.5 | 15 | 15.5]</b></td><td><b>[15.5 | 16 | 16.5]</b></td><td><b>[16.5 | 17 | 17.5]</b></td><td><b>[17.5 | 18 | 18.5]</b></td><td><b>[18.5 | 19 | 19.5]</b></td></tr>\n",
       "<tr><td><b>0</b>    </td><td>0.644                  </td><td>0.962                 </td><td>0.488                 </td><td>0.0336                </td><td>0.448                 </td><td>0.219                 </td><td>...</td><td>0.0345                   </td><td>0.785                    </td><td>0.302                    </td><td>0.207                    </td><td>0.872                    </td><td>0.0973                   </td></tr>\n",
       "<tr><td><b>1</b>    </td><td>0.692                  </td><td>0.933                 </td><td>0.169                 </td><td>0.994                 </td><td>0.0931                </td><td>0.85                  </td><td>...</td><td>0.122                    </td><td>0.252                    </td><td>0.808                    </td><td>0.915                    </td><td>0.376                    </td><td>0.149                    </td></tr>\n",
       "<tr><td><b>2</b>    </td><td>0.605                  </td><td>0.916                 </td><td>0.115                 </td><td>0.787                 </td><td>0.836                 </td><td>0.333                 </td><td>...</td><td>0.849                    </td><td>0.802                    </td><td>0.0165                   </td><td>0.691                    </td><td>0.0436                   </td><td>0.954                    </td></tr>\n",
       "<tr><td><b>3</b>    </td><td>0.224                  </td><td>0.234                 </td><td>0.502                 </td><td>0.191                 </td><td>0.934                 </td><td>0.402                 </td><td>...</td><td>0.808                    </td><td>0.673                    </td><td>0.135                    </td><td>0.156                    </td><td>0.674                    </td><td>0.868                    </td></tr>\n",
       "<tr><td><b>4</b>    </td><td>0.77                   </td><td>0.694                 </td><td>0.729                 </td><td>0.918                 </td><td>0.0419                </td><td>0.738                 </td><td>...</td><td>0.0429                   </td><td>0.0825                   </td><td>0.369                    </td><td>0.373                    </td><td>0.599                    </td><td>0.681                    </td></tr>\n",
       "</tbody>\n",
       "</table>"
      ],
      "text/plain": [
       "y \\ x  [-0.5 | 0 | 0.5]  [0.5 | 1 | 1.5]  [1.5 | 2 | 2.5]  [2.5 | 3 | 3.5]  [3.5 | 4 | 4.5]  [4.5 | 5 | 5.5]  ...  [13.5 | 14 | 14.5]  [14.5 | 15 | 15.5]  [15.5 | 16 | 16.5]  [16.5 | 17 | 17.5]  [17.5 | 18 | 18.5]  [18.5 | 19 | 19.5]\n",
       "0      0.644             0.962            0.488            0.0336           0.448            0.219            ...  0.0345              0.785               0.302               0.207               0.872               0.0973\n",
       "1      0.692             0.933            0.169            0.994            0.0931           0.85             ...  0.122               0.252               0.808               0.915               0.376               0.149\n",
       "2      0.605             0.916            0.115            0.787            0.836            0.333            ...  0.849               0.802               0.0165              0.691               0.0436              0.954\n",
       "3      0.224             0.234            0.502            0.191            0.934            0.402            ...  0.808               0.673               0.135               0.156               0.674               0.868\n",
       "4      0.77              0.694            0.729            0.918            0.0419           0.738            ...  0.0429              0.0825              0.369               0.373               0.599               0.681"
      ]
     },
     "execution_count": 135,
     "metadata": {},
     "output_type": "execute_result"
    }
   ],
   "source": [
    "g['a']"
   ]
  },
  {
   "cell_type": "code",
   "execution_count": 136,
   "metadata": {},
   "outputs": [
    {
     "data": {
      "text/html": [
       "<table>\n",
       "<tbody>\n",
       "<tr><td><b>x</b></td><td><b>[-0.5 | 0 | 0.5]</b></td><td><b>[0.5 | 1 | 1.5]</b></td><td><b>[1.5 | 2 | 2.5]</b></td><td><b>[2.5 | 3 | 3.5]</b></td><td><b>[3.5 | 4 | 4.5]</b></td><td><b>[4.5 | 5 | 5.5]</b></td><td>...</td><td><b>[13.5 | 14 | 14.5]</b></td><td><b>[14.5 | 15 | 15.5]</b></td><td><b>[15.5 | 16 | 16.5]</b></td><td><b>[16.5 | 17 | 17.5]</b></td><td><b>[17.5 | 18 | 18.5]</b></td><td><b>[18.5 | 19 | 19.5]</b></td></tr>\n",
       "<tr><td><b></b> </td><td>2.93                   </td><td>3.74                  </td><td>2                     </td><td>2.92                  </td><td>2.35                  </td><td>2.54                  </td><td>...</td><td>1.86                     </td><td>2.6                      </td><td>1.63                     </td><td>2.34                     </td><td>2.56                     </td><td>2.75                     </td></tr>\n",
       "</tbody>\n",
       "</table>"
      ],
      "text/plain": [
       "x  [-0.5 | 0 | 0.5]  [0.5 | 1 | 1.5]  [1.5 | 2 | 2.5]  [2.5 | 3 | 3.5]  [3.5 | 4 | 4.5]  [4.5 | 5 | 5.5]  ...  [13.5 | 14 | 14.5]  [14.5 | 15 | 15.5]  [15.5 | 16 | 16.5]  [16.5 | 17 | 17.5]  [17.5 | 18 | 18.5]  [18.5 | 19 | 19.5]\n",
       "   2.93              3.74             2                2.92             2.35             2.54             ...  1.86                2.6                 1.63                2.34                2.56                2.75"
      ]
     },
     "execution_count": 136,
     "metadata": {},
     "output_type": "execute_result"
    }
   ],
   "source": [
    "np.sum(g['a'], axis='y')"
   ]
  },
  {
   "cell_type": "code",
   "execution_count": 137,
   "metadata": {},
   "outputs": [
    {
     "data": {
      "text/html": [
       "<table>\n",
       "<tbody>\n",
       "<tr><td><b>x</b></td><td><b>[-0.5 | 0 | 0.5]</b></td><td><b>[0.5 | 1 | 1.5]</b></td><td><b>[1.5 | 2 | 2.5]</b></td><td><b>[2.5 | 3 | 3.5]</b></td><td><b>[3.5 | 4 | 4.5]</b></td><td><b>[4.5 | 5 | 5.5]</b></td><td>...</td><td><b>[13.5 | 14 | 14.5]</b></td><td><b>[14.5 | 15 | 15.5]</b></td><td><b>[15.5 | 16 | 16.5]</b></td><td><b>[16.5 | 17 | 17.5]</b></td><td><b>[17.5 | 18 | 18.5]</b></td><td><b>[18.5 | 19 | 19.5]</b></td></tr>\n",
       "<tr><td><b>a</b></td><td>0.224                  </td><td>0.234                 </td><td>0.502                 </td><td>0.191                 </td><td>0.934                 </td><td>0.402                 </td><td>...</td><td>0.808                    </td><td>0.673                    </td><td>0.135                    </td><td>0.156                    </td><td>0.674                    </td><td>0.868                    </td></tr>\n",
       "<tr><td><b>b</b></td><td>-1                     </td><td>-1                    </td><td>1                     </td><td>-1                    </td><td>1                     </td><td>-1                    </td><td>...</td><td>1                        </td><td>1                        </td><td>-1                       </td><td>-1                       </td><td>1                        </td><td>1                        </td></tr>\n",
       "</tbody>\n",
       "</table>"
      ],
      "text/plain": [
       "x  [-0.5 | 0 | 0.5]  [0.5 | 1 | 1.5]  [1.5 | 2 | 2.5]  [2.5 | 3 | 3.5]  [3.5 | 4 | 4.5]  [4.5 | 5 | 5.5]  ...  [13.5 | 14 | 14.5]  [14.5 | 15 | 15.5]  [15.5 | 16 | 16.5]  [16.5 | 17 | 17.5]  [17.5 | 18 | 18.5]  [18.5 | 19 | 19.5]\n",
       "a  0.224             0.234            0.502            0.191            0.934            0.402            ...  0.808               0.673               0.135               0.156               0.674               0.868\n",
       "b  -1                -1               1                -1               1                -1               ...  1                   1                   -1                  -1                  1                   1"
      ]
     },
     "execution_count": 137,
     "metadata": {},
     "output_type": "execute_result"
    }
   ],
   "source": [
    "g[:,-2]"
   ]
  },
  {
   "cell_type": "code",
   "execution_count": 138,
   "metadata": {},
   "outputs": [
    {
     "data": {
      "text/html": [
       "<table>\n",
       "<tbody>\n",
       "<tr><td><b>y \\ x</b></td><td><b>[18.5 | 19 | 19.5]</b></td><td><b>[17.5 | 18 | 18.5]</b></td><td><b>[16.5 | 17 | 17.5]</b></td><td><b>[15.5 | 16 | 16.5]</b></td><td><b>[14.5 | 15 | 15.5]</b></td><td><b>[13.5 | 14 | 14.5]</b></td><td>...</td><td><b>[4.5 | 5 | 5.5]</b></td><td><b>[3.5 | 4 | 4.5]</b></td><td><b>[2.5 | 3 | 3.5]</b></td><td><b>[1.5 | 2 | 2.5]</b></td><td><b>[0.5 | 1 | 1.5]</b></td><td><b>[-0.5 | 0 | 0.5]</b></td></tr>\n",
       "<tr><td><b>4</b>    </td><td>a = 0.681<br>b = 1       </td><td>a = 0.599<br>b = 1       </td><td>a = 0.373<br>b = -1      </td><td>a = 0.369<br>b = -1      </td><td>a = 0.0825<br>b = -1     </td><td>a = 0.0429<br>b = -1     </td><td>...</td><td>a = 0.738<br>b = 1    </td><td>a = 0.0419<br>b = -1  </td><td>a = 0.918<br>b = 1    </td><td>a = 0.729<br>b = 1    </td><td>a = 0.694<br>b = 1    </td><td>a = 0.77<br>b = 1      </td></tr>\n",
       "<tr><td><b>3</b>    </td><td>a = 0.868<br>b = 1       </td><td>a = 0.674<br>b = 1       </td><td>a = 0.156<br>b = -1      </td><td>a = 0.135<br>b = -1      </td><td>a = 0.673<br>b = 1       </td><td>a = 0.808<br>b = 1       </td><td>...</td><td>a = 0.402<br>b = -1   </td><td>a = 0.934<br>b = 1    </td><td>a = 0.191<br>b = -1   </td><td>a = 0.502<br>b = 1    </td><td>a = 0.234<br>b = -1   </td><td>a = 0.224<br>b = -1    </td></tr>\n",
       "<tr><td><b>2</b>    </td><td>a = 0.954<br>b = 1       </td><td>a = 0.0436<br>b = -1     </td><td>a = 0.691<br>b = 1       </td><td>a = 0.0165<br>b = -1     </td><td>a = 0.802<br>b = 1       </td><td>a = 0.849<br>b = 1       </td><td>...</td><td>a = 0.333<br>b = -1   </td><td>a = 0.836<br>b = 1    </td><td>a = 0.787<br>b = 1    </td><td>a = 0.115<br>b = -1   </td><td>a = 0.916<br>b = 1    </td><td>a = 0.605<br>b = 1     </td></tr>\n",
       "<tr><td><b>1</b>    </td><td>a = 0.149<br>b = -1      </td><td>a = 0.376<br>b = -1      </td><td>a = 0.915<br>b = 1       </td><td>a = 0.808<br>b = 1       </td><td>a = 0.252<br>b = -1      </td><td>a = 0.122<br>b = -1      </td><td>...</td><td>a = 0.85<br>b = 1     </td><td>a = 0.0931<br>b = -1  </td><td>a = 0.994<br>b = 1    </td><td>a = 0.169<br>b = -1   </td><td>a = 0.933<br>b = 1    </td><td>a = 0.692<br>b = 1     </td></tr>\n",
       "<tr><td><b>0</b>    </td><td>a = 0.0973<br>b = -1     </td><td>a = 0.872<br>b = 1       </td><td>a = 0.207<br>b = -1      </td><td>a = 0.302<br>b = -1      </td><td>a = 0.785<br>b = 1       </td><td>a = 0.0345<br>b = -1     </td><td>...</td><td>a = 0.219<br>b = -1   </td><td>a = 0.448<br>b = -1   </td><td>a = 0.0336<br>b = -1  </td><td>a = 0.488<br>b = -1   </td><td>a = 0.962<br>b = 1    </td><td>a = 0.644<br>b = 1     </td></tr>\n",
       "</tbody>\n",
       "</table>"
      ],
      "text/plain": [
       "y \\ x  [18.5 | 19 | 19.5]  [17.5 | 18 | 18.5]  [16.5 | 17 | 17.5]  [15.5 | 16 | 16.5]  [14.5 | 15 | 15.5]  [13.5 | 14 | 14.5]  ...  [4.5 | 5 | 5.5]  [3.5 | 4 | 4.5]  [2.5 | 3 | 3.5]  [1.5 | 2 | 2.5]  [0.5 | 1 | 1.5]  [-0.5 | 0 | 0.5]\n",
       "4      a = 0.681           a = 0.599           a = 0.373           a = 0.369           a = 0.0825          a = 0.0429          ...  a = 0.738        a = 0.0419       a = 0.918        a = 0.729        a = 0.694        a = 0.77\n",
       "       b = 1               b = 1               b = -1              b = -1              b = -1              b = -1                   b = 1            b = -1           b = 1            b = 1            b = 1            b = 1\n",
       "3      a = 0.868           a = 0.674           a = 0.156           a = 0.135           a = 0.673           a = 0.808           ...  a = 0.402        a = 0.934        a = 0.191        a = 0.502        a = 0.234        a = 0.224\n",
       "       b = 1               b = 1               b = -1              b = -1              b = 1               b = 1                    b = -1           b = 1            b = -1           b = 1            b = -1           b = -1\n",
       "2      a = 0.954           a = 0.0436          a = 0.691           a = 0.0165          a = 0.802           a = 0.849           ...  a = 0.333        a = 0.836        a = 0.787        a = 0.115        a = 0.916        a = 0.605\n",
       "       b = 1               b = -1              b = 1               b = -1              b = 1               b = 1                    b = -1           b = 1            b = 1            b = -1           b = 1            b = 1\n",
       "1      a = 0.149           a = 0.376           a = 0.915           a = 0.808           a = 0.252           a = 0.122           ...  a = 0.85         a = 0.0931       a = 0.994        a = 0.169        a = 0.933        a = 0.692\n",
       "       b = -1              b = -1              b = 1               b = 1               b = -1              b = -1                   b = 1            b = -1           b = 1            b = -1           b = 1            b = 1\n",
       "0      a = 0.0973          a = 0.872           a = 0.207           a = 0.302           a = 0.785           a = 0.0345          ...  a = 0.219        a = 0.448        a = 0.0336       a = 0.488        a = 0.962        a = 0.644\n",
       "       b = -1              b = 1               b = -1              b = -1              b = 1               b = -1                   b = -1           b = -1           b = -1           b = -1           b = 1            b = 1"
      ]
     },
     "execution_count": 138,
     "metadata": {},
     "output_type": "execute_result"
    }
   ],
   "source": [
    "g[::-1, ::-1]"
   ]
  },
  {
   "cell_type": "code",
   "execution_count": 139,
   "metadata": {},
   "outputs": [
    {
     "data": {
      "text/html": [
       "<table>\n",
       "<tbody>\n",
       "<tr><td><b>y \\ x</b></td><td><b>[-0.5 | 0 | 0.5]</b></td><td><b>[2.5 | 3 | 3.5]</b></td><td><b>[4.5 | 5 | 5.5]</b></td></tr>\n",
       "<tr><td><b>2</b>    </td><td>a = 0.605<br>b = 1     </td><td>a = 0.787<br>b = 1    </td><td>a = 0.333<br>b = -1   </td></tr>\n",
       "<tr><td><b>3</b>    </td><td>a = 0.224<br>b = -1    </td><td>a = 0.191<br>b = -1   </td><td>a = 0.402<br>b = -1   </td></tr>\n",
       "</tbody>\n",
       "</table>"
      ],
      "text/plain": [
       "y \\ x  [-0.5 | 0 | 0.5]  [2.5 | 3 | 3.5]  [4.5 | 5 | 5.5]\n",
       "2      a = 0.605         a = 0.787        a = 0.333\n",
       "       b = 1             b = 1            b = -1\n",
       "3      a = 0.224         a = 0.191        a = 0.402\n",
       "       b = -1            b = -1           b = -1"
      ]
     },
     "execution_count": 139,
     "metadata": {},
     "output_type": "execute_result"
    }
   ],
   "source": [
    "g[[0,3,5], 2:-1]"
   ]
  },
  {
   "cell_type": "code",
   "execution_count": 140,
   "metadata": {},
   "outputs": [
    {
     "data": {
      "text/plain": [
       "{'a': 0.6438441129261128, 'b': 1.0}"
      ]
     },
     "execution_count": 140,
     "metadata": {},
     "output_type": "execute_result"
    }
   ],
   "source": [
    "g[0,0]"
   ]
  },
  {
   "cell_type": "code",
   "execution_count": 141,
   "metadata": {},
   "outputs": [
    {
     "data": {
      "text/plain": [
       "19.5"
      ]
     },
     "execution_count": 141,
     "metadata": {},
     "output_type": "execute_result"
    }
   ],
   "source": [
    "g.grid.edges[0].max()"
   ]
  },
  {
   "cell_type": "code",
   "execution_count": 142,
   "metadata": {},
   "outputs": [
    {
     "data": {
      "text/html": [
       "<table>\n",
       "<tbody>\n",
       "<tr><td><b>y</b></td><td><b>0</b></td><td><b>1</b></td><td><b>2</b></td><td><b>3</b></td><td><b>4</b></td></tr>\n",
       "<tr><td><b></b> </td><td>-0.199  </td><td>0.54    </td><td>0.807   </td><td>0.369   </td><td>0.484   </td></tr>\n",
       "</tbody>\n",
       "</table>"
      ],
      "text/plain": [
       "y   0      1     2      3      4\n",
       "   -0.199  0.54  0.807  0.369  0.484"
      ]
     },
     "execution_count": 142,
     "metadata": {},
     "output_type": "execute_result"
    }
   ],
   "source": [
    "np.mean(g['b'], axis='x') + np.std(g['a'], axis='x')"
   ]
  },
  {
   "cell_type": "code",
   "execution_count": 143,
   "metadata": {},
   "outputs": [],
   "source": [
    "g['c'] = np.sqrt(g['x']) * np.sqrt(g['y'])"
   ]
  },
  {
   "cell_type": "code",
   "execution_count": 144,
   "metadata": {},
   "outputs": [
    {
     "data": {
      "text/plain": [
       "<matplotlib.collections.QuadMesh at 0x7f17ccb25c88>"
      ]
     },
     "execution_count": 144,
     "metadata": {},
     "output_type": "execute_result"
    },
    {
     "data": {
      "image/png": "[encoded data removed]",
      "text/plain": [
       "<Figure size 432x288 with 2 Axes>"
      ]
     },
     "metadata": {
      "needs_background": "light"
     },
     "output_type": "display_data"
    }
   ],
   "source": [
    "g.plot('c', cbar=True)"
   ]
  },
  {
   "cell_type": "code",
   "execution_count": 145,
   "metadata": {},
   "outputs": [],
   "source": [
    "g['m'] = np.arange(g.grid.size * 3).reshape(g.shape + (-1,))"
   ]
  },
  {
   "cell_type": "code",
   "execution_count": 146,
   "metadata": {},
   "outputs": [
    {
     "name": "stderr",
     "output_type": "stream",
     "text": [
      "Clipping input data to the valid range for imshow with RGB data ([0..1] for floats or [0..255] for integers).\n"
     ]
    },
    {
     "data": {
      "text/plain": [
       "<matplotlib.image.AxesImage at 0x7f17ccb1c6d8>"
      ]
     },
     "execution_count": 146,
     "metadata": {},
     "output_type": "execute_result"
    },
    {
     "data": {
      "image/png": "[encoded data removed]",
      "text/plain": [
       "<Figure size 432x288 with 1 Axes>"
      ]
     },
     "metadata": {
      "needs_background": "light"
     },
     "output_type": "display_data"
    }
   ],
   "source": [
    "g.plot('m') #it's interpreted as an RGB image, since the excess dimension is 3"
   ]
  },
  {
   "cell_type": "code",
   "execution_count": 147,
   "metadata": {},
   "outputs": [
    {
     "data": {
      "text/html": [
       "<table>\n",
       "<tbody>\n",
       "<tr><td><b>y \\ x</b></td><td><b>[-0.5 | 0 | 0.5]</b></td><td><b>[0.5 | 1 | 1.5]</b></td><td><b>[1.5 | 2 | 2.5]</b></td><td><b>[2.5 | 3 | 3.5]</b></td><td><b>[3.5 | 4 | 4.5]</b></td><td><b>[4.5 | 5 | 5.5]</b></td><td>...</td><td><b>[13.5 | 14 | 14.5]</b></td><td><b>[14.5 | 15 | 15.5]</b></td><td><b>[15.5 | 16 | 16.5]</b></td><td><b>[16.5 | 17 | 17.5]</b></td><td><b>[17.5 | 18 | 18.5]</b></td><td><b>[18.5 | 19 | 19.5]</b></td></tr>\n",
       "<tr><td><b>0</b>    </td><td>0                      </td><td>15                    </td><td>30                    </td><td>45                    </td><td>60                    </td><td>75                    </td><td>...</td><td>210                      </td><td>225                      </td><td>240                      </td><td>255                      </td><td>270                      </td><td>285                      </td></tr>\n",
       "<tr><td><b>1</b>    </td><td>3                      </td><td>18                    </td><td>33                    </td><td>48                    </td><td>63                    </td><td>78                    </td><td>...</td><td>213                      </td><td>228                      </td><td>243                      </td><td>258                      </td><td>273                      </td><td>288                      </td></tr>\n",
       "<tr><td><b>2</b>    </td><td>6                      </td><td>21                    </td><td>36                    </td><td>51                    </td><td>66                    </td><td>81                    </td><td>...</td><td>216                      </td><td>231                      </td><td>246                      </td><td>261                      </td><td>276                      </td><td>291                      </td></tr>\n",
       "<tr><td><b>3</b>    </td><td>9                      </td><td>24                    </td><td>39                    </td><td>54                    </td><td>69                    </td><td>84                    </td><td>...</td><td>219                      </td><td>234                      </td><td>249                      </td><td>264                      </td><td>279                      </td><td>294                      </td></tr>\n",
       "<tr><td><b>4</b>    </td><td>12                     </td><td>27                    </td><td>42                    </td><td>57                    </td><td>72                    </td><td>87                    </td><td>...</td><td>222                      </td><td>237                      </td><td>252                      </td><td>267                      </td><td>282                      </td><td>297                      </td></tr>\n",
       "</tbody>\n",
       "</table>"
      ],
      "text/plain": [
       "y \\ x  [-0.5 | 0 | 0.5]  [0.5 | 1 | 1.5]  [1.5 | 2 | 2.5]  [2.5 | 3 | 3.5]  [3.5 | 4 | 4.5]  [4.5 | 5 | 5.5]  ...  [13.5 | 14 | 14.5]  [14.5 | 15 | 15.5]  [15.5 | 16 | 16.5]  [16.5 | 17 | 17.5]  [17.5 | 18 | 18.5]  [18.5 | 19 | 19.5]\n",
       "0      0                 15               30               45               60               75               ...  210                 225                 240                 255                 270                 285\n",
       "1      3                 18               33               48               63               78               ...  213                 228                 243                 258                 273                 288\n",
       "2      6                 21               36               51               66               81               ...  216                 231                 246                 261                 276                 291\n",
       "3      9                 24               39               54               69               84               ...  219                 234                 249                 264                 279                 294\n",
       "4      12                27               42               57               72               87               ...  222                 237                 252                 267                 282                 297"
      ]
     },
     "execution_count": 147,
     "metadata": {},
     "output_type": "execute_result"
    }
   ],
   "source": [
    "g['m'][:,:,0]"
   ]
  },
  {
   "cell_type": "code",
   "execution_count": 148,
   "metadata": {},
   "outputs": [
    {
     "data": {
      "text/html": [
       "<table>\n",
       "<tbody>\n",
       "<tr><td><b>x</b></td><td><b>[-0.5 | 0 | 0.5]</b></td><td><b>[0.5 | 1 | 1.5]</b></td><td><b>[1.5 | 2 | 2.5]</b></td><td><b>[2.5 | 3 | 3.5]</b></td><td><b>[3.5 | 4 | 4.5]</b></td><td><b>[4.5 | 5 | 5.5]</b></td><td>...</td><td><b>[13.5 | 14 | 14.5]</b></td><td><b>[14.5 | 15 | 15.5]</b></td><td><b>[15.5 | 16 | 16.5]</b></td><td><b>[16.5 | 17 | 17.5]</b></td><td><b>[17.5 | 18 | 18.5]</b></td><td><b>[18.5 | 19 | 19.5]</b></td></tr>\n",
       "<tr><td><b>a</b></td><td>0.224                  </td><td>0.234                 </td><td>0.502                 </td><td>0.191                 </td><td>0.934                 </td><td>0.402                 </td><td>...</td><td>0.808                    </td><td>0.673                    </td><td>0.135                    </td><td>0.156                    </td><td>0.674                    </td><td>0.868                    </td></tr>\n",
       "<tr><td><b>b</b></td><td>-1                     </td><td>-1                    </td><td>1                     </td><td>-1                    </td><td>1                     </td><td>-1                    </td><td>...</td><td>1                        </td><td>1                        </td><td>-1                       </td><td>-1                       </td><td>1                        </td><td>1                        </td></tr>\n",
       "<tr><td><b>c</b></td><td>0                      </td><td>1.73                  </td><td>2.45                  </td><td>3                     </td><td>3.46                  </td><td>3.87                  </td><td>...</td><td>6.48                     </td><td>6.71                     </td><td>6.93                     </td><td>7.14                     </td><td>7.35                     </td><td>7.55                     </td></tr>\n",
       "<tr><td><b>m</b></td><td>[ 9 10 11]             </td><td>[24 25 26]            </td><td>[39 40 41]            </td><td>[54 55 56]            </td><td>[69 70 71]            </td><td>[84 85 86]            </td><td>...</td><td>[219 220 221]            </td><td>[234 235 236]            </td><td>[249 250 251]            </td><td>[264 265 266]            </td><td>[279 280 281]            </td><td>[294 295 296]            </td></tr>\n",
       "</tbody>\n",
       "</table>"
      ],
      "text/plain": [
       "x  [-0.5 | 0 | 0.5]  [0.5 | 1 | 1.5]  [1.5 | 2 | 2.5]  [2.5 | 3 | 3.5]  [3.5 | 4 | 4.5]  [4.5 | 5 | 5.5]  ...  [13.5 | 14 | 14.5]  [14.5 | 15 | 15.5]  [15.5 | 16 | 16.5]  [16.5 | 17 | 17.5]  [17.5 | 18 | 18.5]  [18.5 | 19 | 19.5]\n",
       "a  0.224             0.234            0.502            0.191            0.934            0.402            ...  0.808               0.673               0.135               0.156               0.674               0.868\n",
       "b  -1                -1               1                -1               1                -1               ...  1                   1                   -1                  -1                  1                   1\n",
       "c  0                 1.73             2.45             3                3.46             3.87             ...  6.48                6.71                6.93                7.14                7.35                7.55\n",
       "m  [ 9 10 11]        [24 25 26]       [39 40 41]       [54 55 56]       [69 70 71]       [84 85 86]       ...  [219 220 221]       [234 235 236]       [249 250 251]       [264 265 266]       [279 280 281]       [294 295 296]"
      ]
     },
     "execution_count": 148,
     "metadata": {},
     "output_type": "execute_result"
    }
   ],
   "source": [
    "g[:,3]"
   ]
  },
  {
   "cell_type": "code",
   "execution_count": 149,
   "metadata": {},
   "outputs": [
    {
     "data": {
      "text/html": [
       "<table>\n",
       "<tbody>\n",
       "<tr><td><b>y \\ x</b></td><td><b>[-0.5 | 0 | 0.5]</b></td><td><b>[0.5 | 1 | 1.5]</b></td><td><b>[1.5 | 2 | 2.5]</b></td><td><b>[2.5 | 3 | 3.5]</b></td><td><b>[3.5 | 4 | 4.5]</b></td><td><b>[4.5 | 5 | 5.5]</b></td><td>...</td><td><b>[13.5 | 14 | 14.5]</b></td><td><b>[14.5 | 15 | 15.5]</b></td><td><b>[15.5 | 16 | 16.5]</b></td><td><b>[16.5 | 17 | 17.5]</b></td><td><b>[17.5 | 18 | 18.5]</b></td><td><b>[18.5 | 19 | 19.5]</b></td></tr>\n",
       "<tr><td><b>0</b>    </td><td>[0 1 2]                </td><td>[15 16 17]            </td><td>[30 31 32]            </td><td>[45 46 47]            </td><td>[60 61 62]            </td><td>[75 76 77]            </td><td>...</td><td>[210 211 212]            </td><td>[225 226 227]            </td><td>[240 241 242]            </td><td>[255 256 257]            </td><td>[270 271 272]            </td><td>[285 286 287]            </td></tr>\n",
       "<tr><td><b>1</b>    </td><td>[3 4 5]                </td><td>[18 19 20]            </td><td>[33 34 35]            </td><td>[48 49 50]            </td><td>[63 64 65]            </td><td>[78 79 80]            </td><td>...</td><td>[213 214 215]            </td><td>[228 229 230]            </td><td>[243 244 245]            </td><td>[258 259 260]            </td><td>[273 274 275]            </td><td>[288 289 290]            </td></tr>\n",
       "<tr><td><b>2</b>    </td><td>[6 7 8]                </td><td>[21 22 23]            </td><td>[36 37 38]            </td><td>[51 52 53]            </td><td>[66 67 68]            </td><td>[81 82 83]            </td><td>...</td><td>[216 217 218]            </td><td>[231 232 233]            </td><td>[246 247 248]            </td><td>[261 262 263]            </td><td>[276 277 278]            </td><td>[291 292 293]            </td></tr>\n",
       "<tr><td><b>3</b>    </td><td>[ 9 10 11]             </td><td>[24 25 26]            </td><td>[39 40 41]            </td><td>[54 55 56]            </td><td>[69 70 71]            </td><td>[84 85 86]            </td><td>...</td><td>[219 220 221]            </td><td>[234 235 236]            </td><td>[249 250 251]            </td><td>[264 265 266]            </td><td>[279 280 281]            </td><td>[294 295 296]            </td></tr>\n",
       "<tr><td><b>4</b>    </td><td>[12 13 14]             </td><td>[27 28 29]            </td><td>[42 43 44]            </td><td>[57 58 59]            </td><td>[72 73 74]            </td><td>[87 88 89]            </td><td>...</td><td>[222 223 224]            </td><td>[237 238 239]            </td><td>[252 253 254]            </td><td>[267 268 269]            </td><td>[282 283 284]            </td><td>[297 298 299]            </td></tr>\n",
       "</tbody>\n",
       "</table>"
      ],
      "text/plain": [
       "y \\ x  [-0.5 | 0 | 0.5]  [0.5 | 1 | 1.5]  [1.5 | 2 | 2.5]  [2.5 | 3 | 3.5]  [3.5 | 4 | 4.5]  [4.5 | 5 | 5.5]  ...  [13.5 | 14 | 14.5]  [14.5 | 15 | 15.5]  [15.5 | 16 | 16.5]  [16.5 | 17 | 17.5]  [17.5 | 18 | 18.5]  [18.5 | 19 | 19.5]\n",
       "0      [0 1 2]           [15 16 17]       [30 31 32]       [45 46 47]       [60 61 62]       [75 76 77]       ...  [210 211 212]       [225 226 227]       [240 241 242]       [255 256 257]       [270 271 272]       [285 286 287]\n",
       "1      [3 4 5]           [18 19 20]       [33 34 35]       [48 49 50]       [63 64 65]       [78 79 80]       ...  [213 214 215]       [228 229 230]       [243 244 245]       [258 259 260]       [273 274 275]       [288 289 290]\n",
       "2      [6 7 8]           [21 22 23]       [36 37 38]       [51 52 53]       [66 67 68]       [81 82 83]       ...  [216 217 218]       [231 232 233]       [246 247 248]       [261 262 263]       [276 277 278]       [291 292 293]\n",
       "3      [ 9 10 11]        [24 25 26]       [39 40 41]       [54 55 56]       [69 70 71]       [84 85 86]       ...  [219 220 221]       [234 235 236]       [249 250 251]       [264 265 266]       [279 280 281]       [294 295 296]\n",
       "4      [12 13 14]        [27 28 29]       [42 43 44]       [57 58 59]       [72 73 74]       [87 88 89]       ...  [222 223 224]       [237 238 239]       [252 253 254]       [267 268 269]       [282 283 284]       [297 298 299]"
      ]
     },
     "execution_count": 149,
     "metadata": {},
     "output_type": "execute_result"
    }
   ],
   "source": [
    "g['m']"
   ]
  },
  {
   "cell_type": "code",
   "execution_count": 150,
   "metadata": {},
   "outputs": [
    {
     "data": {
      "text/plain": [
       "('a',\n",
       " y \\ x  [-0.5 | 0 | 0.5]  [0.5 | 1 | 1.5]  [1.5 | 2 | 2.5]  [2.5 | 3 | 3.5]  [3.5 | 4 | 4.5]  [4.5 | 5 | 5.5]  ...  [13.5 | 14 | 14.5]  [14.5 | 15 | 15.5]  [15.5 | 16 | 16.5]  [16.5 | 17 | 17.5]  [17.5 | 18 | 18.5]  [18.5 | 19 | 19.5]\n",
       " 0      0.644             0.962            0.488            0.0336           0.448            0.219            ...  0.0345              0.785               0.302               0.207               0.872               0.0973\n",
       " 1      0.692             0.933            0.169            0.994            0.0931           0.85             ...  0.122               0.252               0.808               0.915               0.376               0.149\n",
       " 2      0.605             0.916            0.115            0.787            0.836            0.333            ...  0.849               0.802               0.0165              0.691               0.0436              0.954\n",
       " 3      0.224             0.234            0.502            0.191            0.934            0.402            ...  0.808               0.673               0.135               0.156               0.674               0.868\n",
       " 4      0.77              0.694            0.729            0.918            0.0419           0.738            ...  0.0429              0.0825              0.369               0.373               0.599               0.681)"
      ]
     },
     "execution_count": 150,
     "metadata": {},
     "output_type": "execute_result"
    }
   ],
   "source": [
    "g.items()[0]"
   ]
  },
  {
   "cell_type": "code",
   "execution_count": 151,
   "metadata": {},
   "outputs": [
    {
     "data": {
      "text/html": [
       "<table>\n",
       "<tbody>\n",
       "<tr><td><b>x \\ y</b>          </td><td><b>0</b>  </td><td><b>1</b>  </td><td><b>2</b>  </td><td><b>3</b>  </td><td><b>4</b>  </td></tr>\n",
       "<tr><td><b>[2.5 | 3 | 3.5]</b></td><td>[45 46 47]</td><td>[48 49 50]</td><td>[51 52 53]</td><td>[54 55 56]</td><td>[57 58 59]</td></tr>\n",
       "<tr><td><b>[3.5 | 4 | 4.5]</b></td><td>[60 61 62]</td><td>[63 64 65]</td><td>[66 67 68]</td><td>[69 70 71]</td><td>[72 73 74]</td></tr>\n",
       "</tbody>\n",
       "</table>"
      ],
      "text/plain": [
       "x \\ y            0           1           2           3           4\n",
       "[2.5 | 3 | 3.5]  [45 46 47]  [48 49 50]  [51 52 53]  [54 55 56]  [57 58 59]\n",
       "[3.5 | 4 | 4.5]  [60 61 62]  [63 64 65]  [66 67 68]  [69 70 71]  [72 73 74]"
      ]
     },
     "execution_count": 151,
     "metadata": {},
     "output_type": "execute_result"
    }
   ],
   "source": [
    "g.T[:,3:5]['m']"
   ]
  },
  {
   "cell_type": "code",
   "execution_count": 152,
   "metadata": {},
   "outputs": [
    {
     "data": {
      "text/plain": [
       "OrderedDict([('a', 51.502544357021975),\n",
       "             ('b', 10.0),\n",
       "             ('c', 351.52847238221136),\n",
       "             ('m', 44850)])"
      ]
     },
     "execution_count": 152,
     "metadata": {},
     "output_type": "execute_result"
    }
   ],
   "source": [
    "np.sum(g)"
   ]
  },
  {
   "cell_type": "code",
   "execution_count": 153,
   "metadata": {},
   "outputs": [
    {
     "data": {
      "text/html": [
       "<table>\n",
       "<tbody>\n",
       "<tr><td><b>y</b></td><td><b>0</b>        </td><td><b>1</b>        </td><td><b>2</b>        </td><td><b>3</b>        </td><td><b>4</b>        </td></tr>\n",
       "<tr><td><b>a</b></td><td>7.31            </td><td>11.8            </td><td>11.7            </td><td>10.1            </td><td>10.6            </td></tr>\n",
       "<tr><td><b>b</b></td><td>-10             </td><td>4               </td><td>10              </td><td>2               </td><td>4               </td></tr>\n",
       "<tr><td><b>c</b></td><td>0               </td><td>57.2            </td><td>80.9            </td><td>99.1            </td><td>114             </td></tr>\n",
       "<tr><td><b>m</b></td><td>[2850 2870 2890]</td><td>[2910 2930 2950]</td><td>[2970 2990 3010]</td><td>[3030 3050 3070]</td><td>[3090 3110 3130]</td></tr>\n",
       "</tbody>\n",
       "</table>"
      ],
      "text/plain": [
       "y  0                 1                 2                 3                 4\n",
       "a  7.31              11.8              11.7              10.1              10.6\n",
       "b  -10               4                 10                2                 4\n",
       "c  0                 57.2              80.9              99.1              114\n",
       "m  [2850 2870 2890]  [2910 2930 2950]  [2970 2990 3010]  [3030 3050 3070]  [3090 3110 3130]"
      ]
     },
     "execution_count": 153,
     "metadata": {},
     "output_type": "execute_result"
    }
   ],
   "source": [
    "np.sum(g, axis=(0))"
   ]
  },
  {
   "cell_type": "markdown",
   "metadata": {},
   "source": [
    "# Stuff to fix"
   ]
  },
  {
   "cell_type": "code",
   "execution_count": 154,
   "metadata": {},
   "outputs": [
    {
     "data": {
      "text/plain": [
       "array([14850, 14950, 15050])"
      ]
     },
     "execution_count": 154,
     "metadata": {},
     "output_type": "execute_result"
    }
   ],
   "source": [
    "np.sum(g['m'], axis=(0,1))"
   ]
  },
  {
   "cell_type": "code",
   "execution_count": 155,
   "metadata": {},
   "outputs": [
    {
     "data": {
      "text/plain": [
       "Grid(\n",
       "Axis(\"x\",\n",
       "points = array([ 0,  1,  2,  3,  4,  5,  6,  7,  8,  9, 10, 11, 12, 13, 14, 15, 16,\n",
       "       17, 18, 19]),\n",
       "edges = edges: array([[-0.5,  0.5],\n",
       "       [ 0.5,  1.5],\n",
       "       [ 1.5,  2.5],\n",
       "       [ 2.5,  3.5],\n",
       "       [ 3.5,  4.5],\n",
       "       [ 4.5,  5.5],\n",
       "       [ 5.5,  6.5],\n",
       "       [ 6.5,  7.5],\n",
       "       [ 7.5,  8.5],\n",
       "       [ 8.5,  9.5],\n",
       "       [ 9.5, 10.5],\n",
       "       [10.5, 11.5],\n",
       "       [11.5, 12.5],\n",
       "       [12.5, 13.5],\n",
       "       [13.5, 14.5],\n",
       "       [14.5, 15.5],\n",
       "       [15.5, 16.5],\n",
       "       [16.5, 17.5],\n",
       "       [17.5, 18.5],\n",
       "       [18.5, 19.5]]))\n",
       "nbins = 20),\n",
       "Axis(\"y\",\n",
       "points = array([0, 1, 2, 3, 4]),\n",
       "edges = edges: None)\n",
       "nbins = 5),)"
      ]
     },
     "execution_count": 155,
     "metadata": {},
     "output_type": "execute_result"
    }
   ],
   "source": [
    "# because of this\n",
    "np.sum(g['m'], axis=-1).grid"
   ]
  },
  {
   "cell_type": "code",
   "execution_count": 156,
   "metadata": {},
   "outputs": [
    {
     "data": {
      "text/html": [
       "<table>\n",
       "<tbody>\n",
       "<tr><td><b>y \\ x</b></td><td><b>[-0.5 | 0 | 0.5]</b></td><td><b>[0.5 | 1 | 1.5]</b></td><td><b>[1.5 | 2 | 2.5]</b></td><td><b>[2.5 | 3 | 3.5]</b></td><td><b>[3.5 | 4 | 4.5]</b></td><td><b>[4.5 | 5 | 5.5]</b></td><td>...</td><td><b>[13.5 | 14 | 14.5]</b></td><td><b>[14.5 | 15 | 15.5]</b></td><td><b>[15.5 | 16 | 16.5]</b></td><td><b>[16.5 | 17 | 17.5]</b></td><td><b>[17.5 | 18 | 18.5]</b></td><td><b>[18.5 | 19 | 19.5]</b></td></tr>\n",
       "<tr><td><b>0</b>    </td><td>3                      </td><td>48                    </td><td>93                    </td><td>138                   </td><td>183                   </td><td>228                   </td><td>...</td><td>633                      </td><td>678                      </td><td>723                      </td><td>768                      </td><td>813                      </td><td>858                      </td></tr>\n",
       "<tr><td><b>1</b>    </td><td>12                     </td><td>57                    </td><td>102                   </td><td>147                   </td><td>192                   </td><td>237                   </td><td>...</td><td>642                      </td><td>687                      </td><td>732                      </td><td>777                      </td><td>822                      </td><td>867                      </td></tr>\n",
       "<tr><td><b>2</b>    </td><td>21                     </td><td>66                    </td><td>111                   </td><td>156                   </td><td>201                   </td><td>246                   </td><td>...</td><td>651                      </td><td>696                      </td><td>741                      </td><td>786                      </td><td>831                      </td><td>876                      </td></tr>\n",
       "<tr><td><b>3</b>    </td><td>30                     </td><td>75                    </td><td>120                   </td><td>165                   </td><td>210                   </td><td>255                   </td><td>...</td><td>660                      </td><td>705                      </td><td>750                      </td><td>795                      </td><td>840                      </td><td>885                      </td></tr>\n",
       "<tr><td><b>4</b>    </td><td>39                     </td><td>84                    </td><td>129                   </td><td>174                   </td><td>219                   </td><td>264                   </td><td>...</td><td>669                      </td><td>714                      </td><td>759                      </td><td>804                      </td><td>849                      </td><td>894                      </td></tr>\n",
       "</tbody>\n",
       "</table>"
      ],
      "text/plain": [
       "y \\ x  [-0.5 | 0 | 0.5]  [0.5 | 1 | 1.5]  [1.5 | 2 | 2.5]  [2.5 | 3 | 3.5]  [3.5 | 4 | 4.5]  [4.5 | 5 | 5.5]  ...  [13.5 | 14 | 14.5]  [14.5 | 15 | 15.5]  [15.5 | 16 | 16.5]  [16.5 | 17 | 17.5]  [17.5 | 18 | 18.5]  [18.5 | 19 | 19.5]\n",
       "0      3                 48               93               138              183              228              ...  633                 678                 723                 768                 813                 858\n",
       "1      12                57               102              147              192              237              ...  642                 687                 732                 777                 822                 867\n",
       "2      21                66               111              156              201              246              ...  651                 696                 741                 786                 831                 876\n",
       "3      30                75               120              165              210              255              ...  660                 705                 750                 795                 840                 885\n",
       "4      39                84               129              174              219              264              ...  669                 714                 759                 804                 849                 894"
      ]
     },
     "execution_count": 156,
     "metadata": {},
     "output_type": "execute_result"
    }
   ],
   "source": [
    "np.sum(g['m'], axis=-1)"
   ]
  },
  {
   "cell_type": "code",
   "execution_count": null,
   "metadata": {},
   "outputs": [],
   "source": []
  },
  {
   "cell_type": "code",
   "execution_count": 157,
   "metadata": {},
   "outputs": [
    {
     "data": {
      "text/html": [
       "<table>\n",
       "<tbody>\n",
       "<tr><td><b>y \\ x</b></td><td><b>[-0.5 | 0 | 0.5]</b></td><td><b>[0.5 | 1 | 1.5]</b></td><td><b>[1.5 | 2 | 2.5]</b></td><td><b>[2.5 | 3 | 3.5]</b></td><td><b>[3.5 | 4 | 4.5]</b></td><td><b>[4.5 | 5 | 5.5]</b></td><td>...</td><td><b>[13.5 | 14 | 14.5]</b></td><td><b>[14.5 | 15 | 15.5]</b></td><td><b>[15.5 | 16 | 16.5]</b></td><td><b>[16.5 | 17 | 17.5]</b></td><td><b>[17.5 | 18 | 18.5]</b></td><td><b>[18.5 | 19 | 19.5]</b></td></tr>\n",
       "<tr><td><b>0</b>    </td><td>-0.932                 </td><td>-1.89                 </td><td>-0.463                </td><td>0.899                 </td><td>-0.345                </td><td>0.343                 </td><td>...</td><td>0.896                    </td><td>-1.36                    </td><td>0.0941                   </td><td>0.378                    </td><td>-1.62                    </td><td>0.708                    </td></tr>\n",
       "<tr><td><b>1</b>    </td><td>-1.07                  </td><td>-1.8                  </td><td>0.494                 </td><td>-1.98                 </td><td>0.721                 </td><td>-1.55                 </td><td>...</td><td>0.634                    </td><td>0.244                    </td><td>-1.42                    </td><td>-1.74                    </td><td>-0.127                   </td><td>0.554                    </td></tr>\n",
       "<tr><td><b>2</b>    </td><td>-0.814                 </td><td>-1.75                 </td><td>0.656                 </td><td>-1.36                 </td><td>-1.51                 </td><td>0.000269              </td><td>...</td><td>-1.55                    </td><td>-1.41                    </td><td>0.951                    </td><td>-1.07                    </td><td>0.869                    </td><td>-1.86                    </td></tr>\n",
       "<tr><td><b>3</b>    </td><td>0.327                  </td><td>0.297                 </td><td>-0.505                </td><td>0.428                 </td><td>-1.8                  </td><td>-0.207                </td><td>...</td><td>-1.43                    </td><td>-1.02                    </td><td>0.596                    </td><td>0.533                    </td><td>-1.02                    </td><td>-1.61                    </td></tr>\n",
       "<tr><td><b>4</b>    </td><td>-1.31                  </td><td>-1.08                 </td><td>-1.19                 </td><td>-1.75                 </td><td>0.874                 </td><td>-1.21                 </td><td>...</td><td>0.871                    </td><td>0.752                    </td><td>-0.106                   </td><td>-0.118                   </td><td>-0.797                   </td><td>-1.04                    </td></tr>\n",
       "</tbody>\n",
       "</table>"
      ],
      "text/plain": [
       "y \\ x  [-0.5 | 0 | 0.5]  [0.5 | 1 | 1.5]  [1.5 | 2 | 2.5]  [2.5 | 3 | 3.5]  [3.5 | 4 | 4.5]  [4.5 | 5 | 5.5]  ...  [13.5 | 14 | 14.5]  [14.5 | 15 | 15.5]  [15.5 | 16 | 16.5]  [16.5 | 17 | 17.5]  [17.5 | 18 | 18.5]  [18.5 | 19 | 19.5]\n",
       "0      -0.932            -1.89            -0.463           0.899            -0.345           0.343            ...  0.896               -1.36               0.0941              0.378               -1.62               0.708\n",
       "1      -1.07             -1.8             0.494            -1.98            0.721            -1.55            ...  0.634               0.244               -1.42               -1.74               -0.127              0.554\n",
       "2      -0.814            -1.75            0.656            -1.36            -1.51            0.000269         ...  -1.55               -1.41               0.951               -1.07               0.869               -1.86\n",
       "3      0.327             0.297            -0.505           0.428            -1.8             -0.207           ...  -1.43               -1.02               0.596               0.533               -1.02               -1.61\n",
       "4      -1.31             -1.08            -1.19            -1.75            0.874            -1.21            ...  0.871               0.752               -0.106              -0.118              -0.797              -1.04"
      ]
     },
     "execution_count": 157,
     "metadata": {},
     "output_type": "execute_result"
    }
   ],
   "source": [
    "1 - 3 * g['a']"
   ]
  },
  {
   "cell_type": "code",
   "execution_count": 158,
   "metadata": {},
   "outputs": [
    {
     "data": {
      "text/plain": [
       "4"
      ]
     },
     "execution_count": 158,
     "metadata": {},
     "output_type": "execute_result"
    }
   ],
   "source": [
    "2 ** g['a']"
   ]
  },
  {
   "cell_type": "code",
   "execution_count": 159,
   "metadata": {},
   "outputs": [
    {
     "data": {
      "text/html": [
       "<table>\n",
       "<tbody>\n",
       "<tr><td><b>y \\ x</b></td><td><b>[-0.5 | 0 | 0.5]</b></td><td><b>[0.5 | 1 | 1.5]</b></td><td><b>[1.5 | 2 | 2.5]</b></td><td><b>[2.5 | 3 | 3.5]</b></td><td><b>[3.5 | 4 | 4.5]</b></td><td><b>[4.5 | 5 | 5.5]</b></td><td>...</td><td><b>[13.5 | 14 | 14.5]</b></td><td><b>[14.5 | 15 | 15.5]</b></td><td><b>[15.5 | 16 | 16.5]</b></td><td><b>[16.5 | 17 | 17.5]</b></td><td><b>[17.5 | 18 | 18.5]</b></td><td><b>[18.5 | 19 | 19.5]</b></td></tr>\n",
       "<tr><td><b>0</b>    </td><td>0.644                  </td><td>0.962                 </td><td>0.488                 </td><td>0.0336                </td><td>0.448                 </td><td>0.219                 </td><td>...</td><td>0.0345                   </td><td>0.785                    </td><td>0.302                    </td><td>0.207                    </td><td>0.872                    </td><td>0.0973                   </td></tr>\n",
       "<tr><td><b>1</b>    </td><td>0.692                  </td><td>0.933                 </td><td>0.169                 </td><td>0.994                 </td><td>0.0931                </td><td>0.85                  </td><td>...</td><td>0.122                    </td><td>0.252                    </td><td>0.808                    </td><td>0.915                    </td><td>0.376                    </td><td>0.149                    </td></tr>\n",
       "<tr><td><b>2</b>    </td><td>0.605                  </td><td>0.916                 </td><td>0.115                 </td><td>0.787                 </td><td>0.836                 </td><td>0.333                 </td><td>...</td><td>0.849                    </td><td>0.802                    </td><td>0.0165                   </td><td>0.691                    </td><td>0.0436                   </td><td>0.954                    </td></tr>\n",
       "<tr><td><b>3</b>    </td><td>0.224                  </td><td>0.234                 </td><td>0.502                 </td><td>0.191                 </td><td>0.934                 </td><td>0.402                 </td><td>...</td><td>0.808                    </td><td>0.673                    </td><td>0.135                    </td><td>0.156                    </td><td>0.674                    </td><td>0.868                    </td></tr>\n",
       "<tr><td><b>4</b>    </td><td>0.77                   </td><td>0.694                 </td><td>0.729                 </td><td>0.918                 </td><td>0.0419                </td><td>0.738                 </td><td>...</td><td>0.0429                   </td><td>0.0825                   </td><td>0.369                    </td><td>0.373                    </td><td>0.599                    </td><td>0.681                    </td></tr>\n",
       "</tbody>\n",
       "</table>"
      ],
      "text/plain": [
       "y \\ x  [-0.5 | 0 | 0.5]  [0.5 | 1 | 1.5]  [1.5 | 2 | 2.5]  [2.5 | 3 | 3.5]  [3.5 | 4 | 4.5]  [4.5 | 5 | 5.5]  ...  [13.5 | 14 | 14.5]  [14.5 | 15 | 15.5]  [15.5 | 16 | 16.5]  [16.5 | 17 | 17.5]  [17.5 | 18 | 18.5]  [18.5 | 19 | 19.5]\n",
       "0      0.644             0.962            0.488            0.0336           0.448            0.219            ...  0.0345              0.785               0.302               0.207               0.872               0.0973\n",
       "1      0.692             0.933            0.169            0.994            0.0931           0.85             ...  0.122               0.252               0.808               0.915               0.376               0.149\n",
       "2      0.605             0.916            0.115            0.787            0.836            0.333            ...  0.849               0.802               0.0165              0.691               0.0436              0.954\n",
       "3      0.224             0.234            0.502            0.191            0.934            0.402            ...  0.808               0.673               0.135               0.156               0.674               0.868\n",
       "4      0.77              0.694            0.729            0.918            0.0419           0.738            ...  0.0429              0.0825              0.369               0.373               0.599               0.681"
      ]
     },
     "execution_count": 159,
     "metadata": {},
     "output_type": "execute_result"
    }
   ],
   "source": [
    "g['a']"
   ]
  },
  {
   "cell_type": "code",
   "execution_count": null,
   "metadata": {},
   "outputs": [],
   "source": []
  },
  {
   "cell_type": "code",
   "execution_count": 160,
   "metadata": {},
   "outputs": [
    {
     "data": {
      "text/html": [
       "<table>\n",
       "<tbody>\n",
       "<tr><td><b>y \\ x</b></td><td><b>[-0.5 | 0 | 0.5]</b></td><td><b>[0.5 | 1 | 1.5]</b></td><td><b>[1.5 | 2 | 2.5]</b></td><td><b>[2.5 | 3 | 3.5]</b></td><td><b>[3.5 | 4 | 4.5]</b></td><td><b>[4.5 | 5 | 5.5]</b></td><td>...</td><td><b>[13.5 | 14 | 14.5]</b></td><td><b>[14.5 | 15 | 15.5]</b></td><td><b>[15.5 | 16 | 16.5]</b></td><td><b>[16.5 | 17 | 17.5]</b></td><td><b>[17.5 | 18 | 18.5]</b></td><td><b>[18.5 | 19 | 19.5]</b></td></tr>\n",
       "<tr><td><b>0</b>    </td><td>0.644                  </td><td>0.962                 </td><td>0.488                 </td><td>0.0336                </td><td>0.448                 </td><td>0.219                 </td><td>...</td><td>0.0345                   </td><td>0.785                    </td><td>0.302                    </td><td>0.207                    </td><td>0.872                    </td><td>0.0973                   </td></tr>\n",
       "<tr><td><b>1</b>    </td><td>0.692                  </td><td>0.933                 </td><td>0.169                 </td><td>0.994                 </td><td>0.0931                </td><td>0.85                  </td><td>...</td><td>0.122                    </td><td>0.252                    </td><td>0.808                    </td><td>0.915                    </td><td>0.376                    </td><td>0.149                    </td></tr>\n",
       "<tr><td><b>2</b>    </td><td>0.605                  </td><td>0.916                 </td><td>0.115                 </td><td>0.787                 </td><td>0.836                 </td><td>0.333                 </td><td>...</td><td>0.849                    </td><td>0.802                    </td><td>0.0165                   </td><td>0.691                    </td><td>0.0436                   </td><td>0.954                    </td></tr>\n",
       "<tr><td><b>3</b>    </td><td>0.224                  </td><td>0.234                 </td><td>0.502                 </td><td>0.191                 </td><td>0.934                 </td><td>0.402                 </td><td>...</td><td>0.808                    </td><td>0.673                    </td><td>0.135                    </td><td>0.156                    </td><td>0.674                    </td><td>0.868                    </td></tr>\n",
       "<tr><td><b>4</b>    </td><td>0.77                   </td><td>0.694                 </td><td>0.729                 </td><td>0.918                 </td><td>0.0419                </td><td>0.738                 </td><td>...</td><td>0.0429                   </td><td>0.0825                   </td><td>0.369                    </td><td>0.373                    </td><td>0.599                    </td><td>0.681                    </td></tr>\n",
       "</tbody>\n",
       "</table>"
      ],
      "text/plain": [
       "y \\ x  [-0.5 | 0 | 0.5]  [0.5 | 1 | 1.5]  [1.5 | 2 | 2.5]  [2.5 | 3 | 3.5]  [3.5 | 4 | 4.5]  [4.5 | 5 | 5.5]  ...  [13.5 | 14 | 14.5]  [14.5 | 15 | 15.5]  [15.5 | 16 | 16.5]  [16.5 | 17 | 17.5]  [17.5 | 18 | 18.5]  [18.5 | 19 | 19.5]\n",
       "0      0.644             0.962            0.488            0.0336           0.448            0.219            ...  0.0345              0.785               0.302               0.207               0.872               0.0973\n",
       "1      0.692             0.933            0.169            0.994            0.0931           0.85             ...  0.122               0.252               0.808               0.915               0.376               0.149\n",
       "2      0.605             0.916            0.115            0.787            0.836            0.333            ...  0.849               0.802               0.0165              0.691               0.0436              0.954\n",
       "3      0.224             0.234            0.502            0.191            0.934            0.402            ...  0.808               0.673               0.135               0.156               0.674               0.868\n",
       "4      0.77              0.694            0.729            0.918            0.0419           0.738            ...  0.0429              0.0825              0.369               0.373               0.599               0.681"
      ]
     },
     "execution_count": 160,
     "metadata": {},
     "output_type": "execute_result"
    }
   ],
   "source": [
    "g['a']"
   ]
  },
  {
   "cell_type": "code",
   "execution_count": 161,
   "metadata": {},
   "outputs": [],
   "source": [
    "a = g['a']"
   ]
  },
  {
   "cell_type": "code",
   "execution_count": 162,
   "metadata": {},
   "outputs": [
    {
     "data": {
      "text/html": [
       "<table>\n",
       "<tbody>\n",
       "<tr><td><b>y \\ x</b></td><td><b>[-0.5 | 0 | 0.5]</b></td><td><b>[0.5 | 1 | 1.5]</b></td><td><b>[1.5 | 2 | 2.5]</b></td><td><b>[2.5 | 3 | 3.5]</b></td><td><b>[3.5 | 4 | 4.5]</b></td><td><b>[4.5 | 5 | 5.5]</b></td><td>...</td><td><b>[13.5 | 14 | 14.5]</b></td><td><b>[14.5 | 15 | 15.5]</b></td><td><b>[15.5 | 16 | 16.5]</b></td><td><b>[16.5 | 17 | 17.5]</b></td><td><b>[17.5 | 18 | 18.5]</b></td><td><b>[18.5 | 19 | 19.5]</b></td></tr>\n",
       "<tr><td><b>0</b>    </td><td>0.644                  </td><td>0.962                 </td><td>0.488                 </td><td>0.0336                </td><td>0.448                 </td><td>0.219                 </td><td>...</td><td>0.0345                   </td><td>0.785                    </td><td>0.302                    </td><td>0.207                    </td><td>0.872                    </td><td>0.0973                   </td></tr>\n",
       "<tr><td><b>1</b>    </td><td>0.692                  </td><td>0.933                 </td><td>0.169                 </td><td>0.994                 </td><td>0.0931                </td><td>0.85                  </td><td>...</td><td>0.122                    </td><td>0.252                    </td><td>0.808                    </td><td>0.915                    </td><td>0.376                    </td><td>0.149                    </td></tr>\n",
       "<tr><td><b>2</b>    </td><td>0.605                  </td><td>0.916                 </td><td>0.115                 </td><td>0.787                 </td><td>0.836                 </td><td>0.333                 </td><td>...</td><td>0.849                    </td><td>0.802                    </td><td>0.0165                   </td><td>0.691                    </td><td>0.0436                   </td><td>0.954                    </td></tr>\n",
       "<tr><td><b>3</b>    </td><td>0.224                  </td><td>0.234                 </td><td>0.502                 </td><td>0.191                 </td><td>0.934                 </td><td>0.402                 </td><td>...</td><td>0.808                    </td><td>0.673                    </td><td>0.135                    </td><td>0.156                    </td><td>0.674                    </td><td>0.868                    </td></tr>\n",
       "<tr><td><b>4</b>    </td><td>0.77                   </td><td>0.694                 </td><td>0.729                 </td><td>0.918                 </td><td>0.0419                </td><td>0.738                 </td><td>...</td><td>0.0429                   </td><td>0.0825                   </td><td>0.369                    </td><td>0.373                    </td><td>0.599                    </td><td>0.681                    </td></tr>\n",
       "</tbody>\n",
       "</table>"
      ],
      "text/plain": [
       "y \\ x  [-0.5 | 0 | 0.5]  [0.5 | 1 | 1.5]  [1.5 | 2 | 2.5]  [2.5 | 3 | 3.5]  [3.5 | 4 | 4.5]  [4.5 | 5 | 5.5]  ...  [13.5 | 14 | 14.5]  [14.5 | 15 | 15.5]  [15.5 | 16 | 16.5]  [16.5 | 17 | 17.5]  [17.5 | 18 | 18.5]  [18.5 | 19 | 19.5]\n",
       "0      0.644             0.962            0.488            0.0336           0.448            0.219            ...  0.0345              0.785               0.302               0.207               0.872               0.0973\n",
       "1      0.692             0.933            0.169            0.994            0.0931           0.85             ...  0.122               0.252               0.808               0.915               0.376               0.149\n",
       "2      0.605             0.916            0.115            0.787            0.836            0.333            ...  0.849               0.802               0.0165              0.691               0.0436              0.954\n",
       "3      0.224             0.234            0.502            0.191            0.934            0.402            ...  0.808               0.673               0.135               0.156               0.674               0.868\n",
       "4      0.77              0.694            0.729            0.918            0.0419           0.738            ...  0.0429              0.0825              0.369               0.373               0.599               0.681"
      ]
     },
     "execution_count": 162,
     "metadata": {},
     "output_type": "execute_result"
    }
   ],
   "source": [
    "a"
   ]
  },
  {
   "cell_type": "code",
   "execution_count": 163,
   "metadata": {},
   "outputs": [
    {
     "data": {
      "text/html": [
       "<table>\n",
       "<tbody>\n",
       "<tr><td><b>y</b></td><td><b>0</b></td><td><b>1</b></td><td><b>2</b></td><td><b>3</b></td><td><b>4</b></td></tr>\n",
       "<tr><td><b></b> </td><td>0.366   </td><td>0.591   </td><td>0.583   </td><td>0.506   </td><td>0.529   </td></tr>\n",
       "</tbody>\n",
       "</table>"
      ],
      "text/plain": [
       "y  0      1      2      3      4\n",
       "   0.366  0.591  0.583  0.506  0.529"
      ]
     },
     "execution_count": 163,
     "metadata": {},
     "output_type": "execute_result"
    }
   ],
   "source": [
    "np.mean(a, axis='x')"
   ]
  },
  {
   "cell_type": "code",
   "execution_count": 164,
   "metadata": {},
   "outputs": [
    {
     "data": {
      "text/html": [
       "<table>\n",
       "<tbody>\n",
       "<tr><td><b>y \\ x</b></td><td><b>[-0.5 | 0 | 0.5]</b></td><td><b>[0.5 | 1 | 1.5]</b></td><td><b>[1.5 | 2 | 2.5]</b></td><td><b>[2.5 | 3 | 3.5]</b></td><td><b>[3.5 | 4 | 4.5]</b></td><td><b>[4.5 | 5 | 5.5]</b></td><td>...</td><td><b>[13.5 | 14 | 14.5]</b></td><td><b>[14.5 | 15 | 15.5]</b></td><td><b>[15.5 | 16 | 16.5]</b></td><td><b>[16.5 | 17 | 17.5]</b></td><td><b>[17.5 | 18 | 18.5]</b></td><td><b>[18.5 | 19 | 19.5]</b></td></tr>\n",
       "<tr><td><b>0</b>    </td><td>0.644                  </td><td>0.962                 </td><td>0.488                 </td><td>0.0336                </td><td>0.448                 </td><td>0.219                 </td><td>...</td><td>0.0345                   </td><td>0.785                    </td><td>0.302                    </td><td>0.207                    </td><td>0.872                    </td><td>0.0973                   </td></tr>\n",
       "<tr><td><b>1</b>    </td><td>0.692                  </td><td>0.933                 </td><td>0.169                 </td><td>0.994                 </td><td>0.0931                </td><td>0.85                  </td><td>...</td><td>0.122                    </td><td>0.252                    </td><td>0.808                    </td><td>0.915                    </td><td>0.376                    </td><td>0.149                    </td></tr>\n",
       "<tr><td><b>2</b>    </td><td>0.605                  </td><td>0.916                 </td><td>0.115                 </td><td>0.787                 </td><td>0.836                 </td><td>0.333                 </td><td>...</td><td>0.849                    </td><td>0.802                    </td><td>0.0165                   </td><td>0.691                    </td><td>0.0436                   </td><td>0.954                    </td></tr>\n",
       "<tr><td><b>3</b>    </td><td>0.224                  </td><td>0.234                 </td><td>0.502                 </td><td>0.191                 </td><td>0.934                 </td><td>0.402                 </td><td>...</td><td>0.808                    </td><td>0.673                    </td><td>0.135                    </td><td>0.156                    </td><td>0.674                    </td><td>0.868                    </td></tr>\n",
       "<tr><td><b>4</b>    </td><td>0.77                   </td><td>0.694                 </td><td>0.729                 </td><td>0.918                 </td><td>0.0419                </td><td>0.738                 </td><td>...</td><td>0.0429                   </td><td>0.0825                   </td><td>0.369                    </td><td>0.373                    </td><td>0.599                    </td><td>0.681                    </td></tr>\n",
       "</tbody>\n",
       "</table>"
      ],
      "text/plain": [
       "y \\ x  [-0.5 | 0 | 0.5]  [0.5 | 1 | 1.5]  [1.5 | 2 | 2.5]  [2.5 | 3 | 3.5]  [3.5 | 4 | 4.5]  [4.5 | 5 | 5.5]  ...  [13.5 | 14 | 14.5]  [14.5 | 15 | 15.5]  [15.5 | 16 | 16.5]  [16.5 | 17 | 17.5]  [17.5 | 18 | 18.5]  [18.5 | 19 | 19.5]\n",
       "0      0.644             0.962            0.488            0.0336           0.448            0.219            ...  0.0345              0.785               0.302               0.207               0.872               0.0973\n",
       "1      0.692             0.933            0.169            0.994            0.0931           0.85             ...  0.122               0.252               0.808               0.915               0.376               0.149\n",
       "2      0.605             0.916            0.115            0.787            0.836            0.333            ...  0.849               0.802               0.0165              0.691               0.0436              0.954\n",
       "3      0.224             0.234            0.502            0.191            0.934            0.402            ...  0.808               0.673               0.135               0.156               0.674               0.868\n",
       "4      0.77              0.694            0.729            0.918            0.0419           0.738            ...  0.0429              0.0825              0.369               0.373               0.599               0.681"
      ]
     },
     "execution_count": 164,
     "metadata": {},
     "output_type": "execute_result"
    }
   ],
   "source": [
    "a"
   ]
  },
  {
   "cell_type": "code",
   "execution_count": 165,
   "metadata": {},
   "outputs": [],
   "source": [
    "from scipy import ndimage"
   ]
  },
  {
   "cell_type": "code",
   "execution_count": 166,
   "metadata": {},
   "outputs": [
    {
     "data": {
      "text/plain": [
       "array([[0.72286697, 0.68945148, 0.58950145, 0.52380414, 0.59254262],\n",
       "       [0.68692037, 0.65014053, 0.56769238, 0.52740269, 0.59790508],\n",
       "       [0.52531237, 0.53663505, 0.51762998, 0.52960668, 0.61215114],\n",
       "       [0.40138065, 0.49495655, 0.54944572, 0.55598174, 0.58322591],\n",
       "       [0.37584067, 0.48936733, 0.57694285, 0.57075455, 0.53033633],\n",
       "       [0.36375351, 0.48638898, 0.56063543, 0.56793393, 0.55404008],\n",
       "       [0.33725391, 0.48130644, 0.53658475, 0.55450006, 0.58738849],\n",
       "       [0.35084014, 0.49072681, 0.51439583, 0.5291754 , 0.59151941],\n",
       "       [0.42103006, 0.54515514, 0.55402778, 0.53823195, 0.56307386],\n",
       "       [0.46282962, 0.56615708, 0.58650207, 0.54123487, 0.48714228],\n",
       "       [0.41059727, 0.51958065, 0.57465853, 0.53526698, 0.45851944],\n",
       "       [0.35283201, 0.47945387, 0.55192904, 0.52068711, 0.4850128 ],\n",
       "       [0.38866204, 0.49270688, 0.57376527, 0.56731331, 0.5733558 ],\n",
       "       [0.46129242, 0.54392722, 0.64320688, 0.63132051, 0.57751312],\n",
       "       [0.43812238, 0.51024883, 0.62027719, 0.58072691, 0.43763647],\n",
       "       [0.45641643, 0.48639039, 0.52185788, 0.45654097, 0.32917303],\n",
       "       [0.47990284, 0.50166191, 0.44778111, 0.36527123, 0.32023829],\n",
       "       [0.49032445, 0.51086066, 0.45374908, 0.40066716, 0.40329103],\n",
       "       [0.45565739, 0.46748618, 0.49835845, 0.53781879, 0.55534222],\n",
       "       [0.33452907, 0.41043263, 0.57122927, 0.67422883, 0.67509898]])"
      ]
     },
     "execution_count": 166,
     "metadata": {},
     "output_type": "execute_result"
    }
   ],
   "source": [
    "ndimage.gaussian_filter(a, sigma=1)"
   ]
  },
  {
   "cell_type": "code",
   "execution_count": 167,
   "metadata": {},
   "outputs": [
    {
     "data": {
      "text/html": [
       "<table>\n",
       "<tbody>\n",
       "<tr><td><b>y</b></td><td><b>0</b></td><td><b>1</b></td><td><b>2</b></td><td><b>3</b></td><td><b>4</b></td></tr>\n",
       "<tr><td><b></b> </td><td>0.26    </td><td>0.748   </td><td>0.679   </td><td>0.518   </td><td>0.628   </td></tr>\n",
       "</tbody>\n",
       "</table>"
      ],
      "text/plain": [
       "y  0     1      2      3      4\n",
       "   0.26  0.748  0.679  0.518  0.628"
      ]
     },
     "execution_count": 167,
     "metadata": {},
     "output_type": "execute_result"
    }
   ],
   "source": [
    "a.median(axis='x')"
   ]
  },
  {
   "cell_type": "code",
   "execution_count": 168,
   "metadata": {},
   "outputs": [
    {
     "data": {
      "text/html": [
       "<table>\n",
       "<tbody>\n",
       "<tr><td><b>y</b></td><td><b>0</b>                     </td><td><b>1</b>                     </td><td><b>2</b>                     </td><td><b>3</b>                     </td><td><b>4</b>                     </td><td>                             </td><td>   </td><td>                             </td><td>                             </td><td>                                 </td><td>                                 </td><td>                                 </td><td>                                 </td></tr>\n",
       "<tr><td><b></b> </td><td>[0.644 0.692 ... 0.224 0.77 ]</td><td>[1.606 1.625 ... 0.458 1.464]</td><td>[2.094 1.793 ... 0.96  2.193]</td><td>[2.127 2.787 ... 1.151 3.111]</td><td>[2.576 2.88  ... 2.085 3.153]</td><td>[2.794 3.73  ... 2.487 3.891]</td><td>...</td><td>[5.049 9.33  ... 7.61  8.481]</td><td>[5.834 9.582 ... 8.284 8.564]</td><td>[ 6.136 10.39  ...  8.418  8.933]</td><td>[ 6.343 11.305 ...  8.574  9.305]</td><td>[ 7.215 11.68  ...  9.248  9.904]</td><td>[ 7.312 11.829 ... 10.117 10.585]</td></tr>\n",
       "</tbody>\n",
       "</table>"
      ],
      "text/plain": [
       "y  0                              1                              2                              3                              4\n",
       "   [0.644 0.692 ... 0.224 0.77 ]  [1.606 1.625 ... 0.458 1.464]  [2.094 1.793 ... 0.96  2.193]  [2.127 2.787 ... 1.151 3.111]  [2.576 2.88  ... 2.085 3.153]  [2.794 3.73  ... 2.487 3.891]  ...  [5.049 9.33  ... 7.61  8.481]  [5.834 9.582 ... 8.284 8.564]  [ 6.136 10.39  ...  8.418  8.933]  [ 6.343 11.305 ...  8.574  9.305]  [ 7.215 11.68  ...  9.248  9.904]  [ 7.312 11.829 ... 10.117 10.585]"
      ]
     },
     "execution_count": 168,
     "metadata": {},
     "output_type": "execute_result"
    }
   ],
   "source": [
    "np.cumsum(a, axis=0)"
   ]
  },
  {
   "cell_type": "code",
   "execution_count": 169,
   "metadata": {},
   "outputs": [
    {
     "data": {
      "text/plain": [
       "dtype('float64')"
      ]
     },
     "execution_count": 169,
     "metadata": {},
     "output_type": "execute_result"
    }
   ],
   "source": [
    "a.dtype"
   ]
  },
  {
   "cell_type": "code",
   "execution_count": 170,
   "metadata": {},
   "outputs": [
    {
     "data": {
      "text/html": [
       "<table>\n",
       "<tbody>\n",
       "<tr><td><b>y \\ x</b></td><td><b>[-0.5 | 0 | 0.5]</b></td><td><b>[0.5 | 1 | 1.5]</b></td><td><b>[1.5 | 2 | 2.5]</b></td><td><b>[2.5 | 3 | 3.5]</b></td><td><b>[3.5 | 4 | 4.5]</b></td><td><b>[4.5 | 5 | 5.5]</b></td><td>...</td><td><b>[13.5 | 14 | 14.5]</b></td><td><b>[14.5 | 15 | 15.5]</b></td><td><b>[15.5 | 16 | 16.5]</b></td><td><b>[16.5 | 17 | 17.5]</b></td><td><b>[17.5 | 18 | 18.5]</b></td><td><b>[18.5 | 19 | 19.5]</b></td></tr>\n",
       "<tr><td><b>0</b>    </td><td>0.6                    </td><td>0.82                  </td><td>0.469                 </td><td>0.0336                </td><td>0.433                 </td><td>0.217                 </td><td>...</td><td>0.0345                   </td><td>0.707                    </td><td>0.297                    </td><td>0.206                    </td><td>0.766                    </td><td>0.0971                   </td></tr>\n",
       "<tr><td><b>1</b>    </td><td>0.638                  </td><td>0.803                 </td><td>0.168                 </td><td>0.838                 </td><td>0.093                 </td><td>0.751                 </td><td>...</td><td>0.122                    </td><td>0.249                    </td><td>0.723                    </td><td>0.792                    </td><td>0.367                    </td><td>0.148                    </td></tr>\n",
       "<tr><td><b>2</b>    </td><td>0.569                  </td><td>0.793                 </td><td>0.114                 </td><td>0.709                 </td><td>0.742                 </td><td>0.327                 </td><td>...</td><td>0.75                     </td><td>0.719                    </td><td>0.0165                   </td><td>0.637                    </td><td>0.0436                   </td><td>0.816                    </td></tr>\n",
       "<tr><td><b>3</b>    </td><td>0.222                  </td><td>0.232                 </td><td>0.481                 </td><td>0.19                  </td><td>0.804                 </td><td>0.392                 </td><td>...</td><td>0.723                    </td><td>0.624                    </td><td>0.134                    </td><td>0.155                    </td><td>0.624                    </td><td>0.763                    </td></tr>\n",
       "<tr><td><b>4</b>    </td><td>0.696                  </td><td>0.639                 </td><td>0.666                 </td><td>0.795                 </td><td>0.0418                </td><td>0.673                 </td><td>...</td><td>0.0429                   </td><td>0.0824                   </td><td>0.361                    </td><td>0.364                    </td><td>0.564                    </td><td>0.629                    </td></tr>\n",
       "</tbody>\n",
       "</table>"
      ],
      "text/plain": [
       "y \\ x  [-0.5 | 0 | 0.5]  [0.5 | 1 | 1.5]  [1.5 | 2 | 2.5]  [2.5 | 3 | 3.5]  [3.5 | 4 | 4.5]  [4.5 | 5 | 5.5]  ...  [13.5 | 14 | 14.5]  [14.5 | 15 | 15.5]  [15.5 | 16 | 16.5]  [16.5 | 17 | 17.5]  [17.5 | 18 | 18.5]  [18.5 | 19 | 19.5]\n",
       "0      0.6               0.82             0.469            0.0336           0.433            0.217            ...  0.0345              0.707               0.297               0.206               0.766               0.0971\n",
       "1      0.638             0.803            0.168            0.838            0.093            0.751            ...  0.122               0.249               0.723               0.792               0.367               0.148\n",
       "2      0.569             0.793            0.114            0.709            0.742            0.327            ...  0.75                0.719               0.0165              0.637               0.0436              0.816\n",
       "3      0.222             0.232            0.481            0.19             0.804            0.392            ...  0.723               0.624               0.134               0.155               0.624               0.763\n",
       "4      0.696             0.639            0.666            0.795            0.0418           0.673            ...  0.0429              0.0824              0.361               0.364               0.564               0.629"
      ]
     },
     "execution_count": 170,
     "metadata": {},
     "output_type": "execute_result"
    }
   ],
   "source": [
    "np.sin(a)"
   ]
  },
  {
   "cell_type": "code",
   "execution_count": 171,
   "metadata": {},
   "outputs": [
    {
     "ename": "AssertionError",
     "evalue": "Incompatible grids",
     "output_type": "error",
     "traceback": [
      "\u001b[0;31m---------------------------------------------------------------------------\u001b[0m",
      "\u001b[0;31mAssertionError\u001b[0m                            Traceback (most recent call last)",
      "\u001b[0;32m<ipython-input-171-988338763d84>\u001b[0m in \u001b[0;36m<module>\u001b[0;34m\u001b[0m\n\u001b[0;32m----> 1\u001b[0;31m \u001b[0ma\u001b[0m \u001b[0;34m*\u001b[0m \u001b[0ma\u001b[0m\u001b[0;34m.\u001b[0m\u001b[0mT\u001b[0m\u001b[0;34m\u001b[0m\u001b[0;34m\u001b[0m\u001b[0m\n\u001b[0m",
      "\u001b[0;32m~/pynocular/pynocular/core/gridarray.py\u001b[0m in \u001b[0;36mwrapped_func\u001b[0;34m(*args, **kwargs)\u001b[0m\n\u001b[1;32m     38\u001b[0m                 \u001b[0;32melse\u001b[0m\u001b[0;34m:\u001b[0m\u001b[0;34m\u001b[0m\u001b[0;34m\u001b[0m\u001b[0m\n\u001b[1;32m     39\u001b[0m                     \u001b[0;31m# make sure all grids are compatible\u001b[0m\u001b[0;34m\u001b[0m\u001b[0;34m\u001b[0m\u001b[0;34m\u001b[0m\u001b[0m\n\u001b[0;32m---> 40\u001b[0;31m                     \u001b[0;32massert\u001b[0m \u001b[0marg\u001b[0m\u001b[0;34m.\u001b[0m\u001b[0mgrid\u001b[0m \u001b[0;34m==\u001b[0m \u001b[0mgrid\u001b[0m\u001b[0;34m,\u001b[0m \u001b[0;34m'Incompatible grids'\u001b[0m\u001b[0;34m\u001b[0m\u001b[0;34m\u001b[0m\u001b[0m\n\u001b[0m\u001b[1;32m     41\u001b[0m             \u001b[0;32melse\u001b[0m\u001b[0;34m:\u001b[0m\u001b[0;34m\u001b[0m\u001b[0;34m\u001b[0m\u001b[0m\n\u001b[1;32m     42\u001b[0m                 \u001b[0minputs\u001b[0m\u001b[0;34m.\u001b[0m\u001b[0mappend\u001b[0m\u001b[0;34m(\u001b[0m\u001b[0marg\u001b[0m\u001b[0;34m)\u001b[0m\u001b[0;34m\u001b[0m\u001b[0;34m\u001b[0m\u001b[0m\n",
      "\u001b[0;31mAssertionError\u001b[0m: Incompatible grids"
     ]
    }
   ],
   "source": [
    "a * a.T"
   ]
  },
  {
   "cell_type": "code",
   "execution_count": 172,
   "metadata": {},
   "outputs": [
    {
     "data": {
      "text/html": [
       "<table>\n",
       "<tbody>\n",
       "<tr><td><b>y \\ x</b></td><td><b>0</b></td><td><b>1</b></td><td><b>2</b></td><td><b>3</b></td><td><b>4</b></td><td><b>5</b></td><td><b>6</b></td><td><b>7</b></td><td><b>8</b></td><td><b>9</b></td></tr>\n",
       "<tr><td><b>0</b>    </td><td>5.69    </td><td>5.48    </td><td>3.83    </td><td>4.15    </td><td>2.81    </td><td>5.35    </td><td>5.09    </td><td>4.23    </td><td>4.3     </td><td>4.56    </td></tr>\n",
       "<tr><td><b>1</b>    </td><td>5.48    </td><td>9.31    </td><td>5.03    </td><td>5.23    </td><td>3.98    </td><td>6.7     </td><td>6.9     </td><td>5.33    </td><td>5.08    </td><td>5.59    </td></tr>\n",
       "<tr><td><b>2</b>    </td><td>3.83    </td><td>5.03    </td><td>5.61    </td><td>3.65    </td><td>2.74    </td><td>5       </td><td>4.43    </td><td>4.33    </td><td>3.34    </td><td>5.12    </td></tr>\n",
       "<tr><td><b>3</b>    </td><td>4.15    </td><td>5.23    </td><td>3.65    </td><td>5.25    </td><td>2.44    </td><td>4.64    </td><td>5.1     </td><td>4.52    </td><td>4.05    </td><td>4.02    </td></tr>\n",
       "<tr><td><b>4</b>    </td><td>2.81    </td><td>3.98    </td><td>2.74    </td><td>2.44    </td><td>2.34    </td><td>2.78    </td><td>3.05    </td><td>2.71    </td><td>2.18    </td><td>2.72    </td></tr>\n",
       "<tr><td><b>5</b>    </td><td>5.35    </td><td>6.7     </td><td>5       </td><td>4.64    </td><td>2.78    </td><td>7.22    </td><td>6.23    </td><td>5       </td><td>4.94    </td><td>5.83    </td></tr>\n",
       "<tr><td>...         </td><td>5.09    </td><td>6.9     </td><td>4.43    </td><td>5.1     </td><td>3.05    </td><td>6.23    </td><td>8.51    </td><td>5.54    </td><td>4.72    </td><td>5.49    </td></tr>\n",
       "<tr><td><b>14</b>   </td><td>4.23    </td><td>5.33    </td><td>4.33    </td><td>4.52    </td><td>2.71    </td><td>5       </td><td>5.54    </td><td>6.14    </td><td>4.21    </td><td>4.81    </td></tr>\n",
       "<tr><td><b>15</b>   </td><td>4.3     </td><td>5.08    </td><td>3.34    </td><td>4.05    </td><td>2.18    </td><td>4.94    </td><td>4.72    </td><td>4.21    </td><td>4.71    </td><td>4.49    </td></tr>\n",
       "<tr><td><b>16</b>   </td><td>4.56    </td><td>5.59    </td><td>5.12    </td><td>4.02    </td><td>2.72    </td><td>5.83    </td><td>5.49    </td><td>4.81    </td><td>4.49    </td><td>6.26    </td></tr>\n",
       "<tr><td><b>17</b>   </td><td>0       </td><td>0       </td><td>0       </td><td>0       </td><td>0       </td><td>0       </td><td>0       </td><td>0       </td><td>0       </td><td>0       </td></tr>\n",
       "<tr><td><b>18</b>   </td><td>0       </td><td>0       </td><td>0       </td><td>0       </td><td>0       </td><td>0       </td><td>0       </td><td>0       </td><td>0       </td><td>0       </td></tr>\n",
       "<tr><td><b>19</b>   </td><td>0       </td><td>0       </td><td>0       </td><td>0       </td><td>0       </td><td>0       </td><td>0       </td><td>0       </td><td>0       </td><td>0       </td></tr>\n",
       "</tbody>\n",
       "</table>"
      ],
      "text/plain": [
       "y \\ x  0     1     2     3     4     5     6     7     8     9\n",
       "0      5.69  5.48  3.83  4.15  2.81  5.35  5.09  4.23  4.3   4.56\n",
       "1      5.48  9.31  5.03  5.23  3.98  6.7   6.9   5.33  5.08  5.59\n",
       "2      3.83  5.03  5.61  3.65  2.74  5     4.43  4.33  3.34  5.12\n",
       "3      4.15  5.23  3.65  5.25  2.44  4.64  5.1   4.52  4.05  4.02\n",
       "4      2.81  3.98  2.74  2.44  2.34  2.78  3.05  2.71  2.18  2.72\n",
       "5      5.35  6.7   5     4.64  2.78  7.22  6.23  5     4.94  5.83\n",
       "...    5.09  6.9   4.43  5.1   3.05  6.23  8.51  5.54  4.72  5.49\n",
       "14     4.23  5.33  4.33  4.52  2.71  5     5.54  6.14  4.21  4.81\n",
       "15     4.3   5.08  3.34  4.05  2.18  4.94  4.72  4.21  4.71  4.49\n",
       "16     4.56  5.59  5.12  4.02  2.72  5.83  5.49  4.81  4.49  6.26\n",
       "17     0     0     0     0     0     0     0     0     0     0\n",
       "18     0     0     0     0     0     0     0     0     0     0\n",
       "19     0     0     0     0     0     0     0     0     0     0"
      ]
     },
     "execution_count": 172,
     "metadata": {},
     "output_type": "execute_result"
    }
   ],
   "source": [
    "np.dot(b,b.T)"
   ]
  },
  {
   "cell_type": "code",
   "execution_count": 173,
   "metadata": {},
   "outputs": [
    {
     "data": {
      "text/html": [
       "<table>\n",
       "<tbody>\n",
       "<tr><td><b>y \\ x</b></td><td><b>0</b></td><td><b>1</b></td><td><b>2</b></td><td><b>3</b></td><td><b>4</b></td><td><b>5</b></td><td><b>6</b></td><td><b>7</b></td><td><b>8</b></td><td><b>9</b></td></tr>\n",
       "<tr><td><b>0</b>    </td><td>0.000121</td><td>0.00103 </td><td>0.0196  </td><td>0.468   </td><td>0.000704</td><td>0.0285  </td><td>0.162   </td><td>0.0473  </td><td>0.0612  </td><td>0.209   </td></tr>\n",
       "<tr><td><b>1</b>    </td><td>0.193   </td><td>0.968   </td><td>0.0222  </td><td>0.0016  </td><td>0.00317 </td><td>0.497   </td><td>0.343   </td><td>0.000593</td><td>0.0806  </td><td>0.00583 </td></tr>\n",
       "<tr><td><b>2</b>    </td><td>0.00685 </td><td>0.805   </td><td>0.891   </td><td>0.361   </td><td>0.0518  </td><td>0.0679  </td><td>0.0316  </td><td>0.27    </td><td>0.0877  </td><td>0.0412  </td></tr>\n",
       "<tr><td><b>3</b>    </td><td>0.0059  </td><td>0.0782  </td><td>0.259   </td><td>0.00581 </td><td>0.00785 </td><td>0.157   </td><td>0.753   </td><td>0.849   </td><td>0.0475  </td><td>0.929   </td></tr>\n",
       "<tr><td><b>4</b>    </td><td>7.39e-08</td><td>0.312   </td><td>0.00708 </td><td>0.46    </td><td>0.0017  </td><td>0.294   </td><td>0.94    </td><td>0.212   </td><td>0.01    </td><td>0.0052  </td></tr>\n",
       "<tr><td><b>5</b>    </td><td>0.097   </td><td>0.0273  </td><td>0.0607  </td><td>0.0778  </td><td>0.0345  </td><td>0.608   </td><td>2.78e-07</td><td>0.155   </td><td>0.276   </td><td>0.0214  </td></tr>\n",
       "<tr><td>...         </td><td>...     </td><td>...     </td><td>...     </td><td>...     </td><td>...     </td><td>...     </td><td>...     </td><td>...     </td><td>...     </td><td>...     </td></tr>\n",
       "<tr><td><b>14</b>   </td><td>0.00251 </td><td>0.429   </td><td>0.000229</td><td>0.00222 </td><td>0.0519  </td><td>0.011   </td><td>0.455   </td><td>0.163   </td><td>0.0521  </td><td>0.0123  </td></tr>\n",
       "<tr><td><b>15</b>   </td><td>0.338   </td><td>0.00817 </td><td>0.252   </td><td>0.0834  </td><td>3.23e-05</td><td>0.905   </td><td>0.631   </td><td>0.168   </td><td>0.00132 </td><td>0.0881  </td></tr>\n",
       "<tr><td><b>16</b>   </td><td>0.231   </td><td>0.147   </td><td>4.24e-05</td><td>0.538   </td><td>5.7e-05 </td><td>0.117   </td><td>0.281   </td><td>0.137   </td><td>0.283   </td><td>0.0142  </td></tr>\n",
       "<tr><td><b>17</b>   </td><td>0.00026 </td><td>0.21    </td><td>0.842   </td><td>0.0391  </td><td>0.0585  </td><td>0.0404  </td><td>0.325   </td><td>0.00795 </td><td>4.32e-08</td><td>0.208   </td></tr>\n",
       "<tr><td><b>18</b>   </td><td>0.446   </td><td>0.583   </td><td>0.0021  </td><td>0.375   </td><td>0.152   </td><td>0.0354  </td><td>0.877   </td><td>0.75    </td><td>0.102   </td><td>0.0102  </td></tr>\n",
       "<tr><td><b>19</b>   </td><td>0.0766  </td><td>0.203   </td><td>0.485   </td><td>0.0763  </td><td>0.0864  </td><td>0.0536  </td><td>0.000699</td><td>0.815   </td><td>0.157   </td><td>0.352   </td></tr>\n",
       "</tbody>\n",
       "</table>"
      ],
      "text/plain": [
       "y \\ x  0         1        2         3        4         5       6         7         8         9\n",
       "0      0.000121  0.00103  0.0196    0.468    0.000704  0.0285  0.162     0.0473    0.0612    0.209\n",
       "1      0.193     0.968    0.0222    0.0016   0.00317   0.497   0.343     0.000593  0.0806    0.00583\n",
       "2      0.00685   0.805    0.891     0.361    0.0518    0.0679  0.0316    0.27      0.0877    0.0412\n",
       "3      0.0059    0.0782   0.259     0.00581  0.00785   0.157   0.753     0.849     0.0475    0.929\n",
       "4      7.39e-08  0.312    0.00708   0.46     0.0017    0.294   0.94      0.212     0.01      0.0052\n",
       "5      0.097     0.0273   0.0607    0.0778   0.0345    0.608   2.78e-07  0.155     0.276     0.0214\n",
       "...    ...       ...      ...       ...      ...       ...     ...       ...       ...       ...\n",
       "14     0.00251   0.429    0.000229  0.00222  0.0519    0.011   0.455     0.163     0.0521    0.0123\n",
       "15     0.338     0.00817  0.252     0.0834   3.23e-05  0.905   0.631     0.168     0.00132   0.0881\n",
       "16     0.231     0.147    4.24e-05  0.538    5.7e-05   0.117   0.281     0.137     0.283     0.0142\n",
       "17     0.00026   0.21     0.842     0.0391   0.0585    0.0404  0.325     0.00795   4.32e-08  0.208\n",
       "18     0.446     0.583    0.0021    0.375    0.152     0.0354  0.877     0.75      0.102     0.0102\n",
       "19     0.0766    0.203    0.485     0.0763   0.0864    0.0536  0.000699  0.815     0.157     0.352"
      ]
     },
     "execution_count": 173,
     "metadata": {},
     "output_type": "execute_result"
    }
   ],
   "source": [
    "b ** 3"
   ]
  },
  {
   "cell_type": "code",
   "execution_count": null,
   "metadata": {},
   "outputs": [],
   "source": []
  },
  {
   "cell_type": "code",
   "execution_count": null,
   "metadata": {},
   "outputs": [],
   "source": []
  },
  {
   "cell_type": "code",
   "execution_count": null,
   "metadata": {},
   "outputs": [],
   "source": []
  }
 ],
 "metadata": {
  "kernelspec": {
   "display_name": "Python 3",
   "language": "python",
   "name": "python3"
  },
  "language_info": {
   "codemirror_mode": {
    "name": "ipython",
    "version": 3
   },
   "file_extension": ".py",
   "mimetype": "text/x-python",
   "name": "python",
   "nbconvert_exporter": "python",
   "pygments_lexer": "ipython3",
   "version": "3.7.3"
  }
 },
 "nbformat": 4,
 "nbformat_minor": 4
}
