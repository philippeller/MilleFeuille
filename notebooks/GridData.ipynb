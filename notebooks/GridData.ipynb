{
 "cells": [
  {
   "cell_type": "code",
   "execution_count": 1,
   "metadata": {},
   "outputs": [],
   "source": [
    "%reload_ext autoreload\n",
    "%autoreload 2\n",
    "import numpy as np\n",
    "import pynocular as pn\n",
    "from matplotlib import pyplot as plt"
   ]
  },
  {
   "cell_type": "code",
   "execution_count": 2,
   "metadata": {},
   "outputs": [],
   "source": [
    "g = pn.GridData(x=np.arange(11), y=np.arange(6))"
   ]
  },
  {
   "cell_type": "code",
   "execution_count": 3,
   "metadata": {},
   "outputs": [
    {
     "data": {
      "text/html": [
       "<table>\n",
       "<tbody>\n",
       "<tr><td><b>y \\ x</b> </td><td><b>[0, 1]</b></td><td><b>[1, 2]</b></td><td><b>[2, 3]</b></td><td><b>[3, 4]</b></td><td><b>[4, 5]</b></td><td><b>[5, 6]</b></td><td><b>[6, 7]</b></td><td><b>[7, 8]</b></td><td><b>[8, 9]</b></td><td><b>[9, 10]</b></td></tr>\n",
       "<tr><td><b>[0, 1]</b></td><td>             </td><td>             </td><td>             </td><td>             </td><td>             </td><td>             </td><td>             </td><td>             </td><td>             </td><td>              </td></tr>\n",
       "<tr><td><b>[1, 2]</b></td><td>             </td><td>             </td><td>             </td><td>             </td><td>             </td><td>             </td><td>             </td><td>             </td><td>             </td><td>              </td></tr>\n",
       "<tr><td><b>[2, 3]</b></td><td>             </td><td>             </td><td>             </td><td>             </td><td>             </td><td>             </td><td>             </td><td>             </td><td>             </td><td>              </td></tr>\n",
       "<tr><td><b>[3, 4]</b></td><td>             </td><td>             </td><td>             </td><td>             </td><td>             </td><td>             </td><td>             </td><td>             </td><td>             </td><td>              </td></tr>\n",
       "<tr><td><b>[4, 5]</b></td><td>             </td><td>             </td><td>             </td><td>             </td><td>             </td><td>             </td><td>             </td><td>             </td><td>             </td><td>              </td></tr>\n",
       "</tbody>\n",
       "</table>"
      ],
      "text/plain": [
       "GridData(Grid(\n",
       "Dimension(\"x\",\n",
       "points = None,\n",
       "edges = array([ 0,  1,  2,  3,  4,  5,  6,  7,  8,  9, 10]))\n",
       "nbins = 10),\n",
       "Dimension(\"y\",\n",
       "points = None,\n",
       "edges = array([0, 1, 2, 3, 4, 5]))\n",
       "nbins = 5),)\n",
       "OrderedDict())"
      ]
     },
     "execution_count": 3,
     "metadata": {},
     "output_type": "execute_result"
    }
   ],
   "source": [
    "g"
   ]
  },
  {
   "cell_type": "code",
   "execution_count": 4,
   "metadata": {},
   "outputs": [],
   "source": [
    "# add something\n",
    "g['a'] = np.random.rand(g.grid.size).reshape(g.shape)"
   ]
  },
  {
   "cell_type": "code",
   "execution_count": 5,
   "metadata": {},
   "outputs": [
    {
     "data": {
      "text/html": [
       "<table>\n",
       "<tbody>\n",
       "<tr><td><b>y \\ x</b> </td><td><b>[0, 1]</b></td><td><b>[1, 2]</b></td><td><b>[2, 3]</b></td><td><b>[3, 4]</b></td><td><b>[4, 5]</b></td><td><b>[5, 6]</b></td><td><b>[6, 7]</b></td><td><b>[7, 8]</b></td><td><b>[8, 9]</b></td><td><b>[9, 10]</b></td></tr>\n",
       "<tr><td><b>[0, 1]</b></td><td>a = 0.68     </td><td>a = 0.76     </td><td>a = 0.12     </td><td>a = 0.35     </td><td>a = 0.56     </td><td>a = 0.85     </td><td>a = 0.34     </td><td>a = 0.19     </td><td>a = 0.57     </td><td>a = 0.93      </td></tr>\n",
       "<tr><td><b>[1, 2]</b></td><td>a = 0.98     </td><td>a = 0.55     </td><td>a = 0.13     </td><td>a = 0.079    </td><td>a = 0.13     </td><td>a = 0.66     </td><td>a = 0.74     </td><td>a = 0.26     </td><td>a = 0.45     </td><td>a = 0.093     </td></tr>\n",
       "<tr><td><b>[2, 3]</b></td><td>a = 0.12     </td><td>a = 0.58     </td><td>a = 0.35     </td><td>a = 0.076    </td><td>a = 0.6      </td><td>a = 0.3      </td><td>a = 0.033    </td><td>a = 0.92     </td><td>a = 0.0058   </td><td>a = 0.88      </td></tr>\n",
       "<tr><td><b>[3, 4]</b></td><td>a = 0.26     </td><td>a = 0.86     </td><td>a = 0.14     </td><td>a = 0.36     </td><td>a = 0.49     </td><td>a = 0.17     </td><td>a = 0.99     </td><td>a = 0.86     </td><td>a = 0.86     </td><td>a = 0.26      </td></tr>\n",
       "<tr><td><b>[4, 5]</b></td><td>a = 0.68     </td><td>a = 0.68     </td><td>a = 0.55     </td><td>a = 0.12     </td><td>a = 0.11     </td><td>a = 0.6      </td><td>a = 0.99     </td><td>a = 0.5      </td><td>a = 0.8      </td><td>a = 0.4       </td></tr>\n",
       "</tbody>\n",
       "</table>"
      ],
      "text/plain": [
       "GridData(Grid(\n",
       "Dimension(\"x\",\n",
       "points = None,\n",
       "edges = array([ 0,  1,  2,  3,  4,  5,  6,  7,  8,  9, 10]))\n",
       "nbins = 10),\n",
       "Dimension(\"y\",\n",
       "points = None,\n",
       "edges = array([0, 1, 2, 3, 4, 5]))\n",
       "nbins = 5),)\n",
       "OrderedDict([('a', array([[0.6817666 , 0.98032313, 0.11875093, 0.25843633, 0.67634892],\n",
       "       [0.76474281, 0.5534844 , 0.57930991, 0.85986444, 0.67788916],\n",
       "       [0.12103911, 0.12934866, 0.35274664, 0.14437848, 0.54647122],\n",
       "       [0.35025073, 0.07893179, 0.07555533, 0.35597405, 0.12151858],\n",
       "       [0.55967062, 0.13123896, 0.59686083, 0.48740149, 0.10934676],\n",
       "       [0.85273984, 0.66401539, 0.30492486, 0.16957006, 0.60394058],\n",
       "       [0.34306658, 0.73807996, 0.03271872, 0.98783162, 0.99035   ],\n",
       "       [0.18650806, 0.2605788 , 0.92035236, 0.86155657, 0.49813536],\n",
       "       [0.57438266, 0.45402796, 0.00583031, 0.86201915, 0.79707086],\n",
       "       [0.92574597, 0.09283835, 0.87657422, 0.26073169, 0.39563669]]))]))"
      ]
     },
     "execution_count": 5,
     "metadata": {},
     "output_type": "execute_result"
    }
   ],
   "source": [
    "g"
   ]
  },
  {
   "cell_type": "code",
   "execution_count": 6,
   "metadata": {},
   "outputs": [],
   "source": [
    "g['b'] = np.ones(g.shape)"
   ]
  },
  {
   "cell_type": "code",
   "execution_count": 7,
   "metadata": {},
   "outputs": [
    {
     "data": {
      "text/html": [
       "<table>\n",
       "<tbody>\n",
       "<tr><td><b>y \\ x</b> </td><td><b>[0, 1]</b>    </td><td><b>[1, 2]</b>    </td><td><b>[2, 3]</b>    </td><td><b>[3, 4]</b>     </td><td><b>[4, 5]</b>    </td><td><b>[5, 6]</b>    </td><td><b>[6, 7]</b>     </td><td><b>[7, 8]</b>    </td><td><b>[8, 9]</b>      </td><td><b>[9, 10]</b>    </td></tr>\n",
       "<tr><td><b>[0, 1]</b></td><td>a = 0.68<br>b = 1</td><td>a = 0.76<br>b = 1</td><td>a = 0.12<br>b = 1</td><td>a = 0.35<br>b = 1 </td><td>a = 0.56<br>b = 1</td><td>a = 0.85<br>b = 1</td><td>a = 0.34<br>b = 1 </td><td>a = 0.19<br>b = 1</td><td>a = 0.57<br>b = 1  </td><td>a = 0.93<br>b = 1 </td></tr>\n",
       "<tr><td><b>[1, 2]</b></td><td>a = 0.98<br>b = 1</td><td>a = 0.55<br>b = 1</td><td>a = 0.13<br>b = 1</td><td>a = 0.079<br>b = 1</td><td>a = 0.13<br>b = 1</td><td>a = 0.66<br>b = 1</td><td>a = 0.74<br>b = 1 </td><td>a = 0.26<br>b = 1</td><td>a = 0.45<br>b = 1  </td><td>a = 0.093<br>b = 1</td></tr>\n",
       "<tr><td><b>[2, 3]</b></td><td>a = 0.12<br>b = 1</td><td>a = 0.58<br>b = 1</td><td>a = 0.35<br>b = 1</td><td>a = 0.076<br>b = 1</td><td>a = 0.6<br>b = 1 </td><td>a = 0.3<br>b = 1 </td><td>a = 0.033<br>b = 1</td><td>a = 0.92<br>b = 1</td><td>a = 0.0058<br>b = 1</td><td>a = 0.88<br>b = 1 </td></tr>\n",
       "<tr><td><b>[3, 4]</b></td><td>a = 0.26<br>b = 1</td><td>a = 0.86<br>b = 1</td><td>a = 0.14<br>b = 1</td><td>a = 0.36<br>b = 1 </td><td>a = 0.49<br>b = 1</td><td>a = 0.17<br>b = 1</td><td>a = 0.99<br>b = 1 </td><td>a = 0.86<br>b = 1</td><td>a = 0.86<br>b = 1  </td><td>a = 0.26<br>b = 1 </td></tr>\n",
       "<tr><td><b>[4, 5]</b></td><td>a = 0.68<br>b = 1</td><td>a = 0.68<br>b = 1</td><td>a = 0.55<br>b = 1</td><td>a = 0.12<br>b = 1 </td><td>a = 0.11<br>b = 1</td><td>a = 0.6<br>b = 1 </td><td>a = 0.99<br>b = 1 </td><td>a = 0.5<br>b = 1 </td><td>a = 0.8<br>b = 1   </td><td>a = 0.4<br>b = 1  </td></tr>\n",
       "</tbody>\n",
       "</table>"
      ],
      "text/plain": [
       "GridData(Grid(\n",
       "Dimension(\"x\",\n",
       "points = None,\n",
       "edges = array([ 0,  1,  2,  3,  4,  5,  6,  7,  8,  9, 10]))\n",
       "nbins = 10),\n",
       "Dimension(\"y\",\n",
       "points = None,\n",
       "edges = array([0, 1, 2, 3, 4, 5]))\n",
       "nbins = 5),)\n",
       "OrderedDict([('a', array([[0.6817666 , 0.98032313, 0.11875093, 0.25843633, 0.67634892],\n",
       "       [0.76474281, 0.5534844 , 0.57930991, 0.85986444, 0.67788916],\n",
       "       [0.12103911, 0.12934866, 0.35274664, 0.14437848, 0.54647122],\n",
       "       [0.35025073, 0.07893179, 0.07555533, 0.35597405, 0.12151858],\n",
       "       [0.55967062, 0.13123896, 0.59686083, 0.48740149, 0.10934676],\n",
       "       [0.85273984, 0.66401539, 0.30492486, 0.16957006, 0.60394058],\n",
       "       [0.34306658, 0.73807996, 0.03271872, 0.98783162, 0.99035   ],\n",
       "       [0.18650806, 0.2605788 , 0.92035236, 0.86155657, 0.49813536],\n",
       "       [0.57438266, 0.45402796, 0.00583031, 0.86201915, 0.79707086],\n",
       "       [0.92574597, 0.09283835, 0.87657422, 0.26073169, 0.39563669]])), ('b', array([[1., 1., 1., 1., 1.],\n",
       "       [1., 1., 1., 1., 1.],\n",
       "       [1., 1., 1., 1., 1.],\n",
       "       [1., 1., 1., 1., 1.],\n",
       "       [1., 1., 1., 1., 1.],\n",
       "       [1., 1., 1., 1., 1.],\n",
       "       [1., 1., 1., 1., 1.],\n",
       "       [1., 1., 1., 1., 1.],\n",
       "       [1., 1., 1., 1., 1.],\n",
       "       [1., 1., 1., 1., 1.]]))]))"
      ]
     },
     "execution_count": 7,
     "metadata": {},
     "output_type": "execute_result"
    }
   ],
   "source": [
    "g"
   ]
  },
  {
   "cell_type": "code",
   "execution_count": 8,
   "metadata": {},
   "outputs": [
    {
     "data": {
      "text/html": [
       "<table>\n",
       "<tbody>\n",
       "<tr><td><b>x \\ y</b>  </td><td><b>[0, 1]</b></td><td><b>[1, 2]</b></td><td><b>[2, 3]</b></td><td><b>[3, 4]</b></td><td><b>[4, 5]</b></td></tr>\n",
       "<tr><td><b>[0, 1]</b> </td><td>0.68         </td><td>0.98         </td><td>0.12         </td><td>0.26         </td><td>0.68         </td></tr>\n",
       "<tr><td><b>[1, 2]</b> </td><td>0.76         </td><td>0.55         </td><td>0.58         </td><td>0.86         </td><td>0.68         </td></tr>\n",
       "<tr><td><b>[2, 3]</b> </td><td>0.12         </td><td>0.13         </td><td>0.35         </td><td>0.14         </td><td>0.55         </td></tr>\n",
       "<tr><td><b>[3, 4]</b> </td><td>0.35         </td><td>0.079        </td><td>0.076        </td><td>0.36         </td><td>0.12         </td></tr>\n",
       "<tr><td><b>[4, 5]</b> </td><td>0.56         </td><td>0.13         </td><td>0.6          </td><td>0.49         </td><td>0.11         </td></tr>\n",
       "<tr><td><b>[5, 6]</b> </td><td>0.85         </td><td>0.66         </td><td>0.3          </td><td>0.17         </td><td>0.6          </td></tr>\n",
       "<tr><td><b>[6, 7]</b> </td><td>0.34         </td><td>0.74         </td><td>0.033        </td><td>0.99         </td><td>0.99         </td></tr>\n",
       "<tr><td><b>[7, 8]</b> </td><td>0.19         </td><td>0.26         </td><td>0.92         </td><td>0.86         </td><td>0.5          </td></tr>\n",
       "<tr><td><b>[8, 9]</b> </td><td>0.57         </td><td>0.45         </td><td>0.0058       </td><td>0.86         </td><td>0.8          </td></tr>\n",
       "<tr><td><b>[9, 10]</b></td><td>0.93         </td><td>0.093        </td><td>0.88         </td><td>0.26         </td><td>0.4          </td></tr>\n",
       "</tbody>\n",
       "</table>"
      ],
      "text/plain": [
       "GridArray(a : [[0.6817666  0.76474281 0.12103911 0.35025073 0.55967062 0.85273984\n",
       "  0.34306658 0.18650806 0.57438266 0.92574597]\n",
       " [0.98032313 0.5534844  0.12934866 0.07893179 0.13123896 0.66401539\n",
       "  0.73807996 0.2605788  0.45402796 0.09283835]\n",
       " [0.11875093 0.57930991 0.35274664 0.07555533 0.59686083 0.30492486\n",
       "  0.03271872 0.92035236 0.00583031 0.87657422]\n",
       " [0.25843633 0.85986444 0.14437848 0.35597405 0.48740149 0.16957006\n",
       "  0.98783162 0.86155657 0.86201915 0.26073169]\n",
       " [0.67634892 0.67788916 0.54647122 0.12151858 0.10934676 0.60394058\n",
       "  0.99035    0.49813536 0.79707086 0.39563669]])"
      ]
     },
     "execution_count": 8,
     "metadata": {},
     "output_type": "execute_result"
    }
   ],
   "source": [
    "g['a'].T"
   ]
  },
  {
   "cell_type": "code",
   "execution_count": 9,
   "metadata": {},
   "outputs": [
    {
     "data": {
      "text/html": [
       "<table>\n",
       "<tbody>\n",
       "<tr><td><b>y \\ x</b> </td><td><b>[0, 1]</b></td><td><b>[1, 2]</b></td><td><b>[2, 3]</b></td><td><b>[3, 4]</b></td><td><b>[4, 5]</b></td><td><b>[5, 6]</b></td><td><b>[6, 7]</b></td><td><b>[7, 8]</b></td><td><b>[8, 9]</b></td><td><b>[9, 10]</b></td></tr>\n",
       "<tr><td><b>[0, 1]</b></td><td>--           </td><td>--           </td><td>1            </td><td>1            </td><td>--           </td><td>--           </td><td>1            </td><td>1            </td><td>--           </td><td>--            </td></tr>\n",
       "<tr><td><b>[1, 2]</b></td><td>--           </td><td>--           </td><td>1            </td><td>1            </td><td>1            </td><td>--           </td><td>--           </td><td>1            </td><td>1            </td><td>1             </td></tr>\n",
       "<tr><td><b>[2, 3]</b></td><td>1            </td><td>--           </td><td>1            </td><td>1            </td><td>--           </td><td>1            </td><td>1            </td><td>--           </td><td>1            </td><td>--            </td></tr>\n",
       "<tr><td><b>[3, 4]</b></td><td>1            </td><td>--           </td><td>1            </td><td>1            </td><td>1            </td><td>1            </td><td>--           </td><td>--           </td><td>--           </td><td>1             </td></tr>\n",
       "<tr><td><b>[4, 5]</b></td><td>--           </td><td>--           </td><td>--           </td><td>1            </td><td>1            </td><td>--           </td><td>--           </td><td>1            </td><td>--           </td><td>1             </td></tr>\n",
       "</tbody>\n",
       "</table>"
      ],
      "text/plain": [
       "GridArray(b : [[-- -- 1.0 1.0 --]\n",
       " [-- -- -- -- --]\n",
       " [1.0 1.0 1.0 1.0 --]\n",
       " [1.0 1.0 1.0 1.0 1.0]\n",
       " [-- 1.0 -- 1.0 1.0]\n",
       " [-- -- 1.0 1.0 --]\n",
       " [1.0 -- 1.0 -- --]\n",
       " [1.0 1.0 -- -- 1.0]\n",
       " [-- 1.0 1.0 -- --]\n",
       " [-- 1.0 -- 1.0 1.0]])"
      ]
     },
     "execution_count": 9,
     "metadata": {},
     "output_type": "execute_result"
    }
   ],
   "source": [
    "g['b'][g['a'] < 0.5]"
   ]
  },
  {
   "cell_type": "code",
   "execution_count": 10,
   "metadata": {},
   "outputs": [],
   "source": [
    "g['b'][g['a'] < 0.5] *= -1"
   ]
  },
  {
   "cell_type": "code",
   "execution_count": 11,
   "metadata": {},
   "outputs": [
    {
     "data": {
      "text/html": [
       "<table>\n",
       "<tbody>\n",
       "<tr><td><b>y \\ x</b> </td><td><b>[0, 1]</b></td><td><b>[1, 2]</b></td><td><b>[2, 3]</b></td><td><b>[3, 4]</b></td><td><b>[4, 5]</b></td><td><b>[5, 6]</b></td><td><b>[6, 7]</b></td><td><b>[7, 8]</b></td><td><b>[8, 9]</b></td><td><b>[9, 10]</b></td></tr>\n",
       "<tr><td><b>[0, 1]</b></td><td>1            </td><td>1            </td><td>-1           </td><td>-1           </td><td>1            </td><td>1            </td><td>-1           </td><td>-1           </td><td>1            </td><td>1             </td></tr>\n",
       "<tr><td><b>[1, 2]</b></td><td>1            </td><td>1            </td><td>-1           </td><td>-1           </td><td>-1           </td><td>1            </td><td>1            </td><td>-1           </td><td>-1           </td><td>-1            </td></tr>\n",
       "<tr><td><b>[2, 3]</b></td><td>-1           </td><td>1            </td><td>-1           </td><td>-1           </td><td>1            </td><td>-1           </td><td>-1           </td><td>1            </td><td>-1           </td><td>1             </td></tr>\n",
       "<tr><td><b>[3, 4]</b></td><td>-1           </td><td>1            </td><td>-1           </td><td>-1           </td><td>-1           </td><td>-1           </td><td>1            </td><td>1            </td><td>1            </td><td>-1            </td></tr>\n",
       "<tr><td><b>[4, 5]</b></td><td>1            </td><td>1            </td><td>1            </td><td>-1           </td><td>-1           </td><td>1            </td><td>1            </td><td>-1           </td><td>1            </td><td>-1            </td></tr>\n",
       "</tbody>\n",
       "</table>"
      ],
      "text/plain": [
       "GridArray(b : [[ 1.  1. -1. -1.  1.]\n",
       " [ 1.  1.  1.  1.  1.]\n",
       " [-1. -1. -1. -1.  1.]\n",
       " [-1. -1. -1. -1. -1.]\n",
       " [ 1. -1.  1. -1. -1.]\n",
       " [ 1.  1. -1. -1.  1.]\n",
       " [-1.  1. -1.  1.  1.]\n",
       " [-1. -1.  1.  1. -1.]\n",
       " [ 1. -1. -1.  1.  1.]\n",
       " [ 1. -1.  1. -1. -1.]])"
      ]
     },
     "execution_count": 11,
     "metadata": {},
     "output_type": "execute_result"
    }
   ],
   "source": [
    "g['b']"
   ]
  },
  {
   "cell_type": "code",
   "execution_count": 12,
   "metadata": {},
   "outputs": [
    {
     "data": {
      "text/html": [
       "<table>\n",
       "<tbody>\n",
       "<tr><td><b>x</b></td><td><b>[0, 1]</b></td><td><b>[1, 2]</b></td><td><b>[2, 3]</b></td><td><b>[3, 4]</b></td><td><b>[4, 5]</b></td><td><b>[5, 6]</b></td><td><b>[6, 7]</b></td><td><b>[7, 8]</b></td><td><b>[8, 9]</b></td><td><b>[9, 10]</b></td></tr>\n",
       "<tr><td><b>a</b></td><td>2.7          </td><td>3.4          </td><td>1.3          </td><td>0.98         </td><td>1.9          </td><td>2.6          </td><td>3.1          </td><td>2.7          </td><td>2.7          </td><td>2.6           </td></tr>\n",
       "</tbody>\n",
       "</table>"
      ],
      "text/plain": [
       "GridArray(a : [2.71562591 3.43529072 1.29398411 0.98223048 1.88451866 2.59519074\n",
       " 3.09204689 2.72713116 2.69333095 2.55152692])"
      ]
     },
     "execution_count": 12,
     "metadata": {},
     "output_type": "execute_result"
    }
   ],
   "source": [
    "np.sum(g['a'], axis='y')"
   ]
  },
  {
   "cell_type": "code",
   "execution_count": 13,
   "metadata": {},
   "outputs": [
    {
     "data": {
      "text/html": [
       "<table>\n",
       "<tbody>\n",
       "<tr><td><b>x</b></td><td><b>[0, 1]</b></td><td><b>[1, 2]</b></td><td><b>[2, 3]</b></td><td><b>[3, 4]</b></td><td><b>[4, 5]</b></td><td><b>[5, 6]</b></td><td><b>[6, 7]</b></td><td><b>[7, 8]</b></td><td><b>[8, 9]</b></td><td><b>[9, 10]</b></td></tr>\n",
       "<tr><td><b>a</b></td><td>0.26         </td><td>0.86         </td><td>0.14         </td><td>0.36         </td><td>0.49         </td><td>0.17         </td><td>0.99         </td><td>0.86         </td><td>0.86         </td><td>0.26          </td></tr>\n",
       "<tr><td><b>b</b></td><td>-1           </td><td>1            </td><td>-1           </td><td>-1           </td><td>-1           </td><td>-1           </td><td>1            </td><td>1            </td><td>1            </td><td>-1            </td></tr>\n",
       "</tbody>\n",
       "</table>"
      ],
      "text/plain": [
       "GridData(Grid(\n",
       "Dimension(\"x\",\n",
       "points = None,\n",
       "edges = array([ 0,  1,  2,  3,  4,  5,  6,  7,  8,  9, 10]))\n",
       "nbins = 10),)\n",
       "OrderedDict([('a', array([0.25843633, 0.85986444, 0.14437848, 0.35597405, 0.48740149,\n",
       "       0.16957006, 0.98783162, 0.86155657, 0.86201915, 0.26073169])), ('b', array([-1.,  1., -1., -1., -1., -1.,  1.,  1.,  1., -1.]))]))"
      ]
     },
     "execution_count": 13,
     "metadata": {},
     "output_type": "execute_result"
    }
   ],
   "source": [
    "g[:,-2]"
   ]
  },
  {
   "cell_type": "code",
   "execution_count": 14,
   "metadata": {},
   "outputs": [
    {
     "data": {
      "text/html": [
       "<table>\n",
       "<tbody>\n",
       "<tr><td><b>y \\ x</b> </td><td><b>[10, 9]</b>     </td><td><b>[9, 8]</b>       </td><td><b>[8, 7]</b>     </td><td><b>[7, 6]</b>      </td><td><b>[6, 5]</b>     </td><td><b>[5, 4]</b>     </td><td><b>[4, 3]</b>      </td><td><b>[3, 2]</b>     </td><td><b>[2, 1]</b>    </td><td><b>[1, 0]</b>     </td></tr>\n",
       "<tr><td><b>[5, 4]</b></td><td>a = 0.4<br>b = -1  </td><td>a = 0.8<br>b = 1    </td><td>a = 0.5<br>b = -1 </td><td>a = 0.99<br>b = 1  </td><td>a = 0.6<br>b = 1  </td><td>a = 0.11<br>b = -1</td><td>a = 0.12<br>b = -1 </td><td>a = 0.55<br>b = 1 </td><td>a = 0.68<br>b = 1</td><td>a = 0.68<br>b = 1 </td></tr>\n",
       "<tr><td><b>[4, 3]</b></td><td>a = 0.26<br>b = -1 </td><td>a = 0.86<br>b = 1   </td><td>a = 0.86<br>b = 1 </td><td>a = 0.99<br>b = 1  </td><td>a = 0.17<br>b = -1</td><td>a = 0.49<br>b = -1</td><td>a = 0.36<br>b = -1 </td><td>a = 0.14<br>b = -1</td><td>a = 0.86<br>b = 1</td><td>a = 0.26<br>b = -1</td></tr>\n",
       "<tr><td><b>[3, 2]</b></td><td>a = 0.88<br>b = 1  </td><td>a = 0.0058<br>b = -1</td><td>a = 0.92<br>b = 1 </td><td>a = 0.033<br>b = -1</td><td>a = 0.3<br>b = -1 </td><td>a = 0.6<br>b = 1  </td><td>a = 0.076<br>b = -1</td><td>a = 0.35<br>b = -1</td><td>a = 0.58<br>b = 1</td><td>a = 0.12<br>b = -1</td></tr>\n",
       "<tr><td><b>[2, 1]</b></td><td>a = 0.093<br>b = -1</td><td>a = 0.45<br>b = -1  </td><td>a = 0.26<br>b = -1</td><td>a = 0.74<br>b = 1  </td><td>a = 0.66<br>b = 1 </td><td>a = 0.13<br>b = -1</td><td>a = 0.079<br>b = -1</td><td>a = 0.13<br>b = -1</td><td>a = 0.55<br>b = 1</td><td>a = 0.98<br>b = 1 </td></tr>\n",
       "<tr><td><b>[1, 0]</b></td><td>a = 0.93<br>b = 1  </td><td>a = 0.57<br>b = 1   </td><td>a = 0.19<br>b = -1</td><td>a = 0.34<br>b = -1 </td><td>a = 0.85<br>b = 1 </td><td>a = 0.56<br>b = 1 </td><td>a = 0.35<br>b = -1 </td><td>a = 0.12<br>b = -1</td><td>a = 0.76<br>b = 1</td><td>a = 0.68<br>b = 1 </td></tr>\n",
       "</tbody>\n",
       "</table>"
      ],
      "text/plain": [
       "GridData(Grid(\n",
       "Dimension(\"x\",\n",
       "points = None,\n",
       "edges = array([10,  9,  8,  7,  6,  5,  4,  3,  2,  1,  0]))\n",
       "nbins = 10),\n",
       "Dimension(\"y\",\n",
       "points = None,\n",
       "edges = array([5, 4, 3, 2, 1, 0]))\n",
       "nbins = 5),)\n",
       "OrderedDict([('a', array([[0.39563669, 0.26073169, 0.87657422, 0.09283835, 0.92574597],\n",
       "       [0.79707086, 0.86201915, 0.00583031, 0.45402796, 0.57438266],\n",
       "       [0.49813536, 0.86155657, 0.92035236, 0.2605788 , 0.18650806],\n",
       "       [0.99035   , 0.98783162, 0.03271872, 0.73807996, 0.34306658],\n",
       "       [0.60394058, 0.16957006, 0.30492486, 0.66401539, 0.85273984],\n",
       "       [0.10934676, 0.48740149, 0.59686083, 0.13123896, 0.55967062],\n",
       "       [0.12151858, 0.35597405, 0.07555533, 0.07893179, 0.35025073],\n",
       "       [0.54647122, 0.14437848, 0.35274664, 0.12934866, 0.12103911],\n",
       "       [0.67788916, 0.85986444, 0.57930991, 0.5534844 , 0.76474281],\n",
       "       [0.67634892, 0.25843633, 0.11875093, 0.98032313, 0.6817666 ]])), ('b', array([[-1., -1.,  1., -1.,  1.],\n",
       "       [ 1.,  1., -1., -1.,  1.],\n",
       "       [-1.,  1.,  1., -1., -1.],\n",
       "       [ 1.,  1., -1.,  1., -1.],\n",
       "       [ 1., -1., -1.,  1.,  1.],\n",
       "       [-1., -1.,  1., -1.,  1.],\n",
       "       [-1., -1., -1., -1., -1.],\n",
       "       [ 1., -1., -1., -1., -1.],\n",
       "       [ 1.,  1.,  1.,  1.,  1.],\n",
       "       [ 1., -1., -1.,  1.,  1.]]))]))"
      ]
     },
     "execution_count": 14,
     "metadata": {},
     "output_type": "execute_result"
    }
   ],
   "source": [
    "g[::-1, ::-1]"
   ]
  },
  {
   "cell_type": "code",
   "execution_count": 15,
   "metadata": {},
   "outputs": [
    {
     "data": {
      "text/plain": [
       "{'a': 0.6817665952128579, 'b': 1.0}"
      ]
     },
     "execution_count": 15,
     "metadata": {},
     "output_type": "execute_result"
    }
   ],
   "source": [
    "g[0,0]"
   ]
  },
  {
   "cell_type": "code",
   "execution_count": 16,
   "metadata": {},
   "outputs": [
    {
     "data": {
      "text/html": [
       "<table>\n",
       "<tbody>\n",
       "<tr><td><b>y</b></td><td><b>[0, 1]</b></td><td><b>[1, 2]</b></td><td><b>[2, 3]</b></td><td><b>[3, 4]</b></td><td><b>[4, 5]</b></td></tr>\n",
       "<tr><td><b>b</b></td><td>0.46         </td><td>0.1          </td><td>0.12         </td><td>0.12         </td><td>0.46         </td></tr>\n",
       "</tbody>\n",
       "</table>"
      ],
      "text/plain": [
       "GridArray(b : [0.46341868 0.10148348 0.12447477 0.11548052 0.46339888])"
      ]
     },
     "execution_count": 16,
     "metadata": {},
     "output_type": "execute_result"
    }
   ],
   "source": [
    "np.mean(g['b'], axis='x') + np.std(g['a'], axis='x')"
   ]
  },
  {
   "cell_type": "code",
   "execution_count": 17,
   "metadata": {},
   "outputs": [],
   "source": [
    "g['m'] = np.arange(g.grid.size * 3).reshape(g.shape + (3,))"
   ]
  },
  {
   "cell_type": "code",
   "execution_count": 23,
   "metadata": {},
   "outputs": [
    {
     "data": {
      "text/html": [
       "<table>\n",
       "<tbody>\n",
       "<tr><td><b>x</b></td><td><b>[0, 1]</b></td><td><b>[1, 2]</b></td><td><b>[2, 3]</b></td><td><b>[3, 4]</b></td><td><b>[4, 5]</b></td><td><b>[5, 6]</b></td><td><b>[6, 7]</b></td><td><b>[7, 8]</b></td><td><b>[8, 9]</b></td><td><b>[9, 10]</b></td></tr>\n",
       "<tr><td><b>a</b></td><td>0.26         </td><td>0.86         </td><td>0.14         </td><td>0.36         </td><td>0.49         </td><td>0.17         </td><td>0.99         </td><td>0.86         </td><td>0.86         </td><td>0.26          </td></tr>\n",
       "<tr><td><b>b</b></td><td>-1           </td><td>1            </td><td>-1           </td><td>-1           </td><td>-1           </td><td>-1           </td><td>1            </td><td>1            </td><td>1            </td><td>-1            </td></tr>\n",
       "<tr><td><b>m</b></td><td>[ 9 10 11]   </td><td>[24 25 26]   </td><td>[39 40 41]   </td><td>[54 55 56]   </td><td>[69 70 71]   </td><td>[84 85 86]   </td><td>[ 99 100 101]</td><td>[114 115 116]</td><td>[129 130 131]</td><td>[144 145 146] </td></tr>\n",
       "</tbody>\n",
       "</table>"
      ],
      "text/plain": [
       "GridData(Grid(\n",
       "Dimension(\"x\",\n",
       "points = None,\n",
       "edges = array([ 0,  1,  2,  3,  4,  5,  6,  7,  8,  9, 10]))\n",
       "nbins = 10),)\n",
       "OrderedDict([('a', array([0.25843633, 0.85986444, 0.14437848, 0.35597405, 0.48740149,\n",
       "       0.16957006, 0.98783162, 0.86155657, 0.86201915, 0.26073169])), ('b', array([-1.,  1., -1., -1., -1., -1.,  1.,  1.,  1., -1.])), ('m', array([[  9,  10,  11],\n",
       "       [ 24,  25,  26],\n",
       "       [ 39,  40,  41],\n",
       "       [ 54,  55,  56],\n",
       "       [ 69,  70,  71],\n",
       "       [ 84,  85,  86],\n",
       "       [ 99, 100, 101],\n",
       "       [114, 115, 116],\n",
       "       [129, 130, 131],\n",
       "       [144, 145, 146]]))]))"
      ]
     },
     "execution_count": 23,
     "metadata": {},
     "output_type": "execute_result"
    }
   ],
   "source": [
    "g[:,3]"
   ]
  },
  {
   "cell_type": "markdown",
   "metadata": {},
   "source": [
    "# Stuff to fix"
   ]
  },
  {
   "cell_type": "code",
   "execution_count": 27,
   "metadata": {},
   "outputs": [
    {
     "data": {
      "text/html": [
       "GridArray(m : [[[  0   1   2]\n",
       "  [  3   4   5]\n",
       "  [  6   7   8]\n",
       "  [  9  10  11]\n",
       "  [ 12  13  14]]\n",
       "\n",
       " [[ 15  16  17]\n",
       "  [ 18  19  20]\n",
       "  [ 21  22  23]\n",
       "  [ 24  25  26]\n",
       "  [ 27  28  29]]\n",
       "\n",
       " [[ 30  31  32]\n",
       "  [ 33  34  35]\n",
       "  [ 36  37  38]\n",
       "  [ 39  40  41]\n",
       "  [ 42  43  44]]\n",
       "\n",
       " [[ 45  46  47]\n",
       "  [ 48  49  50]\n",
       "  [ 51  52  53]\n",
       "  [ 54  55  56]\n",
       "  [ 57  58  59]]\n",
       "\n",
       " [[ 60  61  62]\n",
       "  [ 63  64  65]\n",
       "  [ 66  67  68]\n",
       "  [ 69  70  71]\n",
       "  [ 72  73  74]]\n",
       "\n",
       " [[ 75  76  77]\n",
       "  [ 78  79  80]\n",
       "  [ 81  82  83]\n",
       "  [ 84  85  86]\n",
       "  [ 87  88  89]]\n",
       "\n",
       " [[ 90  91  92]\n",
       "  [ 93  94  95]\n",
       "  [ 96  97  98]\n",
       "  [ 99 100 101]\n",
       "  [102 103 104]]\n",
       "\n",
       " [[105 106 107]\n",
       "  [108 109 110]\n",
       "  [111 112 113]\n",
       "  [114 115 116]\n",
       "  [117 118 119]]\n",
       "\n",
       " [[120 121 122]\n",
       "  [123 124 125]\n",
       "  [126 127 128]\n",
       "  [129 130 131]\n",
       "  [132 133 134]]\n",
       "\n",
       " [[135 136 137]\n",
       "  [138 139 140]\n",
       "  [141 142 143]\n",
       "  [144 145 146]\n",
       "  [147 148 149]]])"
      ],
      "text/plain": [
       "GridArray(m : [[[  0   1   2]\n",
       "  [  3   4   5]\n",
       "  [  6   7   8]\n",
       "  [  9  10  11]\n",
       "  [ 12  13  14]]\n",
       "\n",
       " [[ 15  16  17]\n",
       "  [ 18  19  20]\n",
       "  [ 21  22  23]\n",
       "  [ 24  25  26]\n",
       "  [ 27  28  29]]\n",
       "\n",
       " [[ 30  31  32]\n",
       "  [ 33  34  35]\n",
       "  [ 36  37  38]\n",
       "  [ 39  40  41]\n",
       "  [ 42  43  44]]\n",
       "\n",
       " [[ 45  46  47]\n",
       "  [ 48  49  50]\n",
       "  [ 51  52  53]\n",
       "  [ 54  55  56]\n",
       "  [ 57  58  59]]\n",
       "\n",
       " [[ 60  61  62]\n",
       "  [ 63  64  65]\n",
       "  [ 66  67  68]\n",
       "  [ 69  70  71]\n",
       "  [ 72  73  74]]\n",
       "\n",
       " [[ 75  76  77]\n",
       "  [ 78  79  80]\n",
       "  [ 81  82  83]\n",
       "  [ 84  85  86]\n",
       "  [ 87  88  89]]\n",
       "\n",
       " [[ 90  91  92]\n",
       "  [ 93  94  95]\n",
       "  [ 96  97  98]\n",
       "  [ 99 100 101]\n",
       "  [102 103 104]]\n",
       "\n",
       " [[105 106 107]\n",
       "  [108 109 110]\n",
       "  [111 112 113]\n",
       "  [114 115 116]\n",
       "  [117 118 119]]\n",
       "\n",
       " [[120 121 122]\n",
       "  [123 124 125]\n",
       "  [126 127 128]\n",
       "  [129 130 131]\n",
       "  [132 133 134]]\n",
       "\n",
       " [[135 136 137]\n",
       "  [138 139 140]\n",
       "  [141 142 143]\n",
       "  [144 145 146]\n",
       "  [147 148 149]]])"
      ]
     },
     "execution_count": 27,
     "metadata": {},
     "output_type": "execute_result"
    }
   ],
   "source": [
    "g['m']"
   ]
  },
  {
   "cell_type": "code",
   "execution_count": 26,
   "metadata": {},
   "outputs": [
    {
     "ename": "TypeError",
     "evalue": "list indices must be integers or slices, not tuple",
     "output_type": "error",
     "traceback": [
      "\u001b[0;31m---------------------------------------------------------------------------\u001b[0m",
      "\u001b[0;31mTypeError\u001b[0m                                 Traceback (most recent call last)",
      "\u001b[0;32m<ipython-input-26-736532b143b4>\u001b[0m in \u001b[0;36m<module>\u001b[0;34m\u001b[0m\n\u001b[0;32m----> 1\u001b[0;31m \u001b[0mnp\u001b[0m\u001b[0;34m.\u001b[0m\u001b[0msum\u001b[0m\u001b[0;34m(\u001b[0m\u001b[0mg\u001b[0m\u001b[0;34m[\u001b[0m\u001b[0;34m'm'\u001b[0m\u001b[0;34m]\u001b[0m\u001b[0;34m,\u001b[0m \u001b[0maxis\u001b[0m\u001b[0;34m=\u001b[0m\u001b[0;34m(\u001b[0m\u001b[0;36m0\u001b[0m\u001b[0;34m,\u001b[0m\u001b[0;36m1\u001b[0m\u001b[0;34m)\u001b[0m\u001b[0;34m)\u001b[0m\u001b[0;34m\u001b[0m\u001b[0;34m\u001b[0m\u001b[0m\n\u001b[0m",
      "\u001b[0;32m~/anaconda3/lib/python3.7/site-packages/numpy/core/fromnumeric.py\u001b[0m in \u001b[0;36msum\u001b[0;34m(a, axis, dtype, out, keepdims, initial)\u001b[0m\n\u001b[1;32m   2074\u001b[0m \u001b[0;34m\u001b[0m\u001b[0m\n\u001b[1;32m   2075\u001b[0m     return _wrapreduction(a, np.add, 'sum', axis, dtype, out, keepdims=keepdims,\n\u001b[0;32m-> 2076\u001b[0;31m                           initial=initial)\n\u001b[0m\u001b[1;32m   2077\u001b[0m \u001b[0;34m\u001b[0m\u001b[0m\n\u001b[1;32m   2078\u001b[0m \u001b[0;34m\u001b[0m\u001b[0m\n",
      "\u001b[0;32m~/anaconda3/lib/python3.7/site-packages/numpy/core/fromnumeric.py\u001b[0m in \u001b[0;36m_wrapreduction\u001b[0;34m(obj, ufunc, method, axis, dtype, out, **kwargs)\u001b[0m\n\u001b[1;32m     84\u001b[0m                 \u001b[0;32mreturn\u001b[0m \u001b[0mreduction\u001b[0m\u001b[0;34m(\u001b[0m\u001b[0maxis\u001b[0m\u001b[0;34m=\u001b[0m\u001b[0maxis\u001b[0m\u001b[0;34m,\u001b[0m \u001b[0mout\u001b[0m\u001b[0;34m=\u001b[0m\u001b[0mout\u001b[0m\u001b[0;34m,\u001b[0m \u001b[0;34m**\u001b[0m\u001b[0mpasskwargs\u001b[0m\u001b[0;34m)\u001b[0m\u001b[0;34m\u001b[0m\u001b[0;34m\u001b[0m\u001b[0m\n\u001b[1;32m     85\u001b[0m \u001b[0;34m\u001b[0m\u001b[0m\n\u001b[0;32m---> 86\u001b[0;31m     \u001b[0;32mreturn\u001b[0m \u001b[0mufunc\u001b[0m\u001b[0;34m.\u001b[0m\u001b[0mreduce\u001b[0m\u001b[0;34m(\u001b[0m\u001b[0mobj\u001b[0m\u001b[0;34m,\u001b[0m \u001b[0maxis\u001b[0m\u001b[0;34m,\u001b[0m \u001b[0mdtype\u001b[0m\u001b[0;34m,\u001b[0m \u001b[0mout\u001b[0m\u001b[0;34m,\u001b[0m \u001b[0;34m**\u001b[0m\u001b[0mpasskwargs\u001b[0m\u001b[0;34m)\u001b[0m\u001b[0;34m\u001b[0m\u001b[0;34m\u001b[0m\u001b[0m\n\u001b[0m\u001b[1;32m     87\u001b[0m \u001b[0;34m\u001b[0m\u001b[0m\n\u001b[1;32m     88\u001b[0m \u001b[0;34m\u001b[0m\u001b[0m\n",
      "\u001b[0;32m~/pynocular/pynocular/griddata.py\u001b[0m in \u001b[0;36m__array_ufunc__\u001b[0;34m(self, ufunc, method, *inputs, **kwargs)\u001b[0m\n\u001b[1;32m    268\u001b[0m             \u001b[0mresult\u001b[0m \u001b[0;34m=\u001b[0m \u001b[0mnp\u001b[0m\u001b[0;34m.\u001b[0m\u001b[0masanyarray\u001b[0m\u001b[0;34m(\u001b[0m\u001b[0mself\u001b[0m\u001b[0;34m)\u001b[0m\u001b[0;34m.\u001b[0m\u001b[0m__array_ufunc__\u001b[0m\u001b[0;34m(\u001b[0m\u001b[0mufunc\u001b[0m\u001b[0;34m,\u001b[0m \u001b[0mmethod\u001b[0m\u001b[0;34m,\u001b[0m \u001b[0;34m*\u001b[0m\u001b[0marray_inputs\u001b[0m\u001b[0;34m,\u001b[0m \u001b[0;34m**\u001b[0m\u001b[0mkwargs\u001b[0m\u001b[0;34m)\u001b[0m\u001b[0;34m\u001b[0m\u001b[0;34m\u001b[0m\u001b[0m\n\u001b[1;32m    269\u001b[0m \u001b[0;34m\u001b[0m\u001b[0m\n\u001b[0;32m--> 270\u001b[0;31m         \u001b[0;32mreturn\u001b[0m \u001b[0mself\u001b[0m\u001b[0;34m.\u001b[0m\u001b[0m_pack_result\u001b[0m\u001b[0;34m(\u001b[0m\u001b[0mresult\u001b[0m\u001b[0;34m,\u001b[0m \u001b[0maxis\u001b[0m\u001b[0;34m)\u001b[0m\u001b[0;34m\u001b[0m\u001b[0;34m\u001b[0m\u001b[0m\n\u001b[0m\u001b[1;32m    271\u001b[0m \u001b[0;34m\u001b[0m\u001b[0m\n\u001b[1;32m    272\u001b[0m \u001b[0;34m\u001b[0m\u001b[0m\n",
      "\u001b[0;32m~/pynocular/pynocular/griddata.py\u001b[0m in \u001b[0;36m_pack_result\u001b[0;34m(self, result, axis)\u001b[0m\n\u001b[1;32m    210\u001b[0m                 \u001b[0;32mif\u001b[0m \u001b[0maxis\u001b[0m \u001b[0;32mis\u001b[0m \u001b[0;32mnot\u001b[0m \u001b[0;32mNone\u001b[0m\u001b[0;34m:\u001b[0m\u001b[0;34m\u001b[0m\u001b[0;34m\u001b[0m\u001b[0m\n\u001b[1;32m    211\u001b[0m                     \u001b[0mnew_grid\u001b[0m \u001b[0;34m=\u001b[0m \u001b[0mcopy\u001b[0m\u001b[0;34m.\u001b[0m\u001b[0mdeepcopy\u001b[0m\u001b[0;34m(\u001b[0m\u001b[0mself\u001b[0m\u001b[0;34m.\u001b[0m\u001b[0mgrid\u001b[0m\u001b[0;34m)\u001b[0m\u001b[0;34m\u001b[0m\u001b[0;34m\u001b[0m\u001b[0m\n\u001b[0;32m--> 212\u001b[0;31m                     \u001b[0;32mdel\u001b[0m\u001b[0;34m(\u001b[0m\u001b[0mnew_grid\u001b[0m\u001b[0;34m.\u001b[0m\u001b[0mdims\u001b[0m\u001b[0;34m[\u001b[0m\u001b[0maxis\u001b[0m\u001b[0;34m]\u001b[0m\u001b[0;34m)\u001b[0m\u001b[0;34m\u001b[0m\u001b[0;34m\u001b[0m\u001b[0m\n\u001b[0m\u001b[1;32m    213\u001b[0m                 \u001b[0;32melse\u001b[0m\u001b[0;34m:\u001b[0m\u001b[0;34m\u001b[0m\u001b[0;34m\u001b[0m\u001b[0m\n\u001b[1;32m    214\u001b[0m                     \u001b[0mnew_grid\u001b[0m \u001b[0;34m=\u001b[0m \u001b[0mself\u001b[0m\u001b[0;34m.\u001b[0m\u001b[0mgrid\u001b[0m\u001b[0;34m\u001b[0m\u001b[0;34m\u001b[0m\u001b[0m\n",
      "\u001b[0;31mTypeError\u001b[0m: list indices must be integers or slices, not tuple"
     ]
    }
   ],
   "source": [
    "np.sum(g['m'], axis=(0,1))"
   ]
  },
  {
   "cell_type": "code",
   "execution_count": 28,
   "metadata": {},
   "outputs": [
    {
     "ename": "IndexError",
     "evalue": "list index out of range",
     "output_type": "error",
     "traceback": [
      "\u001b[0;31m---------------------------------------------------------------------------\u001b[0m",
      "\u001b[0;31mIndexError\u001b[0m                                Traceback (most recent call last)",
      "\u001b[0;32m~/anaconda3/lib/python3.7/site-packages/IPython/core/formatters.py\u001b[0m in \u001b[0;36m__call__\u001b[0;34m(self, obj)\u001b[0m\n\u001b[1;32m    343\u001b[0m             \u001b[0mmethod\u001b[0m \u001b[0;34m=\u001b[0m \u001b[0mget_real_method\u001b[0m\u001b[0;34m(\u001b[0m\u001b[0mobj\u001b[0m\u001b[0;34m,\u001b[0m \u001b[0mself\u001b[0m\u001b[0;34m.\u001b[0m\u001b[0mprint_method\u001b[0m\u001b[0;34m)\u001b[0m\u001b[0;34m\u001b[0m\u001b[0;34m\u001b[0m\u001b[0m\n\u001b[1;32m    344\u001b[0m             \u001b[0;32mif\u001b[0m \u001b[0mmethod\u001b[0m \u001b[0;32mis\u001b[0m \u001b[0;32mnot\u001b[0m \u001b[0;32mNone\u001b[0m\u001b[0;34m:\u001b[0m\u001b[0;34m\u001b[0m\u001b[0;34m\u001b[0m\u001b[0m\n\u001b[0;32m--> 345\u001b[0;31m                 \u001b[0;32mreturn\u001b[0m \u001b[0mmethod\u001b[0m\u001b[0;34m(\u001b[0m\u001b[0;34m)\u001b[0m\u001b[0;34m\u001b[0m\u001b[0;34m\u001b[0m\u001b[0m\n\u001b[0m\u001b[1;32m    346\u001b[0m             \u001b[0;32mreturn\u001b[0m \u001b[0;32mNone\u001b[0m\u001b[0;34m\u001b[0m\u001b[0;34m\u001b[0m\u001b[0m\n\u001b[1;32m    347\u001b[0m         \u001b[0;32melse\u001b[0m\u001b[0;34m:\u001b[0m\u001b[0;34m\u001b[0m\u001b[0;34m\u001b[0m\u001b[0m\n",
      "\u001b[0;32m~/pynocular/pynocular/griddata.py\u001b[0m in \u001b[0;36m_repr_html_\u001b[0;34m(self)\u001b[0m\n\u001b[1;32m     47\u001b[0m             \u001b[0mtable\u001b[0m \u001b[0;34m=\u001b[0m \u001b[0;34m[\u001b[0m\u001b[0mcopy\u001b[0m\u001b[0;34m.\u001b[0m\u001b[0mcopy\u001b[0m\u001b[0;34m(\u001b[0m\u001b[0mtable_x\u001b[0m\u001b[0;34m)\u001b[0m \u001b[0;32mfor\u001b[0m \u001b[0m_\u001b[0m \u001b[0;32min\u001b[0m \u001b[0mrange\u001b[0m\u001b[0;34m(\u001b[0m\u001b[0mself\u001b[0m\u001b[0;34m.\u001b[0m\u001b[0mshape\u001b[0m\u001b[0;34m[\u001b[0m\u001b[0;36m1\u001b[0m\u001b[0;34m]\u001b[0m \u001b[0;34m+\u001b[0m \u001b[0;36m1\u001b[0m\u001b[0;34m)\u001b[0m\u001b[0;34m]\u001b[0m\u001b[0;34m\u001b[0m\u001b[0;34m\u001b[0m\u001b[0m\n\u001b[1;32m     48\u001b[0m \u001b[0;34m\u001b[0m\u001b[0m\n\u001b[0;32m---> 49\u001b[0;31m             \u001b[0mtable\u001b[0m\u001b[0;34m[\u001b[0m\u001b[0;36m0\u001b[0m\u001b[0;34m]\u001b[0m\u001b[0;34m[\u001b[0m\u001b[0;36m0\u001b[0m\u001b[0;34m]\u001b[0m \u001b[0;34m=\u001b[0m \u001b[0;34m'<b>%s \\ %s</b>'\u001b[0m\u001b[0;34m%\u001b[0m\u001b[0;34m(\u001b[0m\u001b[0mself\u001b[0m\u001b[0;34m.\u001b[0m\u001b[0mgrid\u001b[0m\u001b[0;34m.\u001b[0m\u001b[0mvars\u001b[0m\u001b[0;34m[\u001b[0m\u001b[0;36m1\u001b[0m\u001b[0;34m]\u001b[0m\u001b[0;34m,\u001b[0m \u001b[0mself\u001b[0m\u001b[0;34m.\u001b[0m\u001b[0mgrid\u001b[0m\u001b[0;34m.\u001b[0m\u001b[0mvars\u001b[0m\u001b[0;34m[\u001b[0m\u001b[0;36m0\u001b[0m\u001b[0;34m]\u001b[0m\u001b[0;34m)\u001b[0m\u001b[0;34m\u001b[0m\u001b[0;34m\u001b[0m\u001b[0m\n\u001b[0m\u001b[1;32m     50\u001b[0m \u001b[0;34m\u001b[0m\u001b[0m\n\u001b[1;32m     51\u001b[0m             \u001b[0mx_labels\u001b[0m \u001b[0;34m=\u001b[0m \u001b[0mtable_labels\u001b[0m\u001b[0;34m(\u001b[0m\u001b[0mself\u001b[0m\u001b[0;34m.\u001b[0m\u001b[0mgrid\u001b[0m\u001b[0;34m,\u001b[0m \u001b[0;36m0\u001b[0m\u001b[0;34m)\u001b[0m\u001b[0;34m\u001b[0m\u001b[0;34m\u001b[0m\u001b[0m\n",
      "\u001b[0;31mIndexError\u001b[0m: list index out of range"
     ]
    },
    {
     "data": {
      "text/plain": [
       "GridArray(m : [[  3  12  21  30  39]\n",
       " [ 48  57  66  75  84]\n",
       " [ 93 102 111 120 129]\n",
       " [138 147 156 165 174]\n",
       " [183 192 201 210 219]\n",
       " [228 237 246 255 264]\n",
       " [273 282 291 300 309]\n",
       " [318 327 336 345 354]\n",
       " [363 372 381 390 399]\n",
       " [408 417 426 435 444]])"
      ]
     },
     "execution_count": 28,
     "metadata": {},
     "output_type": "execute_result"
    }
   ],
   "source": [
    "np.sum(g['m'], axis=-1)"
   ]
  },
  {
   "cell_type": "code",
   "execution_count": null,
   "metadata": {},
   "outputs": [],
   "source": []
  }
 ],
 "metadata": {
  "kernelspec": {
   "display_name": "Python 3",
   "language": "python",
   "name": "python3"
  },
  "language_info": {
   "codemirror_mode": {
    "name": "ipython",
    "version": 3
   },
   "file_extension": ".py",
   "mimetype": "text/x-python",
   "name": "python",
   "nbconvert_exporter": "python",
   "pygments_lexer": "ipython3",
   "version": "3.7.3"
  }
 },
 "nbformat": 4,
 "nbformat_minor": 4
}
