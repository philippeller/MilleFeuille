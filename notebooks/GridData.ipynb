{
 "cells": [
  {
   "cell_type": "code",
   "execution_count": 1,
   "metadata": {},
   "outputs": [],
   "source": [
    "%reload_ext autoreload\n",
    "%autoreload 2\n",
    "import numpy as np\n",
    "import pynocular as pn\n",
    "from matplotlib import pyplot as plt\n",
    "#from uncertainties import unumpy"
   ]
  },
  {
   "cell_type": "code",
   "execution_count": 2,
   "metadata": {},
   "outputs": [],
   "source": [
    "p = pn.PointData()#x='aaa') #x=np.arange(200).reshape(20, 1, -1))"
   ]
  },
  {
   "cell_type": "code",
   "execution_count": 3,
   "metadata": {},
   "outputs": [
    {
     "data": {
      "text/plain": [
       "array([3])"
      ]
     },
     "execution_count": 3,
     "metadata": {},
     "output_type": "execute_result"
    }
   ],
   "source": [
    "np.asanyarray(3)[np.newaxis]"
   ]
  },
  {
   "cell_type": "code",
   "execution_count": 4,
   "metadata": {},
   "outputs": [],
   "source": [
    "p['a'] = np.arange(33)\n",
    "p['b'] = np.zeros(p.array_shape)"
   ]
  },
  {
   "cell_type": "code",
   "execution_count": 5,
   "metadata": {},
   "outputs": [
    {
     "data": {
      "text/plain": [
       "pynocular.core.pointarray.PointArray"
      ]
     },
     "execution_count": 5,
     "metadata": {},
     "output_type": "execute_result"
    }
   ],
   "source": [
    "pn.PointArray"
   ]
  },
  {
   "cell_type": "code",
   "execution_count": 6,
   "metadata": {},
   "outputs": [
    {
     "data": {
      "text/html": [
       "<table>\n",
       "<tbody>\n",
       "<tr><td style=\"text-align: right;\">1</td><td style=\"text-align: right;\">0.54</td><td style=\"text-align: right;\">-0.416</td><td style=\"text-align: right;\">-0.99</td><td style=\"text-align: right;\">-0.654</td><td style=\"text-align: right;\">0.284</td><td>...</td><td style=\"text-align: right;\">-0.292</td><td style=\"text-align: right;\">-0.963</td><td style=\"text-align: right;\">-0.748</td><td style=\"text-align: right;\">0.154</td><td style=\"text-align: right;\">0.915</td><td style=\"text-align: right;\">0.834</td></tr>\n",
       "</tbody>\n",
       "</table>"
      ],
      "text/plain": [
       "+---+------+--------+-------+--------+-------+-----+--------+--------+--------+-------+-------+-------+\n",
       "| 1 | 0.54 | -0.416 | -0.99 | -0.654 | 0.284 | ... | -0.292 | -0.963 | -0.748 | 0.154 | 0.915 | 0.834 |\n",
       "+---+------+--------+-------+--------+-------+-----+--------+--------+--------+-------+-------+-------+"
      ]
     },
     "execution_count": 6,
     "metadata": {},
     "output_type": "execute_result"
    }
   ],
   "source": [
    "np.cos(p['a'])"
   ]
  },
  {
   "cell_type": "code",
   "execution_count": 7,
   "metadata": {},
   "outputs": [],
   "source": [
    "g2d = pn.Grid(x=np.arange(10), y=np.arange(20))"
   ]
  },
  {
   "cell_type": "code",
   "execution_count": 8,
   "metadata": {},
   "outputs": [],
   "source": [
    "b = pn.GridArray(np.random.rand(g2d.size).reshape(g2d.shape), grid=g2d)"
   ]
  },
  {
   "cell_type": "code",
   "execution_count": 9,
   "metadata": {},
   "outputs": [],
   "source": [
    "f = np.sum(np.cos(b) -1.2 / b, axis='y')"
   ]
  },
  {
   "cell_type": "code",
   "execution_count": 10,
   "metadata": {},
   "outputs": [],
   "source": [
    "f[f>-50] *= 33"
   ]
  },
  {
   "cell_type": "code",
   "execution_count": 11,
   "metadata": {},
   "outputs": [],
   "source": [
    "f[0:2] *= 0"
   ]
  },
  {
   "cell_type": "code",
   "execution_count": 12,
   "metadata": {},
   "outputs": [
    {
     "data": {
      "text/html": [
       "<table>\n",
       "<tbody>\n",
       "<tr><td><b>x</b></td><td><b>0</b></td><td><b>1</b></td><td><b>2</b></td><td><b>3</b></td><td><b>4</b></td><td><b>5</b> </td><td><b>6</b></td><td><b>7</b></td><td><b>8</b></td><td><b>9</b></td></tr>\n",
       "<tr><td><b></b> </td><td>-0      </td><td>-0      </td><td>-69     </td><td>-162    </td><td>-347    </td><td>-1.42e+03</td><td>-536    </td><td>-88.7   </td><td>-249    </td><td>-77.6   </td></tr>\n",
       "</tbody>\n",
       "</table>"
      ],
      "text/plain": [
       "+---+----+----+-----+------+------+-------+------+-------+------+-------+\n",
       "| x |  0 |  1 |   2 |    3 |    4 |     5 |    6 |   7   |    8 |   9   |\n",
       "+---+----+----+-----+------+------+-------+------+-------+------+-------+\n",
       "|   | -0 | -0 | -69 | -162 | -347 | -1420 | -536 | -88.7 | -249 | -77.6 |\n",
       "+---+----+----+-----+------+------+-------+------+-------+------+-------+"
      ]
     },
     "execution_count": 12,
     "metadata": {},
     "output_type": "execute_result"
    }
   ],
   "source": [
    "f"
   ]
  },
  {
   "cell_type": "code",
   "execution_count": 13,
   "metadata": {},
   "outputs": [],
   "source": [
    "a = pn.GridArray(np.arange(10), 'x')"
   ]
  },
  {
   "cell_type": "code",
   "execution_count": 14,
   "metadata": {},
   "outputs": [],
   "source": [
    "ar = np.arange(10)"
   ]
  },
  {
   "cell_type": "code",
   "execution_count": 15,
   "metadata": {},
   "outputs": [],
   "source": [
    "a[[3,5]] = 5"
   ]
  },
  {
   "cell_type": "code",
   "execution_count": 16,
   "metadata": {},
   "outputs": [
    {
     "data": {
      "text/plain": [
       "array([0, 1, 2, 5, 4, 5, 6, 7, 8, 9])"
      ]
     },
     "execution_count": 16,
     "metadata": {},
     "output_type": "execute_result"
    }
   ],
   "source": [
    "a.data[:]"
   ]
  },
  {
   "cell_type": "code",
   "execution_count": 17,
   "metadata": {},
   "outputs": [],
   "source": [
    "f[3] *= 4"
   ]
  },
  {
   "cell_type": "code",
   "execution_count": 18,
   "metadata": {},
   "outputs": [],
   "source": [
    "f[3:5] = 55"
   ]
  },
  {
   "cell_type": "code",
   "execution_count": 19,
   "metadata": {},
   "outputs": [
    {
     "data": {
      "text/html": [
       "<table>\n",
       "<tbody>\n",
       "<tr><td><b>x</b></td><td><b>0</b></td><td><b>1</b></td><td><b>2</b></td><td><b>3</b></td><td><b>4</b></td><td><b>5</b> </td><td><b>6</b></td><td><b>7</b></td><td><b>8</b></td><td><b>9</b></td></tr>\n",
       "<tr><td><b></b> </td><td>-0      </td><td>-0      </td><td>-69     </td><td>55      </td><td>55      </td><td>-1.42e+03</td><td>-536    </td><td>-88.7   </td><td>-249    </td><td>-77.6   </td></tr>\n",
       "</tbody>\n",
       "</table>"
      ],
      "text/plain": [
       "+---+----+----+-----+----+----+-------+------+-------+------+-------+\n",
       "| x |  0 |  1 |   2 |  3 |  4 |     5 |    6 |   7   |    8 |   9   |\n",
       "+---+----+----+-----+----+----+-------+------+-------+------+-------+\n",
       "|   | -0 | -0 | -69 | 55 | 55 | -1420 | -536 | -88.7 | -249 | -77.6 |\n",
       "+---+----+----+-----+----+----+-------+------+-------+------+-------+"
      ]
     },
     "execution_count": 19,
     "metadata": {},
     "output_type": "execute_result"
    }
   ],
   "source": [
    "f"
   ]
  },
  {
   "cell_type": "code",
   "execution_count": 20,
   "metadata": {},
   "outputs": [
    {
     "data": {
      "text/plain": [
       "[<matplotlib.lines.Line2D at 0x7f1abc4a5ef0>]"
      ]
     },
     "execution_count": 20,
     "metadata": {},
     "output_type": "execute_result"
    },
    {
     "data": {
      "image/png": "[encoded data removed]",
      "text/plain": [
       "<Figure size 432x288 with 1 Axes>"
      ]
     },
     "metadata": {
      "needs_background": "light"
     },
     "output_type": "display_data"
    }
   ],
   "source": [
    "f.plot()"
   ]
  },
  {
   "cell_type": "code",
   "execution_count": 21,
   "metadata": {},
   "outputs": [
    {
     "data": {
      "text/html": [
       "<table>\n",
       "<tbody>\n",
       "<tr><td><b>x</b></td><td><b>0</b></td><td><b>1</b></td><td><b>2</b></td><td><b>3</b></td><td><b>4</b></td><td><b>5</b></td><td><b>6</b></td><td><b>7</b></td><td><b>8</b></td><td><b>9</b></td></tr>\n",
       "<tr><td><b></b> </td><td>-0      </td><td>-0      </td><td>-69     </td><td>55      </td><td>55      </td><td>--      </td><td>--      </td><td>-88.7   </td><td>-249    </td><td>-77.6   </td></tr>\n",
       "</tbody>\n",
       "</table>"
      ],
      "text/plain": [
       "+---+----+----+-----+----+----+----+----+-------+------+-------+\n",
       "| x |  0 |  1 |   2 |  3 |  4 | 5  | 6  |   7   |    8 |   9   |\n",
       "+---+----+----+-----+----+----+----+----+-------+------+-------+\n",
       "|   | -0 | -0 | -69 | 55 | 55 | -- | -- | -88.7 | -249 | -77.6 |\n",
       "+---+----+----+-----+----+----+----+----+-------+------+-------+"
      ]
     },
     "execution_count": 21,
     "metadata": {},
     "output_type": "execute_result"
    }
   ],
   "source": [
    "f[f>-500]"
   ]
  },
  {
   "cell_type": "code",
   "execution_count": 22,
   "metadata": {},
   "outputs": [
    {
     "data": {
      "text/plain": [
       "array([  -0.        ,   -0.        ,  -68.98586656,  -13.98586656,\n",
       "         41.01413344,   41.01413344,   41.01413344,  -47.73444408,\n",
       "       -296.37306344, -373.99205746])"
      ]
     },
     "execution_count": 22,
     "metadata": {},
     "output_type": "execute_result"
    }
   ],
   "source": [
    "np.cumsum(f, axis='x')"
   ]
  },
  {
   "cell_type": "code",
   "execution_count": 23,
   "metadata": {},
   "outputs": [
    {
     "data": {
      "text/html": [
       "<table>\n",
       "<tbody>\n",
       "<tr><td><b>x</b></td><td><b>0</b></td><td><b>1</b></td><td><b>2</b></td><td><b>3</b></td><td><b>4</b></td><td><b>5</b></td><td><b>6</b></td><td><b>7</b></td><td><b>8</b></td><td><b>9</b></td></tr>\n",
       "<tr><td><b></b> </td><td>-0      </td><td>-0      </td><td>-69     </td><td>55      </td><td>55      </td><td>--      </td><td>--      </td><td>-88.7   </td><td>-249    </td><td>-77.6   </td></tr>\n",
       "</tbody>\n",
       "</table>"
      ],
      "text/plain": [
       "+---+----+----+-----+----+----+----+----+-------+------+-------+\n",
       "| x |  0 |  1 |   2 |  3 |  4 | 5  | 6  |   7   |    8 |   9   |\n",
       "+---+----+----+-----+----+----+----+----+-------+------+-------+\n",
       "|   | -0 | -0 | -69 | 55 | 55 | -- | -- | -88.7 | -249 | -77.6 |\n",
       "+---+----+----+-----+----+----+----+----+-------+------+-------+"
      ]
     },
     "execution_count": 23,
     "metadata": {},
     "output_type": "execute_result"
    }
   ],
   "source": [
    "f"
   ]
  },
  {
   "cell_type": "code",
   "execution_count": 24,
   "metadata": {},
   "outputs": [],
   "source": [
    "#a = unumpy.uarray(np.arange(10), np.ones(10))"
   ]
  },
  {
   "cell_type": "code",
   "execution_count": 25,
   "metadata": {},
   "outputs": [],
   "source": [
    "a = np.arange(10)"
   ]
  },
  {
   "cell_type": "code",
   "execution_count": 26,
   "metadata": {},
   "outputs": [],
   "source": [
    "g = pn.Grid(x=np.arange(10))"
   ]
  },
  {
   "cell_type": "code",
   "execution_count": 27,
   "metadata": {},
   "outputs": [],
   "source": [
    "u = pn.GridArray(a, grid=g)"
   ]
  },
  {
   "cell_type": "code",
   "execution_count": 28,
   "metadata": {},
   "outputs": [
    {
     "data": {
      "text/plain": [
       "Grid(\n",
       "Axis(\"x\",\n",
       "points = array([0, 1, 2, 3, 4, 5, 6, 7, 8, 9]),\n",
       "edges = edges: None)\n",
       "nbins = 10),)"
      ]
     },
     "execution_count": 28,
     "metadata": {},
     "output_type": "execute_result"
    }
   ],
   "source": [
    "u.grid"
   ]
  },
  {
   "cell_type": "code",
   "execution_count": 29,
   "metadata": {},
   "outputs": [
    {
     "data": {
      "text/plain": [
       "9"
      ]
     },
     "execution_count": 29,
     "metadata": {},
     "output_type": "execute_result"
    }
   ],
   "source": [
    "np.max(u)"
   ]
  },
  {
   "cell_type": "code",
   "execution_count": 30,
   "metadata": {},
   "outputs": [
    {
     "data": {
      "text/plain": [
       "2165980771180614289"
      ]
     },
     "execution_count": 30,
     "metadata": {},
     "output_type": "execute_result"
    }
   ],
   "source": [
    "np.amax(np.empty_like(u))"
   ]
  },
  {
   "cell_type": "code",
   "execution_count": 31,
   "metadata": {},
   "outputs": [],
   "source": [
    "u[u>3] *= -1"
   ]
  },
  {
   "cell_type": "code",
   "execution_count": 32,
   "metadata": {},
   "outputs": [
    {
     "data": {
      "text/html": [
       "<table>\n",
       "<tbody>\n",
       "<tr><td><b>x</b></td><td><b>0</b></td><td><b>1</b></td><td><b>2</b></td><td><b>3</b></td><td><b>4</b></td><td><b>5</b></td><td><b>6</b></td><td><b>7</b></td><td><b>8</b></td><td><b>9</b></td></tr>\n",
       "<tr><td><b></b> </td><td>--      </td><td>1       </td><td>--      </td><td>3       </td><td>--      </td><td>-5      </td><td>--      </td><td>-7      </td><td>--      </td><td>-9      </td></tr>\n",
       "</tbody>\n",
       "</table>"
      ],
      "text/plain": [
       "+---+----+---+----+---+----+----+----+----+----+----+\n",
       "| x | 0  | 1 | 2  | 3 | 4  |  5 | 6  |  7 | 8  |  9 |\n",
       "+---+----+---+----+---+----+----+----+----+----+----+\n",
       "|   | -- | 1 | -- | 3 | -- | -5 | -- | -7 | -- | -9 |\n",
       "+---+----+---+----+---+----+----+----+----+----+----+"
      ]
     },
     "execution_count": 32,
     "metadata": {},
     "output_type": "execute_result"
    }
   ],
   "source": [
    "u[u%2==1]"
   ]
  },
  {
   "cell_type": "code",
   "execution_count": 34,
   "metadata": {},
   "outputs": [],
   "source": [
    "#unumpy.cos(u)"
   ]
  },
  {
   "cell_type": "code",
   "execution_count": 35,
   "metadata": {},
   "outputs": [
    {
     "data": {
      "text/html": [
       "<table>\n",
       "<tbody>\n",
       "<tr><td><b>x</b></td><td><b>0</b></td><td><b>1</b></td><td><b>2</b></td><td><b>3</b></td><td><b>4</b></td><td><b>5</b></td><td><b>6</b></td><td><b>7</b></td><td><b>8</b></td><td><b>9</b></td></tr>\n",
       "<tr><td><b></b> </td><td>1       </td><td>1       </td><td>1       </td><td>1       </td><td>1       </td><td>1       </td><td>1       </td><td>1       </td><td>1       </td><td>1       </td></tr>\n",
       "</tbody>\n",
       "</table>"
      ],
      "text/plain": [
       "+---+---+---+---+---+---+---+---+---+---+---+\n",
       "| x | 0 | 1 | 2 | 3 | 4 | 5 | 6 | 7 | 8 | 9 |\n",
       "+---+---+---+---+---+---+---+---+---+---+---+\n",
       "|   | 1 | 1 | 1 | 1 | 1 | 1 | 1 | 1 | 1 | 1 |\n",
       "+---+---+---+---+---+---+---+---+---+---+---+"
      ]
     },
     "execution_count": 35,
     "metadata": {},
     "output_type": "execute_result"
    }
   ],
   "source": [
    "np.ones_like(u)"
   ]
  },
  {
   "cell_type": "code",
   "execution_count": 36,
   "metadata": {},
   "outputs": [
    {
     "name": "stderr",
     "output_type": "stream",
     "text": [
      "/home/peller/pynocular/pynocular/core/gridarray.py:277: RuntimeWarning: invalid value encountered in sqrt\n",
      "  return np.ma.asarray(self).__array_ufunc__(ufunc, method, *inputs, **kwargs)\n"
     ]
    },
    {
     "data": {
      "text/html": [
       "<table>\n",
       "<tbody>\n",
       "<tr><td><b>x</b></td><td><b>0</b></td><td><b>1</b></td><td><b>2</b></td><td><b>3</b></td><td><b>4</b></td><td><b>5</b></td><td><b>6</b></td><td><b>7</b></td><td><b>8</b></td><td><b>9</b></td></tr>\n",
       "<tr><td><b></b> </td><td>0       </td><td>1       </td><td>1.41    </td><td>1.73    </td><td>--      </td><td>--      </td><td>--      </td><td>--      </td><td>--      </td><td>--      </td></tr>\n",
       "</tbody>\n",
       "</table>"
      ],
      "text/plain": [
       "+---+---+---+------+------+----+----+----+----+----+----+\n",
       "| x | 0 | 1 | 2    | 3    | 4  | 5  | 6  | 7  | 8  | 9  |\n",
       "+---+---+---+------+------+----+----+----+----+----+----+\n",
       "|   | 0 | 1 | 1.41 | 1.73 | -- | -- | -- | -- | -- | -- |\n",
       "+---+---+---+------+------+----+----+----+----+----+----+"
      ]
     },
     "execution_count": 36,
     "metadata": {},
     "output_type": "execute_result"
    }
   ],
   "source": [
    "np.sqrt(u)"
   ]
  },
  {
   "cell_type": "code",
   "execution_count": 37,
   "metadata": {},
   "outputs": [
    {
     "data": {
      "text/plain": [
       "array([10.        , 10.        ,  5.        ,  3.33333333, -2.5       ,\n",
       "       -2.        , -1.66666667, -1.42857143, -1.25      , -1.11111111])"
      ]
     },
     "execution_count": 37,
     "metadata": {},
     "output_type": "execute_result"
    }
   ],
   "source": [
    "np.asarray(10 / u)"
   ]
  },
  {
   "cell_type": "code",
   "execution_count": 38,
   "metadata": {},
   "outputs": [
    {
     "data": {
      "text/html": [
       "<table>\n",
       "<tbody>\n",
       "<tr><td><b>x</b></td><td><b>0</b></td><td><b>1</b></td><td><b>2</b></td><td><b>3</b></td><td><b>4</b></td><td><b>5</b></td><td><b>6</b></td><td><b>7</b></td><td><b>8</b></td><td><b>9</b></td></tr>\n",
       "<tr><td><b></b> </td><td>0       </td><td>1       </td><td>2       </td><td>3       </td><td>-4      </td><td>-5      </td><td>-6      </td><td>-7      </td><td>-8      </td><td>-9      </td></tr>\n",
       "</tbody>\n",
       "</table>"
      ],
      "text/plain": [
       "+---+---+---+---+---+----+----+----+----+----+----+\n",
       "| x | 0 | 1 | 2 | 3 |  4 |  5 |  6 |  7 |  8 |  9 |\n",
       "+---+---+---+---+---+----+----+----+----+----+----+\n",
       "|   | 0 | 1 | 2 | 3 | -4 | -5 | -6 | -7 | -8 | -9 |\n",
       "+---+---+---+---+---+----+----+----+----+----+----+"
      ]
     },
     "execution_count": 38,
     "metadata": {},
     "output_type": "execute_result"
    }
   ],
   "source": [
    "u"
   ]
  },
  {
   "cell_type": "code",
   "execution_count": 39,
   "metadata": {},
   "outputs": [
    {
     "data": {
      "text/html": [
       "<table>\n",
       "<tbody>\n",
       "<tr><td><b>x</b></td><td><b>0</b></td><td><b>1</b></td><td><b>2</b></td><td><b>3</b></td><td><b>4</b></td><td><b>5</b></td><td><b>6</b></td><td><b>7</b></td><td><b>8</b></td><td><b>9</b></td></tr>\n",
       "<tr><td><b></b> </td><td>--      </td><td>--      </td><td>--      </td><td>1.73    </td><td>--      </td><td>--      </td><td>--      </td><td>--      </td><td>--      </td><td>--      </td></tr>\n",
       "</tbody>\n",
       "</table>"
      ],
      "text/plain": [
       "+---+----+----+----+------+----+----+----+----+----+----+\n",
       "| x | 0  | 1  | 2  | 3    | 4  | 5  | 6  | 7  | 8  | 9  |\n",
       "+---+----+----+----+------+----+----+----+----+----+----+\n",
       "|   | -- | -- | -- | 1.73 | -- | -- | -- | -- | -- | -- |\n",
       "+---+----+----+----+------+----+----+----+----+----+----+"
      ]
     },
     "execution_count": 39,
     "metadata": {},
     "output_type": "execute_result"
    }
   ],
   "source": [
    "np.sqrt(u[u>2])"
   ]
  },
  {
   "cell_type": "code",
   "execution_count": 40,
   "metadata": {},
   "outputs": [
    {
     "data": {
      "text/html": [
       "<table>\n",
       "<tbody>\n",
       "<tr><td><b>x</b></td><td><b>0</b></td><td><b>1</b></td><td><b>2</b></td></tr>\n",
       "<tr><td><b></b> </td><td>0       </td><td>1       </td><td>2       </td></tr>\n",
       "</tbody>\n",
       "</table>"
      ],
      "text/plain": [
       "+---+---+---+---+\n",
       "| x | 0 | 1 | 2 |\n",
       "+---+---+---+---+\n",
       "|   | 0 | 1 | 2 |\n",
       "+---+---+---+---+"
      ]
     },
     "execution_count": 40,
     "metadata": {},
     "output_type": "execute_result"
    }
   ],
   "source": [
    "u[0:3]"
   ]
  },
  {
   "cell_type": "code",
   "execution_count": 41,
   "metadata": {},
   "outputs": [],
   "source": [
    "g = pn.GridData(x=np.arange(20), y=np.arange(5))\n",
    "#g = pn.GridData(y=np.arange(5))"
   ]
  },
  {
   "cell_type": "code",
   "execution_count": 48,
   "metadata": {},
   "outputs": [],
   "source": [
    "g.grid['x'].edges = pn.Edges(points=g.grid['x'].points)"
   ]
  },
  {
   "cell_type": "code",
   "execution_count": 49,
   "metadata": {},
   "outputs": [],
   "source": [
    "e = pn.Edges(points=np.arange(11))"
   ]
  },
  {
   "cell_type": "code",
   "execution_count": 50,
   "metadata": {},
   "outputs": [
    {
     "data": {
      "text/plain": [
       "-0.5"
      ]
     },
     "execution_count": 50,
     "metadata": {},
     "output_type": "execute_result"
    }
   ],
   "source": [
    "e[0,0]"
   ]
  },
  {
   "cell_type": "code",
   "execution_count": 51,
   "metadata": {},
   "outputs": [],
   "source": [
    "a = pn.GridArray(np.random.rand(g.grid.size).reshape(g.shape), grid=g.grid)"
   ]
  },
  {
   "cell_type": "code",
   "execution_count": 52,
   "metadata": {},
   "outputs": [
    {
     "data": {
      "text/plain": [
       "[<matplotlib.lines.Line2D at 0x7f1abc2e9390>]"
      ]
     },
     "execution_count": 52,
     "metadata": {},
     "output_type": "execute_result"
    },
    {
     "data": {
      "image/png": "[encoded data removed]",
      "text/plain": [
       "<Figure size 432x288 with 1 Axes>"
      ]
     },
     "metadata": {
      "needs_background": "light"
     },
     "output_type": "display_data"
    }
   ],
   "source": [
    "np.max(np.sin(a), axis='x').plot()"
   ]
  },
  {
   "cell_type": "code",
   "execution_count": 53,
   "metadata": {},
   "outputs": [
    {
     "data": {
      "text/plain": [
       "[<matplotlib.lines.Line2D at 0x7f1abc2bdb00>]"
      ]
     },
     "execution_count": 53,
     "metadata": {},
     "output_type": "execute_result"
    },
    {
     "data": {
      "image/png": "[encoded data removed]",
      "text/plain": [
       "<Figure size 432x288 with 1 Axes>"
      ]
     },
     "metadata": {
      "needs_background": "light"
     },
     "output_type": "display_data"
    }
   ],
   "source": [
    "a[a>0.2][:,0].plot()"
   ]
  },
  {
   "cell_type": "code",
   "execution_count": 64,
   "metadata": {},
   "outputs": [
    {
     "data": {
      "text/plain": [
       "[<matplotlib.lines.Line2D at 0x7f1abc0805f8>]"
      ]
     },
     "execution_count": 64,
     "metadata": {},
     "output_type": "execute_result"
    },
    {
     "data": {
      "image/png": "[encoded data removed]",
      "text/plain": [
       "<Figure size 432x288 with 1 Axes>"
      ]
     },
     "metadata": {
      "needs_background": "light"
     },
     "output_type": "display_data"
    }
   ],
   "source": [
    "a[1].plot()"
   ]
  },
  {
   "cell_type": "code",
   "execution_count": 65,
   "metadata": {},
   "outputs": [],
   "source": [
    "gd = pn.GridData(a=a)"
   ]
  },
  {
   "cell_type": "code",
   "execution_count": 66,
   "metadata": {},
   "outputs": [
    {
     "data": {
      "text/plain": [
       "{'a': masked_array(\n",
       "   data=[[0.15079252, 0.65646807, 0.40203908, 0.64306824, 0.94524889],\n",
       "         [0.27589826, 0.51539404, 0.44836076, 0.60810782, 0.35356127],\n",
       "         [0.51996874, 0.71216946, 0.03317621, 0.4835146 , 0.12127283],\n",
       "         [0.01911528, 0.65810881, 0.45866676, 0.30424023, 0.42185451],\n",
       "         [0.95950357, 0.41489277, 0.10292463, 0.06884473, 0.85621017],\n",
       "         [0.78784598, 0.12356694, 0.45981243, 0.83823632, 0.68569856],\n",
       "         [0.4911502 , 0.36209758, 0.50527999, 0.53349569, 0.66825472],\n",
       "         [0.80122614, 0.62320212, 0.31388136, 0.0525738 , 0.19528301],\n",
       "         [0.24437292, 0.43308911, 0.26814525, 0.23920601, 0.25627555],\n",
       "         [0.25165952, 0.54017506, 0.56748076, 0.55115111, 0.64472726],\n",
       "         [0.40002005, 0.77049978, 0.33216172, 0.02360228, 0.67254653],\n",
       "         [0.23444582, 0.64200929, 0.88842744, 0.01568847, 0.53785324],\n",
       "         [0.45581341, 0.2639943 , 0.97600726, 0.47128394, 0.77103429],\n",
       "         [0.00854574, 0.61520861, 0.34096743, 0.03286439, 0.72406348],\n",
       "         [0.50941704, 0.62435436, 0.83837128, 0.88821576, 0.82842086],\n",
       "         [0.71901808, 0.70745364, 0.48118981, 0.39442878, 0.65975876],\n",
       "         [0.66731092, 0.38807557, 0.48709711, 0.61754781, 0.78570344],\n",
       "         [0.26740631, 0.48199067, 0.47624546, 0.68310314, 0.43501156],\n",
       "         [0.56714144, 0.63330173, 0.0158846 , 0.70581421, 0.64633121],\n",
       "         [0.20787873, 0.26582195, 0.64463798, 0.20021612, 0.85221484]],\n",
       "   mask=False,\n",
       "   fill_value=1e+20)}"
      ]
     },
     "execution_count": 66,
     "metadata": {},
     "output_type": "execute_result"
    }
   ],
   "source": [
    "gd.data"
   ]
  },
  {
   "cell_type": "code",
   "execution_count": 67,
   "metadata": {},
   "outputs": [
    {
     "data": {
      "text/html": [
       "<table>\n",
       "<tbody>\n",
       "<tr><td><b>y \\ x</b></td><td><b>[-0.5 | 0 | 0.5]</b></td><td><b>[0.5 | 1 | 1.5]</b></td><td><b>[1.5 | 2 | 2.5]</b></td><td><b>[2.5 | 3 | 3.5]</b></td><td><b>[3.5 | 4 | 4.5]</b></td><td><b>[4.5 | 5 | 5.5]</b></td><td>...</td><td><b>[13.5 | 14 | 14.5]</b></td><td><b>[14.5 | 15 | 15.5]</b></td><td><b>[15.5 | 16 | 16.5]</b></td><td><b>[16.5 | 17 | 17.5]</b></td><td><b>[17.5 | 18 | 18.5]</b></td><td><b>[18.5 | 19 | 19.5]</b></td></tr>\n",
       "<tr><td><b>0</b>    </td><td>0.151                  </td><td>0.276                 </td><td>0.52                  </td><td>0.0191                </td><td>0.96                  </td><td>0.788                 </td><td>...</td><td>0.509                    </td><td>0.719                    </td><td>0.667                    </td><td>0.267                    </td><td>0.567                    </td><td>0.208                    </td></tr>\n",
       "<tr><td><b>1</b>    </td><td>0.656                  </td><td>0.515                 </td><td>0.712                 </td><td>0.658                 </td><td>0.415                 </td><td>0.124                 </td><td>...</td><td>0.624                    </td><td>0.707                    </td><td>0.388                    </td><td>0.482                    </td><td>0.633                    </td><td>0.266                    </td></tr>\n",
       "<tr><td><b>2</b>    </td><td>0.402                  </td><td>0.448                 </td><td>0.0332                </td><td>0.459                 </td><td>0.103                 </td><td>0.46                  </td><td>...</td><td>0.838                    </td><td>0.481                    </td><td>0.487                    </td><td>0.476                    </td><td>0.0159                   </td><td>0.645                    </td></tr>\n",
       "<tr><td><b>3</b>    </td><td>0.643                  </td><td>0.608                 </td><td>0.484                 </td><td>0.304                 </td><td>0.0688                </td><td>0.838                 </td><td>...</td><td>0.888                    </td><td>0.394                    </td><td>0.618                    </td><td>0.683                    </td><td>0.706                    </td><td>0.2                      </td></tr>\n",
       "<tr><td><b>4</b>    </td><td>0.945                  </td><td>0.354                 </td><td>0.121                 </td><td>0.422                 </td><td>0.856                 </td><td>0.686                 </td><td>...</td><td>0.828                    </td><td>0.66                     </td><td>0.786                    </td><td>0.435                    </td><td>0.646                    </td><td>0.852                    </td></tr>\n",
       "</tbody>\n",
       "</table>"
      ],
      "text/plain": [
       "+-------+------------------+-----------------+-----------------+-----------------+-----------------+-----------------+-----+--------------------+--------------------+--------------------+--------------------+--------------------+--------------------+\n",
       "| y \\ x | [-0.5 | 0 | 0.5] | [0.5 | 1 | 1.5] | [1.5 | 2 | 2.5] | [2.5 | 3 | 3.5] | [3.5 | 4 | 4.5] | [4.5 | 5 | 5.5] | ... | [13.5 | 14 | 14.5] | [14.5 | 15 | 15.5] | [15.5 | 16 | 16.5] | [16.5 | 17 | 17.5] | [17.5 | 18 | 18.5] | [18.5 | 19 | 19.5] |\n",
       "+-------+------------------+-----------------+-----------------+-----------------+-----------------+-----------------+-----+--------------------+--------------------+--------------------+--------------------+--------------------+--------------------+\n",
       "| 0     | 0.151            | 0.276           | 0.52            | 0.0191          | 0.96            | 0.788           | ... | 0.509              | 0.719              | 0.667              | 0.267              | 0.567              | 0.208              |\n",
       "+-------+------------------+-----------------+-----------------+-----------------+-----------------+-----------------+-----+--------------------+--------------------+--------------------+--------------------+--------------------+--------------------+\n",
       "| 1     | 0.656            | 0.515           | 0.712           | 0.658           | 0.415           | 0.124           | ... | 0.624              | 0.707              | 0.388              | 0.482              | 0.633              | 0.266              |\n",
       "+-------+------------------+-----------------+-----------------+-----------------+-----------------+-----------------+-----+--------------------+--------------------+--------------------+--------------------+--------------------+--------------------+\n",
       "| 2     | 0.402            | 0.448           | 0.0332          | 0.459           | 0.103           | 0.46            | ... | 0.838              | 0.481              | 0.487              | 0.476              | 0.0159             | 0.645              |\n",
       "+-------+------------------+-----------------+-----------------+-----------------+-----------------+-----------------+-----+--------------------+--------------------+--------------------+--------------------+--------------------+--------------------+\n",
       "| 3     | 0.643            | 0.608           | 0.484           | 0.304           | 0.0688          | 0.838           | ... | 0.888              | 0.394              | 0.618              | 0.683              | 0.706              | 0.2                |\n",
       "+-------+------------------+-----------------+-----------------+-----------------+-----------------+-----------------+-----+--------------------+--------------------+--------------------+--------------------+--------------------+--------------------+\n",
       "| 4     | 0.945            | 0.354           | 0.121           | 0.422           | 0.856           | 0.686           | ... | 0.828              | 0.66               | 0.786              | 0.435              | 0.646              | 0.852              |\n",
       "+-------+------------------+-----------------+-----------------+-----------------+-----------------+-----------------+-----+--------------------+--------------------+--------------------+--------------------+--------------------+--------------------+"
      ]
     },
     "execution_count": 67,
     "metadata": {},
     "output_type": "execute_result"
    }
   ],
   "source": [
    "gd['a']"
   ]
  },
  {
   "cell_type": "code",
   "execution_count": 68,
   "metadata": {},
   "outputs": [
    {
     "data": {
      "text/plain": [
       "[<matplotlib.lines.Line2D at 0x7f1abc0805c0>]"
      ]
     },
     "execution_count": 68,
     "metadata": {},
     "output_type": "execute_result"
    },
    {
     "data": {
      "image/png": "[encoded data removed]",
      "text/plain": [
       "<Figure size 432x288 with 1 Axes>"
      ]
     },
     "metadata": {
      "needs_background": "light"
     },
     "output_type": "display_data"
    }
   ],
   "source": [
    "a[a>0.2][2].plot()"
   ]
  },
  {
   "cell_type": "code",
   "execution_count": 69,
   "metadata": {},
   "outputs": [
    {
     "data": {
      "text/plain": [
       "[<matplotlib.lines.Line2D at 0x7f1abc038240>]"
      ]
     },
     "execution_count": 69,
     "metadata": {},
     "output_type": "execute_result"
    },
    {
     "data": {
      "image/png": "[encoded data removed]",
      "text/plain": [
       "<Figure size 432x288 with 1 Axes>"
      ]
     },
     "metadata": {
      "needs_background": "light"
     },
     "output_type": "display_data"
    }
   ],
   "source": [
    "np.ma.masked_where(a>0.5, a)[:,0].plot()"
   ]
  },
  {
   "cell_type": "code",
   "execution_count": 70,
   "metadata": {},
   "outputs": [
    {
     "data": {
      "text/html": [
       "<table>\n",
       "<tbody>\n",
       "<tr><td><b>y \\ x</b></td><td><b>[-0.5 | 0 | 0.5]</b></td><td><b>[0.5 | 1 | 1.5]</b></td><td><b>[1.5 | 2 | 2.5]</b></td><td><b>[2.5 | 3 | 3.5]</b></td><td><b>[3.5 | 4 | 4.5]</b></td><td><b>[4.5 | 5 | 5.5]</b></td><td>...</td><td><b>[13.5 | 14 | 14.5]</b></td><td><b>[14.5 | 15 | 15.5]</b></td><td><b>[15.5 | 16 | 16.5]</b></td><td><b>[16.5 | 17 | 17.5]</b></td><td><b>[17.5 | 18 | 18.5]</b></td><td><b>[18.5 | 19 | 19.5]</b></td></tr>\n",
       "<tr><td><b>0</b>    </td><td>0                      </td><td>0                     </td><td>0                     </td><td>0                     </td><td>0                     </td><td>0                     </td><td>...</td><td>0                        </td><td>0                        </td><td>0                        </td><td>0                        </td><td>0                        </td><td>0                        </td></tr>\n",
       "<tr><td><b>1</b>    </td><td>0                      </td><td>0                     </td><td>0                     </td><td>0                     </td><td>0                     </td><td>0                     </td><td>...</td><td>0                        </td><td>0                        </td><td>0                        </td><td>0                        </td><td>0                        </td><td>0                        </td></tr>\n",
       "<tr><td><b>2</b>    </td><td>0                      </td><td>0                     </td><td>0                     </td><td>0                     </td><td>0                     </td><td>0                     </td><td>...</td><td>0                        </td><td>0                        </td><td>0                        </td><td>0                        </td><td>0                        </td><td>0                        </td></tr>\n",
       "<tr><td><b>3</b>    </td><td>0                      </td><td>0                     </td><td>0                     </td><td>0                     </td><td>0                     </td><td>0                     </td><td>...</td><td>0                        </td><td>0                        </td><td>0                        </td><td>0                        </td><td>0                        </td><td>0                        </td></tr>\n",
       "<tr><td><b>4</b>    </td><td>0                      </td><td>0                     </td><td>0                     </td><td>0                     </td><td>0                     </td><td>0                     </td><td>...</td><td>0                        </td><td>0                        </td><td>0                        </td><td>0                        </td><td>0                        </td><td>0                        </td></tr>\n",
       "</tbody>\n",
       "</table>"
      ],
      "text/plain": [
       "+-------+------------------+-----------------+-----------------+-----------------+-----------------+-----------------+-----+--------------------+--------------------+--------------------+--------------------+--------------------+--------------------+\n",
       "| y \\ x | [-0.5 | 0 | 0.5] | [0.5 | 1 | 1.5] | [1.5 | 2 | 2.5] | [2.5 | 3 | 3.5] | [3.5 | 4 | 4.5] | [4.5 | 5 | 5.5] | ... | [13.5 | 14 | 14.5] | [14.5 | 15 | 15.5] | [15.5 | 16 | 16.5] | [16.5 | 17 | 17.5] | [17.5 | 18 | 18.5] | [18.5 | 19 | 19.5] |\n",
       "+-------+------------------+-----------------+-----------------+-----------------+-----------------+-----------------+-----+--------------------+--------------------+--------------------+--------------------+--------------------+--------------------+\n",
       "| 0     | 0                | 0               | 0               | 0               | 0               | 0               | ... | 0                  | 0                  | 0                  | 0                  | 0                  | 0                  |\n",
       "+-------+------------------+-----------------+-----------------+-----------------+-----------------+-----------------+-----+--------------------+--------------------+--------------------+--------------------+--------------------+--------------------+\n",
       "| 1     | 0                | 0               | 0               | 0               | 0               | 0               | ... | 0                  | 0                  | 0                  | 0                  | 0                  | 0                  |\n",
       "+-------+------------------+-----------------+-----------------+-----------------+-----------------+-----------------+-----+--------------------+--------------------+--------------------+--------------------+--------------------+--------------------+\n",
       "| 2     | 0                | 0               | 0               | 0               | 0               | 0               | ... | 0                  | 0                  | 0                  | 0                  | 0                  | 0                  |\n",
       "+-------+------------------+-----------------+-----------------+-----------------+-----------------+-----------------+-----+--------------------+--------------------+--------------------+--------------------+--------------------+--------------------+\n",
       "| 3     | 0                | 0               | 0               | 0               | 0               | 0               | ... | 0                  | 0                  | 0                  | 0                  | 0                  | 0                  |\n",
       "+-------+------------------+-----------------+-----------------+-----------------+-----------------+-----------------+-----+--------------------+--------------------+--------------------+--------------------+--------------------+--------------------+\n",
       "| 4     | 0                | 0               | 0               | 0               | 0               | 0               | ... | 0                  | 0                  | 0                  | 0                  | 0                  | 0                  |\n",
       "+-------+------------------+-----------------+-----------------+-----------------+-----------------+-----------------+-----+--------------------+--------------------+--------------------+--------------------+--------------------+--------------------+"
      ]
     },
     "execution_count": 70,
     "metadata": {},
     "output_type": "execute_result"
    }
   ],
   "source": [
    "a.astype(np.int)"
   ]
  },
  {
   "cell_type": "code",
   "execution_count": 71,
   "metadata": {},
   "outputs": [
    {
     "data": {
      "text/html": [
       "<table>\n",
       "<tbody>\n",
       "<tr><td><b>y \\ x</b></td><td><b>[-0.5 | 0 | 0.5]</b></td><td><b>[0.5 | 1 | 1.5]</b></td><td><b>[1.5 | 2 | 2.5]</b></td><td><b>[2.5 | 3 | 3.5]</b></td><td><b>[3.5 | 4 | 4.5]</b></td><td><b>[4.5 | 5 | 5.5]</b></td><td>...</td><td><b>[13.5 | 14 | 14.5]</b></td><td><b>[14.5 | 15 | 15.5]</b></td><td><b>[15.5 | 16 | 16.5]</b></td><td><b>[16.5 | 17 | 17.5]</b></td><td><b>[17.5 | 18 | 18.5]</b></td><td><b>[18.5 | 19 | 19.5]</b></td></tr>\n",
       "<tr><td><b>0</b>    </td><td>1                      </td><td>1                     </td><td>1                     </td><td>1                     </td><td>1                     </td><td>1                     </td><td>...</td><td>1                        </td><td>1                        </td><td>1                        </td><td>1                        </td><td>1                        </td><td>1                        </td></tr>\n",
       "<tr><td><b>1</b>    </td><td>1                      </td><td>1                     </td><td>1                     </td><td>1                     </td><td>1                     </td><td>1                     </td><td>...</td><td>1                        </td><td>1                        </td><td>1                        </td><td>1                        </td><td>1                        </td><td>1                        </td></tr>\n",
       "<tr><td><b>2</b>    </td><td>1                      </td><td>1                     </td><td>1                     </td><td>1                     </td><td>1                     </td><td>1                     </td><td>...</td><td>1                        </td><td>1                        </td><td>1                        </td><td>1                        </td><td>1                        </td><td>1                        </td></tr>\n",
       "<tr><td><b>3</b>    </td><td>1                      </td><td>1                     </td><td>1                     </td><td>1                     </td><td>1                     </td><td>1                     </td><td>...</td><td>1                        </td><td>1                        </td><td>1                        </td><td>1                        </td><td>1                        </td><td>1                        </td></tr>\n",
       "<tr><td><b>4</b>    </td><td>1                      </td><td>1                     </td><td>1                     </td><td>1                     </td><td>1                     </td><td>1                     </td><td>...</td><td>1                        </td><td>1                        </td><td>1                        </td><td>1                        </td><td>1                        </td><td>1                        </td></tr>\n",
       "</tbody>\n",
       "</table>"
      ],
      "text/plain": [
       "+-------+------------------+-----------------+-----------------+-----------------+-----------------+-----------------+-----+--------------------+--------------------+--------------------+--------------------+--------------------+--------------------+\n",
       "| y \\ x | [-0.5 | 0 | 0.5] | [0.5 | 1 | 1.5] | [1.5 | 2 | 2.5] | [2.5 | 3 | 3.5] | [3.5 | 4 | 4.5] | [4.5 | 5 | 5.5] | ... | [13.5 | 14 | 14.5] | [14.5 | 15 | 15.5] | [15.5 | 16 | 16.5] | [16.5 | 17 | 17.5] | [17.5 | 18 | 18.5] | [18.5 | 19 | 19.5] |\n",
       "+-------+------------------+-----------------+-----------------+-----------------+-----------------+-----------------+-----+--------------------+--------------------+--------------------+--------------------+--------------------+--------------------+\n",
       "| 0     | 1                | 1               | 1               | 1               | 1               | 1               | ... | 1                  | 1                  | 1                  | 1                  | 1                  | 1                  |\n",
       "+-------+------------------+-----------------+-----------------+-----------------+-----------------+-----------------+-----+--------------------+--------------------+--------------------+--------------------+--------------------+--------------------+\n",
       "| 1     | 1                | 1               | 1               | 1               | 1               | 1               | ... | 1                  | 1                  | 1                  | 1                  | 1                  | 1                  |\n",
       "+-------+------------------+-----------------+-----------------+-----------------+-----------------+-----------------+-----+--------------------+--------------------+--------------------+--------------------+--------------------+--------------------+\n",
       "| 2     | 1                | 1               | 1               | 1               | 1               | 1               | ... | 1                  | 1                  | 1                  | 1                  | 1                  | 1                  |\n",
       "+-------+------------------+-----------------+-----------------+-----------------+-----------------+-----------------+-----+--------------------+--------------------+--------------------+--------------------+--------------------+--------------------+\n",
       "| 3     | 1                | 1               | 1               | 1               | 1               | 1               | ... | 1                  | 1                  | 1                  | 1                  | 1                  | 1                  |\n",
       "+-------+------------------+-----------------+-----------------+-----------------+-----------------+-----------------+-----+--------------------+--------------------+--------------------+--------------------+--------------------+--------------------+\n",
       "| 4     | 1                | 1               | 1               | 1               | 1               | 1               | ... | 1                  | 1                  | 1                  | 1                  | 1                  | 1                  |\n",
       "+-------+------------------+-----------------+-----------------+-----------------+-----------------+-----------------+-----+--------------------+--------------------+--------------------+--------------------+--------------------+--------------------+"
      ]
     },
     "execution_count": 71,
     "metadata": {},
     "output_type": "execute_result"
    }
   ],
   "source": [
    "np.ones_like(a)"
   ]
  },
  {
   "cell_type": "code",
   "execution_count": 72,
   "metadata": {},
   "outputs": [
    {
     "data": {
      "text/plain": [
       "True"
      ]
     },
     "execution_count": 72,
     "metadata": {},
     "output_type": "execute_result"
    }
   ],
   "source": [
    "np.all(np.abs(-a) == a)"
   ]
  },
  {
   "cell_type": "code",
   "execution_count": 73,
   "metadata": {},
   "outputs": [
    {
     "data": {
      "text/html": [
       "<table>\n",
       "<tbody>\n",
       "<tr><td><b>y \\ x</b></td><td><b>[-0.5 | 0 | 0.5]</b></td><td><b>[0.5 | 1 | 1.5]</b></td><td><b>[1.5 | 2 | 2.5]</b></td><td><b>[2.5 | 3 | 3.5]</b></td><td><b>[3.5 | 4 | 4.5]</b></td><td><b>[4.5 | 5 | 5.5]</b></td><td>...</td><td><b>[13.5 | 14 | 14.5]</b></td><td><b>[14.5 | 15 | 15.5]</b></td><td><b>[15.5 | 16 | 16.5]</b></td><td><b>[16.5 | 17 | 17.5]</b></td><td><b>[17.5 | 18 | 18.5]</b></td><td><b>[18.5 | 19 | 19.5]</b></td></tr>\n",
       "<tr><td><b>0</b>    </td><td>0.151                  </td><td>0.276                 </td><td>0.52                  </td><td>0.0191                </td><td>0.96                  </td><td>0.788                 </td><td>...</td><td>0.509                    </td><td>0.719                    </td><td>0.667                    </td><td>0.267                    </td><td>0.567                    </td><td>0.208                    </td></tr>\n",
       "<tr><td><b>1</b>    </td><td>0.656                  </td><td>0.515                 </td><td>0.712                 </td><td>0.658                 </td><td>0.415                 </td><td>0.124                 </td><td>...</td><td>0.624                    </td><td>0.707                    </td><td>0.388                    </td><td>0.482                    </td><td>0.633                    </td><td>0.266                    </td></tr>\n",
       "<tr><td><b>2</b>    </td><td>0.402                  </td><td>0.448                 </td><td>0.0332                </td><td>0.459                 </td><td>0.103                 </td><td>0.46                  </td><td>...</td><td>0.838                    </td><td>0.481                    </td><td>0.487                    </td><td>0.476                    </td><td>0.0159                   </td><td>0.645                    </td></tr>\n",
       "<tr><td><b>3</b>    </td><td>0.643                  </td><td>0.608                 </td><td>0.484                 </td><td>0.304                 </td><td>0.0688                </td><td>0.838                 </td><td>...</td><td>0.888                    </td><td>0.394                    </td><td>0.618                    </td><td>0.683                    </td><td>0.706                    </td><td>0.2                      </td></tr>\n",
       "<tr><td><b>4</b>    </td><td>0.945                  </td><td>0.354                 </td><td>0.121                 </td><td>0.422                 </td><td>0.856                 </td><td>0.686                 </td><td>...</td><td>0.828                    </td><td>0.66                     </td><td>0.786                    </td><td>0.435                    </td><td>0.646                    </td><td>0.852                    </td></tr>\n",
       "</tbody>\n",
       "</table>"
      ],
      "text/plain": [
       "+-------+------------------+-----------------+-----------------+-----------------+-----------------+-----------------+-----+--------------------+--------------------+--------------------+--------------------+--------------------+--------------------+\n",
       "| y \\ x | [-0.5 | 0 | 0.5] | [0.5 | 1 | 1.5] | [1.5 | 2 | 2.5] | [2.5 | 3 | 3.5] | [3.5 | 4 | 4.5] | [4.5 | 5 | 5.5] | ... | [13.5 | 14 | 14.5] | [14.5 | 15 | 15.5] | [15.5 | 16 | 16.5] | [16.5 | 17 | 17.5] | [17.5 | 18 | 18.5] | [18.5 | 19 | 19.5] |\n",
       "+-------+------------------+-----------------+-----------------+-----------------+-----------------+-----------------+-----+--------------------+--------------------+--------------------+--------------------+--------------------+--------------------+\n",
       "| 0     | 0.151            | 0.276           | 0.52            | 0.0191          | 0.96            | 0.788           | ... | 0.509              | 0.719              | 0.667              | 0.267              | 0.567              | 0.208              |\n",
       "+-------+------------------+-----------------+-----------------+-----------------+-----------------+-----------------+-----+--------------------+--------------------+--------------------+--------------------+--------------------+--------------------+\n",
       "| 1     | 0.656            | 0.515           | 0.712           | 0.658           | 0.415           | 0.124           | ... | 0.624              | 0.707              | 0.388              | 0.482              | 0.633              | 0.266              |\n",
       "+-------+------------------+-----------------+-----------------+-----------------+-----------------+-----------------+-----+--------------------+--------------------+--------------------+--------------------+--------------------+--------------------+\n",
       "| 2     | 0.402            | 0.448           | 0.0332          | 0.459           | 0.103           | 0.46            | ... | 0.838              | 0.481              | 0.487              | 0.476              | 0.0159             | 0.645              |\n",
       "+-------+------------------+-----------------+-----------------+-----------------+-----------------+-----------------+-----+--------------------+--------------------+--------------------+--------------------+--------------------+--------------------+\n",
       "| 3     | 0.643            | 0.608           | 0.484           | 0.304           | 0.0688          | 0.838           | ... | 0.888              | 0.394              | 0.618              | 0.683              | 0.706              | 0.2                |\n",
       "+-------+------------------+-----------------+-----------------+-----------------+-----------------+-----------------+-----+--------------------+--------------------+--------------------+--------------------+--------------------+--------------------+\n",
       "| 4     | 0.945            | 0.354           | 0.121           | 0.422           | 0.856           | 0.686           | ... | 0.828              | 0.66               | 0.786              | 0.435              | 0.646              | 0.852              |\n",
       "+-------+------------------+-----------------+-----------------+-----------------+-----------------+-----------------+-----+--------------------+--------------------+--------------------+--------------------+--------------------+--------------------+"
      ]
     },
     "execution_count": 73,
     "metadata": {},
     "output_type": "execute_result"
    }
   ],
   "source": [
    "np.abs(-a)"
   ]
  },
  {
   "cell_type": "code",
   "execution_count": 74,
   "metadata": {},
   "outputs": [
    {
     "data": {
      "text/html": [
       "<table>\n",
       "<tbody>\n",
       "<tr><td><b>x</b></td><td><b>[-0.5 | 0 | 0.5]</b></td><td><b>[0.5 | 1 | 1.5]</b></td><td><b>[1.5 | 2 | 2.5]</b></td><td><b>[2.5 | 3 | 3.5]</b></td><td><b>[3.5 | 4 | 4.5]</b></td><td><b>[4.5 | 5 | 5.5]</b></td><td>...</td><td><b>[13.5 | 14 | 14.5]</b></td><td><b>[14.5 | 15 | 15.5]</b></td><td><b>[15.5 | 16 | 16.5]</b></td><td><b>[16.5 | 17 | 17.5]</b></td><td><b>[17.5 | 18 | 18.5]</b></td><td><b>[18.5 | 19 | 19.5]</b></td></tr>\n",
       "<tr><td><b></b> </td><td>2.8                    </td><td>2.2                   </td><td>1.87                  </td><td>1.86                  </td><td>2.4                   </td><td>2.9                   </td><td>...</td><td>3.69                     </td><td>2.96                     </td><td>2.95                     </td><td>2.34                     </td><td>2.57                     </td><td>2.17                     </td></tr>\n",
       "</tbody>\n",
       "</table>"
      ],
      "text/plain": [
       "+---+------------------+-----------------+-----------------+-----------------+-----------------+-----------------+-----+--------------------+--------------------+--------------------+--------------------+--------------------+--------------------+\n",
       "| x | [-0.5 | 0 | 0.5] | [0.5 | 1 | 1.5] | [1.5 | 2 | 2.5] | [2.5 | 3 | 3.5] | [3.5 | 4 | 4.5] | [4.5 | 5 | 5.5] | ... | [13.5 | 14 | 14.5] | [14.5 | 15 | 15.5] | [15.5 | 16 | 16.5] | [16.5 | 17 | 17.5] | [17.5 | 18 | 18.5] | [18.5 | 19 | 19.5] |\n",
       "+---+------------------+-----------------+-----------------+-----------------+-----------------+-----------------+-----+--------------------+--------------------+--------------------+--------------------+--------------------+--------------------+\n",
       "|   | 2.8              | 2.2             | 1.87            | 1.86            | 2.4             | 2.9             | ... | 3.69               | 2.96               | 2.95               | 2.34               | 2.57               | 2.17               |\n",
       "+---+------------------+-----------------+-----------------+-----------------+-----------------+-----------------+-----+--------------------+--------------------+--------------------+--------------------+--------------------+--------------------+"
      ]
     },
     "execution_count": 74,
     "metadata": {},
     "output_type": "execute_result"
    }
   ],
   "source": [
    "np.sum(a, axis='y')"
   ]
  },
  {
   "cell_type": "code",
   "execution_count": 75,
   "metadata": {},
   "outputs": [
    {
     "data": {
      "text/html": [
       "<table>\n",
       "<tbody>\n",
       "<tr><td><b>y \\ x</b></td><td><b>[-0.5 | 0 | 0.5]</b></td><td><b>[0.5 | 1 | 1.5]</b></td><td><b>[1.5 | 2 | 2.5]</b></td><td><b>[2.5 | 3 | 3.5]</b></td><td><b>[3.5 | 4 | 4.5]</b></td><td><b>[4.5 | 5 | 5.5]</b></td><td>...</td><td><b>[13.5 | 14 | 14.5]</b></td><td><b>[14.5 | 15 | 15.5]</b></td><td><b>[15.5 | 16 | 16.5]</b></td><td><b>[16.5 | 17 | 17.5]</b></td><td><b>[17.5 | 18 | 18.5]</b></td><td><b>[18.5 | 19 | 19.5]</b></td></tr>\n",
       "<tr><td><b>0</b>    </td><td>0.151                  </td><td>0.276                 </td><td>0.52                  </td><td>0.0191                </td><td>0.96                  </td><td>0.788                 </td><td>...</td><td>0.509                    </td><td>0.719                    </td><td>0.667                    </td><td>0.267                    </td><td>0.567                    </td><td>0.208                    </td></tr>\n",
       "<tr><td><b>1</b>    </td><td>0.656                  </td><td>0.515                 </td><td>0.712                 </td><td>0.658                 </td><td>0.415                 </td><td>0.124                 </td><td>...</td><td>0.624                    </td><td>0.707                    </td><td>0.388                    </td><td>0.482                    </td><td>0.633                    </td><td>0.266                    </td></tr>\n",
       "<tr><td><b>2</b>    </td><td>0.402                  </td><td>0.448                 </td><td>0.0332                </td><td>0.459                 </td><td>0.103                 </td><td>0.46                  </td><td>...</td><td>0.838                    </td><td>0.481                    </td><td>0.487                    </td><td>0.476                    </td><td>0.0159                   </td><td>0.645                    </td></tr>\n",
       "<tr><td><b>3</b>    </td><td>0.643                  </td><td>0.608                 </td><td>0.484                 </td><td>0.304                 </td><td>0.0688                </td><td>0.838                 </td><td>...</td><td>0.888                    </td><td>0.394                    </td><td>0.618                    </td><td>0.683                    </td><td>0.706                    </td><td>0.2                      </td></tr>\n",
       "<tr><td><b>4</b>    </td><td>0.945                  </td><td>0.354                 </td><td>0.121                 </td><td>0.422                 </td><td>0.856                 </td><td>0.686                 </td><td>...</td><td>0.828                    </td><td>0.66                     </td><td>0.786                    </td><td>0.435                    </td><td>0.646                    </td><td>0.852                    </td></tr>\n",
       "</tbody>\n",
       "</table>"
      ],
      "text/plain": [
       "+-------+------------------+-----------------+-----------------+-----------------+-----------------+-----------------+-----+--------------------+--------------------+--------------------+--------------------+--------------------+--------------------+\n",
       "| y \\ x | [-0.5 | 0 | 0.5] | [0.5 | 1 | 1.5] | [1.5 | 2 | 2.5] | [2.5 | 3 | 3.5] | [3.5 | 4 | 4.5] | [4.5 | 5 | 5.5] | ... | [13.5 | 14 | 14.5] | [14.5 | 15 | 15.5] | [15.5 | 16 | 16.5] | [16.5 | 17 | 17.5] | [17.5 | 18 | 18.5] | [18.5 | 19 | 19.5] |\n",
       "+-------+------------------+-----------------+-----------------+-----------------+-----------------+-----------------+-----+--------------------+--------------------+--------------------+--------------------+--------------------+--------------------+\n",
       "| 0     | 0.151            | 0.276           | 0.52            | 0.0191          | 0.96            | 0.788           | ... | 0.509              | 0.719              | 0.667              | 0.267              | 0.567              | 0.208              |\n",
       "+-------+------------------+-----------------+-----------------+-----------------+-----------------+-----------------+-----+--------------------+--------------------+--------------------+--------------------+--------------------+--------------------+\n",
       "| 1     | 0.656            | 0.515           | 0.712           | 0.658           | 0.415           | 0.124           | ... | 0.624              | 0.707              | 0.388              | 0.482              | 0.633              | 0.266              |\n",
       "+-------+------------------+-----------------+-----------------+-----------------+-----------------+-----------------+-----+--------------------+--------------------+--------------------+--------------------+--------------------+--------------------+\n",
       "| 2     | 0.402            | 0.448           | 0.0332          | 0.459           | 0.103           | 0.46            | ... | 0.838              | 0.481              | 0.487              | 0.476              | 0.0159             | 0.645              |\n",
       "+-------+------------------+-----------------+-----------------+-----------------+-----------------+-----------------+-----+--------------------+--------------------+--------------------+--------------------+--------------------+--------------------+\n",
       "| 3     | 0.643            | 0.608           | 0.484           | 0.304           | 0.0688          | 0.838           | ... | 0.888              | 0.394              | 0.618              | 0.683              | 0.706              | 0.2                |\n",
       "+-------+------------------+-----------------+-----------------+-----------------+-----------------+-----------------+-----+--------------------+--------------------+--------------------+--------------------+--------------------+--------------------+\n",
       "| 4     | 0.945            | 0.354           | 0.121           | 0.422           | 0.856           | 0.686           | ... | 0.828              | 0.66               | 0.786              | 0.435              | 0.646              | 0.852              |\n",
       "+-------+------------------+-----------------+-----------------+-----------------+-----------------+-----------------+-----+--------------------+--------------------+--------------------+--------------------+--------------------+--------------------+"
      ]
     },
     "execution_count": 75,
     "metadata": {},
     "output_type": "execute_result"
    }
   ],
   "source": [
    "a"
   ]
  },
  {
   "cell_type": "code",
   "execution_count": 76,
   "metadata": {},
   "outputs": [
    {
     "data": {
      "text/html": [
       "<table>\n",
       "<tbody>\n",
       "<tr><td><b>y \\ x</b></td><td><b>[-0.5 | 0 | 0.5]</b></td><td><b>[0.5 | 1 | 1.5]</b></td><td><b>[1.5 | 2 | 2.5]</b></td><td><b>[2.5 | 3 | 3.5]</b></td><td><b>[3.5 | 4 | 4.5]</b></td><td><b>[4.5 | 5 | 5.5]</b></td><td>...</td><td><b>[13.5 | 14 | 14.5]</b></td><td><b>[14.5 | 15 | 15.5]</b></td><td><b>[15.5 | 16 | 16.5]</b></td><td><b>[16.5 | 17 | 17.5]</b></td><td><b>[17.5 | 18 | 18.5]</b></td><td><b>[18.5 | 19 | 19.5]</b></td></tr>\n",
       "<tr><td><b>0</b>    </td><td>0.0655                 </td><td>0.12                  </td><td>0.226                 </td><td>0.0083                </td><td>0.417                 </td><td>0.342                 </td><td>...</td><td>0.221                    </td><td>0.312                    </td><td>0.29                     </td><td>0.116                    </td><td>0.246                    </td><td>0.0903                   </td></tr>\n",
       "<tr><td><b>1</b>    </td><td>0.285                  </td><td>0.224                 </td><td>0.309                 </td><td>0.286                 </td><td>0.18                  </td><td>0.0537                </td><td>...</td><td>0.271                    </td><td>0.307                    </td><td>0.169                    </td><td>0.209                    </td><td>0.275                    </td><td>0.115                    </td></tr>\n",
       "<tr><td><b>2</b>    </td><td>0.175                  </td><td>0.195                 </td><td>0.0144                </td><td>0.199                 </td><td>0.0447                </td><td>0.2                   </td><td>...</td><td>0.364                    </td><td>0.209                    </td><td>0.212                    </td><td>0.207                    </td><td>0.0069                   </td><td>0.28                     </td></tr>\n",
       "<tr><td><b>3</b>    </td><td>0.279                  </td><td>0.264                 </td><td>0.21                  </td><td>0.132                 </td><td>0.0299                </td><td>0.364                 </td><td>...</td><td>0.386                    </td><td>0.171                    </td><td>0.268                    </td><td>0.297                    </td><td>0.307                    </td><td>0.087                    </td></tr>\n",
       "<tr><td><b>4</b>    </td><td>0.411                  </td><td>0.154                 </td><td>0.0527                </td><td>0.183                 </td><td>0.372                 </td><td>0.298                 </td><td>...</td><td>0.36                     </td><td>0.287                    </td><td>0.341                    </td><td>0.189                    </td><td>0.281                    </td><td>0.37                     </td></tr>\n",
       "</tbody>\n",
       "</table>"
      ],
      "text/plain": [
       "+-------+------------------+-----------------+-----------------+-----------------+-----------------+-----------------+-----+--------------------+--------------------+--------------------+--------------------+--------------------+--------------------+\n",
       "| y \\ x | [-0.5 | 0 | 0.5] | [0.5 | 1 | 1.5] | [1.5 | 2 | 2.5] | [2.5 | 3 | 3.5] | [3.5 | 4 | 4.5] | [4.5 | 5 | 5.5] | ... | [13.5 | 14 | 14.5] | [14.5 | 15 | 15.5] | [15.5 | 16 | 16.5] | [16.5 | 17 | 17.5] | [17.5 | 18 | 18.5] | [18.5 | 19 | 19.5] |\n",
       "+-------+------------------+-----------------+-----------------+-----------------+-----------------+-----------------+-----+--------------------+--------------------+--------------------+--------------------+--------------------+--------------------+\n",
       "| 0     | 0.0655           | 0.12            | 0.226           | 0.0083          | 0.417           | 0.342           | ... | 0.221              | 0.312              | 0.29               | 0.116              | 0.246              | 0.0903             |\n",
       "+-------+------------------+-----------------+-----------------+-----------------+-----------------+-----------------+-----+--------------------+--------------------+--------------------+--------------------+--------------------+--------------------+\n",
       "| 1     | 0.285            | 0.224           | 0.309           | 0.286           | 0.18            | 0.0537          | ... | 0.271              | 0.307              | 0.169              | 0.209              | 0.275              | 0.115              |\n",
       "+-------+------------------+-----------------+-----------------+-----------------+-----------------+-----------------+-----+--------------------+--------------------+--------------------+--------------------+--------------------+--------------------+\n",
       "| 2     | 0.175            | 0.195           | 0.0144          | 0.199           | 0.0447          | 0.2             | ... | 0.364              | 0.209              | 0.212              | 0.207              | 0.0069             | 0.28               |\n",
       "+-------+------------------+-----------------+-----------------+-----------------+-----------------+-----------------+-----+--------------------+--------------------+--------------------+--------------------+--------------------+--------------------+\n",
       "| 3     | 0.279            | 0.264           | 0.21            | 0.132           | 0.0299          | 0.364           | ... | 0.386              | 0.171              | 0.268              | 0.297              | 0.307              | 0.087              |\n",
       "+-------+------------------+-----------------+-----------------+-----------------+-----------------+-----------------+-----+--------------------+--------------------+--------------------+--------------------+--------------------+--------------------+\n",
       "| 4     | 0.411            | 0.154           | 0.0527          | 0.183           | 0.372           | 0.298           | ... | 0.36               | 0.287              | 0.341              | 0.189              | 0.281              | 0.37               |\n",
       "+-------+------------------+-----------------+-----------------+-----------------+-----------------+-----------------+-----+--------------------+--------------------+--------------------+--------------------+--------------------+--------------------+"
      ]
     },
     "execution_count": 76,
     "metadata": {},
     "output_type": "execute_result"
    }
   ],
   "source": [
    "np.log10(np.exp(np.fabs(a)))"
   ]
  },
  {
   "cell_type": "code",
   "execution_count": null,
   "metadata": {},
   "outputs": [],
   "source": []
  },
  {
   "cell_type": "code",
   "execution_count": 77,
   "metadata": {},
   "outputs": [
    {
     "data": {
      "text/html": [
       "<table>\n",
       "<tbody>\n",
       "<tr><td><b>x</b></td><td><b>[-0.5 | 0 | 0.5]</b>      </td><td><b>[0.5 | 1 | 1.5]</b>       </td><td><b>[1.5 | 2 | 2.5]</b>       </td><td><b>[2.5 | 3 | 3.5]</b>       </td><td><b>[3.5 | 4 | 4.5]</b>       </td><td><b>[4.5 | 5 | 5.5]</b>       </td><td>...</td><td><b>[13.5 | 14 | 14.5]</b>    </td><td><b>[14.5 | 15 | 15.5]</b>    </td><td><b>[15.5 | 16 | 16.5]</b>    </td><td><b>[16.5 | 17 | 17.5]</b>    </td><td><b>[17.5 | 18 | 18.5]</b>    </td><td><b>[18.5 | 19 | 19.5]</b>    </td></tr>\n",
       "<tr><td><b></b> </td><td>[0.151 0.807 ... 1.852 2.798]</td><td>[0.276 0.791 ... 1.848 2.201]</td><td>[0.52  1.232 ... 1.749 1.87 ]</td><td>[0.019 0.677 ... 1.44  1.862]</td><td>[0.96  1.374 ... 1.546 2.402]</td><td>[0.788 0.911 ... 2.209 2.895]</td><td>...</td><td>[0.509 1.134 ... 2.86  3.689]</td><td>[0.719 1.426 ... 2.302 2.962]</td><td>[0.667 1.055 ... 2.16  2.946]</td><td>[0.267 0.749 ... 1.909 2.344]</td><td>[0.567 1.2   ... 1.922 2.568]</td><td>[0.208 0.474 ... 1.319 2.171]</td></tr>\n",
       "</tbody>\n",
       "</table>"
      ],
      "text/plain": [
       "+---+-------------------------------+-------------------------------+-------------------------------+-------------------------------+-------------------------------+-------------------------------+-----+-------------------------------+-------------------------------+-------------------------------+-------------------------------+-------------------------------+-------------------------------+\n",
       "| x | [-0.5 | 0 | 0.5]              | [0.5 | 1 | 1.5]               | [1.5 | 2 | 2.5]               | [2.5 | 3 | 3.5]               | [3.5 | 4 | 4.5]               | [4.5 | 5 | 5.5]               | ... | [13.5 | 14 | 14.5]            | [14.5 | 15 | 15.5]            | [15.5 | 16 | 16.5]            | [16.5 | 17 | 17.5]            | [17.5 | 18 | 18.5]            | [18.5 | 19 | 19.5]            |\n",
       "+---+-------------------------------+-------------------------------+-------------------------------+-------------------------------+-------------------------------+-------------------------------+-----+-------------------------------+-------------------------------+-------------------------------+-------------------------------+-------------------------------+-------------------------------+\n",
       "|   | [0.151 0.807 ... 1.852 2.798] | [0.276 0.791 ... 1.848 2.201] | [0.52  1.232 ... 1.749 1.87 ] | [0.019 0.677 ... 1.44  1.862] | [0.96  1.374 ... 1.546 2.402] | [0.788 0.911 ... 2.209 2.895] | ... | [0.509 1.134 ... 2.86  3.689] | [0.719 1.426 ... 2.302 2.962] | [0.667 1.055 ... 2.16  2.946] | [0.267 0.749 ... 1.909 2.344] | [0.567 1.2   ... 1.922 2.568] | [0.208 0.474 ... 1.319 2.171] |\n",
       "+---+-------------------------------+-------------------------------+-------------------------------+-------------------------------+-------------------------------+-------------------------------+-----+-------------------------------+-------------------------------+-------------------------------+-------------------------------+-------------------------------+-------------------------------+"
      ]
     },
     "execution_count": 77,
     "metadata": {},
     "output_type": "execute_result"
    }
   ],
   "source": [
    "np.cumsum(a, axis='y')"
   ]
  },
  {
   "cell_type": "code",
   "execution_count": 78,
   "metadata": {},
   "outputs": [
    {
     "data": {
      "text/html": [
       "<table>\n",
       "<tbody>\n",
       "<tr><td><b>x</b></td><td><b>[18.5 | 19 | 19.5]</b></td><td><b>[16.5 | 17 | 17.5]</b></td><td><b>[14.5 | 15 | 15.5]</b></td><td><b>[12.5 | 13 | 13.5]</b></td><td><b>[10.5 | 11 | 11.5]</b></td><td><b>[8.5 | 9 | 9.5]</b></td><td><b>[6.5 | 7 | 7.5]</b></td><td><b>[4.5 | 5 | 5.5]</b></td><td><b>[2.5 | 3 | 3.5]</b></td><td><b>[0.5 | 1 | 1.5]</b></td></tr>\n",
       "<tr><td><b></b> </td><td>0.266                    </td><td>0.133                    </td><td>0.131                    </td><td>0.292                    </td><td>0.307                    </td><td>0.135                 </td><td>0.276                 </td><td>0.262                 </td><td>0.21                  </td><td>0.117                 </td></tr>\n",
       "</tbody>\n",
       "</table>"
      ],
      "text/plain": [
       "+---+--------------------+--------------------+--------------------+--------------------+--------------------+-----------------+-----------------+-----------------+-----------------+-----------------+\n",
       "| x | [18.5 | 19 | 19.5] | [16.5 | 17 | 17.5] | [14.5 | 15 | 15.5] | [12.5 | 13 | 13.5] | [10.5 | 11 | 11.5] | [8.5 | 9 | 9.5] | [6.5 | 7 | 7.5] | [4.5 | 5 | 5.5] | [2.5 | 3 | 3.5] | [0.5 | 1 | 1.5] |\n",
       "+---+--------------------+--------------------+--------------------+--------------------+--------------------+-----------------+-----------------+-----------------+-----------------+-----------------+\n",
       "|   | 0.266              | 0.133              | 0.131              | 0.292              | 0.307              | 0.135           | 0.276           | 0.262           | 0.21            | 0.117           |\n",
       "+---+--------------------+--------------------+--------------------+--------------------+--------------------+-----------------+-----------------+-----------------+-----------------+-----------------+"
      ]
     },
     "execution_count": 78,
     "metadata": {},
     "output_type": "execute_result"
    }
   ],
   "source": [
    "np.std(a, axis='y')[::-2]"
   ]
  },
  {
   "cell_type": "code",
   "execution_count": 79,
   "metadata": {},
   "outputs": [],
   "source": [
    "a[a > 0.5] *= 10"
   ]
  },
  {
   "cell_type": "code",
   "execution_count": 80,
   "metadata": {},
   "outputs": [
    {
     "data": {
      "text/plain": [
       "<matplotlib.collections.QuadMesh at 0x7f1abce271d0>"
      ]
     },
     "execution_count": 80,
     "metadata": {},
     "output_type": "execute_result"
    },
    {
     "data": {
      "image/png": "[encoded data removed]",
      "text/plain": [
       "<Figure size 432x288 with 2 Axes>"
      ]
     },
     "metadata": {
      "needs_background": "light"
     },
     "output_type": "display_data"
    }
   ],
   "source": [
    "np.empty_like(a).plot(cbar=True)"
   ]
  },
  {
   "cell_type": "code",
   "execution_count": 81,
   "metadata": {},
   "outputs": [
    {
     "data": {
      "text/html": [
       "<table>\n",
       "<tbody>\n",
       "<tr><td><b>y \\ x</b></td><td><b>[2.5 | 3 | 3.5]</b></td><td><b>[3.5 | 4 | 4.5]</b></td></tr>\n",
       "<tr><td><b>0</b>    </td><td>0.0191                </td><td>9.6                   </td></tr>\n",
       "<tr><td><b>1</b>    </td><td>6.58                  </td><td>0.415                 </td></tr>\n",
       "<tr><td><b>2</b>    </td><td>0.459                 </td><td>0.103                 </td></tr>\n",
       "<tr><td><b>3</b>    </td><td>0.304                 </td><td>0.0688                </td></tr>\n",
       "<tr><td><b>4</b>    </td><td>0.422                 </td><td>8.56                  </td></tr>\n",
       "</tbody>\n",
       "</table>"
      ],
      "text/plain": [
       "+-------+-----------------+-----------------+\n",
       "| y \\ x | [2.5 | 3 | 3.5] | [3.5 | 4 | 4.5] |\n",
       "+-------+-----------------+-----------------+\n",
       "| 0     | 0.0191          | 9.6             |\n",
       "+-------+-----------------+-----------------+\n",
       "| 1     | 6.58            | 0.415           |\n",
       "+-------+-----------------+-----------------+\n",
       "| 2     | 0.459           | 0.103           |\n",
       "+-------+-----------------+-----------------+\n",
       "| 3     | 0.304           | 0.0688          |\n",
       "+-------+-----------------+-----------------+\n",
       "| 4     | 0.422           | 8.56            |\n",
       "+-------+-----------------+-----------------+"
      ]
     },
     "execution_count": 81,
     "metadata": {},
     "output_type": "execute_result"
    }
   ],
   "source": [
    "a[3:5]"
   ]
  },
  {
   "cell_type": "code",
   "execution_count": 82,
   "metadata": {},
   "outputs": [
    {
     "data": {
      "text/html": [
       "<table>\n",
       "<tbody>\n",
       "<tr><td><b>y</b></td><td><b>0</b></td><td><b>1</b></td><td><b>2</b></td><td><b>3</b></td><td><b>4</b></td></tr>\n",
       "<tr><td><b></b> </td><td>58.3    </td><td>79.7    </td><td>48.8    </td><td>63      </td><td>105     </td></tr>\n",
       "</tbody>\n",
       "</table>"
      ],
      "text/plain": [
       "+---+------+------+------+----+-----+\n",
       "| y |  0   |  1   |  2   |  3 |   4 |\n",
       "+---+------+------+------+----+-----+\n",
       "|   | 58.3 | 79.7 | 48.8 | 63 | 105 |\n",
       "+---+------+------+------+----+-----+"
      ]
     },
     "execution_count": 82,
     "metadata": {},
     "output_type": "execute_result"
    }
   ],
   "source": [
    "np.sum(a, axis=0)"
   ]
  },
  {
   "cell_type": "code",
   "execution_count": 83,
   "metadata": {},
   "outputs": [
    {
     "data": {
      "text/html": [
       "<table>\n",
       "<tbody>\n",
       "<tr><td><b>y \\ x</b></td><td><b>[-0.5 | 0 | 0.5]</b></td><td><b>[0.5 | 1 | 1.5]</b></td><td><b>[1.5 | 2 | 2.5]</b></td><td><b>[2.5 | 3 | 3.5]</b></td><td><b>[3.5 | 4 | 4.5]</b></td><td><b>[4.5 | 5 | 5.5]</b></td><td>...</td><td><b>[13.5 | 14 | 14.5]</b></td><td><b>[14.5 | 15 | 15.5]</b></td><td><b>[15.5 | 16 | 16.5]</b></td><td><b>[16.5 | 17 | 17.5]</b></td><td><b>[17.5 | 18 | 18.5]</b></td><td><b>[18.5 | 19 | 19.5]</b></td></tr>\n",
       "<tr><td><b>0</b>    </td><td>0.302                  </td><td>0.552                 </td><td>10.4                  </td><td>0.0382                </td><td>19.2                  </td><td>15.8                  </td><td>...</td><td>10.2                     </td><td>14.4                     </td><td>13.3                     </td><td>0.535                    </td><td>11.3                     </td><td>0.416                    </td></tr>\n",
       "<tr><td><b>1</b>    </td><td>13.1                   </td><td>10.3                  </td><td>14.2                  </td><td>13.2                  </td><td>0.83                  </td><td>0.247                 </td><td>...</td><td>12.5                     </td><td>14.1                     </td><td>0.776                    </td><td>0.964                    </td><td>12.7                     </td><td>0.532                    </td></tr>\n",
       "<tr><td><b>2</b>    </td><td>0.804                  </td><td>0.897                 </td><td>0.0664                </td><td>0.917                 </td><td>0.206                 </td><td>0.92                  </td><td>...</td><td>16.8                     </td><td>0.962                    </td><td>0.974                    </td><td>0.952                    </td><td>0.0318                   </td><td>12.9                     </td></tr>\n",
       "<tr><td><b>3</b>    </td><td>12.9                   </td><td>12.2                  </td><td>0.967                 </td><td>0.608                 </td><td>0.138                 </td><td>16.8                  </td><td>...</td><td>17.8                     </td><td>0.789                    </td><td>12.4                     </td><td>13.7                     </td><td>14.1                     </td><td>0.4                      </td></tr>\n",
       "<tr><td><b>4</b>    </td><td>18.9                   </td><td>0.707                 </td><td>0.243                 </td><td>0.844                 </td><td>17.1                  </td><td>13.7                  </td><td>...</td><td>16.6                     </td><td>13.2                     </td><td>15.7                     </td><td>0.87                     </td><td>12.9                     </td><td>17                       </td></tr>\n",
       "</tbody>\n",
       "</table>"
      ],
      "text/plain": [
       "+-------+------------------+-----------------+-----------------+-----------------+-----------------+-----------------+-----+--------------------+--------------------+--------------------+--------------------+--------------------+--------------------+\n",
       "| y \\ x | [-0.5 | 0 | 0.5] | [0.5 | 1 | 1.5] | [1.5 | 2 | 2.5] | [2.5 | 3 | 3.5] | [3.5 | 4 | 4.5] | [4.5 | 5 | 5.5] | ... | [13.5 | 14 | 14.5] | [14.5 | 15 | 15.5] | [15.5 | 16 | 16.5] | [16.5 | 17 | 17.5] | [17.5 | 18 | 18.5] | [18.5 | 19 | 19.5] |\n",
       "+-------+------------------+-----------------+-----------------+-----------------+-----------------+-----------------+-----+--------------------+--------------------+--------------------+--------------------+--------------------+--------------------+\n",
       "| 0     | 0.302            | 0.552           | 10.4            | 0.0382          | 19.2            | 15.8            | ... | 10.2               | 14.4               | 13.3               | 0.535              | 11.3               | 0.416              |\n",
       "+-------+------------------+-----------------+-----------------+-----------------+-----------------+-----------------+-----+--------------------+--------------------+--------------------+--------------------+--------------------+--------------------+\n",
       "| 1     | 13.1             | 10.3            | 14.2            | 13.2            | 0.83            | 0.247           | ... | 12.5               | 14.1               | 0.776              | 0.964              | 12.7               | 0.532              |\n",
       "+-------+------------------+-----------------+-----------------+-----------------+-----------------+-----------------+-----+--------------------+--------------------+--------------------+--------------------+--------------------+--------------------+\n",
       "| 2     | 0.804            | 0.897           | 0.0664          | 0.917           | 0.206           | 0.92            | ... | 16.8               | 0.962              | 0.974              | 0.952              | 0.0318             | 12.9               |\n",
       "+-------+------------------+-----------------+-----------------+-----------------+-----------------+-----------------+-----+--------------------+--------------------+--------------------+--------------------+--------------------+--------------------+\n",
       "| 3     | 12.9             | 12.2            | 0.967           | 0.608           | 0.138           | 16.8            | ... | 17.8               | 0.789              | 12.4               | 13.7               | 14.1               | 0.4                |\n",
       "+-------+------------------+-----------------+-----------------+-----------------+-----------------+-----------------+-----+--------------------+--------------------+--------------------+--------------------+--------------------+--------------------+\n",
       "| 4     | 18.9             | 0.707           | 0.243           | 0.844           | 17.1            | 13.7            | ... | 16.6               | 13.2               | 15.7               | 0.87               | 12.9               | 17                 |\n",
       "+-------+------------------+-----------------+-----------------+-----------------+-----------------+-----------------+-----+--------------------+--------------------+--------------------+--------------------+--------------------+--------------------+"
      ]
     },
     "execution_count": 83,
     "metadata": {},
     "output_type": "execute_result"
    }
   ],
   "source": [
    "a * 2"
   ]
  },
  {
   "cell_type": "code",
   "execution_count": 84,
   "metadata": {},
   "outputs": [],
   "source": [
    "m = np.ma.masked_array(np.arange(10))"
   ]
  },
  {
   "cell_type": "code",
   "execution_count": 85,
   "metadata": {},
   "outputs": [],
   "source": [
    "m.mask = m < 6"
   ]
  },
  {
   "cell_type": "code",
   "execution_count": 86,
   "metadata": {},
   "outputs": [
    {
     "data": {
      "text/plain": [
       "array([ 0,  1,  2,  3,  4,  5, 18, 21, 24, 27])"
      ]
     },
     "execution_count": 86,
     "metadata": {},
     "output_type": "execute_result"
    }
   ],
   "source": [
    "(m * 3).data"
   ]
  },
  {
   "cell_type": "code",
   "execution_count": 87,
   "metadata": {},
   "outputs": [],
   "source": [
    "# add something\n",
    "g['a'] = np.random.rand(g.grid.size).reshape(g.shape)"
   ]
  },
  {
   "cell_type": "code",
   "execution_count": 88,
   "metadata": {},
   "outputs": [
    {
     "data": {
      "text/html": [
       "<table>\n",
       "<tbody>\n",
       "<tr><td><b>y \\ x</b></td><td><b>[-0.5 | 0 | 0.5]</b></td><td><b>[0.5 | 1 | 1.5]</b></td><td><b>[1.5 | 2 | 2.5]</b></td><td><b>[2.5 | 3 | 3.5]</b></td><td><b>[3.5 | 4 | 4.5]</b></td><td><b>[4.5 | 5 | 5.5]</b></td><td>...</td><td><b>[13.5 | 14 | 14.5]</b></td><td><b>[14.5 | 15 | 15.5]</b></td><td><b>[15.5 | 16 | 16.5]</b></td><td><b>[16.5 | 17 | 17.5]</b></td><td><b>[17.5 | 18 | 18.5]</b></td><td><b>[18.5 | 19 | 19.5]</b></td></tr>\n",
       "<tr><td><b>0</b>    </td><td>0.158                  </td><td>0.891                 </td><td>0.901                 </td><td>0.65                  </td><td>0.392                 </td><td>0.848                 </td><td>...</td><td>0.0947                   </td><td>0.313                    </td><td>0.652                    </td><td>0.786                    </td><td>0.321                    </td><td>0.441                    </td></tr>\n",
       "<tr><td><b>1</b>    </td><td>0.0444                 </td><td>0.984                 </td><td>0.151                 </td><td>0.19                  </td><td>0.551                 </td><td>0.181                 </td><td>...</td><td>0.158                    </td><td>0.769                    </td><td>0.858                    </td><td>0.842                    </td><td>0.111                    </td><td>0.587                    </td></tr>\n",
       "<tr><td><b>2</b>    </td><td>0.564                  </td><td>0.719                 </td><td>0.404                 </td><td>0.63                  </td><td>0.985                 </td><td>0.862                 </td><td>...</td><td>0.952                    </td><td>0.617                    </td><td>0.215                    </td><td>0.0433                   </td><td>0.945                    </td><td>0.583                    </td></tr>\n",
       "<tr><td><b>3</b>    </td><td>0.0782                 </td><td>0.382                 </td><td>0.463                 </td><td>0.362                 </td><td>0.658                 </td><td>0.992                 </td><td>...</td><td>0.201                    </td><td>0.977                    </td><td>0.757                    </td><td>0.276                    </td><td>0.0912                   </td><td>0.802                    </td></tr>\n",
       "<tr><td><b>4</b>    </td><td>0.14                   </td><td>0.331                 </td><td>0.974                 </td><td>0.205                 </td><td>0.688                 </td><td>0.828                 </td><td>...</td><td>0.0807                   </td><td>0.131                    </td><td>0.189                    </td><td>0.674                    </td><td>0.413                    </td><td>0.909                    </td></tr>\n",
       "</tbody>\n",
       "</table>"
      ],
      "text/plain": [
       "+-------+------------------+-----------------+-----------------+-----------------+-----------------+-----------------+-----+--------------------+--------------------+--------------------+--------------------+--------------------+--------------------+\n",
       "| y \\ x | [-0.5 | 0 | 0.5] | [0.5 | 1 | 1.5] | [1.5 | 2 | 2.5] | [2.5 | 3 | 3.5] | [3.5 | 4 | 4.5] | [4.5 | 5 | 5.5] | ... | [13.5 | 14 | 14.5] | [14.5 | 15 | 15.5] | [15.5 | 16 | 16.5] | [16.5 | 17 | 17.5] | [17.5 | 18 | 18.5] | [18.5 | 19 | 19.5] |\n",
       "+-------+------------------+-----------------+-----------------+-----------------+-----------------+-----------------+-----+--------------------+--------------------+--------------------+--------------------+--------------------+--------------------+\n",
       "| 0     | 0.158            | 0.891           | 0.901           | 0.65            | 0.392           | 0.848           | ... | 0.0947             | 0.313              | 0.652              | 0.786              | 0.321              | 0.441              |\n",
       "+-------+------------------+-----------------+-----------------+-----------------+-----------------+-----------------+-----+--------------------+--------------------+--------------------+--------------------+--------------------+--------------------+\n",
       "| 1     | 0.0444           | 0.984           | 0.151           | 0.19            | 0.551           | 0.181           | ... | 0.158              | 0.769              | 0.858              | 0.842              | 0.111              | 0.587              |\n",
       "+-------+------------------+-----------------+-----------------+-----------------+-----------------+-----------------+-----+--------------------+--------------------+--------------------+--------------------+--------------------+--------------------+\n",
       "| 2     | 0.564            | 0.719           | 0.404           | 0.63            | 0.985           | 0.862           | ... | 0.952              | 0.617              | 0.215              | 0.0433             | 0.945              | 0.583              |\n",
       "+-------+------------------+-----------------+-----------------+-----------------+-----------------+-----------------+-----+--------------------+--------------------+--------------------+--------------------+--------------------+--------------------+\n",
       "| 3     | 0.0782           | 0.382           | 0.463           | 0.362           | 0.658           | 0.992           | ... | 0.201              | 0.977              | 0.757              | 0.276              | 0.0912             | 0.802              |\n",
       "+-------+------------------+-----------------+-----------------+-----------------+-----------------+-----------------+-----+--------------------+--------------------+--------------------+--------------------+--------------------+--------------------+\n",
       "| 4     | 0.14             | 0.331           | 0.974           | 0.205           | 0.688           | 0.828           | ... | 0.0807             | 0.131              | 0.189              | 0.674              | 0.413              | 0.909              |\n",
       "+-------+------------------+-----------------+-----------------+-----------------+-----------------+-----------------+-----+--------------------+--------------------+--------------------+--------------------+--------------------+--------------------+"
      ]
     },
     "execution_count": 88,
     "metadata": {},
     "output_type": "execute_result"
    }
   ],
   "source": [
    "np.asanyarray(g['a'])"
   ]
  },
  {
   "cell_type": "code",
   "execution_count": 89,
   "metadata": {},
   "outputs": [
    {
     "data": {
      "text/html": [
       "<table>\n",
       "<tbody>\n",
       "<tr><td><b>y \\ x</b></td><td><b>[-0.5 | 0 | 0.5]</b></td><td><b>[0.5 | 1 | 1.5]</b></td><td><b>[1.5 | 2 | 2.5]</b></td><td><b>[2.5 | 3 | 3.5]</b></td><td><b>[3.5 | 4 | 4.5]</b></td><td><b>[4.5 | 5 | 5.5]</b></td><td>...</td><td><b>[13.5 | 14 | 14.5]</b></td><td><b>[14.5 | 15 | 15.5]</b></td><td><b>[15.5 | 16 | 16.5]</b></td><td><b>[16.5 | 17 | 17.5]</b></td><td><b>[17.5 | 18 | 18.5]</b></td><td><b>[18.5 | 19 | 19.5]</b></td></tr>\n",
       "<tr><td><b>0</b>    </td><td>a = 0.158              </td><td>a = 0.891             </td><td>a = 0.901             </td><td>a = 0.65              </td><td>a = 0.392             </td><td>a = 0.848             </td><td>...</td><td>a = 0.0947               </td><td>a = 0.313                </td><td>a = 0.652                </td><td>a = 0.786                </td><td>a = 0.321                </td><td>a = 0.441                </td></tr>\n",
       "<tr><td><b>1</b>    </td><td>a = 0.0444             </td><td>a = 0.984             </td><td>a = 0.151             </td><td>a = 0.19              </td><td>a = 0.551             </td><td>a = 0.181             </td><td>...</td><td>a = 0.158                </td><td>a = 0.769                </td><td>a = 0.858                </td><td>a = 0.842                </td><td>a = 0.111                </td><td>a = 0.587                </td></tr>\n",
       "<tr><td><b>2</b>    </td><td>a = 0.564              </td><td>a = 0.719             </td><td>a = 0.404             </td><td>a = 0.63              </td><td>a = 0.985             </td><td>a = 0.862             </td><td>...</td><td>a = 0.952                </td><td>a = 0.617                </td><td>a = 0.215                </td><td>a = 0.0433               </td><td>a = 0.945                </td><td>a = 0.583                </td></tr>\n",
       "<tr><td><b>3</b>    </td><td>a = 0.0782             </td><td>a = 0.382             </td><td>a = 0.463             </td><td>a = 0.362             </td><td>a = 0.658             </td><td>a = 0.992             </td><td>...</td><td>a = 0.201                </td><td>a = 0.977                </td><td>a = 0.757                </td><td>a = 0.276                </td><td>a = 0.0912               </td><td>a = 0.802                </td></tr>\n",
       "<tr><td><b>4</b>    </td><td>a = 0.14               </td><td>a = 0.331             </td><td>a = 0.974             </td><td>a = 0.205             </td><td>a = 0.688             </td><td>a = 0.828             </td><td>...</td><td>a = 0.0807               </td><td>a = 0.131                </td><td>a = 0.189                </td><td>a = 0.674                </td><td>a = 0.413                </td><td>a = 0.909                </td></tr>\n",
       "</tbody>\n",
       "</table>"
      ],
      "text/plain": [
       "+-------+------------------+-----------------+-----------------+-----------------+-----------------+-----------------+-----+--------------------+--------------------+--------------------+--------------------+--------------------+--------------------+\n",
       "| y \\ x | [-0.5 | 0 | 0.5] | [0.5 | 1 | 1.5] | [1.5 | 2 | 2.5] | [2.5 | 3 | 3.5] | [3.5 | 4 | 4.5] | [4.5 | 5 | 5.5] | ... | [13.5 | 14 | 14.5] | [14.5 | 15 | 15.5] | [15.5 | 16 | 16.5] | [16.5 | 17 | 17.5] | [17.5 | 18 | 18.5] | [18.5 | 19 | 19.5] |\n",
       "+-------+------------------+-----------------+-----------------+-----------------+-----------------+-----------------+-----+--------------------+--------------------+--------------------+--------------------+--------------------+--------------------+\n",
       "| 0     | a = 0.158        | a = 0.891       | a = 0.901       | a = 0.65        | a = 0.392       | a = 0.848       | ... | a = 0.0947         | a = 0.313          | a = 0.652          | a = 0.786          | a = 0.321          | a = 0.441          |\n",
       "+-------+------------------+-----------------+-----------------+-----------------+-----------------+-----------------+-----+--------------------+--------------------+--------------------+--------------------+--------------------+--------------------+\n",
       "| 1     | a = 0.0444       | a = 0.984       | a = 0.151       | a = 0.19        | a = 0.551       | a = 0.181       | ... | a = 0.158          | a = 0.769          | a = 0.858          | a = 0.842          | a = 0.111          | a = 0.587          |\n",
       "+-------+------------------+-----------------+-----------------+-----------------+-----------------+-----------------+-----+--------------------+--------------------+--------------------+--------------------+--------------------+--------------------+\n",
       "| 2     | a = 0.564        | a = 0.719       | a = 0.404       | a = 0.63        | a = 0.985       | a = 0.862       | ... | a = 0.952          | a = 0.617          | a = 0.215          | a = 0.0433         | a = 0.945          | a = 0.583          |\n",
       "+-------+------------------+-----------------+-----------------+-----------------+-----------------+-----------------+-----+--------------------+--------------------+--------------------+--------------------+--------------------+--------------------+\n",
       "| 3     | a = 0.0782       | a = 0.382       | a = 0.463       | a = 0.362       | a = 0.658       | a = 0.992       | ... | a = 0.201          | a = 0.977          | a = 0.757          | a = 0.276          | a = 0.0912         | a = 0.802          |\n",
       "+-------+------------------+-----------------+-----------------+-----------------+-----------------+-----------------+-----+--------------------+--------------------+--------------------+--------------------+--------------------+--------------------+\n",
       "| 4     | a = 0.14         | a = 0.331       | a = 0.974       | a = 0.205       | a = 0.688       | a = 0.828       | ... | a = 0.0807         | a = 0.131          | a = 0.189          | a = 0.674          | a = 0.413          | a = 0.909          |\n",
       "+-------+------------------+-----------------+-----------------+-----------------+-----------------+-----------------+-----+--------------------+--------------------+--------------------+--------------------+--------------------+--------------------+"
      ]
     },
     "execution_count": 89,
     "metadata": {},
     "output_type": "execute_result"
    }
   ],
   "source": [
    "g"
   ]
  },
  {
   "cell_type": "code",
   "execution_count": 90,
   "metadata": {},
   "outputs": [],
   "source": [
    "g['b'] = np.ones(g.shape)"
   ]
  },
  {
   "cell_type": "code",
   "execution_count": 91,
   "metadata": {},
   "outputs": [
    {
     "data": {
      "text/plain": [
       "(20, 5)"
      ]
     },
     "execution_count": 91,
     "metadata": {},
     "output_type": "execute_result"
    }
   ],
   "source": [
    "g.shape"
   ]
  },
  {
   "cell_type": "code",
   "execution_count": 92,
   "metadata": {},
   "outputs": [
    {
     "data": {
      "text/html": [
       "<table>\n",
       "<tbody>\n",
       "<tr><td><b>x \\ y</b>             </td><td><b>0</b></td><td><b>1</b></td><td><b>2</b></td><td><b>3</b></td><td><b>4</b></td></tr>\n",
       "<tr><td><b>[-0.5 | 0 | 0.5]</b>  </td><td>1       </td><td>1       </td><td>1       </td><td>1       </td><td>1       </td></tr>\n",
       "<tr><td><b>[0.5 | 1 | 1.5]</b>   </td><td>1       </td><td>1       </td><td>1       </td><td>1       </td><td>1       </td></tr>\n",
       "<tr><td><b>[1.5 | 2 | 2.5]</b>   </td><td>1       </td><td>1       </td><td>1       </td><td>1       </td><td>1       </td></tr>\n",
       "<tr><td><b>[2.5 | 3 | 3.5]</b>   </td><td>1       </td><td>1       </td><td>1       </td><td>1       </td><td>1       </td></tr>\n",
       "<tr><td><b>[3.5 | 4 | 4.5]</b>   </td><td>1       </td><td>1       </td><td>1       </td><td>1       </td><td>1       </td></tr>\n",
       "<tr><td><b>[4.5 | 5 | 5.5]</b>   </td><td>1       </td><td>1       </td><td>1       </td><td>1       </td><td>1       </td></tr>\n",
       "<tr><td>...                      </td><td>...     </td><td>...     </td><td>...     </td><td>...     </td><td>...     </td></tr>\n",
       "<tr><td><b>[13.5 | 14 | 14.5]</b></td><td>1       </td><td>1       </td><td>1       </td><td>1       </td><td>1       </td></tr>\n",
       "<tr><td><b>[14.5 | 15 | 15.5]</b></td><td>1       </td><td>1       </td><td>1       </td><td>1       </td><td>1       </td></tr>\n",
       "<tr><td><b>[15.5 | 16 | 16.5]</b></td><td>1       </td><td>1       </td><td>1       </td><td>1       </td><td>1       </td></tr>\n",
       "<tr><td><b>[16.5 | 17 | 17.5]</b></td><td>1       </td><td>1       </td><td>1       </td><td>1       </td><td>1       </td></tr>\n",
       "<tr><td><b>[17.5 | 18 | 18.5]</b></td><td>1       </td><td>1       </td><td>1       </td><td>1       </td><td>1       </td></tr>\n",
       "<tr><td><b>[18.5 | 19 | 19.5]</b></td><td>1       </td><td>1       </td><td>1       </td><td>1       </td><td>1       </td></tr>\n",
       "</tbody>\n",
       "</table>"
      ],
      "text/plain": [
       "+--------------------+-----+-----+-----+-----+-----+\n",
       "| x \\ y              | 0   | 1   | 2   | 3   | 4   |\n",
       "+--------------------+-----+-----+-----+-----+-----+\n",
       "| [-0.5 | 0 | 0.5]   | 1   | 1   | 1   | 1   | 1   |\n",
       "+--------------------+-----+-----+-----+-----+-----+\n",
       "| [0.5 | 1 | 1.5]    | 1   | 1   | 1   | 1   | 1   |\n",
       "+--------------------+-----+-----+-----+-----+-----+\n",
       "| [1.5 | 2 | 2.5]    | 1   | 1   | 1   | 1   | 1   |\n",
       "+--------------------+-----+-----+-----+-----+-----+\n",
       "| [2.5 | 3 | 3.5]    | 1   | 1   | 1   | 1   | 1   |\n",
       "+--------------------+-----+-----+-----+-----+-----+\n",
       "| [3.5 | 4 | 4.5]    | 1   | 1   | 1   | 1   | 1   |\n",
       "+--------------------+-----+-----+-----+-----+-----+\n",
       "| [4.5 | 5 | 5.5]    | 1   | 1   | 1   | 1   | 1   |\n",
       "+--------------------+-----+-----+-----+-----+-----+\n",
       "| ...                | ... | ... | ... | ... | ... |\n",
       "+--------------------+-----+-----+-----+-----+-----+\n",
       "| [13.5 | 14 | 14.5] | 1   | 1   | 1   | 1   | 1   |\n",
       "+--------------------+-----+-----+-----+-----+-----+\n",
       "| [14.5 | 15 | 15.5] | 1   | 1   | 1   | 1   | 1   |\n",
       "+--------------------+-----+-----+-----+-----+-----+\n",
       "| [15.5 | 16 | 16.5] | 1   | 1   | 1   | 1   | 1   |\n",
       "+--------------------+-----+-----+-----+-----+-----+\n",
       "| [16.5 | 17 | 17.5] | 1   | 1   | 1   | 1   | 1   |\n",
       "+--------------------+-----+-----+-----+-----+-----+\n",
       "| [17.5 | 18 | 18.5] | 1   | 1   | 1   | 1   | 1   |\n",
       "+--------------------+-----+-----+-----+-----+-----+\n",
       "| [18.5 | 19 | 19.5] | 1   | 1   | 1   | 1   | 1   |\n",
       "+--------------------+-----+-----+-----+-----+-----+"
      ]
     },
     "execution_count": 92,
     "metadata": {},
     "output_type": "execute_result"
    }
   ],
   "source": [
    "g['b'].T"
   ]
  },
  {
   "cell_type": "code",
   "execution_count": 93,
   "metadata": {},
   "outputs": [
    {
     "data": {
      "text/plain": [
       "Grid(\n",
       "Axis(\"x\",\n",
       "points = array([ 0,  1,  2,  3,  4,  5,  6,  7,  8,  9, 10, 11, 12, 13, 14, 15, 16,\n",
       "       17, 18, 19]),\n",
       "edges = edges: array([[-0.5,  0.5],\n",
       "       [ 0.5,  1.5],\n",
       "       [ 1.5,  2.5],\n",
       "       [ 2.5,  3.5],\n",
       "       [ 3.5,  4.5],\n",
       "       [ 4.5,  5.5],\n",
       "       [ 5.5,  6.5],\n",
       "       [ 6.5,  7.5],\n",
       "       [ 7.5,  8.5],\n",
       "       [ 8.5,  9.5],\n",
       "       [ 9.5, 10.5],\n",
       "       [10.5, 11.5],\n",
       "       [11.5, 12.5],\n",
       "       [12.5, 13.5],\n",
       "       [13.5, 14.5],\n",
       "       [14.5, 15.5],\n",
       "       [15.5, 16.5],\n",
       "       [16.5, 17.5],\n",
       "       [17.5, 18.5],\n",
       "       [18.5, 19.5]]))\n",
       "nbins = 20),\n",
       "Axis(\"y\",\n",
       "points = array([0, 1, 2, 3, 4]),\n",
       "edges = edges: None)\n",
       "nbins = 5),)"
      ]
     },
     "execution_count": 93,
     "metadata": {},
     "output_type": "execute_result"
    }
   ],
   "source": [
    "np.sin(a).grid"
   ]
  },
  {
   "cell_type": "code",
   "execution_count": 94,
   "metadata": {},
   "outputs": [],
   "source": [
    "a = g['a']"
   ]
  },
  {
   "cell_type": "code",
   "execution_count": 95,
   "metadata": {},
   "outputs": [
    {
     "data": {
      "text/plain": [
       "array([[0.15751638, 0.04436516, 0.56376462, 0.07816565, 0.14024249],\n",
       "       [0.8908645 , 0.98358275, 0.71900068, 0.38188523, 0.33075146],\n",
       "       [0.90097307, 0.15071548, 0.40445889, 0.46310854, 0.97362981],\n",
       "       [0.64978375, 0.19033346, 0.62975195, 0.36190909, 0.2046956 ],\n",
       "       [0.39171267, 0.55072195, 0.98464598, 0.65770039, 0.68788032],\n",
       "       [0.84843784, 0.18081112, 0.86151163, 0.99239829, 0.82762892],\n",
       "       [0.17577299, 0.02451094, 0.52492814, 0.86835186, 0.64856344],\n",
       "       [0.44467828, 0.80742546, 0.74614834, 0.02715737, 0.86635479],\n",
       "       [0.48227156, 0.31297828, 0.92538192, 0.771327  , 0.22852371],\n",
       "       [0.68167272, 0.86973289, 0.24367621, 0.91433356, 0.2221813 ],\n",
       "       [0.93307322, 0.89865297, 0.2893621 , 0.6134645 , 0.81247822],\n",
       "       [0.75577976, 0.48238455, 0.41755246, 0.76864912, 0.02706682],\n",
       "       [0.6500447 , 0.02193129, 0.73225724, 0.27480023, 0.97910612],\n",
       "       [0.43043989, 0.4552206 , 0.22176364, 0.67129516, 0.00356522],\n",
       "       [0.09468963, 0.15814526, 0.95167719, 0.20092464, 0.08070205],\n",
       "       [0.31252367, 0.76867668, 0.6172372 , 0.97672411, 0.13146942],\n",
       "       [0.65161192, 0.85844122, 0.21516856, 0.75665333, 0.18895499],\n",
       "       [0.78578579, 0.84212713, 0.04327772, 0.27608333, 0.67389599],\n",
       "       [0.32124631, 0.11144269, 0.9448408 , 0.09116009, 0.41306011],\n",
       "       [0.44050982, 0.58668891, 0.58284578, 0.80235709, 0.9092311 ]])"
      ]
     },
     "execution_count": 95,
     "metadata": {},
     "output_type": "execute_result"
    }
   ],
   "source": [
    "a.view(np.ndarray)"
   ]
  },
  {
   "cell_type": "code",
   "execution_count": 96,
   "metadata": {},
   "outputs": [],
   "source": [
    "g['b'][g['a'] < 0.5] *= -1"
   ]
  },
  {
   "cell_type": "code",
   "execution_count": 97,
   "metadata": {},
   "outputs": [
    {
     "data": {
      "text/html": [
       "<table>\n",
       "<tbody>\n",
       "<tr><td><b>y \\ x</b></td><td><b>[-0.5 | 0 | 0.5]</b></td><td><b>[0.5 | 1 | 1.5]</b></td><td><b>[1.5 | 2 | 2.5]</b></td><td><b>[2.5 | 3 | 3.5]</b></td><td><b>[3.5 | 4 | 4.5]</b></td><td><b>[4.5 | 5 | 5.5]</b></td><td>...</td><td><b>[13.5 | 14 | 14.5]</b></td><td><b>[14.5 | 15 | 15.5]</b></td><td><b>[15.5 | 16 | 16.5]</b></td><td><b>[16.5 | 17 | 17.5]</b></td><td><b>[17.5 | 18 | 18.5]</b></td><td><b>[18.5 | 19 | 19.5]</b></td></tr>\n",
       "<tr><td><b>0</b>    </td><td>a = 0.158<br>b = -1    </td><td>a = 0.891<br>b = 1    </td><td>a = 0.901<br>b = 1    </td><td>a = 0.65<br>b = 1     </td><td>a = 0.392<br>b = -1   </td><td>a = 0.848<br>b = 1    </td><td>...</td><td>a = 0.0947<br>b = -1     </td><td>a = 0.313<br>b = -1      </td><td>a = 0.652<br>b = 1       </td><td>a = 0.786<br>b = 1       </td><td>a = 0.321<br>b = -1      </td><td>a = 0.441<br>b = -1      </td></tr>\n",
       "<tr><td><b>1</b>    </td><td>a = 0.0444<br>b = -1   </td><td>a = 0.984<br>b = 1    </td><td>a = 0.151<br>b = -1   </td><td>a = 0.19<br>b = -1    </td><td>a = 0.551<br>b = 1    </td><td>a = 0.181<br>b = -1   </td><td>...</td><td>a = 0.158<br>b = -1      </td><td>a = 0.769<br>b = 1       </td><td>a = 0.858<br>b = 1       </td><td>a = 0.842<br>b = 1       </td><td>a = 0.111<br>b = -1      </td><td>a = 0.587<br>b = 1       </td></tr>\n",
       "<tr><td><b>2</b>    </td><td>a = 0.564<br>b = 1     </td><td>a = 0.719<br>b = 1    </td><td>a = 0.404<br>b = -1   </td><td>a = 0.63<br>b = 1     </td><td>a = 0.985<br>b = 1    </td><td>a = 0.862<br>b = 1    </td><td>...</td><td>a = 0.952<br>b = 1       </td><td>a = 0.617<br>b = 1       </td><td>a = 0.215<br>b = -1      </td><td>a = 0.0433<br>b = -1     </td><td>a = 0.945<br>b = 1       </td><td>a = 0.583<br>b = 1       </td></tr>\n",
       "<tr><td><b>3</b>    </td><td>a = 0.0782<br>b = -1   </td><td>a = 0.382<br>b = -1   </td><td>a = 0.463<br>b = -1   </td><td>a = 0.362<br>b = -1   </td><td>a = 0.658<br>b = 1    </td><td>a = 0.992<br>b = 1    </td><td>...</td><td>a = 0.201<br>b = -1      </td><td>a = 0.977<br>b = 1       </td><td>a = 0.757<br>b = 1       </td><td>a = 0.276<br>b = -1      </td><td>a = 0.0912<br>b = -1     </td><td>a = 0.802<br>b = 1       </td></tr>\n",
       "<tr><td><b>4</b>    </td><td>a = 0.14<br>b = -1     </td><td>a = 0.331<br>b = -1   </td><td>a = 0.974<br>b = 1    </td><td>a = 0.205<br>b = -1   </td><td>a = 0.688<br>b = 1    </td><td>a = 0.828<br>b = 1    </td><td>...</td><td>a = 0.0807<br>b = -1     </td><td>a = 0.131<br>b = -1      </td><td>a = 0.189<br>b = -1      </td><td>a = 0.674<br>b = 1       </td><td>a = 0.413<br>b = -1      </td><td>a = 0.909<br>b = 1       </td></tr>\n",
       "</tbody>\n",
       "</table>"
      ],
      "text/plain": [
       "+-------+------------------+-----------------+-----------------+-----------------+-----------------+-----------------+-----+--------------------+--------------------+--------------------+--------------------+--------------------+--------------------+\n",
       "| y \\ x | [-0.5 | 0 | 0.5] | [0.5 | 1 | 1.5] | [1.5 | 2 | 2.5] | [2.5 | 3 | 3.5] | [3.5 | 4 | 4.5] | [4.5 | 5 | 5.5] | ... | [13.5 | 14 | 14.5] | [14.5 | 15 | 15.5] | [15.5 | 16 | 16.5] | [16.5 | 17 | 17.5] | [17.5 | 18 | 18.5] | [18.5 | 19 | 19.5] |\n",
       "+-------+------------------+-----------------+-----------------+-----------------+-----------------+-----------------+-----+--------------------+--------------------+--------------------+--------------------+--------------------+--------------------+\n",
       "| 0     | a = 0.158        | a = 0.891       | a = 0.901       | a = 0.65        | a = 0.392       | a = 0.848       | ... | a = 0.0947         | a = 0.313          | a = 0.652          | a = 0.786          | a = 0.321          | a = 0.441          |\n",
       "|       | b = -1           | b = 1           | b = 1           | b = 1           | b = -1          | b = 1           |     | b = -1             | b = -1             | b = 1              | b = 1              | b = -1             | b = -1             |\n",
       "+-------+------------------+-----------------+-----------------+-----------------+-----------------+-----------------+-----+--------------------+--------------------+--------------------+--------------------+--------------------+--------------------+\n",
       "| 1     | a = 0.0444       | a = 0.984       | a = 0.151       | a = 0.19        | a = 0.551       | a = 0.181       | ... | a = 0.158          | a = 0.769          | a = 0.858          | a = 0.842          | a = 0.111          | a = 0.587          |\n",
       "|       | b = -1           | b = 1           | b = -1          | b = -1          | b = 1           | b = -1          |     | b = -1             | b = 1              | b = 1              | b = 1              | b = -1             | b = 1              |\n",
       "+-------+------------------+-----------------+-----------------+-----------------+-----------------+-----------------+-----+--------------------+--------------------+--------------------+--------------------+--------------------+--------------------+\n",
       "| 2     | a = 0.564        | a = 0.719       | a = 0.404       | a = 0.63        | a = 0.985       | a = 0.862       | ... | a = 0.952          | a = 0.617          | a = 0.215          | a = 0.0433         | a = 0.945          | a = 0.583          |\n",
       "|       | b = 1            | b = 1           | b = -1          | b = 1           | b = 1           | b = 1           |     | b = 1              | b = 1              | b = -1             | b = -1             | b = 1              | b = 1              |\n",
       "+-------+------------------+-----------------+-----------------+-----------------+-----------------+-----------------+-----+--------------------+--------------------+--------------------+--------------------+--------------------+--------------------+\n",
       "| 3     | a = 0.0782       | a = 0.382       | a = 0.463       | a = 0.362       | a = 0.658       | a = 0.992       | ... | a = 0.201          | a = 0.977          | a = 0.757          | a = 0.276          | a = 0.0912         | a = 0.802          |\n",
       "|       | b = -1           | b = -1          | b = -1          | b = -1          | b = 1           | b = 1           |     | b = -1             | b = 1              | b = 1              | b = -1             | b = -1             | b = 1              |\n",
       "+-------+------------------+-----------------+-----------------+-----------------+-----------------+-----------------+-----+--------------------+--------------------+--------------------+--------------------+--------------------+--------------------+\n",
       "| 4     | a = 0.14         | a = 0.331       | a = 0.974       | a = 0.205       | a = 0.688       | a = 0.828       | ... | a = 0.0807         | a = 0.131          | a = 0.189          | a = 0.674          | a = 0.413          | a = 0.909          |\n",
       "|       | b = -1           | b = -1          | b = 1           | b = -1          | b = 1           | b = 1           |     | b = -1             | b = -1             | b = -1             | b = 1              | b = -1             | b = 1              |\n",
       "+-------+------------------+-----------------+-----------------+-----------------+-----------------+-----------------+-----+--------------------+--------------------+--------------------+--------------------+--------------------+--------------------+"
      ]
     },
     "execution_count": 97,
     "metadata": {},
     "output_type": "execute_result"
    }
   ],
   "source": [
    "g"
   ]
  },
  {
   "cell_type": "code",
   "execution_count": 98,
   "metadata": {},
   "outputs": [
    {
     "data": {
      "text/html": [
       "<table>\n",
       "<tbody>\n",
       "<tr><td><b>y \\ x</b></td><td><b>[-0.5 | 0 | 0.5]</b></td><td><b>[0.5 | 1 | 1.5]</b></td><td><b>[1.5 | 2 | 2.5]</b></td><td><b>[2.5 | 3 | 3.5]</b></td><td><b>[3.5 | 4 | 4.5]</b></td><td><b>[4.5 | 5 | 5.5]</b></td><td>...</td><td><b>[13.5 | 14 | 14.5]</b></td><td><b>[14.5 | 15 | 15.5]</b></td><td><b>[15.5 | 16 | 16.5]</b></td><td><b>[16.5 | 17 | 17.5]</b></td><td><b>[17.5 | 18 | 18.5]</b></td><td><b>[18.5 | 19 | 19.5]</b></td></tr>\n",
       "<tr><td><b>0</b>    </td><td>0                      </td><td>1                     </td><td>2                     </td><td>3                     </td><td>4                     </td><td>5                     </td><td>...</td><td>14                       </td><td>15                       </td><td>16                       </td><td>17                       </td><td>18                       </td><td>19                       </td></tr>\n",
       "<tr><td><b>1</b>    </td><td>0                      </td><td>1                     </td><td>2                     </td><td>3                     </td><td>4                     </td><td>5                     </td><td>...</td><td>14                       </td><td>15                       </td><td>16                       </td><td>17                       </td><td>18                       </td><td>19                       </td></tr>\n",
       "<tr><td><b>2</b>    </td><td>0                      </td><td>1                     </td><td>2                     </td><td>3                     </td><td>4                     </td><td>5                     </td><td>...</td><td>14                       </td><td>15                       </td><td>16                       </td><td>17                       </td><td>18                       </td><td>19                       </td></tr>\n",
       "<tr><td><b>3</b>    </td><td>0                      </td><td>1                     </td><td>2                     </td><td>3                     </td><td>4                     </td><td>5                     </td><td>...</td><td>14                       </td><td>15                       </td><td>16                       </td><td>17                       </td><td>18                       </td><td>19                       </td></tr>\n",
       "<tr><td><b>4</b>    </td><td>0                      </td><td>1                     </td><td>2                     </td><td>3                     </td><td>4                     </td><td>5                     </td><td>...</td><td>14                       </td><td>15                       </td><td>16                       </td><td>17                       </td><td>18                       </td><td>19                       </td></tr>\n",
       "</tbody>\n",
       "</table>"
      ],
      "text/plain": [
       "+-------+------------------+-----------------+-----------------+-----------------+-----------------+-----------------+-----+--------------------+--------------------+--------------------+--------------------+--------------------+--------------------+\n",
       "| y \\ x | [-0.5 | 0 | 0.5] | [0.5 | 1 | 1.5] | [1.5 | 2 | 2.5] | [2.5 | 3 | 3.5] | [3.5 | 4 | 4.5] | [4.5 | 5 | 5.5] | ... | [13.5 | 14 | 14.5] | [14.5 | 15 | 15.5] | [15.5 | 16 | 16.5] | [16.5 | 17 | 17.5] | [17.5 | 18 | 18.5] | [18.5 | 19 | 19.5] |\n",
       "+-------+------------------+-----------------+-----------------+-----------------+-----------------+-----------------+-----+--------------------+--------------------+--------------------+--------------------+--------------------+--------------------+\n",
       "| 0     | 0                | 1               | 2               | 3               | 4               | 5               | ... | 14                 | 15                 | 16                 | 17                 | 18                 | 19                 |\n",
       "+-------+------------------+-----------------+-----------------+-----------------+-----------------+-----------------+-----+--------------------+--------------------+--------------------+--------------------+--------------------+--------------------+\n",
       "| 1     | 0                | 1               | 2               | 3               | 4               | 5               | ... | 14                 | 15                 | 16                 | 17                 | 18                 | 19                 |\n",
       "+-------+------------------+-----------------+-----------------+-----------------+-----------------+-----------------+-----+--------------------+--------------------+--------------------+--------------------+--------------------+--------------------+\n",
       "| 2     | 0                | 1               | 2               | 3               | 4               | 5               | ... | 14                 | 15                 | 16                 | 17                 | 18                 | 19                 |\n",
       "+-------+------------------+-----------------+-----------------+-----------------+-----------------+-----------------+-----+--------------------+--------------------+--------------------+--------------------+--------------------+--------------------+\n",
       "| 3     | 0                | 1               | 2               | 3               | 4               | 5               | ... | 14                 | 15                 | 16                 | 17                 | 18                 | 19                 |\n",
       "+-------+------------------+-----------------+-----------------+-----------------+-----------------+-----------------+-----+--------------------+--------------------+--------------------+--------------------+--------------------+--------------------+\n",
       "| 4     | 0                | 1               | 2               | 3               | 4               | 5               | ... | 14                 | 15                 | 16                 | 17                 | 18                 | 19                 |\n",
       "+-------+------------------+-----------------+-----------------+-----------------+-----------------+-----------------+-----+--------------------+--------------------+--------------------+--------------------+--------------------+--------------------+"
      ]
     },
     "execution_count": 98,
     "metadata": {},
     "output_type": "execute_result"
    }
   ],
   "source": [
    "g['x']"
   ]
  },
  {
   "cell_type": "code",
   "execution_count": 99,
   "metadata": {},
   "outputs": [
    {
     "data": {
      "text/html": [
       "<table>\n",
       "<tbody>\n",
       "<tr><td><b>y \\ x</b></td><td><b>[-0.5 | 0 | 0.5]</b></td><td><b>[0.5 | 1 | 1.5]</b></td><td><b>[1.5 | 2 | 2.5]</b></td><td><b>[2.5 | 3 | 3.5]</b></td><td><b>[3.5 | 4 | 4.5]</b></td><td><b>[4.5 | 5 | 5.5]</b></td><td>...</td><td><b>[13.5 | 14 | 14.5]</b></td><td><b>[14.5 | 15 | 15.5]</b></td><td><b>[15.5 | 16 | 16.5]</b></td><td><b>[16.5 | 17 | 17.5]</b></td><td><b>[17.5 | 18 | 18.5]</b></td><td><b>[18.5 | 19 | 19.5]</b></td></tr>\n",
       "<tr><td><b>0</b>    </td><td>0.158                  </td><td>0.891                 </td><td>0.901                 </td><td>0.65                  </td><td>0.392                 </td><td>0.848                 </td><td>...</td><td>0.0947                   </td><td>0.313                    </td><td>0.652                    </td><td>0.786                    </td><td>0.321                    </td><td>0.441                    </td></tr>\n",
       "<tr><td><b>1</b>    </td><td>0.0444                 </td><td>0.984                 </td><td>0.151                 </td><td>0.19                  </td><td>0.551                 </td><td>0.181                 </td><td>...</td><td>0.158                    </td><td>0.769                    </td><td>0.858                    </td><td>0.842                    </td><td>0.111                    </td><td>0.587                    </td></tr>\n",
       "<tr><td><b>2</b>    </td><td>0.564                  </td><td>0.719                 </td><td>0.404                 </td><td>0.63                  </td><td>0.985                 </td><td>0.862                 </td><td>...</td><td>0.952                    </td><td>0.617                    </td><td>0.215                    </td><td>0.0433                   </td><td>0.945                    </td><td>0.583                    </td></tr>\n",
       "<tr><td><b>3</b>    </td><td>0.0782                 </td><td>0.382                 </td><td>0.463                 </td><td>0.362                 </td><td>0.658                 </td><td>0.992                 </td><td>...</td><td>0.201                    </td><td>0.977                    </td><td>0.757                    </td><td>0.276                    </td><td>0.0912                   </td><td>0.802                    </td></tr>\n",
       "<tr><td><b>4</b>    </td><td>0.14                   </td><td>0.331                 </td><td>0.974                 </td><td>0.205                 </td><td>0.688                 </td><td>0.828                 </td><td>...</td><td>0.0807                   </td><td>0.131                    </td><td>0.189                    </td><td>0.674                    </td><td>0.413                    </td><td>0.909                    </td></tr>\n",
       "</tbody>\n",
       "</table>"
      ],
      "text/plain": [
       "+-------+------------------+-----------------+-----------------+-----------------+-----------------+-----------------+-----+--------------------+--------------------+--------------------+--------------------+--------------------+--------------------+\n",
       "| y \\ x | [-0.5 | 0 | 0.5] | [0.5 | 1 | 1.5] | [1.5 | 2 | 2.5] | [2.5 | 3 | 3.5] | [3.5 | 4 | 4.5] | [4.5 | 5 | 5.5] | ... | [13.5 | 14 | 14.5] | [14.5 | 15 | 15.5] | [15.5 | 16 | 16.5] | [16.5 | 17 | 17.5] | [17.5 | 18 | 18.5] | [18.5 | 19 | 19.5] |\n",
       "+-------+------------------+-----------------+-----------------+-----------------+-----------------+-----------------+-----+--------------------+--------------------+--------------------+--------------------+--------------------+--------------------+\n",
       "| 0     | 0.158            | 0.891           | 0.901           | 0.65            | 0.392           | 0.848           | ... | 0.0947             | 0.313              | 0.652              | 0.786              | 0.321              | 0.441              |\n",
       "+-------+------------------+-----------------+-----------------+-----------------+-----------------+-----------------+-----+--------------------+--------------------+--------------------+--------------------+--------------------+--------------------+\n",
       "| 1     | 0.0444           | 0.984           | 0.151           | 0.19            | 0.551           | 0.181           | ... | 0.158              | 0.769              | 0.858              | 0.842              | 0.111              | 0.587              |\n",
       "+-------+------------------+-----------------+-----------------+-----------------+-----------------+-----------------+-----+--------------------+--------------------+--------------------+--------------------+--------------------+--------------------+\n",
       "| 2     | 0.564            | 0.719           | 0.404           | 0.63            | 0.985           | 0.862           | ... | 0.952              | 0.617              | 0.215              | 0.0433             | 0.945              | 0.583              |\n",
       "+-------+------------------+-----------------+-----------------+-----------------+-----------------+-----------------+-----+--------------------+--------------------+--------------------+--------------------+--------------------+--------------------+\n",
       "| 3     | 0.0782           | 0.382           | 0.463           | 0.362           | 0.658           | 0.992           | ... | 0.201              | 0.977              | 0.757              | 0.276              | 0.0912             | 0.802              |\n",
       "+-------+------------------+-----------------+-----------------+-----------------+-----------------+-----------------+-----+--------------------+--------------------+--------------------+--------------------+--------------------+--------------------+\n",
       "| 4     | 0.14             | 0.331           | 0.974           | 0.205           | 0.688           | 0.828           | ... | 0.0807             | 0.131              | 0.189              | 0.674              | 0.413              | 0.909              |\n",
       "+-------+------------------+-----------------+-----------------+-----------------+-----------------+-----------------+-----+--------------------+--------------------+--------------------+--------------------+--------------------+--------------------+"
      ]
     },
     "execution_count": 99,
     "metadata": {},
     "output_type": "execute_result"
    }
   ],
   "source": [
    "g['a']"
   ]
  },
  {
   "cell_type": "code",
   "execution_count": 100,
   "metadata": {},
   "outputs": [
    {
     "data": {
      "text/html": [
       "<table>\n",
       "<tbody>\n",
       "<tr><td><b>x</b></td><td><b>[-0.5 | 0 | 0.5]</b></td><td><b>[0.5 | 1 | 1.5]</b></td><td><b>[1.5 | 2 | 2.5]</b></td><td><b>[2.5 | 3 | 3.5]</b></td><td><b>[3.5 | 4 | 4.5]</b></td><td><b>[4.5 | 5 | 5.5]</b></td><td>...</td><td><b>[13.5 | 14 | 14.5]</b></td><td><b>[14.5 | 15 | 15.5]</b></td><td><b>[15.5 | 16 | 16.5]</b></td><td><b>[16.5 | 17 | 17.5]</b></td><td><b>[17.5 | 18 | 18.5]</b></td><td><b>[18.5 | 19 | 19.5]</b></td></tr>\n",
       "<tr><td><b></b> </td><td>0.984                  </td><td>3.31                  </td><td>2.89                  </td><td>2.04                  </td><td>3.27                  </td><td>3.71                  </td><td>...</td><td>1.49                     </td><td>2.81                     </td><td>2.67                     </td><td>2.62                     </td><td>1.88                     </td><td>3.32                     </td></tr>\n",
       "</tbody>\n",
       "</table>"
      ],
      "text/plain": [
       "+---+------------------+-----------------+-----------------+-----------------+-----------------+-----------------+-----+--------------------+--------------------+--------------------+--------------------+--------------------+--------------------+\n",
       "| x | [-0.5 | 0 | 0.5] | [0.5 | 1 | 1.5] | [1.5 | 2 | 2.5] | [2.5 | 3 | 3.5] | [3.5 | 4 | 4.5] | [4.5 | 5 | 5.5] | ... | [13.5 | 14 | 14.5] | [14.5 | 15 | 15.5] | [15.5 | 16 | 16.5] | [16.5 | 17 | 17.5] | [17.5 | 18 | 18.5] | [18.5 | 19 | 19.5] |\n",
       "+---+------------------+-----------------+-----------------+-----------------+-----------------+-----------------+-----+--------------------+--------------------+--------------------+--------------------+--------------------+--------------------+\n",
       "|   | 0.984            | 3.31            | 2.89            | 2.04            | 3.27            | 3.71            | ... | 1.49               | 2.81               | 2.67               | 2.62               | 1.88               | 3.32               |\n",
       "+---+------------------+-----------------+-----------------+-----------------+-----------------+-----------------+-----+--------------------+--------------------+--------------------+--------------------+--------------------+--------------------+"
      ]
     },
     "execution_count": 100,
     "metadata": {},
     "output_type": "execute_result"
    }
   ],
   "source": [
    "np.sum(g['a'], axis='y')"
   ]
  },
  {
   "cell_type": "code",
   "execution_count": 101,
   "metadata": {},
   "outputs": [
    {
     "data": {
      "text/html": [
       "<table>\n",
       "<tbody>\n",
       "<tr><td><b>x</b></td><td><b>[-0.5 | 0 | 0.5]</b></td><td><b>[0.5 | 1 | 1.5]</b></td><td><b>[1.5 | 2 | 2.5]</b></td><td><b>[2.5 | 3 | 3.5]</b></td><td><b>[3.5 | 4 | 4.5]</b></td><td><b>[4.5 | 5 | 5.5]</b></td><td>...</td><td><b>[13.5 | 14 | 14.5]</b></td><td><b>[14.5 | 15 | 15.5]</b></td><td><b>[15.5 | 16 | 16.5]</b></td><td><b>[16.5 | 17 | 17.5]</b></td><td><b>[17.5 | 18 | 18.5]</b></td><td><b>[18.5 | 19 | 19.5]</b></td></tr>\n",
       "<tr><td><b>a</b></td><td>0.0782                 </td><td>0.382                 </td><td>0.463                 </td><td>0.362                 </td><td>0.658                 </td><td>0.992                 </td><td>...</td><td>0.201                    </td><td>0.977                    </td><td>0.757                    </td><td>0.276                    </td><td>0.0912                   </td><td>0.802                    </td></tr>\n",
       "<tr><td><b>b</b></td><td>-1                     </td><td>-1                    </td><td>-1                    </td><td>-1                    </td><td>1                     </td><td>1                     </td><td>...</td><td>-1                       </td><td>1                        </td><td>1                        </td><td>-1                       </td><td>-1                       </td><td>1                        </td></tr>\n",
       "</tbody>\n",
       "</table>"
      ],
      "text/plain": [
       "+---+------------------+-----------------+-----------------+-----------------+-----------------+-----------------+-----+--------------------+--------------------+--------------------+--------------------+--------------------+--------------------+\n",
       "| x | [-0.5 | 0 | 0.5] | [0.5 | 1 | 1.5] | [1.5 | 2 | 2.5] | [2.5 | 3 | 3.5] | [3.5 | 4 | 4.5] | [4.5 | 5 | 5.5] | ... | [13.5 | 14 | 14.5] | [14.5 | 15 | 15.5] | [15.5 | 16 | 16.5] | [16.5 | 17 | 17.5] | [17.5 | 18 | 18.5] | [18.5 | 19 | 19.5] |\n",
       "+---+------------------+-----------------+-----------------+-----------------+-----------------+-----------------+-----+--------------------+--------------------+--------------------+--------------------+--------------------+--------------------+\n",
       "| a | 0.0782           | 0.382           | 0.463           | 0.362           | 0.658           | 0.992           | ... | 0.201              | 0.977              | 0.757              | 0.276              | 0.0912             | 0.802              |\n",
       "+---+------------------+-----------------+-----------------+-----------------+-----------------+-----------------+-----+--------------------+--------------------+--------------------+--------------------+--------------------+--------------------+\n",
       "| b | -1               | -1              | -1              | -1              | 1               | 1               | ... | -1                 | 1                  | 1                  | -1                 | -1                 | 1                  |\n",
       "+---+------------------+-----------------+-----------------+-----------------+-----------------+-----------------+-----+--------------------+--------------------+--------------------+--------------------+--------------------+--------------------+"
      ]
     },
     "execution_count": 101,
     "metadata": {},
     "output_type": "execute_result"
    }
   ],
   "source": [
    "g[:,-2]"
   ]
  },
  {
   "cell_type": "code",
   "execution_count": 102,
   "metadata": {},
   "outputs": [
    {
     "data": {
      "text/html": [
       "<table>\n",
       "<tbody>\n",
       "<tr><td><b>y \\ x</b></td><td><b>[18.5 | 19 | 19.5]</b></td><td><b>[17.5 | 18 | 18.5]</b></td><td><b>[16.5 | 17 | 17.5]</b></td><td><b>[15.5 | 16 | 16.5]</b></td><td><b>[14.5 | 15 | 15.5]</b></td><td><b>[13.5 | 14 | 14.5]</b></td><td>...</td><td><b>[4.5 | 5 | 5.5]</b></td><td><b>[3.5 | 4 | 4.5]</b></td><td><b>[2.5 | 3 | 3.5]</b></td><td><b>[1.5 | 2 | 2.5]</b></td><td><b>[0.5 | 1 | 1.5]</b></td><td><b>[-0.5 | 0 | 0.5]</b></td></tr>\n",
       "<tr><td><b>4</b>    </td><td>a = 0.909<br>b = 1       </td><td>a = 0.413<br>b = -1      </td><td>a = 0.674<br>b = 1       </td><td>a = 0.189<br>b = -1      </td><td>a = 0.131<br>b = -1      </td><td>a = 0.0807<br>b = -1     </td><td>...</td><td>a = 0.828<br>b = 1    </td><td>a = 0.688<br>b = 1    </td><td>a = 0.205<br>b = -1   </td><td>a = 0.974<br>b = 1    </td><td>a = 0.331<br>b = -1   </td><td>a = 0.14<br>b = -1     </td></tr>\n",
       "<tr><td><b>3</b>    </td><td>a = 0.802<br>b = 1       </td><td>a = 0.0912<br>b = -1     </td><td>a = 0.276<br>b = -1      </td><td>a = 0.757<br>b = 1       </td><td>a = 0.977<br>b = 1       </td><td>a = 0.201<br>b = -1      </td><td>...</td><td>a = 0.992<br>b = 1    </td><td>a = 0.658<br>b = 1    </td><td>a = 0.362<br>b = -1   </td><td>a = 0.463<br>b = -1   </td><td>a = 0.382<br>b = -1   </td><td>a = 0.0782<br>b = -1   </td></tr>\n",
       "<tr><td><b>2</b>    </td><td>a = 0.583<br>b = 1       </td><td>a = 0.945<br>b = 1       </td><td>a = 0.0433<br>b = -1     </td><td>a = 0.215<br>b = -1      </td><td>a = 0.617<br>b = 1       </td><td>a = 0.952<br>b = 1       </td><td>...</td><td>a = 0.862<br>b = 1    </td><td>a = 0.985<br>b = 1    </td><td>a = 0.63<br>b = 1     </td><td>a = 0.404<br>b = -1   </td><td>a = 0.719<br>b = 1    </td><td>a = 0.564<br>b = 1     </td></tr>\n",
       "<tr><td><b>1</b>    </td><td>a = 0.587<br>b = 1       </td><td>a = 0.111<br>b = -1      </td><td>a = 0.842<br>b = 1       </td><td>a = 0.858<br>b = 1       </td><td>a = 0.769<br>b = 1       </td><td>a = 0.158<br>b = -1      </td><td>...</td><td>a = 0.181<br>b = -1   </td><td>a = 0.551<br>b = 1    </td><td>a = 0.19<br>b = -1    </td><td>a = 0.151<br>b = -1   </td><td>a = 0.984<br>b = 1    </td><td>a = 0.0444<br>b = -1   </td></tr>\n",
       "<tr><td><b>0</b>    </td><td>a = 0.441<br>b = -1      </td><td>a = 0.321<br>b = -1      </td><td>a = 0.786<br>b = 1       </td><td>a = 0.652<br>b = 1       </td><td>a = 0.313<br>b = -1      </td><td>a = 0.0947<br>b = -1     </td><td>...</td><td>a = 0.848<br>b = 1    </td><td>a = 0.392<br>b = -1   </td><td>a = 0.65<br>b = 1     </td><td>a = 0.901<br>b = 1    </td><td>a = 0.891<br>b = 1    </td><td>a = 0.158<br>b = -1    </td></tr>\n",
       "</tbody>\n",
       "</table>"
      ],
      "text/plain": [
       "+-------+--------------------+--------------------+--------------------+--------------------+--------------------+--------------------+-----+-----------------+-----------------+-----------------+-----------------+-----------------+------------------+\n",
       "| y \\ x | [18.5 | 19 | 19.5] | [17.5 | 18 | 18.5] | [16.5 | 17 | 17.5] | [15.5 | 16 | 16.5] | [14.5 | 15 | 15.5] | [13.5 | 14 | 14.5] | ... | [4.5 | 5 | 5.5] | [3.5 | 4 | 4.5] | [2.5 | 3 | 3.5] | [1.5 | 2 | 2.5] | [0.5 | 1 | 1.5] | [-0.5 | 0 | 0.5] |\n",
       "+-------+--------------------+--------------------+--------------------+--------------------+--------------------+--------------------+-----+-----------------+-----------------+-----------------+-----------------+-----------------+------------------+\n",
       "| 4     | a = 0.909          | a = 0.413          | a = 0.674          | a = 0.189          | a = 0.131          | a = 0.0807         | ... | a = 0.828       | a = 0.688       | a = 0.205       | a = 0.974       | a = 0.331       | a = 0.14         |\n",
       "|       | b = 1              | b = -1             | b = 1              | b = -1             | b = -1             | b = -1             |     | b = 1           | b = 1           | b = -1          | b = 1           | b = -1          | b = -1           |\n",
       "+-------+--------------------+--------------------+--------------------+--------------------+--------------------+--------------------+-----+-----------------+-----------------+-----------------+-----------------+-----------------+------------------+\n",
       "| 3     | a = 0.802          | a = 0.0912         | a = 0.276          | a = 0.757          | a = 0.977          | a = 0.201          | ... | a = 0.992       | a = 0.658       | a = 0.362       | a = 0.463       | a = 0.382       | a = 0.0782       |\n",
       "|       | b = 1              | b = -1             | b = -1             | b = 1              | b = 1              | b = -1             |     | b = 1           | b = 1           | b = -1          | b = -1          | b = -1          | b = -1           |\n",
       "+-------+--------------------+--------------------+--------------------+--------------------+--------------------+--------------------+-----+-----------------+-----------------+-----------------+-----------------+-----------------+------------------+\n",
       "| 2     | a = 0.583          | a = 0.945          | a = 0.0433         | a = 0.215          | a = 0.617          | a = 0.952          | ... | a = 0.862       | a = 0.985       | a = 0.63        | a = 0.404       | a = 0.719       | a = 0.564        |\n",
       "|       | b = 1              | b = 1              | b = -1             | b = -1             | b = 1              | b = 1              |     | b = 1           | b = 1           | b = 1           | b = -1          | b = 1           | b = 1            |\n",
       "+-------+--------------------+--------------------+--------------------+--------------------+--------------------+--------------------+-----+-----------------+-----------------+-----------------+-----------------+-----------------+------------------+\n",
       "| 1     | a = 0.587          | a = 0.111          | a = 0.842          | a = 0.858          | a = 0.769          | a = 0.158          | ... | a = 0.181       | a = 0.551       | a = 0.19        | a = 0.151       | a = 0.984       | a = 0.0444       |\n",
       "|       | b = 1              | b = -1             | b = 1              | b = 1              | b = 1              | b = -1             |     | b = -1          | b = 1           | b = -1          | b = -1          | b = 1           | b = -1           |\n",
       "+-------+--------------------+--------------------+--------------------+--------------------+--------------------+--------------------+-----+-----------------+-----------------+-----------------+-----------------+-----------------+------------------+\n",
       "| 0     | a = 0.441          | a = 0.321          | a = 0.786          | a = 0.652          | a = 0.313          | a = 0.0947         | ... | a = 0.848       | a = 0.392       | a = 0.65        | a = 0.901       | a = 0.891       | a = 0.158        |\n",
       "|       | b = -1             | b = -1             | b = 1              | b = 1              | b = -1             | b = -1             |     | b = 1           | b = -1          | b = 1           | b = 1           | b = 1           | b = -1           |\n",
       "+-------+--------------------+--------------------+--------------------+--------------------+--------------------+--------------------+-----+-----------------+-----------------+-----------------+-----------------+-----------------+------------------+"
      ]
     },
     "execution_count": 102,
     "metadata": {},
     "output_type": "execute_result"
    }
   ],
   "source": [
    "g[::-1, ::-1]"
   ]
  },
  {
   "cell_type": "code",
   "execution_count": 103,
   "metadata": {},
   "outputs": [
    {
     "data": {
      "text/html": [
       "<table>\n",
       "<tbody>\n",
       "<tr><td><b>y \\ x</b></td><td><b>[-0.5 | 0 | 0.5]</b></td><td><b>[2.5 | 3 | 3.5]</b></td><td><b>[4.5 | 5 | 5.5]</b></td></tr>\n",
       "<tr><td><b>2</b>    </td><td>a = 0.564<br>b = 1     </td><td>a = 0.63<br>b = 1     </td><td>a = 0.862<br>b = 1    </td></tr>\n",
       "<tr><td><b>3</b>    </td><td>a = 0.0782<br>b = -1   </td><td>a = 0.362<br>b = -1   </td><td>a = 0.992<br>b = 1    </td></tr>\n",
       "</tbody>\n",
       "</table>"
      ],
      "text/plain": [
       "+-------+------------------+-----------------+-----------------+\n",
       "| y \\ x | [-0.5 | 0 | 0.5] | [2.5 | 3 | 3.5] | [4.5 | 5 | 5.5] |\n",
       "+-------+------------------+-----------------+-----------------+\n",
       "| 2     | a = 0.564        | a = 0.63        | a = 0.862       |\n",
       "|       | b = 1            | b = 1           | b = 1           |\n",
       "+-------+------------------+-----------------+-----------------+\n",
       "| 3     | a = 0.0782       | a = 0.362       | a = 0.992       |\n",
       "|       | b = -1           | b = -1          | b = 1           |\n",
       "+-------+------------------+-----------------+-----------------+"
      ]
     },
     "execution_count": 103,
     "metadata": {},
     "output_type": "execute_result"
    }
   ],
   "source": [
    "g[[0,3,5], 2:-1]"
   ]
  },
  {
   "cell_type": "code",
   "execution_count": 104,
   "metadata": {},
   "outputs": [
    {
     "data": {
      "text/plain": [
       "{'a': 0.157516381036082, 'b': -1.0}"
      ]
     },
     "execution_count": 104,
     "metadata": {},
     "output_type": "execute_result"
    }
   ],
   "source": [
    "g[0,0]"
   ]
  },
  {
   "cell_type": "code",
   "execution_count": 105,
   "metadata": {},
   "outputs": [
    {
     "data": {
      "text/plain": [
       "19.5"
      ]
     },
     "execution_count": 105,
     "metadata": {},
     "output_type": "execute_result"
    }
   ],
   "source": [
    "g.grid.edges[0].max()"
   ]
  },
  {
   "cell_type": "code",
   "execution_count": 106,
   "metadata": {},
   "outputs": [
    {
     "data": {
      "text/html": [
       "<table>\n",
       "<tbody>\n",
       "<tr><td><b>y</b></td><td><b>0</b></td><td><b>1</b></td><td><b>2</b></td><td><b>3</b></td><td><b>4</b></td></tr>\n",
       "<tr><td><b></b> </td><td>0.255   </td><td>0.233   </td><td>0.575   </td><td>0.408   </td><td>0.24    </td></tr>\n",
       "</tbody>\n",
       "</table>"
      ],
      "text/plain": [
       "+---+-------+-------+-------+-------+------+\n",
       "| y | 0     | 1     | 2     | 3     | 4    |\n",
       "+---+-------+-------+-------+-------+------+\n",
       "|   | 0.255 | 0.233 | 0.575 | 0.408 | 0.24 |\n",
       "+---+-------+-------+-------+-------+------+"
      ]
     },
     "execution_count": 106,
     "metadata": {},
     "output_type": "execute_result"
    }
   ],
   "source": [
    "np.mean(g['b'], axis='x') + np.std(g['a'], axis='x')"
   ]
  },
  {
   "cell_type": "code",
   "execution_count": 107,
   "metadata": {},
   "outputs": [],
   "source": [
    "g['c'] = np.sqrt(g['x']) * np.sqrt(g['y'])"
   ]
  },
  {
   "cell_type": "code",
   "execution_count": 108,
   "metadata": {},
   "outputs": [
    {
     "data": {
      "text/plain": [
       "<matplotlib.collections.QuadMesh at 0x7f1abbff3668>"
      ]
     },
     "execution_count": 108,
     "metadata": {},
     "output_type": "execute_result"
    },
    {
     "data": {
      "image/png": "[encoded data removed]",
      "text/plain": [
       "<Figure size 432x288 with 2 Axes>"
      ]
     },
     "metadata": {
      "needs_background": "light"
     },
     "output_type": "display_data"
    }
   ],
   "source": [
    "g.plot('c', cbar=True)"
   ]
  },
  {
   "cell_type": "code",
   "execution_count": 109,
   "metadata": {},
   "outputs": [],
   "source": [
    "g['m'] = np.arange(g.grid.size * 3).reshape(g.shape + (-1,))"
   ]
  },
  {
   "cell_type": "code",
   "execution_count": 110,
   "metadata": {},
   "outputs": [
    {
     "name": "stderr",
     "output_type": "stream",
     "text": [
      "Clipping input data to the valid range for imshow with RGB data ([0..1] for floats or [0..255] for integers).\n"
     ]
    },
    {
     "data": {
      "text/plain": [
       "<matplotlib.image.AxesImage at 0x7f1abbe71780>"
      ]
     },
     "execution_count": 110,
     "metadata": {},
     "output_type": "execute_result"
    },
    {
     "data": {
      "image/png": "[encoded data removed]",
      "text/plain": [
       "<Figure size 432x288 with 1 Axes>"
      ]
     },
     "metadata": {
      "needs_background": "light"
     },
     "output_type": "display_data"
    }
   ],
   "source": [
    "g.plot('m') #it's interpreted as an RGB image, since the excess dimension is 3"
   ]
  },
  {
   "cell_type": "code",
   "execution_count": 111,
   "metadata": {},
   "outputs": [
    {
     "data": {
      "text/html": [
       "<table>\n",
       "<tbody>\n",
       "<tr><td><b>y \\ x</b></td><td><b>[-0.5 | 0 | 0.5]</b></td><td><b>[0.5 | 1 | 1.5]</b></td><td><b>[1.5 | 2 | 2.5]</b></td><td><b>[2.5 | 3 | 3.5]</b></td><td><b>[3.5 | 4 | 4.5]</b></td><td><b>[4.5 | 5 | 5.5]</b></td><td>...</td><td><b>[13.5 | 14 | 14.5]</b></td><td><b>[14.5 | 15 | 15.5]</b></td><td><b>[15.5 | 16 | 16.5]</b></td><td><b>[16.5 | 17 | 17.5]</b></td><td><b>[17.5 | 18 | 18.5]</b></td><td><b>[18.5 | 19 | 19.5]</b></td></tr>\n",
       "<tr><td><b>0</b>    </td><td>0                      </td><td>15                    </td><td>30                    </td><td>45                    </td><td>60                    </td><td>75                    </td><td>...</td><td>210                      </td><td>225                      </td><td>240                      </td><td>255                      </td><td>270                      </td><td>285                      </td></tr>\n",
       "<tr><td><b>1</b>    </td><td>3                      </td><td>18                    </td><td>33                    </td><td>48                    </td><td>63                    </td><td>78                    </td><td>...</td><td>213                      </td><td>228                      </td><td>243                      </td><td>258                      </td><td>273                      </td><td>288                      </td></tr>\n",
       "<tr><td><b>2</b>    </td><td>6                      </td><td>21                    </td><td>36                    </td><td>51                    </td><td>66                    </td><td>81                    </td><td>...</td><td>216                      </td><td>231                      </td><td>246                      </td><td>261                      </td><td>276                      </td><td>291                      </td></tr>\n",
       "<tr><td><b>3</b>    </td><td>9                      </td><td>24                    </td><td>39                    </td><td>54                    </td><td>69                    </td><td>84                    </td><td>...</td><td>219                      </td><td>234                      </td><td>249                      </td><td>264                      </td><td>279                      </td><td>294                      </td></tr>\n",
       "<tr><td><b>4</b>    </td><td>12                     </td><td>27                    </td><td>42                    </td><td>57                    </td><td>72                    </td><td>87                    </td><td>...</td><td>222                      </td><td>237                      </td><td>252                      </td><td>267                      </td><td>282                      </td><td>297                      </td></tr>\n",
       "</tbody>\n",
       "</table>"
      ],
      "text/plain": [
       "+-------+------------------+-----------------+-----------------+-----------------+-----------------+-----------------+-----+--------------------+--------------------+--------------------+--------------------+--------------------+--------------------+\n",
       "| y \\ x | [-0.5 | 0 | 0.5] | [0.5 | 1 | 1.5] | [1.5 | 2 | 2.5] | [2.5 | 3 | 3.5] | [3.5 | 4 | 4.5] | [4.5 | 5 | 5.5] | ... | [13.5 | 14 | 14.5] | [14.5 | 15 | 15.5] | [15.5 | 16 | 16.5] | [16.5 | 17 | 17.5] | [17.5 | 18 | 18.5] | [18.5 | 19 | 19.5] |\n",
       "+-------+------------------+-----------------+-----------------+-----------------+-----------------+-----------------+-----+--------------------+--------------------+--------------------+--------------------+--------------------+--------------------+\n",
       "| 0     | 0                | 15              | 30              | 45              | 60              | 75              | ... | 210                | 225                | 240                | 255                | 270                | 285                |\n",
       "+-------+------------------+-----------------+-----------------+-----------------+-----------------+-----------------+-----+--------------------+--------------------+--------------------+--------------------+--------------------+--------------------+\n",
       "| 1     | 3                | 18              | 33              | 48              | 63              | 78              | ... | 213                | 228                | 243                | 258                | 273                | 288                |\n",
       "+-------+------------------+-----------------+-----------------+-----------------+-----------------+-----------------+-----+--------------------+--------------------+--------------------+--------------------+--------------------+--------------------+\n",
       "| 2     | 6                | 21              | 36              | 51              | 66              | 81              | ... | 216                | 231                | 246                | 261                | 276                | 291                |\n",
       "+-------+------------------+-----------------+-----------------+-----------------+-----------------+-----------------+-----+--------------------+--------------------+--------------------+--------------------+--------------------+--------------------+\n",
       "| 3     | 9                | 24              | 39              | 54              | 69              | 84              | ... | 219                | 234                | 249                | 264                | 279                | 294                |\n",
       "+-------+------------------+-----------------+-----------------+-----------------+-----------------+-----------------+-----+--------------------+--------------------+--------------------+--------------------+--------------------+--------------------+\n",
       "| 4     | 12               | 27              | 42              | 57              | 72              | 87              | ... | 222                | 237                | 252                | 267                | 282                | 297                |\n",
       "+-------+------------------+-----------------+-----------------+-----------------+-----------------+-----------------+-----+--------------------+--------------------+--------------------+--------------------+--------------------+--------------------+"
      ]
     },
     "execution_count": 111,
     "metadata": {},
     "output_type": "execute_result"
    }
   ],
   "source": [
    "g['m'][:,:,0]"
   ]
  },
  {
   "cell_type": "code",
   "execution_count": 112,
   "metadata": {},
   "outputs": [
    {
     "data": {
      "text/html": [
       "<table>\n",
       "<tbody>\n",
       "<tr><td><b>x</b></td><td><b>[-0.5 | 0 | 0.5]</b></td><td><b>[0.5 | 1 | 1.5]</b></td><td><b>[1.5 | 2 | 2.5]</b></td><td><b>[2.5 | 3 | 3.5]</b></td><td><b>[3.5 | 4 | 4.5]</b></td><td><b>[4.5 | 5 | 5.5]</b></td><td>...</td><td><b>[13.5 | 14 | 14.5]</b></td><td><b>[14.5 | 15 | 15.5]</b></td><td><b>[15.5 | 16 | 16.5]</b></td><td><b>[16.5 | 17 | 17.5]</b></td><td><b>[17.5 | 18 | 18.5]</b></td><td><b>[18.5 | 19 | 19.5]</b></td></tr>\n",
       "<tr><td><b>a</b></td><td>0.0782                 </td><td>0.382                 </td><td>0.463                 </td><td>0.362                 </td><td>0.658                 </td><td>0.992                 </td><td>...</td><td>0.201                    </td><td>0.977                    </td><td>0.757                    </td><td>0.276                    </td><td>0.0912                   </td><td>0.802                    </td></tr>\n",
       "<tr><td><b>b</b></td><td>-1                     </td><td>-1                    </td><td>-1                    </td><td>-1                    </td><td>1                     </td><td>1                     </td><td>...</td><td>-1                       </td><td>1                        </td><td>1                        </td><td>-1                       </td><td>-1                       </td><td>1                        </td></tr>\n",
       "<tr><td><b>c</b></td><td>0                      </td><td>1.73                  </td><td>2.45                  </td><td>3                     </td><td>3.46                  </td><td>3.87                  </td><td>...</td><td>6.48                     </td><td>6.71                     </td><td>6.93                     </td><td>7.14                     </td><td>7.35                     </td><td>7.55                     </td></tr>\n",
       "<tr><td><b>m</b></td><td>[ 9 10 11]             </td><td>[24 25 26]            </td><td>[39 40 41]            </td><td>[54 55 56]            </td><td>[69 70 71]            </td><td>[84 85 86]            </td><td>...</td><td>[219 220 221]            </td><td>[234 235 236]            </td><td>[249 250 251]            </td><td>[264 265 266]            </td><td>[279 280 281]            </td><td>[294 295 296]            </td></tr>\n",
       "</tbody>\n",
       "</table>"
      ],
      "text/plain": [
       "+---+------------------+-----------------+-----------------+-----------------+-----------------+-----------------+-----+--------------------+--------------------+--------------------+--------------------+--------------------+--------------------+\n",
       "| x | [-0.5 | 0 | 0.5] | [0.5 | 1 | 1.5] | [1.5 | 2 | 2.5] | [2.5 | 3 | 3.5] | [3.5 | 4 | 4.5] | [4.5 | 5 | 5.5] | ... | [13.5 | 14 | 14.5] | [14.5 | 15 | 15.5] | [15.5 | 16 | 16.5] | [16.5 | 17 | 17.5] | [17.5 | 18 | 18.5] | [18.5 | 19 | 19.5] |\n",
       "+---+------------------+-----------------+-----------------+-----------------+-----------------+-----------------+-----+--------------------+--------------------+--------------------+--------------------+--------------------+--------------------+\n",
       "| a | 0.0782           | 0.382           | 0.463           | 0.362           | 0.658           | 0.992           | ... | 0.201              | 0.977              | 0.757              | 0.276              | 0.0912             | 0.802              |\n",
       "+---+------------------+-----------------+-----------------+-----------------+-----------------+-----------------+-----+--------------------+--------------------+--------------------+--------------------+--------------------+--------------------+\n",
       "| b | -1               | -1              | -1              | -1              | 1               | 1               | ... | -1                 | 1                  | 1                  | -1                 | -1                 | 1                  |\n",
       "+---+------------------+-----------------+-----------------+-----------------+-----------------+-----------------+-----+--------------------+--------------------+--------------------+--------------------+--------------------+--------------------+\n",
       "| c | 0                | 1.73            | 2.45            | 3               | 3.46            | 3.87            | ... | 6.48               | 6.71               | 6.93               | 7.14               | 7.35               | 7.55               |\n",
       "+---+------------------+-----------------+-----------------+-----------------+-----------------+-----------------+-----+--------------------+--------------------+--------------------+--------------------+--------------------+--------------------+\n",
       "| m | [ 9 10 11]       | [24 25 26]      | [39 40 41]      | [54 55 56]      | [69 70 71]      | [84 85 86]      | ... | [219 220 221]      | [234 235 236]      | [249 250 251]      | [264 265 266]      | [279 280 281]      | [294 295 296]      |\n",
       "+---+------------------+-----------------+-----------------+-----------------+-----------------+-----------------+-----+--------------------+--------------------+--------------------+--------------------+--------------------+--------------------+"
      ]
     },
     "execution_count": 112,
     "metadata": {},
     "output_type": "execute_result"
    }
   ],
   "source": [
    "g[:,3]"
   ]
  },
  {
   "cell_type": "code",
   "execution_count": 113,
   "metadata": {},
   "outputs": [
    {
     "data": {
      "text/html": [
       "<table>\n",
       "<tbody>\n",
       "<tr><td><b>y \\ x</b></td><td><b>[-0.5 | 0 | 0.5]</b></td><td><b>[0.5 | 1 | 1.5]</b></td><td><b>[1.5 | 2 | 2.5]</b></td><td><b>[2.5 | 3 | 3.5]</b></td><td><b>[3.5 | 4 | 4.5]</b></td><td><b>[4.5 | 5 | 5.5]</b></td><td>...</td><td><b>[13.5 | 14 | 14.5]</b></td><td><b>[14.5 | 15 | 15.5]</b></td><td><b>[15.5 | 16 | 16.5]</b></td><td><b>[16.5 | 17 | 17.5]</b></td><td><b>[17.5 | 18 | 18.5]</b></td><td><b>[18.5 | 19 | 19.5]</b></td></tr>\n",
       "<tr><td><b>0</b>    </td><td>[0 1 2]                </td><td>[15 16 17]            </td><td>[30 31 32]            </td><td>[45 46 47]            </td><td>[60 61 62]            </td><td>[75 76 77]            </td><td>...</td><td>[210 211 212]            </td><td>[225 226 227]            </td><td>[240 241 242]            </td><td>[255 256 257]            </td><td>[270 271 272]            </td><td>[285 286 287]            </td></tr>\n",
       "<tr><td><b>1</b>    </td><td>[3 4 5]                </td><td>[18 19 20]            </td><td>[33 34 35]            </td><td>[48 49 50]            </td><td>[63 64 65]            </td><td>[78 79 80]            </td><td>...</td><td>[213 214 215]            </td><td>[228 229 230]            </td><td>[243 244 245]            </td><td>[258 259 260]            </td><td>[273 274 275]            </td><td>[288 289 290]            </td></tr>\n",
       "<tr><td><b>2</b>    </td><td>[6 7 8]                </td><td>[21 22 23]            </td><td>[36 37 38]            </td><td>[51 52 53]            </td><td>[66 67 68]            </td><td>[81 82 83]            </td><td>...</td><td>[216 217 218]            </td><td>[231 232 233]            </td><td>[246 247 248]            </td><td>[261 262 263]            </td><td>[276 277 278]            </td><td>[291 292 293]            </td></tr>\n",
       "<tr><td><b>3</b>    </td><td>[ 9 10 11]             </td><td>[24 25 26]            </td><td>[39 40 41]            </td><td>[54 55 56]            </td><td>[69 70 71]            </td><td>[84 85 86]            </td><td>...</td><td>[219 220 221]            </td><td>[234 235 236]            </td><td>[249 250 251]            </td><td>[264 265 266]            </td><td>[279 280 281]            </td><td>[294 295 296]            </td></tr>\n",
       "<tr><td><b>4</b>    </td><td>[12 13 14]             </td><td>[27 28 29]            </td><td>[42 43 44]            </td><td>[57 58 59]            </td><td>[72 73 74]            </td><td>[87 88 89]            </td><td>...</td><td>[222 223 224]            </td><td>[237 238 239]            </td><td>[252 253 254]            </td><td>[267 268 269]            </td><td>[282 283 284]            </td><td>[297 298 299]            </td></tr>\n",
       "</tbody>\n",
       "</table>"
      ],
      "text/plain": [
       "+-------+------------------+-----------------+-----------------+-----------------+-----------------+-----------------+-----+--------------------+--------------------+--------------------+--------------------+--------------------+--------------------+\n",
       "| y \\ x | [-0.5 | 0 | 0.5] | [0.5 | 1 | 1.5] | [1.5 | 2 | 2.5] | [2.5 | 3 | 3.5] | [3.5 | 4 | 4.5] | [4.5 | 5 | 5.5] | ... | [13.5 | 14 | 14.5] | [14.5 | 15 | 15.5] | [15.5 | 16 | 16.5] | [16.5 | 17 | 17.5] | [17.5 | 18 | 18.5] | [18.5 | 19 | 19.5] |\n",
       "+-------+------------------+-----------------+-----------------+-----------------+-----------------+-----------------+-----+--------------------+--------------------+--------------------+--------------------+--------------------+--------------------+\n",
       "| 0     | [0 1 2]          | [15 16 17]      | [30 31 32]      | [45 46 47]      | [60 61 62]      | [75 76 77]      | ... | [210 211 212]      | [225 226 227]      | [240 241 242]      | [255 256 257]      | [270 271 272]      | [285 286 287]      |\n",
       "+-------+------------------+-----------------+-----------------+-----------------+-----------------+-----------------+-----+--------------------+--------------------+--------------------+--------------------+--------------------+--------------------+\n",
       "| 1     | [3 4 5]          | [18 19 20]      | [33 34 35]      | [48 49 50]      | [63 64 65]      | [78 79 80]      | ... | [213 214 215]      | [228 229 230]      | [243 244 245]      | [258 259 260]      | [273 274 275]      | [288 289 290]      |\n",
       "+-------+------------------+-----------------+-----------------+-----------------+-----------------+-----------------+-----+--------------------+--------------------+--------------------+--------------------+--------------------+--------------------+\n",
       "| 2     | [6 7 8]          | [21 22 23]      | [36 37 38]      | [51 52 53]      | [66 67 68]      | [81 82 83]      | ... | [216 217 218]      | [231 232 233]      | [246 247 248]      | [261 262 263]      | [276 277 278]      | [291 292 293]      |\n",
       "+-------+------------------+-----------------+-----------------+-----------------+-----------------+-----------------+-----+--------------------+--------------------+--------------------+--------------------+--------------------+--------------------+\n",
       "| 3     | [ 9 10 11]       | [24 25 26]      | [39 40 41]      | [54 55 56]      | [69 70 71]      | [84 85 86]      | ... | [219 220 221]      | [234 235 236]      | [249 250 251]      | [264 265 266]      | [279 280 281]      | [294 295 296]      |\n",
       "+-------+------------------+-----------------+-----------------+-----------------+-----------------+-----------------+-----+--------------------+--------------------+--------------------+--------------------+--------------------+--------------------+\n",
       "| 4     | [12 13 14]       | [27 28 29]      | [42 43 44]      | [57 58 59]      | [72 73 74]      | [87 88 89]      | ... | [222 223 224]      | [237 238 239]      | [252 253 254]      | [267 268 269]      | [282 283 284]      | [297 298 299]      |\n",
       "+-------+------------------+-----------------+-----------------+-----------------+-----------------+-----------------+-----+--------------------+--------------------+--------------------+--------------------+--------------------+--------------------+"
      ]
     },
     "execution_count": 113,
     "metadata": {},
     "output_type": "execute_result"
    }
   ],
   "source": [
    "g['m']"
   ]
  },
  {
   "cell_type": "code",
   "execution_count": 138,
   "metadata": {},
   "outputs": [
    {
     "data": {
      "text/plain": [
       "('a',\n",
       " +-------+------------------+-----------------+-----------------+-----------------+-----------------+-----------------+-----+--------------------+--------------------+--------------------+--------------------+--------------------+--------------------+\n",
       " | y \\ x | [-0.5 | 0 | 0.5] | [0.5 | 1 | 1.5] | [1.5 | 2 | 2.5] | [2.5 | 3 | 3.5] | [3.5 | 4 | 4.5] | [4.5 | 5 | 5.5] | ... | [13.5 | 14 | 14.5] | [14.5 | 15 | 15.5] | [15.5 | 16 | 16.5] | [16.5 | 17 | 17.5] | [17.5 | 18 | 18.5] | [18.5 | 19 | 19.5] |\n",
       " +-------+------------------+-----------------+-----------------+-----------------+-----------------+-----------------+-----+--------------------+--------------------+--------------------+--------------------+--------------------+--------------------+\n",
       " | 0     | 0.158            | 0.891           | 0.901           | 0.65            | 0.392           | 0.848           | ... | 0.0947             | 0.313              | 0.652              | 0.786              | 0.321              | 0.441              |\n",
       " +-------+------------------+-----------------+-----------------+-----------------+-----------------+-----------------+-----+--------------------+--------------------+--------------------+--------------------+--------------------+--------------------+\n",
       " | 1     | 0.0444           | 0.984           | 0.151           | 0.19            | 0.551           | 0.181           | ... | 0.158              | 0.769              | 0.858              | 0.842              | 0.111              | 0.587              |\n",
       " +-------+------------------+-----------------+-----------------+-----------------+-----------------+-----------------+-----+--------------------+--------------------+--------------------+--------------------+--------------------+--------------------+\n",
       " | 2     | 0.564            | 0.719           | 0.404           | 0.63            | 0.985           | 0.862           | ... | 0.952              | 0.617              | 0.215              | 0.0433             | 0.945              | 0.583              |\n",
       " +-------+------------------+-----------------+-----------------+-----------------+-----------------+-----------------+-----+--------------------+--------------------+--------------------+--------------------+--------------------+--------------------+\n",
       " | 3     | 0.0782           | 0.382           | 0.463           | 0.362           | 0.658           | 0.992           | ... | 0.201              | 0.977              | 0.757              | 0.276              | 0.0912             | 0.802              |\n",
       " +-------+------------------+-----------------+-----------------+-----------------+-----------------+-----------------+-----+--------------------+--------------------+--------------------+--------------------+--------------------+--------------------+\n",
       " | 4     | 0.14             | 0.331           | 0.974           | 0.205           | 0.688           | 0.828           | ... | 0.0807             | 0.131              | 0.189              | 0.674              | 0.413              | 0.909              |\n",
       " +-------+------------------+-----------------+-----------------+-----------------+-----------------+-----------------+-----+--------------------+--------------------+--------------------+--------------------+--------------------+--------------------+)"
      ]
     },
     "execution_count": 138,
     "metadata": {},
     "output_type": "execute_result"
    }
   ],
   "source": [
    "g.items()[0]"
   ]
  },
  {
   "cell_type": "code",
   "execution_count": 115,
   "metadata": {},
   "outputs": [
    {
     "data": {
      "text/html": [
       "<table>\n",
       "<tbody>\n",
       "<tr><td><b>x \\ y</b>          </td><td><b>0</b>  </td><td><b>1</b>  </td><td><b>2</b>  </td><td><b>3</b>  </td><td><b>4</b>  </td></tr>\n",
       "<tr><td><b>[2.5 | 3 | 3.5]</b></td><td>[45 46 47]</td><td>[48 49 50]</td><td>[51 52 53]</td><td>[54 55 56]</td><td>[57 58 59]</td></tr>\n",
       "<tr><td><b>[3.5 | 4 | 4.5]</b></td><td>[60 61 62]</td><td>[63 64 65]</td><td>[66 67 68]</td><td>[69 70 71]</td><td>[72 73 74]</td></tr>\n",
       "</tbody>\n",
       "</table>"
      ],
      "text/plain": [
       "+-----------------+------------+------------+------------+------------+------------+\n",
       "| x \\ y           | 0          | 1          | 2          | 3          | 4          |\n",
       "+-----------------+------------+------------+------------+------------+------------+\n",
       "| [2.5 | 3 | 3.5] | [45 46 47] | [48 49 50] | [51 52 53] | [54 55 56] | [57 58 59] |\n",
       "+-----------------+------------+------------+------------+------------+------------+\n",
       "| [3.5 | 4 | 4.5] | [60 61 62] | [63 64 65] | [66 67 68] | [69 70 71] | [72 73 74] |\n",
       "+-----------------+------------+------------+------------+------------+------------+"
      ]
     },
     "execution_count": 115,
     "metadata": {},
     "output_type": "execute_result"
    }
   ],
   "source": [
    "g.T[:,3:5]['m']"
   ]
  },
  {
   "cell_type": "code",
   "execution_count": 116,
   "metadata": {},
   "outputs": [
    {
     "data": {
      "text/plain": [
       "OrderedDict([('a', 52.215958784835905),\n",
       "             ('b', 4.0),\n",
       "             ('c', 351.52847238221136),\n",
       "             ('m', 44850)])"
      ]
     },
     "execution_count": 116,
     "metadata": {},
     "output_type": "execute_result"
    }
   ],
   "source": [
    "np.sum(g)"
   ]
  },
  {
   "cell_type": "code",
   "execution_count": 117,
   "metadata": {},
   "outputs": [
    {
     "data": {
      "text/html": [
       "<table>\n",
       "<tbody>\n",
       "<tr><td><b>y</b></td><td><b>0</b>        </td><td><b>1</b>        </td><td><b>2</b>        </td><td><b>3</b>        </td><td><b>4</b>        </td></tr>\n",
       "<tr><td><b>a</b></td><td>11              </td><td>9.3             </td><td>11.6            </td><td>10.9            </td><td>9.35            </td></tr>\n",
       "<tr><td><b>b</b></td><td>0               </td><td>-2              </td><td>6               </td><td>2               </td><td>-2              </td></tr>\n",
       "<tr><td><b>c</b></td><td>0               </td><td>57.2            </td><td>80.9            </td><td>99.1            </td><td>114             </td></tr>\n",
       "<tr><td><b>m</b></td><td>[2850 2870 2890]</td><td>[2910 2930 2950]</td><td>[2970 2990 3010]</td><td>[3030 3050 3070]</td><td>[3090 3110 3130]</td></tr>\n",
       "</tbody>\n",
       "</table>"
      ],
      "text/plain": [
       "+---+------------------+------------------+------------------+------------------+------------------+\n",
       "| y | 0                | 1                | 2                | 3                | 4                |\n",
       "+---+------------------+------------------+------------------+------------------+------------------+\n",
       "| a | 11               | 9.3              | 11.6             | 10.9             | 9.35             |\n",
       "+---+------------------+------------------+------------------+------------------+------------------+\n",
       "| b | 0                | -2               | 6                | 2                | -2               |\n",
       "+---+------------------+------------------+------------------+------------------+------------------+\n",
       "| c | 0                | 57.2             | 80.9             | 99.1             | 114              |\n",
       "+---+------------------+------------------+------------------+------------------+------------------+\n",
       "| m | [2850 2870 2890] | [2910 2930 2950] | [2970 2990 3010] | [3030 3050 3070] | [3090 3110 3130] |\n",
       "+---+------------------+------------------+------------------+------------------+------------------+"
      ]
     },
     "execution_count": 117,
     "metadata": {},
     "output_type": "execute_result"
    }
   ],
   "source": [
    "np.sum(g, axis=(0))"
   ]
  },
  {
   "cell_type": "markdown",
   "metadata": {},
   "source": [
    "# Stuff to fix"
   ]
  },
  {
   "cell_type": "code",
   "execution_count": 118,
   "metadata": {},
   "outputs": [
    {
     "data": {
      "text/plain": [
       "array([14850, 14950, 15050])"
      ]
     },
     "execution_count": 118,
     "metadata": {},
     "output_type": "execute_result"
    }
   ],
   "source": [
    "np.sum(g['m'], axis=(0,1))"
   ]
  },
  {
   "cell_type": "code",
   "execution_count": 119,
   "metadata": {},
   "outputs": [
    {
     "data": {
      "text/plain": [
       "Grid(\n",
       "Axis(\"x\",\n",
       "points = array([ 0,  1,  2,  3,  4,  5,  6,  7,  8,  9, 10, 11, 12, 13, 14, 15, 16,\n",
       "       17, 18, 19]),\n",
       "edges = edges: array([[-0.5,  0.5],\n",
       "       [ 0.5,  1.5],\n",
       "       [ 1.5,  2.5],\n",
       "       [ 2.5,  3.5],\n",
       "       [ 3.5,  4.5],\n",
       "       [ 4.5,  5.5],\n",
       "       [ 5.5,  6.5],\n",
       "       [ 6.5,  7.5],\n",
       "       [ 7.5,  8.5],\n",
       "       [ 8.5,  9.5],\n",
       "       [ 9.5, 10.5],\n",
       "       [10.5, 11.5],\n",
       "       [11.5, 12.5],\n",
       "       [12.5, 13.5],\n",
       "       [13.5, 14.5],\n",
       "       [14.5, 15.5],\n",
       "       [15.5, 16.5],\n",
       "       [16.5, 17.5],\n",
       "       [17.5, 18.5],\n",
       "       [18.5, 19.5]]))\n",
       "nbins = 20),\n",
       "Axis(\"y\",\n",
       "points = array([0, 1, 2, 3, 4]),\n",
       "edges = edges: None)\n",
       "nbins = 5),)"
      ]
     },
     "execution_count": 119,
     "metadata": {},
     "output_type": "execute_result"
    }
   ],
   "source": [
    "# because of this\n",
    "np.sum(g['m'], axis=-1).grid"
   ]
  },
  {
   "cell_type": "code",
   "execution_count": 120,
   "metadata": {},
   "outputs": [
    {
     "data": {
      "text/html": [
       "<table>\n",
       "<tbody>\n",
       "<tr><td><b>y \\ x</b></td><td><b>[-0.5 | 0 | 0.5]</b></td><td><b>[0.5 | 1 | 1.5]</b></td><td><b>[1.5 | 2 | 2.5]</b></td><td><b>[2.5 | 3 | 3.5]</b></td><td><b>[3.5 | 4 | 4.5]</b></td><td><b>[4.5 | 5 | 5.5]</b></td><td>...</td><td><b>[13.5 | 14 | 14.5]</b></td><td><b>[14.5 | 15 | 15.5]</b></td><td><b>[15.5 | 16 | 16.5]</b></td><td><b>[16.5 | 17 | 17.5]</b></td><td><b>[17.5 | 18 | 18.5]</b></td><td><b>[18.5 | 19 | 19.5]</b></td></tr>\n",
       "<tr><td><b>0</b>    </td><td>3                      </td><td>48                    </td><td>93                    </td><td>138                   </td><td>183                   </td><td>228                   </td><td>...</td><td>633                      </td><td>678                      </td><td>723                      </td><td>768                      </td><td>813                      </td><td>858                      </td></tr>\n",
       "<tr><td><b>1</b>    </td><td>12                     </td><td>57                    </td><td>102                   </td><td>147                   </td><td>192                   </td><td>237                   </td><td>...</td><td>642                      </td><td>687                      </td><td>732                      </td><td>777                      </td><td>822                      </td><td>867                      </td></tr>\n",
       "<tr><td><b>2</b>    </td><td>21                     </td><td>66                    </td><td>111                   </td><td>156                   </td><td>201                   </td><td>246                   </td><td>...</td><td>651                      </td><td>696                      </td><td>741                      </td><td>786                      </td><td>831                      </td><td>876                      </td></tr>\n",
       "<tr><td><b>3</b>    </td><td>30                     </td><td>75                    </td><td>120                   </td><td>165                   </td><td>210                   </td><td>255                   </td><td>...</td><td>660                      </td><td>705                      </td><td>750                      </td><td>795                      </td><td>840                      </td><td>885                      </td></tr>\n",
       "<tr><td><b>4</b>    </td><td>39                     </td><td>84                    </td><td>129                   </td><td>174                   </td><td>219                   </td><td>264                   </td><td>...</td><td>669                      </td><td>714                      </td><td>759                      </td><td>804                      </td><td>849                      </td><td>894                      </td></tr>\n",
       "</tbody>\n",
       "</table>"
      ],
      "text/plain": [
       "+-------+------------------+-----------------+-----------------+-----------------+-----------------+-----------------+-----+--------------------+--------------------+--------------------+--------------------+--------------------+--------------------+\n",
       "| y \\ x | [-0.5 | 0 | 0.5] | [0.5 | 1 | 1.5] | [1.5 | 2 | 2.5] | [2.5 | 3 | 3.5] | [3.5 | 4 | 4.5] | [4.5 | 5 | 5.5] | ... | [13.5 | 14 | 14.5] | [14.5 | 15 | 15.5] | [15.5 | 16 | 16.5] | [16.5 | 17 | 17.5] | [17.5 | 18 | 18.5] | [18.5 | 19 | 19.5] |\n",
       "+-------+------------------+-----------------+-----------------+-----------------+-----------------+-----------------+-----+--------------------+--------------------+--------------------+--------------------+--------------------+--------------------+\n",
       "| 0     | 3                | 48              | 93              | 138             | 183             | 228             | ... | 633                | 678                | 723                | 768                | 813                | 858                |\n",
       "+-------+------------------+-----------------+-----------------+-----------------+-----------------+-----------------+-----+--------------------+--------------------+--------------------+--------------------+--------------------+--------------------+\n",
       "| 1     | 12               | 57              | 102             | 147             | 192             | 237             | ... | 642                | 687                | 732                | 777                | 822                | 867                |\n",
       "+-------+------------------+-----------------+-----------------+-----------------+-----------------+-----------------+-----+--------------------+--------------------+--------------------+--------------------+--------------------+--------------------+\n",
       "| 2     | 21               | 66              | 111             | 156             | 201             | 246             | ... | 651                | 696                | 741                | 786                | 831                | 876                |\n",
       "+-------+------------------+-----------------+-----------------+-----------------+-----------------+-----------------+-----+--------------------+--------------------+--------------------+--------------------+--------------------+--------------------+\n",
       "| 3     | 30               | 75              | 120             | 165             | 210             | 255             | ... | 660                | 705                | 750                | 795                | 840                | 885                |\n",
       "+-------+------------------+-----------------+-----------------+-----------------+-----------------+-----------------+-----+--------------------+--------------------+--------------------+--------------------+--------------------+--------------------+\n",
       "| 4     | 39               | 84              | 129             | 174             | 219             | 264             | ... | 669                | 714                | 759                | 804                | 849                | 894                |\n",
       "+-------+------------------+-----------------+-----------------+-----------------+-----------------+-----------------+-----+--------------------+--------------------+--------------------+--------------------+--------------------+--------------------+"
      ]
     },
     "execution_count": 120,
     "metadata": {},
     "output_type": "execute_result"
    }
   ],
   "source": [
    "np.sum(g['m'], axis=-1)"
   ]
  },
  {
   "cell_type": "code",
   "execution_count": null,
   "metadata": {},
   "outputs": [],
   "source": []
  },
  {
   "cell_type": "code",
   "execution_count": 121,
   "metadata": {},
   "outputs": [
    {
     "data": {
      "text/html": [
       "<table>\n",
       "<tbody>\n",
       "<tr><td><b>y \\ x</b></td><td><b>[-0.5 | 0 | 0.5]</b></td><td><b>[0.5 | 1 | 1.5]</b></td><td><b>[1.5 | 2 | 2.5]</b></td><td><b>[2.5 | 3 | 3.5]</b></td><td><b>[3.5 | 4 | 4.5]</b></td><td><b>[4.5 | 5 | 5.5]</b></td><td>...</td><td><b>[13.5 | 14 | 14.5]</b></td><td><b>[14.5 | 15 | 15.5]</b></td><td><b>[15.5 | 16 | 16.5]</b></td><td><b>[16.5 | 17 | 17.5]</b></td><td><b>[17.5 | 18 | 18.5]</b></td><td><b>[18.5 | 19 | 19.5]</b></td></tr>\n",
       "<tr><td><b>0</b>    </td><td>0.527                  </td><td>-1.67                 </td><td>-1.7                  </td><td>-0.949                </td><td>-0.175                </td><td>-1.55                 </td><td>...</td><td>0.716                    </td><td>0.0624                   </td><td>-0.955                   </td><td>-1.36                    </td><td>0.0363                   </td><td>-0.322                   </td></tr>\n",
       "<tr><td><b>1</b>    </td><td>0.867                  </td><td>-1.95                 </td><td>0.548                 </td><td>0.429                 </td><td>-0.652                </td><td>0.458                 </td><td>...</td><td>0.526                    </td><td>-1.31                    </td><td>-1.58                    </td><td>-1.53                    </td><td>0.666                    </td><td>-0.76                    </td></tr>\n",
       "<tr><td><b>2</b>    </td><td>-0.691                 </td><td>-1.16                 </td><td>-0.213                </td><td>-0.889                </td><td>-1.95                 </td><td>-1.58                 </td><td>...</td><td>-1.86                    </td><td>-0.852                   </td><td>0.354                    </td><td>0.87                     </td><td>-1.83                    </td><td>-0.749                   </td></tr>\n",
       "<tr><td><b>3</b>    </td><td>0.766                  </td><td>-0.146                </td><td>-0.389                </td><td>-0.0857               </td><td>-0.973                </td><td>-1.98                 </td><td>...</td><td>0.397                    </td><td>-1.93                    </td><td>-1.27                    </td><td>0.172                    </td><td>0.727                    </td><td>-1.41                    </td></tr>\n",
       "<tr><td><b>4</b>    </td><td>0.579                  </td><td>0.00775               </td><td>-1.92                 </td><td>0.386                 </td><td>-1.06                 </td><td>-1.48                 </td><td>...</td><td>0.758                    </td><td>0.606                    </td><td>0.433                    </td><td>-1.02                    </td><td>-0.239                   </td><td>-1.73                    </td></tr>\n",
       "</tbody>\n",
       "</table>"
      ],
      "text/plain": [
       "+-------+------------------+-----------------+-----------------+-----------------+-----------------+-----------------+-----+--------------------+--------------------+--------------------+--------------------+--------------------+--------------------+\n",
       "| y \\ x | [-0.5 | 0 | 0.5] | [0.5 | 1 | 1.5] | [1.5 | 2 | 2.5] | [2.5 | 3 | 3.5] | [3.5 | 4 | 4.5] | [4.5 | 5 | 5.5] | ... | [13.5 | 14 | 14.5] | [14.5 | 15 | 15.5] | [15.5 | 16 | 16.5] | [16.5 | 17 | 17.5] | [17.5 | 18 | 18.5] | [18.5 | 19 | 19.5] |\n",
       "+-------+------------------+-----------------+-----------------+-----------------+-----------------+-----------------+-----+--------------------+--------------------+--------------------+--------------------+--------------------+--------------------+\n",
       "| 0     | 0.527            | -1.67           | -1.7            | -0.949          | -0.175          | -1.55           | ... | 0.716              | 0.0624             | -0.955             | -1.36              | 0.0363             | -0.322             |\n",
       "+-------+------------------+-----------------+-----------------+-----------------+-----------------+-----------------+-----+--------------------+--------------------+--------------------+--------------------+--------------------+--------------------+\n",
       "| 1     | 0.867            | -1.95           | 0.548           | 0.429           | -0.652          | 0.458           | ... | 0.526              | -1.31              | -1.58              | -1.53              | 0.666              | -0.76              |\n",
       "+-------+------------------+-----------------+-----------------+-----------------+-----------------+-----------------+-----+--------------------+--------------------+--------------------+--------------------+--------------------+--------------------+\n",
       "| 2     | -0.691           | -1.16           | -0.213          | -0.889          | -1.95           | -1.58           | ... | -1.86              | -0.852             | 0.354              | 0.87               | -1.83              | -0.749             |\n",
       "+-------+------------------+-----------------+-----------------+-----------------+-----------------+-----------------+-----+--------------------+--------------------+--------------------+--------------------+--------------------+--------------------+\n",
       "| 3     | 0.766            | -0.146          | -0.389          | -0.0857         | -0.973          | -1.98           | ... | 0.397              | -1.93              | -1.27              | 0.172              | 0.727              | -1.41              |\n",
       "+-------+------------------+-----------------+-----------------+-----------------+-----------------+-----------------+-----+--------------------+--------------------+--------------------+--------------------+--------------------+--------------------+\n",
       "| 4     | 0.579            | 0.00775         | -1.92           | 0.386           | -1.06           | -1.48           | ... | 0.758              | 0.606              | 0.433              | -1.02              | -0.239             | -1.73              |\n",
       "+-------+------------------+-----------------+-----------------+-----------------+-----------------+-----------------+-----+--------------------+--------------------+--------------------+--------------------+--------------------+--------------------+"
      ]
     },
     "execution_count": 121,
     "metadata": {},
     "output_type": "execute_result"
    }
   ],
   "source": [
    "1 - 3 * g['a']"
   ]
  },
  {
   "cell_type": "code",
   "execution_count": 122,
   "metadata": {},
   "outputs": [
    {
     "data": {
      "text/plain": [
       "4"
      ]
     },
     "execution_count": 122,
     "metadata": {},
     "output_type": "execute_result"
    }
   ],
   "source": [
    "2 ** g['a']"
   ]
  },
  {
   "cell_type": "code",
   "execution_count": 123,
   "metadata": {},
   "outputs": [
    {
     "data": {
      "text/html": [
       "<table>\n",
       "<tbody>\n",
       "<tr><td><b>y \\ x</b></td><td><b>[-0.5 | 0 | 0.5]</b></td><td><b>[0.5 | 1 | 1.5]</b></td><td><b>[1.5 | 2 | 2.5]</b></td><td><b>[2.5 | 3 | 3.5]</b></td><td><b>[3.5 | 4 | 4.5]</b></td><td><b>[4.5 | 5 | 5.5]</b></td><td>...</td><td><b>[13.5 | 14 | 14.5]</b></td><td><b>[14.5 | 15 | 15.5]</b></td><td><b>[15.5 | 16 | 16.5]</b></td><td><b>[16.5 | 17 | 17.5]</b></td><td><b>[17.5 | 18 | 18.5]</b></td><td><b>[18.5 | 19 | 19.5]</b></td></tr>\n",
       "<tr><td><b>0</b>    </td><td>0.158                  </td><td>0.891                 </td><td>0.901                 </td><td>0.65                  </td><td>0.392                 </td><td>0.848                 </td><td>...</td><td>0.0947                   </td><td>0.313                    </td><td>0.652                    </td><td>0.786                    </td><td>0.321                    </td><td>0.441                    </td></tr>\n",
       "<tr><td><b>1</b>    </td><td>0.0444                 </td><td>0.984                 </td><td>0.151                 </td><td>0.19                  </td><td>0.551                 </td><td>0.181                 </td><td>...</td><td>0.158                    </td><td>0.769                    </td><td>0.858                    </td><td>0.842                    </td><td>0.111                    </td><td>0.587                    </td></tr>\n",
       "<tr><td><b>2</b>    </td><td>0.564                  </td><td>0.719                 </td><td>0.404                 </td><td>0.63                  </td><td>0.985                 </td><td>0.862                 </td><td>...</td><td>0.952                    </td><td>0.617                    </td><td>0.215                    </td><td>0.0433                   </td><td>0.945                    </td><td>0.583                    </td></tr>\n",
       "<tr><td><b>3</b>    </td><td>0.0782                 </td><td>0.382                 </td><td>0.463                 </td><td>0.362                 </td><td>0.658                 </td><td>0.992                 </td><td>...</td><td>0.201                    </td><td>0.977                    </td><td>0.757                    </td><td>0.276                    </td><td>0.0912                   </td><td>0.802                    </td></tr>\n",
       "<tr><td><b>4</b>    </td><td>0.14                   </td><td>0.331                 </td><td>0.974                 </td><td>0.205                 </td><td>0.688                 </td><td>0.828                 </td><td>...</td><td>0.0807                   </td><td>0.131                    </td><td>0.189                    </td><td>0.674                    </td><td>0.413                    </td><td>0.909                    </td></tr>\n",
       "</tbody>\n",
       "</table>"
      ],
      "text/plain": [
       "+-------+------------------+-----------------+-----------------+-----------------+-----------------+-----------------+-----+--------------------+--------------------+--------------------+--------------------+--------------------+--------------------+\n",
       "| y \\ x | [-0.5 | 0 | 0.5] | [0.5 | 1 | 1.5] | [1.5 | 2 | 2.5] | [2.5 | 3 | 3.5] | [3.5 | 4 | 4.5] | [4.5 | 5 | 5.5] | ... | [13.5 | 14 | 14.5] | [14.5 | 15 | 15.5] | [15.5 | 16 | 16.5] | [16.5 | 17 | 17.5] | [17.5 | 18 | 18.5] | [18.5 | 19 | 19.5] |\n",
       "+-------+------------------+-----------------+-----------------+-----------------+-----------------+-----------------+-----+--------------------+--------------------+--------------------+--------------------+--------------------+--------------------+\n",
       "| 0     | 0.158            | 0.891           | 0.901           | 0.65            | 0.392           | 0.848           | ... | 0.0947             | 0.313              | 0.652              | 0.786              | 0.321              | 0.441              |\n",
       "+-------+------------------+-----------------+-----------------+-----------------+-----------------+-----------------+-----+--------------------+--------------------+--------------------+--------------------+--------------------+--------------------+\n",
       "| 1     | 0.0444           | 0.984           | 0.151           | 0.19            | 0.551           | 0.181           | ... | 0.158              | 0.769              | 0.858              | 0.842              | 0.111              | 0.587              |\n",
       "+-------+------------------+-----------------+-----------------+-----------------+-----------------+-----------------+-----+--------------------+--------------------+--------------------+--------------------+--------------------+--------------------+\n",
       "| 2     | 0.564            | 0.719           | 0.404           | 0.63            | 0.985           | 0.862           | ... | 0.952              | 0.617              | 0.215              | 0.0433             | 0.945              | 0.583              |\n",
       "+-------+------------------+-----------------+-----------------+-----------------+-----------------+-----------------+-----+--------------------+--------------------+--------------------+--------------------+--------------------+--------------------+\n",
       "| 3     | 0.0782           | 0.382           | 0.463           | 0.362           | 0.658           | 0.992           | ... | 0.201              | 0.977              | 0.757              | 0.276              | 0.0912             | 0.802              |\n",
       "+-------+------------------+-----------------+-----------------+-----------------+-----------------+-----------------+-----+--------------------+--------------------+--------------------+--------------------+--------------------+--------------------+\n",
       "| 4     | 0.14             | 0.331           | 0.974           | 0.205           | 0.688           | 0.828           | ... | 0.0807             | 0.131              | 0.189              | 0.674              | 0.413              | 0.909              |\n",
       "+-------+------------------+-----------------+-----------------+-----------------+-----------------+-----------------+-----+--------------------+--------------------+--------------------+--------------------+--------------------+--------------------+"
      ]
     },
     "execution_count": 123,
     "metadata": {},
     "output_type": "execute_result"
    }
   ],
   "source": [
    "g['a']"
   ]
  },
  {
   "cell_type": "code",
   "execution_count": null,
   "metadata": {},
   "outputs": [],
   "source": []
  },
  {
   "cell_type": "code",
   "execution_count": 124,
   "metadata": {},
   "outputs": [
    {
     "data": {
      "text/html": [
       "<table>\n",
       "<tbody>\n",
       "<tr><td><b>y \\ x</b></td><td><b>[-0.5 | 0 | 0.5]</b></td><td><b>[0.5 | 1 | 1.5]</b></td><td><b>[1.5 | 2 | 2.5]</b></td><td><b>[2.5 | 3 | 3.5]</b></td><td><b>[3.5 | 4 | 4.5]</b></td><td><b>[4.5 | 5 | 5.5]</b></td><td>...</td><td><b>[13.5 | 14 | 14.5]</b></td><td><b>[14.5 | 15 | 15.5]</b></td><td><b>[15.5 | 16 | 16.5]</b></td><td><b>[16.5 | 17 | 17.5]</b></td><td><b>[17.5 | 18 | 18.5]</b></td><td><b>[18.5 | 19 | 19.5]</b></td></tr>\n",
       "<tr><td><b>0</b>    </td><td>0.158                  </td><td>0.891                 </td><td>0.901                 </td><td>0.65                  </td><td>0.392                 </td><td>0.848                 </td><td>...</td><td>0.0947                   </td><td>0.313                    </td><td>0.652                    </td><td>0.786                    </td><td>0.321                    </td><td>0.441                    </td></tr>\n",
       "<tr><td><b>1</b>    </td><td>0.0444                 </td><td>0.984                 </td><td>0.151                 </td><td>0.19                  </td><td>0.551                 </td><td>0.181                 </td><td>...</td><td>0.158                    </td><td>0.769                    </td><td>0.858                    </td><td>0.842                    </td><td>0.111                    </td><td>0.587                    </td></tr>\n",
       "<tr><td><b>2</b>    </td><td>0.564                  </td><td>0.719                 </td><td>0.404                 </td><td>0.63                  </td><td>0.985                 </td><td>0.862                 </td><td>...</td><td>0.952                    </td><td>0.617                    </td><td>0.215                    </td><td>0.0433                   </td><td>0.945                    </td><td>0.583                    </td></tr>\n",
       "<tr><td><b>3</b>    </td><td>0.0782                 </td><td>0.382                 </td><td>0.463                 </td><td>0.362                 </td><td>0.658                 </td><td>0.992                 </td><td>...</td><td>0.201                    </td><td>0.977                    </td><td>0.757                    </td><td>0.276                    </td><td>0.0912                   </td><td>0.802                    </td></tr>\n",
       "<tr><td><b>4</b>    </td><td>0.14                   </td><td>0.331                 </td><td>0.974                 </td><td>0.205                 </td><td>0.688                 </td><td>0.828                 </td><td>...</td><td>0.0807                   </td><td>0.131                    </td><td>0.189                    </td><td>0.674                    </td><td>0.413                    </td><td>0.909                    </td></tr>\n",
       "</tbody>\n",
       "</table>"
      ],
      "text/plain": [
       "+-------+------------------+-----------------+-----------------+-----------------+-----------------+-----------------+-----+--------------------+--------------------+--------------------+--------------------+--------------------+--------------------+\n",
       "| y \\ x | [-0.5 | 0 | 0.5] | [0.5 | 1 | 1.5] | [1.5 | 2 | 2.5] | [2.5 | 3 | 3.5] | [3.5 | 4 | 4.5] | [4.5 | 5 | 5.5] | ... | [13.5 | 14 | 14.5] | [14.5 | 15 | 15.5] | [15.5 | 16 | 16.5] | [16.5 | 17 | 17.5] | [17.5 | 18 | 18.5] | [18.5 | 19 | 19.5] |\n",
       "+-------+------------------+-----------------+-----------------+-----------------+-----------------+-----------------+-----+--------------------+--------------------+--------------------+--------------------+--------------------+--------------------+\n",
       "| 0     | 0.158            | 0.891           | 0.901           | 0.65            | 0.392           | 0.848           | ... | 0.0947             | 0.313              | 0.652              | 0.786              | 0.321              | 0.441              |\n",
       "+-------+------------------+-----------------+-----------------+-----------------+-----------------+-----------------+-----+--------------------+--------------------+--------------------+--------------------+--------------------+--------------------+\n",
       "| 1     | 0.0444           | 0.984           | 0.151           | 0.19            | 0.551           | 0.181           | ... | 0.158              | 0.769              | 0.858              | 0.842              | 0.111              | 0.587              |\n",
       "+-------+------------------+-----------------+-----------------+-----------------+-----------------+-----------------+-----+--------------------+--------------------+--------------------+--------------------+--------------------+--------------------+\n",
       "| 2     | 0.564            | 0.719           | 0.404           | 0.63            | 0.985           | 0.862           | ... | 0.952              | 0.617              | 0.215              | 0.0433             | 0.945              | 0.583              |\n",
       "+-------+------------------+-----------------+-----------------+-----------------+-----------------+-----------------+-----+--------------------+--------------------+--------------------+--------------------+--------------------+--------------------+\n",
       "| 3     | 0.0782           | 0.382           | 0.463           | 0.362           | 0.658           | 0.992           | ... | 0.201              | 0.977              | 0.757              | 0.276              | 0.0912             | 0.802              |\n",
       "+-------+------------------+-----------------+-----------------+-----------------+-----------------+-----------------+-----+--------------------+--------------------+--------------------+--------------------+--------------------+--------------------+\n",
       "| 4     | 0.14             | 0.331           | 0.974           | 0.205           | 0.688           | 0.828           | ... | 0.0807             | 0.131              | 0.189              | 0.674              | 0.413              | 0.909              |\n",
       "+-------+------------------+-----------------+-----------------+-----------------+-----------------+-----------------+-----+--------------------+--------------------+--------------------+--------------------+--------------------+--------------------+"
      ]
     },
     "execution_count": 124,
     "metadata": {},
     "output_type": "execute_result"
    }
   ],
   "source": [
    "g['a']"
   ]
  },
  {
   "cell_type": "code",
   "execution_count": 125,
   "metadata": {},
   "outputs": [],
   "source": [
    "a = g['a']"
   ]
  },
  {
   "cell_type": "code",
   "execution_count": 126,
   "metadata": {},
   "outputs": [
    {
     "data": {
      "text/html": [
       "<table>\n",
       "<tbody>\n",
       "<tr><td><b>y \\ x</b></td><td><b>[-0.5 | 0 | 0.5]</b></td><td><b>[0.5 | 1 | 1.5]</b></td><td><b>[1.5 | 2 | 2.5]</b></td><td><b>[2.5 | 3 | 3.5]</b></td><td><b>[3.5 | 4 | 4.5]</b></td><td><b>[4.5 | 5 | 5.5]</b></td><td>...</td><td><b>[13.5 | 14 | 14.5]</b></td><td><b>[14.5 | 15 | 15.5]</b></td><td><b>[15.5 | 16 | 16.5]</b></td><td><b>[16.5 | 17 | 17.5]</b></td><td><b>[17.5 | 18 | 18.5]</b></td><td><b>[18.5 | 19 | 19.5]</b></td></tr>\n",
       "<tr><td><b>0</b>    </td><td>0.158                  </td><td>0.891                 </td><td>0.901                 </td><td>0.65                  </td><td>0.392                 </td><td>0.848                 </td><td>...</td><td>0.0947                   </td><td>0.313                    </td><td>0.652                    </td><td>0.786                    </td><td>0.321                    </td><td>0.441                    </td></tr>\n",
       "<tr><td><b>1</b>    </td><td>0.0444                 </td><td>0.984                 </td><td>0.151                 </td><td>0.19                  </td><td>0.551                 </td><td>0.181                 </td><td>...</td><td>0.158                    </td><td>0.769                    </td><td>0.858                    </td><td>0.842                    </td><td>0.111                    </td><td>0.587                    </td></tr>\n",
       "<tr><td><b>2</b>    </td><td>0.564                  </td><td>0.719                 </td><td>0.404                 </td><td>0.63                  </td><td>0.985                 </td><td>0.862                 </td><td>...</td><td>0.952                    </td><td>0.617                    </td><td>0.215                    </td><td>0.0433                   </td><td>0.945                    </td><td>0.583                    </td></tr>\n",
       "<tr><td><b>3</b>    </td><td>0.0782                 </td><td>0.382                 </td><td>0.463                 </td><td>0.362                 </td><td>0.658                 </td><td>0.992                 </td><td>...</td><td>0.201                    </td><td>0.977                    </td><td>0.757                    </td><td>0.276                    </td><td>0.0912                   </td><td>0.802                    </td></tr>\n",
       "<tr><td><b>4</b>    </td><td>0.14                   </td><td>0.331                 </td><td>0.974                 </td><td>0.205                 </td><td>0.688                 </td><td>0.828                 </td><td>...</td><td>0.0807                   </td><td>0.131                    </td><td>0.189                    </td><td>0.674                    </td><td>0.413                    </td><td>0.909                    </td></tr>\n",
       "</tbody>\n",
       "</table>"
      ],
      "text/plain": [
       "+-------+------------------+-----------------+-----------------+-----------------+-----------------+-----------------+-----+--------------------+--------------------+--------------------+--------------------+--------------------+--------------------+\n",
       "| y \\ x | [-0.5 | 0 | 0.5] | [0.5 | 1 | 1.5] | [1.5 | 2 | 2.5] | [2.5 | 3 | 3.5] | [3.5 | 4 | 4.5] | [4.5 | 5 | 5.5] | ... | [13.5 | 14 | 14.5] | [14.5 | 15 | 15.5] | [15.5 | 16 | 16.5] | [16.5 | 17 | 17.5] | [17.5 | 18 | 18.5] | [18.5 | 19 | 19.5] |\n",
       "+-------+------------------+-----------------+-----------------+-----------------+-----------------+-----------------+-----+--------------------+--------------------+--------------------+--------------------+--------------------+--------------------+\n",
       "| 0     | 0.158            | 0.891           | 0.901           | 0.65            | 0.392           | 0.848           | ... | 0.0947             | 0.313              | 0.652              | 0.786              | 0.321              | 0.441              |\n",
       "+-------+------------------+-----------------+-----------------+-----------------+-----------------+-----------------+-----+--------------------+--------------------+--------------------+--------------------+--------------------+--------------------+\n",
       "| 1     | 0.0444           | 0.984           | 0.151           | 0.19            | 0.551           | 0.181           | ... | 0.158              | 0.769              | 0.858              | 0.842              | 0.111              | 0.587              |\n",
       "+-------+------------------+-----------------+-----------------+-----------------+-----------------+-----------------+-----+--------------------+--------------------+--------------------+--------------------+--------------------+--------------------+\n",
       "| 2     | 0.564            | 0.719           | 0.404           | 0.63            | 0.985           | 0.862           | ... | 0.952              | 0.617              | 0.215              | 0.0433             | 0.945              | 0.583              |\n",
       "+-------+------------------+-----------------+-----------------+-----------------+-----------------+-----------------+-----+--------------------+--------------------+--------------------+--------------------+--------------------+--------------------+\n",
       "| 3     | 0.0782           | 0.382           | 0.463           | 0.362           | 0.658           | 0.992           | ... | 0.201              | 0.977              | 0.757              | 0.276              | 0.0912             | 0.802              |\n",
       "+-------+------------------+-----------------+-----------------+-----------------+-----------------+-----------------+-----+--------------------+--------------------+--------------------+--------------------+--------------------+--------------------+\n",
       "| 4     | 0.14             | 0.331           | 0.974           | 0.205           | 0.688           | 0.828           | ... | 0.0807             | 0.131              | 0.189              | 0.674              | 0.413              | 0.909              |\n",
       "+-------+------------------+-----------------+-----------------+-----------------+-----------------+-----------------+-----+--------------------+--------------------+--------------------+--------------------+--------------------+--------------------+"
      ]
     },
     "execution_count": 126,
     "metadata": {},
     "output_type": "execute_result"
    }
   ],
   "source": [
    "a"
   ]
  },
  {
   "cell_type": "code",
   "execution_count": 127,
   "metadata": {},
   "outputs": [
    {
     "data": {
      "text/html": [
       "<table>\n",
       "<tbody>\n",
       "<tr><td><b>y</b></td><td><b>0</b></td><td><b>1</b></td><td><b>2</b></td><td><b>3</b></td><td><b>4</b></td></tr>\n",
       "<tr><td><b></b> </td><td>0.55    </td><td>0.465   </td><td>0.581   </td><td>0.547   </td><td>0.467   </td></tr>\n",
       "</tbody>\n",
       "</table>"
      ],
      "text/plain": [
       "+---+------+-------+-------+-------+-------+\n",
       "| y | 0    | 1     | 2     | 3     | 4     |\n",
       "+---+------+-------+-------+-------+-------+\n",
       "|   | 0.55 | 0.465 | 0.581 | 0.547 | 0.467 |\n",
       "+---+------+-------+-------+-------+-------+"
      ]
     },
     "execution_count": 127,
     "metadata": {},
     "output_type": "execute_result"
    }
   ],
   "source": [
    "np.mean(a, axis='x')"
   ]
  },
  {
   "cell_type": "code",
   "execution_count": 128,
   "metadata": {},
   "outputs": [
    {
     "data": {
      "text/html": [
       "<table>\n",
       "<tbody>\n",
       "<tr><td><b>y \\ x</b></td><td><b>[-0.5 | 0 | 0.5]</b></td><td><b>[0.5 | 1 | 1.5]</b></td><td><b>[1.5 | 2 | 2.5]</b></td><td><b>[2.5 | 3 | 3.5]</b></td><td><b>[3.5 | 4 | 4.5]</b></td><td><b>[4.5 | 5 | 5.5]</b></td><td>...</td><td><b>[13.5 | 14 | 14.5]</b></td><td><b>[14.5 | 15 | 15.5]</b></td><td><b>[15.5 | 16 | 16.5]</b></td><td><b>[16.5 | 17 | 17.5]</b></td><td><b>[17.5 | 18 | 18.5]</b></td><td><b>[18.5 | 19 | 19.5]</b></td></tr>\n",
       "<tr><td><b>0</b>    </td><td>0.158                  </td><td>0.891                 </td><td>0.901                 </td><td>0.65                  </td><td>0.392                 </td><td>0.848                 </td><td>...</td><td>0.0947                   </td><td>0.313                    </td><td>0.652                    </td><td>0.786                    </td><td>0.321                    </td><td>0.441                    </td></tr>\n",
       "<tr><td><b>1</b>    </td><td>0.0444                 </td><td>0.984                 </td><td>0.151                 </td><td>0.19                  </td><td>0.551                 </td><td>0.181                 </td><td>...</td><td>0.158                    </td><td>0.769                    </td><td>0.858                    </td><td>0.842                    </td><td>0.111                    </td><td>0.587                    </td></tr>\n",
       "<tr><td><b>2</b>    </td><td>0.564                  </td><td>0.719                 </td><td>0.404                 </td><td>0.63                  </td><td>0.985                 </td><td>0.862                 </td><td>...</td><td>0.952                    </td><td>0.617                    </td><td>0.215                    </td><td>0.0433                   </td><td>0.945                    </td><td>0.583                    </td></tr>\n",
       "<tr><td><b>3</b>    </td><td>0.0782                 </td><td>0.382                 </td><td>0.463                 </td><td>0.362                 </td><td>0.658                 </td><td>0.992                 </td><td>...</td><td>0.201                    </td><td>0.977                    </td><td>0.757                    </td><td>0.276                    </td><td>0.0912                   </td><td>0.802                    </td></tr>\n",
       "<tr><td><b>4</b>    </td><td>0.14                   </td><td>0.331                 </td><td>0.974                 </td><td>0.205                 </td><td>0.688                 </td><td>0.828                 </td><td>...</td><td>0.0807                   </td><td>0.131                    </td><td>0.189                    </td><td>0.674                    </td><td>0.413                    </td><td>0.909                    </td></tr>\n",
       "</tbody>\n",
       "</table>"
      ],
      "text/plain": [
       "+-------+------------------+-----------------+-----------------+-----------------+-----------------+-----------------+-----+--------------------+--------------------+--------------------+--------------------+--------------------+--------------------+\n",
       "| y \\ x | [-0.5 | 0 | 0.5] | [0.5 | 1 | 1.5] | [1.5 | 2 | 2.5] | [2.5 | 3 | 3.5] | [3.5 | 4 | 4.5] | [4.5 | 5 | 5.5] | ... | [13.5 | 14 | 14.5] | [14.5 | 15 | 15.5] | [15.5 | 16 | 16.5] | [16.5 | 17 | 17.5] | [17.5 | 18 | 18.5] | [18.5 | 19 | 19.5] |\n",
       "+-------+------------------+-----------------+-----------------+-----------------+-----------------+-----------------+-----+--------------------+--------------------+--------------------+--------------------+--------------------+--------------------+\n",
       "| 0     | 0.158            | 0.891           | 0.901           | 0.65            | 0.392           | 0.848           | ... | 0.0947             | 0.313              | 0.652              | 0.786              | 0.321              | 0.441              |\n",
       "+-------+------------------+-----------------+-----------------+-----------------+-----------------+-----------------+-----+--------------------+--------------------+--------------------+--------------------+--------------------+--------------------+\n",
       "| 1     | 0.0444           | 0.984           | 0.151           | 0.19            | 0.551           | 0.181           | ... | 0.158              | 0.769              | 0.858              | 0.842              | 0.111              | 0.587              |\n",
       "+-------+------------------+-----------------+-----------------+-----------------+-----------------+-----------------+-----+--------------------+--------------------+--------------------+--------------------+--------------------+--------------------+\n",
       "| 2     | 0.564            | 0.719           | 0.404           | 0.63            | 0.985           | 0.862           | ... | 0.952              | 0.617              | 0.215              | 0.0433             | 0.945              | 0.583              |\n",
       "+-------+------------------+-----------------+-----------------+-----------------+-----------------+-----------------+-----+--------------------+--------------------+--------------------+--------------------+--------------------+--------------------+\n",
       "| 3     | 0.0782           | 0.382           | 0.463           | 0.362           | 0.658           | 0.992           | ... | 0.201              | 0.977              | 0.757              | 0.276              | 0.0912             | 0.802              |\n",
       "+-------+------------------+-----------------+-----------------+-----------------+-----------------+-----------------+-----+--------------------+--------------------+--------------------+--------------------+--------------------+--------------------+\n",
       "| 4     | 0.14             | 0.331           | 0.974           | 0.205           | 0.688           | 0.828           | ... | 0.0807             | 0.131              | 0.189              | 0.674              | 0.413              | 0.909              |\n",
       "+-------+------------------+-----------------+-----------------+-----------------+-----------------+-----------------+-----+--------------------+--------------------+--------------------+--------------------+--------------------+--------------------+"
      ]
     },
     "execution_count": 128,
     "metadata": {},
     "output_type": "execute_result"
    }
   ],
   "source": [
    "a"
   ]
  },
  {
   "cell_type": "code",
   "execution_count": 129,
   "metadata": {},
   "outputs": [],
   "source": [
    "from scipy import ndimage"
   ]
  },
  {
   "cell_type": "code",
   "execution_count": 130,
   "metadata": {},
   "outputs": [
    {
     "data": {
      "text/plain": [
       "array([[0.40282334, 0.41414168, 0.40476229, 0.31527209, 0.25091992],\n",
       "       [0.59568928, 0.54325207, 0.48678998, 0.42299122, 0.4014487 ],\n",
       "       [0.63866235, 0.54368225, 0.49891483, 0.49674318, 0.52021617],\n",
       "       [0.56115924, 0.51542663, 0.53587873, 0.54580734, 0.5397179 ],\n",
       "       [0.52084847, 0.53931177, 0.63336267, 0.66700598, 0.64096012],\n",
       "       [0.47587192, 0.50519636, 0.64484058, 0.73954552, 0.74115517],\n",
       "       [0.41296685, 0.46090728, 0.58543679, 0.67489823, 0.70435824],\n",
       "       [0.4549585 , 0.51784601, 0.58408137, 0.59216277, 0.59486606],\n",
       "       [0.55509215, 0.58795375, 0.61158819, 0.57433414, 0.50610456],\n",
       "       [0.67827128, 0.64208586, 0.5994737 , 0.57174558, 0.50546189],\n",
       "       [0.73803741, 0.64844963, 0.56379896, 0.55265129, 0.52627852],\n",
       "       [0.65267508, 0.56186783, 0.51538705, 0.5204068 , 0.50303395],\n",
       "       [0.51011799, 0.45550223, 0.46444338, 0.48285266, 0.46986891],\n",
       "       [0.39077168, 0.40615798, 0.451072  , 0.42747326, 0.3505415 ],\n",
       "       [0.35076651, 0.43746994, 0.50914783, 0.43401135, 0.28280095],\n",
       "       [0.46036487, 0.53298743, 0.5651128 , 0.48818061, 0.33754943],\n",
       "       [0.59977156, 0.58698307, 0.52405667, 0.47051474, 0.40281326],\n",
       "       [0.59454161, 0.55041096, 0.46721853, 0.43554008, 0.45225144],\n",
       "       [0.48740039, 0.49828058, 0.50273676, 0.50405564, 0.5410948 ],\n",
       "       [0.45107462, 0.50532656, 0.57817947, 0.63274558, 0.68419167]])"
      ]
     },
     "execution_count": 130,
     "metadata": {},
     "output_type": "execute_result"
    }
   ],
   "source": [
    "ndimage.gaussian_filter(a, sigma=1)"
   ]
  },
  {
   "cell_type": "code",
   "execution_count": 131,
   "metadata": {},
   "outputs": [
    {
     "data": {
      "text/html": [
       "<table>\n",
       "<tbody>\n",
       "<tr><td><b>y</b></td><td><b>0</b></td><td><b>1</b></td><td><b>2</b></td><td><b>3</b></td><td><b>4</b></td></tr>\n",
       "<tr><td><b></b> </td><td>0.566   </td><td>0.469   </td><td>0.6     </td><td>0.636   </td><td>0.372   </td></tr>\n",
       "</tbody>\n",
       "</table>"
      ],
      "text/plain": [
       "+---+-------+-------+-----+-------+-------+\n",
       "| y | 0     | 1     | 2   | 3     | 4     |\n",
       "+---+-------+-------+-----+-------+-------+\n",
       "|   | 0.566 | 0.469 | 0.6 | 0.636 | 0.372 |\n",
       "+---+-------+-------+-----+-------+-------+"
      ]
     },
     "execution_count": 131,
     "metadata": {},
     "output_type": "execute_result"
    }
   ],
   "source": [
    "a.median(axis='x')"
   ]
  },
  {
   "cell_type": "code",
   "execution_count": 132,
   "metadata": {},
   "outputs": [
    {
     "data": {
      "text/html": [
       "<table>\n",
       "<tbody>\n",
       "<tr><td><b>y</b></td><td><b>0</b>                     </td><td><b>1</b>                     </td><td><b>2</b>                     </td><td><b>3</b>                     </td><td><b>4</b>                     </td><td>                             </td><td>   </td><td>                             </td><td>                             </td><td>                             </td><td>                                 </td><td>                                 </td><td>                                 </td></tr>\n",
       "<tr><td><b></b> </td><td>[0.158 0.044 ... 0.078 0.14 ]</td><td>[1.048 1.028 ... 0.46  0.471]</td><td>[1.949 1.179 ... 0.923 1.445]</td><td>[2.599 1.369 ... 1.285 1.649]</td><td>[2.991 1.92  ... 1.943 2.337]</td><td>[3.839 2.101 ... 2.935 3.165]</td><td>...</td><td>[8.488 6.132 ... 8.045 7.033]</td><td>[8.8   6.9   ... 9.022 7.165]</td><td>[9.452 7.759 ... 9.779 7.354]</td><td>[10.238  8.601 ... 10.055  8.028]</td><td>[10.559  8.712 ... 10.146  8.441]</td><td>[10.999  9.299 ... 10.948  9.35 ]</td></tr>\n",
       "</tbody>\n",
       "</table>"
      ],
      "text/plain": [
       "+---+-------------------------------+-------------------------------+-------------------------------+-------------------------------+-------------------------------+-------------------------------+-----+-------------------------------+-------------------------------+-------------------------------+-----------------------------------+-----------------------------------+-----------------------------------+\n",
       "| y | 0                             | 1                             | 2                             | 3                             | 4                             |                               |     |                               |                               |                               |                                   |                                   |                                   |\n",
       "+---+-------------------------------+-------------------------------+-------------------------------+-------------------------------+-------------------------------+-------------------------------+-----+-------------------------------+-------------------------------+-------------------------------+-----------------------------------+-----------------------------------+-----------------------------------+\n",
       "|   | [0.158 0.044 ... 0.078 0.14 ] | [1.048 1.028 ... 0.46  0.471] | [1.949 1.179 ... 0.923 1.445] | [2.599 1.369 ... 1.285 1.649] | [2.991 1.92  ... 1.943 2.337] | [3.839 2.101 ... 2.935 3.165] | ... | [8.488 6.132 ... 8.045 7.033] | [8.8   6.9   ... 9.022 7.165] | [9.452 7.759 ... 9.779 7.354] | [10.238  8.601 ... 10.055  8.028] | [10.559  8.712 ... 10.146  8.441] | [10.999  9.299 ... 10.948  9.35 ] |\n",
       "+---+-------------------------------+-------------------------------+-------------------------------+-------------------------------+-------------------------------+-------------------------------+-----+-------------------------------+-------------------------------+-------------------------------+-----------------------------------+-----------------------------------+-----------------------------------+"
      ]
     },
     "execution_count": 132,
     "metadata": {},
     "output_type": "execute_result"
    }
   ],
   "source": [
    "np.cumsum(a, axis=0)"
   ]
  },
  {
   "cell_type": "code",
   "execution_count": 133,
   "metadata": {},
   "outputs": [
    {
     "data": {
      "text/plain": [
       "dtype('float64')"
      ]
     },
     "execution_count": 133,
     "metadata": {},
     "output_type": "execute_result"
    }
   ],
   "source": [
    "a.dtype"
   ]
  },
  {
   "cell_type": "code",
   "execution_count": 134,
   "metadata": {},
   "outputs": [
    {
     "data": {
      "text/html": [
       "<table>\n",
       "<tbody>\n",
       "<tr><td><b>y \\ x</b></td><td><b>[-0.5 | 0 | 0.5]</b></td><td><b>[0.5 | 1 | 1.5]</b></td><td><b>[1.5 | 2 | 2.5]</b></td><td><b>[2.5 | 3 | 3.5]</b></td><td><b>[3.5 | 4 | 4.5]</b></td><td><b>[4.5 | 5 | 5.5]</b></td><td>...</td><td><b>[13.5 | 14 | 14.5]</b></td><td><b>[14.5 | 15 | 15.5]</b></td><td><b>[15.5 | 16 | 16.5]</b></td><td><b>[16.5 | 17 | 17.5]</b></td><td><b>[17.5 | 18 | 18.5]</b></td><td><b>[18.5 | 19 | 19.5]</b></td></tr>\n",
       "<tr><td><b>0</b>    </td><td>0.157                  </td><td>0.778                 </td><td>0.784                 </td><td>0.605                 </td><td>0.382                 </td><td>0.75                  </td><td>...</td><td>0.0945                   </td><td>0.307                    </td><td>0.606                    </td><td>0.707                    </td><td>0.316                    </td><td>0.426                    </td></tr>\n",
       "<tr><td><b>1</b>    </td><td>0.0444                 </td><td>0.832                 </td><td>0.15                  </td><td>0.189                 </td><td>0.523                 </td><td>0.18                  </td><td>...</td><td>0.157                    </td><td>0.695                    </td><td>0.757                    </td><td>0.746                    </td><td>0.111                    </td><td>0.554                    </td></tr>\n",
       "<tr><td><b>2</b>    </td><td>0.534                  </td><td>0.659                 </td><td>0.394                 </td><td>0.589                 </td><td>0.833                 </td><td>0.759                 </td><td>...</td><td>0.814                    </td><td>0.579                    </td><td>0.214                    </td><td>0.0433                   </td><td>0.81                     </td><td>0.55                     </td></tr>\n",
       "<tr><td><b>3</b>    </td><td>0.0781                 </td><td>0.373                 </td><td>0.447                 </td><td>0.354                 </td><td>0.611                 </td><td>0.837                 </td><td>...</td><td>0.2                      </td><td>0.829                    </td><td>0.686                    </td><td>0.273                    </td><td>0.091                    </td><td>0.719                    </td></tr>\n",
       "<tr><td><b>4</b>    </td><td>0.14                   </td><td>0.325                 </td><td>0.827                 </td><td>0.203                 </td><td>0.635                 </td><td>0.736                 </td><td>...</td><td>0.0806                   </td><td>0.131                    </td><td>0.188                    </td><td>0.624                    </td><td>0.401                    </td><td>0.789                    </td></tr>\n",
       "</tbody>\n",
       "</table>"
      ],
      "text/plain": [
       "+-------+------------------+-----------------+-----------------+-----------------+-----------------+-----------------+-----+--------------------+--------------------+--------------------+--------------------+--------------------+--------------------+\n",
       "| y \\ x | [-0.5 | 0 | 0.5] | [0.5 | 1 | 1.5] | [1.5 | 2 | 2.5] | [2.5 | 3 | 3.5] | [3.5 | 4 | 4.5] | [4.5 | 5 | 5.5] | ... | [13.5 | 14 | 14.5] | [14.5 | 15 | 15.5] | [15.5 | 16 | 16.5] | [16.5 | 17 | 17.5] | [17.5 | 18 | 18.5] | [18.5 | 19 | 19.5] |\n",
       "+-------+------------------+-----------------+-----------------+-----------------+-----------------+-----------------+-----+--------------------+--------------------+--------------------+--------------------+--------------------+--------------------+\n",
       "| 0     | 0.157            | 0.778           | 0.784           | 0.605           | 0.382           | 0.75            | ... | 0.0945             | 0.307              | 0.606              | 0.707              | 0.316              | 0.426              |\n",
       "+-------+------------------+-----------------+-----------------+-----------------+-----------------+-----------------+-----+--------------------+--------------------+--------------------+--------------------+--------------------+--------------------+\n",
       "| 1     | 0.0444           | 0.832           | 0.15            | 0.189           | 0.523           | 0.18            | ... | 0.157              | 0.695              | 0.757              | 0.746              | 0.111              | 0.554              |\n",
       "+-------+------------------+-----------------+-----------------+-----------------+-----------------+-----------------+-----+--------------------+--------------------+--------------------+--------------------+--------------------+--------------------+\n",
       "| 2     | 0.534            | 0.659           | 0.394           | 0.589           | 0.833           | 0.759           | ... | 0.814              | 0.579              | 0.214              | 0.0433             | 0.81               | 0.55               |\n",
       "+-------+------------------+-----------------+-----------------+-----------------+-----------------+-----------------+-----+--------------------+--------------------+--------------------+--------------------+--------------------+--------------------+\n",
       "| 3     | 0.0781           | 0.373           | 0.447           | 0.354           | 0.611           | 0.837           | ... | 0.2                | 0.829              | 0.686              | 0.273              | 0.091              | 0.719              |\n",
       "+-------+------------------+-----------------+-----------------+-----------------+-----------------+-----------------+-----+--------------------+--------------------+--------------------+--------------------+--------------------+--------------------+\n",
       "| 4     | 0.14             | 0.325           | 0.827           | 0.203           | 0.635           | 0.736           | ... | 0.0806             | 0.131              | 0.188              | 0.624              | 0.401              | 0.789              |\n",
       "+-------+------------------+-----------------+-----------------+-----------------+-----------------+-----------------+-----+--------------------+--------------------+--------------------+--------------------+--------------------+--------------------+"
      ]
     },
     "execution_count": 134,
     "metadata": {},
     "output_type": "execute_result"
    }
   ],
   "source": [
    "np.sin(a)"
   ]
  },
  {
   "cell_type": "code",
   "execution_count": 135,
   "metadata": {},
   "outputs": [
    {
     "ename": "IndexError",
     "evalue": "list index out of range",
     "output_type": "error",
     "traceback": [
      "\u001b[0;31m---------------------------------------------------------------------------\u001b[0m",
      "\u001b[0;31mIndexError\u001b[0m                                Traceback (most recent call last)",
      "\u001b[0;32m~/anaconda3/lib/python3.7/site-packages/IPython/core/formatters.py\u001b[0m in \u001b[0;36m__call__\u001b[0;34m(self, obj)\u001b[0m\n\u001b[1;32m    700\u001b[0m                 \u001b[0mtype_pprinters\u001b[0m\u001b[0;34m=\u001b[0m\u001b[0mself\u001b[0m\u001b[0;34m.\u001b[0m\u001b[0mtype_printers\u001b[0m\u001b[0;34m,\u001b[0m\u001b[0;34m\u001b[0m\u001b[0;34m\u001b[0m\u001b[0m\n\u001b[1;32m    701\u001b[0m                 deferred_pprinters=self.deferred_printers)\n\u001b[0;32m--> 702\u001b[0;31m             \u001b[0mprinter\u001b[0m\u001b[0;34m.\u001b[0m\u001b[0mpretty\u001b[0m\u001b[0;34m(\u001b[0m\u001b[0mobj\u001b[0m\u001b[0;34m)\u001b[0m\u001b[0;34m\u001b[0m\u001b[0;34m\u001b[0m\u001b[0m\n\u001b[0m\u001b[1;32m    703\u001b[0m             \u001b[0mprinter\u001b[0m\u001b[0;34m.\u001b[0m\u001b[0mflush\u001b[0m\u001b[0;34m(\u001b[0m\u001b[0;34m)\u001b[0m\u001b[0;34m\u001b[0m\u001b[0;34m\u001b[0m\u001b[0m\n\u001b[1;32m    704\u001b[0m             \u001b[0;32mreturn\u001b[0m \u001b[0mstream\u001b[0m\u001b[0;34m.\u001b[0m\u001b[0mgetvalue\u001b[0m\u001b[0;34m(\u001b[0m\u001b[0;34m)\u001b[0m\u001b[0;34m\u001b[0m\u001b[0;34m\u001b[0m\u001b[0m\n",
      "\u001b[0;32m~/anaconda3/lib/python3.7/site-packages/IPython/lib/pretty.py\u001b[0m in \u001b[0;36mpretty\u001b[0;34m(self, obj)\u001b[0m\n\u001b[1;32m    400\u001b[0m                         \u001b[0;32mif\u001b[0m \u001b[0mcls\u001b[0m \u001b[0;32mis\u001b[0m \u001b[0;32mnot\u001b[0m \u001b[0mobject\u001b[0m\u001b[0;31m \u001b[0m\u001b[0;31m\\\u001b[0m\u001b[0;34m\u001b[0m\u001b[0;34m\u001b[0m\u001b[0m\n\u001b[1;32m    401\u001b[0m                                 \u001b[0;32mand\u001b[0m \u001b[0mcallable\u001b[0m\u001b[0;34m(\u001b[0m\u001b[0mcls\u001b[0m\u001b[0;34m.\u001b[0m\u001b[0m__dict__\u001b[0m\u001b[0;34m.\u001b[0m\u001b[0mget\u001b[0m\u001b[0;34m(\u001b[0m\u001b[0;34m'__repr__'\u001b[0m\u001b[0;34m)\u001b[0m\u001b[0;34m)\u001b[0m\u001b[0;34m:\u001b[0m\u001b[0;34m\u001b[0m\u001b[0;34m\u001b[0m\u001b[0m\n\u001b[0;32m--> 402\u001b[0;31m                             \u001b[0;32mreturn\u001b[0m \u001b[0m_repr_pprint\u001b[0m\u001b[0;34m(\u001b[0m\u001b[0mobj\u001b[0m\u001b[0;34m,\u001b[0m \u001b[0mself\u001b[0m\u001b[0;34m,\u001b[0m \u001b[0mcycle\u001b[0m\u001b[0;34m)\u001b[0m\u001b[0;34m\u001b[0m\u001b[0;34m\u001b[0m\u001b[0m\n\u001b[0m\u001b[1;32m    403\u001b[0m \u001b[0;34m\u001b[0m\u001b[0m\n\u001b[1;32m    404\u001b[0m             \u001b[0;32mreturn\u001b[0m \u001b[0m_default_pprint\u001b[0m\u001b[0;34m(\u001b[0m\u001b[0mobj\u001b[0m\u001b[0;34m,\u001b[0m \u001b[0mself\u001b[0m\u001b[0;34m,\u001b[0m \u001b[0mcycle\u001b[0m\u001b[0;34m)\u001b[0m\u001b[0;34m\u001b[0m\u001b[0;34m\u001b[0m\u001b[0m\n",
      "\u001b[0;32m~/anaconda3/lib/python3.7/site-packages/IPython/lib/pretty.py\u001b[0m in \u001b[0;36m_repr_pprint\u001b[0;34m(obj, p, cycle)\u001b[0m\n\u001b[1;32m    695\u001b[0m     \u001b[0;34m\"\"\"A pprint that just redirects to the normal repr function.\"\"\"\u001b[0m\u001b[0;34m\u001b[0m\u001b[0;34m\u001b[0m\u001b[0m\n\u001b[1;32m    696\u001b[0m     \u001b[0;31m# Find newlines and replace them with p.break_()\u001b[0m\u001b[0;34m\u001b[0m\u001b[0;34m\u001b[0m\u001b[0;34m\u001b[0m\u001b[0m\n\u001b[0;32m--> 697\u001b[0;31m     \u001b[0moutput\u001b[0m \u001b[0;34m=\u001b[0m \u001b[0mrepr\u001b[0m\u001b[0;34m(\u001b[0m\u001b[0mobj\u001b[0m\u001b[0;34m)\u001b[0m\u001b[0;34m\u001b[0m\u001b[0;34m\u001b[0m\u001b[0m\n\u001b[0m\u001b[1;32m    698\u001b[0m     \u001b[0;32mfor\u001b[0m \u001b[0midx\u001b[0m\u001b[0;34m,\u001b[0m\u001b[0moutput_line\u001b[0m \u001b[0;32min\u001b[0m \u001b[0menumerate\u001b[0m\u001b[0;34m(\u001b[0m\u001b[0moutput\u001b[0m\u001b[0;34m.\u001b[0m\u001b[0msplitlines\u001b[0m\u001b[0;34m(\u001b[0m\u001b[0;34m)\u001b[0m\u001b[0;34m)\u001b[0m\u001b[0;34m:\u001b[0m\u001b[0;34m\u001b[0m\u001b[0;34m\u001b[0m\u001b[0m\n\u001b[1;32m    699\u001b[0m         \u001b[0;32mif\u001b[0m \u001b[0midx\u001b[0m\u001b[0;34m:\u001b[0m\u001b[0;34m\u001b[0m\u001b[0;34m\u001b[0m\u001b[0m\n",
      "\u001b[0;32m~/pynocular/pynocular/core/gridarray.py\u001b[0m in \u001b[0;36m__repr__\u001b[0;34m(self)\u001b[0m\n\u001b[1;32m    127\u001b[0m \u001b[0;34m\u001b[0m\u001b[0m\n\u001b[1;32m    128\u001b[0m     \u001b[0;32mdef\u001b[0m \u001b[0m__repr__\u001b[0m\u001b[0;34m(\u001b[0m\u001b[0mself\u001b[0m\u001b[0;34m)\u001b[0m\u001b[0;34m:\u001b[0m\u001b[0;34m\u001b[0m\u001b[0;34m\u001b[0m\u001b[0m\n\u001b[0;32m--> 129\u001b[0;31m         \u001b[0;32mreturn\u001b[0m \u001b[0mformat_table\u001b[0m\u001b[0;34m(\u001b[0m\u001b[0mself\u001b[0m\u001b[0;34m,\u001b[0m \u001b[0mtablefmt\u001b[0m\u001b[0;34m=\u001b[0m\u001b[0;34m'grid'\u001b[0m\u001b[0;34m)\u001b[0m\u001b[0;34m\u001b[0m\u001b[0;34m\u001b[0m\u001b[0m\n\u001b[0m\u001b[1;32m    130\u001b[0m \u001b[0;34m\u001b[0m\u001b[0m\n\u001b[1;32m    131\u001b[0m     \u001b[0;32mdef\u001b[0m \u001b[0m_repr_html_\u001b[0m\u001b[0;34m(\u001b[0m\u001b[0mself\u001b[0m\u001b[0;34m)\u001b[0m\u001b[0;34m:\u001b[0m\u001b[0;34m\u001b[0m\u001b[0;34m\u001b[0m\u001b[0m\n",
      "\u001b[0;32m~/pynocular/pynocular/utils/formatter.py\u001b[0m in \u001b[0;36mformat_table\u001b[0;34m(data, tablefmt)\u001b[0m\n\u001b[1;32m    169\u001b[0m     \u001b[0;32mif\u001b[0m \u001b[0misinstance\u001b[0m\u001b[0;34m(\u001b[0m\u001b[0mdata\u001b[0m\u001b[0;34m,\u001b[0m \u001b[0mpn\u001b[0m\u001b[0;34m.\u001b[0m\u001b[0mGridArray\u001b[0m\u001b[0;34m)\u001b[0m\u001b[0;34m:\u001b[0m\u001b[0;34m\u001b[0m\u001b[0;34m\u001b[0m\u001b[0m\n\u001b[1;32m    170\u001b[0m         \u001b[0;32mif\u001b[0m \u001b[0mdata\u001b[0m\u001b[0;34m.\u001b[0m\u001b[0mnax\u001b[0m \u001b[0;34m==\u001b[0m \u001b[0;36m2\u001b[0m\u001b[0;34m:\u001b[0m\u001b[0;34m\u001b[0m\u001b[0;34m\u001b[0m\u001b[0m\n\u001b[0;32m--> 171\u001b[0;31m             \u001b[0mtable\u001b[0m \u001b[0;34m=\u001b[0m \u001b[0mmake_2d_table\u001b[0m\u001b[0;34m(\u001b[0m\u001b[0mdata\u001b[0m\u001b[0;34m,\u001b[0m \u001b[0mbold\u001b[0m\u001b[0;34m,\u001b[0m \u001b[0mbrk\u001b[0m\u001b[0;34m)\u001b[0m\u001b[0;34m\u001b[0m\u001b[0;34m\u001b[0m\u001b[0m\n\u001b[0m\u001b[1;32m    172\u001b[0m \u001b[0;34m\u001b[0m\u001b[0m\n\u001b[1;32m    173\u001b[0m         \u001b[0;32melif\u001b[0m \u001b[0mdata\u001b[0m\u001b[0;34m.\u001b[0m\u001b[0mnax\u001b[0m \u001b[0;34m==\u001b[0m \u001b[0;36m1\u001b[0m\u001b[0;34m:\u001b[0m\u001b[0;34m\u001b[0m\u001b[0;34m\u001b[0m\u001b[0m\n",
      "\u001b[0;32m~/pynocular/pynocular/utils/formatter.py\u001b[0m in \u001b[0;36mmake_2d_table\u001b[0;34m(data, bold, brk)\u001b[0m\n\u001b[1;32m    115\u001b[0m     \u001b[0;32mif\u001b[0m \u001b[0mn_data_rows\u001b[0m \u001b[0;34m>\u001b[0m \u001b[0mN_MAX\u001b[0m\u001b[0;34m:\u001b[0m\u001b[0;34m\u001b[0m\u001b[0;34m\u001b[0m\u001b[0m\n\u001b[1;32m    116\u001b[0m         \u001b[0;32mfor\u001b[0m \u001b[0mi\u001b[0m \u001b[0;32min\u001b[0m \u001b[0mrange\u001b[0m\u001b[0;34m(\u001b[0m\u001b[0;36m1\u001b[0m\u001b[0;34m,\u001b[0m \u001b[0mmin\u001b[0m\u001b[0;34m(\u001b[0m\u001b[0mn_data_cols\u001b[0m\u001b[0;34m,\u001b[0m \u001b[0;36m2\u001b[0m\u001b[0;34m*\u001b[0m\u001b[0;34m(\u001b[0m\u001b[0mN_MAX\u001b[0m\u001b[0;34m//\u001b[0m\u001b[0;36m2\u001b[0m\u001b[0;34m)\u001b[0m \u001b[0;34m+\u001b[0m \u001b[0;36m1\u001b[0m\u001b[0;34m)\u001b[0m \u001b[0;34m+\u001b[0m \u001b[0;36m1\u001b[0m\u001b[0;34m)\u001b[0m\u001b[0;34m:\u001b[0m\u001b[0;34m\u001b[0m\u001b[0;34m\u001b[0m\u001b[0m\n\u001b[0;32m--> 117\u001b[0;31m             \u001b[0mtable\u001b[0m\u001b[0;34m[\u001b[0m\u001b[0mN_MAX\u001b[0m\u001b[0;34m//\u001b[0m\u001b[0;36m2\u001b[0m\u001b[0;34m+\u001b[0m\u001b[0;36m1\u001b[0m\u001b[0;34m]\u001b[0m\u001b[0;34m[\u001b[0m\u001b[0mi\u001b[0m\u001b[0;34m]\u001b[0m \u001b[0;34m=\u001b[0m \u001b[0;34m'...'\u001b[0m\u001b[0;34m\u001b[0m\u001b[0;34m\u001b[0m\u001b[0m\n\u001b[0m\u001b[1;32m    118\u001b[0m         \u001b[0mdata_row_idices\u001b[0m \u001b[0;34m=\u001b[0m \u001b[0mlist\u001b[0m\u001b[0;34m(\u001b[0m\u001b[0mrange\u001b[0m\u001b[0;34m(\u001b[0m\u001b[0mN_MAX\u001b[0m\u001b[0;34m//\u001b[0m\u001b[0;36m2\u001b[0m\u001b[0;34m)\u001b[0m\u001b[0;34m)\u001b[0m \u001b[0;34m+\u001b[0m \u001b[0mlist\u001b[0m\u001b[0;34m(\u001b[0m\u001b[0mrange\u001b[0m\u001b[0;34m(\u001b[0m\u001b[0mn_data_rows\u001b[0m \u001b[0;34m-\u001b[0m \u001b[0mN_MAX\u001b[0m\u001b[0;34m//\u001b[0m\u001b[0;36m2\u001b[0m\u001b[0;34m,\u001b[0m \u001b[0mn_data_rows\u001b[0m\u001b[0;34m)\u001b[0m\u001b[0;34m)\u001b[0m\u001b[0;34m\u001b[0m\u001b[0;34m\u001b[0m\u001b[0m\n\u001b[1;32m    119\u001b[0m         \u001b[0mtable_row_idices\u001b[0m \u001b[0;34m=\u001b[0m \u001b[0mlist\u001b[0m\u001b[0;34m(\u001b[0m\u001b[0mrange\u001b[0m\u001b[0;34m(\u001b[0m\u001b[0mN_MAX\u001b[0m\u001b[0;34m//\u001b[0m\u001b[0;36m2\u001b[0m\u001b[0;34m)\u001b[0m\u001b[0;34m)\u001b[0m \u001b[0;34m+\u001b[0m \u001b[0mlist\u001b[0m\u001b[0;34m(\u001b[0m\u001b[0mrange\u001b[0m\u001b[0;34m(\u001b[0m\u001b[0mN_MAX\u001b[0m\u001b[0;34m//\u001b[0m\u001b[0;36m2\u001b[0m\u001b[0;34m+\u001b[0m\u001b[0;36m1\u001b[0m\u001b[0;34m,\u001b[0m \u001b[0;36m2\u001b[0m\u001b[0;34m*\u001b[0m\u001b[0;34m(\u001b[0m\u001b[0mN_MAX\u001b[0m\u001b[0;34m//\u001b[0m\u001b[0;36m2\u001b[0m\u001b[0;34m)\u001b[0m \u001b[0;34m+\u001b[0m \u001b[0;36m1\u001b[0m\u001b[0;34m)\u001b[0m\u001b[0;34m)\u001b[0m\u001b[0;34m\u001b[0m\u001b[0;34m\u001b[0m\u001b[0m\n",
      "\u001b[0;31mIndexError\u001b[0m: list index out of range"
     ]
    },
    {
     "ename": "IndexError",
     "evalue": "list index out of range",
     "output_type": "error",
     "traceback": [
      "\u001b[0;31m---------------------------------------------------------------------------\u001b[0m",
      "\u001b[0;31mIndexError\u001b[0m                                Traceback (most recent call last)",
      "\u001b[0;32m~/anaconda3/lib/python3.7/site-packages/IPython/core/formatters.py\u001b[0m in \u001b[0;36m__call__\u001b[0;34m(self, obj)\u001b[0m\n\u001b[1;32m    343\u001b[0m             \u001b[0mmethod\u001b[0m \u001b[0;34m=\u001b[0m \u001b[0mget_real_method\u001b[0m\u001b[0;34m(\u001b[0m\u001b[0mobj\u001b[0m\u001b[0;34m,\u001b[0m \u001b[0mself\u001b[0m\u001b[0;34m.\u001b[0m\u001b[0mprint_method\u001b[0m\u001b[0;34m)\u001b[0m\u001b[0;34m\u001b[0m\u001b[0;34m\u001b[0m\u001b[0m\n\u001b[1;32m    344\u001b[0m             \u001b[0;32mif\u001b[0m \u001b[0mmethod\u001b[0m \u001b[0;32mis\u001b[0m \u001b[0;32mnot\u001b[0m \u001b[0;32mNone\u001b[0m\u001b[0;34m:\u001b[0m\u001b[0;34m\u001b[0m\u001b[0;34m\u001b[0m\u001b[0m\n\u001b[0;32m--> 345\u001b[0;31m                 \u001b[0;32mreturn\u001b[0m \u001b[0mmethod\u001b[0m\u001b[0;34m(\u001b[0m\u001b[0;34m)\u001b[0m\u001b[0;34m\u001b[0m\u001b[0;34m\u001b[0m\u001b[0m\n\u001b[0m\u001b[1;32m    346\u001b[0m             \u001b[0;32mreturn\u001b[0m \u001b[0;32mNone\u001b[0m\u001b[0;34m\u001b[0m\u001b[0;34m\u001b[0m\u001b[0m\n\u001b[1;32m    347\u001b[0m         \u001b[0;32melse\u001b[0m\u001b[0;34m:\u001b[0m\u001b[0;34m\u001b[0m\u001b[0;34m\u001b[0m\u001b[0m\n",
      "\u001b[0;32m~/pynocular/pynocular/core/gridarray.py\u001b[0m in \u001b[0;36m_repr_html_\u001b[0;34m(self)\u001b[0m\n\u001b[1;32m    131\u001b[0m     \u001b[0;32mdef\u001b[0m \u001b[0m_repr_html_\u001b[0m\u001b[0;34m(\u001b[0m\u001b[0mself\u001b[0m\u001b[0;34m)\u001b[0m\u001b[0;34m:\u001b[0m\u001b[0;34m\u001b[0m\u001b[0;34m\u001b[0m\u001b[0m\n\u001b[1;32m    132\u001b[0m         \u001b[0;34m'''for jupyter'''\u001b[0m\u001b[0;34m\u001b[0m\u001b[0;34m\u001b[0m\u001b[0m\n\u001b[0;32m--> 133\u001b[0;31m         \u001b[0;32mreturn\u001b[0m \u001b[0mformat_table\u001b[0m\u001b[0;34m(\u001b[0m\u001b[0mself\u001b[0m\u001b[0;34m,\u001b[0m \u001b[0mtablefmt\u001b[0m\u001b[0;34m=\u001b[0m\u001b[0;34m'html'\u001b[0m\u001b[0;34m)\u001b[0m\u001b[0;34m\u001b[0m\u001b[0;34m\u001b[0m\u001b[0m\n\u001b[0m\u001b[1;32m    134\u001b[0m \u001b[0;34m\u001b[0m\u001b[0m\n\u001b[1;32m    135\u001b[0m     \u001b[0;32mdef\u001b[0m \u001b[0m__str__\u001b[0m\u001b[0;34m(\u001b[0m\u001b[0mself\u001b[0m\u001b[0;34m)\u001b[0m\u001b[0;34m:\u001b[0m\u001b[0;34m\u001b[0m\u001b[0;34m\u001b[0m\u001b[0m\n",
      "\u001b[0;32m~/pynocular/pynocular/utils/formatter.py\u001b[0m in \u001b[0;36mformat_table\u001b[0;34m(data, tablefmt)\u001b[0m\n\u001b[1;32m    169\u001b[0m     \u001b[0;32mif\u001b[0m \u001b[0misinstance\u001b[0m\u001b[0;34m(\u001b[0m\u001b[0mdata\u001b[0m\u001b[0;34m,\u001b[0m \u001b[0mpn\u001b[0m\u001b[0;34m.\u001b[0m\u001b[0mGridArray\u001b[0m\u001b[0;34m)\u001b[0m\u001b[0;34m:\u001b[0m\u001b[0;34m\u001b[0m\u001b[0;34m\u001b[0m\u001b[0m\n\u001b[1;32m    170\u001b[0m         \u001b[0;32mif\u001b[0m \u001b[0mdata\u001b[0m\u001b[0;34m.\u001b[0m\u001b[0mnax\u001b[0m \u001b[0;34m==\u001b[0m \u001b[0;36m2\u001b[0m\u001b[0;34m:\u001b[0m\u001b[0;34m\u001b[0m\u001b[0;34m\u001b[0m\u001b[0m\n\u001b[0;32m--> 171\u001b[0;31m             \u001b[0mtable\u001b[0m \u001b[0;34m=\u001b[0m \u001b[0mmake_2d_table\u001b[0m\u001b[0;34m(\u001b[0m\u001b[0mdata\u001b[0m\u001b[0;34m,\u001b[0m \u001b[0mbold\u001b[0m\u001b[0;34m,\u001b[0m \u001b[0mbrk\u001b[0m\u001b[0;34m)\u001b[0m\u001b[0;34m\u001b[0m\u001b[0;34m\u001b[0m\u001b[0m\n\u001b[0m\u001b[1;32m    172\u001b[0m \u001b[0;34m\u001b[0m\u001b[0m\n\u001b[1;32m    173\u001b[0m         \u001b[0;32melif\u001b[0m \u001b[0mdata\u001b[0m\u001b[0;34m.\u001b[0m\u001b[0mnax\u001b[0m \u001b[0;34m==\u001b[0m \u001b[0;36m1\u001b[0m\u001b[0;34m:\u001b[0m\u001b[0;34m\u001b[0m\u001b[0;34m\u001b[0m\u001b[0m\n",
      "\u001b[0;32m~/pynocular/pynocular/utils/formatter.py\u001b[0m in \u001b[0;36mmake_2d_table\u001b[0;34m(data, bold, brk)\u001b[0m\n\u001b[1;32m    115\u001b[0m     \u001b[0;32mif\u001b[0m \u001b[0mn_data_rows\u001b[0m \u001b[0;34m>\u001b[0m \u001b[0mN_MAX\u001b[0m\u001b[0;34m:\u001b[0m\u001b[0;34m\u001b[0m\u001b[0;34m\u001b[0m\u001b[0m\n\u001b[1;32m    116\u001b[0m         \u001b[0;32mfor\u001b[0m \u001b[0mi\u001b[0m \u001b[0;32min\u001b[0m \u001b[0mrange\u001b[0m\u001b[0;34m(\u001b[0m\u001b[0;36m1\u001b[0m\u001b[0;34m,\u001b[0m \u001b[0mmin\u001b[0m\u001b[0;34m(\u001b[0m\u001b[0mn_data_cols\u001b[0m\u001b[0;34m,\u001b[0m \u001b[0;36m2\u001b[0m\u001b[0;34m*\u001b[0m\u001b[0;34m(\u001b[0m\u001b[0mN_MAX\u001b[0m\u001b[0;34m//\u001b[0m\u001b[0;36m2\u001b[0m\u001b[0;34m)\u001b[0m \u001b[0;34m+\u001b[0m \u001b[0;36m1\u001b[0m\u001b[0;34m)\u001b[0m \u001b[0;34m+\u001b[0m \u001b[0;36m1\u001b[0m\u001b[0;34m)\u001b[0m\u001b[0;34m:\u001b[0m\u001b[0;34m\u001b[0m\u001b[0;34m\u001b[0m\u001b[0m\n\u001b[0;32m--> 117\u001b[0;31m             \u001b[0mtable\u001b[0m\u001b[0;34m[\u001b[0m\u001b[0mN_MAX\u001b[0m\u001b[0;34m//\u001b[0m\u001b[0;36m2\u001b[0m\u001b[0;34m+\u001b[0m\u001b[0;36m1\u001b[0m\u001b[0;34m]\u001b[0m\u001b[0;34m[\u001b[0m\u001b[0mi\u001b[0m\u001b[0;34m]\u001b[0m \u001b[0;34m=\u001b[0m \u001b[0;34m'...'\u001b[0m\u001b[0;34m\u001b[0m\u001b[0;34m\u001b[0m\u001b[0m\n\u001b[0m\u001b[1;32m    118\u001b[0m         \u001b[0mdata_row_idices\u001b[0m \u001b[0;34m=\u001b[0m \u001b[0mlist\u001b[0m\u001b[0;34m(\u001b[0m\u001b[0mrange\u001b[0m\u001b[0;34m(\u001b[0m\u001b[0mN_MAX\u001b[0m\u001b[0;34m//\u001b[0m\u001b[0;36m2\u001b[0m\u001b[0;34m)\u001b[0m\u001b[0;34m)\u001b[0m \u001b[0;34m+\u001b[0m \u001b[0mlist\u001b[0m\u001b[0;34m(\u001b[0m\u001b[0mrange\u001b[0m\u001b[0;34m(\u001b[0m\u001b[0mn_data_rows\u001b[0m \u001b[0;34m-\u001b[0m \u001b[0mN_MAX\u001b[0m\u001b[0;34m//\u001b[0m\u001b[0;36m2\u001b[0m\u001b[0;34m,\u001b[0m \u001b[0mn_data_rows\u001b[0m\u001b[0;34m)\u001b[0m\u001b[0;34m)\u001b[0m\u001b[0;34m\u001b[0m\u001b[0;34m\u001b[0m\u001b[0m\n\u001b[1;32m    119\u001b[0m         \u001b[0mtable_row_idices\u001b[0m \u001b[0;34m=\u001b[0m \u001b[0mlist\u001b[0m\u001b[0;34m(\u001b[0m\u001b[0mrange\u001b[0m\u001b[0;34m(\u001b[0m\u001b[0mN_MAX\u001b[0m\u001b[0;34m//\u001b[0m\u001b[0;36m2\u001b[0m\u001b[0;34m)\u001b[0m\u001b[0;34m)\u001b[0m \u001b[0;34m+\u001b[0m \u001b[0mlist\u001b[0m\u001b[0;34m(\u001b[0m\u001b[0mrange\u001b[0m\u001b[0;34m(\u001b[0m\u001b[0mN_MAX\u001b[0m\u001b[0;34m//\u001b[0m\u001b[0;36m2\u001b[0m\u001b[0;34m+\u001b[0m\u001b[0;36m1\u001b[0m\u001b[0;34m,\u001b[0m \u001b[0;36m2\u001b[0m\u001b[0;34m*\u001b[0m\u001b[0;34m(\u001b[0m\u001b[0mN_MAX\u001b[0m\u001b[0;34m//\u001b[0m\u001b[0;36m2\u001b[0m\u001b[0;34m)\u001b[0m \u001b[0;34m+\u001b[0m \u001b[0;36m1\u001b[0m\u001b[0;34m)\u001b[0m\u001b[0;34m)\u001b[0m\u001b[0;34m\u001b[0m\u001b[0;34m\u001b[0m\u001b[0m\n",
      "\u001b[0;31mIndexError\u001b[0m: list index out of range"
     ]
    }
   ],
   "source": [
    "np.dot(a,a.T)"
   ]
  },
  {
   "cell_type": "code",
   "execution_count": 136,
   "metadata": {},
   "outputs": [
    {
     "data": {
      "text/html": [
       "<table>\n",
       "<tbody>\n",
       "<tr><td><b>y \\ x</b></td><td><b>0</b></td><td><b>1</b></td><td><b>2</b></td><td><b>3</b></td><td><b>4</b></td><td><b>5</b></td><td><b>6</b></td><td><b>7</b></td><td><b>8</b></td><td><b>9</b></td></tr>\n",
       "<tr><td><b>0</b>    </td><td>5.77    </td><td>5.23    </td><td>4.62    </td><td>4.74    </td><td>4.48    </td><td>5.27    </td><td>4.44    </td><td>4.43    </td><td>4.42    </td><td>4.91    </td></tr>\n",
       "<tr><td><b>1</b>    </td><td>5.23    </td><td>8.34    </td><td>5.48    </td><td>6.02    </td><td>5.05    </td><td>5.85    </td><td>4.68    </td><td>5.02    </td><td>5.7     </td><td>4.87    </td></tr>\n",
       "<tr><td><b>2</b>    </td><td>4.62    </td><td>5.48    </td><td>5.65    </td><td>4.76    </td><td>3.92    </td><td>4.89    </td><td>4.53    </td><td>3.91    </td><td>4.35    </td><td>3.94    </td></tr>\n",
       "<tr><td><b>3</b>    </td><td>4.74    </td><td>6.02    </td><td>4.76    </td><td>6.48    </td><td>4.58    </td><td>4.78    </td><td>4.38    </td><td>4.82    </td><td>4.36    </td><td>4.45    </td></tr>\n",
       "<tr><td><b>4</b>    </td><td>4.48    </td><td>5.05    </td><td>3.92    </td><td>4.58    </td><td>5.57    </td><td>4.78    </td><td>3.44    </td><td>4.88    </td><td>4.32    </td><td>4.67    </td></tr>\n",
       "<tr><td><b>5</b>    </td><td>5.27    </td><td>5.85    </td><td>4.89    </td><td>4.78    </td><td>4.78    </td><td>6.77    </td><td>4.56    </td><td>5.09    </td><td>4.58    </td><td>4.85    </td></tr>\n",
       "<tr><td>...         </td><td>4.44    </td><td>4.68    </td><td>4.53    </td><td>4.38    </td><td>3.44    </td><td>4.56    </td><td>5.52    </td><td>4.25    </td><td>4.21    </td><td>4.12    </td></tr>\n",
       "<tr><td><b>14</b>   </td><td>4.43    </td><td>5.02    </td><td>3.91    </td><td>4.82    </td><td>4.88    </td><td>5.09    </td><td>4.25    </td><td>5.72    </td><td>4.5     </td><td>4.63    </td></tr>\n",
       "<tr><td><b>15</b>   </td><td>4.42    </td><td>5.7     </td><td>4.35    </td><td>4.36    </td><td>4.32    </td><td>4.58    </td><td>4.21    </td><td>4.5     </td><td>6.05    </td><td>4.14    </td></tr>\n",
       "<tr><td><b>16</b>   </td><td>4.91    </td><td>4.87    </td><td>3.94    </td><td>4.45    </td><td>4.67    </td><td>4.85    </td><td>4.12    </td><td>4.63    </td><td>4.14    </td><td>5.62    </td></tr>\n",
       "<tr><td><b>17</b>   </td><td>0       </td><td>0       </td><td>0       </td><td>0       </td><td>0       </td><td>0       </td><td>0       </td><td>0       </td><td>0       </td><td>0       </td></tr>\n",
       "<tr><td><b>18</b>   </td><td>0       </td><td>0       </td><td>0       </td><td>0       </td><td>0       </td><td>0       </td><td>0       </td><td>0       </td><td>0       </td><td>0       </td></tr>\n",
       "<tr><td><b>19</b>   </td><td>0       </td><td>0       </td><td>0       </td><td>0       </td><td>0       </td><td>0       </td><td>0       </td><td>0       </td><td>0       </td><td>0       </td></tr>\n",
       "</tbody>\n",
       "</table>"
      ],
      "text/plain": [
       "+-------+------+------+------+------+------+------+------+------+------+------+\n",
       "| y \\ x | 0    | 1    | 2    | 3    | 4    | 5    | 6    | 7    | 8    | 9    |\n",
       "+-------+------+------+------+------+------+------+------+------+------+------+\n",
       "| 0     | 5.77 | 5.23 | 4.62 | 4.74 | 4.48 | 5.27 | 4.44 | 4.43 | 4.42 | 4.91 |\n",
       "+-------+------+------+------+------+------+------+------+------+------+------+\n",
       "| 1     | 5.23 | 8.34 | 5.48 | 6.02 | 5.05 | 5.85 | 4.68 | 5.02 | 5.7  | 4.87 |\n",
       "+-------+------+------+------+------+------+------+------+------+------+------+\n",
       "| 2     | 4.62 | 5.48 | 5.65 | 4.76 | 3.92 | 4.89 | 4.53 | 3.91 | 4.35 | 3.94 |\n",
       "+-------+------+------+------+------+------+------+------+------+------+------+\n",
       "| 3     | 4.74 | 6.02 | 4.76 | 6.48 | 4.58 | 4.78 | 4.38 | 4.82 | 4.36 | 4.45 |\n",
       "+-------+------+------+------+------+------+------+------+------+------+------+\n",
       "| 4     | 4.48 | 5.05 | 3.92 | 4.58 | 5.57 | 4.78 | 3.44 | 4.88 | 4.32 | 4.67 |\n",
       "+-------+------+------+------+------+------+------+------+------+------+------+\n",
       "| 5     | 5.27 | 5.85 | 4.89 | 4.78 | 4.78 | 6.77 | 4.56 | 5.09 | 4.58 | 4.85 |\n",
       "+-------+------+------+------+------+------+------+------+------+------+------+\n",
       "| ...   | 4.44 | 4.68 | 4.53 | 4.38 | 3.44 | 4.56 | 5.52 | 4.25 | 4.21 | 4.12 |\n",
       "+-------+------+------+------+------+------+------+------+------+------+------+\n",
       "| 14    | 4.43 | 5.02 | 3.91 | 4.82 | 4.88 | 5.09 | 4.25 | 5.72 | 4.5  | 4.63 |\n",
       "+-------+------+------+------+------+------+------+------+------+------+------+\n",
       "| 15    | 4.42 | 5.7  | 4.35 | 4.36 | 4.32 | 4.58 | 4.21 | 4.5  | 6.05 | 4.14 |\n",
       "+-------+------+------+------+------+------+------+------+------+------+------+\n",
       "| 16    | 4.91 | 4.87 | 3.94 | 4.45 | 4.67 | 4.85 | 4.12 | 4.63 | 4.14 | 5.62 |\n",
       "+-------+------+------+------+------+------+------+------+------+------+------+\n",
       "| 17    | 0    | 0    | 0    | 0    | 0    | 0    | 0    | 0    | 0    | 0    |\n",
       "+-------+------+------+------+------+------+------+------+------+------+------+\n",
       "| 18    | 0    | 0    | 0    | 0    | 0    | 0    | 0    | 0    | 0    | 0    |\n",
       "+-------+------+------+------+------+------+------+------+------+------+------+\n",
       "| 19    | 0    | 0    | 0    | 0    | 0    | 0    | 0    | 0    | 0    | 0    |\n",
       "+-------+------+------+------+------+------+------+------+------+------+------+"
      ]
     },
     "execution_count": 136,
     "metadata": {},
     "output_type": "execute_result"
    }
   ],
   "source": [
    "np.dot(b,b.T)"
   ]
  },
  {
   "cell_type": "code",
   "execution_count": 137,
   "metadata": {},
   "outputs": [
    {
     "data": {
      "text/html": [
       "<table>\n",
       "<tbody>\n",
       "<tr><td><b>y \\ x</b></td><td><b>0</b></td><td><b>1</b></td><td><b>2</b></td><td><b>3</b></td><td><b>4</b></td><td><b>5</b></td><td><b>6</b></td><td><b>7</b></td><td><b>8</b></td><td><b>9</b></td></tr>\n",
       "<tr><td><b>0</b>    </td><td>0.0462  </td><td>0.0113  </td><td>0.125   </td><td>0.171   </td><td>0.149   </td><td>0.662   </td><td>0.253   </td><td>0.249   </td><td>0.0813  </td><td>0.275   </td></tr>\n",
       "<tr><td><b>1</b>    </td><td>1.93e-05</td><td>0.0375  </td><td>0.00037 </td><td>0.53    </td><td>0.0057  </td><td>0.0104  </td><td>0.0357  </td><td>0.439   </td><td>0.00204 </td><td>0.0209  </td></tr>\n",
       "<tr><td><b>2</b>    </td><td>0.462   </td><td>0.886   </td><td>0.0944  </td><td>0.585   </td><td>0.367   </td><td>0.624   </td><td>2.96e-08</td><td>0.235   </td><td>4.44e-06</td><td>0.621   </td></tr>\n",
       "<tr><td><b>3</b>    </td><td>0.163   </td><td>0.234   </td><td>0.438   </td><td>0.00859 </td><td>7.46e-08</td><td>0.0837  </td><td>0.739   </td><td>0.000525</td><td>0.133   </td><td>0.244   </td></tr>\n",
       "<tr><td><b>4</b>    </td><td>0.397   </td><td>0.617   </td><td>0.000605</td><td>0.114   </td><td>0.106   </td><td>0.122   </td><td>0.0543  </td><td>0.00881 </td><td>0.159   </td><td>0.157   </td></tr>\n",
       "<tr><td><b>5</b>    </td><td>0.135   </td><td>0.588   </td><td>0.719   </td><td>0.0167  </td><td>0.00472 </td><td>0.0875  </td><td>0.0644  </td><td>0.0275  </td><td>0.365   </td><td>0.00205 </td></tr>\n",
       "<tr><td>...         </td><td>...     </td><td>...     </td><td>...     </td><td>...     </td><td>...     </td><td>...     </td><td>...     </td><td>...     </td><td>...     </td><td>...     </td></tr>\n",
       "<tr><td><b>14</b>   </td><td>0.12    </td><td>0.0647  </td><td>0.0064  </td><td>0.00165 </td><td>0.199   </td><td>0.213   </td><td>0.173   </td><td>0.216   </td><td>0.73    </td><td>0.000606</td></tr>\n",
       "<tr><td><b>15</b>   </td><td>0.0679  </td><td>0.0093  </td><td>0.193   </td><td>0.033   </td><td>0.829   </td><td>0.172   </td><td>0.00373 </td><td>0.0661  </td><td>0.413   </td><td>0.686   </td></tr>\n",
       "<tr><td><b>16</b>   </td><td>0.035   </td><td>0.974   </td><td>0.46    </td><td>0.838   </td><td>0.478   </td><td>0.103   </td><td>0.0692  </td><td>0.137   </td><td>0.0752  </td><td>0.00287 </td></tr>\n",
       "<tr><td><b>17</b>   </td><td>0.224   </td><td>0.00117 </td><td>0.18    </td><td>0.0758  </td><td>0.0488  </td><td>0.0715  </td><td>0.262   </td><td>0.0854  </td><td>9.86e-05</td><td>0.0465  </td></tr>\n",
       "<tr><td><b>18</b>   </td><td>0.871   </td><td>0.000102</td><td>0.0268  </td><td>4.21e-06</td><td>0.427   </td><td>0.783   </td><td>0.0139  </td><td>0.354   </td><td>0.000281</td><td>0.362   </td></tr>\n",
       "<tr><td><b>19</b>   </td><td>0.042   </td><td>0.0825  </td><td>0.00562 </td><td>0.127   </td><td>0.596   </td><td>0.0189  </td><td>0.608   </td><td>0.901   </td><td>0.0728  </td><td>0.644   </td></tr>\n",
       "</tbody>\n",
       "</table>"
      ],
      "text/plain": [
       "+-------+----------+----------+----------+----------+----------+--------+----------+----------+----------+----------+\n",
       "| y \\ x | 0        | 1        | 2        | 3        | 4        | 5      | 6        | 7        | 8        | 9        |\n",
       "+-------+----------+----------+----------+----------+----------+--------+----------+----------+----------+----------+\n",
       "| 0     | 0.0462   | 0.0113   | 0.125    | 0.171    | 0.149    | 0.662  | 0.253    | 0.249    | 0.0813   | 0.275    |\n",
       "+-------+----------+----------+----------+----------+----------+--------+----------+----------+----------+----------+\n",
       "| 1     | 1.93e-05 | 0.0375   | 0.00037  | 0.53     | 0.0057   | 0.0104 | 0.0357   | 0.439    | 0.00204  | 0.0209   |\n",
       "+-------+----------+----------+----------+----------+----------+--------+----------+----------+----------+----------+\n",
       "| 2     | 0.462    | 0.886    | 0.0944   | 0.585    | 0.367    | 0.624  | 2.96e-08 | 0.235    | 4.44e-06 | 0.621    |\n",
       "+-------+----------+----------+----------+----------+----------+--------+----------+----------+----------+----------+\n",
       "| 3     | 0.163    | 0.234    | 0.438    | 0.00859  | 7.46e-08 | 0.0837 | 0.739    | 0.000525 | 0.133    | 0.244    |\n",
       "+-------+----------+----------+----------+----------+----------+--------+----------+----------+----------+----------+\n",
       "| 4     | 0.397    | 0.617    | 0.000605 | 0.114    | 0.106    | 0.122  | 0.0543   | 0.00881  | 0.159    | 0.157    |\n",
       "+-------+----------+----------+----------+----------+----------+--------+----------+----------+----------+----------+\n",
       "| 5     | 0.135    | 0.588    | 0.719    | 0.0167   | 0.00472  | 0.0875 | 0.0644   | 0.0275   | 0.365    | 0.00205  |\n",
       "+-------+----------+----------+----------+----------+----------+--------+----------+----------+----------+----------+\n",
       "| ...   | ...      | ...      | ...      | ...      | ...      | ...    | ...      | ...      | ...      | ...      |\n",
       "+-------+----------+----------+----------+----------+----------+--------+----------+----------+----------+----------+\n",
       "| 14    | 0.12     | 0.0647   | 0.0064   | 0.00165  | 0.199    | 0.213  | 0.173    | 0.216    | 0.73     | 0.000606 |\n",
       "+-------+----------+----------+----------+----------+----------+--------+----------+----------+----------+----------+\n",
       "| 15    | 0.0679   | 0.0093   | 0.193    | 0.033    | 0.829    | 0.172  | 0.00373  | 0.0661   | 0.413    | 0.686    |\n",
       "+-------+----------+----------+----------+----------+----------+--------+----------+----------+----------+----------+\n",
       "| 16    | 0.035    | 0.974    | 0.46     | 0.838    | 0.478    | 0.103  | 0.0692   | 0.137    | 0.0752   | 0.00287  |\n",
       "+-------+----------+----------+----------+----------+----------+--------+----------+----------+----------+----------+\n",
       "| 17    | 0.224    | 0.00117  | 0.18     | 0.0758   | 0.0488   | 0.0715 | 0.262    | 0.0854   | 9.86e-05 | 0.0465   |\n",
       "+-------+----------+----------+----------+----------+----------+--------+----------+----------+----------+----------+\n",
       "| 18    | 0.871    | 0.000102 | 0.0268   | 4.21e-06 | 0.427    | 0.783  | 0.0139   | 0.354    | 0.000281 | 0.362    |\n",
       "+-------+----------+----------+----------+----------+----------+--------+----------+----------+----------+----------+\n",
       "| 19    | 0.042    | 0.0825   | 0.00562  | 0.127    | 0.596    | 0.0189 | 0.608    | 0.901    | 0.0728   | 0.644    |\n",
       "+-------+----------+----------+----------+----------+----------+--------+----------+----------+----------+----------+"
      ]
     },
     "execution_count": 137,
     "metadata": {},
     "output_type": "execute_result"
    }
   ],
   "source": [
    "b ** 3"
   ]
  },
  {
   "cell_type": "code",
   "execution_count": null,
   "metadata": {},
   "outputs": [],
   "source": []
  },
  {
   "cell_type": "code",
   "execution_count": null,
   "metadata": {},
   "outputs": [],
   "source": []
  }
 ],
 "metadata": {
  "kernelspec": {
   "display_name": "Python 3",
   "language": "python",
   "name": "python3"
  },
  "language_info": {
   "codemirror_mode": {
    "name": "ipython",
    "version": 3
   },
   "file_extension": ".py",
   "mimetype": "text/x-python",
   "name": "python",
   "nbconvert_exporter": "python",
   "pygments_lexer": "ipython3",
   "version": "3.7.3"
  }
 },
 "nbformat": 4,
 "nbformat_minor": 4
}
