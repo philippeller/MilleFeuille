{
 "cells": [
  {
   "cell_type": "code",
   "execution_count": 1,
   "metadata": {},
   "outputs": [],
   "source": [
    "%reload_ext autoreload\n",
    "%autoreload 2\n",
    "import numpy as np\n",
    "import pynocular as pn"
   ]
  },
  {
   "cell_type": "code",
   "execution_count": 2,
   "metadata": {},
   "outputs": [],
   "source": [
    "# Generate some test data\n",
    "p = pn.PointData()\n",
    "p['x'] = np.linspace(0, 1, 100)\n",
    "p['y'] = np.random.rand(100)\n",
    "p['a'] = p['x'] ** 2 * p['y']"
   ]
  },
  {
   "cell_type": "code",
   "execution_count": 3,
   "metadata": {},
   "outputs": [
    {
     "data": {
      "text/html": [
       "<table>\n",
       "<tbody>\n",
       "<tr><td><b>x</b></td><td style=\"text-align: right;\">0     </td><td style=\"text-align: right;\">0.0101  </td><td style=\"text-align: right;\">0.0202  </td><td style=\"text-align: right;\">0.0303 </td><td style=\"text-align: right;\">0.0404  </td><td style=\"text-align: right;\">0.0505 </td><td>...</td><td style=\"text-align: right;\">0.949</td><td style=\"text-align: right;\">0.96 </td><td style=\"text-align: right;\">0.97 </td><td style=\"text-align: right;\">0.98 </td><td style=\"text-align: right;\">0.99 </td><td style=\"text-align: right;\">1    </td></tr>\n",
       "<tr><td><b>y</b></td><td style=\"text-align: right;\">0.0804</td><td style=\"text-align: right;\">0.879   </td><td style=\"text-align: right;\">0.405   </td><td style=\"text-align: right;\">0.566  </td><td style=\"text-align: right;\">0.415   </td><td style=\"text-align: right;\">0.906  </td><td>...</td><td style=\"text-align: right;\">0.627</td><td style=\"text-align: right;\">0.927</td><td style=\"text-align: right;\">0.478</td><td style=\"text-align: right;\">0.118</td><td style=\"text-align: right;\">0.131</td><td style=\"text-align: right;\">0.517</td></tr>\n",
       "<tr><td><b>a</b></td><td style=\"text-align: right;\">0     </td><td style=\"text-align: right;\">8.97e-05</td><td style=\"text-align: right;\">0.000165</td><td style=\"text-align: right;\">0.00052</td><td style=\"text-align: right;\">0.000677</td><td style=\"text-align: right;\">0.00231</td><td>...</td><td style=\"text-align: right;\">0.565</td><td style=\"text-align: right;\">0.854</td><td style=\"text-align: right;\">0.45 </td><td style=\"text-align: right;\">0.113</td><td style=\"text-align: right;\">0.128</td><td style=\"text-align: right;\">0.517</td></tr>\n",
       "</tbody>\n",
       "</table>"
      ],
      "text/plain": [
       "PointData({'x': PointArray([0.        , 0.01010101, 0.02020202, 0.03030303, 0.04040404,\n",
       "            0.05050505, 0.06060606, 0.07070707, 0.08080808, 0.09090909,\n",
       "            0.1010101 , 0.11111111, 0.12121212, 0.13131313, 0.14141414,\n",
       "            0.15151515, 0.16161616, 0.17171717, 0.18181818, 0.19191919,\n",
       "            0.2020202 , 0.21212121, 0.22222222, 0.23232323, 0.24242424,\n",
       "            0.25252525, 0.26262626, 0.27272727, 0.28282828, 0.29292929,\n",
       "            0.3030303 , 0.31313131, 0.32323232, 0.33333333, 0.34343434,\n",
       "            0.35353535, 0.36363636, 0.37373737, 0.38383838, 0.39393939,\n",
       "            0.4040404 , 0.41414141, 0.42424242, 0.43434343, 0.44444444,\n",
       "            0.45454545, 0.46464646, 0.47474747, 0.48484848, 0.49494949,\n",
       "            0.50505051, 0.51515152, 0.52525253, 0.53535354, 0.54545455,\n",
       "            0.55555556, 0.56565657, 0.57575758, 0.58585859, 0.5959596 ,\n",
       "            0.60606061, 0.61616162, 0.62626263, 0.63636364, 0.64646465,\n",
       "            0.65656566, 0.66666667, 0.67676768, 0.68686869, 0.6969697 ,\n",
       "            0.70707071, 0.71717172, 0.72727273, 0.73737374, 0.74747475,\n",
       "            0.75757576, 0.76767677, 0.77777778, 0.78787879, 0.7979798 ,\n",
       "            0.80808081, 0.81818182, 0.82828283, 0.83838384, 0.84848485,\n",
       "            0.85858586, 0.86868687, 0.87878788, 0.88888889, 0.8989899 ,\n",
       "            0.90909091, 0.91919192, 0.92929293, 0.93939394, 0.94949495,\n",
       "            0.95959596, 0.96969697, 0.97979798, 0.98989899, 1.        ]), 'y': PointArray([0.08038129, 0.87924846, 0.40547653, 0.5658485 , 0.41452315,\n",
       "            0.90616987, 0.88518464, 0.8074168 , 0.59313238, 0.77386135,\n",
       "            0.63835081, 0.46569419, 0.60615762, 0.41537028, 0.43425313,\n",
       "            0.72714841, 0.57492556, 0.90106197, 0.59590638, 0.39705484,\n",
       "            0.82384281, 0.44793283, 0.07939353, 0.78058543, 0.95252058,\n",
       "            0.08347807, 0.344966  , 0.02398288, 0.6191422 , 0.904452  ,\n",
       "            0.80753168, 0.62270097, 0.17318491, 0.6876164 , 0.68383877,\n",
       "            0.92062938, 0.13633649, 0.13855865, 0.24446547, 0.36259771,\n",
       "            0.42196537, 0.25797768, 0.6775452 , 0.70437431, 0.82783633,\n",
       "            0.05856924, 0.37018684, 0.53658285, 0.88197223, 0.08649685,\n",
       "            0.22313897, 0.81923203, 0.22224887, 0.31888349, 0.80367716,\n",
       "            0.08359638, 0.00306848, 0.98972684, 0.25446301, 0.24717105,\n",
       "            0.02141549, 0.064471  , 0.69450109, 0.45973403, 0.73828842,\n",
       "            0.54061675, 0.25956771, 0.88925307, 0.21813413, 0.97695662,\n",
       "            0.82562531, 0.8653514 , 0.2805369 , 0.64491325, 0.08814302,\n",
       "            0.86978355, 0.57271236, 0.89007141, 0.2845635 , 0.75086775,\n",
       "            0.82969915, 0.4299009 , 0.1454143 , 0.03073958, 0.40156081,\n",
       "            0.7230269 , 0.50117996, 0.414092  , 0.64776755, 0.35977214,\n",
       "            0.14038916, 0.05972024, 0.02448979, 0.1968121 , 0.62698379,\n",
       "            0.92691901, 0.47810707, 0.11759352, 0.13067075, 0.51748176]), 'a': PointArray([0.00000000e+00, 8.97100764e-05, 1.65483738e-04,\n",
       "            5.19603767e-04, 6.76703435e-04, 2.31142196e-03,\n",
       "            3.25136689e-03, 4.03667209e-03, 3.87312236e-03,\n",
       "            6.39554835e-03, 6.51311919e-03, 5.74931102e-03,\n",
       "            8.90589711e-03, 7.16228732e-03, 8.68417655e-03,\n",
       "            1.66930305e-02, 1.50169312e-02, 2.65694223e-02,\n",
       "            1.96993844e-02, 1.46247114e-02, 3.36228061e-02,\n",
       "            2.01549206e-02, 3.92066821e-03, 4.21313839e-02,\n",
       "            5.59791706e-02, 5.32331325e-03, 2.37931857e-02,\n",
       "            1.78385082e-03, 4.95263223e-02, 7.76088287e-02,\n",
       "            7.41535063e-02, 6.10565890e-02, 1.80942100e-02,\n",
       "            7.64018223e-02, 8.06568323e-02, 1.15066931e-01,\n",
       "            1.80279656e-02, 1.93538197e-02, 3.60175638e-02,\n",
       "            5.62709028e-02, 6.88852768e-02, 4.42465550e-02,\n",
       "            1.21945692e-01, 1.32883185e-01, 1.63523226e-01,\n",
       "            1.21010834e-02, 7.99219828e-02, 1.20937814e-01,\n",
       "            2.07332316e-01, 2.11895659e-02, 5.69173977e-02,\n",
       "            2.17408683e-01, 6.13162891e-02, 9.13930936e-02,\n",
       "            2.39110559e-01, 2.58013510e-02, 9.81811851e-04,\n",
       "            3.28091268e-01, 8.73394109e-02, 8.77872080e-02,\n",
       "            7.86611115e-03, 2.44767472e-02, 2.72386715e-01,\n",
       "            1.86173285e-01, 3.08542941e-01, 2.33048239e-01,\n",
       "            1.15363425e-01, 4.07290792e-01, 1.02913194e-01,\n",
       "            4.74573048e-01, 4.12770537e-01, 4.45080746e-01,\n",
       "            1.48383154e-01, 3.50652251e-01, 4.92471333e-02,\n",
       "            4.99187068e-01, 3.37515212e-01, 5.38438258e-01,\n",
       "            1.76643643e-01, 4.78131380e-01, 5.41789057e-01,\n",
       "            2.87784900e-01, 9.97618341e-02, 2.16064668e-02,\n",
       "            2.89094285e-01, 5.32993506e-01, 3.78198857e-01,\n",
       "            3.19790061e-01, 5.11816335e-01, 2.90761666e-01,\n",
       "            1.16024096e-01, 5.04584581e-02, 2.11490207e-02,\n",
       "            1.73678993e-01, 5.65251378e-01, 8.53529643e-01,\n",
       "            4.49569919e-01, 1.12890258e-01, 1.28044268e-01,\n",
       "            5.17481764e-01])})"
      ]
     },
     "execution_count": 3,
     "metadata": {},
     "output_type": "execute_result"
    }
   ],
   "source": [
    "p"
   ]
  },
  {
   "cell_type": "code",
   "execution_count": 4,
   "metadata": {},
   "outputs": [
    {
     "data": {
      "text/html": [
       "<table>\n",
       "<tbody>\n",
       "<tr><td style=\"text-align: right;\">0</td><td style=\"text-align: right;\">8.97e-05</td><td style=\"text-align: right;\">0.000165</td><td style=\"text-align: right;\">0.00052</td><td style=\"text-align: right;\">0.000677</td><td style=\"text-align: right;\">0.00231</td><td>...</td><td style=\"text-align: right;\">0.565</td><td style=\"text-align: right;\">0.854</td><td style=\"text-align: right;\">0.45</td><td style=\"text-align: right;\">0.113</td><td style=\"text-align: right;\">0.128</td><td style=\"text-align: right;\">0.517</td></tr>\n",
       "</tbody>\n",
       "</table>"
      ],
      "text/plain": [
       "PointArray([0.00000000e+00, 8.97100764e-05, 1.65483738e-04,\n",
       "            5.19603767e-04, 6.76703435e-04, 2.31142196e-03,\n",
       "            3.25136689e-03, 4.03667209e-03, 3.87312236e-03,\n",
       "            6.39554835e-03, 6.51311919e-03, 5.74931102e-03,\n",
       "            8.90589711e-03, 7.16228732e-03, 8.68417655e-03,\n",
       "            1.66930305e-02, 1.50169312e-02, 2.65694223e-02,\n",
       "            1.96993844e-02, 1.46247114e-02, 3.36228061e-02,\n",
       "            2.01549206e-02, 3.92066821e-03, 4.21313839e-02,\n",
       "            5.59791706e-02, 5.32331325e-03, 2.37931857e-02,\n",
       "            1.78385082e-03, 4.95263223e-02, 7.76088287e-02,\n",
       "            7.41535063e-02, 6.10565890e-02, 1.80942100e-02,\n",
       "            7.64018223e-02, 8.06568323e-02, 1.15066931e-01,\n",
       "            1.80279656e-02, 1.93538197e-02, 3.60175638e-02,\n",
       "            5.62709028e-02, 6.88852768e-02, 4.42465550e-02,\n",
       "            1.21945692e-01, 1.32883185e-01, 1.63523226e-01,\n",
       "            1.21010834e-02, 7.99219828e-02, 1.20937814e-01,\n",
       "            2.07332316e-01, 2.11895659e-02, 5.69173977e-02,\n",
       "            2.17408683e-01, 6.13162891e-02, 9.13930936e-02,\n",
       "            2.39110559e-01, 2.58013510e-02, 9.81811851e-04,\n",
       "            3.28091268e-01, 8.73394109e-02, 8.77872080e-02,\n",
       "            7.86611115e-03, 2.44767472e-02, 2.72386715e-01,\n",
       "            1.86173285e-01, 3.08542941e-01, 2.33048239e-01,\n",
       "            1.15363425e-01, 4.07290792e-01, 1.02913194e-01,\n",
       "            4.74573048e-01, 4.12770537e-01, 4.45080746e-01,\n",
       "            1.48383154e-01, 3.50652251e-01, 4.92471333e-02,\n",
       "            4.99187068e-01, 3.37515212e-01, 5.38438258e-01,\n",
       "            1.76643643e-01, 4.78131380e-01, 5.41789057e-01,\n",
       "            2.87784900e-01, 9.97618341e-02, 2.16064668e-02,\n",
       "            2.89094285e-01, 5.32993506e-01, 3.78198857e-01,\n",
       "            3.19790061e-01, 5.11816335e-01, 2.90761666e-01,\n",
       "            1.16024096e-01, 5.04584581e-02, 2.11490207e-02,\n",
       "            1.73678993e-01, 5.65251378e-01, 8.53529643e-01,\n",
       "            4.49569919e-01, 1.12890258e-01, 1.28044268e-01,\n",
       "            5.17481764e-01])"
      ]
     },
     "execution_count": 4,
     "metadata": {},
     "output_type": "execute_result"
    }
   ],
   "source": [
    "p['a']"
   ]
  },
  {
   "cell_type": "code",
   "execution_count": 5,
   "metadata": {},
   "outputs": [
    {
     "data": {
      "text/plain": [
       "array([0.00000000e+00, 8.97100764e-05, 1.65483738e-04, 5.19603767e-04,\n",
       "       6.76703435e-04, 2.31142196e-03, 3.25136689e-03, 4.03667209e-03,\n",
       "       3.87312236e-03, 6.39554835e-03, 6.51311919e-03, 5.74931102e-03,\n",
       "       8.90589711e-03, 7.16228732e-03, 8.68417655e-03, 1.66930305e-02,\n",
       "       1.50169312e-02, 2.65694223e-02, 1.96993844e-02, 1.46247114e-02,\n",
       "       3.36228061e-02, 2.01549206e-02, 3.92066821e-03, 4.21313839e-02,\n",
       "       5.59791706e-02, 5.32331325e-03, 2.37931857e-02, 1.78385082e-03,\n",
       "       4.95263223e-02, 7.76088287e-02, 7.41535063e-02, 6.10565890e-02,\n",
       "       1.80942100e-02, 7.64018223e-02, 8.06568323e-02, 1.15066931e-01,\n",
       "       1.80279656e-02, 1.93538197e-02, 3.60175638e-02, 5.62709028e-02,\n",
       "       6.88852768e-02, 4.42465550e-02, 1.21945692e-01, 1.32883185e-01,\n",
       "       1.63523226e-01, 1.21010834e-02, 7.99219828e-02, 1.20937814e-01,\n",
       "       2.07332316e-01, 2.11895659e-02, 5.69173977e-02, 2.17408683e-01,\n",
       "       6.13162891e-02, 9.13930936e-02, 2.39110559e-01, 2.58013510e-02,\n",
       "       9.81811851e-04, 3.28091268e-01, 8.73394109e-02, 8.77872080e-02,\n",
       "       7.86611115e-03, 2.44767472e-02, 2.72386715e-01, 1.86173285e-01,\n",
       "       3.08542941e-01, 2.33048239e-01, 1.15363425e-01, 4.07290792e-01,\n",
       "       1.02913194e-01, 4.74573048e-01, 4.12770537e-01, 4.45080746e-01,\n",
       "       1.48383154e-01, 3.50652251e-01, 4.92471333e-02, 4.99187068e-01,\n",
       "       3.37515212e-01, 5.38438258e-01, 1.76643643e-01, 4.78131380e-01,\n",
       "       5.41789057e-01, 2.87784900e-01, 9.97618341e-02, 2.16064668e-02,\n",
       "       2.89094285e-01, 5.32993506e-01, 3.78198857e-01, 3.19790061e-01,\n",
       "       5.11816335e-01, 2.90761666e-01, 1.16024096e-01, 5.04584581e-02,\n",
       "       2.11490207e-02, 1.73678993e-01, 5.65251378e-01, 8.53529643e-01,\n",
       "       4.49569919e-01, 1.12890258e-01, 1.28044268e-01, 5.17481764e-01])"
      ]
     },
     "execution_count": 5,
     "metadata": {},
     "output_type": "execute_result"
    }
   ],
   "source": [
    "np.array(p['a'])"
   ]
  },
  {
   "cell_type": "code",
   "execution_count": 6,
   "metadata": {},
   "outputs": [
    {
     "data": {
      "image/png": "[encoded data removed]",
      "text/plain": [
       "<Figure size 432x288 with 1 Axes>"
      ]
     },
     "metadata": {
      "needs_background": "light"
     },
     "output_type": "display_data"
    }
   ],
   "source": [
    "# let's make a simple plot\n",
    "p.plot('x', 'a')"
   ]
  },
  {
   "cell_type": "code",
   "execution_count": 7,
   "metadata": {},
   "outputs": [],
   "source": [
    "# different pointdata\n",
    "p2 = pn.PointData(x=np.random.rand(100))"
   ]
  },
  {
   "cell_type": "code",
   "execution_count": 8,
   "metadata": {},
   "outputs": [
    {
     "data": {
      "text/html": [
       "<table>\n",
       "<tbody>\n",
       "<tr><td><b>x</b></td><td style=\"text-align: right;\">0.811</td><td style=\"text-align: right;\">0.697</td><td style=\"text-align: right;\">0.303</td><td style=\"text-align: right;\">0.274</td><td style=\"text-align: right;\">0.281</td><td style=\"text-align: right;\">0.638</td><td>...</td><td style=\"text-align: right;\">0.874</td><td style=\"text-align: right;\">0.105</td><td style=\"text-align: right;\">0.00403</td><td style=\"text-align: right;\">0.11</td><td style=\"text-align: right;\">0.755</td><td style=\"text-align: right;\">0.765</td></tr>\n",
       "</tbody>\n",
       "</table>"
      ],
      "text/plain": [
       "PointData({'x': PointArray([0.81061482, 0.69735574, 0.3033164 , 0.27382818, 0.2808649 ,\n",
       "            0.63814608, 0.57114743, 0.81386576, 0.84716429, 0.46001002,\n",
       "            0.77012698, 0.79405838, 0.73436466, 0.61210789, 0.14857536,\n",
       "            0.12442234, 0.27220857, 0.67208838, 0.14808521, 0.36770454,\n",
       "            0.32465194, 0.08561404, 0.70778096, 0.50498979, 0.95978058,\n",
       "            0.26384755, 0.2534265 , 0.63753355, 0.94779335, 0.97597496,\n",
       "            0.46926694, 0.90984599, 0.28508998, 0.72976328, 0.50074977,\n",
       "            0.38633069, 0.62422396, 0.09845292, 0.42786432, 0.08523153,\n",
       "            0.69043557, 0.80208657, 0.40530011, 0.64394028, 0.93276838,\n",
       "            0.40614698, 0.91925499, 0.84814393, 0.07505236, 0.46094704,\n",
       "            0.01139304, 0.43506898, 0.49191221, 0.8268394 , 0.50811072,\n",
       "            0.83165323, 0.17470352, 0.91785629, 0.30588766, 0.50828338,\n",
       "            0.65482083, 0.08822311, 0.89249487, 0.69039852, 0.65824353,\n",
       "            0.83806642, 0.8399431 , 0.32490446, 0.57511802, 0.91780519,\n",
       "            0.87686128, 0.56401967, 0.14951104, 0.63333258, 0.31847321,\n",
       "            0.55553159, 0.40080619, 0.26829741, 0.23310212, 0.88704627,\n",
       "            0.93425971, 0.33909422, 0.78803254, 0.58499066, 0.54138356,\n",
       "            0.02814602, 0.83695723, 0.71207672, 0.36378636, 0.01635096,\n",
       "            0.58442397, 0.96178439, 0.61641057, 0.24671534, 0.87403674,\n",
       "            0.1046277 , 0.00402993, 0.10978308, 0.75465489, 0.7650217 ])})"
      ]
     },
     "execution_count": 8,
     "metadata": {},
     "output_type": "execute_result"
    }
   ],
   "source": [
    "p2"
   ]
  },
  {
   "cell_type": "code",
   "execution_count": 9,
   "metadata": {},
   "outputs": [],
   "source": [
    "p2 = p.interp(p2)"
   ]
  },
  {
   "cell_type": "code",
   "execution_count": 10,
   "metadata": {},
   "outputs": [
    {
     "data": {
      "image/png": "[encoded data removed]",
      "text/plain": [
       "<Figure size 432x288 with 1 Axes>"
      ]
     },
     "metadata": {
      "needs_background": "light"
     },
     "output_type": "display_data"
    }
   ],
   "source": [
    "p.plot('x', 'a', '.')\n",
    "p.interp(p2[['x']], method='linear').plot('x', 'a', '.')"
   ]
  },
  {
   "cell_type": "code",
   "execution_count": 13,
   "metadata": {},
   "outputs": [
    {
     "data": {
      "text/plain": [
       "[<matplotlib.lines.Line2D at 0x7fb4b4359eb8>]"
      ]
     },
     "execution_count": 13,
     "metadata": {},
     "output_type": "execute_result"
    },
    {
     "data": {
      "image/png": "[encoded data removed]",
      "text/plain": [
       "<Figure size 432x288 with 1 Axes>"
      ]
     },
     "metadata": {
      "needs_background": "light"
     },
     "output_type": "display_data"
    }
   ],
   "source": [
    "p.plot('x', 'a')\n",
    "p2.plot('x', 'a', '.')\n",
    "p2.interp(x=np.linspace(0,1,1000), method='nearest').plot('a')"
   ]
  },
  {
   "cell_type": "code",
   "execution_count": 14,
   "metadata": {},
   "outputs": [
    {
     "data": {
      "text/html": [
       "<table>\n",
       "<tbody>\n",
       "<tr><td><b>x</b></td><td style=\"text-align: right;\">0.811</td><td style=\"text-align: right;\">0.697</td><td style=\"text-align: right;\">0.303 </td><td style=\"text-align: right;\">0.274 </td><td style=\"text-align: right;\">0.281 </td><td style=\"text-align: right;\">0.638</td><td>...</td><td style=\"text-align: right;\">0.874</td><td style=\"text-align: right;\">0.105  </td><td style=\"text-align: right;\">0.00403 </td><td style=\"text-align: right;\">0.11   </td><td style=\"text-align: right;\">0.755</td><td style=\"text-align: right;\">0.765</td></tr>\n",
       "<tr><td><b>y</b></td><td style=\"text-align: right;\">0.746</td><td style=\"text-align: right;\">0.994</td><td style=\"text-align: right;\">0.805 </td><td style=\"text-align: right;\">0.04  </td><td style=\"text-align: right;\">0.48  </td><td style=\"text-align: right;\">0.47 </td><td>...</td><td style=\"text-align: right;\">0.397</td><td style=\"text-align: right;\">0.545  </td><td style=\"text-align: right;\">0.735   </td><td style=\"text-align: right;\">0.466  </td><td style=\"text-align: right;\">0.669</td><td style=\"text-align: right;\">0.645</td></tr>\n",
       "<tr><td><b>a</b></td><td style=\"text-align: right;\">0.49 </td><td style=\"text-align: right;\">0.483</td><td style=\"text-align: right;\">0.0741</td><td style=\"text-align: right;\">0.0033</td><td style=\"text-align: right;\">0.0382</td><td style=\"text-align: right;\">0.192</td><td>...</td><td style=\"text-align: right;\">0.303</td><td style=\"text-align: right;\">0.00592</td><td style=\"text-align: right;\">8.51e-05</td><td style=\"text-align: right;\">0.00558</td><td style=\"text-align: right;\">0.385</td><td style=\"text-align: right;\">0.374</td></tr>\n",
       "</tbody>\n",
       "</table>"
      ],
      "text/plain": [
       "PointData({'x': PointArray([0.81061482, 0.69735574, 0.3033164 , 0.27382818, 0.2808649 ,\n",
       "            0.63814608, 0.57114743, 0.81386576, 0.84716429, 0.46001002,\n",
       "            0.77012698, 0.79405838, 0.73436466, 0.61210789, 0.14857536,\n",
       "            0.12442234, 0.27220857, 0.67208838, 0.14808521, 0.36770454,\n",
       "            0.32465194, 0.08561404, 0.70778096, 0.50498979, 0.95978058,\n",
       "            0.26384755, 0.2534265 , 0.63753355, 0.94779335, 0.97597496,\n",
       "            0.46926694, 0.90984599, 0.28508998, 0.72976328, 0.50074977,\n",
       "            0.38633069, 0.62422396, 0.09845292, 0.42786432, 0.08523153,\n",
       "            0.69043557, 0.80208657, 0.40530011, 0.64394028, 0.93276838,\n",
       "            0.40614698, 0.91925499, 0.84814393, 0.07505236, 0.46094704,\n",
       "            0.01139304, 0.43506898, 0.49191221, 0.8268394 , 0.50811072,\n",
       "            0.83165323, 0.17470352, 0.91785629, 0.30588766, 0.50828338,\n",
       "            0.65482083, 0.08822311, 0.89249487, 0.69039852, 0.65824353,\n",
       "            0.83806642, 0.8399431 , 0.32490446, 0.57511802, 0.91780519,\n",
       "            0.87686128, 0.56401967, 0.14951104, 0.63333258, 0.31847321,\n",
       "            0.55553159, 0.40080619, 0.26829741, 0.23310212, 0.88704627,\n",
       "            0.93425971, 0.33909422, 0.78803254, 0.58499066, 0.54138356,\n",
       "            0.02814602, 0.83695723, 0.71207672, 0.36378636, 0.01635096,\n",
       "            0.58442397, 0.96178439, 0.61641057, 0.24671534, 0.87403674,\n",
       "            0.1046277 , 0.00402993, 0.10978308, 0.75465489, 0.7650217 ]), 'y': PointArray([ 0.74612245,  0.99378584,  0.80497275,  0.04002647,\n",
       "             0.47951583,  0.4698209 ,  0.63883617,  0.61161522,\n",
       "             0.33872518,  0.15063775,  0.62265099,  0.49993795,\n",
       "             0.59001204, -0.05410355,  0.68260048,  0.57459114,\n",
       "             0.0247478 ,  0.6752845 ,  0.66871702,  0.03750765,\n",
       "             0.20454972,  0.66453192,  0.8210413 ,  0.2188681 ,\n",
       "             0.9248811 ,  0.33353894,  0.06686319,  0.46188925,\n",
       "             0.54456358,  0.21135033,  0.44778609,  0.13172853,\n",
       "             0.74329226,  0.33957895,  0.00708174,  0.26662752,\n",
       "             0.62198508,  0.70256628,  0.70941383,  0.6554283 ,\n",
       "             0.39212177,  0.88190087,  0.39749201,  0.66290663,\n",
       "             0.05280541,  0.37701338,  0.05930316,  0.38533814,\n",
       "             0.69625381,  0.19735978,  0.82970572,  0.71827527,\n",
       "             0.33002561,  0.17919629,  0.46233626,  0.07097312,\n",
       "             0.88142608,  0.06839166,  0.78519621,  0.47628594,\n",
       "             0.62237871,  0.72764262,  0.59289705,  0.38891052,\n",
       "             0.45055749,  0.0269833 ,  0.05931213,  0.21368434,\n",
       "             0.97440788,  0.06871988,  0.39153733, -0.10421991,\n",
       "             0.70474426,  0.53113405,  0.31123041,  0.08544514,\n",
       "             0.44175145,  0.15214233,  0.83681671,  0.63194738,\n",
       "             0.07440889,  0.69443832,  0.2818673 ,  0.31377925,\n",
       "             0.70761163,  0.54088771,  0.01926668,  0.87721473,\n",
       "             0.12825147,  0.55434365,  0.359724  ,  0.87926203,\n",
       "             0.07792243,  0.55705235,  0.39680988,  0.54490207,\n",
       "             0.73453028,  0.46566813,  0.66939978,  0.64502838]), 'a': PointArray([ 4.90293324e-01,  4.82827675e-01,  7.40874399e-02,\n",
       "             3.29841707e-03,  3.81834324e-02,  1.92116233e-01,\n",
       "             2.11016050e-01,  4.04967366e-01,  2.43141280e-01,\n",
       "             3.35315325e-02,  3.72173996e-01,  3.17534237e-01,\n",
       "             3.21687218e-01, -2.08780042e-02,  1.52759273e-02,\n",
       "             8.82021880e-03,  1.67979929e-03,  3.08614642e-01,\n",
       "             1.48885709e-02,  5.88432695e-03,  2.20285193e-02,\n",
       "             4.97107360e-03,  4.11999673e-01,  5.58077842e-02,\n",
       "             8.51921931e-01,  2.28029953e-02,  4.60600371e-03,\n",
       "             1.88287030e-01,  4.89013721e-01,  2.01585223e-01,\n",
       "             9.71623782e-02,  1.09019040e-01,  6.01824036e-02,\n",
       "             1.83722417e-01,  2.03556085e-03,  3.98276988e-02,\n",
       "             2.43402677e-01,  6.79688619e-03,  1.28855533e-01,\n",
       "             4.86071830e-03,  1.90745705e-01,  5.66379465e-01,\n",
       "             6.50478581e-02,  2.75617684e-01,  4.59786860e-02,\n",
       "             6.17755591e-02,  5.01112924e-02,  2.77194018e-01,\n",
       "             3.82304565e-03,  4.34432715e-02,  8.45615291e-05,\n",
       "             1.36264085e-01,  7.87509425e-02,  1.22674933e-01,\n",
       "             1.20036217e-01,  4.86874010e-02,  2.67307886e-02,\n",
       "             5.76418058e-02,  7.37922393e-02,  1.23759947e-01,\n",
       "             2.67146852e-01,  5.73231796e-03,  4.71372675e-01,\n",
       "             1.89174730e-01,  1.94549831e-01,  1.89076794e-02,\n",
       "             4.20345257e-02,  2.31048154e-02,  3.22872844e-01,\n",
       "             5.79124114e-02,  3.00726872e-01, -3.38615342e-02,\n",
       "             1.59140945e-02,  2.11584022e-01,  3.06591688e-02,\n",
       "             2.63692387e-02,  7.13260205e-02,  9.92662144e-03,\n",
       "             4.54968521e-02,  4.97845371e-01,  6.49813836e-02,\n",
       "             7.87108001e-02,  1.75194177e-01,  1.06676104e-01,\n",
       "             2.08300613e-01,  4.81133477e-04,  1.32979584e-02,\n",
       "             4.47872799e-01,  1.70229142e-02,  9.08370817e-05,\n",
       "             1.21701791e-01,  8.12691630e-01,  2.96995754e-02,\n",
       "             3.29977502e-02,  3.02776078e-01,  5.92066908e-03,\n",
       "             8.51182225e-05,  5.57839376e-03,  3.85035631e-01,\n",
       "             3.74286974e-01])})"
      ]
     },
     "execution_count": 14,
     "metadata": {},
     "output_type": "execute_result"
    }
   ],
   "source": [
    "p.interp(p2)"
   ]
  },
  {
   "cell_type": "code",
   "execution_count": 16,
   "metadata": {},
   "outputs": [
    {
     "data": {
      "text/plain": [
       "[<matplotlib.lines.Line2D at 0x7fb4b4243240>]"
      ]
     },
     "execution_count": 16,
     "metadata": {},
     "output_type": "execute_result"
    },
    {
     "data": {
      "image/png": "[encoded data removed]",
      "text/plain": [
       "<Figure size 432x288 with 1 Axes>"
      ]
     },
     "metadata": {
      "needs_background": "light"
     },
     "output_type": "display_data"
    }
   ],
   "source": [
    "# Generate a histogram function for histograms with weight 'a'\n",
    "g = p.histogram('x')\n",
    "g.plot('a')\n",
    "#g.plot('counts')"
   ]
  },
  {
   "cell_type": "code",
   "execution_count": 17,
   "metadata": {},
   "outputs": [
    {
     "data": {
      "text/plain": [
       "<matplotlib.collections.QuadMesh at 0x7fb4b419fc50>"
      ]
     },
     "execution_count": 17,
     "metadata": {},
     "output_type": "execute_result"
    },
    {
     "data": {
      "image/png": "[encoded data removed]",
      "text/plain": [
       "<Figure size 432x288 with 1 Axes>"
      ]
     },
     "metadata": {
      "needs_background": "light"
     },
     "output_type": "display_data"
    }
   ],
   "source": [
    "gn = p.histogram('x', 'y')\n",
    "gn.plot('a')"
   ]
  },
  {
   "cell_type": "code",
   "execution_count": 18,
   "metadata": {},
   "outputs": [
    {
     "data": {
      "text/html": [
       "<table>\n",
       "<tbody>\n",
       "<tr><td><b>y \\ x</b>        </td><td><b>[0.  0.1]</b></td><td><b>[0.1 0.2]</b></td><td><b>[0.2 0.3]</b></td><td><b>[0.3 0.4]</b></td><td><b>[0.4 0.5]</b></td><td><b>[0.5 0.6]</b></td><td><b>[0.6 0.7]</b></td><td><b>[0.7 0.8]</b></td><td><b>[0.8 0.9]</b></td><td><b>[0.9 1. ]</b></td></tr>\n",
       "<tr><td><b>[0.003 0.102]</b></td><td>0               </td><td>0               </td><td>0.011           </td><td>0               </td><td>0.0333          </td><td>0.0268          </td><td>0.0323          </td><td>0.0492          </td><td>0.0216          </td><td>0.0716          </td></tr>\n",
       "<tr><td><b>[0.102 0.2  ]</b></td><td>0               </td><td>0               </td><td>0               </td><td>0.0555          </td><td>0               </td><td>0               </td><td>0               </td><td>0               </td><td>0.0998          </td><td>0.531           </td></tr>\n",
       "<tr><td><b>[0.2   0.299]</b></td><td>0               </td><td>0               </td><td>0               </td><td>0.036           </td><td>0.0442          </td><td>0.293           </td><td>0.218           </td><td>0.325           </td><td>0               </td><td>0               </td></tr>\n",
       "<tr><td><b>[0.299 0.398]</b></td><td>0               </td><td>0.0146          </td><td>0.0238          </td><td>0.0563          </td><td>0.0799          </td><td>0.0914          </td><td>0               </td><td>0               </td><td>0.291           </td><td>0               </td></tr>\n",
       "<tr><td><b>[0.398 0.496]</b></td><td>0.000842        </td><td>0.0216          </td><td>0.0202          </td><td>0               </td><td>0.0689          </td><td>0               </td><td>0.186           </td><td>0               </td><td>0.897           </td><td>0.45            </td></tr>\n",
       "<tr><td><b>[0.496 0.595]</b></td><td>0.00439         </td><td>0.015           </td><td>0               </td><td>0               </td><td>0.121           </td><td>0               </td><td>0.233           </td><td>0.338           </td><td>0.378           </td><td>0.517           </td></tr>\n",
       "<tr><td><b>[0.595 0.694]</b></td><td>0               </td><td>0.0351          </td><td>0.0495          </td><td>0.218           </td><td>0.122           </td><td>0               </td><td>0               </td><td>0.351           </td><td>0.512           </td><td>0.565           </td></tr>\n",
       "<tr><td><b>[0.694 0.792]</b></td><td>0.0064          </td><td>0.0167          </td><td>0.0421          </td><td>0               </td><td>0.133           </td><td>0               </td><td>0.581           </td><td>0.478           </td><td>0.533           </td><td>0               </td></tr>\n",
       "<tr><td><b>[0.792 0.891]</b></td><td>0.00738         </td><td>0               </td><td>0.0336          </td><td>0.0742          </td><td>0.371           </td><td>0.457           </td><td>0.407           </td><td>1.9             </td><td>0.542           </td><td>0               </td></tr>\n",
       "<tr><td><b>[0.891 0.99 ]</b></td><td>0.00231         </td><td>0.0266          </td><td>0.134           </td><td>0.115           </td><td>0               </td><td>0.328           </td><td>0.475           </td><td>0               </td><td>0               </td><td>0.854           </td></tr>\n",
       "</tbody>\n",
       "</table>"
      ],
      "text/plain": [
       "GridArray([[0.00000000e+00 0.00000000e+00 0.00000000e+00 0.00000000e+00\n",
       "  8.42187173e-04 4.39272612e-03 0.00000000e+00 6.39554835e-03\n",
       "  7.37774906e-03 2.31142196e-03]\n",
       " [0.00000000e+00 0.00000000e+00 0.00000000e+00 1.46247114e-02\n",
       "  2.15957749e-02 1.50169312e-02 3.51184007e-02 1.66930305e-02\n",
       "  0.00000000e+00 2.65694223e-02]\n",
       " [1.10278323e-02 0.00000000e+00 0.00000000e+00 2.37931857e-02\n",
       "  2.01549206e-02 0.00000000e+00 4.95263223e-02 4.21313839e-02\n",
       "  3.36228061e-02 1.33587999e-01]\n",
       " [0.00000000e+00 5.54759954e-02 3.60175638e-02 5.62709028e-02\n",
       "  0.00000000e+00 0.00000000e+00 2.18115244e-01 0.00000000e+00\n",
       "  7.41535063e-02 1.15066931e-01]\n",
       " [3.32906492e-02 0.00000000e+00 4.42465550e-02 7.99219828e-02\n",
       "  6.88852768e-02 1.20937814e-01 1.21945692e-01 1.32883185e-01\n",
       "  3.70855542e-01 0.00000000e+00]\n",
       " [2.67831628e-02 0.00000000e+00 2.93360306e-01 9.13930936e-02\n",
       "  0.00000000e+00 0.00000000e+00 0.00000000e+00 0.00000000e+00\n",
       "  4.56519241e-01 3.28091268e-01]\n",
       " [3.23428583e-02 0.00000000e+00 2.18276619e-01 0.00000000e+00\n",
       "  1.86173285e-01 2.33048239e-01 0.00000000e+00 5.80929656e-01\n",
       "  4.07290792e-01 4.74573048e-01]\n",
       " [4.92471333e-02 0.00000000e+00 3.25026797e-01 0.00000000e+00\n",
       "  0.00000000e+00 3.37515212e-01 3.50652251e-01 4.78131380e-01\n",
       "  1.89547661e+00 0.00000000e+00]\n",
       " [2.16064668e-02 9.97618341e-02 0.00000000e+00 2.90761666e-01\n",
       "  8.96669246e-01 3.78198857e-01 5.11816335e-01 5.32993506e-01\n",
       "  5.41789057e-01 0.00000000e+00]\n",
       " [7.16074788e-02 5.30637616e-01 0.00000000e+00 0.00000000e+00\n",
       "  4.49569919e-01 5.17481764e-01 5.65251378e-01 0.00000000e+00\n",
       "  0.00000000e+00 8.53529643e-01]])"
      ]
     },
     "execution_count": 18,
     "metadata": {},
     "output_type": "execute_result"
    }
   ],
   "source": [
    "gn['a']"
   ]
  },
  {
   "cell_type": "code",
   "execution_count": 19,
   "metadata": {},
   "outputs": [
    {
     "data": {
      "text/html": [
       "<table>\n",
       "<tbody>\n",
       "<tr><td><b>x</b></td><td><b>[0.  0.1]</b></td><td><b>[0.1 0.2]</b></td><td><b>[0.2 0.3]</b></td><td><b>[0.3 0.4]</b></td><td><b>[0.4 0.5]</b></td><td><b>[0.5 0.6]</b></td><td><b>[0.6 0.7]</b></td><td><b>[0.7 0.8]</b></td><td><b>[0.8 0.9]</b></td><td><b>[0.9 1. ]</b></td></tr>\n",
       "<tr><td><b></b> </td><td>0.0213          </td><td>0.13            </td><td>0.314           </td><td>0.555           </td><td>0.973           </td><td>1.2             </td><td>2.13            </td><td>3.44            </td><td>3.27            </td><td>2.99            </td></tr>\n",
       "</tbody>\n",
       "</table>"
      ],
      "text/plain": [
       "GridArray([0.02131963 0.12961827 0.31384445 0.55510014 0.9729667  1.19614707\n",
       " 2.1326345  3.43604938 3.27359697 2.9880778 ])"
      ]
     },
     "execution_count": 19,
     "metadata": {},
     "output_type": "execute_result"
    }
   ],
   "source": [
    "np.sum(gn['a'], axis='y')"
   ]
  },
  {
   "cell_type": "code",
   "execution_count": 20,
   "metadata": {},
   "outputs": [
    {
     "data": {
      "text/plain": [
       "[<matplotlib.lines.Line2D at 0x7fb4b41cb550>]"
      ]
     },
     "execution_count": 20,
     "metadata": {},
     "output_type": "execute_result"
    },
    {
     "data": {
      "image/png": "[encoded data removed]",
      "text/plain": [
       "<Figure size 432x288 with 1 Axes>"
      ]
     },
     "metadata": {
      "needs_background": "light"
     },
     "output_type": "display_data"
    }
   ],
   "source": [
    "p.histogram(y=100).plot('a')\n",
    "p.binwise(y=100, function=np.sum, fill_value=np.nan).interp(y=1000, method='cubic').plot('a')"
   ]
  },
  {
   "cell_type": "code",
   "execution_count": 21,
   "metadata": {},
   "outputs": [
    {
     "data": {
      "text/plain": [
       "[<matplotlib.lines.Line2D at 0x7fb4b40e66d8>]"
      ]
     },
     "execution_count": 21,
     "metadata": {},
     "output_type": "execute_result"
    },
    {
     "data": {
      "image/png": "[encoded data removed]",
      "text/plain": [
       "<Figure size 432x288 with 1 Axes>"
      ]
     },
     "metadata": {
      "needs_background": "light"
     },
     "output_type": "display_data"
    }
   ],
   "source": [
    "p.histogram('y', density=True).plot('a')\n",
    "p.histogram(y=np.linspace(-0.1,1.1,13), density=True).interp(y=1000).plot('a')\n",
    "p.kde(y=1000, density=True, bw=0.05).plot('a')"
   ]
  },
  {
   "cell_type": "code",
   "execution_count": 25,
   "metadata": {},
   "outputs": [
    {
     "data": {
      "text/plain": [
       "[<matplotlib.lines.Line2D at 0x7fb4b3e30e10>]"
      ]
     },
     "execution_count": 25,
     "metadata": {},
     "output_type": "execute_result"
    },
    {
     "data": {
      "image/png": "[encoded data removed]",
      "text/plain": [
       "<Figure size 432x288 with 1 Axes>"
      ]
     },
     "metadata": {
      "needs_background": "light"
     },
     "output_type": "display_data"
    }
   ],
   "source": [
    "p.binwise(y=np.linspace(-0.1,1.1,13), function=np.mean).interp(y=1000, method='cubic').plot('a')"
   ]
  },
  {
   "cell_type": "code",
   "execution_count": 26,
   "metadata": {},
   "outputs": [],
   "source": [
    "g = p.histogram(x=10)"
   ]
  },
  {
   "cell_type": "code",
   "execution_count": 46,
   "metadata": {},
   "outputs": [
    {
     "data": {
      "text/plain": [
       "[<matplotlib.lines.Line2D at 0x7fb4b39d3f98>]"
      ]
     },
     "execution_count": 46,
     "metadata": {},
     "output_type": "execute_result"
    },
    {
     "data": {
      "image/png": "[encoded data removed]",
      "text/plain": [
       "<Figure size 432x288 with 1 Axes>"
      ]
     },
     "metadata": {
      "needs_background": "light"
     },
     "output_type": "display_data"
    }
   ],
   "source": [
    "g.interp(x=100).plot('a')"
   ]
  },
  {
   "cell_type": "code",
   "execution_count": 47,
   "metadata": {},
   "outputs": [
    {
     "data": {
      "text/plain": [
       "[<matplotlib.lines.Line2D at 0x7fb4b39b08d0>]"
      ]
     },
     "execution_count": 47,
     "metadata": {},
     "output_type": "execute_result"
    },
    {
     "data": {
      "image/png": "[encoded data removed]",
      "text/plain": [
       "<Figure size 432x288 with 1 Axes>"
      ]
     },
     "metadata": {
      "needs_background": "light"
     },
     "output_type": "display_data"
    }
   ],
   "source": [
    "g.interp(x=100).plot('a')"
   ]
  },
  {
   "cell_type": "code",
   "execution_count": 24,
   "metadata": {},
   "outputs": [
    {
     "data": {
      "text/plain": [
       "Grid(\n",
       "Axis(\"x\",\n",
       "points = None,\n",
       "edges = array([[0. , 0.1],\n",
       "       [0.1, 0.2],\n",
       "       [0.2, 0.3],\n",
       "       [0.3, 0.4],\n",
       "       [0.4, 0.5],\n",
       "       [0.5, 0.6],\n",
       "       [0.6, 0.7],\n",
       "       [0.7, 0.8],\n",
       "       [0.8, 0.9],\n",
       "       [0.9, 1. ]]))\n",
       "nbins = 10),)"
      ]
     },
     "execution_count": 24,
     "metadata": {},
     "output_type": "execute_result"
    }
   ],
   "source": [
    "p.histogram(x=10).grid"
   ]
  },
  {
   "cell_type": "code",
   "execution_count": 33,
   "metadata": {},
   "outputs": [
    {
     "data": {
      "text/plain": [
       "[<matplotlib.lines.Line2D at 0x7fb4b3d4be80>]"
      ]
     },
     "execution_count": 33,
     "metadata": {},
     "output_type": "execute_result"
    },
    {
     "data": {
      "image/png": "[encoded data removed]",
      "text/plain": [
       "<Figure size 432x288 with 1 Axes>"
      ]
     },
     "metadata": {
      "needs_background": "light"
     },
     "output_type": "display_data"
    }
   ],
   "source": [
    "# or in one line\n",
    "p.histogram('x').plot('a')"
   ]
  },
  {
   "cell_type": "code",
   "execution_count": 34,
   "metadata": {},
   "outputs": [
    {
     "data": {
      "text/plain": [
       "<matplotlib.collections.QuadMesh at 0x7fb4b3cae780>"
      ]
     },
     "execution_count": 34,
     "metadata": {},
     "output_type": "execute_result"
    },
    {
     "data": {
      "image/png": "[encoded data removed]",
      "text/plain": [
       "<Figure size 432x288 with 2 Axes>"
      ]
     },
     "metadata": {
      "needs_background": "light"
     },
     "output_type": "display_data"
    }
   ],
   "source": [
    "# we can also evaluate the histogram in different dimensions\n",
    "p.histogram('x', 'y').plot('a', cbar=True)"
   ]
  },
  {
   "cell_type": "code",
   "execution_count": 37,
   "metadata": {},
   "outputs": [
    {
     "data": {
      "text/plain": [
       "[<matplotlib.lines.Line2D at 0x7fb4b3d090b8>]"
      ]
     },
     "execution_count": 37,
     "metadata": {},
     "output_type": "execute_result"
    },
    {
     "data": {
      "image/png": "[encoded data removed]",
      "text/plain": [
       "<Figure size 432x288 with 1 Axes>"
      ]
     },
     "metadata": {
      "needs_background": "light"
     },
     "output_type": "display_data"
    }
   ],
   "source": [
    "\n",
    "\n",
    "# we can also evaluate the histogram in different dimensions\n",
    "g = p.histogram('x')\n",
    "p.histogram('x').resample(x=13).plot('a')\n",
    "p.histogram('x').resample(x=3).plot('a')\n"
   ]
  },
  {
   "cell_type": "code",
   "execution_count": 38,
   "metadata": {},
   "outputs": [
    {
     "data": {
      "text/html": [
       "<table>\n",
       "<tbody>\n",
       "<tr><td><b>x</b></td><td><b>[0.  0.1]</b></td><td><b>[0.1 0.2]</b></td><td><b>[0.2 0.3]</b></td><td><b>[0.3 0.4]</b></td><td><b>[0.4 0.5]</b></td><td><b>[0.5 0.6]</b></td><td><b>[0.6 0.7]</b></td><td><b>[0.7 0.8]</b></td><td><b>[0.8 0.9]</b></td><td><b>[0.9 1. ]</b></td></tr>\n",
       "<tr><td><b></b> </td><td>0.0213          </td><td>0.13            </td><td>0.314           </td><td>0.555           </td><td>0.973           </td><td>1.2             </td><td>2.13            </td><td>3.44            </td><td>3.27            </td><td>2.99            </td></tr>\n",
       "</tbody>\n",
       "</table>"
      ],
      "text/plain": [
       "GridArray([0.02131963 0.12961827 0.31384445 0.55510014 0.9729667  1.19614707\n",
       " 2.1326345  3.43604938 3.27359697 2.9880778 ])"
      ]
     },
     "execution_count": 38,
     "metadata": {},
     "output_type": "execute_result"
    }
   ],
   "source": [
    "g['a']"
   ]
  },
  {
   "cell_type": "code",
   "execution_count": 40,
   "metadata": {},
   "outputs": [
    {
     "data": {
      "text/plain": [
       "[<matplotlib.lines.Line2D at 0x7fb4b3b735c0>]"
      ]
     },
     "execution_count": 40,
     "metadata": {},
     "output_type": "execute_result"
    },
    {
     "data": {
      "image/png": "[encoded data removed]",
      "text/plain": [
       "<Figure size 432x288 with 1 Axes>"
      ]
     },
     "metadata": {
      "needs_background": "light"
     },
     "output_type": "display_data"
    }
   ],
   "source": [
    "p.histogram(y=np.linspace(0,1,33)).plot('a')"
   ]
  },
  {
   "cell_type": "code",
   "execution_count": 41,
   "metadata": {},
   "outputs": [],
   "source": [
    "# the returned object is a GridData type\n",
    "g = p.histogram(x=20)"
   ]
  },
  {
   "cell_type": "code",
   "execution_count": 42,
   "metadata": {},
   "outputs": [
    {
     "data": {
      "text/html": [
       "<table>\n",
       "<tbody>\n",
       "<tr><td><b>x</b></td><td><b>[0.   0.05]</b></td><td><b>[0.05 0.1 ]</b></td><td><b>[0.1  0.15]</b></td><td><b>[0.15 0.2 ]</b></td><td><b>[0.2  0.25]</b></td><td><b>[0.25 0.3 ]</b></td><td>...</td><td><b>[0.7  0.75]</b></td><td><b>[0.75 0.8 ]</b></td><td><b>[0.8  0.85]</b></td><td><b>[0.85 0.9 ]</b></td><td><b>[0.9  0.95]</b></td><td><b>[0.95 1.  ]</b></td></tr>\n",
       "<tr><td><b>y</b></td><td>2.35              </td><td>3.97              </td><td>2.56              </td><td>3.2               </td><td>3.08              </td><td>1.98              </td><td>...</td><td>2.7               </td><td>3.37              </td><td>1.84              </td><td>2.65              </td><td>1.05              </td><td>2.17              </td></tr>\n",
       "<tr><td><b>a</b></td><td>0.00145           </td><td>0.0199            </td><td>0.037             </td><td>0.0926            </td><td>0.156             </td><td>0.158             </td><td>...</td><td>1.41              </td><td>2.03              </td><td>1.24              </td><td>2.03              </td><td>0.927             </td><td>2.06              </td></tr>\n",
       "</tbody>\n",
       "</table>"
      ],
      "text/plain": [
       "GridData(Grid(\n",
       "Axis(\"x\",\n",
       "points = None,\n",
       "edges = edges: array([[0.  , 0.05],\n",
       "       [0.05, 0.1 ],\n",
       "       [0.1 , 0.15],\n",
       "       [0.15, 0.2 ],\n",
       "       [0.2 , 0.25],\n",
       "       [0.25, 0.3 ],\n",
       "       [0.3 , 0.35],\n",
       "       [0.35, 0.4 ],\n",
       "       [0.4 , 0.45],\n",
       "       [0.45, 0.5 ],\n",
       "       [0.5 , 0.55],\n",
       "       [0.55, 0.6 ],\n",
       "       [0.6 , 0.65],\n",
       "       [0.65, 0.7 ],\n",
       "       [0.7 , 0.75],\n",
       "       [0.75, 0.8 ],\n",
       "       [0.8 , 0.85],\n",
       "       [0.85, 0.9 ],\n",
       "       [0.9 , 0.95],\n",
       "       [0.95, 1.  ]]))\n",
       "nbins = 20),)\n",
       "{'y': masked_array(data=[2.34547793, 3.96576503, 2.55982604, 3.19609715,\n",
       "                   3.08427517, 1.97602115, 2.97487273, 1.8025877 ,\n",
       "                   2.88969889, 1.93380802, 2.3871805 , 1.57802576,\n",
       "                   1.97841003, 2.88452828, 2.70456988, 3.36799857,\n",
       "                   1.83731474, 2.64583855, 1.04839507, 2.17077211],\n",
       "             mask=False,\n",
       "       fill_value=1e+20), 'a': masked_array(data=[1.45150102e-03, 1.98681317e-02, 3.70147912e-02,\n",
       "                   9.26034799e-02, 1.55808950e-01, 1.58035501e-01,\n",
       "                   3.10362960e-01, 2.44737183e-01, 5.31483935e-01,\n",
       "                   4.41482762e-01, 6.66146022e-01, 5.30001049e-01,\n",
       "                   7.99445800e-01, 1.33318870e+00, 1.40613382e+00,\n",
       "                   2.02991556e+00, 1.24003654e+00, 2.03356042e+00,\n",
       "                   9.26561946e-01, 2.06151585e+00],\n",
       "             mask=False,\n",
       "       fill_value=1e+20)})"
      ]
     },
     "execution_count": 42,
     "metadata": {},
     "output_type": "execute_result"
    }
   ],
   "source": [
    "# it has a grid defined\n",
    "g"
   ]
  },
  {
   "cell_type": "code",
   "execution_count": null,
   "metadata": {},
   "outputs": [],
   "source": []
  },
  {
   "cell_type": "code",
   "execution_count": 32,
   "metadata": {},
   "outputs": [
    {
     "data": {
      "text/plain": [
       "0"
      ]
     },
     "execution_count": 32,
     "metadata": {},
     "output_type": "execute_result"
    }
   ],
   "source": [
    "1//2"
   ]
  },
  {
   "cell_type": "code",
   "execution_count": null,
   "metadata": {},
   "outputs": [],
   "source": []
  }
 ],
 "metadata": {
  "kernelspec": {
   "display_name": "Python 3",
   "language": "python",
   "name": "python3"
  },
  "language_info": {
   "codemirror_mode": {
    "name": "ipython",
    "version": 3
   },
   "file_extension": ".py",
   "mimetype": "text/x-python",
   "name": "python",
   "nbconvert_exporter": "python",
   "pygments_lexer": "ipython3",
   "version": "3.7.3"
  }
 },
 "nbformat": 4,
 "nbformat_minor": 4
}
